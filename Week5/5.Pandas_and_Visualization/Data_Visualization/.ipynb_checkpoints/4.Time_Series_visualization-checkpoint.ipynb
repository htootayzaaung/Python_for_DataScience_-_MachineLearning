{
 "cells": [
  {
   "cell_type": "markdown",
   "metadata": {},
   "source": [
    "## Description\n",
    "    - Time series is a line plot and it is basically connecting data points with a straight line. \n",
    "    - It is useful in understanding the trend over time. \n",
    "    - It can explain the correlation between points by the trend. \n",
    "    - An upward trend means positive correlation and downward trend means a negative correlation. \n",
    "    - It mostly used in forecasting, monitoring models.\n",
    "<font color='red'>When to use:</font> Time Series should be used when single or multiple variables are to be plotted over time.\n",
    "    -eg: Stock Market Analysis of Companies, Weather Forecasting."
   ]
  },
  {
   "cell_type": "code",
   "execution_count": null,
   "metadata": {},
   "outputs": [],
   "source": []
  }
 ],
 "metadata": {
  "kernelspec": {
   "display_name": "Python 3",
   "language": "python",
   "name": "python3"
  },
  "language_info": {
   "codemirror_mode": {
    "name": "ipython",
    "version": 3
   },
   "file_extension": ".py",
   "mimetype": "text/x-python",
   "name": "python",
   "nbconvert_exporter": "python",
   "pygments_lexer": "ipython3",
   "version": "3.7.6"
  }
 },
 "nbformat": 4,
 "nbformat_minor": 2
}
