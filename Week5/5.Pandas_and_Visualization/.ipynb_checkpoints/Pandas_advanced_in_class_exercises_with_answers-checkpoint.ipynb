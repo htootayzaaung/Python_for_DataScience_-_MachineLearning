{
 "cells": [
  {
   "cell_type": "code",
   "execution_count": 1,
   "metadata": {
    "ExecuteTime": {
     "end_time": "2022-07-29T14:42:41.172861Z",
     "start_time": "2022-07-29T14:42:40.503512Z"
    }
   },
   "outputs": [],
   "source": [
    "import pandas as pd\n",
    "# pd.set_option('display.max_rows', None)\n",
    "# pd.set_option('display.max_columns', None)\n",
    "pd.set_option('max_colwidth',0)"
   ]
  },
  {
   "cell_type": "code",
   "execution_count": 25,
   "metadata": {
    "ExecuteTime": {
     "end_time": "2022-07-29T14:50:21.247010Z",
     "start_time": "2022-07-29T14:50:20.378164Z"
    }
   },
   "outputs": [
    {
     "data": {
      "text/html": [
       "<div>\n",
       "<style scoped>\n",
       "    .dataframe tbody tr th:only-of-type {\n",
       "        vertical-align: middle;\n",
       "    }\n",
       "\n",
       "    .dataframe tbody tr th {\n",
       "        vertical-align: top;\n",
       "    }\n",
       "\n",
       "    .dataframe thead th {\n",
       "        text-align: right;\n",
       "    }\n",
       "</style>\n",
       "<table border=\"1\" class=\"dataframe\">\n",
       "  <thead>\n",
       "    <tr style=\"text-align: right;\">\n",
       "      <th></th>\n",
       "      <th>High</th>\n",
       "      <th>Low</th>\n",
       "      <th>Open</th>\n",
       "      <th>Close</th>\n",
       "      <th>Volume</th>\n",
       "      <th>Adj Close</th>\n",
       "    </tr>\n",
       "    <tr>\n",
       "      <th>Date</th>\n",
       "      <th></th>\n",
       "      <th></th>\n",
       "      <th></th>\n",
       "      <th></th>\n",
       "      <th></th>\n",
       "      <th></th>\n",
       "    </tr>\n",
       "  </thead>\n",
       "  <tbody>\n",
       "    <tr>\n",
       "      <th>2017-01-05</th>\n",
       "      <td>29.215000</td>\n",
       "      <td>28.952499</td>\n",
       "      <td>28.980000</td>\n",
       "      <td>29.152500</td>\n",
       "      <td>88774400.0</td>\n",
       "      <td>27.365599</td>\n",
       "    </tr>\n",
       "    <tr>\n",
       "      <th>2017-01-06</th>\n",
       "      <td>29.540001</td>\n",
       "      <td>29.117500</td>\n",
       "      <td>29.195000</td>\n",
       "      <td>29.477501</td>\n",
       "      <td>127007600.0</td>\n",
       "      <td>27.670673</td>\n",
       "    </tr>\n",
       "    <tr>\n",
       "      <th>2017-01-09</th>\n",
       "      <td>29.857500</td>\n",
       "      <td>29.485001</td>\n",
       "      <td>29.487499</td>\n",
       "      <td>29.747499</td>\n",
       "      <td>134247600.0</td>\n",
       "      <td>27.924122</td>\n",
       "    </tr>\n",
       "    <tr>\n",
       "      <th>2017-01-10</th>\n",
       "      <td>29.844999</td>\n",
       "      <td>29.575001</td>\n",
       "      <td>29.692499</td>\n",
       "      <td>29.777500</td>\n",
       "      <td>97848400.0</td>\n",
       "      <td>27.952286</td>\n",
       "    </tr>\n",
       "    <tr>\n",
       "      <th>2017-01-11</th>\n",
       "      <td>29.982500</td>\n",
       "      <td>29.650000</td>\n",
       "      <td>29.684999</td>\n",
       "      <td>29.937500</td>\n",
       "      <td>110354400.0</td>\n",
       "      <td>28.102478</td>\n",
       "    </tr>\n",
       "  </tbody>\n",
       "</table>\n",
       "</div>"
      ],
      "text/plain": [
       "                 High        Low       Open      Close       Volume  Adj Close\n",
       "Date                                                                          \n",
       "2017-01-05  29.215000  28.952499  28.980000  29.152500  88774400.0   27.365599\n",
       "2017-01-06  29.540001  29.117500  29.195000  29.477501  127007600.0  27.670673\n",
       "2017-01-09  29.857500  29.485001  29.487499  29.747499  134247600.0  27.924122\n",
       "2017-01-10  29.844999  29.575001  29.692499  29.777500  97848400.0   27.952286\n",
       "2017-01-11  29.982500  29.650000  29.684999  29.937500  110354400.0  28.102478"
      ]
     },
     "execution_count": 25,
     "metadata": {},
     "output_type": "execute_result"
    }
   ],
   "source": [
    "import pandas as pd\n",
    "import datetime\n",
    "import pandas_datareader.data as web\n",
    "from pandas import Series, DataFrame\n",
    "\n",
    "\n",
    "start = datetime.datetime(2010, 1, 1)\n",
    "end = datetime.datetime(2017, 1, 11)\n",
    "\n",
    "df = web.DataReader(\"AAPL\", 'yahoo', start, end)\n",
    "df.tail()"
   ]
  },
  {
   "cell_type": "code",
   "execution_count": 26,
   "metadata": {
    "ExecuteTime": {
     "end_time": "2022-07-29T14:50:29.173988Z",
     "start_time": "2022-07-29T14:50:29.133414Z"
    }
   },
   "outputs": [
    {
     "data": {
      "text/html": [
       "<div>\n",
       "<style scoped>\n",
       "    .dataframe tbody tr th:only-of-type {\n",
       "        vertical-align: middle;\n",
       "    }\n",
       "\n",
       "    .dataframe tbody tr th {\n",
       "        vertical-align: top;\n",
       "    }\n",
       "\n",
       "    .dataframe thead th {\n",
       "        text-align: right;\n",
       "    }\n",
       "</style>\n",
       "<table border=\"1\" class=\"dataframe\">\n",
       "  <thead>\n",
       "    <tr style=\"text-align: right;\">\n",
       "      <th></th>\n",
       "      <th>High</th>\n",
       "      <th>Low</th>\n",
       "      <th>Open</th>\n",
       "      <th>Close</th>\n",
       "      <th>Volume</th>\n",
       "      <th>Adj Close</th>\n",
       "    </tr>\n",
       "  </thead>\n",
       "  <tbody>\n",
       "    <tr>\n",
       "      <th>count</th>\n",
       "      <td>1770.000000</td>\n",
       "      <td>1770.000000</td>\n",
       "      <td>1770.000000</td>\n",
       "      <td>1770.000000</td>\n",
       "      <td>1.770000e+03</td>\n",
       "      <td>1770.000000</td>\n",
       "    </tr>\n",
       "    <tr>\n",
       "      <th>mean</th>\n",
       "      <td>20.065614</td>\n",
       "      <td>19.690883</td>\n",
       "      <td>19.887280</td>\n",
       "      <td>19.881663</td>\n",
       "      <td>3.758375e+08</td>\n",
       "      <td>17.710494</td>\n",
       "    </tr>\n",
       "    <tr>\n",
       "      <th>std</th>\n",
       "      <td>7.155103</td>\n",
       "      <td>7.042748</td>\n",
       "      <td>7.099451</td>\n",
       "      <td>7.098425</td>\n",
       "      <td>2.408629e+08</td>\n",
       "      <td>6.754106</td>\n",
       "    </tr>\n",
       "    <tr>\n",
       "      <th>min</th>\n",
       "      <td>7.000000</td>\n",
       "      <td>6.794643</td>\n",
       "      <td>6.870357</td>\n",
       "      <td>6.858929</td>\n",
       "      <td>4.590360e+07</td>\n",
       "      <td>5.864508</td>\n",
       "    </tr>\n",
       "    <tr>\n",
       "      <th>25%</th>\n",
       "      <td>13.985179</td>\n",
       "      <td>13.711607</td>\n",
       "      <td>13.857946</td>\n",
       "      <td>13.886071</td>\n",
       "      <td>1.958096e+08</td>\n",
       "      <td>11.872840</td>\n",
       "    </tr>\n",
       "    <tr>\n",
       "      <th>50%</th>\n",
       "      <td>19.888215</td>\n",
       "      <td>19.457679</td>\n",
       "      <td>19.766429</td>\n",
       "      <td>19.678572</td>\n",
       "      <td>3.218838e+08</td>\n",
       "      <td>17.239652</td>\n",
       "    </tr>\n",
       "    <tr>\n",
       "      <th>75%</th>\n",
       "      <td>26.338126</td>\n",
       "      <td>25.763124</td>\n",
       "      <td>26.012500</td>\n",
       "      <td>26.076874</td>\n",
       "      <td>4.836405e+08</td>\n",
       "      <td>23.874288</td>\n",
       "    </tr>\n",
       "    <tr>\n",
       "      <th>max</th>\n",
       "      <td>33.634998</td>\n",
       "      <td>32.849998</td>\n",
       "      <td>33.615002</td>\n",
       "      <td>33.250000</td>\n",
       "      <td>1.880998e+09</td>\n",
       "      <td>30.160797</td>\n",
       "    </tr>\n",
       "  </tbody>\n",
       "</table>\n",
       "</div>"
      ],
      "text/plain": [
       "              High          Low         Open        Close        Volume  \\\n",
       "count  1770.000000  1770.000000  1770.000000  1770.000000  1.770000e+03   \n",
       "mean   20.065614    19.690883    19.887280    19.881663    3.758375e+08   \n",
       "std    7.155103     7.042748     7.099451     7.098425     2.408629e+08   \n",
       "min    7.000000     6.794643     6.870357     6.858929     4.590360e+07   \n",
       "25%    13.985179    13.711607    13.857946    13.886071    1.958096e+08   \n",
       "50%    19.888215    19.457679    19.766429    19.678572    3.218838e+08   \n",
       "75%    26.338126    25.763124    26.012500    26.076874    4.836405e+08   \n",
       "max    33.634998    32.849998    33.615002    33.250000    1.880998e+09   \n",
       "\n",
       "         Adj Close  \n",
       "count  1770.000000  \n",
       "mean   17.710494    \n",
       "std    6.754106     \n",
       "min    5.864508     \n",
       "25%    11.872840    \n",
       "50%    17.239652    \n",
       "75%    23.874288    \n",
       "max    30.160797    "
      ]
     },
     "execution_count": 26,
     "metadata": {},
     "output_type": "execute_result"
    }
   ],
   "source": [
    "df.describe()"
   ]
  },
  {
   "cell_type": "markdown",
   "metadata": {},
   "source": [
    "# Pandas Groupby"
   ]
  },
  {
   "cell_type": "code",
   "execution_count": 2,
   "metadata": {
    "ExecuteTime": {
     "end_time": "2022-07-29T14:42:44.871315Z",
     "start_time": "2022-07-29T14:42:44.859250Z"
    }
   },
   "outputs": [],
   "source": [
    "df_student = pd.read_csv('resources/pandas_exercise_student.csv',index_col=0)"
   ]
  },
  {
   "cell_type": "code",
   "execution_count": 3,
   "metadata": {
    "ExecuteTime": {
     "end_time": "2022-07-29T14:42:45.367505Z",
     "start_time": "2022-07-29T14:42:45.348738Z"
    }
   },
   "outputs": [
    {
     "data": {
      "text/html": [
       "<div>\n",
       "<style scoped>\n",
       "    .dataframe tbody tr th:only-of-type {\n",
       "        vertical-align: middle;\n",
       "    }\n",
       "\n",
       "    .dataframe tbody tr th {\n",
       "        vertical-align: top;\n",
       "    }\n",
       "\n",
       "    .dataframe thead th {\n",
       "        text-align: right;\n",
       "    }\n",
       "</style>\n",
       "<table border=\"1\" class=\"dataframe\">\n",
       "  <thead>\n",
       "    <tr style=\"text-align: right;\">\n",
       "      <th></th>\n",
       "      <th>school_code</th>\n",
       "      <th>class</th>\n",
       "      <th>name</th>\n",
       "      <th>date_Of_Birth</th>\n",
       "      <th>age</th>\n",
       "      <th>height</th>\n",
       "      <th>weight</th>\n",
       "      <th>address</th>\n",
       "    </tr>\n",
       "  </thead>\n",
       "  <tbody>\n",
       "    <tr>\n",
       "      <th>S1</th>\n",
       "      <td>s001</td>\n",
       "      <td>V</td>\n",
       "      <td>Alberto Franco</td>\n",
       "      <td>15/05/2002</td>\n",
       "      <td>12</td>\n",
       "      <td>173</td>\n",
       "      <td>35</td>\n",
       "      <td>street1</td>\n",
       "    </tr>\n",
       "    <tr>\n",
       "      <th>S2</th>\n",
       "      <td>s002</td>\n",
       "      <td>V</td>\n",
       "      <td>Gino Mcneill</td>\n",
       "      <td>17/05/2002</td>\n",
       "      <td>12</td>\n",
       "      <td>192</td>\n",
       "      <td>32</td>\n",
       "      <td>street2</td>\n",
       "    </tr>\n",
       "    <tr>\n",
       "      <th>S3</th>\n",
       "      <td>s003</td>\n",
       "      <td>VI</td>\n",
       "      <td>Ryan Parkes</td>\n",
       "      <td>16/02/1999</td>\n",
       "      <td>13</td>\n",
       "      <td>186</td>\n",
       "      <td>33</td>\n",
       "      <td>street3</td>\n",
       "    </tr>\n",
       "    <tr>\n",
       "      <th>S4</th>\n",
       "      <td>s001</td>\n",
       "      <td>VI</td>\n",
       "      <td>Eesha Hinton</td>\n",
       "      <td>25/09/1998</td>\n",
       "      <td>13</td>\n",
       "      <td>167</td>\n",
       "      <td>30</td>\n",
       "      <td>street1</td>\n",
       "    </tr>\n",
       "    <tr>\n",
       "      <th>S5</th>\n",
       "      <td>s002</td>\n",
       "      <td>V</td>\n",
       "      <td>Gino Mcneill</td>\n",
       "      <td>11/05/2002</td>\n",
       "      <td>14</td>\n",
       "      <td>151</td>\n",
       "      <td>31</td>\n",
       "      <td>street2</td>\n",
       "    </tr>\n",
       "    <tr>\n",
       "      <th>S6</th>\n",
       "      <td>s004</td>\n",
       "      <td>VI</td>\n",
       "      <td>David Parkes</td>\n",
       "      <td>15/09/1997</td>\n",
       "      <td>12</td>\n",
       "      <td>159</td>\n",
       "      <td>32</td>\n",
       "      <td>street4</td>\n",
       "    </tr>\n",
       "  </tbody>\n",
       "</table>\n",
       "</div>"
      ],
      "text/plain": [
       "   school_code class            name date_Of_Birth   age  height  weight  \\\n",
       "S1  s001        V     Alberto Franco  15/05/2002     12   173     35       \n",
       "S2  s002        V     Gino Mcneill    17/05/2002     12   192     32       \n",
       "S3  s003        VI    Ryan Parkes     16/02/1999     13   186     33       \n",
       "S4  s001        VI    Eesha Hinton    25/09/1998     13   167     30       \n",
       "S5  s002        V     Gino Mcneill    11/05/2002     14   151     31       \n",
       "S6  s004        VI    David Parkes    15/09/1997     12   159     32       \n",
       "\n",
       "    address  \n",
       "S1  street1  \n",
       "S2  street2  \n",
       "S3  street3  \n",
       "S4  street1  \n",
       "S5  street2  \n",
       "S6  street4  "
      ]
     },
     "execution_count": 3,
     "metadata": {},
     "output_type": "execute_result"
    }
   ],
   "source": [
    "df_student"
   ]
  },
  {
   "cell_type": "markdown",
   "metadata": {},
   "source": [
    "## Exercise 1\n",
    "Group the dataframe based on school code and get mean, min, and max value of age for each school. "
   ]
  },
  {
   "cell_type": "code",
   "execution_count": 5,
   "metadata": {
    "ExecuteTime": {
     "end_time": "2022-07-29T14:42:53.220922Z",
     "start_time": "2022-07-29T14:42:53.186971Z"
    }
   },
   "outputs": [
    {
     "name": "stdout",
     "output_type": "stream",
     "text": [
      "\n",
      "Mean, min, and max value of age for each value of the school:\n",
      "              age        \n",
      "             mean min max\n",
      "school_code              \n",
      "s001         12.5  12  13\n",
      "s002         13.0  12  14\n",
      "s003         13.0  13  13\n",
      "s004         12.0  12  12\n"
     ]
    }
   ],
   "source": [
    "print('\\nMean, min, and max value of age for each value of the school:')\n",
    "grouped_single = df_student.groupby('school_code').agg({'age': ['mean', 'min', 'max']})\n",
    "print(grouped_single)\n"
   ]
  },
  {
   "cell_type": "code",
   "execution_count": null,
   "metadata": {},
   "outputs": [],
   "source": []
  },
  {
   "cell_type": "markdown",
   "metadata": {},
   "source": [
    "## Exercise 3\n",
    "\n",
    "Write a Pandas program to split the following given dataframe into groups based on school code and class."
   ]
  },
  {
   "cell_type": "code",
   "execution_count": 7,
   "metadata": {
    "ExecuteTime": {
     "end_time": "2022-07-29T14:43:07.364303Z",
     "start_time": "2022-07-29T14:43:07.349386Z"
    }
   },
   "outputs": [],
   "source": [
    "result = df_student.groupby(['school_code', 'class'])\n"
   ]
  },
  {
   "cell_type": "markdown",
   "metadata": {},
   "source": [
    "## Exercise 3\n",
    "Write a Pandas program to split the following given dataframe into groups based on school code and call a specific group with the name of the group."
   ]
  },
  {
   "cell_type": "code",
   "execution_count": 18,
   "metadata": {
    "ExecuteTime": {
     "end_time": "2022-07-29T14:47:01.360089Z",
     "start_time": "2022-07-29T14:47:01.338981Z"
    }
   },
   "outputs": [
    {
     "name": "stdout",
     "output_type": "stream",
     "text": [
      "   school_code class            name date_Of_Birth   age  height  weight  \\\n",
      "S1  s001        V     Alberto Franco  15/05/2002     12   173     35       \n",
      "S4  s001        VI    Eesha Hinton    25/09/1998     13   167     30       \n",
      "\n",
      "    address  \n",
      "S1  street1  \n",
      "S4  street1  \n"
     ]
    }
   ],
   "source": [
    "grouped = df_student.groupby(['school_code'])\n",
    "print(grouped.get_group('s001'))"
   ]
  },
  {
   "cell_type": "markdown",
   "metadata": {},
   "source": [
    "## Exercise 7\n",
    "\n",
    "Write a Pandas program to split a dataset, **group by one column and get mean, min, and max values by group**. \n",
    "\n",
    "\n",
    "For example, Using the following dataset **find the mean, min, and max values of purchase amount (purch_amt) group by customer id (customer_id).**"
   ]
  },
  {
   "cell_type": "code",
   "execution_count": 20,
   "metadata": {
    "ExecuteTime": {
     "end_time": "2022-07-29T14:48:53.680786Z",
     "start_time": "2022-07-29T14:48:53.657090Z"
    },
    "scrolled": true
   },
   "outputs": [
    {
     "data": {
      "text/html": [
       "<div>\n",
       "<style scoped>\n",
       "    .dataframe tbody tr th:only-of-type {\n",
       "        vertical-align: middle;\n",
       "    }\n",
       "\n",
       "    .dataframe tbody tr th {\n",
       "        vertical-align: top;\n",
       "    }\n",
       "\n",
       "    .dataframe thead th {\n",
       "        text-align: right;\n",
       "    }\n",
       "</style>\n",
       "<table border=\"1\" class=\"dataframe\">\n",
       "  <thead>\n",
       "    <tr style=\"text-align: right;\">\n",
       "      <th></th>\n",
       "      <th>ord_no</th>\n",
       "      <th>purch_amt</th>\n",
       "      <th>ord_date</th>\n",
       "      <th>customer_id</th>\n",
       "      <th>salesman_id</th>\n",
       "    </tr>\n",
       "  </thead>\n",
       "  <tbody>\n",
       "    <tr>\n",
       "      <th>0</th>\n",
       "      <td>70001</td>\n",
       "      <td>150.50</td>\n",
       "      <td>2012-10-05</td>\n",
       "      <td>3005</td>\n",
       "      <td>5002</td>\n",
       "    </tr>\n",
       "    <tr>\n",
       "      <th>1</th>\n",
       "      <td>70009</td>\n",
       "      <td>270.65</td>\n",
       "      <td>2012-09-10</td>\n",
       "      <td>3001</td>\n",
       "      <td>5005</td>\n",
       "    </tr>\n",
       "    <tr>\n",
       "      <th>2</th>\n",
       "      <td>70002</td>\n",
       "      <td>65.26</td>\n",
       "      <td>2012-10-05</td>\n",
       "      <td>3002</td>\n",
       "      <td>5001</td>\n",
       "    </tr>\n",
       "    <tr>\n",
       "      <th>3</th>\n",
       "      <td>70004</td>\n",
       "      <td>110.50</td>\n",
       "      <td>2012-08-17</td>\n",
       "      <td>3009</td>\n",
       "      <td>5003</td>\n",
       "    </tr>\n",
       "    <tr>\n",
       "      <th>4</th>\n",
       "      <td>70007</td>\n",
       "      <td>948.50</td>\n",
       "      <td>2012-09-10</td>\n",
       "      <td>3005</td>\n",
       "      <td>5002</td>\n",
       "    </tr>\n",
       "    <tr>\n",
       "      <th>5</th>\n",
       "      <td>70005</td>\n",
       "      <td>2400.60</td>\n",
       "      <td>2012-07-27</td>\n",
       "      <td>3007</td>\n",
       "      <td>5001</td>\n",
       "    </tr>\n",
       "    <tr>\n",
       "      <th>6</th>\n",
       "      <td>70008</td>\n",
       "      <td>5760.00</td>\n",
       "      <td>2012-09-10</td>\n",
       "      <td>3002</td>\n",
       "      <td>5001</td>\n",
       "    </tr>\n",
       "    <tr>\n",
       "      <th>7</th>\n",
       "      <td>70010</td>\n",
       "      <td>1983.43</td>\n",
       "      <td>2012-10-10</td>\n",
       "      <td>3004</td>\n",
       "      <td>5006</td>\n",
       "    </tr>\n",
       "    <tr>\n",
       "      <th>8</th>\n",
       "      <td>70003</td>\n",
       "      <td>2480.40</td>\n",
       "      <td>2012-10-10</td>\n",
       "      <td>3009</td>\n",
       "      <td>5003</td>\n",
       "    </tr>\n",
       "    <tr>\n",
       "      <th>9</th>\n",
       "      <td>70012</td>\n",
       "      <td>250.45</td>\n",
       "      <td>2012-06-27</td>\n",
       "      <td>3008</td>\n",
       "      <td>5002</td>\n",
       "    </tr>\n",
       "    <tr>\n",
       "      <th>10</th>\n",
       "      <td>70011</td>\n",
       "      <td>75.29</td>\n",
       "      <td>2012-08-17</td>\n",
       "      <td>3003</td>\n",
       "      <td>5007</td>\n",
       "    </tr>\n",
       "    <tr>\n",
       "      <th>11</th>\n",
       "      <td>70013</td>\n",
       "      <td>3045.60</td>\n",
       "      <td>2012-04-25</td>\n",
       "      <td>3002</td>\n",
       "      <td>5001</td>\n",
       "    </tr>\n",
       "  </tbody>\n",
       "</table>\n",
       "</div>"
      ],
      "text/plain": [
       "    ord_no  purch_amt    ord_date  customer_id  salesman_id\n",
       "0   70001   150.50     2012-10-05  3005         5002       \n",
       "1   70009   270.65     2012-09-10  3001         5005       \n",
       "2   70002   65.26      2012-10-05  3002         5001       \n",
       "3   70004   110.50     2012-08-17  3009         5003       \n",
       "4   70007   948.50     2012-09-10  3005         5002       \n",
       "5   70005   2400.60    2012-07-27  3007         5001       \n",
       "6   70008   5760.00    2012-09-10  3002         5001       \n",
       "7   70010   1983.43    2012-10-10  3004         5006       \n",
       "8   70003   2480.40    2012-10-10  3009         5003       \n",
       "9   70012   250.45     2012-06-27  3008         5002       \n",
       "10  70011   75.29      2012-08-17  3003         5007       \n",
       "11  70013   3045.60    2012-04-25  3002         5001       "
      ]
     },
     "execution_count": 20,
     "metadata": {},
     "output_type": "execute_result"
    }
   ],
   "source": [
    "import pandas as pd\n",
    "pd.set_option('display.max_rows', None)\n",
    "#pd.set_option('display.max_columns', None)\n",
    "orders_data = pd.DataFrame({\n",
    "'ord_no':[70001,70009,70002,70004,70007,70005,70008,70010,70003,70012,70011,70013],\n",
    "'purch_amt':[150.5,270.65,65.26,110.5,948.5,2400.6,5760,1983.43,2480.4,250.45, 75.29,3045.6],\n",
    "'ord_date': ['2012-10-05','2012-09-10','2012-10-05','2012-08-17','2012-09-10','2012-07-27','2012-09-10','2012-10-10','2012-10-10','2012-06-27','2012-08-17','2012-04-25'],\n",
    "'customer_id':[3005,3001,3002,3009,3005,3007,3002,3004,3009,3008,3003,3002],\n",
    "'salesman_id': [5002,5005,5001,5003,5002,5001,5001,5006,5003,5002,5007,5001]})\n",
    "\n",
    "orders_data\n"
   ]
  },
  {
   "cell_type": "code",
   "execution_count": 23,
   "metadata": {
    "ExecuteTime": {
     "end_time": "2022-07-29T14:49:08.916020Z",
     "start_time": "2022-07-29T14:49:08.889552Z"
    }
   },
   "outputs": [
    {
     "data": {
      "text/html": [
       "<div>\n",
       "<style scoped>\n",
       "    .dataframe tbody tr th:only-of-type {\n",
       "        vertical-align: middle;\n",
       "    }\n",
       "\n",
       "    .dataframe tbody tr th {\n",
       "        vertical-align: top;\n",
       "    }\n",
       "\n",
       "    .dataframe thead tr th {\n",
       "        text-align: left;\n",
       "    }\n",
       "\n",
       "    .dataframe thead tr:last-of-type th {\n",
       "        text-align: right;\n",
       "    }\n",
       "</style>\n",
       "<table border=\"1\" class=\"dataframe\">\n",
       "  <thead>\n",
       "    <tr>\n",
       "      <th></th>\n",
       "      <th colspan=\"3\" halign=\"left\">purch_amt</th>\n",
       "    </tr>\n",
       "    <tr>\n",
       "      <th></th>\n",
       "      <th>mean</th>\n",
       "      <th>min</th>\n",
       "      <th>max</th>\n",
       "    </tr>\n",
       "    <tr>\n",
       "      <th>customer_id</th>\n",
       "      <th></th>\n",
       "      <th></th>\n",
       "      <th></th>\n",
       "    </tr>\n",
       "  </thead>\n",
       "  <tbody>\n",
       "    <tr>\n",
       "      <th>3001</th>\n",
       "      <td>270.650000</td>\n",
       "      <td>270.65</td>\n",
       "      <td>270.65</td>\n",
       "    </tr>\n",
       "    <tr>\n",
       "      <th>3002</th>\n",
       "      <td>2956.953333</td>\n",
       "      <td>65.26</td>\n",
       "      <td>5760.00</td>\n",
       "    </tr>\n",
       "    <tr>\n",
       "      <th>3003</th>\n",
       "      <td>75.290000</td>\n",
       "      <td>75.29</td>\n",
       "      <td>75.29</td>\n",
       "    </tr>\n",
       "    <tr>\n",
       "      <th>3004</th>\n",
       "      <td>1983.430000</td>\n",
       "      <td>1983.43</td>\n",
       "      <td>1983.43</td>\n",
       "    </tr>\n",
       "    <tr>\n",
       "      <th>3005</th>\n",
       "      <td>549.500000</td>\n",
       "      <td>150.50</td>\n",
       "      <td>948.50</td>\n",
       "    </tr>\n",
       "    <tr>\n",
       "      <th>3007</th>\n",
       "      <td>2400.600000</td>\n",
       "      <td>2400.60</td>\n",
       "      <td>2400.60</td>\n",
       "    </tr>\n",
       "    <tr>\n",
       "      <th>3008</th>\n",
       "      <td>250.450000</td>\n",
       "      <td>250.45</td>\n",
       "      <td>250.45</td>\n",
       "    </tr>\n",
       "    <tr>\n",
       "      <th>3009</th>\n",
       "      <td>1295.450000</td>\n",
       "      <td>110.50</td>\n",
       "      <td>2480.40</td>\n",
       "    </tr>\n",
       "  </tbody>\n",
       "</table>\n",
       "</div>"
      ],
      "text/plain": [
       "               purch_amt                  \n",
       "                    mean      min      max\n",
       "customer_id                               \n",
       "3001         270.650000   270.65   270.65 \n",
       "3002         2956.953333  65.26    5760.00\n",
       "3003         75.290000    75.29    75.29  \n",
       "3004         1983.430000  1983.43  1983.43\n",
       "3005         549.500000   150.50   948.50 \n",
       "3007         2400.600000  2400.60  2400.60\n",
       "3008         250.450000   250.45   250.45 \n",
       "3009         1295.450000  110.50   2480.40"
      ]
     },
     "execution_count": 23,
     "metadata": {},
     "output_type": "execute_result"
    }
   ],
   "source": [
    "result = orders_data.groupby('customer_id').agg({'purch_amt': ['mean', 'min', 'max']})\n",
    "result"
   ]
  },
  {
   "cell_type": "markdown",
   "metadata": {},
   "source": [
    "## Exercise 8 \n",
    "Write a Pandas program to split a dataset to group by two columns and count by each row."
   ]
  },
  {
   "cell_type": "code",
   "execution_count": 28,
   "metadata": {
    "ExecuteTime": {
     "end_time": "2022-07-29T14:56:08.902352Z",
     "start_time": "2022-07-29T14:56:08.869167Z"
    }
   },
   "outputs": [
    {
     "name": "stdout",
     "output_type": "stream",
     "text": [
      "\n",
      "Group by two columns and count by each row:\n"
     ]
    },
    {
     "data": {
      "text/html": [
       "<div>\n",
       "<style scoped>\n",
       "    .dataframe tbody tr th:only-of-type {\n",
       "        vertical-align: middle;\n",
       "    }\n",
       "\n",
       "    .dataframe tbody tr th {\n",
       "        vertical-align: top;\n",
       "    }\n",
       "\n",
       "    .dataframe thead th {\n",
       "        text-align: right;\n",
       "    }\n",
       "</style>\n",
       "<table border=\"1\" class=\"dataframe\">\n",
       "  <thead>\n",
       "    <tr style=\"text-align: right;\">\n",
       "      <th></th>\n",
       "      <th></th>\n",
       "      <th>0</th>\n",
       "    </tr>\n",
       "    <tr>\n",
       "      <th>salesman_id</th>\n",
       "      <th>customer_id</th>\n",
       "      <th></th>\n",
       "    </tr>\n",
       "  </thead>\n",
       "  <tbody>\n",
       "    <tr>\n",
       "      <th rowspan=\"2\" valign=\"top\">5001</th>\n",
       "      <th>3002</th>\n",
       "      <td>3</td>\n",
       "    </tr>\n",
       "    <tr>\n",
       "      <th>3007</th>\n",
       "      <td>1</td>\n",
       "    </tr>\n",
       "    <tr>\n",
       "      <th rowspan=\"2\" valign=\"top\">5002</th>\n",
       "      <th>3005</th>\n",
       "      <td>2</td>\n",
       "    </tr>\n",
       "    <tr>\n",
       "      <th>3008</th>\n",
       "      <td>1</td>\n",
       "    </tr>\n",
       "    <tr>\n",
       "      <th>5003</th>\n",
       "      <th>3009</th>\n",
       "      <td>2</td>\n",
       "    </tr>\n",
       "    <tr>\n",
       "      <th>5005</th>\n",
       "      <th>3001</th>\n",
       "      <td>1</td>\n",
       "    </tr>\n",
       "    <tr>\n",
       "      <th>5006</th>\n",
       "      <th>3004</th>\n",
       "      <td>1</td>\n",
       "    </tr>\n",
       "    <tr>\n",
       "      <th>5007</th>\n",
       "      <th>3003</th>\n",
       "      <td>1</td>\n",
       "    </tr>\n",
       "  </tbody>\n",
       "</table>\n",
       "</div>"
      ],
      "text/plain": [
       "                         0\n",
       "salesman_id customer_id   \n",
       "5001        3002         3\n",
       "            3007         1\n",
       "5002        3005         2\n",
       "            3008         1\n",
       "5003        3009         2\n",
       "5005        3001         1\n",
       "5006        3004         1\n",
       "5007        3003         1"
      ]
     },
     "execution_count": 28,
     "metadata": {},
     "output_type": "execute_result"
    }
   ],
   "source": [
    "print(\"\\nGroup by two columns and count by each row:\")\n",
    "result = orders_data.groupby(['salesman_id','customer_id']).size().reset_index().groupby(['salesman_id','customer_id'])[[0]].max()\n",
    "result"
   ]
  },
  {
   "cell_type": "code",
   "execution_count": null,
   "metadata": {},
   "outputs": [],
   "source": []
  },
  {
   "cell_type": "markdown",
   "metadata": {},
   "source": [
    "## Exercise 9 \n",
    "\n",
    "Write a Pandas program to split a dataset to group by two columns and then sort the aggregated results within the groups.\n",
    "\n",
    "In the following dataset **group on** 'customer_id', 'salesman_id' and then **sort** sum of purch_amt within the groups"
   ]
  },
  {
   "cell_type": "code",
   "execution_count": 30,
   "metadata": {
    "ExecuteTime": {
     "end_time": "2022-07-29T14:57:25.204596Z",
     "start_time": "2022-07-29T14:57:25.166051Z"
    }
   },
   "outputs": [
    {
     "name": "stdout",
     "output_type": "stream",
     "text": [
      "\n",
      "Group on 'customer_id', 'salesman_id' and then sort sum of purch_amt within the groups:\n",
      "customer_id  salesman_id\n",
      "3001         5005           270.65 \n",
      "3002         5001           8870.86\n",
      "3003         5007           75.29  \n",
      "3004         5006           1983.43\n",
      "3005         5002           1099.00\n",
      "3007         5001           2400.60\n",
      "3008         5002           250.45 \n",
      "3009         5003           2590.90\n",
      "Name: purch_amt, dtype: float64\n"
     ]
    }
   ],
   "source": [
    "df_agg = orders_data.groupby(['customer_id','salesman_id']).agg({'purch_amt':sum})\n",
    "result = df_agg['purch_amt'].groupby(level=0, group_keys=False)\n",
    "print(result.nlargest())"
   ]
  },
  {
   "cell_type": "markdown",
   "metadata": {},
   "source": [
    "## Exercise 11\n",
    "\n",
    "Write a Pandas program to split the following dataframe into groups and calculate monthly purchase amount."
   ]
  },
  {
   "cell_type": "code",
   "execution_count": 33,
   "metadata": {
    "ExecuteTime": {
     "end_time": "2022-07-29T14:58:54.176252Z",
     "start_time": "2022-07-29T14:58:54.160334Z"
    }
   },
   "outputs": [
    {
     "name": "stdout",
     "output_type": "stream",
     "text": [
      "            purch_amt\n",
      "ord_date             \n",
      "2012-04-30  3045.60  \n",
      "2012-05-31  0.00     \n",
      "2012-06-30  250.45   \n",
      "2012-07-31  2400.60  \n",
      "2012-08-31  185.79   \n",
      "2012-09-30  6979.15  \n",
      "2012-10-31  4679.59  \n"
     ]
    }
   ],
   "source": [
    "orders_data['ord_date']= pd.to_datetime(orders_data['ord_date']) \n",
    "result = orders_data.set_index('ord_date').groupby(pd.Grouper(freq='M')).agg({'purch_amt':sum})\n",
    "print(result)"
   ]
  },
  {
   "cell_type": "markdown",
   "metadata": {},
   "source": [
    "## Exercise 13\n",
    "\n",
    "Write a Pandas program to split the following datasets into groups on customer id and calculate the number of customers starting with 'C', the list of all products and the difference of maximum purchase amount and minimum purchase amount"
   ]
  },
  {
   "cell_type": "code",
   "execution_count": 39,
   "metadata": {
    "ExecuteTime": {
     "end_time": "2022-07-29T15:06:55.024606Z",
     "start_time": "2022-07-29T15:06:55.005666Z"
    },
    "scrolled": true
   },
   "outputs": [
    {
     "name": "stdout",
     "output_type": "stream",
     "text": [
      "    ord_no  purch_amt    ord_date customer_id  salesman_id\n",
      "0   70001   150.50     05-10-2012  C3001       5002       \n",
      "1   70009   270.65     09-10-2012  C3001       5005       \n",
      "2   70002   65.26      05-10-2012  D3005       5001       \n",
      "3   70004   110.50     08-17-2012  D3001       5003       \n",
      "4   70007   948.50     10-09-2012  C3005       5002       \n",
      "5   70005   2400.60    07-27-2012  D3001       5001       \n",
      "6   70008   5760.00    10-09-2012  C3005       5001       \n",
      "7   70010   1983.43    10-10-2012  D3001       5006       \n",
      "8   70003   2480.40    10-10-2012  D3005       5003       \n",
      "9   70012   250.45     06-17-2012  C3001       5002       \n",
      "10  70011   75.29      07-08-2012  D3005       5007       \n",
      "11  70013   3045.60    04-25-2012  D3005       5001       \n"
     ]
    }
   ],
   "source": [
    "df = pd.DataFrame({\n",
    "'ord_no':[70001,70009,70002,70004,70007,70005,70008,70010,70003,70012,70011,70013],\n",
    "'purch_amt':[150.5, 270.65, 65.26, 110.5, 948.5, 2400.6, 5760, 1983.43, 2480.4, 250.45, 75.29, 3045.6],\n",
    "'ord_date': ['05-10-2012','09-10-2012','05-10-2012','08-17-2012','10-09-2012','07-27-2012','10-09-2012','10-10-2012','10-10-2012','06-17-2012','07-08-2012','04-25-2012'],\n",
    "'customer_id':['C3001','C3001','D3005','D3001','C3005','D3001','C3005','D3001','D3005','C3001','D3005','D3005'],\n",
    "'salesman_id': [5002,5005,5001,5003,5002,5001,5001,5006,5003,5002,5007,5001]})\n",
    "\n",
    "print(df)\n"
   ]
  },
  {
   "cell_type": "code",
   "execution_count": 40,
   "metadata": {
    "ExecuteTime": {
     "end_time": "2022-07-29T15:07:17.317744Z",
     "start_time": "2022-07-29T15:07:17.293959Z"
    }
   },
   "outputs": [
    {
     "name": "stdout",
     "output_type": "stream",
     "text": [
      "             customer_id_start_C            customer_id_list  purchase_amt_gap\n",
      "salesman_id                                                                   \n",
      "5001         1                    D3005, D3001, C3005, D3005  5694.74         \n",
      "5002         3                    C3001, C3005, C3001         798.00          \n",
      "5003         0                    D3001, D3005                2369.90         \n",
      "5005         1                    C3001                       0.00            \n",
      "5006         0                    D3001                       0.00            \n",
      "5007         0                    D3005                       0.00            \n"
     ]
    }
   ],
   "source": [
    "def customer_id_C(x):\n",
    "    return (x.str[0] == 'C').sum()\n",
    "result = df.groupby(['salesman_id'])\\\n",
    "  .agg(customer_id_start_C = ('customer_id', customer_id_C),\n",
    "       customer_id_list = ('customer_id', lambda x: ', '.join(x)),\n",
    "       purchase_amt_gap   = ('purch_amt', lambda x: x.max()-x.min())\n",
    "      )\n",
    "print(result)"
   ]
  },
  {
   "cell_type": "markdown",
   "metadata": {},
   "source": [
    "## Exercise 14\n",
    "\n",
    "Write a Pandas program to split a given dataset, group by one column and apply an aggregate function to few columns and another aggregate function to the rest of the columns of the dataframe."
   ]
  },
  {
   "cell_type": "code",
   "execution_count": 44,
   "metadata": {
    "ExecuteTime": {
     "end_time": "2022-07-29T15:09:43.202399Z",
     "start_time": "2022-07-29T15:09:43.179629Z"
    },
    "scrolled": true
   },
   "outputs": [
    {
     "data": {
      "text/html": [
       "<div>\n",
       "<style scoped>\n",
       "    .dataframe tbody tr th:only-of-type {\n",
       "        vertical-align: middle;\n",
       "    }\n",
       "\n",
       "    .dataframe tbody tr th {\n",
       "        vertical-align: top;\n",
       "    }\n",
       "\n",
       "    .dataframe thead th {\n",
       "        text-align: right;\n",
       "    }\n",
       "</style>\n",
       "<table border=\"1\" class=\"dataframe\">\n",
       "  <thead>\n",
       "    <tr style=\"text-align: right;\">\n",
       "      <th></th>\n",
       "      <th>salesman_id</th>\n",
       "      <th>sale_jan</th>\n",
       "      <th>sale_feb</th>\n",
       "      <th>sale_mar</th>\n",
       "      <th>sale_apr</th>\n",
       "      <th>sale_may</th>\n",
       "      <th>sale_jun</th>\n",
       "      <th>sale_jul</th>\n",
       "      <th>sale_aug</th>\n",
       "      <th>sale_sep</th>\n",
       "      <th>sale_oct</th>\n",
       "      <th>sale_nov</th>\n",
       "      <th>sale_dec</th>\n",
       "    </tr>\n",
       "  </thead>\n",
       "  <tbody>\n",
       "    <tr>\n",
       "      <th>0</th>\n",
       "      <td>5002</td>\n",
       "      <td>150.50</td>\n",
       "      <td>250.50</td>\n",
       "      <td>150.50</td>\n",
       "      <td>150.50</td>\n",
       "      <td>130.50</td>\n",
       "      <td>150.50</td>\n",
       "      <td>950.50</td>\n",
       "      <td>150.50</td>\n",
       "      <td>150.50</td>\n",
       "      <td>150.50</td>\n",
       "      <td>150.50</td>\n",
       "      <td>150.50</td>\n",
       "    </tr>\n",
       "    <tr>\n",
       "      <th>1</th>\n",
       "      <td>5005</td>\n",
       "      <td>270.65</td>\n",
       "      <td>170.65</td>\n",
       "      <td>270.65</td>\n",
       "      <td>270.65</td>\n",
       "      <td>270.65</td>\n",
       "      <td>270.65</td>\n",
       "      <td>270.65</td>\n",
       "      <td>70.65</td>\n",
       "      <td>270.65</td>\n",
       "      <td>270.65</td>\n",
       "      <td>270.65</td>\n",
       "      <td>70.65</td>\n",
       "    </tr>\n",
       "    <tr>\n",
       "      <th>2</th>\n",
       "      <td>5001</td>\n",
       "      <td>65.26</td>\n",
       "      <td>15.26</td>\n",
       "      <td>65.26</td>\n",
       "      <td>95.26</td>\n",
       "      <td>65.26</td>\n",
       "      <td>45.26</td>\n",
       "      <td>65.26</td>\n",
       "      <td>65.26</td>\n",
       "      <td>65.26</td>\n",
       "      <td>65.26</td>\n",
       "      <td>95.26</td>\n",
       "      <td>65.26</td>\n",
       "    </tr>\n",
       "    <tr>\n",
       "      <th>3</th>\n",
       "      <td>5003</td>\n",
       "      <td>110.50</td>\n",
       "      <td>110.50</td>\n",
       "      <td>110.50</td>\n",
       "      <td>210.50</td>\n",
       "      <td>310.50</td>\n",
       "      <td>110.50</td>\n",
       "      <td>210.50</td>\n",
       "      <td>110.50</td>\n",
       "      <td>110.50</td>\n",
       "      <td>110.50</td>\n",
       "      <td>110.50</td>\n",
       "      <td>110.50</td>\n",
       "    </tr>\n",
       "    <tr>\n",
       "      <th>4</th>\n",
       "      <td>5002</td>\n",
       "      <td>948.50</td>\n",
       "      <td>598.50</td>\n",
       "      <td>948.50</td>\n",
       "      <td>948.50</td>\n",
       "      <td>948.50</td>\n",
       "      <td>948.50</td>\n",
       "      <td>948.50</td>\n",
       "      <td>948.50</td>\n",
       "      <td>948.50</td>\n",
       "      <td>948.50</td>\n",
       "      <td>948.50</td>\n",
       "      <td>948.50</td>\n",
       "    </tr>\n",
       "  </tbody>\n",
       "</table>\n",
       "</div>"
      ],
      "text/plain": [
       "   salesman_id  sale_jan  sale_feb  sale_mar  sale_apr  sale_may  sale_jun  \\\n",
       "0  5002         150.50    250.50    150.50    150.50    130.50    150.50     \n",
       "1  5005         270.65    170.65    270.65    270.65    270.65    270.65     \n",
       "2  5001         65.26     15.26     65.26     95.26     65.26     45.26      \n",
       "3  5003         110.50    110.50    110.50    210.50    310.50    110.50     \n",
       "4  5002         948.50    598.50    948.50    948.50    948.50    948.50     \n",
       "\n",
       "   sale_jul  sale_aug  sale_sep  sale_oct  sale_nov  sale_dec  \n",
       "0  950.50    150.50    150.50    150.50    150.50    150.50    \n",
       "1  270.65    70.65     270.65    270.65    270.65    70.65     \n",
       "2  65.26     65.26     65.26     65.26     95.26     65.26     \n",
       "3  210.50    110.50    110.50    110.50    110.50    110.50    \n",
       "4  948.50    948.50    948.50    948.50    948.50    948.50    "
      ]
     },
     "execution_count": 44,
     "metadata": {},
     "output_type": "execute_result"
    }
   ],
   "source": [
    "import pandas as pd\n",
    "pd.set_option('display.max_rows', None)\n",
    "pd.set_option('display.max_columns', None)\n",
    "df = pd.read_csv(\"resources/sales_dataset.csv\")\n",
    "\n",
    "df.head()\n"
   ]
  },
  {
   "cell_type": "code",
   "execution_count": 46,
   "metadata": {
    "ExecuteTime": {
     "end_time": "2022-07-29T15:09:55.000547Z",
     "start_time": "2022-07-29T15:09:54.952324Z"
    }
   },
   "outputs": [
    {
     "data": {
      "text/html": [
       "<div>\n",
       "<style scoped>\n",
       "    .dataframe tbody tr th:only-of-type {\n",
       "        vertical-align: middle;\n",
       "    }\n",
       "\n",
       "    .dataframe tbody tr th {\n",
       "        vertical-align: top;\n",
       "    }\n",
       "\n",
       "    .dataframe thead th {\n",
       "        text-align: right;\n",
       "    }\n",
       "</style>\n",
       "<table border=\"1\" class=\"dataframe\">\n",
       "  <thead>\n",
       "    <tr style=\"text-align: right;\">\n",
       "      <th></th>\n",
       "      <th>sale_jan</th>\n",
       "      <th>sale_feb</th>\n",
       "      <th>sale_mar</th>\n",
       "      <th>sale_apr</th>\n",
       "      <th>sale_may</th>\n",
       "      <th>sale_jun</th>\n",
       "      <th>sale_jul</th>\n",
       "      <th>sale_aug</th>\n",
       "      <th>sale_sep</th>\n",
       "      <th>sale_oct</th>\n",
       "      <th>sale_nov</th>\n",
       "      <th>sale_dec</th>\n",
       "    </tr>\n",
       "    <tr>\n",
       "      <th>salesman_id</th>\n",
       "      <th></th>\n",
       "      <th></th>\n",
       "      <th></th>\n",
       "      <th></th>\n",
       "      <th></th>\n",
       "      <th></th>\n",
       "      <th></th>\n",
       "      <th></th>\n",
       "      <th></th>\n",
       "      <th></th>\n",
       "      <th></th>\n",
       "      <th></th>\n",
       "    </tr>\n",
       "  </thead>\n",
       "  <tbody>\n",
       "    <tr>\n",
       "      <th>5001</th>\n",
       "      <td>5271.46</td>\n",
       "      <td>7221.46</td>\n",
       "      <td>11271.46</td>\n",
       "      <td>1575.365000</td>\n",
       "      <td>1567.865</td>\n",
       "      <td>3062.865000</td>\n",
       "      <td>2817.865000</td>\n",
       "      <td>2317.865000</td>\n",
       "      <td>2267.865000</td>\n",
       "      <td>2817.865000</td>\n",
       "      <td>2825.365000</td>\n",
       "      <td>2817.865000</td>\n",
       "    </tr>\n",
       "    <tr>\n",
       "      <th>5002</th>\n",
       "      <td>2349.45</td>\n",
       "      <td>1099.45</td>\n",
       "      <td>1349.45</td>\n",
       "      <td>449.816667</td>\n",
       "      <td>443.150</td>\n",
       "      <td>449.816667</td>\n",
       "      <td>716.483333</td>\n",
       "      <td>449.816667</td>\n",
       "      <td>449.816667</td>\n",
       "      <td>449.816667</td>\n",
       "      <td>449.816667</td>\n",
       "      <td>449.816667</td>\n",
       "    </tr>\n",
       "    <tr>\n",
       "      <th>5003</th>\n",
       "      <td>590.90</td>\n",
       "      <td>2590.90</td>\n",
       "      <td>2590.90</td>\n",
       "      <td>1345.450000</td>\n",
       "      <td>1395.450</td>\n",
       "      <td>1295.450000</td>\n",
       "      <td>1345.450000</td>\n",
       "      <td>1295.450000</td>\n",
       "      <td>1295.450000</td>\n",
       "      <td>1295.450000</td>\n",
       "      <td>1295.450000</td>\n",
       "      <td>1295.450000</td>\n",
       "    </tr>\n",
       "    <tr>\n",
       "      <th>5005</th>\n",
       "      <td>270.65</td>\n",
       "      <td>170.65</td>\n",
       "      <td>270.65</td>\n",
       "      <td>270.650000</td>\n",
       "      <td>270.650</td>\n",
       "      <td>270.650000</td>\n",
       "      <td>270.650000</td>\n",
       "      <td>70.650000</td>\n",
       "      <td>270.650000</td>\n",
       "      <td>270.650000</td>\n",
       "      <td>270.650000</td>\n",
       "      <td>70.650000</td>\n",
       "    </tr>\n",
       "    <tr>\n",
       "      <th>5006</th>\n",
       "      <td>2983.43</td>\n",
       "      <td>1983.43</td>\n",
       "      <td>1983.43</td>\n",
       "      <td>1983.430000</td>\n",
       "      <td>1983.430</td>\n",
       "      <td>983.430000</td>\n",
       "      <td>983.430000</td>\n",
       "      <td>1983.430000</td>\n",
       "      <td>1983.430000</td>\n",
       "      <td>1983.430000</td>\n",
       "      <td>1983.430000</td>\n",
       "      <td>1983.430000</td>\n",
       "    </tr>\n",
       "    <tr>\n",
       "      <th>5007</th>\n",
       "      <td>75.29</td>\n",
       "      <td>75.29</td>\n",
       "      <td>75.29</td>\n",
       "      <td>75.290000</td>\n",
       "      <td>75.290</td>\n",
       "      <td>75.290000</td>\n",
       "      <td>75.290000</td>\n",
       "      <td>75.290000</td>\n",
       "      <td>75.290000</td>\n",
       "      <td>75.290000</td>\n",
       "      <td>75.290000</td>\n",
       "      <td>75.290000</td>\n",
       "    </tr>\n",
       "  </tbody>\n",
       "</table>\n",
       "</div>"
      ],
      "text/plain": [
       "             sale_jan  sale_feb  sale_mar     sale_apr  sale_may     sale_jun  \\\n",
       "salesman_id                                                                     \n",
       "5001         5271.46   7221.46   11271.46  1575.365000  1567.865  3062.865000   \n",
       "5002         2349.45   1099.45   1349.45   449.816667   443.150   449.816667    \n",
       "5003         590.90    2590.90   2590.90   1345.450000  1395.450  1295.450000   \n",
       "5005         270.65    170.65    270.65    270.650000   270.650   270.650000    \n",
       "5006         2983.43   1983.43   1983.43   1983.430000  1983.430  983.430000    \n",
       "5007         75.29     75.29     75.29     75.290000    75.290    75.290000     \n",
       "\n",
       "                sale_jul     sale_aug     sale_sep     sale_oct     sale_nov  \\\n",
       "salesman_id                                                                    \n",
       "5001         2817.865000  2317.865000  2267.865000  2817.865000  2825.365000   \n",
       "5002         716.483333   449.816667   449.816667   449.816667   449.816667    \n",
       "5003         1345.450000  1295.450000  1295.450000  1295.450000  1295.450000   \n",
       "5005         270.650000   70.650000    270.650000   270.650000   270.650000    \n",
       "5006         983.430000   1983.430000  1983.430000  1983.430000  1983.430000   \n",
       "5007         75.290000    75.290000    75.290000    75.290000    75.290000     \n",
       "\n",
       "                sale_dec  \n",
       "salesman_id               \n",
       "5001         2817.865000  \n",
       "5002         449.816667   \n",
       "5003         1295.450000  \n",
       "5005         70.650000    \n",
       "5006         1983.430000  \n",
       "5007         75.290000    "
      ]
     },
     "execution_count": 46,
     "metadata": {},
     "output_type": "execute_result"
    }
   ],
   "source": [
    "df = df.groupby('salesman_id').agg(lambda x : x.sum() if x.name in ['sale_jan','sale_feb','sale_mar'] else x.mean())\n",
    "df"
   ]
  },
  {
   "cell_type": "markdown",
   "metadata": {},
   "source": [
    "# join two dataframes along rows"
   ]
  },
  {
   "cell_type": "markdown",
   "metadata": {},
   "source": [
    "## Exercise 1\n",
    "Write a Pandas program to join the two given dataframes **along rows** and assign all data using pd.concat."
   ]
  },
  {
   "cell_type": "code",
   "execution_count": 48,
   "metadata": {
    "ExecuteTime": {
     "end_time": "2022-07-29T15:10:57.813635Z",
     "start_time": "2022-07-29T15:10:57.787506Z"
    }
   },
   "outputs": [
    {
     "data": {
      "text/html": [
       "<div>\n",
       "<style scoped>\n",
       "    .dataframe tbody tr th:only-of-type {\n",
       "        vertical-align: middle;\n",
       "    }\n",
       "\n",
       "    .dataframe tbody tr th {\n",
       "        vertical-align: top;\n",
       "    }\n",
       "\n",
       "    .dataframe thead th {\n",
       "        text-align: right;\n",
       "    }\n",
       "</style>\n",
       "<table border=\"1\" class=\"dataframe\">\n",
       "  <thead>\n",
       "    <tr style=\"text-align: right;\">\n",
       "      <th></th>\n",
       "      <th>student_id</th>\n",
       "      <th>name</th>\n",
       "      <th>marks</th>\n",
       "    </tr>\n",
       "  </thead>\n",
       "  <tbody>\n",
       "    <tr>\n",
       "      <th>0</th>\n",
       "      <td>S1</td>\n",
       "      <td>Danniella Fenton</td>\n",
       "      <td>200</td>\n",
       "    </tr>\n",
       "    <tr>\n",
       "      <th>1</th>\n",
       "      <td>S2</td>\n",
       "      <td>Ryder Storey</td>\n",
       "      <td>210</td>\n",
       "    </tr>\n",
       "    <tr>\n",
       "      <th>2</th>\n",
       "      <td>S3</td>\n",
       "      <td>Bryce Jensen</td>\n",
       "      <td>190</td>\n",
       "    </tr>\n",
       "    <tr>\n",
       "      <th>3</th>\n",
       "      <td>S4</td>\n",
       "      <td>Ed Bernal</td>\n",
       "      <td>222</td>\n",
       "    </tr>\n",
       "    <tr>\n",
       "      <th>4</th>\n",
       "      <td>S5</td>\n",
       "      <td>Kwame Morin</td>\n",
       "      <td>199</td>\n",
       "    </tr>\n",
       "    <tr>\n",
       "      <th>0</th>\n",
       "      <td>S4</td>\n",
       "      <td>Scarlette Fisher</td>\n",
       "      <td>201</td>\n",
       "    </tr>\n",
       "    <tr>\n",
       "      <th>1</th>\n",
       "      <td>S5</td>\n",
       "      <td>Carla Williamson</td>\n",
       "      <td>200</td>\n",
       "    </tr>\n",
       "    <tr>\n",
       "      <th>2</th>\n",
       "      <td>S6</td>\n",
       "      <td>Dante Morse</td>\n",
       "      <td>198</td>\n",
       "    </tr>\n",
       "    <tr>\n",
       "      <th>3</th>\n",
       "      <td>S7</td>\n",
       "      <td>Kaiser William</td>\n",
       "      <td>219</td>\n",
       "    </tr>\n",
       "    <tr>\n",
       "      <th>4</th>\n",
       "      <td>S8</td>\n",
       "      <td>Madeeha Preston</td>\n",
       "      <td>201</td>\n",
       "    </tr>\n",
       "  </tbody>\n",
       "</table>\n",
       "</div>"
      ],
      "text/plain": [
       "  student_id              name  marks\n",
       "0  S1         Danniella Fenton  200  \n",
       "1  S2         Ryder Storey      210  \n",
       "2  S3         Bryce Jensen      190  \n",
       "3  S4         Ed Bernal         222  \n",
       "4  S5         Kwame Morin       199  \n",
       "0  S4         Scarlette Fisher  201  \n",
       "1  S5         Carla Williamson  200  \n",
       "2  S6         Dante Morse       198  \n",
       "3  S7         Kaiser William    219  \n",
       "4  S8         Madeeha Preston   201  "
      ]
     },
     "execution_count": 48,
     "metadata": {},
     "output_type": "execute_result"
    }
   ],
   "source": [
    "import pandas as pd\n",
    "\n",
    "student_data1 = pd.DataFrame({\n",
    "        'student_id': ['S1', 'S2', 'S3', 'S4', 'S5'],\n",
    "         'name': ['Danniella Fenton', 'Ryder Storey', 'Bryce Jensen', 'Ed Bernal', 'Kwame Morin'], \n",
    "        'marks': [200, 210, 190, 222, 199]})\n",
    "\n",
    "student_data2 = pd.DataFrame({\n",
    "        'student_id': ['S4', 'S5', 'S6', 'S7', 'S8'],\n",
    "        'name': ['Scarlette Fisher', 'Carla Williamson', 'Dante Morse', 'Kaiser William', 'Madeeha Preston'], \n",
    "        'marks': [201, 200, 198, 219, 201]})\n",
    "\n",
    "result_data = pd.concat([student_data1, student_data2])\n",
    "result_data"
   ]
  },
  {
   "cell_type": "markdown",
   "metadata": {},
   "source": [
    "## Exercise 2\n",
    "Join two dataframes **along columns**"
   ]
  },
  {
   "cell_type": "code",
   "execution_count": 50,
   "metadata": {
    "ExecuteTime": {
     "end_time": "2022-07-29T15:11:23.499863Z",
     "start_time": "2022-07-29T15:11:23.478255Z"
    }
   },
   "outputs": [
    {
     "data": {
      "text/html": [
       "<div>\n",
       "<style scoped>\n",
       "    .dataframe tbody tr th:only-of-type {\n",
       "        vertical-align: middle;\n",
       "    }\n",
       "\n",
       "    .dataframe tbody tr th {\n",
       "        vertical-align: top;\n",
       "    }\n",
       "\n",
       "    .dataframe thead th {\n",
       "        text-align: right;\n",
       "    }\n",
       "</style>\n",
       "<table border=\"1\" class=\"dataframe\">\n",
       "  <thead>\n",
       "    <tr style=\"text-align: right;\">\n",
       "      <th></th>\n",
       "      <th>student_id</th>\n",
       "      <th>name</th>\n",
       "      <th>marks</th>\n",
       "      <th>student_id</th>\n",
       "      <th>name</th>\n",
       "      <th>marks</th>\n",
       "    </tr>\n",
       "  </thead>\n",
       "  <tbody>\n",
       "    <tr>\n",
       "      <th>0</th>\n",
       "      <td>S1</td>\n",
       "      <td>Danniella Fenton</td>\n",
       "      <td>200</td>\n",
       "      <td>S4</td>\n",
       "      <td>Scarlette Fisher</td>\n",
       "      <td>201</td>\n",
       "    </tr>\n",
       "    <tr>\n",
       "      <th>1</th>\n",
       "      <td>S2</td>\n",
       "      <td>Ryder Storey</td>\n",
       "      <td>210</td>\n",
       "      <td>S5</td>\n",
       "      <td>Carla Williamson</td>\n",
       "      <td>200</td>\n",
       "    </tr>\n",
       "    <tr>\n",
       "      <th>2</th>\n",
       "      <td>S3</td>\n",
       "      <td>Bryce Jensen</td>\n",
       "      <td>190</td>\n",
       "      <td>S6</td>\n",
       "      <td>Dante Morse</td>\n",
       "      <td>198</td>\n",
       "    </tr>\n",
       "    <tr>\n",
       "      <th>3</th>\n",
       "      <td>S4</td>\n",
       "      <td>Ed Bernal</td>\n",
       "      <td>222</td>\n",
       "      <td>S7</td>\n",
       "      <td>Kaiser William</td>\n",
       "      <td>219</td>\n",
       "    </tr>\n",
       "    <tr>\n",
       "      <th>4</th>\n",
       "      <td>S5</td>\n",
       "      <td>Kwame Morin</td>\n",
       "      <td>199</td>\n",
       "      <td>S8</td>\n",
       "      <td>Madeeha Preston</td>\n",
       "      <td>201</td>\n",
       "    </tr>\n",
       "  </tbody>\n",
       "</table>\n",
       "</div>"
      ],
      "text/plain": [
       "  student_id              name  marks student_id              name  marks\n",
       "0  S1         Danniella Fenton  200    S4         Scarlette Fisher  201  \n",
       "1  S2         Ryder Storey      210    S5         Carla Williamson  200  \n",
       "2  S3         Bryce Jensen      190    S6         Dante Morse       198  \n",
       "3  S4         Ed Bernal         222    S7         Kaiser William    219  \n",
       "4  S5         Kwame Morin       199    S8         Madeeha Preston   201  "
      ]
     },
     "execution_count": 50,
     "metadata": {},
     "output_type": "execute_result"
    }
   ],
   "source": [
    "result_data = pd.concat([student_data1, student_data2], axis = 1)\n",
    "result_data"
   ]
  },
  {
   "cell_type": "markdown",
   "metadata": {},
   "source": [
    "## Exercise 4\n",
    "\n",
    "Write a Pandas program to join the two given dataframes along rows and merge with another dataframe along the common column id."
   ]
  },
  {
   "cell_type": "code",
   "execution_count": 51,
   "metadata": {
    "ExecuteTime": {
     "end_time": "2022-07-29T15:12:32.114157Z",
     "start_time": "2022-07-29T15:12:32.050196Z"
    }
   },
   "outputs": [
    {
     "name": "stdout",
     "output_type": "stream",
     "text": [
      "\n",
      "Join first two said dataframes along rows:\n",
      "  student_id              name  marks\n",
      "0  S1         Danniella Fenton  200  \n",
      "1  S2         Ryder Storey      210  \n",
      "2  S3         Bryce Jensen      190  \n",
      "3  S4         Ed Bernal         222  \n",
      "4  S5         Kwame Morin       199  \n",
      "0  S4         Scarlette Fisher  201  \n",
      "1  S5         Carla Williamson  200  \n",
      "2  S6         Dante Morse       198  \n",
      "3  S7         Kaiser William    219  \n",
      "4  S8         Madeeha Preston   201  \n",
      "\n",
      "Now join the said result_data and df_exam_data along student_id:\n"
     ]
    },
    {
     "data": {
      "text/html": [
       "<div>\n",
       "<style scoped>\n",
       "    .dataframe tbody tr th:only-of-type {\n",
       "        vertical-align: middle;\n",
       "    }\n",
       "\n",
       "    .dataframe tbody tr th {\n",
       "        vertical-align: top;\n",
       "    }\n",
       "\n",
       "    .dataframe thead th {\n",
       "        text-align: right;\n",
       "    }\n",
       "</style>\n",
       "<table border=\"1\" class=\"dataframe\">\n",
       "  <thead>\n",
       "    <tr style=\"text-align: right;\">\n",
       "      <th></th>\n",
       "      <th>student_id</th>\n",
       "      <th>name</th>\n",
       "      <th>marks</th>\n",
       "      <th>exam_id</th>\n",
       "    </tr>\n",
       "  </thead>\n",
       "  <tbody>\n",
       "    <tr>\n",
       "      <th>0</th>\n",
       "      <td>S1</td>\n",
       "      <td>Danniella Fenton</td>\n",
       "      <td>200</td>\n",
       "      <td>23</td>\n",
       "    </tr>\n",
       "    <tr>\n",
       "      <th>1</th>\n",
       "      <td>S2</td>\n",
       "      <td>Ryder Storey</td>\n",
       "      <td>210</td>\n",
       "      <td>45</td>\n",
       "    </tr>\n",
       "    <tr>\n",
       "      <th>2</th>\n",
       "      <td>S3</td>\n",
       "      <td>Bryce Jensen</td>\n",
       "      <td>190</td>\n",
       "      <td>12</td>\n",
       "    </tr>\n",
       "    <tr>\n",
       "      <th>3</th>\n",
       "      <td>S4</td>\n",
       "      <td>Ed Bernal</td>\n",
       "      <td>222</td>\n",
       "      <td>67</td>\n",
       "    </tr>\n",
       "    <tr>\n",
       "      <th>4</th>\n",
       "      <td>S4</td>\n",
       "      <td>Scarlette Fisher</td>\n",
       "      <td>201</td>\n",
       "      <td>67</td>\n",
       "    </tr>\n",
       "    <tr>\n",
       "      <th>5</th>\n",
       "      <td>S5</td>\n",
       "      <td>Kwame Morin</td>\n",
       "      <td>199</td>\n",
       "      <td>21</td>\n",
       "    </tr>\n",
       "    <tr>\n",
       "      <th>6</th>\n",
       "      <td>S5</td>\n",
       "      <td>Carla Williamson</td>\n",
       "      <td>200</td>\n",
       "      <td>21</td>\n",
       "    </tr>\n",
       "    <tr>\n",
       "      <th>7</th>\n",
       "      <td>S7</td>\n",
       "      <td>Kaiser William</td>\n",
       "      <td>219</td>\n",
       "      <td>55</td>\n",
       "    </tr>\n",
       "    <tr>\n",
       "      <th>8</th>\n",
       "      <td>S8</td>\n",
       "      <td>Madeeha Preston</td>\n",
       "      <td>201</td>\n",
       "      <td>33</td>\n",
       "    </tr>\n",
       "  </tbody>\n",
       "</table>\n",
       "</div>"
      ],
      "text/plain": [
       "  student_id              name  marks  exam_id\n",
       "0  S1         Danniella Fenton  200    23     \n",
       "1  S2         Ryder Storey      210    45     \n",
       "2  S3         Bryce Jensen      190    12     \n",
       "3  S4         Ed Bernal         222    67     \n",
       "4  S4         Scarlette Fisher  201    67     \n",
       "5  S5         Kwame Morin       199    21     \n",
       "6  S5         Carla Williamson  200    21     \n",
       "7  S7         Kaiser William    219    55     \n",
       "8  S8         Madeeha Preston   201    33     "
      ]
     },
     "execution_count": 51,
     "metadata": {},
     "output_type": "execute_result"
    }
   ],
   "source": [
    "student_data1 = pd.DataFrame({\n",
    "        'student_id': ['S1', 'S2', 'S3', 'S4', 'S5'],\n",
    "         'name': ['Danniella Fenton', 'Ryder Storey', 'Bryce Jensen', 'Ed Bernal', 'Kwame Morin'], \n",
    "        'marks': [200, 210, 190, 222, 199]})\n",
    "\n",
    "student_data2 = pd.DataFrame({\n",
    "        'student_id': ['S4', 'S5', 'S6', 'S7', 'S8'],\n",
    "        'name': ['Scarlette Fisher', 'Carla Williamson', 'Dante Morse', 'Kaiser William', 'Madeeha Preston'], \n",
    "        'marks': [201, 200, 198, 219, 201]})\n",
    "\n",
    "exam_data = pd.DataFrame({\n",
    "        'student_id': ['S1', 'S2', 'S3', 'S4', 'S5', 'S7', 'S8', 'S9', 'S10', 'S11', 'S12', 'S13'],\n",
    "        'exam_id': [23, 45, 12, 67, 21, 55, 33, 14, 56, 83, 88, 12]})\n",
    "\n",
    "\n",
    "print(\"\\nJoin first two said dataframes along rows:\")\n",
    "result_data = pd.concat([student_data1, student_data2])\n",
    "print(result_data)\n",
    "\n",
    "print(\"\\nNow join the said result_data and df_exam_data along student_id:\")\n",
    "final_merged_data = pd.merge(result_data, exam_data, on='student_id')\n",
    "final_merged_data"
   ]
  },
  {
   "cell_type": "markdown",
   "metadata": {},
   "source": [
    "## Exercise 5\n",
    "Write a Pandas program to join the two dataframes using the common column of both dataframes."
   ]
  },
  {
   "cell_type": "code",
   "execution_count": 52,
   "metadata": {
    "ExecuteTime": {
     "end_time": "2022-07-29T15:12:57.420712Z",
     "start_time": "2022-07-29T15:12:57.398607Z"
    }
   },
   "outputs": [
    {
     "name": "stdout",
     "output_type": "stream",
     "text": [
      "Merged data (inner join):\n"
     ]
    },
    {
     "data": {
      "text/html": [
       "<div>\n",
       "<style scoped>\n",
       "    .dataframe tbody tr th:only-of-type {\n",
       "        vertical-align: middle;\n",
       "    }\n",
       "\n",
       "    .dataframe tbody tr th {\n",
       "        vertical-align: top;\n",
       "    }\n",
       "\n",
       "    .dataframe thead th {\n",
       "        text-align: right;\n",
       "    }\n",
       "</style>\n",
       "<table border=\"1\" class=\"dataframe\">\n",
       "  <thead>\n",
       "    <tr style=\"text-align: right;\">\n",
       "      <th></th>\n",
       "      <th>student_id</th>\n",
       "      <th>name_x</th>\n",
       "      <th>marks_x</th>\n",
       "      <th>name_y</th>\n",
       "      <th>marks_y</th>\n",
       "    </tr>\n",
       "  </thead>\n",
       "  <tbody>\n",
       "    <tr>\n",
       "      <th>0</th>\n",
       "      <td>S4</td>\n",
       "      <td>Ed Bernal</td>\n",
       "      <td>222</td>\n",
       "      <td>Scarlette Fisher</td>\n",
       "      <td>201</td>\n",
       "    </tr>\n",
       "    <tr>\n",
       "      <th>1</th>\n",
       "      <td>S5</td>\n",
       "      <td>Kwame Morin</td>\n",
       "      <td>199</td>\n",
       "      <td>Carla Williamson</td>\n",
       "      <td>200</td>\n",
       "    </tr>\n",
       "  </tbody>\n",
       "</table>\n",
       "</div>"
      ],
      "text/plain": [
       "  student_id       name_x  marks_x            name_y  marks_y\n",
       "0  S4         Ed Bernal    222      Scarlette Fisher  201    \n",
       "1  S5         Kwame Morin  199      Carla Williamson  200    "
      ]
     },
     "execution_count": 52,
     "metadata": {},
     "output_type": "execute_result"
    }
   ],
   "source": [
    "merged_data = pd.merge(student_data1, student_data2, on='student_id', how='inner')\n",
    "print(\"Merged data (inner join):\")\n",
    "merged_data"
   ]
  },
  {
   "cell_type": "code",
   "execution_count": null,
   "metadata": {},
   "outputs": [],
   "source": []
  },
  {
   "cell_type": "markdown",
   "metadata": {},
   "source": [
    "## Exercise 6\n",
    "\n",
    "Write a Pandas program to join the two dataframes with matching records from both sides where available. Write a Pandas program to join (left join) the two dataframes using keys from left dataframe only."
   ]
  },
  {
   "cell_type": "code",
   "execution_count": 53,
   "metadata": {
    "ExecuteTime": {
     "end_time": "2022-07-29T15:13:07.712823Z",
     "start_time": "2022-07-29T15:13:07.689167Z"
    },
    "scrolled": true
   },
   "outputs": [
    {
     "name": "stdout",
     "output_type": "stream",
     "text": [
      "Merged data (outer join):\n"
     ]
    },
    {
     "data": {
      "text/html": [
       "<div>\n",
       "<style scoped>\n",
       "    .dataframe tbody tr th:only-of-type {\n",
       "        vertical-align: middle;\n",
       "    }\n",
       "\n",
       "    .dataframe tbody tr th {\n",
       "        vertical-align: top;\n",
       "    }\n",
       "\n",
       "    .dataframe thead th {\n",
       "        text-align: right;\n",
       "    }\n",
       "</style>\n",
       "<table border=\"1\" class=\"dataframe\">\n",
       "  <thead>\n",
       "    <tr style=\"text-align: right;\">\n",
       "      <th></th>\n",
       "      <th>student_id</th>\n",
       "      <th>name_x</th>\n",
       "      <th>marks_x</th>\n",
       "      <th>name_y</th>\n",
       "      <th>marks_y</th>\n",
       "    </tr>\n",
       "  </thead>\n",
       "  <tbody>\n",
       "    <tr>\n",
       "      <th>0</th>\n",
       "      <td>S1</td>\n",
       "      <td>Danniella Fenton</td>\n",
       "      <td>200.0</td>\n",
       "      <td>NaN</td>\n",
       "      <td>NaN</td>\n",
       "    </tr>\n",
       "    <tr>\n",
       "      <th>1</th>\n",
       "      <td>S2</td>\n",
       "      <td>Ryder Storey</td>\n",
       "      <td>210.0</td>\n",
       "      <td>NaN</td>\n",
       "      <td>NaN</td>\n",
       "    </tr>\n",
       "    <tr>\n",
       "      <th>2</th>\n",
       "      <td>S3</td>\n",
       "      <td>Bryce Jensen</td>\n",
       "      <td>190.0</td>\n",
       "      <td>NaN</td>\n",
       "      <td>NaN</td>\n",
       "    </tr>\n",
       "    <tr>\n",
       "      <th>3</th>\n",
       "      <td>S4</td>\n",
       "      <td>Ed Bernal</td>\n",
       "      <td>222.0</td>\n",
       "      <td>Scarlette Fisher</td>\n",
       "      <td>201.0</td>\n",
       "    </tr>\n",
       "    <tr>\n",
       "      <th>4</th>\n",
       "      <td>S5</td>\n",
       "      <td>Kwame Morin</td>\n",
       "      <td>199.0</td>\n",
       "      <td>Carla Williamson</td>\n",
       "      <td>200.0</td>\n",
       "    </tr>\n",
       "    <tr>\n",
       "      <th>5</th>\n",
       "      <td>S6</td>\n",
       "      <td>NaN</td>\n",
       "      <td>NaN</td>\n",
       "      <td>Dante Morse</td>\n",
       "      <td>198.0</td>\n",
       "    </tr>\n",
       "    <tr>\n",
       "      <th>6</th>\n",
       "      <td>S7</td>\n",
       "      <td>NaN</td>\n",
       "      <td>NaN</td>\n",
       "      <td>Kaiser William</td>\n",
       "      <td>219.0</td>\n",
       "    </tr>\n",
       "    <tr>\n",
       "      <th>7</th>\n",
       "      <td>S8</td>\n",
       "      <td>NaN</td>\n",
       "      <td>NaN</td>\n",
       "      <td>Madeeha Preston</td>\n",
       "      <td>201.0</td>\n",
       "    </tr>\n",
       "  </tbody>\n",
       "</table>\n",
       "</div>"
      ],
      "text/plain": [
       "  student_id            name_x  marks_x            name_y  marks_y\n",
       "0  S1         Danniella Fenton  200.0    NaN              NaN     \n",
       "1  S2         Ryder Storey      210.0    NaN              NaN     \n",
       "2  S3         Bryce Jensen      190.0    NaN              NaN     \n",
       "3  S4         Ed Bernal         222.0    Scarlette Fisher  201.0  \n",
       "4  S5         Kwame Morin       199.0    Carla Williamson  200.0  \n",
       "5  S6         NaN              NaN       Dante Morse       198.0  \n",
       "6  S7         NaN              NaN       Kaiser William    219.0  \n",
       "7  S8         NaN              NaN       Madeeha Preston   201.0  "
      ]
     },
     "execution_count": 53,
     "metadata": {},
     "output_type": "execute_result"
    }
   ],
   "source": [
    "merged_data = pd.merge(student_data1, student_data2, on='student_id', how='outer')\n",
    "print(\"Merged data (outer join):\")\n",
    "merged_data"
   ]
  },
  {
   "cell_type": "code",
   "execution_count": 56,
   "metadata": {
    "ExecuteTime": {
     "end_time": "2022-07-29T15:14:10.074064Z",
     "start_time": "2022-07-29T15:14:10.065006Z"
    }
   },
   "outputs": [
    {
     "data": {
      "text/html": [
       "<div>\n",
       "<style scoped>\n",
       "    .dataframe tbody tr th:only-of-type {\n",
       "        vertical-align: middle;\n",
       "    }\n",
       "\n",
       "    .dataframe tbody tr th {\n",
       "        vertical-align: top;\n",
       "    }\n",
       "\n",
       "    .dataframe thead th {\n",
       "        text-align: right;\n",
       "    }\n",
       "</style>\n",
       "<table border=\"1\" class=\"dataframe\">\n",
       "  <thead>\n",
       "    <tr style=\"text-align: right;\">\n",
       "      <th></th>\n",
       "      <th>student_id</th>\n",
       "      <th>name</th>\n",
       "      <th>marks</th>\n",
       "    </tr>\n",
       "  </thead>\n",
       "  <tbody>\n",
       "    <tr>\n",
       "      <th>0</th>\n",
       "      <td>S1</td>\n",
       "      <td>Danniella Fenton</td>\n",
       "      <td>200</td>\n",
       "    </tr>\n",
       "    <tr>\n",
       "      <th>1</th>\n",
       "      <td>S2</td>\n",
       "      <td>Ryder Storey</td>\n",
       "      <td>210</td>\n",
       "    </tr>\n",
       "    <tr>\n",
       "      <th>2</th>\n",
       "      <td>S3</td>\n",
       "      <td>Bryce Jensen</td>\n",
       "      <td>190</td>\n",
       "    </tr>\n",
       "    <tr>\n",
       "      <th>3</th>\n",
       "      <td>S4</td>\n",
       "      <td>Ed Bernal</td>\n",
       "      <td>222</td>\n",
       "    </tr>\n",
       "    <tr>\n",
       "      <th>4</th>\n",
       "      <td>S5</td>\n",
       "      <td>Kwame Morin</td>\n",
       "      <td>199</td>\n",
       "    </tr>\n",
       "  </tbody>\n",
       "</table>\n",
       "</div>"
      ],
      "text/plain": [
       "  student_id              name  marks\n",
       "0  S1         Danniella Fenton  200  \n",
       "1  S2         Ryder Storey      210  \n",
       "2  S3         Bryce Jensen      190  \n",
       "3  S4         Ed Bernal         222  \n",
       "4  S5         Kwame Morin       199  "
      ]
     },
     "execution_count": 56,
     "metadata": {},
     "output_type": "execute_result"
    }
   ],
   "source": [
    "student_data1"
   ]
  },
  {
   "cell_type": "code",
   "execution_count": 58,
   "metadata": {
    "ExecuteTime": {
     "end_time": "2022-07-29T15:14:18.848728Z",
     "start_time": "2022-07-29T15:14:18.827385Z"
    }
   },
   "outputs": [
    {
     "data": {
      "text/html": [
       "<div>\n",
       "<style scoped>\n",
       "    .dataframe tbody tr th:only-of-type {\n",
       "        vertical-align: middle;\n",
       "    }\n",
       "\n",
       "    .dataframe tbody tr th {\n",
       "        vertical-align: top;\n",
       "    }\n",
       "\n",
       "    .dataframe thead th {\n",
       "        text-align: right;\n",
       "    }\n",
       "</style>\n",
       "<table border=\"1\" class=\"dataframe\">\n",
       "  <thead>\n",
       "    <tr style=\"text-align: right;\">\n",
       "      <th></th>\n",
       "      <th>student_id</th>\n",
       "      <th>name</th>\n",
       "      <th>marks</th>\n",
       "    </tr>\n",
       "  </thead>\n",
       "  <tbody>\n",
       "    <tr>\n",
       "      <th>0</th>\n",
       "      <td>S4</td>\n",
       "      <td>Scarlette Fisher</td>\n",
       "      <td>201</td>\n",
       "    </tr>\n",
       "    <tr>\n",
       "      <th>1</th>\n",
       "      <td>S5</td>\n",
       "      <td>Carla Williamson</td>\n",
       "      <td>200</td>\n",
       "    </tr>\n",
       "    <tr>\n",
       "      <th>2</th>\n",
       "      <td>S6</td>\n",
       "      <td>Dante Morse</td>\n",
       "      <td>198</td>\n",
       "    </tr>\n",
       "    <tr>\n",
       "      <th>3</th>\n",
       "      <td>S7</td>\n",
       "      <td>Kaiser William</td>\n",
       "      <td>219</td>\n",
       "    </tr>\n",
       "    <tr>\n",
       "      <th>4</th>\n",
       "      <td>S8</td>\n",
       "      <td>Madeeha Preston</td>\n",
       "      <td>201</td>\n",
       "    </tr>\n",
       "  </tbody>\n",
       "</table>\n",
       "</div>"
      ],
      "text/plain": [
       "  student_id              name  marks\n",
       "0  S4         Scarlette Fisher  201  \n",
       "1  S5         Carla Williamson  200  \n",
       "2  S6         Dante Morse       198  \n",
       "3  S7         Kaiser William    219  \n",
       "4  S8         Madeeha Preston   201  "
      ]
     },
     "execution_count": 58,
     "metadata": {},
     "output_type": "execute_result"
    }
   ],
   "source": [
    "student_data2"
   ]
  },
  {
   "cell_type": "code",
   "execution_count": 55,
   "metadata": {
    "ExecuteTime": {
     "end_time": "2022-07-29T15:13:48.528119Z",
     "start_time": "2022-07-29T15:13:48.497181Z"
    }
   },
   "outputs": [
    {
     "ename": "KeyError",
     "evalue": "'key1'",
     "output_type": "error",
     "traceback": [
      "\u001b[1;31m---------------------------------------------------------------------------\u001b[0m",
      "\u001b[1;31mKeyError\u001b[0m                                  Traceback (most recent call last)",
      "\u001b[1;32m~\\AppData\\Local\\Temp\\ipykernel_17656\\3012228341.py\u001b[0m in \u001b[0;36m<module>\u001b[1;34m\u001b[0m\n\u001b[1;32m----> 1\u001b[1;33m \u001b[0mmerged_data\u001b[0m \u001b[1;33m=\u001b[0m \u001b[0mpd\u001b[0m\u001b[1;33m.\u001b[0m\u001b[0mmerge\u001b[0m\u001b[1;33m(\u001b[0m\u001b[0mstudent_data1\u001b[0m\u001b[1;33m,\u001b[0m \u001b[0mstudent_data2\u001b[0m\u001b[1;33m,\u001b[0m \u001b[0mhow\u001b[0m\u001b[1;33m=\u001b[0m\u001b[1;34m'left'\u001b[0m\u001b[1;33m,\u001b[0m \u001b[0mon\u001b[0m\u001b[1;33m=\u001b[0m\u001b[1;33m[\u001b[0m\u001b[1;34m'key1'\u001b[0m\u001b[1;33m,\u001b[0m \u001b[1;34m'key2'\u001b[0m\u001b[1;33m]\u001b[0m\u001b[1;33m)\u001b[0m\u001b[1;33m\u001b[0m\u001b[0m\n\u001b[0m\u001b[0;32m      2\u001b[0m \u001b[0mprint\u001b[0m\u001b[1;33m(\u001b[0m\u001b[0mmerged_data\u001b[0m\u001b[1;33m)\u001b[0m\u001b[1;33m\u001b[0m\u001b[0m\n\u001b[0;32m      3\u001b[0m \u001b[0mprint\u001b[0m\u001b[1;33m(\u001b[0m\u001b[1;34m\"\\nMerged Data (keys from data2):\"\u001b[0m\u001b[1;33m)\u001b[0m\u001b[1;33m\u001b[0m\u001b[0m\n\u001b[0;32m      4\u001b[0m \u001b[0mmerged_data\u001b[0m \u001b[1;33m=\u001b[0m \u001b[0mpd\u001b[0m\u001b[1;33m.\u001b[0m\u001b[0mmerge\u001b[0m\u001b[1;33m(\u001b[0m\u001b[0mstudent_data1\u001b[0m\u001b[1;33m,\u001b[0m \u001b[0mstudent_data2\u001b[0m\u001b[1;33m,\u001b[0m \u001b[0mhow\u001b[0m\u001b[1;33m=\u001b[0m\u001b[1;34m'left'\u001b[0m\u001b[1;33m,\u001b[0m \u001b[0mon\u001b[0m\u001b[1;33m=\u001b[0m\u001b[1;33m[\u001b[0m\u001b[1;34m'key1'\u001b[0m\u001b[1;33m,\u001b[0m \u001b[1;34m'key2'\u001b[0m\u001b[1;33m]\u001b[0m\u001b[1;33m)\u001b[0m\u001b[1;33m\u001b[0m\u001b[0m\n\u001b[0;32m      5\u001b[0m \u001b[0mprint\u001b[0m\u001b[1;33m(\u001b[0m\u001b[0mmerged_data\u001b[0m\u001b[1;33m)\u001b[0m\u001b[1;33m\u001b[0m\u001b[0m\n",
      "\u001b[1;32m~\\AppData\\Roaming\\Python\\Python37\\site-packages\\pandas\\core\\reshape\\merge.py\u001b[0m in \u001b[0;36mmerge\u001b[1;34m(left, right, how, on, left_on, right_on, left_index, right_index, sort, suffixes, copy, indicator, validate)\u001b[0m\n\u001b[0;32m     85\u001b[0m         \u001b[0mcopy\u001b[0m\u001b[1;33m=\u001b[0m\u001b[0mcopy\u001b[0m\u001b[1;33m,\u001b[0m\u001b[1;33m\u001b[0m\u001b[0m\n\u001b[0;32m     86\u001b[0m         \u001b[0mindicator\u001b[0m\u001b[1;33m=\u001b[0m\u001b[0mindicator\u001b[0m\u001b[1;33m,\u001b[0m\u001b[1;33m\u001b[0m\u001b[0m\n\u001b[1;32m---> 87\u001b[1;33m         \u001b[0mvalidate\u001b[0m\u001b[1;33m=\u001b[0m\u001b[0mvalidate\u001b[0m\u001b[1;33m,\u001b[0m\u001b[1;33m\u001b[0m\u001b[0m\n\u001b[0m\u001b[0;32m     88\u001b[0m     )\n\u001b[0;32m     89\u001b[0m     \u001b[1;32mreturn\u001b[0m \u001b[0mop\u001b[0m\u001b[1;33m.\u001b[0m\u001b[0mget_result\u001b[0m\u001b[1;33m(\u001b[0m\u001b[1;33m)\u001b[0m\u001b[1;33m\u001b[0m\u001b[0m\n",
      "\u001b[1;32m~\\AppData\\Roaming\\Python\\Python37\\site-packages\\pandas\\core\\reshape\\merge.py\u001b[0m in \u001b[0;36m__init__\u001b[1;34m(self, left, right, how, on, left_on, right_on, axis, left_index, right_index, sort, suffixes, copy, indicator, validate)\u001b[0m\n\u001b[0;32m    650\u001b[0m             \u001b[0mself\u001b[0m\u001b[1;33m.\u001b[0m\u001b[0mright_join_keys\u001b[0m\u001b[1;33m,\u001b[0m\u001b[1;33m\u001b[0m\u001b[0m\n\u001b[0;32m    651\u001b[0m             \u001b[0mself\u001b[0m\u001b[1;33m.\u001b[0m\u001b[0mjoin_names\u001b[0m\u001b[1;33m,\u001b[0m\u001b[1;33m\u001b[0m\u001b[0m\n\u001b[1;32m--> 652\u001b[1;33m         ) = self._get_merge_keys()\n\u001b[0m\u001b[0;32m    653\u001b[0m \u001b[1;33m\u001b[0m\u001b[0m\n\u001b[0;32m    654\u001b[0m         \u001b[1;31m# validate the merge keys dtypes. We may need to coerce\u001b[0m\u001b[1;33m\u001b[0m\u001b[1;33m\u001b[0m\u001b[0m\n",
      "\u001b[1;32m~\\AppData\\Roaming\\Python\\Python37\\site-packages\\pandas\\core\\reshape\\merge.py\u001b[0m in \u001b[0;36m_get_merge_keys\u001b[1;34m(self)\u001b[0m\n\u001b[0;32m   1003\u001b[0m                     \u001b[1;32mif\u001b[0m \u001b[1;32mnot\u001b[0m \u001b[0mis_rkey\u001b[0m\u001b[1;33m(\u001b[0m\u001b[0mrk\u001b[0m\u001b[1;33m)\u001b[0m\u001b[1;33m:\u001b[0m\u001b[1;33m\u001b[0m\u001b[0m\n\u001b[0;32m   1004\u001b[0m                         \u001b[1;32mif\u001b[0m \u001b[0mrk\u001b[0m \u001b[1;32mis\u001b[0m \u001b[1;32mnot\u001b[0m \u001b[1;32mNone\u001b[0m\u001b[1;33m:\u001b[0m\u001b[1;33m\u001b[0m\u001b[0m\n\u001b[1;32m-> 1005\u001b[1;33m                             \u001b[0mright_keys\u001b[0m\u001b[1;33m.\u001b[0m\u001b[0mappend\u001b[0m\u001b[1;33m(\u001b[0m\u001b[0mright\u001b[0m\u001b[1;33m.\u001b[0m\u001b[0m_get_label_or_level_values\u001b[0m\u001b[1;33m(\u001b[0m\u001b[0mrk\u001b[0m\u001b[1;33m)\u001b[0m\u001b[1;33m)\u001b[0m\u001b[1;33m\u001b[0m\u001b[0m\n\u001b[0m\u001b[0;32m   1006\u001b[0m                         \u001b[1;32melse\u001b[0m\u001b[1;33m:\u001b[0m\u001b[1;33m\u001b[0m\u001b[0m\n\u001b[0;32m   1007\u001b[0m                             \u001b[1;31m# work-around for merge_asof(right_index=True)\u001b[0m\u001b[1;33m\u001b[0m\u001b[1;33m\u001b[0m\u001b[0m\n",
      "\u001b[1;32m~\\AppData\\Roaming\\Python\\Python37\\site-packages\\pandas\\core\\generic.py\u001b[0m in \u001b[0;36m_get_label_or_level_values\u001b[1;34m(self, key, axis)\u001b[0m\n\u001b[0;32m   1561\u001b[0m             \u001b[0mvalues\u001b[0m \u001b[1;33m=\u001b[0m \u001b[0mself\u001b[0m\u001b[1;33m.\u001b[0m\u001b[0maxes\u001b[0m\u001b[1;33m[\u001b[0m\u001b[0maxis\u001b[0m\u001b[1;33m]\u001b[0m\u001b[1;33m.\u001b[0m\u001b[0mget_level_values\u001b[0m\u001b[1;33m(\u001b[0m\u001b[0mkey\u001b[0m\u001b[1;33m)\u001b[0m\u001b[1;33m.\u001b[0m\u001b[0m_values\u001b[0m\u001b[1;33m\u001b[0m\u001b[0m\n\u001b[0;32m   1562\u001b[0m         \u001b[1;32melse\u001b[0m\u001b[1;33m:\u001b[0m\u001b[1;33m\u001b[0m\u001b[0m\n\u001b[1;32m-> 1563\u001b[1;33m             \u001b[1;32mraise\u001b[0m \u001b[0mKeyError\u001b[0m\u001b[1;33m(\u001b[0m\u001b[0mkey\u001b[0m\u001b[1;33m)\u001b[0m\u001b[1;33m\u001b[0m\u001b[0m\n\u001b[0m\u001b[0;32m   1564\u001b[0m \u001b[1;33m\u001b[0m\u001b[0m\n\u001b[0;32m   1565\u001b[0m         \u001b[1;31m# Check for duplicates\u001b[0m\u001b[1;33m\u001b[0m\u001b[1;33m\u001b[0m\u001b[0m\n",
      "\u001b[1;31mKeyError\u001b[0m: 'key1'"
     ]
    }
   ],
   "source": [
    "merged_data = pd.merge(student_data1, student_data2, how='left', on=['student_id', 'name'])\n",
    "print(merged_data)\n",
    "print(\"\\nMerged Data (keys from data2):\")\n",
    "merged_data = pd.merge(student_data1, student_data2, how='left', on=['student_id', 'name'])\n",
    "print(merged_data)"
   ]
  },
  {
   "cell_type": "code",
   "execution_count": null,
   "metadata": {},
   "outputs": [],
   "source": []
  },
  {
   "cell_type": "code",
   "execution_count": null,
   "metadata": {},
   "outputs": [],
   "source": []
  },
  {
   "cell_type": "markdown",
   "metadata": {},
   "source": [
    "# Healthcare dataset"
   ]
  },
  {
   "cell_type": "markdown",
   "metadata": {},
   "source": [
    "read csv files named \n",
    "raw_data.csv, 29_dec_healthcare_new.csv \n",
    "MT_data_from_raw - covid_faq.csv from resources folder"
   ]
  },
  {
   "cell_type": "code",
   "execution_count": 15,
   "metadata": {
    "ExecuteTime": {
     "end_time": "2022-07-29T13:19:53.507299Z",
     "start_time": "2022-07-29T13:19:53.434722Z"
    }
   },
   "outputs": [],
   "source": [
    "df_raw = pd.read_csv('resources/raw_data.csv')\n",
    "df_healthcare = pd.read_csv('29_dec_healthcare_new.csv')\n",
    "df_covid = pd.read_csv('MT_data_from_raw - covid_faq.csv')"
   ]
  },
  {
   "cell_type": "code",
   "execution_count": 24,
   "metadata": {
    "ExecuteTime": {
     "end_time": "2022-07-29T13:23:37.717917Z",
     "start_time": "2022-07-29T13:23:37.704762Z"
    }
   },
   "outputs": [
    {
     "data": {
      "text/html": [
       "<div>\n",
       "<style scoped>\n",
       "    .dataframe tbody tr th:only-of-type {\n",
       "        vertical-align: middle;\n",
       "    }\n",
       "\n",
       "    .dataframe tbody tr th {\n",
       "        vertical-align: top;\n",
       "    }\n",
       "\n",
       "    .dataframe thead th {\n",
       "        text-align: right;\n",
       "    }\n",
       "</style>\n",
       "<table border=\"1\" class=\"dataframe\">\n",
       "  <thead>\n",
       "    <tr style=\"text-align: right;\">\n",
       "      <th></th>\n",
       "      <th>0</th>\n",
       "      <th>idx</th>\n",
       "    </tr>\n",
       "  </thead>\n",
       "  <tbody>\n",
       "    <tr>\n",
       "      <th>0</th>\n",
       "      <td>သွေးတိုး ကျ စေ တယ်</td>\n",
       "      <td>idx_new_health_0</td>\n",
       "    </tr>\n",
       "    <tr>\n",
       "      <th>1</th>\n",
       "      <td>ဆီးချို တိုင်း ကြည့် ပါ</td>\n",
       "      <td>idx_new_health_1</td>\n",
       "    </tr>\n",
       "    <tr>\n",
       "      <th>2</th>\n",
       "      <td>ဆီးချို အတွက် ဆေး လား</td>\n",
       "      <td>idx_new_health_2</td>\n",
       "    </tr>\n",
       "    <tr>\n",
       "      <th>3</th>\n",
       "      <td>သွေးတိုး နေ လို့ ပါ</td>\n",
       "      <td>idx_new_health_3</td>\n",
       "    </tr>\n",
       "    <tr>\n",
       "      <th>4</th>\n",
       "      <td>ဆီးချို ကို လဲ ကျ စေ တယ်</td>\n",
       "      <td>idx_new_health_4</td>\n",
       "    </tr>\n",
       "    <tr>\n",
       "      <th>...</th>\n",
       "      <td>...</td>\n",
       "      <td>...</td>\n",
       "    </tr>\n",
       "    <tr>\n",
       "      <th>691</th>\n",
       "      <td>၀က်တစ်သျှူး လို အရာ တွေ က တော့ လက် ကို သုတ် မယ့် အစား ပစ္စည်း တွေ ကို သန့်ရှင်းရေး လုပ် ဖို့ လောက် ပဲ သင့်တော် ပါ တယ် တဲ့</td>\n",
       "      <td>idx_new_health_313</td>\n",
       "    </tr>\n",
       "    <tr>\n",
       "      <th>692</th>\n",
       "      <td>ကိုရိုနာ ဗိုင်းရပ်စ် ကူးစက် ခံ ရ သော ကလေး များ တွင် အူလမ်းကြောင်း ဆိုင်ရာ ဝေဒနာ များ မျက်စိ နဲ့ နှလုံး ရောဂါ သွေးကြော နံရံ များ ရောင်ရမ်း ခြင်း နဲ့ သွေးဆိပ် တက် ရော</td>\n",
       "      <td>idx_new_health_314</td>\n",
       "    </tr>\n",
       "    <tr>\n",
       "      <th>693</th>\n",
       "      <td>ချက်ချင်း လျှော် ပါ</td>\n",
       "      <td>idx_new_health_315</td>\n",
       "    </tr>\n",
       "    <tr>\n",
       "      <th>694</th>\n",
       "      <td>သေချာ အခြောက်ခံ ပါ</td>\n",
       "      <td>idx_new_health_316</td>\n",
       "    </tr>\n",
       "    <tr>\n",
       "      <th>695</th>\n",
       "      <td>အဝတ် တွေ ကို ခါ တာ မျိုး မ လုပ် ပါ နဲ့ ပိုး တွေ ပြန့် သွား နိုင် လို့ ပါ</td>\n",
       "      <td>idx_new_health_317</td>\n",
       "    </tr>\n",
       "  </tbody>\n",
       "</table>\n",
       "<p>696 rows × 2 columns</p>\n",
       "</div>"
      ],
      "text/plain": [
       "                                                                                                                                                                        0  \\\n",
       "0    သွေးတိုး ကျ စေ တယ်                                                                                                                                                     \n",
       "1    ဆီးချို တိုင်း ကြည့် ပါ                                                                                                                                                \n",
       "2    ဆီးချို အတွက် ဆေး လား                                                                                                                                                  \n",
       "3    သွေးတိုး နေ လို့ ပါ                                                                                                                                                    \n",
       "4    ဆီးချို ကို လဲ ကျ စေ တယ်                                                                                                                                               \n",
       "..                        ...                                                                                                                                               \n",
       "691  ၀က်တစ်သျှူး လို အရာ တွေ က တော့ လက် ကို သုတ် မယ့် အစား ပစ္စည်း တွေ ကို သန့်ရှင်းရေး လုပ် ဖို့ လောက် ပဲ သင့်တော် ပါ တယ် တဲ့                                              \n",
       "692  ကိုရိုနာ ဗိုင်းရပ်စ် ကူးစက် ခံ ရ သော ကလေး များ တွင် အူလမ်းကြောင်း ဆိုင်ရာ ဝေဒနာ များ မျက်စိ နဲ့ နှလုံး ရောဂါ သွေးကြော နံရံ များ ရောင်ရမ်း ခြင်း နဲ့ သွေးဆိပ် တက် ရော   \n",
       "693  ချက်ချင်း လျှော် ပါ                                                                                                                                                    \n",
       "694  သေချာ အခြောက်ခံ ပါ                                                                                                                                                     \n",
       "695  အဝတ် တွေ ကို ခါ တာ မျိုး မ လုပ် ပါ နဲ့ ပိုး တွေ ပြန့် သွား နိုင် လို့ ပါ                                                                                               \n",
       "\n",
       "                    idx  \n",
       "0    idx_new_health_0    \n",
       "1    idx_new_health_1    \n",
       "2    idx_new_health_2    \n",
       "3    idx_new_health_3    \n",
       "4    idx_new_health_4    \n",
       "..                ...    \n",
       "691  idx_new_health_313  \n",
       "692  idx_new_health_314  \n",
       "693  idx_new_health_315  \n",
       "694  idx_new_health_316  \n",
       "695  idx_new_health_317  \n",
       "\n",
       "[696 rows x 2 columns]"
      ]
     },
     "execution_count": 24,
     "metadata": {},
     "output_type": "execute_result"
    }
   ],
   "source": [
    "df_healthcare"
   ]
  },
  {
   "cell_type": "markdown",
   "metadata": {},
   "source": [
    "## make all csv with the same column names and index. Then combine them."
   ]
  },
  {
   "cell_type": "code",
   "execution_count": null,
   "metadata": {},
   "outputs": [],
   "source": []
  },
  {
   "cell_type": "markdown",
   "metadata": {},
   "source": [
    "## drop nan rows and duplicate rows"
   ]
  },
  {
   "cell_type": "code",
   "execution_count": null,
   "metadata": {},
   "outputs": [],
   "source": []
  },
  {
   "cell_type": "markdown",
   "metadata": {},
   "source": [
    "## Split the sentences with \"\\n and ။\""
   ]
  },
  {
   "cell_type": "code",
   "execution_count": null,
   "metadata": {},
   "outputs": [],
   "source": []
  },
  {
   "cell_type": "markdown",
   "metadata": {},
   "source": [
    "## Get sentence length of each rows"
   ]
  },
  {
   "cell_type": "code",
   "execution_count": null,
   "metadata": {},
   "outputs": [],
   "source": []
  },
  {
   "cell_type": "markdown",
   "metadata": {},
   "source": [
    "## remove punctuations from sentences"
   ]
  },
  {
   "cell_type": "code",
   "execution_count": null,
   "metadata": {},
   "outputs": [],
   "source": []
  },
  {
   "cell_type": "markdown",
   "metadata": {
    "ExecuteTime": {
     "end_time": "2022-07-29T13:21:11.723649Z",
     "start_time": "2022-07-29T13:21:11.719570Z"
    }
   },
   "source": [
    "## lower all english sentences"
   ]
  },
  {
   "cell_type": "code",
   "execution_count": null,
   "metadata": {},
   "outputs": [],
   "source": []
  },
  {
   "cell_type": "markdown",
   "metadata": {},
   "source": [
    "## get sentences with covid keywords"
   ]
  },
  {
   "cell_type": "code",
   "execution_count": null,
   "metadata": {},
   "outputs": [],
   "source": []
  },
  {
   "cell_type": "markdown",
   "metadata": {},
   "source": [
    "## get sentences with burmese end words"
   ]
  },
  {
   "cell_type": "code",
   "execution_count": null,
   "metadata": {},
   "outputs": [],
   "source": []
  }
 ],
 "metadata": {
  "kernelspec": {
   "display_name": "utility_env",
   "language": "python",
   "name": "utility_env"
  },
  "language_info": {
   "codemirror_mode": {
    "name": "ipython",
    "version": 3
   },
   "file_extension": ".py",
   "mimetype": "text/x-python",
   "name": "python",
   "nbconvert_exporter": "python",
   "pygments_lexer": "ipython3",
   "version": "3.7.0"
  },
  "toc": {
   "base_numbering": 1,
   "nav_menu": {},
   "number_sections": true,
   "sideBar": true,
   "skip_h1_title": false,
   "title_cell": "Table of Contents",
   "title_sidebar": "Contents",
   "toc_cell": false,
   "toc_position": {
    "height": "calc(100% - 180px)",
    "left": "10px",
    "top": "150px",
    "width": "289.307px"
   },
   "toc_section_display": true,
   "toc_window_display": true
  },
  "varInspector": {
   "cols": {
    "lenName": 16,
    "lenType": 16,
    "lenVar": 40
   },
   "kernels_config": {
    "python": {
     "delete_cmd_postfix": "",
     "delete_cmd_prefix": "del ",
     "library": "var_list.py",
     "varRefreshCmd": "print(var_dic_list())"
    },
    "r": {
     "delete_cmd_postfix": ") ",
     "delete_cmd_prefix": "rm(",
     "library": "var_list.r",
     "varRefreshCmd": "cat(var_dic_list()) "
    }
   },
   "types_to_exclude": [
    "module",
    "function",
    "builtin_function_or_method",
    "instance",
    "_Feature"
   ],
   "window_display": false
  }
 },
 "nbformat": 4,
 "nbformat_minor": 5
}
