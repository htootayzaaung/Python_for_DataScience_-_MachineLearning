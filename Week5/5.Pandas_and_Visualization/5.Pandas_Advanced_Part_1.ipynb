{
 "cells": [
  {
   "cell_type": "code",
   "execution_count": 1,
   "metadata": {
    "ExecuteTime": {
     "end_time": "2022-07-29T14:09:29.202499Z",
     "start_time": "2022-07-29T14:09:28.732415Z"
    }
   },
   "outputs": [],
   "source": [
    "import pandas as pd"
   ]
  },
  {
   "cell_type": "code",
   "execution_count": 2,
   "metadata": {
    "ExecuteTime": {
     "end_time": "2022-07-29T14:09:31.073706Z",
     "start_time": "2022-07-29T14:09:29.234770Z"
    }
   },
   "outputs": [],
   "source": [
    "invoices = pd.read_csv('https://raw.githubusercontent.com/FBosler/you-datascientist/master/invoices.csv')"
   ]
  },
  {
   "cell_type": "code",
   "execution_count": 3,
   "metadata": {
    "ExecuteTime": {
     "end_time": "2022-07-29T14:09:31.134610Z",
     "start_time": "2022-07-29T14:09:31.106928Z"
    }
   },
   "outputs": [
    {
     "data": {
      "text/html": [
       "<div>\n",
       "<style scoped>\n",
       "    .dataframe tbody tr th:only-of-type {\n",
       "        vertical-align: middle;\n",
       "    }\n",
       "\n",
       "    .dataframe tbody tr th {\n",
       "        vertical-align: top;\n",
       "    }\n",
       "\n",
       "    .dataframe thead th {\n",
       "        text-align: right;\n",
       "    }\n",
       "</style>\n",
       "<table border=\"1\" class=\"dataframe\">\n",
       "  <thead>\n",
       "    <tr style=\"text-align: right;\">\n",
       "      <th></th>\n",
       "      <th>Order Id</th>\n",
       "      <th>Date</th>\n",
       "      <th>Meal Id</th>\n",
       "      <th>Company Id</th>\n",
       "      <th>Date of Meal</th>\n",
       "      <th>Participants</th>\n",
       "      <th>Meal Price</th>\n",
       "      <th>Type of Meal</th>\n",
       "      <th>Heroes Adjustment</th>\n",
       "    </tr>\n",
       "  </thead>\n",
       "  <tbody>\n",
       "    <tr>\n",
       "      <th>0</th>\n",
       "      <td>839FKFW2LLX4LMBB</td>\n",
       "      <td>2016-05-27</td>\n",
       "      <td>INBUX904GIHI8YBD</td>\n",
       "      <td>LJKS5NK6788CYMUU</td>\n",
       "      <td>2016-05-31 07:00:00+02:00</td>\n",
       "      <td>['David Bishop']</td>\n",
       "      <td>469.0</td>\n",
       "      <td>Breakfast</td>\n",
       "      <td>False</td>\n",
       "    </tr>\n",
       "    <tr>\n",
       "      <th>1</th>\n",
       "      <td>97OX39BGVMHODLJM</td>\n",
       "      <td>2018-09-27</td>\n",
       "      <td>J0MMOOPP709DIDIE</td>\n",
       "      <td>LJKS5NK6788CYMUU</td>\n",
       "      <td>2018-10-01 20:00:00+02:00</td>\n",
       "      <td>['David Bishop']</td>\n",
       "      <td>22.0</td>\n",
       "      <td>Dinner</td>\n",
       "      <td>False</td>\n",
       "    </tr>\n",
       "    <tr>\n",
       "      <th>2</th>\n",
       "      <td>041ORQM5OIHTIU6L</td>\n",
       "      <td>2014-08-24</td>\n",
       "      <td>E4UJLQNCI16UX5CS</td>\n",
       "      <td>LJKS5NK6788CYMUU</td>\n",
       "      <td>2014-08-23 14:00:00+02:00</td>\n",
       "      <td>['Karen Stansell']</td>\n",
       "      <td>314.0</td>\n",
       "      <td>Lunch</td>\n",
       "      <td>False</td>\n",
       "    </tr>\n",
       "    <tr>\n",
       "      <th>3</th>\n",
       "      <td>YT796QI18WNGZ7ZJ</td>\n",
       "      <td>2014-04-12</td>\n",
       "      <td>C9SDFHF7553BE247</td>\n",
       "      <td>LJKS5NK6788CYMUU</td>\n",
       "      <td>2014-04-07 21:00:00+02:00</td>\n",
       "      <td>['Addie Patino']</td>\n",
       "      <td>438.0</td>\n",
       "      <td>Dinner</td>\n",
       "      <td>False</td>\n",
       "    </tr>\n",
       "    <tr>\n",
       "      <th>4</th>\n",
       "      <td>6YLROQT27B6HRF4E</td>\n",
       "      <td>2015-07-28</td>\n",
       "      <td>48EQXS6IHYNZDDZ5</td>\n",
       "      <td>LJKS5NK6788CYMUU</td>\n",
       "      <td>2015-07-27 14:00:00+02:00</td>\n",
       "      <td>['Addie Patino' 'Susan Guerrero']</td>\n",
       "      <td>690.0</td>\n",
       "      <td>Lunch</td>\n",
       "      <td>False</td>\n",
       "    </tr>\n",
       "  </tbody>\n",
       "</table>\n",
       "</div>"
      ],
      "text/plain": [
       "           Order Id        Date           Meal Id        Company Id  \\\n",
       "0  839FKFW2LLX4LMBB  2016-05-27  INBUX904GIHI8YBD  LJKS5NK6788CYMUU   \n",
       "1  97OX39BGVMHODLJM  2018-09-27  J0MMOOPP709DIDIE  LJKS5NK6788CYMUU   \n",
       "2  041ORQM5OIHTIU6L  2014-08-24  E4UJLQNCI16UX5CS  LJKS5NK6788CYMUU   \n",
       "3  YT796QI18WNGZ7ZJ  2014-04-12  C9SDFHF7553BE247  LJKS5NK6788CYMUU   \n",
       "4  6YLROQT27B6HRF4E  2015-07-28  48EQXS6IHYNZDDZ5  LJKS5NK6788CYMUU   \n",
       "\n",
       "                Date of Meal                       Participants  Meal Price  \\\n",
       "0  2016-05-31 07:00:00+02:00                   ['David Bishop']       469.0   \n",
       "1  2018-10-01 20:00:00+02:00                   ['David Bishop']        22.0   \n",
       "2  2014-08-23 14:00:00+02:00                 ['Karen Stansell']       314.0   \n",
       "3  2014-04-07 21:00:00+02:00                   ['Addie Patino']       438.0   \n",
       "4  2015-07-27 14:00:00+02:00  ['Addie Patino' 'Susan Guerrero']       690.0   \n",
       "\n",
       "  Type of Meal  Heroes Adjustment  \n",
       "0    Breakfast              False  \n",
       "1       Dinner              False  \n",
       "2        Lunch              False  \n",
       "3       Dinner              False  \n",
       "4        Lunch              False  "
      ]
     },
     "execution_count": 3,
     "metadata": {},
     "output_type": "execute_result"
    }
   ],
   "source": [
    "invoices.head()"
   ]
  },
  {
   "cell_type": "markdown",
   "metadata": {},
   "source": [
    "##  Data Types and Conversions"
   ]
  },
  {
   "cell_type": "markdown",
   "metadata": {},
   "source": [
    "###  Available data types\n",
    "    - object : This data type is used for strings (i.e., sequences of characters)\n",
    "    - int64 : Used for integers (whole numbers, no decimals)\n",
    "    - float64 : Used for floating-point numbers (i.e., figures with decimals/fractions)\n",
    "    - bool : Used for values that can only be True/False\n",
    "    - datetime64 : Used for date and time values\n",
    "    - timedelta : Used to represent the difference between datetimes\n",
    "    - category : The category data type in pandas is a hybrid data type. It looks and behaves like a string in many instances but internally is represented by an array of integers. This allows the data to be sorted in a custom order and to more efficiently store the data."
   ]
  },
  {
   "cell_type": "code",
   "execution_count": 5,
   "metadata": {
    "ExecuteTime": {
     "end_time": "2022-06-11T10:05:11.880239Z",
     "start_time": "2022-06-11T10:05:11.845035Z"
    }
   },
   "outputs": [
    {
     "data": {
      "image/png": "[encoded data removed]",
      "text/plain": [
       "<IPython.core.display.Image object>"
      ]
     },
     "execution_count": 5,
     "metadata": {},
     "output_type": "execute_result"
    }
   ],
   "source": [
    "from IPython.display import Image\n",
    "\n",
    "Image(filename='resources//Screenshot from 2020-02-03 22-59-05.png') "
   ]
  },
  {
   "cell_type": "markdown",
   "metadata": {},
   "source": [
    "## Converting Data Types"
   ]
  },
  {
   "cell_type": "markdown",
   "metadata": {},
   "source": [
    "- There are two standard ways of converting pandas data types:\n",
    "    - <column>.astype(<desired type>)\n",
    "    - conversion helper functions, like pd.to_numeric or pd.to_datetime"
   ]
  },
  {
   "cell_type": "markdown",
   "metadata": {},
   "source": [
    "### astype\n",
    "- astype is quick and works well with clean data and when the conversion is straight forward, e.g., from int64 to float64 (or vice versa).\n",
    "- astype has to be called directly on the column that you want to convert."
   ]
  },
  {
   "cell_type": "code",
   "execution_count": 4,
   "metadata": {
    "ExecuteTime": {
     "end_time": "2022-07-29T14:09:37.438086Z",
     "start_time": "2022-07-29T14:09:37.384805Z"
    }
   },
   "outputs": [
    {
     "name": "stdout",
     "output_type": "stream",
     "text": [
      "<class 'pandas.core.frame.DataFrame'>\n",
      "RangeIndex: 50017 entries, 0 to 50016\n",
      "Data columns (total 9 columns):\n",
      " #   Column             Non-Null Count  Dtype  \n",
      "---  ------             --------------  -----  \n",
      " 0   Order Id           50017 non-null  object \n",
      " 1   Date               50017 non-null  object \n",
      " 2   Meal Id            50017 non-null  object \n",
      " 3   Company Id         50017 non-null  object \n",
      " 4   Date of Meal       50017 non-null  object \n",
      " 5   Participants       50017 non-null  object \n",
      " 6   Meal Price         50017 non-null  float64\n",
      " 7   Type of Meal       50017 non-null  object \n",
      " 8   Heroes Adjustment  50017 non-null  bool   \n",
      "dtypes: bool(1), float64(1), object(7)\n",
      "memory usage: 3.1+ MB\n"
     ]
    }
   ],
   "source": [
    "invoices.info()"
   ]
  },
  {
   "cell_type": "code",
   "execution_count": 5,
   "metadata": {
    "ExecuteTime": {
     "end_time": "2022-07-29T14:09:37.887670Z",
     "start_time": "2022-07-29T14:09:37.820313Z"
    }
   },
   "outputs": [],
   "source": [
    "invoices['Type of Meal'] = invoices['Type of Meal'].astype('category')\n",
    "invoices['Date'] = invoices['Date'].astype('datetime64')\n",
    "invoices['Meal Price'] = invoices['Meal Price'].astype('int')"
   ]
  },
  {
   "cell_type": "code",
   "execution_count": 6,
   "metadata": {
    "ExecuteTime": {
     "end_time": "2022-07-29T14:09:38.138390Z",
     "start_time": "2022-07-29T14:09:38.105143Z"
    }
   },
   "outputs": [
    {
     "name": "stdout",
     "output_type": "stream",
     "text": [
      "<class 'pandas.core.frame.DataFrame'>\n",
      "RangeIndex: 50017 entries, 0 to 50016\n",
      "Data columns (total 9 columns):\n",
      " #   Column             Non-Null Count  Dtype         \n",
      "---  ------             --------------  -----         \n",
      " 0   Order Id           50017 non-null  object        \n",
      " 1   Date               50017 non-null  datetime64[ns]\n",
      " 2   Meal Id            50017 non-null  object        \n",
      " 3   Company Id         50017 non-null  object        \n",
      " 4   Date of Meal       50017 non-null  object        \n",
      " 5   Participants       50017 non-null  object        \n",
      " 6   Meal Price         50017 non-null  int32         \n",
      " 7   Type of Meal       50017 non-null  category      \n",
      " 8   Heroes Adjustment  50017 non-null  bool          \n",
      "dtypes: bool(1), category(1), datetime64[ns](1), int32(1), object(5)\n",
      "memory usage: 2.6+ MB\n"
     ]
    }
   ],
   "source": [
    "invoices.info()"
   ]
  },
  {
   "cell_type": "code",
   "execution_count": 7,
   "metadata": {
    "ExecuteTime": {
     "end_time": "2022-07-29T14:09:38.542624Z",
     "start_time": "2022-07-29T14:09:38.519731Z"
    }
   },
   "outputs": [
    {
     "data": {
      "text/plain": [
       "Order Id                     object\n",
       "Date                 datetime64[ns]\n",
       "Meal Id                      object\n",
       "Company Id                   object\n",
       "Date of Meal                 object\n",
       "Participants                 object\n",
       "Meal Price                    int32\n",
       "Type of Meal               category\n",
       "Heroes Adjustment              bool\n",
       "dtype: object"
      ]
     },
     "execution_count": 7,
     "metadata": {},
     "output_type": "execute_result"
    }
   ],
   "source": [
    "invoices.dtypes"
   ]
  },
  {
   "cell_type": "markdown",
   "metadata": {},
   "source": [
    "### conversion helper functions"
   ]
  },
  {
   "cell_type": "markdown",
   "metadata": {},
   "source": [
    "- There are three pd.to_<some_type> functions, but for me, only two of them come up frequently:\n",
    "    - pd.to_numeric()\n",
    "    - pd.to_datetime()\n",
    "    - pd.to_timedelta() (I can’t remember if I’ve ever used this one, to be honest)\n",
    "    \n",
    "    \n",
    "    \n",
    "- Their main advantage over astype, is that it is possible to specify the behavior in case a value is encountered, that can not be converted.\n",
    "\n",
    "- Both functions accept an additional parameter errors that defines how errors should be treated. \n",
    "- We could choose to ignore errors by passingerrors='ignore' , or turn the offending values into np.nan values by passing errors='coerce'. \n",
    "- The default behavior is to raise errors."
   ]
  },
  {
   "cell_type": "markdown",
   "metadata": {},
   "source": [
    "#### pd.to_numeric"
   ]
  },
  {
   "cell_type": "code",
   "execution_count": 8,
   "metadata": {
    "ExecuteTime": {
     "end_time": "2022-07-29T14:09:40.649452Z",
     "start_time": "2022-07-29T14:09:40.633037Z"
    }
   },
   "outputs": [],
   "source": [
    "invoices.loc[45612,'Meal Price'] = 'I am causing trouble'\n",
    "invoices.loc[35612,'Meal Price'] = 'Me too'"
   ]
  },
  {
   "cell_type": "code",
   "execution_count": 9,
   "metadata": {
    "ExecuteTime": {
     "end_time": "2022-07-29T14:09:41.021812Z",
     "start_time": "2022-07-29T14:09:40.998309Z"
    }
   },
   "outputs": [
    {
     "data": {
      "text/plain": [
       "<class 'int'>    50015\n",
       "<class 'str'>        2\n",
       "Name: Meal Price, dtype: int64"
      ]
     },
     "execution_count": 9,
     "metadata": {},
     "output_type": "execute_result"
    }
   ],
   "source": [
    "invoices['Meal Price'].apply(lambda x: type(x)).value_counts()"
   ]
  },
  {
   "cell_type": "code",
   "execution_count": 10,
   "metadata": {
    "ExecuteTime": {
     "end_time": "2022-07-29T14:09:41.303005Z",
     "start_time": "2022-07-29T14:09:41.272655Z"
    }
   },
   "outputs": [
    {
     "data": {
      "text/plain": [
       "35612                  Me too\n",
       "45612    I am causing trouble\n",
       "Name: Meal Price, dtype: object"
      ]
     },
     "execution_count": 10,
     "metadata": {},
     "output_type": "execute_result"
    }
   ],
   "source": [
    "invoices['Meal Price'][invoices['Meal Price'].apply(lambda x: isinstance(x,str))]"
   ]
  },
  {
   "cell_type": "code",
   "execution_count": 11,
   "metadata": {
    "ExecuteTime": {
     "end_time": "2022-07-29T14:09:41.816777Z",
     "start_time": "2022-07-29T14:09:41.767770Z"
    }
   },
   "outputs": [
    {
     "data": {
      "text/plain": [
       "0        469\n",
       "1         22\n",
       "2        314\n",
       "3        438\n",
       "4        690\n",
       "        ... \n",
       "50012      9\n",
       "50013     25\n",
       "50014    160\n",
       "50015    497\n",
       "50016    365\n",
       "Name: Meal Price, Length: 50017, dtype: int32"
      ]
     },
     "execution_count": 11,
     "metadata": {},
     "output_type": "execute_result"
    }
   ],
   "source": [
    "# convert the offending values into np.nan\n",
    "invoices['Meal Price'] = pd.to_numeric(invoices['Meal Price'],errors='coerce')\n",
    "# fill np.nan with the median of the data\n",
    "invoices['Meal Price'] = invoices['Meal Price'].fillna(invoices['Meal Price'].median())\n",
    "# convert the column into integer\n",
    "invoices['Meal Price'].astype(int)"
   ]
  },
  {
   "cell_type": "markdown",
   "metadata": {},
   "source": [
    "#### pd.to_datetime()"
   ]
  },
  {
   "cell_type": "code",
   "execution_count": 12,
   "metadata": {
    "ExecuteTime": {
     "end_time": "2022-07-29T14:09:42.790364Z",
     "start_time": "2022-07-29T14:09:42.771092Z"
    }
   },
   "outputs": [
    {
     "name": "stdout",
     "output_type": "stream",
     "text": [
      "2019-08-01 00:00:00\n",
      "2019-08-01 00:00:00\n",
      "2019-08-01 00:00:00\n",
      "2019-08-01 00:00:00\n",
      "2019-08-01 00:00:00\n",
      "2019-08-01 00:00:00\n",
      "2019-08-01 00:00:00\n",
      "2019-01-08 00:00:00\n"
     ]
    }
   ],
   "source": [
    "print(pd.to_datetime('2019-8-1'))\n",
    "print(pd.to_datetime('2019/8/1'))\n",
    "print(pd.to_datetime('8/1/2019'))\n",
    "print(pd.to_datetime('Aug, 1 2019'))\n",
    "print(pd.to_datetime('Aug - 1 2019'))\n",
    "print(pd.to_datetime('August - 1 2019'))\n",
    "print(pd.to_datetime('2019, August - 1'))\n",
    "print(pd.to_datetime('20190108'))"
   ]
  },
  {
   "cell_type": "markdown",
   "metadata": {},
   "source": [
    "- pd.to_datetime('20190108',format='%Y%d%m')"
   ]
  },
  {
   "cell_type": "code",
   "execution_count": 13,
   "metadata": {
    "ExecuteTime": {
     "end_time": "2022-07-29T14:09:44.430156Z",
     "start_time": "2022-07-29T14:09:44.128151Z"
    }
   },
   "outputs": [],
   "source": [
    "invoices['Date of Meal'] = pd.to_datetime(invoices['Date of Meal'], utc=True)"
   ]
  },
  {
   "cell_type": "code",
   "execution_count": 14,
   "metadata": {
    "ExecuteTime": {
     "end_time": "2022-07-29T14:09:44.600840Z",
     "start_time": "2022-07-29T14:09:44.573530Z"
    }
   },
   "outputs": [
    {
     "data": {
      "text/html": [
       "<div>\n",
       "<style scoped>\n",
       "    .dataframe tbody tr th:only-of-type {\n",
       "        vertical-align: middle;\n",
       "    }\n",
       "\n",
       "    .dataframe tbody tr th {\n",
       "        vertical-align: top;\n",
       "    }\n",
       "\n",
       "    .dataframe thead th {\n",
       "        text-align: right;\n",
       "    }\n",
       "</style>\n",
       "<table border=\"1\" class=\"dataframe\">\n",
       "  <thead>\n",
       "    <tr style=\"text-align: right;\">\n",
       "      <th></th>\n",
       "      <th>Order Id</th>\n",
       "      <th>Date</th>\n",
       "      <th>Meal Id</th>\n",
       "      <th>Company Id</th>\n",
       "      <th>Date of Meal</th>\n",
       "      <th>Participants</th>\n",
       "      <th>Meal Price</th>\n",
       "      <th>Type of Meal</th>\n",
       "      <th>Heroes Adjustment</th>\n",
       "    </tr>\n",
       "  </thead>\n",
       "  <tbody>\n",
       "    <tr>\n",
       "      <th>0</th>\n",
       "      <td>839FKFW2LLX4LMBB</td>\n",
       "      <td>2016-05-27</td>\n",
       "      <td>INBUX904GIHI8YBD</td>\n",
       "      <td>LJKS5NK6788CYMUU</td>\n",
       "      <td>2016-05-31 05:00:00+00:00</td>\n",
       "      <td>['David Bishop']</td>\n",
       "      <td>469.0</td>\n",
       "      <td>Breakfast</td>\n",
       "      <td>False</td>\n",
       "    </tr>\n",
       "    <tr>\n",
       "      <th>1</th>\n",
       "      <td>97OX39BGVMHODLJM</td>\n",
       "      <td>2018-09-27</td>\n",
       "      <td>J0MMOOPP709DIDIE</td>\n",
       "      <td>LJKS5NK6788CYMUU</td>\n",
       "      <td>2018-10-01 18:00:00+00:00</td>\n",
       "      <td>['David Bishop']</td>\n",
       "      <td>22.0</td>\n",
       "      <td>Dinner</td>\n",
       "      <td>False</td>\n",
       "    </tr>\n",
       "    <tr>\n",
       "      <th>2</th>\n",
       "      <td>041ORQM5OIHTIU6L</td>\n",
       "      <td>2014-08-24</td>\n",
       "      <td>E4UJLQNCI16UX5CS</td>\n",
       "      <td>LJKS5NK6788CYMUU</td>\n",
       "      <td>2014-08-23 12:00:00+00:00</td>\n",
       "      <td>['Karen Stansell']</td>\n",
       "      <td>314.0</td>\n",
       "      <td>Lunch</td>\n",
       "      <td>False</td>\n",
       "    </tr>\n",
       "    <tr>\n",
       "      <th>3</th>\n",
       "      <td>YT796QI18WNGZ7ZJ</td>\n",
       "      <td>2014-04-12</td>\n",
       "      <td>C9SDFHF7553BE247</td>\n",
       "      <td>LJKS5NK6788CYMUU</td>\n",
       "      <td>2014-04-07 19:00:00+00:00</td>\n",
       "      <td>['Addie Patino']</td>\n",
       "      <td>438.0</td>\n",
       "      <td>Dinner</td>\n",
       "      <td>False</td>\n",
       "    </tr>\n",
       "    <tr>\n",
       "      <th>4</th>\n",
       "      <td>6YLROQT27B6HRF4E</td>\n",
       "      <td>2015-07-28</td>\n",
       "      <td>48EQXS6IHYNZDDZ5</td>\n",
       "      <td>LJKS5NK6788CYMUU</td>\n",
       "      <td>2015-07-27 12:00:00+00:00</td>\n",
       "      <td>['Addie Patino' 'Susan Guerrero']</td>\n",
       "      <td>690.0</td>\n",
       "      <td>Lunch</td>\n",
       "      <td>False</td>\n",
       "    </tr>\n",
       "  </tbody>\n",
       "</table>\n",
       "</div>"
      ],
      "text/plain": [
       "           Order Id       Date           Meal Id        Company Id  \\\n",
       "0  839FKFW2LLX4LMBB 2016-05-27  INBUX904GIHI8YBD  LJKS5NK6788CYMUU   \n",
       "1  97OX39BGVMHODLJM 2018-09-27  J0MMOOPP709DIDIE  LJKS5NK6788CYMUU   \n",
       "2  041ORQM5OIHTIU6L 2014-08-24  E4UJLQNCI16UX5CS  LJKS5NK6788CYMUU   \n",
       "3  YT796QI18WNGZ7ZJ 2014-04-12  C9SDFHF7553BE247  LJKS5NK6788CYMUU   \n",
       "4  6YLROQT27B6HRF4E 2015-07-28  48EQXS6IHYNZDDZ5  LJKS5NK6788CYMUU   \n",
       "\n",
       "               Date of Meal                       Participants  Meal Price  \\\n",
       "0 2016-05-31 05:00:00+00:00                   ['David Bishop']       469.0   \n",
       "1 2018-10-01 18:00:00+00:00                   ['David Bishop']        22.0   \n",
       "2 2014-08-23 12:00:00+00:00                 ['Karen Stansell']       314.0   \n",
       "3 2014-04-07 19:00:00+00:00                   ['Addie Patino']       438.0   \n",
       "4 2015-07-27 12:00:00+00:00  ['Addie Patino' 'Susan Guerrero']       690.0   \n",
       "\n",
       "  Type of Meal  Heroes Adjustment  \n",
       "0    Breakfast              False  \n",
       "1       Dinner              False  \n",
       "2        Lunch              False  \n",
       "3       Dinner              False  \n",
       "4        Lunch              False  "
      ]
     },
     "execution_count": 14,
     "metadata": {},
     "output_type": "execute_result"
    }
   ],
   "source": [
    "invoices.head()"
   ]
  },
  {
   "cell_type": "markdown",
   "metadata": {},
   "source": [
    "## Useful accessor methods for certain data types"
   ]
  },
  {
   "cell_type": "markdown",
   "metadata": {},
   "source": [
    "- There are three different accessors:\n",
    "    - dt\n",
    "    - str\n",
    "    \n",
    "- All of the methods are accessed by calling .<accessor>.method on the column of choice, like this: invoices['Date of Meal'].dt.date"
   ]
  },
  {
   "cell_type": "markdown",
   "metadata": {},
   "source": [
    "### Accessor — dt"
   ]
  },
  {
   "cell_type": "markdown",
   "metadata": {},
   "source": [
    "- date (returns the date of the datetime value)"
   ]
  },
  {
   "cell_type": "code",
   "execution_count": 28,
   "metadata": {
    "ExecuteTime": {
     "end_time": "2022-07-29T14:24:46.522475Z",
     "start_time": "2022-07-29T14:24:46.491154Z"
    }
   },
   "outputs": [
    {
     "data": {
      "text/plain": [
       "0        2016-05-31\n",
       "1        2018-10-01\n",
       "2        2014-08-23\n",
       "3        2014-04-07\n",
       "4        2015-07-27\n",
       "            ...    \n",
       "50012    2017-09-21\n",
       "50013    2018-03-18\n",
       "50014    2017-09-22\n",
       "50015    2018-02-01\n",
       "50016    2017-09-09\n",
       "Name: Date of Meal, Length: 50017, dtype: object"
      ]
     },
     "execution_count": 28,
     "metadata": {},
     "output_type": "execute_result"
    }
   ],
   "source": [
    "invoices['Date of Meal'].dt.date"
   ]
  },
  {
   "cell_type": "code",
   "execution_count": 32,
   "metadata": {
    "ExecuteTime": {
     "end_time": "2022-07-29T14:24:57.375311Z",
     "start_time": "2022-07-29T14:24:57.357565Z"
    }
   },
   "outputs": [
    {
     "data": {
      "text/plain": [
       "0         Tuesday\n",
       "1          Monday\n",
       "2        Saturday\n",
       "3          Monday\n",
       "4          Monday\n",
       "           ...   \n",
       "50012    Thursday\n",
       "50013      Sunday\n",
       "50014      Friday\n",
       "50015    Thursday\n",
       "50016    Saturday\n",
       "Name: Date of Meal, Length: 50017, dtype: object"
      ]
     },
     "execution_count": 32,
     "metadata": {},
     "output_type": "execute_result"
    }
   ],
   "source": [
    "invoices['Date of Meal'].dt.day_name()"
   ]
  },
  {
   "cell_type": "code",
   "execution_count": 30,
   "metadata": {
    "ExecuteTime": {
     "end_time": "2022-07-29T14:24:51.689630Z",
     "start_time": "2022-07-29T14:24:51.663705Z"
    }
   },
   "outputs": [
    {
     "data": {
      "text/plain": [
       "0              May\n",
       "1          October\n",
       "2           August\n",
       "3            April\n",
       "4             July\n",
       "           ...    \n",
       "50012    September\n",
       "50013        March\n",
       "50014    September\n",
       "50015     February\n",
       "50016    September\n",
       "Name: Date of Meal, Length: 50017, dtype: object"
      ]
     },
     "execution_count": 30,
     "metadata": {},
     "output_type": "execute_result"
    }
   ],
   "source": [
    "invoices['Date of Meal'].dt.month_name()"
   ]
  },
  {
   "cell_type": "markdown",
   "metadata": {},
   "source": [
    "- days_in_month\n",
    "- nanosecond,microsecond,second,minute,hour ,day, week, month, quarter, year gets the integer of the corresponding frequency."
   ]
  },
  {
   "cell_type": "code",
   "execution_count": 30,
   "metadata": {
    "ExecuteTime": {
     "end_time": "2022-06-11T10:07:12.785947Z",
     "start_time": "2022-06-11T10:07:12.763139Z"
    }
   },
   "outputs": [
    {
     "data": {
      "text/plain": [
       "0        31\n",
       "1        31\n",
       "2        31\n",
       "3        30\n",
       "4        31\n",
       "         ..\n",
       "50012    30\n",
       "50013    31\n",
       "50014    30\n",
       "50015    28\n",
       "50016    30\n",
       "Name: Date of Meal, Length: 50017, dtype: int64"
      ]
     },
     "execution_count": 30,
     "metadata": {},
     "output_type": "execute_result"
    }
   ],
   "source": [
    "invoices['Date of Meal'].dt.days_in_month"
   ]
  },
  {
   "cell_type": "markdown",
   "metadata": {},
   "source": [
    "- is_leap_year, is_month_start, is_month_end, is_quarter_start, is_quarter_end, is_year_start, is_year_end returns True or False respectively for each value"
   ]
  },
  {
   "cell_type": "code",
   "execution_count": 31,
   "metadata": {
    "ExecuteTime": {
     "end_time": "2022-06-11T10:07:15.524967Z",
     "start_time": "2022-06-11T10:07:15.499197Z"
    }
   },
   "outputs": [
    {
     "data": {
      "text/plain": [
       "0         True\n",
       "1        False\n",
       "2        False\n",
       "3        False\n",
       "4        False\n",
       "         ...  \n",
       "50012    False\n",
       "50013    False\n",
       "50014    False\n",
       "50015    False\n",
       "50016    False\n",
       "Name: Date of Meal, Length: 50017, dtype: bool"
      ]
     },
     "execution_count": 31,
     "metadata": {},
     "output_type": "execute_result"
    }
   ],
   "source": [
    "invoices['Date of Meal'].dt.is_month_end"
   ]
  },
  {
   "cell_type": "markdown",
   "metadata": {},
   "source": [
    "- to_pydatetime(), which converts the Pandas datetime into a regular Python datetime format (which you might need sometimes) and to_period(<PERIOD>) [available periods are W, M, Q, and Y], which converts the dates into periods."
   ]
  },
  {
   "cell_type": "code",
   "execution_count": 32,
   "metadata": {
    "ExecuteTime": {
     "end_time": "2022-06-11T10:07:17.497461Z",
     "start_time": "2022-06-11T10:07:17.456478Z"
    }
   },
   "outputs": [
    {
     "data": {
      "text/plain": [
       "array([datetime.datetime(2016, 5, 31, 5, 0, tzinfo=<UTC>),\n",
       "       datetime.datetime(2018, 10, 1, 18, 0, tzinfo=<UTC>),\n",
       "       datetime.datetime(2014, 8, 23, 12, 0, tzinfo=<UTC>), ...,\n",
       "       datetime.datetime(2017, 9, 22, 19, 0, tzinfo=<UTC>),\n",
       "       datetime.datetime(2018, 2, 1, 20, 0, tzinfo=<UTC>),\n",
       "       datetime.datetime(2017, 9, 9, 12, 0, tzinfo=<UTC>)], dtype=object)"
      ]
     },
     "execution_count": 32,
     "metadata": {},
     "output_type": "execute_result"
    }
   ],
   "source": [
    "invoices['Date of Meal'].dt.to_pydatetime()"
   ]
  },
  {
   "cell_type": "code",
   "execution_count": 33,
   "metadata": {
    "ExecuteTime": {
     "end_time": "2022-06-11T10:07:18.089278Z",
     "start_time": "2022-06-11T10:07:18.058834Z"
    }
   },
   "outputs": [
    {
     "name": "stderr",
     "output_type": "stream",
     "text": [
      "C:\\Users\\Dell\\AppData\\Roaming\\Python\\Python37\\site-packages\\pandas\\core\\arrays\\datetimes.py:1092: UserWarning: Converting to PeriodArray/Index representation will drop timezone information.\n",
      "  UserWarning,\n"
     ]
    },
    {
     "data": {
      "text/plain": [
       "0        2016-05-30/2016-06-05\n",
       "1        2018-10-01/2018-10-07\n",
       "2        2014-08-18/2014-08-24\n",
       "3        2014-04-07/2014-04-13\n",
       "4        2015-07-27/2015-08-02\n",
       "                 ...          \n",
       "50012    2017-09-18/2017-09-24\n",
       "50013    2018-03-12/2018-03-18\n",
       "50014    2017-09-18/2017-09-24\n",
       "50015    2018-01-29/2018-02-04\n",
       "50016    2017-09-04/2017-09-10\n",
       "Name: Date of Meal, Length: 50017, dtype: period[W-SUN]"
      ]
     },
     "execution_count": 33,
     "metadata": {},
     "output_type": "execute_result"
    }
   ],
   "source": [
    "invoices['Date of Meal'].dt.to_period('W')"
   ]
  },
  {
   "cell_type": "markdown",
   "metadata": {},
   "source": [
    "### Accessor — str"
   ]
  },
  {
   "cell_type": "markdown",
   "metadata": {
    "ExecuteTime": {
     "end_time": "2020-02-03T17:04:50.106324Z",
     "start_time": "2020-02-03T17:04:50.102609Z"
    }
   },
   "source": [
    "- lower() / upper() to manage capitalization of strings"
   ]
  },
  {
   "cell_type": "code",
   "execution_count": 34,
   "metadata": {
    "ExecuteTime": {
     "end_time": "2022-06-11T10:07:24.877978Z",
     "start_time": "2022-06-11T10:07:24.867981Z"
    }
   },
   "outputs": [
    {
     "data": {
      "text/plain": [
       "0        BREAKFAST\n",
       "1           DINNER\n",
       "2            LUNCH\n",
       "3           DINNER\n",
       "4            LUNCH\n",
       "           ...    \n",
       "50012    BREAKFAST\n",
       "50013    BREAKFAST\n",
       "50014       DINNER\n",
       "50015       DINNER\n",
       "50016        LUNCH\n",
       "Name: Type of Meal, Length: 50017, dtype: object"
      ]
     },
     "execution_count": 34,
     "metadata": {},
     "output_type": "execute_result"
    }
   ],
   "source": [
    "invoices['Type of Meal'].str.lower()\n",
    "invoices['Type of Meal'].str.upper()"
   ]
  },
  {
   "cell_type": "markdown",
   "metadata": {},
   "source": [
    "- ljust(width), rjust(width), center(width), zfill(width) to control the positioning of strings. All of them take a total width of the desired resulting string as an input. ljust, rjust, and center fill the difference to the desired length with whitespaces.zfill adds that many leading zeroes. ljustis left-bound, rjustis right-bound."
   ]
  },
  {
   "cell_type": "code",
   "execution_count": 35,
   "metadata": {
    "ExecuteTime": {
     "end_time": "2022-06-11T10:07:26.941556Z",
     "start_time": "2022-06-11T10:07:26.912112Z"
    }
   },
   "outputs": [
    {
     "data": {
      "text/plain": [
       "0        000000Breakfast\n",
       "1        000000000Dinner\n",
       "2        0000000000Lunch\n",
       "3        000000000Dinner\n",
       "4        0000000000Lunch\n",
       "              ...       \n",
       "50012    000000Breakfast\n",
       "50013    000000Breakfast\n",
       "50014    000000000Dinner\n",
       "50015    000000000Dinner\n",
       "50016    0000000000Lunch\n",
       "Name: Type of Meal, Length: 50017, dtype: object"
      ]
     },
     "execution_count": 35,
     "metadata": {},
     "output_type": "execute_result"
    }
   ],
   "source": [
    "invoices['Type of Meal'].str.rjust(width=25)\n",
    "invoices['Type of Meal'].str.rjust(width=15)\n",
    "invoices['Type of Meal'].str.center(width=15)\n",
    "invoices['Type of Meal'].str.zfill(width=15)\n"
   ]
  },
  {
   "cell_type": "markdown",
   "metadata": {},
   "source": [
    "- startswith(<substring>), endswith(<substring>), contains(<substring>) checks for the presence of a substring"
   ]
  },
  {
   "cell_type": "code",
   "execution_count": 36,
   "metadata": {
    "ExecuteTime": {
     "end_time": "2022-06-11T10:07:28.496294Z",
     "start_time": "2022-06-11T10:07:28.465267Z"
    }
   },
   "outputs": [
    {
     "data": {
      "text/plain": [
       "0         True\n",
       "1        False\n",
       "2        False\n",
       "3        False\n",
       "4        False\n",
       "         ...  \n",
       "50012     True\n",
       "50013     True\n",
       "50014    False\n",
       "50015    False\n",
       "50016    False\n",
       "Name: Type of Meal, Length: 50017, dtype: bool"
      ]
     },
     "execution_count": 36,
     "metadata": {},
     "output_type": "execute_result"
    }
   ],
   "source": [
    "invoices['Type of Meal'].str.endswith('ast')\n"
   ]
  },
  {
   "cell_type": "markdown",
   "metadata": {},
   "source": [
    "- swapcase(), repeat(times) for kicks and giggles"
   ]
  },
  {
   "cell_type": "code",
   "execution_count": 37,
   "metadata": {
    "ExecuteTime": {
     "end_time": "2022-06-11T10:07:30.125375Z",
     "start_time": "2022-06-11T10:07:30.114376Z"
    }
   },
   "outputs": [
    {
     "data": {
      "text/plain": [
       "0        bREAKFAST\n",
       "1           dINNER\n",
       "2            lUNCH\n",
       "3           dINNER\n",
       "4            lUNCH\n",
       "           ...    \n",
       "50012    bREAKFAST\n",
       "50013    bREAKFAST\n",
       "50014       dINNER\n",
       "50015       dINNER\n",
       "50016        lUNCH\n",
       "Name: Type of Meal, Length: 50017, dtype: object"
      ]
     },
     "execution_count": 37,
     "metadata": {},
     "output_type": "execute_result"
    }
   ],
   "source": [
    "invoices['Type of Meal'].str.swapcase()"
   ]
  },
  {
   "cell_type": "code",
   "execution_count": 38,
   "metadata": {
    "ExecuteTime": {
     "end_time": "2022-06-11T10:07:31.097505Z",
     "start_time": "2022-06-11T10:07:31.082469Z"
    },
    "scrolled": true
   },
   "outputs": [
    {
     "data": {
      "text/plain": [
       "0        BreakfastBreakfast\n",
       "1              DinnerDinner\n",
       "2                LunchLunch\n",
       "3              DinnerDinner\n",
       "4                LunchLunch\n",
       "                ...        \n",
       "50012    BreakfastBreakfast\n",
       "50013    BreakfastBreakfast\n",
       "50014          DinnerDinner\n",
       "50015          DinnerDinner\n",
       "50016            LunchLunch\n",
       "Name: Type of Meal, Length: 50017, dtype: object"
      ]
     },
     "execution_count": 38,
     "metadata": {},
     "output_type": "execute_result"
    }
   ],
   "source": [
    "invoices['Type of Meal'].str.repeat(2)\n"
   ]
  },
  {
   "cell_type": "markdown",
   "metadata": {},
   "source": [
    "### Accessor — cat\n",
    "\n",
    "- cat provides access to a couple of categorial operations"
   ]
  },
  {
   "cell_type": "code",
   "execution_count": 22,
   "metadata": {
    "ExecuteTime": {
     "end_time": "2022-07-29T14:16:02.086814Z",
     "start_time": "2022-07-29T14:16:02.070189Z"
    }
   },
   "outputs": [
    {
     "data": {
      "text/plain": [
       "0        Breakfast\n",
       "1           Dinner\n",
       "2            Lunch\n",
       "3           Dinner\n",
       "4            Lunch\n",
       "           ...    \n",
       "50012    Breakfast\n",
       "50013    Breakfast\n",
       "50014       Dinner\n",
       "50015       Dinner\n",
       "50016        Lunch\n",
       "Name: Type of Meal, Length: 50017, dtype: category\n",
       "Categories (3, object): ['Breakfast', 'Dinner', 'Lunch']"
      ]
     },
     "execution_count": 22,
     "metadata": {},
     "output_type": "execute_result"
    }
   ],
   "source": [
    "invoices['Type of Meal']"
   ]
  },
  {
   "cell_type": "code",
   "execution_count": 18,
   "metadata": {
    "ExecuteTime": {
     "end_time": "2022-07-29T14:12:57.648526Z",
     "start_time": "2022-07-29T14:12:57.641775Z"
    }
   },
   "outputs": [
    {
     "data": {
      "text/plain": [
       "False"
      ]
     },
     "execution_count": 18,
     "metadata": {},
     "output_type": "execute_result"
    }
   ],
   "source": [
    "# ordered lets you know if the column is ordered\n",
    "invoices['Type of Meal'].cat.ordered"
   ]
  },
  {
   "cell_type": "code",
   "execution_count": 24,
   "metadata": {
    "ExecuteTime": {
     "end_time": "2022-07-29T14:19:19.979973Z",
     "start_time": "2022-07-29T14:19:19.962514Z"
    }
   },
   "outputs": [],
   "source": [
    "# Sorting and order\n",
    "s = pd.Series(pd.Categorical([\"a\", \"b\", \"c\", \"a\"], ordered=False))\n",
    "s.sort_values(inplace=True)\n"
   ]
  },
  {
   "cell_type": "code",
   "execution_count": 25,
   "metadata": {
    "ExecuteTime": {
     "end_time": "2022-07-29T14:19:22.883769Z",
     "start_time": "2022-07-29T14:19:22.873661Z"
    }
   },
   "outputs": [
    {
     "data": {
      "text/plain": [
       "0    a\n",
       "3    a\n",
       "1    b\n",
       "2    c\n",
       "dtype: category\n",
       "Categories (3, object): ['a', 'b', 'c']"
      ]
     },
     "execution_count": 25,
     "metadata": {},
     "output_type": "execute_result"
    }
   ],
   "source": [
    "s"
   ]
  },
  {
   "cell_type": "code",
   "execution_count": 26,
   "metadata": {
    "ExecuteTime": {
     "end_time": "2022-07-29T14:19:39.043564Z",
     "start_time": "2022-07-29T14:19:39.035612Z"
    }
   },
   "outputs": [
    {
     "data": {
      "text/plain": [
       "0    a\n",
       "3    a\n",
       "1    b\n",
       "2    c\n",
       "dtype: category\n",
       "Categories (3, object): ['a' < 'b' < 'c']"
      ]
     },
     "execution_count": 26,
     "metadata": {},
     "output_type": "execute_result"
    }
   ],
   "source": [
    "s.cat.as_ordered()\n"
   ]
  },
  {
   "cell_type": "code",
   "execution_count": 27,
   "metadata": {
    "ExecuteTime": {
     "end_time": "2022-07-29T14:19:48.265425Z",
     "start_time": "2022-07-29T14:19:48.247181Z"
    }
   },
   "outputs": [
    {
     "data": {
      "text/plain": [
       "0    a\n",
       "3    a\n",
       "1    b\n",
       "2    c\n",
       "dtype: category\n",
       "Categories (3, object): ['a', 'b', 'c']"
      ]
     },
     "execution_count": 27,
     "metadata": {},
     "output_type": "execute_result"
    }
   ],
   "source": [
    "s.cat.as_unordered()\n"
   ]
  },
  {
   "cell_type": "code",
   "execution_count": 19,
   "metadata": {
    "ExecuteTime": {
     "end_time": "2022-07-29T14:13:05.150078Z",
     "start_time": "2022-07-29T14:13:05.131326Z"
    }
   },
   "outputs": [
    {
     "data": {
      "text/plain": [
       "Index(['Breakfast', 'Dinner', 'Lunch'], dtype='object')"
      ]
     },
     "execution_count": 19,
     "metadata": {},
     "output_type": "execute_result"
    }
   ],
   "source": [
    "#categories to return the categories\n",
    "invoices['Type of Meal'].cat.categories"
   ]
  },
  {
   "cell_type": "code",
   "execution_count": 20,
   "metadata": {
    "ExecuteTime": {
     "end_time": "2022-07-29T14:13:12.616459Z",
     "start_time": "2022-07-29T14:13:12.597166Z"
    }
   },
   "outputs": [
    {
     "data": {
      "text/plain": [
       "0        0\n",
       "1        1\n",
       "2        2\n",
       "3        1\n",
       "4        2\n",
       "        ..\n",
       "50012    0\n",
       "50013    0\n",
       "50014    1\n",
       "50015    1\n",
       "50016    2\n",
       "Length: 50017, dtype: int8"
      ]
     },
     "execution_count": 20,
     "metadata": {},
     "output_type": "execute_result"
    }
   ],
   "source": [
    "#codes for quick conversion of the category into its numerical representation\n",
    "invoices['Type of Meal'].cat.codes"
   ]
  },
  {
   "cell_type": "code",
   "execution_count": 21,
   "metadata": {
    "ExecuteTime": {
     "end_time": "2022-07-29T14:13:25.890604Z",
     "start_time": "2022-07-29T14:13:25.869692Z"
    },
    "scrolled": true
   },
   "outputs": [
    {
     "data": {
      "text/plain": [
       "0        Breakfast\n",
       "1           Dinner\n",
       "2            Lunch\n",
       "3           Dinner\n",
       "4            Lunch\n",
       "           ...    \n",
       "50012    Breakfast\n",
       "50013    Breakfast\n",
       "50014       Dinner\n",
       "50015       Dinner\n",
       "50016        Lunch\n",
       "Name: Type of Meal, Length: 50017, dtype: category\n",
       "Categories (3, object): ['Lunch', 'Breakfast', 'Dinner']"
      ]
     },
     "execution_count": 21,
     "metadata": {},
     "output_type": "execute_result"
    }
   ],
   "source": [
    "# reorder_categories to change the existing order of the categories\n",
    "invoices['Type of Meal'].cat.reorder_categories(\n",
    "    ['Lunch','Breakfast','Dinner']\n",
    ")"
   ]
  },
  {
   "cell_type": "markdown",
   "metadata": {},
   "source": [
    "- **Do not assume you need to convert all categorical data** to the pandas category data type.\n",
    "- If **the data set starts to approach an appreciable percentage of your useable memory**, then consider using categorical data types.\n",
    "- If you have **very significant performance concerns with operations that are executed frequently, look at using categorical data.**\n",
    "- If you are using categorical data, add some checks to **make sure the data is clean and complete before converting to the pandas category type**. Additionally, **check for NaN values** after combining or converting dataframes."
   ]
  },
  {
   "cell_type": "markdown",
   "metadata": {},
   "source": [
    "## Combining DataFrames"
   ]
  },
  {
   "cell_type": "markdown",
   "metadata": {},
   "source": [
    "### Concatenating"
   ]
  },
  {
   "cell_type": "markdown",
   "metadata": {},
   "source": [
    "- data vertically (i.e., stack the data on top of each other) or \n",
    "- horizontally (i.e., stack the data next to each other)."
   ]
  },
  {
   "cell_type": "markdown",
   "metadata": {},
   "source": [
    "- pd.concat takes a couple of optional parameters next to the list of DataFrames that you call concat on:\n",
    "    - axis : 0 for vertical, 1 for horizontal. axis defaults to 0\n",
    "    - join : 'inner' for the intersection, 'outer' for the union of indices of the non-concatenating axis. When we use axis=0 and join='inner' we will consider only overlapping columns. When using axis=1 and join='inner' we consider only overlapping indices. In the case of outer non-overlapping columns/indices will be filled with nan values. join defaults to outer\n",
    "    - ignore_index : True to ignore preexisting indices and instead use labels from 0 to n-1 for the resulting DataFrame. ignore_index defaults to False\n",
    "    - keys : If we provide a list (has to be the same length as the number of DataFrames) a hierarchical index will be constructed. keys defaults to None. Use keys for example, to add the source of the data. Best used in combination with names.\n",
    "    - names : Assuming that you provide keys, the names will be used to label the resulting hierarchical index. names defaults to None."
   ]
  },
  {
   "cell_type": "code",
   "execution_count": 44,
   "metadata": {
    "ExecuteTime": {
     "end_time": "2022-06-11T10:07:45.588148Z",
     "start_time": "2022-06-11T10:07:45.575776Z"
    }
   },
   "outputs": [
    {
     "data": {
      "image/png": "[encoded data removed]",
      "text/plain": [
       "<IPython.core.display.Image object>"
      ]
     },
     "execution_count": 44,
     "metadata": {},
     "output_type": "execute_result"
    }
   ],
   "source": [
    "from IPython.display import Image\n",
    "\n",
    "Image(filename='resources//vertically_stack.png') "
   ]
  },
  {
   "cell_type": "code",
   "execution_count": 45,
   "metadata": {
    "ExecuteTime": {
     "end_time": "2022-06-11T10:07:49.027920Z",
     "start_time": "2022-06-11T10:07:48.831017Z"
    }
   },
   "outputs": [
    {
     "name": "stdout",
     "output_type": "stream",
     "text": [
      "2013       34\n",
      "2014    10051\n",
      "2015    10036\n",
      "2016     9862\n",
      "2017     9921\n",
      "2018    10095\n",
      "2019       18\n",
      "Name: Date of Meal, dtype: int64\n"
     ]
    }
   ],
   "source": [
    "# Use dt accessor to count all the years\n",
    "\n",
    "print(invoices['Date of Meal'].dt.year.value_counts().sort_index())\n",
    "# Split the data \n",
    "y_2013 = invoices[invoices['Date of Meal'].dt.year == 2013].copy()\n",
    "y_2014 = invoices[invoices['Date of Meal'].dt.year == 2014].copy()\n",
    "y_2015 = invoices[invoices['Date of Meal'].dt.year == 2015].copy()\n",
    "y_2016 = invoices[invoices['Date of Meal'].dt.year == 2016].copy()\n",
    "y_2017 = invoices[invoices['Date of Meal'].dt.year == 2017].copy()\n",
    "y_2018 = invoices[invoices['Date of Meal'].dt.year == 2018].copy()\n",
    "y_2019 = invoices[invoices['Date of Meal'].dt.year == 2019].copy()"
   ]
  },
  {
   "cell_type": "code",
   "execution_count": 46,
   "metadata": {
    "ExecuteTime": {
     "end_time": "2022-06-11T10:07:52.181981Z",
     "start_time": "2022-06-11T10:07:52.136742Z"
    }
   },
   "outputs": [
    {
     "data": {
      "text/html": [
       "<div>\n",
       "<style scoped>\n",
       "    .dataframe tbody tr th:only-of-type {\n",
       "        vertical-align: middle;\n",
       "    }\n",
       "\n",
       "    .dataframe tbody tr th {\n",
       "        vertical-align: top;\n",
       "    }\n",
       "\n",
       "    .dataframe thead th {\n",
       "        text-align: right;\n",
       "    }\n",
       "</style>\n",
       "<table border=\"1\" class=\"dataframe\">\n",
       "  <thead>\n",
       "    <tr style=\"text-align: right;\">\n",
       "      <th></th>\n",
       "      <th>Order Id</th>\n",
       "      <th>Date</th>\n",
       "      <th>Meal Id</th>\n",
       "      <th>Company Id</th>\n",
       "      <th>Date of Meal</th>\n",
       "      <th>Participants</th>\n",
       "      <th>Meal Price</th>\n",
       "      <th>Type of Meal</th>\n",
       "      <th>Heroes Adjustment</th>\n",
       "    </tr>\n",
       "  </thead>\n",
       "  <tbody>\n",
       "    <tr>\n",
       "      <th>1449</th>\n",
       "      <td>HH1CUKNKIIK87D4L</td>\n",
       "      <td>2014-01-03</td>\n",
       "      <td>M4QG9N01E25U3A53</td>\n",
       "      <td>N4BN0GG5XKZV113C</td>\n",
       "      <td>2013-12-31 21:00:00+00:00</td>\n",
       "      <td>['Jason Cuevas']</td>\n",
       "      <td>546.0</td>\n",
       "      <td>Dinner</td>\n",
       "      <td>False</td>\n",
       "    </tr>\n",
       "    <tr>\n",
       "      <th>4256</th>\n",
       "      <td>KFXTYDP0YG9C6AZF</td>\n",
       "      <td>2014-01-03</td>\n",
       "      <td>RUMIZCB9KM3N57BN</td>\n",
       "      <td>9FOCJR50GUHXT2S0</td>\n",
       "      <td>2013-12-31 12:00:00+00:00</td>\n",
       "      <td>['Robert Hairfield' 'Ray Dowty' 'Adam Bowers' ...</td>\n",
       "      <td>586.0</td>\n",
       "      <td>Lunch</td>\n",
       "      <td>False</td>\n",
       "    </tr>\n",
       "    <tr>\n",
       "      <th>4747</th>\n",
       "      <td>D5NR6EP8NQZ0TGW6</td>\n",
       "      <td>2014-01-05</td>\n",
       "      <td>5GDXSLG0F4WA3JEZ</td>\n",
       "      <td>RJ1NLTCTP1COK3YS</td>\n",
       "      <td>2013-12-31 21:00:00+00:00</td>\n",
       "      <td>['Leta Stevens']</td>\n",
       "      <td>549.0</td>\n",
       "      <td>Dinner</td>\n",
       "      <td>False</td>\n",
       "    </tr>\n",
       "    <tr>\n",
       "      <th>5097</th>\n",
       "      <td>2T71YISMHMPBKE3Z</td>\n",
       "      <td>2014-01-03</td>\n",
       "      <td>0C7DIKEPG5KXNRFR</td>\n",
       "      <td>R835HX2AVB1KJJL0</td>\n",
       "      <td>2013-12-30 19:00:00+00:00</td>\n",
       "      <td>['Hunter Marquez']</td>\n",
       "      <td>338.0</td>\n",
       "      <td>Dinner</td>\n",
       "      <td>False</td>\n",
       "    </tr>\n",
       "    <tr>\n",
       "      <th>5154</th>\n",
       "      <td>V226RP8DLAQQKU51</td>\n",
       "      <td>2014-01-04</td>\n",
       "      <td>6C9WDEPC4Q05WBSR</td>\n",
       "      <td>23B3R2N3LSYQJQMF</td>\n",
       "      <td>2013-12-30 13:00:00+00:00</td>\n",
       "      <td>['Erin Jones' 'Blake Newman' 'John Truett' 'Go...</td>\n",
       "      <td>377.0</td>\n",
       "      <td>Lunch</td>\n",
       "      <td>False</td>\n",
       "    </tr>\n",
       "    <tr>\n",
       "      <th>...</th>\n",
       "      <td>...</td>\n",
       "      <td>...</td>\n",
       "      <td>...</td>\n",
       "      <td>...</td>\n",
       "      <td>...</td>\n",
       "      <td>...</td>\n",
       "      <td>...</td>\n",
       "      <td>...</td>\n",
       "      <td>...</td>\n",
       "    </tr>\n",
       "    <tr>\n",
       "      <th>33833</th>\n",
       "      <td>IVSKD45PB8FZ0DRT</td>\n",
       "      <td>2018-12-31</td>\n",
       "      <td>6M3DK5ZNSTNHD50B</td>\n",
       "      <td>EIX79KCQQWJKLP21</td>\n",
       "      <td>2019-01-04 08:00:00+00:00</td>\n",
       "      <td>['Bob Fulton' 'Jermaine Rawls']</td>\n",
       "      <td>388.0</td>\n",
       "      <td>Breakfast</td>\n",
       "      <td>False</td>\n",
       "    </tr>\n",
       "    <tr>\n",
       "      <th>35406</th>\n",
       "      <td>IASPC12JU67ANTA5</td>\n",
       "      <td>2018-12-29</td>\n",
       "      <td>0MJH7DMFHIPI2T81</td>\n",
       "      <td>90KJEJUQ6MQO6NEW</td>\n",
       "      <td>2019-01-02 11:00:00+00:00</td>\n",
       "      <td>['Ted Pickering']</td>\n",
       "      <td>285.0</td>\n",
       "      <td>Lunch</td>\n",
       "      <td>False</td>\n",
       "    </tr>\n",
       "    <tr>\n",
       "      <th>36958</th>\n",
       "      <td>0GNFQ2XTTI56QE1E</td>\n",
       "      <td>2018-12-30</td>\n",
       "      <td>9UPI7YU9WQDSBR1P</td>\n",
       "      <td>9IPX1GTNSJJOULSB</td>\n",
       "      <td>2019-01-03 11:00:00+00:00</td>\n",
       "      <td>['John Hightower' 'Adam Hill' 'Betty Sagen']</td>\n",
       "      <td>600.0</td>\n",
       "      <td>Lunch</td>\n",
       "      <td>False</td>\n",
       "    </tr>\n",
       "    <tr>\n",
       "      <th>43534</th>\n",
       "      <td>8YHA5UTWAT7BOC24</td>\n",
       "      <td>2018-12-31</td>\n",
       "      <td>041RWJS7KUFPFVV9</td>\n",
       "      <td>Z19C6Y8F5Q22DMFK</td>\n",
       "      <td>2019-01-03 07:00:00+00:00</td>\n",
       "      <td>['Marva Cormier' 'Amy Boothe']</td>\n",
       "      <td>377.0</td>\n",
       "      <td>Breakfast</td>\n",
       "      <td>False</td>\n",
       "    </tr>\n",
       "    <tr>\n",
       "      <th>48207</th>\n",
       "      <td>J5FBQ0JWGIKWFSCO</td>\n",
       "      <td>2018-12-30</td>\n",
       "      <td>V8HPYOK6H6W5C5WQ</td>\n",
       "      <td>5AI9YF2ROZIV8QPJ</td>\n",
       "      <td>2019-01-01 06:00:00+00:00</td>\n",
       "      <td>['Pamela Davis']</td>\n",
       "      <td>536.0</td>\n",
       "      <td>Breakfast</td>\n",
       "      <td>False</td>\n",
       "    </tr>\n",
       "  </tbody>\n",
       "</table>\n",
       "<p>50017 rows × 9 columns</p>\n",
       "</div>"
      ],
      "text/plain": [
       "               Order Id       Date           Meal Id        Company Id  \\\n",
       "1449   HH1CUKNKIIK87D4L 2014-01-03  M4QG9N01E25U3A53  N4BN0GG5XKZV113C   \n",
       "4256   KFXTYDP0YG9C6AZF 2014-01-03  RUMIZCB9KM3N57BN  9FOCJR50GUHXT2S0   \n",
       "4747   D5NR6EP8NQZ0TGW6 2014-01-05  5GDXSLG0F4WA3JEZ  RJ1NLTCTP1COK3YS   \n",
       "5097   2T71YISMHMPBKE3Z 2014-01-03  0C7DIKEPG5KXNRFR  R835HX2AVB1KJJL0   \n",
       "5154   V226RP8DLAQQKU51 2014-01-04  6C9WDEPC4Q05WBSR  23B3R2N3LSYQJQMF   \n",
       "...                 ...        ...               ...               ...   \n",
       "33833  IVSKD45PB8FZ0DRT 2018-12-31  6M3DK5ZNSTNHD50B  EIX79KCQQWJKLP21   \n",
       "35406  IASPC12JU67ANTA5 2018-12-29  0MJH7DMFHIPI2T81  90KJEJUQ6MQO6NEW   \n",
       "36958  0GNFQ2XTTI56QE1E 2018-12-30  9UPI7YU9WQDSBR1P  9IPX1GTNSJJOULSB   \n",
       "43534  8YHA5UTWAT7BOC24 2018-12-31  041RWJS7KUFPFVV9  Z19C6Y8F5Q22DMFK   \n",
       "48207  J5FBQ0JWGIKWFSCO 2018-12-30  V8HPYOK6H6W5C5WQ  5AI9YF2ROZIV8QPJ   \n",
       "\n",
       "                   Date of Meal  \\\n",
       "1449  2013-12-31 21:00:00+00:00   \n",
       "4256  2013-12-31 12:00:00+00:00   \n",
       "4747  2013-12-31 21:00:00+00:00   \n",
       "5097  2013-12-30 19:00:00+00:00   \n",
       "5154  2013-12-30 13:00:00+00:00   \n",
       "...                         ...   \n",
       "33833 2019-01-04 08:00:00+00:00   \n",
       "35406 2019-01-02 11:00:00+00:00   \n",
       "36958 2019-01-03 11:00:00+00:00   \n",
       "43534 2019-01-03 07:00:00+00:00   \n",
       "48207 2019-01-01 06:00:00+00:00   \n",
       "\n",
       "                                            Participants  Meal Price  \\\n",
       "1449                                    ['Jason Cuevas']       546.0   \n",
       "4256   ['Robert Hairfield' 'Ray Dowty' 'Adam Bowers' ...       586.0   \n",
       "4747                                    ['Leta Stevens']       549.0   \n",
       "5097                                  ['Hunter Marquez']       338.0   \n",
       "5154   ['Erin Jones' 'Blake Newman' 'John Truett' 'Go...       377.0   \n",
       "...                                                  ...         ...   \n",
       "33833                    ['Bob Fulton' 'Jermaine Rawls']       388.0   \n",
       "35406                                  ['Ted Pickering']       285.0   \n",
       "36958       ['John Hightower' 'Adam Hill' 'Betty Sagen']       600.0   \n",
       "43534                     ['Marva Cormier' 'Amy Boothe']       377.0   \n",
       "48207                                   ['Pamela Davis']       536.0   \n",
       "\n",
       "      Type of Meal  Heroes Adjustment  \n",
       "1449        Dinner              False  \n",
       "4256         Lunch              False  \n",
       "4747        Dinner              False  \n",
       "5097        Dinner              False  \n",
       "5154         Lunch              False  \n",
       "...            ...                ...  \n",
       "33833    Breakfast              False  \n",
       "35406        Lunch              False  \n",
       "36958        Lunch              False  \n",
       "43534    Breakfast              False  \n",
       "48207    Breakfast              False  \n",
       "\n",
       "[50017 rows x 9 columns]"
      ]
     },
     "execution_count": 46,
     "metadata": {},
     "output_type": "execute_result"
    }
   ],
   "source": [
    "pd.concat([y_2013,y_2014,y_2015,y_2016,y_2017,y_2018,y_2019])"
   ]
  },
  {
   "cell_type": "code",
   "execution_count": 47,
   "metadata": {
    "ExecuteTime": {
     "end_time": "2022-06-11T10:07:54.684158Z",
     "start_time": "2022-06-11T10:07:54.614856Z"
    }
   },
   "outputs": [
    {
     "data": {
      "text/html": [
       "<div>\n",
       "<style scoped>\n",
       "    .dataframe tbody tr th:only-of-type {\n",
       "        vertical-align: middle;\n",
       "    }\n",
       "\n",
       "    .dataframe tbody tr th {\n",
       "        vertical-align: top;\n",
       "    }\n",
       "\n",
       "    .dataframe thead th {\n",
       "        text-align: right;\n",
       "    }\n",
       "</style>\n",
       "<table border=\"1\" class=\"dataframe\">\n",
       "  <thead>\n",
       "    <tr style=\"text-align: right;\">\n",
       "      <th></th>\n",
       "      <th></th>\n",
       "      <th>Order Id</th>\n",
       "      <th>Date</th>\n",
       "      <th>Meal Id</th>\n",
       "      <th>Company Id</th>\n",
       "      <th>Date of Meal</th>\n",
       "      <th>Participants</th>\n",
       "      <th>Meal Price</th>\n",
       "      <th>Type of Meal</th>\n",
       "      <th>Heroes Adjustment</th>\n",
       "    </tr>\n",
       "  </thead>\n",
       "  <tbody>\n",
       "    <tr>\n",
       "      <th rowspan=\"32\" valign=\"top\">18</th>\n",
       "      <th>49846</th>\n",
       "      <td>L2FKFMSS38HLB01A</td>\n",
       "      <td>2018-12-24</td>\n",
       "      <td>BOM4SK74TONIULMV</td>\n",
       "      <td>6V8H50ZNLMAF7UNC</td>\n",
       "      <td>2018-12-25 19:00:00+00:00</td>\n",
       "      <td>['Antonio Filipiak']</td>\n",
       "      <td>229.0</td>\n",
       "      <td>Dinner</td>\n",
       "      <td>False</td>\n",
       "    </tr>\n",
       "    <tr>\n",
       "      <th>49849</th>\n",
       "      <td>13MX623FMS4N6HX9</td>\n",
       "      <td>2018-10-30</td>\n",
       "      <td>GC561LRPNE8IHVZ7</td>\n",
       "      <td>6V8H50ZNLMAF7UNC</td>\n",
       "      <td>2018-10-28 13:00:00+00:00</td>\n",
       "      <td>['Antonio Filipiak']</td>\n",
       "      <td>314.0</td>\n",
       "      <td>Lunch</td>\n",
       "      <td>False</td>\n",
       "    </tr>\n",
       "    <tr>\n",
       "      <th>49867</th>\n",
       "      <td>0C40IGCYNJUOXEW4</td>\n",
       "      <td>2018-09-23</td>\n",
       "      <td>QQ9LET7P1TZZB3NY</td>\n",
       "      <td>3OE3X93CX3TNVHLA</td>\n",
       "      <td>2018-09-25 06:00:00+00:00</td>\n",
       "      <td>['Rosemarie Emery']</td>\n",
       "      <td>691.0</td>\n",
       "      <td>Breakfast</td>\n",
       "      <td>False</td>\n",
       "    </tr>\n",
       "    <tr>\n",
       "      <th>49871</th>\n",
       "      <td>2HUEN5YYO5GTTRZB</td>\n",
       "      <td>2018-12-09</td>\n",
       "      <td>AEKMZ1245RD8CAZB</td>\n",
       "      <td>3OE3X93CX3TNVHLA</td>\n",
       "      <td>2018-12-07 07:00:00+00:00</td>\n",
       "      <td>['Jeffrey Phillips']</td>\n",
       "      <td>754.0</td>\n",
       "      <td>Breakfast</td>\n",
       "      <td>False</td>\n",
       "    </tr>\n",
       "    <tr>\n",
       "      <th>49872</th>\n",
       "      <td>M86IVU1KTTREIN5L</td>\n",
       "      <td>2018-03-27</td>\n",
       "      <td>CVJX8VY40V46NID4</td>\n",
       "      <td>3OE3X93CX3TNVHLA</td>\n",
       "      <td>2018-03-23 21:00:00+00:00</td>\n",
       "      <td>['Rosemarie Emery']</td>\n",
       "      <td>187.0</td>\n",
       "      <td>Dinner</td>\n",
       "      <td>False</td>\n",
       "    </tr>\n",
       "    <tr>\n",
       "      <th>49880</th>\n",
       "      <td>6JQ0SZ9BYLVYCCBS</td>\n",
       "      <td>2018-07-04</td>\n",
       "      <td>4NMJZ9AIBV94O2P6</td>\n",
       "      <td>HWSNBW4VK5EB51WJ</td>\n",
       "      <td>2018-07-03 19:00:00+00:00</td>\n",
       "      <td>['Rolanda Bronner']</td>\n",
       "      <td>267.0</td>\n",
       "      <td>Dinner</td>\n",
       "      <td>False</td>\n",
       "    </tr>\n",
       "    <tr>\n",
       "      <th>49881</th>\n",
       "      <td>J79GRH6DRWD1FM3G</td>\n",
       "      <td>2018-09-06</td>\n",
       "      <td>G0247JDOLUVLSDDU</td>\n",
       "      <td>HWSNBW4VK5EB51WJ</td>\n",
       "      <td>2018-09-02 19:00:00+00:00</td>\n",
       "      <td>['Rolanda Bronner']</td>\n",
       "      <td>609.0</td>\n",
       "      <td>Dinner</td>\n",
       "      <td>False</td>\n",
       "    </tr>\n",
       "    <tr>\n",
       "      <th>49886</th>\n",
       "      <td>HIWH9D43ZVXZK0UV</td>\n",
       "      <td>2018-04-06</td>\n",
       "      <td>E9HPF137PBO8Z4WP</td>\n",
       "      <td>CZTLKWWDEHQ0GW0I</td>\n",
       "      <td>2018-04-06 11:00:00+00:00</td>\n",
       "      <td>['Olga Fortenberry']</td>\n",
       "      <td>202.0</td>\n",
       "      <td>Lunch</td>\n",
       "      <td>False</td>\n",
       "    </tr>\n",
       "    <tr>\n",
       "      <th>49901</th>\n",
       "      <td>8YB6RG1YWJWP1WU6</td>\n",
       "      <td>2018-01-04</td>\n",
       "      <td>WC4A93447PVITQRN</td>\n",
       "      <td>CZTLKWWDEHQ0GW0I</td>\n",
       "      <td>2018-01-08 20:00:00+00:00</td>\n",
       "      <td>['Olga Fortenberry']</td>\n",
       "      <td>875.0</td>\n",
       "      <td>Dinner</td>\n",
       "      <td>False</td>\n",
       "    </tr>\n",
       "    <tr>\n",
       "      <th>49904</th>\n",
       "      <td>Q2R4R42DJKRLRP7S</td>\n",
       "      <td>2018-06-21</td>\n",
       "      <td>OQE96RP4EC8DWM1P</td>\n",
       "      <td>PLGXGQY1FMR95OBC</td>\n",
       "      <td>2018-06-23 18:00:00+00:00</td>\n",
       "      <td>['Theodore Garrison']</td>\n",
       "      <td>524.0</td>\n",
       "      <td>Dinner</td>\n",
       "      <td>False</td>\n",
       "    </tr>\n",
       "    <tr>\n",
       "      <th>49911</th>\n",
       "      <td>1GZLB9NSCBM7U8QJ</td>\n",
       "      <td>2018-01-06</td>\n",
       "      <td>HBHTBLVYI9QV5TSU</td>\n",
       "      <td>PLGXGQY1FMR95OBC</td>\n",
       "      <td>2018-01-05 12:00:00+00:00</td>\n",
       "      <td>['Theodore Garrison']</td>\n",
       "      <td>534.0</td>\n",
       "      <td>Lunch</td>\n",
       "      <td>False</td>\n",
       "    </tr>\n",
       "    <tr>\n",
       "      <th>49915</th>\n",
       "      <td>QYKCMPCP9WQ56ZA4</td>\n",
       "      <td>2018-04-11</td>\n",
       "      <td>W7E4RDUKEA7QG52E</td>\n",
       "      <td>8YOY0UK6SVPKGWDV</td>\n",
       "      <td>2018-04-07 18:00:00+00:00</td>\n",
       "      <td>['Hortense Strauss' 'Justin East']</td>\n",
       "      <td>705.0</td>\n",
       "      <td>Dinner</td>\n",
       "      <td>False</td>\n",
       "    </tr>\n",
       "    <tr>\n",
       "      <th>49917</th>\n",
       "      <td>PS47D4CIC4ND0IO5</td>\n",
       "      <td>2018-04-03</td>\n",
       "      <td>6YX35HODY6XK627N</td>\n",
       "      <td>8YOY0UK6SVPKGWDV</td>\n",
       "      <td>2018-03-30 11:00:00+00:00</td>\n",
       "      <td>['Marty Loveland']</td>\n",
       "      <td>395.0</td>\n",
       "      <td>Lunch</td>\n",
       "      <td>False</td>\n",
       "    </tr>\n",
       "    <tr>\n",
       "      <th>49923</th>\n",
       "      <td>SABLOCNYPRQ8R94G</td>\n",
       "      <td>2018-01-12</td>\n",
       "      <td>O8M470ANNQO0YD63</td>\n",
       "      <td>DNAC0XNVYCD3J62R</td>\n",
       "      <td>2018-01-15 21:00:00+00:00</td>\n",
       "      <td>['Amy Spicer']</td>\n",
       "      <td>444.0</td>\n",
       "      <td>Dinner</td>\n",
       "      <td>False</td>\n",
       "    </tr>\n",
       "    <tr>\n",
       "      <th>49927</th>\n",
       "      <td>AICZ5PCGDMFEXMX0</td>\n",
       "      <td>2018-06-25</td>\n",
       "      <td>59A74QG7098LEPQI</td>\n",
       "      <td>DNAC0XNVYCD3J62R</td>\n",
       "      <td>2018-06-22 18:00:00+00:00</td>\n",
       "      <td>['Amy Spicer']</td>\n",
       "      <td>102.0</td>\n",
       "      <td>Dinner</td>\n",
       "      <td>False</td>\n",
       "    </tr>\n",
       "    <tr>\n",
       "      <th>49928</th>\n",
       "      <td>GJAYV9J7BZL53162</td>\n",
       "      <td>2018-07-02</td>\n",
       "      <td>MJ82X2V9R1IEWD9K</td>\n",
       "      <td>DNAC0XNVYCD3J62R</td>\n",
       "      <td>2018-06-29 11:00:00+00:00</td>\n",
       "      <td>['Linda Torros']</td>\n",
       "      <td>406.0</td>\n",
       "      <td>Lunch</td>\n",
       "      <td>False</td>\n",
       "    </tr>\n",
       "    <tr>\n",
       "      <th>49933</th>\n",
       "      <td>YD1KKIXM1UQAUCHE</td>\n",
       "      <td>2018-12-29</td>\n",
       "      <td>1OHQL5J1IA4LG415</td>\n",
       "      <td>P005KZN9HKO1TQK4</td>\n",
       "      <td>2018-12-30 11:00:00+00:00</td>\n",
       "      <td>['Kathy Nava' 'Sylvia Vanpelt']</td>\n",
       "      <td>218.0</td>\n",
       "      <td>Lunch</td>\n",
       "      <td>False</td>\n",
       "    </tr>\n",
       "    <tr>\n",
       "      <th>49934</th>\n",
       "      <td>BBCDO8U1LQKNG8H9</td>\n",
       "      <td>2018-11-28</td>\n",
       "      <td>UGG09HWXZUX59BB5</td>\n",
       "      <td>P005KZN9HKO1TQK4</td>\n",
       "      <td>2018-12-01 20:00:00+00:00</td>\n",
       "      <td>['James Rios' 'Sylvia Vanpelt']</td>\n",
       "      <td>313.0</td>\n",
       "      <td>Dinner</td>\n",
       "      <td>False</td>\n",
       "    </tr>\n",
       "    <tr>\n",
       "      <th>49944</th>\n",
       "      <td>3DYZA7PIUJR121JO</td>\n",
       "      <td>2018-07-13</td>\n",
       "      <td>LGJF1B9H8A3AW48P</td>\n",
       "      <td>RSBI0DYL6TW6ONC2</td>\n",
       "      <td>2018-07-17 05:00:00+00:00</td>\n",
       "      <td>['James Leich' 'Billy Drelick' 'Ines Powell' '...</td>\n",
       "      <td>395.0</td>\n",
       "      <td>Breakfast</td>\n",
       "      <td>False</td>\n",
       "    </tr>\n",
       "    <tr>\n",
       "      <th>49955</th>\n",
       "      <td>KONFX2N4WH3C5HL8</td>\n",
       "      <td>2018-05-14</td>\n",
       "      <td>MHBROCR5CCKWPNGU</td>\n",
       "      <td>RSBI0DYL6TW6ONC2</td>\n",
       "      <td>2018-05-16 07:00:00+00:00</td>\n",
       "      <td>['James Leich']</td>\n",
       "      <td>112.0</td>\n",
       "      <td>Breakfast</td>\n",
       "      <td>False</td>\n",
       "    </tr>\n",
       "    <tr>\n",
       "      <th>49956</th>\n",
       "      <td>TZIOJQZ9K3FUESZ0</td>\n",
       "      <td>2018-02-03</td>\n",
       "      <td>V7T1EIGVBR1Q56NH</td>\n",
       "      <td>RSBI0DYL6TW6ONC2</td>\n",
       "      <td>2018-02-01 19:00:00+00:00</td>\n",
       "      <td>['Kimberly Guy']</td>\n",
       "      <td>100.0</td>\n",
       "      <td>Dinner</td>\n",
       "      <td>False</td>\n",
       "    </tr>\n",
       "    <tr>\n",
       "      <th>49969</th>\n",
       "      <td>YTPGKD59045CEVWU</td>\n",
       "      <td>2018-05-25</td>\n",
       "      <td>P2ZZPHFI5DLDRKT1</td>\n",
       "      <td>41AQ4K1NC4FVCGKJ</td>\n",
       "      <td>2018-05-24 18:00:00+00:00</td>\n",
       "      <td>['Samuel Blum' 'Emily Price']</td>\n",
       "      <td>796.0</td>\n",
       "      <td>Dinner</td>\n",
       "      <td>False</td>\n",
       "    </tr>\n",
       "    <tr>\n",
       "      <th>49971</th>\n",
       "      <td>J3LE0N5BOAIUS0W5</td>\n",
       "      <td>2018-10-13</td>\n",
       "      <td>DQQZL4WSYJCVQOOP</td>\n",
       "      <td>41AQ4K1NC4FVCGKJ</td>\n",
       "      <td>2018-10-12 20:00:00+00:00</td>\n",
       "      <td>['Samuel Blum' 'Kevin Bracey']</td>\n",
       "      <td>407.0</td>\n",
       "      <td>Dinner</td>\n",
       "      <td>False</td>\n",
       "    </tr>\n",
       "    <tr>\n",
       "      <th>49973</th>\n",
       "      <td>QYAGIC1MD49E7PKQ</td>\n",
       "      <td>2018-04-25</td>\n",
       "      <td>4TMGDUNLCMBYOKS4</td>\n",
       "      <td>4JW3GG4YW52M86F5</td>\n",
       "      <td>2018-04-24 11:00:00+00:00</td>\n",
       "      <td>['Ida Brown' 'Grace Rodriguez']</td>\n",
       "      <td>87.0</td>\n",
       "      <td>Lunch</td>\n",
       "      <td>False</td>\n",
       "    </tr>\n",
       "    <tr>\n",
       "      <th>49983</th>\n",
       "      <td>NNET5BV06VRKMFAH</td>\n",
       "      <td>2018-03-16</td>\n",
       "      <td>T4NYT08JJ363GSYG</td>\n",
       "      <td>R0KV9HJ7RIRRYSVG</td>\n",
       "      <td>2018-03-20 08:00:00+00:00</td>\n",
       "      <td>['Dennis Dannis']</td>\n",
       "      <td>371.0</td>\n",
       "      <td>Breakfast</td>\n",
       "      <td>False</td>\n",
       "    </tr>\n",
       "    <tr>\n",
       "      <th>49985</th>\n",
       "      <td>MWSMD6U0JR1OHPIR</td>\n",
       "      <td>2018-09-08</td>\n",
       "      <td>5LSTGLVAV5I5A1PQ</td>\n",
       "      <td>R0KV9HJ7RIRRYSVG</td>\n",
       "      <td>2018-09-11 06:00:00+00:00</td>\n",
       "      <td>['Dennis Dannis']</td>\n",
       "      <td>86.0</td>\n",
       "      <td>Breakfast</td>\n",
       "      <td>False</td>\n",
       "    </tr>\n",
       "    <tr>\n",
       "      <th>49990</th>\n",
       "      <td>W9UQE6OG3X7LRH3N</td>\n",
       "      <td>2018-04-10</td>\n",
       "      <td>DGNUNDE9W27FQ971</td>\n",
       "      <td>R0KV9HJ7RIRRYSVG</td>\n",
       "      <td>2018-04-08 11:00:00+00:00</td>\n",
       "      <td>['Antonio Brown' 'Ashley Owens' 'Dennis Dannis']</td>\n",
       "      <td>47.0</td>\n",
       "      <td>Lunch</td>\n",
       "      <td>False</td>\n",
       "    </tr>\n",
       "    <tr>\n",
       "      <th>49991</th>\n",
       "      <td>CGPOTR0XW6FDEQQ1</td>\n",
       "      <td>2018-12-24</td>\n",
       "      <td>8K07A0E1NNRYG9OG</td>\n",
       "      <td>5K17HYJQ6JG6UFU0</td>\n",
       "      <td>2018-12-24 06:00:00+00:00</td>\n",
       "      <td>['Michelle Lachiatto']</td>\n",
       "      <td>640.0</td>\n",
       "      <td>Breakfast</td>\n",
       "      <td>False</td>\n",
       "    </tr>\n",
       "    <tr>\n",
       "      <th>49999</th>\n",
       "      <td>JOPTZ9VYV1RWPTW7</td>\n",
       "      <td>2018-02-01</td>\n",
       "      <td>I5EXQPTV5PK8PC3C</td>\n",
       "      <td>5K17HYJQ6JG6UFU0</td>\n",
       "      <td>2018-01-29 12:00:00+00:00</td>\n",
       "      <td>['Arleen Williams']</td>\n",
       "      <td>563.0</td>\n",
       "      <td>Lunch</td>\n",
       "      <td>False</td>\n",
       "    </tr>\n",
       "    <tr>\n",
       "      <th>50011</th>\n",
       "      <td>81J2RM0YM63VAT0K</td>\n",
       "      <td>2018-06-03</td>\n",
       "      <td>HNXSJZQ120WGAWZP</td>\n",
       "      <td>E4K99D4JR9E40VE1</td>\n",
       "      <td>2018-06-03 05:00:00+00:00</td>\n",
       "      <td>['Chester Mortimer' 'Robin Ramos']</td>\n",
       "      <td>598.0</td>\n",
       "      <td>Breakfast</td>\n",
       "      <td>False</td>\n",
       "    </tr>\n",
       "    <tr>\n",
       "      <th>50013</th>\n",
       "      <td>RR0VKJN8V0KHNKGG</td>\n",
       "      <td>2018-03-19</td>\n",
       "      <td>22EX9VZSJKHP4AIP</td>\n",
       "      <td>E4K99D4JR9E40VE1</td>\n",
       "      <td>2018-03-18 08:00:00+00:00</td>\n",
       "      <td>['Robin Ramos' 'Chester Mortimer']</td>\n",
       "      <td>25.0</td>\n",
       "      <td>Breakfast</td>\n",
       "      <td>False</td>\n",
       "    </tr>\n",
       "    <tr>\n",
       "      <th>50015</th>\n",
       "      <td>QHEUIYNC0XQX7GDR</td>\n",
       "      <td>2018-01-28</td>\n",
       "      <td>4U0VH2TGQL30X23X</td>\n",
       "      <td>E4K99D4JR9E40VE1</td>\n",
       "      <td>2018-02-01 20:00:00+00:00</td>\n",
       "      <td>['Chester Mortimer' 'Robin Ramos']</td>\n",
       "      <td>497.0</td>\n",
       "      <td>Dinner</td>\n",
       "      <td>False</td>\n",
       "    </tr>\n",
       "    <tr>\n",
       "      <th rowspan=\"18\" valign=\"top\">19</th>\n",
       "      <th>1122</th>\n",
       "      <td>SVKO4MFVVCJ2IO7R</td>\n",
       "      <td>2018-12-29</td>\n",
       "      <td>DLHZCS3TGWJECP7J</td>\n",
       "      <td>I7AWOJEL8XF2I3CO</td>\n",
       "      <td>2019-01-02 06:00:00+00:00</td>\n",
       "      <td>['Phyllis Mcfarlane']</td>\n",
       "      <td>187.0</td>\n",
       "      <td>Breakfast</td>\n",
       "      <td>False</td>\n",
       "    </tr>\n",
       "    <tr>\n",
       "      <th>3308</th>\n",
       "      <td>YHZZ6A53NLZWMGWH</td>\n",
       "      <td>2018-12-30</td>\n",
       "      <td>ELTPN1FFIKNZ9C8Q</td>\n",
       "      <td>JG15WM9203FQ315X</td>\n",
       "      <td>2019-01-02 19:00:00+00:00</td>\n",
       "      <td>['Linda Lyons' 'Don Garcia']</td>\n",
       "      <td>723.0</td>\n",
       "      <td>Dinner</td>\n",
       "      <td>False</td>\n",
       "    </tr>\n",
       "    <tr>\n",
       "      <th>5015</th>\n",
       "      <td>G6P11M7CH9Y95NZQ</td>\n",
       "      <td>2018-12-31</td>\n",
       "      <td>OUKKE42OL17Q6QZJ</td>\n",
       "      <td>FFO6UGOKSNVR8MFO</td>\n",
       "      <td>2019-01-01 19:00:00+00:00</td>\n",
       "      <td>['Nancy Griffin']</td>\n",
       "      <td>363.0</td>\n",
       "      <td>Dinner</td>\n",
       "      <td>False</td>\n",
       "    </tr>\n",
       "    <tr>\n",
       "      <th>7268</th>\n",
       "      <td>O3SJZ5MPWHV69FZW</td>\n",
       "      <td>2018-12-30</td>\n",
       "      <td>39QKKF9TWULEO8HH</td>\n",
       "      <td>6RLVMXBQDTQXPJAT</td>\n",
       "      <td>2019-01-01 20:00:00+00:00</td>\n",
       "      <td>['William Gerrald' 'Stacie Karr' 'Toni Cernota...</td>\n",
       "      <td>656.0</td>\n",
       "      <td>Dinner</td>\n",
       "      <td>False</td>\n",
       "    </tr>\n",
       "    <tr>\n",
       "      <th>8320</th>\n",
       "      <td>SR1IPX1E2DPR5TQF</td>\n",
       "      <td>2018-12-29</td>\n",
       "      <td>PBB5QC2UNRYLMC61</td>\n",
       "      <td>BJQESLTT3W3790WI</td>\n",
       "      <td>2019-01-01 20:00:00+00:00</td>\n",
       "      <td>['Janet Torres' 'Holly Dowell']</td>\n",
       "      <td>605.0</td>\n",
       "      <td>Dinner</td>\n",
       "      <td>False</td>\n",
       "    </tr>\n",
       "    <tr>\n",
       "      <th>10940</th>\n",
       "      <td>I8USYS7DPQKTPM3H</td>\n",
       "      <td>2018-12-31</td>\n",
       "      <td>6E1515IUTFYUH4WR</td>\n",
       "      <td>FOZUB96D4RT1CZBZ</td>\n",
       "      <td>2019-01-04 11:00:00+00:00</td>\n",
       "      <td>['Paul Unterseher']</td>\n",
       "      <td>606.0</td>\n",
       "      <td>Lunch</td>\n",
       "      <td>False</td>\n",
       "    </tr>\n",
       "    <tr>\n",
       "      <th>14119</th>\n",
       "      <td>VR1RS2PNZUGQ9IBN</td>\n",
       "      <td>2018-12-28</td>\n",
       "      <td>LIKB70J6SHF8QQ27</td>\n",
       "      <td>K0PJ5AIJV0WFCZ3D</td>\n",
       "      <td>2019-01-01 20:00:00+00:00</td>\n",
       "      <td>['Nery Donohoe' 'Damian Hogan' 'Roy Ceraos' 'M...</td>\n",
       "      <td>471.0</td>\n",
       "      <td>Dinner</td>\n",
       "      <td>False</td>\n",
       "    </tr>\n",
       "    <tr>\n",
       "      <th>15564</th>\n",
       "      <td>UIDZ4EF22PKA6C6O</td>\n",
       "      <td>2018-12-31</td>\n",
       "      <td>N9F1N6SK0022V65X</td>\n",
       "      <td>4YYGSHKOLDMGL5JV</td>\n",
       "      <td>2019-01-03 13:00:00+00:00</td>\n",
       "      <td>['Stephanie Walker']</td>\n",
       "      <td>405.0</td>\n",
       "      <td>Lunch</td>\n",
       "      <td>False</td>\n",
       "    </tr>\n",
       "    <tr>\n",
       "      <th>15653</th>\n",
       "      <td>XQ52ETWZRBOW5T5L</td>\n",
       "      <td>2018-12-28</td>\n",
       "      <td>IN3PTGK3II5U3JQD</td>\n",
       "      <td>N5K5Y7C6F3BY36FK</td>\n",
       "      <td>2019-01-01 06:00:00+00:00</td>\n",
       "      <td>['Wanda Nieman']</td>\n",
       "      <td>630.0</td>\n",
       "      <td>Breakfast</td>\n",
       "      <td>False</td>\n",
       "    </tr>\n",
       "    <tr>\n",
       "      <th>17250</th>\n",
       "      <td>SUI9U7W44ZN20HD1</td>\n",
       "      <td>2018-12-30</td>\n",
       "      <td>2AXR70OG53ZG5KU9</td>\n",
       "      <td>5EII44XY6W4119X4</td>\n",
       "      <td>2019-01-01 21:00:00+00:00</td>\n",
       "      <td>['Isaac Venhorst']</td>\n",
       "      <td>10.0</td>\n",
       "      <td>Dinner</td>\n",
       "      <td>False</td>\n",
       "    </tr>\n",
       "    <tr>\n",
       "      <th>21886</th>\n",
       "      <td>JL40FO3FGP2XZG37</td>\n",
       "      <td>2018-12-30</td>\n",
       "      <td>KWB811LA3G12NGBJ</td>\n",
       "      <td>8RCMS5IGT0H13X96</td>\n",
       "      <td>2019-01-01 12:00:00+00:00</td>\n",
       "      <td>['Ramon Stacy']</td>\n",
       "      <td>49.0</td>\n",
       "      <td>Lunch</td>\n",
       "      <td>False</td>\n",
       "    </tr>\n",
       "    <tr>\n",
       "      <th>22633</th>\n",
       "      <td>C0JUOJIY8230CY4C</td>\n",
       "      <td>2018-12-30</td>\n",
       "      <td>IZR5HWXGW3TP12WI</td>\n",
       "      <td>IU5IVY4G90GVWCZM</td>\n",
       "      <td>2019-01-03 08:00:00+00:00</td>\n",
       "      <td>['Judy Ledford' 'Howard Harris' 'Myrna White' ...</td>\n",
       "      <td>504.0</td>\n",
       "      <td>Breakfast</td>\n",
       "      <td>False</td>\n",
       "    </tr>\n",
       "    <tr>\n",
       "      <th>27605</th>\n",
       "      <td>3HUAW5O21OKGX3R8</td>\n",
       "      <td>2018-12-31</td>\n",
       "      <td>SSVCMZ58VFOLH50X</td>\n",
       "      <td>8ZOXQEP85XA8V57V</td>\n",
       "      <td>2019-01-03 20:00:00+00:00</td>\n",
       "      <td>['Nicholas Drew']</td>\n",
       "      <td>382.0</td>\n",
       "      <td>Dinner</td>\n",
       "      <td>False</td>\n",
       "    </tr>\n",
       "    <tr>\n",
       "      <th>33833</th>\n",
       "      <td>IVSKD45PB8FZ0DRT</td>\n",
       "      <td>2018-12-31</td>\n",
       "      <td>6M3DK5ZNSTNHD50B</td>\n",
       "      <td>EIX79KCQQWJKLP21</td>\n",
       "      <td>2019-01-04 08:00:00+00:00</td>\n",
       "      <td>['Bob Fulton' 'Jermaine Rawls']</td>\n",
       "      <td>388.0</td>\n",
       "      <td>Breakfast</td>\n",
       "      <td>False</td>\n",
       "    </tr>\n",
       "    <tr>\n",
       "      <th>35406</th>\n",
       "      <td>IASPC12JU67ANTA5</td>\n",
       "      <td>2018-12-29</td>\n",
       "      <td>0MJH7DMFHIPI2T81</td>\n",
       "      <td>90KJEJUQ6MQO6NEW</td>\n",
       "      <td>2019-01-02 11:00:00+00:00</td>\n",
       "      <td>['Ted Pickering']</td>\n",
       "      <td>285.0</td>\n",
       "      <td>Lunch</td>\n",
       "      <td>False</td>\n",
       "    </tr>\n",
       "    <tr>\n",
       "      <th>36958</th>\n",
       "      <td>0GNFQ2XTTI56QE1E</td>\n",
       "      <td>2018-12-30</td>\n",
       "      <td>9UPI7YU9WQDSBR1P</td>\n",
       "      <td>9IPX1GTNSJJOULSB</td>\n",
       "      <td>2019-01-03 11:00:00+00:00</td>\n",
       "      <td>['John Hightower' 'Adam Hill' 'Betty Sagen']</td>\n",
       "      <td>600.0</td>\n",
       "      <td>Lunch</td>\n",
       "      <td>False</td>\n",
       "    </tr>\n",
       "    <tr>\n",
       "      <th>43534</th>\n",
       "      <td>8YHA5UTWAT7BOC24</td>\n",
       "      <td>2018-12-31</td>\n",
       "      <td>041RWJS7KUFPFVV9</td>\n",
       "      <td>Z19C6Y8F5Q22DMFK</td>\n",
       "      <td>2019-01-03 07:00:00+00:00</td>\n",
       "      <td>['Marva Cormier' 'Amy Boothe']</td>\n",
       "      <td>377.0</td>\n",
       "      <td>Breakfast</td>\n",
       "      <td>False</td>\n",
       "    </tr>\n",
       "    <tr>\n",
       "      <th>48207</th>\n",
       "      <td>J5FBQ0JWGIKWFSCO</td>\n",
       "      <td>2018-12-30</td>\n",
       "      <td>V8HPYOK6H6W5C5WQ</td>\n",
       "      <td>5AI9YF2ROZIV8QPJ</td>\n",
       "      <td>2019-01-01 06:00:00+00:00</td>\n",
       "      <td>['Pamela Davis']</td>\n",
       "      <td>536.0</td>\n",
       "      <td>Breakfast</td>\n",
       "      <td>False</td>\n",
       "    </tr>\n",
       "  </tbody>\n",
       "</table>\n",
       "</div>"
      ],
      "text/plain": [
       "                  Order Id       Date           Meal Id        Company Id  \\\n",
       "18 49846  L2FKFMSS38HLB01A 2018-12-24  BOM4SK74TONIULMV  6V8H50ZNLMAF7UNC   \n",
       "   49849  13MX623FMS4N6HX9 2018-10-30  GC561LRPNE8IHVZ7  6V8H50ZNLMAF7UNC   \n",
       "   49867  0C40IGCYNJUOXEW4 2018-09-23  QQ9LET7P1TZZB3NY  3OE3X93CX3TNVHLA   \n",
       "   49871  2HUEN5YYO5GTTRZB 2018-12-09  AEKMZ1245RD8CAZB  3OE3X93CX3TNVHLA   \n",
       "   49872  M86IVU1KTTREIN5L 2018-03-27  CVJX8VY40V46NID4  3OE3X93CX3TNVHLA   \n",
       "   49880  6JQ0SZ9BYLVYCCBS 2018-07-04  4NMJZ9AIBV94O2P6  HWSNBW4VK5EB51WJ   \n",
       "   49881  J79GRH6DRWD1FM3G 2018-09-06  G0247JDOLUVLSDDU  HWSNBW4VK5EB51WJ   \n",
       "   49886  HIWH9D43ZVXZK0UV 2018-04-06  E9HPF137PBO8Z4WP  CZTLKWWDEHQ0GW0I   \n",
       "   49901  8YB6RG1YWJWP1WU6 2018-01-04  WC4A93447PVITQRN  CZTLKWWDEHQ0GW0I   \n",
       "   49904  Q2R4R42DJKRLRP7S 2018-06-21  OQE96RP4EC8DWM1P  PLGXGQY1FMR95OBC   \n",
       "   49911  1GZLB9NSCBM7U8QJ 2018-01-06  HBHTBLVYI9QV5TSU  PLGXGQY1FMR95OBC   \n",
       "   49915  QYKCMPCP9WQ56ZA4 2018-04-11  W7E4RDUKEA7QG52E  8YOY0UK6SVPKGWDV   \n",
       "   49917  PS47D4CIC4ND0IO5 2018-04-03  6YX35HODY6XK627N  8YOY0UK6SVPKGWDV   \n",
       "   49923  SABLOCNYPRQ8R94G 2018-01-12  O8M470ANNQO0YD63  DNAC0XNVYCD3J62R   \n",
       "   49927  AICZ5PCGDMFEXMX0 2018-06-25  59A74QG7098LEPQI  DNAC0XNVYCD3J62R   \n",
       "   49928  GJAYV9J7BZL53162 2018-07-02  MJ82X2V9R1IEWD9K  DNAC0XNVYCD3J62R   \n",
       "   49933  YD1KKIXM1UQAUCHE 2018-12-29  1OHQL5J1IA4LG415  P005KZN9HKO1TQK4   \n",
       "   49934  BBCDO8U1LQKNG8H9 2018-11-28  UGG09HWXZUX59BB5  P005KZN9HKO1TQK4   \n",
       "   49944  3DYZA7PIUJR121JO 2018-07-13  LGJF1B9H8A3AW48P  RSBI0DYL6TW6ONC2   \n",
       "   49955  KONFX2N4WH3C5HL8 2018-05-14  MHBROCR5CCKWPNGU  RSBI0DYL6TW6ONC2   \n",
       "   49956  TZIOJQZ9K3FUESZ0 2018-02-03  V7T1EIGVBR1Q56NH  RSBI0DYL6TW6ONC2   \n",
       "   49969  YTPGKD59045CEVWU 2018-05-25  P2ZZPHFI5DLDRKT1  41AQ4K1NC4FVCGKJ   \n",
       "   49971  J3LE0N5BOAIUS0W5 2018-10-13  DQQZL4WSYJCVQOOP  41AQ4K1NC4FVCGKJ   \n",
       "   49973  QYAGIC1MD49E7PKQ 2018-04-25  4TMGDUNLCMBYOKS4  4JW3GG4YW52M86F5   \n",
       "   49983  NNET5BV06VRKMFAH 2018-03-16  T4NYT08JJ363GSYG  R0KV9HJ7RIRRYSVG   \n",
       "   49985  MWSMD6U0JR1OHPIR 2018-09-08  5LSTGLVAV5I5A1PQ  R0KV9HJ7RIRRYSVG   \n",
       "   49990  W9UQE6OG3X7LRH3N 2018-04-10  DGNUNDE9W27FQ971  R0KV9HJ7RIRRYSVG   \n",
       "   49991  CGPOTR0XW6FDEQQ1 2018-12-24  8K07A0E1NNRYG9OG  5K17HYJQ6JG6UFU0   \n",
       "   49999  JOPTZ9VYV1RWPTW7 2018-02-01  I5EXQPTV5PK8PC3C  5K17HYJQ6JG6UFU0   \n",
       "   50011  81J2RM0YM63VAT0K 2018-06-03  HNXSJZQ120WGAWZP  E4K99D4JR9E40VE1   \n",
       "   50013  RR0VKJN8V0KHNKGG 2018-03-19  22EX9VZSJKHP4AIP  E4K99D4JR9E40VE1   \n",
       "   50015  QHEUIYNC0XQX7GDR 2018-01-28  4U0VH2TGQL30X23X  E4K99D4JR9E40VE1   \n",
       "19 1122   SVKO4MFVVCJ2IO7R 2018-12-29  DLHZCS3TGWJECP7J  I7AWOJEL8XF2I3CO   \n",
       "   3308   YHZZ6A53NLZWMGWH 2018-12-30  ELTPN1FFIKNZ9C8Q  JG15WM9203FQ315X   \n",
       "   5015   G6P11M7CH9Y95NZQ 2018-12-31  OUKKE42OL17Q6QZJ  FFO6UGOKSNVR8MFO   \n",
       "   7268   O3SJZ5MPWHV69FZW 2018-12-30  39QKKF9TWULEO8HH  6RLVMXBQDTQXPJAT   \n",
       "   8320   SR1IPX1E2DPR5TQF 2018-12-29  PBB5QC2UNRYLMC61  BJQESLTT3W3790WI   \n",
       "   10940  I8USYS7DPQKTPM3H 2018-12-31  6E1515IUTFYUH4WR  FOZUB96D4RT1CZBZ   \n",
       "   14119  VR1RS2PNZUGQ9IBN 2018-12-28  LIKB70J6SHF8QQ27  K0PJ5AIJV0WFCZ3D   \n",
       "   15564  UIDZ4EF22PKA6C6O 2018-12-31  N9F1N6SK0022V65X  4YYGSHKOLDMGL5JV   \n",
       "   15653  XQ52ETWZRBOW5T5L 2018-12-28  IN3PTGK3II5U3JQD  N5K5Y7C6F3BY36FK   \n",
       "   17250  SUI9U7W44ZN20HD1 2018-12-30  2AXR70OG53ZG5KU9  5EII44XY6W4119X4   \n",
       "   21886  JL40FO3FGP2XZG37 2018-12-30  KWB811LA3G12NGBJ  8RCMS5IGT0H13X96   \n",
       "   22633  C0JUOJIY8230CY4C 2018-12-30  IZR5HWXGW3TP12WI  IU5IVY4G90GVWCZM   \n",
       "   27605  3HUAW5O21OKGX3R8 2018-12-31  SSVCMZ58VFOLH50X  8ZOXQEP85XA8V57V   \n",
       "   33833  IVSKD45PB8FZ0DRT 2018-12-31  6M3DK5ZNSTNHD50B  EIX79KCQQWJKLP21   \n",
       "   35406  IASPC12JU67ANTA5 2018-12-29  0MJH7DMFHIPI2T81  90KJEJUQ6MQO6NEW   \n",
       "   36958  0GNFQ2XTTI56QE1E 2018-12-30  9UPI7YU9WQDSBR1P  9IPX1GTNSJJOULSB   \n",
       "   43534  8YHA5UTWAT7BOC24 2018-12-31  041RWJS7KUFPFVV9  Z19C6Y8F5Q22DMFK   \n",
       "   48207  J5FBQ0JWGIKWFSCO 2018-12-30  V8HPYOK6H6W5C5WQ  5AI9YF2ROZIV8QPJ   \n",
       "\n",
       "                      Date of Meal  \\\n",
       "18 49846 2018-12-25 19:00:00+00:00   \n",
       "   49849 2018-10-28 13:00:00+00:00   \n",
       "   49867 2018-09-25 06:00:00+00:00   \n",
       "   49871 2018-12-07 07:00:00+00:00   \n",
       "   49872 2018-03-23 21:00:00+00:00   \n",
       "   49880 2018-07-03 19:00:00+00:00   \n",
       "   49881 2018-09-02 19:00:00+00:00   \n",
       "   49886 2018-04-06 11:00:00+00:00   \n",
       "   49901 2018-01-08 20:00:00+00:00   \n",
       "   49904 2018-06-23 18:00:00+00:00   \n",
       "   49911 2018-01-05 12:00:00+00:00   \n",
       "   49915 2018-04-07 18:00:00+00:00   \n",
       "   49917 2018-03-30 11:00:00+00:00   \n",
       "   49923 2018-01-15 21:00:00+00:00   \n",
       "   49927 2018-06-22 18:00:00+00:00   \n",
       "   49928 2018-06-29 11:00:00+00:00   \n",
       "   49933 2018-12-30 11:00:00+00:00   \n",
       "   49934 2018-12-01 20:00:00+00:00   \n",
       "   49944 2018-07-17 05:00:00+00:00   \n",
       "   49955 2018-05-16 07:00:00+00:00   \n",
       "   49956 2018-02-01 19:00:00+00:00   \n",
       "   49969 2018-05-24 18:00:00+00:00   \n",
       "   49971 2018-10-12 20:00:00+00:00   \n",
       "   49973 2018-04-24 11:00:00+00:00   \n",
       "   49983 2018-03-20 08:00:00+00:00   \n",
       "   49985 2018-09-11 06:00:00+00:00   \n",
       "   49990 2018-04-08 11:00:00+00:00   \n",
       "   49991 2018-12-24 06:00:00+00:00   \n",
       "   49999 2018-01-29 12:00:00+00:00   \n",
       "   50011 2018-06-03 05:00:00+00:00   \n",
       "   50013 2018-03-18 08:00:00+00:00   \n",
       "   50015 2018-02-01 20:00:00+00:00   \n",
       "19 1122  2019-01-02 06:00:00+00:00   \n",
       "   3308  2019-01-02 19:00:00+00:00   \n",
       "   5015  2019-01-01 19:00:00+00:00   \n",
       "   7268  2019-01-01 20:00:00+00:00   \n",
       "   8320  2019-01-01 20:00:00+00:00   \n",
       "   10940 2019-01-04 11:00:00+00:00   \n",
       "   14119 2019-01-01 20:00:00+00:00   \n",
       "   15564 2019-01-03 13:00:00+00:00   \n",
       "   15653 2019-01-01 06:00:00+00:00   \n",
       "   17250 2019-01-01 21:00:00+00:00   \n",
       "   21886 2019-01-01 12:00:00+00:00   \n",
       "   22633 2019-01-03 08:00:00+00:00   \n",
       "   27605 2019-01-03 20:00:00+00:00   \n",
       "   33833 2019-01-04 08:00:00+00:00   \n",
       "   35406 2019-01-02 11:00:00+00:00   \n",
       "   36958 2019-01-03 11:00:00+00:00   \n",
       "   43534 2019-01-03 07:00:00+00:00   \n",
       "   48207 2019-01-01 06:00:00+00:00   \n",
       "\n",
       "                                               Participants  Meal Price  \\\n",
       "18 49846                               ['Antonio Filipiak']       229.0   \n",
       "   49849                               ['Antonio Filipiak']       314.0   \n",
       "   49867                                ['Rosemarie Emery']       691.0   \n",
       "   49871                               ['Jeffrey Phillips']       754.0   \n",
       "   49872                                ['Rosemarie Emery']       187.0   \n",
       "   49880                                ['Rolanda Bronner']       267.0   \n",
       "   49881                                ['Rolanda Bronner']       609.0   \n",
       "   49886                               ['Olga Fortenberry']       202.0   \n",
       "   49901                               ['Olga Fortenberry']       875.0   \n",
       "   49904                              ['Theodore Garrison']       524.0   \n",
       "   49911                              ['Theodore Garrison']       534.0   \n",
       "   49915                 ['Hortense Strauss' 'Justin East']       705.0   \n",
       "   49917                                 ['Marty Loveland']       395.0   \n",
       "   49923                                     ['Amy Spicer']       444.0   \n",
       "   49927                                     ['Amy Spicer']       102.0   \n",
       "   49928                                   ['Linda Torros']       406.0   \n",
       "   49933                    ['Kathy Nava' 'Sylvia Vanpelt']       218.0   \n",
       "   49934                    ['James Rios' 'Sylvia Vanpelt']       313.0   \n",
       "   49944  ['James Leich' 'Billy Drelick' 'Ines Powell' '...       395.0   \n",
       "   49955                                    ['James Leich']       112.0   \n",
       "   49956                                   ['Kimberly Guy']       100.0   \n",
       "   49969                      ['Samuel Blum' 'Emily Price']       796.0   \n",
       "   49971                     ['Samuel Blum' 'Kevin Bracey']       407.0   \n",
       "   49973                    ['Ida Brown' 'Grace Rodriguez']        87.0   \n",
       "   49983                                  ['Dennis Dannis']       371.0   \n",
       "   49985                                  ['Dennis Dannis']        86.0   \n",
       "   49990   ['Antonio Brown' 'Ashley Owens' 'Dennis Dannis']        47.0   \n",
       "   49991                             ['Michelle Lachiatto']       640.0   \n",
       "   49999                                ['Arleen Williams']       563.0   \n",
       "   50011                 ['Chester Mortimer' 'Robin Ramos']       598.0   \n",
       "   50013                 ['Robin Ramos' 'Chester Mortimer']        25.0   \n",
       "   50015                 ['Chester Mortimer' 'Robin Ramos']       497.0   \n",
       "19 1122                               ['Phyllis Mcfarlane']       187.0   \n",
       "   3308                        ['Linda Lyons' 'Don Garcia']       723.0   \n",
       "   5015                                   ['Nancy Griffin']       363.0   \n",
       "   7268   ['William Gerrald' 'Stacie Karr' 'Toni Cernota...       656.0   \n",
       "   8320                     ['Janet Torres' 'Holly Dowell']       605.0   \n",
       "   10940                                ['Paul Unterseher']       606.0   \n",
       "   14119  ['Nery Donohoe' 'Damian Hogan' 'Roy Ceraos' 'M...       471.0   \n",
       "   15564                               ['Stephanie Walker']       405.0   \n",
       "   15653                                   ['Wanda Nieman']       630.0   \n",
       "   17250                                 ['Isaac Venhorst']        10.0   \n",
       "   21886                                    ['Ramon Stacy']        49.0   \n",
       "   22633  ['Judy Ledford' 'Howard Harris' 'Myrna White' ...       504.0   \n",
       "   27605                                  ['Nicholas Drew']       382.0   \n",
       "   33833                    ['Bob Fulton' 'Jermaine Rawls']       388.0   \n",
       "   35406                                  ['Ted Pickering']       285.0   \n",
       "   36958       ['John Hightower' 'Adam Hill' 'Betty Sagen']       600.0   \n",
       "   43534                     ['Marva Cormier' 'Amy Boothe']       377.0   \n",
       "   48207                                   ['Pamela Davis']       536.0   \n",
       "\n",
       "         Type of Meal  Heroes Adjustment  \n",
       "18 49846       Dinner              False  \n",
       "   49849        Lunch              False  \n",
       "   49867    Breakfast              False  \n",
       "   49871    Breakfast              False  \n",
       "   49872       Dinner              False  \n",
       "   49880       Dinner              False  \n",
       "   49881       Dinner              False  \n",
       "   49886        Lunch              False  \n",
       "   49901       Dinner              False  \n",
       "   49904       Dinner              False  \n",
       "   49911        Lunch              False  \n",
       "   49915       Dinner              False  \n",
       "   49917        Lunch              False  \n",
       "   49923       Dinner              False  \n",
       "   49927       Dinner              False  \n",
       "   49928        Lunch              False  \n",
       "   49933        Lunch              False  \n",
       "   49934       Dinner              False  \n",
       "   49944    Breakfast              False  \n",
       "   49955    Breakfast              False  \n",
       "   49956       Dinner              False  \n",
       "   49969       Dinner              False  \n",
       "   49971       Dinner              False  \n",
       "   49973        Lunch              False  \n",
       "   49983    Breakfast              False  \n",
       "   49985    Breakfast              False  \n",
       "   49990        Lunch              False  \n",
       "   49991    Breakfast              False  \n",
       "   49999        Lunch              False  \n",
       "   50011    Breakfast              False  \n",
       "   50013    Breakfast              False  \n",
       "   50015       Dinner              False  \n",
       "19 1122     Breakfast              False  \n",
       "   3308        Dinner              False  \n",
       "   5015        Dinner              False  \n",
       "   7268        Dinner              False  \n",
       "   8320        Dinner              False  \n",
       "   10940        Lunch              False  \n",
       "   14119       Dinner              False  \n",
       "   15564        Lunch              False  \n",
       "   15653    Breakfast              False  \n",
       "   17250       Dinner              False  \n",
       "   21886        Lunch              False  \n",
       "   22633    Breakfast              False  \n",
       "   27605       Dinner              False  \n",
       "   33833    Breakfast              False  \n",
       "   35406        Lunch              False  \n",
       "   36958        Lunch              False  \n",
       "   43534    Breakfast              False  \n",
       "   48207    Breakfast              False  "
      ]
     },
     "execution_count": 47,
     "metadata": {},
     "output_type": "execute_result"
    }
   ],
   "source": [
    "pd.concat([y_2013,y_2014,y_2015,y_2016,y_2017,y_2018,y_2019],keys=[13,14,15,16,17,18,19]).tail(50)"
   ]
  },
  {
   "cell_type": "code",
   "execution_count": 48,
   "metadata": {
    "ExecuteTime": {
     "end_time": "2022-06-11T10:07:56.739267Z",
     "start_time": "2022-06-11T10:07:56.719164Z"
    }
   },
   "outputs": [
    {
     "name": "stdout",
     "output_type": "stream",
     "text": [
      "********\n",
      "          Name  ID\n",
      "DF1 1  Pankaj   1\n",
      "    2    Lisa   2\n",
      "DF2 3   David   3\n"
     ]
    }
   ],
   "source": [
    "d1 = {\"Name\": [\"Pankaj\", \"Lisa\"], \"ID\": [1, 2]}\n",
    "d2 = {\"Name\": \"David\", \"ID\": 3}\n",
    "\n",
    "df1 = pd.DataFrame(d1, index={1, 2})\n",
    "df2 = pd.DataFrame(d2, index={3})\n",
    "\n",
    "df3 = pd.concat([df1, df2], keys=[\"DF1\", \"DF2\"])\n",
    "print('********\\n', df3)"
   ]
  },
  {
   "cell_type": "code",
   "execution_count": 49,
   "metadata": {
    "ExecuteTime": {
     "end_time": "2022-06-11T10:07:57.739212Z",
     "start_time": "2022-06-11T10:07:57.727179Z"
    }
   },
   "outputs": [
    {
     "data": {
      "text/html": [
       "<div>\n",
       "<style scoped>\n",
       "    .dataframe tbody tr th:only-of-type {\n",
       "        vertical-align: middle;\n",
       "    }\n",
       "\n",
       "    .dataframe tbody tr th {\n",
       "        vertical-align: top;\n",
       "    }\n",
       "\n",
       "    .dataframe thead th {\n",
       "        text-align: right;\n",
       "    }\n",
       "</style>\n",
       "<table border=\"1\" class=\"dataframe\">\n",
       "  <thead>\n",
       "    <tr style=\"text-align: right;\">\n",
       "      <th></th>\n",
       "      <th>Name</th>\n",
       "      <th>ID</th>\n",
       "    </tr>\n",
       "  </thead>\n",
       "  <tbody>\n",
       "    <tr>\n",
       "      <th>1</th>\n",
       "      <td>Pankaj</td>\n",
       "      <td>1</td>\n",
       "    </tr>\n",
       "    <tr>\n",
       "      <th>2</th>\n",
       "      <td>Lisa</td>\n",
       "      <td>2</td>\n",
       "    </tr>\n",
       "  </tbody>\n",
       "</table>\n",
       "</div>"
      ],
      "text/plain": [
       "     Name  ID\n",
       "1  Pankaj   1\n",
       "2    Lisa   2"
      ]
     },
     "execution_count": 49,
     "metadata": {},
     "output_type": "execute_result"
    }
   ],
   "source": [
    "df1.head()"
   ]
  },
  {
   "cell_type": "code",
   "execution_count": 50,
   "metadata": {
    "ExecuteTime": {
     "end_time": "2022-06-11T10:07:59.169210Z",
     "start_time": "2022-06-11T10:07:59.146362Z"
    }
   },
   "outputs": [
    {
     "data": {
      "text/html": [
       "<div>\n",
       "<style scoped>\n",
       "    .dataframe tbody tr th:only-of-type {\n",
       "        vertical-align: middle;\n",
       "    }\n",
       "\n",
       "    .dataframe tbody tr th {\n",
       "        vertical-align: top;\n",
       "    }\n",
       "\n",
       "    .dataframe thead th {\n",
       "        text-align: right;\n",
       "    }\n",
       "</style>\n",
       "<table border=\"1\" class=\"dataframe\">\n",
       "  <thead>\n",
       "    <tr style=\"text-align: right;\">\n",
       "      <th></th>\n",
       "      <th>Name</th>\n",
       "      <th>ID</th>\n",
       "    </tr>\n",
       "  </thead>\n",
       "  <tbody>\n",
       "    <tr>\n",
       "      <th>3</th>\n",
       "      <td>David</td>\n",
       "      <td>3</td>\n",
       "    </tr>\n",
       "  </tbody>\n",
       "</table>\n",
       "</div>"
      ],
      "text/plain": [
       "    Name  ID\n",
       "3  David   3"
      ]
     },
     "execution_count": 50,
     "metadata": {},
     "output_type": "execute_result"
    }
   ],
   "source": [
    "df2.head()"
   ]
  },
  {
   "cell_type": "code",
   "execution_count": 51,
   "metadata": {
    "ExecuteTime": {
     "end_time": "2022-06-11T10:08:00.242166Z",
     "start_time": "2022-06-11T10:08:00.149796Z"
    }
   },
   "outputs": [
    {
     "data": {
      "text/html": [
       "<div>\n",
       "<style scoped>\n",
       "    .dataframe tbody tr th:only-of-type {\n",
       "        vertical-align: middle;\n",
       "    }\n",
       "\n",
       "    .dataframe tbody tr th {\n",
       "        vertical-align: top;\n",
       "    }\n",
       "\n",
       "    .dataframe thead th {\n",
       "        text-align: right;\n",
       "    }\n",
       "</style>\n",
       "<table border=\"1\" class=\"dataframe\">\n",
       "  <thead>\n",
       "    <tr style=\"text-align: right;\">\n",
       "      <th></th>\n",
       "      <th></th>\n",
       "      <th>Order Id</th>\n",
       "      <th>Date</th>\n",
       "      <th>Meal Id</th>\n",
       "      <th>Company Id</th>\n",
       "      <th>Date of Meal</th>\n",
       "      <th>Participants</th>\n",
       "      <th>Meal Price</th>\n",
       "      <th>Type of Meal</th>\n",
       "      <th>Heroes Adjustment</th>\n",
       "    </tr>\n",
       "    <tr>\n",
       "      <th>year</th>\n",
       "      <th>original_index</th>\n",
       "      <th></th>\n",
       "      <th></th>\n",
       "      <th></th>\n",
       "      <th></th>\n",
       "      <th></th>\n",
       "      <th></th>\n",
       "      <th></th>\n",
       "      <th></th>\n",
       "      <th></th>\n",
       "    </tr>\n",
       "  </thead>\n",
       "  <tbody>\n",
       "    <tr>\n",
       "      <th rowspan=\"32\" valign=\"top\">18</th>\n",
       "      <th>49846</th>\n",
       "      <td>L2FKFMSS38HLB01A</td>\n",
       "      <td>2018-12-24</td>\n",
       "      <td>BOM4SK74TONIULMV</td>\n",
       "      <td>6V8H50ZNLMAF7UNC</td>\n",
       "      <td>2018-12-25 19:00:00+00:00</td>\n",
       "      <td>['Antonio Filipiak']</td>\n",
       "      <td>229.0</td>\n",
       "      <td>Dinner</td>\n",
       "      <td>False</td>\n",
       "    </tr>\n",
       "    <tr>\n",
       "      <th>49849</th>\n",
       "      <td>13MX623FMS4N6HX9</td>\n",
       "      <td>2018-10-30</td>\n",
       "      <td>GC561LRPNE8IHVZ7</td>\n",
       "      <td>6V8H50ZNLMAF7UNC</td>\n",
       "      <td>2018-10-28 13:00:00+00:00</td>\n",
       "      <td>['Antonio Filipiak']</td>\n",
       "      <td>314.0</td>\n",
       "      <td>Lunch</td>\n",
       "      <td>False</td>\n",
       "    </tr>\n",
       "    <tr>\n",
       "      <th>49867</th>\n",
       "      <td>0C40IGCYNJUOXEW4</td>\n",
       "      <td>2018-09-23</td>\n",
       "      <td>QQ9LET7P1TZZB3NY</td>\n",
       "      <td>3OE3X93CX3TNVHLA</td>\n",
       "      <td>2018-09-25 06:00:00+00:00</td>\n",
       "      <td>['Rosemarie Emery']</td>\n",
       "      <td>691.0</td>\n",
       "      <td>Breakfast</td>\n",
       "      <td>False</td>\n",
       "    </tr>\n",
       "    <tr>\n",
       "      <th>49871</th>\n",
       "      <td>2HUEN5YYO5GTTRZB</td>\n",
       "      <td>2018-12-09</td>\n",
       "      <td>AEKMZ1245RD8CAZB</td>\n",
       "      <td>3OE3X93CX3TNVHLA</td>\n",
       "      <td>2018-12-07 07:00:00+00:00</td>\n",
       "      <td>['Jeffrey Phillips']</td>\n",
       "      <td>754.0</td>\n",
       "      <td>Breakfast</td>\n",
       "      <td>False</td>\n",
       "    </tr>\n",
       "    <tr>\n",
       "      <th>49872</th>\n",
       "      <td>M86IVU1KTTREIN5L</td>\n",
       "      <td>2018-03-27</td>\n",
       "      <td>CVJX8VY40V46NID4</td>\n",
       "      <td>3OE3X93CX3TNVHLA</td>\n",
       "      <td>2018-03-23 21:00:00+00:00</td>\n",
       "      <td>['Rosemarie Emery']</td>\n",
       "      <td>187.0</td>\n",
       "      <td>Dinner</td>\n",
       "      <td>False</td>\n",
       "    </tr>\n",
       "    <tr>\n",
       "      <th>49880</th>\n",
       "      <td>6JQ0SZ9BYLVYCCBS</td>\n",
       "      <td>2018-07-04</td>\n",
       "      <td>4NMJZ9AIBV94O2P6</td>\n",
       "      <td>HWSNBW4VK5EB51WJ</td>\n",
       "      <td>2018-07-03 19:00:00+00:00</td>\n",
       "      <td>['Rolanda Bronner']</td>\n",
       "      <td>267.0</td>\n",
       "      <td>Dinner</td>\n",
       "      <td>False</td>\n",
       "    </tr>\n",
       "    <tr>\n",
       "      <th>49881</th>\n",
       "      <td>J79GRH6DRWD1FM3G</td>\n",
       "      <td>2018-09-06</td>\n",
       "      <td>G0247JDOLUVLSDDU</td>\n",
       "      <td>HWSNBW4VK5EB51WJ</td>\n",
       "      <td>2018-09-02 19:00:00+00:00</td>\n",
       "      <td>['Rolanda Bronner']</td>\n",
       "      <td>609.0</td>\n",
       "      <td>Dinner</td>\n",
       "      <td>False</td>\n",
       "    </tr>\n",
       "    <tr>\n",
       "      <th>49886</th>\n",
       "      <td>HIWH9D43ZVXZK0UV</td>\n",
       "      <td>2018-04-06</td>\n",
       "      <td>E9HPF137PBO8Z4WP</td>\n",
       "      <td>CZTLKWWDEHQ0GW0I</td>\n",
       "      <td>2018-04-06 11:00:00+00:00</td>\n",
       "      <td>['Olga Fortenberry']</td>\n",
       "      <td>202.0</td>\n",
       "      <td>Lunch</td>\n",
       "      <td>False</td>\n",
       "    </tr>\n",
       "    <tr>\n",
       "      <th>49901</th>\n",
       "      <td>8YB6RG1YWJWP1WU6</td>\n",
       "      <td>2018-01-04</td>\n",
       "      <td>WC4A93447PVITQRN</td>\n",
       "      <td>CZTLKWWDEHQ0GW0I</td>\n",
       "      <td>2018-01-08 20:00:00+00:00</td>\n",
       "      <td>['Olga Fortenberry']</td>\n",
       "      <td>875.0</td>\n",
       "      <td>Dinner</td>\n",
       "      <td>False</td>\n",
       "    </tr>\n",
       "    <tr>\n",
       "      <th>49904</th>\n",
       "      <td>Q2R4R42DJKRLRP7S</td>\n",
       "      <td>2018-06-21</td>\n",
       "      <td>OQE96RP4EC8DWM1P</td>\n",
       "      <td>PLGXGQY1FMR95OBC</td>\n",
       "      <td>2018-06-23 18:00:00+00:00</td>\n",
       "      <td>['Theodore Garrison']</td>\n",
       "      <td>524.0</td>\n",
       "      <td>Dinner</td>\n",
       "      <td>False</td>\n",
       "    </tr>\n",
       "    <tr>\n",
       "      <th>49911</th>\n",
       "      <td>1GZLB9NSCBM7U8QJ</td>\n",
       "      <td>2018-01-06</td>\n",
       "      <td>HBHTBLVYI9QV5TSU</td>\n",
       "      <td>PLGXGQY1FMR95OBC</td>\n",
       "      <td>2018-01-05 12:00:00+00:00</td>\n",
       "      <td>['Theodore Garrison']</td>\n",
       "      <td>534.0</td>\n",
       "      <td>Lunch</td>\n",
       "      <td>False</td>\n",
       "    </tr>\n",
       "    <tr>\n",
       "      <th>49915</th>\n",
       "      <td>QYKCMPCP9WQ56ZA4</td>\n",
       "      <td>2018-04-11</td>\n",
       "      <td>W7E4RDUKEA7QG52E</td>\n",
       "      <td>8YOY0UK6SVPKGWDV</td>\n",
       "      <td>2018-04-07 18:00:00+00:00</td>\n",
       "      <td>['Hortense Strauss' 'Justin East']</td>\n",
       "      <td>705.0</td>\n",
       "      <td>Dinner</td>\n",
       "      <td>False</td>\n",
       "    </tr>\n",
       "    <tr>\n",
       "      <th>49917</th>\n",
       "      <td>PS47D4CIC4ND0IO5</td>\n",
       "      <td>2018-04-03</td>\n",
       "      <td>6YX35HODY6XK627N</td>\n",
       "      <td>8YOY0UK6SVPKGWDV</td>\n",
       "      <td>2018-03-30 11:00:00+00:00</td>\n",
       "      <td>['Marty Loveland']</td>\n",
       "      <td>395.0</td>\n",
       "      <td>Lunch</td>\n",
       "      <td>False</td>\n",
       "    </tr>\n",
       "    <tr>\n",
       "      <th>49923</th>\n",
       "      <td>SABLOCNYPRQ8R94G</td>\n",
       "      <td>2018-01-12</td>\n",
       "      <td>O8M470ANNQO0YD63</td>\n",
       "      <td>DNAC0XNVYCD3J62R</td>\n",
       "      <td>2018-01-15 21:00:00+00:00</td>\n",
       "      <td>['Amy Spicer']</td>\n",
       "      <td>444.0</td>\n",
       "      <td>Dinner</td>\n",
       "      <td>False</td>\n",
       "    </tr>\n",
       "    <tr>\n",
       "      <th>49927</th>\n",
       "      <td>AICZ5PCGDMFEXMX0</td>\n",
       "      <td>2018-06-25</td>\n",
       "      <td>59A74QG7098LEPQI</td>\n",
       "      <td>DNAC0XNVYCD3J62R</td>\n",
       "      <td>2018-06-22 18:00:00+00:00</td>\n",
       "      <td>['Amy Spicer']</td>\n",
       "      <td>102.0</td>\n",
       "      <td>Dinner</td>\n",
       "      <td>False</td>\n",
       "    </tr>\n",
       "    <tr>\n",
       "      <th>49928</th>\n",
       "      <td>GJAYV9J7BZL53162</td>\n",
       "      <td>2018-07-02</td>\n",
       "      <td>MJ82X2V9R1IEWD9K</td>\n",
       "      <td>DNAC0XNVYCD3J62R</td>\n",
       "      <td>2018-06-29 11:00:00+00:00</td>\n",
       "      <td>['Linda Torros']</td>\n",
       "      <td>406.0</td>\n",
       "      <td>Lunch</td>\n",
       "      <td>False</td>\n",
       "    </tr>\n",
       "    <tr>\n",
       "      <th>49933</th>\n",
       "      <td>YD1KKIXM1UQAUCHE</td>\n",
       "      <td>2018-12-29</td>\n",
       "      <td>1OHQL5J1IA4LG415</td>\n",
       "      <td>P005KZN9HKO1TQK4</td>\n",
       "      <td>2018-12-30 11:00:00+00:00</td>\n",
       "      <td>['Kathy Nava' 'Sylvia Vanpelt']</td>\n",
       "      <td>218.0</td>\n",
       "      <td>Lunch</td>\n",
       "      <td>False</td>\n",
       "    </tr>\n",
       "    <tr>\n",
       "      <th>49934</th>\n",
       "      <td>BBCDO8U1LQKNG8H9</td>\n",
       "      <td>2018-11-28</td>\n",
       "      <td>UGG09HWXZUX59BB5</td>\n",
       "      <td>P005KZN9HKO1TQK4</td>\n",
       "      <td>2018-12-01 20:00:00+00:00</td>\n",
       "      <td>['James Rios' 'Sylvia Vanpelt']</td>\n",
       "      <td>313.0</td>\n",
       "      <td>Dinner</td>\n",
       "      <td>False</td>\n",
       "    </tr>\n",
       "    <tr>\n",
       "      <th>49944</th>\n",
       "      <td>3DYZA7PIUJR121JO</td>\n",
       "      <td>2018-07-13</td>\n",
       "      <td>LGJF1B9H8A3AW48P</td>\n",
       "      <td>RSBI0DYL6TW6ONC2</td>\n",
       "      <td>2018-07-17 05:00:00+00:00</td>\n",
       "      <td>['James Leich' 'Billy Drelick' 'Ines Powell' '...</td>\n",
       "      <td>395.0</td>\n",
       "      <td>Breakfast</td>\n",
       "      <td>False</td>\n",
       "    </tr>\n",
       "    <tr>\n",
       "      <th>49955</th>\n",
       "      <td>KONFX2N4WH3C5HL8</td>\n",
       "      <td>2018-05-14</td>\n",
       "      <td>MHBROCR5CCKWPNGU</td>\n",
       "      <td>RSBI0DYL6TW6ONC2</td>\n",
       "      <td>2018-05-16 07:00:00+00:00</td>\n",
       "      <td>['James Leich']</td>\n",
       "      <td>112.0</td>\n",
       "      <td>Breakfast</td>\n",
       "      <td>False</td>\n",
       "    </tr>\n",
       "    <tr>\n",
       "      <th>49956</th>\n",
       "      <td>TZIOJQZ9K3FUESZ0</td>\n",
       "      <td>2018-02-03</td>\n",
       "      <td>V7T1EIGVBR1Q56NH</td>\n",
       "      <td>RSBI0DYL6TW6ONC2</td>\n",
       "      <td>2018-02-01 19:00:00+00:00</td>\n",
       "      <td>['Kimberly Guy']</td>\n",
       "      <td>100.0</td>\n",
       "      <td>Dinner</td>\n",
       "      <td>False</td>\n",
       "    </tr>\n",
       "    <tr>\n",
       "      <th>49969</th>\n",
       "      <td>YTPGKD59045CEVWU</td>\n",
       "      <td>2018-05-25</td>\n",
       "      <td>P2ZZPHFI5DLDRKT1</td>\n",
       "      <td>41AQ4K1NC4FVCGKJ</td>\n",
       "      <td>2018-05-24 18:00:00+00:00</td>\n",
       "      <td>['Samuel Blum' 'Emily Price']</td>\n",
       "      <td>796.0</td>\n",
       "      <td>Dinner</td>\n",
       "      <td>False</td>\n",
       "    </tr>\n",
       "    <tr>\n",
       "      <th>49971</th>\n",
       "      <td>J3LE0N5BOAIUS0W5</td>\n",
       "      <td>2018-10-13</td>\n",
       "      <td>DQQZL4WSYJCVQOOP</td>\n",
       "      <td>41AQ4K1NC4FVCGKJ</td>\n",
       "      <td>2018-10-12 20:00:00+00:00</td>\n",
       "      <td>['Samuel Blum' 'Kevin Bracey']</td>\n",
       "      <td>407.0</td>\n",
       "      <td>Dinner</td>\n",
       "      <td>False</td>\n",
       "    </tr>\n",
       "    <tr>\n",
       "      <th>49973</th>\n",
       "      <td>QYAGIC1MD49E7PKQ</td>\n",
       "      <td>2018-04-25</td>\n",
       "      <td>4TMGDUNLCMBYOKS4</td>\n",
       "      <td>4JW3GG4YW52M86F5</td>\n",
       "      <td>2018-04-24 11:00:00+00:00</td>\n",
       "      <td>['Ida Brown' 'Grace Rodriguez']</td>\n",
       "      <td>87.0</td>\n",
       "      <td>Lunch</td>\n",
       "      <td>False</td>\n",
       "    </tr>\n",
       "    <tr>\n",
       "      <th>49983</th>\n",
       "      <td>NNET5BV06VRKMFAH</td>\n",
       "      <td>2018-03-16</td>\n",
       "      <td>T4NYT08JJ363GSYG</td>\n",
       "      <td>R0KV9HJ7RIRRYSVG</td>\n",
       "      <td>2018-03-20 08:00:00+00:00</td>\n",
       "      <td>['Dennis Dannis']</td>\n",
       "      <td>371.0</td>\n",
       "      <td>Breakfast</td>\n",
       "      <td>False</td>\n",
       "    </tr>\n",
       "    <tr>\n",
       "      <th>49985</th>\n",
       "      <td>MWSMD6U0JR1OHPIR</td>\n",
       "      <td>2018-09-08</td>\n",
       "      <td>5LSTGLVAV5I5A1PQ</td>\n",
       "      <td>R0KV9HJ7RIRRYSVG</td>\n",
       "      <td>2018-09-11 06:00:00+00:00</td>\n",
       "      <td>['Dennis Dannis']</td>\n",
       "      <td>86.0</td>\n",
       "      <td>Breakfast</td>\n",
       "      <td>False</td>\n",
       "    </tr>\n",
       "    <tr>\n",
       "      <th>49990</th>\n",
       "      <td>W9UQE6OG3X7LRH3N</td>\n",
       "      <td>2018-04-10</td>\n",
       "      <td>DGNUNDE9W27FQ971</td>\n",
       "      <td>R0KV9HJ7RIRRYSVG</td>\n",
       "      <td>2018-04-08 11:00:00+00:00</td>\n",
       "      <td>['Antonio Brown' 'Ashley Owens' 'Dennis Dannis']</td>\n",
       "      <td>47.0</td>\n",
       "      <td>Lunch</td>\n",
       "      <td>False</td>\n",
       "    </tr>\n",
       "    <tr>\n",
       "      <th>49991</th>\n",
       "      <td>CGPOTR0XW6FDEQQ1</td>\n",
       "      <td>2018-12-24</td>\n",
       "      <td>8K07A0E1NNRYG9OG</td>\n",
       "      <td>5K17HYJQ6JG6UFU0</td>\n",
       "      <td>2018-12-24 06:00:00+00:00</td>\n",
       "      <td>['Michelle Lachiatto']</td>\n",
       "      <td>640.0</td>\n",
       "      <td>Breakfast</td>\n",
       "      <td>False</td>\n",
       "    </tr>\n",
       "    <tr>\n",
       "      <th>49999</th>\n",
       "      <td>JOPTZ9VYV1RWPTW7</td>\n",
       "      <td>2018-02-01</td>\n",
       "      <td>I5EXQPTV5PK8PC3C</td>\n",
       "      <td>5K17HYJQ6JG6UFU0</td>\n",
       "      <td>2018-01-29 12:00:00+00:00</td>\n",
       "      <td>['Arleen Williams']</td>\n",
       "      <td>563.0</td>\n",
       "      <td>Lunch</td>\n",
       "      <td>False</td>\n",
       "    </tr>\n",
       "    <tr>\n",
       "      <th>50011</th>\n",
       "      <td>81J2RM0YM63VAT0K</td>\n",
       "      <td>2018-06-03</td>\n",
       "      <td>HNXSJZQ120WGAWZP</td>\n",
       "      <td>E4K99D4JR9E40VE1</td>\n",
       "      <td>2018-06-03 05:00:00+00:00</td>\n",
       "      <td>['Chester Mortimer' 'Robin Ramos']</td>\n",
       "      <td>598.0</td>\n",
       "      <td>Breakfast</td>\n",
       "      <td>False</td>\n",
       "    </tr>\n",
       "    <tr>\n",
       "      <th>50013</th>\n",
       "      <td>RR0VKJN8V0KHNKGG</td>\n",
       "      <td>2018-03-19</td>\n",
       "      <td>22EX9VZSJKHP4AIP</td>\n",
       "      <td>E4K99D4JR9E40VE1</td>\n",
       "      <td>2018-03-18 08:00:00+00:00</td>\n",
       "      <td>['Robin Ramos' 'Chester Mortimer']</td>\n",
       "      <td>25.0</td>\n",
       "      <td>Breakfast</td>\n",
       "      <td>False</td>\n",
       "    </tr>\n",
       "    <tr>\n",
       "      <th>50015</th>\n",
       "      <td>QHEUIYNC0XQX7GDR</td>\n",
       "      <td>2018-01-28</td>\n",
       "      <td>4U0VH2TGQL30X23X</td>\n",
       "      <td>E4K99D4JR9E40VE1</td>\n",
       "      <td>2018-02-01 20:00:00+00:00</td>\n",
       "      <td>['Chester Mortimer' 'Robin Ramos']</td>\n",
       "      <td>497.0</td>\n",
       "      <td>Dinner</td>\n",
       "      <td>False</td>\n",
       "    </tr>\n",
       "    <tr>\n",
       "      <th rowspan=\"18\" valign=\"top\">19</th>\n",
       "      <th>1122</th>\n",
       "      <td>SVKO4MFVVCJ2IO7R</td>\n",
       "      <td>2018-12-29</td>\n",
       "      <td>DLHZCS3TGWJECP7J</td>\n",
       "      <td>I7AWOJEL8XF2I3CO</td>\n",
       "      <td>2019-01-02 06:00:00+00:00</td>\n",
       "      <td>['Phyllis Mcfarlane']</td>\n",
       "      <td>187.0</td>\n",
       "      <td>Breakfast</td>\n",
       "      <td>False</td>\n",
       "    </tr>\n",
       "    <tr>\n",
       "      <th>3308</th>\n",
       "      <td>YHZZ6A53NLZWMGWH</td>\n",
       "      <td>2018-12-30</td>\n",
       "      <td>ELTPN1FFIKNZ9C8Q</td>\n",
       "      <td>JG15WM9203FQ315X</td>\n",
       "      <td>2019-01-02 19:00:00+00:00</td>\n",
       "      <td>['Linda Lyons' 'Don Garcia']</td>\n",
       "      <td>723.0</td>\n",
       "      <td>Dinner</td>\n",
       "      <td>False</td>\n",
       "    </tr>\n",
       "    <tr>\n",
       "      <th>5015</th>\n",
       "      <td>G6P11M7CH9Y95NZQ</td>\n",
       "      <td>2018-12-31</td>\n",
       "      <td>OUKKE42OL17Q6QZJ</td>\n",
       "      <td>FFO6UGOKSNVR8MFO</td>\n",
       "      <td>2019-01-01 19:00:00+00:00</td>\n",
       "      <td>['Nancy Griffin']</td>\n",
       "      <td>363.0</td>\n",
       "      <td>Dinner</td>\n",
       "      <td>False</td>\n",
       "    </tr>\n",
       "    <tr>\n",
       "      <th>7268</th>\n",
       "      <td>O3SJZ5MPWHV69FZW</td>\n",
       "      <td>2018-12-30</td>\n",
       "      <td>39QKKF9TWULEO8HH</td>\n",
       "      <td>6RLVMXBQDTQXPJAT</td>\n",
       "      <td>2019-01-01 20:00:00+00:00</td>\n",
       "      <td>['William Gerrald' 'Stacie Karr' 'Toni Cernota...</td>\n",
       "      <td>656.0</td>\n",
       "      <td>Dinner</td>\n",
       "      <td>False</td>\n",
       "    </tr>\n",
       "    <tr>\n",
       "      <th>8320</th>\n",
       "      <td>SR1IPX1E2DPR5TQF</td>\n",
       "      <td>2018-12-29</td>\n",
       "      <td>PBB5QC2UNRYLMC61</td>\n",
       "      <td>BJQESLTT3W3790WI</td>\n",
       "      <td>2019-01-01 20:00:00+00:00</td>\n",
       "      <td>['Janet Torres' 'Holly Dowell']</td>\n",
       "      <td>605.0</td>\n",
       "      <td>Dinner</td>\n",
       "      <td>False</td>\n",
       "    </tr>\n",
       "    <tr>\n",
       "      <th>10940</th>\n",
       "      <td>I8USYS7DPQKTPM3H</td>\n",
       "      <td>2018-12-31</td>\n",
       "      <td>6E1515IUTFYUH4WR</td>\n",
       "      <td>FOZUB96D4RT1CZBZ</td>\n",
       "      <td>2019-01-04 11:00:00+00:00</td>\n",
       "      <td>['Paul Unterseher']</td>\n",
       "      <td>606.0</td>\n",
       "      <td>Lunch</td>\n",
       "      <td>False</td>\n",
       "    </tr>\n",
       "    <tr>\n",
       "      <th>14119</th>\n",
       "      <td>VR1RS2PNZUGQ9IBN</td>\n",
       "      <td>2018-12-28</td>\n",
       "      <td>LIKB70J6SHF8QQ27</td>\n",
       "      <td>K0PJ5AIJV0WFCZ3D</td>\n",
       "      <td>2019-01-01 20:00:00+00:00</td>\n",
       "      <td>['Nery Donohoe' 'Damian Hogan' 'Roy Ceraos' 'M...</td>\n",
       "      <td>471.0</td>\n",
       "      <td>Dinner</td>\n",
       "      <td>False</td>\n",
       "    </tr>\n",
       "    <tr>\n",
       "      <th>15564</th>\n",
       "      <td>UIDZ4EF22PKA6C6O</td>\n",
       "      <td>2018-12-31</td>\n",
       "      <td>N9F1N6SK0022V65X</td>\n",
       "      <td>4YYGSHKOLDMGL5JV</td>\n",
       "      <td>2019-01-03 13:00:00+00:00</td>\n",
       "      <td>['Stephanie Walker']</td>\n",
       "      <td>405.0</td>\n",
       "      <td>Lunch</td>\n",
       "      <td>False</td>\n",
       "    </tr>\n",
       "    <tr>\n",
       "      <th>15653</th>\n",
       "      <td>XQ52ETWZRBOW5T5L</td>\n",
       "      <td>2018-12-28</td>\n",
       "      <td>IN3PTGK3II5U3JQD</td>\n",
       "      <td>N5K5Y7C6F3BY36FK</td>\n",
       "      <td>2019-01-01 06:00:00+00:00</td>\n",
       "      <td>['Wanda Nieman']</td>\n",
       "      <td>630.0</td>\n",
       "      <td>Breakfast</td>\n",
       "      <td>False</td>\n",
       "    </tr>\n",
       "    <tr>\n",
       "      <th>17250</th>\n",
       "      <td>SUI9U7W44ZN20HD1</td>\n",
       "      <td>2018-12-30</td>\n",
       "      <td>2AXR70OG53ZG5KU9</td>\n",
       "      <td>5EII44XY6W4119X4</td>\n",
       "      <td>2019-01-01 21:00:00+00:00</td>\n",
       "      <td>['Isaac Venhorst']</td>\n",
       "      <td>10.0</td>\n",
       "      <td>Dinner</td>\n",
       "      <td>False</td>\n",
       "    </tr>\n",
       "    <tr>\n",
       "      <th>21886</th>\n",
       "      <td>JL40FO3FGP2XZG37</td>\n",
       "      <td>2018-12-30</td>\n",
       "      <td>KWB811LA3G12NGBJ</td>\n",
       "      <td>8RCMS5IGT0H13X96</td>\n",
       "      <td>2019-01-01 12:00:00+00:00</td>\n",
       "      <td>['Ramon Stacy']</td>\n",
       "      <td>49.0</td>\n",
       "      <td>Lunch</td>\n",
       "      <td>False</td>\n",
       "    </tr>\n",
       "    <tr>\n",
       "      <th>22633</th>\n",
       "      <td>C0JUOJIY8230CY4C</td>\n",
       "      <td>2018-12-30</td>\n",
       "      <td>IZR5HWXGW3TP12WI</td>\n",
       "      <td>IU5IVY4G90GVWCZM</td>\n",
       "      <td>2019-01-03 08:00:00+00:00</td>\n",
       "      <td>['Judy Ledford' 'Howard Harris' 'Myrna White' ...</td>\n",
       "      <td>504.0</td>\n",
       "      <td>Breakfast</td>\n",
       "      <td>False</td>\n",
       "    </tr>\n",
       "    <tr>\n",
       "      <th>27605</th>\n",
       "      <td>3HUAW5O21OKGX3R8</td>\n",
       "      <td>2018-12-31</td>\n",
       "      <td>SSVCMZ58VFOLH50X</td>\n",
       "      <td>8ZOXQEP85XA8V57V</td>\n",
       "      <td>2019-01-03 20:00:00+00:00</td>\n",
       "      <td>['Nicholas Drew']</td>\n",
       "      <td>382.0</td>\n",
       "      <td>Dinner</td>\n",
       "      <td>False</td>\n",
       "    </tr>\n",
       "    <tr>\n",
       "      <th>33833</th>\n",
       "      <td>IVSKD45PB8FZ0DRT</td>\n",
       "      <td>2018-12-31</td>\n",
       "      <td>6M3DK5ZNSTNHD50B</td>\n",
       "      <td>EIX79KCQQWJKLP21</td>\n",
       "      <td>2019-01-04 08:00:00+00:00</td>\n",
       "      <td>['Bob Fulton' 'Jermaine Rawls']</td>\n",
       "      <td>388.0</td>\n",
       "      <td>Breakfast</td>\n",
       "      <td>False</td>\n",
       "    </tr>\n",
       "    <tr>\n",
       "      <th>35406</th>\n",
       "      <td>IASPC12JU67ANTA5</td>\n",
       "      <td>2018-12-29</td>\n",
       "      <td>0MJH7DMFHIPI2T81</td>\n",
       "      <td>90KJEJUQ6MQO6NEW</td>\n",
       "      <td>2019-01-02 11:00:00+00:00</td>\n",
       "      <td>['Ted Pickering']</td>\n",
       "      <td>285.0</td>\n",
       "      <td>Lunch</td>\n",
       "      <td>False</td>\n",
       "    </tr>\n",
       "    <tr>\n",
       "      <th>36958</th>\n",
       "      <td>0GNFQ2XTTI56QE1E</td>\n",
       "      <td>2018-12-30</td>\n",
       "      <td>9UPI7YU9WQDSBR1P</td>\n",
       "      <td>9IPX1GTNSJJOULSB</td>\n",
       "      <td>2019-01-03 11:00:00+00:00</td>\n",
       "      <td>['John Hightower' 'Adam Hill' 'Betty Sagen']</td>\n",
       "      <td>600.0</td>\n",
       "      <td>Lunch</td>\n",
       "      <td>False</td>\n",
       "    </tr>\n",
       "    <tr>\n",
       "      <th>43534</th>\n",
       "      <td>8YHA5UTWAT7BOC24</td>\n",
       "      <td>2018-12-31</td>\n",
       "      <td>041RWJS7KUFPFVV9</td>\n",
       "      <td>Z19C6Y8F5Q22DMFK</td>\n",
       "      <td>2019-01-03 07:00:00+00:00</td>\n",
       "      <td>['Marva Cormier' 'Amy Boothe']</td>\n",
       "      <td>377.0</td>\n",
       "      <td>Breakfast</td>\n",
       "      <td>False</td>\n",
       "    </tr>\n",
       "    <tr>\n",
       "      <th>48207</th>\n",
       "      <td>J5FBQ0JWGIKWFSCO</td>\n",
       "      <td>2018-12-30</td>\n",
       "      <td>V8HPYOK6H6W5C5WQ</td>\n",
       "      <td>5AI9YF2ROZIV8QPJ</td>\n",
       "      <td>2019-01-01 06:00:00+00:00</td>\n",
       "      <td>['Pamela Davis']</td>\n",
       "      <td>536.0</td>\n",
       "      <td>Breakfast</td>\n",
       "      <td>False</td>\n",
       "    </tr>\n",
       "  </tbody>\n",
       "</table>\n",
       "</div>"
      ],
      "text/plain": [
       "                             Order Id       Date           Meal Id  \\\n",
       "year original_index                                                  \n",
       "18   49846           L2FKFMSS38HLB01A 2018-12-24  BOM4SK74TONIULMV   \n",
       "     49849           13MX623FMS4N6HX9 2018-10-30  GC561LRPNE8IHVZ7   \n",
       "     49867           0C40IGCYNJUOXEW4 2018-09-23  QQ9LET7P1TZZB3NY   \n",
       "     49871           2HUEN5YYO5GTTRZB 2018-12-09  AEKMZ1245RD8CAZB   \n",
       "     49872           M86IVU1KTTREIN5L 2018-03-27  CVJX8VY40V46NID4   \n",
       "     49880           6JQ0SZ9BYLVYCCBS 2018-07-04  4NMJZ9AIBV94O2P6   \n",
       "     49881           J79GRH6DRWD1FM3G 2018-09-06  G0247JDOLUVLSDDU   \n",
       "     49886           HIWH9D43ZVXZK0UV 2018-04-06  E9HPF137PBO8Z4WP   \n",
       "     49901           8YB6RG1YWJWP1WU6 2018-01-04  WC4A93447PVITQRN   \n",
       "     49904           Q2R4R42DJKRLRP7S 2018-06-21  OQE96RP4EC8DWM1P   \n",
       "     49911           1GZLB9NSCBM7U8QJ 2018-01-06  HBHTBLVYI9QV5TSU   \n",
       "     49915           QYKCMPCP9WQ56ZA4 2018-04-11  W7E4RDUKEA7QG52E   \n",
       "     49917           PS47D4CIC4ND0IO5 2018-04-03  6YX35HODY6XK627N   \n",
       "     49923           SABLOCNYPRQ8R94G 2018-01-12  O8M470ANNQO0YD63   \n",
       "     49927           AICZ5PCGDMFEXMX0 2018-06-25  59A74QG7098LEPQI   \n",
       "     49928           GJAYV9J7BZL53162 2018-07-02  MJ82X2V9R1IEWD9K   \n",
       "     49933           YD1KKIXM1UQAUCHE 2018-12-29  1OHQL5J1IA4LG415   \n",
       "     49934           BBCDO8U1LQKNG8H9 2018-11-28  UGG09HWXZUX59BB5   \n",
       "     49944           3DYZA7PIUJR121JO 2018-07-13  LGJF1B9H8A3AW48P   \n",
       "     49955           KONFX2N4WH3C5HL8 2018-05-14  MHBROCR5CCKWPNGU   \n",
       "     49956           TZIOJQZ9K3FUESZ0 2018-02-03  V7T1EIGVBR1Q56NH   \n",
       "     49969           YTPGKD59045CEVWU 2018-05-25  P2ZZPHFI5DLDRKT1   \n",
       "     49971           J3LE0N5BOAIUS0W5 2018-10-13  DQQZL4WSYJCVQOOP   \n",
       "     49973           QYAGIC1MD49E7PKQ 2018-04-25  4TMGDUNLCMBYOKS4   \n",
       "     49983           NNET5BV06VRKMFAH 2018-03-16  T4NYT08JJ363GSYG   \n",
       "     49985           MWSMD6U0JR1OHPIR 2018-09-08  5LSTGLVAV5I5A1PQ   \n",
       "     49990           W9UQE6OG3X7LRH3N 2018-04-10  DGNUNDE9W27FQ971   \n",
       "     49991           CGPOTR0XW6FDEQQ1 2018-12-24  8K07A0E1NNRYG9OG   \n",
       "     49999           JOPTZ9VYV1RWPTW7 2018-02-01  I5EXQPTV5PK8PC3C   \n",
       "     50011           81J2RM0YM63VAT0K 2018-06-03  HNXSJZQ120WGAWZP   \n",
       "     50013           RR0VKJN8V0KHNKGG 2018-03-19  22EX9VZSJKHP4AIP   \n",
       "     50015           QHEUIYNC0XQX7GDR 2018-01-28  4U0VH2TGQL30X23X   \n",
       "19   1122            SVKO4MFVVCJ2IO7R 2018-12-29  DLHZCS3TGWJECP7J   \n",
       "     3308            YHZZ6A53NLZWMGWH 2018-12-30  ELTPN1FFIKNZ9C8Q   \n",
       "     5015            G6P11M7CH9Y95NZQ 2018-12-31  OUKKE42OL17Q6QZJ   \n",
       "     7268            O3SJZ5MPWHV69FZW 2018-12-30  39QKKF9TWULEO8HH   \n",
       "     8320            SR1IPX1E2DPR5TQF 2018-12-29  PBB5QC2UNRYLMC61   \n",
       "     10940           I8USYS7DPQKTPM3H 2018-12-31  6E1515IUTFYUH4WR   \n",
       "     14119           VR1RS2PNZUGQ9IBN 2018-12-28  LIKB70J6SHF8QQ27   \n",
       "     15564           UIDZ4EF22PKA6C6O 2018-12-31  N9F1N6SK0022V65X   \n",
       "     15653           XQ52ETWZRBOW5T5L 2018-12-28  IN3PTGK3II5U3JQD   \n",
       "     17250           SUI9U7W44ZN20HD1 2018-12-30  2AXR70OG53ZG5KU9   \n",
       "     21886           JL40FO3FGP2XZG37 2018-12-30  KWB811LA3G12NGBJ   \n",
       "     22633           C0JUOJIY8230CY4C 2018-12-30  IZR5HWXGW3TP12WI   \n",
       "     27605           3HUAW5O21OKGX3R8 2018-12-31  SSVCMZ58VFOLH50X   \n",
       "     33833           IVSKD45PB8FZ0DRT 2018-12-31  6M3DK5ZNSTNHD50B   \n",
       "     35406           IASPC12JU67ANTA5 2018-12-29  0MJH7DMFHIPI2T81   \n",
       "     36958           0GNFQ2XTTI56QE1E 2018-12-30  9UPI7YU9WQDSBR1P   \n",
       "     43534           8YHA5UTWAT7BOC24 2018-12-31  041RWJS7KUFPFVV9   \n",
       "     48207           J5FBQ0JWGIKWFSCO 2018-12-30  V8HPYOK6H6W5C5WQ   \n",
       "\n",
       "                           Company Id              Date of Meal  \\\n",
       "year original_index                                               \n",
       "18   49846           6V8H50ZNLMAF7UNC 2018-12-25 19:00:00+00:00   \n",
       "     49849           6V8H50ZNLMAF7UNC 2018-10-28 13:00:00+00:00   \n",
       "     49867           3OE3X93CX3TNVHLA 2018-09-25 06:00:00+00:00   \n",
       "     49871           3OE3X93CX3TNVHLA 2018-12-07 07:00:00+00:00   \n",
       "     49872           3OE3X93CX3TNVHLA 2018-03-23 21:00:00+00:00   \n",
       "     49880           HWSNBW4VK5EB51WJ 2018-07-03 19:00:00+00:00   \n",
       "     49881           HWSNBW4VK5EB51WJ 2018-09-02 19:00:00+00:00   \n",
       "     49886           CZTLKWWDEHQ0GW0I 2018-04-06 11:00:00+00:00   \n",
       "     49901           CZTLKWWDEHQ0GW0I 2018-01-08 20:00:00+00:00   \n",
       "     49904           PLGXGQY1FMR95OBC 2018-06-23 18:00:00+00:00   \n",
       "     49911           PLGXGQY1FMR95OBC 2018-01-05 12:00:00+00:00   \n",
       "     49915           8YOY0UK6SVPKGWDV 2018-04-07 18:00:00+00:00   \n",
       "     49917           8YOY0UK6SVPKGWDV 2018-03-30 11:00:00+00:00   \n",
       "     49923           DNAC0XNVYCD3J62R 2018-01-15 21:00:00+00:00   \n",
       "     49927           DNAC0XNVYCD3J62R 2018-06-22 18:00:00+00:00   \n",
       "     49928           DNAC0XNVYCD3J62R 2018-06-29 11:00:00+00:00   \n",
       "     49933           P005KZN9HKO1TQK4 2018-12-30 11:00:00+00:00   \n",
       "     49934           P005KZN9HKO1TQK4 2018-12-01 20:00:00+00:00   \n",
       "     49944           RSBI0DYL6TW6ONC2 2018-07-17 05:00:00+00:00   \n",
       "     49955           RSBI0DYL6TW6ONC2 2018-05-16 07:00:00+00:00   \n",
       "     49956           RSBI0DYL6TW6ONC2 2018-02-01 19:00:00+00:00   \n",
       "     49969           41AQ4K1NC4FVCGKJ 2018-05-24 18:00:00+00:00   \n",
       "     49971           41AQ4K1NC4FVCGKJ 2018-10-12 20:00:00+00:00   \n",
       "     49973           4JW3GG4YW52M86F5 2018-04-24 11:00:00+00:00   \n",
       "     49983           R0KV9HJ7RIRRYSVG 2018-03-20 08:00:00+00:00   \n",
       "     49985           R0KV9HJ7RIRRYSVG 2018-09-11 06:00:00+00:00   \n",
       "     49990           R0KV9HJ7RIRRYSVG 2018-04-08 11:00:00+00:00   \n",
       "     49991           5K17HYJQ6JG6UFU0 2018-12-24 06:00:00+00:00   \n",
       "     49999           5K17HYJQ6JG6UFU0 2018-01-29 12:00:00+00:00   \n",
       "     50011           E4K99D4JR9E40VE1 2018-06-03 05:00:00+00:00   \n",
       "     50013           E4K99D4JR9E40VE1 2018-03-18 08:00:00+00:00   \n",
       "     50015           E4K99D4JR9E40VE1 2018-02-01 20:00:00+00:00   \n",
       "19   1122            I7AWOJEL8XF2I3CO 2019-01-02 06:00:00+00:00   \n",
       "     3308            JG15WM9203FQ315X 2019-01-02 19:00:00+00:00   \n",
       "     5015            FFO6UGOKSNVR8MFO 2019-01-01 19:00:00+00:00   \n",
       "     7268            6RLVMXBQDTQXPJAT 2019-01-01 20:00:00+00:00   \n",
       "     8320            BJQESLTT3W3790WI 2019-01-01 20:00:00+00:00   \n",
       "     10940           FOZUB96D4RT1CZBZ 2019-01-04 11:00:00+00:00   \n",
       "     14119           K0PJ5AIJV0WFCZ3D 2019-01-01 20:00:00+00:00   \n",
       "     15564           4YYGSHKOLDMGL5JV 2019-01-03 13:00:00+00:00   \n",
       "     15653           N5K5Y7C6F3BY36FK 2019-01-01 06:00:00+00:00   \n",
       "     17250           5EII44XY6W4119X4 2019-01-01 21:00:00+00:00   \n",
       "     21886           8RCMS5IGT0H13X96 2019-01-01 12:00:00+00:00   \n",
       "     22633           IU5IVY4G90GVWCZM 2019-01-03 08:00:00+00:00   \n",
       "     27605           8ZOXQEP85XA8V57V 2019-01-03 20:00:00+00:00   \n",
       "     33833           EIX79KCQQWJKLP21 2019-01-04 08:00:00+00:00   \n",
       "     35406           90KJEJUQ6MQO6NEW 2019-01-02 11:00:00+00:00   \n",
       "     36958           9IPX1GTNSJJOULSB 2019-01-03 11:00:00+00:00   \n",
       "     43534           Z19C6Y8F5Q22DMFK 2019-01-03 07:00:00+00:00   \n",
       "     48207           5AI9YF2ROZIV8QPJ 2019-01-01 06:00:00+00:00   \n",
       "\n",
       "                                                          Participants  \\\n",
       "year original_index                                                      \n",
       "18   49846                                        ['Antonio Filipiak']   \n",
       "     49849                                        ['Antonio Filipiak']   \n",
       "     49867                                         ['Rosemarie Emery']   \n",
       "     49871                                        ['Jeffrey Phillips']   \n",
       "     49872                                         ['Rosemarie Emery']   \n",
       "     49880                                         ['Rolanda Bronner']   \n",
       "     49881                                         ['Rolanda Bronner']   \n",
       "     49886                                        ['Olga Fortenberry']   \n",
       "     49901                                        ['Olga Fortenberry']   \n",
       "     49904                                       ['Theodore Garrison']   \n",
       "     49911                                       ['Theodore Garrison']   \n",
       "     49915                          ['Hortense Strauss' 'Justin East']   \n",
       "     49917                                          ['Marty Loveland']   \n",
       "     49923                                              ['Amy Spicer']   \n",
       "     49927                                              ['Amy Spicer']   \n",
       "     49928                                            ['Linda Torros']   \n",
       "     49933                             ['Kathy Nava' 'Sylvia Vanpelt']   \n",
       "     49934                             ['James Rios' 'Sylvia Vanpelt']   \n",
       "     49944           ['James Leich' 'Billy Drelick' 'Ines Powell' '...   \n",
       "     49955                                             ['James Leich']   \n",
       "     49956                                            ['Kimberly Guy']   \n",
       "     49969                               ['Samuel Blum' 'Emily Price']   \n",
       "     49971                              ['Samuel Blum' 'Kevin Bracey']   \n",
       "     49973                             ['Ida Brown' 'Grace Rodriguez']   \n",
       "     49983                                           ['Dennis Dannis']   \n",
       "     49985                                           ['Dennis Dannis']   \n",
       "     49990            ['Antonio Brown' 'Ashley Owens' 'Dennis Dannis']   \n",
       "     49991                                      ['Michelle Lachiatto']   \n",
       "     49999                                         ['Arleen Williams']   \n",
       "     50011                          ['Chester Mortimer' 'Robin Ramos']   \n",
       "     50013                          ['Robin Ramos' 'Chester Mortimer']   \n",
       "     50015                          ['Chester Mortimer' 'Robin Ramos']   \n",
       "19   1122                                        ['Phyllis Mcfarlane']   \n",
       "     3308                                 ['Linda Lyons' 'Don Garcia']   \n",
       "     5015                                            ['Nancy Griffin']   \n",
       "     7268            ['William Gerrald' 'Stacie Karr' 'Toni Cernota...   \n",
       "     8320                              ['Janet Torres' 'Holly Dowell']   \n",
       "     10940                                         ['Paul Unterseher']   \n",
       "     14119           ['Nery Donohoe' 'Damian Hogan' 'Roy Ceraos' 'M...   \n",
       "     15564                                        ['Stephanie Walker']   \n",
       "     15653                                            ['Wanda Nieman']   \n",
       "     17250                                          ['Isaac Venhorst']   \n",
       "     21886                                             ['Ramon Stacy']   \n",
       "     22633           ['Judy Ledford' 'Howard Harris' 'Myrna White' ...   \n",
       "     27605                                           ['Nicholas Drew']   \n",
       "     33833                             ['Bob Fulton' 'Jermaine Rawls']   \n",
       "     35406                                           ['Ted Pickering']   \n",
       "     36958                ['John Hightower' 'Adam Hill' 'Betty Sagen']   \n",
       "     43534                              ['Marva Cormier' 'Amy Boothe']   \n",
       "     48207                                            ['Pamela Davis']   \n",
       "\n",
       "                     Meal Price Type of Meal  Heroes Adjustment  \n",
       "year original_index                                              \n",
       "18   49846                229.0       Dinner              False  \n",
       "     49849                314.0        Lunch              False  \n",
       "     49867                691.0    Breakfast              False  \n",
       "     49871                754.0    Breakfast              False  \n",
       "     49872                187.0       Dinner              False  \n",
       "     49880                267.0       Dinner              False  \n",
       "     49881                609.0       Dinner              False  \n",
       "     49886                202.0        Lunch              False  \n",
       "     49901                875.0       Dinner              False  \n",
       "     49904                524.0       Dinner              False  \n",
       "     49911                534.0        Lunch              False  \n",
       "     49915                705.0       Dinner              False  \n",
       "     49917                395.0        Lunch              False  \n",
       "     49923                444.0       Dinner              False  \n",
       "     49927                102.0       Dinner              False  \n",
       "     49928                406.0        Lunch              False  \n",
       "     49933                218.0        Lunch              False  \n",
       "     49934                313.0       Dinner              False  \n",
       "     49944                395.0    Breakfast              False  \n",
       "     49955                112.0    Breakfast              False  \n",
       "     49956                100.0       Dinner              False  \n",
       "     49969                796.0       Dinner              False  \n",
       "     49971                407.0       Dinner              False  \n",
       "     49973                 87.0        Lunch              False  \n",
       "     49983                371.0    Breakfast              False  \n",
       "     49985                 86.0    Breakfast              False  \n",
       "     49990                 47.0        Lunch              False  \n",
       "     49991                640.0    Breakfast              False  \n",
       "     49999                563.0        Lunch              False  \n",
       "     50011                598.0    Breakfast              False  \n",
       "     50013                 25.0    Breakfast              False  \n",
       "     50015                497.0       Dinner              False  \n",
       "19   1122                 187.0    Breakfast              False  \n",
       "     3308                 723.0       Dinner              False  \n",
       "     5015                 363.0       Dinner              False  \n",
       "     7268                 656.0       Dinner              False  \n",
       "     8320                 605.0       Dinner              False  \n",
       "     10940                606.0        Lunch              False  \n",
       "     14119                471.0       Dinner              False  \n",
       "     15564                405.0        Lunch              False  \n",
       "     15653                630.0    Breakfast              False  \n",
       "     17250                 10.0       Dinner              False  \n",
       "     21886                 49.0        Lunch              False  \n",
       "     22633                504.0    Breakfast              False  \n",
       "     27605                382.0       Dinner              False  \n",
       "     33833                388.0    Breakfast              False  \n",
       "     35406                285.0        Lunch              False  \n",
       "     36958                600.0        Lunch              False  \n",
       "     43534                377.0    Breakfast              False  \n",
       "     48207                536.0    Breakfast              False  "
      ]
     },
     "execution_count": 51,
     "metadata": {},
     "output_type": "execute_result"
    }
   ],
   "source": [
    "pd.concat([y_2013,y_2014,y_2015,y_2016,y_2017,y_2018,y_2019],keys=[13,14,15,16,17,18,19],names=['year','original_index']).tail(50)"
   ]
  },
  {
   "cell_type": "markdown",
   "metadata": {},
   "source": [
    "### Concatenating — Horizontal Stacking"
   ]
  },
  {
   "cell_type": "markdown",
   "metadata": {},
   "source": [
    "A use case for horizontal stacking is a case where you have multiple time series with overlapping but not identical indices. In which case, you wouldn’t want to end up with a DataFrame with potentially thousands of columns, but much rather a DataFrame with thousands of rows."
   ]
  },
  {
   "cell_type": "code",
   "execution_count": 52,
   "metadata": {
    "ExecuteTime": {
     "end_time": "2022-06-11T10:08:09.009636Z",
     "start_time": "2022-06-11T10:08:08.992458Z"
    }
   },
   "outputs": [
    {
     "data": {
      "image/png": "[encoded data removed]",
      "text/plain": [
       "<IPython.core.display.Image object>"
      ]
     },
     "execution_count": 52,
     "metadata": {},
     "output_type": "execute_result"
    }
   ],
   "source": [
    "from IPython.display import Image\n",
    "\n",
    "Image(filename='resources//1_p3kHYY_BgoyA3q4FPCJacg.png') "
   ]
  },
  {
   "cell_type": "code",
   "execution_count": 55,
   "metadata": {
    "ExecuteTime": {
     "end_time": "2022-06-11T10:08:45.658667Z",
     "start_time": "2022-06-11T10:08:45.627945Z"
    }
   },
   "outputs": [
    {
     "name": "stdout",
     "output_type": "stream",
     "text": [
      "            observations_A\n",
      "2019-01-02               6\n",
      "2019-01-03               8\n",
      "2019-01-04               9\n",
      "2019-01-05               9\n",
      "2019-01-06               6\n",
      "            observations_B\n",
      "2019-01-05               4\n",
      "2019-01-06               4\n",
      "2019-01-07               3\n",
      "2019-01-08               6\n",
      "2019-01-09               3\n"
     ]
    },
    {
     "data": {
      "text/html": [
       "<div>\n",
       "<style scoped>\n",
       "    .dataframe tbody tr th:only-of-type {\n",
       "        vertical-align: middle;\n",
       "    }\n",
       "\n",
       "    .dataframe tbody tr th {\n",
       "        vertical-align: top;\n",
       "    }\n",
       "\n",
       "    .dataframe thead th {\n",
       "        text-align: right;\n",
       "    }\n",
       "</style>\n",
       "<table border=\"1\" class=\"dataframe\">\n",
       "  <thead>\n",
       "    <tr style=\"text-align: right;\">\n",
       "      <th></th>\n",
       "      <th>observations_A</th>\n",
       "      <th>observations_B</th>\n",
       "    </tr>\n",
       "  </thead>\n",
       "  <tbody>\n",
       "    <tr>\n",
       "      <th>2019-01-02</th>\n",
       "      <td>6.0</td>\n",
       "      <td>NaN</td>\n",
       "    </tr>\n",
       "    <tr>\n",
       "      <th>2019-01-03</th>\n",
       "      <td>8.0</td>\n",
       "      <td>NaN</td>\n",
       "    </tr>\n",
       "    <tr>\n",
       "      <th>2019-01-04</th>\n",
       "      <td>9.0</td>\n",
       "      <td>NaN</td>\n",
       "    </tr>\n",
       "    <tr>\n",
       "      <th>2019-01-05</th>\n",
       "      <td>9.0</td>\n",
       "      <td>4.0</td>\n",
       "    </tr>\n",
       "    <tr>\n",
       "      <th>2019-01-06</th>\n",
       "      <td>6.0</td>\n",
       "      <td>4.0</td>\n",
       "    </tr>\n",
       "    <tr>\n",
       "      <th>2019-01-07</th>\n",
       "      <td>3.0</td>\n",
       "      <td>3.0</td>\n",
       "    </tr>\n",
       "    <tr>\n",
       "      <th>2019-01-08</th>\n",
       "      <td>7.0</td>\n",
       "      <td>6.0</td>\n",
       "    </tr>\n",
       "    <tr>\n",
       "      <th>2019-01-09</th>\n",
       "      <td>NaN</td>\n",
       "      <td>3.0</td>\n",
       "    </tr>\n",
       "    <tr>\n",
       "      <th>2019-01-10</th>\n",
       "      <td>NaN</td>\n",
       "      <td>9.0</td>\n",
       "    </tr>\n",
       "    <tr>\n",
       "      <th>2019-01-11</th>\n",
       "      <td>NaN</td>\n",
       "      <td>2.0</td>\n",
       "    </tr>\n",
       "    <tr>\n",
       "      <th>2019-01-12</th>\n",
       "      <td>NaN</td>\n",
       "      <td>6.0</td>\n",
       "    </tr>\n",
       "  </tbody>\n",
       "</table>\n",
       "</div>"
      ],
      "text/plain": [
       "            observations_A  observations_B\n",
       "2019-01-02             6.0             NaN\n",
       "2019-01-03             8.0             NaN\n",
       "2019-01-04             9.0             NaN\n",
       "2019-01-05             9.0             4.0\n",
       "2019-01-06             6.0             4.0\n",
       "2019-01-07             3.0             3.0\n",
       "2019-01-08             7.0             6.0\n",
       "2019-01-09             NaN             3.0\n",
       "2019-01-10             NaN             9.0\n",
       "2019-01-11             NaN             2.0\n",
       "2019-01-12             NaN             6.0"
      ]
     },
     "execution_count": 55,
     "metadata": {},
     "output_type": "execute_result"
    }
   ],
   "source": [
    "import datetime\n",
    "range_a = pd.date_range(\n",
    "    datetime.datetime(2019,1,2),\n",
    "    datetime.datetime(2019,1,8)\n",
    ")\n",
    "df_a = pd.DataFrame(\n",
    "    index=range_a, \n",
    "    data=np.random.randint(2,10,size=len(range_a)),\n",
    "    columns=['observations_A']\n",
    ")\n",
    "print(df_a.head())\n",
    "range_b = pd.date_range(\n",
    "    datetime.date(2019,1,5),\n",
    "    datetime.date(2019,1,12)\n",
    ")\n",
    "df_b = pd.DataFrame(\n",
    "    index=range_b, \n",
    "    data=np.random.randint(2,10,size=len(range_b)),\n",
    "    columns=['observations_B']\n",
    ")\n",
    "print(df_b.head())\n",
    "pd.concat([df_a,df_b],axis=1)"
   ]
  },
  {
   "cell_type": "code",
   "execution_count": 56,
   "metadata": {
    "ExecuteTime": {
     "end_time": "2022-06-11T10:08:50.123206Z",
     "start_time": "2022-06-11T10:08:50.117112Z"
    }
   },
   "outputs": [],
   "source": [
    "import datetime\n",
    "import numpy as np"
   ]
  },
  {
   "cell_type": "markdown",
   "metadata": {},
   "source": [
    "- use concat against append"
   ]
  },
  {
   "cell_type": "markdown",
   "metadata": {},
   "source": [
    "## Merging"
   ]
  },
  {
   "cell_type": "markdown",
   "metadata": {},
   "source": [
    "> pd.merge(\n",
    " left, \n",
    " right, \n",
    " how='inner', \n",
    " on=None, \n",
    " left_on=None, \n",
    " right_on=None,         \n",
    " left_index=False,\n",
    " right_index=False, \n",
    " sort=True,\n",
    " suffixes=('_x', '_y'), \n",
    " copy=True, \n",
    " indicator=False,\n",
    " validate=None\n",
    ")"
   ]
  },
  {
   "cell_type": "markdown",
   "metadata": {},
   "source": [
    "- left/right : the left, respectively right, DataFrame you want to merge\n",
    "- how : 'left', 'right', 'outer', 'inner'. how defaults to 'inner'."
   ]
  },
  {
   "cell_type": "code",
   "execution_count": 57,
   "metadata": {
    "ExecuteTime": {
     "end_time": "2022-06-11T10:08:57.194377Z",
     "start_time": "2022-06-11T10:08:57.185595Z"
    }
   },
   "outputs": [
    {
     "data": {
      "image/png": "[encoded data removed]",
      "text/plain": [
       "<IPython.core.display.Image object>"
      ]
     },
     "execution_count": 57,
     "metadata": {},
     "output_type": "execute_result"
    }
   ],
   "source": [
    "from IPython.display import Image\n",
    "\n",
    "Image(filename='resources//merge.png') "
   ]
  },
  {
   "cell_type": "markdown",
   "metadata": {},
   "source": [
    "- left_index/right_index : If True, use the index from the left/right DataFrame to merge on. left_index/right_index defaults to False\n",
    "- on : Column name(s) to merge on. Column name(s) have to exist in both the left and right DataFrame. If not passed and left_index and right_index are False, the intersection of the columns in both DataFrames will be inferred to join on.\n",
    "- left_on/right_on : Column name(s) from the left/right DataFrame to join on. Typical use case: Keys you are joining on are differently labeled in your DataFrames. E.g., what is location_id in your left DataFrame, might be _id in your right DataFrame. In this case, you would do left_on='location_id', right_on='_id' .\n",
    "- suffixes: A tuple of string suffixes to apply to overlapping columns. suffixes defaults to ('_x', '_y'). I like to use ('_base', '_joined')."
   ]
  },
  {
   "cell_type": "code",
   "execution_count": 33,
   "metadata": {
    "ExecuteTime": {
     "end_time": "2022-07-29T23:54:15.466025Z",
     "start_time": "2022-07-29T23:54:13.319071Z"
    }
   },
   "outputs": [],
   "source": [
    "import pandas as pd\n",
    "# Load some additional Data\n",
    "order_data = pd.read_csv('https://raw.githubusercontent.com/FBosler/you-datascientist/master/order_leads.csv', parse_dates=[3])\n",
    "# Note the parse_dates? We need this to have consistent types with invoices, otherwise the subsequent merges would throw errors\n",
    "sales_team = pd.read_csv('https://raw.githubusercontent.com/FBosler/you-datascientist/master/sales_team.csv')"
   ]
  },
  {
   "cell_type": "code",
   "execution_count": 34,
   "metadata": {
    "ExecuteTime": {
     "end_time": "2022-07-29T23:54:16.251472Z",
     "start_time": "2022-07-29T23:54:16.222869Z"
    }
   },
   "outputs": [
    {
     "data": {
      "text/html": [
       "<div>\n",
       "<style scoped>\n",
       "    .dataframe tbody tr th:only-of-type {\n",
       "        vertical-align: middle;\n",
       "    }\n",
       "\n",
       "    .dataframe tbody tr th {\n",
       "        vertical-align: top;\n",
       "    }\n",
       "\n",
       "    .dataframe thead th {\n",
       "        text-align: right;\n",
       "    }\n",
       "</style>\n",
       "<table border=\"1\" class=\"dataframe\">\n",
       "  <thead>\n",
       "    <tr style=\"text-align: right;\">\n",
       "      <th></th>\n",
       "      <th>Order Id</th>\n",
       "      <th>Company Id</th>\n",
       "      <th>Company Name</th>\n",
       "      <th>Date</th>\n",
       "      <th>Order Value</th>\n",
       "      <th>Converted</th>\n",
       "    </tr>\n",
       "  </thead>\n",
       "  <tbody>\n",
       "    <tr>\n",
       "      <th>0</th>\n",
       "      <td>80EYLOKP9E762WKG</td>\n",
       "      <td>LJKS5NK6788CYMUU</td>\n",
       "      <td>Chimera-Chasing Casbah</td>\n",
       "      <td>2017-02-18</td>\n",
       "      <td>4875</td>\n",
       "      <td>1</td>\n",
       "    </tr>\n",
       "    <tr>\n",
       "      <th>1</th>\n",
       "      <td>TLEXR1HZWTUTBHPB</td>\n",
       "      <td>LJKS5NK6788CYMUU</td>\n",
       "      <td>Chimera-Chasing Casbah</td>\n",
       "      <td>2015-07-30</td>\n",
       "      <td>8425</td>\n",
       "      <td>0</td>\n",
       "    </tr>\n",
       "    <tr>\n",
       "      <th>2</th>\n",
       "      <td>839FKFW2LLX4LMBB</td>\n",
       "      <td>LJKS5NK6788CYMUU</td>\n",
       "      <td>Chimera-Chasing Casbah</td>\n",
       "      <td>2016-05-27</td>\n",
       "      <td>4837</td>\n",
       "      <td>0</td>\n",
       "    </tr>\n",
       "    <tr>\n",
       "      <th>3</th>\n",
       "      <td>97OX39BGVMHODLJM</td>\n",
       "      <td>LJKS5NK6788CYMUU</td>\n",
       "      <td>Chimera-Chasing Casbah</td>\n",
       "      <td>2018-09-27</td>\n",
       "      <td>343</td>\n",
       "      <td>0</td>\n",
       "    </tr>\n",
       "    <tr>\n",
       "      <th>4</th>\n",
       "      <td>5T4LGH4XGBWOD49Z</td>\n",
       "      <td>LJKS5NK6788CYMUU</td>\n",
       "      <td>Chimera-Chasing Casbah</td>\n",
       "      <td>2016-01-14</td>\n",
       "      <td>983</td>\n",
       "      <td>0</td>\n",
       "    </tr>\n",
       "  </tbody>\n",
       "</table>\n",
       "</div>"
      ],
      "text/plain": [
       "           Order Id        Company Id            Company Name       Date  \\\n",
       "0  80EYLOKP9E762WKG  LJKS5NK6788CYMUU  Chimera-Chasing Casbah 2017-02-18   \n",
       "1  TLEXR1HZWTUTBHPB  LJKS5NK6788CYMUU  Chimera-Chasing Casbah 2015-07-30   \n",
       "2  839FKFW2LLX4LMBB  LJKS5NK6788CYMUU  Chimera-Chasing Casbah 2016-05-27   \n",
       "3  97OX39BGVMHODLJM  LJKS5NK6788CYMUU  Chimera-Chasing Casbah 2018-09-27   \n",
       "4  5T4LGH4XGBWOD49Z  LJKS5NK6788CYMUU  Chimera-Chasing Casbah 2016-01-14   \n",
       "\n",
       "   Order Value  Converted  \n",
       "0         4875          1  \n",
       "1         8425          0  \n",
       "2         4837          0  \n",
       "3          343          0  \n",
       "4          983          0  "
      ]
     },
     "execution_count": 34,
     "metadata": {},
     "output_type": "execute_result"
    }
   ],
   "source": [
    "order_data.head()"
   ]
  },
  {
   "cell_type": "code",
   "execution_count": 35,
   "metadata": {
    "ExecuteTime": {
     "end_time": "2022-07-29T23:54:19.105420Z",
     "start_time": "2022-07-29T23:54:19.089507Z"
    }
   },
   "outputs": [
    {
     "data": {
      "text/html": [
       "<div>\n",
       "<style scoped>\n",
       "    .dataframe tbody tr th:only-of-type {\n",
       "        vertical-align: middle;\n",
       "    }\n",
       "\n",
       "    .dataframe tbody tr th {\n",
       "        vertical-align: top;\n",
       "    }\n",
       "\n",
       "    .dataframe thead th {\n",
       "        text-align: right;\n",
       "    }\n",
       "</style>\n",
       "<table border=\"1\" class=\"dataframe\">\n",
       "  <thead>\n",
       "    <tr style=\"text-align: right;\">\n",
       "      <th></th>\n",
       "      <th>Sales Rep</th>\n",
       "      <th>Sales Rep Id</th>\n",
       "      <th>Company Name</th>\n",
       "      <th>Company Id</th>\n",
       "    </tr>\n",
       "  </thead>\n",
       "  <tbody>\n",
       "    <tr>\n",
       "      <th>0</th>\n",
       "      <td>Jessie Mcallister</td>\n",
       "      <td>97UNNAT790E0WM4N</td>\n",
       "      <td>Chimera-Chasing Casbah</td>\n",
       "      <td>LJKS5NK6788CYMUU</td>\n",
       "    </tr>\n",
       "    <tr>\n",
       "      <th>1</th>\n",
       "      <td>Jessie Mcallister</td>\n",
       "      <td>97UNNAT790E0WM4N</td>\n",
       "      <td>Tangential Sheds</td>\n",
       "      <td>36MFTZOYMTAJP1RK</td>\n",
       "    </tr>\n",
       "    <tr>\n",
       "      <th>2</th>\n",
       "      <td>Jessie Mcallister</td>\n",
       "      <td>97UNNAT790E0WM4N</td>\n",
       "      <td>Two-Mile Grab</td>\n",
       "      <td>H3JRC7XX7WJAD4ZO</td>\n",
       "    </tr>\n",
       "    <tr>\n",
       "      <th>3</th>\n",
       "      <td>Jessie Mcallister</td>\n",
       "      <td>97UNNAT790E0WM4N</td>\n",
       "      <td>Three-Men-And-A-Helper Congo'S</td>\n",
       "      <td>HB25MDZR0MGCQUGX</td>\n",
       "    </tr>\n",
       "    <tr>\n",
       "      <th>4</th>\n",
       "      <td>Jessie Mcallister</td>\n",
       "      <td>97UNNAT790E0WM4N</td>\n",
       "      <td>Biophysical Battleground</td>\n",
       "      <td>7RVA8TIVBLBXMNO4</td>\n",
       "    </tr>\n",
       "  </tbody>\n",
       "</table>\n",
       "</div>"
      ],
      "text/plain": [
       "           Sales Rep      Sales Rep Id                    Company Name  \\\n",
       "0  Jessie Mcallister  97UNNAT790E0WM4N          Chimera-Chasing Casbah   \n",
       "1  Jessie Mcallister  97UNNAT790E0WM4N                Tangential Sheds   \n",
       "2  Jessie Mcallister  97UNNAT790E0WM4N                   Two-Mile Grab   \n",
       "3  Jessie Mcallister  97UNNAT790E0WM4N  Three-Men-And-A-Helper Congo'S   \n",
       "4  Jessie Mcallister  97UNNAT790E0WM4N        Biophysical Battleground   \n",
       "\n",
       "         Company Id  \n",
       "0  LJKS5NK6788CYMUU  \n",
       "1  36MFTZOYMTAJP1RK  \n",
       "2  H3JRC7XX7WJAD4ZO  \n",
       "3  HB25MDZR0MGCQUGX  \n",
       "4  7RVA8TIVBLBXMNO4  "
      ]
     },
     "execution_count": 35,
     "metadata": {},
     "output_type": "execute_result"
    }
   ],
   "source": [
    "sales_team.head()"
   ]
  },
  {
   "cell_type": "code",
   "execution_count": 61,
   "metadata": {
    "ExecuteTime": {
     "end_time": "2022-06-11T10:09:10.245137Z",
     "start_time": "2022-06-11T10:09:10.227139Z"
    }
   },
   "outputs": [
    {
     "data": {
      "text/html": [
       "<div>\n",
       "<style scoped>\n",
       "    .dataframe tbody tr th:only-of-type {\n",
       "        vertical-align: middle;\n",
       "    }\n",
       "\n",
       "    .dataframe tbody tr th {\n",
       "        vertical-align: top;\n",
       "    }\n",
       "\n",
       "    .dataframe thead th {\n",
       "        text-align: right;\n",
       "    }\n",
       "</style>\n",
       "<table border=\"1\" class=\"dataframe\">\n",
       "  <thead>\n",
       "    <tr style=\"text-align: right;\">\n",
       "      <th></th>\n",
       "      <th>Order Id</th>\n",
       "      <th>Date</th>\n",
       "      <th>Meal Id</th>\n",
       "      <th>Company Id</th>\n",
       "      <th>Date of Meal</th>\n",
       "      <th>Participants</th>\n",
       "      <th>Meal Price</th>\n",
       "      <th>Type of Meal</th>\n",
       "      <th>Heroes Adjustment</th>\n",
       "    </tr>\n",
       "  </thead>\n",
       "  <tbody>\n",
       "    <tr>\n",
       "      <th>0</th>\n",
       "      <td>839FKFW2LLX4LMBB</td>\n",
       "      <td>2016-05-27</td>\n",
       "      <td>INBUX904GIHI8YBD</td>\n",
       "      <td>LJKS5NK6788CYMUU</td>\n",
       "      <td>2016-05-31 05:00:00+00:00</td>\n",
       "      <td>['David Bishop']</td>\n",
       "      <td>469.0</td>\n",
       "      <td>Breakfast</td>\n",
       "      <td>False</td>\n",
       "    </tr>\n",
       "    <tr>\n",
       "      <th>1</th>\n",
       "      <td>97OX39BGVMHODLJM</td>\n",
       "      <td>2018-09-27</td>\n",
       "      <td>J0MMOOPP709DIDIE</td>\n",
       "      <td>LJKS5NK6788CYMUU</td>\n",
       "      <td>2018-10-01 18:00:00+00:00</td>\n",
       "      <td>['David Bishop']</td>\n",
       "      <td>22.0</td>\n",
       "      <td>Dinner</td>\n",
       "      <td>False</td>\n",
       "    </tr>\n",
       "    <tr>\n",
       "      <th>2</th>\n",
       "      <td>041ORQM5OIHTIU6L</td>\n",
       "      <td>2014-08-24</td>\n",
       "      <td>E4UJLQNCI16UX5CS</td>\n",
       "      <td>LJKS5NK6788CYMUU</td>\n",
       "      <td>2014-08-23 12:00:00+00:00</td>\n",
       "      <td>['Karen Stansell']</td>\n",
       "      <td>314.0</td>\n",
       "      <td>Lunch</td>\n",
       "      <td>False</td>\n",
       "    </tr>\n",
       "    <tr>\n",
       "      <th>3</th>\n",
       "      <td>YT796QI18WNGZ7ZJ</td>\n",
       "      <td>2014-04-12</td>\n",
       "      <td>C9SDFHF7553BE247</td>\n",
       "      <td>LJKS5NK6788CYMUU</td>\n",
       "      <td>2014-04-07 19:00:00+00:00</td>\n",
       "      <td>['Addie Patino']</td>\n",
       "      <td>438.0</td>\n",
       "      <td>Dinner</td>\n",
       "      <td>False</td>\n",
       "    </tr>\n",
       "    <tr>\n",
       "      <th>4</th>\n",
       "      <td>6YLROQT27B6HRF4E</td>\n",
       "      <td>2015-07-28</td>\n",
       "      <td>48EQXS6IHYNZDDZ5</td>\n",
       "      <td>LJKS5NK6788CYMUU</td>\n",
       "      <td>2015-07-27 12:00:00+00:00</td>\n",
       "      <td>['Addie Patino' 'Susan Guerrero']</td>\n",
       "      <td>690.0</td>\n",
       "      <td>Lunch</td>\n",
       "      <td>False</td>\n",
       "    </tr>\n",
       "  </tbody>\n",
       "</table>\n",
       "</div>"
      ],
      "text/plain": [
       "           Order Id       Date           Meal Id        Company Id  \\\n",
       "0  839FKFW2LLX4LMBB 2016-05-27  INBUX904GIHI8YBD  LJKS5NK6788CYMUU   \n",
       "1  97OX39BGVMHODLJM 2018-09-27  J0MMOOPP709DIDIE  LJKS5NK6788CYMUU   \n",
       "2  041ORQM5OIHTIU6L 2014-08-24  E4UJLQNCI16UX5CS  LJKS5NK6788CYMUU   \n",
       "3  YT796QI18WNGZ7ZJ 2014-04-12  C9SDFHF7553BE247  LJKS5NK6788CYMUU   \n",
       "4  6YLROQT27B6HRF4E 2015-07-28  48EQXS6IHYNZDDZ5  LJKS5NK6788CYMUU   \n",
       "\n",
       "               Date of Meal                       Participants  Meal Price  \\\n",
       "0 2016-05-31 05:00:00+00:00                   ['David Bishop']       469.0   \n",
       "1 2018-10-01 18:00:00+00:00                   ['David Bishop']        22.0   \n",
       "2 2014-08-23 12:00:00+00:00                 ['Karen Stansell']       314.0   \n",
       "3 2014-04-07 19:00:00+00:00                   ['Addie Patino']       438.0   \n",
       "4 2015-07-27 12:00:00+00:00  ['Addie Patino' 'Susan Guerrero']       690.0   \n",
       "\n",
       "  Type of Meal  Heroes Adjustment  \n",
       "0    Breakfast              False  \n",
       "1       Dinner              False  \n",
       "2        Lunch              False  \n",
       "3       Dinner              False  \n",
       "4        Lunch              False  "
      ]
     },
     "execution_count": 61,
     "metadata": {},
     "output_type": "execute_result"
    }
   ],
   "source": [
    "invoices.head()"
   ]
  },
  {
   "cell_type": "markdown",
   "metadata": {},
   "source": [
    "### Merging — how"
   ]
  },
  {
   "cell_type": "markdown",
   "metadata": {
    "ExecuteTime": {
     "end_time": "2020-02-03T17:31:54.026872Z",
     "start_time": "2020-02-03T17:31:54.022725Z"
    }
   },
   "source": [
    "- No parameters provided: All parameters will use their defaults.The merge is going to be an inner merge (equivalent to how='inner')."
   ]
  },
  {
   "cell_type": "code",
   "execution_count": 62,
   "metadata": {
    "ExecuteTime": {
     "end_time": "2022-06-11T10:09:15.817141Z",
     "start_time": "2022-06-11T10:09:15.690115Z"
    },
    "scrolled": true
   },
   "outputs": [
    {
     "data": {
      "text/html": [
       "<div>\n",
       "<style scoped>\n",
       "    .dataframe tbody tr th:only-of-type {\n",
       "        vertical-align: middle;\n",
       "    }\n",
       "\n",
       "    .dataframe tbody tr th {\n",
       "        vertical-align: top;\n",
       "    }\n",
       "\n",
       "    .dataframe thead th {\n",
       "        text-align: right;\n",
       "    }\n",
       "</style>\n",
       "<table border=\"1\" class=\"dataframe\">\n",
       "  <thead>\n",
       "    <tr style=\"text-align: right;\">\n",
       "      <th></th>\n",
       "      <th>Order Id</th>\n",
       "      <th>Company Id</th>\n",
       "      <th>Company Name</th>\n",
       "      <th>Date</th>\n",
       "      <th>Order Value</th>\n",
       "      <th>Converted</th>\n",
       "      <th>Meal Id</th>\n",
       "      <th>Date of Meal</th>\n",
       "      <th>Participants</th>\n",
       "      <th>Meal Price</th>\n",
       "      <th>Type of Meal</th>\n",
       "      <th>Heroes Adjustment</th>\n",
       "    </tr>\n",
       "  </thead>\n",
       "  <tbody>\n",
       "    <tr>\n",
       "      <th>0</th>\n",
       "      <td>839FKFW2LLX4LMBB</td>\n",
       "      <td>LJKS5NK6788CYMUU</td>\n",
       "      <td>Chimera-Chasing Casbah</td>\n",
       "      <td>2016-05-27</td>\n",
       "      <td>4837</td>\n",
       "      <td>0</td>\n",
       "      <td>INBUX904GIHI8YBD</td>\n",
       "      <td>2016-05-31 05:00:00+00:00</td>\n",
       "      <td>['David Bishop']</td>\n",
       "      <td>469.0</td>\n",
       "      <td>Breakfast</td>\n",
       "      <td>False</td>\n",
       "    </tr>\n",
       "    <tr>\n",
       "      <th>1</th>\n",
       "      <td>97OX39BGVMHODLJM</td>\n",
       "      <td>LJKS5NK6788CYMUU</td>\n",
       "      <td>Chimera-Chasing Casbah</td>\n",
       "      <td>2018-09-27</td>\n",
       "      <td>343</td>\n",
       "      <td>0</td>\n",
       "      <td>J0MMOOPP709DIDIE</td>\n",
       "      <td>2018-10-01 18:00:00+00:00</td>\n",
       "      <td>['David Bishop']</td>\n",
       "      <td>22.0</td>\n",
       "      <td>Dinner</td>\n",
       "      <td>False</td>\n",
       "    </tr>\n",
       "    <tr>\n",
       "      <th>2</th>\n",
       "      <td>041ORQM5OIHTIU6L</td>\n",
       "      <td>LJKS5NK6788CYMUU</td>\n",
       "      <td>Chimera-Chasing Casbah</td>\n",
       "      <td>2014-08-24</td>\n",
       "      <td>4185</td>\n",
       "      <td>0</td>\n",
       "      <td>E4UJLQNCI16UX5CS</td>\n",
       "      <td>2014-08-23 12:00:00+00:00</td>\n",
       "      <td>['Karen Stansell']</td>\n",
       "      <td>314.0</td>\n",
       "      <td>Lunch</td>\n",
       "      <td>False</td>\n",
       "    </tr>\n",
       "    <tr>\n",
       "      <th>3</th>\n",
       "      <td>YT796QI18WNGZ7ZJ</td>\n",
       "      <td>LJKS5NK6788CYMUU</td>\n",
       "      <td>Chimera-Chasing Casbah</td>\n",
       "      <td>2014-04-12</td>\n",
       "      <td>5839</td>\n",
       "      <td>0</td>\n",
       "      <td>C9SDFHF7553BE247</td>\n",
       "      <td>2014-04-07 19:00:00+00:00</td>\n",
       "      <td>['Addie Patino']</td>\n",
       "      <td>438.0</td>\n",
       "      <td>Dinner</td>\n",
       "      <td>False</td>\n",
       "    </tr>\n",
       "    <tr>\n",
       "      <th>4</th>\n",
       "      <td>6YLROQT27B6HRF4E</td>\n",
       "      <td>LJKS5NK6788CYMUU</td>\n",
       "      <td>Chimera-Chasing Casbah</td>\n",
       "      <td>2015-07-28</td>\n",
       "      <td>8841</td>\n",
       "      <td>0</td>\n",
       "      <td>48EQXS6IHYNZDDZ5</td>\n",
       "      <td>2015-07-27 12:00:00+00:00</td>\n",
       "      <td>['Addie Patino' 'Susan Guerrero']</td>\n",
       "      <td>690.0</td>\n",
       "      <td>Lunch</td>\n",
       "      <td>False</td>\n",
       "    </tr>\n",
       "    <tr>\n",
       "      <th>...</th>\n",
       "      <td>...</td>\n",
       "      <td>...</td>\n",
       "      <td>...</td>\n",
       "      <td>...</td>\n",
       "      <td>...</td>\n",
       "      <td>...</td>\n",
       "      <td>...</td>\n",
       "      <td>...</td>\n",
       "      <td>...</td>\n",
       "      <td>...</td>\n",
       "      <td>...</td>\n",
       "      <td>...</td>\n",
       "    </tr>\n",
       "    <tr>\n",
       "      <th>50012</th>\n",
       "      <td>4OMS8ZSA0UX8LHWI</td>\n",
       "      <td>E4K99D4JR9E40VE1</td>\n",
       "      <td>Fierce Productivity</td>\n",
       "      <td>2017-09-20</td>\n",
       "      <td>110</td>\n",
       "      <td>0</td>\n",
       "      <td>1TD5MROATV1NHZ4Y</td>\n",
       "      <td>2017-09-21 06:00:00+00:00</td>\n",
       "      <td>['Regina Shirley']</td>\n",
       "      <td>9.0</td>\n",
       "      <td>Breakfast</td>\n",
       "      <td>False</td>\n",
       "    </tr>\n",
       "    <tr>\n",
       "      <th>50013</th>\n",
       "      <td>RR0VKJN8V0KHNKGG</td>\n",
       "      <td>E4K99D4JR9E40VE1</td>\n",
       "      <td>Fierce Productivity</td>\n",
       "      <td>2018-03-19</td>\n",
       "      <td>356</td>\n",
       "      <td>0</td>\n",
       "      <td>22EX9VZSJKHP4AIP</td>\n",
       "      <td>2018-03-18 08:00:00+00:00</td>\n",
       "      <td>['Robin Ramos' 'Chester Mortimer']</td>\n",
       "      <td>25.0</td>\n",
       "      <td>Breakfast</td>\n",
       "      <td>False</td>\n",
       "    </tr>\n",
       "    <tr>\n",
       "      <th>50014</th>\n",
       "      <td>STJ6QJC30WPRM93H</td>\n",
       "      <td>E4K99D4JR9E40VE1</td>\n",
       "      <td>Fierce Productivity</td>\n",
       "      <td>2017-09-21</td>\n",
       "      <td>2228</td>\n",
       "      <td>1</td>\n",
       "      <td>LMX18PNGWCIMG1QW</td>\n",
       "      <td>2017-09-22 19:00:00+00:00</td>\n",
       "      <td>['Robin Ramos']</td>\n",
       "      <td>160.0</td>\n",
       "      <td>Dinner</td>\n",
       "      <td>False</td>\n",
       "    </tr>\n",
       "    <tr>\n",
       "      <th>50015</th>\n",
       "      <td>QHEUIYNC0XQX7GDR</td>\n",
       "      <td>E4K99D4JR9E40VE1</td>\n",
       "      <td>Fierce Productivity</td>\n",
       "      <td>2018-01-28</td>\n",
       "      <td>8869</td>\n",
       "      <td>0</td>\n",
       "      <td>4U0VH2TGQL30X23X</td>\n",
       "      <td>2018-02-01 20:00:00+00:00</td>\n",
       "      <td>['Chester Mortimer' 'Robin Ramos']</td>\n",
       "      <td>497.0</td>\n",
       "      <td>Dinner</td>\n",
       "      <td>False</td>\n",
       "    </tr>\n",
       "    <tr>\n",
       "      <th>50016</th>\n",
       "      <td>NKHFWT5I2J9LPAPG</td>\n",
       "      <td>E4K99D4JR9E40VE1</td>\n",
       "      <td>Fierce Productivity</td>\n",
       "      <td>2017-09-06</td>\n",
       "      <td>5138</td>\n",
       "      <td>0</td>\n",
       "      <td>ORWFRT5TUSYGNYG7</td>\n",
       "      <td>2017-09-09 12:00:00+00:00</td>\n",
       "      <td>['Chester Mortimer' 'Robin Ramos']</td>\n",
       "      <td>365.0</td>\n",
       "      <td>Lunch</td>\n",
       "      <td>False</td>\n",
       "    </tr>\n",
       "  </tbody>\n",
       "</table>\n",
       "<p>50017 rows × 12 columns</p>\n",
       "</div>"
      ],
      "text/plain": [
       "               Order Id        Company Id            Company Name       Date  \\\n",
       "0      839FKFW2LLX4LMBB  LJKS5NK6788CYMUU  Chimera-Chasing Casbah 2016-05-27   \n",
       "1      97OX39BGVMHODLJM  LJKS5NK6788CYMUU  Chimera-Chasing Casbah 2018-09-27   \n",
       "2      041ORQM5OIHTIU6L  LJKS5NK6788CYMUU  Chimera-Chasing Casbah 2014-08-24   \n",
       "3      YT796QI18WNGZ7ZJ  LJKS5NK6788CYMUU  Chimera-Chasing Casbah 2014-04-12   \n",
       "4      6YLROQT27B6HRF4E  LJKS5NK6788CYMUU  Chimera-Chasing Casbah 2015-07-28   \n",
       "...                 ...               ...                     ...        ...   \n",
       "50012  4OMS8ZSA0UX8LHWI  E4K99D4JR9E40VE1     Fierce Productivity 2017-09-20   \n",
       "50013  RR0VKJN8V0KHNKGG  E4K99D4JR9E40VE1     Fierce Productivity 2018-03-19   \n",
       "50014  STJ6QJC30WPRM93H  E4K99D4JR9E40VE1     Fierce Productivity 2017-09-21   \n",
       "50015  QHEUIYNC0XQX7GDR  E4K99D4JR9E40VE1     Fierce Productivity 2018-01-28   \n",
       "50016  NKHFWT5I2J9LPAPG  E4K99D4JR9E40VE1     Fierce Productivity 2017-09-06   \n",
       "\n",
       "       Order Value  Converted           Meal Id              Date of Meal  \\\n",
       "0             4837          0  INBUX904GIHI8YBD 2016-05-31 05:00:00+00:00   \n",
       "1              343          0  J0MMOOPP709DIDIE 2018-10-01 18:00:00+00:00   \n",
       "2             4185          0  E4UJLQNCI16UX5CS 2014-08-23 12:00:00+00:00   \n",
       "3             5839          0  C9SDFHF7553BE247 2014-04-07 19:00:00+00:00   \n",
       "4             8841          0  48EQXS6IHYNZDDZ5 2015-07-27 12:00:00+00:00   \n",
       "...            ...        ...               ...                       ...   \n",
       "50012          110          0  1TD5MROATV1NHZ4Y 2017-09-21 06:00:00+00:00   \n",
       "50013          356          0  22EX9VZSJKHP4AIP 2018-03-18 08:00:00+00:00   \n",
       "50014         2228          1  LMX18PNGWCIMG1QW 2017-09-22 19:00:00+00:00   \n",
       "50015         8869          0  4U0VH2TGQL30X23X 2018-02-01 20:00:00+00:00   \n",
       "50016         5138          0  ORWFRT5TUSYGNYG7 2017-09-09 12:00:00+00:00   \n",
       "\n",
       "                             Participants  Meal Price Type of Meal  \\\n",
       "0                        ['David Bishop']       469.0    Breakfast   \n",
       "1                        ['David Bishop']        22.0       Dinner   \n",
       "2                      ['Karen Stansell']       314.0        Lunch   \n",
       "3                        ['Addie Patino']       438.0       Dinner   \n",
       "4       ['Addie Patino' 'Susan Guerrero']       690.0        Lunch   \n",
       "...                                   ...         ...          ...   \n",
       "50012                  ['Regina Shirley']         9.0    Breakfast   \n",
       "50013  ['Robin Ramos' 'Chester Mortimer']        25.0    Breakfast   \n",
       "50014                     ['Robin Ramos']       160.0       Dinner   \n",
       "50015  ['Chester Mortimer' 'Robin Ramos']       497.0       Dinner   \n",
       "50016  ['Chester Mortimer' 'Robin Ramos']       365.0        Lunch   \n",
       "\n",
       "       Heroes Adjustment  \n",
       "0                  False  \n",
       "1                  False  \n",
       "2                  False  \n",
       "3                  False  \n",
       "4                  False  \n",
       "...                  ...  \n",
       "50012              False  \n",
       "50013              False  \n",
       "50014              False  \n",
       "50015              False  \n",
       "50016              False  \n",
       "\n",
       "[50017 rows x 12 columns]"
      ]
     },
     "execution_count": 62,
     "metadata": {},
     "output_type": "execute_result"
    }
   ],
   "source": [
    "pd.merge(order_data,invoices)"
   ]
  },
  {
   "cell_type": "markdown",
   "metadata": {},
   "source": [
    "- how='left' : Again, the merge is based on all common columns. Suffixes are not relevant as all common columns will be used to merge on, so there will no be duplicated columns remaining.\n",
    "However, this time around, we merge with how='left' which means that we will take all rows from the left frame and only add data from the right frame where we find some."
   ]
  },
  {
   "cell_type": "code",
   "execution_count": 63,
   "metadata": {
    "ExecuteTime": {
     "end_time": "2022-06-11T10:09:20.694883Z",
     "start_time": "2022-06-11T10:09:20.548716Z"
    },
    "scrolled": true
   },
   "outputs": [
    {
     "data": {
      "text/html": [
       "<div>\n",
       "<style scoped>\n",
       "    .dataframe tbody tr th:only-of-type {\n",
       "        vertical-align: middle;\n",
       "    }\n",
       "\n",
       "    .dataframe tbody tr th {\n",
       "        vertical-align: top;\n",
       "    }\n",
       "\n",
       "    .dataframe thead th {\n",
       "        text-align: right;\n",
       "    }\n",
       "</style>\n",
       "<table border=\"1\" class=\"dataframe\">\n",
       "  <thead>\n",
       "    <tr style=\"text-align: right;\">\n",
       "      <th></th>\n",
       "      <th>Order Id</th>\n",
       "      <th>Company Id</th>\n",
       "      <th>Company Name</th>\n",
       "      <th>Date</th>\n",
       "      <th>Order Value</th>\n",
       "      <th>Converted</th>\n",
       "      <th>Meal Id</th>\n",
       "      <th>Date of Meal</th>\n",
       "      <th>Participants</th>\n",
       "      <th>Meal Price</th>\n",
       "      <th>Type of Meal</th>\n",
       "      <th>Heroes Adjustment</th>\n",
       "    </tr>\n",
       "  </thead>\n",
       "  <tbody>\n",
       "    <tr>\n",
       "      <th>0</th>\n",
       "      <td>80EYLOKP9E762WKG</td>\n",
       "      <td>LJKS5NK6788CYMUU</td>\n",
       "      <td>Chimera-Chasing Casbah</td>\n",
       "      <td>2017-02-18</td>\n",
       "      <td>4875</td>\n",
       "      <td>1</td>\n",
       "      <td>NaN</td>\n",
       "      <td>NaT</td>\n",
       "      <td>NaN</td>\n",
       "      <td>NaN</td>\n",
       "      <td>NaN</td>\n",
       "      <td>NaN</td>\n",
       "    </tr>\n",
       "    <tr>\n",
       "      <th>1</th>\n",
       "      <td>TLEXR1HZWTUTBHPB</td>\n",
       "      <td>LJKS5NK6788CYMUU</td>\n",
       "      <td>Chimera-Chasing Casbah</td>\n",
       "      <td>2015-07-30</td>\n",
       "      <td>8425</td>\n",
       "      <td>0</td>\n",
       "      <td>NaN</td>\n",
       "      <td>NaT</td>\n",
       "      <td>NaN</td>\n",
       "      <td>NaN</td>\n",
       "      <td>NaN</td>\n",
       "      <td>NaN</td>\n",
       "    </tr>\n",
       "    <tr>\n",
       "      <th>2</th>\n",
       "      <td>839FKFW2LLX4LMBB</td>\n",
       "      <td>LJKS5NK6788CYMUU</td>\n",
       "      <td>Chimera-Chasing Casbah</td>\n",
       "      <td>2016-05-27</td>\n",
       "      <td>4837</td>\n",
       "      <td>0</td>\n",
       "      <td>INBUX904GIHI8YBD</td>\n",
       "      <td>2016-05-31 05:00:00+00:00</td>\n",
       "      <td>['David Bishop']</td>\n",
       "      <td>469.0</td>\n",
       "      <td>Breakfast</td>\n",
       "      <td>False</td>\n",
       "    </tr>\n",
       "    <tr>\n",
       "      <th>3</th>\n",
       "      <td>97OX39BGVMHODLJM</td>\n",
       "      <td>LJKS5NK6788CYMUU</td>\n",
       "      <td>Chimera-Chasing Casbah</td>\n",
       "      <td>2018-09-27</td>\n",
       "      <td>343</td>\n",
       "      <td>0</td>\n",
       "      <td>J0MMOOPP709DIDIE</td>\n",
       "      <td>2018-10-01 18:00:00+00:00</td>\n",
       "      <td>['David Bishop']</td>\n",
       "      <td>22.0</td>\n",
       "      <td>Dinner</td>\n",
       "      <td>False</td>\n",
       "    </tr>\n",
       "    <tr>\n",
       "      <th>4</th>\n",
       "      <td>5T4LGH4XGBWOD49Z</td>\n",
       "      <td>LJKS5NK6788CYMUU</td>\n",
       "      <td>Chimera-Chasing Casbah</td>\n",
       "      <td>2016-01-14</td>\n",
       "      <td>983</td>\n",
       "      <td>0</td>\n",
       "      <td>NaN</td>\n",
       "      <td>NaT</td>\n",
       "      <td>NaN</td>\n",
       "      <td>NaN</td>\n",
       "      <td>NaN</td>\n",
       "      <td>NaN</td>\n",
       "    </tr>\n",
       "  </tbody>\n",
       "</table>\n",
       "</div>"
      ],
      "text/plain": [
       "           Order Id        Company Id            Company Name       Date  \\\n",
       "0  80EYLOKP9E762WKG  LJKS5NK6788CYMUU  Chimera-Chasing Casbah 2017-02-18   \n",
       "1  TLEXR1HZWTUTBHPB  LJKS5NK6788CYMUU  Chimera-Chasing Casbah 2015-07-30   \n",
       "2  839FKFW2LLX4LMBB  LJKS5NK6788CYMUU  Chimera-Chasing Casbah 2016-05-27   \n",
       "3  97OX39BGVMHODLJM  LJKS5NK6788CYMUU  Chimera-Chasing Casbah 2018-09-27   \n",
       "4  5T4LGH4XGBWOD49Z  LJKS5NK6788CYMUU  Chimera-Chasing Casbah 2016-01-14   \n",
       "\n",
       "   Order Value  Converted           Meal Id              Date of Meal  \\\n",
       "0         4875          1               NaN                       NaT   \n",
       "1         8425          0               NaN                       NaT   \n",
       "2         4837          0  INBUX904GIHI8YBD 2016-05-31 05:00:00+00:00   \n",
       "3          343          0  J0MMOOPP709DIDIE 2018-10-01 18:00:00+00:00   \n",
       "4          983          0               NaN                       NaT   \n",
       "\n",
       "       Participants  Meal Price Type of Meal Heroes Adjustment  \n",
       "0               NaN         NaN          NaN               NaN  \n",
       "1               NaN         NaN          NaN               NaN  \n",
       "2  ['David Bishop']       469.0    Breakfast             False  \n",
       "3  ['David Bishop']        22.0       Dinner             False  \n",
       "4               NaN         NaN          NaN               NaN  "
      ]
     },
     "execution_count": 63,
     "metadata": {},
     "output_type": "execute_result"
    }
   ],
   "source": [
    "pd.merge(order_data,invoices,how='left').head()"
   ]
  },
  {
   "cell_type": "markdown",
   "metadata": {},
   "source": [
    "- how='right' which means that we will take all rows from the right frame and only add data from the left frame where we find some."
   ]
  },
  {
   "cell_type": "code",
   "execution_count": 64,
   "metadata": {
    "ExecuteTime": {
     "end_time": "2022-06-11T10:09:24.535471Z",
     "start_time": "2022-06-11T10:09:24.416583Z"
    }
   },
   "outputs": [
    {
     "data": {
      "text/html": [
       "<div>\n",
       "<style scoped>\n",
       "    .dataframe tbody tr th:only-of-type {\n",
       "        vertical-align: middle;\n",
       "    }\n",
       "\n",
       "    .dataframe tbody tr th {\n",
       "        vertical-align: top;\n",
       "    }\n",
       "\n",
       "    .dataframe thead th {\n",
       "        text-align: right;\n",
       "    }\n",
       "</style>\n",
       "<table border=\"1\" class=\"dataframe\">\n",
       "  <thead>\n",
       "    <tr style=\"text-align: right;\">\n",
       "      <th></th>\n",
       "      <th>Order Id</th>\n",
       "      <th>Company Id</th>\n",
       "      <th>Company Name</th>\n",
       "      <th>Date</th>\n",
       "      <th>Order Value</th>\n",
       "      <th>Converted</th>\n",
       "      <th>Meal Id</th>\n",
       "      <th>Date of Meal</th>\n",
       "      <th>Participants</th>\n",
       "      <th>Meal Price</th>\n",
       "      <th>Type of Meal</th>\n",
       "      <th>Heroes Adjustment</th>\n",
       "    </tr>\n",
       "  </thead>\n",
       "  <tbody>\n",
       "    <tr>\n",
       "      <th>0</th>\n",
       "      <td>839FKFW2LLX4LMBB</td>\n",
       "      <td>LJKS5NK6788CYMUU</td>\n",
       "      <td>Chimera-Chasing Casbah</td>\n",
       "      <td>2016-05-27</td>\n",
       "      <td>4837</td>\n",
       "      <td>0</td>\n",
       "      <td>INBUX904GIHI8YBD</td>\n",
       "      <td>2016-05-31 05:00:00+00:00</td>\n",
       "      <td>['David Bishop']</td>\n",
       "      <td>469.0</td>\n",
       "      <td>Breakfast</td>\n",
       "      <td>False</td>\n",
       "    </tr>\n",
       "    <tr>\n",
       "      <th>1</th>\n",
       "      <td>97OX39BGVMHODLJM</td>\n",
       "      <td>LJKS5NK6788CYMUU</td>\n",
       "      <td>Chimera-Chasing Casbah</td>\n",
       "      <td>2018-09-27</td>\n",
       "      <td>343</td>\n",
       "      <td>0</td>\n",
       "      <td>J0MMOOPP709DIDIE</td>\n",
       "      <td>2018-10-01 18:00:00+00:00</td>\n",
       "      <td>['David Bishop']</td>\n",
       "      <td>22.0</td>\n",
       "      <td>Dinner</td>\n",
       "      <td>False</td>\n",
       "    </tr>\n",
       "    <tr>\n",
       "      <th>2</th>\n",
       "      <td>041ORQM5OIHTIU6L</td>\n",
       "      <td>LJKS5NK6788CYMUU</td>\n",
       "      <td>Chimera-Chasing Casbah</td>\n",
       "      <td>2014-08-24</td>\n",
       "      <td>4185</td>\n",
       "      <td>0</td>\n",
       "      <td>E4UJLQNCI16UX5CS</td>\n",
       "      <td>2014-08-23 12:00:00+00:00</td>\n",
       "      <td>['Karen Stansell']</td>\n",
       "      <td>314.0</td>\n",
       "      <td>Lunch</td>\n",
       "      <td>False</td>\n",
       "    </tr>\n",
       "    <tr>\n",
       "      <th>3</th>\n",
       "      <td>YT796QI18WNGZ7ZJ</td>\n",
       "      <td>LJKS5NK6788CYMUU</td>\n",
       "      <td>Chimera-Chasing Casbah</td>\n",
       "      <td>2014-04-12</td>\n",
       "      <td>5839</td>\n",
       "      <td>0</td>\n",
       "      <td>C9SDFHF7553BE247</td>\n",
       "      <td>2014-04-07 19:00:00+00:00</td>\n",
       "      <td>['Addie Patino']</td>\n",
       "      <td>438.0</td>\n",
       "      <td>Dinner</td>\n",
       "      <td>False</td>\n",
       "    </tr>\n",
       "    <tr>\n",
       "      <th>4</th>\n",
       "      <td>6YLROQT27B6HRF4E</td>\n",
       "      <td>LJKS5NK6788CYMUU</td>\n",
       "      <td>Chimera-Chasing Casbah</td>\n",
       "      <td>2015-07-28</td>\n",
       "      <td>8841</td>\n",
       "      <td>0</td>\n",
       "      <td>48EQXS6IHYNZDDZ5</td>\n",
       "      <td>2015-07-27 12:00:00+00:00</td>\n",
       "      <td>['Addie Patino' 'Susan Guerrero']</td>\n",
       "      <td>690.0</td>\n",
       "      <td>Lunch</td>\n",
       "      <td>False</td>\n",
       "    </tr>\n",
       "  </tbody>\n",
       "</table>\n",
       "</div>"
      ],
      "text/plain": [
       "           Order Id        Company Id            Company Name       Date  \\\n",
       "0  839FKFW2LLX4LMBB  LJKS5NK6788CYMUU  Chimera-Chasing Casbah 2016-05-27   \n",
       "1  97OX39BGVMHODLJM  LJKS5NK6788CYMUU  Chimera-Chasing Casbah 2018-09-27   \n",
       "2  041ORQM5OIHTIU6L  LJKS5NK6788CYMUU  Chimera-Chasing Casbah 2014-08-24   \n",
       "3  YT796QI18WNGZ7ZJ  LJKS5NK6788CYMUU  Chimera-Chasing Casbah 2014-04-12   \n",
       "4  6YLROQT27B6HRF4E  LJKS5NK6788CYMUU  Chimera-Chasing Casbah 2015-07-28   \n",
       "\n",
       "   Order Value  Converted           Meal Id              Date of Meal  \\\n",
       "0         4837          0  INBUX904GIHI8YBD 2016-05-31 05:00:00+00:00   \n",
       "1          343          0  J0MMOOPP709DIDIE 2018-10-01 18:00:00+00:00   \n",
       "2         4185          0  E4UJLQNCI16UX5CS 2014-08-23 12:00:00+00:00   \n",
       "3         5839          0  C9SDFHF7553BE247 2014-04-07 19:00:00+00:00   \n",
       "4         8841          0  48EQXS6IHYNZDDZ5 2015-07-27 12:00:00+00:00   \n",
       "\n",
       "                        Participants  Meal Price Type of Meal  \\\n",
       "0                   ['David Bishop']       469.0    Breakfast   \n",
       "1                   ['David Bishop']        22.0       Dinner   \n",
       "2                 ['Karen Stansell']       314.0        Lunch   \n",
       "3                   ['Addie Patino']       438.0       Dinner   \n",
       "4  ['Addie Patino' 'Susan Guerrero']       690.0        Lunch   \n",
       "\n",
       "   Heroes Adjustment  \n",
       "0              False  \n",
       "1              False  \n",
       "2              False  \n",
       "3              False  \n",
       "4              False  "
      ]
     },
     "execution_count": 64,
     "metadata": {},
     "output_type": "execute_result"
    }
   ],
   "source": [
    "pd.merge(order_data,invoices,how='right').head()"
   ]
  },
  {
   "cell_type": "code",
   "execution_count": 65,
   "metadata": {
    "ExecuteTime": {
     "end_time": "2022-06-11T10:09:26.501914Z",
     "start_time": "2022-06-11T10:09:26.372494Z"
    }
   },
   "outputs": [
    {
     "data": {
      "text/html": [
       "<div>\n",
       "<style scoped>\n",
       "    .dataframe tbody tr th:only-of-type {\n",
       "        vertical-align: middle;\n",
       "    }\n",
       "\n",
       "    .dataframe tbody tr th {\n",
       "        vertical-align: top;\n",
       "    }\n",
       "\n",
       "    .dataframe thead th {\n",
       "        text-align: right;\n",
       "    }\n",
       "</style>\n",
       "<table border=\"1\" class=\"dataframe\">\n",
       "  <thead>\n",
       "    <tr style=\"text-align: right;\">\n",
       "      <th></th>\n",
       "      <th>Order Id</th>\n",
       "      <th>Company Id</th>\n",
       "      <th>Company Name</th>\n",
       "      <th>Date</th>\n",
       "      <th>Order Value</th>\n",
       "      <th>Converted</th>\n",
       "      <th>Meal Id</th>\n",
       "      <th>Date of Meal</th>\n",
       "      <th>Participants</th>\n",
       "      <th>Meal Price</th>\n",
       "      <th>Type of Meal</th>\n",
       "      <th>Heroes Adjustment</th>\n",
       "    </tr>\n",
       "  </thead>\n",
       "  <tbody>\n",
       "    <tr>\n",
       "      <th>0</th>\n",
       "      <td>80EYLOKP9E762WKG</td>\n",
       "      <td>LJKS5NK6788CYMUU</td>\n",
       "      <td>Chimera-Chasing Casbah</td>\n",
       "      <td>2017-02-18</td>\n",
       "      <td>4875</td>\n",
       "      <td>1</td>\n",
       "      <td>NaN</td>\n",
       "      <td>NaT</td>\n",
       "      <td>NaN</td>\n",
       "      <td>NaN</td>\n",
       "      <td>NaN</td>\n",
       "      <td>NaN</td>\n",
       "    </tr>\n",
       "    <tr>\n",
       "      <th>1</th>\n",
       "      <td>TLEXR1HZWTUTBHPB</td>\n",
       "      <td>LJKS5NK6788CYMUU</td>\n",
       "      <td>Chimera-Chasing Casbah</td>\n",
       "      <td>2015-07-30</td>\n",
       "      <td>8425</td>\n",
       "      <td>0</td>\n",
       "      <td>NaN</td>\n",
       "      <td>NaT</td>\n",
       "      <td>NaN</td>\n",
       "      <td>NaN</td>\n",
       "      <td>NaN</td>\n",
       "      <td>NaN</td>\n",
       "    </tr>\n",
       "    <tr>\n",
       "      <th>2</th>\n",
       "      <td>839FKFW2LLX4LMBB</td>\n",
       "      <td>LJKS5NK6788CYMUU</td>\n",
       "      <td>Chimera-Chasing Casbah</td>\n",
       "      <td>2016-05-27</td>\n",
       "      <td>4837</td>\n",
       "      <td>0</td>\n",
       "      <td>INBUX904GIHI8YBD</td>\n",
       "      <td>2016-05-31 05:00:00+00:00</td>\n",
       "      <td>['David Bishop']</td>\n",
       "      <td>469.0</td>\n",
       "      <td>Breakfast</td>\n",
       "      <td>False</td>\n",
       "    </tr>\n",
       "    <tr>\n",
       "      <th>3</th>\n",
       "      <td>97OX39BGVMHODLJM</td>\n",
       "      <td>LJKS5NK6788CYMUU</td>\n",
       "      <td>Chimera-Chasing Casbah</td>\n",
       "      <td>2018-09-27</td>\n",
       "      <td>343</td>\n",
       "      <td>0</td>\n",
       "      <td>J0MMOOPP709DIDIE</td>\n",
       "      <td>2018-10-01 18:00:00+00:00</td>\n",
       "      <td>['David Bishop']</td>\n",
       "      <td>22.0</td>\n",
       "      <td>Dinner</td>\n",
       "      <td>False</td>\n",
       "    </tr>\n",
       "    <tr>\n",
       "      <th>4</th>\n",
       "      <td>5T4LGH4XGBWOD49Z</td>\n",
       "      <td>LJKS5NK6788CYMUU</td>\n",
       "      <td>Chimera-Chasing Casbah</td>\n",
       "      <td>2016-01-14</td>\n",
       "      <td>983</td>\n",
       "      <td>0</td>\n",
       "      <td>NaN</td>\n",
       "      <td>NaT</td>\n",
       "      <td>NaN</td>\n",
       "      <td>NaN</td>\n",
       "      <td>NaN</td>\n",
       "      <td>NaN</td>\n",
       "    </tr>\n",
       "  </tbody>\n",
       "</table>\n",
       "</div>"
      ],
      "text/plain": [
       "           Order Id        Company Id            Company Name       Date  \\\n",
       "0  80EYLOKP9E762WKG  LJKS5NK6788CYMUU  Chimera-Chasing Casbah 2017-02-18   \n",
       "1  TLEXR1HZWTUTBHPB  LJKS5NK6788CYMUU  Chimera-Chasing Casbah 2015-07-30   \n",
       "2  839FKFW2LLX4LMBB  LJKS5NK6788CYMUU  Chimera-Chasing Casbah 2016-05-27   \n",
       "3  97OX39BGVMHODLJM  LJKS5NK6788CYMUU  Chimera-Chasing Casbah 2018-09-27   \n",
       "4  5T4LGH4XGBWOD49Z  LJKS5NK6788CYMUU  Chimera-Chasing Casbah 2016-01-14   \n",
       "\n",
       "   Order Value  Converted           Meal Id              Date of Meal  \\\n",
       "0         4875          1               NaN                       NaT   \n",
       "1         8425          0               NaN                       NaT   \n",
       "2         4837          0  INBUX904GIHI8YBD 2016-05-31 05:00:00+00:00   \n",
       "3          343          0  J0MMOOPP709DIDIE 2018-10-01 18:00:00+00:00   \n",
       "4          983          0               NaN                       NaT   \n",
       "\n",
       "       Participants  Meal Price Type of Meal Heroes Adjustment  \n",
       "0               NaN         NaN          NaN               NaN  \n",
       "1               NaN         NaN          NaN               NaN  \n",
       "2  ['David Bishop']       469.0    Breakfast             False  \n",
       "3  ['David Bishop']        22.0       Dinner             False  \n",
       "4               NaN         NaN          NaN               NaN  "
      ]
     },
     "execution_count": 65,
     "metadata": {},
     "output_type": "execute_result"
    }
   ],
   "source": [
    "pd.merge(order_data,invoices,how='outer').head() ## same as union"
   ]
  },
  {
   "cell_type": "markdown",
   "metadata": {},
   "source": [
    "### Merging — on/suffixes"
   ]
  },
  {
   "cell_type": "code",
   "execution_count": 66,
   "metadata": {
    "ExecuteTime": {
     "end_time": "2022-06-11T10:09:28.997393Z",
     "start_time": "2022-06-11T10:09:28.889440Z"
    }
   },
   "outputs": [
    {
     "data": {
      "text/html": [
       "<div>\n",
       "<style scoped>\n",
       "    .dataframe tbody tr th:only-of-type {\n",
       "        vertical-align: middle;\n",
       "    }\n",
       "\n",
       "    .dataframe tbody tr th {\n",
       "        vertical-align: top;\n",
       "    }\n",
       "\n",
       "    .dataframe thead th {\n",
       "        text-align: right;\n",
       "    }\n",
       "</style>\n",
       "<table border=\"1\" class=\"dataframe\">\n",
       "  <thead>\n",
       "    <tr style=\"text-align: right;\">\n",
       "      <th></th>\n",
       "      <th>Order Id</th>\n",
       "      <th>Company Id_x</th>\n",
       "      <th>Company Name</th>\n",
       "      <th>Date_x</th>\n",
       "      <th>Order Value</th>\n",
       "      <th>Converted</th>\n",
       "      <th>Date_y</th>\n",
       "      <th>Meal Id</th>\n",
       "      <th>Company Id_y</th>\n",
       "      <th>Date of Meal</th>\n",
       "      <th>Participants</th>\n",
       "      <th>Meal Price</th>\n",
       "      <th>Type of Meal</th>\n",
       "      <th>Heroes Adjustment</th>\n",
       "    </tr>\n",
       "  </thead>\n",
       "  <tbody>\n",
       "    <tr>\n",
       "      <th>0</th>\n",
       "      <td>839FKFW2LLX4LMBB</td>\n",
       "      <td>LJKS5NK6788CYMUU</td>\n",
       "      <td>Chimera-Chasing Casbah</td>\n",
       "      <td>2016-05-27</td>\n",
       "      <td>4837</td>\n",
       "      <td>0</td>\n",
       "      <td>2016-05-27</td>\n",
       "      <td>INBUX904GIHI8YBD</td>\n",
       "      <td>LJKS5NK6788CYMUU</td>\n",
       "      <td>2016-05-31 05:00:00+00:00</td>\n",
       "      <td>['David Bishop']</td>\n",
       "      <td>469.0</td>\n",
       "      <td>Breakfast</td>\n",
       "      <td>False</td>\n",
       "    </tr>\n",
       "    <tr>\n",
       "      <th>1</th>\n",
       "      <td>97OX39BGVMHODLJM</td>\n",
       "      <td>LJKS5NK6788CYMUU</td>\n",
       "      <td>Chimera-Chasing Casbah</td>\n",
       "      <td>2018-09-27</td>\n",
       "      <td>343</td>\n",
       "      <td>0</td>\n",
       "      <td>2018-09-27</td>\n",
       "      <td>J0MMOOPP709DIDIE</td>\n",
       "      <td>LJKS5NK6788CYMUU</td>\n",
       "      <td>2018-10-01 18:00:00+00:00</td>\n",
       "      <td>['David Bishop']</td>\n",
       "      <td>22.0</td>\n",
       "      <td>Dinner</td>\n",
       "      <td>False</td>\n",
       "    </tr>\n",
       "    <tr>\n",
       "      <th>2</th>\n",
       "      <td>041ORQM5OIHTIU6L</td>\n",
       "      <td>LJKS5NK6788CYMUU</td>\n",
       "      <td>Chimera-Chasing Casbah</td>\n",
       "      <td>2014-08-24</td>\n",
       "      <td>4185</td>\n",
       "      <td>0</td>\n",
       "      <td>2014-08-24</td>\n",
       "      <td>E4UJLQNCI16UX5CS</td>\n",
       "      <td>LJKS5NK6788CYMUU</td>\n",
       "      <td>2014-08-23 12:00:00+00:00</td>\n",
       "      <td>['Karen Stansell']</td>\n",
       "      <td>314.0</td>\n",
       "      <td>Lunch</td>\n",
       "      <td>False</td>\n",
       "    </tr>\n",
       "    <tr>\n",
       "      <th>3</th>\n",
       "      <td>YT796QI18WNGZ7ZJ</td>\n",
       "      <td>LJKS5NK6788CYMUU</td>\n",
       "      <td>Chimera-Chasing Casbah</td>\n",
       "      <td>2014-04-12</td>\n",
       "      <td>5839</td>\n",
       "      <td>0</td>\n",
       "      <td>2014-04-12</td>\n",
       "      <td>C9SDFHF7553BE247</td>\n",
       "      <td>LJKS5NK6788CYMUU</td>\n",
       "      <td>2014-04-07 19:00:00+00:00</td>\n",
       "      <td>['Addie Patino']</td>\n",
       "      <td>438.0</td>\n",
       "      <td>Dinner</td>\n",
       "      <td>False</td>\n",
       "    </tr>\n",
       "    <tr>\n",
       "      <th>4</th>\n",
       "      <td>6YLROQT27B6HRF4E</td>\n",
       "      <td>LJKS5NK6788CYMUU</td>\n",
       "      <td>Chimera-Chasing Casbah</td>\n",
       "      <td>2015-07-28</td>\n",
       "      <td>8841</td>\n",
       "      <td>0</td>\n",
       "      <td>2015-07-28</td>\n",
       "      <td>48EQXS6IHYNZDDZ5</td>\n",
       "      <td>LJKS5NK6788CYMUU</td>\n",
       "      <td>2015-07-27 12:00:00+00:00</td>\n",
       "      <td>['Addie Patino' 'Susan Guerrero']</td>\n",
       "      <td>690.0</td>\n",
       "      <td>Lunch</td>\n",
       "      <td>False</td>\n",
       "    </tr>\n",
       "  </tbody>\n",
       "</table>\n",
       "</div>"
      ],
      "text/plain": [
       "           Order Id      Company Id_x            Company Name     Date_x  \\\n",
       "0  839FKFW2LLX4LMBB  LJKS5NK6788CYMUU  Chimera-Chasing Casbah 2016-05-27   \n",
       "1  97OX39BGVMHODLJM  LJKS5NK6788CYMUU  Chimera-Chasing Casbah 2018-09-27   \n",
       "2  041ORQM5OIHTIU6L  LJKS5NK6788CYMUU  Chimera-Chasing Casbah 2014-08-24   \n",
       "3  YT796QI18WNGZ7ZJ  LJKS5NK6788CYMUU  Chimera-Chasing Casbah 2014-04-12   \n",
       "4  6YLROQT27B6HRF4E  LJKS5NK6788CYMUU  Chimera-Chasing Casbah 2015-07-28   \n",
       "\n",
       "   Order Value  Converted     Date_y           Meal Id      Company Id_y  \\\n",
       "0         4837          0 2016-05-27  INBUX904GIHI8YBD  LJKS5NK6788CYMUU   \n",
       "1          343          0 2018-09-27  J0MMOOPP709DIDIE  LJKS5NK6788CYMUU   \n",
       "2         4185          0 2014-08-24  E4UJLQNCI16UX5CS  LJKS5NK6788CYMUU   \n",
       "3         5839          0 2014-04-12  C9SDFHF7553BE247  LJKS5NK6788CYMUU   \n",
       "4         8841          0 2015-07-28  48EQXS6IHYNZDDZ5  LJKS5NK6788CYMUU   \n",
       "\n",
       "               Date of Meal                       Participants  Meal Price  \\\n",
       "0 2016-05-31 05:00:00+00:00                   ['David Bishop']       469.0   \n",
       "1 2018-10-01 18:00:00+00:00                   ['David Bishop']        22.0   \n",
       "2 2014-08-23 12:00:00+00:00                 ['Karen Stansell']       314.0   \n",
       "3 2014-04-07 19:00:00+00:00                   ['Addie Patino']       438.0   \n",
       "4 2015-07-27 12:00:00+00:00  ['Addie Patino' 'Susan Guerrero']       690.0   \n",
       "\n",
       "  Type of Meal  Heroes Adjustment  \n",
       "0    Breakfast              False  \n",
       "1       Dinner              False  \n",
       "2        Lunch              False  \n",
       "3       Dinner              False  \n",
       "4        Lunch              False  "
      ]
     },
     "execution_count": 66,
     "metadata": {},
     "output_type": "execute_result"
    }
   ],
   "source": [
    "pd.merge(order_data,invoices,on='Order Id').head()"
   ]
  },
  {
   "cell_type": "code",
   "execution_count": 67,
   "metadata": {
    "ExecuteTime": {
     "end_time": "2022-06-11T10:09:31.254180Z",
     "start_time": "2022-06-11T10:09:31.153994Z"
    },
    "scrolled": true
   },
   "outputs": [
    {
     "data": {
      "text/html": [
       "<div>\n",
       "<style scoped>\n",
       "    .dataframe tbody tr th:only-of-type {\n",
       "        vertical-align: middle;\n",
       "    }\n",
       "\n",
       "    .dataframe tbody tr th {\n",
       "        vertical-align: top;\n",
       "    }\n",
       "\n",
       "    .dataframe thead th {\n",
       "        text-align: right;\n",
       "    }\n",
       "</style>\n",
       "<table border=\"1\" class=\"dataframe\">\n",
       "  <thead>\n",
       "    <tr style=\"text-align: right;\">\n",
       "      <th></th>\n",
       "      <th>Order Id</th>\n",
       "      <th>Company Id_base</th>\n",
       "      <th>Company Name</th>\n",
       "      <th>Date_base</th>\n",
       "      <th>Order Value</th>\n",
       "      <th>Converted</th>\n",
       "      <th>Date_join</th>\n",
       "      <th>Meal Id</th>\n",
       "      <th>Company Id_join</th>\n",
       "      <th>Date of Meal</th>\n",
       "      <th>Participants</th>\n",
       "      <th>Meal Price</th>\n",
       "      <th>Type of Meal</th>\n",
       "      <th>Heroes Adjustment</th>\n",
       "    </tr>\n",
       "  </thead>\n",
       "  <tbody>\n",
       "    <tr>\n",
       "      <th>0</th>\n",
       "      <td>839FKFW2LLX4LMBB</td>\n",
       "      <td>LJKS5NK6788CYMUU</td>\n",
       "      <td>Chimera-Chasing Casbah</td>\n",
       "      <td>2016-05-27</td>\n",
       "      <td>4837</td>\n",
       "      <td>0</td>\n",
       "      <td>2016-05-27</td>\n",
       "      <td>INBUX904GIHI8YBD</td>\n",
       "      <td>LJKS5NK6788CYMUU</td>\n",
       "      <td>2016-05-31 05:00:00+00:00</td>\n",
       "      <td>['David Bishop']</td>\n",
       "      <td>469.0</td>\n",
       "      <td>Breakfast</td>\n",
       "      <td>False</td>\n",
       "    </tr>\n",
       "    <tr>\n",
       "      <th>1</th>\n",
       "      <td>97OX39BGVMHODLJM</td>\n",
       "      <td>LJKS5NK6788CYMUU</td>\n",
       "      <td>Chimera-Chasing Casbah</td>\n",
       "      <td>2018-09-27</td>\n",
       "      <td>343</td>\n",
       "      <td>0</td>\n",
       "      <td>2018-09-27</td>\n",
       "      <td>J0MMOOPP709DIDIE</td>\n",
       "      <td>LJKS5NK6788CYMUU</td>\n",
       "      <td>2018-10-01 18:00:00+00:00</td>\n",
       "      <td>['David Bishop']</td>\n",
       "      <td>22.0</td>\n",
       "      <td>Dinner</td>\n",
       "      <td>False</td>\n",
       "    </tr>\n",
       "    <tr>\n",
       "      <th>2</th>\n",
       "      <td>041ORQM5OIHTIU6L</td>\n",
       "      <td>LJKS5NK6788CYMUU</td>\n",
       "      <td>Chimera-Chasing Casbah</td>\n",
       "      <td>2014-08-24</td>\n",
       "      <td>4185</td>\n",
       "      <td>0</td>\n",
       "      <td>2014-08-24</td>\n",
       "      <td>E4UJLQNCI16UX5CS</td>\n",
       "      <td>LJKS5NK6788CYMUU</td>\n",
       "      <td>2014-08-23 12:00:00+00:00</td>\n",
       "      <td>['Karen Stansell']</td>\n",
       "      <td>314.0</td>\n",
       "      <td>Lunch</td>\n",
       "      <td>False</td>\n",
       "    </tr>\n",
       "    <tr>\n",
       "      <th>3</th>\n",
       "      <td>YT796QI18WNGZ7ZJ</td>\n",
       "      <td>LJKS5NK6788CYMUU</td>\n",
       "      <td>Chimera-Chasing Casbah</td>\n",
       "      <td>2014-04-12</td>\n",
       "      <td>5839</td>\n",
       "      <td>0</td>\n",
       "      <td>2014-04-12</td>\n",
       "      <td>C9SDFHF7553BE247</td>\n",
       "      <td>LJKS5NK6788CYMUU</td>\n",
       "      <td>2014-04-07 19:00:00+00:00</td>\n",
       "      <td>['Addie Patino']</td>\n",
       "      <td>438.0</td>\n",
       "      <td>Dinner</td>\n",
       "      <td>False</td>\n",
       "    </tr>\n",
       "    <tr>\n",
       "      <th>4</th>\n",
       "      <td>6YLROQT27B6HRF4E</td>\n",
       "      <td>LJKS5NK6788CYMUU</td>\n",
       "      <td>Chimera-Chasing Casbah</td>\n",
       "      <td>2015-07-28</td>\n",
       "      <td>8841</td>\n",
       "      <td>0</td>\n",
       "      <td>2015-07-28</td>\n",
       "      <td>48EQXS6IHYNZDDZ5</td>\n",
       "      <td>LJKS5NK6788CYMUU</td>\n",
       "      <td>2015-07-27 12:00:00+00:00</td>\n",
       "      <td>['Addie Patino' 'Susan Guerrero']</td>\n",
       "      <td>690.0</td>\n",
       "      <td>Lunch</td>\n",
       "      <td>False</td>\n",
       "    </tr>\n",
       "    <tr>\n",
       "      <th>...</th>\n",
       "      <td>...</td>\n",
       "      <td>...</td>\n",
       "      <td>...</td>\n",
       "      <td>...</td>\n",
       "      <td>...</td>\n",
       "      <td>...</td>\n",
       "      <td>...</td>\n",
       "      <td>...</td>\n",
       "      <td>...</td>\n",
       "      <td>...</td>\n",
       "      <td>...</td>\n",
       "      <td>...</td>\n",
       "      <td>...</td>\n",
       "      <td>...</td>\n",
       "    </tr>\n",
       "    <tr>\n",
       "      <th>50012</th>\n",
       "      <td>4OMS8ZSA0UX8LHWI</td>\n",
       "      <td>E4K99D4JR9E40VE1</td>\n",
       "      <td>Fierce Productivity</td>\n",
       "      <td>2017-09-20</td>\n",
       "      <td>110</td>\n",
       "      <td>0</td>\n",
       "      <td>2017-09-20</td>\n",
       "      <td>1TD5MROATV1NHZ4Y</td>\n",
       "      <td>E4K99D4JR9E40VE1</td>\n",
       "      <td>2017-09-21 06:00:00+00:00</td>\n",
       "      <td>['Regina Shirley']</td>\n",
       "      <td>9.0</td>\n",
       "      <td>Breakfast</td>\n",
       "      <td>False</td>\n",
       "    </tr>\n",
       "    <tr>\n",
       "      <th>50013</th>\n",
       "      <td>RR0VKJN8V0KHNKGG</td>\n",
       "      <td>E4K99D4JR9E40VE1</td>\n",
       "      <td>Fierce Productivity</td>\n",
       "      <td>2018-03-19</td>\n",
       "      <td>356</td>\n",
       "      <td>0</td>\n",
       "      <td>2018-03-19</td>\n",
       "      <td>22EX9VZSJKHP4AIP</td>\n",
       "      <td>E4K99D4JR9E40VE1</td>\n",
       "      <td>2018-03-18 08:00:00+00:00</td>\n",
       "      <td>['Robin Ramos' 'Chester Mortimer']</td>\n",
       "      <td>25.0</td>\n",
       "      <td>Breakfast</td>\n",
       "      <td>False</td>\n",
       "    </tr>\n",
       "    <tr>\n",
       "      <th>50014</th>\n",
       "      <td>STJ6QJC30WPRM93H</td>\n",
       "      <td>E4K99D4JR9E40VE1</td>\n",
       "      <td>Fierce Productivity</td>\n",
       "      <td>2017-09-21</td>\n",
       "      <td>2228</td>\n",
       "      <td>1</td>\n",
       "      <td>2017-09-21</td>\n",
       "      <td>LMX18PNGWCIMG1QW</td>\n",
       "      <td>E4K99D4JR9E40VE1</td>\n",
       "      <td>2017-09-22 19:00:00+00:00</td>\n",
       "      <td>['Robin Ramos']</td>\n",
       "      <td>160.0</td>\n",
       "      <td>Dinner</td>\n",
       "      <td>False</td>\n",
       "    </tr>\n",
       "    <tr>\n",
       "      <th>50015</th>\n",
       "      <td>QHEUIYNC0XQX7GDR</td>\n",
       "      <td>E4K99D4JR9E40VE1</td>\n",
       "      <td>Fierce Productivity</td>\n",
       "      <td>2018-01-28</td>\n",
       "      <td>8869</td>\n",
       "      <td>0</td>\n",
       "      <td>2018-01-28</td>\n",
       "      <td>4U0VH2TGQL30X23X</td>\n",
       "      <td>E4K99D4JR9E40VE1</td>\n",
       "      <td>2018-02-01 20:00:00+00:00</td>\n",
       "      <td>['Chester Mortimer' 'Robin Ramos']</td>\n",
       "      <td>497.0</td>\n",
       "      <td>Dinner</td>\n",
       "      <td>False</td>\n",
       "    </tr>\n",
       "    <tr>\n",
       "      <th>50016</th>\n",
       "      <td>NKHFWT5I2J9LPAPG</td>\n",
       "      <td>E4K99D4JR9E40VE1</td>\n",
       "      <td>Fierce Productivity</td>\n",
       "      <td>2017-09-06</td>\n",
       "      <td>5138</td>\n",
       "      <td>0</td>\n",
       "      <td>2017-09-06</td>\n",
       "      <td>ORWFRT5TUSYGNYG7</td>\n",
       "      <td>E4K99D4JR9E40VE1</td>\n",
       "      <td>2017-09-09 12:00:00+00:00</td>\n",
       "      <td>['Chester Mortimer' 'Robin Ramos']</td>\n",
       "      <td>365.0</td>\n",
       "      <td>Lunch</td>\n",
       "      <td>False</td>\n",
       "    </tr>\n",
       "  </tbody>\n",
       "</table>\n",
       "<p>50017 rows × 14 columns</p>\n",
       "</div>"
      ],
      "text/plain": [
       "               Order Id   Company Id_base            Company Name  Date_base  \\\n",
       "0      839FKFW2LLX4LMBB  LJKS5NK6788CYMUU  Chimera-Chasing Casbah 2016-05-27   \n",
       "1      97OX39BGVMHODLJM  LJKS5NK6788CYMUU  Chimera-Chasing Casbah 2018-09-27   \n",
       "2      041ORQM5OIHTIU6L  LJKS5NK6788CYMUU  Chimera-Chasing Casbah 2014-08-24   \n",
       "3      YT796QI18WNGZ7ZJ  LJKS5NK6788CYMUU  Chimera-Chasing Casbah 2014-04-12   \n",
       "4      6YLROQT27B6HRF4E  LJKS5NK6788CYMUU  Chimera-Chasing Casbah 2015-07-28   \n",
       "...                 ...               ...                     ...        ...   \n",
       "50012  4OMS8ZSA0UX8LHWI  E4K99D4JR9E40VE1     Fierce Productivity 2017-09-20   \n",
       "50013  RR0VKJN8V0KHNKGG  E4K99D4JR9E40VE1     Fierce Productivity 2018-03-19   \n",
       "50014  STJ6QJC30WPRM93H  E4K99D4JR9E40VE1     Fierce Productivity 2017-09-21   \n",
       "50015  QHEUIYNC0XQX7GDR  E4K99D4JR9E40VE1     Fierce Productivity 2018-01-28   \n",
       "50016  NKHFWT5I2J9LPAPG  E4K99D4JR9E40VE1     Fierce Productivity 2017-09-06   \n",
       "\n",
       "       Order Value  Converted  Date_join           Meal Id   Company Id_join  \\\n",
       "0             4837          0 2016-05-27  INBUX904GIHI8YBD  LJKS5NK6788CYMUU   \n",
       "1              343          0 2018-09-27  J0MMOOPP709DIDIE  LJKS5NK6788CYMUU   \n",
       "2             4185          0 2014-08-24  E4UJLQNCI16UX5CS  LJKS5NK6788CYMUU   \n",
       "3             5839          0 2014-04-12  C9SDFHF7553BE247  LJKS5NK6788CYMUU   \n",
       "4             8841          0 2015-07-28  48EQXS6IHYNZDDZ5  LJKS5NK6788CYMUU   \n",
       "...            ...        ...        ...               ...               ...   \n",
       "50012          110          0 2017-09-20  1TD5MROATV1NHZ4Y  E4K99D4JR9E40VE1   \n",
       "50013          356          0 2018-03-19  22EX9VZSJKHP4AIP  E4K99D4JR9E40VE1   \n",
       "50014         2228          1 2017-09-21  LMX18PNGWCIMG1QW  E4K99D4JR9E40VE1   \n",
       "50015         8869          0 2018-01-28  4U0VH2TGQL30X23X  E4K99D4JR9E40VE1   \n",
       "50016         5138          0 2017-09-06  ORWFRT5TUSYGNYG7  E4K99D4JR9E40VE1   \n",
       "\n",
       "                   Date of Meal                        Participants  \\\n",
       "0     2016-05-31 05:00:00+00:00                    ['David Bishop']   \n",
       "1     2018-10-01 18:00:00+00:00                    ['David Bishop']   \n",
       "2     2014-08-23 12:00:00+00:00                  ['Karen Stansell']   \n",
       "3     2014-04-07 19:00:00+00:00                    ['Addie Patino']   \n",
       "4     2015-07-27 12:00:00+00:00   ['Addie Patino' 'Susan Guerrero']   \n",
       "...                         ...                                 ...   \n",
       "50012 2017-09-21 06:00:00+00:00                  ['Regina Shirley']   \n",
       "50013 2018-03-18 08:00:00+00:00  ['Robin Ramos' 'Chester Mortimer']   \n",
       "50014 2017-09-22 19:00:00+00:00                     ['Robin Ramos']   \n",
       "50015 2018-02-01 20:00:00+00:00  ['Chester Mortimer' 'Robin Ramos']   \n",
       "50016 2017-09-09 12:00:00+00:00  ['Chester Mortimer' 'Robin Ramos']   \n",
       "\n",
       "       Meal Price Type of Meal  Heroes Adjustment  \n",
       "0           469.0    Breakfast              False  \n",
       "1            22.0       Dinner              False  \n",
       "2           314.0        Lunch              False  \n",
       "3           438.0       Dinner              False  \n",
       "4           690.0        Lunch              False  \n",
       "...           ...          ...                ...  \n",
       "50012         9.0    Breakfast              False  \n",
       "50013        25.0    Breakfast              False  \n",
       "50014       160.0       Dinner              False  \n",
       "50015       497.0       Dinner              False  \n",
       "50016       365.0        Lunch              False  \n",
       "\n",
       "[50017 rows x 14 columns]"
      ]
     },
     "execution_count": 67,
     "metadata": {},
     "output_type": "execute_result"
    }
   ],
   "source": [
    "pd.merge(order_data,invoices,on='Order Id',suffixes=('_base','_join'))"
   ]
  },
  {
   "cell_type": "markdown",
   "metadata": {},
   "source": [
    "- Note on Join :\n",
    "    - join vs merge. join by default merges on the index of both DataFrames. Don't use join as it is just a special case of mergeand does not provide a benefit over merging."
   ]
  },
  {
   "cell_type": "markdown",
   "metadata": {},
   "source": [
    "## Map"
   ]
  },
  {
   "cell_type": "code",
   "execution_count": 36,
   "metadata": {
    "ExecuteTime": {
     "end_time": "2022-07-29T23:54:28.146850Z",
     "start_time": "2022-07-29T23:54:28.113914Z"
    }
   },
   "outputs": [
    {
     "data": {
      "text/plain": [
       "Company Name\n",
       "Chimera-Chasing Casbah            Jessie Mcallister\n",
       "Tangential Sheds                  Jessie Mcallister\n",
       "Two-Mile Grab                     Jessie Mcallister\n",
       "Three-Men-And-A-Helper Congo'S    Jessie Mcallister\n",
       "Biophysical Battleground          Jessie Mcallister\n",
       "Name: Sales Rep, dtype: object"
      ]
     },
     "execution_count": 36,
     "metadata": {},
     "output_type": "execute_result"
    }
   ],
   "source": [
    "look_up = sales_team.set_index('Company Name')['Sales Rep']\n",
    "look_up.head()"
   ]
  },
  {
   "cell_type": "code",
   "execution_count": 37,
   "metadata": {
    "ExecuteTime": {
     "end_time": "2022-07-29T23:54:48.384363Z",
     "start_time": "2022-07-29T23:54:48.364384Z"
    }
   },
   "outputs": [],
   "source": [
    "order_data['Sales Rep'] = order_data['Company Name'].map(look_up)"
   ]
  },
  {
   "cell_type": "code",
   "execution_count": 39,
   "metadata": {
    "ExecuteTime": {
     "end_time": "2022-07-29T23:54:55.975539Z",
     "start_time": "2022-07-29T23:54:55.959840Z"
    },
    "scrolled": true
   },
   "outputs": [
    {
     "data": {
      "text/html": [
       "<div>\n",
       "<style scoped>\n",
       "    .dataframe tbody tr th:only-of-type {\n",
       "        vertical-align: middle;\n",
       "    }\n",
       "\n",
       "    .dataframe tbody tr th {\n",
       "        vertical-align: top;\n",
       "    }\n",
       "\n",
       "    .dataframe thead th {\n",
       "        text-align: right;\n",
       "    }\n",
       "</style>\n",
       "<table border=\"1\" class=\"dataframe\">\n",
       "  <thead>\n",
       "    <tr style=\"text-align: right;\">\n",
       "      <th></th>\n",
       "      <th>Order Id</th>\n",
       "      <th>Company Id</th>\n",
       "      <th>Company Name</th>\n",
       "      <th>Date</th>\n",
       "      <th>Order Value</th>\n",
       "      <th>Converted</th>\n",
       "      <th>Sales Rep</th>\n",
       "    </tr>\n",
       "  </thead>\n",
       "  <tbody>\n",
       "    <tr>\n",
       "      <th>0</th>\n",
       "      <td>80EYLOKP9E762WKG</td>\n",
       "      <td>LJKS5NK6788CYMUU</td>\n",
       "      <td>Chimera-Chasing Casbah</td>\n",
       "      <td>2017-02-18</td>\n",
       "      <td>4875</td>\n",
       "      <td>1</td>\n",
       "      <td>Jessie Mcallister</td>\n",
       "    </tr>\n",
       "    <tr>\n",
       "      <th>1</th>\n",
       "      <td>TLEXR1HZWTUTBHPB</td>\n",
       "      <td>LJKS5NK6788CYMUU</td>\n",
       "      <td>Chimera-Chasing Casbah</td>\n",
       "      <td>2015-07-30</td>\n",
       "      <td>8425</td>\n",
       "      <td>0</td>\n",
       "      <td>Jessie Mcallister</td>\n",
       "    </tr>\n",
       "    <tr>\n",
       "      <th>2</th>\n",
       "      <td>839FKFW2LLX4LMBB</td>\n",
       "      <td>LJKS5NK6788CYMUU</td>\n",
       "      <td>Chimera-Chasing Casbah</td>\n",
       "      <td>2016-05-27</td>\n",
       "      <td>4837</td>\n",
       "      <td>0</td>\n",
       "      <td>Jessie Mcallister</td>\n",
       "    </tr>\n",
       "    <tr>\n",
       "      <th>3</th>\n",
       "      <td>97OX39BGVMHODLJM</td>\n",
       "      <td>LJKS5NK6788CYMUU</td>\n",
       "      <td>Chimera-Chasing Casbah</td>\n",
       "      <td>2018-09-27</td>\n",
       "      <td>343</td>\n",
       "      <td>0</td>\n",
       "      <td>Jessie Mcallister</td>\n",
       "    </tr>\n",
       "    <tr>\n",
       "      <th>4</th>\n",
       "      <td>5T4LGH4XGBWOD49Z</td>\n",
       "      <td>LJKS5NK6788CYMUU</td>\n",
       "      <td>Chimera-Chasing Casbah</td>\n",
       "      <td>2016-01-14</td>\n",
       "      <td>983</td>\n",
       "      <td>0</td>\n",
       "      <td>Jessie Mcallister</td>\n",
       "    </tr>\n",
       "  </tbody>\n",
       "</table>\n",
       "</div>"
      ],
      "text/plain": [
       "           Order Id        Company Id            Company Name       Date  \\\n",
       "0  80EYLOKP9E762WKG  LJKS5NK6788CYMUU  Chimera-Chasing Casbah 2017-02-18   \n",
       "1  TLEXR1HZWTUTBHPB  LJKS5NK6788CYMUU  Chimera-Chasing Casbah 2015-07-30   \n",
       "2  839FKFW2LLX4LMBB  LJKS5NK6788CYMUU  Chimera-Chasing Casbah 2016-05-27   \n",
       "3  97OX39BGVMHODLJM  LJKS5NK6788CYMUU  Chimera-Chasing Casbah 2018-09-27   \n",
       "4  5T4LGH4XGBWOD49Z  LJKS5NK6788CYMUU  Chimera-Chasing Casbah 2016-01-14   \n",
       "\n",
       "   Order Value  Converted          Sales Rep  \n",
       "0         4875          1  Jessie Mcallister  \n",
       "1         8425          0  Jessie Mcallister  \n",
       "2         4837          0  Jessie Mcallister  \n",
       "3          343          0  Jessie Mcallister  \n",
       "4          983          0  Jessie Mcallister  "
      ]
     },
     "execution_count": 39,
     "metadata": {},
     "output_type": "execute_result"
    }
   ],
   "source": [
    "order_data.head()"
   ]
  },
  {
   "cell_type": "markdown",
   "metadata": {},
   "source": [
    "- Summary of combining DataFrames:\n",
    "    - Use pd.concat to “stack” multiple DataFrame on top or next to each other. By default, **the stacking is vertical.** To overwrite the default use axis=1. By default, stack will carry over all columns/indices. To limit to common columns/indices use join='inner'.\n",
    "    - **Do not use pd.DataFrame.append** as it is only a special, limited case of pd.concat and will only make your code less standardized and less coherent. Instead, use pd.concat.\n",
    "    - Use pd.merge to combine information from two DataFrames. Merge defaults to an inner join and will infer the columns to merge on from the largest subset of common columns across the DataFrames.\n",
    "    - Do not use pd.DataFrame.join as it is only a special, limited case of pd.merge and will only make your code less standardized and less coherent. Instead, use pd.merge.\n",
    "    - Use pd.Series.map as a lookup-esque kind of functionality to get the value for a specific index/key from a series/dictionary."
   ]
  },
  {
   "cell_type": "markdown",
   "metadata": {},
   "source": [
    "## Reshaping DataFrames"
   ]
  },
  {
   "cell_type": "markdown",
   "metadata": {},
   "source": [
    "### Transpose\n",
    "- Transposing a DataFrame means to swap the index and column. \n",
    "- In other words, you are rotating the DataFrame around the origin. \n",
    "- Transposing does not change the content of the DataFrame.\n",
    "- The DataFrame only changes the orientation."
   ]
  },
  {
   "cell_type": "code",
   "execution_count": 40,
   "metadata": {
    "ExecuteTime": {
     "end_time": "2022-07-29T23:56:18.719664Z",
     "start_time": "2022-07-29T23:56:18.704069Z"
    },
    "scrolled": true
   },
   "outputs": [
    {
     "data": {
      "text/html": [
       "<div>\n",
       "<style scoped>\n",
       "    .dataframe tbody tr th:only-of-type {\n",
       "        vertical-align: middle;\n",
       "    }\n",
       "\n",
       "    .dataframe tbody tr th {\n",
       "        vertical-align: top;\n",
       "    }\n",
       "\n",
       "    .dataframe thead th {\n",
       "        text-align: right;\n",
       "    }\n",
       "</style>\n",
       "<table border=\"1\" class=\"dataframe\">\n",
       "  <thead>\n",
       "    <tr style=\"text-align: right;\">\n",
       "      <th></th>\n",
       "      <th>Order Id</th>\n",
       "      <th>Date</th>\n",
       "      <th>Meal Id</th>\n",
       "      <th>Company Id</th>\n",
       "      <th>Date of Meal</th>\n",
       "      <th>Participants</th>\n",
       "      <th>Meal Price</th>\n",
       "      <th>Type of Meal</th>\n",
       "      <th>Heroes Adjustment</th>\n",
       "    </tr>\n",
       "  </thead>\n",
       "  <tbody>\n",
       "    <tr>\n",
       "      <th>0</th>\n",
       "      <td>839FKFW2LLX4LMBB</td>\n",
       "      <td>2016-05-27</td>\n",
       "      <td>INBUX904GIHI8YBD</td>\n",
       "      <td>LJKS5NK6788CYMUU</td>\n",
       "      <td>2016-05-31 05:00:00+00:00</td>\n",
       "      <td>['David Bishop']</td>\n",
       "      <td>469.0</td>\n",
       "      <td>Breakfast</td>\n",
       "      <td>False</td>\n",
       "    </tr>\n",
       "    <tr>\n",
       "      <th>1</th>\n",
       "      <td>97OX39BGVMHODLJM</td>\n",
       "      <td>2018-09-27</td>\n",
       "      <td>J0MMOOPP709DIDIE</td>\n",
       "      <td>LJKS5NK6788CYMUU</td>\n",
       "      <td>2018-10-01 18:00:00+00:00</td>\n",
       "      <td>['David Bishop']</td>\n",
       "      <td>22.0</td>\n",
       "      <td>Dinner</td>\n",
       "      <td>False</td>\n",
       "    </tr>\n",
       "    <tr>\n",
       "      <th>2</th>\n",
       "      <td>041ORQM5OIHTIU6L</td>\n",
       "      <td>2014-08-24</td>\n",
       "      <td>E4UJLQNCI16UX5CS</td>\n",
       "      <td>LJKS5NK6788CYMUU</td>\n",
       "      <td>2014-08-23 12:00:00+00:00</td>\n",
       "      <td>['Karen Stansell']</td>\n",
       "      <td>314.0</td>\n",
       "      <td>Lunch</td>\n",
       "      <td>False</td>\n",
       "    </tr>\n",
       "    <tr>\n",
       "      <th>3</th>\n",
       "      <td>YT796QI18WNGZ7ZJ</td>\n",
       "      <td>2014-04-12</td>\n",
       "      <td>C9SDFHF7553BE247</td>\n",
       "      <td>LJKS5NK6788CYMUU</td>\n",
       "      <td>2014-04-07 19:00:00+00:00</td>\n",
       "      <td>['Addie Patino']</td>\n",
       "      <td>438.0</td>\n",
       "      <td>Dinner</td>\n",
       "      <td>False</td>\n",
       "    </tr>\n",
       "    <tr>\n",
       "      <th>4</th>\n",
       "      <td>6YLROQT27B6HRF4E</td>\n",
       "      <td>2015-07-28</td>\n",
       "      <td>48EQXS6IHYNZDDZ5</td>\n",
       "      <td>LJKS5NK6788CYMUU</td>\n",
       "      <td>2015-07-27 12:00:00+00:00</td>\n",
       "      <td>['Addie Patino' 'Susan Guerrero']</td>\n",
       "      <td>690.0</td>\n",
       "      <td>Lunch</td>\n",
       "      <td>False</td>\n",
       "    </tr>\n",
       "  </tbody>\n",
       "</table>\n",
       "</div>"
      ],
      "text/plain": [
       "           Order Id       Date           Meal Id        Company Id  \\\n",
       "0  839FKFW2LLX4LMBB 2016-05-27  INBUX904GIHI8YBD  LJKS5NK6788CYMUU   \n",
       "1  97OX39BGVMHODLJM 2018-09-27  J0MMOOPP709DIDIE  LJKS5NK6788CYMUU   \n",
       "2  041ORQM5OIHTIU6L 2014-08-24  E4UJLQNCI16UX5CS  LJKS5NK6788CYMUU   \n",
       "3  YT796QI18WNGZ7ZJ 2014-04-12  C9SDFHF7553BE247  LJKS5NK6788CYMUU   \n",
       "4  6YLROQT27B6HRF4E 2015-07-28  48EQXS6IHYNZDDZ5  LJKS5NK6788CYMUU   \n",
       "\n",
       "               Date of Meal                       Participants  Meal Price  \\\n",
       "0 2016-05-31 05:00:00+00:00                   ['David Bishop']       469.0   \n",
       "1 2018-10-01 18:00:00+00:00                   ['David Bishop']        22.0   \n",
       "2 2014-08-23 12:00:00+00:00                 ['Karen Stansell']       314.0   \n",
       "3 2014-04-07 19:00:00+00:00                   ['Addie Patino']       438.0   \n",
       "4 2015-07-27 12:00:00+00:00  ['Addie Patino' 'Susan Guerrero']       690.0   \n",
       "\n",
       "  Type of Meal  Heroes Adjustment  \n",
       "0    Breakfast              False  \n",
       "1       Dinner              False  \n",
       "2        Lunch              False  \n",
       "3       Dinner              False  \n",
       "4        Lunch              False  "
      ]
     },
     "execution_count": 40,
     "metadata": {},
     "output_type": "execute_result"
    }
   ],
   "source": [
    "invoices.head()"
   ]
  },
  {
   "cell_type": "code",
   "execution_count": 41,
   "metadata": {
    "ExecuteTime": {
     "end_time": "2022-07-29T23:56:21.635470Z",
     "start_time": "2022-07-29T23:56:21.604374Z"
    }
   },
   "outputs": [
    {
     "data": {
      "text/html": [
       "<div>\n",
       "<style scoped>\n",
       "    .dataframe tbody tr th:only-of-type {\n",
       "        vertical-align: middle;\n",
       "    }\n",
       "\n",
       "    .dataframe tbody tr th {\n",
       "        vertical-align: top;\n",
       "    }\n",
       "\n",
       "    .dataframe thead th {\n",
       "        text-align: right;\n",
       "    }\n",
       "</style>\n",
       "<table border=\"1\" class=\"dataframe\">\n",
       "  <thead>\n",
       "    <tr style=\"text-align: right;\">\n",
       "      <th></th>\n",
       "      <th>0</th>\n",
       "      <th>1</th>\n",
       "      <th>2</th>\n",
       "      <th>3</th>\n",
       "      <th>4</th>\n",
       "    </tr>\n",
       "  </thead>\n",
       "  <tbody>\n",
       "    <tr>\n",
       "      <th>Order Id</th>\n",
       "      <td>839FKFW2LLX4LMBB</td>\n",
       "      <td>97OX39BGVMHODLJM</td>\n",
       "      <td>041ORQM5OIHTIU6L</td>\n",
       "      <td>YT796QI18WNGZ7ZJ</td>\n",
       "      <td>6YLROQT27B6HRF4E</td>\n",
       "    </tr>\n",
       "    <tr>\n",
       "      <th>Date</th>\n",
       "      <td>2016-05-27 00:00:00</td>\n",
       "      <td>2018-09-27 00:00:00</td>\n",
       "      <td>2014-08-24 00:00:00</td>\n",
       "      <td>2014-04-12 00:00:00</td>\n",
       "      <td>2015-07-28 00:00:00</td>\n",
       "    </tr>\n",
       "    <tr>\n",
       "      <th>Meal Id</th>\n",
       "      <td>INBUX904GIHI8YBD</td>\n",
       "      <td>J0MMOOPP709DIDIE</td>\n",
       "      <td>E4UJLQNCI16UX5CS</td>\n",
       "      <td>C9SDFHF7553BE247</td>\n",
       "      <td>48EQXS6IHYNZDDZ5</td>\n",
       "    </tr>\n",
       "    <tr>\n",
       "      <th>Company Id</th>\n",
       "      <td>LJKS5NK6788CYMUU</td>\n",
       "      <td>LJKS5NK6788CYMUU</td>\n",
       "      <td>LJKS5NK6788CYMUU</td>\n",
       "      <td>LJKS5NK6788CYMUU</td>\n",
       "      <td>LJKS5NK6788CYMUU</td>\n",
       "    </tr>\n",
       "    <tr>\n",
       "      <th>Date of Meal</th>\n",
       "      <td>2016-05-31 05:00:00+00:00</td>\n",
       "      <td>2018-10-01 18:00:00+00:00</td>\n",
       "      <td>2014-08-23 12:00:00+00:00</td>\n",
       "      <td>2014-04-07 19:00:00+00:00</td>\n",
       "      <td>2015-07-27 12:00:00+00:00</td>\n",
       "    </tr>\n",
       "    <tr>\n",
       "      <th>Participants</th>\n",
       "      <td>['David Bishop']</td>\n",
       "      <td>['David Bishop']</td>\n",
       "      <td>['Karen Stansell']</td>\n",
       "      <td>['Addie Patino']</td>\n",
       "      <td>['Addie Patino' 'Susan Guerrero']</td>\n",
       "    </tr>\n",
       "    <tr>\n",
       "      <th>Meal Price</th>\n",
       "      <td>469</td>\n",
       "      <td>22</td>\n",
       "      <td>314</td>\n",
       "      <td>438</td>\n",
       "      <td>690</td>\n",
       "    </tr>\n",
       "    <tr>\n",
       "      <th>Type of Meal</th>\n",
       "      <td>Breakfast</td>\n",
       "      <td>Dinner</td>\n",
       "      <td>Lunch</td>\n",
       "      <td>Dinner</td>\n",
       "      <td>Lunch</td>\n",
       "    </tr>\n",
       "    <tr>\n",
       "      <th>Heroes Adjustment</th>\n",
       "      <td>False</td>\n",
       "      <td>False</td>\n",
       "      <td>False</td>\n",
       "      <td>False</td>\n",
       "      <td>False</td>\n",
       "    </tr>\n",
       "  </tbody>\n",
       "</table>\n",
       "</div>"
      ],
      "text/plain": [
       "                                           0                          1  \\\n",
       "Order Id                    839FKFW2LLX4LMBB           97OX39BGVMHODLJM   \n",
       "Date                     2016-05-27 00:00:00        2018-09-27 00:00:00   \n",
       "Meal Id                     INBUX904GIHI8YBD           J0MMOOPP709DIDIE   \n",
       "Company Id                  LJKS5NK6788CYMUU           LJKS5NK6788CYMUU   \n",
       "Date of Meal       2016-05-31 05:00:00+00:00  2018-10-01 18:00:00+00:00   \n",
       "Participants                ['David Bishop']           ['David Bishop']   \n",
       "Meal Price                               469                         22   \n",
       "Type of Meal                       Breakfast                     Dinner   \n",
       "Heroes Adjustment                      False                      False   \n",
       "\n",
       "                                           2                          3  \\\n",
       "Order Id                    041ORQM5OIHTIU6L           YT796QI18WNGZ7ZJ   \n",
       "Date                     2014-08-24 00:00:00        2014-04-12 00:00:00   \n",
       "Meal Id                     E4UJLQNCI16UX5CS           C9SDFHF7553BE247   \n",
       "Company Id                  LJKS5NK6788CYMUU           LJKS5NK6788CYMUU   \n",
       "Date of Meal       2014-08-23 12:00:00+00:00  2014-04-07 19:00:00+00:00   \n",
       "Participants              ['Karen Stansell']           ['Addie Patino']   \n",
       "Meal Price                               314                        438   \n",
       "Type of Meal                           Lunch                     Dinner   \n",
       "Heroes Adjustment                      False                      False   \n",
       "\n",
       "                                                   4  \n",
       "Order Id                            6YLROQT27B6HRF4E  \n",
       "Date                             2015-07-28 00:00:00  \n",
       "Meal Id                             48EQXS6IHYNZDDZ5  \n",
       "Company Id                          LJKS5NK6788CYMUU  \n",
       "Date of Meal               2015-07-27 12:00:00+00:00  \n",
       "Participants       ['Addie Patino' 'Susan Guerrero']  \n",
       "Meal Price                                       690  \n",
       "Type of Meal                                   Lunch  \n",
       "Heroes Adjustment                              False  "
      ]
     },
     "execution_count": 41,
     "metadata": {},
     "output_type": "execute_result"
    }
   ],
   "source": [
    "invoices.head().T"
   ]
  },
  {
   "cell_type": "markdown",
   "metadata": {},
   "source": [
    "## Summarising, aggregating, and grouping "
   ]
  },
  {
   "cell_type": "code",
   "execution_count": 42,
   "metadata": {
    "ExecuteTime": {
     "end_time": "2022-07-29T23:56:58.963794Z",
     "start_time": "2022-07-29T23:56:58.900506Z"
    }
   },
   "outputs": [],
   "source": [
    "import pandas as pd\n",
    "import dateutil\n",
    "# Load data from csv file\n",
    "data = pd.read_csv('resources/phone_data.csv')\n",
    "# Convert date from string to date times\n",
    "data['date'] = data['date'].apply(dateutil.parser.parse, dayfirst=True)"
   ]
  },
  {
   "cell_type": "code",
   "execution_count": 43,
   "metadata": {
    "ExecuteTime": {
     "end_time": "2022-07-29T23:57:01.172149Z",
     "start_time": "2022-07-29T23:57:01.145901Z"
    }
   },
   "outputs": [
    {
     "data": {
      "text/html": [
       "<div>\n",
       "<style scoped>\n",
       "    .dataframe tbody tr th:only-of-type {\n",
       "        vertical-align: middle;\n",
       "    }\n",
       "\n",
       "    .dataframe tbody tr th {\n",
       "        vertical-align: top;\n",
       "    }\n",
       "\n",
       "    .dataframe thead th {\n",
       "        text-align: right;\n",
       "    }\n",
       "</style>\n",
       "<table border=\"1\" class=\"dataframe\">\n",
       "  <thead>\n",
       "    <tr style=\"text-align: right;\">\n",
       "      <th></th>\n",
       "      <th>index</th>\n",
       "      <th>date</th>\n",
       "      <th>duration</th>\n",
       "      <th>item</th>\n",
       "      <th>month</th>\n",
       "      <th>network</th>\n",
       "      <th>network_type</th>\n",
       "    </tr>\n",
       "  </thead>\n",
       "  <tbody>\n",
       "    <tr>\n",
       "      <th>0</th>\n",
       "      <td>0</td>\n",
       "      <td>2014-10-15 06:58:00</td>\n",
       "      <td>34.429</td>\n",
       "      <td>data</td>\n",
       "      <td>2014-11</td>\n",
       "      <td>data</td>\n",
       "      <td>data</td>\n",
       "    </tr>\n",
       "    <tr>\n",
       "      <th>1</th>\n",
       "      <td>1</td>\n",
       "      <td>2014-10-15 06:58:00</td>\n",
       "      <td>13.000</td>\n",
       "      <td>call</td>\n",
       "      <td>2014-11</td>\n",
       "      <td>Vodafone</td>\n",
       "      <td>mobile</td>\n",
       "    </tr>\n",
       "    <tr>\n",
       "      <th>2</th>\n",
       "      <td>2</td>\n",
       "      <td>2014-10-15 14:46:00</td>\n",
       "      <td>23.000</td>\n",
       "      <td>call</td>\n",
       "      <td>2014-11</td>\n",
       "      <td>Meteor</td>\n",
       "      <td>mobile</td>\n",
       "    </tr>\n",
       "    <tr>\n",
       "      <th>3</th>\n",
       "      <td>3</td>\n",
       "      <td>2014-10-15 14:48:00</td>\n",
       "      <td>4.000</td>\n",
       "      <td>call</td>\n",
       "      <td>2014-11</td>\n",
       "      <td>Tesco</td>\n",
       "      <td>mobile</td>\n",
       "    </tr>\n",
       "    <tr>\n",
       "      <th>4</th>\n",
       "      <td>4</td>\n",
       "      <td>2014-10-15 17:27:00</td>\n",
       "      <td>4.000</td>\n",
       "      <td>call</td>\n",
       "      <td>2014-11</td>\n",
       "      <td>Tesco</td>\n",
       "      <td>mobile</td>\n",
       "    </tr>\n",
       "    <tr>\n",
       "      <th>...</th>\n",
       "      <td>...</td>\n",
       "      <td>...</td>\n",
       "      <td>...</td>\n",
       "      <td>...</td>\n",
       "      <td>...</td>\n",
       "      <td>...</td>\n",
       "      <td>...</td>\n",
       "    </tr>\n",
       "    <tr>\n",
       "      <th>825</th>\n",
       "      <td>825</td>\n",
       "      <td>2015-03-13 00:38:00</td>\n",
       "      <td>1.000</td>\n",
       "      <td>sms</td>\n",
       "      <td>2015-03</td>\n",
       "      <td>world</td>\n",
       "      <td>world</td>\n",
       "    </tr>\n",
       "    <tr>\n",
       "      <th>826</th>\n",
       "      <td>826</td>\n",
       "      <td>2015-03-13 00:39:00</td>\n",
       "      <td>1.000</td>\n",
       "      <td>sms</td>\n",
       "      <td>2015-03</td>\n",
       "      <td>Vodafone</td>\n",
       "      <td>mobile</td>\n",
       "    </tr>\n",
       "    <tr>\n",
       "      <th>827</th>\n",
       "      <td>827</td>\n",
       "      <td>2015-03-13 06:58:00</td>\n",
       "      <td>34.429</td>\n",
       "      <td>data</td>\n",
       "      <td>2015-03</td>\n",
       "      <td>data</td>\n",
       "      <td>data</td>\n",
       "    </tr>\n",
       "    <tr>\n",
       "      <th>828</th>\n",
       "      <td>828</td>\n",
       "      <td>2015-03-14 00:13:00</td>\n",
       "      <td>1.000</td>\n",
       "      <td>sms</td>\n",
       "      <td>2015-03</td>\n",
       "      <td>world</td>\n",
       "      <td>world</td>\n",
       "    </tr>\n",
       "    <tr>\n",
       "      <th>829</th>\n",
       "      <td>829</td>\n",
       "      <td>2015-03-14 00:16:00</td>\n",
       "      <td>1.000</td>\n",
       "      <td>sms</td>\n",
       "      <td>2015-03</td>\n",
       "      <td>world</td>\n",
       "      <td>world</td>\n",
       "    </tr>\n",
       "  </tbody>\n",
       "</table>\n",
       "<p>830 rows × 7 columns</p>\n",
       "</div>"
      ],
      "text/plain": [
       "     index                date  duration  item    month   network network_type\n",
       "0        0 2014-10-15 06:58:00    34.429  data  2014-11      data         data\n",
       "1        1 2014-10-15 06:58:00    13.000  call  2014-11  Vodafone       mobile\n",
       "2        2 2014-10-15 14:46:00    23.000  call  2014-11    Meteor       mobile\n",
       "3        3 2014-10-15 14:48:00     4.000  call  2014-11     Tesco       mobile\n",
       "4        4 2014-10-15 17:27:00     4.000  call  2014-11     Tesco       mobile\n",
       "..     ...                 ...       ...   ...      ...       ...          ...\n",
       "825    825 2015-03-13 00:38:00     1.000   sms  2015-03     world        world\n",
       "826    826 2015-03-13 00:39:00     1.000   sms  2015-03  Vodafone       mobile\n",
       "827    827 2015-03-13 06:58:00    34.429  data  2015-03      data         data\n",
       "828    828 2015-03-14 00:13:00     1.000   sms  2015-03     world        world\n",
       "829    829 2015-03-14 00:16:00     1.000   sms  2015-03     world        world\n",
       "\n",
       "[830 rows x 7 columns]"
      ]
     },
     "execution_count": 43,
     "metadata": {},
     "output_type": "execute_result"
    }
   ],
   "source": [
    "data"
   ]
  },
  {
   "cell_type": "markdown",
   "metadata": {},
   "source": [
    "### Summarising the DataFrame\n"
   ]
  },
  {
   "cell_type": "code",
   "execution_count": 44,
   "metadata": {
    "ExecuteTime": {
     "end_time": "2022-07-29T23:57:05.666229Z",
     "start_time": "2022-07-29T23:57:05.645650Z"
    }
   },
   "outputs": [
    {
     "data": {
      "text/plain": [
       "830"
      ]
     },
     "execution_count": 44,
     "metadata": {},
     "output_type": "execute_result"
    }
   ],
   "source": [
    "# How many rows the dataset\n",
    "data['item'].count()"
   ]
  },
  {
   "cell_type": "code",
   "execution_count": 45,
   "metadata": {
    "ExecuteTime": {
     "end_time": "2022-07-29T23:57:06.424326Z",
     "start_time": "2022-07-29T23:57:06.401612Z"
    }
   },
   "outputs": [
    {
     "data": {
      "text/plain": [
       "10528.0"
      ]
     },
     "execution_count": 45,
     "metadata": {},
     "output_type": "execute_result"
    }
   ],
   "source": [
    "# What was the longest phone call / data entry?\n",
    "data['duration'].max()"
   ]
  },
  {
   "cell_type": "code",
   "execution_count": 46,
   "metadata": {
    "ExecuteTime": {
     "end_time": "2022-07-29T23:57:09.786655Z",
     "start_time": "2022-07-29T23:57:09.759793Z"
    }
   },
   "outputs": [
    {
     "data": {
      "text/plain": [
       "92321.0"
      ]
     },
     "execution_count": 46,
     "metadata": {},
     "output_type": "execute_result"
    }
   ],
   "source": [
    "# How many seconds of phone calls are recorded in total?\n",
    "data['duration'][data['item'] == 'call'].sum()"
   ]
  },
  {
   "cell_type": "code",
   "execution_count": 9,
   "metadata": {
    "ExecuteTime": {
     "end_time": "2022-07-27T07:54:44.208543Z",
     "start_time": "2022-07-27T07:54:44.191793Z"
    }
   },
   "outputs": [
    {
     "data": {
      "text/plain": [
       "2014-11    230\n",
       "2015-01    205\n",
       "2014-12    157\n",
       "2015-02    137\n",
       "2015-03    101\n",
       "Name: month, dtype: int64"
      ]
     },
     "execution_count": 9,
     "metadata": {},
     "output_type": "execute_result"
    }
   ],
   "source": [
    "# How many entries are there for each month?\n",
    "data['month'].value_counts()"
   ]
  },
  {
   "cell_type": "code",
   "execution_count": 10,
   "metadata": {
    "ExecuteTime": {
     "end_time": "2022-07-27T07:54:47.856558Z",
     "start_time": "2022-07-27T07:54:47.847357Z"
    }
   },
   "outputs": [
    {
     "data": {
      "text/plain": [
       "9"
      ]
     },
     "execution_count": 10,
     "metadata": {},
     "output_type": "execute_result"
    }
   ],
   "source": [
    "# Number of non-null unique network entries\n",
    "data['network'].nunique()"
   ]
  },
  {
   "cell_type": "markdown",
   "metadata": {
    "ExecuteTime": {
     "end_time": "2022-07-27T07:55:51.896594Z",
     "start_time": "2022-07-27T07:55:51.885781Z"
    }
   },
   "source": [
    "<img src=\"resources/Capture.PNG\">"
   ]
  },
  {
   "cell_type": "markdown",
   "metadata": {},
   "source": [
    "### Summarising Groups in the DataFrame"
   ]
  },
  {
   "cell_type": "code",
   "execution_count": 47,
   "metadata": {
    "ExecuteTime": {
     "end_time": "2022-07-29T23:57:52.709174Z",
     "start_time": "2022-07-29T23:57:52.680243Z"
    }
   },
   "outputs": [
    {
     "data": {
      "text/plain": [
       "dict_keys(['2014-11', '2014-12', '2015-01', '2015-02', '2015-03'])"
      ]
     },
     "execution_count": 47,
     "metadata": {},
     "output_type": "execute_result"
    }
   ],
   "source": [
    "data.groupby(['month']).groups.keys()"
   ]
  },
  {
   "cell_type": "code",
   "execution_count": 48,
   "metadata": {
    "ExecuteTime": {
     "end_time": "2022-07-29T23:58:02.095354Z",
     "start_time": "2022-07-29T23:58:02.086387Z"
    }
   },
   "outputs": [
    {
     "data": {
      "text/plain": [
       "230"
      ]
     },
     "execution_count": 48,
     "metadata": {},
     "output_type": "execute_result"
    }
   ],
   "source": [
    "len(data.groupby(['month']).groups['2014-11'])"
   ]
  },
  {
   "cell_type": "markdown",
   "metadata": {},
   "source": [
    "Functions like max(), min(), mean(), first(), last() can be quickly applied to the GroupBy object to obtain summary statistics for each group – an immensely useful function."
   ]
  },
  {
   "cell_type": "code",
   "execution_count": 49,
   "metadata": {
    "ExecuteTime": {
     "end_time": "2022-07-29T23:58:07.601458Z",
     "start_time": "2022-07-29T23:58:07.551446Z"
    }
   },
   "outputs": [
    {
     "data": {
      "text/html": [
       "<div>\n",
       "<style scoped>\n",
       "    .dataframe tbody tr th:only-of-type {\n",
       "        vertical-align: middle;\n",
       "    }\n",
       "\n",
       "    .dataframe tbody tr th {\n",
       "        vertical-align: top;\n",
       "    }\n",
       "\n",
       "    .dataframe thead th {\n",
       "        text-align: right;\n",
       "    }\n",
       "</style>\n",
       "<table border=\"1\" class=\"dataframe\">\n",
       "  <thead>\n",
       "    <tr style=\"text-align: right;\">\n",
       "      <th></th>\n",
       "      <th>index</th>\n",
       "      <th>date</th>\n",
       "      <th>duration</th>\n",
       "      <th>item</th>\n",
       "      <th>network</th>\n",
       "      <th>network_type</th>\n",
       "    </tr>\n",
       "    <tr>\n",
       "      <th>month</th>\n",
       "      <th></th>\n",
       "      <th></th>\n",
       "      <th></th>\n",
       "      <th></th>\n",
       "      <th></th>\n",
       "      <th></th>\n",
       "    </tr>\n",
       "  </thead>\n",
       "  <tbody>\n",
       "    <tr>\n",
       "      <th>2014-11</th>\n",
       "      <td>0</td>\n",
       "      <td>2014-10-15 06:58:00</td>\n",
       "      <td>34.429</td>\n",
       "      <td>data</td>\n",
       "      <td>data</td>\n",
       "      <td>data</td>\n",
       "    </tr>\n",
       "    <tr>\n",
       "      <th>2014-12</th>\n",
       "      <td>228</td>\n",
       "      <td>2014-11-13 06:58:00</td>\n",
       "      <td>34.429</td>\n",
       "      <td>data</td>\n",
       "      <td>data</td>\n",
       "      <td>data</td>\n",
       "    </tr>\n",
       "    <tr>\n",
       "      <th>2015-01</th>\n",
       "      <td>381</td>\n",
       "      <td>2014-12-13 06:58:00</td>\n",
       "      <td>34.429</td>\n",
       "      <td>data</td>\n",
       "      <td>data</td>\n",
       "      <td>data</td>\n",
       "    </tr>\n",
       "    <tr>\n",
       "      <th>2015-02</th>\n",
       "      <td>577</td>\n",
       "      <td>2015-01-13 06:58:00</td>\n",
       "      <td>34.429</td>\n",
       "      <td>data</td>\n",
       "      <td>data</td>\n",
       "      <td>data</td>\n",
       "    </tr>\n",
       "    <tr>\n",
       "      <th>2015-03</th>\n",
       "      <td>729</td>\n",
       "      <td>2015-02-12 20:15:00</td>\n",
       "      <td>69.000</td>\n",
       "      <td>call</td>\n",
       "      <td>landline</td>\n",
       "      <td>landline</td>\n",
       "    </tr>\n",
       "  </tbody>\n",
       "</table>\n",
       "</div>"
      ],
      "text/plain": [
       "         index                date  duration  item   network network_type\n",
       "month                                                                    \n",
       "2014-11      0 2014-10-15 06:58:00    34.429  data      data         data\n",
       "2014-12    228 2014-11-13 06:58:00    34.429  data      data         data\n",
       "2015-01    381 2014-12-13 06:58:00    34.429  data      data         data\n",
       "2015-02    577 2015-01-13 06:58:00    34.429  data      data         data\n",
       "2015-03    729 2015-02-12 20:15:00    69.000  call  landline     landline"
      ]
     },
     "execution_count": 49,
     "metadata": {},
     "output_type": "execute_result"
    }
   ],
   "source": [
    "# Get the first entry for each month\n",
    "data.groupby('month').first()"
   ]
  },
  {
   "cell_type": "code",
   "execution_count": 50,
   "metadata": {
    "ExecuteTime": {
     "end_time": "2022-07-29T23:58:09.677499Z",
     "start_time": "2022-07-29T23:58:09.649217Z"
    }
   },
   "outputs": [
    {
     "data": {
      "text/plain": [
       "month\n",
       "2014-11    26639.441\n",
       "2014-12    14641.870\n",
       "2015-01    18223.299\n",
       "2015-02    15522.299\n",
       "2015-03    22750.441\n",
       "Name: duration, dtype: float64"
      ]
     },
     "execution_count": 50,
     "metadata": {},
     "output_type": "execute_result"
    }
   ],
   "source": [
    "# Get the sum of the durations per month\n",
    "data.groupby('month')['duration'].sum()"
   ]
  },
  {
   "cell_type": "code",
   "execution_count": 51,
   "metadata": {
    "ExecuteTime": {
     "end_time": "2022-07-29T23:58:25.856323Z",
     "start_time": "2022-07-29T23:58:25.835128Z"
    }
   },
   "outputs": [
    {
     "data": {
      "text/plain": [
       "month\n",
       "2014-11    230\n",
       "2014-12    157\n",
       "2015-01    205\n",
       "2015-02    137\n",
       "2015-03    101\n",
       "Name: date, dtype: int64"
      ]
     },
     "execution_count": 51,
     "metadata": {},
     "output_type": "execute_result"
    }
   ],
   "source": [
    "# Get the number of dates / entries in each month\n",
    "data.groupby('month')['date'].count()"
   ]
  },
  {
   "cell_type": "code",
   "execution_count": 52,
   "metadata": {
    "ExecuteTime": {
     "end_time": "2022-07-29T23:58:34.066063Z",
     "start_time": "2022-07-29T23:58:34.050914Z"
    }
   },
   "outputs": [
    {
     "data": {
      "text/plain": [
       "network\n",
       "Meteor        7200.0\n",
       "Tesco        13828.0\n",
       "Three        36464.0\n",
       "Vodafone     14621.0\n",
       "landline     18433.0\n",
       "voicemail     1775.0\n",
       "Name: duration, dtype: float64"
      ]
     },
     "execution_count": 52,
     "metadata": {},
     "output_type": "execute_result"
    }
   ],
   "source": [
    "# What is the sum of durations, for calls only, to each network\n",
    "data[data['item'] == 'call'].groupby('network')['duration'].sum()"
   ]
  },
  {
   "cell_type": "code",
   "execution_count": 53,
   "metadata": {
    "ExecuteTime": {
     "end_time": "2022-07-29T23:58:39.888892Z",
     "start_time": "2022-07-29T23:58:39.864331Z"
    }
   },
   "outputs": [
    {
     "data": {
      "text/plain": [
       "month    item\n",
       "2014-11  call    107\n",
       "         data     29\n",
       "         sms      94\n",
       "2014-12  call     79\n",
       "         data     30\n",
       "         sms      48\n",
       "2015-01  call     88\n",
       "         data     31\n",
       "         sms      86\n",
       "2015-02  call     67\n",
       "         data     31\n",
       "         sms      39\n",
       "2015-03  call     47\n",
       "         data     29\n",
       "         sms      25\n",
       "Name: date, dtype: int64"
      ]
     },
     "execution_count": 53,
     "metadata": {},
     "output_type": "execute_result"
    }
   ],
   "source": [
    "# How many calls, sms, and data entries are in each month?\n",
    "data.groupby(['month', 'item'])['date'].count()"
   ]
  },
  {
   "cell_type": "code",
   "execution_count": 54,
   "metadata": {
    "ExecuteTime": {
     "end_time": "2022-07-29T23:58:41.897830Z",
     "start_time": "2022-07-29T23:58:41.881056Z"
    }
   },
   "outputs": [
    {
     "data": {
      "text/plain": [
       "month    network_type\n",
       "2014-11  data             29\n",
       "         landline          5\n",
       "         mobile          189\n",
       "         special           1\n",
       "         voicemail         6\n",
       "2014-12  data             30\n",
       "         landline          7\n",
       "         mobile          108\n",
       "         voicemail         8\n",
       "         world             4\n",
       "2015-01  data             31\n",
       "         landline         11\n",
       "         mobile          160\n",
       "         voicemail         3\n",
       "2015-02  data             31\n",
       "         landline          8\n",
       "         mobile           90\n",
       "         special           2\n",
       "         voicemail         6\n",
       "2015-03  data             29\n",
       "         landline         11\n",
       "         mobile           54\n",
       "         voicemail         4\n",
       "         world             3\n",
       "Name: date, dtype: int64"
      ]
     },
     "execution_count": 54,
     "metadata": {},
     "output_type": "execute_result"
    }
   ],
   "source": [
    "# How many calls, texts, and data are sent per month, split by network_type?\n",
    "data.groupby(['month', 'network_type'])['date'].count()"
   ]
  },
  {
   "cell_type": "markdown",
   "metadata": {},
   "source": [
    "### Groupby output format – Series or DataFrame?\n"
   ]
  },
  {
   "cell_type": "code",
   "execution_count": 55,
   "metadata": {
    "ExecuteTime": {
     "end_time": "2022-07-29T23:58:47.297508Z",
     "start_time": "2022-07-29T23:58:47.282407Z"
    }
   },
   "outputs": [
    {
     "data": {
      "text/plain": [
       "month\n",
       "2014-11    26639.441\n",
       "2014-12    14641.870\n",
       "2015-01    18223.299\n",
       "2015-02    15522.299\n",
       "2015-03    22750.441\n",
       "Name: duration, dtype: float64"
      ]
     },
     "execution_count": 55,
     "metadata": {},
     "output_type": "execute_result"
    }
   ],
   "source": [
    "# produces Pandas Series\n",
    "data.groupby('month')['duration'].sum() "
   ]
  },
  {
   "cell_type": "code",
   "execution_count": 59,
   "metadata": {
    "ExecuteTime": {
     "end_time": "2022-07-29T23:59:10.427412Z",
     "start_time": "2022-07-29T23:59:10.414414Z"
    }
   },
   "outputs": [
    {
     "data": {
      "text/html": [
       "<div>\n",
       "<style scoped>\n",
       "    .dataframe tbody tr th:only-of-type {\n",
       "        vertical-align: middle;\n",
       "    }\n",
       "\n",
       "    .dataframe tbody tr th {\n",
       "        vertical-align: top;\n",
       "    }\n",
       "\n",
       "    .dataframe thead th {\n",
       "        text-align: right;\n",
       "    }\n",
       "</style>\n",
       "<table border=\"1\" class=\"dataframe\">\n",
       "  <thead>\n",
       "    <tr style=\"text-align: right;\">\n",
       "      <th></th>\n",
       "      <th>duration</th>\n",
       "    </tr>\n",
       "    <tr>\n",
       "      <th>month</th>\n",
       "      <th></th>\n",
       "    </tr>\n",
       "  </thead>\n",
       "  <tbody>\n",
       "    <tr>\n",
       "      <th>2014-11</th>\n",
       "      <td>26639.441</td>\n",
       "    </tr>\n",
       "    <tr>\n",
       "      <th>2014-12</th>\n",
       "      <td>14641.870</td>\n",
       "    </tr>\n",
       "    <tr>\n",
       "      <th>2015-01</th>\n",
       "      <td>18223.299</td>\n",
       "    </tr>\n",
       "    <tr>\n",
       "      <th>2015-02</th>\n",
       "      <td>15522.299</td>\n",
       "    </tr>\n",
       "    <tr>\n",
       "      <th>2015-03</th>\n",
       "      <td>22750.441</td>\n",
       "    </tr>\n",
       "  </tbody>\n",
       "</table>\n",
       "</div>"
      ],
      "text/plain": [
       "          duration\n",
       "month             \n",
       "2014-11  26639.441\n",
       "2014-12  14641.870\n",
       "2015-01  18223.299\n",
       "2015-02  15522.299\n",
       "2015-03  22750.441"
      ]
     },
     "execution_count": 59,
     "metadata": {},
     "output_type": "execute_result"
    }
   ],
   "source": [
    "# Produces Pandas DataFrame\n",
    "data.groupby('month')[['duration']].sum()"
   ]
  },
  {
   "cell_type": "markdown",
   "metadata": {},
   "source": [
    "The groupby output will have an index or multi-index on rows corresponding to your chosen grouping variables. To avoid setting this index, pass “as_index=False” to the groupby operation."
   ]
  },
  {
   "cell_type": "code",
   "execution_count": 60,
   "metadata": {
    "ExecuteTime": {
     "end_time": "2022-07-29T23:59:31.143023Z",
     "start_time": "2022-07-29T23:59:31.128031Z"
    }
   },
   "outputs": [
    {
     "data": {
      "text/html": [
       "<div>\n",
       "<style scoped>\n",
       "    .dataframe tbody tr th:only-of-type {\n",
       "        vertical-align: middle;\n",
       "    }\n",
       "\n",
       "    .dataframe tbody tr th {\n",
       "        vertical-align: top;\n",
       "    }\n",
       "\n",
       "    .dataframe thead th {\n",
       "        text-align: right;\n",
       "    }\n",
       "</style>\n",
       "<table border=\"1\" class=\"dataframe\">\n",
       "  <thead>\n",
       "    <tr style=\"text-align: right;\">\n",
       "      <th></th>\n",
       "      <th>month</th>\n",
       "      <th>duration</th>\n",
       "    </tr>\n",
       "  </thead>\n",
       "  <tbody>\n",
       "    <tr>\n",
       "      <th>0</th>\n",
       "      <td>2014-11</td>\n",
       "      <td>26639.441</td>\n",
       "    </tr>\n",
       "    <tr>\n",
       "      <th>1</th>\n",
       "      <td>2014-12</td>\n",
       "      <td>14641.870</td>\n",
       "    </tr>\n",
       "    <tr>\n",
       "      <th>2</th>\n",
       "      <td>2015-01</td>\n",
       "      <td>18223.299</td>\n",
       "    </tr>\n",
       "    <tr>\n",
       "      <th>3</th>\n",
       "      <td>2015-02</td>\n",
       "      <td>15522.299</td>\n",
       "    </tr>\n",
       "    <tr>\n",
       "      <th>4</th>\n",
       "      <td>2015-03</td>\n",
       "      <td>22750.441</td>\n",
       "    </tr>\n",
       "  </tbody>\n",
       "</table>\n",
       "</div>"
      ],
      "text/plain": [
       "     month   duration\n",
       "0  2014-11  26639.441\n",
       "1  2014-12  14641.870\n",
       "2  2015-01  18223.299\n",
       "3  2015-02  15522.299\n",
       "4  2015-03  22750.441"
      ]
     },
     "execution_count": 60,
     "metadata": {},
     "output_type": "execute_result"
    }
   ],
   "source": [
    "data.groupby('month', as_index=False).agg({\"duration\": \"sum\"})"
   ]
  },
  {
   "cell_type": "markdown",
   "metadata": {},
   "source": [
    "### Multiple Statistics per Group"
   ]
  },
  {
   "cell_type": "code",
   "execution_count": 61,
   "metadata": {
    "ExecuteTime": {
     "end_time": "2022-07-29T23:59:53.224589Z",
     "start_time": "2022-07-29T23:59:53.192924Z"
    }
   },
   "outputs": [
    {
     "data": {
      "text/html": [
       "<div>\n",
       "<style scoped>\n",
       "    .dataframe tbody tr th:only-of-type {\n",
       "        vertical-align: middle;\n",
       "    }\n",
       "\n",
       "    .dataframe tbody tr th {\n",
       "        vertical-align: top;\n",
       "    }\n",
       "\n",
       "    .dataframe thead th {\n",
       "        text-align: right;\n",
       "    }\n",
       "</style>\n",
       "<table border=\"1\" class=\"dataframe\">\n",
       "  <thead>\n",
       "    <tr style=\"text-align: right;\">\n",
       "      <th></th>\n",
       "      <th></th>\n",
       "      <th>duration</th>\n",
       "      <th>network_type</th>\n",
       "      <th>date</th>\n",
       "    </tr>\n",
       "    <tr>\n",
       "      <th>month</th>\n",
       "      <th>item</th>\n",
       "      <th></th>\n",
       "      <th></th>\n",
       "      <th></th>\n",
       "    </tr>\n",
       "  </thead>\n",
       "  <tbody>\n",
       "    <tr>\n",
       "      <th rowspan=\"3\" valign=\"top\">2014-11</th>\n",
       "      <th>call</th>\n",
       "      <td>25547.000</td>\n",
       "      <td>107</td>\n",
       "      <td>2014-10-15 06:58:00</td>\n",
       "    </tr>\n",
       "    <tr>\n",
       "      <th>data</th>\n",
       "      <td>998.441</td>\n",
       "      <td>29</td>\n",
       "      <td>2014-10-15 06:58:00</td>\n",
       "    </tr>\n",
       "    <tr>\n",
       "      <th>sms</th>\n",
       "      <td>94.000</td>\n",
       "      <td>94</td>\n",
       "      <td>2014-10-16 22:18:00</td>\n",
       "    </tr>\n",
       "    <tr>\n",
       "      <th rowspan=\"3\" valign=\"top\">2014-12</th>\n",
       "      <th>call</th>\n",
       "      <td>13561.000</td>\n",
       "      <td>79</td>\n",
       "      <td>2014-11-14 17:24:00</td>\n",
       "    </tr>\n",
       "    <tr>\n",
       "      <th>data</th>\n",
       "      <td>1032.870</td>\n",
       "      <td>30</td>\n",
       "      <td>2014-11-13 06:58:00</td>\n",
       "    </tr>\n",
       "    <tr>\n",
       "      <th>sms</th>\n",
       "      <td>48.000</td>\n",
       "      <td>48</td>\n",
       "      <td>2014-11-14 17:28:00</td>\n",
       "    </tr>\n",
       "    <tr>\n",
       "      <th rowspan=\"3\" valign=\"top\">2015-01</th>\n",
       "      <th>call</th>\n",
       "      <td>17070.000</td>\n",
       "      <td>88</td>\n",
       "      <td>2014-12-15 20:03:00</td>\n",
       "    </tr>\n",
       "    <tr>\n",
       "      <th>data</th>\n",
       "      <td>1067.299</td>\n",
       "      <td>31</td>\n",
       "      <td>2014-12-13 06:58:00</td>\n",
       "    </tr>\n",
       "    <tr>\n",
       "      <th>sms</th>\n",
       "      <td>86.000</td>\n",
       "      <td>86</td>\n",
       "      <td>2014-12-15 19:56:00</td>\n",
       "    </tr>\n",
       "    <tr>\n",
       "      <th rowspan=\"3\" valign=\"top\">2015-02</th>\n",
       "      <th>call</th>\n",
       "      <td>14416.000</td>\n",
       "      <td>67</td>\n",
       "      <td>2015-01-15 10:36:00</td>\n",
       "    </tr>\n",
       "    <tr>\n",
       "      <th>data</th>\n",
       "      <td>1067.299</td>\n",
       "      <td>31</td>\n",
       "      <td>2015-01-13 06:58:00</td>\n",
       "    </tr>\n",
       "    <tr>\n",
       "      <th>sms</th>\n",
       "      <td>39.000</td>\n",
       "      <td>39</td>\n",
       "      <td>2015-01-15 12:23:00</td>\n",
       "    </tr>\n",
       "    <tr>\n",
       "      <th rowspan=\"3\" valign=\"top\">2015-03</th>\n",
       "      <th>call</th>\n",
       "      <td>21727.000</td>\n",
       "      <td>47</td>\n",
       "      <td>2015-02-12 20:15:00</td>\n",
       "    </tr>\n",
       "    <tr>\n",
       "      <th>data</th>\n",
       "      <td>998.441</td>\n",
       "      <td>29</td>\n",
       "      <td>2015-02-13 06:58:00</td>\n",
       "    </tr>\n",
       "    <tr>\n",
       "      <th>sms</th>\n",
       "      <td>25.000</td>\n",
       "      <td>25</td>\n",
       "      <td>2015-02-19 18:46:00</td>\n",
       "    </tr>\n",
       "  </tbody>\n",
       "</table>\n",
       "</div>"
      ],
      "text/plain": [
       "               duration  network_type                date\n",
       "month   item                                             \n",
       "2014-11 call  25547.000           107 2014-10-15 06:58:00\n",
       "        data    998.441            29 2014-10-15 06:58:00\n",
       "        sms      94.000            94 2014-10-16 22:18:00\n",
       "2014-12 call  13561.000            79 2014-11-14 17:24:00\n",
       "        data   1032.870            30 2014-11-13 06:58:00\n",
       "        sms      48.000            48 2014-11-14 17:28:00\n",
       "2015-01 call  17070.000            88 2014-12-15 20:03:00\n",
       "        data   1067.299            31 2014-12-13 06:58:00\n",
       "        sms      86.000            86 2014-12-15 19:56:00\n",
       "2015-02 call  14416.000            67 2015-01-15 10:36:00\n",
       "        data   1067.299            31 2015-01-13 06:58:00\n",
       "        sms      39.000            39 2015-01-15 12:23:00\n",
       "2015-03 call  21727.000            47 2015-02-12 20:15:00\n",
       "        data    998.441            29 2015-02-13 06:58:00\n",
       "        sms      25.000            25 2015-02-19 18:46:00"
      ]
     },
     "execution_count": 61,
     "metadata": {},
     "output_type": "execute_result"
    }
   ],
   "source": [
    "# Group the data frame by month and item and extract a number of stats from each group\n",
    "data.groupby(\n",
    "   ['month', 'item']\n",
    ").agg(\n",
    "    {\n",
    "         'duration':sum,    # Sum duration per group\n",
    "         'network_type': \"count\",  # get the count of networks\n",
    "         'date': 'first'  # get the first date per group\n",
    "    }\n",
    ")"
   ]
  },
  {
   "cell_type": "markdown",
   "metadata": {},
   "source": [
    "### Applying multiple functions to columns in groups"
   ]
  },
  {
   "cell_type": "code",
   "execution_count": 62,
   "metadata": {
    "ExecuteTime": {
     "end_time": "2022-07-30T00:00:14.305250Z",
     "start_time": "2022-07-30T00:00:14.268258Z"
    }
   },
   "outputs": [
    {
     "data": {
      "text/html": [
       "<div>\n",
       "<style scoped>\n",
       "    .dataframe tbody tr th:only-of-type {\n",
       "        vertical-align: middle;\n",
       "    }\n",
       "\n",
       "    .dataframe tbody tr th {\n",
       "        vertical-align: top;\n",
       "    }\n",
       "\n",
       "    .dataframe thead tr th {\n",
       "        text-align: left;\n",
       "    }\n",
       "\n",
       "    .dataframe thead tr:last-of-type th {\n",
       "        text-align: right;\n",
       "    }\n",
       "</style>\n",
       "<table border=\"1\" class=\"dataframe\">\n",
       "  <thead>\n",
       "    <tr>\n",
       "      <th></th>\n",
       "      <th></th>\n",
       "      <th colspan=\"3\" halign=\"left\">duration</th>\n",
       "      <th>network_type</th>\n",
       "      <th colspan=\"3\" halign=\"left\">date</th>\n",
       "    </tr>\n",
       "    <tr>\n",
       "      <th></th>\n",
       "      <th></th>\n",
       "      <th>min</th>\n",
       "      <th>max</th>\n",
       "      <th>sum</th>\n",
       "      <th>count</th>\n",
       "      <th>min</th>\n",
       "      <th>first</th>\n",
       "      <th>nunique</th>\n",
       "    </tr>\n",
       "    <tr>\n",
       "      <th>month</th>\n",
       "      <th>item</th>\n",
       "      <th></th>\n",
       "      <th></th>\n",
       "      <th></th>\n",
       "      <th></th>\n",
       "      <th></th>\n",
       "      <th></th>\n",
       "      <th></th>\n",
       "    </tr>\n",
       "  </thead>\n",
       "  <tbody>\n",
       "    <tr>\n",
       "      <th rowspan=\"3\" valign=\"top\">2014-11</th>\n",
       "      <th>call</th>\n",
       "      <td>1.000</td>\n",
       "      <td>1940.000</td>\n",
       "      <td>25547.000</td>\n",
       "      <td>107</td>\n",
       "      <td>2014-10-15 06:58:00</td>\n",
       "      <td>2014-10-15 06:58:00</td>\n",
       "      <td>104</td>\n",
       "    </tr>\n",
       "    <tr>\n",
       "      <th>data</th>\n",
       "      <td>34.429</td>\n",
       "      <td>34.429</td>\n",
       "      <td>998.441</td>\n",
       "      <td>29</td>\n",
       "      <td>2014-10-15 06:58:00</td>\n",
       "      <td>2014-10-15 06:58:00</td>\n",
       "      <td>29</td>\n",
       "    </tr>\n",
       "    <tr>\n",
       "      <th>sms</th>\n",
       "      <td>1.000</td>\n",
       "      <td>1.000</td>\n",
       "      <td>94.000</td>\n",
       "      <td>94</td>\n",
       "      <td>2014-10-16 22:18:00</td>\n",
       "      <td>2014-10-16 22:18:00</td>\n",
       "      <td>79</td>\n",
       "    </tr>\n",
       "    <tr>\n",
       "      <th rowspan=\"3\" valign=\"top\">2014-12</th>\n",
       "      <th>call</th>\n",
       "      <td>2.000</td>\n",
       "      <td>2120.000</td>\n",
       "      <td>13561.000</td>\n",
       "      <td>79</td>\n",
       "      <td>2014-11-14 17:24:00</td>\n",
       "      <td>2014-11-14 17:24:00</td>\n",
       "      <td>76</td>\n",
       "    </tr>\n",
       "    <tr>\n",
       "      <th>data</th>\n",
       "      <td>34.429</td>\n",
       "      <td>34.429</td>\n",
       "      <td>1032.870</td>\n",
       "      <td>30</td>\n",
       "      <td>2014-11-13 06:58:00</td>\n",
       "      <td>2014-11-13 06:58:00</td>\n",
       "      <td>30</td>\n",
       "    </tr>\n",
       "    <tr>\n",
       "      <th>sms</th>\n",
       "      <td>1.000</td>\n",
       "      <td>1.000</td>\n",
       "      <td>48.000</td>\n",
       "      <td>48</td>\n",
       "      <td>2014-11-14 17:28:00</td>\n",
       "      <td>2014-11-14 17:28:00</td>\n",
       "      <td>41</td>\n",
       "    </tr>\n",
       "    <tr>\n",
       "      <th rowspan=\"3\" valign=\"top\">2015-01</th>\n",
       "      <th>call</th>\n",
       "      <td>2.000</td>\n",
       "      <td>1859.000</td>\n",
       "      <td>17070.000</td>\n",
       "      <td>88</td>\n",
       "      <td>2014-12-15 20:03:00</td>\n",
       "      <td>2014-12-15 20:03:00</td>\n",
       "      <td>84</td>\n",
       "    </tr>\n",
       "    <tr>\n",
       "      <th>data</th>\n",
       "      <td>34.429</td>\n",
       "      <td>34.429</td>\n",
       "      <td>1067.299</td>\n",
       "      <td>31</td>\n",
       "      <td>2014-12-13 06:58:00</td>\n",
       "      <td>2014-12-13 06:58:00</td>\n",
       "      <td>31</td>\n",
       "    </tr>\n",
       "    <tr>\n",
       "      <th>sms</th>\n",
       "      <td>1.000</td>\n",
       "      <td>1.000</td>\n",
       "      <td>86.000</td>\n",
       "      <td>86</td>\n",
       "      <td>2014-12-15 19:56:00</td>\n",
       "      <td>2014-12-15 19:56:00</td>\n",
       "      <td>58</td>\n",
       "    </tr>\n",
       "    <tr>\n",
       "      <th rowspan=\"3\" valign=\"top\">2015-02</th>\n",
       "      <th>call</th>\n",
       "      <td>1.000</td>\n",
       "      <td>1863.000</td>\n",
       "      <td>14416.000</td>\n",
       "      <td>67</td>\n",
       "      <td>2015-01-15 10:36:00</td>\n",
       "      <td>2015-01-15 10:36:00</td>\n",
       "      <td>67</td>\n",
       "    </tr>\n",
       "    <tr>\n",
       "      <th>data</th>\n",
       "      <td>34.429</td>\n",
       "      <td>34.429</td>\n",
       "      <td>1067.299</td>\n",
       "      <td>31</td>\n",
       "      <td>2015-01-13 06:58:00</td>\n",
       "      <td>2015-01-13 06:58:00</td>\n",
       "      <td>31</td>\n",
       "    </tr>\n",
       "    <tr>\n",
       "      <th>sms</th>\n",
       "      <td>1.000</td>\n",
       "      <td>1.000</td>\n",
       "      <td>39.000</td>\n",
       "      <td>39</td>\n",
       "      <td>2015-01-15 12:23:00</td>\n",
       "      <td>2015-01-15 12:23:00</td>\n",
       "      <td>27</td>\n",
       "    </tr>\n",
       "    <tr>\n",
       "      <th rowspan=\"3\" valign=\"top\">2015-03</th>\n",
       "      <th>call</th>\n",
       "      <td>2.000</td>\n",
       "      <td>10528.000</td>\n",
       "      <td>21727.000</td>\n",
       "      <td>47</td>\n",
       "      <td>2015-02-12 20:15:00</td>\n",
       "      <td>2015-02-12 20:15:00</td>\n",
       "      <td>47</td>\n",
       "    </tr>\n",
       "    <tr>\n",
       "      <th>data</th>\n",
       "      <td>34.429</td>\n",
       "      <td>34.429</td>\n",
       "      <td>998.441</td>\n",
       "      <td>29</td>\n",
       "      <td>2015-02-13 06:58:00</td>\n",
       "      <td>2015-02-13 06:58:00</td>\n",
       "      <td>29</td>\n",
       "    </tr>\n",
       "    <tr>\n",
       "      <th>sms</th>\n",
       "      <td>1.000</td>\n",
       "      <td>1.000</td>\n",
       "      <td>25.000</td>\n",
       "      <td>25</td>\n",
       "      <td>2015-02-19 18:46:00</td>\n",
       "      <td>2015-02-19 18:46:00</td>\n",
       "      <td>17</td>\n",
       "    </tr>\n",
       "  </tbody>\n",
       "</table>\n",
       "</div>"
      ],
      "text/plain": [
       "             duration                       network_type                date  \\\n",
       "                  min        max        sum        count                 min   \n",
       "month   item                                                                   \n",
       "2014-11 call    1.000   1940.000  25547.000          107 2014-10-15 06:58:00   \n",
       "        data   34.429     34.429    998.441           29 2014-10-15 06:58:00   \n",
       "        sms     1.000      1.000     94.000           94 2014-10-16 22:18:00   \n",
       "2014-12 call    2.000   2120.000  13561.000           79 2014-11-14 17:24:00   \n",
       "        data   34.429     34.429   1032.870           30 2014-11-13 06:58:00   \n",
       "        sms     1.000      1.000     48.000           48 2014-11-14 17:28:00   \n",
       "2015-01 call    2.000   1859.000  17070.000           88 2014-12-15 20:03:00   \n",
       "        data   34.429     34.429   1067.299           31 2014-12-13 06:58:00   \n",
       "        sms     1.000      1.000     86.000           86 2014-12-15 19:56:00   \n",
       "2015-02 call    1.000   1863.000  14416.000           67 2015-01-15 10:36:00   \n",
       "        data   34.429     34.429   1067.299           31 2015-01-13 06:58:00   \n",
       "        sms     1.000      1.000     39.000           39 2015-01-15 12:23:00   \n",
       "2015-03 call    2.000  10528.000  21727.000           47 2015-02-12 20:15:00   \n",
       "        data   34.429     34.429    998.441           29 2015-02-13 06:58:00   \n",
       "        sms     1.000      1.000     25.000           25 2015-02-19 18:46:00   \n",
       "\n",
       "                                          \n",
       "                           first nunique  \n",
       "month   item                              \n",
       "2014-11 call 2014-10-15 06:58:00     104  \n",
       "        data 2014-10-15 06:58:00      29  \n",
       "        sms  2014-10-16 22:18:00      79  \n",
       "2014-12 call 2014-11-14 17:24:00      76  \n",
       "        data 2014-11-13 06:58:00      30  \n",
       "        sms  2014-11-14 17:28:00      41  \n",
       "2015-01 call 2014-12-15 20:03:00      84  \n",
       "        data 2014-12-13 06:58:00      31  \n",
       "        sms  2014-12-15 19:56:00      58  \n",
       "2015-02 call 2015-01-15 10:36:00      67  \n",
       "        data 2015-01-13 06:58:00      31  \n",
       "        sms  2015-01-15 12:23:00      27  \n",
       "2015-03 call 2015-02-12 20:15:00      47  \n",
       "        data 2015-02-13 06:58:00      29  \n",
       "        sms  2015-02-19 18:46:00      17  "
      ]
     },
     "execution_count": 62,
     "metadata": {},
     "output_type": "execute_result"
    }
   ],
   "source": [
    "# Group the data frame by month and item and extract a number of stats from each group\n",
    "data.groupby(\n",
    "    ['month', 'item']\n",
    ").agg(\n",
    "    {\n",
    "        # Find the min, max, and sum of the duration column\n",
    "        'duration': [min, max, sum],\n",
    "        # find the number of network type entries\n",
    "        'network_type': \"count\",\n",
    "        # minimum, first, and number of unique dates\n",
    "        'date': [min, 'first', 'nunique']\n",
    "    }\n",
    ")"
   ]
  },
  {
   "cell_type": "markdown",
   "metadata": {},
   "source": [
    "### Renaming grouped aggregation columns"
   ]
  },
  {
   "cell_type": "markdown",
   "metadata": {},
   "source": [
    "<img src=\"resources/pandas-python-group-by-named-aggregation-update.jpg\">"
   ]
  },
  {
   "cell_type": "markdown",
   "metadata": {},
   "source": [
    "### Recommended: Tuple Named Aggregations"
   ]
  },
  {
   "cell_type": "code",
   "execution_count": 63,
   "metadata": {
    "ExecuteTime": {
     "end_time": "2022-07-30T00:03:36.977205Z",
     "start_time": "2022-07-30T00:03:36.923491Z"
    }
   },
   "outputs": [
    {
     "data": {
      "text/html": [
       "<div>\n",
       "<style scoped>\n",
       "    .dataframe tbody tr th:only-of-type {\n",
       "        vertical-align: middle;\n",
       "    }\n",
       "\n",
       "    .dataframe tbody tr th {\n",
       "        vertical-align: top;\n",
       "    }\n",
       "\n",
       "    .dataframe thead th {\n",
       "        text-align: right;\n",
       "    }\n",
       "</style>\n",
       "<table border=\"1\" class=\"dataframe\">\n",
       "  <thead>\n",
       "    <tr style=\"text-align: right;\">\n",
       "      <th></th>\n",
       "      <th>max_duration</th>\n",
       "      <th>min_duration</th>\n",
       "      <th>total_duration</th>\n",
       "      <th>num_days</th>\n",
       "    </tr>\n",
       "    <tr>\n",
       "      <th>month</th>\n",
       "      <th></th>\n",
       "      <th></th>\n",
       "      <th></th>\n",
       "      <th></th>\n",
       "    </tr>\n",
       "  </thead>\n",
       "  <tbody>\n",
       "    <tr>\n",
       "      <th>2014-11</th>\n",
       "      <td>1940.0</td>\n",
       "      <td>1.0</td>\n",
       "      <td>25547.0</td>\n",
       "      <td>28</td>\n",
       "    </tr>\n",
       "    <tr>\n",
       "      <th>2014-12</th>\n",
       "      <td>2120.0</td>\n",
       "      <td>2.0</td>\n",
       "      <td>13561.0</td>\n",
       "      <td>30</td>\n",
       "    </tr>\n",
       "    <tr>\n",
       "      <th>2015-01</th>\n",
       "      <td>1859.0</td>\n",
       "      <td>2.0</td>\n",
       "      <td>17070.0</td>\n",
       "      <td>30</td>\n",
       "    </tr>\n",
       "    <tr>\n",
       "      <th>2015-02</th>\n",
       "      <td>1863.0</td>\n",
       "      <td>1.0</td>\n",
       "      <td>14416.0</td>\n",
       "      <td>25</td>\n",
       "    </tr>\n",
       "    <tr>\n",
       "      <th>2015-03</th>\n",
       "      <td>10528.0</td>\n",
       "      <td>2.0</td>\n",
       "      <td>21727.0</td>\n",
       "      <td>19</td>\n",
       "    </tr>\n",
       "  </tbody>\n",
       "</table>\n",
       "</div>"
      ],
      "text/plain": [
       "         max_duration  min_duration  total_duration  num_days\n",
       "month                                                        \n",
       "2014-11        1940.0           1.0         25547.0        28\n",
       "2014-12        2120.0           2.0         13561.0        30\n",
       "2015-01        1859.0           2.0         17070.0        30\n",
       "2015-02        1863.0           1.0         14416.0        25\n",
       "2015-03       10528.0           2.0         21727.0        19"
      ]
     },
     "execution_count": 63,
     "metadata": {},
     "output_type": "execute_result"
    }
   ],
   "source": [
    "data[data['item'] == 'call'].groupby('month').agg(\n",
    "    # Get max of the duration column for each group\n",
    "    max_duration=('duration', max),\n",
    "    # Get min of the duration column for each group\n",
    "    min_duration=('duration', min),\n",
    "    # Get sum of the duration column for each group\n",
    "    total_duration=('duration', sum),\n",
    "    # Apply a lambda to date column\n",
    "    num_days=(\"date\", lambda x: (max(x) - min(x)).days)    \n",
    ")"
   ]
  },
  {
   "cell_type": "markdown",
   "metadata": {},
   "source": [
    "For clearer naming, Pandas also provides the NamedAggregation named-tuple, which can be used to achieve the same as normal tuples:\n",
    "\n"
   ]
  },
  {
   "cell_type": "code",
   "execution_count": 64,
   "metadata": {
    "ExecuteTime": {
     "end_time": "2022-07-30T00:04:32.558405Z",
     "start_time": "2022-07-30T00:04:32.519857Z"
    }
   },
   "outputs": [
    {
     "data": {
      "text/html": [
       "<div>\n",
       "<style scoped>\n",
       "    .dataframe tbody tr th:only-of-type {\n",
       "        vertical-align: middle;\n",
       "    }\n",
       "\n",
       "    .dataframe tbody tr th {\n",
       "        vertical-align: top;\n",
       "    }\n",
       "\n",
       "    .dataframe thead th {\n",
       "        text-align: right;\n",
       "    }\n",
       "</style>\n",
       "<table border=\"1\" class=\"dataframe\">\n",
       "  <thead>\n",
       "    <tr style=\"text-align: right;\">\n",
       "      <th></th>\n",
       "      <th>max_duration</th>\n",
       "      <th>min_duration</th>\n",
       "      <th>total_duration</th>\n",
       "      <th>num_days</th>\n",
       "    </tr>\n",
       "    <tr>\n",
       "      <th>month</th>\n",
       "      <th></th>\n",
       "      <th></th>\n",
       "      <th></th>\n",
       "      <th></th>\n",
       "    </tr>\n",
       "  </thead>\n",
       "  <tbody>\n",
       "    <tr>\n",
       "      <th>2014-11</th>\n",
       "      <td>1940.0</td>\n",
       "      <td>1.0</td>\n",
       "      <td>25547.0</td>\n",
       "      <td>28</td>\n",
       "    </tr>\n",
       "    <tr>\n",
       "      <th>2014-12</th>\n",
       "      <td>2120.0</td>\n",
       "      <td>2.0</td>\n",
       "      <td>13561.0</td>\n",
       "      <td>30</td>\n",
       "    </tr>\n",
       "    <tr>\n",
       "      <th>2015-01</th>\n",
       "      <td>1859.0</td>\n",
       "      <td>2.0</td>\n",
       "      <td>17070.0</td>\n",
       "      <td>30</td>\n",
       "    </tr>\n",
       "    <tr>\n",
       "      <th>2015-02</th>\n",
       "      <td>1863.0</td>\n",
       "      <td>1.0</td>\n",
       "      <td>14416.0</td>\n",
       "      <td>25</td>\n",
       "    </tr>\n",
       "    <tr>\n",
       "      <th>2015-03</th>\n",
       "      <td>10528.0</td>\n",
       "      <td>2.0</td>\n",
       "      <td>21727.0</td>\n",
       "      <td>19</td>\n",
       "    </tr>\n",
       "  </tbody>\n",
       "</table>\n",
       "</div>"
      ],
      "text/plain": [
       "         max_duration  min_duration  total_duration  num_days\n",
       "month                                                        \n",
       "2014-11        1940.0           1.0         25547.0        28\n",
       "2014-12        2120.0           2.0         13561.0        30\n",
       "2015-01        1859.0           2.0         17070.0        30\n",
       "2015-02        1863.0           1.0         14416.0        25\n",
       "2015-03       10528.0           2.0         21727.0        19"
      ]
     },
     "execution_count": 64,
     "metadata": {},
     "output_type": "execute_result"
    }
   ],
   "source": [
    "data[data['item'] == 'call'].groupby('month').agg(\n",
    "    max_duration=pd.NamedAgg(column='duration', aggfunc=max),\n",
    "    min_duration=pd.NamedAgg(column='duration', aggfunc=min),\n",
    "    total_duration=pd.NamedAgg(column='duration', aggfunc=sum),\n",
    "    num_days=pd.NamedAgg(\n",
    "        column=\"date\", \n",
    "        aggfunc=lambda x: (max(x) - min(x)).days)    \n",
    ")"
   ]
  },
  {
   "cell_type": "code",
   "execution_count": null,
   "metadata": {},
   "outputs": [],
   "source": []
  }
 ],
 "metadata": {
  "hide_input": false,
  "kernelspec": {
   "display_name": "Python 3 (ipykernel)",
   "language": "python",
   "name": "python3"
  },
  "language_info": {
   "codemirror_mode": {
    "name": "ipython",
    "version": 3
   },
   "file_extension": ".py",
   "mimetype": "text/x-python",
   "name": "python",
   "nbconvert_exporter": "python",
   "pygments_lexer": "ipython3",
   "version": "3.9.12"
  },
  "toc": {
   "base_numbering": 1,
   "nav_menu": {},
   "number_sections": true,
   "sideBar": true,
   "skip_h1_title": false,
   "title_cell": "Table of Contents",
   "title_sidebar": "Contents",
   "toc_cell": false,
   "toc_position": {
    "height": "calc(100% - 180px)",
    "left": "10px",
    "top": "150px",
    "width": "308px"
   },
   "toc_section_display": true,
   "toc_window_display": true
  },
  "varInspector": {
   "cols": {
    "lenName": 16,
    "lenType": 16,
    "lenVar": 40
   },
   "kernels_config": {
    "python": {
     "delete_cmd_postfix": "",
     "delete_cmd_prefix": "del ",
     "library": "var_list.py",
     "varRefreshCmd": "print(var_dic_list())"
    },
    "r": {
     "delete_cmd_postfix": ") ",
     "delete_cmd_prefix": "rm(",
     "library": "var_list.r",
     "varRefreshCmd": "cat(var_dic_list()) "
    }
   },
   "types_to_exclude": [
    "module",
    "function",
    "builtin_function_or_method",
    "instance",
    "_Feature"
   ],
   "window_display": false
  }
 },
 "nbformat": 4,
 "nbformat_minor": 2
}
