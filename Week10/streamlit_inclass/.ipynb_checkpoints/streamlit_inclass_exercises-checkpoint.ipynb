{
 "cells": [
  {
   "cell_type": "markdown",
   "id": "547dd6d8",
   "metadata": {
    "ExecuteTime": {
     "end_time": "2022-09-03T00:59:30.158814Z",
     "start_time": "2022-09-03T00:59:30.143855Z"
    }
   },
   "source": [
    "# Simple streamlit text"
   ]
  },
  {
   "cell_type": "markdown",
   "id": "3a939639",
   "metadata": {},
   "source": [
    "## Write a header text \n",
    "Elysian Edu"
   ]
  },
  {
   "cell_type": "markdown",
   "id": "0817c705",
   "metadata": {
    "ExecuteTime": {
     "end_time": "2022-09-03T01:00:02.508361Z",
     "start_time": "2022-09-03T01:00:02.499849Z"
    }
   },
   "source": [
    "## Write a bold text \n",
    "I love machine learning"
   ]
  },
  {
   "cell_type": "markdown",
   "id": "3eb8e1b6",
   "metadata": {},
   "source": [
    "## Write a caption \n",
    "\"A dog sitting on a beach\"\n"
   ]
  },
  {
   "cell_type": "markdown",
   "id": "a6abb5be",
   "metadata": {},
   "source": [
    "## Write a code block"
   ]
  },
  {
   "cell_type": "code",
   "execution_count": null,
   "id": "33db024c",
   "metadata": {},
   "outputs": [],
   "source": [
    "code = '''def simple_print():\n",
    "    print(\"Good morning\")'''"
   ]
  },
  {
   "cell_type": "markdown",
   "id": "384e71a2",
   "metadata": {},
   "source": [
    "# Dataframe and metrics"
   ]
  },
  {
   "cell_type": "code",
   "execution_count": 2,
   "id": "0645db69",
   "metadata": {
    "ExecuteTime": {
     "end_time": "2022-09-03T00:57:46.076298Z",
     "start_time": "2022-09-03T00:57:46.051141Z"
    }
   },
   "outputs": [],
   "source": [
    "import pandas as pd\n",
    "\n",
    "df = pd.read_csv('resources/Detergent-sales-data.csv')"
   ]
  },
  {
   "cell_type": "markdown",
   "id": "fe3c1bc3",
   "metadata": {
    "ExecuteTime": {
     "end_time": "2022-09-03T01:04:19.588946Z",
     "start_time": "2022-09-03T01:04:19.575986Z"
    }
   },
   "source": [
    "## Show dataframe"
   ]
  },
  {
   "cell_type": "markdown",
   "id": "eb0f151d",
   "metadata": {
    "ExecuteTime": {
     "end_time": "2022-09-03T01:15:58.399961Z",
     "start_time": "2022-09-03T01:15:58.388026Z"
    }
   },
   "source": [
    "## plot trending line graph using Detergent-sales-data.csv"
   ]
  },
  {
   "cell_type": "markdown",
   "id": "75d199cc",
   "metadata": {},
   "source": [
    "## show 5 columns with metrics temperature, air pressure, humidity, cloudiness, and wind"
   ]
  },
  {
   "cell_type": "markdown",
   "id": "5a3a8fa7",
   "metadata": {},
   "source": [
    "# Draw a map located in Tokyo, Yokohama, Osaka, Nagoya"
   ]
  },
  {
   "cell_type": "markdown",
   "id": "fe7a8be5",
   "metadata": {
    "ExecuteTime": {
     "end_time": "2022-09-03T01:13:15.885213Z",
     "start_time": "2022-09-03T01:13:15.877179Z"
    }
   },
   "source": [
    "# Add widgets"
   ]
  },
  {
   "cell_type": "markdown",
   "id": "2fc05815",
   "metadata": {},
   "source": [
    "## button\n",
    "## checkbox\n",
    "## date input"
   ]
  },
  {
   "cell_type": "markdown",
   "id": "52db2383",
   "metadata": {},
   "source": [
    "# Show random image and video from internet"
   ]
  },
  {
   "cell_type": "markdown",
   "id": "125cbaaf",
   "metadata": {
    "ExecuteTime": {
     "end_time": "2022-09-03T01:21:30.938882Z",
     "start_time": "2022-09-03T01:21:30.932903Z"
    }
   },
   "source": [
    "# Plot Apple stock price starting from 2000 to 2020"
   ]
  }
 ],
 "metadata": {
  "kernelspec": {
   "display_name": "sa_env",
   "language": "python",
   "name": "sa_env"
  },
  "language_info": {
   "codemirror_mode": {
    "name": "ipython",
    "version": 3
   },
   "file_extension": ".py",
   "mimetype": "text/x-python",
   "name": "python",
   "nbconvert_exporter": "python",
   "pygments_lexer": "ipython3",
   "version": "3.9.12"
  },
  "toc": {
   "base_numbering": 1,
   "nav_menu": {},
   "number_sections": true,
   "sideBar": true,
   "skip_h1_title": false,
   "title_cell": "Table of Contents",
   "title_sidebar": "Contents",
   "toc_cell": false,
   "toc_position": {},
   "toc_section_display": true,
   "toc_window_display": true
  },
  "varInspector": {
   "cols": {
    "lenName": 16,
    "lenType": 16,
    "lenVar": 40
   },
   "kernels_config": {
    "python": {
     "delete_cmd_postfix": "",
     "delete_cmd_prefix": "del ",
     "library": "var_list.py",
     "varRefreshCmd": "print(var_dic_list())"
    },
    "r": {
     "delete_cmd_postfix": ") ",
     "delete_cmd_prefix": "rm(",
     "library": "var_list.r",
     "varRefreshCmd": "cat(var_dic_list()) "
    }
   },
   "types_to_exclude": [
    "module",
    "function",
    "builtin_function_or_method",
    "instance",
    "_Feature"
   ],
   "window_display": false
  }
 },
 "nbformat": 4,
 "nbformat_minor": 5
}
