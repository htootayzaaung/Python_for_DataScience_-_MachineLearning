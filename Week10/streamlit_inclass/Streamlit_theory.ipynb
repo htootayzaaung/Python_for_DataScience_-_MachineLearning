{
 "cells": [
  {
   "cell_type": "markdown",
   "id": "8e15e3f2",
   "metadata": {},
   "source": [
    "# Streamlit\n",
    "\n",
    "Streamlit is a free, open-source, all-python framework that enables data scientists to quickly build interactive dashboards and machine learning web apps with no front-end web development experience required. If you know python, then you are all equipped to use Streamlit to create and share your web apps, within hours, not weeks.\n",
    "\n",
    "Link : https://streamlit.io/gallery\n"
   ]
  },
  {
   "cell_type": "markdown",
   "id": "bda653d9",
   "metadata": {},
   "source": [
    "## Installation\n",
    "\n",
    "> pip install streamlit\n",
    "\n",
    "Test the installation is worked:\n",
    "\n",
    "> streamlit hello\n",
    "\n",
    "\n",
    "Use your new environment\n",
    "\n",
    "> streamlit run myfile.py\n",
    "\n",
    "To stop the Streamlit server, <font color=\"red\">press ctrl-C.</font>\n"
   ]
  },
  {
   "cell_type": "markdown",
   "id": "98d56f0d",
   "metadata": {},
   "source": [
    "## Run Streamlit\n",
    "\n",
    "> streamlit run your_script.py [-- script args]\n",
    "\n",
    "- When passing your script some custom arguments, they must be passed after two dashes. Otherwise the arguments get interpreted as arguments to Streamlit itself.\n",
    "\n",
    "\n",
    "$ streamlit run your_script.py\n",
    "```\n",
    "\n",
    "- You can also pass a URL to streamlit run! This is great when combined with Github Gists.\n",
    "For example:\n",
    "> streamlit run https://raw.githubusercontent.com/dataprofessor/code/master/streamlit/part1/myapp.py\n"
   ]
  },
  {
   "cell_type": "markdown",
   "id": "3225acee",
   "metadata": {},
   "source": [
    "## Development flow\n",
    "\n",
    "Every time you want to update your app, save the source file. When you do that, Streamlit detects if there is a change and asks you whether you want to rerun your app. Choose \"Always rerun\" at the top-right of your screen to automatically update your app every time you change its source code.\n",
    "\n",
    "<img src =\"resources/1.png\">"
   ]
  },
  {
   "cell_type": "markdown",
   "id": "e0b7051e",
   "metadata": {},
   "source": [
    "# Text elements in streamlit"
   ]
  },
  {
   "cell_type": "markdown",
   "id": "b09f82e9",
   "metadata": {},
   "source": [
    "## st.markdown\n",
    "Display string formatted as Markdown."
   ]
  },
  {
   "cell_type": "code",
   "execution_count": null,
   "id": "663902c8",
   "metadata": {},
   "outputs": [],
   "source": [
    "st.markdown('Streamlit is **_really_ cool**.')"
   ]
  },
  {
   "cell_type": "markdown",
   "id": "e25e882d",
   "metadata": {},
   "source": [
    "## st.title st.header and st.subheader\n",
    "- **st.title** is to set the app's title\n",
    "After that, there are 2 heading levels you can use: **st.header and st.subheader.**"
   ]
  },
  {
   "cell_type": "code",
   "execution_count": null,
   "id": "40cd20cc",
   "metadata": {},
   "outputs": [],
   "source": [
    "st.title(\"this is an example streamlit app\")\n",
    "st.header('header')"
   ]
  },
  {
   "cell_type": "code",
   "execution_count": null,
   "id": "1e2c164b",
   "metadata": {},
   "outputs": [],
   "source": []
  },
  {
   "cell_type": "markdown",
   "id": "ccc3b880",
   "metadata": {},
   "source": [
    "## st.caption\n",
    "\n",
    "Display text in small font.\n",
    "\n",
    "This should be used for captions, asides, footnotes, sidenotes, and other explanatory text."
   ]
  },
  {
   "cell_type": "code",
   "execution_count": null,
   "id": "6540f8cf",
   "metadata": {},
   "outputs": [],
   "source": [
    "st.caption(\"Example caption\")"
   ]
  },
  {
   "cell_type": "markdown",
   "id": "e5555c1d",
   "metadata": {},
   "source": [
    "## st.code\n",
    "Display a code block with optional syntax highlighting."
   ]
  },
  {
   "cell_type": "code",
   "execution_count": null,
   "id": "0fa7bde0",
   "metadata": {},
   "outputs": [],
   "source": [
    "code = '''def hello():\n",
    "    print(\"Hello, Streamlit!\")'''\n",
    "st.code(code, language='python')"
   ]
  },
  {
   "cell_type": "markdown",
   "id": "3cd0a243",
   "metadata": {},
   "source": [
    "## st.text\n",
    "Write fixed-width and preformatted text."
   ]
  },
  {
   "cell_type": "code",
   "execution_count": null,
   "id": "db487e88",
   "metadata": {},
   "outputs": [],
   "source": [
    "st.text('This is some text.')"
   ]
  },
  {
   "cell_type": "markdown",
   "id": "bd58daea",
   "metadata": {},
   "source": [
    "## st.latex\n",
    "Display mathematical expressions formatted as LaTeX."
   ]
  },
  {
   "cell_type": "code",
   "execution_count": null,
   "id": "87a7bcd3",
   "metadata": {},
   "outputs": [],
   "source": [
    "st.latex(r'''\n",
    "     a + ar + a r^2 + a r^3 + \\cdots + a r^{n-1} =\n",
    "     \\sum_{k=0}^{n-1} ar^k =\n",
    "     a \\left(\\frac{1-r^{n}}{1-r}\\right)\n",
    "     ''')"
   ]
  },
  {
   "cell_type": "code",
   "execution_count": null,
   "id": "04fdda0c",
   "metadata": {},
   "outputs": [],
   "source": []
  },
  {
   "cell_type": "markdown",
   "id": "d25625f1",
   "metadata": {
    "ExecuteTime": {
     "end_time": "2022-09-02T10:25:46.530527Z",
     "start_time": "2022-09-02T10:25:46.515864Z"
    }
   },
   "source": [
    "# Data Display elements"
   ]
  },
  {
   "cell_type": "markdown",
   "id": "5ff1a76b",
   "metadata": {},
   "source": [
    "## st.dataframe\n",
    "Display a dataframe as an interactive table."
   ]
  },
  {
   "cell_type": "code",
   "execution_count": 1,
   "id": "01639679",
   "metadata": {
    "ExecuteTime": {
     "end_time": "2022-09-02T09:25:27.086132Z",
     "start_time": "2022-09-02T09:25:25.191605Z"
    }
   },
   "outputs": [
    {
     "data": {
      "text/html": [
       "<div>\n",
       "<style scoped>\n",
       "    .dataframe tbody tr th:only-of-type {\n",
       "        vertical-align: middle;\n",
       "    }\n",
       "\n",
       "    .dataframe tbody tr th {\n",
       "        vertical-align: top;\n",
       "    }\n",
       "\n",
       "    .dataframe thead th {\n",
       "        text-align: right;\n",
       "    }\n",
       "</style>\n",
       "<table border=\"1\" class=\"dataframe\">\n",
       "  <thead>\n",
       "    <tr style=\"text-align: right;\">\n",
       "      <th></th>\n",
       "      <th>first column</th>\n",
       "      <th>second column</th>\n",
       "    </tr>\n",
       "  </thead>\n",
       "  <tbody>\n",
       "    <tr>\n",
       "      <th>0</th>\n",
       "      <td>1</td>\n",
       "      <td>10</td>\n",
       "    </tr>\n",
       "    <tr>\n",
       "      <th>1</th>\n",
       "      <td>2</td>\n",
       "      <td>20</td>\n",
       "    </tr>\n",
       "    <tr>\n",
       "      <th>2</th>\n",
       "      <td>3</td>\n",
       "      <td>30</td>\n",
       "    </tr>\n",
       "    <tr>\n",
       "      <th>3</th>\n",
       "      <td>4</td>\n",
       "      <td>40</td>\n",
       "    </tr>\n",
       "  </tbody>\n",
       "</table>\n",
       "</div>"
      ],
      "text/plain": [
       "   first column  second column\n",
       "0             1             10\n",
       "1             2             20\n",
       "2             3             30\n",
       "3             4             40"
      ]
     },
     "execution_count": 1,
     "metadata": {},
     "output_type": "execute_result"
    }
   ],
   "source": [
    "\"\"\"\n",
    "# My first app\n",
    "Dataframe:\n",
    "\"\"\"\n",
    "\n",
    "df = pd.DataFrame(\n",
    "    np.random.randn(50, 20),\n",
    "    columns=('col %d' % i for i in range(20)))\n",
    "\n",
    "st.dataframe(df)"
   ]
  },
  {
   "cell_type": "markdown",
   "id": "07cbddc6",
   "metadata": {},
   "source": [
    "## Dataframe Styling"
   ]
  },
  {
   "cell_type": "code",
   "execution_count": null,
   "id": "3f2a38eb",
   "metadata": {},
   "outputs": [],
   "source": [
    "import streamlit as st\n",
    "import numpy as np\n",
    "import pandas as pd\n",
    "\n",
    "dataframe = pd.DataFrame(\n",
    "    np.random.randn(10, 20),\n",
    "    columns=('col %d' % i for i in range(20)))\n",
    "\n",
    "st.dataframe(dataframe.style.highlight_max(axis=0))"
   ]
  },
  {
   "cell_type": "code",
   "execution_count": null,
   "id": "4aabe889",
   "metadata": {},
   "outputs": [],
   "source": []
  },
  {
   "cell_type": "markdown",
   "id": "6c66e7bd",
   "metadata": {},
   "source": [
    "## Interactivity\n",
    "Dataframes displayed as interactive tables with st.dataframe have the following interactive features:\n",
    "\n",
    "- **Column sorting:** sort columns by clicking on their headers.\n",
    "\n",
    "- **Column resizing**: resize columns by dragging and dropping column header borders.\n",
    "\n",
    "- **Table (height, width) resizing:** resize tables by dragging and dropping the bottom right corner of tables.\n",
    "\n",
    "- **Search:** search through data by clicking a table, using hotkeys (⌘ Cmd + F or Ctrl + F) to bring up the search bar, and using the search bar to filter data.\n",
    "\n",
    "- **Copy to clipboard:** select one or multiple cells, copy them to clipboard, and paste them into your favorite spreadsheet software."
   ]
  },
  {
   "cell_type": "markdown",
   "id": "cf69b891",
   "metadata": {
    "ExecuteTime": {
     "end_time": "2022-08-31T05:24:21.586063Z",
     "start_time": "2022-08-31T05:24:21.579635Z"
    }
   },
   "source": [
    "## st.table\n",
    "\n",
    "Display a static table.\n",
    "\n",
    "This differs from st.dataframe in that the table in this case is static: its entire contents are laid out directly on the page."
   ]
  },
  {
   "cell_type": "code",
   "execution_count": null,
   "id": "0737e363",
   "metadata": {},
   "outputs": [],
   "source": [
    "df = pd.DataFrame(\n",
    "    np.random.randn(10, 5),\n",
    "    columns=('col %d' % i for i in range(5)))\n",
    "\n",
    "st.table(df)"
   ]
  },
  {
   "cell_type": "code",
   "execution_count": null,
   "id": "f7fd128a",
   "metadata": {},
   "outputs": [],
   "source": []
  },
  {
   "cell_type": "markdown",
   "id": "8fe1b67f",
   "metadata": {},
   "source": [
    "## st.metric\n",
    "\n",
    "Display a metric in big bold font, with an optional indicator of how the metric changed.\n",
    "\n",
    "Tip: If you want to display a large number, it may be a good idea to shorten it using packages like millify or numerize. E.g. 1234 can be displayed as 1.2k using st.metric(\"Short number\", millify(1234))."
   ]
  },
  {
   "cell_type": "code",
   "execution_count": 1,
   "id": "7679c8b5",
   "metadata": {
    "ExecuteTime": {
     "end_time": "2022-09-03T01:04:47.669776Z",
     "start_time": "2022-09-03T01:04:47.020900Z"
    }
   },
   "outputs": [],
   "source": [
    "import streamlit as st"
   ]
  },
  {
   "cell_type": "code",
   "execution_count": null,
   "id": "63c2039d",
   "metadata": {},
   "outputs": [],
   "source": [
    "st.metric(label=\"Temperature\", value=\"70 °F\", delta=\"1.2 °F\")"
   ]
  },
  {
   "cell_type": "code",
   "execution_count": null,
   "id": "3e9deb7c",
   "metadata": {},
   "outputs": [],
   "source": [
    "st.metric(\"Short number\", millify(1234))"
   ]
  },
  {
   "cell_type": "markdown",
   "id": "b916a1a4",
   "metadata": {},
   "source": [
    "**Note: st.metric looks especially nice in combination with st.columns:**"
   ]
  },
  {
   "cell_type": "code",
   "execution_count": null,
   "id": "8c9d46b3",
   "metadata": {},
   "outputs": [],
   "source": [
    "col1, col2= st.columns(2)\n",
    "col1.metric(\"Temperature\", \"70 °F\", \"1.2 °F\")\n",
    "col2.metric(\"Humidity\", \"86%\", \"4%\")"
   ]
  },
  {
   "cell_type": "code",
   "execution_count": null,
   "id": "4a8e3760",
   "metadata": {},
   "outputs": [],
   "source": []
  },
  {
   "cell_type": "markdown",
   "id": "89ea3fb0",
   "metadata": {},
   "source": [
    "## st.json\n",
    "\n",
    "Display object or string as a pretty-printed JSON string."
   ]
  },
  {
   "cell_type": "code",
   "execution_count": null,
   "id": "1daa67bb",
   "metadata": {},
   "outputs": [],
   "source": [
    "st.json({\n",
    "     'foo': 'bar',\n",
    "     'baz': 'boz',\n",
    "     'stuff': [\n",
    "         'stuff 1',\n",
    "         'stuff 2',\n",
    "         'stuff 3',\n",
    "         'stuff 5',\n",
    "     ],\n",
    " })"
   ]
  },
  {
   "cell_type": "markdown",
   "id": "33ab8738",
   "metadata": {},
   "source": [
    "# Chart elements\n",
    "Streamlit supports several different charting libraries"
   ]
  },
  {
   "cell_type": "markdown",
   "id": "37d91c6f",
   "metadata": {},
   "source": [
    "## st.line_chart\n",
    "Diplay a line chart"
   ]
  },
  {
   "cell_type": "code",
   "execution_count": 6,
   "id": "93d3b442",
   "metadata": {
    "ExecuteTime": {
     "end_time": "2022-09-02T11:52:05.643396Z",
     "start_time": "2022-09-02T11:52:05.581255Z"
    }
   },
   "outputs": [
    {
     "data": {
      "text/plain": [
       "DeltaGenerator(_root_container=0, _provided_cursor=None, _parent=None, _block_type=None, _form_data=None)"
      ]
     },
     "execution_count": 6,
     "metadata": {},
     "output_type": "execute_result"
    }
   ],
   "source": [
    "chart_data = pd.DataFrame(\n",
    "     np.random.randn(20, 3),\n",
    "     columns=['a', 'b', 'c'])\n",
    "\n",
    "st.line_chart(chart_data)"
   ]
  },
  {
   "cell_type": "markdown",
   "id": "35014030",
   "metadata": {},
   "source": [
    "## st.area_chart\n",
    "Display an area chart"
   ]
  },
  {
   "cell_type": "code",
   "execution_count": null,
   "id": "4be3235a",
   "metadata": {},
   "outputs": [],
   "source": [
    "chart_data = pd.DataFrame(\n",
    "     np.random.randn(20, 3),\n",
    "     columns=['a', 'b', 'c'])\n",
    "\n",
    "st.area_chart(chart_data)"
   ]
  },
  {
   "cell_type": "markdown",
   "id": "b298eacf",
   "metadata": {},
   "source": [
    "## st.bar_chart\n",
    "Display a bar chart"
   ]
  },
  {
   "cell_type": "code",
   "execution_count": null,
   "id": "45769489",
   "metadata": {},
   "outputs": [],
   "source": [
    "chart_data = pd.DataFrame(\n",
    "     np.random.randn(50, 3),\n",
    "     columns=[\"a\", \"b\", \"c\"])\n",
    "\n",
    "st.bar_chart(chart_data)"
   ]
  },
  {
   "cell_type": "markdown",
   "id": "20c91c25",
   "metadata": {},
   "source": [
    "## st.map\n",
    "Display a map with points on it."
   ]
  },
  {
   "cell_type": "code",
   "execution_count": null,
   "id": "9d0b9b9d",
   "metadata": {},
   "outputs": [],
   "source": [
    "df = pd.DataFrame(\n",
    "     np.random.randn(1000, 2) / [50, 50] + [37.76, -122.4],\n",
    "     columns=['lat', 'lon'])\n",
    "\n",
    "st.map(df)"
   ]
  },
  {
   "cell_type": "code",
   "execution_count": null,
   "id": "56098f72",
   "metadata": {},
   "outputs": [],
   "source": [
    "data = pd.DataFrame({\n",
    "    'awesome cities' : ['Chicago', 'Minneapolis', 'Louisville', 'Topeka'],\n",
    "    'lat' : [41.868171, 44.979840,  38.257972, 39.030575],\n",
    "    'lon' : [-87.667458, -93.272474, -85.765187,  -95.702548]\n",
    "})\n"
   ]
  },
  {
   "cell_type": "code",
   "execution_count": null,
   "id": "053d2b31",
   "metadata": {},
   "outputs": [],
   "source": [
    "Yangon\n",
    "lat = 16.866070\n",
    "lon= 96.195129"
   ]
  },
  {
   "cell_type": "code",
   "execution_count": null,
   "id": "d8ca9c96",
   "metadata": {},
   "outputs": [],
   "source": []
  },
  {
   "cell_type": "markdown",
   "id": "fc268d6f",
   "metadata": {},
   "source": [
    "# Input widgets\n",
    "With widgets, Streamlit allows you to bake interactivity directly into your apps with buttons, sliders, text inputs, and more."
   ]
  },
  {
   "cell_type": "markdown",
   "id": "c679f3f0",
   "metadata": {},
   "source": [
    "## st.button\n",
    "\n",
    "Display a button widget"
   ]
  },
  {
   "cell_type": "code",
   "execution_count": null,
   "id": "4116bc1a",
   "metadata": {},
   "outputs": [],
   "source": [
    "if st.button('Say hello'):\n",
    "     st.write('Why hello there')\n",
    "else:\n",
    "     st.write('Goodbye')"
   ]
  },
  {
   "cell_type": "markdown",
   "id": "dff22a02",
   "metadata": {},
   "source": [
    "## st.download_button\n",
    "Display a download button widget."
   ]
  },
  {
   "cell_type": "code",
   "execution_count": null,
   "id": "a2260629",
   "metadata": {},
   "outputs": [],
   "source": [
    "text_contents = '''This is some text'''\n",
    "st.download_button('Download some text', text_contents)"
   ]
  },
  {
   "cell_type": "code",
   "execution_count": null,
   "id": "0c78c376",
   "metadata": {},
   "outputs": [],
   "source": []
  },
  {
   "cell_type": "markdown",
   "id": "c900192f",
   "metadata": {},
   "source": [
    "## st.checkbox\n",
    "\n",
    "Display a checkbox widget."
   ]
  },
  {
   "cell_type": "code",
   "execution_count": null,
   "id": "7cb02730",
   "metadata": {},
   "outputs": [],
   "source": [
    "agree = st.checkbox('Hello')\n",
    "\n",
    "if agree:\n",
    "     st.write('Hi')"
   ]
  },
  {
   "cell_type": "code",
   "execution_count": null,
   "id": "d57ff30e",
   "metadata": {},
   "outputs": [],
   "source": [
    "if st.checkbox('Show dataframe'):\n",
    "    chart_data = pd.DataFrame(\n",
    "       np.random.randn(20, 3),\n",
    "       columns=['a', 'b', 'c'])\n",
    "\n",
    "    chart_data"
   ]
  },
  {
   "cell_type": "markdown",
   "id": "b23de228",
   "metadata": {},
   "source": [
    "## st.selectbox\n",
    "\n",
    "Display a select widget."
   ]
  },
  {
   "cell_type": "code",
   "execution_count": null,
   "id": "334e98bd",
   "metadata": {},
   "outputs": [],
   "source": [
    "option = st.selectbox(\n",
    "     'How would you like to be contacted?',\n",
    "     ('Email', 'Home phone', 'Mobile phone'))\n",
    "\n",
    "st.write('You selected:', option)"
   ]
  },
  {
   "cell_type": "code",
   "execution_count": null,
   "id": "c92eea68",
   "metadata": {},
   "outputs": [],
   "source": [
    "df = pd.DataFrame({\n",
    "    'first column': [1, 2, 3, 4],\n",
    "    'second column': [10, 20, 30, 40]\n",
    "    })\n",
    "\n",
    "option = st.selectbox(\n",
    "    'Which number do you like best?',\n",
    "     df['first column'])\n",
    "\n",
    "'You selected: ', option"
   ]
  },
  {
   "cell_type": "markdown",
   "id": "e2e979b5",
   "metadata": {},
   "source": [
    "## st.multiselect\n",
    "\n",
    "Display a multiselect widget.\n",
    "\n",
    "The multiselect widget starts as empty."
   ]
  },
  {
   "cell_type": "code",
   "execution_count": null,
   "id": "d789ffdd",
   "metadata": {},
   "outputs": [],
   "source": [
    "options = st.multiselect(\n",
    "     'What are your favorite colors',\n",
    "     ['Green', 'Yellow', 'Red', 'Blue'],\n",
    "     ['Yellow', 'Red'])\n",
    "\n",
    "st.write('You selected:', options)"
   ]
  },
  {
   "cell_type": "code",
   "execution_count": null,
   "id": "5576e1ed",
   "metadata": {},
   "outputs": [],
   "source": []
  },
  {
   "cell_type": "markdown",
   "id": "ea8ca33b",
   "metadata": {},
   "source": [
    "## st.slider and st.select_slider\n",
    "\n",
    "Display a slider widget.\n",
    "\n",
    "This supports int, float, date, time, and datetime types.\n",
    "\n",
    "This also allows you to render a range slider by passing a two-element tuple or list as the value.\n",
    "\n",
    "The difference between st.slider and st.select_slider is that slider only accepts numerical or date/time data and takes a range as input, while select_slider accepts any datatype and takes an iterable set of options."
   ]
  },
  {
   "cell_type": "code",
   "execution_count": null,
   "id": "71f73f36",
   "metadata": {},
   "outputs": [],
   "source": [
    "age = st.slider('How old are you?', 0, 130, 25)\n",
    "st.write(\"I'm \", age, 'years old')"
   ]
  },
  {
   "cell_type": "markdown",
   "id": "94012937",
   "metadata": {},
   "source": [
    "###  range slider example "
   ]
  },
  {
   "cell_type": "code",
   "execution_count": null,
   "id": "8004e75a",
   "metadata": {},
   "outputs": [],
   "source": [
    "values = st.slider(\n",
    "     'Select a range of values',\n",
    "     0.0, 100.0, (25.0, 75.0))\n",
    "st.write('Values:', values)"
   ]
  },
  {
   "cell_type": "code",
   "execution_count": null,
   "id": "b1f68ba8",
   "metadata": {},
   "outputs": [],
   "source": [
    "x = st.slider('x')\n",
    "st.write(x, 'squared is', x * x)"
   ]
  },
  {
   "cell_type": "markdown",
   "id": "d3c0f185",
   "metadata": {},
   "source": [
    "### range time slider"
   ]
  },
  {
   "cell_type": "code",
   "execution_count": null,
   "id": "46dff73d",
   "metadata": {},
   "outputs": [],
   "source": [
    "from datetime import time\n",
    "appointment = st.slider(\n",
    "     \"Schedule your appointment:\",\n",
    "     value=(time(11, 30), time(12, 45)))\n",
    "st.write(\"You're scheduled for:\", appointment)"
   ]
  },
  {
   "cell_type": "markdown",
   "id": "4b816c2b",
   "metadata": {},
   "source": [
    "### datetime slider"
   ]
  },
  {
   "cell_type": "code",
   "execution_count": null,
   "id": "f1f9df2f",
   "metadata": {},
   "outputs": [],
   "source": [
    "from datetime import datetime\n",
    "start_time = st.slider(\n",
    "     \"When do you start?\",\n",
    "     value=datetime(2020, 1, 1, 9, 30),\n",
    "     format=\"MM/DD/YY - hh:mm\")\n",
    "st.write(\"Start time:\", start_time)"
   ]
  },
  {
   "cell_type": "code",
   "execution_count": null,
   "id": "3bc2edcf",
   "metadata": {},
   "outputs": [],
   "source": []
  },
  {
   "cell_type": "markdown",
   "id": "92c6016f",
   "metadata": {},
   "source": [
    "### st.select_slider"
   ]
  },
  {
   "cell_type": "code",
   "execution_count": null,
   "id": "f16d5405",
   "metadata": {},
   "outputs": [],
   "source": [
    "color = st.select_slider(\n",
    "     'Select a color of the rainbow',\n",
    "     options=['red', 'orange', 'yellow', 'green', 'blue', 'indigo', 'violet'])\n",
    "st.write('My favorite color is', color)"
   ]
  },
  {
   "cell_type": "code",
   "execution_count": null,
   "id": "13f4995f",
   "metadata": {},
   "outputs": [],
   "source": []
  },
  {
   "cell_type": "markdown",
   "id": "32444d32",
   "metadata": {},
   "source": [
    "## st.text_input\n",
    "\n",
    "Display a single-line text input widget."
   ]
  },
  {
   "cell_type": "code",
   "execution_count": null,
   "id": "c7fc3811",
   "metadata": {},
   "outputs": [],
   "source": [
    "title = st.text_input('Movie title', 'Life of Brian')\n",
    "st.write('The current movie title is', title)"
   ]
  },
  {
   "cell_type": "code",
   "execution_count": null,
   "id": "d5a13081",
   "metadata": {},
   "outputs": [],
   "source": []
  },
  {
   "cell_type": "markdown",
   "id": "166d487b",
   "metadata": {},
   "source": [
    "## st.date_input\n",
    "\n",
    "Display a date input widget."
   ]
  },
  {
   "cell_type": "code",
   "execution_count": null,
   "id": "01ec75c3",
   "metadata": {},
   "outputs": [],
   "source": [
    "d = st.date_input(\n",
    "     \"When's your birthday\",\n",
    "     datetime(2019, 7, 6))\n",
    "st.write('Your birthday is:', d)"
   ]
  },
  {
   "cell_type": "code",
   "execution_count": null,
   "id": "d49ee436",
   "metadata": {},
   "outputs": [],
   "source": []
  },
  {
   "cell_type": "markdown",
   "id": "7eaade47",
   "metadata": {},
   "source": [
    "# Media elements"
   ]
  },
  {
   "cell_type": "markdown",
   "id": "dc97f5d0",
   "metadata": {},
   "source": [
    "## st.image\n",
    "\n",
    "Display an image or list of images."
   ]
  },
  {
   "cell_type": "code",
   "execution_count": null,
   "id": "80c8d5bb",
   "metadata": {},
   "outputs": [],
   "source": [
    "from PIL import Image\n",
    "image = Image.open('sunrise.jpg')\n",
    "\n",
    "st.image(image, caption='Sunrise by the mountains')"
   ]
  },
  {
   "cell_type": "markdown",
   "id": "2fef2133",
   "metadata": {},
   "source": [
    "## st.audio\n",
    "\n",
    "Display an audio player."
   ]
  },
  {
   "cell_type": "code",
   "execution_count": null,
   "id": "df3ae373",
   "metadata": {},
   "outputs": [],
   "source": [
    "audio_file = open('myaudio.ogg', 'rb')\n",
    "audio_bytes = audio_file.read()\n",
    "\n",
    "st.audio(audio_bytes, format='audio/ogg')"
   ]
  },
  {
   "cell_type": "markdown",
   "id": "ffa99a44",
   "metadata": {},
   "source": [
    "## st.video\n",
    "Display a video player.\n"
   ]
  },
  {
   "cell_type": "code",
   "execution_count": null,
   "id": "b538dc0b",
   "metadata": {},
   "outputs": [],
   "source": [
    "video_file = open('myvideo.mp4', 'rb')\n",
    "video_bytes = video_file.read()\n",
    "\n",
    "st.video(video_bytes)"
   ]
  },
  {
   "cell_type": "code",
   "execution_count": null,
   "id": "58c18b24",
   "metadata": {},
   "outputs": [],
   "source": [
    "#with youtube link\n",
    "st.video(data = \"https://www.youtube.com/watch?v=kKNXsZSylg0&list=PLpgIzkm3XNBZSrvwqfQVo32X61xdo2wTT&index=1\")"
   ]
  },
  {
   "cell_type": "code",
   "execution_count": null,
   "id": "c8352d6c",
   "metadata": {},
   "outputs": [],
   "source": []
  },
  {
   "cell_type": "markdown",
   "id": "679ace1a",
   "metadata": {},
   "source": [
    "# Layouts and containers"
   ]
  },
  {
   "cell_type": "markdown",
   "id": "d216d222",
   "metadata": {},
   "source": [
    "## st.sidebar"
   ]
  },
  {
   "cell_type": "markdown",
   "id": "f6fd9a9d",
   "metadata": {},
   "source": [
    "**Add widgets to sidebar**\n",
    "\n",
    "Not only can you add interactivity to your app with widgets, you can organize them into a sidebar. Elements can be passed to st.sidebar using object notation and with notation."
   ]
  },
  {
   "cell_type": "code",
   "execution_count": null,
   "id": "6640ae6b",
   "metadata": {},
   "outputs": [],
   "source": [
    "# Using object notation\n",
    "add_selectbox = st.sidebar.selectbox(\n",
    "    \"How would you like to be contacted?\",\n",
    "    (\"Email\", \"Home phone\", \"Mobile phone\")\n",
    ")\n",
    "\n",
    "# Using \"with\" notation\n",
    "with st.sidebar:\n",
    "    add_radio = st.radio(\n",
    "        \"Choose a shipping method\",\n",
    "        (\"Standard (5-15 days)\", \"Express (2-5 days)\")\n",
    "    )"
   ]
  },
  {
   "cell_type": "markdown",
   "id": "bf7352a5",
   "metadata": {
    "ExecuteTime": {
     "end_time": "2022-09-02T13:35:22.196752Z",
     "start_time": "2022-09-02T13:35:22.180795Z"
    }
   },
   "source": [
    "## st.columns\n",
    "\n",
    "Insert containers laid out as side-by-side columns."
   ]
  },
  {
   "cell_type": "code",
   "execution_count": null,
   "id": "3fdba291",
   "metadata": {},
   "outputs": [],
   "source": [
    "col1, col2, col3 = st.columns(3)\n",
    "\n",
    "with col1:\n",
    "    st.header(\"A cat\")\n",
    "    st.image(\"https://static.streamlit.io/examples/cat.jpg\")\n",
    "\n",
    "with col2:\n",
    "    st.header(\"A dog\")\n",
    "    st.image(\"https://static.streamlit.io/examples/dog.jpg\")\n",
    "\n",
    "with col3:\n",
    "    st.header(\"An owl\")\n",
    "    st.image(\"https://static.streamlit.io/examples/owl.jpg\")"
   ]
  },
  {
   "cell_type": "code",
   "execution_count": null,
   "id": "62e95005",
   "metadata": {},
   "outputs": [],
   "source": [
    "left_column, right_column = st.columns(2)\n",
    "# You can use a column just like st.sidebar:\n",
    "left_column.button('Press me!')\n",
    "\n",
    "# Or even better, call Streamlit functions inside a \"with\" block:\n",
    "with right_column:\n",
    "    chosen = st.radio(\n",
    "        'Sorting hat',\n",
    "        (\"Gryffindor\", \"Ravenclaw\", \"Hufflepuff\", \"Slytherin\"))\n",
    "    st.write(f\"You are in {chosen} house!\")"
   ]
  },
  {
   "cell_type": "markdown",
   "id": "dae1d6fb",
   "metadata": {},
   "source": [
    "## st.tabs\n",
    "Insert containers separated into tabs."
   ]
  },
  {
   "cell_type": "code",
   "execution_count": null,
   "id": "749c8ff0",
   "metadata": {},
   "outputs": [],
   "source": [
    "tab1, tab2, tab3 = st.tabs([\"Cat\", \"Dog\", \"Owl\"])\n",
    "\n",
    "with tab1:\n",
    "    st.header(\"A cat\")\n",
    "    st.image(\"https://static.streamlit.io/examples/cat.jpg\", width=200)\n",
    "\n",
    "with tab2:\n",
    "    st.header(\"A dog\")\n",
    "    st.image(\"https://static.streamlit.io/examples/dog.jpg\", width=200)\n",
    "\n",
    "with tab3:\n",
    "    st.header(\"An owl\")\n",
    "    st.image(\"https://static.streamlit.io/examples/owl.jpg\", width=200)"
   ]
  },
  {
   "cell_type": "markdown",
   "id": "bd1805bf",
   "metadata": {},
   "source": [
    "## st.expander\n",
    "\n",
    "Insert a multi-element container that can be expanded/collapsed."
   ]
  },
  {
   "cell_type": "code",
   "execution_count": null,
   "id": "c2813cf5",
   "metadata": {},
   "outputs": [],
   "source": [
    "with st.expander(\"See expanded text and image\"):\n",
    "     st.write(\"\"\"\n",
    "         Beautiful sunrise\n",
    "     \"\"\")\n",
    "     st.image(\"sunrise.jpg\")"
   ]
  },
  {
   "cell_type": "markdown",
   "id": "c1c221b5",
   "metadata": {},
   "source": [
    "# Status elements"
   ]
  },
  {
   "cell_type": "markdown",
   "id": "03990ca5",
   "metadata": {},
   "source": [
    "## st.progress\n",
    "\n",
    "Display a progress bar."
   ]
  },
  {
   "cell_type": "code",
   "execution_count": null,
   "id": "a0988ba3",
   "metadata": {},
   "outputs": [],
   "source": [
    "import time\n",
    "\n",
    "my_bar = st.progress(0)\n",
    "\n",
    "for percent_complete in range(100):\n",
    "     time.sleep(0.1)\n",
    "     my_bar.progress(percent_complete + 1)"
   ]
  },
  {
   "cell_type": "code",
   "execution_count": null,
   "id": "f104551b",
   "metadata": {},
   "outputs": [],
   "source": []
  },
  {
   "cell_type": "markdown",
   "id": "64ebf40a",
   "metadata": {},
   "source": [
    "## st.spinner\n",
    "\n",
    "Temporarily displays a message while executing a block of code."
   ]
  },
  {
   "cell_type": "code",
   "execution_count": null,
   "id": "31c1deec",
   "metadata": {},
   "outputs": [],
   "source": [
    "with st.spinner('Wait for it...'):\n",
    "    time.sleep(5)\n",
    "st.success('Done!')"
   ]
  },
  {
   "cell_type": "markdown",
   "id": "e36cdb9c",
   "metadata": {},
   "source": [
    "## st.balloons and st.snow\n",
    "\n",
    "Draw celebratory balloons and draw celebratory snowfall."
   ]
  },
  {
   "cell_type": "code",
   "execution_count": null,
   "id": "df1fc9ce",
   "metadata": {},
   "outputs": [],
   "source": [
    "st.snow()\n",
    "st.balloons()"
   ]
  },
  {
   "cell_type": "code",
   "execution_count": null,
   "id": "bd5b7251",
   "metadata": {},
   "outputs": [],
   "source": []
  },
  {
   "cell_type": "markdown",
   "id": "a0a85e9e",
   "metadata": {},
   "source": [
    "## st.error, st.warning, st.success\n",
    "Display error, warning and success message.\n"
   ]
  },
  {
   "cell_type": "code",
   "execution_count": null,
   "id": "50d9ea15",
   "metadata": {},
   "outputs": [],
   "source": [
    "st.error('This is an error', icon=\"🚨\")"
   ]
  },
  {
   "cell_type": "code",
   "execution_count": null,
   "id": "2473ced7",
   "metadata": {},
   "outputs": [],
   "source": [
    "st.warning('This is a warning', icon=\"⚠️\")"
   ]
  },
  {
   "cell_type": "code",
   "execution_count": null,
   "id": "7e0605a8",
   "metadata": {},
   "outputs": [],
   "source": [
    "st.success('This is a success message!', icon:\"✅\")"
   ]
  },
  {
   "cell_type": "code",
   "execution_count": null,
   "id": "85e63b0c",
   "metadata": {},
   "outputs": [],
   "source": []
  },
  {
   "cell_type": "markdown",
   "id": "69968894",
   "metadata": {},
   "source": [
    "# Finance library"
   ]
  },
  {
   "cell_type": "code",
   "execution_count": 7,
   "id": "895d21fe",
   "metadata": {
    "ExecuteTime": {
     "end_time": "2022-09-03T01:20:34.021707Z",
     "start_time": "2022-09-03T01:20:33.430867Z"
    }
   },
   "outputs": [],
   "source": [
    "import yfinance as yf\n",
    "\n",
    "#define the ticker symbol\n",
    "tickerSymbol = 'MSFT'\n",
    "\n",
    "#get data on this ticker\n",
    "tickerData = yf.Ticker(tickerSymbol)\n",
    "\n",
    "#get the historical prices for this ticker\n",
    "df_MS = tickerData.history(period='1d', start='2000-1-1', end='2020-1-25')\n",
    "\n",
    "#see your data\n",
    "st.line_chart(df_MS.Close)\n",
    "st.line_chart(df_MS.Volume)"
   ]
  },
  {
   "cell_type": "code",
   "execution_count": null,
   "id": "188e3a8e",
   "metadata": {},
   "outputs": [],
   "source": []
  }
 ],
 "metadata": {
  "kernelspec": {
   "display_name": "sa_env",
   "language": "python",
   "name": "sa_env"
  },
  "language_info": {
   "codemirror_mode": {
    "name": "ipython",
    "version": 3
   },
   "file_extension": ".py",
   "mimetype": "text/x-python",
   "name": "python",
   "nbconvert_exporter": "python",
   "pygments_lexer": "ipython3",
   "version": "3.9.12"
  },
  "toc": {
   "base_numbering": 1,
   "nav_menu": {},
   "number_sections": true,
   "sideBar": true,
   "skip_h1_title": false,
   "title_cell": "Table of Contents",
   "title_sidebar": "Contents",
   "toc_cell": false,
   "toc_position": {
    "height": "calc(100% - 180px)",
    "left": "10px",
    "top": "150px",
    "width": "350px"
   },
   "toc_section_display": true,
   "toc_window_display": true
  },
  "varInspector": {
   "cols": {
    "lenName": 16,
    "lenType": 16,
    "lenVar": 40
   },
   "kernels_config": {
    "python": {
     "delete_cmd_postfix": "",
     "delete_cmd_prefix": "del ",
     "library": "var_list.py",
     "varRefreshCmd": "print(var_dic_list())"
    },
    "r": {
     "delete_cmd_postfix": ") ",
     "delete_cmd_prefix": "rm(",
     "library": "var_list.r",
     "varRefreshCmd": "cat(var_dic_list()) "
    }
   },
   "types_to_exclude": [
    "module",
    "function",
    "builtin_function_or_method",
    "instance",
    "_Feature"
   ],
   "window_display": false
  }
 },
 "nbformat": 4,
 "nbformat_minor": 5
}
