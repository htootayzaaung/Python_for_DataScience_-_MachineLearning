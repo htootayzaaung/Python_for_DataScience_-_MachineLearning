{
 "cells": [
  {
   "cell_type": "markdown",
   "id": "25febb8b",
   "metadata": {},
   "source": [
    "# Grade calculator\n",
    "\n",
    "         Marks                        Grade\n",
    "         > 90                           A\n",
    "         > 80 and <= 90                 B\n",
    "         >= 60 and <= 80                C\n",
    "         below 60                       D"
   ]
  },
  {
   "cell_type": "code",
   "execution_count": 1,
   "id": "6f9adf30",
   "metadata": {
    "ExecuteTime": {
     "end_time": "2022-06-26T01:43:27.579105Z",
     "start_time": "2022-06-26T01:43:24.858716Z"
    }
   },
   "outputs": [
    {
     "name": "stdout",
     "output_type": "stream",
     "text": [
      "Enter marks: 91\n",
      "A\n"
     ]
    }
   ],
   "source": [
    "per = int(input(\"Enter marks: \"))\n",
    "\n",
    "# write code below\n",
    "if (per > 90):\n",
    "    print(\"A\")\n",
    "elif (per > 80 and per <= 90):\n",
    "    print(\"B\")\n",
    "elif (per >= 60 and per <= 80):\n",
    "    print(\"C\")\n",
    "elif (per < 60):\n",
    "    print(\"D\")"
   ]
  },
  {
   "cell_type": "markdown",
   "id": "828908de",
   "metadata": {},
   "source": [
    "# Calculate the remaining age\n",
    "\n",
    "Create a program using maths and f-Strings that tells us how many days, weeks, months we have left if we live until 90 years old.\n",
    "\n",
    "It will take your current age as the input and output a message with our time left in this format:\n",
    "\n",
    "You have x days, y weeks, and z months left.\n",
    "\n",
    "Where x, y and z are replaced with the actual calculated numbers."
   ]
  },
  {
   "cell_type": "code",
   "execution_count": 14,
   "id": "4c38f6fa",
   "metadata": {},
   "outputs": [
    {
     "name": "stdout",
     "output_type": "stream",
     "text": [
      "What is your current age?20\n",
      "Days left: 25550\n",
      "Months left: 840\n",
      "Weeks left: 3640\n"
     ]
    }
   ],
   "source": [
    "age = int(input(\"What is your current age?\"))\n",
    "\n",
    "#Write your code below this line 👇\n",
    "\n",
    "daysLeft = (90 - age) * 365\n",
    "monthsLeft = (90 - age) * 12\n",
    "weeksLeft = (90 - age) * 52\n",
    "\n",
    "print(\"Days left: %d\" % daysLeft)\n",
    "print(\"Months left: %d\" % monthsLeft)\n",
    "print(\"Weeks left: %d\" % weeksLeft)"
   ]
  },
  {
   "cell_type": "markdown",
   "id": "fa45d51b",
   "metadata": {},
   "source": [
    "# String occurrence\n",
    "\n",
    "Write a program to find all occurrences of “USA” in a given string ignoring the case.\n",
    "\n",
    "Given \n",
    "\n",
    "```\n",
    "str1 = \"Welcome to USA. usa awesome, isn't it?\"\n",
    "```\n",
    "\n",
    "Expected Output\n",
    "\n",
    "```\n",
    "The USA count is: 2\n",
    "\n",
    "```"
   ]
  },
  {
   "cell_type": "code",
   "execution_count": 20,
   "id": "cf8f761e",
   "metadata": {},
   "outputs": [],
   "source": [
    "str1 = \"Welcome to USA. usa awesome, isn't it?\"\n",
    "\n",
    "str1Arr = str1.split(\" \")\n",
    "\n",
    "count = 0\n",
    "\n",
    "for i in range (len(str1Arr)):\n",
    "    for x in range(len(str1Arr[i])):\n",
    "        if ((str1Arr[i][x - 1] == \"U\" and str1Arr[i][x] == \"S\" and str1Arr[i][x + 1] == \"A\") or (str1Arr[i][x - 1] == \"u\" and str1Arr[i][x] == \"s\" and str1Arr[i][x + 1] == \"a\")):\n",
    "            count = count + 1\n",
    "\n",
    "print(\"The USA count is: %d\" % count)"
   ]
  },
  {
   "cell_type": "markdown",
   "id": "0045d16e",
   "metadata": {
    "ExecuteTime": {
     "end_time": "2022-06-24T04:08:21.536780Z",
     "start_time": "2022-06-24T04:08:21.532034Z"
    }
   },
   "source": [
    "# Leap Year\n",
    "\n",
    "Write a program that works out whether if a given year is a leap year. A normal year has 365 days, leap years have 366, with an extra day in February. The reason why we have leap years is really fascinating, this video does it more justice:\n",
    "\n",
    "This is how you work out whether if a particular year is a leap year.\n",
    "\n",
    "on every year that is evenly divisible by 4 \n",
    "\n",
    "except every year that is evenly divisible by 100 \n",
    "\n",
    "unless the year is also evenly divisible by 400\n",
    "\n",
    "e.g. The year 2000:\n",
    "\n",
    "2000 ÷ 4 = 500 (Leap)\n",
    "\n",
    "2000 ÷ 100 = 20 (Not Leap)\n",
    "\n",
    "2000 ÷ 400 = 5 (Leap!)\n",
    "\n",
    "So the year 2000 is a leap year.\n",
    "\n",
    "But the year 2100 is not a leap year because:\n",
    "\n",
    "2100 ÷ 4 = 525 (Leap)\n",
    "\n",
    "2100 ÷ 100 = 21 (Not Leap)\n",
    "\n",
    "2100 ÷ 400 = 5.25 (Not Leap)"
   ]
  },
  {
   "cell_type": "code",
   "execution_count": null,
   "id": "1d06f13d",
   "metadata": {
    "ExecuteTime": {
     "end_time": "2022-06-25T15:51:16.852979Z",
     "start_time": "2022-06-25T15:51:07.288279Z"
    },
    "scrolled": true
   },
   "outputs": [],
   "source": [
    "year = int(input(\"Which year do you want to check? \"))\n",
    "\n",
    "if (year % 4 == 0):\n",
    "    leapYear = True\n",
    "if ((year % 4 == 0) and (year % 100 == 0)):\n",
    "    leapYear = False\n",
    "if ((year % 4 == 0) and (year % 100 == 0) and (year % 400 == 0)):\n",
    "    leapYear = True\n",
    "\n",
    "if (leapYear == True):\n",
    "    print(\"Leap-year!\")\n",
    "else:\n",
    "    print(\"Not leap-year!\")\n"
   ]
  },
  {
   "cell_type": "markdown",
   "id": "7cc3cc69",
   "metadata": {},
   "source": [
    "# Pizza\n",
    "\n",
    "Your  job is to build an automatic pizza order program.\n",
    "\n",
    "Based on a user's order, work out their final bill.\n",
    "\n",
    "Small Pizza: $15\n",
    "\n",
    "Medium Pizza: $20\n",
    "\n",
    "Large Pizza: $25\n",
    "\n",
    "Pepperoni for Small Pizza: +$2\n",
    "\n",
    "Pepperoni for Medium or Large Pizza: +$3\n",
    "\n",
    "Extra cheese for any size pizza: + $1"
   ]
  },
  {
   "cell_type": "code",
   "execution_count": null,
   "id": "9e82b4be",
   "metadata": {
    "ExecuteTime": {
     "end_time": "2022-06-25T15:48:41.305464Z",
     "start_time": "2022-06-25T15:48:35.512687Z"
    }
   },
   "outputs": [],
   "source": [
    "print(\"Welcome to Python Pizza Deliveries!\")\n",
    "size = input(\"What size pizza do you want? S, M, or L \")\n",
    "add_pepperoni = input(\"Do you want pepperoni? Y or N \")\n",
    "extra_cheese = input(\"Do you want extra cheese? Y or N \")\n",
    "\n",
    "#Write your code below\n",
    "\n",
    "bill = 0\n",
    "\n",
    "if (size == \"S\"):\n",
    "    bill = bill + 15\n",
    "if (size == \"M\"):\n",
    "    bill = bill + 20\n",
    "if (size == \"L\"):\n",
    "    bill == bill + 25\n",
    "if (add_pepperoni == \"Y\" and size == \"S\"):\n",
    "    bill = bill + 2\n",
    "if ((add_pepperoni == \"Y\" and size == \"M\") or (add_pepperoni == \"Y\" and size == \"L\")):\n",
    "    bill = bill + 3\n",
    "if (extra_cheese == \"Y\"):\n",
    "    bill = bill + 1\n",
    "  \n",
    "print(f\"Your final bill is: ${bill}.\")"
   ]
  },
  {
   "cell_type": "markdown",
   "id": "68030207",
   "metadata": {},
   "source": [
    "# Love Calculator"
   ]
  },
  {
   "cell_type": "markdown",
   "id": "7b1fd9c2",
   "metadata": {},
   "source": [
    "You are going to write a program that tests the compatibility between two people.\n",
    "\n",
    "To work out the love score between two people:\n",
    "\n",
    "Take both people's names and check for the number of times the letters in the word TRUE occurs. \n",
    "\n",
    "Then check for the number of times the letters in the word LOVE occurs. \n",
    "\n",
    "Then combine these numbers to make a 2 digit number.\n",
    "\n",
    "For Love Scores less than 10 or greater than 90, the message should be:\n",
    "\n",
    "\"Your score is x, you go together like coke and mentos.\"\n",
    "For Love Scores between 40 and 50, the message should be:\n",
    "\n",
    "\"Your score is y, you are alright together.\"\n",
    "Otherwise, the message will just be their score. e.g.:\n",
    "\n",
    "\"Your score is z.\""
   ]
  },
  {
   "cell_type": "code",
   "execution_count": 26,
   "id": "58e37da3",
   "metadata": {},
   "outputs": [
    {
     "name": "stdout",
     "output_type": "stream",
     "text": [
      "Welcome to the Love Calculator!\n",
      "What is your name? \n",
      "Htoo Aung\n",
      "What is their name? \n",
      "Irene Khine\n",
      "Your score is 65.\n"
     ]
    }
   ],
   "source": [
    "print(\"Welcome to the Love Calculator!\")\n",
    "name1 = input(\"What is your name? \\n\")\n",
    "name2 = input(\"What is their name? \\n\")\n",
    "# write code below\n",
    "\n",
    "nameArray = [name1, name2]\n",
    "trueLower = \"true\"\n",
    "trueUpper = \"TRUE\"\n",
    "loveLower = \"love\"\n",
    "loveUpper = \"LOVE\"\n",
    "trueCount = 0\n",
    "loveCount = 0\n",
    "\n",
    "for i in range(2):\n",
    "    for x in range(len(nameArray[i])):\n",
    "        if (nameArray[i][x] == \"t\" or nameArray[i][x] == \"r\" or nameArray[i][x] == \"u\" or nameArray[i][x] == \"e\" or nameArray[i][x] == \"T\" or nameArray[i][x] == \"R\" or nameArray[i][x] == \"U\" or nameArray[i][x] == \"E\"):\n",
    "            trueCount += 1\n",
    "\n",
    "for i in range(2):\n",
    "    for x in range (len(nameArray[i])):\n",
    "        if (nameArray[i][x] == \"l\" or nameArray[i][x] == \"o\" or nameArray[i][x] == \"v\" or nameArray[i][x] == \"e\" or nameArray[i][x] == \"L\" or nameArray[i][x] == \"O\" or nameArray[i][x] == \"V\" or nameArray[i][x] == \"E\"):\n",
    "            loveCount += 1\n",
    "\n",
    "score = int(str(trueCount) + str(loveCount))\n",
    "\n",
    "if (score < 10 or score > 90):\n",
    "    print(f\"Your score is {score}, you go together like coke and mentos.\")\n",
    "if (score > 40 and score < 50):\n",
    "    print(f\"Your score is {score}, you are alright together.\")\n",
    "else:\n",
    "          print(f\"Your score is {score}.\")"
   ]
  },
  {
   "cell_type": "markdown",
   "id": "d3e2eadd",
   "metadata": {
    "ExecuteTime": {
     "end_time": "2022-06-24T16:20:03.267987Z",
     "start_time": "2022-06-24T16:20:03.264651Z"
    }
   },
   "source": [
    "# Head or tail\n",
    "You are going to write a virtual coin toss program. It will randomly tell the user \"Heads\" or \"Tails\".\n",
    "\n",
    "There are many ways of doing this. But to practice what we learnt in the last lesson, you should generate a random number, either 0 or 1. Then use that number to print out Heads or Tails.\n",
    "\n",
    "e.g. 1 means Heads 0 means Tails\n",
    "\n",
    "Example Output\n",
    "\n",
    "Heads\n",
    "\n",
    "or\n",
    "\n",
    "Tails"
   ]
  },
  {
   "cell_type": "code",
   "execution_count": 1,
   "id": "1bc046ad",
   "metadata": {
    "ExecuteTime": {
     "end_time": "2022-06-26T01:53:06.397261Z",
     "start_time": "2022-06-26T01:53:06.389365Z"
    }
   },
   "outputs": [],
   "source": [
    "import random\n",
    "\n",
    "# Write code below\n",
    "n = random.randint(0, 1)\n",
    "\n",
    "if (n == 0):\n",
    "    print(\"Tails\")\n",
    "else:\n",
    "    print(\"Heads\")"
   ]
  },
  {
   "cell_type": "markdown",
   "id": "24c0150b",
   "metadata": {},
   "source": [
    "# Simple list problem\n",
    "\n",
    "You have given a Python list. Write a program to find value 20 in the list, and if it is present, replace it with 200. Only update the first occurrence of an item.\n",
    "\n",
    "```\n",
    "Given list : [5, 10, 15, 20, 25, 50, 20]\n",
    "\n",
    "Expected Output :\n",
    "[5, 10, 15, 200, 25, 50, 20]\n",
    "\n",
    "\n",
    "```"
   ]
  },
  {
   "cell_type": "code",
   "execution_count": 21,
   "id": "ff610f92",
   "metadata": {
    "ExecuteTime": {
     "end_time": "2022-06-26T01:42:54.577268Z",
     "start_time": "2022-06-26T01:42:54.574648Z"
    }
   },
   "outputs": [
    {
     "name": "stdout",
     "output_type": "stream",
     "text": [
      "[5, 10, 15, 200, 25, 50, 20]\n"
     ]
    }
   ],
   "source": [
    "list1 = [5, 10, 15, 20, 25, 50, 20]\n",
    "# write code below\n",
    "\n",
    "list1 = [5, 10, 15, 20, 25, 50, 20]\n",
    "\n",
    "for i in range(len(list1)):\n",
    "    if (list1[i] == 20):\n",
    "        list1[i] = 200\n",
    "        break\n",
    "        \n",
    "print(list1)"
   ]
  }
 ],
 "metadata": {
  "kernelspec": {
   "display_name": "Python 3 (ipykernel)",
   "language": "python",
   "name": "python3"
  },
  "language_info": {
   "codemirror_mode": {
    "name": "ipython",
    "version": 3
   },
   "file_extension": ".py",
   "mimetype": "text/x-python",
   "name": "python",
   "nbconvert_exporter": "python",
   "pygments_lexer": "ipython3",
   "version": "3.9.12"
  },
  "toc": {
   "base_numbering": 1,
   "nav_menu": {},
   "number_sections": true,
   "sideBar": true,
   "skip_h1_title": false,
   "title_cell": "Table of Contents",
   "title_sidebar": "Contents",
   "toc_cell": false,
   "toc_position": {
    "height": "calc(100% - 180px)",
    "left": "10px",
    "top": "150px",
    "width": "320px"
   },
   "toc_section_display": true,
   "toc_window_display": true
  }
 },
 "nbformat": 4,
 "nbformat_minor": 5
}
