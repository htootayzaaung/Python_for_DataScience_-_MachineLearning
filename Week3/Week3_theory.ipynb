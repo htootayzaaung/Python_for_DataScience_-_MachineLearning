{
 "cells": [
  {
   "cell_type": "markdown",
   "id": "89f72ebf",
   "metadata": {},
   "source": [
    "# Nested loop"
   ]
  },
  {
   "cell_type": "code",
   "execution_count": 1,
   "id": "1bdb82de",
   "metadata": {
    "ExecuteTime": {
     "end_time": "2022-07-15T13:27:23.740232Z",
     "start_time": "2022-07-15T13:27:23.720294Z"
    }
   },
   "outputs": [
    {
     "name": "stdout",
     "output_type": "stream",
     "text": [
      "outside loop 0\n",
      "inside loop 0\n",
      "inside loop 1\n",
      "inside loop 2\n",
      "inside loop 3\n",
      "inside loop 4\n",
      "=======================\n",
      "outside loop 1\n",
      "inside loop 0\n",
      "inside loop 1\n",
      "inside loop 2\n",
      "inside loop 3\n",
      "inside loop 4\n",
      "=======================\n",
      "outside loop 2\n",
      "inside loop 0\n",
      "inside loop 1\n",
      "inside loop 2\n",
      "inside loop 3\n",
      "inside loop 4\n",
      "=======================\n",
      "outside loop 3\n",
      "inside loop 0\n",
      "inside loop 1\n",
      "inside loop 2\n",
      "inside loop 3\n",
      "inside loop 4\n",
      "=======================\n",
      "outside loop 4\n",
      "inside loop 0\n",
      "inside loop 1\n",
      "inside loop 2\n",
      "inside loop 3\n",
      "inside loop 4\n",
      "=======================\n"
     ]
    }
   ],
   "source": [
    "#outer loop\n",
    "for i in range(0,5):\n",
    "    print(f\"outside loop {i}\")\n",
    "    #inner loop\n",
    "    for j in range(0,5):\n",
    "        print(f\"inside loop {j}\")\n",
    "    print(\"=======================\")"
   ]
  },
  {
   "cell_type": "code",
   "execution_count": 5,
   "id": "aaba618a",
   "metadata": {
    "ExecuteTime": {
     "end_time": "2022-07-14T07:18:29.570423Z",
     "start_time": "2022-07-14T07:18:29.556150Z"
    }
   },
   "outputs": [
    {
     "name": "stdout",
     "output_type": "stream",
     "text": [
      "1|2|3|4|5|6|7|8|9|10|\n",
      "\n",
      "2|4|6|8|10|12|14|16|18|20|\n",
      "\n",
      "3|6|9|12|15|18|21|24|27|30|\n",
      "\n",
      "4|8|12|16|20|24|28|32|36|40|\n",
      "\n",
      "5|10|15|20|25|30|35|40|45|50|\n",
      "\n",
      "6|12|18|24|30|36|42|48|54|60|\n",
      "\n",
      "7|14|21|28|35|42|49|56|63|70|\n",
      "\n",
      "8|16|24|32|40|48|56|64|72|80|\n",
      "\n",
      "9|18|27|36|45|54|63|72|81|90|\n",
      "\n",
      "10|20|30|40|50|60|70|80|90|100|\n",
      "\n"
     ]
    }
   ],
   "source": [
    "# outer loop\n",
    "for i in range(1, 11):\n",
    "    # nested loop\n",
    "    # to iterate from 1 to 10\n",
    "    for j in range(1, 11):\n",
    "        # print multiplication\n",
    "        print(i * j, end='|')\n",
    "    print('\\n')"
   ]
  },
  {
   "cell_type": "code",
   "execution_count": 8,
   "id": "0e2b5b88",
   "metadata": {
    "ExecuteTime": {
     "end_time": "2022-07-15T09:29:13.962264Z",
     "start_time": "2022-07-15T09:29:13.955037Z"
    }
   },
   "outputs": [
    {
     "name": "stdout",
     "output_type": "stream",
     "text": [
      "Kelly Kelly Kelly Kelly Kelly \n",
      "Jessa Jessa Jessa Jessa Jessa \n",
      "Emma Emma Emma Emma Emma \n"
     ]
    }
   ],
   "source": [
    "names = ['Kelly', 'Jessa', 'Emma']\n",
    "# outer loop\n",
    "for name in names:\n",
    "    # inner while loop\n",
    "    count = 0\n",
    "    while count < 5:\n",
    "        print(name, end=' ')\n",
    "        # increment counter\n",
    "        count = count + 1\n",
    "    print()"
   ]
  },
  {
   "cell_type": "code",
   "execution_count": null,
   "id": "0e485e13",
   "metadata": {},
   "outputs": [],
   "source": [
    "## while while"
   ]
  },
  {
   "cell_type": "code",
   "execution_count": null,
   "id": "9dd60860",
   "metadata": {},
   "outputs": [],
   "source": []
  },
  {
   "cell_type": "markdown",
   "id": "985e4537",
   "metadata": {},
   "source": [
    "# Debugging (Error Tracing)"
   ]
  },
  {
   "cell_type": "code",
   "execution_count": 3,
   "id": "0eb40fe5",
   "metadata": {
    "ExecuteTime": {
     "end_time": "2022-07-15T13:31:23.154223Z",
     "start_time": "2022-07-15T13:31:23.150158Z"
    }
   },
   "outputs": [
    {
     "name": "stdout",
     "output_type": "stream",
     "text": [
      "❹\n"
     ]
    }
   ],
   "source": [
    "# Reproduce the Bug\n",
    "from random import randint\n",
    "dice_imgs = [\"❶\", \"❷\", \"❸\", \"❹\", \"❺\", \"❻\"]\n",
    "dice_num = randint(1, 6)\n",
    "print(dice_imgs[dice_num])"
   ]
  },
  {
   "cell_type": "code",
   "execution_count": null,
   "id": "ecd06e26",
   "metadata": {
    "ExecuteTime": {
     "start_time": "2022-07-15T13:31:23.752Z"
    }
   },
   "outputs": [],
   "source": [
    "## with print\n",
    "pages = 0\n",
    "word_per_page = 0\n",
    "pages = int(input(\"Number of pages: \"))\n",
    "word_per_page == int(input(\"Number of words per page: \"))\n",
    "total_words = pages * word_per_page\n",
    "print(total_words)"
   ]
  },
  {
   "cell_type": "code",
   "execution_count": 1,
   "id": "fc0867b5",
   "metadata": {
    "ExecuteTime": {
     "end_time": "2022-07-15T05:20:24.274938Z",
     "start_time": "2022-07-15T05:20:24.220950Z"
    }
   },
   "outputs": [],
   "source": [
    "# Use a Debugger\n",
    "\n",
    "# pythontutor.com\n",
    "# thony IDE"
   ]
  },
  {
   "cell_type": "code",
   "execution_count": null,
   "id": "8af70005",
   "metadata": {},
   "outputs": [],
   "source": [
    "def mutate(a_list):\n",
    "    b_list = []\n",
    "    for item in a_list:\n",
    "        new_item = item * 2\n",
    "    b_list.append(new_item)\n",
    "    print(b_list)\n",
    "    \n",
    "mutate([1,2,3,5,8,13])"
   ]
  },
  {
   "cell_type": "code",
   "execution_count": null,
   "id": "066c98d0",
   "metadata": {},
   "outputs": [],
   "source": []
  },
  {
   "cell_type": "markdown",
   "id": "6212cb26",
   "metadata": {},
   "source": [
    "# Exception Handling"
   ]
  },
  {
   "cell_type": "markdown",
   "id": "5288f97c",
   "metadata": {},
   "source": [
    "In Python, exceptions can be handled using a try statement.\n",
    "\n",
    "The critical operation which can raise an exception is placed inside the try clause. The code that handles the exceptions is written in the except clause.\n",
    "\n",
    "We can thus choose what operations to perform once we have caught the exception."
   ]
  },
  {
   "cell_type": "code",
   "execution_count": 2,
   "id": "bd377082",
   "metadata": {
    "ExecuteTime": {
     "end_time": "2022-07-15T05:21:12.541569Z",
     "start_time": "2022-07-15T05:21:12.514435Z"
    }
   },
   "outputs": [
    {
     "name": "stdout",
     "output_type": "stream",
     "text": [
      "The entry is a\n",
      "Oops! <class 'ValueError'> occurred.\n",
      "Next entry.\n",
      "\n",
      "The entry is 0\n",
      "Oops! <class 'ZeroDivisionError'> occurred.\n",
      "Next entry.\n",
      "\n",
      "The entry is 2\n",
      "The reciprocal of 2 is 0.5\n"
     ]
    }
   ],
   "source": [
    "# import module sys to get the type of exception\n",
    "import sys\n",
    "\n",
    "randomList = ['a', 0, 2]\n",
    "\n",
    "for entry in randomList:\n",
    "    try:\n",
    "        print(\"The entry is\", entry)\n",
    "        r = 1/int(entry)\n",
    "        break\n",
    "    except:\n",
    "        print(\"Oops!\", sys.exc_info()[0], \"occurred.\")\n",
    "        print(\"Next entry.\")\n",
    "        print()\n",
    "print(\"The reciprocal of\", entry, \"is\", r)"
   ]
  },
  {
   "cell_type": "markdown",
   "id": "97e78a76",
   "metadata": {},
   "source": [
    "Since every exception in Python inherits from the base Exception class, we can also perform the above task in the following way:"
   ]
  },
  {
   "cell_type": "code",
   "execution_count": 3,
   "id": "34d42d5d",
   "metadata": {
    "ExecuteTime": {
     "end_time": "2022-07-15T05:21:27.533962Z",
     "start_time": "2022-07-15T05:21:27.524809Z"
    }
   },
   "outputs": [
    {
     "name": "stdout",
     "output_type": "stream",
     "text": [
      "The entry is a\n",
      "Oops! <class 'ValueError'> occurred.\n",
      "Next entry.\n",
      "\n",
      "The entry is 0\n",
      "Oops! <class 'ZeroDivisionError'> occurred.\n",
      "Next entry.\n",
      "\n",
      "The entry is 2\n",
      "The reciprocal of 2 is 0.5\n"
     ]
    }
   ],
   "source": [
    "# import module sys to get the type of exception\n",
    "import sys\n",
    "\n",
    "randomList = ['a', 0, 2]\n",
    "\n",
    "for entry in randomList:\n",
    "    try:\n",
    "        print(\"The entry is\", entry)\n",
    "        r = 1/int(entry)\n",
    "        break\n",
    "    except Exception as e:\n",
    "        print(\"Oops!\", e.__class__, \"occurred.\")\n",
    "        print(\"Next entry.\")\n",
    "        print()\n",
    "print(\"The reciprocal of\", entry, \"is\", r)"
   ]
  },
  {
   "cell_type": "code",
   "execution_count": null,
   "id": "6c17fb42",
   "metadata": {},
   "outputs": [],
   "source": []
  },
  {
   "cell_type": "markdown",
   "id": "f840ef7d",
   "metadata": {},
   "source": [
    "## Catching Specific Exceptions\n",
    "\n",
    "```\n",
    "try:\n",
    "   # do something\n",
    "   pass\n",
    "\n",
    "except ValueError:\n",
    "   # handle ValueError exception\n",
    "   pass\n",
    "\n",
    "except (TypeError, ZeroDivisionError):\n",
    "   # handle multiple exceptions\n",
    "   # TypeError and ZeroDivisionError\n",
    "    pass\n",
    "\n",
    "except:\n",
    "   # handle all other exceptions\n",
    "   pass\n",
    "```"
   ]
  },
  {
   "cell_type": "markdown",
   "id": "8cd304c1",
   "metadata": {},
   "source": [
    "## Raising Exceptions"
   ]
  },
  {
   "cell_type": "code",
   "execution_count": 5,
   "id": "d1c8ee26",
   "metadata": {
    "ExecuteTime": {
     "end_time": "2022-07-15T06:48:16.045413Z",
     "start_time": "2022-07-15T06:48:13.081483Z"
    }
   },
   "outputs": [
    {
     "name": "stdout",
     "output_type": "stream",
     "text": [
      "Enter a positive integer: -9\n",
      "That is not a positive number!\n"
     ]
    }
   ],
   "source": [
    "try:\n",
    "    a = int(input(\"Enter a positive integer: \"))\n",
    "    if a <= 0:\n",
    "        raise ValueError(\"That is not a positive number!\")\n",
    "except ValueError as ve:\n",
    "        print(ve)"
   ]
  },
  {
   "cell_type": "code",
   "execution_count": null,
   "id": "06f09f4c",
   "metadata": {},
   "outputs": [],
   "source": []
  },
  {
   "cell_type": "markdown",
   "id": "db7d71e4",
   "metadata": {},
   "source": [
    "## try with else clause\n",
    "\n",
    "\n",
    "In some situations, you might want to run a certain block of code if the code block inside try ran without any errors. For these cases, you can use the optional else keyword with the try statement.\n",
    "\n",
    "**Note:** Exceptions in the else clause are not handled by the preceding except clauses.\n"
   ]
  },
  {
   "cell_type": "code",
   "execution_count": null,
   "id": "81acde05",
   "metadata": {},
   "outputs": [],
   "source": [
    "# program to print the reciprocal of even numbers\n",
    "\n",
    "try:\n",
    "    num = int(input(\"Enter a number: \"))\n",
    "    assert num % 2 == 0\n",
    "except:\n",
    "    print(\"Not an even number!\")\n",
    "else:\n",
    "    reciprocal = 1/num\n",
    "    print(\"Reciprocal \",reciprocal)\n",
    "    \n",
    "    \n",
    "# input 1, 4, 0"
   ]
  },
  {
   "cell_type": "markdown",
   "id": "31348bfc",
   "metadata": {},
   "source": [
    "## try...finally\n",
    "\n",
    "The try statement in Python can have an optional finally clause. This clause is executed no matter what, and is generally used to release external resources."
   ]
  },
  {
   "cell_type": "code",
   "execution_count": null,
   "id": "0ed0841d",
   "metadata": {},
   "outputs": [],
   "source": [
    "try:\n",
    "   f = open(\"test.txt\",encoding = 'utf-8')\n",
    "   # perform file operations\n",
    "finally:\n",
    "   f.close()"
   ]
  },
  {
   "cell_type": "markdown",
   "id": "0f79a3eb",
   "metadata": {},
   "source": [
    "## Custom Exceptions"
   ]
  },
  {
   "cell_type": "code",
   "execution_count": 6,
   "id": "64afafd4",
   "metadata": {
    "ExecuteTime": {
     "end_time": "2022-07-15T06:49:29.265635Z",
     "start_time": "2022-07-15T06:49:23.769164Z"
    }
   },
   "outputs": [
    {
     "name": "stdout",
     "output_type": "stream",
     "text": [
      "Enter a number: 5\n",
      "This value is too small, try again!\n",
      "\n",
      "Enter a number: 10\n",
      "Congratulations! You guessed it correctly.\n"
     ]
    }
   ],
   "source": [
    "# define Python user-defined exceptions\n",
    "class Error(Exception):\n",
    "    \"\"\"Base class for other exceptions\"\"\"\n",
    "    pass\n",
    "\n",
    "\n",
    "class ValueTooSmallError(Error):\n",
    "    \"\"\"Raised when the input value is too small\"\"\"\n",
    "    pass\n",
    "\n",
    "\n",
    "class ValueTooLargeError(Error):\n",
    "    \"\"\"Raised when the input value is too large\"\"\"\n",
    "    pass\n",
    "\n",
    "\n",
    "# you need to guess this number\n",
    "number = 10\n",
    "\n",
    "# user guesses a number until he/she gets it right\n",
    "while True:\n",
    "    try:\n",
    "        i_num = int(input(\"Enter a number: \"))\n",
    "        if i_num < number:\n",
    "            raise ValueTooSmallError\n",
    "        elif i_num > number:\n",
    "            raise ValueTooLargeError\n",
    "        break\n",
    "    except ValueTooSmallError:\n",
    "        print(\"This value is too small, try again!\")\n",
    "        print()\n",
    "    except ValueTooLargeError:\n",
    "        print(\"This value is too large, try again!\")\n",
    "        print()\n",
    "\n",
    "print(\"Congratulations! You guessed it correctly.\")"
   ]
  },
  {
   "cell_type": "markdown",
   "id": "04b141ab",
   "metadata": {},
   "source": [
    "## Customizing Exception Classes using OOP"
   ]
  },
  {
   "cell_type": "code",
   "execution_count": null,
   "id": "3a0d8a37",
   "metadata": {},
   "outputs": [],
   "source": [
    "class SalaryNotInRangeError(Exception):\n",
    "    \"\"\"Exception raised for errors in the input salary.\n",
    "\n",
    "    Attributes:\n",
    "        salary -- input salary which caused the error\n",
    "        message -- explanation of the error\n",
    "    \"\"\"\n",
    "\n",
    "    def __init__(self, salary, message=\"Salary is not in (5000, 15000) range\"):\n",
    "        self.salary = salary\n",
    "        self.message = message\n",
    "        super().__init__(self.message)\n",
    "\n",
    "\n",
    "salary = int(input(\"Enter salary amount: \"))\n",
    "if not 5000 < salary < 15000:\n",
    "    raise SalaryNotInRangeError(salary)"
   ]
  },
  {
   "cell_type": "code",
   "execution_count": null,
   "id": "ca4cb5b7",
   "metadata": {},
   "outputs": [],
   "source": []
  },
  {
   "cell_type": "code",
   "execution_count": null,
   "id": "b7781fad",
   "metadata": {},
   "outputs": [],
   "source": [
    "class SalaryNotInRangeError(Exception):\n",
    "    \"\"\"Exception raised for errors in the input salary.\n",
    "\n",
    "    Attributes:\n",
    "        salary -- input salary which caused the error\n",
    "        message -- explanation of the error\n",
    "    \"\"\"\n",
    "\n",
    "    def __init__(self, salary, message=\"Salary is not in (5000, 15000) range\"):\n",
    "        self.salary = salary\n",
    "        self.message = message\n",
    "        super().__init__(self.message)\n",
    "\n",
    "    def __str__(self):\n",
    "        return f'{self.salary} -> {self.message}'\n",
    "\n",
    "\n",
    "salary = int(input(\"Enter salary amount: \"))\n",
    "if not 5000 < salary < 15000:\n",
    "    raise SalaryNotInRangeError(salary)"
   ]
  },
  {
   "cell_type": "code",
   "execution_count": null,
   "id": "7d9d2b62",
   "metadata": {},
   "outputs": [],
   "source": []
  },
  {
   "cell_type": "code",
   "execution_count": null,
   "id": "bab6ea3a",
   "metadata": {},
   "outputs": [],
   "source": []
  },
  {
   "cell_type": "code",
   "execution_count": null,
   "id": "7bd866c5",
   "metadata": {},
   "outputs": [],
   "source": []
  },
  {
   "cell_type": "markdown",
   "id": "7b8fbca5",
   "metadata": {},
   "source": [
    "# List comprehension"
   ]
  },
  {
   "cell_type": "markdown",
   "id": "2e6a4fa3",
   "metadata": {},
   "source": [
    "## with if"
   ]
  },
  {
   "cell_type": "code",
   "execution_count": 24,
   "id": "0205d57b",
   "metadata": {
    "ExecuteTime": {
     "end_time": "2022-07-14T07:34:58.559433Z",
     "start_time": "2022-07-14T07:34:58.556529Z"
    }
   },
   "outputs": [],
   "source": [
    "numbers = [1, 2, 3, 4, 5]\n",
    "\n",
    "doubled_odds = []\n",
    "for n in numbers:\n",
    "    if n % 2 == 1:\n",
    "        doubled_odds.append(n * 2)"
   ]
  },
  {
   "cell_type": "code",
   "execution_count": 23,
   "id": "d432f337",
   "metadata": {
    "ExecuteTime": {
     "end_time": "2022-07-14T07:34:37.077190Z",
     "start_time": "2022-07-14T07:34:37.074710Z"
    }
   },
   "outputs": [
    {
     "data": {
      "text/plain": [
       "[2, 6, 10]"
      ]
     },
     "execution_count": 23,
     "metadata": {},
     "output_type": "execute_result"
    }
   ],
   "source": [
    "doubled_odds"
   ]
  },
  {
   "cell_type": "code",
   "execution_count": 20,
   "id": "e9e58154",
   "metadata": {
    "ExecuteTime": {
     "end_time": "2022-07-14T07:34:10.366650Z",
     "start_time": "2022-07-14T07:34:10.363910Z"
    }
   },
   "outputs": [],
   "source": [
    "doubled_odds_with_list_comprehension = [n * 2 for n in numbers if n % 2 == 1]"
   ]
  },
  {
   "cell_type": "code",
   "execution_count": 21,
   "id": "45d0c889",
   "metadata": {
    "ExecuteTime": {
     "end_time": "2022-07-14T07:34:14.725565Z",
     "start_time": "2022-07-14T07:34:14.722957Z"
    }
   },
   "outputs": [
    {
     "data": {
      "text/plain": [
       "[2, 6, 10]"
      ]
     },
     "execution_count": 21,
     "metadata": {},
     "output_type": "execute_result"
    }
   ],
   "source": [
    "doubled_odds_with_list_comprehension"
   ]
  },
  {
   "cell_type": "code",
   "execution_count": null,
   "id": "a779c2a8",
   "metadata": {},
   "outputs": [],
   "source": []
  },
  {
   "cell_type": "code",
   "execution_count": 28,
   "id": "3a30233e",
   "metadata": {
    "ExecuteTime": {
     "end_time": "2022-07-14T09:17:39.480615Z",
     "start_time": "2022-07-14T09:17:39.473991Z"
    }
   },
   "outputs": [
    {
     "name": "stdout",
     "output_type": "stream",
     "text": [
      "[8, 16, 24]\n"
     ]
    }
   ],
   "source": [
    "num = [i for i in range(30) if i>=2 and i<=25 and i%4==0 and i%8==0]\n",
    "print(num)"
   ]
  },
  {
   "cell_type": "markdown",
   "id": "19dbf9ac",
   "metadata": {},
   "source": [
    "## if else"
   ]
  },
  {
   "cell_type": "markdown",
   "id": "ec9a0d02",
   "metadata": {},
   "source": [
    "#syntax\n",
    "```\n",
    "[<Exp1> if condition else <Exp2> for <item> in <iterable>]\n",
    "```"
   ]
  },
  {
   "cell_type": "code",
   "execution_count": 31,
   "id": "70a93f4f",
   "metadata": {
    "ExecuteTime": {
     "end_time": "2022-07-14T09:20:37.681677Z",
     "start_time": "2022-07-14T09:20:37.678830Z"
    }
   },
   "outputs": [],
   "source": [
    "new_list = ['even' if x % 2 == 0 else 'odd' for x in range(1, 10)]"
   ]
  },
  {
   "cell_type": "code",
   "execution_count": 32,
   "id": "b628ccc2",
   "metadata": {
    "ExecuteTime": {
     "end_time": "2022-07-14T09:20:38.374794Z",
     "start_time": "2022-07-14T09:20:38.369173Z"
    }
   },
   "outputs": [
    {
     "data": {
      "text/plain": [
       "['odd', 'even', 'odd', 'even', 'odd', 'even', 'odd', 'even', 'odd']"
      ]
     },
     "execution_count": 32,
     "metadata": {},
     "output_type": "execute_result"
    }
   ],
   "source": [
    "new_list"
   ]
  },
  {
   "cell_type": "code",
   "execution_count": null,
   "id": "c9e0917a",
   "metadata": {},
   "outputs": [],
   "source": []
  },
  {
   "cell_type": "code",
   "execution_count": null,
   "id": "da73ce3e",
   "metadata": {},
   "outputs": [],
   "source": []
  },
  {
   "cell_type": "markdown",
   "id": "37a37702",
   "metadata": {},
   "source": [
    "## two for loops"
   ]
  },
  {
   "cell_type": "code",
   "execution_count": null,
   "id": "18c4111b",
   "metadata": {},
   "outputs": [],
   "source": [
    "for j in s1:\n",
    "    for k in s2:\n",
    "        print(j, k)\n",
    "        \n",
    "# lst = [\n",
    "#        j + k         # result\n",
    "#        for j in s1   # for loop \n",
    "#          for k in s2 # for loop\n",
    "#                      # condition   \n",
    "#        ]"
   ]
  },
  {
   "cell_type": "code",
   "execution_count": null,
   "id": "709aedda",
   "metadata": {},
   "outputs": [],
   "source": []
  },
  {
   "cell_type": "code",
   "execution_count": null,
   "id": "8ee7da7a",
   "metadata": {},
   "outputs": [],
   "source": []
  },
  {
   "cell_type": "code",
   "execution_count": null,
   "id": "427c167e",
   "metadata": {},
   "outputs": [],
   "source": []
  },
  {
   "cell_type": "markdown",
   "id": "bc79266f",
   "metadata": {},
   "source": [
    "# Name Space: Local and Global Scope"
   ]
  },
  {
   "cell_type": "markdown",
   "id": "54a5cb23",
   "metadata": {},
   "source": [
    "A name or identifier is the name given to objects when we create objects in python.\n",
    "The name is simply the variable name that we use in our programs. In python, we can declare variable names and assign them to the objects as follows."
   ]
  },
  {
   "cell_type": "code",
   "execution_count": 1,
   "id": "8dff838f",
   "metadata": {
    "ExecuteTime": {
     "end_time": "2022-07-13T13:15:25.805355Z",
     "start_time": "2022-07-13T13:15:25.798300Z"
    }
   },
   "outputs": [],
   "source": [
    "myInt = 1117\n",
    "myString = \"PythonForBeginners\""
   ]
  },
  {
   "cell_type": "markdown",
   "id": "ee37e40e",
   "metadata": {
    "ExecuteTime": {
     "end_time": "2022-07-14T07:07:11.440666Z",
     "start_time": "2022-07-14T07:07:11.430329Z"
    }
   },
   "source": [
    "<img src=\"resource/types_namespace-1.png\" width=500></img>"
   ]
  },
  {
   "cell_type": "markdown",
   "id": "5205fc1c",
   "metadata": {},
   "source": [
    "## Built-in name space"
   ]
  },
  {
   "cell_type": "markdown",
   "id": "f7fc680a",
   "metadata": {},
   "source": [
    "- A built-in namespace contains the names of built-in functions and objects. \n",
    "- It is created while starting the python interpreter, exists as long as the interpreter runs, and is destroyed when we close the interpreter. \n",
    "- It contains the names of built-in data types,exceptions and functions like print() and input(). "
   ]
  },
  {
   "cell_type": "code",
   "execution_count": 2,
   "id": "e7cc3b27",
   "metadata": {
    "ExecuteTime": {
     "end_time": "2022-07-13T11:25:00.612842Z",
     "start_time": "2022-07-13T11:25:00.608807Z"
    }
   },
   "outputs": [],
   "source": [
    "builtin_names = dir(__builtins__)\n",
    "# for name in builtin_names:\n",
    "#     print(name)"
   ]
  },
  {
   "cell_type": "code",
   "execution_count": 3,
   "id": "fe29d31f",
   "metadata": {
    "ExecuteTime": {
     "end_time": "2022-07-13T11:25:05.983016Z",
     "start_time": "2022-07-13T11:25:05.968046Z"
    }
   },
   "outputs": [
    {
     "data": {
      "text/plain": [
       "['ArithmeticError', 'AssertionError', 'AttributeError', 'BaseException']"
      ]
     },
     "execution_count": 3,
     "metadata": {},
     "output_type": "execute_result"
    }
   ],
   "source": [
    "builtin_names[0:4]"
   ]
  },
  {
   "cell_type": "code",
   "execution_count": 4,
   "id": "2ab5813c",
   "metadata": {
    "ExecuteTime": {
     "end_time": "2022-07-13T11:25:13.419685Z",
     "start_time": "2022-07-13T11:25:13.413970Z"
    }
   },
   "outputs": [
    {
     "data": {
      "text/plain": [
       "list"
      ]
     },
     "execution_count": 4,
     "metadata": {},
     "output_type": "execute_result"
    }
   ],
   "source": [
    "type(builtin_names)"
   ]
  },
  {
   "cell_type": "code",
   "execution_count": null,
   "id": "1906e325",
   "metadata": {},
   "outputs": [],
   "source": [
    "apple = 5\n",
    "oranges = 9\n",
    "def add_apple():\n",
    "    apple = 3\n",
    "    print(f\"apple inside function: {apple}\")\n",
    "    \n",
    "add_apple()\n",
    "print(f\"apple outside function: {apple}\")"
   ]
  },
  {
   "cell_type": "markdown",
   "id": "6b8761d1",
   "metadata": {},
   "source": [
    "## Global namespace\n",
    "- Global namespaces are defined at the program or module level. \n",
    "- It contains the names of objects defined in a module or the main program. \n",
    "- A global namespace is created when the program starts and exists until the program is terminated by the python interpreter."
   ]
  },
  {
   "cell_type": "code",
   "execution_count": null,
   "id": "14f082eb",
   "metadata": {},
   "outputs": [],
   "source": [
    "myNum1 = 10\n",
    "myNum2 = 10\n",
    "\n",
    "\n",
    "def add(num1, num2):\n",
    "    temp = num1 + num2\n",
    "    return temp"
   ]
  },
  {
   "cell_type": "code",
   "execution_count": 1,
   "id": "700d0966",
   "metadata": {
    "ExecuteTime": {
     "end_time": "2022-07-17T00:49:28.325958Z",
     "start_time": "2022-07-17T00:49:28.311804Z"
    }
   },
   "outputs": [
    {
     "name": "stdout",
     "output_type": "stream",
     "text": [
      "0\n",
      "1\n",
      "2\n",
      "3\n",
      "4\n",
      "5\n",
      "6\n",
      "7\n",
      "8\n",
      "9\n",
      "10\n",
      "10\n"
     ]
    }
   ],
   "source": [
    "for i in range(11):\n",
    "    print(i)\n",
    "    \n",
    "print(i)"
   ]
  },
  {
   "cell_type": "markdown",
   "id": "912f2331",
   "metadata": {},
   "source": [
    "In the example above, myNum1 and myNum2 are in the global namespace of the program."
   ]
  },
  {
   "cell_type": "markdown",
   "id": "27e19964",
   "metadata": {},
   "source": [
    "## Local namespace"
   ]
  },
  {
   "cell_type": "markdown",
   "id": "99e677d1",
   "metadata": {},
   "source": [
    "- A local namespace is defined for a class, a function, a loop, or any block of code. \n",
    "- The names defined in a block of code or a function are local to it. \n",
    "- **The variable names cannot be accessed outside the block of code or the function in which they are defined.**\n",
    "- The local namespace is created when the block of code or the function starts executing and terminates when the function or the block of code terminates. "
   ]
  },
  {
   "cell_type": "code",
   "execution_count": null,
   "id": "49a20531",
   "metadata": {},
   "outputs": [],
   "source": [
    "myNum1 = 10\n",
    "myNum2 = 10\n",
    "\n",
    "\n",
    "def add(num1, num2):\n",
    "    temp = num1 + num2\n",
    "    return temp"
   ]
  },
  {
   "cell_type": "markdown",
   "id": "3f6e0222",
   "metadata": {},
   "source": [
    "The variable names num1, num2 and temp are defined in the local namespace in the function add."
   ]
  },
  {
   "cell_type": "code",
   "execution_count": 8,
   "id": "6965a50b",
   "metadata": {
    "ExecuteTime": {
     "end_time": "2022-07-14T04:59:57.340061Z",
     "start_time": "2022-07-14T04:59:57.336760Z"
    }
   },
   "outputs": [],
   "source": [
    "def local_scope_example():\n",
    "    houses = 5\n",
    "    print(houses)"
   ]
  },
  {
   "cell_type": "code",
   "execution_count": 9,
   "id": "74341b43",
   "metadata": {
    "ExecuteTime": {
     "end_time": "2022-07-14T05:00:04.153927Z",
     "start_time": "2022-07-14T05:00:04.151278Z"
    }
   },
   "outputs": [
    {
     "name": "stdout",
     "output_type": "stream",
     "text": [
      "5\n"
     ]
    }
   ],
   "source": [
    "local_scope_example()\n",
    "# cannot access the variable outside the function because it \n",
    "# has local scope\n",
    "print(houses)"
   ]
  },
  {
   "cell_type": "code",
   "execution_count": null,
   "id": "c2a57e55",
   "metadata": {},
   "outputs": [],
   "source": [
    "# the difference between local scope and global scope is where you\n",
    "# create your variables of functions"
   ]
  },
  {
   "cell_type": "code",
   "execution_count": 14,
   "id": "b922156c",
   "metadata": {
    "ExecuteTime": {
     "end_time": "2022-07-14T05:05:06.646582Z",
     "start_time": "2022-07-14T05:05:06.644062Z"
    }
   },
   "outputs": [],
   "source": [
    "rooms = 10\n",
    "def local_scope_example():\n",
    "    houses = 5\n",
    "    print(houses)\n",
    "    print(rooms)"
   ]
  },
  {
   "cell_type": "code",
   "execution_count": 13,
   "id": "145dc302",
   "metadata": {
    "ExecuteTime": {
     "end_time": "2022-07-14T05:05:00.625970Z",
     "start_time": "2022-07-14T05:05:00.623307Z"
    }
   },
   "outputs": [
    {
     "name": "stdout",
     "output_type": "stream",
     "text": [
      "5\n",
      "5\n"
     ]
    }
   ],
   "source": [
    "local_scope_example()"
   ]
  },
  {
   "cell_type": "code",
   "execution_count": null,
   "id": "06f66216",
   "metadata": {},
   "outputs": [],
   "source": []
  },
  {
   "cell_type": "markdown",
   "id": "3613d632",
   "metadata": {},
   "source": [
    "## Block Scope "
   ]
  },
  {
   "cell_type": "markdown",
   "id": "8b18200c",
   "metadata": {},
   "source": [
    "The following constructs create scope:\n",
    "\n",
    "- module\n",
    "- class\n",
    "- function (incl. lambda)\n",
    "- comprehensions (dict, set, list(in Python 3.x))"
   ]
  },
  {
   "cell_type": "code",
   "execution_count": 16,
   "id": "07bde1c5",
   "metadata": {
    "ExecuteTime": {
     "end_time": "2022-07-14T05:10:03.836012Z",
     "start_time": "2022-07-14T05:10:03.832713Z"
    }
   },
   "outputs": [],
   "source": [
    "if 10 > 5:\n",
    "    example = 'block'"
   ]
  },
  {
   "cell_type": "code",
   "execution_count": 17,
   "id": "dbaf7b81",
   "metadata": {
    "ExecuteTime": {
     "end_time": "2022-07-14T05:10:06.594436Z",
     "start_time": "2022-07-14T05:10:06.590094Z"
    }
   },
   "outputs": [
    {
     "data": {
      "text/plain": [
       "'block'"
      ]
     },
     "execution_count": 17,
     "metadata": {},
     "output_type": "execute_result"
    }
   ],
   "source": [
    "example"
   ]
  },
  {
   "cell_type": "code",
   "execution_count": 18,
   "id": "574f680f",
   "metadata": {
    "ExecuteTime": {
     "end_time": "2022-07-14T05:11:17.731364Z",
     "start_time": "2022-07-14T05:11:17.722560Z"
    }
   },
   "outputs": [],
   "source": [
    "def test_function():\n",
    "    if housing_price < 10:\n",
    "        option = 'high'"
   ]
  },
  {
   "cell_type": "code",
   "execution_count": 19,
   "id": "2e3ea4ea",
   "metadata": {
    "ExecuteTime": {
     "end_time": "2022-07-14T05:11:27.327778Z",
     "start_time": "2022-07-14T05:11:27.314123Z"
    }
   },
   "outputs": [
    {
     "ename": "NameError",
     "evalue": "name 'option' is not defined",
     "output_type": "error",
     "traceback": [
      "\u001b[0;31m---------------------------------------------------------------------------\u001b[0m",
      "\u001b[0;31mNameError\u001b[0m                                 Traceback (most recent call last)",
      "Input \u001b[0;32mIn [19]\u001b[0m, in \u001b[0;36m<cell line: 1>\u001b[0;34m()\u001b[0m\n\u001b[0;32m----> 1\u001b[0m \u001b[38;5;28mprint\u001b[39m(\u001b[43moption\u001b[49m)\n",
      "\u001b[0;31mNameError\u001b[0m: name 'option' is not defined"
     ]
    }
   ],
   "source": [
    "print(option)"
   ]
  },
  {
   "cell_type": "markdown",
   "id": "a1b9dbe8",
   "metadata": {},
   "source": [
    "- **block like  if, while, for dont create local scope**.\n",
    "- **remember if you create a variable within a function then its only available within that function.**"
   ]
  },
  {
   "cell_type": "code",
   "execution_count": null,
   "id": "458cd5cb",
   "metadata": {},
   "outputs": [],
   "source": []
  },
  {
   "cell_type": "markdown",
   "id": "cc2c2cac",
   "metadata": {},
   "source": [
    "## Modifying Global variable"
   ]
  },
  {
   "cell_type": "code",
   "execution_count": 1,
   "id": "f6754e62",
   "metadata": {
    "ExecuteTime": {
     "end_time": "2022-07-14T06:43:25.437048Z",
     "start_time": "2022-07-14T06:43:25.423860Z"
    }
   },
   "outputs": [],
   "source": [
    "count = 1\n",
    "def increase_enemy():\n",
    "    count = count + 1\n",
    "    print(count)"
   ]
  },
  {
   "cell_type": "code",
   "execution_count": 2,
   "id": "327f2b0a",
   "metadata": {
    "ExecuteTime": {
     "end_time": "2022-07-14T06:43:26.214300Z",
     "start_time": "2022-07-14T06:43:25.913820Z"
    }
   },
   "outputs": [
    {
     "ename": "UnboundLocalError",
     "evalue": "local variable 'count' referenced before assignment",
     "output_type": "error",
     "traceback": [
      "\u001b[0;31m---------------------------------------------------------------------------\u001b[0m",
      "\u001b[0;31mUnboundLocalError\u001b[0m                         Traceback (most recent call last)",
      "Input \u001b[0;32mIn [2]\u001b[0m, in \u001b[0;36m<cell line: 1>\u001b[0;34m()\u001b[0m\n\u001b[0;32m----> 1\u001b[0m \u001b[43mincrease_enemy\u001b[49m\u001b[43m(\u001b[49m\u001b[43m)\u001b[49m\n",
      "Input \u001b[0;32mIn [1]\u001b[0m, in \u001b[0;36mincrease_enemy\u001b[0;34m()\u001b[0m\n\u001b[1;32m      2\u001b[0m \u001b[38;5;28;01mdef\u001b[39;00m \u001b[38;5;21mincrease_enemy\u001b[39m():\n\u001b[0;32m----> 3\u001b[0m     count \u001b[38;5;241m=\u001b[39m \u001b[43mcount\u001b[49m \u001b[38;5;241m+\u001b[39m \u001b[38;5;241m1\u001b[39m\n\u001b[1;32m      4\u001b[0m     \u001b[38;5;28mprint\u001b[39m(count)\n",
      "\u001b[0;31mUnboundLocalError\u001b[0m: local variable 'count' referenced before assignment"
     ]
    }
   ],
   "source": [
    "increase_enemy()"
   ]
  },
  {
   "cell_type": "markdown",
   "id": "b3f46d66",
   "metadata": {},
   "source": [
    "The local variable referenced before assignment occurs when some variable is referenced before assignment within a function’s body. The error usually occurs when the code is trying to access the global variable."
   ]
  },
  {
   "cell_type": "code",
   "execution_count": 14,
   "id": "2ae5dc27",
   "metadata": {
    "ExecuteTime": {
     "end_time": "2022-07-14T05:29:54.238931Z",
     "start_time": "2022-07-14T05:29:54.234246Z"
    }
   },
   "outputs": [],
   "source": [
    "count = 1\n",
    "def increase_enemy():\n",
    "    global count\n",
    "    count = count + 1\n",
    "    print(count)"
   ]
  },
  {
   "cell_type": "code",
   "execution_count": 15,
   "id": "b82b3eb6",
   "metadata": {
    "ExecuteTime": {
     "end_time": "2022-07-14T05:29:54.807158Z",
     "start_time": "2022-07-14T05:29:54.801992Z"
    }
   },
   "outputs": [
    {
     "name": "stdout",
     "output_type": "stream",
     "text": [
      "2\n"
     ]
    }
   ],
   "source": [
    "increase_enemy()"
   ]
  },
  {
   "cell_type": "markdown",
   "id": "3451728f",
   "metadata": {},
   "source": [
    "best practice\n",
    "\n",
    "**don't modify global variable**"
   ]
  },
  {
   "cell_type": "code",
   "execution_count": null,
   "id": "7988371e",
   "metadata": {},
   "outputs": [],
   "source": []
  },
  {
   "cell_type": "markdown",
   "id": "70025409",
   "metadata": {},
   "source": [
    "## Global constants"
   ]
  },
  {
   "cell_type": "code",
   "execution_count": 4,
   "id": "576b5ba8",
   "metadata": {
    "ExecuteTime": {
     "end_time": "2022-07-14T06:52:51.179419Z",
     "start_time": "2022-07-14T06:52:51.177448Z"
    }
   },
   "outputs": [],
   "source": [
    "# to differentiate difference between variable and constants,\n",
    "# the naming convention in python is to turn all letters to \n",
    "# uppercase.\n",
    "PI = 3.14159\n",
    "URL = \"https://www.google.com\""
   ]
  },
  {
   "cell_type": "markdown",
   "id": "158f5da8",
   "metadata": {
    "ExecuteTime": {
     "end_time": "2022-07-14T06:48:08.318448Z",
     "start_time": "2022-07-14T06:48:08.313774Z"
    }
   },
   "source": [
    "don't use global variables, use global constants"
   ]
  },
  {
   "cell_type": "code",
   "execution_count": null,
   "id": "2fdf3c61",
   "metadata": {},
   "outputs": [],
   "source": []
  },
  {
   "cell_type": "markdown",
   "id": "e672b173",
   "metadata": {},
   "source": [
    "# Lambda Functions"
   ]
  },
  {
   "cell_type": "markdown",
   "id": "79f98762",
   "metadata": {},
   "source": [
    "## Lamba"
   ]
  },
  {
   "cell_type": "markdown",
   "id": "74d5fece",
   "metadata": {},
   "source": [
    "Python Lambda Functions are anonymous function.\n",
    "\n",
    "An anonymous function refers to a function declared with no name. \n",
    "\n",
    "As we already know that the def keyword is used to define a normal function in Python. \n",
    "\n",
    "Similarly, the lambda keyword is used to define an anonymous function in Python. \n",
    "\n",
    "The following are the characteristics of Python lambda functions:"
   ]
  },
  {
   "cell_type": "markdown",
   "id": "de1a8bfb",
   "metadata": {},
   "source": [
    "- A lambda function can take any number of arguments, but they contain only a single expression. \n",
    "- An expression is a piece of code executed by the lambda function, which may or may not return any value.\n",
    "- Lambda functions can be used to return function objects.\n",
    "- Syntactically, lambda functions are **restricted to only a single expression.**"
   ]
  },
  {
   "cell_type": "markdown",
   "id": "2aad480d",
   "metadata": {},
   "source": [
    "Python Lambda Function \n",
    "\n",
    "Syntax:\n",
    "\n",
    "```\n",
    "    lambda arguments: expression\n",
    "    \n",
    "```"
   ]
  },
  {
   "cell_type": "code",
   "execution_count": 1,
   "id": "1bf69c06",
   "metadata": {
    "ExecuteTime": {
     "end_time": "2022-07-15T10:22:27.506868Z",
     "start_time": "2022-07-15T10:22:27.494794Z"
    }
   },
   "outputs": [
    {
     "name": "stdout",
     "output_type": "stream",
     "text": [
      "6\n"
     ]
    }
   ],
   "source": [
    "product = lambda x, y : x * y\n",
    "\n",
    "print(product(2, 3))\n",
    "\n",
    "def product_func(x,y):\n",
    "    return x*y"
   ]
  },
  {
   "cell_type": "code",
   "execution_count": 2,
   "id": "f37d57f8",
   "metadata": {
    "ExecuteTime": {
     "end_time": "2022-07-15T10:22:29.560620Z",
     "start_time": "2022-07-15T10:22:29.548528Z"
    }
   },
   "outputs": [
    {
     "data": {
      "text/plain": [
       "function"
      ]
     },
     "execution_count": 2,
     "metadata": {},
     "output_type": "execute_result"
    }
   ],
   "source": [
    "type(product)"
   ]
  },
  {
   "cell_type": "markdown",
   "id": "85076a44",
   "metadata": {},
   "source": [
    "Why Use Lambda Functions?\n",
    "\n",
    "Lambda functions are used when you need a function for a short period of time. This is commonly used when you want to pass a function as an argument to higher-order functions, that is, functions that take other functions as their arguments.\n",
    "\n",
    "The use of anonymous function inside another function is explained in the following example:"
   ]
  },
  {
   "cell_type": "markdown",
   "id": "6f0ec043",
   "metadata": {},
   "source": [
    "## Map\n",
    "\n",
    "Syntax\n",
    "```\n",
    "map(function, iterable)\n",
    "```\n",
    "\n",
    "The map function takes in a function and an iterable(list, tuple, etc.) as an input"
   ]
  },
  {
   "cell_type": "code",
   "execution_count": 2,
   "id": "c0319b53",
   "metadata": {
    "ExecuteTime": {
     "end_time": "2022-07-15T14:05:59.450907Z",
     "start_time": "2022-07-15T14:05:59.441051Z"
    }
   },
   "outputs": [
    {
     "data": {
      "text/plain": [
       "[1, 9, 25, 49, 81]"
      ]
     },
     "execution_count": 2,
     "metadata": {},
     "output_type": "execute_result"
    }
   ],
   "source": [
    "squares = []\n",
    "for n in range(1, 10, 2):\n",
    "    squares.append(n ** 2)\n",
    "    \n",
    "squares"
   ]
  },
  {
   "cell_type": "code",
   "execution_count": 3,
   "id": "41093a19",
   "metadata": {
    "ExecuteTime": {
     "end_time": "2022-07-15T14:06:18.180842Z",
     "start_time": "2022-07-15T14:06:18.162599Z"
    }
   },
   "outputs": [
    {
     "data": {
      "text/plain": [
       "<map at 0x1c04276ac88>"
      ]
     },
     "execution_count": 3,
     "metadata": {},
     "output_type": "execute_result"
    }
   ],
   "source": [
    "def square(n):\n",
    "    return n ** 2\n",
    "squares = map(square, range(1, 10, 2))  \n",
    "squares"
   ]
  },
  {
   "cell_type": "code",
   "execution_count": 4,
   "id": "d47737fb",
   "metadata": {
    "ExecuteTime": {
     "end_time": "2022-07-15T14:06:25.719268Z",
     "start_time": "2022-07-15T14:06:25.707248Z"
    }
   },
   "outputs": [
    {
     "data": {
      "text/plain": [
       "[1, 9, 25, 49, 81]"
      ]
     },
     "execution_count": 4,
     "metadata": {},
     "output_type": "execute_result"
    }
   ],
   "source": [
    "list(squares)"
   ]
  },
  {
   "cell_type": "code",
   "execution_count": 6,
   "id": "01467327",
   "metadata": {
    "ExecuteTime": {
     "end_time": "2022-07-15T14:06:50.795680Z",
     "start_time": "2022-07-15T14:06:50.792565Z"
    }
   },
   "outputs": [
    {
     "data": {
      "text/plain": [
       "[1, 9, 25, 49, 81]"
      ]
     },
     "execution_count": 6,
     "metadata": {},
     "output_type": "execute_result"
    }
   ],
   "source": [
    "## In simple form\n",
    "\n",
    "squares = list(map(lambda n: n ** 2, range(1, 10, 2)))\n",
    "squares"
   ]
  },
  {
   "cell_type": "markdown",
   "id": "6189f5df",
   "metadata": {},
   "source": [
    "## Filter"
   ]
  },
  {
   "cell_type": "markdown",
   "id": "90f171a0",
   "metadata": {},
   "source": [
    "Syntax : \n",
    "```\n",
    "filter(function, iterable)\n",
    "\n",
    "```"
   ]
  },
  {
   "cell_type": "code",
   "execution_count": 8,
   "id": "0de95048",
   "metadata": {
    "ExecuteTime": {
     "end_time": "2022-07-15T14:07:33.895839Z",
     "start_time": "2022-07-15T14:07:33.875531Z"
    }
   },
   "outputs": [
    {
     "data": {
      "text/plain": [
       "[1, 23, 89]"
      ]
     },
     "execution_count": 8,
     "metadata": {},
     "output_type": "execute_result"
    }
   ],
   "source": [
    "nums = [1, 34, 23, 56, 89, 44, 92]\n",
    "odd_nums = [num for num in nums if num % 2 != 0]\n",
    "odd_nums"
   ]
  },
  {
   "cell_type": "code",
   "execution_count": 9,
   "id": "1cafba9a",
   "metadata": {
    "ExecuteTime": {
     "end_time": "2022-07-15T14:08:10.374278Z",
     "start_time": "2022-07-15T14:08:10.368207Z"
    }
   },
   "outputs": [
    {
     "name": "stdout",
     "output_type": "stream",
     "text": [
      "[1, 23, 89]\n"
     ]
    }
   ],
   "source": [
    "def find_odd(x):\n",
    "    if x % 2 != 0:\n",
    "        return x\n",
    "nums = [1, 34, 23, 56, 89, 44, 92]\n",
    "odds = list(filter(find_odd, nums))\n",
    "print(odds)"
   ]
  },
  {
   "cell_type": "markdown",
   "id": "94910f27",
   "metadata": {},
   "source": [
    "## Reduce"
   ]
  },
  {
   "cell_type": "markdown",
   "id": "25451b0e",
   "metadata": {},
   "source": [
    "Syntax : \n",
    "```\n",
    "reduce(function, iterable, [, initializer])\n",
    "\n",
    "```\n",
    "\n",
    "The reduce applies a function cumulatively on all the items of an iterable and returns a single value. "
   ]
  },
  {
   "cell_type": "code",
   "execution_count": 10,
   "id": "93467fe8",
   "metadata": {
    "ExecuteTime": {
     "end_time": "2022-07-15T14:09:09.928034Z",
     "start_time": "2022-07-15T14:09:09.908851Z"
    }
   },
   "outputs": [
    {
     "data": {
      "text/plain": [
       "15"
      ]
     },
     "execution_count": 10,
     "metadata": {},
     "output_type": "execute_result"
    }
   ],
   "source": [
    "nums = [1, 2, 3, 4, 5]\n",
    "summ = 0\n",
    "for num in nums:\n",
    "    summ += num\n",
    "summ"
   ]
  },
  {
   "cell_type": "markdown",
   "id": "de587344",
   "metadata": {
    "ExecuteTime": {
     "end_time": "2022-07-15T14:10:28.045259Z",
     "start_time": "2022-07-15T14:10:28.026896Z"
    }
   },
   "source": [
    "<img src=\"resource/88656reduce.jpeg\">"
   ]
  },
  {
   "cell_type": "markdown",
   "id": "bd932382",
   "metadata": {},
   "source": [
    "## Summary\n",
    "\n",
    "\n",
    "**Lambda**\n",
    "- Function with many arguments but only one expression.\n",
    "- It helps to make our code pythonic and to create function wrappers.\n",
    "\n",
    "**Map**\n",
    "- A function that applies a given function to each item of an iterable and returns an iterator.\n",
    "- It provides a faster way to transform an iterable based on the given condition.\n",
    "- It can have multiple iterables.\n",
    "\n",
    "**Filter**\n",
    "- It has the same syntax as the map function.\n",
    "- It helps in extracting items from an iterable based on the given condition.\n",
    "\n",
    "**Reduce**\n",
    "- It applies a function cumulatively/successively on each item of an iterable and returns a single value."
   ]
  },
  {
   "cell_type": "code",
   "execution_count": null,
   "id": "6a197364",
   "metadata": {},
   "outputs": [],
   "source": []
  }
 ],
 "metadata": {
  "kernelspec": {
   "display_name": "Python 3 (ipykernel)",
   "language": "python",
   "name": "python3"
  },
  "language_info": {
   "codemirror_mode": {
    "name": "ipython",
    "version": 3
   },
   "file_extension": ".py",
   "mimetype": "text/x-python",
   "name": "python",
   "nbconvert_exporter": "python",
   "pygments_lexer": "ipython3",
   "version": "3.9.12"
  },
  "toc": {
   "base_numbering": 1,
   "nav_menu": {},
   "number_sections": true,
   "sideBar": true,
   "skip_h1_title": false,
   "title_cell": "Table of Contents",
   "title_sidebar": "Contents",
   "toc_cell": false,
   "toc_position": {
    "height": "476px",
    "left": "21px",
    "top": "111.136px",
    "width": "357.273px"
   },
   "toc_section_display": true,
   "toc_window_display": true
  },
  "varInspector": {
   "cols": {
    "lenName": 16,
    "lenType": 16,
    "lenVar": 40
   },
   "kernels_config": {
    "python": {
     "delete_cmd_postfix": "",
     "delete_cmd_prefix": "del ",
     "library": "var_list.py",
     "varRefreshCmd": "print(var_dic_list())"
    },
    "r": {
     "delete_cmd_postfix": ") ",
     "delete_cmd_prefix": "rm(",
     "library": "var_list.r",
     "varRefreshCmd": "cat(var_dic_list()) "
    }
   },
   "types_to_exclude": [
    "module",
    "function",
    "builtin_function_or_method",
    "instance",
    "_Feature"
   ],
   "window_display": false
  }
 },
 "nbformat": 4,
 "nbformat_minor": 5
}
