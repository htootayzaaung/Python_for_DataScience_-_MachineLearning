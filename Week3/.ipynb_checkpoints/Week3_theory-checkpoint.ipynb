{
 "cells": [
  {
   "cell_type": "markdown",
   "id": "c10fbe28",
   "metadata": {},
   "source": [
    "# Nested loop"
   ]
  },
  {
   "cell_type": "code",
   "execution_count": 1,
   "id": "51dda8f2",
   "metadata": {
    "ExecuteTime": {
     "end_time": "2022-07-15T13:27:23.740232Z",
     "start_time": "2022-07-15T13:27:23.720294Z"
    }
   },
   "outputs": [
    {
     "name": "stdout",
     "output_type": "stream",
     "text": [
      "outside loop 0\n",
      "inside loop 0\n",
      "inside loop 1\n",
      "inside loop 2\n",
      "inside loop 3\n",
      "inside loop 4\n",
      "=======================\n",
      "outside loop 1\n",
      "inside loop 0\n",
      "inside loop 1\n",
      "inside loop 2\n",
      "inside loop 3\n",
      "inside loop 4\n",
      "=======================\n",
      "outside loop 2\n",
      "inside loop 0\n",
      "inside loop 1\n",
      "inside loop 2\n",
      "inside loop 3\n",
      "inside loop 4\n",
      "=======================\n",
      "outside loop 3\n",
      "inside loop 0\n",
      "inside loop 1\n",
      "inside loop 2\n",
      "inside loop 3\n",
      "inside loop 4\n",
      "=======================\n",
      "outside loop 4\n",
      "inside loop 0\n",
      "inside loop 1\n",
      "inside loop 2\n",
      "inside loop 3\n",
      "inside loop 4\n",
      "=======================\n"
     ]
    }
   ],
   "source": [
    "#outer loop\n",
    "for i in range(0,5):\n",
    "    print(f\"outside loop {i}\")\n",
    "    #inner loop\n",
    "    for j in range(0,5):\n",
    "        print(f\"inside loop {j}\")\n",
    "    print(\"=======================\")"
   ]
  },
  {
   "cell_type": "code",
   "execution_count": 5,
   "id": "86c0a937",
   "metadata": {
    "ExecuteTime": {
     "end_time": "2022-07-14T07:18:29.570423Z",
     "start_time": "2022-07-14T07:18:29.556150Z"
    }
   },
   "outputs": [
    {
     "name": "stdout",
     "output_type": "stream",
     "text": [
      "1|2|3|4|5|6|7|8|9|10|\n",
      "\n",
      "2|4|6|8|10|12|14|16|18|20|\n",
      "\n",
      "3|6|9|12|15|18|21|24|27|30|\n",
      "\n",
      "4|8|12|16|20|24|28|32|36|40|\n",
      "\n",
      "5|10|15|20|25|30|35|40|45|50|\n",
      "\n",
      "6|12|18|24|30|36|42|48|54|60|\n",
      "\n",
      "7|14|21|28|35|42|49|56|63|70|\n",
      "\n",
      "8|16|24|32|40|48|56|64|72|80|\n",
      "\n",
      "9|18|27|36|45|54|63|72|81|90|\n",
      "\n",
      "10|20|30|40|50|60|70|80|90|100|\n",
      "\n"
     ]
    }
   ],
   "source": [
    "# outer loop\n",
    "for i in range(1, 11):\n",
    "    # nested loop\n",
    "    # to iterate from 1 to 10\n",
    "    for j in range(1, 11):\n",
    "        # print multiplication\n",
    "        print(i * j, end='|')\n",
    "    print('\\n')"
   ]
  },
  {
   "cell_type": "code",
   "execution_count": 8,
   "id": "45180efc",
   "metadata": {
    "ExecuteTime": {
     "end_time": "2022-07-15T09:29:13.962264Z",
     "start_time": "2022-07-15T09:29:13.955037Z"
    }
   },
   "outputs": [
    {
     "name": "stdout",
     "output_type": "stream",
     "text": [
      "Kelly Kelly Kelly Kelly Kelly \n",
      "Jessa Jessa Jessa Jessa Jessa \n",
      "Emma Emma Emma Emma Emma \n"
     ]
    }
   ],
   "source": [
    "names = ['Kelly', 'Jessa', 'Emma']\n",
    "# outer loop\n",
    "for name in names:\n",
    "    # inner while loop\n",
    "    count = 0\n",
    "    while count < 5:\n",
    "        print(name, end=' ')\n",
    "        # increment counter\n",
    "        count = count + 1\n",
    "    print()"
   ]
  },
  {
   "cell_type": "code",
   "execution_count": null,
   "id": "39160fd3",
   "metadata": {},
   "outputs": [],
   "source": [
    "## while while"
   ]
  },
  {
   "cell_type": "code",
   "execution_count": null,
   "id": "957c0dd0",
   "metadata": {},
   "outputs": [],
   "source": []
  },
  {
   "cell_type": "markdown",
   "id": "9ef99535",
   "metadata": {},
   "source": [
    "# Debugging (Error Tracing)"
   ]
  },
  {
   "cell_type": "code",
   "execution_count": 3,
   "id": "ebb945cc",
   "metadata": {
    "ExecuteTime": {
     "end_time": "2022-07-15T13:31:23.154223Z",
     "start_time": "2022-07-15T13:31:23.150158Z"
    }
   },
   "outputs": [
    {
     "name": "stdout",
     "output_type": "stream",
     "text": [
      "❹\n"
     ]
    }
   ],
   "source": [
    "# Reproduce the Bug\n",
    "from random import randint\n",
    "dice_imgs = [\"❶\", \"❷\", \"❸\", \"❹\", \"❺\", \"❻\"]\n",
    "dice_num = randint(1, 6)\n",
    "print(dice_imgs[dice_num])"
   ]
  },
  {
   "cell_type": "code",
   "execution_count": null,
   "id": "099eaac9",
   "metadata": {
    "ExecuteTime": {
     "start_time": "2022-07-15T13:31:23.752Z"
    }
   },
   "outputs": [],
   "source": [
    "## with print\n",
    "pages = 0\n",
    "word_per_page = 0\n",
    "pages = int(input(\"Number of pages: \"))\n",
    "word_per_page == int(input(\"Number of words per page: \"))\n",
    "total_words = pages * word_per_page\n",
    "print(total_words)"
   ]
  },
  {
   "cell_type": "code",
   "execution_count": 1,
   "id": "285f2d80",
   "metadata": {
    "ExecuteTime": {
     "end_time": "2022-07-15T05:20:24.274938Z",
     "start_time": "2022-07-15T05:20:24.220950Z"
    }
   },
   "outputs": [],
   "source": [
    "# Use a Debugger\n",
    "\n",
    "# pythontutor.com\n",
    "# thony IDE"
   ]
  },
  {
   "cell_type": "code",
   "execution_count": null,
   "id": "be75aa8e",
   "metadata": {},
   "outputs": [],
   "source": [
    "def mutate(a_list):\n",
    "    b_list = []\n",
    "    for item in a_list:\n",
    "        new_item = item * 2\n",
    "    b_list.append(new_item)\n",
    "    print(b_list)\n",
    "    \n",
    "mutate([1,2,3,5,8,13])"
   ]
  },
  {
   "cell_type": "code",
   "execution_count": null,
   "id": "829df8da",
   "metadata": {},
   "outputs": [],
   "source": []
  },
  {
   "cell_type": "markdown",
   "id": "c6023d9e",
   "metadata": {},
   "source": [
    "# Exception Handling"
   ]
  },
  {
   "cell_type": "markdown",
   "id": "a49101e6",
   "metadata": {},
   "source": [
    "In Python, exceptions can be handled using a try statement.\n",
    "\n",
    "The critical operation which can raise an exception is placed inside the try clause. The code that handles the exceptions is written in the except clause.\n",
    "\n",
    "We can thus choose what operations to perform once we have caught the exception."
   ]
  },
  {
   "cell_type": "code",
   "execution_count": 2,
   "id": "f3be695f",
   "metadata": {
    "ExecuteTime": {
     "end_time": "2022-07-15T05:21:12.541569Z",
     "start_time": "2022-07-15T05:21:12.514435Z"
    }
   },
   "outputs": [
    {
     "name": "stdout",
     "output_type": "stream",
     "text": [
      "The entry is a\n",
      "Oops! <class 'ValueError'> occurred.\n",
      "Next entry.\n",
      "\n",
      "The entry is 0\n",
      "Oops! <class 'ZeroDivisionError'> occurred.\n",
      "Next entry.\n",
      "\n",
      "The entry is 2\n",
      "The reciprocal of 2 is 0.5\n"
     ]
    }
   ],
   "source": [
    "# import module sys to get the type of exception\n",
    "import sys\n",
    "\n",
    "randomList = ['a', 0, 2]\n",
    "\n",
    "for entry in randomList:\n",
    "    try:\n",
    "        print(\"The entry is\", entry)\n",
    "        r = 1/int(entry)\n",
    "        break\n",
    "    except:\n",
    "        print(\"Oops!\", sys.exc_info()[0], \"occurred.\")\n",
    "        print(\"Next entry.\")\n",
    "        print()\n",
    "print(\"The reciprocal of\", entry, \"is\", r)"
   ]
  },
  {
   "cell_type": "markdown",
   "id": "38d5682a",
   "metadata": {},
   "source": [
    "Since every exception in Python inherits from the base Exception class, we can also perform the above task in the following way:"
   ]
  },
  {
   "cell_type": "code",
   "execution_count": 3,
   "id": "a8a142ce",
   "metadata": {
    "ExecuteTime": {
     "end_time": "2022-07-15T05:21:27.533962Z",
     "start_time": "2022-07-15T05:21:27.524809Z"
    }
   },
   "outputs": [
    {
     "name": "stdout",
     "output_type": "stream",
     "text": [
      "The entry is a\n",
      "Oops! <class 'ValueError'> occurred.\n",
      "Next entry.\n",
      "\n",
      "The entry is 0\n",
      "Oops! <class 'ZeroDivisionError'> occurred.\n",
      "Next entry.\n",
      "\n",
      "The entry is 2\n",
      "The reciprocal of 2 is 0.5\n"
     ]
    }
   ],
   "source": [
    "# import module sys to get the type of exception\n",
    "import sys\n",
    "\n",
    "randomList = ['a', 0, 2]\n",
    "\n",
    "for entry in randomList:\n",
    "    try:\n",
    "        print(\"The entry is\", entry)\n",
    "        r = 1/int(entry)\n",
    "        break\n",
    "    except Exception as e:\n",
    "        print(\"Oops!\", e.__class__, \"occurred.\")\n",
    "        print(\"Next entry.\")\n",
    "        print()\n",
    "print(\"The reciprocal of\", entry, \"is\", r)"
   ]
  },
  {
   "cell_type": "code",
   "execution_count": null,
   "id": "3a2def5c",
   "metadata": {},
   "outputs": [],
   "source": []
  },
  {
   "cell_type": "markdown",
   "id": "a4cc217b",
   "metadata": {},
   "source": [
    "## Catching Specific Exceptions\n",
    "\n",
    "```\n",
    "try:\n",
    "   # do something\n",
    "   pass\n",
    "\n",
    "except ValueError:\n",
    "   # handle ValueError exception\n",
    "   pass\n",
    "\n",
    "except (TypeError, ZeroDivisionError):\n",
    "   # handle multiple exceptions\n",
    "   # TypeError and ZeroDivisionError\n",
    "    pass\n",
    "\n",
    "except:\n",
    "   # handle all other exceptions\n",
    "   pass\n",
    "```"
   ]
  },
  {
   "cell_type": "markdown",
   "id": "f078bf9a",
   "metadata": {},
   "source": [
    "## Raising Exceptions"
   ]
  },
  {
   "cell_type": "code",
   "execution_count": 5,
   "id": "f2492d65",
   "metadata": {
    "ExecuteTime": {
     "end_time": "2022-07-15T06:48:16.045413Z",
     "start_time": "2022-07-15T06:48:13.081483Z"
    }
   },
   "outputs": [
    {
     "name": "stdout",
     "output_type": "stream",
     "text": [
      "Enter a positive integer: -9\n",
      "That is not a positive number!\n"
     ]
    }
   ],
   "source": [
    "try:\n",
    "    a = int(input(\"Enter a positive integer: \"))\n",
    "    if a <= 0:\n",
    "        raise ValueError(\"That is not a positive number!\")\n",
    "except ValueError as ve:\n",
    "        print(ve)"
   ]
  },
  {
   "cell_type": "code",
   "execution_count": null,
   "id": "b2b97836",
   "metadata": {},
   "outputs": [],
   "source": []
  },
  {
   "cell_type": "markdown",
   "id": "0360eb98",
   "metadata": {},
   "source": [
    "## try with else clause\n",
    "\n",
    "\n",
    "In some situations, you might want to run a certain block of code if the code block inside try ran without any errors. For these cases, you can use the optional else keyword with the try statement.\n",
    "\n",
    "**Note:** Exceptions in the else clause are not handled by the preceding except clauses.\n"
   ]
  },
  {
   "cell_type": "code",
   "execution_count": null,
   "id": "9fc9ea2f",
   "metadata": {},
   "outputs": [],
   "source": [
    "# program to print the reciprocal of even numbers\n",
    "\n",
    "try:\n",
    "    num = int(input(\"Enter a number: \"))\n",
    "    assert num % 2 == 0\n",
    "except:\n",
    "    print(\"Not an even number!\")\n",
    "else:\n",
    "    reciprocal = 1/num\n",
    "    print(\"Reciprocal \",reciprocal)\n",
    "    \n",
    "    \n",
    "# input 1, 4, 0"
   ]
  },
  {
   "cell_type": "markdown",
   "id": "8e8bf31d",
   "metadata": {},
   "source": [
    "## try...finally\n",
    "\n",
    "The try statement in Python can have an optional finally clause. This clause is executed no matter what, and is generally used to release external resources."
   ]
  },
  {
   "cell_type": "code",
   "execution_count": null,
   "id": "9c7363c4",
   "metadata": {},
   "outputs": [],
   "source": [
    "try:\n",
    "   f = open(\"test.txt\",encoding = 'utf-8')\n",
    "   # perform file operations\n",
    "finally:\n",
    "   f.close()"
   ]
  },
  {
   "cell_type": "markdown",
   "id": "8e9b3344",
   "metadata": {},
   "source": [
    "## Custom Exceptions"
   ]
  },
  {
   "cell_type": "code",
   "execution_count": 6,
   "id": "fc030a89",
   "metadata": {
    "ExecuteTime": {
     "end_time": "2022-07-15T06:49:29.265635Z",
     "start_time": "2022-07-15T06:49:23.769164Z"
    }
   },
   "outputs": [
    {
     "name": "stdout",
     "output_type": "stream",
     "text": [
      "Enter a number: 5\n",
      "This value is too small, try again!\n",
      "\n",
      "Enter a number: 10\n",
      "Congratulations! You guessed it correctly.\n"
     ]
    }
   ],
   "source": [
    "# define Python user-defined exceptions\n",
    "class Error(Exception):\n",
    "    \"\"\"Base class for other exceptions\"\"\"\n",
    "    pass\n",
    "\n",
    "\n",
    "class ValueTooSmallError(Error):\n",
    "    \"\"\"Raised when the input value is too small\"\"\"\n",
    "    pass\n",
    "\n",
    "\n",
    "class ValueTooLargeError(Error):\n",
    "    \"\"\"Raised when the input value is too large\"\"\"\n",
    "    pass\n",
    "\n",
    "\n",
    "# you need to guess this number\n",
    "number = 10\n",
    "\n",
    "# user guesses a number until he/she gets it right\n",
    "while True:\n",
    "    try:\n",
    "        i_num = int(input(\"Enter a number: \"))\n",
    "        if i_num < number:\n",
    "            raise ValueTooSmallError\n",
    "        elif i_num > number:\n",
    "            raise ValueTooLargeError\n",
    "        break\n",
    "    except ValueTooSmallError:\n",
    "        print(\"This value is too small, try again!\")\n",
    "        print()\n",
    "    except ValueTooLargeError:\n",
    "        print(\"This value is too large, try again!\")\n",
    "        print()\n",
    "\n",
    "print(\"Congratulations! You guessed it correctly.\")"
   ]
  },
  {
   "cell_type": "markdown",
   "id": "8ef824a1",
   "metadata": {},
   "source": [
    "## Customizing Exception Classes using OOP"
   ]
  },
  {
   "cell_type": "code",
   "execution_count": null,
   "id": "6e4ac083",
   "metadata": {},
   "outputs": [],
   "source": [
    "class SalaryNotInRangeError(Exception):\n",
    "    \"\"\"Exception raised for errors in the input salary.\n",
    "\n",
    "    Attributes:\n",
    "        salary -- input salary which caused the error\n",
    "        message -- explanation of the error\n",
    "    \"\"\"\n",
    "\n",
    "    def __init__(self, salary, message=\"Salary is not in (5000, 15000) range\"):\n",
    "        self.salary = salary\n",
    "        self.message = message\n",
    "        super().__init__(self.message)\n",
    "\n",
    "\n",
    "salary = int(input(\"Enter salary amount: \"))\n",
    "if not 5000 < salary < 15000:\n",
    "    raise SalaryNotInRangeError(salary)"
   ]
  },
  {
   "cell_type": "code",
   "execution_count": null,
   "id": "f873eb12",
   "metadata": {},
   "outputs": [],
   "source": []
  },
  {
   "cell_type": "code",
   "execution_count": null,
   "id": "2d7bdc44",
   "metadata": {},
   "outputs": [],
   "source": [
    "class SalaryNotInRangeError(Exception):\n",
    "    \"\"\"Exception raised for errors in the input salary.\n",
    "\n",
    "    Attributes:\n",
    "        salary -- input salary which caused the error\n",
    "        message -- explanation of the error\n",
    "    \"\"\"\n",
    "\n",
    "    def __init__(self, salary, message=\"Salary is not in (5000, 15000) range\"):\n",
    "        self.salary = salary\n",
    "        self.message = message\n",
    "        super().__init__(self.message)\n",
    "\n",
    "    def __str__(self):\n",
    "        return f'{self.salary} -> {self.message}'\n",
    "\n",
    "\n",
    "salary = int(input(\"Enter salary amount: \"))\n",
    "if not 5000 < salary < 15000:\n",
    "    raise SalaryNotInRangeError(salary)"
   ]
  },
  {
   "cell_type": "code",
   "execution_count": null,
   "id": "708b1833",
   "metadata": {},
   "outputs": [],
   "source": []
  },
  {
   "cell_type": "code",
   "execution_count": null,
   "id": "aec0b02f",
   "metadata": {},
   "outputs": [],
   "source": []
  },
  {
   "cell_type": "code",
   "execution_count": null,
   "id": "ab40e3d8",
   "metadata": {},
   "outputs": [],
   "source": []
  },
  {
   "cell_type": "markdown",
   "id": "a29eb171",
   "metadata": {},
   "source": [
    "# List comprehension"
   ]
  },
  {
   "cell_type": "markdown",
   "id": "ac86c110",
   "metadata": {},
   "source": [
    "## with if"
   ]
  },
  {
   "cell_type": "code",
   "execution_count": 24,
   "id": "f1b56c95",
   "metadata": {
    "ExecuteTime": {
     "end_time": "2022-07-14T07:34:58.559433Z",
     "start_time": "2022-07-14T07:34:58.556529Z"
    }
   },
   "outputs": [],
   "source": [
    "numbers = [1, 2, 3, 4, 5]\n",
    "\n",
    "doubled_odds = []\n",
    "for n in numbers:\n",
    "    if n % 2 == 1:\n",
    "        doubled_odds.append(n * 2)"
   ]
  },
  {
   "cell_type": "code",
   "execution_count": 23,
   "id": "f6a502e9",
   "metadata": {
    "ExecuteTime": {
     "end_time": "2022-07-14T07:34:37.077190Z",
     "start_time": "2022-07-14T07:34:37.074710Z"
    }
   },
   "outputs": [
    {
     "data": {
      "text/plain": [
       "[2, 6, 10]"
      ]
     },
     "execution_count": 23,
     "metadata": {},
     "output_type": "execute_result"
    }
   ],
   "source": [
    "doubled_odds"
   ]
  },
  {
   "cell_type": "code",
   "execution_count": 20,
   "id": "6572928f",
   "metadata": {
    "ExecuteTime": {
     "end_time": "2022-07-14T07:34:10.366650Z",
     "start_time": "2022-07-14T07:34:10.363910Z"
    }
   },
   "outputs": [],
   "source": [
    "doubled_odds_with_list_comprehension = [n * 2 for n in numbers if n % 2 == 1]"
   ]
  },
  {
   "cell_type": "code",
   "execution_count": 21,
   "id": "c06ae750",
   "metadata": {
    "ExecuteTime": {
     "end_time": "2022-07-14T07:34:14.725565Z",
     "start_time": "2022-07-14T07:34:14.722957Z"
    }
   },
   "outputs": [
    {
     "data": {
      "text/plain": [
       "[2, 6, 10]"
      ]
     },
     "execution_count": 21,
     "metadata": {},
     "output_type": "execute_result"
    }
   ],
   "source": [
    "doubled_odds_with_list_comprehension"
   ]
  },
  {
   "cell_type": "code",
   "execution_count": null,
   "id": "026c421f",
   "metadata": {},
   "outputs": [],
   "source": []
  },
  {
   "cell_type": "code",
   "execution_count": 28,
   "id": "42b9a5be",
   "metadata": {
    "ExecuteTime": {
     "end_time": "2022-07-14T09:17:39.480615Z",
     "start_time": "2022-07-14T09:17:39.473991Z"
    }
   },
   "outputs": [
    {
     "name": "stdout",
     "output_type": "stream",
     "text": [
      "[8, 16, 24]\n"
     ]
    }
   ],
   "source": [
    "num = [i for i in range(30) if i>=2 and i<=25 and i%4==0 and i%8==0]\n",
    "print(num)"
   ]
  },
  {
   "cell_type": "markdown",
   "id": "01fb4bf1",
   "metadata": {},
   "source": [
    "## if else"
   ]
  },
  {
   "cell_type": "markdown",
   "id": "09c0eb6c",
   "metadata": {},
   "source": [
    "#syntax\n",
    "```\n",
    "[<Exp1> if condition else <Exp2> for <item> in <iterable>]\n",
    "```"
   ]
  },
  {
   "cell_type": "code",
   "execution_count": 31,
   "id": "07067363",
   "metadata": {
    "ExecuteTime": {
     "end_time": "2022-07-14T09:20:37.681677Z",
     "start_time": "2022-07-14T09:20:37.678830Z"
    }
   },
   "outputs": [],
   "source": [
    "new_list = ['even' if x % 2 == 0 else 'odd' for x in range(1, 10)]"
   ]
  },
  {
   "cell_type": "code",
   "execution_count": 32,
   "id": "5fe95696",
   "metadata": {
    "ExecuteTime": {
     "end_time": "2022-07-14T09:20:38.374794Z",
     "start_time": "2022-07-14T09:20:38.369173Z"
    }
   },
   "outputs": [
    {
     "data": {
      "text/plain": [
       "['odd', 'even', 'odd', 'even', 'odd', 'even', 'odd', 'even', 'odd']"
      ]
     },
     "execution_count": 32,
     "metadata": {},
     "output_type": "execute_result"
    }
   ],
   "source": [
    "new_list"
   ]
  },
  {
   "cell_type": "code",
   "execution_count": null,
   "id": "a4a196a0",
   "metadata": {},
   "outputs": [],
   "source": []
  },
  {
   "cell_type": "code",
   "execution_count": null,
   "id": "b0da5823",
   "metadata": {},
   "outputs": [],
   "source": []
  },
  {
   "cell_type": "markdown",
   "id": "3aa81b62",
   "metadata": {},
   "source": [
    "## two for loops"
   ]
  },
  {
   "cell_type": "code",
   "execution_count": null,
   "id": "5e271dee",
   "metadata": {},
   "outputs": [],
   "source": [
    "for j in s1:\n",
    "    for k in s2:\n",
    "        print(j, k)\n",
    "        \n",
    "# lst = [\n",
    "#        j + k         # result\n",
    "#        for j in s1   # for loop \n",
    "#          for k in s2 # for loop\n",
    "#                      # condition   \n",
    "#        ]"
   ]
  },
  {
   "cell_type": "code",
   "execution_count": 17,
   "id": "6722704a",
   "metadata": {
    "ExecuteTime": {
     "end_time": "2022-07-15T14:40:51.048508Z",
     "start_time": "2022-07-15T14:40:51.030109Z"
    }
   },
   "outputs": [
    {
     "data": {
      "text/plain": [
       "['orange', 'apple']"
      ]
     },
     "execution_count": 17,
     "metadata": {},
     "output_type": "execute_result"
    }
   ],
   "source": [
    "fruits_lists = [\"apple\",\"orange\",\"pineapples\"]\n",
    "food_lists = [\"pizza\",\"hamburger\",\"orange\", \"sandwich\",\"cheese\",\"apple\",]\n",
    "\n",
    "[fruits for foods in food_lists for fruits in fruits_lists  if fruits in foods]"
   ]
  },
  {
   "cell_type": "markdown",
   "id": "53162706",
   "metadata": {},
   "source": [
    "## Dictionary Comprehension"
   ]
  },
  {
   "cell_type": "code",
   "execution_count": 18,
   "id": "613a3243",
   "metadata": {
    "ExecuteTime": {
     "end_time": "2022-07-15T14:44:13.985725Z",
     "start_time": "2022-07-15T14:44:13.972531Z"
    }
   },
   "outputs": [
    {
     "name": "stdout",
     "output_type": "stream",
     "text": [
      "{'a': 1, 'b': 2, 'c': 3, 'd': 4, 'e': 5}\n"
     ]
    }
   ],
   "source": [
    "keys = ['a','b','c','d','e']\n",
    "values = [1,2,3,4,5]  \n",
    "  \n",
    "# but this line shows dict comprehension here  \n",
    "myDict = { k:v for (k,v) in zip(keys, values)}  \n",
    "  \n",
    "# We can use below too\n",
    "# myDict = dict(zip(keys, values))  \n",
    "  \n",
    "print (myDict)"
   ]
  },
  {
   "cell_type": "markdown",
   "id": "3fe35951",
   "metadata": {},
   "source": [
    "# Name Space: Local and Global Scope"
   ]
  },
  {
   "cell_type": "markdown",
   "id": "3e6edb8b",
   "metadata": {},
   "source": [
    "A name or identifier is the name given to objects when we create objects in python.\n",
    "The name is simply the variable name that we use in our programs. In python, we can declare variable names and assign them to the objects as follows."
   ]
  },
  {
   "cell_type": "code",
   "execution_count": 1,
   "id": "b32f5085",
   "metadata": {
    "ExecuteTime": {
     "end_time": "2022-07-13T13:15:25.805355Z",
     "start_time": "2022-07-13T13:15:25.798300Z"
    }
   },
   "outputs": [],
   "source": [
    "myInt = 1117\n",
    "myString = \"PythonForBeginners\""
   ]
  },
  {
   "cell_type": "markdown",
   "id": "b413d2b6",
   "metadata": {
    "ExecuteTime": {
     "end_time": "2022-07-14T07:07:11.440666Z",
     "start_time": "2022-07-14T07:07:11.430329Z"
    }
   },
   "source": [
    "<img src=\"resources/types_namespace-1.png\" width=500></img>"
   ]
  },
  {
   "cell_type": "markdown",
   "id": "a6d7ce60",
   "metadata": {},
   "source": [
    "## Built-in name space"
   ]
  },
  {
   "cell_type": "markdown",
   "id": "44f0b2d7",
   "metadata": {},
   "source": [
    "- A built-in namespace contains the names of built-in functions and objects. \n",
    "- It is created while starting the python interpreter, exists as long as the interpreter runs, and is destroyed when we close the interpreter. \n",
    "- It contains the names of built-in data types,exceptions and functions like print() and input(). "
   ]
  },
  {
   "cell_type": "code",
   "execution_count": 2,
   "id": "9b33962f",
   "metadata": {
    "ExecuteTime": {
     "end_time": "2022-07-13T11:25:00.612842Z",
     "start_time": "2022-07-13T11:25:00.608807Z"
    }
   },
   "outputs": [],
   "source": [
    "builtin_names = dir(__builtins__)\n",
    "# for name in builtin_names:\n",
    "#     print(name)"
   ]
  },
  {
   "cell_type": "code",
   "execution_count": 3,
   "id": "aa03dd75",
   "metadata": {
    "ExecuteTime": {
     "end_time": "2022-07-13T11:25:05.983016Z",
     "start_time": "2022-07-13T11:25:05.968046Z"
    }
   },
   "outputs": [
    {
     "data": {
      "text/plain": [
       "['ArithmeticError', 'AssertionError', 'AttributeError', 'BaseException']"
      ]
     },
     "execution_count": 3,
     "metadata": {},
     "output_type": "execute_result"
    }
   ],
   "source": [
    "builtin_names[0:4]"
   ]
  },
  {
   "cell_type": "code",
   "execution_count": 4,
   "id": "1b92d760",
   "metadata": {
    "ExecuteTime": {
     "end_time": "2022-07-13T11:25:13.419685Z",
     "start_time": "2022-07-13T11:25:13.413970Z"
    }
   },
   "outputs": [
    {
     "data": {
      "text/plain": [
       "list"
      ]
     },
     "execution_count": 4,
     "metadata": {},
     "output_type": "execute_result"
    }
   ],
   "source": [
    "type(builtin_names)"
   ]
  },
  {
   "cell_type": "code",
   "execution_count": null,
   "id": "3ed5085c",
   "metadata": {},
   "outputs": [],
   "source": []
  },
  {
   "cell_type": "code",
   "execution_count": null,
   "id": "b240e943",
   "metadata": {},
   "outputs": [],
   "source": [
    "apple = 5\n",
    "oranges = 9\n",
    "def add_apple():\n",
    "    apple = 3\n",
    "    print(f\"apple inside function: {apple}\")\n",
    "    \n",
    "add_apple()\n",
    "print(f\"apple outside function: {apple}\")"
   ]
  },
  {
   "cell_type": "markdown",
   "id": "bca36882",
   "metadata": {},
   "source": [
    "## Global namespace\n",
    "- Global namespaces are defined at the program or module level. \n",
    "- It contains the names of objects defined in a module or the main program. \n",
    "- A global namespace is created when the program starts and exists until the program is terminated by the python interpreter."
   ]
  },
  {
   "cell_type": "code",
   "execution_count": null,
   "id": "0eced9b6",
   "metadata": {},
   "outputs": [],
   "source": [
    "myNum1 = 10\n",
    "myNum2 = 10\n",
    "\n",
    "\n",
    "def add(num1, num2):\n",
    "    temp = num1 + num2\n",
    "    return temp"
   ]
  },
  {
   "cell_type": "markdown",
   "id": "2e22047a",
   "metadata": {},
   "source": [
    "In the example above, myNum1 and myNum2 are in the global namespace of the program."
   ]
  },
  {
   "cell_type": "markdown",
   "id": "7a63c043",
   "metadata": {},
   "source": [
    "## Local namespace"
   ]
  },
  {
   "cell_type": "markdown",
   "id": "7d7f42de",
   "metadata": {},
   "source": [
    "- A local namespace is defined for a class, a function, a loop, or any block of code. \n",
    "- The names defined in a block of code or a function are local to it. \n",
    "- **The variable names cannot be accessed outside the block of code or the function in which they are defined.**\n",
    "- The local namespace is created when the block of code or the function starts executing and terminates when the function or the block of code terminates. "
   ]
  },
  {
   "cell_type": "code",
   "execution_count": null,
   "id": "52c94284",
   "metadata": {},
   "outputs": [],
   "source": [
    "myNum1 = 10\n",
    "myNum2 = 10\n",
    "\n",
    "\n",
    "def add(num1, num2):\n",
    "    temp = num1 + num2\n",
    "    return temp"
   ]
  },
  {
   "cell_type": "markdown",
   "id": "b39b486b",
   "metadata": {},
   "source": [
    "The variable names num1, num2 and temp are defined in the local namespace in the function add."
   ]
  },
  {
   "cell_type": "code",
   "execution_count": 8,
   "id": "22ecbdae",
   "metadata": {
    "ExecuteTime": {
     "end_time": "2022-07-14T04:59:57.340061Z",
     "start_time": "2022-07-14T04:59:57.336760Z"
    }
   },
   "outputs": [],
   "source": [
    "def local_scope_example():\n",
    "    houses = 5\n",
    "    print(houses)"
   ]
  },
  {
   "cell_type": "code",
   "execution_count": 9,
   "id": "530c47db",
   "metadata": {
    "ExecuteTime": {
     "end_time": "2022-07-14T05:00:04.153927Z",
     "start_time": "2022-07-14T05:00:04.151278Z"
    }
   },
   "outputs": [
    {
     "name": "stdout",
     "output_type": "stream",
     "text": [
      "5\n"
     ]
    }
   ],
   "source": [
    "local_scope_example()\n",
    "# cannot access the variable outside the function because it \n",
    "# has local scope\n",
    "print(houses)"
   ]
  },
  {
   "cell_type": "code",
   "execution_count": null,
   "id": "cc9a7569",
   "metadata": {},
   "outputs": [],
   "source": [
    "# the difference between local scope and global scope is where you\n",
    "# create your variables of functions"
   ]
  },
  {
   "cell_type": "code",
   "execution_count": 14,
   "id": "8a69698c",
   "metadata": {
    "ExecuteTime": {
     "end_time": "2022-07-14T05:05:06.646582Z",
     "start_time": "2022-07-14T05:05:06.644062Z"
    }
   },
   "outputs": [],
   "source": [
    "rooms = 10\n",
    "def local_scope_example():\n",
    "    houses = 5\n",
    "    print(houses)\n",
    "    print(rooms)"
   ]
  },
  {
   "cell_type": "code",
   "execution_count": 13,
   "id": "e36a1dce",
   "metadata": {
    "ExecuteTime": {
     "end_time": "2022-07-14T05:05:00.625970Z",
     "start_time": "2022-07-14T05:05:00.623307Z"
    }
   },
   "outputs": [
    {
     "name": "stdout",
     "output_type": "stream",
     "text": [
      "5\n",
      "5\n"
     ]
    }
   ],
   "source": [
    "local_scope_example()"
   ]
  },
  {
   "cell_type": "code",
   "execution_count": null,
   "id": "95bdd085",
   "metadata": {},
   "outputs": [],
   "source": []
  },
  {
   "cell_type": "markdown",
   "id": "7965da8e",
   "metadata": {},
   "source": [
    "## Block Scope \n",
    "\n",
    "There is no Block scope in python like in C++ or Java."
   ]
  },
  {
   "cell_type": "code",
   "execution_count": 16,
   "id": "380856b4",
   "metadata": {
    "ExecuteTime": {
     "end_time": "2022-07-14T05:10:03.836012Z",
     "start_time": "2022-07-14T05:10:03.832713Z"
    }
   },
   "outputs": [],
   "source": [
    "if 10 > 5:\n",
    "    example = 'block'"
   ]
  },
  {
   "cell_type": "code",
   "execution_count": 17,
   "id": "7ac98ee9",
   "metadata": {
    "ExecuteTime": {
     "end_time": "2022-07-14T05:10:06.594436Z",
     "start_time": "2022-07-14T05:10:06.590094Z"
    }
   },
   "outputs": [
    {
     "data": {
      "text/plain": [
       "'block'"
      ]
     },
     "execution_count": 17,
     "metadata": {},
     "output_type": "execute_result"
    }
   ],
   "source": [
    "example"
   ]
  },
  {
   "cell_type": "code",
   "execution_count": 18,
   "id": "8a058879",
   "metadata": {
    "ExecuteTime": {
     "end_time": "2022-07-14T05:11:17.731364Z",
     "start_time": "2022-07-14T05:11:17.722560Z"
    }
   },
   "outputs": [],
   "source": [
    "def test_function():\n",
    "    if housing_price < 10:\n",
    "        option = 'high'"
   ]
  },
  {
   "cell_type": "code",
   "execution_count": 19,
   "id": "a4ebce32",
   "metadata": {
    "ExecuteTime": {
     "end_time": "2022-07-14T05:11:27.327778Z",
     "start_time": "2022-07-14T05:11:27.314123Z"
    }
   },
   "outputs": [
    {
     "ename": "NameError",
     "evalue": "name 'option' is not defined",
     "output_type": "error",
     "traceback": [
      "\u001b[0;31m---------------------------------------------------------------------------\u001b[0m",
      "\u001b[0;31mNameError\u001b[0m                                 Traceback (most recent call last)",
      "Input \u001b[0;32mIn [19]\u001b[0m, in \u001b[0;36m<cell line: 1>\u001b[0;34m()\u001b[0m\n\u001b[0;32m----> 1\u001b[0m \u001b[38;5;28mprint\u001b[39m(\u001b[43moption\u001b[49m)\n",
      "\u001b[0;31mNameError\u001b[0m: name 'option' is not defined"
     ]
    }
   ],
   "source": [
    "print(option)"
   ]
  },
  {
   "cell_type": "markdown",
   "id": "1af81a71",
   "metadata": {},
   "source": [
    "- **block like  if, while, for dont create local scope**.\n",
    "- **remember if you create a variable within a function then its only available within that function.**"
   ]
  },
  {
   "cell_type": "code",
   "execution_count": null,
   "id": "f565ad83",
   "metadata": {},
   "outputs": [],
   "source": []
  },
  {
   "cell_type": "markdown",
   "id": "01724e63",
   "metadata": {},
   "source": [
    "## Modifying Global variable"
   ]
  },
  {
   "cell_type": "code",
   "execution_count": 1,
   "id": "e035ea93",
   "metadata": {
    "ExecuteTime": {
     "end_time": "2022-07-14T06:43:25.437048Z",
     "start_time": "2022-07-14T06:43:25.423860Z"
    }
   },
   "outputs": [],
   "source": [
    "count = 1\n",
    "def increase_enemy():\n",
    "    count = count + 1\n",
    "    print(count)"
   ]
  },
  {
   "cell_type": "code",
   "execution_count": 2,
   "id": "1669c078",
   "metadata": {
    "ExecuteTime": {
     "end_time": "2022-07-14T06:43:26.214300Z",
     "start_time": "2022-07-14T06:43:25.913820Z"
    }
   },
   "outputs": [
    {
     "ename": "UnboundLocalError",
     "evalue": "local variable 'count' referenced before assignment",
     "output_type": "error",
     "traceback": [
      "\u001b[0;31m---------------------------------------------------------------------------\u001b[0m",
      "\u001b[0;31mUnboundLocalError\u001b[0m                         Traceback (most recent call last)",
      "Input \u001b[0;32mIn [2]\u001b[0m, in \u001b[0;36m<cell line: 1>\u001b[0;34m()\u001b[0m\n\u001b[0;32m----> 1\u001b[0m \u001b[43mincrease_enemy\u001b[49m\u001b[43m(\u001b[49m\u001b[43m)\u001b[49m\n",
      "Input \u001b[0;32mIn [1]\u001b[0m, in \u001b[0;36mincrease_enemy\u001b[0;34m()\u001b[0m\n\u001b[1;32m      2\u001b[0m \u001b[38;5;28;01mdef\u001b[39;00m \u001b[38;5;21mincrease_enemy\u001b[39m():\n\u001b[0;32m----> 3\u001b[0m     count \u001b[38;5;241m=\u001b[39m \u001b[43mcount\u001b[49m \u001b[38;5;241m+\u001b[39m \u001b[38;5;241m1\u001b[39m\n\u001b[1;32m      4\u001b[0m     \u001b[38;5;28mprint\u001b[39m(count)\n",
      "\u001b[0;31mUnboundLocalError\u001b[0m: local variable 'count' referenced before assignment"
     ]
    }
   ],
   "source": [
    "increase_enemy()"
   ]
  },
  {
   "cell_type": "markdown",
   "id": "5aeb63ef",
   "metadata": {},
   "source": [
    "The local variable referenced before assignment occurs when some variable is referenced before assignment within a function’s body. The error usually occurs when the code is trying to access the global variable."
   ]
  },
  {
   "cell_type": "code",
   "execution_count": 14,
   "id": "7cb0418a",
   "metadata": {
    "ExecuteTime": {
     "end_time": "2022-07-14T05:29:54.238931Z",
     "start_time": "2022-07-14T05:29:54.234246Z"
    }
   },
   "outputs": [],
   "source": [
    "count = 1\n",
    "def increase_enemy():\n",
    "    global count\n",
    "    count = count + 1\n",
    "    print(count)"
   ]
  },
  {
   "cell_type": "code",
   "execution_count": 15,
   "id": "bc342400",
   "metadata": {
    "ExecuteTime": {
     "end_time": "2022-07-14T05:29:54.807158Z",
     "start_time": "2022-07-14T05:29:54.801992Z"
    }
   },
   "outputs": [
    {
     "name": "stdout",
     "output_type": "stream",
     "text": [
      "2\n"
     ]
    }
   ],
   "source": [
    "increase_enemy()"
   ]
  },
  {
   "cell_type": "markdown",
   "id": "ee3cacd4",
   "metadata": {},
   "source": [
    "best practice\n",
    "\n",
    "**don't modify global variable**"
   ]
  },
  {
   "cell_type": "code",
   "execution_count": null,
   "id": "3943d14b",
   "metadata": {},
   "outputs": [],
   "source": []
  },
  {
   "cell_type": "markdown",
   "id": "538fdba2",
   "metadata": {},
   "source": [
    "## Global constants"
   ]
  },
  {
   "cell_type": "code",
   "execution_count": 4,
   "id": "08cc105c",
   "metadata": {
    "ExecuteTime": {
     "end_time": "2022-07-14T06:52:51.179419Z",
     "start_time": "2022-07-14T06:52:51.177448Z"
    }
   },
   "outputs": [],
   "source": [
    "# to differentiate difference between variable and constants,\n",
    "# the naming convention in python is to turn all letters to \n",
    "# uppercase.\n",
    "PI = 3.14159\n",
    "URL = \"https://www.google.com\""
   ]
  },
  {
   "cell_type": "markdown",
   "id": "2190872f",
   "metadata": {
    "ExecuteTime": {
     "end_time": "2022-07-14T06:48:08.318448Z",
     "start_time": "2022-07-14T06:48:08.313774Z"
    }
   },
   "source": [
    "don't use global variables, use global constants"
   ]
  },
  {
   "cell_type": "markdown",
   "id": "c4dd7807",
   "metadata": {},
   "source": [
    "# Lambda Functions"
   ]
  },
  {
   "cell_type": "markdown",
   "id": "8db2cafb",
   "metadata": {},
   "source": [
    "## Lamba"
   ]
  },
  {
   "cell_type": "markdown",
   "id": "0109de10",
   "metadata": {},
   "source": [
    "Python Lambda Functions are anonymous function.\n",
    "\n",
    "An anonymous function refers to a function declared with no name. \n",
    "\n",
    "As we already know that the def keyword is used to define a normal function in Python. \n",
    "\n",
    "Similarly, the lambda keyword is used to define an anonymous function in Python. \n",
    "\n",
    "The following are the characteristics of Python lambda functions:"
   ]
  },
  {
   "cell_type": "markdown",
   "id": "aeac3888",
   "metadata": {},
   "source": [
    "- A lambda function can take any number of arguments, but they contain only a single expression. \n",
    "- An expression is a piece of code executed by the lambda function, which may or may not return any value.\n",
    "- Lambda functions can be used to return function objects.\n",
    "- Syntactically, lambda functions are **restricted to only a single expression.**"
   ]
  },
  {
   "cell_type": "markdown",
   "id": "073e0c94",
   "metadata": {},
   "source": [
    "Python Lambda Function \n",
    "\n",
    "Syntax:\n",
    "\n",
    "```\n",
    "    lambda arguments: expression\n",
    "    \n",
    "```"
   ]
  },
  {
   "cell_type": "code",
   "execution_count": 1,
   "id": "206f2051",
   "metadata": {
    "ExecuteTime": {
     "end_time": "2022-07-15T10:22:27.506868Z",
     "start_time": "2022-07-15T10:22:27.494794Z"
    }
   },
   "outputs": [
    {
     "name": "stdout",
     "output_type": "stream",
     "text": [
      "6\n"
     ]
    }
   ],
   "source": [
    "product = lambda x, y : x * y\n",
    "\n",
    "print(product(2, 3))\n",
    "\n",
    "def product_func(x,y):\n",
    "    return x*y"
   ]
  },
  {
   "cell_type": "code",
   "execution_count": 2,
   "id": "eb28c953",
   "metadata": {
    "ExecuteTime": {
     "end_time": "2022-07-15T10:22:29.560620Z",
     "start_time": "2022-07-15T10:22:29.548528Z"
    }
   },
   "outputs": [
    {
     "data": {
      "text/plain": [
       "function"
      ]
     },
     "execution_count": 2,
     "metadata": {},
     "output_type": "execute_result"
    }
   ],
   "source": [
    "type(product)"
   ]
  },
  {
   "cell_type": "markdown",
   "id": "de1e5154",
   "metadata": {},
   "source": [
    "Why Use Lambda Functions?\n",
    "\n",
    "Lambda functions are used when you need a function for a short period of time. This is commonly used when you want to pass a function as an argument to higher-order functions, that is, functions that take other functions as their arguments.\n",
    "\n",
    "The use of anonymous function inside another function is explained in the following example:"
   ]
  },
  {
   "cell_type": "markdown",
   "id": "60a31256",
   "metadata": {},
   "source": [
    "## Map\n",
    "\n",
    "Syntax\n",
    "```\n",
    "map(function, iterable)\n",
    "```\n",
    "\n",
    "The map function takes in a function and an iterable(list, tuple, etc.) as an input"
   ]
  },
  {
   "cell_type": "code",
   "execution_count": 2,
   "id": "ea7a4ac6",
   "metadata": {
    "ExecuteTime": {
     "end_time": "2022-07-15T14:05:59.450907Z",
     "start_time": "2022-07-15T14:05:59.441051Z"
    }
   },
   "outputs": [
    {
     "data": {
      "text/plain": [
       "[1, 9, 25, 49, 81]"
      ]
     },
     "execution_count": 2,
     "metadata": {},
     "output_type": "execute_result"
    }
   ],
   "source": [
    "squares = []\n",
    "for n in range(1, 10, 2):\n",
    "    squares.append(n ** 2)\n",
    "    \n",
    "squares"
   ]
  },
  {
   "cell_type": "code",
   "execution_count": 3,
   "id": "a125d08b",
   "metadata": {
    "ExecuteTime": {
     "end_time": "2022-07-15T14:06:18.180842Z",
     "start_time": "2022-07-15T14:06:18.162599Z"
    }
   },
   "outputs": [
    {
     "data": {
      "text/plain": [
       "<map at 0x1c04276ac88>"
      ]
     },
     "execution_count": 3,
     "metadata": {},
     "output_type": "execute_result"
    }
   ],
   "source": [
    "def square(n):\n",
    "    return n ** 2\n",
    "squares = map(square, range(1, 10, 2))  \n",
    "squares"
   ]
  },
  {
   "cell_type": "code",
   "execution_count": 4,
   "id": "762aa841",
   "metadata": {
    "ExecuteTime": {
     "end_time": "2022-07-15T14:06:25.719268Z",
     "start_time": "2022-07-15T14:06:25.707248Z"
    }
   },
   "outputs": [
    {
     "data": {
      "text/plain": [
       "[1, 9, 25, 49, 81]"
      ]
     },
     "execution_count": 4,
     "metadata": {},
     "output_type": "execute_result"
    }
   ],
   "source": [
    "list(squares)"
   ]
  },
  {
   "cell_type": "code",
   "execution_count": 6,
   "id": "e4d3f1a3",
   "metadata": {
    "ExecuteTime": {
     "end_time": "2022-07-15T14:06:50.795680Z",
     "start_time": "2022-07-15T14:06:50.792565Z"
    }
   },
   "outputs": [
    {
     "data": {
      "text/plain": [
       "[1, 9, 25, 49, 81]"
      ]
     },
     "execution_count": 6,
     "metadata": {},
     "output_type": "execute_result"
    }
   ],
   "source": [
    "## In simple form\n",
    "\n",
    "squares = list(map(lambda n: n ** 2, range(1, 10, 2)))\n",
    "squares"
   ]
  },
  {
   "cell_type": "markdown",
   "id": "b59a2477",
   "metadata": {},
   "source": [
    "## Filter"
   ]
  },
  {
   "cell_type": "markdown",
   "id": "b6d3d87f",
   "metadata": {},
   "source": [
    "Syntax : \n",
    "```\n",
    "filter(function, iterable)\n",
    "\n",
    "```"
   ]
  },
  {
   "cell_type": "code",
   "execution_count": 8,
   "id": "2ddf464b",
   "metadata": {
    "ExecuteTime": {
     "end_time": "2022-07-15T14:07:33.895839Z",
     "start_time": "2022-07-15T14:07:33.875531Z"
    }
   },
   "outputs": [
    {
     "data": {
      "text/plain": [
       "[1, 23, 89]"
      ]
     },
     "execution_count": 8,
     "metadata": {},
     "output_type": "execute_result"
    }
   ],
   "source": [
    "nums = [1, 34, 23, 56, 89, 44, 92]\n",
    "odd_nums = [num for num in nums if num % 2 != 0]\n",
    "odd_nums"
   ]
  },
  {
   "cell_type": "code",
   "execution_count": 9,
   "id": "28fd74bd",
   "metadata": {
    "ExecuteTime": {
     "end_time": "2022-07-15T14:08:10.374278Z",
     "start_time": "2022-07-15T14:08:10.368207Z"
    }
   },
   "outputs": [
    {
     "name": "stdout",
     "output_type": "stream",
     "text": [
      "[1, 23, 89]\n"
     ]
    }
   ],
   "source": [
    "def find_odd(x):\n",
    "    if x % 2 != 0:\n",
    "        return x\n",
    "nums = [1, 34, 23, 56, 89, 44, 92]\n",
    "odds = list(filter(find_odd, nums))\n",
    "print(odds)"
   ]
  },
  {
   "cell_type": "markdown",
   "id": "7737c405",
   "metadata": {},
   "source": [
    "## Reduce"
   ]
  },
  {
   "cell_type": "markdown",
   "id": "41c5bbdc",
   "metadata": {},
   "source": [
    "Syntax : \n",
    "```\n",
    "reduce(function, iterable, [, initializer])\n",
    "\n",
    "```\n",
    "\n",
    "The reduce applies a function cumulatively on all the items of an iterable and returns a single value. "
   ]
  },
  {
   "cell_type": "code",
   "execution_count": 10,
   "id": "fccdf367",
   "metadata": {
    "ExecuteTime": {
     "end_time": "2022-07-15T14:09:09.928034Z",
     "start_time": "2022-07-15T14:09:09.908851Z"
    }
   },
   "outputs": [
    {
     "data": {
      "text/plain": [
       "15"
      ]
     },
     "execution_count": 10,
     "metadata": {},
     "output_type": "execute_result"
    }
   ],
   "source": [
    "nums = [1, 2, 3, 4, 5]\n",
    "summ = 0\n",
    "for num in nums:\n",
    "    summ += num\n",
    "summ"
   ]
  },
  {
   "cell_type": "code",
   "execution_count": 12,
   "id": "049dc8c8",
   "metadata": {
    "ExecuteTime": {
     "end_time": "2022-07-15T14:31:56.520276Z",
     "start_time": "2022-07-15T14:31:56.503859Z"
    }
   },
   "outputs": [
    {
     "data": {
      "text/plain": [
       "15"
      ]
     },
     "execution_count": 12,
     "metadata": {},
     "output_type": "execute_result"
    }
   ],
   "source": [
    "from functools import reduce \n",
    "nums = [1, 2, 3, 4, 5]\n",
    "summ = reduce(lambda x, y: x + y, nums)\n",
    "summ"
   ]
  },
  {
   "cell_type": "markdown",
   "id": "b4f98c7f",
   "metadata": {
    "ExecuteTime": {
     "end_time": "2022-07-15T14:10:28.045259Z",
     "start_time": "2022-07-15T14:10:28.026896Z"
    }
   },
   "source": [
    "<img src=\"resource/88656reduce.jpeg\">"
   ]
  },
  {
   "cell_type": "markdown",
   "id": "fda22e36",
   "metadata": {},
   "source": [
    "## Summary\n",
    "\n",
    "\n",
    "**Lambda**\n",
    "- Function with many arguments but only one expression.\n",
    "- It helps to make our code pythonic and to create function wrappers.\n",
    "\n",
    "**Map**\n",
    "- A function that applies a given function to each item of an iterable and returns an iterator.\n",
    "- It provides a faster way to transform an iterable based on the given condition.\n",
    "- It can have multiple iterables.\n",
    "\n",
    "**Filter**\n",
    "- It has the same syntax as the map function.\n",
    "- It helps in extracting items from an iterable based on the given condition.\n",
    "\n",
    "**Reduce**\n",
    "- It applies a function cumulatively/successively on each item of an iterable and returns a single value."
   ]
  },
  {
   "cell_type": "code",
   "execution_count": null,
   "id": "2a80cdad",
   "metadata": {},
   "outputs": [],
   "source": []
  }
 ],
 "metadata": {
  "kernelspec": {
   "display_name": "Python 3 (ipykernel)",
   "language": "python",
   "name": "python3"
  },
  "language_info": {
   "codemirror_mode": {
    "name": "ipython",
    "version": 3
   },
   "file_extension": ".py",
   "mimetype": "text/x-python",
   "name": "python",
   "nbconvert_exporter": "python",
   "pygments_lexer": "ipython3",
   "version": "3.9.12"
  },
  "toc": {
   "base_numbering": 1,
   "nav_menu": {},
   "number_sections": true,
   "sideBar": true,
   "skip_h1_title": false,
   "title_cell": "Table of Contents",
   "title_sidebar": "Contents",
   "toc_cell": false,
   "toc_position": {
    "height": "476px",
    "left": "21px",
    "top": "111.136px",
    "width": "328.273px"
   },
   "toc_section_display": true,
   "toc_window_display": true
  },
  "varInspector": {
   "cols": {
    "lenName": 16,
    "lenType": 16,
    "lenVar": 40
   },
   "kernels_config": {
    "python": {
     "delete_cmd_postfix": "",
     "delete_cmd_prefix": "del ",
     "library": "var_list.py",
     "varRefreshCmd": "print(var_dic_list())"
    },
    "r": {
     "delete_cmd_postfix": ") ",
     "delete_cmd_prefix": "rm(",
     "library": "var_list.r",
     "varRefreshCmd": "cat(var_dic_list()) "
    }
   },
   "types_to_exclude": [
    "module",
    "function",
    "builtin_function_or_method",
    "instance",
    "_Feature"
   ],
   "window_display": false
  }
 },
 "nbformat": 4,
 "nbformat_minor": 5
}
