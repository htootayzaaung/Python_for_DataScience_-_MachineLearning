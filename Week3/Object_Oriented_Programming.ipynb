{
 "cells": [
  {
   "cell_type": "markdown",
   "id": "392833dd",
   "metadata": {},
   "source": [
    "# Objects and Classes"
   ]
  },
  {
   "cell_type": "markdown",
   "id": "d908fde3",
   "metadata": {},
   "source": [
    "## Theory"
   ]
  },
  {
   "cell_type": "markdown",
   "id": "320afa1c",
   "metadata": {},
   "source": [
    "**Python is an Object-Oriented Programming language, so everything in Python is treated as an object. An object is a real-life entity. It is the collection of various data and functions that operate on those data.**\n",
    "\n",
    "\n",
    "- **Class**: The class is a user-defined data structure that binds the data members and methods into a single unit. Class is a blueprint or code template for object creation. Using a class, you can create as many objects as you want.\n",
    "\n",
    "\n",
    "- **Object**: An object is an instance of a class. It is a collection of attributes (variables) and methods. We use the object of a class to perform actions.\n",
    "\n",
    "\n",
    "\n",
    "\n",
    "Every object has the following property.\n",
    "\n",
    "- Identity: Every object must be uniquely identified.\n",
    "- State: An object has an attribute that represents a state of an object, and it also reflects the property of an object.\n",
    "- Behavior: An object has methods that represent its behavior.\n",
    "\n",
    "\n",
    "<img src=\"resource/class_and_objects.jpg\">\n",
    "\n",
    "\n",
    "<font color=\"red\">both objects are created from the same class, but they have different states and behaviors.</font>\n"
   ]
  },
  {
   "cell_type": "markdown",
   "id": "b9f84055",
   "metadata": {},
   "source": [
    "## Create Class in Python\n",
    "\n",
    "\n",
    "In Python, class is defined by using the **class** keyword. "
   ]
  },
  {
   "cell_type": "markdown",
   "id": "ae8a1719",
   "metadata": {},
   "source": [
    "```\n",
    "class class_name:\n",
    "    '''This is a docstring. I have created a new class'''\n",
    "    <statement 1>\n",
    "    <statement 2>\n",
    "    .\n",
    "    .\n",
    "    <statement N>\n",
    "```\n",
    "\n",
    "**class_name**: It is the name of the class\n",
    "\n",
    "**Docstring**: It is the first string inside the class and has a brief description of the class. Although not mandatory, this is highly recommended.\n",
    "\n",
    "**statements**: Attributes and methods"
   ]
  },
  {
   "cell_type": "code",
   "execution_count": 1,
   "id": "87d8c578",
   "metadata": {},
   "outputs": [],
   "source": [
    "class Person:\n",
    "    def __init__(self, name, sex, profession):\n",
    "        # data members (instance variables)\n",
    "        self.name = name\n",
    "        self.sex = sex\n",
    "        self.profession = profession\n",
    "\n",
    "    # Behavior (instance methods)\n",
    "    def show(self):\n",
    "        print('Name:', self.name, 'Sex:', self.sex, 'Profession:', self.profession)\n",
    "\n",
    "    # Behavior (instance methods)\n",
    "    def work(self):\n",
    "        print(self.name, 'working as a', self.profession)"
   ]
  },
  {
   "cell_type": "markdown",
   "id": "c148318e",
   "metadata": {},
   "source": [
    "## Create Object in Python\n",
    "\n",
    "An object is essential to work with the class attributes. The object is created using the class name. When we create an object of the class, **it is called instantiation**. The object is also called the instance of a class.\n",
    "\n",
    "A **constructor** is a special method used to create and initialize an object of a class. This method is defined in the class.\n",
    "\n",
    "In Python, Object creation is divided into two parts in Object Creation and Object initialization\n",
    "\n",
    "- the __new__ is the method that creates the object\n",
    "- using the __init__() method we can implement constructor to initialize the object.\n",
    "\n",
    "Syntax:\n",
    "\n",
    "``` <object-name> = <class-name>(<arguments>)  ```\n",
    "\n",
    "```jessa = Person('Jessa', 'Female', 'Software Engineer')```"
   ]
  },
  {
   "cell_type": "code",
   "execution_count": 2,
   "id": "d7149fb0",
   "metadata": {},
   "outputs": [
    {
     "name": "stdout",
     "output_type": "stream",
     "text": [
      "Name: Jessa Sex: Female Profession: Software Engineer\n",
      "Jessa working as a Software Engineer\n"
     ]
    }
   ],
   "source": [
    "class Person:\n",
    "    def __init__(self, name, sex, profession):\n",
    "        # data members (instance variables)\n",
    "        self.name = name\n",
    "        self.sex = sex\n",
    "        self.profession = profession\n",
    "\n",
    "    # Behavior (instance methods)\n",
    "    def show(self):\n",
    "        print('Name:', self.name, 'Sex:', self.sex, 'Profession:', self.profession)\n",
    "\n",
    "    # Behavior (instance methods)\n",
    "    def work(self):\n",
    "        print(self.name, 'working as a', self.profession)\n",
    "\n",
    "# create object of a class\n",
    "jessa = Person('Jessa', 'Female', 'Software Engineer')\n",
    "\n",
    "# call methods\n",
    "jessa.show()\n",
    "jessa.work()"
   ]
  },
  {
   "cell_type": "markdown",
   "id": "90d9c36b",
   "metadata": {},
   "source": [
    "## Class Attributes\n",
    "\n",
    "\n",
    "In Class, attributes can be defined into two parts:\n",
    "\n",
    "- Instance variables: The instance variables are attributes attached to an instance of a class. We define instance variables <font color=\"red\">in the constructor </font> ( the __init__() method of a class).\n",
    "- Class Variables: A class variable is a variable that is declared inside of class, but <font color=\"red\">outside of any instance method </font> or __init__() method."
   ]
  },
  {
   "cell_type": "markdown",
   "id": "b4402002",
   "metadata": {},
   "source": [
    "<img src=\"resource/class_attributes_in_python.jpg\">"
   ]
  },
  {
   "cell_type": "code",
   "execution_count": 2,
   "id": "a084b8ea",
   "metadata": {},
   "outputs": [
    {
     "name": "stdout",
     "output_type": "stream",
     "text": [
      "Student: Harry 12\n",
      "School name: ABC School\n",
      "Student: Jessa 14\n",
      "=====================\n"
     ]
    }
   ],
   "source": [
    "class Student:\n",
    "    # class variables\n",
    "    school_name = 'ABC School'\n",
    "\n",
    "    # constructor\n",
    "    def __init__(self, name, age):\n",
    "        # instance variables\n",
    "        self.name = name\n",
    "        self.age = age\n",
    "\n",
    "s1 = Student(\"Harry\", 12)\n",
    "# access instance variables\n",
    "print('Student:', s1.name, s1.age)\n",
    "\n",
    "# access class variable\n",
    "print('School name:', Student.school_name)\n",
    "\n",
    "# Modify instance variables\n",
    "s1.name = 'Jessa'\n",
    "s1.age = 14\n",
    "print('Student:', s1.name, s1.age)\n",
    "print(\"=====================\")\n"
   ]
  },
  {
   "cell_type": "code",
   "execution_count": 16,
   "id": "7d8ce176",
   "metadata": {},
   "outputs": [
    {
     "name": "stdout",
     "output_type": "stream",
     "text": [
      "Thet Su\n",
      "27\n",
      "University of Technology (YCC)\n",
      "University of Technology (YCC)\n"
     ]
    }
   ],
   "source": [
    "## Change the class variables\n",
    "## ****\n",
    "Student.school_name = \"University of Technology (YCC)\"\n",
    "## ****\n",
    "\n",
    "s2 = Student(\"Thet Su\", 27)\n",
    "print(s2.name)\n",
    "print(s2.age)\n",
    "print(s2.school_name)\n",
    "\n",
    "print(s1.school_name)\n"
   ]
  },
  {
   "cell_type": "code",
   "execution_count": 17,
   "id": "0438f058",
   "metadata": {},
   "outputs": [
    {
     "name": "stdout",
     "output_type": "stream",
     "text": [
      "Swan Aung\n",
      "27\n",
      "University of Technology (YCC)\n",
      "Asian Instutite of Technology (AIT)\n",
      "University of Technology (YCC)\n"
     ]
    }
   ],
   "source": [
    "## change the object instances\n",
    "s3 = Student(\"Swan Aung\", 27)\n",
    "print(s3.name)\n",
    "print(s3.age)\n",
    "print(s3.school_name)\n",
    "\n",
    "## ****\n",
    "s3.school_name = \"Asian Instutite of Technology (AIT)\"\n",
    "## ****\n",
    "\n",
    "print(s3.school_name)\n",
    "print(s2.school_name)"
   ]
  },
  {
   "cell_type": "markdown",
   "id": "03bd8148",
   "metadata": {},
   "source": [
    "## Class Methods\n",
    "\n",
    "\n",
    "**Instance method**: Used to access or modify the object state. If we use instance variables inside a method, such methods are called instance methods.\n",
    "\n",
    "**Class method** : Used to access or modify the class state. In method implementation, if we use only class variables, then such type of methods we should declare as a class method.\n",
    "\n",
    "**Static method**: It is a general utility method that performs a task in isolation. Inside this method, we don’t use instance or class variable because this static method doesn’t have access to the class attributes.\n"
   ]
  },
  {
   "cell_type": "code",
   "execution_count": 45,
   "id": "7acd3333",
   "metadata": {},
   "outputs": [
    {
     "name": "stdout",
     "output_type": "stream",
     "text": [
      "21\n",
      "26\n",
      "True\n"
     ]
    }
   ],
   "source": [
    "# Python program to demonstrate\n",
    "# use of class method and static method.\n",
    "from datetime import date\n",
    "\n",
    "\n",
    "class Person:\n",
    "\tdef __init__(self, name, age):\n",
    "\t\tself.name = name\n",
    "\t\tself.age = age\n",
    "\n",
    "\t# a class method to create a Person object by birth year.\n",
    "\t@classmethod\n",
    "\tdef fromBirthYear(cls, name, year):\n",
    "\t\treturn cls(name, date.today().year - year)\n",
    "\n",
    "\t# a static method to check if a Person is adult or not.\n",
    "\t@staticmethod\n",
    "\tdef isAdult(age):\n",
    "\t\treturn age > 18\n",
    "\n",
    "\n",
    "person1 = Person('mayank', 21)\n",
    "person2 = Person.fromBirthYear('mayank', 1996)\n",
    "\n",
    "print(person1.age)\n",
    "print(person2.age)\n",
    "\n",
    "# print the result\n",
    "print(Person.isAdult(22))\n"
   ]
  },
  {
   "cell_type": "markdown",
   "id": "aac65545",
   "metadata": {},
   "source": [
    "**Class method vs Static Method**\n",
    "\n",
    "The difference between the Class method and the static method is:\n",
    "\n",
    "- A class method takes **cls** as the first parameter while a static method needs no specific parameters.\n",
    "- A class method can access or modify the class state while a static method can’t access or modify it.\n",
    "- In general, static methods know nothing about the class state. They are utility-type methods that take some parameters and work upon those parameters. On the other hand class methods must have class as a parameter.\n",
    "- We use @classmethod decorator in python to create a class method and we use @staticmethod decorator to create a static method in python."
   ]
  },
  {
   "cell_type": "markdown",
   "id": "82491e08",
   "metadata": {},
   "source": [
    "<img src=\"resource/python_class_method_vs_static_method_vs_instance_method.webp\">"
   ]
  },
  {
   "cell_type": "markdown",
   "id": "74bad5bb",
   "metadata": {},
   "source": [
    "**(1) Primary Use**\n",
    "\n",
    "- Class method Used to access or modify the class state. It can modify the class state by changing the value of a class variable that would apply across all the class objects.\n",
    "\n",
    "- The instance method acts on an object’s attributes. It can modify the object state by changing the value of instance variables.\n",
    "\n",
    "- Static methods have limited use because they don’t have access to the attributes of an object (instance variables) and class attributes (class variables). However, they can be helpful in utility such as conversion form one type to another.\n",
    "\n",
    "**(2) Method Defination**\n",
    "\n",
    "- All three methods are defined inside a class, and it is pretty similar to defining a regular function.\n",
    "Any method we create in a class will automatically be created as an instance method. We must explicitly tell Python that it is a class method or static method.\n",
    "- Use the **@classmethod** decorator or the classmethod() function to define the class method\n",
    "- Use the **@staticmethod** decorator or the staticmethod() function to define a static method.\n",
    "\n",
    "**(3) Method Call**\n",
    "\n",
    "- Class methods and static methods can be called using ClassName or by using a class object.\n",
    "- The Instance method can be called only using the object of the class.\n",
    "\n",
    "**(4) Attribute Access**\n",
    "\n",
    "- The instance method can access both class level and object attributes. Therefore, It can modify the object state.\n",
    "- Class methods can only access class level attributes. Therefore, It can modify the class state.\n",
    "- A static method doesn’t have access to the class attribute and instance attributes. Therefore, it cannot modify the class or object state."
   ]
  },
  {
   "cell_type": "code",
   "execution_count": 48,
   "id": "81a8ba1e",
   "metadata": {},
   "outputs": [
    {
     "name": "stdout",
     "output_type": "stream",
     "text": [
      "Student: Jessa 12\n",
      "School: ABC School\n",
      "Previous School name: ABC School\n",
      "School name changed to XYZ School\n"
     ]
    }
   ],
   "source": [
    "class Student:\n",
    "    # class variables\n",
    "    school_name = 'ABC School'\n",
    "\n",
    "    def __init__(self, name, age):\n",
    "        self.name = name\n",
    "        self.age = age\n",
    "\n",
    "    # instance method\n",
    "    def show(self):\n",
    "        # access instance variables\n",
    "        print('Student:', self.name, self.age)\n",
    "        # access class variables\n",
    "        print('School:', self.school_name)\n",
    "\n",
    "    @classmethod\n",
    "    def change_School(cls, name):\n",
    "        # access class variable\n",
    "        print('Previous School name:', cls.school_name)\n",
    "        cls.school_name = name\n",
    "        print('School name changed to', Student.school_name)\n",
    "\n",
    "    @staticmethod\n",
    "    def find_notes(subject_name):\n",
    "        # can't access instance or class attributes\n",
    "        return ['chapter 1', 'chapter 2', 'chapter 3']\n",
    "\n",
    "# create object\n",
    "jessa = Student('Jessa', 12)\n",
    "# call instance method\n",
    "jessa.show()\n",
    "\n",
    "# call class method\n",
    "Student.change_School('XYZ School')"
   ]
  },
  {
   "cell_type": "markdown",
   "id": "62432e38",
   "metadata": {},
   "source": [
    "**(5) Class Bound and Instance Bound**\n",
    "\n",
    "- An instance method is bound to the object, so we can access them using the object of the class.\n",
    "- Class methods and static methods are bound to the class. So we should access them using the class name."
   ]
  },
  {
   "cell_type": "code",
   "execution_count": 58,
   "id": "76902e25",
   "metadata": {},
   "outputs": [
    {
     "name": "stdout",
     "output_type": "stream",
     "text": [
      "In Instance method\n",
      "None\n",
      "In class method\n",
      "None\n",
      "In Static method\n",
      "None\n"
     ]
    }
   ],
   "source": [
    "class Student:\n",
    "    def __init__(self, roll_no): self.roll_no = roll_no\n",
    "\n",
    "    # instance method\n",
    "    def show(self):\n",
    "        print('In Instance method')\n",
    "\n",
    "    @classmethod\n",
    "    def change_school(cls, name):\n",
    "        print('In class method')\n",
    "\n",
    "    @staticmethod\n",
    "    def find_notes(subject_name):\n",
    "        print('In Static method')\n",
    "\n",
    "# create two objects\n",
    "jessa = Student(12)\n",
    "\n",
    "# instance method bound to object\n",
    "print(jessa.show())\n",
    "\n",
    "# class method bound to class\n",
    "print(jessa.change_school(\"change\"))\n",
    "\n",
    "# static method bound to class\n",
    "print(Student.find_notes(\"change\"))\n"
   ]
  },
  {
   "cell_type": "markdown",
   "id": "64aeb4a7",
   "metadata": {},
   "source": [
    "In Python, a separate copy of the instance methods will be created for every object.\n",
    "\n",
    "**Suppose you create five Student objects, then Python has to create five copies of the show() method (separate for each object). So it will consume more memory. On the other hand, the static method has only one copy per class.**"
   ]
  },
  {
   "cell_type": "code",
   "execution_count": 6,
   "id": "c4697719",
   "metadata": {},
   "outputs": [],
   "source": [
    "class Student:\n",
    "    def __init__(self, roll_no): self.roll_no = roll_no\n",
    "\n",
    "    # instance method\n",
    "    def show(self):\n",
    "        print('In Instance method')\n",
    "\n",
    "    @classmethod\n",
    "    def change_school(cls, name):\n",
    "        print('In class method')\n",
    "\n",
    "    @staticmethod\n",
    "    def find_notes(subject_name):\n",
    "        print('In Static method')"
   ]
  },
  {
   "cell_type": "code",
   "execution_count": 8,
   "id": "1d0fa4fd",
   "metadata": {},
   "outputs": [
    {
     "name": "stdout",
     "output_type": "stream",
     "text": [
      "False\n",
      "True\n"
     ]
    }
   ],
   "source": [
    "# create two objects\n",
    "jessa = Student(12)\n",
    "kelly = Student(25)\n",
    "\n",
    "# False because two separate copies\n",
    "print(jessa.show is kelly.show)\n",
    "\n",
    "# True objects share same copies of static methods\n",
    "print(jessa.find_notes is kelly.find_notes)"
   ]
  },
  {
   "cell_type": "markdown",
   "id": "1ecd907f",
   "metadata": {},
   "source": [
    "## Go to In-Class exercises"
   ]
  },
  {
   "cell_type": "markdown",
   "id": "c8648127",
   "metadata": {},
   "source": [
    "# Constructors"
   ]
  },
  {
   "cell_type": "markdown",
   "id": "51bd7fbb",
   "metadata": {},
   "source": [
    "In object-oriented programming, A constructor is a special method **used to create and initialize an object of a class. This method is defined in the class.**\n",
    "\n",
    "The constructor is executed automatically at the time of object creation.\n",
    "The primary use of a constructor is to declare and initialize data member/ instance variables of a class. The constructor contains a collection of statements (i.e., instructions) that executes at the time of object creation to initialize the attributes of an object.\n"
   ]
  },
  {
   "cell_type": "markdown",
   "id": "c56709c9",
   "metadata": {},
   "source": [
    "<font color=\"blue\"> Notes : </font>\n",
    "\n",
    "In Python, internally, the __new__ is the method that creates the object, and __del__ method is called to destroy the object when the reference count for that object becomes zero.\n",
    "\n",
    "\n",
    "Object creation is divided into two parts in Object Creation and Object initialization\n",
    "\n",
    "- Internally, the __new__ is the method that creates the object\n",
    "\n",
    "- And, using the __init__() method we can implement constructor to initialize the object.\n",
    "\n",
    "\n",
    "Syntaxt of a constructor :\n",
    "\n",
    "```\n",
    "def __init__(self):\n",
    "    # body of the constructor\n",
    "    \n",
    "```\n",
    "\n",
    "where \n",
    "\n",
    "- def: The keyword is used to define function.\n",
    "- __init__() Method: It is a reserved method. This method gets called as soon as an object of a class is instantiated.\n",
    "- self: The first argument self refers to the current object. It binds the instance to the __init__() method. It’s usually named self to follow the naming convention.\n",
    "\n",
    "**Note** : The __init__() method arguments are optional. "
   ]
  },
  {
   "cell_type": "code",
   "execution_count": 1,
   "id": "c091f255",
   "metadata": {
    "ExecuteTime": {
     "end_time": "2022-07-15T01:38:56.408814Z",
     "start_time": "2022-07-15T01:38:56.392657Z"
    }
   },
   "outputs": [
    {
     "name": "stdout",
     "output_type": "stream",
     "text": [
      "Inside Constructor\n",
      "All variables initialized\n",
      "Hello, my name is Emma\n"
     ]
    }
   ],
   "source": [
    "## Example of how to create a constructor\n",
    "class Student:\n",
    "\n",
    "    # constructor\n",
    "    # initialize instance variable\n",
    "    def __init__(self, name):\n",
    "        print('Inside Constructor')\n",
    "        self.name = name\n",
    "        print('All variables initialized')\n",
    "\n",
    "    # instance Method\n",
    "    def show(self):\n",
    "        print('Hello, my name is', self.name)\n",
    "\n",
    "\n",
    "# create object using constructor\n",
    "s1 = Student('Emma')\n",
    "s1.show()"
   ]
  },
  {
   "cell_type": "markdown",
   "id": "7879e220",
   "metadata": {},
   "source": [
    "**Note**\n",
    "\n",
    "- For every object, the constructor will be executed only once. For example, if we create four objects, the constructor is called four times.\n",
    "- In Python, every class has a constructor, but it’s not required to define it explicitly. Defining constructors in class is optional.\n",
    "- Python will provide a default constructor if no constructor is defined."
   ]
  },
  {
   "cell_type": "markdown",
   "id": "39426f7c",
   "metadata": {},
   "source": [
    "## Types of Contructors\n",
    "\n",
    "- Default Constructor\n",
    "- Non-parametrized constructor\n",
    "- Parameterized constructor\n"
   ]
  },
  {
   "cell_type": "markdown",
   "id": "1c4f5a54",
   "metadata": {},
   "source": [
    "<img src=\"resource/types_of_constructor.webp\">"
   ]
  },
  {
   "cell_type": "code",
   "execution_count": 2,
   "id": "f3c71884",
   "metadata": {
    "ExecuteTime": {
     "end_time": "2022-07-15T01:46:24.228966Z",
     "start_time": "2022-07-15T01:46:24.203518Z"
    }
   },
   "outputs": [
    {
     "name": "stdout",
     "output_type": "stream",
     "text": [
      "Inside Display\n"
     ]
    }
   ],
   "source": [
    "## default constructor\n",
    "class Employee:\n",
    "    def display(self):\n",
    "        print('Inside Display')\n",
    "\n",
    "emp = Employee()\n",
    "emp.display()"
   ]
  },
  {
   "cell_type": "code",
   "execution_count": 3,
   "id": "ee3cec96",
   "metadata": {
    "ExecuteTime": {
     "end_time": "2022-07-15T01:46:54.404845Z",
     "start_time": "2022-07-15T01:46:54.371018Z"
    }
   },
   "outputs": [
    {
     "name": "stdout",
     "output_type": "stream",
     "text": [
      "Name: PYnative Address: ABC Street\n"
     ]
    }
   ],
   "source": [
    "## Non-Parametrized Constructor\n",
    "class Company:\n",
    "\n",
    "    # no-argument constructor\n",
    "    def __init__(self):\n",
    "        self.name = \"PYnative\"\n",
    "        self.address = \"ABC Street\"\n",
    "\n",
    "    # a method for printing data members\n",
    "    def show(self):\n",
    "        print('Name:', self.name, 'Address:', self.address)\n",
    "\n",
    "# creating object of the class\n",
    "cmp = Company()\n",
    "\n",
    "# calling the instance method using the object\n",
    "cmp.show()"
   ]
  },
  {
   "cell_type": "code",
   "execution_count": 4,
   "id": "f4c9c487",
   "metadata": {
    "ExecuteTime": {
     "end_time": "2022-07-15T01:47:08.378294Z",
     "start_time": "2022-07-15T01:47:08.360322Z"
    }
   },
   "outputs": [
    {
     "name": "stdout",
     "output_type": "stream",
     "text": [
      "Emma 23 7500\n",
      "Kelly 25 8500\n"
     ]
    }
   ],
   "source": [
    "## Parameterized Constructor\n",
    "class Employee:\n",
    "    # parameterized constructor\n",
    "    def __init__(self, name, age, salary):\n",
    "        self.name = name\n",
    "        self.age = age\n",
    "        self.salary = salary\n",
    "\n",
    "    # display object\n",
    "    def show(self):\n",
    "        print(self.name, self.age, self.salary)\n",
    "\n",
    "# creating object of the Employee class\n",
    "emma = Employee('Emma', 23, 7500)\n",
    "emma.show()\n",
    "\n",
    "kelly = Employee('Kelly', 25, 8500)\n",
    "kelly.show()"
   ]
  },
  {
   "cell_type": "markdown",
   "id": "141cf301",
   "metadata": {},
   "source": [
    "## Constructor With Default Values\n"
   ]
  },
  {
   "cell_type": "code",
   "execution_count": 5,
   "id": "7abea256",
   "metadata": {
    "ExecuteTime": {
     "end_time": "2022-07-15T01:47:28.326352Z",
     "start_time": "2022-07-15T01:47:28.307241Z"
    }
   },
   "outputs": [
    {
     "name": "stdout",
     "output_type": "stream",
     "text": [
      "Emma 12 7\n",
      "Kelly 13 7\n"
     ]
    }
   ],
   "source": [
    "class Student:\n",
    "    # constructor with default values age and classroom\n",
    "    def __init__(self, name, age=12, classroom=7):\n",
    "        self.name = name\n",
    "        self.age = age\n",
    "        self.classroom = classroom\n",
    "\n",
    "    # display Student\n",
    "    def show(self):\n",
    "        print(self.name, self.age, self.classroom)\n",
    "\n",
    "# creating object of the Student class\n",
    "emma = Student('Emma')\n",
    "emma.show()\n",
    "\n",
    "kelly = Student('Kelly', 13)\n",
    "kelly.show()"
   ]
  },
  {
   "cell_type": "markdown",
   "id": "77e955a4",
   "metadata": {},
   "source": [
    "## Self Keyword\n",
    "\n",
    "Whenever we call an instance method through an object, the **Python compiler implicitly passes object reference as the first argument commonly known as self.**\n",
    "\n",
    "It is not mandatory to name the first parameter as a self. We can give any name whatever we like, but it has to be the first parameter of an instance method.\n"
   ]
  },
  {
   "cell_type": "code",
   "execution_count": 6,
   "id": "a4253b14",
   "metadata": {
    "ExecuteTime": {
     "end_time": "2022-07-15T01:48:00.578740Z",
     "start_time": "2022-07-15T01:48:00.551835Z"
    }
   },
   "outputs": [
    {
     "name": "stdout",
     "output_type": "stream",
     "text": [
      "Emma 12\n",
      "Kelly 13\n"
     ]
    }
   ],
   "source": [
    "class Student:\n",
    "    # constructor\n",
    "    def __init__(self, name, age):\n",
    "        self.name = name\n",
    "        self.age = age\n",
    "\n",
    "    # self points to the current object\n",
    "    def show(self):\n",
    "        # access instance variable using self\n",
    "        print(self.name, self.age)\n",
    "\n",
    "# creating first object\n",
    "emma = Student('Emma', 12)\n",
    "emma.show()\n",
    "\n",
    "# creating Second object\n",
    "kelly = Student('Kelly', 13)\n",
    "kelly.show()"
   ]
  },
  {
   "cell_type": "markdown",
   "id": "04da21f2",
   "metadata": {},
   "source": [
    "## Constructor Overloading\n",
    "\n",
    "Constructor overloading is a concept of having more than one constructor with a different parameters list in such a way so that each constructor can perform different tasks.\n",
    "\n",
    "\n",
    "**Python does not support constructor overloading.**\n",
    "If we define multiple constructors then, the interpreter will considers only the last constructor and throws an error if the sequence of the arguments doesn’t match as per the last constructor. The following example shows the same."
   ]
  },
  {
   "cell_type": "code",
   "execution_count": 9,
   "id": "c518db1a",
   "metadata": {
    "ExecuteTime": {
     "end_time": "2022-07-15T01:51:35.519309Z",
     "start_time": "2022-07-15T01:51:35.482098Z"
    }
   },
   "outputs": [
    {
     "ename": "TypeError",
     "evalue": "__init__() missing 1 required positional argument: 'age'",
     "output_type": "error",
     "traceback": [
      "\u001b[1;31m---------------------------------------------------------------------------\u001b[0m",
      "\u001b[1;31mTypeError\u001b[0m                                 Traceback (most recent call last)",
      "\u001b[1;32m~\\AppData\\Local\\Temp\\ipykernel_3508\\1770954806.py\u001b[0m in \u001b[0;36m<module>\u001b[1;34m\u001b[0m\n\u001b[0;32m     12\u001b[0m \u001b[1;33m\u001b[0m\u001b[0m\n\u001b[0;32m     13\u001b[0m \u001b[1;31m# creating first object\u001b[0m\u001b[1;33m\u001b[0m\u001b[1;33m\u001b[0m\u001b[0m\n\u001b[1;32m---> 14\u001b[1;33m \u001b[0memma\u001b[0m \u001b[1;33m=\u001b[0m \u001b[0mStudent\u001b[0m\u001b[1;33m(\u001b[0m\u001b[1;34m'Emma'\u001b[0m\u001b[1;33m)\u001b[0m\u001b[1;33m\u001b[0m\u001b[0m\n\u001b[0m\u001b[0;32m     15\u001b[0m \u001b[1;33m\u001b[0m\u001b[0m\n\u001b[0;32m     16\u001b[0m \u001b[1;31m# creating Second object\u001b[0m\u001b[1;33m\u001b[0m\u001b[1;33m\u001b[0m\u001b[0m\n",
      "\u001b[1;31mTypeError\u001b[0m: __init__() missing 1 required positional argument: 'age'"
     ]
    }
   ],
   "source": [
    "class Student:\n",
    "    # one argument constructor\n",
    "    def __init__(self, name):\n",
    "        print(\"One arguments constructor\")\n",
    "        self.name = name\n",
    "\n",
    "    # two argument constructor\n",
    "    def __init__(self, name, age):\n",
    "        print(\"Two arguments constructor\")\n",
    "        self.name = name\n",
    "        self.age = age\n",
    "\n",
    "# creating first object\n",
    "emma = Student('Emma')\n",
    "\n",
    "# creating Second object\n",
    "kelly = Student('Kelly', 13)"
   ]
  },
  {
   "cell_type": "markdown",
   "id": "ac1d2b6e",
   "metadata": {},
   "source": [
    "## Constructor Return Value\n",
    "\n",
    "In Python, the constructor does not return any value. Therefore, while declaring a constructor, we don’t have anything like return type\n",
    "\n",
    "The __init__() is required to return None. We can not return something else. If we try to return a non-None value from the __init__() method, it will raise TypeError."
   ]
  },
  {
   "cell_type": "code",
   "execution_count": 11,
   "id": "3d8b72d1",
   "metadata": {
    "ExecuteTime": {
     "end_time": "2022-07-15T02:05:02.330873Z",
     "start_time": "2022-07-15T02:05:02.299298Z"
    }
   },
   "outputs": [
    {
     "ename": "TypeError",
     "evalue": "__init__() should return None, not 'bool'",
     "output_type": "error",
     "traceback": [
      "\u001b[1;31m---------------------------------------------------------------------------\u001b[0m",
      "\u001b[1;31mTypeError\u001b[0m                                 Traceback (most recent call last)",
      "\u001b[1;32m~\\AppData\\Local\\Temp\\ipykernel_3508\\3331727404.py\u001b[0m in \u001b[0;36m<module>\u001b[1;34m\u001b[0m\n\u001b[0;32m      5\u001b[0m         \u001b[1;32mreturn\u001b[0m \u001b[1;32mTrue\u001b[0m\u001b[1;33m\u001b[0m\u001b[0m\n\u001b[0;32m      6\u001b[0m \u001b[1;33m\u001b[0m\u001b[0m\n\u001b[1;32m----> 7\u001b[1;33m \u001b[0md\u001b[0m \u001b[1;33m=\u001b[0m \u001b[0mTest\u001b[0m\u001b[1;33m(\u001b[0m\u001b[1;36m10\u001b[0m\u001b[1;33m)\u001b[0m\u001b[1;33m\u001b[0m\u001b[0m\n\u001b[0m",
      "\u001b[1;31mTypeError\u001b[0m: __init__() should return None, not 'bool'"
     ]
    }
   ],
   "source": [
    "class Test:\n",
    "\n",
    "    def __init__(self, i):\n",
    "        self.id = i\n",
    "        return True\n",
    "\n",
    "d = Test(10)"
   ]
  },
  {
   "cell_type": "markdown",
   "id": "ca849b2d",
   "metadata": {},
   "source": [
    "## Conclusion and Quick recap\n",
    "\n",
    "\n",
    "-  A constructor is a unique method used to initialize an object of the class.\n",
    "- Python will provide a default constructor if no constructor is defined.\n",
    "- Constructor is not a method and doesn’t return anything. it returns None\n",
    "- In Python, we have three types of constructor default, Non-parametrized, and parameterized constructor.\n",
    "- Using self, we can access the instance variable and instance method of the object. The first argument self refers to the current object."
   ]
  },
  {
   "cell_type": "markdown",
   "id": "e8483b17",
   "metadata": {},
   "source": [
    "# Destructor\n",
    "\n",
    "**A destructor is called when an object is deleted or destroyed.** Destructor is used to perform the clean-up activity before destroying the object, such as closing database connections or filehandle.\n",
    "\n",
    "Python has a garbage collector that handles memory management automatically. For example, it cleans up the memory when an object goes out of scope.\n",
    "\n",
    "But it’s not just memory that has to be freed when an object is destroyed. **We must release or close the other resources object were using, such as open files, database connections, cleaning up the buffer or cache. To perform all those cleanup tasks we use destructor in Python.**\n",
    "\n",
    "\n",
    "**The destructor is the reverse of the constructor. The constructor is used to initialize objects, while the destructor is used to delete or destroy the object that releases the resource occupied by the object**\n",
    "\n",
    "\n",
    "In Python, destructor is not called manually but completely automatic. destructor gets called in the following two cases\n",
    "\n",
    "- When an object goes out of scope or\n",
    "- The reference counter of the object reaches 0."
   ]
  },
  {
   "cell_type": "markdown",
   "id": "9474eca2",
   "metadata": {
    "ExecuteTime": {
     "end_time": "2022-07-15T02:09:09.260864Z",
     "start_time": "2022-07-15T02:09:09.238133Z"
    }
   },
   "source": [
    "<img src=\"resource/python_destructor_to_destroy_object.webp\">"
   ]
  },
  {
   "cell_type": "markdown",
   "id": "b56c5c45",
   "metadata": {},
   "source": [
    "Syntax : \n",
    "\n",
    "```\n",
    "def __del__(self):\n",
    "    # body of a destructor\n",
    "```"
   ]
  },
  {
   "cell_type": "code",
   "execution_count": 13,
   "id": "2a70025b",
   "metadata": {
    "ExecuteTime": {
     "end_time": "2022-07-15T02:10:01.672591Z",
     "start_time": "2022-07-15T02:10:01.636014Z"
    }
   },
   "outputs": [
    {
     "name": "stdout",
     "output_type": "stream",
     "text": [
      "Inside Constructor\n",
      "Object initialized\n",
      "Hello, my name is Emma\n",
      "Inside destructor\n",
      "Object destroyed\n"
     ]
    }
   ],
   "source": [
    "class Student:\n",
    "\n",
    "    # constructor\n",
    "    def __init__(self, name):\n",
    "        print('Inside Constructor')\n",
    "        self.name = name\n",
    "        print('Object initialized')\n",
    "\n",
    "    def show(self):\n",
    "        print('Hello, my name is', self.name)\n",
    "\n",
    "    # destructor\n",
    "    def __del__(self):\n",
    "        print('Inside destructor')\n",
    "        print('Object destroyed')\n",
    "\n",
    "# create object\n",
    "s1 = Student('Emma')\n",
    "s1.show()\n",
    "\n",
    "# delete object\n",
    "del s1"
   ]
  },
  {
   "cell_type": "markdown",
   "id": "bd3b45af",
   "metadata": {},
   "source": [
    "- The __del__ method is called for any object when the reference count for that object becomes zero.\n",
    "- The reference count for that object becomes zero when the application ends, or we delete all references manually using the del keyword.\n",
    "- The destructor will not invoke when we delete object reference. It will only invoke when all references to the objects get deleted."
   ]
  },
  {
   "cell_type": "markdown",
   "id": "c5bff005",
   "metadata": {
    "ExecuteTime": {
     "end_time": "2022-07-15T02:11:36.513431Z",
     "start_time": "2022-07-15T02:11:36.493247Z"
    }
   },
   "source": [
    "<img src=\"resource/working_of_destructor.webp\">"
   ]
  },
  {
   "cell_type": "code",
   "execution_count": 15,
   "id": "6a9ab182",
   "metadata": {
    "ExecuteTime": {
     "end_time": "2022-07-15T02:12:54.248002Z",
     "start_time": "2022-07-15T02:12:49.218934Z"
    }
   },
   "outputs": [
    {
     "name": "stdout",
     "output_type": "stream",
     "text": [
      "Inside Constructor\n",
      "Hello, my name is Emma\n",
      "After sleep\n",
      "Hello, my name is Emma\n"
     ]
    }
   ],
   "source": [
    "import time\n",
    "\n",
    "class Student:\n",
    "\n",
    "    # constructor\n",
    "    def __init__(self, name):\n",
    "        print('Inside Constructor')\n",
    "        self.name = name\n",
    "\n",
    "    def show(self):\n",
    "        print('Hello, my name is', self.name)\n",
    "\n",
    "    # destructor\n",
    "    def __del__(self):\n",
    "        print('Object destroyed')\n",
    "\n",
    "# create object\n",
    "s1 = Student('Emma')\n",
    "# create new reference\n",
    "# both reference points to the same object\n",
    "s2 = s1\n",
    "s1.show()\n",
    "\n",
    "# delete object reference s1\n",
    "del s1\n",
    "\n",
    "# add sleep and observe the output\n",
    "time.sleep(5)\n",
    "print('After sleep')\n",
    "s2.show()"
   ]
  },
  {
   "cell_type": "markdown",
   "id": "52c58deb",
   "metadata": {},
   "source": [
    "# Encapsulation\n",
    "\n",
    "Encapsulation in Python describes the concept of bundling data and methods within a single unit. So, for example, when you create a class, it means you are implementing encapsulation. \n",
    "\n",
    "A class is an example of encapsulation as it binds all the data members (instance variables) and methods into a single unit."
   ]
  },
  {
   "cell_type": "markdown",
   "id": "6e859a80",
   "metadata": {},
   "source": [
    "<img src=\"resource/encapsulation_python_class.jpg\">"
   ]
  },
  {
   "cell_type": "markdown",
   "id": "0fb4a09f",
   "metadata": {},
   "source": [
    "**Using encapsulation, we can hide an object’s internal representation from the outside. This is called information hiding.**\n",
    "\n",
    "\n",
    "Encapsulation is a way to can restrict access to methods and variables from outside of class. Whenever we are working with the class and dealing with sensitive data, providing access to all variables used within the class is not a good choice.\n"
   ]
  },
  {
   "cell_type": "markdown",
   "id": "3afe60d2",
   "metadata": {},
   "source": [
    "## Access Modifiers\n",
    "\n",
    "by using single underscore and double underscores.\n",
    "\n",
    "\n",
    "- **Public Member:** Accessible anywhere from otside oclass.\n",
    "- **Private Member:** Accessible within the class\n",
    "- **Protected Member:** Accessible within the class and its sub-classes"
   ]
  },
  {
   "cell_type": "markdown",
   "id": "d8725700",
   "metadata": {
    "ExecuteTime": {
     "end_time": "2022-07-15T02:17:11.649749Z",
     "start_time": "2022-07-15T02:17:11.633756Z"
    }
   },
   "source": [
    "<img src=\"resource/python_data_hiding.jpg\">"
   ]
  },
  {
   "cell_type": "markdown",
   "id": "e12fb850",
   "metadata": {},
   "source": [
    "## Public Member\n",
    "Public data members are accessible within and outside of a class. All member variables of the class are by default public."
   ]
  },
  {
   "cell_type": "code",
   "execution_count": 17,
   "id": "25f0c218",
   "metadata": {
    "ExecuteTime": {
     "end_time": "2022-07-15T02:17:40.081046Z",
     "start_time": "2022-07-15T02:17:40.049912Z"
    }
   },
   "outputs": [
    {
     "name": "stdout",
     "output_type": "stream",
     "text": [
      "Name:  Jessa Salary: 10000\n",
      "Name:  Jessa Salary: 10000\n"
     ]
    }
   ],
   "source": [
    "class Employee:\n",
    "    # constructor\n",
    "    def __init__(self, name, salary):\n",
    "        # public data members\n",
    "        self.name = name\n",
    "        self.salary = salary\n",
    "\n",
    "    # public instance methods\n",
    "    def show(self):\n",
    "        # accessing public data member\n",
    "        print(\"Name: \", self.name, 'Salary:', self.salary)\n",
    "\n",
    "# creating object of a class\n",
    "emp = Employee('Jessa', 10000)\n",
    "\n",
    "# accessing public data members\n",
    "print(\"Name: \", emp.name, 'Salary:', emp.salary)\n",
    "\n",
    "# calling public method of the class\n",
    "emp.show()"
   ]
  },
  {
   "cell_type": "markdown",
   "id": "75e8da0f",
   "metadata": {},
   "source": [
    "## Private Member\n",
    "\n",
    "Private members are accessible only within the class, and we can’t access them directly from the class objects."
   ]
  },
  {
   "cell_type": "code",
   "execution_count": 18,
   "id": "b1ba63f1",
   "metadata": {
    "ExecuteTime": {
     "end_time": "2022-07-15T02:18:32.906377Z",
     "start_time": "2022-07-15T02:18:32.864442Z"
    }
   },
   "outputs": [
    {
     "ename": "AttributeError",
     "evalue": "'Employee' object has no attribute '__salary'",
     "output_type": "error",
     "traceback": [
      "\u001b[1;31m---------------------------------------------------------------------------\u001b[0m",
      "\u001b[1;31mAttributeError\u001b[0m                            Traceback (most recent call last)",
      "\u001b[1;32m~\\AppData\\Local\\Temp\\ipykernel_3508\\1538202870.py\u001b[0m in \u001b[0;36m<module>\u001b[1;34m\u001b[0m\n\u001b[0;32m     11\u001b[0m \u001b[1;33m\u001b[0m\u001b[0m\n\u001b[0;32m     12\u001b[0m \u001b[1;31m# accessing private data members\u001b[0m\u001b[1;33m\u001b[0m\u001b[1;33m\u001b[0m\u001b[0m\n\u001b[1;32m---> 13\u001b[1;33m \u001b[0mprint\u001b[0m\u001b[1;33m(\u001b[0m\u001b[1;34m'Salary:'\u001b[0m\u001b[1;33m,\u001b[0m \u001b[0memp\u001b[0m\u001b[1;33m.\u001b[0m\u001b[0m__salary\u001b[0m\u001b[1;33m)\u001b[0m\u001b[1;33m\u001b[0m\u001b[0m\n\u001b[0m",
      "\u001b[1;31mAttributeError\u001b[0m: 'Employee' object has no attribute '__salary'"
     ]
    }
   ],
   "source": [
    "class Employee:\n",
    "    # constructor\n",
    "    def __init__(self, name, salary):\n",
    "        # public data member\n",
    "        self.name = name\n",
    "        # private member\n",
    "        self.__salary = salary\n",
    "\n",
    "# creating object of a class\n",
    "emp = Employee('Jessa', 10000)\n",
    "\n",
    "# accessing private data members\n",
    "print('Salary:', emp.__salary)"
   ]
  },
  {
   "cell_type": "markdown",
   "id": "b0e60522",
   "metadata": {},
   "source": [
    "We can access private members from outside of a class using the following two approaches\n",
    "\n",
    "-  Create public method to access private members\n",
    "-  Use name mangling"
   ]
  },
  {
   "cell_type": "markdown",
   "id": "cc2c1ea1",
   "metadata": {},
   "source": [
    "### Public method to access private members\n",
    "\n",
    "Example: Access Private member outside of a class using an instance method\n",
    "\n"
   ]
  },
  {
   "cell_type": "code",
   "execution_count": 19,
   "id": "20ec7902",
   "metadata": {
    "ExecuteTime": {
     "end_time": "2022-07-15T02:19:33.923399Z",
     "start_time": "2022-07-15T02:19:33.906948Z"
    }
   },
   "outputs": [
    {
     "name": "stdout",
     "output_type": "stream",
     "text": [
      "Name:  Jessa Salary: 10000\n"
     ]
    }
   ],
   "source": [
    "class Employee:\n",
    "    # constructor\n",
    "    def __init__(self, name, salary):\n",
    "        # public data member\n",
    "        self.name = name\n",
    "        # private member\n",
    "        self.__salary = salary\n",
    "\n",
    "    # public instance methods\n",
    "    def show(self):\n",
    "        # private members are accessible from a class\n",
    "        print(\"Name: \", self.name, 'Salary:', self.__salary)\n",
    "\n",
    "# creating object of a class\n",
    "emp = Employee('Jessa', 10000)\n",
    "\n",
    "# calling public method of the class\n",
    "emp.show()"
   ]
  },
  {
   "cell_type": "markdown",
   "id": "5b34c415",
   "metadata": {},
   "source": [
    "Name Mangling to access private members\n",
    "\n",
    "\n",
    "<font color=\"red\">_classname__dataMember</font>\n"
   ]
  },
  {
   "cell_type": "code",
   "execution_count": 20,
   "id": "60651e68",
   "metadata": {
    "ExecuteTime": {
     "end_time": "2022-07-15T02:21:09.123557Z",
     "start_time": "2022-07-15T02:21:09.095283Z"
    }
   },
   "outputs": [
    {
     "name": "stdout",
     "output_type": "stream",
     "text": [
      "Name: Jessa\n",
      "Salary: 10000\n"
     ]
    }
   ],
   "source": [
    "class Employee:\n",
    "    # constructor\n",
    "    def __init__(self, name, salary):\n",
    "        # public data member\n",
    "        self.name = name\n",
    "        # private member\n",
    "        self.__salary = salary\n",
    "\n",
    "# creating object of a class\n",
    "emp = Employee('Jessa', 10000)\n",
    "\n",
    "print('Name:', emp.name)\n",
    "# direct access to private member using name mangling\n",
    "print('Salary:', emp._Employee__salary)"
   ]
  },
  {
   "cell_type": "markdown",
   "id": "549af645",
   "metadata": {},
   "source": [
    "## Protected Member\n",
    "\n",
    "\n",
    "Protected members are accessible within the class and also available to its sub-classes. To define a protected member, prefix the member name with a single underscore _.\n",
    "\n",
    "\n",
    "Protected data members are used when you implement inheritance and want to allow data members access to only child classes.\n",
    "\n",
    "\n"
   ]
  },
  {
   "cell_type": "code",
   "execution_count": 21,
   "id": "8ae85586",
   "metadata": {
    "ExecuteTime": {
     "end_time": "2022-07-15T02:22:01.194047Z",
     "start_time": "2022-07-15T02:22:01.161409Z"
    }
   },
   "outputs": [
    {
     "name": "stdout",
     "output_type": "stream",
     "text": [
      "Employee name : Jessa\n",
      "Working on project : NLP\n",
      "Project: NLP\n"
     ]
    }
   ],
   "source": [
    "# base class\n",
    "class Company:\n",
    "    def __init__(self):\n",
    "        # Protected member\n",
    "        self._project = \"NLP\"\n",
    "\n",
    "# child class\n",
    "class Employee(Company):\n",
    "    def __init__(self, name):\n",
    "        self.name = name\n",
    "        Company.__init__(self)\n",
    "\n",
    "    def show(self):\n",
    "        print(\"Employee name :\", self.name)\n",
    "        # Accessing protected member in child class\n",
    "        print(\"Working on project :\", self._project)\n",
    "\n",
    "c = Employee(\"Jessa\")\n",
    "c.show()\n",
    "\n",
    "# Direct access protected data member\n",
    "print('Project:', c._project)"
   ]
  },
  {
   "cell_type": "markdown",
   "id": "f32e3e4e",
   "metadata": {},
   "source": [
    "## Getters and Setters\n",
    "\n",
    "To implement proper encapsulation in Python, we need to use setters and getters. The primary purpose of using getters and setters in object-oriented programs is to ensure data encapsulation. Use the getter method to access data members and the setter methods to modify the data members.\n",
    "\n",
    "In Python, private variables are not hidden fields like in other programming languages. The getters and setters methods are often used when:\n",
    "\n",
    "- When we want to avoid direct access to private variables\n",
    "- To add validation logic for setting a value"
   ]
  },
  {
   "cell_type": "code",
   "execution_count": 22,
   "id": "4a669e29",
   "metadata": {
    "ExecuteTime": {
     "end_time": "2022-07-15T02:22:53.522389Z",
     "start_time": "2022-07-15T02:22:53.495679Z"
    }
   },
   "outputs": [
    {
     "name": "stdout",
     "output_type": "stream",
     "text": [
      "Name: Jessa 14\n",
      "Name: Jessa 16\n"
     ]
    }
   ],
   "source": [
    "class Student:\n",
    "    def __init__(self, name, age):\n",
    "        # private member\n",
    "        self.name = name\n",
    "        self.__age = age\n",
    "\n",
    "    # getter method\n",
    "    def get_age(self):\n",
    "        return self.__age\n",
    "\n",
    "    # setter method\n",
    "    def set_age(self, age):\n",
    "        self.__age = age\n",
    "\n",
    "stud = Student('Jessa', 14)\n",
    "\n",
    "# retrieving age using getter\n",
    "print('Name:', stud.name, stud.get_age())\n",
    "\n",
    "# changing age using setter\n",
    "stud.set_age(16)\n",
    "\n",
    "# retrieving age using getter\n",
    "print('Name:', stud.name, stud.get_age())"
   ]
  },
  {
   "cell_type": "markdown",
   "id": "146648bc",
   "metadata": {},
   "source": [
    "Example: Information Hiding and conditional logic for setting an object attributes"
   ]
  },
  {
   "cell_type": "code",
   "execution_count": 23,
   "id": "4981dcc6",
   "metadata": {
    "ExecuteTime": {
     "end_time": "2022-07-15T02:23:29.307996Z",
     "start_time": "2022-07-15T02:23:29.282437Z"
    }
   },
   "outputs": [
    {
     "name": "stdout",
     "output_type": "stream",
     "text": [
      "Student Details: Jessa 10\n",
      "Invalid roll no. Please set correct roll number\n",
      "Student Details: Jessa 25\n"
     ]
    }
   ],
   "source": [
    "class Student:\n",
    "    def __init__(self, name, roll_no, age):\n",
    "        # private member\n",
    "        self.name = name\n",
    "        # private members to restrict access\n",
    "        # avoid direct data modification\n",
    "        self.__roll_no = roll_no\n",
    "        self.__age = age\n",
    "\n",
    "    def show(self):\n",
    "        print('Student Details:', self.name, self.__roll_no)\n",
    "\n",
    "    # getter methods\n",
    "    def get_roll_no(self):\n",
    "        return self.__roll_no\n",
    "\n",
    "    # setter method to modify data member\n",
    "    # condition to allow data modification with rules\n",
    "    def set_roll_no(self, number):\n",
    "        if number > 50:\n",
    "            print('Invalid roll no. Please set correct roll number')\n",
    "        else:\n",
    "            self.__roll_no = number\n",
    "\n",
    "jessa = Student('Jessa', 10, 15)\n",
    "\n",
    "# before Modify\n",
    "jessa.show()\n",
    "# changing roll number using setter\n",
    "jessa.set_roll_no(120)\n",
    "\n",
    "\n",
    "jessa.set_roll_no(25)\n",
    "jessa.show()"
   ]
  },
  {
   "cell_type": "markdown",
   "id": "e2981724",
   "metadata": {},
   "source": [
    "## Advantages of Encapsulation\n"
   ]
  },
  {
   "cell_type": "markdown",
   "id": "7315b9ec",
   "metadata": {
    "ExecuteTime": {
     "end_time": "2022-07-15T02:24:05.089618Z",
     "start_time": "2022-07-15T02:24:05.064664Z"
    }
   },
   "source": [
    "- **Security**: The main advantage of using encapsulation is the security of the data. Encapsulation protects an object from unauthorized access. It allows private and protected access levels to prevent accidental data modification.\n",
    "- **Data Hiding**: The user would not be knowing what is going on behind the scene. They would only be knowing that to modify a data member, call the setter method. To read a data member, call the getter method. What these setter and getter methods are doing is hidden from them.\n",
    "- **Simplicity**: It simplifies the maintenance of the application by keeping classes separated and preventing them from tightly coupling with each other.\n",
    "- **Aesthetics**: Bundling data and methods within a class makes code more readable and maintainable"
   ]
  },
  {
   "cell_type": "markdown",
   "id": "f166501a",
   "metadata": {},
   "source": [
    "# Polymorphism "
   ]
  },
  {
   "cell_type": "markdown",
   "id": "787609b9",
   "metadata": {},
   "source": [
    "**Polymorphism in Python is the ability of an object to take many forms. In simple words, polymorphism allows us to perform the same action in many different ways.**\n",
    "\n"
   ]
  },
  {
   "cell_type": "markdown",
   "id": "1891420d",
   "metadata": {},
   "source": [
    "<img src=\"resource/polymorphism_person_takes_differet_forms.jpg\">\n",
    "\n",
    "In polymorphism, a method can process objects differently depending on the class type or data type."
   ]
  },
  {
   "cell_type": "code",
   "execution_count": 25,
   "id": "f2bf5a83",
   "metadata": {
    "ExecuteTime": {
     "end_time": "2022-07-15T02:26:39.762315Z",
     "start_time": "2022-07-15T02:26:39.735769Z"
    }
   },
   "outputs": [
    {
     "name": "stdout",
     "output_type": "stream",
     "text": [
      "3\n",
      "10\n"
     ]
    }
   ],
   "source": [
    "students = ['Emma', 'Jessa', 'Kelly']\n",
    "school = 'ABC School'\n",
    "\n",
    "# calculate count\n",
    "print(len(students))\n",
    "print(len(school))"
   ]
  },
  {
   "cell_type": "markdown",
   "id": "12eac9bc",
   "metadata": {
    "ExecuteTime": {
     "end_time": "2022-07-15T02:27:07.195654Z",
     "start_time": "2022-07-15T02:27:07.175066Z"
    }
   },
   "source": [
    "<img src=\"resource/polymorphic_len_function.webp\">\n"
   ]
  },
  {
   "cell_type": "markdown",
   "id": "5370be8d",
   "metadata": {},
   "source": [
    "## Method Overriding"
   ]
  },
  {
   "cell_type": "markdown",
   "id": "005575ff",
   "metadata": {
    "ExecuteTime": {
     "end_time": "2022-07-15T02:28:43.824728Z",
     "start_time": "2022-07-15T02:28:43.807189Z"
    }
   },
   "source": [
    "<img src=\"resource/polymorphism_with_inheritance.jpg\">"
   ]
  },
  {
   "cell_type": "code",
   "execution_count": 28,
   "id": "843d0085",
   "metadata": {
    "ExecuteTime": {
     "end_time": "2022-07-15T02:29:02.984925Z",
     "start_time": "2022-07-15T02:29:02.949761Z"
    }
   },
   "outputs": [
    {
     "name": "stdout",
     "output_type": "stream",
     "text": [
      "Details: Car x1 Red 20000\n",
      "Car max speed is 240\n",
      "Car change 7 gear\n",
      "Details: Truck x1 white 75000\n",
      "Vehicle max speed is 150\n",
      "Vehicle change 6 gear\n"
     ]
    }
   ],
   "source": [
    "class Vehicle:\n",
    "\n",
    "    def __init__(self, name, color, price):\n",
    "        self.name = name\n",
    "        self.color = color\n",
    "        self.price = price\n",
    "\n",
    "    def show(self):\n",
    "        print('Details:', self.name, self.color, self.price)\n",
    "\n",
    "    def max_speed(self):\n",
    "        print('Vehicle max speed is 150')\n",
    "\n",
    "    def change_gear(self):\n",
    "        print('Vehicle change 6 gear')\n",
    "\n",
    "\n",
    "# inherit from vehicle class\n",
    "class Car(Vehicle):\n",
    "    def max_speed(self):\n",
    "        print('Car max speed is 240')\n",
    "\n",
    "    def change_gear(self):\n",
    "        print('Car change 7 gear')\n",
    "\n",
    "\n",
    "# Car Object\n",
    "car = Car('Car x1', 'Red', 20000)\n",
    "car.show()\n",
    "# calls methods from Car class\n",
    "car.max_speed()\n",
    "car.change_gear()\n",
    "\n",
    "# Vehicle Object\n",
    "vehicle = Vehicle('Truck x1', 'white', 75000)\n",
    "vehicle.show()\n",
    "# calls method from a Vehicle class\n",
    "vehicle.max_speed()\n",
    "vehicle.change_gear()"
   ]
  },
  {
   "cell_type": "markdown",
   "id": "ba79d98a",
   "metadata": {},
   "source": [
    "## Overrride Built-in Functions"
   ]
  },
  {
   "cell_type": "code",
   "execution_count": 29,
   "id": "ba9bc04d",
   "metadata": {
    "ExecuteTime": {
     "end_time": "2022-07-15T02:29:35.609567Z",
     "start_time": "2022-07-15T02:29:35.580193Z"
    }
   },
   "outputs": [
    {
     "name": "stdout",
     "output_type": "stream",
     "text": [
      "Redefine length\n",
      "4\n"
     ]
    }
   ],
   "source": [
    "class Shopping:\n",
    "    def __init__(self, basket, buyer):\n",
    "        self.basket = list(basket)\n",
    "        self.buyer = buyer\n",
    "\n",
    "    def __len__(self):\n",
    "        print('Redefine length')\n",
    "        count = len(self.basket)\n",
    "        # count total items in a different way\n",
    "        # pair of shoes and shir+pant\n",
    "        return count * 2\n",
    "\n",
    "shopping = Shopping(['Shoes', 'dress'], 'Jessa')\n",
    "print(len(shopping))"
   ]
  },
  {
   "cell_type": "markdown",
   "id": "3190eb67",
   "metadata": {},
   "source": [
    "# Inheritance "
   ]
  },
  {
   "cell_type": "markdown",
   "id": "26e46bb2",
   "metadata": {},
   "source": [
    "The process of inheriting the properties of the parent class into a child class is called inheritance. The existing class is called a base class or parent class and the new class is called a subclass or child class or derived class.\n",
    "\n",
    "```\n",
    "class BaseClass:\n",
    "  Body of base class\n",
    "class DerivedClass(BaseClass):\n",
    "  Body of derived class\n",
    "```"
   ]
  },
  {
   "cell_type": "markdown",
   "id": "ab2015e0",
   "metadata": {},
   "source": [
    "## Types Of Inheritance\n",
    "\n",
    "1. Single inheritance\n",
    "2. Multiple Inheritance\n",
    "3. Multilevel inheritance\n",
    "4. Hierarchical Inheritance\n",
    "5. Hybrid Inheritance"
   ]
  },
  {
   "cell_type": "markdown",
   "id": "b979cd4a",
   "metadata": {},
   "source": [
    "### Single Inheritance\n"
   ]
  },
  {
   "cell_type": "markdown",
   "id": "febd49a2",
   "metadata": {
    "ExecuteTime": {
     "end_time": "2022-07-15T02:35:55.349676Z",
     "start_time": "2022-07-15T02:35:55.331908Z"
    }
   },
   "source": [
    "<img src=\"resource/python_single_inheritance.webp\">"
   ]
  },
  {
   "cell_type": "code",
   "execution_count": 32,
   "id": "c609a881",
   "metadata": {
    "ExecuteTime": {
     "end_time": "2022-07-15T02:36:11.009068Z",
     "start_time": "2022-07-15T02:36:10.988881Z"
    }
   },
   "outputs": [
    {
     "name": "stdout",
     "output_type": "stream",
     "text": [
      "Inside Vehicle class\n",
      "Inside Car class\n"
     ]
    }
   ],
   "source": [
    "# Base class\n",
    "class Vehicle:\n",
    "    def Vehicle_info(self):\n",
    "        print('Inside Vehicle class')\n",
    "\n",
    "# Child class\n",
    "class Car(Vehicle):\n",
    "    def car_info(self):\n",
    "        print('Inside Car class')\n",
    "\n",
    "# Create object of Car\n",
    "car = Car()\n",
    "\n",
    "# access Vehicle's info using car object\n",
    "car.Vehicle_info()\n",
    "car.car_info()"
   ]
  },
  {
   "cell_type": "markdown",
   "id": "b287cd81",
   "metadata": {},
   "source": [
    "### Multiple Inheritance\n"
   ]
  },
  {
   "cell_type": "code",
   "execution_count": 35,
   "id": "214ff42f",
   "metadata": {
    "ExecuteTime": {
     "end_time": "2022-07-15T02:37:12.932113Z",
     "start_time": "2022-07-15T02:37:12.926049Z"
    }
   },
   "outputs": [
    {
     "ename": "SyntaxError",
     "evalue": "invalid syntax (2397876294.py, line 1)",
     "output_type": "error",
     "traceback": [
      "\u001b[1;36m  File \u001b[1;32m\"C:\\Users\\Dell\\AppData\\Local\\Temp\\ipykernel_3508\\2397876294.py\"\u001b[1;36m, line \u001b[1;32m1\u001b[0m\n\u001b[1;33m    <img src=\"resource/python_multiple_inheritance.webp\">\u001b[0m\n\u001b[1;37m    ^\u001b[0m\n\u001b[1;31mSyntaxError\u001b[0m\u001b[1;31m:\u001b[0m invalid syntax\n"
     ]
    }
   ],
   "source": [
    "<img src=\"resource/python_multiple_inheritance.webp\">"
   ]
  },
  {
   "cell_type": "code",
   "execution_count": 34,
   "id": "d922d760",
   "metadata": {
    "ExecuteTime": {
     "end_time": "2022-07-15T02:36:57.582700Z",
     "start_time": "2022-07-15T02:36:57.550758Z"
    }
   },
   "outputs": [
    {
     "name": "stdout",
     "output_type": "stream",
     "text": [
      "Inside Person class\n",
      "Name: Jessa Age: 28\n",
      "Inside Company class\n",
      "Name: Google location: Atlanta\n",
      "Inside Employee class\n",
      "Salary: 12000 Skill: Machine Learning\n"
     ]
    }
   ],
   "source": [
    "# Parent class 1\n",
    "class Person:\n",
    "    def person_info(self, name, age):\n",
    "        print('Inside Person class')\n",
    "        print('Name:', name, 'Age:', age)\n",
    "\n",
    "# Parent class 2\n",
    "class Company:\n",
    "    def company_info(self, company_name, location):\n",
    "        print('Inside Company class')\n",
    "        print('Name:', company_name, 'location:', location)\n",
    "\n",
    "# Child class\n",
    "class Employee(Person, Company):\n",
    "    def Employee_info(self, salary, skill):\n",
    "        print('Inside Employee class')\n",
    "        print('Salary:', salary, 'Skill:', skill)\n",
    "\n",
    "# Create object of Employee\n",
    "emp = Employee()\n",
    "\n",
    "# access data\n",
    "emp.person_info('Jessa', 28)\n",
    "emp.company_info('Google', 'Atlanta')\n",
    "emp.Employee_info(12000, 'Machine Learning')\n"
   ]
  },
  {
   "cell_type": "markdown",
   "id": "669608f4",
   "metadata": {},
   "source": [
    "## Multilevel inheritance\n"
   ]
  },
  {
   "cell_type": "markdown",
   "id": "949e787c",
   "metadata": {
    "ExecuteTime": {
     "end_time": "2022-07-15T02:38:48.419082Z",
     "start_time": "2022-07-15T02:38:48.402159Z"
    }
   },
   "source": [
    "<img src=\"resource/python_multilevel_inheritance.webp\">"
   ]
  },
  {
   "cell_type": "code",
   "execution_count": 37,
   "id": "ba30e28b",
   "metadata": {
    "ExecuteTime": {
     "end_time": "2022-07-15T02:39:01.469572Z",
     "start_time": "2022-07-15T02:39:01.444385Z"
    }
   },
   "outputs": [
    {
     "name": "stdout",
     "output_type": "stream",
     "text": [
      "Inside Vehicle class\n",
      "Inside Car class\n",
      "Inside SportsCar class\n"
     ]
    }
   ],
   "source": [
    "# Base class\n",
    "class Vehicle:\n",
    "    def Vehicle_info(self):\n",
    "        print('Inside Vehicle class')\n",
    "\n",
    "# Child class\n",
    "class Car(Vehicle):\n",
    "    def car_info(self):\n",
    "        print('Inside Car class')\n",
    "\n",
    "# Child class\n",
    "class SportsCar(Car):\n",
    "    def sports_car_info(self):\n",
    "        print('Inside SportsCar class')\n",
    "\n",
    "# Create object of SportsCar\n",
    "s_car = SportsCar()\n",
    "\n",
    "# access Vehicle's and Car info using SportsCar object\n",
    "s_car.Vehicle_info()\n",
    "s_car.car_info()\n",
    "s_car.sports_car_info()\n"
   ]
  },
  {
   "cell_type": "markdown",
   "id": "aaa3f349",
   "metadata": {},
   "source": [
    "## Hierarchical Inheritance\n"
   ]
  },
  {
   "cell_type": "markdown",
   "id": "40849a0f",
   "metadata": {},
   "source": [
    "<img src=\"resource/python_hierarchical_inheritance.webp\">"
   ]
  },
  {
   "cell_type": "code",
   "execution_count": 38,
   "id": "c2063011",
   "metadata": {
    "ExecuteTime": {
     "end_time": "2022-07-15T02:42:49.968194Z",
     "start_time": "2022-07-15T02:42:49.939428Z"
    }
   },
   "outputs": [
    {
     "name": "stdout",
     "output_type": "stream",
     "text": [
      "This is Vehicle\n",
      "Car name is: BMW\n",
      "This is Vehicle\n",
      "Truck name is: Ford\n"
     ]
    }
   ],
   "source": [
    "class Vehicle:\n",
    "    def info(self):\n",
    "        print(\"This is Vehicle\")\n",
    "\n",
    "class Car(Vehicle):\n",
    "    def car_info(self, name):\n",
    "        print(\"Car name is:\", name)\n",
    "\n",
    "class Truck(Vehicle):\n",
    "    def truck_info(self, name):\n",
    "        print(\"Truck name is:\", name)\n",
    "\n",
    "obj1 = Car()\n",
    "obj1.info()\n",
    "obj1.car_info('BMW')\n",
    "\n",
    "obj2 = Truck()\n",
    "obj2.info()\n",
    "obj2.truck_info('Ford')"
   ]
  },
  {
   "cell_type": "markdown",
   "id": "4e90e666",
   "metadata": {},
   "source": [
    "## Hybrid Inheritance\n"
   ]
  },
  {
   "cell_type": "markdown",
   "id": "b0d79569",
   "metadata": {},
   "source": [
    "<img src=\"resource/python_hybrid_inheritance.webp\">"
   ]
  },
  {
   "cell_type": "code",
   "execution_count": 39,
   "id": "2614f61f",
   "metadata": {
    "ExecuteTime": {
     "end_time": "2022-07-15T02:43:49.834391Z",
     "start_time": "2022-07-15T02:43:49.812804Z"
    }
   },
   "outputs": [
    {
     "name": "stdout",
     "output_type": "stream",
     "text": [
      "Inside Vehicle class\n",
      "Inside Car class\n",
      "Inside SportsCar class\n"
     ]
    }
   ],
   "source": [
    "class Vehicle:\n",
    "    def vehicle_info(self):\n",
    "        print(\"Inside Vehicle class\")\n",
    "\n",
    "class Car(Vehicle):\n",
    "    def car_info(self):\n",
    "        print(\"Inside Car class\")\n",
    "\n",
    "class Truck(Vehicle):\n",
    "    def truck_info(self):\n",
    "        print(\"Inside Truck class\")\n",
    "\n",
    "# Sports Car can inherits properties of Vehicle and Car\n",
    "class SportsCar(Car, Vehicle):\n",
    "    def sports_car_info(self):\n",
    "        print(\"Inside SportsCar class\")\n",
    "\n",
    "# create object\n",
    "s_car = SportsCar()\n",
    "\n",
    "s_car.vehicle_info()\n",
    "s_car.car_info()\n",
    "s_car.sports_car_info()"
   ]
  },
  {
   "cell_type": "markdown",
   "id": "415192f8",
   "metadata": {},
   "source": [
    "## super() function"
   ]
  },
  {
   "cell_type": "markdown",
   "id": "cdfdcedd",
   "metadata": {},
   "source": [
    "Benefits of using the super() function.\n",
    "\n",
    "- We are not required to remember or specify the parent class name to access its methods.\n",
    "- We can use the super() function in both single and multiple inheritances.\n",
    "- The super() function support code reusability as there is no need to write the entire function"
   ]
  },
  {
   "cell_type": "code",
   "execution_count": 40,
   "id": "a2b19773",
   "metadata": {
    "ExecuteTime": {
     "end_time": "2022-07-15T02:45:09.370182Z",
     "start_time": "2022-07-15T02:45:09.356990Z"
    }
   },
   "outputs": [
    {
     "name": "stdout",
     "output_type": "stream",
     "text": [
      "Jessa works at Google\n"
     ]
    }
   ],
   "source": [
    "class Company:\n",
    "    def company_name(self):\n",
    "        return 'Google'\n",
    "\n",
    "class Employee(Company):\n",
    "    def info(self):\n",
    "        # Calling the superclass method using super()function\n",
    "        c_name = super().company_name()\n",
    "        print(\"Jessa works at\", c_name)\n",
    "\n",
    "# Creating object of child class\n",
    "emp = Employee()\n",
    "emp.info()"
   ]
  },
  {
   "cell_type": "markdown",
   "id": "4465a9bd",
   "metadata": {},
   "source": [
    "# Instance Variable"
   ]
  },
  {
   "cell_type": "markdown",
   "id": "6bdb7543",
   "metadata": {},
   "source": [
    "<img src=\"resource/create_declare_instance_variable.webp\">"
   ]
  },
  {
   "cell_type": "code",
   "execution_count": 41,
   "id": "9ab50f67",
   "metadata": {
    "ExecuteTime": {
     "end_time": "2022-07-15T02:48:40.521533Z",
     "start_time": "2022-07-15T02:48:40.509130Z"
    }
   },
   "outputs": [
    {
     "name": "stdout",
     "output_type": "stream",
     "text": [
      "Object 1\n",
      "Name: Jessa\n",
      "Age: 20\n",
      "Object 2\n",
      "Name: Kelly\n",
      "Age: 10\n"
     ]
    }
   ],
   "source": [
    "class Student:\n",
    "    # constructor\n",
    "    def __init__(self, name, age):\n",
    "        # Instance variable\n",
    "        self.name = name\n",
    "        self.age = age\n",
    "\n",
    "# create first object\n",
    "s1 = Student(\"Jessa\", 20)\n",
    "\n",
    "# access instance variable\n",
    "print('Object 1')\n",
    "print('Name:', s1.name)\n",
    "print('Age:', s1.age)\n",
    "\n",
    "# create second object\n",
    "s2= Student(\"Kelly\", 10)\n",
    "\n",
    "# access instance variable\n",
    "print('Object 2')\n",
    "print('Name:', s2.name)\n",
    "print('Age:', s2.age)\n"
   ]
  },
  {
   "cell_type": "markdown",
   "id": "e5d24cfb",
   "metadata": {},
   "source": [
    "- When we created an object, we passed the values to the instance variables using a constructor.\n",
    "- Each object contains different values because we passed different values to a constructor to initialize the object.\n",
    "- Variable declared outside __init__() belong to the class. They’re shared by all instances."
   ]
  },
  {
   "cell_type": "markdown",
   "id": "81bdf719",
   "metadata": {},
   "source": [
    "## Modify Values of Instance Variables\n"
   ]
  },
  {
   "cell_type": "code",
   "execution_count": 42,
   "id": "33f133e8",
   "metadata": {
    "ExecuteTime": {
     "end_time": "2022-07-15T02:49:26.456119Z",
     "start_time": "2022-07-15T02:49:26.437194Z"
    }
   },
   "outputs": [
    {
     "name": "stdout",
     "output_type": "stream",
     "text": [
      "Before\n",
      "Name: Jessa Age: 20\n",
      "After\n",
      "Name: Emma Age: 15\n"
     ]
    }
   ],
   "source": [
    "class Student:\n",
    "    # constructor\n",
    "    def __init__(self, name, age):\n",
    "        # Instance variable\n",
    "        self.name = name\n",
    "        self.age = age\n",
    "\n",
    "# create object\n",
    "stud = Student(\"Jessa\", 20)\n",
    "\n",
    "print('Before')\n",
    "print('Name:', stud.name, 'Age:', stud.age)\n",
    "\n",
    "# modify instance variable\n",
    "stud.name = 'Emma'\n",
    "stud.age = 15\n",
    "\n",
    "print('After')\n",
    "print('Name:', stud.name, 'Age:', stud.age)"
   ]
  },
  {
   "cell_type": "markdown",
   "id": "e55bd6a4",
   "metadata": {},
   "source": [
    "## Ways to Access Instance Variable\n"
   ]
  },
  {
   "cell_type": "markdown",
   "id": "749e6b6a",
   "metadata": {
    "ExecuteTime": {
     "end_time": "2022-07-15T02:50:21.349762Z",
     "start_time": "2022-07-15T02:50:21.337912Z"
    }
   },
   "source": [
    "- Within the class in instance method by using the object reference (self)\n",
    "- Using getattr() method"
   ]
  },
  {
   "cell_type": "code",
   "execution_count": 44,
   "id": "64ae111c",
   "metadata": {
    "ExecuteTime": {
     "end_time": "2022-07-15T02:50:30.068824Z",
     "start_time": "2022-07-15T02:50:30.047487Z"
    }
   },
   "outputs": [
    {
     "name": "stdout",
     "output_type": "stream",
     "text": [
      "Name: Jessa Age: 20\n"
     ]
    }
   ],
   "source": [
    "class Student:\n",
    "    # constructor\n",
    "    def __init__(self, name, age):\n",
    "        # Instance variable\n",
    "        self.name = name\n",
    "        self.age = age\n",
    "\n",
    "    # instance method access instance variable\n",
    "    def show(self):\n",
    "        print('Name:', stud.name, 'Age:', stud.age)\n",
    "\n",
    "# create object\n",
    "stud = Student(\"Jessa\", 20)\n",
    "\n",
    "# call instance method\n",
    "stud.show()\n"
   ]
  },
  {
   "cell_type": "code",
   "execution_count": 45,
   "id": "3cbb5593",
   "metadata": {
    "ExecuteTime": {
     "end_time": "2022-07-15T02:50:37.330171Z",
     "start_time": "2022-07-15T02:50:37.309835Z"
    }
   },
   "outputs": [
    {
     "name": "stdout",
     "output_type": "stream",
     "text": [
      "Name: Jessa\n",
      "Age: 20\n"
     ]
    }
   ],
   "source": [
    "class Student:\n",
    "    # constructor\n",
    "    def __init__(self, name, age):\n",
    "        # Instance variable\n",
    "        self.name = name\n",
    "        self.age = age\n",
    "\n",
    "# create object\n",
    "stud = Student(\"Jessa\", 20)\n",
    "\n",
    "# Use getattr instead of stud.name\n",
    "print('Name:', getattr(stud, 'name'))\n",
    "print('Age:', getattr(stud, 'age'))"
   ]
  },
  {
   "cell_type": "markdown",
   "id": "84e9dc65",
   "metadata": {},
   "source": [
    "# Instance Method"
   ]
  },
  {
   "cell_type": "markdown",
   "id": "4f58aeb9",
   "metadata": {},
   "source": [
    "<img src=\"resource/instance_method_in_python.webp\">"
   ]
  },
  {
   "cell_type": "code",
   "execution_count": 46,
   "id": "b40bc980",
   "metadata": {
    "ExecuteTime": {
     "end_time": "2022-07-15T02:52:07.323983Z",
     "start_time": "2022-07-15T02:52:07.311468Z"
    }
   },
   "outputs": [
    {
     "name": "stdout",
     "output_type": "stream",
     "text": [
      "First Student\n",
      "Name: Jessa Age: 14\n",
      "Second Student\n",
      "Name: Kelly Age: 16\n"
     ]
    }
   ],
   "source": [
    "class Student:\n",
    "    # constructor\n",
    "    def __init__(self, name, age):\n",
    "        # Instance variable\n",
    "        self.name = name\n",
    "        self.age = age\n",
    "\n",
    "    # instance method access instance variable\n",
    "    def show(self):\n",
    "        print('Name:', self.name, 'Age:', self.age)\n",
    "\n",
    "# create first object\n",
    "print('First Student')\n",
    "emma = Student(\"Jessa\", 14)\n",
    "# call instance method\n",
    "emma.show()\n",
    "\n",
    "# create second object\n",
    "print('Second Student')\n",
    "kelly = Student(\"Kelly\", 16)\n",
    "# call instance method\n",
    "kelly.show()"
   ]
  },
  {
   "cell_type": "markdown",
   "id": "6878688a",
   "metadata": {},
   "source": [
    "## Modify Instance Variables inside Instance Method\n"
   ]
  },
  {
   "cell_type": "code",
   "execution_count": 47,
   "id": "1958271a",
   "metadata": {
    "ExecuteTime": {
     "end_time": "2022-07-15T02:52:39.507515Z",
     "start_time": "2022-07-15T02:52:39.480923Z"
    }
   },
   "outputs": [
    {
     "name": "stdout",
     "output_type": "stream",
     "text": [
      "class VIII\n",
      "Roll Number: 20 Name: Emma Age: 14\n",
      "class IX\n",
      "Roll Number: 35 Name: Emma Age: 15\n"
     ]
    }
   ],
   "source": [
    "class Student:\n",
    "    def __init__(self, roll_no, name, age):\n",
    "        # Instance variable\n",
    "        self.roll_no = roll_no\n",
    "        self.name = name\n",
    "        self.age = age\n",
    "\n",
    "    # instance method access instance variable\n",
    "    def show(self):\n",
    "        print('Roll Number:', self.roll_no, 'Name:', self.name, 'Age:', self.age)\n",
    "\n",
    "    # instance method to modify instance variable\n",
    "    def update(self, roll_number, age):\n",
    "        self.roll_no = roll_number\n",
    "        self.age = age\n",
    "\n",
    "# create object\n",
    "print('class VIII')\n",
    "stud = Student(20, \"Emma\", 14)\n",
    "# call instance method\n",
    "stud.show()\n",
    "\n",
    "# Modify instance variables\n",
    "print('class IX')\n",
    "stud.update(35, 15)\n",
    "stud.show()"
   ]
  },
  {
   "cell_type": "markdown",
   "id": "c289503e",
   "metadata": {},
   "source": [
    "# Class Variables"
   ]
  },
  {
   "cell_type": "markdown",
   "id": "fb8cf9d4",
   "metadata": {},
   "source": [
    "<img src=\"resource/create_and_access_class_variable.webp\">"
   ]
  },
  {
   "cell_type": "code",
   "execution_count": 48,
   "id": "489ea922",
   "metadata": {
    "ExecuteTime": {
     "end_time": "2022-07-15T02:53:58.929350Z",
     "start_time": "2022-07-15T02:53:58.916147Z"
    }
   },
   "outputs": [
    {
     "name": "stdout",
     "output_type": "stream",
     "text": [
      "Emma 10 ABC School \n",
      "Jessa 20 ABC School \n"
     ]
    }
   ],
   "source": [
    "class Student:\n",
    "    # Class variable\n",
    "    school_name = 'ABC School '\n",
    "    \n",
    "    def __init__(self, name, roll_no):\n",
    "        self.name = name\n",
    "        self.roll_no = roll_no\n",
    "\n",
    "# create first object\n",
    "s1 = Student('Emma', 10)\n",
    "print(s1.name, s1.roll_no, Student.school_name)\n",
    "# access class variable\n",
    "\n",
    "# create second object\n",
    "s2 = Student('Jessa', 20)\n",
    "# access class variable\n",
    "print(s2.name, s2.roll_no, Student.school_name)\n"
   ]
  },
  {
   "cell_type": "markdown",
   "id": "5b8fdf89",
   "metadata": {},
   "source": [
    "## Accessing variables"
   ]
  },
  {
   "cell_type": "markdown",
   "id": "9f291dae",
   "metadata": {},
   "source": [
    "### Access Class Variable in the constructor"
   ]
  },
  {
   "cell_type": "code",
   "execution_count": 50,
   "id": "b47171b0",
   "metadata": {
    "ExecuteTime": {
     "end_time": "2022-07-15T02:55:46.711400Z",
     "start_time": "2022-07-15T02:55:46.697255Z"
    }
   },
   "outputs": [
    {
     "name": "stdout",
     "output_type": "stream",
     "text": [
      "ABC School \n",
      "ABC School \n"
     ]
    }
   ],
   "source": [
    "class Student:\n",
    "    # Class variable\n",
    "    school_name = 'ABC School '\n",
    "\n",
    "    # constructor\n",
    "    def __init__(self, name):\n",
    "        self.name = name\n",
    "        # access class variable inside constructor using self\n",
    "        print(self.school_name)\n",
    "        # access using class name\n",
    "        print(Student.school_name)\n",
    "\n",
    "# create Object\n",
    "s1 = Student('Emma')"
   ]
  },
  {
   "cell_type": "markdown",
   "id": "81b45e12",
   "metadata": {},
   "source": [
    "### Access Class Variable in Instance method and outside class"
   ]
  },
  {
   "cell_type": "code",
   "execution_count": 49,
   "id": "a5f0a824",
   "metadata": {
    "ExecuteTime": {
     "end_time": "2022-07-15T02:54:28.319734Z",
     "start_time": "2022-07-15T02:54:28.307519Z"
    }
   },
   "outputs": [
    {
     "name": "stdout",
     "output_type": "stream",
     "text": [
      "Inside instance method\n",
      "Emma 10 ABC School \n",
      "ABC School \n",
      "Outside class\n",
      "ABC School \n",
      "ABC School \n"
     ]
    }
   ],
   "source": [
    "class Student:\n",
    "    # Class variable\n",
    "    school_name = 'ABC School '\n",
    "\n",
    "    # constructor\n",
    "    def __init__(self, name, roll_no):\n",
    "        self.name = name\n",
    "        self.roll_no = roll_no\n",
    "\n",
    "    # Instance method\n",
    "    def show(self):\n",
    "        print('Inside instance method')\n",
    "        # access using self\n",
    "        print(self.name, self.roll_no, self.school_name)\n",
    "        # access using class name\n",
    "        print(Student.school_name)\n",
    "\n",
    "# create Object\n",
    "s1 = Student('Emma', 10)\n",
    "s1.show()\n",
    "\n",
    "print('Outside class')\n",
    "# access class variable outside class\n",
    "# access using object reference\n",
    "print(s1.school_name)\n",
    "\n",
    "# access using class name\n",
    "print(Student.school_name)\n"
   ]
  },
  {
   "cell_type": "markdown",
   "id": "6b4768b2",
   "metadata": {},
   "source": [
    "### Modify Class Variables\n"
   ]
  },
  {
   "cell_type": "code",
   "execution_count": 51,
   "id": "2f52c00b",
   "metadata": {
    "ExecuteTime": {
     "end_time": "2022-07-15T02:56:16.806589Z",
     "start_time": "2022-07-15T02:56:16.784094Z"
    }
   },
   "outputs": [
    {
     "name": "stdout",
     "output_type": "stream",
     "text": [
      "Before\n",
      "Emma 10 ABC School \n",
      "After\n",
      "Emma 10 XYZ School\n"
     ]
    }
   ],
   "source": [
    "class Student:\n",
    "    # Class variable\n",
    "    school_name = 'ABC School '\n",
    "\n",
    "    # constructor\n",
    "    def __init__(self, name, roll_no):\n",
    "        self.name = name\n",
    "        self.roll_no = roll_no\n",
    "\n",
    "    # Instance method\n",
    "    def show(self):\n",
    "        print(self.name, self.roll_no, Student.school_name)\n",
    "\n",
    "# create Object\n",
    "s1 = Student('Emma', 10)\n",
    "print('Before')\n",
    "s1.show()\n",
    "\n",
    "# Modify class variable\n",
    "Student.school_name = 'XYZ School'\n",
    "print('After')\n",
    "s1.show()\n"
   ]
  },
  {
   "cell_type": "markdown",
   "id": "ee16bc76",
   "metadata": {},
   "source": [
    "<img src=\"resource/instance_vs_class.PNG\">"
   ]
  },
  {
   "cell_type": "code",
   "execution_count": null,
   "id": "342f5f26",
   "metadata": {},
   "outputs": [],
   "source": []
  }
 ],
 "metadata": {
  "kernelspec": {
   "display_name": "Python 3 (ipykernel)",
   "language": "python",
   "name": "python3"
  },
  "language_info": {
   "codemirror_mode": {
    "name": "ipython",
    "version": 3
   },
   "file_extension": ".py",
   "mimetype": "text/x-python",
   "name": "python",
   "nbconvert_exporter": "python",
   "pygments_lexer": "ipython3",
   "version": "3.9.12"
  },
  "toc": {
   "base_numbering": 1,
   "nav_menu": {},
   "number_sections": true,
   "sideBar": true,
   "skip_h1_title": false,
   "title_cell": "Table of Contents",
   "title_sidebar": "Contents",
   "toc_cell": false,
   "toc_position": {
    "height": "calc(100% - 180px)",
    "left": "10px",
    "top": "150px",
    "width": "235px"
   },
   "toc_section_display": true,
   "toc_window_display": true
  },
  "varInspector": {
   "cols": {
    "lenName": 16,
    "lenType": 16,
    "lenVar": 40
   },
   "kernels_config": {
    "python": {
     "delete_cmd_postfix": "",
     "delete_cmd_prefix": "del ",
     "library": "var_list.py",
     "varRefreshCmd": "print(var_dic_list())"
    },
    "r": {
     "delete_cmd_postfix": ") ",
     "delete_cmd_prefix": "rm(",
     "library": "var_list.r",
     "varRefreshCmd": "cat(var_dic_list()) "
    }
   },
   "types_to_exclude": [
    "module",
    "function",
    "builtin_function_or_method",
    "instance",
    "_Feature"
   ],
   "window_display": false
  }
 },
 "nbformat": 4,
 "nbformat_minor": 5
}
