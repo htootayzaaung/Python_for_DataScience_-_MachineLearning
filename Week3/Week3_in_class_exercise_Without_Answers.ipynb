{
 "cells": [
  {
   "cell_type": "markdown",
   "id": "8d261f30",
   "metadata": {
    "ExecuteTime": {
     "end_time": "2022-07-14T09:48:58.400811Z",
     "start_time": "2022-07-14T09:48:58.390755Z"
    }
   },
   "source": [
    "# Extend nested list by adding the sublist¶\n",
    "Given Lists\n",
    "\n",
    "list1 = [\"a\", \"b\", [\"c\", [\"d\", \"e\", [\"f\", \"g\"], \"k\"], \"l\"], \"m\", \"n\"]\n",
    "\n",
    "sub list to add\n",
    "\n",
    "sub_list = [\"h\", \"i\", \"j\"]\n",
    "\n",
    "\n",
    "Expected Output\n",
    "\n",
    "['a', 'b', ['c', ['d', 'e', ['f', 'g', 'h', 'i', 'j'], 'k'], 'l'], 'm', 'n']"
   ]
  },
  {
   "cell_type": "code",
   "execution_count": 7,
   "id": "cabb16a3",
   "metadata": {},
   "outputs": [
    {
     "name": "stdout",
     "output_type": "stream",
     "text": [
      "['a', 'b', ['c', ['d', 'e', ['f', 'g', 'h', 'i', 'j'], 'k'], 'l'], 'm', 'n']\n"
     ]
    }
   ],
   "source": [
    "list1 = [\"a\", \"b\", [\"c\", [\"d\", \"e\", [\"f\", \"g\"], \"k\"], \"l\"], \"m\", \"n\"]\n",
    "\n",
    "sub_list = [\"h\", \"i\", \"j\"]\n",
    "\n",
    "list1[2][1][2].extend(sub_list)\n",
    "\n",
    "print(list1)\n"
   ]
  },
  {
   "cell_type": "markdown",
   "id": "97796cd1",
   "metadata": {},
   "source": [
    "## Multiply elements of a list with 10"
   ]
  },
  {
   "cell_type": "markdown",
   "id": "3c60d5dc",
   "metadata": {
    "ExecuteTime": {
     "end_time": "2022-07-15T09:43:30.655556Z",
     "start_time": "2022-07-15T09:43:30.650143Z"
    }
   },
   "source": [
    "input_list = [[1,2],[3,4]]\n",
    "\n",
    "\n",
    "Expected Output :\n",
    "    \n",
    "```\n",
    "[[10, 20], [30, 40]]\n",
    "\n",
    "```"
   ]
  },
  {
   "cell_type": "code",
   "execution_count": 8,
   "id": "7431325f",
   "metadata": {},
   "outputs": [
    {
     "name": "stdout",
     "output_type": "stream",
     "text": [
      "[[10, 20], [30, 40]]\n"
     ]
    }
   ],
   "source": [
    "input_list = [[1,2],[3,4]]\n",
    "\n",
    "for i in range(len(input_list)):\n",
    "    for x in range(len(input_list)):\n",
    "        input_list[i][x] *= 10\n",
    "        \n",
    "print(input_list)"
   ]
  },
  {
   "cell_type": "markdown",
   "id": "f320d478",
   "metadata": {},
   "source": [
    "## Star Pattern 1"
   ]
  },
  {
   "cell_type": "code",
   "execution_count": null,
   "id": "7756681a",
   "metadata": {},
   "outputs": [],
   "source": [
    "* \n",
    "* * \n",
    "* * * \n",
    "* * * * "
   ]
  },
  {
   "cell_type": "code",
   "execution_count": 11,
   "id": "e3b94a69",
   "metadata": {},
   "outputs": [
    {
     "name": "stdout",
     "output_type": "stream",
     "text": [
      "\n",
      "* \n",
      "* * \n",
      "* * * \n",
      "* * * * \n"
     ]
    }
   ],
   "source": [
    "for i in range(5):\n",
    "    print(\"* \" * i)"
   ]
  },
  {
   "cell_type": "markdown",
   "id": "d8881dc6",
   "metadata": {},
   "source": [
    "## Odd number start patterns"
   ]
  },
  {
   "cell_type": "markdown",
   "id": "a673e4d4",
   "metadata": {},
   "source": [
    "```\n",
    "* \n",
    "* * * \n",
    "* * * * * \n",
    "* * * * * * * \n",
    "* * * * * * * * * \n",
    "```"
   ]
  },
  {
   "cell_type": "code",
   "execution_count": 16,
   "id": "34720568",
   "metadata": {},
   "outputs": [
    {
     "name": "stdout",
     "output_type": "stream",
     "text": [
      "*\n",
      "* * *\n",
      "* * * * *\n",
      "* * * * * * *\n",
      "* * * * * * * * *\n"
     ]
    }
   ],
   "source": [
    "printLine = \"\"\n",
    "for i in range(5):\n",
    "    if (i == 0):\n",
    "        printLine = \"*\"\n",
    "        print(printLine)\n",
    "    else:\n",
    "        printLine += \" * *\"\n",
    "        print(printLine)"
   ]
  },
  {
   "cell_type": "markdown",
   "id": "8c03f91e",
   "metadata": {},
   "source": [
    "## Star pattern 2"
   ]
  },
  {
   "cell_type": "code",
   "execution_count": 23,
   "id": "8332c818",
   "metadata": {
    "ExecuteTime": {
     "end_time": "2022-07-14T07:56:37.645322Z",
     "start_time": "2022-07-14T07:56:37.643326Z"
    }
   },
   "outputs": [],
   "source": [
    "*\n",
    "* *\n",
    "* * *\n",
    "* * * *\n",
    "* * * * *\n",
    "* * * *\n",
    "* * *\n",
    "* *\n",
    "*"
   ]
  },
  {
   "cell_type": "code",
   "execution_count": null,
   "id": "d39073ae",
   "metadata": {},
   "outputs": [],
   "source": [
    "printLine = \"\"\n",
    "for i in range(10):\n",
    "    if (i <= 5):\n",
    "        printLine = \" * \" * i\n",
    "        print(printLine)\n",
    "    elif (i > 5):\n",
    "        printLine = \" * \" * (9 - i)\n",
    "        print(printLine)"
   ]
  },
  {
   "cell_type": "markdown",
   "id": "5b8e2785",
   "metadata": {},
   "source": [
    "# Exception Handling"
   ]
  },
  {
   "cell_type": "markdown",
   "id": "7eb712ea",
   "metadata": {},
   "source": [
    "ZeroDivisionError Exception w/ Try Except Statements\n",
    "\n",
    "Please input two number, number 1 and number 2.\n",
    "\n",
    "Then divide number 1 by number 2.\n",
    "\n",
    "To aviod the following exception cases:\n",
    "\n",
    "ZeroDivisionError : If number 2 is zero, display \"You can't divide with 0\"\n",
    "ValueError : If input are not numbers, display \"Please type input number \"\n",
    "Please use try except"
   ]
  },
  {
   "cell_type": "code",
   "execution_count": null,
   "id": "824a9755",
   "metadata": {},
   "outputs": [],
   "source": [
    "import sys\n",
    "\n",
    "def inputPrompt():\n",
    "    num1 = int(input(\"Enter num1: \"))\n",
    "    num2 = int(input(\"Enter num2: \"))\n",
    "    \n",
    "inputPrompt()\n",
    "\n",
    "try:\n",
    "    num1_dividedBy_num2 = num1 / num2\n",
    "    if (num2 <= 0):\n",
    "        raise ZeroDivisionError(\"You can't divide with 0\")\n",
    "    if (type(num1) != int and type(num2) != int):\n",
    "        raise ValueError(\"Please type input number\")\n",
    "    inputPrompt()\n",
    "    \n",
    "    \n",
    "\n",
    "    print(f\"{num1} / {num2} = {num1_dividedBy_num2}\")"
   ]
  },
  {
   "cell_type": "markdown",
   "id": "bacb3c5f",
   "metadata": {},
   "source": [
    "# List comprehension"
   ]
  },
  {
   "cell_type": "markdown",
   "id": "3adbea66",
   "metadata": {},
   "source": [
    "## Turn every item of a list into its square\n",
    "\n",
    "Given a list of numbers. write a program to turn every item of a list into its square.\n",
    "\n",
    "Given \n",
    "```\n",
    "numbers = [1, 2, 3, 4, 5, 6, 7]\n",
    "```\n",
    "\n",
    "Expected Output\n",
    "\n",
    "```\n",
    "[1, 4, 9, 16, 25, 36, 49]\n",
    "\n",
    "```"
   ]
  },
  {
   "cell_type": "code",
   "execution_count": 1,
   "id": "fe7834dc",
   "metadata": {
    "ExecuteTime": {
     "end_time": "2022-07-14T08:51:34.228229Z",
     "start_time": "2022-07-14T08:51:34.218827Z"
    }
   },
   "outputs": [
    {
     "name": "stdout",
     "output_type": "stream",
     "text": [
      "[1, 4, 9, 16, 25, 36, 49]\n"
     ]
    }
   ],
   "source": [
    "numbers = [1, 2, 3, 4, 5, 6, 7] \n",
    "\n",
    "numbers = [x ** 2 for x in numbers]\n",
    "\n",
    "print(numbers)"
   ]
  },
  {
   "cell_type": "markdown",
   "id": "2d9abe31",
   "metadata": {},
   "source": []
  },
  {
   "cell_type": "markdown",
   "id": "24314dc8",
   "metadata": {},
   "source": [
    "## Even numbers from a list"
   ]
  },
  {
   "cell_type": "code",
   "execution_count": 4,
   "id": "750cd9c7",
   "metadata": {
    "ExecuteTime": {
     "end_time": "2022-07-15T05:25:39.926982Z",
     "start_time": "2022-07-15T05:25:39.823472Z"
    }
   },
   "outputs": [
    {
     "name": "stdout",
     "output_type": "stream",
     "text": [
      "[2, 8, 34]\n"
     ]
    }
   ],
   "source": [
    "numbers = [1, 1, 2, 3, 5, 8, 13, 21, 34, 55]\n",
    "\n",
    "numbers = [x for x in numbers if x % 2 == 0]\n",
    "\n",
    "print(numbers)"
   ]
  },
  {
   "cell_type": "markdown",
   "id": "fd3e6986",
   "metadata": {},
   "source": [
    "## Remove all vowels"
   ]
  },
  {
   "cell_type": "markdown",
   "id": "4c690102",
   "metadata": {},
   "source": [
    "Remove all vowels \"aeiou\" from \"I love Python\" using list compresion."
   ]
  },
  {
   "cell_type": "code",
   "execution_count": 16,
   "id": "d9f9bf33",
   "metadata": {},
   "outputs": [
    {
     "name": "stdout",
     "output_type": "stream",
     "text": [
      " lv pythn"
     ]
    }
   ],
   "source": [
    "str1 = \"I love Python\"\n",
    "\n",
    "vowels = [\"a\", \"e\", \"i\", \"o\", \"u\"]\n",
    "\n",
    "str1 = [x for x in str1.lower() if x not in vowels]\n",
    "\n",
    "for i in range(len(str1)):\n",
    "    print(str1[i], end = \"\")"
   ]
  },
  {
   "cell_type": "markdown",
   "id": "684b03d7",
   "metadata": {},
   "source": [
    "## Get common numbers from  two files "
   ]
  },
  {
   "cell_type": "markdown",
   "id": "0dc66c56",
   "metadata": {},
   "source": [
    "read two files file1.txt and file2.txt. They each contain a bunch of numbers, each number on a new line.\n",
    "\n",
    "You are going to create a list called result which contains the numbers that are common in both files.\n",
    "\n",
    "e.g. if file1.txt contained:\n",
    "\n",
    "1\n",
    "\n",
    "2\n",
    "\n",
    "3\n",
    "\n",
    "and file2.txt contained:\n",
    "\n",
    "2\n",
    "\n",
    "3\n",
    "\n",
    "4\n",
    "\n",
    "output:\n",
    "result = [2, 3]\n"
   ]
  },
  {
   "cell_type": "code",
   "execution_count": 102,
   "id": "b5ae0eff",
   "metadata": {},
   "outputs": [
    {
     "name": "stdout",
     "output_type": "stream",
     "text": [
      "[2, 3]\n"
     ]
    }
   ],
   "source": [
    "file1_readLine = []\n",
    "\n",
    "file2_readLine = []\n",
    "\n",
    "common_elements = []\n",
    "\n",
    "with open(\"file1.txt\", \"r\") as file1:\n",
    "    file1_readLine = file1.readlines()\n",
    "    \n",
    "with open(\"file2.txt\", \"r\") as file2:\n",
    "    file2_readLine = file2.readlines()\n",
    "\n",
    "for x in range(len(file1_readLine)):\n",
    "    file1_readLine[x] = file1_readLine[x].strip(\"\\n\")\n",
    "\n",
    "file1_readLine.remove(\"\")\n",
    "file1_readLine.remove(\"\")\n",
    "\n",
    "for x in range(len(file1_readLine)):\n",
    "    file1_readLine[x] = int(file1_readLine[x])\n",
    "\n",
    "for x in range(len(file2_readLine)):\n",
    "    file2_readLine[x] = file2_readLine[x].strip(\"\\n\")\n",
    "    \n",
    "file2_readLine.remove(\"\")\n",
    "file2_readLine.remove(\"\")\n",
    "\n",
    "for x in range(len(file2_readLine)):\n",
    "    file2_readLine[x] = int(file2_readLine[x])\n",
    "\n",
    "for i in range(len(file1_readLine)):\n",
    "    for j in range(len(file2_readLine)):\n",
    "        if (file1_readLine[i] == file2_readLine[j]):\n",
    "            common_elements.append(file2_readLine[j])\n",
    "            \n",
    "print(common_elements)\n"
   ]
  },
  {
   "cell_type": "markdown",
   "id": "82c5cfa5",
   "metadata": {},
   "source": [
    "## Get word len with dict comprehension"
   ]
  },
  {
   "cell_type": "markdown",
   "id": "43e14e3b",
   "metadata": {},
   "source": [
    "You are going to use Dictionary Comprehension to create a dictionary called result that takes each word in the given sentence and calculates the number of letters in each word.\n",
    "\n",
    "Try to use Dictionary Comprehension instead of a Loop.\n",
    "\n",
    "input_sentence = \"What is the Airspeed Velocity of an Unladen Swallow?\""
   ]
  },
  {
   "cell_type": "code",
   "execution_count": 5,
   "id": "dca5a948",
   "metadata": {
    "ExecuteTime": {
     "end_time": "2022-07-15T09:20:49.929912Z",
     "start_time": "2022-07-15T09:20:49.917420Z"
    }
   },
   "outputs": [
    {
     "data": {
      "text/plain": [
       "{'What': 4,\n",
       " 'is': 2,\n",
       " 'the': 3,\n",
       " 'Airspeed': 8,\n",
       " 'Velocity': 8,\n",
       " 'of': 2,\n",
       " 'an': 2,\n",
       " 'Unladen': 7,\n",
       " 'Swallow?': 8}"
      ]
     },
     "execution_count": 5,
     "metadata": {},
     "output_type": "execute_result"
    }
   ],
   "source": [
    "#Example Output\n",
    "{\n",
    "'What': 4, \n",
    "'is': 2, \n",
    "'the': 3, \n",
    "'Airspeed': 8, \n",
    "'Velocity': 8, \n",
    "'of': 2, \n",
    "'an': 2, \n",
    "'Unladen': 7, \n",
    "'Swallow?': 8\n",
    "}"
   ]
  },
  {
   "cell_type": "code",
   "execution_count": 3,
   "id": "e7bb18f5",
   "metadata": {},
   "outputs": [
    {
     "name": "stdout",
     "output_type": "stream",
     "text": [
      "{'What': 4, 'is': 2, 'the': 3, 'Airspeed': 8, 'Velocity': 8, 'of': 2, 'an': 2, 'Unladen': 7, 'Swallow?': 8}\n"
     ]
    }
   ],
   "source": [
    "input_sentence = \"What is the Airspeed Velocity of an Unladen Swallow?\"\n",
    "\n",
    "input_sentence_splitted = input_sentence.split(\" \")\n",
    "\n",
    "input_sentence_dictionary = {x: len(x) for x in input_sentence_splitted}\n",
    "\n",
    "print(input_sentence_dictionary)\n"
   ]
  }
 ],
 "metadata": {
  "kernelspec": {
   "display_name": "Python 3 (ipykernel)",
   "language": "python",
   "name": "python3"
  },
  "language_info": {
   "codemirror_mode": {
    "name": "ipython",
    "version": 3
   },
   "file_extension": ".py",
   "mimetype": "text/x-python",
   "name": "python",
   "nbconvert_exporter": "python",
   "pygments_lexer": "ipython3",
   "version": "3.9.12"
  },
  "toc": {
   "base_numbering": 1,
   "nav_menu": {},
   "number_sections": true,
   "sideBar": true,
   "skip_h1_title": false,
   "title_cell": "Table of Contents",
   "title_sidebar": "Contents",
   "toc_cell": false,
   "toc_position": {
    "height": "calc(100% - 180px)",
    "left": "10px",
    "top": "150px",
    "width": "261.3px"
   },
   "toc_section_display": true,
   "toc_window_display": true
  },
  "varInspector": {
   "cols": {
    "lenName": 16,
    "lenType": 16,
    "lenVar": 40
   },
   "kernels_config": {
    "python": {
     "delete_cmd_postfix": "",
     "delete_cmd_prefix": "del ",
     "library": "var_list.py",
     "varRefreshCmd": "print(var_dic_list())"
    },
    "r": {
     "delete_cmd_postfix": ") ",
     "delete_cmd_prefix": "rm(",
     "library": "var_list.r",
     "varRefreshCmd": "cat(var_dic_list()) "
    }
   },
   "types_to_exclude": [
    "module",
    "function",
    "builtin_function_or_method",
    "instance",
    "_Feature"
   ],
   "window_display": false
  }
 },
 "nbformat": 4,
 "nbformat_minor": 5
}
