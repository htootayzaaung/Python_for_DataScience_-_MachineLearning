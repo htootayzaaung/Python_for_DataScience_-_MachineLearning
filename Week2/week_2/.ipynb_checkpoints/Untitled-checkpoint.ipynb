{
 "cells": [
  {
   "cell_type": "code",
   "execution_count": 3,
   "id": "ef2473aa",
   "metadata": {
    "ExecuteTime": {
     "end_time": "2022-07-07T03:24:14.185680Z",
     "start_time": "2022-07-07T03:24:14.179495Z"
    }
   },
   "outputs": [
    {
     "data": {
      "text/plain": [
       "[('?', 0, 0, '?')]"
      ]
     },
     "execution_count": 3,
     "metadata": {},
     "output_type": "execute_result"
    }
   ],
   "source": [
    "# Python >= 3.10\n",
    "\n",
    "list(zip('?',range(5), range(100),'?'))"
   ]
  },
  {
   "cell_type": "code",
   "execution_count": 6,
   "id": "ed1cfa99",
   "metadata": {
    "ExecuteTime": {
     "end_time": "2022-07-07T07:30:27.183532Z",
     "start_time": "2022-07-07T07:30:27.180783Z"
    }
   },
   "outputs": [],
   "source": [
    "#Step 1 \n",
    "\n",
    "word_list = [\"aardvark\", \"baboon\", \"camel\"]\n",
    "\n",
    "#TODO-1 - Randomly choose a word from the word_list and assign it to a variable called chosen_word.\n",
    "\n",
    "#TODO-2 - Ask the user to guess a letter and assign their answer to a variable called guess. Make guess lowercase.\n",
    "\n",
    "#TODO-3 - Check if the letter the user guessed (guess) is one of the letters in the chosen_word."
   ]
  },
  {
   "cell_type": "code",
   "execution_count": 7,
   "id": "0b0cf29f",
   "metadata": {
    "ExecuteTime": {
     "end_time": "2022-07-07T07:30:27.354643Z",
     "start_time": "2022-07-07T07:30:27.350909Z"
    }
   },
   "outputs": [],
   "source": [
    "import random"
   ]
  },
  {
   "cell_type": "code",
   "execution_count": 14,
   "id": "38aeb760",
   "metadata": {
    "ExecuteTime": {
     "end_time": "2022-07-07T07:36:52.343023Z",
     "start_time": "2022-07-07T07:36:52.339605Z"
    }
   },
   "outputs": [],
   "source": [
    "import string"
   ]
  },
  {
   "cell_type": "code",
   "execution_count": 15,
   "id": "4ed23173",
   "metadata": {
    "ExecuteTime": {
     "end_time": "2022-07-07T07:37:03.646408Z",
     "start_time": "2022-07-07T07:37:03.638445Z"
    }
   },
   "outputs": [
    {
     "data": {
      "text/plain": [
       "'abcdefghijklmnopqrstuvwxyzABCDEFGHIJKLMNOPQRSTUVWXYZ'"
      ]
     },
     "execution_count": 15,
     "metadata": {},
     "output_type": "execute_result"
    }
   ],
   "source": [
    "string.ascii_letters"
   ]
  },
  {
   "cell_type": "code",
   "execution_count": 17,
   "id": "de62e85b",
   "metadata": {
    "ExecuteTime": {
     "end_time": "2022-07-07T07:38:24.159056Z",
     "start_time": "2022-07-07T07:38:23.106680Z"
    }
   },
   "outputs": [
    {
     "name": "stdout",
     "output_type": "stream",
     "text": [
      "Guess a letter from a to z: 4\n",
      "please type letter only from a to z\n"
     ]
    }
   ],
   "source": [
    "chosen_word = random.choice(word_list)\n",
    "user_guess = input('Guess a letter from a to z: ')\n",
    "if user_guess in 'abcdefghijklmnopqrstuvwxyzABCDEFGHIJKLMNOPQRSTUVWXYZ':\n",
    "    user_guess = user_guess.lower()\n",
    "    print(chosen_word)\n",
    "    print(user_guess)\n",
    "    if user_guess in chosen_word:\n",
    "        print(user_guess)\n",
    "    else:\n",
    "        print('wrong')\n",
    "        \n",
    "else:\n",
    "    print('please type letter only from a to z')"
   ]
  },
  {
   "cell_type": "code",
   "execution_count": null,
   "id": "96c3dd53",
   "metadata": {},
   "outputs": [],
   "source": []
  },
  {
   "cell_type": "code",
   "execution_count": 21,
   "id": "ec20c931",
   "metadata": {
    "ExecuteTime": {
     "end_time": "2022-07-07T08:15:12.370102Z",
     "start_time": "2022-07-07T08:15:12.365561Z"
    }
   },
   "outputs": [],
   "source": [
    "rock = '''\n",
    "    _______\n",
    "---'   ____)\n",
    "      (_____)\n",
    "      (_____)\n",
    "      (____)\n",
    "---.__(___)\n",
    "'''\n",
    "\n",
    "paper = '''\n",
    "    _______\n",
    "---'   ____)____\n",
    "          ______)\n",
    "          _______)\n",
    "         _______)\n",
    "---.__________)\n",
    "'''\n",
    "\n",
    "scissors = '''\n",
    "    _______\n",
    "---'   ____)____\n",
    "          ______)\n",
    "       __________)\n",
    "      (____)\n",
    "---.__(___)\n",
    "'''\n",
    "choice_list = [rock, paper, scissors]"
   ]
  },
  {
   "cell_type": "code",
   "execution_count": 29,
   "id": "8f392d9a",
   "metadata": {
    "ExecuteTime": {
     "end_time": "2022-07-07T08:18:06.930412Z",
     "start_time": "2022-07-07T08:18:05.922959Z"
    }
   },
   "outputs": [
    {
     "name": "stdout",
     "output_type": "stream",
     "text": [
      "What do you choose? Type 0 for Rock, 1 for Paper or 2 for Scissors.\n",
      "1\n",
      "\n",
      "    _______\n",
      "---'   ____)____\n",
      "          ______)\n",
      "          _______)\n",
      "         _______)\n",
      "---.__________)\n",
      "\n",
      "\n",
      "    _______\n",
      "---'   ____)____\n",
      "          ______)\n",
      "          _______)\n",
      "         _______)\n",
      "---.__________)\n",
      "\n",
      "Its a Tie.\n"
     ]
    }
   ],
   "source": [
    "\n",
    "user = int(input(\"What do you choose? Type 0 for Rock, 1 for Paper or 2 for Scissors.\\n\"))\n",
    "computer = random.randint(0,2)\n",
    "user_choice = choice_list[user]\n",
    "computer_choice = choice_list[computer]\n",
    "print(user_choice)\n",
    "print(computer_choice)\n",
    "if computer > user and (computer !=0 or user !=2):\n",
    "  if computer == 2 and user == 0:\n",
    "    print(\"You Won!\")\n",
    "  else:  \n",
    "    print(\"You Lost!\")\n",
    "elif user > computer and (user != 0 or computer != 2):\n",
    "  if user == 2 and computer == 0:\n",
    "    print(\"You Lost!\")\n",
    "  else:  \n",
    "    print(\"You Won!\")\n",
    "else:\n",
    "    print(\"Its a Tie.\")"
   ]
  },
  {
   "cell_type": "code",
   "execution_count": 1,
   "id": "f99e06e1",
   "metadata": {
    "ExecuteTime": {
     "end_time": "2022-07-07T08:59:58.174539Z",
     "start_time": "2022-07-07T08:59:53.549521Z"
    }
   },
   "outputs": [
    {
     "name": "stdout",
     "output_type": "stream",
     "text": [
      "Pssst, the solution is baboon.\n",
      "Guess a letter: b\n"
     ]
    },
    {
     "ename": "TypeError",
     "evalue": "'str' object does not support item assignment",
     "output_type": "error",
     "traceback": [
      "\u001b[0;31m---------------------------------------------------------------------------\u001b[0m",
      "\u001b[0;31mTypeError\u001b[0m                                 Traceback (most recent call last)",
      "Input \u001b[0;32mIn [1]\u001b[0m, in \u001b[0;36m<cell line: 20>\u001b[0;34m()\u001b[0m\n\u001b[1;32m     20\u001b[0m \u001b[38;5;28;01mfor\u001b[39;00m idx, letter \u001b[38;5;129;01min\u001b[39;00m \u001b[38;5;28menumerate\u001b[39m(chosen_word):\n\u001b[1;32m     21\u001b[0m     \u001b[38;5;28;01mif\u001b[39;00m letter \u001b[38;5;241m==\u001b[39m guess:\n\u001b[0;32m---> 22\u001b[0m         guess[idx] \u001b[38;5;241m=\u001b[39m letter\n\u001b[1;32m     23\u001b[0m     \u001b[38;5;28;01melse\u001b[39;00m:\n\u001b[1;32m     24\u001b[0m         \u001b[38;5;28mprint\u001b[39m(\u001b[38;5;124m\"\u001b[39m\u001b[38;5;124mWrong\u001b[39m\u001b[38;5;124m\"\u001b[39m)\n",
      "\u001b[0;31mTypeError\u001b[0m: 'str' object does not support item assignment"
     ]
    }
   ],
   "source": [
    "#Step 2\n",
    "\n",
    "import random\n",
    "word_list = [\"aardvark\", \"baboon\", \"camel\"]\n",
    "chosen_word = random.choice(word_list)\n",
    "\n",
    "#Testing code\n",
    "print(f'Pssst, the solution is {chosen_word}.')\n",
    "\n",
    "#TODO-1: - Create an empty List called display.\n",
    "#For each letter in the chosen_word, add a \"_\" to 'display'.\n",
    "#So if the chosen_word was \"apple\", display should be [\"_\", \"_\", \"_\", \"_\", \"_\"] with 5 \"_\" representing each letter to guess.\n",
    "display = [\"_\" for l in range(0,len(chosen_word))]\n",
    "\n",
    "guess = input(\"Guess a letter: \").lower()\n",
    "\n",
    "#TODO-2: - Loop through each position in the chosen_word;\n",
    "#If the letter at that position matches 'guess' then reveal that letter in the display at that position.\n",
    "#e.g. If the user guessed \"p\" and the chosen word was \"apple\", then display should be [\"_\", \"p\", \"p\", \"_\", \"_\"].\n",
    "for idx, letter in enumerate(chosen_word):\n",
    "    if letter == guess:\n",
    "        guess[idx] = letter\n",
    "    else:\n",
    "        print(\"Wrong\")\n",
    "\n",
    "#TODO-3: - Print 'display' and you should see the guessed letter in the correct position and every other letter replace with \"_\".\n",
    "#Hint - Don't worry about getting the user to guess the next letter. We'll tackle that in step 3.\n"
   ]
  },
  {
   "cell_type": "code",
   "execution_count": 31,
   "id": "2379c306",
   "metadata": {
    "ExecuteTime": {
     "end_time": "2022-07-07T08:41:44.859938Z",
     "start_time": "2022-07-07T08:41:44.856623Z"
    }
   },
   "outputs": [
    {
     "data": {
      "text/plain": [
       "['_', '_', '_', '_', '_']"
      ]
     },
     "execution_count": 31,
     "metadata": {},
     "output_type": "execute_result"
    }
   ],
   "source": [
    "display"
   ]
  },
  {
   "cell_type": "code",
   "execution_count": null,
   "id": "31c9fb59",
   "metadata": {},
   "outputs": [],
   "source": []
  }
 ],
 "metadata": {
  "kernelspec": {
   "display_name": "py_3_10",
   "language": "python",
   "name": "py_3_10"
  },
  "language_info": {
   "codemirror_mode": {
    "name": "ipython",
    "version": 3
   },
   "file_extension": ".py",
   "mimetype": "text/x-python",
   "name": "python",
   "nbconvert_exporter": "python",
   "pygments_lexer": "ipython3",
   "version": "3.10.4"
  },
  "toc": {
   "base_numbering": 1,
   "nav_menu": {},
   "number_sections": true,
   "sideBar": true,
   "skip_h1_title": false,
   "title_cell": "Table of Contents",
   "title_sidebar": "Contents",
   "toc_cell": false,
   "toc_position": {},
   "toc_section_display": true,
   "toc_window_display": false
  }
 },
 "nbformat": 4,
 "nbformat_minor": 5
}
