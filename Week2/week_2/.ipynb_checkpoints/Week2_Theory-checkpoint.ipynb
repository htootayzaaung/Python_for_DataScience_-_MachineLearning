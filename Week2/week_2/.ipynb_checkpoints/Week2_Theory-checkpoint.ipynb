{
 "cells": [
  {
   "cell_type": "markdown",
   "id": "aa73e685",
   "metadata": {},
   "source": [
    "## Python Tuples\n"
   ]
  },
  {
   "cell_type": "markdown",
   "id": "4e28a26d",
   "metadata": {},
   "source": [
    "Python provides another type that is an ordered collection of objects, called a tuple.\n",
    "\n",
    "Tuples are identical to lists in all respects, except for the following properties:\n",
    "\n",
    "- Tuples are defined by enclosing the elements in parentheses (()) instead of square brackets ([]).\n",
    "- Tuples are immutable.\n"
   ]
  },
  {
   "cell_type": "code",
   "execution_count": 55,
   "id": "626e009c",
   "metadata": {
    "ExecuteTime": {
     "end_time": "2022-06-22T09:38:32.732447Z",
     "start_time": "2022-06-22T09:38:32.727016Z"
    }
   },
   "outputs": [
    {
     "data": {
      "text/plain": [
       "('foo', 'bar', 'baz', 'qux', 'quux', 'corge')"
      ]
     },
     "execution_count": 55,
     "metadata": {},
     "output_type": "execute_result"
    }
   ],
   "source": [
    "t = ('foo', 'bar', 'baz', 'qux', 'quux', 'corge')\n",
    "t"
   ]
  },
  {
   "cell_type": "code",
   "execution_count": 56,
   "id": "046b909b",
   "metadata": {
    "ExecuteTime": {
     "end_time": "2022-06-22T09:38:57.579326Z",
     "start_time": "2022-06-22T09:38:57.576627Z"
    }
   },
   "outputs": [
    {
     "name": "stdout",
     "output_type": "stream",
     "text": [
      "foo\n",
      "corge\n",
      "('bar', 'qux', 'corge')\n"
     ]
    }
   ],
   "source": [
    "print(t[0])\n",
    "print(t[-1])\n",
    "print(t[1::2])"
   ]
  },
  {
   "cell_type": "code",
   "execution_count": 57,
   "id": "e8fe494d",
   "metadata": {
    "ExecuteTime": {
     "end_time": "2022-06-22T09:39:04.617229Z",
     "start_time": "2022-06-22T09:39:04.614384Z"
    }
   },
   "outputs": [
    {
     "data": {
      "text/plain": [
       "('corge', 'quux', 'qux', 'baz', 'bar', 'foo')"
      ]
     },
     "execution_count": 57,
     "metadata": {},
     "output_type": "execute_result"
    }
   ],
   "source": [
    "t[::-1]"
   ]
  },
  {
   "cell_type": "code",
   "execution_count": 58,
   "id": "f7770cbf",
   "metadata": {
    "ExecuteTime": {
     "end_time": "2022-06-22T09:39:25.746713Z",
     "start_time": "2022-06-22T09:39:25.739806Z"
    }
   },
   "outputs": [
    {
     "ename": "TypeError",
     "evalue": "'tuple' object does not support item assignment",
     "output_type": "error",
     "traceback": [
      "\u001b[0;31m---------------------------------------------------------------------------\u001b[0m",
      "\u001b[0;31mTypeError\u001b[0m                                 Traceback (most recent call last)",
      "\u001b[0;32m/tmp/ipykernel_48399/3575693655.py\u001b[0m in \u001b[0;36m<module>\u001b[0;34m\u001b[0m\n\u001b[1;32m      1\u001b[0m \u001b[0mt\u001b[0m \u001b[0;34m=\u001b[0m \u001b[0;34m(\u001b[0m\u001b[0;34m'foo'\u001b[0m\u001b[0;34m,\u001b[0m \u001b[0;34m'bar'\u001b[0m\u001b[0;34m,\u001b[0m \u001b[0;34m'baz'\u001b[0m\u001b[0;34m,\u001b[0m \u001b[0;34m'qux'\u001b[0m\u001b[0;34m,\u001b[0m \u001b[0;34m'quux'\u001b[0m\u001b[0;34m,\u001b[0m \u001b[0;34m'corge'\u001b[0m\u001b[0;34m)\u001b[0m\u001b[0;34m\u001b[0m\u001b[0m\n\u001b[0;32m----> 2\u001b[0;31m \u001b[0mt\u001b[0m\u001b[0;34m[\u001b[0m\u001b[0;36m2\u001b[0m\u001b[0;34m]\u001b[0m \u001b[0;34m=\u001b[0m \u001b[0;34m'Bark!'\u001b[0m\u001b[0;34m\u001b[0m\u001b[0m\n\u001b[0m",
      "\u001b[0;31mTypeError\u001b[0m: 'tuple' object does not support item assignment"
     ]
    }
   ],
   "source": [
    "t = ('foo', 'bar', 'baz', 'qux', 'quux', 'corge')\n",
    "t[2] = 'Bark!'"
   ]
  },
  {
   "cell_type": "markdown",
   "id": "a4912080",
   "metadata": {},
   "source": [
    "Why use a tuple instead of a list?\n",
    "\n",
    "- Program execution is faster when manipulating a tuple than it is for the equivalent list. (This is probably not going to be noticeable when the list or tuple is small.)\n",
    "\n",
    "- Sometimes you don’t want data to be modified. If the values in the collection are meant to remain constant for the life of the program, using a tuple instead of a list guards against accidental modification.\n",
    "\n",
    "- There is another Python data type that you will encounter shortly called a dictionary, which requires as one of its components a value that is of an immutable type. A tuple can be used for this purpose, whereas a list can’t be."
   ]
  },
  {
   "cell_type": "code",
   "execution_count": 59,
   "id": "46d3a2f8",
   "metadata": {
    "ExecuteTime": {
     "end_time": "2022-06-22T09:40:00.882133Z",
     "start_time": "2022-06-22T09:40:00.876086Z"
    }
   },
   "outputs": [
    {
     "data": {
      "text/plain": [
       "('foo', 3.14159, 42)"
      ]
     },
     "execution_count": 59,
     "metadata": {},
     "output_type": "execute_result"
    }
   ],
   "source": [
    "a = 'foo'\n",
    "b = 42\n",
    "a, 3.14159, b"
   ]
  },
  {
   "cell_type": "code",
   "execution_count": 61,
   "id": "6bd23336",
   "metadata": {
    "ExecuteTime": {
     "end_time": "2022-06-22T09:40:22.064355Z",
     "start_time": "2022-06-22T09:40:22.061864Z"
    }
   },
   "outputs": [
    {
     "data": {
      "text/plain": [
       "tuple"
      ]
     },
     "execution_count": 61,
     "metadata": {},
     "output_type": "execute_result"
    }
   ],
   "source": [
    "t = ()\n",
    "type(t)"
   ]
  },
  {
   "cell_type": "code",
   "execution_count": 63,
   "id": "6e116512",
   "metadata": {
    "ExecuteTime": {
     "end_time": "2022-06-22T09:40:58.330024Z",
     "start_time": "2022-06-22T09:40:58.327286Z"
    }
   },
   "outputs": [
    {
     "name": "stdout",
     "output_type": "stream",
     "text": [
      "2\n",
      "2\n"
     ]
    }
   ],
   "source": [
    "t = (2,)\n",
    "print(t[0])\n",
    "print(t[-1])"
   ]
  },
  {
   "cell_type": "markdown",
   "id": "cd469d0f",
   "metadata": {},
   "source": [
    "### Tuple Assignment, Packing, and Unpacking\n"
   ]
  },
  {
   "cell_type": "code",
   "execution_count": 65,
   "id": "42a87a91",
   "metadata": {
    "ExecuteTime": {
     "end_time": "2022-06-22T09:41:42.365231Z",
     "start_time": "2022-06-22T09:41:42.362070Z"
    }
   },
   "outputs": [],
   "source": [
    "t = ('foo', 'bar', 'baz', 'qux')"
   ]
  },
  {
   "cell_type": "markdown",
   "id": "ddc4ac2c",
   "metadata": {},
   "source": [
    "<img src=\"resources/24.png\" width=500></img>"
   ]
  },
  {
   "cell_type": "markdown",
   "id": "1a3130d4",
   "metadata": {},
   "source": [
    "If that “packed” object is subsequently assigned to a new tuple, the individual items are “unpacked” into the objects in the tuple:"
   ]
  },
  {
   "cell_type": "markdown",
   "id": "5c760a15",
   "metadata": {},
   "source": [
    "<img src=\"resources/25.png\" width=500></img>"
   ]
  },
  {
   "cell_type": "markdown",
   "id": "c841756c",
   "metadata": {},
   "source": [
    "When unpacking, the number of variables on the left must match the number of values in the tuple:"
   ]
  },
  {
   "cell_type": "code",
   "execution_count": null,
   "id": "db9b9766",
   "metadata": {},
   "outputs": [],
   "source": [
    "(s1, s2, s3) = t"
   ]
  },
  {
   "cell_type": "code",
   "execution_count": 66,
   "id": "03dc982f",
   "metadata": {
    "ExecuteTime": {
     "end_time": "2022-06-22T09:44:25.451804Z",
     "start_time": "2022-06-22T09:44:25.448333Z"
    }
   },
   "outputs": [],
   "source": [
    "(s1, s2, s3, s4) = t"
   ]
  },
  {
   "cell_type": "code",
   "execution_count": 68,
   "id": "e56ea0a4",
   "metadata": {
    "ExecuteTime": {
     "end_time": "2022-06-22T09:47:00.733697Z",
     "start_time": "2022-06-22T09:47:00.729721Z"
    }
   },
   "outputs": [
    {
     "ename": "ValueError",
     "evalue": "not enough values to unpack (expected 5, got 4)",
     "output_type": "error",
     "traceback": [
      "\u001b[0;31m---------------------------------------------------------------------------\u001b[0m",
      "\u001b[0;31mValueError\u001b[0m                                Traceback (most recent call last)",
      "\u001b[0;32m/tmp/ipykernel_48399/850528260.py\u001b[0m in \u001b[0;36m<module>\u001b[0;34m\u001b[0m\n\u001b[0;32m----> 1\u001b[0;31m \u001b[0;34m(\u001b[0m\u001b[0ms1\u001b[0m\u001b[0;34m,\u001b[0m \u001b[0ms2\u001b[0m\u001b[0;34m,\u001b[0m \u001b[0ms3\u001b[0m\u001b[0;34m,\u001b[0m \u001b[0ms4\u001b[0m\u001b[0;34m,\u001b[0m \u001b[0ms5\u001b[0m\u001b[0;34m)\u001b[0m \u001b[0;34m=\u001b[0m \u001b[0mt\u001b[0m\u001b[0;34m\u001b[0m\u001b[0m\n\u001b[0m",
      "\u001b[0;31mValueError\u001b[0m: not enough values to unpack (expected 5, got 4)"
     ]
    }
   ],
   "source": [
    "(s1, s2, s3, s4, s5) = t"
   ]
  },
  {
   "cell_type": "code",
   "execution_count": 1,
   "id": "ec28dabe",
   "metadata": {
    "ExecuteTime": {
     "end_time": "2022-07-05T09:16:46.649453Z",
     "start_time": "2022-07-05T09:16:46.639564Z"
    }
   },
   "outputs": [],
   "source": [
    "(s1, s2, s3, s4) = ('foo', 'bar', 'baz', 'qux')"
   ]
  },
  {
   "cell_type": "markdown",
   "id": "206bf7a2",
   "metadata": {},
   "source": [
    "## Dictionary"
   ]
  },
  {
   "cell_type": "markdown",
   "id": "7b0727c5",
   "metadata": {},
   "source": [
    "Dictionaries and lists share the following characteristics:\n",
    "\n",
    "- Both are mutable.\n",
    "- Both are dynamic. They can grow and shrink as needed.\n",
    "- Both can be nested. A list can contain another list. A dictionary can contain another dictionary. A dictionary can also contain a list, and vice versa.\n",
    "\n",
    "Dictionaries differ from lists primarily in how elements are accessed:\n",
    "\n",
    "- List elements are accessed by their position in the list, via indexing.\n",
    "- Dictionary elements are accessed via keys."
   ]
  },
  {
   "cell_type": "markdown",
   "id": "a78d5599",
   "metadata": {},
   "source": [
    "### Defining a Dictionary\n",
    "\n",
    "```\n",
    "d = {\n",
    "    <key>: <value>,\n",
    "    <key>: <value>,\n",
    "      .\n",
    "      .\n",
    "      .\n",
    "    <key>: <value>\n",
    "}\n",
    "```"
   ]
  },
  {
   "cell_type": "markdown",
   "id": "2b20aac8",
   "metadata": {},
   "source": [
    "```MLB_team = dict([\n",
    "     ('Colorado', 'Rockies'),\n",
    "     ('Boston', 'Red Sox'),\n",
    "     ('Minnesota', 'Twins'),\n",
    "     ('Milwaukee', 'Brewers'),\n",
    "     ('Seattle', 'Mariners')\n",
    "... ]) ```"
   ]
  },
  {
   "cell_type": "markdown",
   "id": "b168a951",
   "metadata": {},
   "source": [
    "```MLB_team = dict(\n",
    "     Colorado='Rockies',\n",
    "     Boston='Red Sox',\n",
    "     Minnesota='Twins',\n",
    "     Milwaukee='Brewers',\n",
    "     Seattle='Mariners'\n",
    " )```"
   ]
  },
  {
   "cell_type": "code",
   "execution_count": 71,
   "id": "d025ae60",
   "metadata": {
    "ExecuteTime": {
     "end_time": "2022-06-22T09:51:39.914122Z",
     "start_time": "2022-06-22T09:51:39.911833Z"
    }
   },
   "outputs": [],
   "source": [
    "MLB_team = dict(\n",
    "     Colorado='Rockies',\n",
    "     Boston='Red Sox',\n",
    "     Minnesota='Twins',\n",
    "     Milwaukee='Brewers',\n",
    "     Seattle='Mariners'\n",
    " )"
   ]
  },
  {
   "cell_type": "code",
   "execution_count": 72,
   "id": "ac548426",
   "metadata": {
    "ExecuteTime": {
     "end_time": "2022-06-22T09:51:50.216931Z",
     "start_time": "2022-06-22T09:51:50.214538Z"
    }
   },
   "outputs": [
    {
     "data": {
      "text/plain": [
       "dict"
      ]
     },
     "execution_count": 72,
     "metadata": {},
     "output_type": "execute_result"
    }
   ],
   "source": [
    "type(MLB_team)"
   ]
  },
  {
   "cell_type": "code",
   "execution_count": 73,
   "id": "be3fe33a",
   "metadata": {
    "ExecuteTime": {
     "end_time": "2022-06-22T09:51:54.852777Z",
     "start_time": "2022-06-22T09:51:54.848233Z"
    }
   },
   "outputs": [
    {
     "data": {
      "text/plain": [
       "{'Colorado': 'Rockies',\n",
       " 'Boston': 'Red Sox',\n",
       " 'Minnesota': 'Twins',\n",
       " 'Milwaukee': 'Brewers',\n",
       " 'Seattle': 'Mariners'}"
      ]
     },
     "execution_count": 73,
     "metadata": {},
     "output_type": "execute_result"
    }
   ],
   "source": [
    "MLB_team"
   ]
  },
  {
   "cell_type": "markdown",
   "id": "4a77651e",
   "metadata": {},
   "source": [
    "The entries in the dictionary display in the order they were defined. But that is irrelevant when it comes to retrieving them. Dictionary elements are not accessed by numerical index:\n",
    "\n"
   ]
  },
  {
   "cell_type": "code",
   "execution_count": 75,
   "id": "cc6135a3",
   "metadata": {
    "ExecuteTime": {
     "end_time": "2022-06-22T09:52:24.122306Z",
     "start_time": "2022-06-22T09:52:24.118430Z"
    }
   },
   "outputs": [
    {
     "ename": "KeyError",
     "evalue": "1",
     "output_type": "error",
     "traceback": [
      "\u001b[0;31m---------------------------------------------------------------------------\u001b[0m",
      "\u001b[0;31mKeyError\u001b[0m                                  Traceback (most recent call last)",
      "\u001b[0;32m/tmp/ipykernel_48399/2618632388.py\u001b[0m in \u001b[0;36m<module>\u001b[0;34m\u001b[0m\n\u001b[1;32m      1\u001b[0m \u001b[0;31m## will occur the error\u001b[0m\u001b[0;34m\u001b[0m\u001b[0;34m\u001b[0m\u001b[0m\n\u001b[0;32m----> 2\u001b[0;31m \u001b[0mMLB_team\u001b[0m\u001b[0;34m[\u001b[0m\u001b[0;36m1\u001b[0m\u001b[0;34m]\u001b[0m\u001b[0;34m\u001b[0m\u001b[0m\n\u001b[0m",
      "\u001b[0;31mKeyError\u001b[0m: 1"
     ]
    }
   ],
   "source": [
    "## will occur the error\n",
    "MLB_team[1]"
   ]
  },
  {
   "cell_type": "markdown",
   "id": "1d6a5dac",
   "metadata": {},
   "source": [
    "### Accessing Dictionary Values\n"
   ]
  },
  {
   "cell_type": "code",
   "execution_count": 76,
   "id": "94e8a8a8",
   "metadata": {
    "ExecuteTime": {
     "end_time": "2022-06-22T09:52:47.428804Z",
     "start_time": "2022-06-22T09:52:47.426098Z"
    }
   },
   "outputs": [
    {
     "data": {
      "text/plain": [
       "'Twins'"
      ]
     },
     "execution_count": 76,
     "metadata": {},
     "output_type": "execute_result"
    }
   ],
   "source": [
    "MLB_team['Minnesota']"
   ]
  },
  {
   "cell_type": "code",
   "execution_count": 77,
   "id": "105d1698",
   "metadata": {
    "ExecuteTime": {
     "end_time": "2022-06-22T09:52:52.757465Z",
     "start_time": "2022-06-22T09:52:52.753808Z"
    }
   },
   "outputs": [
    {
     "data": {
      "text/plain": [
       "'Rockies'"
      ]
     },
     "execution_count": 77,
     "metadata": {},
     "output_type": "execute_result"
    }
   ],
   "source": [
    "MLB_team['Colorado']"
   ]
  },
  {
   "cell_type": "code",
   "execution_count": 78,
   "id": "82e65935",
   "metadata": {
    "ExecuteTime": {
     "end_time": "2022-06-22T09:53:40.667979Z",
     "start_time": "2022-06-22T09:53:40.664864Z"
    }
   },
   "outputs": [],
   "source": [
    "MLB_team['Kansas City'] = 'Royals'"
   ]
  },
  {
   "cell_type": "code",
   "execution_count": 79,
   "id": "ec05f56b",
   "metadata": {
    "ExecuteTime": {
     "end_time": "2022-06-22T10:00:02.669901Z",
     "start_time": "2022-06-22T10:00:02.665705Z"
    }
   },
   "outputs": [
    {
     "data": {
      "text/plain": [
       "{'Colorado': 'Rockies',\n",
       " 'Boston': 'Red Sox',\n",
       " 'Minnesota': 'Twins',\n",
       " 'Milwaukee': 'Brewers',\n",
       " 'Seattle': 'Seahawks',\n",
       " 'Kansas City': 'Royals'}"
      ]
     },
     "execution_count": 79,
     "metadata": {},
     "output_type": "execute_result"
    }
   ],
   "source": [
    "MLB_team['Seattle'] = 'Seahawks'\n",
    "MLB_team"
   ]
  },
  {
   "cell_type": "markdown",
   "id": "5f5fd9c6",
   "metadata": {},
   "source": [
    "### Dictionary Keys vs. List Indices\n",
    "\n",
    "\n",
    "You may have noticed that the interpreter raises the same exception, **KeyError**, when a dictionary is accessed with either an undefined key or by a numeric index:"
   ]
  },
  {
   "cell_type": "code",
   "execution_count": 80,
   "id": "9a0a933d",
   "metadata": {
    "ExecuteTime": {
     "end_time": "2022-06-22T10:00:48.071467Z",
     "start_time": "2022-06-22T10:00:48.066096Z"
    }
   },
   "outputs": [
    {
     "ename": "KeyError",
     "evalue": "'Toronto'",
     "output_type": "error",
     "traceback": [
      "\u001b[0;31m---------------------------------------------------------------------------\u001b[0m",
      "\u001b[0;31mKeyError\u001b[0m                                  Traceback (most recent call last)",
      "\u001b[0;32m/tmp/ipykernel_48399/2966525637.py\u001b[0m in \u001b[0;36m<module>\u001b[0;34m\u001b[0m\n\u001b[0;32m----> 1\u001b[0;31m \u001b[0mMLB_team\u001b[0m\u001b[0;34m[\u001b[0m\u001b[0;34m'Toronto'\u001b[0m\u001b[0;34m]\u001b[0m\u001b[0;34m\u001b[0m\u001b[0m\n\u001b[0m",
      "\u001b[0;31mKeyError\u001b[0m: 'Toronto'"
     ]
    }
   ],
   "source": [
    "MLB_team['Toronto']"
   ]
  },
  {
   "cell_type": "code",
   "execution_count": 81,
   "id": "53bdac1e",
   "metadata": {
    "ExecuteTime": {
     "end_time": "2022-06-22T10:00:55.704729Z",
     "start_time": "2022-06-22T10:00:55.700831Z"
    }
   },
   "outputs": [
    {
     "ename": "KeyError",
     "evalue": "1",
     "output_type": "error",
     "traceback": [
      "\u001b[0;31m---------------------------------------------------------------------------\u001b[0m",
      "\u001b[0;31mKeyError\u001b[0m                                  Traceback (most recent call last)",
      "\u001b[0;32m/tmp/ipykernel_48399/1469821463.py\u001b[0m in \u001b[0;36m<module>\u001b[0;34m\u001b[0m\n\u001b[0;32m----> 1\u001b[0;31m \u001b[0mMLB_team\u001b[0m\u001b[0;34m[\u001b[0m\u001b[0;36m1\u001b[0m\u001b[0;34m]\u001b[0m\u001b[0;34m\u001b[0m\u001b[0m\n\u001b[0m",
      "\u001b[0;31mKeyError\u001b[0m: 1"
     ]
    }
   ],
   "source": [
    "MLB_team[1]"
   ]
  },
  {
   "cell_type": "markdown",
   "id": "9713e9dc",
   "metadata": {},
   "source": [
    "### Building a Dictionary Incrementally\n"
   ]
  },
  {
   "cell_type": "code",
   "execution_count": 85,
   "id": "7ff88864",
   "metadata": {
    "ExecuteTime": {
     "end_time": "2022-06-22T10:10:38.057977Z",
     "start_time": "2022-06-22T10:10:38.054437Z"
    }
   },
   "outputs": [
    {
     "data": {
      "text/plain": [
       "{'fname': 'Joe',\n",
       " 'lname': 'Fonebone',\n",
       " 'age': 51,\n",
       " 'spouse': 'Edna',\n",
       " 'children': ['Ralph', 'Betty', 'Joey'],\n",
       " 'pets': {'dog': 'Fido', 'cat': 'Sox'}}"
      ]
     },
     "execution_count": 85,
     "metadata": {},
     "output_type": "execute_result"
    }
   ],
   "source": [
    "person = {}\n",
    "person['fname'] = 'Joe'\n",
    "person['lname'] = 'Fonebone'\n",
    "person['age'] = 51\n",
    "person['spouse'] = 'Edna'\n",
    "person['children'] = ['Ralph', 'Betty', 'Joey']\n",
    "person['pets'] = {'dog': 'Fido', 'cat': 'Sox'}\n",
    "\n",
    "person"
   ]
  },
  {
   "cell_type": "code",
   "execution_count": 86,
   "id": "24b93451",
   "metadata": {
    "ExecuteTime": {
     "end_time": "2022-06-22T10:11:18.126407Z",
     "start_time": "2022-06-22T10:11:18.123709Z"
    }
   },
   "outputs": [
    {
     "data": {
      "text/plain": [
       "'Joey'"
      ]
     },
     "execution_count": 86,
     "metadata": {},
     "output_type": "execute_result"
    }
   ],
   "source": [
    "person['children'][-1]"
   ]
  },
  {
   "cell_type": "code",
   "execution_count": 87,
   "id": "3e72f6f2",
   "metadata": {
    "ExecuteTime": {
     "end_time": "2022-06-22T10:11:23.300249Z",
     "start_time": "2022-06-22T10:11:23.297529Z"
    }
   },
   "outputs": [
    {
     "data": {
      "text/plain": [
       "'Sox'"
      ]
     },
     "execution_count": 87,
     "metadata": {},
     "output_type": "execute_result"
    }
   ],
   "source": [
    "person['pets']['cat']"
   ]
  },
  {
   "cell_type": "code",
   "execution_count": 88,
   "id": "fb5ae77f",
   "metadata": {
    "ExecuteTime": {
     "end_time": "2022-06-22T10:12:17.723613Z",
     "start_time": "2022-06-22T10:12:17.720999Z"
    }
   },
   "outputs": [],
   "source": [
    "foo = {42: 'aaa', 2.78: 'bbb', True: 'ccc'}"
   ]
  },
  {
   "cell_type": "code",
   "execution_count": 89,
   "id": "28da61ce",
   "metadata": {
    "ExecuteTime": {
     "end_time": "2022-06-22T10:12:22.564513Z",
     "start_time": "2022-06-22T10:12:22.561707Z"
    }
   },
   "outputs": [
    {
     "data": {
      "text/plain": [
       "'aaa'"
      ]
     },
     "execution_count": 89,
     "metadata": {},
     "output_type": "execute_result"
    }
   ],
   "source": [
    "foo[42]"
   ]
  },
  {
   "cell_type": "markdown",
   "id": "b48f457a",
   "metadata": {},
   "source": [
    "### Restrictions on Dictionary Keys\n"
   ]
  },
  {
   "cell_type": "code",
   "execution_count": 90,
   "id": "ed96423a",
   "metadata": {
    "ExecuteTime": {
     "end_time": "2022-06-22T10:12:39.390956Z",
     "start_time": "2022-06-22T10:12:39.388126Z"
    }
   },
   "outputs": [
    {
     "data": {
      "text/plain": [
       "{42: 'aaa', 2.78: 'bbb', True: 'ccc'}"
      ]
     },
     "execution_count": 90,
     "metadata": {},
     "output_type": "execute_result"
    }
   ],
   "source": [
    "foo = {42: 'aaa', 2.78: 'bbb', True: 'ccc'}\n",
    "foo"
   ]
  },
  {
   "cell_type": "code",
   "execution_count": 91,
   "id": "4f31b917",
   "metadata": {
    "ExecuteTime": {
     "end_time": "2022-06-22T10:12:44.885456Z",
     "start_time": "2022-06-22T10:12:44.881296Z"
    }
   },
   "outputs": [
    {
     "data": {
      "text/plain": [
       "{int: 1, float: 2, bool: 3}"
      ]
     },
     "execution_count": 91,
     "metadata": {},
     "output_type": "execute_result"
    }
   ],
   "source": [
    "d = {int: 1, float: 2, bool: 3}\n",
    "d"
   ]
  },
  {
   "cell_type": "code",
   "execution_count": 92,
   "id": "88d12e0b",
   "metadata": {
    "ExecuteTime": {
     "end_time": "2022-06-22T10:12:50.072164Z",
     "start_time": "2022-06-22T10:12:50.069834Z"
    }
   },
   "outputs": [
    {
     "data": {
      "text/plain": [
       "2"
      ]
     },
     "execution_count": 92,
     "metadata": {},
     "output_type": "execute_result"
    }
   ],
   "source": [
    "d[float]"
   ]
  },
  {
   "cell_type": "code",
   "execution_count": 93,
   "id": "0343e2df",
   "metadata": {
    "ExecuteTime": {
     "end_time": "2022-06-22T10:14:21.658771Z",
     "start_time": "2022-06-22T10:14:21.655947Z"
    }
   },
   "outputs": [
    {
     "data": {
      "text/plain": [
       "{'Colorado': 'Rockies',\n",
       " 'Boston': 'Red Sox',\n",
       " 'Minnesota': 'Timberwolves',\n",
       " 'Milwaukee': 'Brewers',\n",
       " 'Seattle': 'Mariners'}"
      ]
     },
     "execution_count": 93,
     "metadata": {},
     "output_type": "execute_result"
    }
   ],
   "source": [
    "MLB_team = {\n",
    "     'Colorado' : 'Rockies',\n",
    "     'Boston'   : 'Red Sox',\n",
    "     'Minnesota': 'Twins',\n",
    "     'Milwaukee': 'Brewers',\n",
    "     'Seattle'  : 'Mariners'\n",
    " }\n",
    "\n",
    "MLB_team['Minnesota'] = 'Timberwolves'\n",
    "MLB_team"
   ]
  },
  {
   "cell_type": "markdown",
   "id": "51153a43",
   "metadata": {},
   "source": [
    "Similarly, if you specify a key a second time during the initial creation of a dictionary, **the second occurrence will override the first:**"
   ]
  },
  {
   "cell_type": "code",
   "execution_count": 1,
   "id": "d398c046",
   "metadata": {
    "ExecuteTime": {
     "end_time": "2022-06-23T01:01:28.893110Z",
     "start_time": "2022-06-23T01:01:28.874297Z"
    }
   },
   "outputs": [
    {
     "data": {
      "text/plain": [
       "{'Colorado': 'Rockies',\n",
       " 'Boston': 'Red Sox',\n",
       " 'Minnesota': 'Twins',\n",
       " 'Milwaukee': 'Brewers',\n",
       " 'Seattle': 'Mariners'}"
      ]
     },
     "execution_count": 1,
     "metadata": {},
     "output_type": "execute_result"
    }
   ],
   "source": [
    "MLB_team = {\n",
    "     'Colorado' : 'Rockies',\n",
    "     'Boston'   : 'Red Sox',\n",
    "     'Minnesota': 'Timberwolves',\n",
    "     'Milwaukee': 'Brewers',\n",
    "     'Seattle'  : 'Mariners',\n",
    "     'Minnesota': 'Twins'\n",
    " }\n",
    "MLB_team"
   ]
  },
  {
   "cell_type": "markdown",
   "id": "364aa5ed",
   "metadata": {},
   "source": [
    "Secondly, a dictionary key must be of a type that is immutable. You have already seen examples where several of the immutable types you are familiar with—integer, float, string, and Boolean—have served as dictionary keys.\n",
    "\n",
    "**A tuple can also be a dictionary key, because tuples are immutable:**"
   ]
  },
  {
   "cell_type": "code",
   "execution_count": 2,
   "id": "72bc11e4",
   "metadata": {
    "ExecuteTime": {
     "end_time": "2022-06-23T01:02:33.647099Z",
     "start_time": "2022-06-23T01:02:33.640206Z"
    }
   },
   "outputs": [
    {
     "data": {
      "text/plain": [
       "'a'"
      ]
     },
     "execution_count": 2,
     "metadata": {},
     "output_type": "execute_result"
    }
   ],
   "source": [
    "d = {(1, 1): 'a', (1, 2): 'b', (2, 1): 'c', (2, 2): 'd'}\n",
    "d[(1,1)]"
   ]
  },
  {
   "cell_type": "code",
   "execution_count": 3,
   "id": "4875c726",
   "metadata": {
    "ExecuteTime": {
     "end_time": "2022-06-23T01:02:38.935930Z",
     "start_time": "2022-06-23T01:02:38.929311Z"
    }
   },
   "outputs": [
    {
     "data": {
      "text/plain": [
       "'c'"
      ]
     },
     "execution_count": 3,
     "metadata": {},
     "output_type": "execute_result"
    }
   ],
   "source": [
    "d[(2,1)]"
   ]
  },
  {
   "cell_type": "markdown",
   "id": "8c0cc75e",
   "metadata": {},
   "source": [
    "However, **neither a list nor another dictionary can serve as a dictionary key, because lists and dictionaries are mutable:**\n"
   ]
  },
  {
   "cell_type": "code",
   "execution_count": 5,
   "id": "99d8a0f3",
   "metadata": {
    "ExecuteTime": {
     "end_time": "2022-06-23T01:03:22.301145Z",
     "start_time": "2022-06-23T01:03:22.290750Z"
    }
   },
   "outputs": [
    {
     "ename": "TypeError",
     "evalue": "unhashable type: 'list'",
     "output_type": "error",
     "traceback": [
      "\u001b[0;31m---------------------------------------------------------------------------\u001b[0m",
      "\u001b[0;31mTypeError\u001b[0m                                 Traceback (most recent call last)",
      "\u001b[0;32m/tmp/ipykernel_6183/3352017828.py\u001b[0m in \u001b[0;36m<module>\u001b[0;34m\u001b[0m\n\u001b[1;32m      1\u001b[0m \u001b[0;31m## will occur the error\u001b[0m\u001b[0;34m\u001b[0m\u001b[0;34m\u001b[0m\u001b[0m\n\u001b[0;32m----> 2\u001b[0;31m \u001b[0md\u001b[0m \u001b[0;34m=\u001b[0m \u001b[0;34m{\u001b[0m\u001b[0;34m[\u001b[0m\u001b[0;36m1\u001b[0m\u001b[0;34m,\u001b[0m \u001b[0;36m1\u001b[0m\u001b[0;34m]\u001b[0m\u001b[0;34m:\u001b[0m \u001b[0;34m'a'\u001b[0m\u001b[0;34m,\u001b[0m \u001b[0;34m[\u001b[0m\u001b[0;36m1\u001b[0m\u001b[0;34m,\u001b[0m \u001b[0;36m2\u001b[0m\u001b[0;34m]\u001b[0m\u001b[0;34m:\u001b[0m \u001b[0;34m'b'\u001b[0m\u001b[0;34m,\u001b[0m \u001b[0;34m[\u001b[0m\u001b[0;36m2\u001b[0m\u001b[0;34m,\u001b[0m \u001b[0;36m1\u001b[0m\u001b[0;34m]\u001b[0m\u001b[0;34m:\u001b[0m \u001b[0;34m'c'\u001b[0m\u001b[0;34m,\u001b[0m \u001b[0;34m[\u001b[0m\u001b[0;36m2\u001b[0m\u001b[0;34m,\u001b[0m \u001b[0;36m2\u001b[0m\u001b[0;34m]\u001b[0m\u001b[0;34m:\u001b[0m \u001b[0;34m'd'\u001b[0m\u001b[0;34m}\u001b[0m\u001b[0;34m\u001b[0m\u001b[0m\n\u001b[0m",
      "\u001b[0;31mTypeError\u001b[0m: unhashable type: 'list'"
     ]
    }
   ],
   "source": [
    "## will occur the error\n",
    "d = {[1, 1]: 'a', [1, 2]: 'b', [2, 1]: 'c', [2, 2]: 'd'}"
   ]
  },
  {
   "cell_type": "markdown",
   "id": "a76dc087",
   "metadata": {
    "ExecuteTime": {
     "end_time": "2022-06-23T01:04:22.850985Z",
     "start_time": "2022-06-23T01:04:22.839851Z"
    }
   },
   "source": [
    "Technical Note: Why does the error message say “unhashable”?\n",
    "\n",
    "Technically, it is not quite correct to say an object must be immutable to be used as a dictionary key. More precisely, an object must be hashable, which means it can be passed to a hash function. A hash function takes data of arbitrary size and maps it to a relatively simpler fixed-size value called a hash value (or simply hash), which is used for table lookup and comparison.\n",
    "\n",
    "Python’s built-in hash() function returns the hash value for an object which is hashable, and raises an exception for an object which isn’t:"
   ]
  },
  {
   "cell_type": "code",
   "execution_count": 7,
   "id": "62d51adb",
   "metadata": {
    "ExecuteTime": {
     "end_time": "2022-06-23T01:04:33.500735Z",
     "start_time": "2022-06-23T01:04:33.495151Z"
    }
   },
   "outputs": [
    {
     "data": {
      "text/plain": [
       "-4910035530008762825"
      ]
     },
     "execution_count": 7,
     "metadata": {},
     "output_type": "execute_result"
    }
   ],
   "source": [
    "hash('foo')"
   ]
  },
  {
   "cell_type": "code",
   "execution_count": 8,
   "id": "e5efbe6b",
   "metadata": {
    "ExecuteTime": {
     "end_time": "2022-06-23T01:04:37.881240Z",
     "start_time": "2022-06-23T01:04:37.869814Z"
    }
   },
   "outputs": [
    {
     "ename": "TypeError",
     "evalue": "unhashable type: 'list'",
     "output_type": "error",
     "traceback": [
      "\u001b[0;31m---------------------------------------------------------------------------\u001b[0m",
      "\u001b[0;31mTypeError\u001b[0m                                 Traceback (most recent call last)",
      "\u001b[0;32m/tmp/ipykernel_6183/2492717709.py\u001b[0m in \u001b[0;36m<module>\u001b[0;34m\u001b[0m\n\u001b[0;32m----> 1\u001b[0;31m \u001b[0mhash\u001b[0m\u001b[0;34m(\u001b[0m\u001b[0;34m[\u001b[0m\u001b[0;36m1\u001b[0m\u001b[0;34m,\u001b[0m \u001b[0;36m2\u001b[0m\u001b[0;34m,\u001b[0m \u001b[0;36m3\u001b[0m\u001b[0;34m]\u001b[0m\u001b[0;34m)\u001b[0m\u001b[0;34m\u001b[0m\u001b[0m\n\u001b[0m",
      "\u001b[0;31mTypeError\u001b[0m: unhashable type: 'list'"
     ]
    }
   ],
   "source": [
    "hash([1, 2, 3])"
   ]
  },
  {
   "cell_type": "markdown",
   "id": "cc4f1286",
   "metadata": {},
   "source": [
    "### Restrictions on Dictionary Values\n",
    "\n",
    "By contrast, there are no restrictions on dictionary values. \n",
    "\n",
    "A dictionary value can be any type of object Python supports, including mutable types like lists and dictionaries, and user-defined objects, "
   ]
  },
  {
   "cell_type": "code",
   "execution_count": 9,
   "id": "2e6d8c88",
   "metadata": {
    "ExecuteTime": {
     "end_time": "2022-06-23T01:05:39.801071Z",
     "start_time": "2022-06-23T01:05:39.793837Z"
    }
   },
   "outputs": [
    {
     "data": {
      "text/plain": [
       "True"
      ]
     },
     "execution_count": 9,
     "metadata": {},
     "output_type": "execute_result"
    }
   ],
   "source": [
    "d = {0: 'a', 1: 'a', 2: 'a', 3: 'a'}\n",
    "d[0] == d[1] == d[2]"
   ]
  },
  {
   "cell_type": "markdown",
   "id": "848f6db2",
   "metadata": {},
   "source": [
    "### Operators and Built-in Functions"
   ]
  },
  {
   "cell_type": "code",
   "execution_count": 10,
   "id": "e55d2ae7",
   "metadata": {
    "ExecuteTime": {
     "end_time": "2022-06-23T01:07:16.945879Z",
     "start_time": "2022-06-23T01:07:16.938411Z"
    }
   },
   "outputs": [
    {
     "data": {
      "text/plain": [
       "True"
      ]
     },
     "execution_count": 10,
     "metadata": {},
     "output_type": "execute_result"
    }
   ],
   "source": [
    "MLB_team = {\n",
    "     'Colorado' : 'Rockies',\n",
    "     'Boston'   : 'Red Sox',\n",
    "     'Minnesota': 'Twins',\n",
    "     'Milwaukee': 'Brewers',\n",
    "     'Seattle'  : 'Mariners'\n",
    " }\n",
    "\n",
    "'Milwaukee' in MLB_team\n"
   ]
  },
  {
   "cell_type": "code",
   "execution_count": 11,
   "id": "c4a156bf",
   "metadata": {
    "ExecuteTime": {
     "end_time": "2022-06-23T01:07:29.047779Z",
     "start_time": "2022-06-23T01:07:29.042402Z"
    }
   },
   "outputs": [
    {
     "data": {
      "text/plain": [
       "False"
      ]
     },
     "execution_count": 11,
     "metadata": {},
     "output_type": "execute_result"
    }
   ],
   "source": [
    "'Toronto' in MLB_team"
   ]
  },
  {
   "cell_type": "code",
   "execution_count": 12,
   "id": "94814226",
   "metadata": {
    "ExecuteTime": {
     "end_time": "2022-06-23T01:07:34.203620Z",
     "start_time": "2022-06-23T01:07:34.198280Z"
    }
   },
   "outputs": [
    {
     "data": {
      "text/plain": [
       "True"
      ]
     },
     "execution_count": 12,
     "metadata": {},
     "output_type": "execute_result"
    }
   ],
   "source": [
    "'Toronto' not in MLB_team\n"
   ]
  },
  {
   "cell_type": "code",
   "execution_count": 13,
   "id": "a54631aa",
   "metadata": {
    "ExecuteTime": {
     "end_time": "2022-06-23T01:07:48.924496Z",
     "start_time": "2022-06-23T01:07:48.919654Z"
    }
   },
   "outputs": [
    {
     "ename": "KeyError",
     "evalue": "'Toronto'",
     "output_type": "error",
     "traceback": [
      "\u001b[0;31m---------------------------------------------------------------------------\u001b[0m",
      "\u001b[0;31mKeyError\u001b[0m                                  Traceback (most recent call last)",
      "\u001b[0;32m/tmp/ipykernel_6183/2966525637.py\u001b[0m in \u001b[0;36m<module>\u001b[0;34m\u001b[0m\n\u001b[0;32m----> 1\u001b[0;31m \u001b[0mMLB_team\u001b[0m\u001b[0;34m[\u001b[0m\u001b[0;34m'Toronto'\u001b[0m\u001b[0;34m]\u001b[0m\u001b[0;34m\u001b[0m\u001b[0m\n\u001b[0m",
      "\u001b[0;31mKeyError\u001b[0m: 'Toronto'"
     ]
    }
   ],
   "source": [
    "MLB_team['Toronto']"
   ]
  },
  {
   "cell_type": "code",
   "execution_count": 14,
   "id": "b12602c5",
   "metadata": {
    "ExecuteTime": {
     "end_time": "2022-06-23T01:07:59.605896Z",
     "start_time": "2022-06-23T01:07:59.599970Z"
    }
   },
   "outputs": [
    {
     "data": {
      "text/plain": [
       "False"
      ]
     },
     "execution_count": 14,
     "metadata": {},
     "output_type": "execute_result"
    }
   ],
   "source": [
    "'Toronto' in MLB_team and MLB_team['Toronto']"
   ]
  },
  {
   "cell_type": "markdown",
   "id": "373e626c",
   "metadata": {},
   "source": [
    "The **len()** function returns the number of key-value pairs in a dictionary:\n",
    "\n"
   ]
  },
  {
   "cell_type": "code",
   "execution_count": 15,
   "id": "8e59d80a",
   "metadata": {
    "ExecuteTime": {
     "end_time": "2022-06-23T01:08:34.284145Z",
     "start_time": "2022-06-23T01:08:34.277131Z"
    }
   },
   "outputs": [
    {
     "name": "stdout",
     "output_type": "stream",
     "text": [
      "5\n"
     ]
    }
   ],
   "source": [
    "MLB_team = {\n",
    "     'Colorado' : 'Rockies',\n",
    "     'Boston'   : 'Red Sox',\n",
    "     'Minnesota': 'Twins',\n",
    "     'Milwaukee': 'Brewers',\n",
    "     'Seattle'  : 'Mariners'\n",
    " }\n",
    "\n",
    "print(len(MLB_team))"
   ]
  },
  {
   "cell_type": "markdown",
   "id": "def29158",
   "metadata": {},
   "source": [
    "### Built-in Dictionary Methods\n"
   ]
  },
  {
   "cell_type": "markdown",
   "id": "cc2a1f3e",
   "metadata": {},
   "source": [
    "```d.clear()``` : Clears a dictionary."
   ]
  },
  {
   "cell_type": "code",
   "execution_count": 16,
   "id": "3af84faf",
   "metadata": {
    "ExecuteTime": {
     "end_time": "2022-06-23T01:11:24.075378Z",
     "start_time": "2022-06-23T01:11:24.071459Z"
    }
   },
   "outputs": [
    {
     "data": {
      "text/plain": [
       "{'a': 10, 'b': 20, 'c': 30}"
      ]
     },
     "execution_count": 16,
     "metadata": {},
     "output_type": "execute_result"
    }
   ],
   "source": [
    "d = {'a': 10, 'b': 20, 'c': 30}\n",
    "d"
   ]
  },
  {
   "cell_type": "code",
   "execution_count": 17,
   "id": "9504df43",
   "metadata": {
    "ExecuteTime": {
     "end_time": "2022-06-23T01:11:26.506716Z",
     "start_time": "2022-06-23T01:11:26.503825Z"
    }
   },
   "outputs": [
    {
     "data": {
      "text/plain": [
       "{}"
      ]
     },
     "execution_count": 17,
     "metadata": {},
     "output_type": "execute_result"
    }
   ],
   "source": [
    "d.clear()\n",
    "d"
   ]
  },
  {
   "cell_type": "markdown",
   "id": "a6a69ec1",
   "metadata": {},
   "source": [
    "```d.get(<key>[, <default>])``` : Returns the value for a key if it exists in the dictionary."
   ]
  },
  {
   "cell_type": "markdown",
   "id": "74177207",
   "metadata": {},
   "source": [
    "d.get(<key>) searches dictionary d for <key> and returns the associated value if it is found. If <key> is not found, it returns None:"
   ]
  },
  {
   "cell_type": "code",
   "execution_count": 18,
   "id": "56e8edac",
   "metadata": {
    "ExecuteTime": {
     "end_time": "2022-06-23T01:12:33.780570Z",
     "start_time": "2022-06-23T01:12:33.778271Z"
    }
   },
   "outputs": [
    {
     "name": "stdout",
     "output_type": "stream",
     "text": [
      "20\n"
     ]
    }
   ],
   "source": [
    "d = {'a': 10, 'b': 20, 'c': 30}\n",
    "print(d.get('b'))"
   ]
  },
  {
   "cell_type": "markdown",
   "id": "b40df726",
   "metadata": {},
   "source": [
    "If <key> is not found and the optional <default> argument is specified, that value is returned instead of None:"
   ]
  },
  {
   "cell_type": "code",
   "execution_count": 19,
   "id": "bf1f17bd",
   "metadata": {
    "ExecuteTime": {
     "end_time": "2022-06-23T01:12:47.117705Z",
     "start_time": "2022-06-23T01:12:47.114081Z"
    }
   },
   "outputs": [
    {
     "name": "stdout",
     "output_type": "stream",
     "text": [
      "-1\n"
     ]
    }
   ],
   "source": [
    "print(d.get('z', -1))"
   ]
  },
  {
   "cell_type": "markdown",
   "id": "144e4adf",
   "metadata": {},
   "source": [
    "```d.items()``` : Returns a list of key-value pairs in a dictionary.\n",
    "\n",
    "d.items() returns a list of tuples containing the key-value pairs in d. The first item in each tuple is the key, and the second item is the key’s value:\n",
    "\n"
   ]
  },
  {
   "cell_type": "code",
   "execution_count": 20,
   "id": "8e7106f2",
   "metadata": {
    "ExecuteTime": {
     "end_time": "2022-06-23T01:14:04.887438Z",
     "start_time": "2022-06-23T01:14:04.884097Z"
    }
   },
   "outputs": [
    {
     "data": {
      "text/plain": [
       "{'a': 10, 'b': 20, 'c': 30}"
      ]
     },
     "execution_count": 20,
     "metadata": {},
     "output_type": "execute_result"
    }
   ],
   "source": [
    "d = {'a': 10, 'b': 20, 'c': 30}\n",
    "\n",
    "d"
   ]
  },
  {
   "cell_type": "code",
   "execution_count": 21,
   "id": "dd72c66a",
   "metadata": {
    "ExecuteTime": {
     "end_time": "2022-06-23T01:14:10.574832Z",
     "start_time": "2022-06-23T01:14:10.570672Z"
    }
   },
   "outputs": [
    {
     "data": {
      "text/plain": [
       "[('a', 10), ('b', 20), ('c', 30)]"
      ]
     },
     "execution_count": 21,
     "metadata": {},
     "output_type": "execute_result"
    }
   ],
   "source": [
    "list(d.items())"
   ]
  },
  {
   "cell_type": "code",
   "execution_count": 23,
   "id": "ac59f1c5",
   "metadata": {
    "ExecuteTime": {
     "end_time": "2022-06-23T01:14:38.231052Z",
     "start_time": "2022-06-23T01:14:38.227078Z"
    }
   },
   "outputs": [
    {
     "name": "stdout",
     "output_type": "stream",
     "text": [
      "b\n",
      "20\n"
     ]
    }
   ],
   "source": [
    "print(list(d.items())[1][0])\n",
    "print(list(d.items())[1][1])"
   ]
  },
  {
   "cell_type": "markdown",
   "id": "bd25e22d",
   "metadata": {},
   "source": [
    "```d.keys()``` : Returns a list of keys in a dictionary.\n",
    "\n",
    "d.keys() returns a list of all keys in d:"
   ]
  },
  {
   "cell_type": "code",
   "execution_count": 24,
   "id": "56176722",
   "metadata": {
    "ExecuteTime": {
     "end_time": "2022-06-23T01:15:18.116718Z",
     "start_time": "2022-06-23T01:15:18.113985Z"
    }
   },
   "outputs": [
    {
     "data": {
      "text/plain": [
       "{'a': 10, 'b': 20, 'c': 30}"
      ]
     },
     "execution_count": 24,
     "metadata": {},
     "output_type": "execute_result"
    }
   ],
   "source": [
    "d = {'a': 10, 'b': 20, 'c': 30}\n",
    "d"
   ]
  },
  {
   "cell_type": "code",
   "execution_count": 25,
   "id": "6bc3575b",
   "metadata": {
    "ExecuteTime": {
     "end_time": "2022-06-23T01:15:18.881166Z",
     "start_time": "2022-06-23T01:15:18.876777Z"
    }
   },
   "outputs": [
    {
     "data": {
      "text/plain": [
       "['a', 'b', 'c']"
      ]
     },
     "execution_count": 25,
     "metadata": {},
     "output_type": "execute_result"
    }
   ],
   "source": [
    "list(d.keys())"
   ]
  },
  {
   "cell_type": "markdown",
   "id": "b07a598e",
   "metadata": {
    "ExecuteTime": {
     "end_time": "2022-06-23T01:15:35.223539Z",
     "start_time": "2022-06-23T01:15:35.220937Z"
    }
   },
   "source": [
    "```d.values()``` : Returns a list of values in a dictionary.\n",
    "\n",
    "d.values() returns a list of all values in d:\n",
    "\n"
   ]
  },
  {
   "cell_type": "code",
   "execution_count": 27,
   "id": "b7e2eeea",
   "metadata": {
    "ExecuteTime": {
     "end_time": "2022-06-23T01:15:57.444051Z",
     "start_time": "2022-06-23T01:15:57.440535Z"
    }
   },
   "outputs": [
    {
     "data": {
      "text/plain": [
       "{'a': 10, 'b': 20, 'c': 30}"
      ]
     },
     "execution_count": 27,
     "metadata": {},
     "output_type": "execute_result"
    }
   ],
   "source": [
    "d = {'a': 10, 'b': 20, 'c': 30}\n",
    "d"
   ]
  },
  {
   "cell_type": "code",
   "execution_count": 28,
   "id": "506d4b6b",
   "metadata": {
    "ExecuteTime": {
     "end_time": "2022-06-23T01:16:03.967549Z",
     "start_time": "2022-06-23T01:16:03.964739Z"
    }
   },
   "outputs": [
    {
     "data": {
      "text/plain": [
       "[10, 20, 30]"
      ]
     },
     "execution_count": 28,
     "metadata": {},
     "output_type": "execute_result"
    }
   ],
   "source": [
    "list(d.values())"
   ]
  },
  {
   "cell_type": "markdown",
   "id": "352c8ef2",
   "metadata": {},
   "source": [
    "Any duplicate values in d will be returned as many times as they occur:\n"
   ]
  },
  {
   "cell_type": "code",
   "execution_count": 30,
   "id": "a6b1f724",
   "metadata": {
    "ExecuteTime": {
     "end_time": "2022-06-23T01:16:43.316397Z",
     "start_time": "2022-06-23T01:16:43.313848Z"
    }
   },
   "outputs": [
    {
     "data": {
      "text/plain": [
       "[10, 10, 10]"
      ]
     },
     "execution_count": 30,
     "metadata": {},
     "output_type": "execute_result"
    }
   ],
   "source": [
    "d = {'a': 10, 'b': 10, 'c': 10}\n",
    "list(d.values())"
   ]
  },
  {
   "cell_type": "markdown",
   "id": "3bf61319",
   "metadata": {},
   "source": [
    "```d.pop(<key>[, <default>])```: Removes a key from a dictionary, if it is present, and returns its value.\n",
    "\n",
    "If <key> is present in d, d.pop(<key>) removes <key> and returns its associated value:\n",
    "\n"
   ]
  },
  {
   "cell_type": "code",
   "execution_count": 32,
   "id": "6634375d",
   "metadata": {
    "ExecuteTime": {
     "end_time": "2022-06-23T01:20:02.005107Z",
     "start_time": "2022-06-23T01:20:02.002114Z"
    }
   },
   "outputs": [
    {
     "data": {
      "text/plain": [
       "20"
      ]
     },
     "execution_count": 32,
     "metadata": {},
     "output_type": "execute_result"
    }
   ],
   "source": [
    "d = {'a': 10, 'b': 20, 'c': 30}\n",
    "d.pop('b')"
   ]
  },
  {
   "cell_type": "code",
   "execution_count": 33,
   "id": "510e0477",
   "metadata": {
    "ExecuteTime": {
     "end_time": "2022-06-23T01:20:04.134862Z",
     "start_time": "2022-06-23T01:20:04.132248Z"
    }
   },
   "outputs": [
    {
     "data": {
      "text/plain": [
       "{'a': 10, 'c': 30}"
      ]
     },
     "execution_count": 33,
     "metadata": {},
     "output_type": "execute_result"
    }
   ],
   "source": [
    "d"
   ]
  },
  {
   "cell_type": "markdown",
   "id": "8d3d6871",
   "metadata": {},
   "source": [
    "d.pop(<key>) raises a KeyError exception if <key> is not in d:"
   ]
  },
  {
   "cell_type": "code",
   "execution_count": 34,
   "id": "f3064597",
   "metadata": {
    "ExecuteTime": {
     "end_time": "2022-06-23T01:20:22.160015Z",
     "start_time": "2022-06-23T01:20:22.155395Z"
    }
   },
   "outputs": [
    {
     "ename": "KeyError",
     "evalue": "'z'",
     "output_type": "error",
     "traceback": [
      "\u001b[0;31m---------------------------------------------------------------------------\u001b[0m",
      "\u001b[0;31mKeyError\u001b[0m                                  Traceback (most recent call last)",
      "\u001b[0;32m/tmp/ipykernel_6183/1780465932.py\u001b[0m in \u001b[0;36m<module>\u001b[0;34m\u001b[0m\n\u001b[1;32m      1\u001b[0m \u001b[0md\u001b[0m \u001b[0;34m=\u001b[0m \u001b[0;34m{\u001b[0m\u001b[0;34m'a'\u001b[0m\u001b[0;34m:\u001b[0m \u001b[0;36m10\u001b[0m\u001b[0;34m,\u001b[0m \u001b[0;34m'b'\u001b[0m\u001b[0;34m:\u001b[0m \u001b[0;36m20\u001b[0m\u001b[0;34m,\u001b[0m \u001b[0;34m'c'\u001b[0m\u001b[0;34m:\u001b[0m \u001b[0;36m30\u001b[0m\u001b[0;34m}\u001b[0m\u001b[0;34m\u001b[0m\u001b[0m\n\u001b[0;32m----> 2\u001b[0;31m \u001b[0md\u001b[0m\u001b[0;34m.\u001b[0m\u001b[0mpop\u001b[0m\u001b[0;34m(\u001b[0m\u001b[0;34m'z'\u001b[0m\u001b[0;34m)\u001b[0m\u001b[0;34m\u001b[0m\u001b[0m\n\u001b[0m",
      "\u001b[0;31mKeyError\u001b[0m: 'z'"
     ]
    }
   ],
   "source": [
    "d = {'a': 10, 'b': 20, 'c': 30}\n",
    "d.pop('z')"
   ]
  },
  {
   "cell_type": "markdown",
   "id": "77ef4786",
   "metadata": {},
   "source": [
    "If <key> is not in d, and the optional <default> argument is specified, then that value is returned, and no exception is raised:\n",
    "\n"
   ]
  },
  {
   "cell_type": "code",
   "execution_count": 35,
   "id": "a6ac724b",
   "metadata": {
    "ExecuteTime": {
     "end_time": "2022-06-23T01:20:43.171104Z",
     "start_time": "2022-06-23T01:20:43.167096Z"
    }
   },
   "outputs": [
    {
     "data": {
      "text/plain": [
       "-1"
      ]
     },
     "execution_count": 35,
     "metadata": {},
     "output_type": "execute_result"
    }
   ],
   "source": [
    "d = {'a': 10, 'b': 20, 'c': 30}\n",
    "d.pop('z', -1)"
   ]
  },
  {
   "cell_type": "code",
   "execution_count": 36,
   "id": "2466e155",
   "metadata": {
    "ExecuteTime": {
     "end_time": "2022-06-23T01:20:48.529453Z",
     "start_time": "2022-06-23T01:20:48.526026Z"
    }
   },
   "outputs": [
    {
     "data": {
      "text/plain": [
       "{'a': 10, 'b': 20, 'c': 30}"
      ]
     },
     "execution_count": 36,
     "metadata": {},
     "output_type": "execute_result"
    }
   ],
   "source": [
    "d"
   ]
  },
  {
   "cell_type": "markdown",
   "id": "9ddd7000",
   "metadata": {},
   "source": [
    "```d.popitem()``` : Removes a key-value pair from a dictionary.\n",
    "\n",
    "d.popitem() removes the last key-value pair added from d and returns it as a tuple:\n",
    "\n"
   ]
  },
  {
   "cell_type": "code",
   "execution_count": 37,
   "id": "de934a5a",
   "metadata": {
    "ExecuteTime": {
     "end_time": "2022-06-23T01:21:35.254386Z",
     "start_time": "2022-06-23T01:21:35.251575Z"
    }
   },
   "outputs": [
    {
     "data": {
      "text/plain": [
       "{'a': 10, 'b': 20}"
      ]
     },
     "execution_count": 37,
     "metadata": {},
     "output_type": "execute_result"
    }
   ],
   "source": [
    "d = {'a': 10, 'b': 20, 'c': 30}\n",
    "d.popitem()\n",
    "d"
   ]
  },
  {
   "cell_type": "code",
   "execution_count": 38,
   "id": "187e31bc",
   "metadata": {
    "ExecuteTime": {
     "end_time": "2022-06-23T01:21:55.713598Z",
     "start_time": "2022-06-23T01:21:55.710949Z"
    }
   },
   "outputs": [
    {
     "data": {
      "text/plain": [
       "('b', 20)"
      ]
     },
     "execution_count": 38,
     "metadata": {},
     "output_type": "execute_result"
    }
   ],
   "source": [
    "d.popitem()"
   ]
  },
  {
   "cell_type": "code",
   "execution_count": 39,
   "id": "0415775b",
   "metadata": {
    "ExecuteTime": {
     "end_time": "2022-06-23T01:21:58.955501Z",
     "start_time": "2022-06-23T01:21:58.952379Z"
    }
   },
   "outputs": [
    {
     "data": {
      "text/plain": [
       "{'a': 10}"
      ]
     },
     "execution_count": 39,
     "metadata": {},
     "output_type": "execute_result"
    }
   ],
   "source": [
    "d"
   ]
  },
  {
   "cell_type": "markdown",
   "id": "d9c6699c",
   "metadata": {},
   "source": [
    "If d is empty, d.popitem() raises a KeyError exception:\n"
   ]
  },
  {
   "cell_type": "code",
   "execution_count": 40,
   "id": "67e27e30",
   "metadata": {
    "ExecuteTime": {
     "end_time": "2022-06-23T01:22:17.380379Z",
     "start_time": "2022-06-23T01:22:17.375313Z"
    }
   },
   "outputs": [
    {
     "ename": "KeyError",
     "evalue": "'popitem(): dictionary is empty'",
     "output_type": "error",
     "traceback": [
      "\u001b[0;31m---------------------------------------------------------------------------\u001b[0m",
      "\u001b[0;31mKeyError\u001b[0m                                  Traceback (most recent call last)",
      "\u001b[0;32m/tmp/ipykernel_6183/4095727887.py\u001b[0m in \u001b[0;36m<module>\u001b[0;34m\u001b[0m\n\u001b[1;32m      1\u001b[0m \u001b[0md\u001b[0m \u001b[0;34m=\u001b[0m \u001b[0;34m{\u001b[0m\u001b[0;34m}\u001b[0m\u001b[0;34m\u001b[0m\u001b[0m\n\u001b[0;32m----> 2\u001b[0;31m \u001b[0md\u001b[0m\u001b[0;34m.\u001b[0m\u001b[0mpopitem\u001b[0m\u001b[0;34m(\u001b[0m\u001b[0;34m)\u001b[0m\u001b[0;34m\u001b[0m\u001b[0m\n\u001b[0m",
      "\u001b[0;31mKeyError\u001b[0m: 'popitem(): dictionary is empty'"
     ]
    }
   ],
   "source": [
    "## will occur the error\n",
    "d = {}\n",
    "d.popitem()"
   ]
  },
  {
   "cell_type": "markdown",
   "id": "61bb0e1e",
   "metadata": {},
   "source": [
    "```d.update(<obj>)``` : Merges a dictionary with another dictionary or with an iterable of key-value pairs.\n",
    "\n",
    "- If <obj> is a dictionary, d.update(<obj>) merges the entries from <obj> into d. For each key in <obj>:\n",
    "- If the key is not present in d, the key-value pair from <obj> is added to d.\n",
    "- If the key is already present in d, the corresponding value in d for that key is updated to the value from <obj>."
   ]
  },
  {
   "cell_type": "code",
   "execution_count": 41,
   "id": "886e2cff",
   "metadata": {
    "ExecuteTime": {
     "end_time": "2022-06-23T01:23:44.203630Z",
     "start_time": "2022-06-23T01:23:44.200372Z"
    }
   },
   "outputs": [
    {
     "data": {
      "text/plain": [
       "{'a': 10, 'b': 200, 'c': 30, 'd': 400}"
      ]
     },
     "execution_count": 41,
     "metadata": {},
     "output_type": "execute_result"
    }
   ],
   "source": [
    "d1 = {'a': 10, 'b': 20, 'c': 30}\n",
    "d2 = {'b': 200, 'd': 400}\n",
    "d1.update(d2)\n",
    "d1"
   ]
  },
  {
   "cell_type": "markdown",
   "id": "27e81ad3",
   "metadata": {},
   "source": [
    "In this example, key 'b' already exists in d1, so its value is updated to 200, the value for that key from d2. However, there is no key 'd' in d1, so that key-value pair is added from d2."
   ]
  },
  {
   "cell_type": "markdown",
   "id": "d028c8d6",
   "metadata": {
    "ExecuteTime": {
     "end_time": "2022-06-23T02:42:10.837122Z",
     "start_time": "2022-06-23T02:42:10.834661Z"
    }
   },
   "source": [
    "```<obj>``` may also be a sequence of key-value pairs, similar to when the dict() function is used to define a dictionary. For example, ```<obj>``` can be specified as a list of tuples:"
   ]
  },
  {
   "cell_type": "code",
   "execution_count": 43,
   "id": "0f09b867",
   "metadata": {
    "ExecuteTime": {
     "end_time": "2022-06-23T02:42:49.740735Z",
     "start_time": "2022-06-23T02:42:49.738211Z"
    }
   },
   "outputs": [],
   "source": [
    "d1 = {'a': 10, 'b': 20, 'c': 30}\n",
    "d1.update([('b', 200), ('d', 400)])"
   ]
  },
  {
   "cell_type": "code",
   "execution_count": 44,
   "id": "798506e4",
   "metadata": {
    "ExecuteTime": {
     "end_time": "2022-06-23T02:42:55.461117Z",
     "start_time": "2022-06-23T02:42:55.457647Z"
    }
   },
   "outputs": [
    {
     "data": {
      "text/plain": [
       "{'a': 10, 'b': 200, 'c': 30, 'd': 400}"
      ]
     },
     "execution_count": 44,
     "metadata": {},
     "output_type": "execute_result"
    }
   ],
   "source": [
    "d1"
   ]
  },
  {
   "cell_type": "code",
   "execution_count": 45,
   "id": "094add09",
   "metadata": {
    "ExecuteTime": {
     "end_time": "2022-06-23T02:43:06.484888Z",
     "start_time": "2022-06-23T02:43:06.483046Z"
    }
   },
   "outputs": [],
   "source": [
    "d1 = {'a': 10, 'b': 20, 'c': 30}"
   ]
  },
  {
   "cell_type": "code",
   "execution_count": 46,
   "id": "18a093a7",
   "metadata": {
    "ExecuteTime": {
     "end_time": "2022-06-23T02:43:11.514103Z",
     "start_time": "2022-06-23T02:43:11.510946Z"
    }
   },
   "outputs": [],
   "source": [
    "d1.update(b=200, d=400)"
   ]
  },
  {
   "cell_type": "code",
   "execution_count": 47,
   "id": "b331e7a8",
   "metadata": {
    "ExecuteTime": {
     "end_time": "2022-06-23T02:47:47.808869Z",
     "start_time": "2022-06-23T02:47:47.804942Z"
    }
   },
   "outputs": [
    {
     "data": {
      "text/plain": [
       "{'a': 10, 'b': 200, 'c': 30, 'd': 400}"
      ]
     },
     "execution_count": 47,
     "metadata": {},
     "output_type": "execute_result"
    }
   ],
   "source": [
    "d1"
   ]
  },
  {
   "cell_type": "markdown",
   "id": "665a8ba9",
   "metadata": {},
   "source": [
    "### Go to Exercises"
   ]
  },
  {
   "cell_type": "markdown",
   "id": "b4f2af2b",
   "metadata": {},
   "source": [
    "## Sets"
   ]
  },
  {
   "cell_type": "markdown",
   "id": "36a59d06",
   "metadata": {},
   "source": [
    "### Defining a Set\n",
    "Python’s built-in set type has the following characteristics:\n",
    "\n",
    "- Sets are unordered.\n",
    "- Set elements are unique. Duplicate elements are not allowed.\n",
    "- A set itself may be modified, but the elements contained in the set must be of an immutable type."
   ]
  },
  {
   "cell_type": "code",
   "execution_count": 49,
   "id": "a38c1935",
   "metadata": {
    "ExecuteTime": {
     "end_time": "2022-06-23T02:49:09.128867Z",
     "start_time": "2022-06-23T02:49:09.124610Z"
    }
   },
   "outputs": [
    {
     "data": {
      "text/plain": [
       "{'bar', 'baz', 'foo', 'qux'}"
      ]
     },
     "execution_count": 49,
     "metadata": {},
     "output_type": "execute_result"
    }
   ],
   "source": [
    "x = set(['foo', 'bar', 'baz', 'foo', 'qux'])\n",
    "x"
   ]
  },
  {
   "cell_type": "code",
   "execution_count": 50,
   "id": "189353db",
   "metadata": {
    "ExecuteTime": {
     "end_time": "2022-06-23T02:49:15.727296Z",
     "start_time": "2022-06-23T02:49:15.724441Z"
    }
   },
   "outputs": [
    {
     "data": {
      "text/plain": [
       "{'bar', 'baz', 'foo', 'qux'}"
      ]
     },
     "execution_count": 50,
     "metadata": {},
     "output_type": "execute_result"
    }
   ],
   "source": [
    "x = set(('foo', 'bar', 'baz', 'foo', 'qux'))\n",
    "x"
   ]
  },
  {
   "cell_type": "markdown",
   "id": "1a56e3ae",
   "metadata": {},
   "source": [
    "Strings are also iterable, so a string can be passed to set() as well."
   ]
  },
  {
   "cell_type": "code",
   "execution_count": 51,
   "id": "5076115e",
   "metadata": {
    "ExecuteTime": {
     "end_time": "2022-06-23T02:50:06.585315Z",
     "start_time": "2022-06-23T02:50:06.582078Z"
    }
   },
   "outputs": [
    {
     "data": {
      "text/plain": [
       "['q', 'u', 'u', 'x']"
      ]
     },
     "execution_count": 51,
     "metadata": {},
     "output_type": "execute_result"
    }
   ],
   "source": [
    "s = 'quux'\n",
    "list(s)"
   ]
  },
  {
   "cell_type": "code",
   "execution_count": 52,
   "id": "746282eb",
   "metadata": {
    "ExecuteTime": {
     "end_time": "2022-06-23T02:50:12.344476Z",
     "start_time": "2022-06-23T02:50:12.341629Z"
    }
   },
   "outputs": [
    {
     "data": {
      "text/plain": [
       "{'q', 'u', 'x'}"
      ]
     },
     "execution_count": 52,
     "metadata": {},
     "output_type": "execute_result"
    }
   ],
   "source": [
    "set(s)"
   ]
  },
  {
   "cell_type": "markdown",
   "id": "213d5630",
   "metadata": {},
   "source": [
    "To recap:\n",
    "\n",
    "- The argument to set() is an iterable. It generates a list of elements to be placed into the set.\n",
    "- The objects in curly braces are placed into the set intact, even if they are iterable."
   ]
  },
  {
   "cell_type": "code",
   "execution_count": 53,
   "id": "da86ed5e",
   "metadata": {
    "ExecuteTime": {
     "end_time": "2022-06-23T02:51:08.842267Z",
     "start_time": "2022-06-23T02:51:08.838690Z"
    }
   },
   "outputs": [
    {
     "data": {
      "text/plain": [
       "{'foo'}"
      ]
     },
     "execution_count": 53,
     "metadata": {},
     "output_type": "execute_result"
    }
   ],
   "source": [
    "{'foo'}"
   ]
  },
  {
   "cell_type": "code",
   "execution_count": 54,
   "id": "86863968",
   "metadata": {
    "ExecuteTime": {
     "end_time": "2022-06-23T02:51:13.433215Z",
     "start_time": "2022-06-23T02:51:13.430519Z"
    }
   },
   "outputs": [
    {
     "data": {
      "text/plain": [
       "{'f', 'o'}"
      ]
     },
     "execution_count": 54,
     "metadata": {},
     "output_type": "execute_result"
    }
   ],
   "source": [
    "set('foo')"
   ]
  },
  {
   "cell_type": "markdown",
   "id": "6764f2ac",
   "metadata": {},
   "source": [
    "A set can be empty. However, recall that Python interprets empty curly braces ({}) as an empty dictionary, so the only way to define an empty set is with the set() function:"
   ]
  },
  {
   "cell_type": "code",
   "execution_count": 55,
   "id": "4e884698",
   "metadata": {
    "ExecuteTime": {
     "end_time": "2022-06-23T02:52:06.008084Z",
     "start_time": "2022-06-23T02:52:06.005247Z"
    }
   },
   "outputs": [
    {
     "data": {
      "text/plain": [
       "set"
      ]
     },
     "execution_count": 55,
     "metadata": {},
     "output_type": "execute_result"
    }
   ],
   "source": [
    "x = set()\n",
    "type(x)"
   ]
  },
  {
   "cell_type": "code",
   "execution_count": 56,
   "id": "d6e95ca5",
   "metadata": {
    "ExecuteTime": {
     "end_time": "2022-06-23T02:52:11.581050Z",
     "start_time": "2022-06-23T02:52:11.577050Z"
    }
   },
   "outputs": [
    {
     "data": {
      "text/plain": [
       "set()"
      ]
     },
     "execution_count": 56,
     "metadata": {},
     "output_type": "execute_result"
    }
   ],
   "source": [
    "x"
   ]
  },
  {
   "cell_type": "code",
   "execution_count": 57,
   "id": "9c791880",
   "metadata": {
    "ExecuteTime": {
     "end_time": "2022-06-23T02:52:20.002302Z",
     "start_time": "2022-06-23T02:52:19.998393Z"
    }
   },
   "outputs": [
    {
     "data": {
      "text/plain": [
       "dict"
      ]
     },
     "execution_count": 57,
     "metadata": {},
     "output_type": "execute_result"
    }
   ],
   "source": [
    "x = {}\n",
    "type(x)"
   ]
  },
  {
   "cell_type": "code",
   "execution_count": 59,
   "id": "2be30559",
   "metadata": {
    "ExecuteTime": {
     "end_time": "2022-06-23T02:52:39.119400Z",
     "start_time": "2022-06-23T02:52:39.116734Z"
    }
   },
   "outputs": [
    {
     "data": {
      "text/plain": [
       "False"
      ]
     },
     "execution_count": 59,
     "metadata": {},
     "output_type": "execute_result"
    }
   ],
   "source": [
    "x = set()\n",
    "bool(x)"
   ]
  },
  {
   "cell_type": "code",
   "execution_count": 62,
   "id": "c5c0dec4",
   "metadata": {
    "ExecuteTime": {
     "end_time": "2022-06-23T02:53:24.860688Z",
     "start_time": "2022-06-23T02:53:24.857928Z"
    }
   },
   "outputs": [],
   "source": [
    "s1 = {2, 4, 6, 8, 10}\n",
    "s2 = {'Smith', 'McArthur', 'Wilson', 'Johansson'}"
   ]
  },
  {
   "cell_type": "markdown",
   "id": "993268d5",
   "metadata": {},
   "source": [
    "The elements in a set can be objects of different types:"
   ]
  },
  {
   "cell_type": "code",
   "execution_count": 63,
   "id": "9308fd5f",
   "metadata": {
    "ExecuteTime": {
     "end_time": "2022-06-23T02:53:26.372993Z",
     "start_time": "2022-06-23T02:53:26.369971Z"
    }
   },
   "outputs": [
    {
     "data": {
      "text/plain": [
       "{3.14159, 42, None, 'foo'}"
      ]
     },
     "execution_count": 63,
     "metadata": {},
     "output_type": "execute_result"
    }
   ],
   "source": [
    "x = {42, 'foo', 3.14159, None}\n",
    "x"
   ]
  },
  {
   "cell_type": "markdown",
   "id": "fe35525c",
   "metadata": {},
   "source": [
    "set elements must be immutable. For example, a tuple may be included in a set:"
   ]
  },
  {
   "cell_type": "code",
   "execution_count": 64,
   "id": "4210b37d",
   "metadata": {
    "ExecuteTime": {
     "end_time": "2022-06-23T02:53:51.491552Z",
     "start_time": "2022-06-23T02:53:51.488759Z"
    }
   },
   "outputs": [
    {
     "data": {
      "text/plain": [
       "{(1, 2, 3), 3.14159, 42, 'foo'}"
      ]
     },
     "execution_count": 64,
     "metadata": {},
     "output_type": "execute_result"
    }
   ],
   "source": [
    "x = {42, 'foo', (1, 2, 3), 3.14159}\n",
    "x"
   ]
  },
  {
   "cell_type": "markdown",
   "id": "1d6ae22e",
   "metadata": {},
   "source": [
    "But lists and dictionaries are mutable, so they can’t be set elements:"
   ]
  },
  {
   "cell_type": "code",
   "execution_count": 65,
   "id": "3bfd7189",
   "metadata": {
    "ExecuteTime": {
     "end_time": "2022-06-23T02:54:09.740402Z",
     "start_time": "2022-06-23T02:54:09.735628Z"
    }
   },
   "outputs": [
    {
     "ename": "TypeError",
     "evalue": "unhashable type: 'list'",
     "output_type": "error",
     "traceback": [
      "\u001b[0;31m---------------------------------------------------------------------------\u001b[0m",
      "\u001b[0;31mTypeError\u001b[0m                                 Traceback (most recent call last)",
      "\u001b[0;32m/tmp/ipykernel_6183/3099955843.py\u001b[0m in \u001b[0;36m<module>\u001b[0;34m\u001b[0m\n\u001b[1;32m      1\u001b[0m \u001b[0ma\u001b[0m \u001b[0;34m=\u001b[0m \u001b[0;34m[\u001b[0m\u001b[0;36m1\u001b[0m\u001b[0;34m,\u001b[0m \u001b[0;36m2\u001b[0m\u001b[0;34m,\u001b[0m \u001b[0;36m3\u001b[0m\u001b[0;34m]\u001b[0m\u001b[0;34m\u001b[0m\u001b[0m\n\u001b[0;32m----> 2\u001b[0;31m \u001b[0;34m{\u001b[0m\u001b[0ma\u001b[0m\u001b[0;34m}\u001b[0m\u001b[0;34m\u001b[0m\u001b[0m\n\u001b[0m",
      "\u001b[0;31mTypeError\u001b[0m: unhashable type: 'list'"
     ]
    }
   ],
   "source": [
    "a = [1, 2, 3]\n",
    "{a}"
   ]
  },
  {
   "cell_type": "code",
   "execution_count": 66,
   "id": "f7578883",
   "metadata": {
    "ExecuteTime": {
     "end_time": "2022-06-23T02:54:18.963590Z",
     "start_time": "2022-06-23T02:54:18.958651Z"
    }
   },
   "outputs": [
    {
     "ename": "TypeError",
     "evalue": "unhashable type: 'dict'",
     "output_type": "error",
     "traceback": [
      "\u001b[0;31m---------------------------------------------------------------------------\u001b[0m",
      "\u001b[0;31mTypeError\u001b[0m                                 Traceback (most recent call last)",
      "\u001b[0;32m/tmp/ipykernel_6183/1213042916.py\u001b[0m in \u001b[0;36m<module>\u001b[0;34m\u001b[0m\n\u001b[1;32m      1\u001b[0m \u001b[0md\u001b[0m \u001b[0;34m=\u001b[0m \u001b[0;34m{\u001b[0m\u001b[0;34m'a'\u001b[0m\u001b[0;34m:\u001b[0m \u001b[0;36m1\u001b[0m\u001b[0;34m,\u001b[0m \u001b[0;34m'b'\u001b[0m\u001b[0;34m:\u001b[0m \u001b[0;36m2\u001b[0m\u001b[0;34m}\u001b[0m\u001b[0;34m\u001b[0m\u001b[0m\n\u001b[0;32m----> 2\u001b[0;31m \u001b[0;34m{\u001b[0m\u001b[0md\u001b[0m\u001b[0;34m}\u001b[0m\u001b[0;34m\u001b[0m\u001b[0m\n\u001b[0m",
      "\u001b[0;31mTypeError\u001b[0m: unhashable type: 'dict'"
     ]
    }
   ],
   "source": [
    "d = {'a': 1, 'b': 2}\n",
    "{d}"
   ]
  },
  {
   "cell_type": "markdown",
   "id": "a8e08b31",
   "metadata": {},
   "source": [
    "### Set Size and Membership\n",
    "\n",
    "The len() function returns the number of elements in a set, and the in and not in operators can be used to test for membership:\n"
   ]
  },
  {
   "cell_type": "code",
   "execution_count": 67,
   "id": "00b8bf0c",
   "metadata": {
    "ExecuteTime": {
     "end_time": "2022-06-23T02:54:47.225743Z",
     "start_time": "2022-06-23T02:54:47.220835Z"
    }
   },
   "outputs": [
    {
     "data": {
      "text/plain": [
       "3"
      ]
     },
     "execution_count": 67,
     "metadata": {},
     "output_type": "execute_result"
    }
   ],
   "source": [
    "x = {'foo', 'bar', 'baz'}\n",
    "len(x)"
   ]
  },
  {
   "cell_type": "code",
   "execution_count": 68,
   "id": "d895e814",
   "metadata": {
    "ExecuteTime": {
     "end_time": "2022-06-23T02:54:54.769750Z",
     "start_time": "2022-06-23T02:54:54.767019Z"
    }
   },
   "outputs": [
    {
     "data": {
      "text/plain": [
       "True"
      ]
     },
     "execution_count": 68,
     "metadata": {},
     "output_type": "execute_result"
    }
   ],
   "source": [
    "'bar' in x"
   ]
  },
  {
   "cell_type": "code",
   "execution_count": 69,
   "id": "b624bf6a",
   "metadata": {
    "ExecuteTime": {
     "end_time": "2022-06-23T02:54:59.008693Z",
     "start_time": "2022-06-23T02:54:59.006132Z"
    }
   },
   "outputs": [
    {
     "data": {
      "text/plain": [
       "False"
      ]
     },
     "execution_count": 69,
     "metadata": {},
     "output_type": "execute_result"
    }
   ],
   "source": [
    "'qux' in x"
   ]
  },
  {
   "cell_type": "markdown",
   "id": "9b9b30e1",
   "metadata": {},
   "source": [
    "### Operating on a Set\n"
   ]
  },
  {
   "cell_type": "markdown",
   "id": "6ceddf87",
   "metadata": {},
   "source": [
    "#### Operators vs. Methods\n"
   ]
  },
  {
   "cell_type": "code",
   "execution_count": 71,
   "id": "081add0d",
   "metadata": {
    "ExecuteTime": {
     "end_time": "2022-06-23T02:56:05.586272Z",
     "start_time": "2022-06-23T02:56:05.582516Z"
    }
   },
   "outputs": [
    {
     "data": {
      "text/plain": [
       "{'bar', 'baz', 'foo', 'quux', 'qux'}"
      ]
     },
     "execution_count": 71,
     "metadata": {},
     "output_type": "execute_result"
    }
   ],
   "source": [
    "## union\n",
    "x1 = {'foo', 'bar', 'baz'}\n",
    "x2 = {'baz', 'qux', 'quux'}\n",
    "\n",
    "x1 | x2"
   ]
  },
  {
   "cell_type": "markdown",
   "id": "bb2c264b",
   "metadata": {},
   "source": [
    "Set **union** can also be obtained with the **.union()** method. The method is invoked on one of the sets, and the other is passed as an argument:\n",
    "\n"
   ]
  },
  {
   "cell_type": "code",
   "execution_count": 72,
   "id": "7a00222c",
   "metadata": {
    "ExecuteTime": {
     "end_time": "2022-06-23T02:56:49.039679Z",
     "start_time": "2022-06-23T02:56:49.036991Z"
    }
   },
   "outputs": [
    {
     "data": {
      "text/plain": [
       "{'bar', 'baz', 'foo', 'quux', 'qux'}"
      ]
     },
     "execution_count": 72,
     "metadata": {},
     "output_type": "execute_result"
    }
   ],
   "source": [
    "x1.union(x2)"
   ]
  },
  {
   "cell_type": "code",
   "execution_count": 73,
   "id": "14e8398e",
   "metadata": {
    "ExecuteTime": {
     "end_time": "2022-06-23T02:57:00.167683Z",
     "start_time": "2022-06-23T02:57:00.161076Z"
    }
   },
   "outputs": [
    {
     "ename": "TypeError",
     "evalue": "unsupported operand type(s) for |: 'set' and 'tuple'",
     "output_type": "error",
     "traceback": [
      "\u001b[0;31m---------------------------------------------------------------------------\u001b[0m",
      "\u001b[0;31mTypeError\u001b[0m                                 Traceback (most recent call last)",
      "\u001b[0;32m/tmp/ipykernel_6183/1141666621.py\u001b[0m in \u001b[0;36m<module>\u001b[0;34m\u001b[0m\n\u001b[0;32m----> 1\u001b[0;31m \u001b[0mx1\u001b[0m \u001b[0;34m|\u001b[0m \u001b[0;34m(\u001b[0m\u001b[0;34m'baz'\u001b[0m\u001b[0;34m,\u001b[0m \u001b[0;34m'qux'\u001b[0m\u001b[0;34m,\u001b[0m \u001b[0;34m'quux'\u001b[0m\u001b[0;34m)\u001b[0m\u001b[0;34m\u001b[0m\u001b[0m\n\u001b[0m",
      "\u001b[0;31mTypeError\u001b[0m: unsupported operand type(s) for |: 'set' and 'tuple'"
     ]
    }
   ],
   "source": [
    "x1 | ('baz', 'qux', 'quux')"
   ]
  },
  {
   "cell_type": "code",
   "execution_count": 74,
   "id": "4c44458e",
   "metadata": {
    "ExecuteTime": {
     "end_time": "2022-06-23T02:57:25.690634Z",
     "start_time": "2022-06-23T02:57:25.687076Z"
    }
   },
   "outputs": [
    {
     "data": {
      "text/plain": [
       "{'bar', 'baz', 'foo', 'quux', 'qux'}"
      ]
     },
     "execution_count": 74,
     "metadata": {},
     "output_type": "execute_result"
    }
   ],
   "source": [
    "x1.union(('baz', 'qux', 'quux'))"
   ]
  },
  {
   "cell_type": "markdown",
   "id": "462da1bf",
   "metadata": {},
   "source": [
    "#### Available Operators and Methods\n"
   ]
  },
  {
   "cell_type": "markdown",
   "id": "184cb954",
   "metadata": {},
   "source": [
    "##### Union"
   ]
  },
  {
   "cell_type": "markdown",
   "id": "7bd05a80",
   "metadata": {
    "ExecuteTime": {
     "end_time": "2022-06-23T02:58:20.729972Z",
     "start_time": "2022-06-23T02:58:20.727359Z"
    }
   },
   "source": [
    "<img src=\"resources/26.webp\" width=500></img>"
   ]
  },
  {
   "cell_type": "markdown",
   "id": "0f4b20fc",
   "metadata": {},
   "source": [
    "x1.union(x2) and x1 | x2 both return the set of all elements in either x1 or x2:"
   ]
  },
  {
   "cell_type": "code",
   "execution_count": 76,
   "id": "3fcd38a0",
   "metadata": {
    "ExecuteTime": {
     "end_time": "2022-06-23T02:59:03.277630Z",
     "start_time": "2022-06-23T02:59:03.274095Z"
    }
   },
   "outputs": [
    {
     "data": {
      "text/plain": [
       "{'bar', 'baz', 'foo', 'quux', 'qux'}"
      ]
     },
     "execution_count": 76,
     "metadata": {},
     "output_type": "execute_result"
    }
   ],
   "source": [
    "x1 = {'foo', 'bar', 'baz'}\n",
    "x2 = {'baz', 'qux', 'quux'}\n",
    "x1.union(x2)"
   ]
  },
  {
   "cell_type": "code",
   "execution_count": 77,
   "id": "19681e57",
   "metadata": {
    "ExecuteTime": {
     "end_time": "2022-06-23T02:59:08.690635Z",
     "start_time": "2022-06-23T02:59:08.687424Z"
    }
   },
   "outputs": [
    {
     "data": {
      "text/plain": [
       "{'bar', 'baz', 'foo', 'quux', 'qux'}"
      ]
     },
     "execution_count": 77,
     "metadata": {},
     "output_type": "execute_result"
    }
   ],
   "source": [
    "x1|x2"
   ]
  },
  {
   "cell_type": "markdown",
   "id": "075a599c",
   "metadata": {},
   "source": [
    "More than two sets may be specified with either the operator or the method:\n",
    "\n"
   ]
  },
  {
   "cell_type": "code",
   "execution_count": 78,
   "id": "85cf46aa",
   "metadata": {
    "ExecuteTime": {
     "end_time": "2022-06-23T02:59:42.364631Z",
     "start_time": "2022-06-23T02:59:42.359740Z"
    }
   },
   "outputs": [
    {
     "data": {
      "text/plain": [
       "{1, 2, 3, 4, 5, 6, 7}"
      ]
     },
     "execution_count": 78,
     "metadata": {},
     "output_type": "execute_result"
    }
   ],
   "source": [
    "a = {1, 2, 3, 4}\n",
    "b = {2, 3, 4, 5}\n",
    "c = {3, 4, 5, 6}\n",
    "d = {4, 5, 6, 7}\n",
    "\n",
    "a.union(b, c, d)"
   ]
  },
  {
   "cell_type": "code",
   "execution_count": 79,
   "id": "419277af",
   "metadata": {
    "ExecuteTime": {
     "end_time": "2022-06-23T02:59:49.255472Z",
     "start_time": "2022-06-23T02:59:49.252219Z"
    }
   },
   "outputs": [
    {
     "data": {
      "text/plain": [
       "{1, 2, 3, 4, 5, 6, 7}"
      ]
     },
     "execution_count": 79,
     "metadata": {},
     "output_type": "execute_result"
    }
   ],
   "source": [
    "a | b | c | d"
   ]
  },
  {
   "cell_type": "markdown",
   "id": "dd472068",
   "metadata": {},
   "source": [
    "##### intersection"
   ]
  },
  {
   "cell_type": "markdown",
   "id": "4c116304",
   "metadata": {},
   "source": [
    "<img src=\"resources/27.webp\" width=300></img>\n",
    "\n",
    "x1.intersection(x2) and x1 & x2 return the set of elements common to both x1 and x2:"
   ]
  },
  {
   "cell_type": "code",
   "execution_count": 80,
   "id": "99d5777d",
   "metadata": {
    "ExecuteTime": {
     "end_time": "2022-06-23T03:02:36.293657Z",
     "start_time": "2022-06-23T03:02:36.290882Z"
    }
   },
   "outputs": [
    {
     "data": {
      "text/plain": [
       "{'baz'}"
      ]
     },
     "execution_count": 80,
     "metadata": {},
     "output_type": "execute_result"
    }
   ],
   "source": [
    "x1 = {'foo', 'bar', 'baz'}\n",
    "x2 = {'baz', 'qux', 'quux'}\n",
    "\n",
    "x1.intersection(x2)"
   ]
  },
  {
   "cell_type": "code",
   "execution_count": 81,
   "id": "faf580d9",
   "metadata": {
    "ExecuteTime": {
     "end_time": "2022-06-23T03:02:42.545685Z",
     "start_time": "2022-06-23T03:02:42.543056Z"
    }
   },
   "outputs": [
    {
     "data": {
      "text/plain": [
       "{'baz'}"
      ]
     },
     "execution_count": 81,
     "metadata": {},
     "output_type": "execute_result"
    }
   ],
   "source": [
    "x1 & x2"
   ]
  },
  {
   "cell_type": "code",
   "execution_count": 82,
   "id": "7cf55268",
   "metadata": {
    "ExecuteTime": {
     "end_time": "2022-06-23T03:03:04.148998Z",
     "start_time": "2022-06-23T03:03:04.144852Z"
    }
   },
   "outputs": [
    {
     "data": {
      "text/plain": [
       "{4}"
      ]
     },
     "execution_count": 82,
     "metadata": {},
     "output_type": "execute_result"
    }
   ],
   "source": [
    "a = {1, 2, 3, 4}\n",
    "b = {2, 3, 4, 5}\n",
    "c = {3, 4, 5, 6}\n",
    "d = {4, 5, 6, 7}\n",
    "\n",
    "a.intersection(b, c, d)"
   ]
  },
  {
   "cell_type": "markdown",
   "id": "4e432466",
   "metadata": {},
   "source": [
    "##### difference"
   ]
  },
  {
   "cell_type": "markdown",
   "id": "0801e8ef",
   "metadata": {},
   "source": [
    "<img src=\"resources/28.webp\" width=300></img>\n",
    "\n",
    "x1.difference(x2) and x1 - x2 return the set of all elements that are in x1 but not in x2:\n",
    "\n"
   ]
  },
  {
   "cell_type": "code",
   "execution_count": 83,
   "id": "2251d781",
   "metadata": {
    "ExecuteTime": {
     "end_time": "2022-06-23T03:04:30.071766Z",
     "start_time": "2022-06-23T03:04:30.068972Z"
    }
   },
   "outputs": [
    {
     "data": {
      "text/plain": [
       "{'bar', 'foo'}"
      ]
     },
     "execution_count": 83,
     "metadata": {},
     "output_type": "execute_result"
    }
   ],
   "source": [
    "x1 = {'foo', 'bar', 'baz'}\n",
    "x2 = {'baz', 'qux', 'quux'}\n",
    "\n",
    "x1.difference(x2)"
   ]
  },
  {
   "cell_type": "code",
   "execution_count": 84,
   "id": "0d989ff5",
   "metadata": {
    "ExecuteTime": {
     "end_time": "2022-06-23T03:04:35.304415Z",
     "start_time": "2022-06-23T03:04:35.301909Z"
    }
   },
   "outputs": [
    {
     "data": {
      "text/plain": [
       "{'bar', 'foo'}"
      ]
     },
     "execution_count": 84,
     "metadata": {},
     "output_type": "execute_result"
    }
   ],
   "source": [
    "x1 - x2"
   ]
  },
  {
   "cell_type": "code",
   "execution_count": 86,
   "id": "d95c3b3b",
   "metadata": {
    "ExecuteTime": {
     "end_time": "2022-06-23T03:05:01.272007Z",
     "start_time": "2022-06-23T03:05:01.267906Z"
    }
   },
   "outputs": [
    {
     "data": {
      "text/plain": [
       "{1, 2, 3}"
      ]
     },
     "execution_count": 86,
     "metadata": {},
     "output_type": "execute_result"
    }
   ],
   "source": [
    "a = {1, 2, 3, 30, 300}\n",
    "b = {10, 20, 30, 40}\n",
    "c = {100, 200, 300, 400}\n",
    "\n",
    "a.difference(b, c)\n"
   ]
  },
  {
   "cell_type": "code",
   "execution_count": 87,
   "id": "539b8435",
   "metadata": {
    "ExecuteTime": {
     "end_time": "2022-06-23T03:05:02.884777Z",
     "start_time": "2022-06-23T03:05:02.882072Z"
    }
   },
   "outputs": [
    {
     "data": {
      "text/plain": [
       "{1, 2, 3}"
      ]
     },
     "execution_count": 87,
     "metadata": {},
     "output_type": "execute_result"
    }
   ],
   "source": [
    "a - b - c"
   ]
  },
  {
   "cell_type": "markdown",
   "id": "d149391b",
   "metadata": {},
   "source": [
    "When multiple sets are specified, the operation is performed from left to right. In the example above, a - b is computed first, resulting in {1, 2, 3, 300}. Then c is subtracted from that set, leaving {1, 2, 3}:"
   ]
  },
  {
   "cell_type": "markdown",
   "id": "b1dc9c94",
   "metadata": {},
   "source": [
    "<img src=\"resources/29.webp\"></img>"
   ]
  },
  {
   "cell_type": "markdown",
   "id": "1dee737a",
   "metadata": {},
   "source": [
    "##### symmetric_difference"
   ]
  },
  {
   "cell_type": "markdown",
   "id": "9fe7ff6b",
   "metadata": {},
   "source": [
    "<img src=\"resources/30.webp\" width=300></img>"
   ]
  },
  {
   "cell_type": "code",
   "execution_count": 88,
   "id": "90b66cd7",
   "metadata": {
    "ExecuteTime": {
     "end_time": "2022-06-23T03:07:49.625545Z",
     "start_time": "2022-06-23T03:07:49.622579Z"
    }
   },
   "outputs": [
    {
     "data": {
      "text/plain": [
       "{'bar', 'foo', 'quux', 'qux'}"
      ]
     },
     "execution_count": 88,
     "metadata": {},
     "output_type": "execute_result"
    }
   ],
   "source": [
    "x1 = {'foo', 'bar', 'baz'}\n",
    "x2 = {'baz', 'qux', 'quux'}\n",
    "\n",
    "x1.symmetric_difference(x2)"
   ]
  },
  {
   "cell_type": "code",
   "execution_count": 89,
   "id": "bfaa124f",
   "metadata": {
    "ExecuteTime": {
     "end_time": "2022-06-23T03:07:50.950120Z",
     "start_time": "2022-06-23T03:07:50.947519Z"
    }
   },
   "outputs": [
    {
     "data": {
      "text/plain": [
       "{'bar', 'foo', 'quux', 'qux'}"
      ]
     },
     "execution_count": 89,
     "metadata": {},
     "output_type": "execute_result"
    }
   ],
   "source": [
    "x1 ^ x2"
   ]
  },
  {
   "cell_type": "markdown",
   "id": "d5b5c2ba",
   "metadata": {},
   "source": [
    "The ^ operator also allows more than two sets:"
   ]
  },
  {
   "cell_type": "code",
   "execution_count": 90,
   "id": "1e6ce872",
   "metadata": {
    "ExecuteTime": {
     "end_time": "2022-06-23T03:08:46.235687Z",
     "start_time": "2022-06-23T03:08:46.232377Z"
    }
   },
   "outputs": [
    {
     "data": {
      "text/plain": [
       "{5, 10, 100}"
      ]
     },
     "execution_count": 90,
     "metadata": {},
     "output_type": "execute_result"
    }
   ],
   "source": [
    "a = {1, 2, 3, 4, 5}\n",
    "b = {10, 2, 3, 4, 50}\n",
    "c = {1, 50, 100}\n",
    "\n",
    "a ^ b ^ c"
   ]
  },
  {
   "cell_type": "markdown",
   "id": "c3cd49a0",
   "metadata": {},
   "source": [
    "Curiously, although the ```^``` operator allows multiple sets, the ```.symmetric_difference()``` method doesn’t:"
   ]
  },
  {
   "cell_type": "code",
   "execution_count": 91,
   "id": "1ffbef25",
   "metadata": {
    "ExecuteTime": {
     "end_time": "2022-06-23T03:09:25.754495Z",
     "start_time": "2022-06-23T03:09:25.749255Z"
    }
   },
   "outputs": [
    {
     "ename": "TypeError",
     "evalue": "symmetric_difference() takes exactly one argument (2 given)",
     "output_type": "error",
     "traceback": [
      "\u001b[0;31m---------------------------------------------------------------------------\u001b[0m",
      "\u001b[0;31mTypeError\u001b[0m                                 Traceback (most recent call last)",
      "\u001b[0;32m/tmp/ipykernel_6183/3390732903.py\u001b[0m in \u001b[0;36m<module>\u001b[0;34m\u001b[0m\n\u001b[1;32m      3\u001b[0m \u001b[0mc\u001b[0m \u001b[0;34m=\u001b[0m \u001b[0;34m{\u001b[0m\u001b[0;36m1\u001b[0m\u001b[0;34m,\u001b[0m \u001b[0;36m50\u001b[0m\u001b[0;34m,\u001b[0m \u001b[0;36m100\u001b[0m\u001b[0;34m}\u001b[0m\u001b[0;34m\u001b[0m\u001b[0m\n\u001b[1;32m      4\u001b[0m \u001b[0;34m\u001b[0m\u001b[0m\n\u001b[0;32m----> 5\u001b[0;31m \u001b[0ma\u001b[0m\u001b[0;34m.\u001b[0m\u001b[0msymmetric_difference\u001b[0m\u001b[0;34m(\u001b[0m\u001b[0mb\u001b[0m\u001b[0;34m,\u001b[0m \u001b[0mc\u001b[0m\u001b[0;34m)\u001b[0m\u001b[0;34m\u001b[0m\u001b[0m\n\u001b[0m",
      "\u001b[0;31mTypeError\u001b[0m: symmetric_difference() takes exactly one argument (2 given)"
     ]
    }
   ],
   "source": [
    "a = {1, 2, 3, 4, 5}\n",
    "b = {10, 2, 3, 4, 50}\n",
    "c = {1, 50, 100}\n",
    "\n",
    "a.symmetric_difference(b, c)"
   ]
  },
  {
   "cell_type": "markdown",
   "id": "c325f17d",
   "metadata": {},
   "source": [
    "##### isdisjoint\n",
    "\n",
    "\n",
    "Determines whether or not two sets have any elements in common.\n",
    "\n",
    "\n",
    "\n"
   ]
  },
  {
   "cell_type": "code",
   "execution_count": 92,
   "id": "f83e6af3",
   "metadata": {
    "ExecuteTime": {
     "end_time": "2022-06-23T03:10:48.941647Z",
     "start_time": "2022-06-23T03:10:48.937454Z"
    }
   },
   "outputs": [
    {
     "data": {
      "text/plain": [
       "False"
      ]
     },
     "execution_count": 92,
     "metadata": {},
     "output_type": "execute_result"
    }
   ],
   "source": [
    "x1 = {'foo', 'bar', 'baz'}\n",
    "x2 = {'baz', 'qux', 'quux'}\n",
    "\n",
    "x1.isdisjoint(x2)"
   ]
  },
  {
   "cell_type": "code",
   "execution_count": 93,
   "id": "dc8b652e",
   "metadata": {
    "ExecuteTime": {
     "end_time": "2022-06-23T03:10:53.623625Z",
     "start_time": "2022-06-23T03:10:53.620740Z"
    }
   },
   "outputs": [
    {
     "data": {
      "text/plain": [
       "{'quux', 'qux'}"
      ]
     },
     "execution_count": 93,
     "metadata": {},
     "output_type": "execute_result"
    }
   ],
   "source": [
    "x2 - {'baz'}"
   ]
  },
  {
   "cell_type": "code",
   "execution_count": 94,
   "id": "84955c84",
   "metadata": {
    "ExecuteTime": {
     "end_time": "2022-06-23T03:11:01.145252Z",
     "start_time": "2022-06-23T03:11:01.141428Z"
    }
   },
   "outputs": [
    {
     "data": {
      "text/plain": [
       "True"
      ]
     },
     "execution_count": 94,
     "metadata": {},
     "output_type": "execute_result"
    }
   ],
   "source": [
    "x1.isdisjoint(x2 - {'baz'})"
   ]
  },
  {
   "cell_type": "markdown",
   "id": "9cbf6b7d",
   "metadata": {},
   "source": [
    "If x1.isdisjoint(x2) is True, then x1 & x2 is the empty set:"
   ]
  },
  {
   "cell_type": "code",
   "execution_count": 95,
   "id": "ddce128a",
   "metadata": {
    "ExecuteTime": {
     "end_time": "2022-06-23T03:12:06.612697Z",
     "start_time": "2022-06-23T03:12:06.609785Z"
    }
   },
   "outputs": [
    {
     "data": {
      "text/plain": [
       "True"
      ]
     },
     "execution_count": 95,
     "metadata": {},
     "output_type": "execute_result"
    }
   ],
   "source": [
    "x1 = {1, 3, 5}\n",
    "x2 = {2, 4, 6}\n",
    "\n",
    "x1.isdisjoint(x2)"
   ]
  },
  {
   "cell_type": "code",
   "execution_count": 96,
   "id": "4f08fc58",
   "metadata": {
    "ExecuteTime": {
     "end_time": "2022-06-23T03:12:07.714417Z",
     "start_time": "2022-06-23T03:12:07.712176Z"
    }
   },
   "outputs": [
    {
     "data": {
      "text/plain": [
       "set()"
      ]
     },
     "execution_count": 96,
     "metadata": {},
     "output_type": "execute_result"
    }
   ],
   "source": [
    "x1 & x2"
   ]
  },
  {
   "cell_type": "markdown",
   "id": "0ad38fff",
   "metadata": {},
   "source": [
    "**Note:** There is no operator that corresponds to the .isdisjoint() method."
   ]
  },
  {
   "cell_type": "markdown",
   "id": "0bce65f8",
   "metadata": {},
   "source": [
    "##### issubset\n",
    "\n",
    "\n",
    "Determine whether one set is a subset of the other.\n",
    "\n"
   ]
  },
  {
   "cell_type": "code",
   "execution_count": 97,
   "id": "cbd9ed8b",
   "metadata": {
    "ExecuteTime": {
     "end_time": "2022-06-23T03:13:08.720010Z",
     "start_time": "2022-06-23T03:13:08.716491Z"
    }
   },
   "outputs": [
    {
     "data": {
      "text/plain": [
       "True"
      ]
     },
     "execution_count": 97,
     "metadata": {},
     "output_type": "execute_result"
    }
   ],
   "source": [
    "x1 = {'foo', 'bar', 'baz'}\n",
    "x1.issubset({'foo', 'bar', 'baz', 'qux', 'quux'})"
   ]
  },
  {
   "cell_type": "code",
   "execution_count": 98,
   "id": "ccb51016",
   "metadata": {
    "ExecuteTime": {
     "end_time": "2022-06-23T03:13:26.631670Z",
     "start_time": "2022-06-23T03:13:26.627851Z"
    }
   },
   "outputs": [
    {
     "data": {
      "text/plain": [
       "False"
      ]
     },
     "execution_count": 98,
     "metadata": {},
     "output_type": "execute_result"
    }
   ],
   "source": [
    "x2 = {'baz', 'qux', 'quux'}\n",
    "\n",
    "x1 <= x2"
   ]
  },
  {
   "cell_type": "markdown",
   "id": "eb135d5c",
   "metadata": {},
   "source": [
    "A set is considered to be a subset of itself:"
   ]
  },
  {
   "cell_type": "code",
   "execution_count": 99,
   "id": "7b3ec6f6",
   "metadata": {
    "ExecuteTime": {
     "end_time": "2022-06-23T03:14:26.096663Z",
     "start_time": "2022-06-23T03:14:26.093873Z"
    }
   },
   "outputs": [
    {
     "data": {
      "text/plain": [
       "True"
      ]
     },
     "execution_count": 99,
     "metadata": {},
     "output_type": "execute_result"
    }
   ],
   "source": [
    "x = {1, 2, 3, 4, 5}\n",
    "x.issubset(x)"
   ]
  },
  {
   "cell_type": "markdown",
   "id": "3a49d623",
   "metadata": {},
   "source": [
    "##### x1 < x2\n",
    "\n",
    "Determines whether one set is a proper subset of the other.\n",
    "\n",
    "\n",
    "A proper subset is the same as a subset, except that the sets can’t be identical. A set x1 is considered a proper subset of another set x2 if every element of x1 is in x2, and x1 and x2 are not equal.\n",
    "\n",
    "\n",
    "\n"
   ]
  },
  {
   "cell_type": "code",
   "execution_count": 100,
   "id": "5e63d4a9",
   "metadata": {
    "ExecuteTime": {
     "end_time": "2022-06-23T03:15:33.456972Z",
     "start_time": "2022-06-23T03:15:33.453299Z"
    }
   },
   "outputs": [
    {
     "data": {
      "text/plain": [
       "True"
      ]
     },
     "execution_count": 100,
     "metadata": {},
     "output_type": "execute_result"
    }
   ],
   "source": [
    "x1 = {'foo', 'bar'}\n",
    "x2 = {'foo', 'bar', 'baz'}\n",
    "\n",
    "\n",
    "x1 < x2"
   ]
  },
  {
   "cell_type": "code",
   "execution_count": 101,
   "id": "2a50149c",
   "metadata": {
    "ExecuteTime": {
     "end_time": "2022-06-23T03:15:43.993413Z",
     "start_time": "2022-06-23T03:15:43.989474Z"
    }
   },
   "outputs": [
    {
     "data": {
      "text/plain": [
       "False"
      ]
     },
     "execution_count": 101,
     "metadata": {},
     "output_type": "execute_result"
    }
   ],
   "source": [
    "x1 = {'foo', 'bar', 'baz'}\n",
    "x2 = {'foo', 'bar', 'baz'}\n",
    "x1 < x2"
   ]
  },
  {
   "cell_type": "markdown",
   "id": "11b9556e",
   "metadata": {},
   "source": [
    "##### issuperset\n",
    "\n",
    "Determine whether one set is a superset of the other.\n",
    "\n"
   ]
  },
  {
   "cell_type": "code",
   "execution_count": 102,
   "id": "00812f35",
   "metadata": {
    "ExecuteTime": {
     "end_time": "2022-06-23T03:17:28.168373Z",
     "start_time": "2022-06-23T03:17:28.164732Z"
    }
   },
   "outputs": [
    {
     "data": {
      "text/plain": [
       "True"
      ]
     },
     "execution_count": 102,
     "metadata": {},
     "output_type": "execute_result"
    }
   ],
   "source": [
    "x1 = {'foo', 'bar', 'baz'}\n",
    "x1.issuperset({'foo', 'bar'})"
   ]
  },
  {
   "cell_type": "code",
   "execution_count": 103,
   "id": "f06909af",
   "metadata": {
    "ExecuteTime": {
     "end_time": "2022-06-23T03:17:43.870886Z",
     "start_time": "2022-06-23T03:17:43.868421Z"
    }
   },
   "outputs": [
    {
     "data": {
      "text/plain": [
       "False"
      ]
     },
     "execution_count": 103,
     "metadata": {},
     "output_type": "execute_result"
    }
   ],
   "source": [
    "x2 = {'baz', 'qux', 'quux'}\n",
    "\n",
    "x1 >= x2"
   ]
  },
  {
   "cell_type": "markdown",
   "id": "ee62b0df",
   "metadata": {},
   "source": [
    "##### x1 > x2\n",
    "\n",
    "Determines whether one set is a proper superset of the other.\n",
    "\n",
    "\n"
   ]
  },
  {
   "cell_type": "code",
   "execution_count": 104,
   "id": "7fe82bc9",
   "metadata": {
    "ExecuteTime": {
     "end_time": "2022-06-23T03:18:18.652907Z",
     "start_time": "2022-06-23T03:18:18.649374Z"
    }
   },
   "outputs": [
    {
     "data": {
      "text/plain": [
       "True"
      ]
     },
     "execution_count": 104,
     "metadata": {},
     "output_type": "execute_result"
    }
   ],
   "source": [
    "x1 = {'foo', 'bar', 'baz'}\n",
    "x2 = {'foo', 'bar'}\n",
    "x1 > x2"
   ]
  },
  {
   "cell_type": "markdown",
   "id": "9c67b6e0",
   "metadata": {},
   "source": [
    "<font color=\"red\">A set is not a proper superset of itself:</font>"
   ]
  },
  {
   "cell_type": "code",
   "execution_count": 105,
   "id": "d1a6bb20",
   "metadata": {
    "ExecuteTime": {
     "end_time": "2022-06-23T03:18:48.960414Z",
     "start_time": "2022-06-23T03:18:48.957925Z"
    }
   },
   "outputs": [
    {
     "data": {
      "text/plain": [
       "False"
      ]
     },
     "execution_count": 105,
     "metadata": {},
     "output_type": "execute_result"
    }
   ],
   "source": [
    "x = {1, 2, 3, 4, 5}\n",
    "x > x"
   ]
  },
  {
   "cell_type": "markdown",
   "id": "884b875f",
   "metadata": {},
   "source": [
    "#### Modifying a Set"
   ]
  },
  {
   "cell_type": "markdown",
   "id": "29a67503",
   "metadata": {},
   "source": [
    "#### Update"
   ]
  },
  {
   "cell_type": "code",
   "execution_count": 107,
   "id": "dc452626",
   "metadata": {
    "ExecuteTime": {
     "end_time": "2022-06-23T03:28:20.820124Z",
     "start_time": "2022-06-23T03:28:20.817391Z"
    }
   },
   "outputs": [
    {
     "data": {
      "text/plain": [
       "{'bar', 'baz', 'foo', 'qux'}"
      ]
     },
     "execution_count": 107,
     "metadata": {},
     "output_type": "execute_result"
    }
   ],
   "source": [
    "x1 = {'foo', 'bar', 'baz'}\n",
    "x2 = {'foo', 'baz', 'qux'}\n",
    "\n",
    "x1 |= x2\n",
    "\n",
    "x1"
   ]
  },
  {
   "cell_type": "markdown",
   "id": "d30e68ca",
   "metadata": {},
   "source": [
    "##### intersection_update \n",
    "\n",
    "Modify a set by intersection.\n",
    "\n"
   ]
  },
  {
   "cell_type": "code",
   "execution_count": 109,
   "id": "f24f2c00",
   "metadata": {
    "ExecuteTime": {
     "end_time": "2022-06-23T03:30:09.535164Z",
     "start_time": "2022-06-23T03:30:09.532366Z"
    }
   },
   "outputs": [
    {
     "data": {
      "text/plain": [
       "{'baz', 'foo'}"
      ]
     },
     "execution_count": 109,
     "metadata": {},
     "output_type": "execute_result"
    }
   ],
   "source": [
    "x1 = {'foo', 'bar', 'baz'}\n",
    "\n",
    "x2 = {'foo', 'baz', 'qux'}\n",
    "\n",
    "x1 &= x2\n",
    "\n",
    "x1"
   ]
  },
  {
   "cell_type": "code",
   "execution_count": 110,
   "id": "4faf5392",
   "metadata": {
    "ExecuteTime": {
     "end_time": "2022-06-23T03:30:23.391331Z",
     "start_time": "2022-06-23T03:30:23.388931Z"
    }
   },
   "outputs": [
    {
     "data": {
      "text/plain": [
       "{'baz'}"
      ]
     },
     "execution_count": 110,
     "metadata": {},
     "output_type": "execute_result"
    }
   ],
   "source": [
    "x1.intersection_update(['baz', 'qux'])\n",
    "x1"
   ]
  },
  {
   "cell_type": "markdown",
   "id": "53c49df4",
   "metadata": {},
   "source": [
    "##### difference_update\n",
    "\n",
    "Modify a set by difference.\n",
    "\n"
   ]
  },
  {
   "cell_type": "code",
   "execution_count": 111,
   "id": "a1ece66b",
   "metadata": {
    "ExecuteTime": {
     "end_time": "2022-06-23T03:31:05.813336Z",
     "start_time": "2022-06-23T03:31:05.810659Z"
    }
   },
   "outputs": [
    {
     "data": {
      "text/plain": [
       "{'bar'}"
      ]
     },
     "execution_count": 111,
     "metadata": {},
     "output_type": "execute_result"
    }
   ],
   "source": [
    "x1 = {'foo', 'bar', 'baz'}\n",
    "x2 = {'foo', 'baz', 'qux'}\n",
    "x1 -= x2\n",
    "x1"
   ]
  },
  {
   "cell_type": "code",
   "execution_count": 112,
   "id": "801faab5",
   "metadata": {
    "ExecuteTime": {
     "end_time": "2022-06-23T03:31:17.196694Z",
     "start_time": "2022-06-23T03:31:17.193418Z"
    }
   },
   "outputs": [
    {
     "data": {
      "text/plain": [
       "set()"
      ]
     },
     "execution_count": 112,
     "metadata": {},
     "output_type": "execute_result"
    }
   ],
   "source": [
    "x1.difference_update(['foo', 'bar', 'qux'])\n",
    "x1"
   ]
  },
  {
   "cell_type": "markdown",
   "id": "d7d7f77a",
   "metadata": {},
   "source": [
    "##### symmetric_difference_update\n",
    "\n",
    "Modify a set by symmetric difference.\n",
    "\n"
   ]
  },
  {
   "cell_type": "code",
   "execution_count": 114,
   "id": "a0762ace",
   "metadata": {
    "ExecuteTime": {
     "end_time": "2022-06-23T03:31:57.914142Z",
     "start_time": "2022-06-23T03:31:57.910950Z"
    }
   },
   "outputs": [
    {
     "data": {
      "text/plain": [
       "{'bar', 'qux'}"
      ]
     },
     "execution_count": 114,
     "metadata": {},
     "output_type": "execute_result"
    }
   ],
   "source": [
    "x1 = {'foo', 'bar', 'baz'}\n",
    "x2 = {'foo', 'baz', 'qux'}\n",
    "x1 ^= x2\n",
    "x1"
   ]
  },
  {
   "cell_type": "code",
   "execution_count": 115,
   "id": "039f7c13",
   "metadata": {
    "ExecuteTime": {
     "end_time": "2022-06-23T03:32:09.126760Z",
     "start_time": "2022-06-23T03:32:09.124498Z"
    }
   },
   "outputs": [
    {
     "data": {
      "text/plain": [
       "{'bar', 'corge'}"
      ]
     },
     "execution_count": 115,
     "metadata": {},
     "output_type": "execute_result"
    }
   ],
   "source": [
    "x1.symmetric_difference_update(['qux', 'corge'])\n",
    "x1"
   ]
  },
  {
   "cell_type": "markdown",
   "id": "052b0944",
   "metadata": {},
   "source": [
    "#### Other Methods For Modifying Sets\n"
   ]
  },
  {
   "cell_type": "markdown",
   "id": "a18f81a8",
   "metadata": {},
   "source": [
    "##### Add\n",
    "\n",
    "Adds an element to a set.\n",
    "\n"
   ]
  },
  {
   "cell_type": "code",
   "execution_count": 116,
   "id": "6c14947e",
   "metadata": {
    "ExecuteTime": {
     "end_time": "2022-06-23T03:34:17.740759Z",
     "start_time": "2022-06-23T03:34:17.737607Z"
    }
   },
   "outputs": [
    {
     "data": {
      "text/plain": [
       "{'bar', 'baz', 'foo', 'qux'}"
      ]
     },
     "execution_count": 116,
     "metadata": {},
     "output_type": "execute_result"
    }
   ],
   "source": [
    "x = {'foo', 'bar', 'baz'}\n",
    "x.add('qux')\n",
    "x"
   ]
  },
  {
   "cell_type": "markdown",
   "id": "fc0b3541",
   "metadata": {},
   "source": [
    "##### Remove\n",
    "\n",
    "Removes an element from a set."
   ]
  },
  {
   "cell_type": "code",
   "execution_count": 118,
   "id": "9fc54907",
   "metadata": {
    "ExecuteTime": {
     "end_time": "2022-06-23T03:40:13.318671Z",
     "start_time": "2022-06-23T03:40:13.315741Z"
    }
   },
   "outputs": [
    {
     "data": {
      "text/plain": [
       "{'bar', 'foo'}"
      ]
     },
     "execution_count": 118,
     "metadata": {},
     "output_type": "execute_result"
    }
   ],
   "source": [
    "x = {'foo', 'bar', 'baz'}\n",
    "x.remove('baz')\n",
    "x"
   ]
  },
  {
   "cell_type": "code",
   "execution_count": 119,
   "id": "ba6a9e55",
   "metadata": {
    "ExecuteTime": {
     "end_time": "2022-06-23T03:40:15.082532Z",
     "start_time": "2022-06-23T03:40:15.078204Z"
    }
   },
   "outputs": [
    {
     "ename": "KeyError",
     "evalue": "'qux'",
     "output_type": "error",
     "traceback": [
      "\u001b[0;31m---------------------------------------------------------------------------\u001b[0m",
      "\u001b[0;31mKeyError\u001b[0m                                  Traceback (most recent call last)",
      "\u001b[0;32m/tmp/ipykernel_6183/3746054529.py\u001b[0m in \u001b[0;36m<module>\u001b[0;34m\u001b[0m\n\u001b[0;32m----> 1\u001b[0;31m \u001b[0mx\u001b[0m\u001b[0;34m.\u001b[0m\u001b[0mremove\u001b[0m\u001b[0;34m(\u001b[0m\u001b[0;34m'qux'\u001b[0m\u001b[0;34m)\u001b[0m\u001b[0;34m\u001b[0m\u001b[0m\n\u001b[0m",
      "\u001b[0;31mKeyError\u001b[0m: 'qux'"
     ]
    }
   ],
   "source": [
    "x.remove('qux')"
   ]
  },
  {
   "cell_type": "markdown",
   "id": "1722fdaf",
   "metadata": {},
   "source": [
    "##### discard\n",
    "\n",
    "Removes an element from a set.\n",
    "\n"
   ]
  },
  {
   "cell_type": "code",
   "execution_count": 120,
   "id": "d62bbb7a",
   "metadata": {
    "ExecuteTime": {
     "end_time": "2022-06-23T03:40:59.129898Z",
     "start_time": "2022-06-23T03:40:59.127094Z"
    }
   },
   "outputs": [
    {
     "data": {
      "text/plain": [
       "{'bar', 'foo'}"
      ]
     },
     "execution_count": 120,
     "metadata": {},
     "output_type": "execute_result"
    }
   ],
   "source": [
    "x = {'foo', 'bar', 'baz'}\n",
    "x.discard('baz')\n",
    "x"
   ]
  },
  {
   "cell_type": "code",
   "execution_count": 122,
   "id": "aa49cd9e",
   "metadata": {
    "ExecuteTime": {
     "end_time": "2022-06-23T03:41:39.180166Z",
     "start_time": "2022-06-23T03:41:39.177196Z"
    }
   },
   "outputs": [
    {
     "data": {
      "text/plain": [
       "{'bar', 'foo'}"
      ]
     },
     "execution_count": 122,
     "metadata": {},
     "output_type": "execute_result"
    }
   ],
   "source": [
    "x.discard('qux')\n",
    "x"
   ]
  },
  {
   "cell_type": "markdown",
   "id": "f8e801e6",
   "metadata": {},
   "source": [
    "##### Pop\n",
    "\n",
    "\n",
    "Removes a random element from a set.\n",
    "\n"
   ]
  },
  {
   "cell_type": "code",
   "execution_count": 123,
   "id": "0819aafe",
   "metadata": {
    "ExecuteTime": {
     "end_time": "2022-06-23T03:42:46.546286Z",
     "start_time": "2022-06-23T03:42:46.543516Z"
    }
   },
   "outputs": [
    {
     "data": {
      "text/plain": [
       "'bar'"
      ]
     },
     "execution_count": 123,
     "metadata": {},
     "output_type": "execute_result"
    }
   ],
   "source": [
    "x = {'foo', 'bar', 'baz'}\n",
    "x.pop()"
   ]
  },
  {
   "cell_type": "code",
   "execution_count": 124,
   "id": "68a5d5ac",
   "metadata": {
    "ExecuteTime": {
     "end_time": "2022-06-23T03:42:49.986302Z",
     "start_time": "2022-06-23T03:42:49.983446Z"
    }
   },
   "outputs": [
    {
     "data": {
      "text/plain": [
       "{'baz', 'foo'}"
      ]
     },
     "execution_count": 124,
     "metadata": {},
     "output_type": "execute_result"
    }
   ],
   "source": [
    "x"
   ]
  },
  {
   "cell_type": "code",
   "execution_count": 125,
   "id": "63c364bd",
   "metadata": {
    "ExecuteTime": {
     "end_time": "2022-06-23T03:42:55.804405Z",
     "start_time": "2022-06-23T03:42:55.802002Z"
    }
   },
   "outputs": [
    {
     "data": {
      "text/plain": [
       "'baz'"
      ]
     },
     "execution_count": 125,
     "metadata": {},
     "output_type": "execute_result"
    }
   ],
   "source": [
    "x.pop()"
   ]
  },
  {
   "cell_type": "code",
   "execution_count": 126,
   "id": "726dc100",
   "metadata": {
    "ExecuteTime": {
     "end_time": "2022-06-23T03:42:56.815257Z",
     "start_time": "2022-06-23T03:42:56.813375Z"
    }
   },
   "outputs": [
    {
     "data": {
      "text/plain": [
       "{'foo'}"
      ]
     },
     "execution_count": 126,
     "metadata": {},
     "output_type": "execute_result"
    }
   ],
   "source": [
    "x"
   ]
  },
  {
   "cell_type": "code",
   "execution_count": 127,
   "id": "2a77af73",
   "metadata": {
    "ExecuteTime": {
     "end_time": "2022-06-23T03:43:03.030927Z",
     "start_time": "2022-06-23T03:43:03.027770Z"
    }
   },
   "outputs": [
    {
     "data": {
      "text/plain": [
       "set()"
      ]
     },
     "execution_count": 127,
     "metadata": {},
     "output_type": "execute_result"
    }
   ],
   "source": [
    "x.pop()\n",
    "x"
   ]
  },
  {
   "cell_type": "code",
   "execution_count": 128,
   "id": "f083c0e0",
   "metadata": {
    "ExecuteTime": {
     "end_time": "2022-06-23T03:43:08.681454Z",
     "start_time": "2022-06-23T03:43:08.677439Z"
    }
   },
   "outputs": [
    {
     "ename": "KeyError",
     "evalue": "'pop from an empty set'",
     "output_type": "error",
     "traceback": [
      "\u001b[0;31m---------------------------------------------------------------------------\u001b[0m",
      "\u001b[0;31mKeyError\u001b[0m                                  Traceback (most recent call last)",
      "\u001b[0;32m/tmp/ipykernel_6183/2253360004.py\u001b[0m in \u001b[0;36m<module>\u001b[0;34m\u001b[0m\n\u001b[0;32m----> 1\u001b[0;31m \u001b[0mx\u001b[0m\u001b[0;34m.\u001b[0m\u001b[0mpop\u001b[0m\u001b[0;34m(\u001b[0m\u001b[0;34m)\u001b[0m\u001b[0;34m\u001b[0m\u001b[0m\n\u001b[0m\u001b[1;32m      2\u001b[0m \u001b[0mx\u001b[0m\u001b[0;34m\u001b[0m\u001b[0m\n",
      "\u001b[0;31mKeyError\u001b[0m: 'pop from an empty set'"
     ]
    }
   ],
   "source": [
    "x.pop()\n",
    "x"
   ]
  },
  {
   "cell_type": "markdown",
   "id": "b25c1b76",
   "metadata": {},
   "source": [
    "#### Clears a set.\n",
    "\n",
    "Clears a set.\n",
    "\n",
    "\n"
   ]
  },
  {
   "cell_type": "code",
   "execution_count": 129,
   "id": "098314ef",
   "metadata": {
    "ExecuteTime": {
     "end_time": "2022-06-23T03:44:11.174632Z",
     "start_time": "2022-06-23T03:44:11.171630Z"
    }
   },
   "outputs": [
    {
     "data": {
      "text/plain": [
       "{'bar', 'baz', 'foo'}"
      ]
     },
     "execution_count": 129,
     "metadata": {},
     "output_type": "execute_result"
    }
   ],
   "source": [
    "x = {'foo', 'bar', 'baz'}\n",
    "x"
   ]
  },
  {
   "cell_type": "code",
   "execution_count": 130,
   "id": "a32cba9b",
   "metadata": {
    "ExecuteTime": {
     "end_time": "2022-06-23T03:44:12.887469Z",
     "start_time": "2022-06-23T03:44:12.885018Z"
    }
   },
   "outputs": [],
   "source": [
    "x.clear()"
   ]
  },
  {
   "cell_type": "code",
   "execution_count": 131,
   "id": "4d8a1d70",
   "metadata": {
    "ExecuteTime": {
     "end_time": "2022-06-23T03:44:16.647102Z",
     "start_time": "2022-06-23T03:44:16.643841Z"
    }
   },
   "outputs": [
    {
     "data": {
      "text/plain": [
       "set()"
      ]
     },
     "execution_count": 131,
     "metadata": {},
     "output_type": "execute_result"
    }
   ],
   "source": [
    "x"
   ]
  },
  {
   "cell_type": "markdown",
   "id": "b739f83f",
   "metadata": {},
   "source": [
    "#### Frozen Sets\n",
    "\n",
    "\n",
    "Python provides another built-in type called **a frozenset, which is in all respects exactly like a set, except that a frozenset is immutable.** \n",
    "\n",
    "You can perform non-modifying operations on a frozenset:\n"
   ]
  },
  {
   "cell_type": "code",
   "execution_count": 132,
   "id": "59e7261c",
   "metadata": {
    "ExecuteTime": {
     "end_time": "2022-06-23T03:45:13.135015Z",
     "start_time": "2022-06-23T03:45:13.131561Z"
    }
   },
   "outputs": [
    {
     "data": {
      "text/plain": [
       "frozenset({'bar', 'baz', 'foo'})"
      ]
     },
     "execution_count": 132,
     "metadata": {},
     "output_type": "execute_result"
    }
   ],
   "source": [
    "x = frozenset(['foo', 'bar', 'baz'])\n",
    "\n",
    "x"
   ]
  },
  {
   "cell_type": "code",
   "execution_count": 133,
   "id": "8c21f41f",
   "metadata": {
    "ExecuteTime": {
     "end_time": "2022-06-23T03:45:49.127477Z",
     "start_time": "2022-06-23T03:45:49.124863Z"
    }
   },
   "outputs": [
    {
     "data": {
      "text/plain": [
       "frozenset({'baz'})"
      ]
     },
     "execution_count": 133,
     "metadata": {},
     "output_type": "execute_result"
    }
   ],
   "source": [
    "x & {'baz', 'qux', 'quux'}"
   ]
  },
  {
   "cell_type": "code",
   "execution_count": 134,
   "id": "c4a286ee",
   "metadata": {
    "ExecuteTime": {
     "end_time": "2022-06-23T03:46:00.658847Z",
     "start_time": "2022-06-23T03:46:00.654329Z"
    }
   },
   "outputs": [
    {
     "ename": "AttributeError",
     "evalue": "'frozenset' object has no attribute 'add'",
     "output_type": "error",
     "traceback": [
      "\u001b[0;31m---------------------------------------------------------------------------\u001b[0m",
      "\u001b[0;31mAttributeError\u001b[0m                            Traceback (most recent call last)",
      "\u001b[0;32m/tmp/ipykernel_6183/3055327893.py\u001b[0m in \u001b[0;36m<module>\u001b[0;34m\u001b[0m\n\u001b[1;32m      1\u001b[0m \u001b[0mx\u001b[0m \u001b[0;34m=\u001b[0m \u001b[0mfrozenset\u001b[0m\u001b[0;34m(\u001b[0m\u001b[0;34m[\u001b[0m\u001b[0;34m'foo'\u001b[0m\u001b[0;34m,\u001b[0m \u001b[0;34m'bar'\u001b[0m\u001b[0;34m,\u001b[0m \u001b[0;34m'baz'\u001b[0m\u001b[0;34m]\u001b[0m\u001b[0;34m)\u001b[0m\u001b[0;34m\u001b[0m\u001b[0m\n\u001b[0;32m----> 2\u001b[0;31m \u001b[0mx\u001b[0m\u001b[0;34m.\u001b[0m\u001b[0madd\u001b[0m\u001b[0;34m(\u001b[0m\u001b[0;34m'qux'\u001b[0m\u001b[0;34m)\u001b[0m\u001b[0;34m\u001b[0m\u001b[0m\n\u001b[0m",
      "\u001b[0;31mAttributeError\u001b[0m: 'frozenset' object has no attribute 'add'"
     ]
    }
   ],
   "source": [
    "x = frozenset(['foo', 'bar', 'baz'])\n",
    "x.add('qux')"
   ]
  },
  {
   "cell_type": "code",
   "execution_count": 135,
   "id": "3f5277b5",
   "metadata": {
    "ExecuteTime": {
     "end_time": "2022-06-23T03:46:12.081176Z",
     "start_time": "2022-06-23T03:46:12.076618Z"
    }
   },
   "outputs": [
    {
     "ename": "AttributeError",
     "evalue": "'frozenset' object has no attribute 'pop'",
     "output_type": "error",
     "traceback": [
      "\u001b[0;31m---------------------------------------------------------------------------\u001b[0m",
      "\u001b[0;31mAttributeError\u001b[0m                            Traceback (most recent call last)",
      "\u001b[0;32m/tmp/ipykernel_6183/3390390248.py\u001b[0m in \u001b[0;36m<module>\u001b[0;34m\u001b[0m\n\u001b[0;32m----> 1\u001b[0;31m \u001b[0mx\u001b[0m\u001b[0;34m.\u001b[0m\u001b[0mpop\u001b[0m\u001b[0;34m(\u001b[0m\u001b[0;34m)\u001b[0m\u001b[0;34m\u001b[0m\u001b[0m\n\u001b[0m",
      "\u001b[0;31mAttributeError\u001b[0m: 'frozenset' object has no attribute 'pop'"
     ]
    }
   ],
   "source": [
    "x.pop()"
   ]
  },
  {
   "cell_type": "code",
   "execution_count": 138,
   "id": "2e8b00b1",
   "metadata": {
    "ExecuteTime": {
     "end_time": "2022-06-23T03:46:52.188560Z",
     "start_time": "2022-06-23T03:46:52.180300Z"
    }
   },
   "outputs": [
    {
     "ename": "AttributeError",
     "evalue": "'frozenset' object has no attribute 'clear'",
     "output_type": "error",
     "traceback": [
      "\u001b[0;31m---------------------------------------------------------------------------\u001b[0m",
      "\u001b[0;31mAttributeError\u001b[0m                            Traceback (most recent call last)",
      "\u001b[0;32m/tmp/ipykernel_6183/6684554.py\u001b[0m in \u001b[0;36m<module>\u001b[0;34m\u001b[0m\n\u001b[0;32m----> 1\u001b[0;31m \u001b[0mx\u001b[0m\u001b[0;34m.\u001b[0m\u001b[0mclear\u001b[0m\u001b[0;34m(\u001b[0m\u001b[0;34m)\u001b[0m\u001b[0;34m\u001b[0m\u001b[0m\n\u001b[0m",
      "\u001b[0;31mAttributeError\u001b[0m: 'frozenset' object has no attribute 'clear'"
     ]
    }
   ],
   "source": [
    "x.clear()"
   ]
  },
  {
   "cell_type": "code",
   "execution_count": 139,
   "id": "b9e5a118",
   "metadata": {
    "ExecuteTime": {
     "end_time": "2022-06-23T03:46:55.003802Z",
     "start_time": "2022-06-23T03:46:54.997201Z"
    }
   },
   "outputs": [
    {
     "data": {
      "text/plain": [
       "frozenset({'bar', 'baz', 'foo'})"
      ]
     },
     "execution_count": 139,
     "metadata": {},
     "output_type": "execute_result"
    }
   ],
   "source": [
    "x"
   ]
  },
  {
   "cell_type": "markdown",
   "id": "d35b35a6",
   "metadata": {},
   "source": [
    "Like normal sets, frozenset can also perform different operations like copy, difference, intersection, symmetric_difference, and union.\n",
    "\n"
   ]
  },
  {
   "cell_type": "code",
   "execution_count": 140,
   "id": "7be4c8dd",
   "metadata": {
    "ExecuteTime": {
     "end_time": "2022-06-23T03:50:51.912269Z",
     "start_time": "2022-06-23T03:50:51.909097Z"
    }
   },
   "outputs": [
    {
     "name": "stdout",
     "output_type": "stream",
     "text": [
      "frozenset({1, 2, 3, 4})\n",
      "frozenset({1, 2, 3, 4, 5, 6})\n",
      "frozenset({3, 4})\n",
      "frozenset({1, 2})\n",
      "frozenset({1, 2, 5, 6})\n"
     ]
    }
   ],
   "source": [
    "# Frozensets\n",
    "# initialize A and B\n",
    "A = frozenset([1, 2, 3, 4])\n",
    "B = frozenset([3, 4, 5, 6])\n",
    "\n",
    "# copying a frozenset\n",
    "C = A.copy()  # Output: frozenset({1, 2, 3, 4})\n",
    "print(C)\n",
    "\n",
    "# union\n",
    "print(A.union(B))  # Output: frozenset({1, 2, 3, 4, 5, 6})\n",
    "\n",
    "# intersection\n",
    "print(A.intersection(B))  # Output: frozenset({3, 4})\n",
    "\n",
    "# difference\n",
    "print(A.difference(B))  # Output: frozenset({1, 2})\n",
    "\n",
    "# symmetric_difference\n",
    "print(A.symmetric_difference(B))  # Output: frozenset({1, 2, 5, 6})"
   ]
  },
  {
   "cell_type": "markdown",
   "id": "be7a6bc0",
   "metadata": {},
   "source": [
    "## Go to Exercises"
   ]
  },
  {
   "cell_type": "markdown",
   "id": "acbeaad6",
   "metadata": {},
   "source": [
    "## File Handling\n",
    "\n",
    "Outline \n",
    "\n",
    "- Retrieve file properties\n",
    "- Create directories\n",
    "- Match patterns in filenames\n",
    "- Traverse directory trees\n",
    "- Make temporary files and directories\n",
    "- Delete files and directories\n",
    "- Copy, move, or rename files and directories\n",
    "- Create and extract ZIP and TAR archives\n",
    "- Open multiple files using the fileinput module"
   ]
  },
  {
   "cell_type": "markdown",
   "id": "2d6e4ea7",
   "metadata": {
    "ExecuteTime": {
     "end_time": "2022-07-05T09:54:10.402087Z",
     "start_time": "2022-07-05T09:54:10.135819Z"
    }
   },
   "source": [
    "For File Reader\n",
    "```\n",
    "with open('readme.txt') as f:\n",
    "    lines = f.readlines()\n",
    "```\n",
    "\n",
    "To read a text file in Python, you follow these steps:\n",
    "\n",
    "- First, open a text file for reading by using the **open()** function.\n",
    "- Second, read text from the text file using the file **read(), readline(), or readlines()** method of the file object.\n",
    "- Third, close the file using the file **close()** method.\n"
   ]
  },
  {
   "cell_type": "markdown",
   "id": "866fcc98",
   "metadata": {},
   "source": [
    "1) <font color=\"red\">open() </font>function\n",
    "\n",
    "```\n",
    "open(path_to_file, mode)\n",
    "```\n",
    "The **path_to_file** parameter specifies the path to the text file. For example, if the file is readme.txt stored in the sample folder as the program, you need to specify the path to the file as c:/sample/readme.txt\n",
    "\n",
    "The **mode** is an optional parameter. It’s a string that specifies the mode in which you want to open the file.\n",
    "\n",
    "<img src=\"resources/file_mode.png\" width=800>\n",
    "\n"
   ]
  },
  {
   "cell_type": "markdown",
   "id": "2ee534aa",
   "metadata": {
    "ExecuteTime": {
     "end_time": "2022-07-05T10:16:55.178794Z",
     "start_time": "2022-07-05T10:16:55.160527Z"
    }
   },
   "source": [
    "2) <font color=\"red\">Reading text methods</font>\n",
    "\n",
    "The file object provides you with three methods for reading text from a text file:\n",
    "\n",
    "- **read()** – read all text from a file into a string. This method is useful if you have a small file and you want to manipulate the whole text of that file.\n",
    "- **readline()** – read the text file line by line and return all the lines as strings.\n",
    "- **readlines()** – read all the lines of the text file and return them as a list of strings3\n",
    "\n",
    "3) <font color= \"red\"> close() </font> method\n",
    "\n",
    "f.close()\n"
   ]
  },
  {
   "cell_type": "code",
   "execution_count": 14,
   "id": "b7daef8d",
   "metadata": {
    "ExecuteTime": {
     "end_time": "2022-07-05T11:08:57.584964Z",
     "start_time": "2022-07-05T11:08:57.574557Z"
    }
   },
   "outputs": [
    {
     "name": "stdout",
     "output_type": "stream",
     "text": [
      "Beautiful is better than ugly.\n",
      "Explicit is better than implicit.\n",
      "Simple is better than complex.\n",
      "Complex is better than complicated.\n",
      "Flat is better than nested.\n",
      "Sparse is better than dense.\n",
      "Readability counts.\n",
      "Special cases aren't special enough to break the rules.\n",
      "Although practicality beats purity.\n",
      "Errors should never pass silently.\n",
      "Unless explicitly silenced.\n",
      "In the face of ambiguity, refuse the temptation to guess.\n",
      "There should be one-- and preferably only one --obvious way to do it.\n",
      "Although that way may not be obvious at first unless you're Dutch.\n",
      "Now is better than never.\n",
      "Although never is often better than *right* now.\n",
      "If the implementation is hard to explain, it's a bad idea.\n",
      "If the implementation is easy to explain, it may be a good idea.\n",
      "Namespaces are one honking great idea -- let's do more of those!\n"
     ]
    }
   ],
   "source": [
    "with open('resources/file_reader.txt') as f:\n",
    "    contents = f.read()\n",
    "    print(contents)"
   ]
  },
  {
   "cell_type": "code",
   "execution_count": 13,
   "id": "9d88c1c6",
   "metadata": {
    "ExecuteTime": {
     "end_time": "2022-07-05T11:08:51.626289Z",
     "start_time": "2022-07-05T11:08:51.611225Z"
    }
   },
   "outputs": [
    {
     "name": "stdout",
     "output_type": "stream",
     "text": [
      "line 1: Beautiful is better than ugly.\n",
      "\n",
      "line 2: Explicit is better than implicit.\n",
      "\n",
      "line 3: Simple is better than complex.\n",
      "\n",
      "line 4: Complex is better than complicated.\n",
      "\n",
      "line 5: Flat is better than nested.\n",
      "\n",
      "line 6: Sparse is better than dense.\n",
      "\n",
      "line 7: Readability counts.\n",
      "\n",
      "line 8: Special cases aren't special enough to break the rules.\n",
      "\n",
      "line 9: Although practicality beats purity.\n",
      "\n",
      "line 10: Errors should never pass silently.\n",
      "\n",
      "line 11: Unless explicitly silenced.\n",
      "\n",
      "line 12: In the face of ambiguity, refuse the temptation to guess.\n",
      "\n",
      "line 13: There should be one-- and preferably only one --obvious way to do it.\n",
      "\n",
      "line 14: Although that way may not be obvious at first unless you're Dutch.\n",
      "\n",
      "line 15: Now is better than never.\n",
      "\n",
      "line 16: Although never is often better than *right* now.\n",
      "\n",
      "line 17: If the implementation is hard to explain, it's a bad idea.\n",
      "\n",
      "line 18: If the implementation is easy to explain, it may be a good idea.\n",
      "\n",
      "line 19: Namespaces are one honking great idea -- let's do more of those!\n"
     ]
    }
   ],
   "source": [
    "lines = []\n",
    "with open('resources/file_reader.txt') as f:\n",
    "    lines = f.readlines()\n",
    "\n",
    "count = 0\n",
    "for line in lines:\n",
    "    count += 1\n",
    "    print(f'line {count}: {line}')  "
   ]
  },
  {
   "cell_type": "markdown",
   "id": "d94e2d95",
   "metadata": {
    "ExecuteTime": {
     "end_time": "2022-07-05T10:25:07.568980Z",
     "start_time": "2022-07-05T10:25:07.549838Z"
    }
   },
   "source": [
    "### A more concise way to read a text file line by line\n"
   ]
  },
  {
   "cell_type": "code",
   "execution_count": 12,
   "id": "38bd81d5",
   "metadata": {
    "ExecuteTime": {
     "end_time": "2022-07-05T11:08:44.975124Z",
     "start_time": "2022-07-05T11:08:44.914185Z"
    }
   },
   "outputs": [
    {
     "name": "stdout",
     "output_type": "stream",
     "text": [
      "Beautiful is better than ugly.\n",
      "\n",
      "Explicit is better than implicit.\n",
      "\n",
      "Simple is better than complex.\n",
      "\n",
      "Complex is better than complicated.\n",
      "\n",
      "Flat is better than nested.\n",
      "\n",
      "Sparse is better than dense.\n",
      "\n",
      "Readability counts.\n",
      "\n",
      "Special cases aren't special enough to break the rules.\n",
      "\n",
      "Although practicality beats purity.\n",
      "\n",
      "Errors should never pass silently.\n",
      "\n",
      "Unless explicitly silenced.\n",
      "\n",
      "In the face of ambiguity, refuse the temptation to guess.\n",
      "\n",
      "There should be one-- and preferably only one --obvious way to do it.\n",
      "\n",
      "Although that way may not be obvious at first unless you're Dutch.\n",
      "\n",
      "Now is better than never.\n",
      "\n",
      "Although never is often better than *right* now.\n",
      "\n",
      "If the implementation is hard to explain, it's a bad idea.\n",
      "\n",
      "If the implementation is easy to explain, it may be a good idea.\n",
      "\n",
      "Namespaces are one honking great idea -- let's do more of those!\n"
     ]
    }
   ],
   "source": [
    "with open('resources/file_reader.txt') as f:\n",
    "    for line in f:\n",
    "        print(line)"
   ]
  },
  {
   "cell_type": "markdown",
   "id": "8c136536",
   "metadata": {},
   "source": [
    "### Read UTF-8 text files\n"
   ]
  },
  {
   "cell_type": "code",
   "execution_count": 11,
   "id": "4cd957d9",
   "metadata": {
    "ExecuteTime": {
     "end_time": "2022-07-05T10:29:29.664773Z",
     "start_time": "2022-07-05T10:29:29.656717Z"
    },
    "scrolled": true
   },
   "outputs": [
    {
     "name": "stdout",
     "output_type": "stream",
     "text": [
      "人生で何度も何度も失敗を繰り返してきました。だからこそ、私は成功を収めることができたのです。\n",
      "どれだけ高く登れたかで人を評価しません。尻餅をついたあと、どれだけ変わったかで評価をするのです。\n",
      "成功を収める人とは人が投げてきたレンガでしっかりした基盤を築くことができる人のことである。\n"
     ]
    }
   ],
   "source": [
    "with open('resources/quotes.txt', encoding='utf8') as f:\n",
    "    for line in f:\n",
    "        print(line.strip())"
   ]
  },
  {
   "cell_type": "markdown",
   "id": "312b2cdd",
   "metadata": {},
   "source": [
    "### Getting a Directory Listing"
   ]
  },
  {
   "cell_type": "markdown",
   "id": "d5c5b8f9",
   "metadata": {},
   "source": [
    "#### In Older Version"
   ]
  },
  {
   "cell_type": "code",
   "execution_count": 16,
   "id": "39aaa49e",
   "metadata": {
    "ExecuteTime": {
     "end_time": "2022-07-05T11:11:17.301832Z",
     "start_time": "2022-07-05T11:11:17.295755Z"
    }
   },
   "outputs": [
    {
     "name": "stdout",
     "output_type": "stream",
     "text": [
      ".ipynb_checkpoints\n",
      "24.png\n",
      "25.png\n",
      "26.webp\n",
      "27.webp\n",
      "28.webp\n",
      "29.webp\n",
      "30.webp\n",
      "break_continue.webp\n",
      "fibonacci_number.png\n",
      "file_mode.PNG\n",
      "file_reader.txt\n",
      "image1.PNG\n",
      "quotes.txt\n",
      "temperature.png\n"
     ]
    }
   ],
   "source": [
    "import os\n",
    "entries = os.listdir('resources/')\n",
    "for entry in entries:\n",
    "    print(entry)"
   ]
  },
  {
   "cell_type": "markdown",
   "id": "6903ee0f",
   "metadata": {},
   "source": [
    "#### in Modern Python Versions\n"
   ]
  },
  {
   "cell_type": "code",
   "execution_count": 22,
   "id": "d43d163b",
   "metadata": {
    "ExecuteTime": {
     "end_time": "2022-07-05T11:12:54.962640Z",
     "start_time": "2022-07-05T11:12:54.943800Z"
    }
   },
   "outputs": [
    {
     "name": "stdout",
     "output_type": "stream",
     "text": [
      ".ipynb_checkpoints\n",
      "24.png\n",
      "25.png\n",
      "26.webp\n",
      "27.webp\n",
      "28.webp\n",
      "29.webp\n",
      "30.webp\n",
      "break_continue.webp\n",
      "fibonacci_number.png\n",
      "file_mode.PNG\n",
      "file_reader.txt\n",
      "image1.PNG\n",
      "quotes.txt\n",
      "temperature.png\n"
     ]
    }
   ],
   "source": [
    "import os\n",
    "\n",
    "with os.scandir('resources/') as entries:\n",
    "    for entry in entries:\n",
    "        print(entry.name)"
   ]
  },
  {
   "cell_type": "code",
   "execution_count": 23,
   "id": "b3983308",
   "metadata": {
    "ExecuteTime": {
     "end_time": "2022-07-05T11:13:12.496921Z",
     "start_time": "2022-07-05T11:13:12.487955Z"
    }
   },
   "outputs": [
    {
     "name": "stdout",
     "output_type": "stream",
     "text": [
      ".ipynb_checkpoints\n",
      "24.png\n",
      "25.png\n",
      "26.webp\n",
      "27.webp\n",
      "28.webp\n",
      "29.webp\n",
      "30.webp\n",
      "break_continue.webp\n",
      "fibonacci_number.png\n",
      "file_mode.PNG\n",
      "file_reader.txt\n",
      "image1.PNG\n",
      "quotes.txt\n",
      "temperature.png\n"
     ]
    }
   ],
   "source": [
    "from pathlib import Path\n",
    "\n",
    "entries = Path('resources/')\n",
    "for entry in entries.iterdir():\n",
    "    print(entry.name)"
   ]
  },
  {
   "cell_type": "markdown",
   "id": "488fe981",
   "metadata": {
    "ExecuteTime": {
     "end_time": "2022-07-05T11:14:35.806088Z",
     "start_time": "2022-07-05T11:14:35.797989Z"
    }
   },
   "source": [
    "<img src=\"resources/file_directory.PNG\">"
   ]
  },
  {
   "cell_type": "markdown",
   "id": "ae0e10e2",
   "metadata": {},
   "source": [
    "### Listing All Files in a Directory\n",
    "\n",
    "\n",
    "To filter out directories and only list files from a directory listing produced by os.listdir(), use os.path:"
   ]
  },
  {
   "cell_type": "code",
   "execution_count": 25,
   "id": "df8ffddc",
   "metadata": {
    "ExecuteTime": {
     "end_time": "2022-07-05T11:19:56.709325Z",
     "start_time": "2022-07-05T11:19:56.697966Z"
    }
   },
   "outputs": [
    {
     "name": "stdout",
     "output_type": "stream",
     "text": [
      "24.png\n",
      "25.png\n",
      "26.webp\n",
      "27.webp\n",
      "28.webp\n",
      "29.webp\n",
      "30.webp\n",
      "break_continue.webp\n",
      "fibonacci_number.png\n",
      "file_directory.PNG\n",
      "file_mode.PNG\n",
      "file_reader.txt\n",
      "image1.PNG\n",
      "quotes.txt\n",
      "temperature.png\n"
     ]
    }
   ],
   "source": [
    "import os\n",
    "\n",
    "# List all files in a directory using os.listdir\n",
    "basepath = 'resources/'\n",
    "for entry in os.listdir(basepath):\n",
    "    if os.path.isfile(os.path.join(basepath, entry)):\n",
    "        print(entry)"
   ]
  },
  {
   "cell_type": "markdown",
   "id": "7a3a472b",
   "metadata": {},
   "source": [
    "An easier way to list files in a directory is to use os.scandir() or pathlib.Path():\n",
    "\n"
   ]
  },
  {
   "cell_type": "code",
   "execution_count": 26,
   "id": "0971b4db",
   "metadata": {
    "ExecuteTime": {
     "end_time": "2022-07-05T11:20:52.080303Z",
     "start_time": "2022-07-05T11:20:52.063869Z"
    }
   },
   "outputs": [
    {
     "name": "stdout",
     "output_type": "stream",
     "text": [
      "24.png\n",
      "25.png\n",
      "26.webp\n",
      "27.webp\n",
      "28.webp\n",
      "29.webp\n",
      "30.webp\n",
      "break_continue.webp\n",
      "fibonacci_number.png\n",
      "file_directory.PNG\n",
      "file_mode.PNG\n",
      "file_reader.txt\n",
      "image1.PNG\n",
      "quotes.txt\n",
      "temperature.png\n"
     ]
    }
   ],
   "source": [
    "# List all files in a directory using scandir()\n",
    "basepath = 'resources/'\n",
    "with os.scandir(basepath) as entries:\n",
    "    for entry in entries:\n",
    "        if entry.is_file():\n",
    "            print(entry.name)"
   ]
  },
  {
   "cell_type": "markdown",
   "id": "d6ec2da1",
   "metadata": {},
   "source": [
    "Using os.scandir() has the advantage of looking cleaner and being easier to understand than using os.listdir(), even though it is one line of code longer. Calling entry.is_file() on each item in the ScandirIterator returns True if the object is a file."
   ]
  },
  {
   "cell_type": "markdown",
   "id": "4b65fe19",
   "metadata": {},
   "source": [
    "using pathlib.Path():"
   ]
  },
  {
   "cell_type": "code",
   "execution_count": 27,
   "id": "5bc26fa8",
   "metadata": {
    "ExecuteTime": {
     "end_time": "2022-07-05T11:21:52.999479Z",
     "start_time": "2022-07-05T11:21:52.981190Z"
    }
   },
   "outputs": [
    {
     "name": "stdout",
     "output_type": "stream",
     "text": [
      "24.png\n",
      "25.png\n",
      "26.webp\n",
      "27.webp\n",
      "28.webp\n",
      "29.webp\n",
      "30.webp\n",
      "break_continue.webp\n",
      "fibonacci_number.png\n",
      "file_directory.PNG\n",
      "file_mode.PNG\n",
      "file_reader.txt\n",
      "image1.PNG\n",
      "quotes.txt\n",
      "temperature.png\n"
     ]
    }
   ],
   "source": [
    "from pathlib import Path\n",
    "\n",
    "basepath = Path('resources/')\n",
    "files_in_basepath = basepath.iterdir()\n",
    "for item in files_in_basepath:\n",
    "    if item.is_file():\n",
    "        print(item.name)"
   ]
  },
  {
   "cell_type": "markdown",
   "id": "d8d56ef0",
   "metadata": {},
   "source": [
    "### Listing Subdirectories"
   ]
  },
  {
   "cell_type": "markdown",
   "id": "9fb066c4",
   "metadata": {},
   "source": [
    "use os.listdir() and os.path()"
   ]
  },
  {
   "cell_type": "code",
   "execution_count": 28,
   "id": "443e672d",
   "metadata": {
    "ExecuteTime": {
     "end_time": "2022-07-05T11:22:50.161785Z",
     "start_time": "2022-07-05T11:22:50.151306Z"
    }
   },
   "outputs": [
    {
     "name": "stdout",
     "output_type": "stream",
     "text": [
      ".ipynb_checkpoints\n"
     ]
    }
   ],
   "source": [
    "import os\n",
    "\n",
    "# List all subdirectories using os.listdir\n",
    "basepath = 'resources/'\n",
    "for entry in os.listdir(basepath):\n",
    "    if os.path.isdir(os.path.join(basepath, entry)):\n",
    "        print(entry)"
   ]
  },
  {
   "cell_type": "markdown",
   "id": "bd212458",
   "metadata": {},
   "source": [
    "use os.scandir()"
   ]
  },
  {
   "cell_type": "code",
   "execution_count": 30,
   "id": "93b37568",
   "metadata": {
    "ExecuteTime": {
     "end_time": "2022-07-05T11:24:38.405343Z",
     "start_time": "2022-07-05T11:24:38.386572Z"
    }
   },
   "outputs": [
    {
     "name": "stdout",
     "output_type": "stream",
     "text": [
      ".ipynb_checkpoints\n"
     ]
    }
   ],
   "source": [
    "import os\n",
    "\n",
    "# List all subdirectories using scandir()\n",
    "basepath = 'resources/'\n",
    "with os.scandir(basepath) as entries:\n",
    "    for entry in entries:\n",
    "        if entry.is_dir():\n",
    "            print(entry.name)"
   ]
  },
  {
   "cell_type": "markdown",
   "id": "6b34a257",
   "metadata": {},
   "source": [
    "use pathlib.Path()"
   ]
  },
  {
   "cell_type": "code",
   "execution_count": 31,
   "id": "8087ed15",
   "metadata": {
    "ExecuteTime": {
     "end_time": "2022-07-05T11:24:57.004771Z",
     "start_time": "2022-07-05T11:24:56.988543Z"
    }
   },
   "outputs": [
    {
     "name": "stdout",
     "output_type": "stream",
     "text": [
      ".ipynb_checkpoints\n"
     ]
    }
   ],
   "source": [
    "from pathlib import Path\n",
    "\n",
    "# List all subdirectory using pathlib\n",
    "basepath = Path('resources/')\n",
    "for entry in basepath.iterdir():\n",
    "    if entry.is_dir():\n",
    "        print(entry.name)"
   ]
  },
  {
   "cell_type": "markdown",
   "id": "0eaecafb",
   "metadata": {},
   "source": [
    "### Getting File Attributes\n"
   ]
  },
  {
   "cell_type": "code",
   "execution_count": 32,
   "id": "77030079",
   "metadata": {
    "ExecuteTime": {
     "end_time": "2022-07-05T11:25:34.524528Z",
     "start_time": "2022-07-05T11:25:34.508311Z"
    }
   },
   "outputs": [
    {
     "name": "stdout",
     "output_type": "stream",
     "text": [
      "1657015361.2817025\n",
      "1655891008.0\n",
      "1655891117.0\n",
      "1655953086.0\n",
      "1655953290.0\n",
      "1655953436.0\n",
      "1655953543.0\n",
      "1655953624.0\n",
      "1656998637.29793\n",
      "1657002855.411434\n",
      "1657019650.1380072\n",
      "1657015987.7004168\n",
      "1657019320.5655973\n",
      "1656988770.8618238\n",
      "1657016958.9656863\n",
      "1657002395.9705684\n"
     ]
    }
   ],
   "source": [
    "import os\n",
    "with os.scandir('resources/') as dir_contents:\n",
    "    for entry in dir_contents:\n",
    "        info = entry.stat()\n",
    "        print(info.st_mtime)"
   ]
  },
  {
   "cell_type": "code",
   "execution_count": 33,
   "id": "50562d78",
   "metadata": {
    "ExecuteTime": {
     "end_time": "2022-07-05T11:26:00.123942Z",
     "start_time": "2022-07-05T11:26:00.112785Z"
    }
   },
   "outputs": [],
   "source": [
    "from datetime import datetime\n",
    "from os import scandir\n",
    "\n",
    "def convert_date(timestamp):\n",
    "    d = datetime.utcfromtimestamp(timestamp)\n",
    "    formated_date = d.strftime('%d %b %Y')\n",
    "    return formated_date\n",
    "\n",
    "def get_files():\n",
    "    dir_entries = scandir('resources/')\n",
    "    for entry in dir_entries:\n",
    "        if entry.is_file():\n",
    "            info = entry.stat()\n",
    "            print(f'{entry.name}\\t Last Modified: {convert_date(info.st_mtime)}')"
   ]
  },
  {
   "cell_type": "code",
   "execution_count": 34,
   "id": "0ee9b444",
   "metadata": {
    "ExecuteTime": {
     "end_time": "2022-07-05T11:26:09.116674Z",
     "start_time": "2022-07-05T11:26:09.103576Z"
    }
   },
   "outputs": [
    {
     "name": "stdout",
     "output_type": "stream",
     "text": [
      "24.png\t Last Modified: 22 Jun 2022\n",
      "25.png\t Last Modified: 22 Jun 2022\n",
      "26.webp\t Last Modified: 23 Jun 2022\n",
      "27.webp\t Last Modified: 23 Jun 2022\n",
      "28.webp\t Last Modified: 23 Jun 2022\n",
      "29.webp\t Last Modified: 23 Jun 2022\n",
      "30.webp\t Last Modified: 23 Jun 2022\n",
      "break_continue.webp\t Last Modified: 05 Jul 2022\n",
      "fibonacci_number.png\t Last Modified: 05 Jul 2022\n",
      "file_directory.PNG\t Last Modified: 05 Jul 2022\n",
      "file_mode.PNG\t Last Modified: 05 Jul 2022\n",
      "file_reader.txt\t Last Modified: 05 Jul 2022\n",
      "image1.PNG\t Last Modified: 05 Jul 2022\n",
      "quotes.txt\t Last Modified: 05 Jul 2022\n",
      "temperature.png\t Last Modified: 05 Jul 2022\n"
     ]
    }
   ],
   "source": [
    "get_files()"
   ]
  },
  {
   "cell_type": "markdown",
   "id": "cc6ea086",
   "metadata": {},
   "source": [
    "The arguments passed to .strftime() are the following:\n",
    "\n",
    "%d: the day of the month\n",
    "\n",
    "%b: the month, in abbreviated form\n",
    "\n",
    "%Y: the year"
   ]
  },
  {
   "cell_type": "markdown",
   "id": "89de0ddd",
   "metadata": {},
   "source": [
    "### Making Directories\n",
    "\n",
    "<img src=\"resources/make_directories.png\" width=600>\n"
   ]
  },
  {
   "cell_type": "markdown",
   "id": "542b70db",
   "metadata": {},
   "source": [
    "#### Creating a Single Directory"
   ]
  },
  {
   "cell_type": "code",
   "execution_count": 1,
   "id": "330e2af5",
   "metadata": {
    "ExecuteTime": {
     "end_time": "2022-07-05T11:28:41.902262Z",
     "start_time": "2022-07-05T11:28:41.847388Z"
    }
   },
   "outputs": [
    {
     "ename": "FileExistsError",
     "evalue": "[WinError 183] Cannot create a file when that file already exists: 'example_directory/'",
     "output_type": "error",
     "traceback": [
      "\u001b[1;31m---------------------------------------------------------------------------\u001b[0m",
      "\u001b[1;31mFileExistsError\u001b[0m                           Traceback (most recent call last)",
      "\u001b[1;32m~\\AppData\\Local\\Temp\\ipykernel_18528\\257546937.py\u001b[0m in \u001b[0;36m<module>\u001b[1;34m\u001b[0m\n\u001b[0;32m      3\u001b[0m \u001b[1;32mimport\u001b[0m \u001b[0mos\u001b[0m\u001b[1;33m\u001b[0m\u001b[0m\n\u001b[0;32m      4\u001b[0m \u001b[1;33m\u001b[0m\u001b[0m\n\u001b[1;32m----> 5\u001b[1;33m \u001b[0mos\u001b[0m\u001b[1;33m.\u001b[0m\u001b[0mmkdir\u001b[0m\u001b[1;33m(\u001b[0m\u001b[1;34m'example_directory/'\u001b[0m\u001b[1;33m)\u001b[0m\u001b[1;33m\u001b[0m\u001b[0m\n\u001b[0m",
      "\u001b[1;31mFileExistsError\u001b[0m: [WinError 183] Cannot create a file when that file already exists: 'example_directory/'"
     ]
    }
   ],
   "source": [
    "# using os.mkdir():\n",
    "\n",
    "import os\n",
    "\n",
    "os.mkdir('example_directory/')"
   ]
  },
  {
   "cell_type": "markdown",
   "id": "7a1dca79",
   "metadata": {},
   "source": [
    "**If the path already exists, mkdir() raises a FileExistsError:**"
   ]
  },
  {
   "cell_type": "code",
   "execution_count": 2,
   "id": "e9b42c45",
   "metadata": {
    "ExecuteTime": {
     "end_time": "2022-07-05T11:29:07.932599Z",
     "start_time": "2022-07-05T11:29:07.912286Z"
    }
   },
   "outputs": [
    {
     "name": "stdout",
     "output_type": "stream",
     "text": [
      "[WinError 183] Cannot create a file when that file already exists: 'example_directory'\n"
     ]
    }
   ],
   "source": [
    "from pathlib import Path\n",
    "\n",
    "p = Path('example_directory')\n",
    "try:\n",
    "    p.mkdir()\n",
    "except FileExistsError as exc:\n",
    "    print(exc)"
   ]
  },
  {
   "cell_type": "code",
   "execution_count": 3,
   "id": "eb4b6e37",
   "metadata": {
    "ExecuteTime": {
     "end_time": "2022-07-05T11:29:18.393284Z",
     "start_time": "2022-07-05T11:29:18.376139Z"
    }
   },
   "outputs": [],
   "source": [
    "from pathlib import Path\n",
    "\n",
    "p = Path('example_directory')\n",
    "p.mkdir(exist_ok=True)"
   ]
  },
  {
   "cell_type": "markdown",
   "id": "d1d09223",
   "metadata": {},
   "source": [
    "#### Creating Multiple Directories"
   ]
  },
  {
   "cell_type": "code",
   "execution_count": 4,
   "id": "8c176624",
   "metadata": {
    "ExecuteTime": {
     "end_time": "2022-07-05T11:29:54.119047Z",
     "start_time": "2022-07-05T11:29:54.091552Z"
    }
   },
   "outputs": [],
   "source": [
    "import os\n",
    "os.makedirs('2018/10/05')"
   ]
  },
  {
   "cell_type": "code",
   "execution_count": 5,
   "id": "db4e389a",
   "metadata": {
    "ExecuteTime": {
     "end_time": "2022-07-05T11:30:12.763034Z",
     "start_time": "2022-07-05T11:30:12.734304Z"
    }
   },
   "outputs": [
    {
     "ename": "FileExistsError",
     "evalue": "[WinError 183] Cannot create a file when that file already exists: '2018/10/05'",
     "output_type": "error",
     "traceback": [
      "\u001b[1;31m---------------------------------------------------------------------------\u001b[0m",
      "\u001b[1;31mFileExistsError\u001b[0m                           Traceback (most recent call last)",
      "\u001b[1;32m~\\AppData\\Local\\Temp\\ipykernel_18528\\3069308137.py\u001b[0m in \u001b[0;36m<module>\u001b[1;34m\u001b[0m\n\u001b[0;32m      1\u001b[0m \u001b[1;32mimport\u001b[0m \u001b[0mos\u001b[0m\u001b[1;33m\u001b[0m\u001b[0m\n\u001b[0;32m      2\u001b[0m \u001b[1;33m\u001b[0m\u001b[0m\n\u001b[1;32m----> 3\u001b[1;33m \u001b[0mos\u001b[0m\u001b[1;33m.\u001b[0m\u001b[0mmakedirs\u001b[0m\u001b[1;33m(\u001b[0m\u001b[1;34m'2018/10/05'\u001b[0m\u001b[1;33m,\u001b[0m \u001b[0mmode\u001b[0m\u001b[1;33m=\u001b[0m\u001b[1;36m0o770\u001b[0m\u001b[1;33m)\u001b[0m\u001b[1;33m\u001b[0m\u001b[0m\n\u001b[0m",
      "\u001b[1;32m~\\anaconda3\\envs\\utility_env\\lib\\os.py\u001b[0m in \u001b[0;36mmakedirs\u001b[1;34m(name, mode, exist_ok)\u001b[0m\n\u001b[0;32m    219\u001b[0m             \u001b[1;32mreturn\u001b[0m\u001b[1;33m\u001b[0m\u001b[0m\n\u001b[0;32m    220\u001b[0m     \u001b[1;32mtry\u001b[0m\u001b[1;33m:\u001b[0m\u001b[1;33m\u001b[0m\u001b[0m\n\u001b[1;32m--> 221\u001b[1;33m         \u001b[0mmkdir\u001b[0m\u001b[1;33m(\u001b[0m\u001b[0mname\u001b[0m\u001b[1;33m,\u001b[0m \u001b[0mmode\u001b[0m\u001b[1;33m)\u001b[0m\u001b[1;33m\u001b[0m\u001b[0m\n\u001b[0m\u001b[0;32m    222\u001b[0m     \u001b[1;32mexcept\u001b[0m \u001b[0mOSError\u001b[0m\u001b[1;33m:\u001b[0m\u001b[1;33m\u001b[0m\u001b[0m\n\u001b[0;32m    223\u001b[0m         \u001b[1;31m# Cannot rely on checking for EEXIST, since the operating system\u001b[0m\u001b[1;33m\u001b[0m\u001b[1;33m\u001b[0m\u001b[0m\n",
      "\u001b[1;31mFileExistsError\u001b[0m: [WinError 183] Cannot create a file when that file already exists: '2018/10/05'"
     ]
    }
   ],
   "source": [
    "import os\n",
    "\n",
    "os.makedirs('2018/10/05', mode=0o770)"
   ]
  },
  {
   "cell_type": "markdown",
   "id": "1b02a9dc",
   "metadata": {},
   "source": [
    "### Making Temporary Files and Directories\n"
   ]
  },
  {
   "cell_type": "markdown",
   "id": "057d4dfd",
   "metadata": {},
   "source": [
    "**tempfile** can be used to open and store data temporarily in a file or directory while your program is running. tempfile handles the deletion of the temporary files when your program is done with them."
   ]
  },
  {
   "cell_type": "code",
   "execution_count": 8,
   "id": "ca17e3bc",
   "metadata": {
    "ExecuteTime": {
     "end_time": "2022-07-05T11:40:16.879797Z",
     "start_time": "2022-07-05T11:40:16.856565Z"
    }
   },
   "outputs": [],
   "source": [
    "from tempfile import TemporaryFile\n",
    "\n",
    "# Create a temporary file and write some data to it\n",
    "fp = TemporaryFile('w+t')\n",
    "fp.write('Hello universe!')\n",
    "\n",
    "# Go back to the beginning and read data from file\n",
    "fp.seek(0)\n",
    "data = fp.read()\n",
    "\n",
    "# Close the file, after which it will be removed\n",
    "fp.close()"
   ]
  },
  {
   "cell_type": "code",
   "execution_count": 9,
   "id": "18f9c5a6",
   "metadata": {
    "ExecuteTime": {
     "end_time": "2022-07-05T11:42:39.593748Z",
     "start_time": "2022-07-05T11:42:39.580471Z"
    }
   },
   "outputs": [
    {
     "name": "stdout",
     "output_type": "stream",
     "text": [
      "Created temporary directory  C:\\Users\\Dell\\AppData\\Local\\Temp\\tmplej3cmfm\n"
     ]
    }
   ],
   "source": [
    "import tempfile\n",
    "with tempfile.TemporaryDirectory() as tmpdir:\n",
    "    print('Created temporary directory ', tmpdir)\n",
    "    os.path.exists(tmpdir)"
   ]
  },
  {
   "cell_type": "code",
   "execution_count": 13,
   "id": "3da668cf",
   "metadata": {
    "ExecuteTime": {
     "end_time": "2022-07-05T11:43:37.526804Z",
     "start_time": "2022-07-05T11:43:37.518840Z"
    }
   },
   "outputs": [
    {
     "data": {
      "text/plain": [
       "False"
      ]
     },
     "execution_count": 13,
     "metadata": {},
     "output_type": "execute_result"
    }
   ],
   "source": [
    "os.path.exists(tmpdir)"
   ]
  },
  {
   "cell_type": "markdown",
   "id": "b1cb492c",
   "metadata": {},
   "source": [
    "After the context manager goes out of context, the temporary directory is deleted and a call to os.path.exists(tmpdir) returns False, which means that the directory was succesfully deleted."
   ]
  },
  {
   "cell_type": "markdown",
   "id": "414f818e",
   "metadata": {},
   "source": [
    "### Deleting Files and Directories\n"
   ]
  },
  {
   "cell_type": "markdown",
   "id": "2bb2b4ee",
   "metadata": {},
   "source": [
    "#### Deleting Files in Python\n",
    "\n",
    "To delete a single file, use pathlib.Path.unlink(), os.remove(). or os.unlink().\n",
    "\n",
    "os.remove() and os.unlink() are semantically identical. To delete a file using os.remove(), do the following:"
   ]
  },
  {
   "cell_type": "code",
   "execution_count": null,
   "id": "af3ce5b1",
   "metadata": {},
   "outputs": [],
   "source": [
    "import os\n",
    "\n",
    "data_file = 'C:\\\\Users\\\\vuyisile\\\\Desktop\\\\Test\\\\data.txt'\n",
    "os.remove(data_file)"
   ]
  },
  {
   "cell_type": "markdown",
   "id": "9e0c2a16",
   "metadata": {},
   "source": [
    "Deleting a file using os.unlink() is similar to how you do it using os.remove():\n"
   ]
  },
  {
   "cell_type": "code",
   "execution_count": null,
   "id": "7830bcb2",
   "metadata": {},
   "outputs": [],
   "source": [
    "import os\n",
    "\n",
    "data_file = 'C:\\\\Users\\\\vuyisile\\\\Desktop\\\\Test\\\\data.txt'\n",
    "os.unlink(data_file)"
   ]
  },
  {
   "cell_type": "markdown",
   "id": "60e1ba53",
   "metadata": {},
   "source": [
    "Calling .unlink() or .remove() on a file deletes the file from the filesystem. \n",
    "\n",
    "These two functions will throw an OSError if the path passed to them points to a directory instead of a file. \n",
    "\n",
    "To avoid this, you can either check that what you’re trying to delete is actually a file and only delete it if it is, or you can use exception handling to handle the OSError:"
   ]
  },
  {
   "cell_type": "code",
   "execution_count": null,
   "id": "94245a2b",
   "metadata": {},
   "outputs": [],
   "source": [
    "import os\n",
    "\n",
    "data_file = 'home/data.txt'\n",
    "\n",
    "# If the file exists, delete it\n",
    "if os.path.isfile(data_file):\n",
    "    os.remove(data_file)\n",
    "else:\n",
    "    print(f'Error: {data_file} not a valid filename')"
   ]
  },
  {
   "cell_type": "code",
   "execution_count": null,
   "id": "1d4db907",
   "metadata": {},
   "outputs": [],
   "source": [
    "import os\n",
    "\n",
    "data_file = 'home/data.txt'\n",
    "\n",
    "# Use exception handling\n",
    "try:\n",
    "    os.remove(data_file)\n",
    "except OSError as e:\n",
    "    print(f'Error: {data_file} : {e.strerror}')"
   ]
  },
  {
   "cell_type": "markdown",
   "id": "39c4b6cd",
   "metadata": {},
   "source": [
    "#### Deleting Entire Directory Trees\n",
    "\n",
    "To delete non-empty directories and entire directory trees, Python offers shutil.rmtree():\n"
   ]
  },
  {
   "cell_type": "code",
   "execution_count": null,
   "id": "34620a65",
   "metadata": {},
   "outputs": [],
   "source": [
    "import shutil\n",
    "\n",
    "trash_dir = 'my_documents/bad_dir'\n",
    "\n",
    "try:\n",
    "    shutil.rmtree(trash_dir)\n",
    "except OSError as e:\n",
    "    print(f'Error: {trash_dir} : {e.strerror}')"
   ]
  },
  {
   "cell_type": "markdown",
   "id": "f9c2f47d",
   "metadata": {
    "ExecuteTime": {
     "end_time": "2022-07-05T11:50:27.742862Z",
     "start_time": "2022-07-05T11:50:27.737759Z"
    }
   },
   "source": [
    "<img src=\"resources/delete_directories.PNG\">"
   ]
  },
  {
   "cell_type": "markdown",
   "id": "8a61fe4c",
   "metadata": {},
   "source": [
    "### Copying, Moving, and Renaming Files and Directories"
   ]
  },
  {
   "cell_type": "markdown",
   "id": "efa067e4",
   "metadata": {},
   "source": [
    "#### Copying Files in Python\n"
   ]
  },
  {
   "cell_type": "code",
   "execution_count": null,
   "id": "5d44e147",
   "metadata": {},
   "outputs": [],
   "source": [
    "import shutil\n",
    "\n",
    "src = 'path/to/file.txt'\n",
    "dst = 'path/to/dest_dir'\n",
    "shutil.copy(src, dst)"
   ]
  },
  {
   "cell_type": "markdown",
   "id": "2de85d0c",
   "metadata": {},
   "source": [
    "shutil.copy() is comparable to the cp command in UNIX based systems. \n",
    "\n",
    "shutil.copy(src, dst) will copy the file src to the location specified in dst. \n",
    "\n",
    "If dst is a file, the contents of that file are replaced with the contents of src. \n",
    "\n",
    "If dst is a directory, then src will be copied into that directory. \n",
    "\n",
    "**shutil.copy() only copies the file’s contents and the file’s permissions. Other metadata like the file’s creation and modification times are not preserved.**"
   ]
  },
  {
   "cell_type": "code",
   "execution_count": null,
   "id": "102af361",
   "metadata": {},
   "outputs": [],
   "source": [
    "import shutil\n",
    "\n",
    "src = 'path/to/file.txt'\n",
    "dst = 'path/to/dest_dir'\n",
    "shutil.copy2(src, dst)"
   ]
  },
  {
   "cell_type": "markdown",
   "id": "6a077679",
   "metadata": {},
   "source": [
    "#### Copying Directories\n"
   ]
  },
  {
   "cell_type": "code",
   "execution_count": null,
   "id": "a7f60dfa",
   "metadata": {},
   "outputs": [],
   "source": [
    "import shutil\n",
    "shutil.copytree('data_1', 'data1_backup')"
   ]
  },
  {
   "cell_type": "markdown",
   "id": "83ab07a5",
   "metadata": {},
   "source": [
    "In this example, .copytree() copies the contents of data_1 to a new location data1_backup and returns the destination directory. \n",
    "\n",
    "The destination directory must not already exist. It will be created as well as missing parent directories. shutil.copytree() is a good way to back up your files.\n",
    "\n"
   ]
  },
  {
   "cell_type": "markdown",
   "id": "51c92b7c",
   "metadata": {},
   "source": [
    "#### Moving Files and Directories\n",
    "\n",
    "src is the file or directory to be moved and dst is the destination:"
   ]
  },
  {
   "cell_type": "code",
   "execution_count": null,
   "id": "05fbb067",
   "metadata": {},
   "outputs": [],
   "source": [
    "import shutil\n",
    "shutil.move('dir_1/', 'backup/')"
   ]
  },
  {
   "cell_type": "markdown",
   "id": "39305106",
   "metadata": {},
   "source": [
    "**shutil.move('dir_1/', 'backup/') moves dir_1/ into backup/ if backup/ exists. If backup/ does not exist, dir_1/ will be renamed to backup.**\n",
    "\n"
   ]
  },
  {
   "cell_type": "markdown",
   "id": "f0a0afcd",
   "metadata": {},
   "source": [
    "#### Renaming Files and Directories\n"
   ]
  },
  {
   "cell_type": "code",
   "execution_count": 15,
   "id": "d7c37017",
   "metadata": {
    "ExecuteTime": {
     "end_time": "2022-07-05T11:55:08.456461Z",
     "start_time": "2022-07-05T11:55:08.430882Z"
    },
    "collapsed": true
   },
   "outputs": [
    {
     "ename": "FileNotFoundError",
     "evalue": "[WinError 2] The system cannot find the file specified: 'first.zip' -> 'first_01.zip'",
     "output_type": "error",
     "traceback": [
      "\u001b[1;31m---------------------------------------------------------------------------\u001b[0m",
      "\u001b[1;31mFileNotFoundError\u001b[0m                         Traceback (most recent call last)",
      "\u001b[1;32m~\\AppData\\Local\\Temp\\ipykernel_18528\\2149611852.py\u001b[0m in \u001b[0;36m<module>\u001b[1;34m\u001b[0m\n\u001b[1;32m----> 1\u001b[1;33m \u001b[0mos\u001b[0m\u001b[1;33m.\u001b[0m\u001b[0mrename\u001b[0m\u001b[1;33m(\u001b[0m\u001b[1;34m'first.zip'\u001b[0m\u001b[1;33m,\u001b[0m \u001b[1;34m'first_01.zip'\u001b[0m\u001b[1;33m)\u001b[0m\u001b[1;33m\u001b[0m\u001b[0m\n\u001b[0m",
      "\u001b[1;31mFileNotFoundError\u001b[0m: [WinError 2] The system cannot find the file specified: 'first.zip' -> 'first_01.zip'"
     ]
    }
   ],
   "source": [
    "os.rename('first.zip', 'first_01.zip')"
   ]
  },
  {
   "cell_type": "code",
   "execution_count": null,
   "id": "9b247394",
   "metadata": {},
   "outputs": [],
   "source": [
    "from pathlib import Path\n",
    "data_file = Path('data_01.txt')\n",
    "data_file.rename('data.txt')"
   ]
  }
 ],
 "metadata": {
  "kernelspec": {
   "display_name": "py_env",
   "language": "python",
   "name": "py_env"
  },
  "language_info": {
   "codemirror_mode": {
    "name": "ipython",
    "version": 3
   },
   "file_extension": ".py",
   "mimetype": "text/x-python",
   "name": "python",
   "nbconvert_exporter": "python",
   "pygments_lexer": "ipython3",
   "version": "3.6.13"
  },
  "toc": {
   "base_numbering": 1,
   "nav_menu": {},
   "number_sections": true,
   "sideBar": true,
   "skip_h1_title": false,
   "title_cell": "Table of Contents",
   "title_sidebar": "Contents",
   "toc_cell": false,
   "toc_position": {
    "height": "calc(100% - 180px)",
    "left": "10px",
    "top": "150px",
    "width": "348.263px"
   },
   "toc_section_display": true,
   "toc_window_display": true
  },
  "varInspector": {
   "cols": {
    "lenName": 16,
    "lenType": 16,
    "lenVar": 40
   },
   "kernels_config": {
    "python": {
     "delete_cmd_postfix": "",
     "delete_cmd_prefix": "del ",
     "library": "var_list.py",
     "varRefreshCmd": "print(var_dic_list())"
    },
    "r": {
     "delete_cmd_postfix": ") ",
     "delete_cmd_prefix": "rm(",
     "library": "var_list.r",
     "varRefreshCmd": "cat(var_dic_list()) "
    }
   },
   "types_to_exclude": [
    "module",
    "function",
    "builtin_function_or_method",
    "instance",
    "_Feature"
   ],
   "window_display": false
  }
 },
 "nbformat": 4,
 "nbformat_minor": 5
}
