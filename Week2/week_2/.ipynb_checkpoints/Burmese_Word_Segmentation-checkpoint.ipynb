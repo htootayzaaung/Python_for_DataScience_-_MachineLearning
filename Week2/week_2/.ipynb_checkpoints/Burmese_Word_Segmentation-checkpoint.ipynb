{
 "cells": [
  {
   "cell_type": "markdown",
   "metadata": {
    "id": "NEYrXZoPtr4g"
   },
   "source": [
    "# import dataset"
   ]
  },
  {
   "cell_type": "code",
   "execution_count": 2,
   "metadata": {
    "ExecuteTime": {
     "end_time": "2022-07-08T10:15:26.506047Z",
     "start_time": "2022-07-08T10:15:23.888651Z"
    }
   },
   "outputs": [
    {
     "ename": "ImportError",
     "evalue": "cannot import name 'text_data_cleaning' from 'data_cleaning' (/home/user/Documents/1.NLP_utils/utils_all/data_cleaning.py)",
     "output_type": "error",
     "traceback": [
      "\u001b[0;31m---------------------------------------------------------------------------\u001b[0m",
      "\u001b[0;31mImportError\u001b[0m                               Traceback (most recent call last)",
      "\u001b[0;32m/tmp/ipykernel_48950/3778421135.py\u001b[0m in \u001b[0;36m<module>\u001b[0;34m\u001b[0m\n\u001b[1;32m      4\u001b[0m \u001b[0;32mimport\u001b[0m \u001b[0mpandas\u001b[0m \u001b[0;32mas\u001b[0m \u001b[0mpd\u001b[0m\u001b[0;34m\u001b[0m\u001b[0;34m\u001b[0m\u001b[0m\n\u001b[1;32m      5\u001b[0m \u001b[0mpd\u001b[0m\u001b[0;34m.\u001b[0m\u001b[0mset_option\u001b[0m\u001b[0;34m(\u001b[0m\u001b[0;34m'max.colwidth'\u001b[0m\u001b[0;34m,\u001b[0m \u001b[0;36m0\u001b[0m\u001b[0;34m)\u001b[0m\u001b[0;34m\u001b[0m\u001b[0;34m\u001b[0m\u001b[0m\n\u001b[0;32m----> 6\u001b[0;31m \u001b[0;32mfrom\u001b[0m \u001b[0mdata_cleaning\u001b[0m \u001b[0;32mimport\u001b[0m \u001b[0mtext_data_cleaning\u001b[0m \u001b[0;32mas\u001b[0m \u001b[0mclean\u001b[0m\u001b[0;34m\u001b[0m\u001b[0;34m\u001b[0m\u001b[0m\n\u001b[0m\u001b[1;32m      7\u001b[0m \u001b[0mobj_clean\u001b[0m \u001b[0;34m=\u001b[0m \u001b[0mclean\u001b[0m\u001b[0;34m(\u001b[0m\u001b[0;34m)\u001b[0m\u001b[0;34m\u001b[0m\u001b[0;34m\u001b[0m\u001b[0m\n",
      "\u001b[0;31mImportError\u001b[0m: cannot import name 'text_data_cleaning' from 'data_cleaning' (/home/user/Documents/1.NLP_utils/utils_all/data_cleaning.py)"
     ]
    }
   ],
   "source": [
    "import re\n",
    "import sys\n",
    "sys.path.insert(1,'/home/user/Documents/1.NLP_utils/utils_all/')\n",
    "import pandas as pd\n",
    "pd.set_option('max.colwidth', 0)\n",
    "from data_cleaning import text_data_cleaning as clean\n",
    "obj_clean = clean()"
   ]
  },
  {
   "cell_type": "code",
   "execution_count": 2,
   "metadata": {
    "ExecuteTime": {
     "end_time": "2022-02-17T08:00:09.118690Z",
     "start_time": "2022-02-17T08:00:09.009427Z"
    }
   },
   "outputs": [
    {
     "name": "stdout",
     "output_type": "stream",
     "text": [
      "/home/ai-server/Documents/workspace_sa\r\n"
     ]
    }
   ],
   "source": [
    "!pwd"
   ]
  },
  {
   "cell_type": "code",
   "execution_count": 2,
   "metadata": {
    "ExecuteTime": {
     "end_time": "2022-05-19T07:31:19.991213Z",
     "start_time": "2022-05-19T07:31:19.909201Z"
    }
   },
   "outputs": [],
   "source": [
    "df_mt = pd.read_csv(\"dataset/translators_4_weeks_expand_data.csv\")\n",
    "df_wb = pd.read_csv('dataset/wb_data_from_asr.csv')"
   ]
  },
  {
   "cell_type": "code",
   "execution_count": 3,
   "metadata": {
    "ExecuteTime": {
     "end_time": "2022-05-19T07:31:21.923283Z",
     "start_time": "2022-05-19T07:31:21.916412Z"
    }
   },
   "outputs": [],
   "source": [
    "df_mm = pd.DataFrame({\n",
    "    'burmese': df_mt.burmese.to_list()+ df_wb['0'].to_list()\n",
    "})"
   ]
  },
  {
   "cell_type": "code",
   "execution_count": 4,
   "metadata": {
    "ExecuteTime": {
     "end_time": "2022-05-18T09:10:04.336361Z",
     "start_time": "2022-05-18T09:10:04.314902Z"
    }
   },
   "outputs": [
    {
     "data": {
      "text/html": [
       "<div>\n",
       "<style scoped>\n",
       "    .dataframe tbody tr th:only-of-type {\n",
       "        vertical-align: middle;\n",
       "    }\n",
       "\n",
       "    .dataframe tbody tr th {\n",
       "        vertical-align: top;\n",
       "    }\n",
       "\n",
       "    .dataframe thead th {\n",
       "        text-align: right;\n",
       "    }\n",
       "</style>\n",
       "<table border=\"1\" class=\"dataframe\">\n",
       "  <thead>\n",
       "    <tr style=\"text-align: right;\">\n",
       "      <th></th>\n",
       "      <th>burmese</th>\n",
       "    </tr>\n",
       "  </thead>\n",
       "  <tbody>\n",
       "    <tr>\n",
       "      <th>count</th>\n",
       "      <td>37932</td>\n",
       "    </tr>\n",
       "    <tr>\n",
       "      <th>unique</th>\n",
       "      <td>37921</td>\n",
       "    </tr>\n",
       "    <tr>\n",
       "      <th>top</th>\n",
       "      <td>မ ပျောက် ပါ ဘူး</td>\n",
       "    </tr>\n",
       "    <tr>\n",
       "      <th>freq</th>\n",
       "      <td>2</td>\n",
       "    </tr>\n",
       "  </tbody>\n",
       "</table>\n",
       "</div>"
      ],
      "text/plain": [
       "                burmese\n",
       "count   37932          \n",
       "unique  37921          \n",
       "top     မ ပျောက် ပါ ဘူး\n",
       "freq    2              "
      ]
     },
     "execution_count": 4,
     "metadata": {},
     "output_type": "execute_result"
    }
   ],
   "source": [
    "df_mm.describe()"
   ]
  },
  {
   "cell_type": "code",
   "execution_count": 35,
   "metadata": {
    "ExecuteTime": {
     "end_time": "2022-05-17T08:00:54.189251Z",
     "start_time": "2022-05-17T08:00:54.171804Z"
    }
   },
   "outputs": [
    {
     "data": {
      "text/html": [
       "<div>\n",
       "<style scoped>\n",
       "    .dataframe tbody tr th:only-of-type {\n",
       "        vertical-align: middle;\n",
       "    }\n",
       "\n",
       "    .dataframe tbody tr th {\n",
       "        vertical-align: top;\n",
       "    }\n",
       "\n",
       "    .dataframe thead th {\n",
       "        text-align: right;\n",
       "    }\n",
       "</style>\n",
       "<table border=\"1\" class=\"dataframe\">\n",
       "  <thead>\n",
       "    <tr style=\"text-align: right;\">\n",
       "      <th></th>\n",
       "      <th>burmese</th>\n",
       "      <th>type</th>\n",
       "    </tr>\n",
       "  </thead>\n",
       "  <tbody>\n",
       "  </tbody>\n",
       "</table>\n",
       "</div>"
      ],
      "text/plain": [
       "Empty DataFrame\n",
       "Columns: [burmese, type]\n",
       "Index: []"
      ]
     },
     "execution_count": 35,
     "metadata": {},
     "output_type": "execute_result"
    }
   ],
   "source": [
    "df_mm[df_mm.burmese.str.contains('//')]"
   ]
  },
  {
   "cell_type": "code",
   "execution_count": 4,
   "metadata": {
    "ExecuteTime": {
     "end_time": "2022-05-19T07:31:25.740873Z",
     "start_time": "2022-05-19T07:31:25.712091Z"
    }
   },
   "outputs": [],
   "source": [
    "df_mm.drop_duplicates(subset='burmese',inplace=True)"
   ]
  },
  {
   "cell_type": "code",
   "execution_count": 5,
   "metadata": {
    "ExecuteTime": {
     "end_time": "2022-05-19T07:31:26.611675Z",
     "start_time": "2022-05-19T07:31:26.605927Z"
    }
   },
   "outputs": [],
   "source": [
    "df_mm['type'] = 'old_wb_data'"
   ]
  },
  {
   "cell_type": "code",
   "execution_count": null,
   "metadata": {},
   "outputs": [],
   "source": [
    "# total_sent = []\n",
    "# with open('dataset/MT-Phase-I-TrainingDataset_Round2_Spell Checked.txt','r',encoding='utf-16') as file:\n",
    "#     for sent in file:\n",
    "#         total_sent.append(sent.replace('\\n',''))\n",
    "# file.close()"
   ]
  },
  {
   "cell_type": "code",
   "execution_count": 6,
   "metadata": {
    "ExecuteTime": {
     "end_time": "2022-05-19T07:31:28.318971Z",
     "start_time": "2022-05-19T07:31:28.279980Z"
    }
   },
   "outputs": [
    {
     "name": "stderr",
     "output_type": "stream",
     "text": [
      "/home/ai-server/anaconda3/envs/mt_tf_2/lib/python3.7/site-packages/IPython/core/interactiveshell.py:3457: FutureWarning: The error_bad_lines argument has been deprecated and will be removed in a future version.\n",
      "\n",
      "\n",
      "  exec(code_obj, self.user_global_ns, self.user_ns)\n",
      "b'Skipping line 280: expected 1 fields, saw 2\\nSkipping line 582: expected 1 fields, saw 2\\nSkipping line 584: expected 1 fields, saw 2\\nSkipping line 13118: expected 1 fields, saw 2\\n'\n"
     ]
    }
   ],
   "source": [
    "df_mt_2 = pd.read_csv('dataset/MT-Phase-I-TrainingDataset_Round2_Spell Checked.txt',encoding='utf-16',error_bad_lines=False)"
   ]
  },
  {
   "cell_type": "code",
   "execution_count": 7,
   "metadata": {
    "ExecuteTime": {
     "end_time": "2022-05-19T07:31:30.606919Z",
     "start_time": "2022-05-19T07:31:30.599795Z"
    }
   },
   "outputs": [],
   "source": [
    "df_mt_2.rename(columns={'Output_Data_MT_PhaseI_Training_DataSet_Round2':'burmese'},inplace=True)"
   ]
  },
  {
   "cell_type": "code",
   "execution_count": 8,
   "metadata": {
    "ExecuteTime": {
     "end_time": "2022-05-19T07:31:30.932012Z",
     "start_time": "2022-05-19T07:31:30.925540Z"
    }
   },
   "outputs": [],
   "source": [
    "df_mt_2['type'] ='mt_phase_1'"
   ]
  },
  {
   "cell_type": "markdown",
   "metadata": {},
   "source": [
    "## import ASR google sheet data"
   ]
  },
  {
   "cell_type": "code",
   "execution_count": 9,
   "metadata": {
    "ExecuteTime": {
     "end_time": "2022-05-19T07:31:33.933465Z",
     "start_time": "2022-05-19T07:31:33.820078Z"
    }
   },
   "outputs": [],
   "source": [
    "import pygsheets\n",
    "import pandas as pd\n",
    "def read_and_concat_google_sheets_asr(sheet_name):\n",
    "    client = pygsheets.authorize(\n",
    "    service_account_file=\"waddy-mt-a84e0aedee40.json\")\n",
    "    sheet_keywords = client.open(sheet_name)\n",
    "    sheet_name = []\n",
    "    for sheet in sheet_keywords.worksheets():\n",
    "        sheet = str(sheet)\n",
    "        sheet_name.append(sheet.split(\"'\")[1])\n",
    "        \n",
    "    all_df = []\n",
    "    for file in sheet_name:\n",
    "        df = sheet_keywords.worksheet_by_title(file).get_as_df(has_header=False)\n",
    "        df['type'] = file\n",
    "        all_df.append(df)\n",
    "    df_total = pd.concat(all_df)\n",
    "    return df_total"
   ]
  },
  {
   "cell_type": "code",
   "execution_count": 10,
   "metadata": {
    "ExecuteTime": {
     "end_time": "2022-05-19T07:31:41.775974Z",
     "start_time": "2022-05-19T07:31:35.870830Z"
    }
   },
   "outputs": [],
   "source": [
    "df_wb_asr = read_and_concat_google_sheets_asr(\"segmented_data\")"
   ]
  },
  {
   "cell_type": "code",
   "execution_count": 11,
   "metadata": {
    "ExecuteTime": {
     "end_time": "2022-05-19T07:31:53.622551Z",
     "start_time": "2022-05-19T07:31:41.788056Z"
    }
   },
   "outputs": [],
   "source": [
    "df_wb_asr_2 = read_and_concat_google_sheets_asr(\"word_segmented_data_ma_thida_soe\")"
   ]
  },
  {
   "cell_type": "code",
   "execution_count": 12,
   "metadata": {
    "ExecuteTime": {
     "end_time": "2022-05-19T07:31:56.136728Z",
     "start_time": "2022-05-19T07:31:56.126495Z"
    }
   },
   "outputs": [
    {
     "data": {
      "text/plain": [
       "r1_kw1_week2_s1s2            2721\n",
       "r0_greeting(25Apr_Mon)       2248\n",
       "r1_kw1_week1_source2         1626\n",
       "r1_kw1_week1_source1         1034\n",
       "r0_conv_sample(25Apr_Mon)    242 \n",
       "Name: type, dtype: int64"
      ]
     },
     "execution_count": 12,
     "metadata": {},
     "output_type": "execute_result"
    }
   ],
   "source": [
    "df_wb_asr.type.value_counts()"
   ]
  },
  {
   "cell_type": "code",
   "execution_count": 13,
   "metadata": {
    "ExecuteTime": {
     "end_time": "2022-05-19T07:31:58.616258Z",
     "start_time": "2022-05-19T07:31:58.609349Z"
    }
   },
   "outputs": [],
   "source": [
    "df_wb_asr_2 = df_wb_asr_2[[0,'type']]"
   ]
  },
  {
   "cell_type": "code",
   "execution_count": 14,
   "metadata": {
    "ExecuteTime": {
     "end_time": "2022-05-19T07:32:02.643197Z",
     "start_time": "2022-05-19T07:32:02.633238Z"
    }
   },
   "outputs": [],
   "source": [
    "df_wb_asr_total = pd.concat([df_wb_asr, df_wb_asr_2])"
   ]
  },
  {
   "cell_type": "code",
   "execution_count": null,
   "metadata": {},
   "outputs": [],
   "source": []
  },
  {
   "cell_type": "code",
   "execution_count": null,
   "metadata": {},
   "outputs": [],
   "source": []
  },
  {
   "cell_type": "code",
   "execution_count": 15,
   "metadata": {
    "ExecuteTime": {
     "end_time": "2022-05-19T07:32:05.074697Z",
     "start_time": "2022-05-19T07:32:05.069095Z"
    }
   },
   "outputs": [],
   "source": [
    "df_wb_asr_total.rename(columns={0:'burmese'},inplace=True)"
   ]
  },
  {
   "cell_type": "code",
   "execution_count": 16,
   "metadata": {
    "ExecuteTime": {
     "end_time": "2022-05-19T07:32:06.750933Z",
     "start_time": "2022-05-19T07:32:06.730646Z"
    }
   },
   "outputs": [
    {
     "data": {
      "text/html": [
       "<div>\n",
       "<style scoped>\n",
       "    .dataframe tbody tr th:only-of-type {\n",
       "        vertical-align: middle;\n",
       "    }\n",
       "\n",
       "    .dataframe tbody tr th {\n",
       "        vertical-align: top;\n",
       "    }\n",
       "\n",
       "    .dataframe thead th {\n",
       "        text-align: right;\n",
       "    }\n",
       "</style>\n",
       "<table border=\"1\" class=\"dataframe\">\n",
       "  <thead>\n",
       "    <tr style=\"text-align: right;\">\n",
       "      <th></th>\n",
       "      <th>burmese</th>\n",
       "      <th>type</th>\n",
       "    </tr>\n",
       "  </thead>\n",
       "  <tbody>\n",
       "    <tr>\n",
       "      <th>count</th>\n",
       "      <td>36678</td>\n",
       "      <td>36678</td>\n",
       "    </tr>\n",
       "    <tr>\n",
       "      <th>unique</th>\n",
       "      <td>32660</td>\n",
       "      <td>19</td>\n",
       "    </tr>\n",
       "    <tr>\n",
       "      <th>top</th>\n",
       "      <td>မင်္ဂလာ ပါ</td>\n",
       "      <td>r4_Feb_14_2022_kw_update_946</td>\n",
       "    </tr>\n",
       "    <tr>\n",
       "      <th>freq</th>\n",
       "      <td>14</td>\n",
       "      <td>3992</td>\n",
       "    </tr>\n",
       "  </tbody>\n",
       "</table>\n",
       "</div>"
      ],
      "text/plain": [
       "           burmese                          type\n",
       "count   36678       36678                       \n",
       "unique  32660       19                          \n",
       "top     မင်္ဂလာ ပါ  r4_Feb_14_2022_kw_update_946\n",
       "freq    14          3992                        "
      ]
     },
     "execution_count": 16,
     "metadata": {},
     "output_type": "execute_result"
    }
   ],
   "source": [
    "df_wb_asr_total.describe()"
   ]
  },
  {
   "cell_type": "code",
   "execution_count": 17,
   "metadata": {
    "ExecuteTime": {
     "end_time": "2022-05-19T07:32:12.310450Z",
     "start_time": "2022-05-19T07:32:12.299813Z"
    }
   },
   "outputs": [],
   "source": [
    "df_wb_total = pd.concat([df_mt_2, df_mm, df_wb_asr_total])"
   ]
  },
  {
   "cell_type": "code",
   "execution_count": 18,
   "metadata": {
    "ExecuteTime": {
     "end_time": "2022-05-19T07:32:12.936158Z",
     "start_time": "2022-05-19T07:32:12.893841Z"
    }
   },
   "outputs": [
    {
     "data": {
      "text/html": [
       "<div>\n",
       "<style scoped>\n",
       "    .dataframe tbody tr th:only-of-type {\n",
       "        vertical-align: middle;\n",
       "    }\n",
       "\n",
       "    .dataframe tbody tr th {\n",
       "        vertical-align: top;\n",
       "    }\n",
       "\n",
       "    .dataframe thead th {\n",
       "        text-align: right;\n",
       "    }\n",
       "</style>\n",
       "<table border=\"1\" class=\"dataframe\">\n",
       "  <thead>\n",
       "    <tr style=\"text-align: right;\">\n",
       "      <th></th>\n",
       "      <th>burmese</th>\n",
       "      <th>type</th>\n",
       "    </tr>\n",
       "  </thead>\n",
       "  <tbody>\n",
       "    <tr>\n",
       "      <th>count</th>\n",
       "      <td>93476</td>\n",
       "      <td>93476</td>\n",
       "    </tr>\n",
       "    <tr>\n",
       "      <th>unique</th>\n",
       "      <td>70261</td>\n",
       "      <td>21</td>\n",
       "    </tr>\n",
       "    <tr>\n",
       "      <th>top</th>\n",
       "      <td>ကျေးဇူးတင် ပါ တယ်</td>\n",
       "      <td>old_wb_data</td>\n",
       "    </tr>\n",
       "    <tr>\n",
       "      <th>freq</th>\n",
       "      <td>17</td>\n",
       "      <td>37921</td>\n",
       "    </tr>\n",
       "  </tbody>\n",
       "</table>\n",
       "</div>"
      ],
      "text/plain": [
       "                  burmese         type\n",
       "count   93476              93476      \n",
       "unique  70261              21         \n",
       "top     ကျေးဇူးတင် ပါ တယ်  old_wb_data\n",
       "freq    17                 37921      "
      ]
     },
     "execution_count": 18,
     "metadata": {},
     "output_type": "execute_result"
    }
   ],
   "source": [
    "df_wb_total.describe()"
   ]
  },
  {
   "cell_type": "code",
   "execution_count": 19,
   "metadata": {
    "ExecuteTime": {
     "end_time": "2022-05-19T07:32:15.634812Z",
     "start_time": "2022-05-19T07:32:15.617291Z"
    }
   },
   "outputs": [],
   "source": [
    "df_wb_total.dropna(subset=['burmese'],inplace=True)"
   ]
  },
  {
   "cell_type": "code",
   "execution_count": 20,
   "metadata": {
    "ExecuteTime": {
     "end_time": "2022-05-19T07:32:16.380197Z",
     "start_time": "2022-05-19T07:32:16.338570Z"
    }
   },
   "outputs": [],
   "source": [
    "df_wb_total.drop_duplicates(subset='burmese',inplace=True)"
   ]
  },
  {
   "cell_type": "code",
   "execution_count": 21,
   "metadata": {
    "ExecuteTime": {
     "end_time": "2022-05-19T07:32:16.934578Z",
     "start_time": "2022-05-19T07:32:16.906851Z"
    }
   },
   "outputs": [
    {
     "data": {
      "text/html": [
       "<div>\n",
       "<style scoped>\n",
       "    .dataframe tbody tr th:only-of-type {\n",
       "        vertical-align: middle;\n",
       "    }\n",
       "\n",
       "    .dataframe tbody tr th {\n",
       "        vertical-align: top;\n",
       "    }\n",
       "\n",
       "    .dataframe thead th {\n",
       "        text-align: right;\n",
       "    }\n",
       "</style>\n",
       "<table border=\"1\" class=\"dataframe\">\n",
       "  <thead>\n",
       "    <tr style=\"text-align: right;\">\n",
       "      <th></th>\n",
       "      <th>burmese</th>\n",
       "      <th>type</th>\n",
       "    </tr>\n",
       "  </thead>\n",
       "  <tbody>\n",
       "    <tr>\n",
       "      <th>count</th>\n",
       "      <td>70261</td>\n",
       "      <td>70261</td>\n",
       "    </tr>\n",
       "    <tr>\n",
       "      <th>unique</th>\n",
       "      <td>70261</td>\n",
       "      <td>15</td>\n",
       "    </tr>\n",
       "    <tr>\n",
       "      <th>top</th>\n",
       "      <td>Covid ဖြစ် ပြီး ၁၀ လ တောင် ကြာ ပြီ // ခု ထိ မော၊ ချွဲထ၊ ရင်ဘတ် အောင့်၊ Jaw pain ဖြစ် နေ သေး တယ်။</td>\n",
       "      <td>old_wb_data</td>\n",
       "    </tr>\n",
       "    <tr>\n",
       "      <th>freq</th>\n",
       "      <td>1</td>\n",
       "      <td>33881</td>\n",
       "    </tr>\n",
       "  </tbody>\n",
       "</table>\n",
       "</div>"
      ],
      "text/plain": [
       "                                                                                                 burmese  \\\n",
       "count   70261                                                                                              \n",
       "unique  70261                                                                                              \n",
       "top     Covid ဖြစ် ပြီး ၁၀ လ တောင် ကြာ ပြီ // ခု ထိ မော၊ ချွဲထ၊ ရင်ဘတ် အောင့်၊ Jaw pain ဖြစ် နေ သေး တယ်။   \n",
       "freq    1                                                                                                  \n",
       "\n",
       "               type  \n",
       "count   70261        \n",
       "unique  15           \n",
       "top     old_wb_data  \n",
       "freq    33881        "
      ]
     },
     "execution_count": 21,
     "metadata": {},
     "output_type": "execute_result"
    }
   ],
   "source": [
    "df_wb_total.describe()"
   ]
  },
  {
   "cell_type": "code",
   "execution_count": 40,
   "metadata": {
    "ExecuteTime": {
     "end_time": "2022-05-17T08:21:27.104307Z",
     "start_time": "2022-05-17T08:21:27.099488Z"
    }
   },
   "outputs": [],
   "source": [
    "#df_wb_total[df_wb_total.burmese.str.contains('//',na=False)]"
   ]
  },
  {
   "cell_type": "code",
   "execution_count": 47,
   "metadata": {
    "ExecuteTime": {
     "end_time": "2022-05-17T08:24:37.343499Z",
     "start_time": "2022-05-17T08:24:37.327948Z"
    }
   },
   "outputs": [],
   "source": [
    "# use this to change all columns values to string type\n",
    "#df_wb_total['burmese']=df_wb_total['burmese'].apply(str)"
   ]
  },
  {
   "cell_type": "code",
   "execution_count": 22,
   "metadata": {
    "ExecuteTime": {
     "end_time": "2022-05-19T07:32:23.253020Z",
     "start_time": "2022-05-19T07:32:21.347576Z"
    }
   },
   "outputs": [],
   "source": [
    "df_wb_total['syl_txt'] = obj_clean.obj_clean.syllable_break_list(df_wb_total.burmese.tolist())"
   ]
  },
  {
   "cell_type": "code",
   "execution_count": 23,
   "metadata": {
    "ExecuteTime": {
     "end_time": "2022-05-19T07:32:23.325326Z",
     "start_time": "2022-05-19T07:32:23.268317Z"
    }
   },
   "outputs": [],
   "source": [
    "df_wb_total['sent_len'] = [len(sent.split()) for sent in df_wb_total.syl_txt]"
   ]
  },
  {
   "cell_type": "code",
   "execution_count": 24,
   "metadata": {
    "ExecuteTime": {
     "end_time": "2022-05-19T07:32:23.349682Z",
     "start_time": "2022-05-19T07:32:23.341201Z"
    }
   },
   "outputs": [],
   "source": [
    "df_wb_final = df_wb_total[df_wb_total.sent_len>2]"
   ]
  },
  {
   "cell_type": "code",
   "execution_count": 25,
   "metadata": {
    "ExecuteTime": {
     "end_time": "2022-05-19T07:32:23.937720Z",
     "start_time": "2022-05-19T07:32:23.928704Z"
    }
   },
   "outputs": [
    {
     "data": {
      "text/plain": [
       "248"
      ]
     },
     "execution_count": 25,
     "metadata": {},
     "output_type": "execute_result"
    }
   ],
   "source": [
    "max(df_wb_total.sent_len)"
   ]
  },
  {
   "cell_type": "code",
   "execution_count": 27,
   "metadata": {
    "ExecuteTime": {
     "end_time": "2022-05-18T09:11:45.825137Z",
     "start_time": "2022-05-18T09:11:45.819850Z"
    }
   },
   "outputs": [],
   "source": [
    "#df_wb_total[df_wb_total.sent_len>100]"
   ]
  },
  {
   "cell_type": "code",
   "execution_count": 26,
   "metadata": {
    "ExecuteTime": {
     "end_time": "2022-05-19T07:32:26.950945Z",
     "start_time": "2022-05-19T07:32:26.942039Z"
    }
   },
   "outputs": [
    {
     "name": "stderr",
     "output_type": "stream",
     "text": [
      "/home/ai-server/anaconda3/envs/mt_tf_2/lib/python3.7/site-packages/pandas/core/frame.py:4913: SettingWithCopyWarning: \n",
      "A value is trying to be set on a copy of a slice from a DataFrame\n",
      "\n",
      "See the caveats in the documentation: https://pandas.pydata.org/pandas-docs/stable/user_guide/indexing.html#returning-a-view-versus-a-copy\n",
      "  errors=errors,\n"
     ]
    }
   ],
   "source": [
    "df_wb_final.drop(columns='sent_len',inplace=True)"
   ]
  },
  {
   "cell_type": "code",
   "execution_count": 27,
   "metadata": {
    "ExecuteTime": {
     "end_time": "2022-05-19T07:32:27.367933Z",
     "start_time": "2022-05-19T07:32:27.305302Z"
    }
   },
   "outputs": [
    {
     "data": {
      "text/html": [
       "<div>\n",
       "<style scoped>\n",
       "    .dataframe tbody tr th:only-of-type {\n",
       "        vertical-align: middle;\n",
       "    }\n",
       "\n",
       "    .dataframe tbody tr th {\n",
       "        vertical-align: top;\n",
       "    }\n",
       "\n",
       "    .dataframe thead th {\n",
       "        text-align: right;\n",
       "    }\n",
       "</style>\n",
       "<table border=\"1\" class=\"dataframe\">\n",
       "  <thead>\n",
       "    <tr style=\"text-align: right;\">\n",
       "      <th></th>\n",
       "      <th>burmese</th>\n",
       "      <th>type</th>\n",
       "      <th>syl_txt</th>\n",
       "    </tr>\n",
       "  </thead>\n",
       "  <tbody>\n",
       "    <tr>\n",
       "      <th>count</th>\n",
       "      <td>70137</td>\n",
       "      <td>70137</td>\n",
       "      <td>70137</td>\n",
       "    </tr>\n",
       "    <tr>\n",
       "      <th>unique</th>\n",
       "      <td>70137</td>\n",
       "      <td>15</td>\n",
       "      <td>67957</td>\n",
       "    </tr>\n",
       "    <tr>\n",
       "      <th>top</th>\n",
       "      <td>Covid ဖြစ် ပြီး ၁၀ လ တောင် ကြာ ပြီ // ခု ထိ မော၊ ချွဲထ၊ ရင်ဘတ် အောင့်၊ Jaw pain ဖြစ် နေ သေး တယ်။</td>\n",
       "      <td>old_wb_data</td>\n",
       "      <td>ဘယ် လို လုပ် ရ မ လဲ</td>\n",
       "    </tr>\n",
       "    <tr>\n",
       "      <th>freq</th>\n",
       "      <td>1</td>\n",
       "      <td>33833</td>\n",
       "      <td>4</td>\n",
       "    </tr>\n",
       "  </tbody>\n",
       "</table>\n",
       "</div>"
      ],
      "text/plain": [
       "                                                                                                 burmese  \\\n",
       "count   70137                                                                                              \n",
       "unique  70137                                                                                              \n",
       "top     Covid ဖြစ် ပြီး ၁၀ လ တောင် ကြာ ပြီ // ခု ထိ မော၊ ချွဲထ၊ ရင်ဘတ် အောင့်၊ Jaw pain ဖြစ် နေ သေး တယ်။   \n",
       "freq    1                                                                                                  \n",
       "\n",
       "               type              syl_txt  \n",
       "count   70137        70137                \n",
       "unique  15           67957                \n",
       "top     old_wb_data  ဘယ် လို လုပ် ရ မ လဲ  \n",
       "freq    33833        4                    "
      ]
     },
     "execution_count": 27,
     "metadata": {},
     "output_type": "execute_result"
    }
   ],
   "source": [
    "df_wb_final.describe()"
   ]
  },
  {
   "cell_type": "code",
   "execution_count": null,
   "metadata": {},
   "outputs": [],
   "source": []
  },
  {
   "cell_type": "code",
   "execution_count": 28,
   "metadata": {
    "ExecuteTime": {
     "end_time": "2022-05-19T07:32:30.477488Z",
     "start_time": "2022-05-19T07:32:30.434409Z"
    }
   },
   "outputs": [
    {
     "name": "stderr",
     "output_type": "stream",
     "text": [
      "/home/ai-server/anaconda3/envs/mt_tf_2/lib/python3.7/site-packages/pandas/util/_decorators.py:311: SettingWithCopyWarning: \n",
      "A value is trying to be set on a copy of a slice from a DataFrame\n",
      "\n",
      "See the caveats in the documentation: https://pandas.pydata.org/pandas-docs/stable/user_guide/indexing.html#returning-a-view-versus-a-copy\n",
      "  return func(*args, **kwargs)\n"
     ]
    }
   ],
   "source": [
    "df_wb_final.drop_duplicates(subset='syl_txt',inplace=True)"
   ]
  },
  {
   "cell_type": "markdown",
   "metadata": {},
   "source": [
    "# wb labelling"
   ]
  },
  {
   "cell_type": "code",
   "execution_count": 29,
   "metadata": {
    "ExecuteTime": {
     "end_time": "2022-05-19T07:33:15.053250Z",
     "start_time": "2022-05-19T07:33:15.045422Z"
    }
   },
   "outputs": [
    {
     "data": {
      "text/html": [
       "<div>\n",
       "<style scoped>\n",
       "    .dataframe tbody tr th:only-of-type {\n",
       "        vertical-align: middle;\n",
       "    }\n",
       "\n",
       "    .dataframe tbody tr th {\n",
       "        vertical-align: top;\n",
       "    }\n",
       "\n",
       "    .dataframe thead th {\n",
       "        text-align: right;\n",
       "    }\n",
       "</style>\n",
       "<table border=\"1\" class=\"dataframe\">\n",
       "  <thead>\n",
       "    <tr style=\"text-align: right;\">\n",
       "      <th></th>\n",
       "      <th>burmese</th>\n",
       "      <th>type</th>\n",
       "      <th>syl_txt</th>\n",
       "    </tr>\n",
       "  </thead>\n",
       "  <tbody>\n",
       "    <tr>\n",
       "      <th>0</th>\n",
       "      <td>Covid ဖြစ် ပြီး ၁၀ လ တောင် ကြာ ပြီ // ခု ထိ မော၊ ချွဲထ၊ ရင်ဘတ် အောင့်၊ Jaw pain ဖြစ် နေ သေး တယ်။</td>\n",
       "      <td>mt_phase_1</td>\n",
       "      <td>Covid ဖြစ် ပြီး ၁၀ လ တောင် ကြာ ပြီ // ခု ထိ မော ၊ ချွဲ ထ ၊ ရင် ဘတ် အောင့် ၊ Jaw pain ဖြစ် နေ သေး တယ် ။</td>\n",
       "    </tr>\n",
       "    <tr>\n",
       "      <th>1</th>\n",
       "      <td>Immune system ဟာ သားသား မီးမီး လေး တွေ ကို ပြင်ပ မှာ ရှိ တဲ့ Bacteria၊ Virus နဲ့ parasite တွေ ကြောင့် ဖြစ် နိုင် တဲ့ ရောဂါ တွေ က နေ ကာကွယ် တိုက်ထုတ် ပေး နိုင် ပါ တယ်။</td>\n",
       "      <td>mt_phase_1</td>\n",
       "      <td>Immune system ဟာ သား သား မီး မီး လေး တွေ ကို ပြင် ပ မှာ ရှိ တဲ့ Bacteria ၊ Virus နဲ့ parasite တွေ ကြောင့် ဖြစ် နိုင် တဲ့ ရော ဂါ တွေ က နေ ကာ ကွယ် တိုက် ထုတ် ပေး နိုင် ပါ တယ် ။</td>\n",
       "    </tr>\n",
       "  </tbody>\n",
       "</table>\n",
       "</div>"
      ],
      "text/plain": [
       "                                                                                                                                                                  burmese  \\\n",
       "0  Covid ဖြစ် ပြီး ၁၀ လ တောင် ကြာ ပြီ // ခု ထိ မော၊ ချွဲထ၊ ရင်ဘတ် အောင့်၊ Jaw pain ဖြစ် နေ သေး တယ်။                                                                         \n",
       "1  Immune system ဟာ သားသား မီးမီး လေး တွေ ကို ပြင်ပ မှာ ရှိ တဲ့ Bacteria၊ Virus နဲ့ parasite တွေ ကြောင့် ဖြစ် နိုင် တဲ့ ရောဂါ တွေ က နေ ကာကွယ် တိုက်ထုတ် ပေး နိုင် ပါ တယ်။   \n",
       "\n",
       "         type  \\\n",
       "0  mt_phase_1   \n",
       "1  mt_phase_1   \n",
       "\n",
       "                                                                                                                                                                          syl_txt  \n",
       "0  Covid ဖြစ် ပြီး ၁၀ လ တောင် ကြာ ပြီ // ခု ထိ မော ၊ ချွဲ ထ ၊ ရင် ဘတ် အောင့် ၊ Jaw pain ဖြစ် နေ သေး တယ် ။                                                                          \n",
       "1  Immune system ဟာ သား သား မီး မီး လေး တွေ ကို ပြင် ပ မှာ ရှိ တဲ့ Bacteria ၊ Virus နဲ့ parasite တွေ ကြောင့် ဖြစ် နိုင် တဲ့ ရော ဂါ တွေ က နေ ကာ ကွယ် တိုက် ထုတ် ပေး နိုင် ပါ တယ် ။  "
      ]
     },
     "execution_count": 29,
     "metadata": {},
     "output_type": "execute_result"
    }
   ],
   "source": [
    "df_wb_final.head(2)"
   ]
  },
  {
   "cell_type": "code",
   "execution_count": 30,
   "metadata": {
    "ExecuteTime": {
     "end_time": "2022-05-19T07:33:16.888650Z",
     "start_time": "2022-05-19T07:33:16.882861Z"
    }
   },
   "outputs": [],
   "source": [
    "def wb_labelling(message):\n",
    "    final_message = []\n",
    "    for word in message.split():\n",
    "        syllable_message = obj_clean.obj_clean.syllable_break_both(word)\n",
    "        for idx,syl in enumerate(syllable_message):\n",
    "            if idx == len(syllable_message) -1:\n",
    "                final_message.append(\"1\")\n",
    "            else:\n",
    "                final_message.append(\"2\")\n",
    "    final_message = [\"2\" if idx == len(final_message)-1 else sent for idx, sent in enumerate(final_message)]\n",
    "    return \" \".join(final_message) "
   ]
  },
  {
   "cell_type": "code",
   "execution_count": 96,
   "metadata": {
    "ExecuteTime": {
     "end_time": "2022-05-17T08:44:44.247200Z",
     "start_time": "2022-05-17T08:44:44.215609Z"
    }
   },
   "outputs": [
    {
     "data": {
      "text/html": [
       "<div>\n",
       "<style scoped>\n",
       "    .dataframe tbody tr th:only-of-type {\n",
       "        vertical-align: middle;\n",
       "    }\n",
       "\n",
       "    .dataframe tbody tr th {\n",
       "        vertical-align: top;\n",
       "    }\n",
       "\n",
       "    .dataframe thead th {\n",
       "        text-align: right;\n",
       "    }\n",
       "</style>\n",
       "<table border=\"1\" class=\"dataframe\">\n",
       "  <thead>\n",
       "    <tr style=\"text-align: right;\">\n",
       "      <th></th>\n",
       "      <th>burmese</th>\n",
       "      <th>type</th>\n",
       "      <th>syl_txt</th>\n",
       "      <th>label</th>\n",
       "      <th>syl_len</th>\n",
       "      <th>label_len</th>\n",
       "    </tr>\n",
       "  </thead>\n",
       "  <tbody>\n",
       "  </tbody>\n",
       "</table>\n",
       "</div>"
      ],
      "text/plain": [
       "Empty DataFrame\n",
       "Columns: [burmese, type, syl_txt, label, syl_len, label_len]\n",
       "Index: []"
      ]
     },
     "execution_count": 96,
     "metadata": {},
     "output_type": "execute_result"
    }
   ],
   "source": [
    "df_wb_final[df_wb_final.burmese.str.contains(\"'\")]"
   ]
  },
  {
   "cell_type": "code",
   "execution_count": 124,
   "metadata": {
    "ExecuteTime": {
     "end_time": "2022-05-17T08:54:17.238809Z",
     "start_time": "2022-05-17T08:54:17.233993Z"
    }
   },
   "outputs": [],
   "source": [
    "# df_wb_final['burmese'] = df_wb_final.burmese.str.replace(\"'\",\"\")\n",
    "# df_wb_final['burmese'] = df_wb_final.burmese.str.replace(' ,',',')\n",
    "#df_wb_final['burmese'] = df_wb_final.burmese.str.replace(' ။','။')"
   ]
  },
  {
   "cell_type": "code",
   "execution_count": 31,
   "metadata": {
    "ExecuteTime": {
     "end_time": "2022-05-19T07:33:23.367194Z",
     "start_time": "2022-05-19T07:33:20.153520Z"
    }
   },
   "outputs": [
    {
     "name": "stderr",
     "output_type": "stream",
     "text": [
      "/home/ai-server/anaconda3/envs/mt_tf_2/lib/python3.7/site-packages/ipykernel_launcher.py:1: SettingWithCopyWarning: \n",
      "A value is trying to be set on a copy of a slice from a DataFrame.\n",
      "Try using .loc[row_indexer,col_indexer] = value instead\n",
      "\n",
      "See the caveats in the documentation: https://pandas.pydata.org/pandas-docs/stable/user_guide/indexing.html#returning-a-view-versus-a-copy\n",
      "  \"\"\"Entry point for launching an IPython kernel.\n"
     ]
    }
   ],
   "source": [
    "df_wb_final['label'] = df_wb_final.burmese.apply(lambda x: wb_labelling(x))"
   ]
  },
  {
   "cell_type": "code",
   "execution_count": 32,
   "metadata": {
    "ExecuteTime": {
     "end_time": "2022-05-19T07:33:25.298252Z",
     "start_time": "2022-05-19T07:33:23.384393Z"
    }
   },
   "outputs": [
    {
     "name": "stderr",
     "output_type": "stream",
     "text": [
      "/home/ai-server/anaconda3/envs/mt_tf_2/lib/python3.7/site-packages/ipykernel_launcher.py:1: SettingWithCopyWarning: \n",
      "A value is trying to be set on a copy of a slice from a DataFrame.\n",
      "Try using .loc[row_indexer,col_indexer] = value instead\n",
      "\n",
      "See the caveats in the documentation: https://pandas.pydata.org/pandas-docs/stable/user_guide/indexing.html#returning-a-view-versus-a-copy\n",
      "  \"\"\"Entry point for launching an IPython kernel.\n"
     ]
    }
   ],
   "source": [
    "df_wb_final['syl_txt'] = obj_clean.obj_clean.syllable_break_list(df_wb_final.burmese.tolist())"
   ]
  },
  {
   "cell_type": "code",
   "execution_count": 33,
   "metadata": {
    "ExecuteTime": {
     "end_time": "2022-05-19T07:33:25.392745Z",
     "start_time": "2022-05-19T07:33:25.315899Z"
    },
    "id": "zE0bYpDwtr4h"
   },
   "outputs": [
    {
     "name": "stderr",
     "output_type": "stream",
     "text": [
      "/home/ai-server/anaconda3/envs/mt_tf_2/lib/python3.7/site-packages/ipykernel_launcher.py:1: SettingWithCopyWarning: \n",
      "A value is trying to be set on a copy of a slice from a DataFrame.\n",
      "Try using .loc[row_indexer,col_indexer] = value instead\n",
      "\n",
      "See the caveats in the documentation: https://pandas.pydata.org/pandas-docs/stable/user_guide/indexing.html#returning-a-view-versus-a-copy\n",
      "  \"\"\"Entry point for launching an IPython kernel.\n",
      "/home/ai-server/anaconda3/envs/mt_tf_2/lib/python3.7/site-packages/ipykernel_launcher.py:2: SettingWithCopyWarning: \n",
      "A value is trying to be set on a copy of a slice from a DataFrame.\n",
      "Try using .loc[row_indexer,col_indexer] = value instead\n",
      "\n",
      "See the caveats in the documentation: https://pandas.pydata.org/pandas-docs/stable/user_guide/indexing.html#returning-a-view-versus-a-copy\n",
      "  \n"
     ]
    }
   ],
   "source": [
    "df_wb_final[\"syl_len\"] = df_wb_final.syl_txt.apply(lambda x:len(x.split()))\n",
    "df_wb_final[\"label_len\"] = df_wb_final.label.apply(lambda x:len(x.split()))"
   ]
  },
  {
   "cell_type": "code",
   "execution_count": 34,
   "metadata": {
    "ExecuteTime": {
     "end_time": "2022-05-19T07:33:30.287990Z",
     "start_time": "2022-05-19T07:33:30.280525Z"
    }
   },
   "outputs": [
    {
     "data": {
      "text/html": [
       "<div>\n",
       "<style scoped>\n",
       "    .dataframe tbody tr th:only-of-type {\n",
       "        vertical-align: middle;\n",
       "    }\n",
       "\n",
       "    .dataframe tbody tr th {\n",
       "        vertical-align: top;\n",
       "    }\n",
       "\n",
       "    .dataframe thead th {\n",
       "        text-align: right;\n",
       "    }\n",
       "</style>\n",
       "<table border=\"1\" class=\"dataframe\">\n",
       "  <thead>\n",
       "    <tr style=\"text-align: right;\">\n",
       "      <th></th>\n",
       "      <th>burmese</th>\n",
       "      <th>type</th>\n",
       "      <th>syl_txt</th>\n",
       "      <th>label</th>\n",
       "      <th>syl_len</th>\n",
       "      <th>label_len</th>\n",
       "    </tr>\n",
       "  </thead>\n",
       "  <tbody>\n",
       "    <tr>\n",
       "      <th>0</th>\n",
       "      <td>Covid ဖြစ် ပြီး ၁၀ လ တောင် ကြာ ပြီ // ခု ထိ မော၊ ချွဲထ၊ ရင်ဘတ် အောင့်၊ Jaw pain ဖြစ် နေ သေး တယ်။</td>\n",
       "      <td>mt_phase_1</td>\n",
       "      <td>Covid ဖြစ် ပြီး ၁၀ လ တောင် ကြာ ပြီ // ခု ထိ မော ၊ ချွဲ ထ ၊ ရင် ဘတ် အောင့် ၊ Jaw pain ဖြစ် နေ သေး တယ် ။</td>\n",
       "      <td>1 1 1 1 1 1 1 1 1 1 1 2 1 2 2 1 2 1 2 1 1 1 1 1 1 2 2</td>\n",
       "      <td>27</td>\n",
       "      <td>27</td>\n",
       "    </tr>\n",
       "    <tr>\n",
       "      <th>1</th>\n",
       "      <td>Immune system ဟာ သားသား မီးမီး လေး တွေ ကို ပြင်ပ မှာ ရှိ တဲ့ Bacteria၊ Virus နဲ့ parasite တွေ ကြောင့် ဖြစ် နိုင် တဲ့ ရောဂါ တွေ က နေ ကာကွယ် တိုက်ထုတ် ပေး နိုင် ပါ တယ်။</td>\n",
       "      <td>mt_phase_1</td>\n",
       "      <td>Immune system ဟာ သား သား မီး မီး လေး တွေ ကို ပြင် ပ မှာ ရှိ တဲ့ Bacteria ၊ Virus နဲ့ parasite တွေ ကြောင့် ဖြစ် နိုင် တဲ့ ရော ဂါ တွေ က နေ ကာ ကွယ် တိုက် ထုတ် ပေး နိုင် ပါ တယ် ။</td>\n",
       "      <td>1 1 1 2 1 2 1 1 1 1 2 1 1 1 1 2 1 1 1 1 1 1 1 1 1 2 1 1 1 1 2 1 2 1 1 1 1 2 2</td>\n",
       "      <td>39</td>\n",
       "      <td>39</td>\n",
       "    </tr>\n",
       "  </tbody>\n",
       "</table>\n",
       "</div>"
      ],
      "text/plain": [
       "                                                                                                                                                                  burmese  \\\n",
       "0  Covid ဖြစ် ပြီး ၁၀ လ တောင် ကြာ ပြီ // ခု ထိ မော၊ ချွဲထ၊ ရင်ဘတ် အောင့်၊ Jaw pain ဖြစ် နေ သေး တယ်။                                                                         \n",
       "1  Immune system ဟာ သားသား မီးမီး လေး တွေ ကို ပြင်ပ မှာ ရှိ တဲ့ Bacteria၊ Virus နဲ့ parasite တွေ ကြောင့် ဖြစ် နိုင် တဲ့ ရောဂါ တွေ က နေ ကာကွယ် တိုက်ထုတ် ပေး နိုင် ပါ တယ်။   \n",
       "\n",
       "         type  \\\n",
       "0  mt_phase_1   \n",
       "1  mt_phase_1   \n",
       "\n",
       "                                                                                                                                                                          syl_txt  \\\n",
       "0  Covid ဖြစ် ပြီး ၁၀ လ တောင် ကြာ ပြီ // ခု ထိ မော ၊ ချွဲ ထ ၊ ရင် ဘတ် အောင့် ၊ Jaw pain ဖြစ် နေ သေး တယ် ။                                                                           \n",
       "1  Immune system ဟာ သား သား မီး မီး လေး တွေ ကို ပြင် ပ မှာ ရှိ တဲ့ Bacteria ၊ Virus နဲ့ parasite တွေ ကြောင့် ဖြစ် နိုင် တဲ့ ရော ဂါ တွေ က နေ ကာ ကွယ် တိုက် ထုတ် ပေး နိုင် ပါ တယ် ။   \n",
       "\n",
       "                                                                           label  \\\n",
       "0  1 1 1 1 1 1 1 1 1 1 1 2 1 2 2 1 2 1 2 1 1 1 1 1 1 2 2                           \n",
       "1  1 1 1 2 1 2 1 1 1 1 2 1 1 1 1 2 1 1 1 1 1 1 1 1 1 2 1 1 1 1 2 1 2 1 1 1 1 2 2   \n",
       "\n",
       "   syl_len  label_len  \n",
       "0  27       27         \n",
       "1  39       39         "
      ]
     },
     "execution_count": 34,
     "metadata": {},
     "output_type": "execute_result"
    }
   ],
   "source": [
    "df_wb_final.head(2)"
   ]
  },
  {
   "cell_type": "code",
   "execution_count": 35,
   "metadata": {
    "ExecuteTime": {
     "end_time": "2022-05-19T07:33:33.289724Z",
     "start_time": "2022-05-19T07:33:33.272730Z"
    },
    "colab": {
     "base_uri": "https://localhost:8080/",
     "height": 1000
    },
    "id": "zwmdRFy6YLsa",
    "outputId": "3c1c65d3-63a9-4d7f-c6a9-2eb9b025daf9"
   },
   "outputs": [
    {
     "data": {
      "text/html": [
       "<div>\n",
       "<style scoped>\n",
       "    .dataframe tbody tr th:only-of-type {\n",
       "        vertical-align: middle;\n",
       "    }\n",
       "\n",
       "    .dataframe tbody tr th {\n",
       "        vertical-align: top;\n",
       "    }\n",
       "\n",
       "    .dataframe thead th {\n",
       "        text-align: right;\n",
       "    }\n",
       "</style>\n",
       "<table border=\"1\" class=\"dataframe\">\n",
       "  <thead>\n",
       "    <tr style=\"text-align: right;\">\n",
       "      <th></th>\n",
       "      <th>burmese</th>\n",
       "      <th>type</th>\n",
       "      <th>syl_txt</th>\n",
       "      <th>label</th>\n",
       "      <th>syl_len</th>\n",
       "      <th>label_len</th>\n",
       "    </tr>\n",
       "  </thead>\n",
       "  <tbody>\n",
       "    <tr>\n",
       "      <th>224</th>\n",
       "      <td>Adult Onset Still's Diease လေးဘက်နာရောဂါ ရှိ ပါ တယ်။</td>\n",
       "      <td>mt_phase_1</td>\n",
       "      <td>Adult Onset Still's Diease လေး ဘက် နာ ရော ဂါ ရှိ ပါ တယ် ။</td>\n",
       "      <td>1 1 2 2 1 1 2 2 2 2 1 1 1 2 2</td>\n",
       "      <td>13</td>\n",
       "      <td>15</td>\n",
       "    </tr>\n",
       "    <tr>\n",
       "      <th>22</th>\n",
       "      <td>Acetaminophen , ibuprofen စတာ တွေ ဆောင် ထား ပါ ။</td>\n",
       "      <td>old_wb_data</td>\n",
       "      <td>Acetaminophen, ibuprofen စ တာ တွေ ဆောင် ထား ပါ ။</td>\n",
       "      <td>1 1 1 2 1 1 1 1 1 2</td>\n",
       "      <td>9</td>\n",
       "      <td>10</td>\n",
       "    </tr>\n",
       "    <tr>\n",
       "      <th>30</th>\n",
       "      <td>Benadryl , hydrocortisone , Calamine lotion စတဲ့ လိမ်းဆေး တစ်ခုခု လိမ်း ပေး ပါ ။</td>\n",
       "      <td>old_wb_data</td>\n",
       "      <td>Benadryl, hydrocortisone, Calamine lotion စ တဲ့ လိမ်း ဆေး တစ် ခု ခု လိမ်း ပေး ပါ ။</td>\n",
       "      <td>1 1 1 1 1 1 2 1 2 1 2 2 1 1 1 1 2</td>\n",
       "      <td>15</td>\n",
       "      <td>17</td>\n",
       "    </tr>\n",
       "    <tr>\n",
       "      <th>476</th>\n",
       "      <td>Bilirubin အဝါဓာတ် အမိုးနီးယား နှင့် သွေးကြော ထဲ ရှိအခြား သော အဆိပ်အတောက် များ ကို အသည်း မှ သန့်စင် ပေး ရ ပါ တယ် '</td>\n",
       "      <td>DC_keywords4_07Mar_2022</td>\n",
       "      <td>Bilirubin အ ဝါ ဓာတ် အ မိုး နီး ယား နှင့် သွေး ကြော ထဲ ရှိ အ ခြား သော အ ဆိပ် အ တောက် များ ကို အ သည်း မှ သန့် စင် ပေး ရ ပါ တယ်'</td>\n",
       "      <td>1 2 2 1 2 2 2 1 1 2 1 1 2 2 1 1 2 2 2 1 1 1 2 1 1 2 1 1 1 1 1 2</td>\n",
       "      <td>31</td>\n",
       "      <td>32</td>\n",
       "    </tr>\n",
       "    <tr>\n",
       "      <th>654</th>\n",
       "      <td>ဆီးချိုသမား တွေ မက်ဖေါ်မင် သောက် ပြီး 'ငိုက် တာ တို့ အိပ် ချင် မူးတူး ဖြစ် တာ တို့' တော့ မ ရှိ ပါ</td>\n",
       "      <td>DC_keywords4_07Mar_2022</td>\n",
       "      <td>ဆီး ချို သ မား တွေ မက် ဖေါ် မင် သောက် ပြီး'ငိုက် တာ တို့ အိပ် ချင် မူး တူး ဖြစ် တာ တို့'တော့ မ ရှိ ပါ</td>\n",
       "      <td>2 2 2 1 1 2 2 1 1 1 2 1 1 1 1 1 2 1 1 1 2 1 1 1 1 2</td>\n",
       "      <td>22</td>\n",
       "      <td>26</td>\n",
       "    </tr>\n",
       "  </tbody>\n",
       "</table>\n",
       "</div>"
      ],
      "text/plain": [
       "                                                                                                               burmese  \\\n",
       "224  Adult Onset Still's Diease လေးဘက်နာရောဂါ ရှိ ပါ တယ်။                                                                \n",
       "22   Acetaminophen , ibuprofen စတာ တွေ ဆောင် ထား ပါ ။                                                                    \n",
       "30   Benadryl , hydrocortisone , Calamine lotion စတဲ့ လိမ်းဆေး တစ်ခုခု လိမ်း ပေး ပါ ။                                    \n",
       "476  Bilirubin အဝါဓာတ် အမိုးနီးယား နှင့် သွေးကြော ထဲ ရှိအခြား သော အဆိပ်အတောက် များ ကို အသည်း မှ သန့်စင် ပေး ရ ပါ တယ် '   \n",
       "654  ဆီးချိုသမား တွေ မက်ဖေါ်မင် သောက် ပြီး 'ငိုက် တာ တို့ အိပ် ချင် မူးတူး ဖြစ် တာ တို့' တော့ မ ရှိ ပါ                   \n",
       "\n",
       "                        type  \\\n",
       "224  mt_phase_1                \n",
       "22   old_wb_data               \n",
       "30   old_wb_data               \n",
       "476  DC_keywords4_07Mar_2022   \n",
       "654  DC_keywords4_07Mar_2022   \n",
       "\n",
       "                                                                                                                           syl_txt  \\\n",
       "224  Adult Onset Still's Diease လေး ဘက် နာ ရော ဂါ ရှိ ပါ တယ် ။                                                                       \n",
       "22   Acetaminophen, ibuprofen စ တာ တွေ ဆောင် ထား ပါ ။                                                                                \n",
       "30   Benadryl, hydrocortisone, Calamine lotion စ တဲ့ လိမ်း ဆေး တစ် ခု ခု လိမ်း ပေး ပါ ။                                              \n",
       "476  Bilirubin အ ဝါ ဓာတ် အ မိုး နီး ယား နှင့် သွေး ကြော ထဲ ရှိ အ ခြား သော အ ဆိပ် အ တောက် များ ကို အ သည်း မှ သန့် စင် ပေး ရ ပါ တယ်'   \n",
       "654  ဆီး ချို သ မား တွေ မက် ဖေါ် မင် သောက် ပြီး'ငိုက် တာ တို့ အိပ် ချင် မူး တူး ဖြစ် တာ တို့'တော့ မ ရှိ ပါ                           \n",
       "\n",
       "                                                               label  syl_len  \\\n",
       "224  1 1 2 2 1 1 2 2 2 2 1 1 1 2 2                                    13        \n",
       "22   1 1 1 2 1 1 1 1 1 2                                              9         \n",
       "30   1 1 1 1 1 1 2 1 2 1 2 2 1 1 1 1 2                                15        \n",
       "476  1 2 2 1 2 2 2 1 1 2 1 1 2 2 1 1 2 2 2 1 1 1 2 1 1 2 1 1 1 1 1 2  31        \n",
       "654  2 2 2 1 1 2 2 1 1 1 2 1 1 1 1 1 2 1 1 1 2 1 1 1 1 2              22        \n",
       "\n",
       "     label_len  \n",
       "224  15         \n",
       "22   10         \n",
       "30   17         \n",
       "476  32         \n",
       "654  26         "
      ]
     },
     "execution_count": 35,
     "metadata": {},
     "output_type": "execute_result"
    }
   ],
   "source": [
    "## need to improve syllable break\n",
    "df_wb_final[df_wb_final.syl_len != df_wb_final[\"label_len\"]]"
   ]
  },
  {
   "cell_type": "code",
   "execution_count": 36,
   "metadata": {
    "ExecuteTime": {
     "end_time": "2022-05-19T07:33:48.741904Z",
     "start_time": "2022-05-19T07:33:48.736670Z"
    }
   },
   "outputs": [],
   "source": [
    "#obj_clean.obj_clean.syllable_break_list(['Acetaminophen , ibuprofen စတာ တွေ ဆောင် ထား ပါ။'])"
   ]
  },
  {
   "cell_type": "code",
   "execution_count": 37,
   "metadata": {
    "ExecuteTime": {
     "end_time": "2022-05-19T07:34:01.412425Z",
     "start_time": "2022-05-19T07:34:01.399072Z"
    }
   },
   "outputs": [],
   "source": [
    "df_wb_final = df_wb_final[df_wb_final.syl_len == df_wb_final[\"label_len\"]]"
   ]
  },
  {
   "cell_type": "code",
   "execution_count": 38,
   "metadata": {
    "ExecuteTime": {
     "end_time": "2022-05-19T07:34:02.790188Z",
     "start_time": "2022-05-19T07:34:02.763415Z"
    }
   },
   "outputs": [
    {
     "data": {
      "text/plain": [
       "count     67952                                                                                                 \n",
       "unique    67952                                                                                                 \n",
       "top       Covid ဖြစ် ပြီး ၁၀ လ တောင် ကြာ ပြီ // ခု ထိ မော ၊ ချွဲ ထ ၊ ရင် ဘတ် အောင့် ၊ Jaw pain ဖြစ် နေ သေး တယ် ။\n",
       "freq      1                                                                                                     \n",
       "Name: syl_txt, dtype: object"
      ]
     },
     "execution_count": 38,
     "metadata": {},
     "output_type": "execute_result"
    }
   ],
   "source": [
    "df_wb_final.syl_txt.describe()"
   ]
  },
  {
   "cell_type": "code",
   "execution_count": 39,
   "metadata": {
    "ExecuteTime": {
     "end_time": "2022-05-19T07:34:17.143333Z",
     "start_time": "2022-05-19T07:34:16.910879Z"
    }
   },
   "outputs": [],
   "source": [
    "df_wb_final.to_csv('dataset/19_May_word_break_train_data_v2.csv',index=0)"
   ]
  },
  {
   "cell_type": "markdown",
   "metadata": {
    "id": "xX7WlR7gLM1w"
   },
   "source": [
    "# Model Inputs Preparation"
   ]
  },
  {
   "cell_type": "markdown",
   "metadata": {
    "id": "HM3-y9CoLSzR"
   },
   "source": [
    "## prepare train,test data"
   ]
  },
  {
   "cell_type": "code",
   "execution_count": 63,
   "metadata": {
    "ExecuteTime": {
     "end_time": "2022-05-18T09:15:52.535825Z",
     "start_time": "2022-05-18T09:15:52.517750Z"
    }
   },
   "outputs": [
    {
     "data": {
      "text/html": [
       "<div>\n",
       "<style scoped>\n",
       "    .dataframe tbody tr th:only-of-type {\n",
       "        vertical-align: middle;\n",
       "    }\n",
       "\n",
       "    .dataframe tbody tr th {\n",
       "        vertical-align: top;\n",
       "    }\n",
       "\n",
       "    .dataframe thead th {\n",
       "        text-align: right;\n",
       "    }\n",
       "</style>\n",
       "<table border=\"1\" class=\"dataframe\">\n",
       "  <thead>\n",
       "    <tr style=\"text-align: right;\">\n",
       "      <th></th>\n",
       "      <th>burmese</th>\n",
       "      <th>syl_txt</th>\n",
       "      <th>label</th>\n",
       "      <th>syl_len</th>\n",
       "      <th>label_len</th>\n",
       "    </tr>\n",
       "  </thead>\n",
       "  <tbody>\n",
       "    <tr>\n",
       "      <th>0</th>\n",
       "      <td>Covid ဖြစ် ပြီး ၁၀ လ တောင် ကြာ ပြီ // ခု ထိ မော၊ ချွဲထ၊ ရင်ဘတ် အောင့်၊ Jaw pain ဖြစ် နေ သေး တယ်။</td>\n",
       "      <td>Covid ဖြစ် ပြီး ၁၀ လ တောင် ကြာ ပြီ // ခု ထိ မော ၊ ချွဲ ထ ၊ ရင် ဘတ် အောင့် ၊ Jaw pain ဖြစ် နေ သေး တယ် ။</td>\n",
       "      <td>1 1 1 1 1 1 1 1 1 1 1 2 1 2 2 1 2 1 2 1 1 1 1 1 1 2 2</td>\n",
       "      <td>27</td>\n",
       "      <td>27</td>\n",
       "    </tr>\n",
       "    <tr>\n",
       "      <th>1</th>\n",
       "      <td>Immune system ဟာ သားသား မီးမီး လေး တွေ ကို ပြင်ပ မှာ ရှိ တဲ့ Bacteria၊ Virus နဲ့ parasite တွေ ကြောင့် ဖြစ် နိုင် တဲ့ ရောဂါ တွေ က နေ ကာကွယ် တိုက်ထုတ် ပေး နိုင် ပါ တယ်။</td>\n",
       "      <td>Immune system ဟာ သား သား မီး မီး လေး တွေ ကို ပြင် ပ မှာ ရှိ တဲ့ Bacteria ၊ Virus နဲ့ parasite တွေ ကြောင့် ဖြစ် နိုင် တဲ့ ရော ဂါ တွေ က နေ ကာ ကွယ် တိုက် ထုတ် ပေး နိုင် ပါ တယ် ။</td>\n",
       "      <td>1 1 1 2 1 2 1 1 1 1 2 1 1 1 1 2 1 1 1 1 1 1 1 1 1 2 1 1 1 1 2 1 2 1 1 1 1 2 2</td>\n",
       "      <td>39</td>\n",
       "      <td>39</td>\n",
       "    </tr>\n",
       "  </tbody>\n",
       "</table>\n",
       "</div>"
      ],
      "text/plain": [
       "                                                                                                                                                                  burmese  \\\n",
       "0  Covid ဖြစ် ပြီး ၁၀ လ တောင် ကြာ ပြီ // ခု ထိ မော၊ ချွဲထ၊ ရင်ဘတ် အောင့်၊ Jaw pain ဖြစ် နေ သေး တယ်။                                                                         \n",
       "1  Immune system ဟာ သားသား မီးမီး လေး တွေ ကို ပြင်ပ မှာ ရှိ တဲ့ Bacteria၊ Virus နဲ့ parasite တွေ ကြောင့် ဖြစ် နိုင် တဲ့ ရောဂါ တွေ က နေ ကာကွယ် တိုက်ထုတ် ပေး နိုင် ပါ တယ်။   \n",
       "\n",
       "                                                                                                                                                                          syl_txt  \\\n",
       "0  Covid ဖြစ် ပြီး ၁၀ လ တောင် ကြာ ပြီ // ခု ထိ မော ၊ ချွဲ ထ ၊ ရင် ဘတ် အောင့် ၊ Jaw pain ဖြစ် နေ သေး တယ် ။                                                                           \n",
       "1  Immune system ဟာ သား သား မီး မီး လေး တွေ ကို ပြင် ပ မှာ ရှိ တဲ့ Bacteria ၊ Virus နဲ့ parasite တွေ ကြောင့် ဖြစ် နိုင် တဲ့ ရော ဂါ တွေ က နေ ကာ ကွယ် တိုက် ထုတ် ပေး နိုင် ပါ တယ် ။   \n",
       "\n",
       "                                                                           label  \\\n",
       "0  1 1 1 1 1 1 1 1 1 1 1 2 1 2 2 1 2 1 2 1 1 1 1 1 1 2 2                           \n",
       "1  1 1 1 2 1 2 1 1 1 1 2 1 1 1 1 2 1 1 1 1 1 1 1 1 1 2 1 1 1 1 2 1 2 1 1 1 1 2 2   \n",
       "\n",
       "   syl_len  label_len  \n",
       "0  27       27         \n",
       "1  39       39         "
      ]
     },
     "execution_count": 63,
     "metadata": {},
     "output_type": "execute_result"
    }
   ],
   "source": [
    "df_wb_final.head(2)"
   ]
  },
  {
   "cell_type": "code",
   "execution_count": 2,
   "metadata": {
    "ExecuteTime": {
     "end_time": "2022-05-20T02:52:13.166429Z",
     "start_time": "2022-05-20T02:52:12.903310Z"
    }
   },
   "outputs": [],
   "source": [
    "df_wb_final = pd.read_csv('dataset/19_May_word_break_train_data_v2.csv')"
   ]
  },
  {
   "cell_type": "code",
   "execution_count": 3,
   "metadata": {
    "ExecuteTime": {
     "end_time": "2022-05-20T02:52:14.618342Z",
     "start_time": "2022-05-20T02:52:14.610287Z"
    }
   },
   "outputs": [],
   "source": [
    "df_wb_final.drop(columns=['type','syl_len','label_len'],inplace=True)"
   ]
  },
  {
   "cell_type": "code",
   "execution_count": 4,
   "metadata": {
    "ExecuteTime": {
     "end_time": "2022-05-20T02:52:18.291592Z",
     "start_time": "2022-05-20T02:52:18.232079Z"
    }
   },
   "outputs": [
    {
     "data": {
      "text/html": [
       "<div>\n",
       "<style scoped>\n",
       "    .dataframe tbody tr th:only-of-type {\n",
       "        vertical-align: middle;\n",
       "    }\n",
       "\n",
       "    .dataframe tbody tr th {\n",
       "        vertical-align: top;\n",
       "    }\n",
       "\n",
       "    .dataframe thead th {\n",
       "        text-align: right;\n",
       "    }\n",
       "</style>\n",
       "<table border=\"1\" class=\"dataframe\">\n",
       "  <thead>\n",
       "    <tr style=\"text-align: right;\">\n",
       "      <th></th>\n",
       "      <th>burmese</th>\n",
       "      <th>syl_txt</th>\n",
       "      <th>label</th>\n",
       "    </tr>\n",
       "  </thead>\n",
       "  <tbody>\n",
       "    <tr>\n",
       "      <th>count</th>\n",
       "      <td>67952</td>\n",
       "      <td>67952</td>\n",
       "      <td>67952</td>\n",
       "    </tr>\n",
       "    <tr>\n",
       "      <th>unique</th>\n",
       "      <td>67952</td>\n",
       "      <td>67952</td>\n",
       "      <td>31145</td>\n",
       "    </tr>\n",
       "    <tr>\n",
       "      <th>top</th>\n",
       "      <td>Covid ဖြစ် ပြီး ၁၀ လ တောင် ကြာ ပြီ // ခု ထိ မော၊ ချွဲထ၊ ရင်ဘတ် အောင့်၊ Jaw pain ဖြစ် နေ သေး တယ်။</td>\n",
       "      <td>Covid ဖြစ် ပြီး ၁၀ လ တောင် ကြာ ပြီ // ခု ထိ မော ၊ ချွဲ ထ ၊ ရင် ဘတ် အောင့် ၊ Jaw pain ဖြစ် နေ သေး တယ် ။</td>\n",
       "      <td>2 1 1 1 1 2</td>\n",
       "    </tr>\n",
       "    <tr>\n",
       "      <th>freq</th>\n",
       "      <td>1</td>\n",
       "      <td>1</td>\n",
       "      <td>840</td>\n",
       "    </tr>\n",
       "  </tbody>\n",
       "</table>\n",
       "</div>"
      ],
      "text/plain": [
       "                                                                                                 burmese  \\\n",
       "count   67952                                                                                              \n",
       "unique  67952                                                                                              \n",
       "top     Covid ဖြစ် ပြီး ၁၀ လ တောင် ကြာ ပြီ // ခု ထိ မော၊ ချွဲထ၊ ရင်ဘတ် အောင့်၊ Jaw pain ဖြစ် နေ သေး တယ်။   \n",
       "freq    1                                                                                                  \n",
       "\n",
       "                                                                                                       syl_txt  \\\n",
       "count   67952                                                                                                    \n",
       "unique  67952                                                                                                    \n",
       "top     Covid ဖြစ် ပြီး ၁၀ လ တောင် ကြာ ပြီ // ခု ထိ မော ၊ ချွဲ ထ ၊ ရင် ဘတ် အောင့် ၊ Jaw pain ဖြစ် နေ သေး တယ် ။   \n",
       "freq    1                                                                                                        \n",
       "\n",
       "              label  \n",
       "count   67952        \n",
       "unique  31145        \n",
       "top     2 1 1 1 1 2  \n",
       "freq    840          "
      ]
     },
     "execution_count": 4,
     "metadata": {},
     "output_type": "execute_result"
    }
   ],
   "source": [
    "df_wb_final.describe()"
   ]
  },
  {
   "cell_type": "code",
   "execution_count": 42,
   "metadata": {
    "ExecuteTime": {
     "end_time": "2022-05-19T07:34:48.846904Z",
     "start_time": "2022-05-19T07:34:48.790437Z"
    }
   },
   "outputs": [
    {
     "data": {
      "text/html": [
       "<div>\n",
       "<style scoped>\n",
       "    .dataframe tbody tr th:only-of-type {\n",
       "        vertical-align: middle;\n",
       "    }\n",
       "\n",
       "    .dataframe tbody tr th {\n",
       "        vertical-align: top;\n",
       "    }\n",
       "\n",
       "    .dataframe thead th {\n",
       "        text-align: right;\n",
       "    }\n",
       "</style>\n",
       "<table border=\"1\" class=\"dataframe\">\n",
       "  <thead>\n",
       "    <tr style=\"text-align: right;\">\n",
       "      <th></th>\n",
       "      <th>burmese</th>\n",
       "      <th>syl_txt</th>\n",
       "      <th>label</th>\n",
       "    </tr>\n",
       "  </thead>\n",
       "  <tbody>\n",
       "    <tr>\n",
       "      <th>count</th>\n",
       "      <td>67952</td>\n",
       "      <td>67952</td>\n",
       "      <td>67952</td>\n",
       "    </tr>\n",
       "    <tr>\n",
       "      <th>unique</th>\n",
       "      <td>67952</td>\n",
       "      <td>67952</td>\n",
       "      <td>31145</td>\n",
       "    </tr>\n",
       "    <tr>\n",
       "      <th>top</th>\n",
       "      <td>Covid ဖြစ် ပြီး ၁၀ လ တောင် ကြာ ပြီ // ခု ထိ မော၊ ချွဲထ၊ ရင်ဘတ် အောင့်၊ Jaw pain ဖြစ် နေ သေး တယ်။</td>\n",
       "      <td>Covid ဖြစ် ပြီး ၁၀ လ တောင် ကြာ ပြီ // ခု ထိ မော ၊ ချွဲ ထ ၊ ရင် ဘတ် အောင့် ၊ Jaw pain ဖြစ် နေ သေး တယ် ။</td>\n",
       "      <td>2 1 1 1 1 2</td>\n",
       "    </tr>\n",
       "    <tr>\n",
       "      <th>freq</th>\n",
       "      <td>1</td>\n",
       "      <td>1</td>\n",
       "      <td>840</td>\n",
       "    </tr>\n",
       "  </tbody>\n",
       "</table>\n",
       "</div>"
      ],
      "text/plain": [
       "                                                                                                 burmese  \\\n",
       "count   67952                                                                                              \n",
       "unique  67952                                                                                              \n",
       "top     Covid ဖြစ် ပြီး ၁၀ လ တောင် ကြာ ပြီ // ခု ထိ မော၊ ချွဲထ၊ ရင်ဘတ် အောင့်၊ Jaw pain ဖြစ် နေ သေး တယ်။   \n",
       "freq    1                                                                                                  \n",
       "\n",
       "                                                                                                       syl_txt  \\\n",
       "count   67952                                                                                                    \n",
       "unique  67952                                                                                                    \n",
       "top     Covid ဖြစ် ပြီး ၁၀ လ တောင် ကြာ ပြီ // ခု ထိ မော ၊ ချွဲ ထ ၊ ရင် ဘတ် အောင့် ၊ Jaw pain ဖြစ် နေ သေး တယ် ။   \n",
       "freq    1                                                                                                        \n",
       "\n",
       "              label  \n",
       "count   67952        \n",
       "unique  31145        \n",
       "top     2 1 1 1 1 2  \n",
       "freq    840          "
      ]
     },
     "execution_count": 42,
     "metadata": {},
     "output_type": "execute_result"
    }
   ],
   "source": [
    "df_wb_final.describe()"
   ]
  },
  {
   "cell_type": "code",
   "execution_count": 5,
   "metadata": {
    "ExecuteTime": {
     "end_time": "2022-05-20T02:52:24.355950Z",
     "start_time": "2022-05-20T02:52:24.218650Z"
    },
    "id": "9_M8ez8Xtr4r"
   },
   "outputs": [],
   "source": [
    "from sklearn.model_selection import train_test_split\n",
    "train, test = train_test_split(df_wb_final,test_size=0.05,random_state=42)"
   ]
  },
  {
   "cell_type": "code",
   "execution_count": 6,
   "metadata": {
    "ExecuteTime": {
     "end_time": "2022-05-20T02:52:26.717784Z",
     "start_time": "2022-05-20T02:52:26.664539Z"
    }
   },
   "outputs": [
    {
     "data": {
      "text/html": [
       "<div>\n",
       "<style scoped>\n",
       "    .dataframe tbody tr th:only-of-type {\n",
       "        vertical-align: middle;\n",
       "    }\n",
       "\n",
       "    .dataframe tbody tr th {\n",
       "        vertical-align: top;\n",
       "    }\n",
       "\n",
       "    .dataframe thead th {\n",
       "        text-align: right;\n",
       "    }\n",
       "</style>\n",
       "<table border=\"1\" class=\"dataframe\">\n",
       "  <thead>\n",
       "    <tr style=\"text-align: right;\">\n",
       "      <th></th>\n",
       "      <th>burmese</th>\n",
       "      <th>syl_txt</th>\n",
       "      <th>label</th>\n",
       "    </tr>\n",
       "  </thead>\n",
       "  <tbody>\n",
       "    <tr>\n",
       "      <th>count</th>\n",
       "      <td>64554</td>\n",
       "      <td>64554</td>\n",
       "      <td>64554</td>\n",
       "    </tr>\n",
       "    <tr>\n",
       "      <th>unique</th>\n",
       "      <td>64554</td>\n",
       "      <td>64554</td>\n",
       "      <td>29764</td>\n",
       "    </tr>\n",
       "    <tr>\n",
       "      <th>top</th>\n",
       "      <td>ကိုယ်ခံအား နည်း သူ တွေ ကာကွယ်ဆေး မ ဖြစ် မ နေ ထိုး ထား ဖို့ လို ပါ မယ်</td>\n",
       "      <td>ကိုယ် ခံ အား နည်း သူ တွေ ကာ ကွယ် ဆေး မ ဖြစ် မ နေ ထိုး ထား ဖို့ လို ပါ မယ်</td>\n",
       "      <td>2 1 1 1 1 2</td>\n",
       "    </tr>\n",
       "    <tr>\n",
       "      <th>freq</th>\n",
       "      <td>1</td>\n",
       "      <td>1</td>\n",
       "      <td>789</td>\n",
       "    </tr>\n",
       "  </tbody>\n",
       "</table>\n",
       "</div>"
      ],
      "text/plain": [
       "                                                                      burmese  \\\n",
       "count   64554                                                                   \n",
       "unique  64554                                                                   \n",
       "top     ကိုယ်ခံအား နည်း သူ တွေ ကာကွယ်ဆေး မ ဖြစ် မ နေ ထိုး ထား ဖို့ လို ပါ မယ်   \n",
       "freq    1                                                                       \n",
       "\n",
       "                                                                          syl_txt  \\\n",
       "count   64554                                                                       \n",
       "unique  64554                                                                       \n",
       "top     ကိုယ် ခံ အား နည်း သူ တွေ ကာ ကွယ် ဆေး မ ဖြစ် မ နေ ထိုး ထား ဖို့ လို ပါ မယ်   \n",
       "freq    1                                                                           \n",
       "\n",
       "              label  \n",
       "count   64554        \n",
       "unique  29764        \n",
       "top     2 1 1 1 1 2  \n",
       "freq    789          "
      ]
     },
     "execution_count": 6,
     "metadata": {},
     "output_type": "execute_result"
    }
   ],
   "source": [
    "train.describe()"
   ]
  },
  {
   "cell_type": "markdown",
   "metadata": {
    "id": "6su2AlbItr4q"
   },
   "source": [
    "## create X-Tokenizer"
   ]
  },
  {
   "cell_type": "code",
   "execution_count": 27,
   "metadata": {
    "ExecuteTime": {
     "end_time": "2022-01-01T04:14:32.716141Z",
     "start_time": "2022-01-01T04:14:32.711925Z"
    }
   },
   "outputs": [],
   "source": [
    "# from tensorflow import keras "
   ]
  },
  {
   "cell_type": "code",
   "execution_count": 67,
   "metadata": {
    "ExecuteTime": {
     "end_time": "2022-05-18T09:16:20.589755Z",
     "start_time": "2022-05-18T09:16:20.581922Z"
    }
   },
   "outputs": [
    {
     "data": {
      "text/html": [
       "<div>\n",
       "<style scoped>\n",
       "    .dataframe tbody tr th:only-of-type {\n",
       "        vertical-align: middle;\n",
       "    }\n",
       "\n",
       "    .dataframe tbody tr th {\n",
       "        vertical-align: top;\n",
       "    }\n",
       "\n",
       "    .dataframe thead th {\n",
       "        text-align: right;\n",
       "    }\n",
       "</style>\n",
       "<table border=\"1\" class=\"dataframe\">\n",
       "  <thead>\n",
       "    <tr style=\"text-align: right;\">\n",
       "      <th></th>\n",
       "      <th>burmese</th>\n",
       "      <th>syl_txt</th>\n",
       "      <th>label</th>\n",
       "    </tr>\n",
       "  </thead>\n",
       "  <tbody>\n",
       "    <tr>\n",
       "      <th>2349</th>\n",
       "      <td>ကိုယ်ခံအား နည်း သူ တွေ ကာကွယ်ဆေး မ ဖြစ် မ နေ ထိုး ထား ဖို့ လို ပါ မယ်</td>\n",
       "      <td>ကိုယ် ခံ အား နည်း သူ တွေ ကာ ကွယ် ဆေး မ ဖြစ် မ နေ ထိုး ထား ဖို့ လို ပါ မယ်</td>\n",
       "      <td>2 2 1 1 1 1 2 2 1 1 1 1 1 1 1 1 1 1 2</td>\n",
       "    </tr>\n",
       "    <tr>\n",
       "      <th>9002</th>\n",
       "      <td>လေ့ကျင့်ခန်း လုပ် ရင်း တီဗွီ ကြည့် ပါ ။</td>\n",
       "      <td>လေ့ ကျင့် ခန်း လုပ် ရင်း တီ ဗွီ ကြည့် ပါ ။</td>\n",
       "      <td>2 2 1 1 1 2 1 1 1 2</td>\n",
       "    </tr>\n",
       "    <tr>\n",
       "      <th>13410</th>\n",
       "      <td>ကိုယ်ဟာ ကျန်းမာ တဲ့ ကိုယ် အလေးချိန် အတွင်း မှာ ရှိ နေ ပါ တယ် ။</td>\n",
       "      <td>ကိုယ် ဟာ ကျန်း မာ တဲ့ ကိုယ် အ လေး ချိန် အ တွင်း မှာ ရှိ နေ ပါ တယ် ။</td>\n",
       "      <td>2 1 2 1 1 1 2 2 1 2 1 1 1 1 1 1 2</td>\n",
       "    </tr>\n",
       "    <tr>\n",
       "      <th>9906</th>\n",
       "      <td>နှလုံးရောဂါ ရှိ သူ တွေ အတွက် အကောင်းဆုံး တိုင်းရင်းဆေး ဗမာဆေး နည်း လေး ပြောပြ ပေး ပါ</td>\n",
       "      <td>နှ လုံး ရော ဂါ ရှိ သူ တွေ အ တွက် အ ကောင်း ဆုံး တိုင်း ရင်း ဆေး ဗ မာ ဆေး နည်း လေး ပြော ပြ ပေး ပါ</td>\n",
       "      <td>2 2 2 1 1 1 1 2 1 2 2 1 2 2 1 2 2 1 1 1 2 1 1 2</td>\n",
       "    </tr>\n",
       "    <tr>\n",
       "      <th>2166</th>\n",
       "      <td>အားလုံး ကောင်း ပါ တယ်</td>\n",
       "      <td>အား လုံး ကောင်း ပါ တယ်</td>\n",
       "      <td>2 1 1 1 2</td>\n",
       "    </tr>\n",
       "  </tbody>\n",
       "</table>\n",
       "</div>"
      ],
      "text/plain": [
       "                                                                                    burmese  \\\n",
       "2349   ကိုယ်ခံအား နည်း သူ တွေ ကာကွယ်ဆေး မ ဖြစ် မ နေ ထိုး ထား ဖို့ လို ပါ မယ်                  \n",
       "9002   လေ့ကျင့်ခန်း လုပ် ရင်း တီဗွီ ကြည့် ပါ ။                                                \n",
       "13410  ကိုယ်ဟာ ကျန်းမာ တဲ့ ကိုယ် အလေးချိန် အတွင်း မှာ ရှိ နေ ပါ တယ် ။                         \n",
       "9906   နှလုံးရောဂါ ရှိ သူ တွေ အတွက် အကောင်းဆုံး တိုင်းရင်းဆေး ဗမာဆေး နည်း လေး ပြောပြ ပေး ပါ   \n",
       "2166   အားလုံး ကောင်း ပါ တယ်                                                                  \n",
       "\n",
       "                                                                                               syl_txt  \\\n",
       "2349   ကိုယ် ခံ အား နည်း သူ တွေ ကာ ကွယ် ဆေး မ ဖြစ် မ နေ ထိုး ထား ဖို့ လို ပါ မယ်                         \n",
       "9002   လေ့ ကျင့် ခန်း လုပ် ရင်း တီ ဗွီ ကြည့် ပါ ။                                                        \n",
       "13410  ကိုယ် ဟာ ကျန်း မာ တဲ့ ကိုယ် အ လေး ချိန် အ တွင်း မှာ ရှိ နေ ပါ တယ် ။                               \n",
       "9906   နှ လုံး ရော ဂါ ရှိ သူ တွေ အ တွက် အ ကောင်း ဆုံး တိုင်း ရင်း ဆေး ဗ မာ ဆေး နည်း လေး ပြော ပြ ပေး ပါ   \n",
       "2166   အား လုံး ကောင်း ပါ တယ်                                                                            \n",
       "\n",
       "                                                 label  \n",
       "2349   2 2 1 1 1 1 2 2 1 1 1 1 1 1 1 1 1 1 2            \n",
       "9002   2 2 1 1 1 2 1 1 1 2                              \n",
       "13410  2 1 2 1 1 1 2 2 1 2 1 1 1 1 1 1 2                \n",
       "9906   2 2 2 1 1 1 1 2 1 2 2 1 2 2 1 2 2 1 1 1 2 1 1 2  \n",
       "2166   2 1 1 1 2                                        "
      ]
     },
     "execution_count": 67,
     "metadata": {},
     "output_type": "execute_result"
    }
   ],
   "source": [
    "train.head()"
   ]
  },
  {
   "cell_type": "code",
   "execution_count": 8,
   "metadata": {
    "ExecuteTime": {
     "end_time": "2022-05-20T02:52:32.798928Z",
     "start_time": "2022-05-20T02:52:31.078137Z"
    },
    "colab": {
     "base_uri": "https://localhost:8080/"
    },
    "id": "cyVlsl4Htr4r",
    "outputId": "cfdc115a-dd7f-41f8-8cc4-6940592f2850"
   },
   "outputs": [],
   "source": [
    "from tensorflow.keras.preprocessing.text import Tokenizer\n",
    "from tensorflow.keras.preprocessing.sequence import pad_sequences\n",
    "\n",
    "tokenizer = Tokenizer(oov_token='__OOV__',filters='\\t\\n',lower=False)\n",
    "tokenizer.fit_on_texts(train[\"syl_txt\"])\n",
    "sequences = tokenizer.texts_to_sequences(train[\"syl_txt\"])"
   ]
  },
  {
   "cell_type": "code",
   "execution_count": 19,
   "metadata": {
    "ExecuteTime": {
     "end_time": "2022-02-16T08:02:46.545601Z",
     "start_time": "2022-02-16T08:02:46.543778Z"
    }
   },
   "outputs": [],
   "source": [
    "#sequences"
   ]
  },
  {
   "cell_type": "code",
   "execution_count": 25,
   "metadata": {
    "ExecuteTime": {
     "end_time": "2022-01-01T04:07:41.481085Z",
     "start_time": "2022-01-01T04:07:41.477128Z"
    }
   },
   "outputs": [],
   "source": [
    "# import pickle\n",
    "# file = open(\"tokenizer.pickle\",\"rb\")\n",
    "# old_tokenizer = pickle.load(file)"
   ]
  },
  {
   "cell_type": "code",
   "execution_count": 9,
   "metadata": {
    "ExecuteTime": {
     "end_time": "2022-05-20T02:52:33.499418Z",
     "start_time": "2022-05-20T02:52:33.494308Z"
    },
    "id": "o4mQtgqBtr4r"
   },
   "outputs": [],
   "source": [
    "word_index = tokenizer.word_index\n",
    "word_index['PAD'] = 0\n",
    "index_word = {i:w for w, i in word_index.items()}"
   ]
  },
  {
   "cell_type": "code",
   "execution_count": 47,
   "metadata": {
    "ExecuteTime": {
     "end_time": "2022-05-19T07:35:06.163433Z",
     "start_time": "2022-05-19T07:35:06.154494Z"
    }
   },
   "outputs": [
    {
     "data": {
      "text/plain": [
       "6339"
      ]
     },
     "execution_count": 47,
     "metadata": {},
     "output_type": "execute_result"
    }
   ],
   "source": [
    "len(tokenizer.word_index)"
   ]
  },
  {
   "cell_type": "code",
   "execution_count": 146,
   "metadata": {
    "ExecuteTime": {
     "end_time": "2022-05-17T09:02:20.661332Z",
     "start_time": "2022-05-17T09:02:20.656280Z"
    }
   },
   "outputs": [
    {
     "data": {
      "text/plain": [
       "6339"
      ]
     },
     "execution_count": 146,
     "metadata": {},
     "output_type": "execute_result"
    }
   ],
   "source": [
    "len(word_index)"
   ]
  },
  {
   "cell_type": "code",
   "execution_count": 28,
   "metadata": {
    "ExecuteTime": {
     "end_time": "2022-02-16T08:10:59.320219Z",
     "start_time": "2022-02-16T08:10:59.291885Z"
    },
    "scrolled": true
   },
   "outputs": [
    {
     "data": {
      "text/html": [
       "<div>\n",
       "<style scoped>\n",
       "    .dataframe tbody tr th:only-of-type {\n",
       "        vertical-align: middle;\n",
       "    }\n",
       "\n",
       "    .dataframe tbody tr th {\n",
       "        vertical-align: top;\n",
       "    }\n",
       "\n",
       "    .dataframe thead th {\n",
       "        text-align: right;\n",
       "    }\n",
       "</style>\n",
       "<table border=\"1\" class=\"dataframe\">\n",
       "  <thead>\n",
       "    <tr style=\"text-align: right;\">\n",
       "      <th></th>\n",
       "      <th>idx</th>\n",
       "      <th>burmese</th>\n",
       "      <th>english</th>\n",
       "      <th>translator</th>\n",
       "      <th>syl_txt</th>\n",
       "      <th>label</th>\n",
       "      <th>syl_len</th>\n",
       "      <th>label_len</th>\n",
       "    </tr>\n",
       "  </thead>\n",
       "  <tbody>\n",
       "    <tr>\n",
       "      <th>14505</th>\n",
       "      <td>idx_selected_2198_</td>\n",
       "      <td>ဆီးချို ရောဂါ ရှိ တဲ့ သူ တွေ က ဘာ ကြောင့် သူ များ တွေ ထက် ပိုးဝင် လွယ် ၊ အနာ ဖြစ် လွယ် နေ ရ တာ လဲ</td>\n",
       "      <td>Why do the people with diabetes tend to get infected easily, injured easily than other people.</td>\n",
       "      <td>1</td>\n",
       "      <td>ဆီး ချို ရော ဂါ ရှိ တဲ့ သူ တွေ က ဘာ ကြောင့် သူ များ တွေ ထက် ပိုး ဝင် လွယ် ၊ အ နာ ဖြစ် လွယ် နေ ရ တာ လဲ</td>\n",
       "      <td>0 1 0 1 1 1 1 1 1 1 1 1 1 1 1 0 1 1 1 0 1 1 1 1 1 1 1</td>\n",
       "      <td>27</td>\n",
       "      <td>27</td>\n",
       "    </tr>\n",
       "    <tr>\n",
       "      <th>20682</th>\n",
       "      <td>idx_18992_</td>\n",
       "      <td>သူမ အိပ်ခန်း ၀ က ချောင်းကြည့် လိုက် တော့ သမီး က စောင် ပုံ ထဲ မှာ ။</td>\n",
       "      <td>When she peeked from the bedroom, her daughter was in the blanket.</td>\n",
       "      <td>3</td>\n",
       "      <td>သူ မ အိပ် ခန်း ၀ က ချောင်း ကြည့် လိုက် တော့ သ မီး က စောင် ပုံ ထဲ မှာ ။</td>\n",
       "      <td>0 1 0 1 1 1 0 1 1 1 0 1 1 1 1 1 1 1</td>\n",
       "      <td>18</td>\n",
       "      <td>18</td>\n",
       "    </tr>\n",
       "  </tbody>\n",
       "</table>\n",
       "</div>"
      ],
      "text/plain": [
       "                      idx  \\\n",
       "14505  idx_selected_2198_   \n",
       "20682  idx_18992_           \n",
       "\n",
       "                                                                                                 burmese  \\\n",
       "14505  ဆီးချို ရောဂါ ရှိ တဲ့ သူ တွေ က ဘာ ကြောင့် သူ များ တွေ ထက် ပိုးဝင် လွယ် ၊ အနာ ဖြစ် လွယ် နေ ရ တာ လဲ   \n",
       "20682  သူမ အိပ်ခန်း ၀ က ချောင်းကြည့် လိုက် တော့ သမီး က စောင် ပုံ ထဲ မှာ ။                                  \n",
       "\n",
       "                                                                                              english  \\\n",
       "14505  Why do the people with diabetes tend to get infected easily, injured easily than other people.   \n",
       "20682  When she peeked from the bedroom, her daughter was in the blanket.                               \n",
       "\n",
       "       translator  \\\n",
       "14505  1            \n",
       "20682  3            \n",
       "\n",
       "                                                                                                     syl_txt  \\\n",
       "14505  ဆီး ချို ရော ဂါ ရှိ တဲ့ သူ တွေ က ဘာ ကြောင့် သူ များ တွေ ထက် ပိုး ဝင် လွယ် ၊ အ နာ ဖြစ် လွယ် နေ ရ တာ လဲ   \n",
       "20682  သူ မ အိပ် ခန်း ၀ က ချောင်း ကြည့် လိုက် တော့ သ မီး က စောင် ပုံ ထဲ မှာ ။                                  \n",
       "\n",
       "                                                       label  syl_len  \\\n",
       "14505  0 1 0 1 1 1 1 1 1 1 1 1 1 1 1 0 1 1 1 0 1 1 1 1 1 1 1  27        \n",
       "20682  0 1 0 1 1 1 0 1 1 1 0 1 1 1 1 1 1 1                    18        \n",
       "\n",
       "       label_len  \n",
       "14505  27         \n",
       "20682  18         "
      ]
     },
     "execution_count": 28,
     "metadata": {},
     "output_type": "execute_result"
    }
   ],
   "source": [
    "test.head(2)"
   ]
  },
  {
   "cell_type": "code",
   "execution_count": 48,
   "metadata": {
    "ExecuteTime": {
     "end_time": "2022-05-19T07:35:09.511325Z",
     "start_time": "2022-05-19T07:35:09.495481Z"
    }
   },
   "outputs": [],
   "source": [
    "import pickle\n",
    "\n",
    "# saving\n",
    "with open('wb_model/tokenizer_v2.pickle', 'wb') as handle:\n",
    "    pickle.dump(tokenizer, handle, protocol=pickle.HIGHEST_PROTOCOL)\n",
    "\n",
    "# loading\n",
    "# with open('wb_model/tokenizer_v1.pickle', 'rb') as handle:\n",
    "#     tokenizer = pickle.load(handle)"
   ]
  },
  {
   "cell_type": "code",
   "execution_count": 38,
   "metadata": {
    "ExecuteTime": {
     "end_time": "2022-02-24T10:12:10.907343Z",
     "start_time": "2022-02-24T10:12:10.738361Z"
    }
   },
   "outputs": [
    {
     "name": "stdout",
     "output_type": "stream",
     "text": [
      "/home/ai-server/Documents/workspace_sa\r\n"
     ]
    }
   ],
   "source": [
    "!pwd"
   ]
  },
  {
   "cell_type": "code",
   "execution_count": 10,
   "metadata": {
    "ExecuteTime": {
     "end_time": "2022-05-20T02:52:36.729344Z",
     "start_time": "2022-05-20T02:52:36.583594Z"
    },
    "colab": {
     "base_uri": "https://localhost:8080/"
    },
    "id": "zfEP8VVytr4s",
    "outputId": "1adce244-27e8-4436-f586-fc4dd3c93ad9"
   },
   "outputs": [
    {
     "name": "stdout",
     "output_type": "stream",
     "text": [
      "Shape of data tensor: (64554, 300)\n"
     ]
    }
   ],
   "source": [
    "maxlen = 300\n",
    "#training data\n",
    "x_train_seq = pad_sequences(sequences, maxlen=maxlen,padding='post',value=word_index['PAD'])\n",
    "print('Shape of data tensor:', x_train_seq.shape)\n",
    "\n",
    "# #validation data\n",
    "# sequences_val = tokenizer.texts_to_sequences(validation.message)\n",
    "# x_val_seq = pad_sequences(sequences_val, maxlen=maxlen,padding='post',value=word_index['PAD'])\n",
    "\n",
    "#testing data\n",
    "sequences_test = tokenizer.texts_to_sequences(test[\"syl_txt\"].tolist())\n",
    "x_test_seq = pad_sequences(sequences_test, maxlen=maxlen,padding='post',value=word_index['PAD'])\n"
   ]
  },
  {
   "cell_type": "code",
   "execution_count": 36,
   "metadata": {
    "ExecuteTime": {
     "end_time": "2022-01-01T04:14:38.540458Z",
     "start_time": "2022-01-01T04:14:38.536431Z"
    }
   },
   "outputs": [],
   "source": [
    "# oov_padded_sequences[:1]"
   ]
  },
  {
   "cell_type": "code",
   "execution_count": 152,
   "metadata": {
    "ExecuteTime": {
     "end_time": "2022-05-17T09:07:53.117492Z",
     "start_time": "2022-05-17T09:07:53.112276Z"
    }
   },
   "outputs": [],
   "source": [
    "#x_test_seq[:1]"
   ]
  },
  {
   "cell_type": "code",
   "execution_count": 50,
   "metadata": {
    "ExecuteTime": {
     "end_time": "2022-05-19T07:35:19.579482Z",
     "start_time": "2022-05-19T07:35:19.574790Z"
    }
   },
   "outputs": [
    {
     "data": {
      "text/plain": [
       "array([[182,   5,   8,  48,  24, 213, 124,   7, 283,  18, 398,   3,   4,\n",
       "          0,   0,   0,   0,   0,   0,   0,   0,   0,   0,   0,   0,   0,\n",
       "          0,   0,   0,   0,   0,   0,   0,   0,   0,   0,   0,   0,   0,\n",
       "          0,   0,   0,   0,   0,   0,   0,   0,   0,   0,   0,   0,   0,\n",
       "          0,   0,   0,   0,   0,   0,   0,   0,   0,   0,   0,   0,   0,\n",
       "          0,   0,   0,   0,   0,   0,   0,   0,   0,   0,   0,   0,   0,\n",
       "          0,   0,   0,   0,   0,   0,   0,   0,   0,   0,   0,   0,   0,\n",
       "          0,   0,   0,   0,   0,   0,   0,   0,   0,   0,   0,   0,   0,\n",
       "          0,   0,   0,   0,   0,   0,   0,   0,   0,   0,   0,   0,   0,\n",
       "          0,   0,   0,   0,   0,   0,   0,   0,   0,   0,   0,   0,   0,\n",
       "          0,   0,   0,   0,   0,   0,   0,   0,   0,   0,   0,   0,   0,\n",
       "          0,   0,   0,   0,   0,   0,   0,   0,   0,   0,   0,   0,   0,\n",
       "          0,   0,   0,   0,   0,   0,   0,   0,   0,   0,   0,   0,   0,\n",
       "          0,   0,   0,   0,   0,   0,   0,   0,   0,   0,   0,   0,   0,\n",
       "          0,   0,   0,   0,   0,   0,   0,   0,   0,   0,   0,   0,   0,\n",
       "          0,   0,   0,   0,   0,   0,   0,   0,   0,   0,   0,   0,   0,\n",
       "          0,   0,   0,   0,   0,   0,   0,   0,   0,   0,   0,   0,   0,\n",
       "          0,   0,   0,   0,   0,   0,   0,   0,   0,   0,   0,   0,   0,\n",
       "          0,   0,   0,   0,   0,   0,   0,   0,   0,   0,   0,   0,   0,\n",
       "          0,   0,   0,   0,   0,   0,   0,   0,   0,   0,   0,   0,   0,\n",
       "          0,   0,   0,   0,   0,   0,   0,   0,   0,   0,   0,   0,   0,\n",
       "          0,   0,   0,   0,   0,   0,   0,   0,   0,   0,   0,   0,   0,\n",
       "          0,   0,   0,   0,   0,   0,   0,   0,   0,   0,   0,   0,   0,\n",
       "          0]], dtype=int32)"
      ]
     },
     "execution_count": 50,
     "metadata": {},
     "output_type": "execute_result"
    }
   ],
   "source": [
    "x_test_seq[:1]"
   ]
  },
  {
   "cell_type": "markdown",
   "metadata": {
    "id": "89oHS63mLbla"
   },
   "source": [
    "## create y-tokenizer"
   ]
  },
  {
   "cell_type": "code",
   "execution_count": 11,
   "metadata": {
    "ExecuteTime": {
     "end_time": "2022-05-20T02:52:39.228186Z",
     "start_time": "2022-05-20T02:52:39.199268Z"
    },
    "id": "95FtnxG0tr4t"
   },
   "outputs": [],
   "source": [
    "train_pos_list = [data.split() for data in train[\"label\"]]\n",
    "test_pos_list = [data.split() for data in test[\"label\"]]\n",
    "# validation_pos_list = [data.split() for data in validation.pos]"
   ]
  },
  {
   "cell_type": "code",
   "execution_count": null,
   "metadata": {},
   "outputs": [],
   "source": []
  },
  {
   "cell_type": "code",
   "execution_count": 12,
   "metadata": {
    "ExecuteTime": {
     "end_time": "2022-05-20T02:52:40.415612Z",
     "start_time": "2022-05-20T02:52:40.217583Z"
    },
    "id": "dPnLAW4-tr4t"
   },
   "outputs": [],
   "source": [
    "y_train = [[int(i) for i in sent] for sent in train_pos_list]\n",
    "y_test = [[int(i) for i in sent] for sent in test_pos_list]"
   ]
  },
  {
   "cell_type": "code",
   "execution_count": 53,
   "metadata": {
    "ExecuteTime": {
     "end_time": "2022-05-19T07:35:23.647935Z",
     "start_time": "2022-05-19T07:35:23.640748Z"
    }
   },
   "outputs": [
    {
     "data": {
      "text/plain": [
       "[[2, 2, 1, 1, 1, 1, 2, 2, 1, 1, 1, 1, 1, 1, 1, 1, 1, 1, 2],\n",
       " [2, 2, 1, 1, 1, 2, 1, 1, 1, 2],\n",
       " [2, 1, 2, 1, 1, 1, 2, 2, 1, 2, 1, 1, 1, 1, 1, 1, 2],\n",
       " [2, 2, 2, 1, 1, 1, 1, 2, 1, 2, 2, 1, 2, 2, 1, 2, 2, 1, 1, 1, 2, 1, 1, 2],\n",
       " [2, 1, 1, 1, 2]]"
      ]
     },
     "execution_count": 53,
     "metadata": {},
     "output_type": "execute_result"
    }
   ],
   "source": [
    "y_train[0:5]"
   ]
  },
  {
   "cell_type": "code",
   "execution_count": 13,
   "metadata": {
    "ExecuteTime": {
     "end_time": "2022-05-20T02:52:42.043055Z",
     "start_time": "2022-05-20T02:52:41.924141Z"
    },
    "id": "6b0hxnoxtr4u"
   },
   "outputs": [],
   "source": [
    "padded_y_train = pad_sequences(maxlen=maxlen, sequences=y_train, padding=\"post\", value=0)\n",
    "\n",
    "padded_y_test = pad_sequences(maxlen=maxlen, sequences=y_test, padding=\"post\", value=0)\n",
    "\n",
    "# padded_y_train = pad_sequences(maxlen=maxlen, sequences=y_train, padding=\"post\", value=2)\n",
    "\n",
    "# padded_y_test = pad_sequences(maxlen=maxlen, sequences=y_test, padding=\"post\", value=2)"
   ]
  },
  {
   "cell_type": "code",
   "execution_count": 14,
   "metadata": {
    "ExecuteTime": {
     "end_time": "2022-05-20T02:52:43.156903Z",
     "start_time": "2022-05-20T02:52:43.150026Z"
    },
    "id": "J9DVTz8Ntr4u"
   },
   "outputs": [],
   "source": [
    "import numpy as np\n",
    "from tensorflow.keras.utils import to_categorical\n",
    "from sklearn.preprocessing import LabelEncoder"
   ]
  },
  {
   "cell_type": "code",
   "execution_count": 56,
   "metadata": {
    "ExecuteTime": {
     "end_time": "2022-05-19T07:35:28.123307Z",
     "start_time": "2022-05-19T07:35:28.113679Z"
    }
   },
   "outputs": [
    {
     "data": {
      "text/plain": [
       "array([[2, 1, 1, ..., 0, 0, 0],\n",
       "       [2, 2, 1, ..., 0, 0, 0],\n",
       "       [1, 1, 2, ..., 0, 0, 0],\n",
       "       [2, 2, 1, ..., 0, 0, 0],\n",
       "       [1, 2, 1, ..., 0, 0, 0]], dtype=int32)"
      ]
     },
     "execution_count": 56,
     "metadata": {},
     "output_type": "execute_result"
    }
   ],
   "source": [
    "padded_y_test[0:5]"
   ]
  },
  {
   "cell_type": "code",
   "execution_count": 44,
   "metadata": {
    "ExecuteTime": {
     "end_time": "2022-02-22T03:36:45.701212Z",
     "start_time": "2022-02-22T03:36:45.518856Z"
    }
   },
   "outputs": [],
   "source": [
    "#test =  np.array([to_categorical(i, num_classes=3) for i in padded_y_train])"
   ]
  },
  {
   "cell_type": "code",
   "execution_count": 21,
   "metadata": {
    "ExecuteTime": {
     "end_time": "2022-02-25T03:22:56.508112Z",
     "start_time": "2022-02-25T03:22:56.335909Z"
    }
   },
   "outputs": [],
   "source": [
    "# number_of_classes = 2\n",
    "# # convert to categorical\n",
    "# y_train_categorical = np.array([to_categorical(i, num_classes=number_of_classes) for i in padded_y_train])\n",
    "# y_test_categorical = np.array([to_categorical(i, num_classes=number_of_classes) for i in padded_y_test])\n",
    "# # y_val_categorical = np.array([to_categorical(i, num_classes=pos_num_of_classes) for i in padded_y_validation])"
   ]
  },
  {
   "cell_type": "code",
   "execution_count": 15,
   "metadata": {
    "ExecuteTime": {
     "end_time": "2022-05-20T02:52:45.224142Z",
     "start_time": "2022-05-20T02:52:44.772862Z"
    },
    "id": "2iE--VKGtr4v"
   },
   "outputs": [],
   "source": [
    "number_of_classes = 3\n",
    "# convert to categorical\n",
    "y_train_categorical = np.array([to_categorical(i, num_classes=number_of_classes) for i in padded_y_train])\n",
    "y_test_categorical = np.array([to_categorical(i, num_classes=number_of_classes) for i in padded_y_test])\n",
    "# y_val_categorical = np.array([to_categorical(i, num_classes=pos_num_of_classes) for i in padded_y_validation])"
   ]
  },
  {
   "cell_type": "code",
   "execution_count": 58,
   "metadata": {
    "ExecuteTime": {
     "end_time": "2022-05-19T07:35:31.176331Z",
     "start_time": "2022-05-19T07:35:31.169965Z"
    }
   },
   "outputs": [
    {
     "data": {
      "text/plain": [
       "array([[2, 2, 1, 1, 1, 1, 2, 2, 1, 1, 1, 1, 1, 1, 1, 1, 1, 1, 2, 0, 0, 0,\n",
       "        0, 0, 0, 0, 0, 0, 0, 0, 0, 0, 0, 0, 0, 0, 0, 0, 0, 0, 0, 0, 0, 0,\n",
       "        0, 0, 0, 0, 0, 0, 0, 0, 0, 0, 0, 0, 0, 0, 0, 0, 0, 0, 0, 0, 0, 0,\n",
       "        0, 0, 0, 0, 0, 0, 0, 0, 0, 0, 0, 0, 0, 0, 0, 0, 0, 0, 0, 0, 0, 0,\n",
       "        0, 0, 0, 0, 0, 0, 0, 0, 0, 0, 0, 0, 0, 0, 0, 0, 0, 0, 0, 0, 0, 0,\n",
       "        0, 0, 0, 0, 0, 0, 0, 0, 0, 0, 0, 0, 0, 0, 0, 0, 0, 0, 0, 0, 0, 0,\n",
       "        0, 0, 0, 0, 0, 0, 0, 0, 0, 0, 0, 0, 0, 0, 0, 0, 0, 0, 0, 0, 0, 0,\n",
       "        0, 0, 0, 0, 0, 0, 0, 0, 0, 0, 0, 0, 0, 0, 0, 0, 0, 0, 0, 0, 0, 0,\n",
       "        0, 0, 0, 0, 0, 0, 0, 0, 0, 0, 0, 0, 0, 0, 0, 0, 0, 0, 0, 0, 0, 0,\n",
       "        0, 0, 0, 0, 0, 0, 0, 0, 0, 0, 0, 0, 0, 0, 0, 0, 0, 0, 0, 0, 0, 0,\n",
       "        0, 0, 0, 0, 0, 0, 0, 0, 0, 0, 0, 0, 0, 0, 0, 0, 0, 0, 0, 0, 0, 0,\n",
       "        0, 0, 0, 0, 0, 0, 0, 0, 0, 0, 0, 0, 0, 0, 0, 0, 0, 0, 0, 0, 0, 0,\n",
       "        0, 0, 0, 0, 0, 0, 0, 0, 0, 0, 0, 0, 0, 0, 0, 0, 0, 0, 0, 0, 0, 0,\n",
       "        0, 0, 0, 0, 0, 0, 0, 0, 0, 0, 0, 0, 0, 0]], dtype=int32)"
      ]
     },
     "execution_count": 58,
     "metadata": {},
     "output_type": "execute_result"
    }
   ],
   "source": [
    "padded_y_train[:1]"
   ]
  },
  {
   "cell_type": "markdown",
   "metadata": {},
   "source": [
    "# with tf2"
   ]
  },
  {
   "cell_type": "code",
   "execution_count": 17,
   "metadata": {
    "ExecuteTime": {
     "end_time": "2022-05-20T02:53:11.189922Z",
     "start_time": "2022-05-20T02:53:11.183383Z"
    }
   },
   "outputs": [],
   "source": [
    "#import matplotlib.pyplot as plt\n",
    "import os\n",
    "import re\n",
    "import shutil\n",
    "import string\n",
    "import tensorflow as tf\n",
    "\n",
    "from tensorflow.keras import layers\n",
    "from tensorflow.keras import losses\n",
    "from tensorflow.keras.layers import Input, Embedding, Bidirectional, LSTM, TimeDistributed, Dense\n",
    "from keras import Model"
   ]
  },
  {
   "cell_type": "code",
   "execution_count": null,
   "metadata": {},
   "outputs": [],
   "source": []
  },
  {
   "cell_type": "markdown",
   "metadata": {},
   "source": [
    "## build nn and train model"
   ]
  },
  {
   "cell_type": "code",
   "execution_count": 60,
   "metadata": {
    "ExecuteTime": {
     "end_time": "2022-05-19T07:37:23.684230Z",
     "start_time": "2022-05-19T07:37:23.003522Z"
    }
   },
   "outputs": [
    {
     "name": "stdout",
     "output_type": "stream",
     "text": [
      "WARNING:tensorflow:Layer lstm will not use cuDNN kernels since it doesn't meet the criteria. It will use a generic GPU kernel as fallback when running on GPU.\n",
      "WARNING:tensorflow:Layer lstm will not use cuDNN kernels since it doesn't meet the criteria. It will use a generic GPU kernel as fallback when running on GPU.\n",
      "WARNING:tensorflow:Layer lstm will not use cuDNN kernels since it doesn't meet the criteria. It will use a generic GPU kernel as fallback when running on GPU.\n"
     ]
    },
    {
     "name": "stderr",
     "output_type": "stream",
     "text": [
      "2022-05-19 14:07:23.060021: I tensorflow/stream_executor/cuda/cuda_gpu_executor.cc:939] successful NUMA node read from SysFS had negative value (-1), but there must be at least one NUMA node, so returning NUMA node zero\n",
      "2022-05-19 14:07:23.080613: I tensorflow/stream_executor/cuda/cuda_gpu_executor.cc:939] successful NUMA node read from SysFS had negative value (-1), but there must be at least one NUMA node, so returning NUMA node zero\n",
      "2022-05-19 14:07:23.080758: I tensorflow/stream_executor/cuda/cuda_gpu_executor.cc:939] successful NUMA node read from SysFS had negative value (-1), but there must be at least one NUMA node, so returning NUMA node zero\n",
      "2022-05-19 14:07:23.081160: I tensorflow/core/platform/cpu_feature_guard.cc:151] This TensorFlow binary is optimized with oneAPI Deep Neural Network Library (oneDNN) to use the following CPU instructions in performance-critical operations:  AVX2 AVX512F FMA\n",
      "To enable them in other operations, rebuild TensorFlow with the appropriate compiler flags.\n",
      "2022-05-19 14:07:23.081530: I tensorflow/stream_executor/cuda/cuda_gpu_executor.cc:939] successful NUMA node read from SysFS had negative value (-1), but there must be at least one NUMA node, so returning NUMA node zero\n",
      "2022-05-19 14:07:23.081663: I tensorflow/stream_executor/cuda/cuda_gpu_executor.cc:939] successful NUMA node read from SysFS had negative value (-1), but there must be at least one NUMA node, so returning NUMA node zero\n",
      "2022-05-19 14:07:23.081773: I tensorflow/stream_executor/cuda/cuda_gpu_executor.cc:939] successful NUMA node read from SysFS had negative value (-1), but there must be at least one NUMA node, so returning NUMA node zero\n",
      "2022-05-19 14:07:23.352524: I tensorflow/stream_executor/cuda/cuda_gpu_executor.cc:939] successful NUMA node read from SysFS had negative value (-1), but there must be at least one NUMA node, so returning NUMA node zero\n",
      "2022-05-19 14:07:23.352671: I tensorflow/stream_executor/cuda/cuda_gpu_executor.cc:939] successful NUMA node read from SysFS had negative value (-1), but there must be at least one NUMA node, so returning NUMA node zero\n",
      "2022-05-19 14:07:23.352775: I tensorflow/stream_executor/cuda/cuda_gpu_executor.cc:939] successful NUMA node read from SysFS had negative value (-1), but there must be at least one NUMA node, so returning NUMA node zero\n",
      "2022-05-19 14:07:23.352867: I tensorflow/core/common_runtime/gpu/gpu_device.cc:1525] Created device /job:localhost/replica:0/task:0/device:GPU:0 with 10222 MB memory:  -> device: 0, name: NVIDIA GeForce RTX 3060, pci bus id: 0000:01:00.0, compute capability: 8.6\n"
     ]
    },
    {
     "name": "stdout",
     "output_type": "stream",
     "text": [
      "WARNING:tensorflow:Layer lstm_1 will not use cuDNN kernels since it doesn't meet the criteria. It will use a generic GPU kernel as fallback when running on GPU.\n",
      "WARNING:tensorflow:Layer lstm_1 will not use cuDNN kernels since it doesn't meet the criteria. It will use a generic GPU kernel as fallback when running on GPU.\n",
      "WARNING:tensorflow:Layer lstm_1 will not use cuDNN kernels since it doesn't meet the criteria. It will use a generic GPU kernel as fallback when running on GPU.\n"
     ]
    }
   ],
   "source": [
    "inputs = Input(shape=(None,), dtype='int32')\n",
    "output = Embedding(input_dim=len(tokenizer.word_index)+1, output_dim=50, input_length=maxlen, trainable=True, mask_zero=True)(inputs)\n",
    "output = Bidirectional(LSTM(128, return_sequences=True,recurrent_dropout= 0.2))(output)\n",
    "output = Bidirectional(LSTM(64, return_sequences=True, recurrent_dropout= 0.2))(output)\n",
    "#output = TimeDistributed(Dense(2, activation=\"sigmoid\"))(output)\n",
    "\n",
    "output = TimeDistributed(Dense(3, activation=\"softmax\"))(output)\n",
    "model = Model(inputs=inputs, outputs = output, name ='wb_model')\n",
    "model.compile(loss='categorical_crossentropy',optimizer='adam',metrics='acc')\n",
    "\n",
    "#model.compile(loss='binary_crossentropy',optimizer='adam',metrics='acc')\n"
   ]
  },
  {
   "cell_type": "code",
   "execution_count": 61,
   "metadata": {
    "ExecuteTime": {
     "end_time": "2022-05-19T10:44:11.508926Z",
     "start_time": "2022-05-19T07:37:30.565729Z"
    },
    "scrolled": true
   },
   "outputs": [
    {
     "name": "stdout",
     "output_type": "stream",
     "text": [
      "Epoch 1/100\n"
     ]
    },
    {
     "name": "stderr",
     "output_type": "stream",
     "text": [
      "2022-05-19 14:07:35.797329: I tensorflow/stream_executor/cuda/cuda_blas.cc:1774] TensorFloat-32 will be used for the matrix multiplication. This will only be logged once.\n"
     ]
    },
    {
     "name": "stdout",
     "output_type": "stream",
     "text": [
      "2018/2018 [==============================] - 3263s 2s/step - loss: 0.0127 - acc: 0.9092 - val_loss: 0.0089 - val_acc: 0.9409\n",
      "Epoch 2/100\n",
      "2018/2018 [==============================] - 3258s 2s/step - loss: 0.0078 - acc: 0.9479 - val_loss: 0.0075 - val_acc: 0.9499\n",
      "Epoch 3/100\n",
      "2018/2018 [==============================] - 3260s 2s/step - loss: 0.0067 - acc: 0.9550 - val_loss: 0.0068 - val_acc: 0.9543\n",
      "Epoch 4/100\n",
      " 883/2018 [============>.................] - ETA: 30:22 - loss: 0.0061 - acc: 0.9590"
     ]
    },
    {
     "ename": "KeyboardInterrupt",
     "evalue": "",
     "output_type": "error",
     "traceback": [
      "\u001b[0;31m---------------------------------------------------------------------------\u001b[0m",
      "\u001b[0;31mKeyboardInterrupt\u001b[0m                         Traceback (most recent call last)",
      "\u001b[0;32m/tmp/ipykernel_3779815/4124526198.py\u001b[0m in \u001b[0;36m<module>\u001b[0;34m\u001b[0m\n\u001b[1;32m      1\u001b[0m model.fit(x_train_seq, y_train_categorical, \n\u001b[0;32m----> 2\u001b[0;31m                       validation_data=(x_test_seq, y_test_categorical), epochs=100)\n\u001b[0m",
      "\u001b[0;32m~/anaconda3/envs/mt_tf_2/lib/python3.7/site-packages/keras/utils/traceback_utils.py\u001b[0m in \u001b[0;36merror_handler\u001b[0;34m(*args, **kwargs)\u001b[0m\n\u001b[1;32m     62\u001b[0m     \u001b[0mfiltered_tb\u001b[0m \u001b[0;34m=\u001b[0m \u001b[0;32mNone\u001b[0m\u001b[0;34m\u001b[0m\u001b[0;34m\u001b[0m\u001b[0m\n\u001b[1;32m     63\u001b[0m     \u001b[0;32mtry\u001b[0m\u001b[0;34m:\u001b[0m\u001b[0;34m\u001b[0m\u001b[0;34m\u001b[0m\u001b[0m\n\u001b[0;32m---> 64\u001b[0;31m       \u001b[0;32mreturn\u001b[0m \u001b[0mfn\u001b[0m\u001b[0;34m(\u001b[0m\u001b[0;34m*\u001b[0m\u001b[0margs\u001b[0m\u001b[0;34m,\u001b[0m \u001b[0;34m**\u001b[0m\u001b[0mkwargs\u001b[0m\u001b[0;34m)\u001b[0m\u001b[0;34m\u001b[0m\u001b[0;34m\u001b[0m\u001b[0m\n\u001b[0m\u001b[1;32m     65\u001b[0m     \u001b[0;32mexcept\u001b[0m \u001b[0mException\u001b[0m \u001b[0;32mas\u001b[0m \u001b[0me\u001b[0m\u001b[0;34m:\u001b[0m  \u001b[0;31m# pylint: disable=broad-except\u001b[0m\u001b[0;34m\u001b[0m\u001b[0;34m\u001b[0m\u001b[0m\n\u001b[1;32m     66\u001b[0m       \u001b[0mfiltered_tb\u001b[0m \u001b[0;34m=\u001b[0m \u001b[0m_process_traceback_frames\u001b[0m\u001b[0;34m(\u001b[0m\u001b[0me\u001b[0m\u001b[0;34m.\u001b[0m\u001b[0m__traceback__\u001b[0m\u001b[0;34m)\u001b[0m\u001b[0;34m\u001b[0m\u001b[0;34m\u001b[0m\u001b[0m\n",
      "\u001b[0;32m~/anaconda3/envs/mt_tf_2/lib/python3.7/site-packages/keras/engine/training.py\u001b[0m in \u001b[0;36mfit\u001b[0;34m(self, x, y, batch_size, epochs, verbose, callbacks, validation_split, validation_data, shuffle, class_weight, sample_weight, initial_epoch, steps_per_epoch, validation_steps, validation_batch_size, validation_freq, max_queue_size, workers, use_multiprocessing)\u001b[0m\n\u001b[1;32m   1214\u001b[0m                 _r=1):\n\u001b[1;32m   1215\u001b[0m               \u001b[0mcallbacks\u001b[0m\u001b[0;34m.\u001b[0m\u001b[0mon_train_batch_begin\u001b[0m\u001b[0;34m(\u001b[0m\u001b[0mstep\u001b[0m\u001b[0;34m)\u001b[0m\u001b[0;34m\u001b[0m\u001b[0;34m\u001b[0m\u001b[0m\n\u001b[0;32m-> 1216\u001b[0;31m               \u001b[0mtmp_logs\u001b[0m \u001b[0;34m=\u001b[0m \u001b[0mself\u001b[0m\u001b[0;34m.\u001b[0m\u001b[0mtrain_function\u001b[0m\u001b[0;34m(\u001b[0m\u001b[0miterator\u001b[0m\u001b[0;34m)\u001b[0m\u001b[0;34m\u001b[0m\u001b[0;34m\u001b[0m\u001b[0m\n\u001b[0m\u001b[1;32m   1217\u001b[0m               \u001b[0;32mif\u001b[0m \u001b[0mdata_handler\u001b[0m\u001b[0;34m.\u001b[0m\u001b[0mshould_sync\u001b[0m\u001b[0;34m:\u001b[0m\u001b[0;34m\u001b[0m\u001b[0;34m\u001b[0m\u001b[0m\n\u001b[1;32m   1218\u001b[0m                 \u001b[0mcontext\u001b[0m\u001b[0;34m.\u001b[0m\u001b[0masync_wait\u001b[0m\u001b[0;34m(\u001b[0m\u001b[0;34m)\u001b[0m\u001b[0;34m\u001b[0m\u001b[0;34m\u001b[0m\u001b[0m\n",
      "\u001b[0;32m~/anaconda3/envs/mt_tf_2/lib/python3.7/site-packages/tensorflow/python/util/traceback_utils.py\u001b[0m in \u001b[0;36merror_handler\u001b[0;34m(*args, **kwargs)\u001b[0m\n\u001b[1;32m    148\u001b[0m     \u001b[0mfiltered_tb\u001b[0m \u001b[0;34m=\u001b[0m \u001b[0;32mNone\u001b[0m\u001b[0;34m\u001b[0m\u001b[0;34m\u001b[0m\u001b[0m\n\u001b[1;32m    149\u001b[0m     \u001b[0;32mtry\u001b[0m\u001b[0;34m:\u001b[0m\u001b[0;34m\u001b[0m\u001b[0;34m\u001b[0m\u001b[0m\n\u001b[0;32m--> 150\u001b[0;31m       \u001b[0;32mreturn\u001b[0m \u001b[0mfn\u001b[0m\u001b[0;34m(\u001b[0m\u001b[0;34m*\u001b[0m\u001b[0margs\u001b[0m\u001b[0;34m,\u001b[0m \u001b[0;34m**\u001b[0m\u001b[0mkwargs\u001b[0m\u001b[0;34m)\u001b[0m\u001b[0;34m\u001b[0m\u001b[0;34m\u001b[0m\u001b[0m\n\u001b[0m\u001b[1;32m    151\u001b[0m     \u001b[0;32mexcept\u001b[0m \u001b[0mException\u001b[0m \u001b[0;32mas\u001b[0m \u001b[0me\u001b[0m\u001b[0;34m:\u001b[0m\u001b[0;34m\u001b[0m\u001b[0;34m\u001b[0m\u001b[0m\n\u001b[1;32m    152\u001b[0m       \u001b[0mfiltered_tb\u001b[0m \u001b[0;34m=\u001b[0m \u001b[0m_process_traceback_frames\u001b[0m\u001b[0;34m(\u001b[0m\u001b[0me\u001b[0m\u001b[0;34m.\u001b[0m\u001b[0m__traceback__\u001b[0m\u001b[0;34m)\u001b[0m\u001b[0;34m\u001b[0m\u001b[0;34m\u001b[0m\u001b[0m\n",
      "\u001b[0;32m~/anaconda3/envs/mt_tf_2/lib/python3.7/site-packages/tensorflow/python/eager/def_function.py\u001b[0m in \u001b[0;36m__call__\u001b[0;34m(self, *args, **kwds)\u001b[0m\n\u001b[1;32m    908\u001b[0m \u001b[0;34m\u001b[0m\u001b[0m\n\u001b[1;32m    909\u001b[0m       \u001b[0;32mwith\u001b[0m \u001b[0mOptionalXlaContext\u001b[0m\u001b[0;34m(\u001b[0m\u001b[0mself\u001b[0m\u001b[0;34m.\u001b[0m\u001b[0m_jit_compile\u001b[0m\u001b[0;34m)\u001b[0m\u001b[0;34m:\u001b[0m\u001b[0;34m\u001b[0m\u001b[0;34m\u001b[0m\u001b[0m\n\u001b[0;32m--> 910\u001b[0;31m         \u001b[0mresult\u001b[0m \u001b[0;34m=\u001b[0m \u001b[0mself\u001b[0m\u001b[0;34m.\u001b[0m\u001b[0m_call\u001b[0m\u001b[0;34m(\u001b[0m\u001b[0;34m*\u001b[0m\u001b[0margs\u001b[0m\u001b[0;34m,\u001b[0m \u001b[0;34m**\u001b[0m\u001b[0mkwds\u001b[0m\u001b[0;34m)\u001b[0m\u001b[0;34m\u001b[0m\u001b[0;34m\u001b[0m\u001b[0m\n\u001b[0m\u001b[1;32m    911\u001b[0m \u001b[0;34m\u001b[0m\u001b[0m\n\u001b[1;32m    912\u001b[0m       \u001b[0mnew_tracing_count\u001b[0m \u001b[0;34m=\u001b[0m \u001b[0mself\u001b[0m\u001b[0;34m.\u001b[0m\u001b[0mexperimental_get_tracing_count\u001b[0m\u001b[0;34m(\u001b[0m\u001b[0;34m)\u001b[0m\u001b[0;34m\u001b[0m\u001b[0;34m\u001b[0m\u001b[0m\n",
      "\u001b[0;32m~/anaconda3/envs/mt_tf_2/lib/python3.7/site-packages/tensorflow/python/eager/def_function.py\u001b[0m in \u001b[0;36m_call\u001b[0;34m(self, *args, **kwds)\u001b[0m\n\u001b[1;32m    940\u001b[0m       \u001b[0;31m# In this case we have created variables on the first call, so we run the\u001b[0m\u001b[0;34m\u001b[0m\u001b[0;34m\u001b[0m\u001b[0;34m\u001b[0m\u001b[0m\n\u001b[1;32m    941\u001b[0m       \u001b[0;31m# defunned version which is guaranteed to never create variables.\u001b[0m\u001b[0;34m\u001b[0m\u001b[0;34m\u001b[0m\u001b[0;34m\u001b[0m\u001b[0m\n\u001b[0;32m--> 942\u001b[0;31m       \u001b[0;32mreturn\u001b[0m \u001b[0mself\u001b[0m\u001b[0;34m.\u001b[0m\u001b[0m_stateless_fn\u001b[0m\u001b[0;34m(\u001b[0m\u001b[0;34m*\u001b[0m\u001b[0margs\u001b[0m\u001b[0;34m,\u001b[0m \u001b[0;34m**\u001b[0m\u001b[0mkwds\u001b[0m\u001b[0;34m)\u001b[0m  \u001b[0;31m# pylint: disable=not-callable\u001b[0m\u001b[0;34m\u001b[0m\u001b[0;34m\u001b[0m\u001b[0m\n\u001b[0m\u001b[1;32m    943\u001b[0m     \u001b[0;32melif\u001b[0m \u001b[0mself\u001b[0m\u001b[0;34m.\u001b[0m\u001b[0m_stateful_fn\u001b[0m \u001b[0;32mis\u001b[0m \u001b[0;32mnot\u001b[0m \u001b[0;32mNone\u001b[0m\u001b[0;34m:\u001b[0m\u001b[0;34m\u001b[0m\u001b[0;34m\u001b[0m\u001b[0m\n\u001b[1;32m    944\u001b[0m       \u001b[0;31m# Release the lock early so that multiple threads can perform the call\u001b[0m\u001b[0;34m\u001b[0m\u001b[0;34m\u001b[0m\u001b[0;34m\u001b[0m\u001b[0m\n",
      "\u001b[0;32m~/anaconda3/envs/mt_tf_2/lib/python3.7/site-packages/tensorflow/python/eager/function.py\u001b[0m in \u001b[0;36m__call__\u001b[0;34m(self, *args, **kwargs)\u001b[0m\n\u001b[1;32m   3129\u001b[0m        filtered_flat_args) = self._maybe_define_function(args, kwargs)\n\u001b[1;32m   3130\u001b[0m     return graph_function._call_flat(\n\u001b[0;32m-> 3131\u001b[0;31m         filtered_flat_args, captured_inputs=graph_function.captured_inputs)  # pylint: disable=protected-access\n\u001b[0m\u001b[1;32m   3132\u001b[0m \u001b[0;34m\u001b[0m\u001b[0m\n\u001b[1;32m   3133\u001b[0m   \u001b[0;34m@\u001b[0m\u001b[0mproperty\u001b[0m\u001b[0;34m\u001b[0m\u001b[0;34m\u001b[0m\u001b[0m\n",
      "\u001b[0;32m~/anaconda3/envs/mt_tf_2/lib/python3.7/site-packages/tensorflow/python/eager/function.py\u001b[0m in \u001b[0;36m_call_flat\u001b[0;34m(self, args, captured_inputs, cancellation_manager)\u001b[0m\n\u001b[1;32m   1958\u001b[0m       \u001b[0;31m# No tape is watching; skip to running the function.\u001b[0m\u001b[0;34m\u001b[0m\u001b[0;34m\u001b[0m\u001b[0;34m\u001b[0m\u001b[0m\n\u001b[1;32m   1959\u001b[0m       return self._build_call_outputs(self._inference_function.call(\n\u001b[0;32m-> 1960\u001b[0;31m           ctx, args, cancellation_manager=cancellation_manager))\n\u001b[0m\u001b[1;32m   1961\u001b[0m     forward_backward = self._select_forward_and_backward_functions(\n\u001b[1;32m   1962\u001b[0m         \u001b[0margs\u001b[0m\u001b[0;34m,\u001b[0m\u001b[0;34m\u001b[0m\u001b[0;34m\u001b[0m\u001b[0m\n",
      "\u001b[0;32m~/anaconda3/envs/mt_tf_2/lib/python3.7/site-packages/tensorflow/python/eager/function.py\u001b[0m in \u001b[0;36mcall\u001b[0;34m(self, ctx, args, cancellation_manager)\u001b[0m\n\u001b[1;32m    601\u001b[0m               \u001b[0minputs\u001b[0m\u001b[0;34m=\u001b[0m\u001b[0margs\u001b[0m\u001b[0;34m,\u001b[0m\u001b[0;34m\u001b[0m\u001b[0;34m\u001b[0m\u001b[0m\n\u001b[1;32m    602\u001b[0m               \u001b[0mattrs\u001b[0m\u001b[0;34m=\u001b[0m\u001b[0mattrs\u001b[0m\u001b[0;34m,\u001b[0m\u001b[0;34m\u001b[0m\u001b[0;34m\u001b[0m\u001b[0m\n\u001b[0;32m--> 603\u001b[0;31m               ctx=ctx)\n\u001b[0m\u001b[1;32m    604\u001b[0m         \u001b[0;32melse\u001b[0m\u001b[0;34m:\u001b[0m\u001b[0;34m\u001b[0m\u001b[0;34m\u001b[0m\u001b[0m\n\u001b[1;32m    605\u001b[0m           outputs = execute.execute_with_cancellation(\n",
      "\u001b[0;32m~/anaconda3/envs/mt_tf_2/lib/python3.7/site-packages/tensorflow/python/eager/execute.py\u001b[0m in \u001b[0;36mquick_execute\u001b[0;34m(op_name, num_outputs, inputs, attrs, ctx, name)\u001b[0m\n\u001b[1;32m     57\u001b[0m     \u001b[0mctx\u001b[0m\u001b[0;34m.\u001b[0m\u001b[0mensure_initialized\u001b[0m\u001b[0;34m(\u001b[0m\u001b[0;34m)\u001b[0m\u001b[0;34m\u001b[0m\u001b[0;34m\u001b[0m\u001b[0m\n\u001b[1;32m     58\u001b[0m     tensors = pywrap_tfe.TFE_Py_Execute(ctx._handle, device_name, op_name,\n\u001b[0;32m---> 59\u001b[0;31m                                         inputs, attrs, num_outputs)\n\u001b[0m\u001b[1;32m     60\u001b[0m   \u001b[0;32mexcept\u001b[0m \u001b[0mcore\u001b[0m\u001b[0;34m.\u001b[0m\u001b[0m_NotOkStatusException\u001b[0m \u001b[0;32mas\u001b[0m \u001b[0me\u001b[0m\u001b[0;34m:\u001b[0m\u001b[0;34m\u001b[0m\u001b[0;34m\u001b[0m\u001b[0m\n\u001b[1;32m     61\u001b[0m     \u001b[0;32mif\u001b[0m \u001b[0mname\u001b[0m \u001b[0;32mis\u001b[0m \u001b[0;32mnot\u001b[0m \u001b[0;32mNone\u001b[0m\u001b[0;34m:\u001b[0m\u001b[0;34m\u001b[0m\u001b[0;34m\u001b[0m\u001b[0m\n",
      "\u001b[0;31mKeyboardInterrupt\u001b[0m: "
     ]
    }
   ],
   "source": [
    "model.fit(x_train_seq, y_train_categorical, \n",
    "                      validation_data=(x_test_seq, y_test_categorical), epochs=100)"
   ]
  },
  {
   "cell_type": "code",
   "execution_count": 62,
   "metadata": {
    "ExecuteTime": {
     "end_time": "2022-05-19T10:44:30.913851Z",
     "start_time": "2022-05-19T10:44:24.120452Z"
    }
   },
   "outputs": [
    {
     "name": "stderr",
     "output_type": "stream",
     "text": [
      "2022-05-19 17:14:26.367362: W tensorflow/python/util/util.cc:368] Sets are not currently considered sequences, but this may change in the future, so consider avoiding using them.\n"
     ]
    },
    {
     "name": "stdout",
     "output_type": "stream",
     "text": [
      "INFO:tensorflow:Assets written to: wb_model/wb_model_v2/assets\n"
     ]
    },
    {
     "name": "stderr",
     "output_type": "stream",
     "text": [
      "WARNING:absl:<keras.layers.recurrent.LSTMCell object at 0x7f040f847850> has the same name 'LSTMCell' as a built-in Keras object. Consider renaming <class 'keras.layers.recurrent.LSTMCell'> to avoid naming conflicts when loading with `tf.keras.models.load_model`. If renaming is not possible, pass the object in the `custom_objects` parameter of the load function.\n",
      "WARNING:absl:<keras.layers.recurrent.LSTMCell object at 0x7f040f9f8d50> has the same name 'LSTMCell' as a built-in Keras object. Consider renaming <class 'keras.layers.recurrent.LSTMCell'> to avoid naming conflicts when loading with `tf.keras.models.load_model`. If renaming is not possible, pass the object in the `custom_objects` parameter of the load function.\n",
      "WARNING:absl:<keras.layers.recurrent.LSTMCell object at 0x7f040f4e9250> has the same name 'LSTMCell' as a built-in Keras object. Consider renaming <class 'keras.layers.recurrent.LSTMCell'> to avoid naming conflicts when loading with `tf.keras.models.load_model`. If renaming is not possible, pass the object in the `custom_objects` parameter of the load function.\n",
      "WARNING:absl:<keras.layers.recurrent.LSTMCell object at 0x7f040f4e9090> has the same name 'LSTMCell' as a built-in Keras object. Consider renaming <class 'keras.layers.recurrent.LSTMCell'> to avoid naming conflicts when loading with `tf.keras.models.load_model`. If renaming is not possible, pass the object in the `custom_objects` parameter of the load function.\n"
     ]
    }
   ],
   "source": [
    "model.save('wb_model/wb_model_v2')"
   ]
  },
  {
   "cell_type": "code",
   "execution_count": 63,
   "metadata": {
    "ExecuteTime": {
     "end_time": "2022-05-19T10:44:56.549084Z",
     "start_time": "2022-05-19T10:44:56.513850Z"
    }
   },
   "outputs": [],
   "source": [
    "model.save('wb_model/wb_model_v2/wb_model_v2.h5')"
   ]
  },
  {
   "cell_type": "code",
   "execution_count": 24,
   "metadata": {
    "ExecuteTime": {
     "end_time": "2022-02-24T10:01:25.300790Z",
     "start_time": "2022-02-24T10:01:18.466149Z"
    }
   },
   "outputs": [
    {
     "name": "stdout",
     "output_type": "stream",
     "text": [
      "WARNING:tensorflow:AutoGraph could not transform <function trace_model_call.<locals>._wrapped_model at 0x7fe38611acb0> and will run it as-is.\n",
      "Please report this to the TensorFlow team. When filing the bug, set the verbosity to 10 (on Linux, `export AUTOGRAPH_VERBOSITY=10`) and attach the full output.\n",
      "Cause: module 'gast' has no attribute 'Constant'\n",
      "To silence this warning, decorate the function with @tf.autograph.experimental.do_not_convert\n",
      "WARNING: AutoGraph could not transform <function trace_model_call.<locals>._wrapped_model at 0x7fe38611acb0> and will run it as-is.\n",
      "Please report this to the TensorFlow team. When filing the bug, set the verbosity to 10 (on Linux, `export AUTOGRAPH_VERBOSITY=10`) and attach the full output.\n",
      "Cause: module 'gast' has no attribute 'Constant'\n",
      "To silence this warning, decorate the function with @tf.autograph.experimental.do_not_convert\n"
     ]
    },
    {
     "name": "stderr",
     "output_type": "stream",
     "text": [
      "2022-02-24 16:31:20.764209: W tensorflow/python/util/util.cc:368] Sets are not currently considered sequences, but this may change in the future, so consider avoiding using them.\n"
     ]
    },
    {
     "name": "stdout",
     "output_type": "stream",
     "text": [
      "WARNING:tensorflow:AutoGraph could not transform <function canonicalize_signatures.<locals>.signature_wrapper at 0x7fe3857fbef0> and will run it as-is.\n",
      "Please report this to the TensorFlow team. When filing the bug, set the verbosity to 10 (on Linux, `export AUTOGRAPH_VERBOSITY=10`) and attach the full output.\n",
      "Cause: 'arguments' object has no attribute 'posonlyargs'\n",
      "To silence this warning, decorate the function with @tf.autograph.experimental.do_not_convert\n",
      "WARNING: AutoGraph could not transform <function canonicalize_signatures.<locals>.signature_wrapper at 0x7fe3857fbef0> and will run it as-is.\n",
      "Please report this to the TensorFlow team. When filing the bug, set the verbosity to 10 (on Linux, `export AUTOGRAPH_VERBOSITY=10`) and attach the full output.\n",
      "Cause: 'arguments' object has no attribute 'posonlyargs'\n",
      "To silence this warning, decorate the function with @tf.autograph.experimental.do_not_convert\n",
      "INFO:tensorflow:Assets written to: wb_model/wb_model_v1/assets\n"
     ]
    },
    {
     "name": "stderr",
     "output_type": "stream",
     "text": [
      "WARNING:absl:<keras.layers.recurrent.LSTMCell object at 0x7fe389e19650> has the same name 'LSTMCell' as a built-in Keras object. Consider renaming <class 'keras.layers.recurrent.LSTMCell'> to avoid naming conflicts when loading with `tf.keras.models.load_model`. If renaming is not possible, pass the object in the `custom_objects` parameter of the load function.\n",
      "WARNING:absl:<keras.layers.recurrent.LSTMCell object at 0x7fe389d59750> has the same name 'LSTMCell' as a built-in Keras object. Consider renaming <class 'keras.layers.recurrent.LSTMCell'> to avoid naming conflicts when loading with `tf.keras.models.load_model`. If renaming is not possible, pass the object in the `custom_objects` parameter of the load function.\n",
      "WARNING:absl:<keras.layers.recurrent.LSTMCell object at 0x7fe38ab46bd0> has the same name 'LSTMCell' as a built-in Keras object. Consider renaming <class 'keras.layers.recurrent.LSTMCell'> to avoid naming conflicts when loading with `tf.keras.models.load_model`. If renaming is not possible, pass the object in the `custom_objects` parameter of the load function.\n",
      "WARNING:absl:<keras.layers.recurrent.LSTMCell object at 0x7fe38ab547d0> has the same name 'LSTMCell' as a built-in Keras object. Consider renaming <class 'keras.layers.recurrent.LSTMCell'> to avoid naming conflicts when loading with `tf.keras.models.load_model`. If renaming is not possible, pass the object in the `custom_objects` parameter of the load function.\n"
     ]
    }
   ],
   "source": []
  },
  {
   "cell_type": "markdown",
   "metadata": {},
   "source": [
    "# save and load models"
   ]
  },
  {
   "cell_type": "code",
   "execution_count": 23,
   "metadata": {
    "ExecuteTime": {
     "end_time": "2022-02-24T10:00:59.189861Z",
     "start_time": "2022-02-24T10:00:59.184637Z"
    },
    "scrolled": true
   },
   "outputs": [],
   "source": [
    "#model.save('wb_model/wb_model_v1.h5')"
   ]
  },
  {
   "cell_type": "code",
   "execution_count": 25,
   "metadata": {
    "ExecuteTime": {
     "end_time": "2022-02-24T10:01:25.383992Z",
     "start_time": "2022-02-24T10:01:25.382418Z"
    },
    "scrolled": true
   },
   "outputs": [],
   "source": [
    "#model.save('wb_model/wb_model_v1')"
   ]
  },
  {
   "cell_type": "code",
   "execution_count": 64,
   "metadata": {
    "ExecuteTime": {
     "end_time": "2022-05-19T10:45:07.328810Z",
     "start_time": "2022-05-19T10:45:07.319389Z"
    }
   },
   "outputs": [
    {
     "data": {
      "text/plain": [
       "'2.7.0'"
      ]
     },
     "execution_count": 64,
     "metadata": {},
     "output_type": "execute_result"
    }
   ],
   "source": [
    "tf.__version__"
   ]
  },
  {
   "cell_type": "code",
   "execution_count": 18,
   "metadata": {
    "ExecuteTime": {
     "end_time": "2022-05-20T02:53:17.900574Z",
     "start_time": "2022-05-20T02:53:14.638766Z"
    }
   },
   "outputs": [
    {
     "name": "stderr",
     "output_type": "stream",
     "text": [
      "2022-05-20 09:23:14.759130: I tensorflow/stream_executor/cuda/cuda_gpu_executor.cc:939] successful NUMA node read from SysFS had negative value (-1), but there must be at least one NUMA node, so returning NUMA node zero\n",
      "2022-05-20 09:23:14.792120: I tensorflow/stream_executor/cuda/cuda_gpu_executor.cc:939] successful NUMA node read from SysFS had negative value (-1), but there must be at least one NUMA node, so returning NUMA node zero\n",
      "2022-05-20 09:23:14.792258: I tensorflow/stream_executor/cuda/cuda_gpu_executor.cc:939] successful NUMA node read from SysFS had negative value (-1), but there must be at least one NUMA node, so returning NUMA node zero\n"
     ]
    },
    {
     "name": "stdout",
     "output_type": "stream",
     "text": [
      "WARNING:tensorflow:Layer lstm will not use cuDNN kernels since it doesn't meet the criteria. It will use a generic GPU kernel as fallback when running on GPU.\n",
      "WARNING:tensorflow:Layer lstm will not use cuDNN kernels since it doesn't meet the criteria. It will use a generic GPU kernel as fallback when running on GPU.\n",
      "WARNING:tensorflow:Layer lstm will not use cuDNN kernels since it doesn't meet the criteria. It will use a generic GPU kernel as fallback when running on GPU.\n",
      "WARNING:tensorflow:Layer lstm_1 will not use cuDNN kernels since it doesn't meet the criteria. It will use a generic GPU kernel as fallback when running on GPU.\n",
      "WARNING:tensorflow:Layer lstm_1 will not use cuDNN kernels since it doesn't meet the criteria. It will use a generic GPU kernel as fallback when running on GPU.\n",
      "WARNING:tensorflow:Layer lstm_1 will not use cuDNN kernels since it doesn't meet the criteria. It will use a generic GPU kernel as fallback when running on GPU.\n"
     ]
    },
    {
     "name": "stderr",
     "output_type": "stream",
     "text": [
      "2022-05-20 09:23:14.792866: I tensorflow/core/platform/cpu_feature_guard.cc:151] This TensorFlow binary is optimized with oneAPI Deep Neural Network Library (oneDNN) to use the following CPU instructions in performance-critical operations:  AVX2 AVX512F FMA\n",
      "To enable them in other operations, rebuild TensorFlow with the appropriate compiler flags.\n",
      "2022-05-20 09:23:14.793553: I tensorflow/stream_executor/cuda/cuda_gpu_executor.cc:939] successful NUMA node read from SysFS had negative value (-1), but there must be at least one NUMA node, so returning NUMA node zero\n",
      "2022-05-20 09:23:14.793688: I tensorflow/stream_executor/cuda/cuda_gpu_executor.cc:939] successful NUMA node read from SysFS had negative value (-1), but there must be at least one NUMA node, so returning NUMA node zero\n",
      "2022-05-20 09:23:14.793796: I tensorflow/stream_executor/cuda/cuda_gpu_executor.cc:939] successful NUMA node read from SysFS had negative value (-1), but there must be at least one NUMA node, so returning NUMA node zero\n",
      "2022-05-20 09:23:15.063096: I tensorflow/stream_executor/cuda/cuda_gpu_executor.cc:939] successful NUMA node read from SysFS had negative value (-1), but there must be at least one NUMA node, so returning NUMA node zero\n",
      "2022-05-20 09:23:15.063236: I tensorflow/stream_executor/cuda/cuda_gpu_executor.cc:939] successful NUMA node read from SysFS had negative value (-1), but there must be at least one NUMA node, so returning NUMA node zero\n",
      "2022-05-20 09:23:15.063339: I tensorflow/stream_executor/cuda/cuda_gpu_executor.cc:939] successful NUMA node read from SysFS had negative value (-1), but there must be at least one NUMA node, so returning NUMA node zero\n",
      "2022-05-20 09:23:15.063434: I tensorflow/core/common_runtime/gpu/gpu_device.cc:1525] Created device /job:localhost/replica:0/task:0/device:GPU:0 with 10222 MB memory:  -> device: 0, name: NVIDIA GeForce RTX 3060, pci bus id: 0000:01:00.0, compute capability: 8.6\n"
     ]
    }
   ],
   "source": [
    "model = tf.keras.models.load_model('wb_model/wb_model_v2')"
   ]
  },
  {
   "cell_type": "code",
   "execution_count": null,
   "metadata": {
    "ExecuteTime": {
     "start_time": "2022-05-20T02:53:31.918Z"
    }
   },
   "outputs": [
    {
     "name": "stderr",
     "output_type": "stream",
     "text": [
      "2022-05-20 09:23:31.966125: W tensorflow/core/framework/cpu_allocator_impl.cc:82] Allocation of 232394400 exceeds 10% of free system memory.\n",
      "2022-05-20 09:23:32.058768: W tensorflow/core/framework/cpu_allocator_impl.cc:82] Allocation of 232394400 exceeds 10% of free system memory.\n"
     ]
    },
    {
     "name": "stdout",
     "output_type": "stream",
     "text": [
      "Epoch 1/100\n"
     ]
    },
    {
     "name": "stderr",
     "output_type": "stream",
     "text": [
      "2022-05-20 09:23:37.105855: I tensorflow/stream_executor/cuda/cuda_blas.cc:1774] TensorFloat-32 will be used for the matrix multiplication. This will only be logged once.\n"
     ]
    },
    {
     "name": "stdout",
     "output_type": "stream",
     "text": [
      "2018/2018 [==============================] - 3227s 2s/step - loss: 0.0058 - acc: 0.9607 - val_loss: 0.0061 - val_acc: 0.9584\n",
      "Epoch 2/100\n",
      "2018/2018 [==============================] - 3246s 2s/step - loss: 0.0053 - acc: 0.9636 - val_loss: 0.0058 - val_acc: 0.9607\n",
      "Epoch 3/100\n",
      "2018/2018 [==============================] - 3251s 2s/step - loss: 0.0049 - acc: 0.9662 - val_loss: 0.0057 - val_acc: 0.9619\n",
      "Epoch 4/100\n",
      " 378/2018 [====>.........................] - ETA: 43:47 - loss: 0.0045 - acc: 0.9689"
     ]
    }
   ],
   "source": [
    "model.fit(x_train_seq, y_train_categorical, \n",
    "                      validation_data=(x_test_seq, y_test_categorical), epochs=100)"
   ]
  },
  {
   "cell_type": "code",
   "execution_count": 66,
   "metadata": {
    "ExecuteTime": {
     "end_time": "2022-05-19T10:45:23.649984Z",
     "start_time": "2022-05-19T10:45:23.644600Z"
    }
   },
   "outputs": [],
   "source": [
    "#model = tf.keras.models.load_model('wb_model/wb_model_v1')"
   ]
  },
  {
   "cell_type": "code",
   "execution_count": 67,
   "metadata": {
    "ExecuteTime": {
     "end_time": "2022-05-19T10:45:53.732150Z",
     "start_time": "2022-05-19T10:45:32.600767Z"
    }
   },
   "outputs": [
    {
     "name": "stdout",
     "output_type": "stream",
     "text": [
      "107/107 [==============================] - 21s 192ms/step - loss: 0.0067 - acc: 0.9557\n"
     ]
    },
    {
     "data": {
      "text/plain": [
       "[0.006655671633780003, 0.9557061195373535]"
      ]
     },
     "execution_count": 67,
     "metadata": {},
     "output_type": "execute_result"
    }
   ],
   "source": [
    "model.evaluate(x_test_seq,y_test_categorical,batch_size=32)"
   ]
  },
  {
   "cell_type": "code",
   "execution_count": 24,
   "metadata": {
    "ExecuteTime": {
     "end_time": "2022-02-25T03:23:30.537176Z",
     "start_time": "2022-02-25T03:23:21.689453Z"
    }
   },
   "outputs": [
    {
     "name": "stdout",
     "output_type": "stream",
     "text": [
      "  3/119 [..............................] - ETA: 7s - loss: 0.0222 - acc: 0.9511 "
     ]
    },
    {
     "name": "stderr",
     "output_type": "stream",
     "text": [
      "2022-02-25 09:53:22.746833: I tensorflow/stream_executor/cuda/cuda_blas.cc:1774] TensorFloat-32 will be used for the matrix multiplication. This will only be logged once.\n"
     ]
    },
    {
     "name": "stdout",
     "output_type": "stream",
     "text": [
      "119/119 [==============================] - 9s 65ms/step - loss: 0.0187 - acc: 0.9517\n"
     ]
    },
    {
     "data": {
      "text/plain": [
       "[0.018674645572900772, 0.9516650438308716]"
      ]
     },
     "execution_count": 24,
     "metadata": {},
     "output_type": "execute_result"
    }
   ],
   "source": [
    "model.evaluate(x_test_seq,y_test_categorical,batch_size=32)"
   ]
  },
  {
   "cell_type": "code",
   "execution_count": 68,
   "metadata": {
    "ExecuteTime": {
     "end_time": "2022-05-19T10:46:21.604658Z",
     "start_time": "2022-05-19T10:46:00.592642Z"
    }
   },
   "outputs": [
    {
     "name": "stdout",
     "output_type": "stream",
     "text": [
      "107/107 [==============================] - 21s 192ms/step\n"
     ]
    }
   ],
   "source": [
    "test_pred = model.predict(x_test_seq, verbose=1)"
   ]
  },
  {
   "cell_type": "code",
   "execution_count": null,
   "metadata": {},
   "outputs": [],
   "source": []
  },
  {
   "cell_type": "markdown",
   "metadata": {},
   "source": [
    "# model prediction"
   ]
  },
  {
   "cell_type": "code",
   "execution_count": null,
   "metadata": {},
   "outputs": [],
   "source": []
  },
  {
   "cell_type": "code",
   "execution_count": 26,
   "metadata": {
    "ExecuteTime": {
     "end_time": "2022-02-25T03:24:51.866366Z",
     "start_time": "2022-02-25T03:24:51.860549Z"
    }
   },
   "outputs": [],
   "source": [
    "def pred2label(pred, len_list):\n",
    "    out = []\n",
    "    for pred_i, sent in zip(pred, len_list):\n",
    "        length = len(sent.split())\n",
    "        update_len = pred_i[:length]\n",
    "        out_i = []\n",
    "        for p in update_len:\n",
    "            p_i = np.argmax(p)\n",
    "            out_i.append(str(p_i))\n",
    "        #print(len(out_i))\n",
    "        out.append(out_i)\n",
    "    return out"
   ]
  },
  {
   "cell_type": "code",
   "execution_count": null,
   "metadata": {},
   "outputs": [],
   "source": []
  },
  {
   "cell_type": "code",
   "execution_count": 34,
   "metadata": {
    "ExecuteTime": {
     "end_time": "2022-02-25T03:31:53.054734Z",
     "start_time": "2022-02-25T03:31:53.048318Z"
    }
   },
   "outputs": [
    {
     "data": {
      "text/plain": [
       "35853    0 1 0 1 0 1 1 1 1 1 1 1 0\n",
       "465      0 1 0 0 1 0 1 0          \n",
       "Name: label, dtype: object"
      ]
     },
     "execution_count": 34,
     "metadata": {},
     "output_type": "execute_result"
    }
   ],
   "source": [
    "test.label[0:2]"
   ]
  },
  {
   "cell_type": "code",
   "execution_count": 27,
   "metadata": {
    "ExecuteTime": {
     "end_time": "2022-02-25T03:24:53.959016Z",
     "start_time": "2022-02-25T03:24:53.950960Z"
    }
   },
   "outputs": [],
   "source": [
    "test_sent = pred2label(test_pred[0:2], test.label[0:2])"
   ]
  },
  {
   "cell_type": "code",
   "execution_count": null,
   "metadata": {},
   "outputs": [],
   "source": []
  },
  {
   "cell_type": "code",
   "execution_count": 28,
   "metadata": {
    "ExecuteTime": {
     "end_time": "2022-02-25T03:25:01.873003Z",
     "start_time": "2022-02-25T03:25:01.638125Z"
    }
   },
   "outputs": [],
   "source": [
    "pred_labels = pred2label(test_pred, test.label)\n",
    "test_labels = pred2label(y_test_categorical, test.label)"
   ]
  },
  {
   "cell_type": "code",
   "execution_count": 29,
   "metadata": {
    "ExecuteTime": {
     "end_time": "2022-02-25T03:25:02.843829Z",
     "start_time": "2022-02-25T03:25:02.837446Z"
    }
   },
   "outputs": [],
   "source": [
    "pred_lables_sequence = [' '.join(data) for data in pred_labels]\n",
    "test_lables_sequence = [' '.join(data) for data in test_labels]"
   ]
  },
  {
   "cell_type": "code",
   "execution_count": 30,
   "metadata": {
    "ExecuteTime": {
     "end_time": "2022-02-25T03:25:12.268553Z",
     "start_time": "2022-02-25T03:25:12.243870Z"
    }
   },
   "outputs": [
    {
     "data": {
      "text/plain": [
       "0.5518059583443184"
      ]
     },
     "execution_count": 30,
     "metadata": {},
     "output_type": "execute_result"
    }
   ],
   "source": [
    "from sklearn.metrics import classification_report, accuracy_score,confusion_matrix,f1_score\n",
    "accuracy_score(test_lables_sequence,pred_lables_sequence)"
   ]
  },
  {
   "cell_type": "code",
   "execution_count": 292,
   "metadata": {
    "ExecuteTime": {
     "end_time": "2022-02-22T07:31:20.895010Z",
     "start_time": "2022-02-22T07:31:20.878973Z"
    }
   },
   "outputs": [
    {
     "data": {
      "text/plain": [
       "0.4869496440812022"
      ]
     },
     "execution_count": 292,
     "metadata": {},
     "output_type": "execute_result"
    }
   ],
   "source": [
    "accuracy_score(test_lables_sequence,pred_lables_sequence)"
   ]
  },
  {
   "cell_type": "code",
   "execution_count": 31,
   "metadata": {
    "ExecuteTime": {
     "end_time": "2022-02-25T03:25:22.314278Z",
     "start_time": "2022-02-25T03:25:22.304876Z"
    }
   },
   "outputs": [],
   "source": [
    "pred_tokens = [t for sent in pred_lables_sequence for t in sent.split()]\n",
    "test_tokens = [t for sent in test_lables_sequence for t in sent.split()]"
   ]
  },
  {
   "cell_type": "code",
   "execution_count": 32,
   "metadata": {
    "ExecuteTime": {
     "end_time": "2022-02-25T03:25:25.562814Z",
     "start_time": "2022-02-25T03:25:25.528860Z"
    }
   },
   "outputs": [
    {
     "data": {
      "text/plain": [
       "0.9516650472573094"
      ]
     },
     "execution_count": 32,
     "metadata": {},
     "output_type": "execute_result"
    }
   ],
   "source": [
    "accuracy_score(test_tokens,pred_tokens)"
   ]
  },
  {
   "cell_type": "code",
   "execution_count": 34,
   "metadata": {
    "ExecuteTime": {
     "end_time": "2022-02-24T10:02:40.323436Z",
     "start_time": "2022-02-24T10:02:40.288977Z"
    }
   },
   "outputs": [
    {
     "data": {
      "text/plain": [
       "0.9516650472573094"
      ]
     },
     "execution_count": 34,
     "metadata": {},
     "output_type": "execute_result"
    }
   ],
   "source": [
    "accuracy_score(test_tokens,pred_tokens)"
   ]
  },
  {
   "cell_type": "code",
   "execution_count": 214,
   "metadata": {
    "ExecuteTime": {
     "end_time": "2022-02-22T05:23:21.106081Z",
     "start_time": "2022-02-22T05:23:21.082576Z"
    }
   },
   "outputs": [
    {
     "data": {
      "text/plain": [
       "0.9427435738892324"
      ]
     },
     "execution_count": 214,
     "metadata": {},
     "output_type": "execute_result"
    }
   ],
   "source": [
    "accuracy_score(test_tokens,pred_tokens)"
   ]
  },
  {
   "cell_type": "code",
   "execution_count": 244,
   "metadata": {
    "ExecuteTime": {
     "end_time": "2022-02-22T07:01:57.193777Z",
     "start_time": "2022-02-22T07:01:57.187952Z"
    }
   },
   "outputs": [
    {
     "name": "stderr",
     "output_type": "stream",
     "text": [
      "/home/ai-server/anaconda3/envs/mt_py_env/lib/python3.6/site-packages/ipykernel_launcher.py:1: SettingWithCopyWarning: \n",
      "A value is trying to be set on a copy of a slice from a DataFrame.\n",
      "Try using .loc[row_indexer,col_indexer] = value instead\n",
      "\n",
      "See the caveats in the documentation: https://pandas.pydata.org/pandas-docs/stable/user_guide/indexing.html#returning-a-view-versus-a-copy\n",
      "  \"\"\"Entry point for launching an IPython kernel.\n"
     ]
    }
   ],
   "source": [
    "test['pred_labels'] = pred_lables_sequence"
   ]
  },
  {
   "cell_type": "code",
   "execution_count": 35,
   "metadata": {
    "ExecuteTime": {
     "end_time": "2022-02-25T03:42:22.538945Z",
     "start_time": "2022-02-25T03:42:22.532851Z"
    }
   },
   "outputs": [
    {
     "data": {
      "text/plain": [
       "[['0', '1', '0', '1', '0', '1', '1', '1', '1', '1', '1', '1', '0'],\n",
       " ['0', '1', '1', '1', '1', '0', '1', '0']]"
      ]
     },
     "execution_count": 35,
     "metadata": {},
     "output_type": "execute_result"
    }
   ],
   "source": [
    "pred_labels[0:2]"
   ]
  },
  {
   "cell_type": "code",
   "execution_count": null,
   "metadata": {},
   "outputs": [],
   "source": []
  },
  {
   "cell_type": "code",
   "execution_count": 36,
   "metadata": {
    "ExecuteTime": {
     "end_time": "2022-02-25T03:49:31.254802Z",
     "start_time": "2022-02-25T03:49:31.248511Z"
    }
   },
   "outputs": [],
   "source": [
    "def label_to_wordsegment(message_list,predict_label_list):\n",
    "    wb_tagged_message = []\n",
    "    for message, predict_label in zip(message_list, predict_label_list):\n",
    "        for idx, (token, label) in enumerate(zip(message.split(), predict_label.split())):\n",
    "            if label == \"1\" and idx != len(message.split())-1:\n",
    "                wb_tagged_message.append(token)\n",
    "                wb_tagged_message.append(\" \")\n",
    "            else:\n",
    "                wb_tagged_message.append(token)\n",
    "    return \"\".join(wb_tagged_message)"
   ]
  },
  {
   "cell_type": "code",
   "execution_count": 38,
   "metadata": {
    "ExecuteTime": {
     "end_time": "2022-02-25T03:49:54.933301Z",
     "start_time": "2022-02-25T03:49:54.927739Z"
    }
   },
   "outputs": [
    {
     "data": {
      "text/plain": [
       "'တစ်ရာ့ လေးဆယ် ကိုးဆယ် ဆို တာ သိပ် မ တိုး သေး ဘူး'"
      ]
     },
     "execution_count": 38,
     "metadata": {},
     "output_type": "execute_result"
    }
   ],
   "source": [
    "label_to_wordsegment([\"တစ် ရာ့ လေး ဆယ် ကိုး ဆယ် ဆို တာ သိပ် မ တိုး သေး ဘူး\"],[\"0 1 0 1 0 1 1 1 1 1 1 1 1\"])"
   ]
  },
  {
   "cell_type": "code",
   "execution_count": 238,
   "metadata": {
    "ExecuteTime": {
     "end_time": "2022-02-22T06:59:30.131270Z",
     "start_time": "2022-02-22T06:59:30.122840Z"
    },
    "scrolled": true
   },
   "outputs": [
    {
     "data": {
      "text/html": [
       "<div>\n",
       "<style scoped>\n",
       "    .dataframe tbody tr th:only-of-type {\n",
       "        vertical-align: middle;\n",
       "    }\n",
       "\n",
       "    .dataframe tbody tr th {\n",
       "        vertical-align: top;\n",
       "    }\n",
       "\n",
       "    .dataframe thead th {\n",
       "        text-align: right;\n",
       "    }\n",
       "</style>\n",
       "<table border=\"1\" class=\"dataframe\">\n",
       "  <thead>\n",
       "    <tr style=\"text-align: right;\">\n",
       "      <th></th>\n",
       "      <th>burmese</th>\n",
       "      <th>syl_txt</th>\n",
       "      <th>label</th>\n",
       "      <th>syl_len</th>\n",
       "      <th>label_len</th>\n",
       "      <th>pred_labels</th>\n",
       "      <th>predictions</th>\n",
       "    </tr>\n",
       "  </thead>\n",
       "  <tbody>\n",
       "    <tr>\n",
       "      <th>35853</th>\n",
       "      <td>တစ်ရာ့ လေးဆယ် ကိုးဆယ် ဆို တာ သိပ် မ တိုး သေး ဘူး</td>\n",
       "      <td>တစ် ရာ့ လေး ဆယ် ကိုး ဆယ် ဆို တာ သိပ် မ တိုး သေး ဘူး</td>\n",
       "      <td>0 1 0 1 0 1 1 1 1 1 1 1 1</td>\n",
       "      <td>13</td>\n",
       "      <td>13</td>\n",
       "      <td>0 1 0 1 0 1 1 1 1 1 1 1 1</td>\n",
       "      <td>တစ်ရာ့ လေးဆယ် ကိုးဆယ် ဆို တာ သိပ် မ တိုး သေး ဘူး</td>\n",
       "    </tr>\n",
       "    <tr>\n",
       "      <th>465</th>\n",
       "      <td>ကဖင်း ပါတာတွေ လျှော့သောက် ပါ</td>\n",
       "      <td>က ဖင်း ပါ တာ တွေ လျှော့ သောက် ပါ</td>\n",
       "      <td>0 1 0 0 1 0 1 1</td>\n",
       "      <td>8</td>\n",
       "      <td>8</td>\n",
       "      <td>0 1 0 0 1 0 1 1</td>\n",
       "      <td>ကဖင်း ပါတာတွေ လျှော့သောက် ပါ</td>\n",
       "    </tr>\n",
       "  </tbody>\n",
       "</table>\n",
       "</div>"
      ],
      "text/plain": [
       "                                                burmese  \\\n",
       "35853  တစ်ရာ့ လေးဆယ် ကိုးဆယ် ဆို တာ သိပ် မ တိုး သေး ဘူး   \n",
       "465    ကဖင်း ပါတာတွေ လျှော့သောက် ပါ                       \n",
       "\n",
       "                                                   syl_txt  \\\n",
       "35853  တစ် ရာ့ လေး ဆယ် ကိုး ဆယ် ဆို တာ သိပ် မ တိုး သေး ဘူး   \n",
       "465    က ဖင်း ပါ တာ တွေ လျှော့ သောက် ပါ                      \n",
       "\n",
       "                           label  syl_len  label_len  \\\n",
       "35853  0 1 0 1 0 1 1 1 1 1 1 1 1  13       13          \n",
       "465    0 1 0 0 1 0 1 1            8        8           \n",
       "\n",
       "                     pred_labels  \\\n",
       "35853  0 1 0 1 0 1 1 1 1 1 1 1 1   \n",
       "465    0 1 0 0 1 0 1 1             \n",
       "\n",
       "                                             predictions  \n",
       "35853  တစ်ရာ့ လေးဆယ် ကိုးဆယ် ဆို တာ သိပ် မ တိုး သေး ဘူး   \n",
       "465    ကဖင်း ပါတာတွေ လျှော့သောက် ပါ                       "
      ]
     },
     "execution_count": 238,
     "metadata": {},
     "output_type": "execute_result"
    }
   ],
   "source": [
    "test.head(2)"
   ]
  },
  {
   "cell_type": "code",
   "execution_count": 275,
   "metadata": {
    "ExecuteTime": {
     "end_time": "2022-02-22T07:10:26.220589Z",
     "start_time": "2022-02-22T07:10:26.211346Z"
    }
   },
   "outputs": [
    {
     "name": "stderr",
     "output_type": "stream",
     "text": [
      "/home/ai-server/anaconda3/envs/mt_py_env/lib/python3.6/site-packages/ipykernel_launcher.py:1: SettingWithCopyWarning: \n",
      "A value is trying to be set on a copy of a slice from a DataFrame.\n",
      "Try using .loc[row_indexer,col_indexer] = value instead\n",
      "\n",
      "See the caveats in the documentation: https://pandas.pydata.org/pandas-docs/stable/user_guide/indexing.html#returning-a-view-versus-a-copy\n",
      "  \"\"\"Entry point for launching an IPython kernel.\n"
     ]
    }
   ],
   "source": [
    "test['burmese'] = test.burmese.apply(lambda x: \" \".join(x.split()))"
   ]
  },
  {
   "cell_type": "code",
   "execution_count": 274,
   "metadata": {
    "ExecuteTime": {
     "end_time": "2022-02-22T07:09:28.388720Z",
     "start_time": "2022-02-22T07:09:28.382749Z"
    }
   },
   "outputs": [
    {
     "data": {
      "text/plain": [
       "'သွေး တော့ မ ထွက် တော့ ဘူး သက်သာ တယ်'"
      ]
     },
     "execution_count": 274,
     "metadata": {},
     "output_type": "execute_result"
    }
   ],
   "source": [
    "\" \".join(' သွေး တော့ မ ထွက် တော့ ဘူး သက်သာ တယ်'.split())"
   ]
  },
  {
   "cell_type": "code",
   "execution_count": 276,
   "metadata": {
    "ExecuteTime": {
     "end_time": "2022-02-22T07:10:32.078809Z",
     "start_time": "2022-02-22T07:10:32.072823Z"
    }
   },
   "outputs": [
    {
     "data": {
      "text/plain": [
       "True"
      ]
     },
     "execution_count": 276,
     "metadata": {},
     "output_type": "execute_result"
    }
   ],
   "source": [
    "test.loc[36614].burmese == test.loc[1416].predictions"
   ]
  },
  {
   "cell_type": "code",
   "execution_count": 280,
   "metadata": {
    "ExecuteTime": {
     "end_time": "2022-02-22T07:11:00.871370Z",
     "start_time": "2022-02-22T07:11:00.861707Z"
    }
   },
   "outputs": [
    {
     "data": {
      "text/html": [
       "<div>\n",
       "<style scoped>\n",
       "    .dataframe tbody tr th:only-of-type {\n",
       "        vertical-align: middle;\n",
       "    }\n",
       "\n",
       "    .dataframe tbody tr th {\n",
       "        vertical-align: top;\n",
       "    }\n",
       "\n",
       "    .dataframe thead th {\n",
       "        text-align: right;\n",
       "    }\n",
       "</style>\n",
       "<table border=\"1\" class=\"dataframe\">\n",
       "  <thead>\n",
       "    <tr style=\"text-align: right;\">\n",
       "      <th></th>\n",
       "      <th>burmese</th>\n",
       "      <th>syl_txt</th>\n",
       "      <th>label</th>\n",
       "      <th>syl_len</th>\n",
       "      <th>label_len</th>\n",
       "      <th>pred_labels</th>\n",
       "      <th>predictions</th>\n",
       "    </tr>\n",
       "  </thead>\n",
       "  <tbody>\n",
       "    <tr>\n",
       "      <th>36614</th>\n",
       "      <td>မ ထိုး ပါ နဲ့ ဟယ်</td>\n",
       "      <td>မ ထိုး ပါ နဲ့ ဟယ်</td>\n",
       "      <td>1 1 1 1 1</td>\n",
       "      <td>5</td>\n",
       "      <td>5</td>\n",
       "      <td>1 1 1 1 0</td>\n",
       "      <td>မ ထိုး ပါ နဲ့ ဟယ်</td>\n",
       "    </tr>\n",
       "  </tbody>\n",
       "</table>\n",
       "</div>"
      ],
      "text/plain": [
       "                 burmese            syl_txt      label  syl_len  label_len  \\\n",
       "36614  မ ထိုး ပါ နဲ့ ဟယ်  မ ထိုး ပါ နဲ့ ဟယ်  1 1 1 1 1  5        5           \n",
       "\n",
       "      pred_labels        predictions  \n",
       "36614  1 1 1 1 0   မ ထိုး ပါ နဲ့ ဟယ်  "
      ]
     },
     "execution_count": 280,
     "metadata": {},
     "output_type": "execute_result"
    }
   ],
   "source": [
    "test[(test.label != test.pred_labels) &(test.burmese == test.predictions)]"
   ]
  },
  {
   "cell_type": "code",
   "execution_count": 277,
   "metadata": {
    "ExecuteTime": {
     "end_time": "2022-02-22T07:10:35.933636Z",
     "start_time": "2022-02-22T07:10:35.926956Z"
    }
   },
   "outputs": [
    {
     "data": {
      "text/plain": [
       "1856"
      ]
     },
     "execution_count": 277,
     "metadata": {},
     "output_type": "execute_result"
    }
   ],
   "source": [
    "len(test[test.label == test.pred_labels])"
   ]
  },
  {
   "cell_type": "code",
   "execution_count": 264,
   "metadata": {
    "ExecuteTime": {
     "end_time": "2022-02-22T07:06:26.953898Z",
     "start_time": "2022-02-22T07:06:26.948595Z"
    }
   },
   "outputs": [
    {
     "data": {
      "text/plain": [
       "61"
      ]
     },
     "execution_count": 264,
     "metadata": {},
     "output_type": "execute_result"
    }
   ],
   "source": [
    "1856-1795"
   ]
  },
  {
   "cell_type": "code",
   "execution_count": 278,
   "metadata": {
    "ExecuteTime": {
     "end_time": "2022-02-22T07:10:37.654989Z",
     "start_time": "2022-02-22T07:10:37.651225Z"
    }
   },
   "outputs": [
    {
     "data": {
      "text/plain": [
       "1857"
      ]
     },
     "execution_count": 278,
     "metadata": {},
     "output_type": "execute_result"
    }
   ],
   "source": [
    "len(test[test.burmese == test.predictions])"
   ]
  },
  {
   "cell_type": "code",
   "execution_count": 225,
   "metadata": {
    "ExecuteTime": {
     "end_time": "2022-02-22T06:49:02.004789Z",
     "start_time": "2022-02-22T06:49:01.999573Z"
    }
   },
   "outputs": [
    {
     "name": "stderr",
     "output_type": "stream",
     "text": [
      "/home/ai-server/anaconda3/envs/mt_py_env/lib/python3.6/site-packages/ipykernel_launcher.py:1: SettingWithCopyWarning: \n",
      "A value is trying to be set on a copy of a slice from a DataFrame.\n",
      "Try using .loc[row_indexer,col_indexer] = value instead\n",
      "\n",
      "See the caveats in the documentation: https://pandas.pydata.org/pandas-docs/stable/user_guide/indexing.html#returning-a-view-versus-a-copy\n",
      "  \"\"\"Entry point for launching an IPython kernel.\n"
     ]
    }
   ],
   "source": []
  },
  {
   "cell_type": "code",
   "execution_count": 260,
   "metadata": {
    "ExecuteTime": {
     "end_time": "2022-02-22T07:04:41.608619Z",
     "start_time": "2022-02-22T07:04:41.522671Z"
    }
   },
   "outputs": [
    {
     "name": "stderr",
     "output_type": "stream",
     "text": [
      "/home/ai-server/anaconda3/envs/mt_py_env/lib/python3.6/site-packages/ipykernel_launcher.py:1: SettingWithCopyWarning: \n",
      "A value is trying to be set on a copy of a slice from a DataFrame.\n",
      "Try using .loc[row_indexer,col_indexer] = value instead\n",
      "\n",
      "See the caveats in the documentation: https://pandas.pydata.org/pandas-docs/stable/user_guide/indexing.html#returning-a-view-versus-a-copy\n",
      "  \"\"\"Entry point for launching an IPython kernel.\n"
     ]
    }
   ],
   "source": [
    "test['predictions'] = test.apply(lambda x: segment_wb(x.syl_txt, x.pred_labels), axis=1)"
   ]
  },
  {
   "cell_type": "code",
   "execution_count": 228,
   "metadata": {
    "ExecuteTime": {
     "end_time": "2022-02-22T06:49:12.629032Z",
     "start_time": "2022-02-22T06:49:12.607874Z"
    }
   },
   "outputs": [
    {
     "data": {
      "text/html": [
       "<div>\n",
       "<style scoped>\n",
       "    .dataframe tbody tr th:only-of-type {\n",
       "        vertical-align: middle;\n",
       "    }\n",
       "\n",
       "    .dataframe tbody tr th {\n",
       "        vertical-align: top;\n",
       "    }\n",
       "\n",
       "    .dataframe thead th {\n",
       "        text-align: right;\n",
       "    }\n",
       "</style>\n",
       "<table border=\"1\" class=\"dataframe\">\n",
       "  <thead>\n",
       "    <tr style=\"text-align: right;\">\n",
       "      <th></th>\n",
       "      <th>burmese</th>\n",
       "      <th>syl_txt</th>\n",
       "      <th>label</th>\n",
       "      <th>syl_len</th>\n",
       "      <th>label_len</th>\n",
       "      <th>pred_labels</th>\n",
       "      <th>predictions</th>\n",
       "    </tr>\n",
       "  </thead>\n",
       "  <tbody>\n",
       "    <tr>\n",
       "      <th>35853</th>\n",
       "      <td>တစ်ရာ့ လေးဆယ် ကိုးဆယ် ဆို တာ သိပ် မ တိုး သေး ဘူး</td>\n",
       "      <td>တစ် ရာ့ လေး ဆယ် ကိုး ဆယ် ဆို တာ သိပ် မ တိုး သေး ဘူး</td>\n",
       "      <td>0 1 0 1 0 1 1 1 1 1 1 1 1</td>\n",
       "      <td>13</td>\n",
       "      <td>13</td>\n",
       "      <td>0 1 0 1 0 1 1 1 1 1 1 1 1</td>\n",
       "      <td>တစ် ရာ့လေး ဆယ်ကိုး ဆယ် ဆို တာ သိပ် မ တိုး သေး ဘူး</td>\n",
       "    </tr>\n",
       "    <tr>\n",
       "      <th>465</th>\n",
       "      <td>ကဖင်း ပါတာတွေ လျှော့သောက် ပါ</td>\n",
       "      <td>က ဖင်း ပါ တာ တွေ လျှော့ သောက် ပါ</td>\n",
       "      <td>0 1 0 0 1 0 1 1</td>\n",
       "      <td>8</td>\n",
       "      <td>8</td>\n",
       "      <td>0 1 0 0 1 0 1 1</td>\n",
       "      <td>က ဖင်းပါတာ တွေလျှော့ သောက် ပါ</td>\n",
       "    </tr>\n",
       "    <tr>\n",
       "      <th>28902</th>\n",
       "      <td>ကျွန်မ ဆီးချို က 83 ဆို တအား ကျ နေ လား</td>\n",
       "      <td>ကျွန် မ ဆီး ချို က 83 ဆို တ အား ကျ နေ လား</td>\n",
       "      <td>0 1 0 1 1 1 1 0 1 1 1 1</td>\n",
       "      <td>12</td>\n",
       "      <td>12</td>\n",
       "      <td>0 1 0 1 1 1 1 0 1 1 1 1</td>\n",
       "      <td>ကျွန် မဆီး ချို က 83 ဆိုတ အား ကျ နေ လား</td>\n",
       "    </tr>\n",
       "    <tr>\n",
       "      <th>25834</th>\n",
       "      <td>တဖြည်းဖြည်း အဆင့် တက် လာ တာ နဲ့ အမျှ အောက် မှာ ဖော်ပြ ထား တဲ့ လက္ခဏာ တွေ ထဲ က တစ် ခု သို့မဟုတ် တစ် ခု ထက် ပို ပြီး ရှိ လာ မှာ ဖြစ် ပါ တယ်</td>\n",
       "      <td>တ ဖြည်း ဖြည်း အ ဆင့် တက် လာ တာ နဲ့ အ မျှ အောက် မှာ ဖော် ပြ ထား တဲ့ လက္ခ ဏာ တွေ ထဲ က တစ် ခု သို့ မ ဟုတ် တစ် ခု ထက် ပို ပြီး ရှိ လာ မှာ ဖြစ် ပါ တယ်</td>\n",
       "      <td>0 0 1 0 1 1 1 1 1 0 1 1 1 0 1 1 1 0 1 1 1 1 1 1 0 0 1 1 1 1 1 1 1 1 1 1 1 1</td>\n",
       "      <td>38</td>\n",
       "      <td>38</td>\n",
       "      <td>0 0 1 0 0 1 1 1 1 0 1 1 1 0 1 1 1 0 1 1 1 1 0 1 0 0 1 1 1 1 1 1 1 1 1 1 1 1</td>\n",
       "      <td>တဖြည်း ဖြည်းအဆင့် တက် လာ တာ နဲ့အ မျှ အောက် မှာဖော် ပြ ထား တဲ့လက္ခ ဏာ တွေ ထဲ ကတစ် ခုသို့မ ဟုတ် တစ် ခု ထက် ပို ပြီး ရှိ လာ မှာ ဖြစ် ပါ တယ်</td>\n",
       "    </tr>\n",
       "    <tr>\n",
       "      <th>37128</th>\n",
       "      <td>သွေးစစ် ပြီး Positive ထွက် ရှိ ထား ပါ က Lab အဖြေ မှာ Need To Be Confirm လို့ ပြန်လည် စစ်ဆေး ရန် ညွှန်ကြား လေ့ ရှိ ပါ တယ်</td>\n",
       "      <td>သွေး စစ် ပြီး Positive ထွက် ရှိ ထား ပါ က Lab အ ဖြေ မှာ Need To Be Confirm လို့ ပြန် လည် စစ် ဆေး ရန် ညွှန် ကြား လေ့ ရှိ ပါ တယ်</td>\n",
       "      <td>0 1 1 1 1 1 1 1 1 1 0 1 1 1 1 1 1 1 0 1 0 1 1 0 1 1 1 1 1</td>\n",
       "      <td>29</td>\n",
       "      <td>29</td>\n",
       "      <td>0 1 1 1 1 1 1 1 1 1 0 1 1 1 1 1 1 1 0 1 0 1 1 0 1 1 1 1 1</td>\n",
       "      <td>သွေး စစ် ပြီး Positive ထွက် ရှိ ထား ပါ က Labအ ဖြေ မှာ Need To Be Confirm လို့ပြန် လည်စစ် ဆေး ရန်ညွှန် ကြား လေ့ ရှိ ပါ တယ်</td>\n",
       "    </tr>\n",
       "    <tr>\n",
       "      <th>...</th>\n",
       "      <td>...</td>\n",
       "      <td>...</td>\n",
       "      <td>...</td>\n",
       "      <td>...</td>\n",
       "      <td>...</td>\n",
       "      <td>...</td>\n",
       "      <td>...</td>\n",
       "    </tr>\n",
       "    <tr>\n",
       "      <th>9880</th>\n",
       "      <td>သွေးတိုး ကို ထိန်းချုပ် ထား ပါ</td>\n",
       "      <td>သွေး တိုး ကို ထိန်း ချုပ် ထား ပါ</td>\n",
       "      <td>0 1 1 0 1 1 1</td>\n",
       "      <td>7</td>\n",
       "      <td>7</td>\n",
       "      <td>0 1 1 0 1 1 1</td>\n",
       "      <td>သွေး တိုး ကိုထိန်း ချုပ် ထား ပါ</td>\n",
       "    </tr>\n",
       "    <tr>\n",
       "      <th>30370</th>\n",
       "      <td>အကြံပြု တဲ့ အတွက် ကျေးဇူး ပါ ရှင့်</td>\n",
       "      <td>အ ကြံ ပြု တဲ့ အ တွက် ကျေး ဇူး ပါ ရှင့်</td>\n",
       "      <td>0 0 1 1 0 1 0 1 1 1</td>\n",
       "      <td>10</td>\n",
       "      <td>10</td>\n",
       "      <td>0 0 1 1 0 1 0 1 1 1</td>\n",
       "      <td>အကြံ ပြု တဲ့အ တွက်ကျေး ဇူး ပါ ရှင့်</td>\n",
       "    </tr>\n",
       "    <tr>\n",
       "      <th>33189</th>\n",
       "      <td>နှလုံးသွေးကြော အပို ပါ ခြင်း ကို ဘယ်လို ကုသ လို့ ရ နိုင် လဲ ဆရာ</td>\n",
       "      <td>နှ လုံး သွေး ကြော အ ပို ပါ ခြင်း ကို ဘယ် လို ကု သ လို့ ရ နိုင် လဲ ဆ ရာ</td>\n",
       "      <td>0 0 0 1 0 1 1 1 1 0 1 0 1 1 1 1 1 0 1</td>\n",
       "      <td>19</td>\n",
       "      <td>19</td>\n",
       "      <td>0 0 0 1 0 1 1 1 1 0 1 0 1 1 1 1 1 0 1</td>\n",
       "      <td>နှလုံးသွေး ကြောအ ပို ပါ ခြင်း ကိုဘယ် လိုကု သ လို့ ရ နိုင် လဲဆ ရာ</td>\n",
       "    </tr>\n",
       "    <tr>\n",
       "      <th>24945</th>\n",
       "      <td>အမ အဖေ က ဆီးချို သွေးတိုး အပြင် နှလုံး ရောဂါ ပါ ရှိ တာ ပါ ထိုး လို့ ရ ပါ တယ်</td>\n",
       "      <td>အ မ အ ဖေ က ဆီး ချို သွေး တိုး အ ပြင် နှ လုံး ရော ဂါ ပါ ရှိ တာ ပါ ထိုး လို့ ရ ပါ တယ်</td>\n",
       "      <td>0 1 0 1 1 0 1 0 1 0 1 0 1 0 1 1 1 1 1 1 1 1 1 1</td>\n",
       "      <td>24</td>\n",
       "      <td>24</td>\n",
       "      <td>0 1 0 1 1 0 1 0 1 0 1 0 0 0 1 1 1 1 1 1 1 1 1 1</td>\n",
       "      <td>အ မအ ဖေ ကဆီး ချိုသွေး တိုးအ ပြင်နှလုံးရော ဂါ ပါ ရှိ တာ ပါ ထိုး လို့ ရ ပါ တယ်</td>\n",
       "    </tr>\n",
       "    <tr>\n",
       "      <th>7834</th>\n",
       "      <td>မျက်လုံး ကို အရမ်း အားစိုက် ပြီး အလုပ် မ ခိုင်း ပါ နဲ့</td>\n",
       "      <td>မျက် လုံး ကို အ ရမ်း အား စိုက် ပြီး အ လုပ် မ ခိုင်း ပါ နဲ့</td>\n",
       "      <td>0 1 1 0 1 0 1 1 0 1 1 1 1 1</td>\n",
       "      <td>14</td>\n",
       "      <td>14</td>\n",
       "      <td>0 1 1 0 1 0 1 1 0 1 1 1 1 1</td>\n",
       "      <td>မျက် လုံး ကိုအ ရမ်းအား စိုက် ပြီးအ လုပ် မ ခိုင်း ပါ နဲ့</td>\n",
       "    </tr>\n",
       "  </tbody>\n",
       "</table>\n",
       "<p>3793 rows × 7 columns</p>\n",
       "</div>"
      ],
      "text/plain": [
       "                                                                                                                                         burmese  \\\n",
       "35853  တစ်ရာ့ လေးဆယ် ကိုးဆယ် ဆို တာ သိပ် မ တိုး သေး ဘူး                                                                                            \n",
       "465    ကဖင်း ပါတာတွေ လျှော့သောက် ပါ                                                                                                                \n",
       "28902  ကျွန်မ ဆီးချို က 83 ဆို တအား ကျ နေ လား                                                                                                      \n",
       "25834  တဖြည်းဖြည်း အဆင့် တက် လာ တာ နဲ့ အမျှ အောက် မှာ ဖော်ပြ ထား တဲ့ လက္ခဏာ တွေ ထဲ က တစ် ခု သို့မဟုတ် တစ် ခု ထက် ပို ပြီး ရှိ လာ မှာ ဖြစ် ပါ တယ်   \n",
       "37128  သွေးစစ် ပြီး Positive ထွက် ရှိ ထား ပါ က Lab အဖြေ မှာ Need To Be Confirm လို့ ပြန်လည် စစ်ဆေး ရန် ညွှန်ကြား လေ့ ရှိ ပါ တယ်                    \n",
       "...                                                                                                                         ...                    \n",
       "9880   သွေးတိုး ကို ထိန်းချုပ် ထား ပါ                                                                                                              \n",
       "30370  အကြံပြု တဲ့ အတွက် ကျေးဇူး ပါ ရှင့်                                                                                                          \n",
       "33189  နှလုံးသွေးကြော အပို ပါ ခြင်း ကို ဘယ်လို ကုသ လို့ ရ နိုင် လဲ ဆရာ                                                                             \n",
       "24945  အမ အဖေ က ဆီးချို သွေးတိုး အပြင် နှလုံး ရောဂါ ပါ ရှိ တာ ပါ ထိုး လို့ ရ ပါ တယ်                                                                \n",
       "7834   မျက်လုံး ကို အရမ်း အားစိုက် ပြီး အလုပ် မ ခိုင်း ပါ နဲ့                                                                                      \n",
       "\n",
       "                                                                                                                                                 syl_txt  \\\n",
       "35853  တစ် ရာ့ လေး ဆယ် ကိုး ဆယ် ဆို တာ သိပ် မ တိုး သေး ဘူး                                                                                                 \n",
       "465    က ဖင်း ပါ တာ တွေ လျှော့ သောက် ပါ                                                                                                                    \n",
       "28902  ကျွန် မ ဆီး ချို က 83 ဆို တ အား ကျ နေ လား                                                                                                           \n",
       "25834  တ ဖြည်း ဖြည်း အ ဆင့် တက် လာ တာ နဲ့ အ မျှ အောက် မှာ ဖော် ပြ ထား တဲ့ လက္ခ ဏာ တွေ ထဲ က တစ် ခု သို့ မ ဟုတ် တစ် ခု ထက် ပို ပြီး ရှိ လာ မှာ ဖြစ် ပါ တယ်   \n",
       "37128  သွေး စစ် ပြီး Positive ထွက် ရှိ ထား ပါ က Lab အ ဖြေ မှာ Need To Be Confirm လို့ ပြန် လည် စစ် ဆေး ရန် ညွှန် ကြား လေ့ ရှိ ပါ တယ်                       \n",
       "...                                                                                                                              ...                       \n",
       "9880   သွေး တိုး ကို ထိန်း ချုပ် ထား ပါ                                                                                                                    \n",
       "30370  အ ကြံ ပြု တဲ့ အ တွက် ကျေး ဇူး ပါ ရှင့်                                                                                                              \n",
       "33189  နှ လုံး သွေး ကြော အ ပို ပါ ခြင်း ကို ဘယ် လို ကု သ လို့ ရ နိုင် လဲ ဆ ရာ                                                                              \n",
       "24945  အ မ အ ဖေ က ဆီး ချို သွေး တိုး အ ပြင် နှ လုံး ရော ဂါ ပါ ရှိ တာ ပါ ထိုး လို့ ရ ပါ တယ်                                                                 \n",
       "7834   မျက် လုံး ကို အ ရမ်း အား စိုက် ပြီး အ လုပ် မ ခိုင်း ပါ နဲ့                                                                                          \n",
       "\n",
       "                                                                             label  \\\n",
       "35853  0 1 0 1 0 1 1 1 1 1 1 1 1                                                     \n",
       "465    0 1 0 0 1 0 1 1                                                               \n",
       "28902  0 1 0 1 1 1 1 0 1 1 1 1                                                       \n",
       "25834  0 0 1 0 1 1 1 1 1 0 1 1 1 0 1 1 1 0 1 1 1 1 1 1 0 0 1 1 1 1 1 1 1 1 1 1 1 1   \n",
       "37128  0 1 1 1 1 1 1 1 1 1 0 1 1 1 1 1 1 1 0 1 0 1 1 0 1 1 1 1 1                     \n",
       "...                                                          ...                     \n",
       "9880   0 1 1 0 1 1 1                                                                 \n",
       "30370  0 0 1 1 0 1 0 1 1 1                                                           \n",
       "33189  0 0 0 1 0 1 1 1 1 0 1 0 1 1 1 1 1 0 1                                         \n",
       "24945  0 1 0 1 1 0 1 0 1 0 1 0 1 0 1 1 1 1 1 1 1 1 1 1                               \n",
       "7834   0 1 1 0 1 0 1 1 0 1 1 1 1 1                                                   \n",
       "\n",
       "       syl_len  label_len  \\\n",
       "35853  13       13          \n",
       "465    8        8           \n",
       "28902  12       12          \n",
       "25834  38       38          \n",
       "37128  29       29          \n",
       "...    ..       ..          \n",
       "9880   7        7           \n",
       "30370  10       10          \n",
       "33189  19       19          \n",
       "24945  24       24          \n",
       "7834   14       14          \n",
       "\n",
       "                                                                       pred_labels  \\\n",
       "35853  0 1 0 1 0 1 1 1 1 1 1 1 1                                                     \n",
       "465    0 1 0 0 1 0 1 1                                                               \n",
       "28902  0 1 0 1 1 1 1 0 1 1 1 1                                                       \n",
       "25834  0 0 1 0 0 1 1 1 1 0 1 1 1 0 1 1 1 0 1 1 1 1 0 1 0 0 1 1 1 1 1 1 1 1 1 1 1 1   \n",
       "37128  0 1 1 1 1 1 1 1 1 1 0 1 1 1 1 1 1 1 0 1 0 1 1 0 1 1 1 1 1                     \n",
       "...                                                          ...                     \n",
       "9880   0 1 1 0 1 1 1                                                                 \n",
       "30370  0 0 1 1 0 1 0 1 1 1                                                           \n",
       "33189  0 0 0 1 0 1 1 1 1 0 1 0 1 1 1 1 1 0 1                                         \n",
       "24945  0 1 0 1 1 0 1 0 1 0 1 0 0 0 1 1 1 1 1 1 1 1 1 1                               \n",
       "7834   0 1 1 0 1 0 1 1 0 1 1 1 1 1                                                   \n",
       "\n",
       "                                                                                                                                    predictions  \n",
       "35853  တစ် ရာ့လေး ဆယ်ကိုး ဆယ် ဆို တာ သိပ် မ တိုး သေး ဘူး                                                                                         \n",
       "465    က ဖင်းပါတာ တွေလျှော့ သောက် ပါ                                                                                                             \n",
       "28902  ကျွန် မဆီး ချို က 83 ဆိုတ အား ကျ နေ လား                                                                                                   \n",
       "25834  တဖြည်း ဖြည်းအဆင့် တက် လာ တာ နဲ့အ မျှ အောက် မှာဖော် ပြ ထား တဲ့လက္ခ ဏာ တွေ ထဲ ကတစ် ခုသို့မ ဟုတ် တစ် ခု ထက် ပို ပြီး ရှိ လာ မှာ ဖြစ် ပါ တယ်  \n",
       "37128  သွေး စစ် ပြီး Positive ထွက် ရှိ ထား ပါ က Labအ ဖြေ မှာ Need To Be Confirm လို့ပြန် လည်စစ် ဆေး ရန်ညွှန် ကြား လေ့ ရှိ ပါ တယ်                 \n",
       "...                                                                                                                          ...                 \n",
       "9880   သွေး တိုး ကိုထိန်း ချုပ် ထား ပါ                                                                                                           \n",
       "30370  အကြံ ပြု တဲ့အ တွက်ကျေး ဇူး ပါ ရှင့်                                                                                                       \n",
       "33189  နှလုံးသွေး ကြောအ ပို ပါ ခြင်း ကိုဘယ် လိုကု သ လို့ ရ နိုင် လဲဆ ရာ                                                                          \n",
       "24945  အ မအ ဖေ ကဆီး ချိုသွေး တိုးအ ပြင်နှလုံးရော ဂါ ပါ ရှိ တာ ပါ ထိုး လို့ ရ ပါ တယ်                                                              \n",
       "7834   မျက် လုံး ကိုအ ရမ်းအား စိုက် ပြီးအ လုပ် မ ခိုင်း ပါ နဲ့                                                                                   \n",
       "\n",
       "[3793 rows x 7 columns]"
      ]
     },
     "execution_count": 228,
     "metadata": {},
     "output_type": "execute_result"
    }
   ],
   "source": [
    "test"
   ]
  },
  {
   "cell_type": "code",
   "execution_count": 217,
   "metadata": {
    "ExecuteTime": {
     "end_time": "2022-02-22T05:29:30.047310Z",
     "start_time": "2022-02-22T05:29:30.041606Z"
    }
   },
   "outputs": [
    {
     "data": {
      "text/plain": [
       "['0 1 0 1 0 1 1 1 1 1 1 1 1', '0 1 0 0 1 0 1 1', '0 1 0 1 1 1 1 0 1 1 1 1']"
      ]
     },
     "execution_count": 217,
     "metadata": {},
     "output_type": "execute_result"
    }
   ],
   "source": [
    "pred_lables_sequence[0:3]"
   ]
  },
  {
   "cell_type": "code",
   "execution_count": null,
   "metadata": {},
   "outputs": [],
   "source": [
    "segment_wb()"
   ]
  },
  {
   "cell_type": "code",
   "execution_count": null,
   "metadata": {},
   "outputs": [],
   "source": []
  },
  {
   "cell_type": "markdown",
   "metadata": {},
   "source": [
    "# wordbreak model pipeline"
   ]
  },
  {
   "cell_type": "code",
   "execution_count": 1,
   "metadata": {
    "ExecuteTime": {
     "end_time": "2022-04-05T03:19:40.144911Z",
     "start_time": "2022-04-05T03:19:34.593070Z"
    }
   },
   "outputs": [
    {
     "name": "stderr",
     "output_type": "stream",
     "text": [
      "2022-04-05 09:49:35.848419: I tensorflow/stream_executor/cuda/cuda_gpu_executor.cc:939] successful NUMA node read from SysFS had negative value (-1), but there must be at least one NUMA node, so returning NUMA node zero\n"
     ]
    },
    {
     "name": "stdout",
     "output_type": "stream",
     "text": [
      "WARNING:tensorflow:Layer lstm will not use cuDNN kernels since it doesn't meet the criteria. It will use a generic GPU kernel as fallback when running on GPU.\n",
      "WARNING:tensorflow:Layer lstm will not use cuDNN kernels since it doesn't meet the criteria. It will use a generic GPU kernel as fallback when running on GPU.\n",
      "WARNING:tensorflow:Layer lstm will not use cuDNN kernels since it doesn't meet the criteria. It will use a generic GPU kernel as fallback when running on GPU.\n",
      "WARNING:tensorflow:Layer lstm_1 will not use cuDNN kernels since it doesn't meet the criteria. It will use a generic GPU kernel as fallback when running on GPU.\n",
      "WARNING:tensorflow:Layer lstm_1 will not use cuDNN kernels since it doesn't meet the criteria. It will use a generic GPU kernel as fallback when running on GPU.\n",
      "WARNING:tensorflow:Layer lstm_1 will not use cuDNN kernels since it doesn't meet the criteria. It will use a generic GPU kernel as fallback when running on GPU.\n"
     ]
    },
    {
     "name": "stderr",
     "output_type": "stream",
     "text": [
      "2022-04-05 09:49:35.876520: I tensorflow/stream_executor/cuda/cuda_gpu_executor.cc:939] successful NUMA node read from SysFS had negative value (-1), but there must be at least one NUMA node, so returning NUMA node zero\n",
      "2022-04-05 09:49:35.876647: I tensorflow/stream_executor/cuda/cuda_gpu_executor.cc:939] successful NUMA node read from SysFS had negative value (-1), but there must be at least one NUMA node, so returning NUMA node zero\n",
      "2022-04-05 09:49:35.877857: I tensorflow/core/platform/cpu_feature_guard.cc:151] This TensorFlow binary is optimized with oneAPI Deep Neural Network Library (oneDNN) to use the following CPU instructions in performance-critical operations:  AVX2 AVX512F FMA\n",
      "To enable them in other operations, rebuild TensorFlow with the appropriate compiler flags.\n",
      "2022-04-05 09:49:35.878196: I tensorflow/stream_executor/cuda/cuda_gpu_executor.cc:939] successful NUMA node read from SysFS had negative value (-1), but there must be at least one NUMA node, so returning NUMA node zero\n",
      "2022-04-05 09:49:35.878318: I tensorflow/stream_executor/cuda/cuda_gpu_executor.cc:939] successful NUMA node read from SysFS had negative value (-1), but there must be at least one NUMA node, so returning NUMA node zero\n",
      "2022-04-05 09:49:35.878408: I tensorflow/stream_executor/cuda/cuda_gpu_executor.cc:939] successful NUMA node read from SysFS had negative value (-1), but there must be at least one NUMA node, so returning NUMA node zero\n",
      "2022-04-05 09:49:36.487216: I tensorflow/stream_executor/cuda/cuda_gpu_executor.cc:939] successful NUMA node read from SysFS had negative value (-1), but there must be at least one NUMA node, so returning NUMA node zero\n",
      "2022-04-05 09:49:36.487357: I tensorflow/stream_executor/cuda/cuda_gpu_executor.cc:939] successful NUMA node read from SysFS had negative value (-1), but there must be at least one NUMA node, so returning NUMA node zero\n",
      "2022-04-05 09:49:36.487459: I tensorflow/stream_executor/cuda/cuda_gpu_executor.cc:939] successful NUMA node read from SysFS had negative value (-1), but there must be at least one NUMA node, so returning NUMA node zero\n",
      "2022-04-05 09:49:36.487960: I tensorflow/core/common_runtime/gpu/gpu_device.cc:1525] Created device /job:localhost/replica:0/task:0/device:GPU:0 with 605 MB memory:  -> device: 0, name: NVIDIA GeForce RTX 3060, pci bus id: 0000:01:00.0, compute capability: 8.6\n"
     ]
    }
   ],
   "source": [
    "import pandas as pd\n",
    "pd.set_option('max.colwidth', 0)\n",
    "from Word_Segmentation import Word_Segmentation as wb\n",
    "obj_wb = wb()"
   ]
  },
  {
   "cell_type": "code",
   "execution_count": 3,
   "metadata": {
    "ExecuteTime": {
     "end_time": "2022-04-05T03:22:31.991770Z",
     "start_time": "2022-04-05T03:22:31.978628Z"
    }
   },
   "outputs": [],
   "source": [
    "df_test = pd.read_csv('dataset/MT-raw-data-collection - fourth+fifth.csv')"
   ]
  },
  {
   "cell_type": "code",
   "execution_count": 4,
   "metadata": {
    "ExecuteTime": {
     "end_time": "2022-04-05T03:22:33.209456Z",
     "start_time": "2022-04-05T03:22:33.199423Z"
    },
    "scrolled": true
   },
   "outputs": [
    {
     "data": {
      "text/html": [
       "<div>\n",
       "<style scoped>\n",
       "    .dataframe tbody tr th:only-of-type {\n",
       "        vertical-align: middle;\n",
       "    }\n",
       "\n",
       "    .dataframe tbody tr th {\n",
       "        vertical-align: top;\n",
       "    }\n",
       "\n",
       "    .dataframe thead th {\n",
       "        text-align: right;\n",
       "    }\n",
       "</style>\n",
       "<table border=\"1\" class=\"dataframe\">\n",
       "  <thead>\n",
       "    <tr style=\"text-align: right;\">\n",
       "      <th></th>\n",
       "      <th>text</th>\n",
       "      <th>round</th>\n",
       "    </tr>\n",
       "  </thead>\n",
       "  <tbody>\n",
       "    <tr>\n",
       "      <th>0</th>\n",
       "      <td>အ ခု က .. ဆီး ချို fasting 105 ပါ အ သက် ၂၁ ပါ // အဲ တာ .. ၁၀၀ အောက် ကို .. ၆ လ လောက် ထိ နိး နို ငိ သွား ရင် ဆီး ချို ပျောက် သွား ပီ လို့ သတ် မှတ် လို့ ရ သ လား ရှင် // င ယိ သေး တော့ .. ပျောက် ချင် လို့ ပါ</td>\n",
       "      <td>4th_round</td>\n",
       "    </tr>\n",
       "    <tr>\n",
       "      <th>1</th>\n",
       "      <td>ပျောက် သွား မယ် အား တင်း ထား ပါ ခ လေး ရယ် လမ်း များ များ လျောက် ပေး နော်</td>\n",
       "      <td>4th_round</td>\n",
       "    </tr>\n",
       "  </tbody>\n",
       "</table>\n",
       "</div>"
      ],
      "text/plain": [
       "                                                                                                                                                                                                          text  \\\n",
       "0  အ ခု က .. ဆီး ချို fasting 105 ပါ အ သက် ၂၁ ပါ // အဲ တာ .. ၁၀၀ အောက် ကို .. ၆ လ လောက် ထိ နိး နို ငိ သွား ရင် ဆီး ချို ပျောက် သွား ပီ လို့ သတ် မှတ် လို့ ရ သ လား ရှင် // င ယိ သေး တော့ .. ပျောက် ချင် လို့ ပါ   \n",
       "1  ပျောက် သွား မယ် အား တင်း ထား ပါ ခ လေး ရယ် လမ်း များ များ လျောက် ပေး နော်                                                                                                                                      \n",
       "\n",
       "       round  \n",
       "0  4th_round  \n",
       "1  4th_round  "
      ]
     },
     "execution_count": 4,
     "metadata": {},
     "output_type": "execute_result"
    }
   ],
   "source": [
    "df_test.head(2)"
   ]
  },
  {
   "cell_type": "code",
   "execution_count": 5,
   "metadata": {
    "ExecuteTime": {
     "end_time": "2022-02-28T03:29:02.752640Z",
     "start_time": "2022-02-28T03:29:02.743786Z"
    },
    "scrolled": true
   },
   "outputs": [
    {
     "data": {
      "text/plain": [
       "1783"
      ]
     },
     "execution_count": 5,
     "metadata": {},
     "output_type": "execute_result"
    }
   ],
   "source": [
    "len(df_test)"
   ]
  },
  {
   "cell_type": "code",
   "execution_count": null,
   "metadata": {},
   "outputs": [],
   "source": [
    "# check if we need to append \" \" both before and after"
   ]
  },
  {
   "cell_type": "code",
   "execution_count": 5,
   "metadata": {
    "ExecuteTime": {
     "end_time": "2022-04-05T03:22:49.079558Z",
     "start_time": "2022-04-05T03:22:47.603981Z"
    }
   },
   "outputs": [
    {
     "name": "stderr",
     "output_type": "stream",
     "text": [
      "2022-04-05 09:52:49.008551: E tensorflow/stream_executor/cuda/cuda_blas.cc:226] failed to create cublas handle: CUBLAS_STATUS_NOT_INITIALIZED\n",
      "2022-04-05 09:52:49.008586: W tensorflow/core/framework/op_kernel.cc:1745] OP_REQUIRES failed at matmul_op_impl.h:442 : INTERNAL: Attempting to perform BLAS operation using StreamExecutor without BLAS support\n",
      "2022-04-05 09:52:49.014877: E tensorflow/stream_executor/cuda/cuda_blas.cc:226] failed to create cublas handle: CUBLAS_STATUS_NOT_INITIALIZED\n",
      "2022-04-05 09:52:49.014937: W tensorflow/core/framework/op_kernel.cc:1745] OP_REQUIRES failed at matmul_op_impl.h:442 : INTERNAL: Attempting to perform BLAS operation using StreamExecutor without BLAS support\n",
      "2022-04-05 09:52:49.016974: E tensorflow/stream_executor/cuda/cuda_blas.cc:226] failed to create cublas handle: CUBLAS_STATUS_NOT_INITIALIZED\n",
      "2022-04-05 09:52:49.017000: W tensorflow/core/framework/op_kernel.cc:1745] OP_REQUIRES failed at matmul_op_impl.h:442 : INTERNAL: Attempting to perform BLAS operation using StreamExecutor without BLAS support\n",
      "2022-04-05 09:52:49.018858: E tensorflow/stream_executor/cuda/cuda_blas.cc:226] failed to create cublas handle: CUBLAS_STATUS_NOT_INITIALIZED\n",
      "2022-04-05 09:52:49.018872: W tensorflow/core/framework/op_kernel.cc:1745] OP_REQUIRES failed at matmul_op_impl.h:442 : INTERNAL: Attempting to perform BLAS operation using StreamExecutor without BLAS support\n",
      "2022-04-05 09:52:49.020781: E tensorflow/stream_executor/cuda/cuda_blas.cc:226] failed to create cublas handle: CUBLAS_STATUS_NOT_INITIALIZED\n",
      "2022-04-05 09:52:49.020794: W tensorflow/core/framework/op_kernel.cc:1745] OP_REQUIRES failed at matmul_op_impl.h:442 : INTERNAL: Attempting to perform BLAS operation using StreamExecutor without BLAS support\n",
      "2022-04-05 09:52:49.022612: E tensorflow/stream_executor/cuda/cuda_blas.cc:226] failed to create cublas handle: CUBLAS_STATUS_NOT_INITIALIZED\n",
      "2022-04-05 09:52:49.022623: W tensorflow/core/framework/op_kernel.cc:1745] OP_REQUIRES failed at matmul_op_impl.h:442 : INTERNAL: Attempting to perform BLAS operation using StreamExecutor without BLAS support\n",
      "2022-04-05 09:52:49.024668: E tensorflow/stream_executor/cuda/cuda_blas.cc:226] failed to create cublas handle: CUBLAS_STATUS_NOT_INITIALIZED\n",
      "2022-04-05 09:52:49.024683: W tensorflow/core/framework/op_kernel.cc:1745] OP_REQUIRES failed at matmul_op_impl.h:442 : INTERNAL: Attempting to perform BLAS operation using StreamExecutor without BLAS support\n",
      "2022-04-05 09:52:49.027999: E tensorflow/stream_executor/cuda/cuda_blas.cc:226] failed to create cublas handle: CUBLAS_STATUS_NOT_INITIALIZED\n",
      "2022-04-05 09:52:49.028010: W tensorflow/core/framework/op_kernel.cc:1745] OP_REQUIRES failed at matmul_op_impl.h:442 : INTERNAL: Attempting to perform BLAS operation using StreamExecutor without BLAS support\n",
      "2022-04-05 09:52:49.030006: E tensorflow/stream_executor/cuda/cuda_blas.cc:226] failed to create cublas handle: CUBLAS_STATUS_NOT_INITIALIZED\n",
      "2022-04-05 09:52:49.030019: W tensorflow/core/framework/op_kernel.cc:1745] OP_REQUIRES failed at matmul_op_impl.h:442 : INTERNAL: Attempting to perform BLAS operation using StreamExecutor without BLAS support\n",
      "2022-04-05 09:52:49.033082: E tensorflow/stream_executor/cuda/cuda_blas.cc:226] failed to create cublas handle: CUBLAS_STATUS_NOT_INITIALIZED\n",
      "2022-04-05 09:52:49.033099: W tensorflow/core/framework/op_kernel.cc:1745] OP_REQUIRES failed at matmul_op_impl.h:442 : INTERNAL: Attempting to perform BLAS operation using StreamExecutor without BLAS support\n",
      "2022-04-05 09:52:49.035484: E tensorflow/stream_executor/cuda/cuda_blas.cc:226] failed to create cublas handle: CUBLAS_STATUS_NOT_INITIALIZED\n",
      "2022-04-05 09:52:49.035509: W tensorflow/core/framework/op_kernel.cc:1745] OP_REQUIRES failed at matmul_op_impl.h:442 : INTERNAL: Attempting to perform BLAS operation using StreamExecutor without BLAS support\n",
      "2022-04-05 09:52:49.037428: E tensorflow/stream_executor/cuda/cuda_blas.cc:226] failed to create cublas handle: CUBLAS_STATUS_NOT_INITIALIZED\n",
      "2022-04-05 09:52:49.037445: W tensorflow/core/framework/op_kernel.cc:1745] OP_REQUIRES failed at matmul_op_impl.h:442 : INTERNAL: Attempting to perform BLAS operation using StreamExecutor without BLAS support\n",
      "2022-04-05 09:52:49.039396: E tensorflow/stream_executor/cuda/cuda_blas.cc:226] failed to create cublas handle: CUBLAS_STATUS_NOT_INITIALIZED\n",
      "2022-04-05 09:52:49.039411: W tensorflow/core/framework/op_kernel.cc:1745] OP_REQUIRES failed at matmul_op_impl.h:442 : INTERNAL: Attempting to perform BLAS operation using StreamExecutor without BLAS support\n",
      "2022-04-05 09:52:49.041312: E tensorflow/stream_executor/cuda/cuda_blas.cc:226] failed to create cublas handle: CUBLAS_STATUS_NOT_INITIALIZED\n",
      "2022-04-05 09:52:49.041325: W tensorflow/core/framework/op_kernel.cc:1745] OP_REQUIRES failed at matmul_op_impl.h:442 : INTERNAL: Attempting to perform BLAS operation using StreamExecutor without BLAS support\n",
      "2022-04-05 09:52:49.043133: E tensorflow/stream_executor/cuda/cuda_blas.cc:226] failed to create cublas handle: CUBLAS_STATUS_NOT_INITIALIZED\n",
      "2022-04-05 09:52:49.043145: W tensorflow/core/framework/op_kernel.cc:1745] OP_REQUIRES failed at matmul_op_impl.h:442 : INTERNAL: Attempting to perform BLAS operation using StreamExecutor without BLAS support\n",
      "2022-04-05 09:52:49.045111: E tensorflow/stream_executor/cuda/cuda_blas.cc:226] failed to create cublas handle: CUBLAS_STATUS_NOT_INITIALIZED\n",
      "2022-04-05 09:52:49.045126: W tensorflow/core/framework/op_kernel.cc:1745] OP_REQUIRES failed at matmul_op_impl.h:442 : INTERNAL: Attempting to perform BLAS operation using StreamExecutor without BLAS support\n"
     ]
    },
    {
     "ename": "InternalError",
     "evalue": " Attempting to perform BLAS operation using StreamExecutor without BLAS support\n\t [[node wb_model/bidirectional/forward_lstm/lstm_cell_1/MatMul_3\n (defined at /home/ai-server/anaconda3/envs/mt_tf_2/lib/python3.7/site-packages/keras/backend.py:2134)\n]] [Op:__inference_predict_function_23205]\n\nErrors may have originated from an input operation.\nInput Source operations connected to node wb_model/bidirectional/forward_lstm/lstm_cell_1/MatMul_3:\nIn[0] wb_model/bidirectional/forward_lstm/strided_slice_2 (defined at /home/ai-server/anaconda3/envs/mt_tf_2/lib/python3.7/site-packages/keras/backend.py:4506)\t\nIn[1] wb_model/bidirectional/forward_lstm/lstm_cell_1/split (defined at /home/ai-server/anaconda3/envs/mt_tf_2/lib/python3.7/site-packages/keras/layers/recurrent.py:2465)\n\nOperation defined at: (most recent call last)\n>>>   File \"/home/ai-server/anaconda3/envs/mt_tf_2/lib/python3.7/runpy.py\", line 193, in _run_module_as_main\n>>>     \"__main__\", mod_spec)\n>>> \n>>>   File \"/home/ai-server/anaconda3/envs/mt_tf_2/lib/python3.7/runpy.py\", line 85, in _run_code\n>>>     exec(code, run_globals)\n>>> \n>>>   File \"/home/ai-server/anaconda3/envs/mt_tf_2/lib/python3.7/site-packages/ipykernel_launcher.py\", line 16, in <module>\n>>>     app.launch_new_instance()\n>>> \n>>>   File \"/home/ai-server/anaconda3/envs/mt_tf_2/lib/python3.7/site-packages/traitlets/config/application.py\", line 846, in launch_instance\n>>>     app.start()\n>>> \n>>>   File \"/home/ai-server/anaconda3/envs/mt_tf_2/lib/python3.7/site-packages/ipykernel/kernelapp.py\", line 677, in start\n>>>     self.io_loop.start()\n>>> \n>>>   File \"/home/ai-server/anaconda3/envs/mt_tf_2/lib/python3.7/site-packages/tornado/platform/asyncio.py\", line 199, in start\n>>>     self.asyncio_loop.run_forever()\n>>> \n>>>   File \"/home/ai-server/anaconda3/envs/mt_tf_2/lib/python3.7/asyncio/base_events.py\", line 541, in run_forever\n>>>     self._run_once()\n>>> \n>>>   File \"/home/ai-server/anaconda3/envs/mt_tf_2/lib/python3.7/asyncio/base_events.py\", line 1786, in _run_once\n>>>     handle._run()\n>>> \n>>>   File \"/home/ai-server/anaconda3/envs/mt_tf_2/lib/python3.7/asyncio/events.py\", line 88, in _run\n>>>     self._context.run(self._callback, *self._args)\n>>> \n>>>   File \"/home/ai-server/anaconda3/envs/mt_tf_2/lib/python3.7/site-packages/ipykernel/kernelbase.py\", line 457, in dispatch_queue\n>>>     await self.process_one()\n>>> \n>>>   File \"/home/ai-server/anaconda3/envs/mt_tf_2/lib/python3.7/site-packages/ipykernel/kernelbase.py\", line 446, in process_one\n>>>     await dispatch(*args)\n>>> \n>>>   File \"/home/ai-server/anaconda3/envs/mt_tf_2/lib/python3.7/site-packages/ipykernel/kernelbase.py\", line 353, in dispatch_shell\n>>>     await result\n>>> \n>>>   File \"/home/ai-server/anaconda3/envs/mt_tf_2/lib/python3.7/site-packages/ipykernel/kernelbase.py\", line 648, in execute_request\n>>>     reply_content = await reply_content\n>>> \n>>>   File \"/home/ai-server/anaconda3/envs/mt_tf_2/lib/python3.7/site-packages/ipykernel/ipkernel.py\", line 353, in do_execute\n>>>     res = shell.run_cell(code, store_history=store_history, silent=silent)\n>>> \n>>>   File \"/home/ai-server/anaconda3/envs/mt_tf_2/lib/python3.7/site-packages/ipykernel/zmqshell.py\", line 533, in run_cell\n>>>     return super(ZMQInteractiveShell, self).run_cell(*args, **kwargs)\n>>> \n>>>   File \"/home/ai-server/anaconda3/envs/mt_tf_2/lib/python3.7/site-packages/IPython/core/interactiveshell.py\", line 2915, in run_cell\n>>>     raw_cell, store_history, silent, shell_futures)\n>>> \n>>>   File \"/home/ai-server/anaconda3/envs/mt_tf_2/lib/python3.7/site-packages/IPython/core/interactiveshell.py\", line 2960, in _run_cell\n>>>     return runner(coro)\n>>> \n>>>   File \"/home/ai-server/anaconda3/envs/mt_tf_2/lib/python3.7/site-packages/IPython/core/async_helpers.py\", line 78, in _pseudo_sync_runner\n>>>     coro.send(None)\n>>> \n>>>   File \"/home/ai-server/anaconda3/envs/mt_tf_2/lib/python3.7/site-packages/IPython/core/interactiveshell.py\", line 3186, in run_cell_async\n>>>     interactivity=interactivity, compiler=compiler, result=result)\n>>> \n>>>   File \"/home/ai-server/anaconda3/envs/mt_tf_2/lib/python3.7/site-packages/IPython/core/interactiveshell.py\", line 3377, in run_ast_nodes\n>>>     if (await self.run_code(code, result,  async_=asy)):\n>>> \n>>>   File \"/home/ai-server/anaconda3/envs/mt_tf_2/lib/python3.7/site-packages/IPython/core/interactiveshell.py\", line 3457, in run_code\n>>>     exec(code_obj, self.user_global_ns, self.user_ns)\n>>> \n>>>   File \"/tmp/ipykernel_435063/2533050960.py\", line 1, in <module>\n>>>     wb_sent = obj_wb.segement_word(df_test.text.tolist())\n>>> \n>>>   File \"/home/ai-server/Documents/workspace_sa/Word_Segmentation.py\", line 172, in segement_word\n>>>     predict_labels = self.model.predict(x_test_seq)\n>>> \n>>>   File \"/home/ai-server/anaconda3/envs/mt_tf_2/lib/python3.7/site-packages/keras/utils/traceback_utils.py\", line 64, in error_handler\n>>>     return fn(*args, **kwargs)\n>>> \n>>>   File \"/home/ai-server/anaconda3/envs/mt_tf_2/lib/python3.7/site-packages/keras/engine/training.py\", line 1789, in predict\n>>>     tmp_batch_outputs = self.predict_function(iterator)\n>>> \n>>>   File \"/home/ai-server/anaconda3/envs/mt_tf_2/lib/python3.7/site-packages/keras/engine/training.py\", line 1621, in predict_function\n>>>     return step_function(self, iterator)\n>>> \n>>>   File \"/home/ai-server/anaconda3/envs/mt_tf_2/lib/python3.7/site-packages/keras/engine/training.py\", line 1611, in step_function\n>>>     outputs = model.distribute_strategy.run(run_step, args=(data,))\n>>> \n>>>   File \"/home/ai-server/anaconda3/envs/mt_tf_2/lib/python3.7/site-packages/keras/engine/training.py\", line 1604, in run_step\n>>>     outputs = model.predict_step(data)\n>>> \n>>>   File \"/home/ai-server/anaconda3/envs/mt_tf_2/lib/python3.7/site-packages/keras/engine/training.py\", line 1572, in predict_step\n>>>     return self(x, training=False)\n>>> \n>>>   File \"/home/ai-server/anaconda3/envs/mt_tf_2/lib/python3.7/site-packages/keras/utils/traceback_utils.py\", line 64, in error_handler\n>>>     return fn(*args, **kwargs)\n>>> \n>>>   File \"/home/ai-server/anaconda3/envs/mt_tf_2/lib/python3.7/site-packages/keras/engine/base_layer.py\", line 1083, in __call__\n>>>     outputs = call_fn(inputs, *args, **kwargs)\n>>> \n>>>   File \"/home/ai-server/anaconda3/envs/mt_tf_2/lib/python3.7/site-packages/keras/utils/traceback_utils.py\", line 92, in error_handler\n>>>     return fn(*args, **kwargs)\n>>> \n>>>   File \"/home/ai-server/anaconda3/envs/mt_tf_2/lib/python3.7/site-packages/keras/engine/functional.py\", line 452, in call\n>>>     inputs, training=training, mask=mask)\n>>> \n>>>   File \"/home/ai-server/anaconda3/envs/mt_tf_2/lib/python3.7/site-packages/keras/engine/functional.py\", line 589, in _run_internal_graph\n>>>     outputs = node.layer(*args, **kwargs)\n>>> \n>>>   File \"/home/ai-server/anaconda3/envs/mt_tf_2/lib/python3.7/site-packages/keras/layers/wrappers.py\", line 586, in __call__\n>>>     return super(Bidirectional, self).__call__(inputs, **kwargs)\n>>> \n>>>   File \"/home/ai-server/anaconda3/envs/mt_tf_2/lib/python3.7/site-packages/keras/utils/traceback_utils.py\", line 64, in error_handler\n>>>     return fn(*args, **kwargs)\n>>> \n>>>   File \"/home/ai-server/anaconda3/envs/mt_tf_2/lib/python3.7/site-packages/keras/engine/base_layer.py\", line 1083, in __call__\n>>>     outputs = call_fn(inputs, *args, **kwargs)\n>>> \n>>>   File \"/home/ai-server/anaconda3/envs/mt_tf_2/lib/python3.7/site-packages/keras/utils/traceback_utils.py\", line 92, in error_handler\n>>>     return fn(*args, **kwargs)\n>>> \n>>>   File \"/home/ai-server/anaconda3/envs/mt_tf_2/lib/python3.7/site-packages/keras/layers/wrappers.py\", line 702, in call\n>>>     initial_state=forward_state, **kwargs)\n>>> \n>>>   File \"/home/ai-server/anaconda3/envs/mt_tf_2/lib/python3.7/site-packages/keras/layers/recurrent.py\", line 679, in __call__\n>>>     return super(RNN, self).__call__(inputs, **kwargs)\n>>> \n>>>   File \"/home/ai-server/anaconda3/envs/mt_tf_2/lib/python3.7/site-packages/keras/utils/traceback_utils.py\", line 64, in error_handler\n>>>     return fn(*args, **kwargs)\n>>> \n>>>   File \"/home/ai-server/anaconda3/envs/mt_tf_2/lib/python3.7/site-packages/keras/engine/base_layer.py\", line 1083, in __call__\n>>>     outputs = call_fn(inputs, *args, **kwargs)\n>>> \n>>>   File \"/home/ai-server/anaconda3/envs/mt_tf_2/lib/python3.7/site-packages/keras/utils/traceback_utils.py\", line 92, in error_handler\n>>>     return fn(*args, **kwargs)\n>>> \n>>>   File \"/home/ai-server/anaconda3/envs/mt_tf_2/lib/python3.7/site-packages/keras/layers/recurrent_v2.py\", line 1168, in call\n>>>     zero_output_for_mask=self.zero_output_for_mask)\n>>> \n>>>   File \"/home/ai-server/anaconda3/envs/mt_tf_2/lib/python3.7/site-packages/keras/backend.py\", line 4510, in rnn\n>>>     input_time_zero, tuple(initial_states) + tuple(constants))\n>>> \n>>>   File \"/home/ai-server/anaconda3/envs/mt_tf_2/lib/python3.7/site-packages/keras/layers/recurrent_v2.py\", line 1156, in step\n>>>     return self.cell(inputs, states, **kwargs)\n>>> \n>>>   File \"/home/ai-server/anaconda3/envs/mt_tf_2/lib/python3.7/site-packages/keras/utils/traceback_utils.py\", line 64, in error_handler\n>>>     return fn(*args, **kwargs)\n>>> \n>>>   File \"/home/ai-server/anaconda3/envs/mt_tf_2/lib/python3.7/site-packages/keras/engine/base_layer.py\", line 1083, in __call__\n>>>     outputs = call_fn(inputs, *args, **kwargs)\n>>> \n>>>   File \"/home/ai-server/anaconda3/envs/mt_tf_2/lib/python3.7/site-packages/keras/utils/traceback_utils.py\", line 92, in error_handler\n>>>     return fn(*args, **kwargs)\n>>> \n>>>   File \"/home/ai-server/anaconda3/envs/mt_tf_2/lib/python3.7/site-packages/keras/layers/recurrent.py\", line 2469, in call\n>>>     x_o = backend.dot(inputs_o, k_o)\n>>> \n>>>   File \"/home/ai-server/anaconda3/envs/mt_tf_2/lib/python3.7/site-packages/keras/backend.py\", line 2134, in dot\n>>>     out = tf.matmul(x, y)\n>>> ",
     "output_type": "error",
     "traceback": [
      "\u001b[0;31m---------------------------------------------------------------------------\u001b[0m",
      "\u001b[0;31mInternalError\u001b[0m                             Traceback (most recent call last)",
      "\u001b[0;32m/tmp/ipykernel_435063/2533050960.py\u001b[0m in \u001b[0;36m<module>\u001b[0;34m\u001b[0m\n\u001b[0;32m----> 1\u001b[0;31m \u001b[0mwb_sent\u001b[0m \u001b[0;34m=\u001b[0m \u001b[0mobj_wb\u001b[0m\u001b[0;34m.\u001b[0m\u001b[0msegement_word\u001b[0m\u001b[0;34m(\u001b[0m\u001b[0mdf_test\u001b[0m\u001b[0;34m.\u001b[0m\u001b[0mtext\u001b[0m\u001b[0;34m.\u001b[0m\u001b[0mtolist\u001b[0m\u001b[0;34m(\u001b[0m\u001b[0;34m)\u001b[0m\u001b[0;34m)\u001b[0m\u001b[0;34m\u001b[0m\u001b[0;34m\u001b[0m\u001b[0m\n\u001b[0m",
      "\u001b[0;32m~/Documents/workspace_sa/Word_Segmentation.py\u001b[0m in \u001b[0;36msegement_word\u001b[0;34m(self, message_list)\u001b[0m\n\u001b[1;32m    170\u001b[0m         \u001b[0mx_test_seq\u001b[0m \u001b[0;34m=\u001b[0m \u001b[0mpad_sequences\u001b[0m\u001b[0;34m(\u001b[0m\u001b[0msequences_test\u001b[0m\u001b[0;34m,\u001b[0m \u001b[0mmaxlen\u001b[0m\u001b[0;34m=\u001b[0m\u001b[0mself\u001b[0m\u001b[0;34m.\u001b[0m\u001b[0mMAX_LENGTH\u001b[0m\u001b[0;34m,\u001b[0m\u001b[0mpadding\u001b[0m\u001b[0;34m=\u001b[0m\u001b[0;34m'post'\u001b[0m\u001b[0;34m,\u001b[0m\u001b[0mvalue\u001b[0m\u001b[0;34m=\u001b[0m\u001b[0mself\u001b[0m\u001b[0;34m.\u001b[0m\u001b[0mword_index\u001b[0m\u001b[0;34m[\u001b[0m\u001b[0;34m'PAD'\u001b[0m\u001b[0;34m]\u001b[0m\u001b[0;34m)\u001b[0m\u001b[0;34m\u001b[0m\u001b[0;34m\u001b[0m\u001b[0m\n\u001b[1;32m    171\u001b[0m \u001b[0;34m\u001b[0m\u001b[0m\n\u001b[0;32m--> 172\u001b[0;31m         \u001b[0mpredict_labels\u001b[0m \u001b[0;34m=\u001b[0m \u001b[0mself\u001b[0m\u001b[0;34m.\u001b[0m\u001b[0mmodel\u001b[0m\u001b[0;34m.\u001b[0m\u001b[0mpredict\u001b[0m\u001b[0;34m(\u001b[0m\u001b[0mx_test_seq\u001b[0m\u001b[0;34m)\u001b[0m\u001b[0;34m\u001b[0m\u001b[0;34m\u001b[0m\u001b[0m\n\u001b[0m\u001b[1;32m    173\u001b[0m         \u001b[0mpredict_labels\u001b[0m \u001b[0;34m=\u001b[0m \u001b[0mself\u001b[0m\u001b[0;34m.\u001b[0m\u001b[0mpred2label\u001b[0m\u001b[0;34m(\u001b[0m\u001b[0mpredict_labels\u001b[0m\u001b[0;34m,\u001b[0m \u001b[0msyllable_break_message_list\u001b[0m\u001b[0;34m)\u001b[0m\u001b[0;34m\u001b[0m\u001b[0;34m\u001b[0m\u001b[0m\n\u001b[1;32m    174\u001b[0m         \u001b[0mpredict_labels\u001b[0m \u001b[0;34m=\u001b[0m \u001b[0;34m[\u001b[0m\u001b[0;34m\" \"\u001b[0m\u001b[0;34m.\u001b[0m\u001b[0mjoin\u001b[0m\u001b[0;34m(\u001b[0m\u001b[0msent\u001b[0m\u001b[0;34m)\u001b[0m \u001b[0;32mfor\u001b[0m \u001b[0msent\u001b[0m \u001b[0;32min\u001b[0m \u001b[0mpredict_labels\u001b[0m\u001b[0;34m]\u001b[0m\u001b[0;34m\u001b[0m\u001b[0;34m\u001b[0m\u001b[0m\n",
      "\u001b[0;32m~/anaconda3/envs/mt_tf_2/lib/python3.7/site-packages/keras/utils/traceback_utils.py\u001b[0m in \u001b[0;36merror_handler\u001b[0;34m(*args, **kwargs)\u001b[0m\n\u001b[1;32m     65\u001b[0m     \u001b[0;32mexcept\u001b[0m \u001b[0mException\u001b[0m \u001b[0;32mas\u001b[0m \u001b[0me\u001b[0m\u001b[0;34m:\u001b[0m  \u001b[0;31m# pylint: disable=broad-except\u001b[0m\u001b[0;34m\u001b[0m\u001b[0;34m\u001b[0m\u001b[0m\n\u001b[1;32m     66\u001b[0m       \u001b[0mfiltered_tb\u001b[0m \u001b[0;34m=\u001b[0m \u001b[0m_process_traceback_frames\u001b[0m\u001b[0;34m(\u001b[0m\u001b[0me\u001b[0m\u001b[0;34m.\u001b[0m\u001b[0m__traceback__\u001b[0m\u001b[0;34m)\u001b[0m\u001b[0;34m\u001b[0m\u001b[0;34m\u001b[0m\u001b[0m\n\u001b[0;32m---> 67\u001b[0;31m       \u001b[0;32mraise\u001b[0m \u001b[0me\u001b[0m\u001b[0;34m.\u001b[0m\u001b[0mwith_traceback\u001b[0m\u001b[0;34m(\u001b[0m\u001b[0mfiltered_tb\u001b[0m\u001b[0;34m)\u001b[0m \u001b[0;32mfrom\u001b[0m \u001b[0;32mNone\u001b[0m\u001b[0;34m\u001b[0m\u001b[0;34m\u001b[0m\u001b[0m\n\u001b[0m\u001b[1;32m     68\u001b[0m     \u001b[0;32mfinally\u001b[0m\u001b[0;34m:\u001b[0m\u001b[0;34m\u001b[0m\u001b[0;34m\u001b[0m\u001b[0m\n\u001b[1;32m     69\u001b[0m       \u001b[0;32mdel\u001b[0m \u001b[0mfiltered_tb\u001b[0m\u001b[0;34m\u001b[0m\u001b[0;34m\u001b[0m\u001b[0m\n",
      "\u001b[0;32m~/anaconda3/envs/mt_tf_2/lib/python3.7/site-packages/tensorflow/python/eager/execute.py\u001b[0m in \u001b[0;36mquick_execute\u001b[0;34m(op_name, num_outputs, inputs, attrs, ctx, name)\u001b[0m\n\u001b[1;32m     57\u001b[0m     \u001b[0mctx\u001b[0m\u001b[0;34m.\u001b[0m\u001b[0mensure_initialized\u001b[0m\u001b[0;34m(\u001b[0m\u001b[0;34m)\u001b[0m\u001b[0;34m\u001b[0m\u001b[0;34m\u001b[0m\u001b[0m\n\u001b[1;32m     58\u001b[0m     tensors = pywrap_tfe.TFE_Py_Execute(ctx._handle, device_name, op_name,\n\u001b[0;32m---> 59\u001b[0;31m                                         inputs, attrs, num_outputs)\n\u001b[0m\u001b[1;32m     60\u001b[0m   \u001b[0;32mexcept\u001b[0m \u001b[0mcore\u001b[0m\u001b[0;34m.\u001b[0m\u001b[0m_NotOkStatusException\u001b[0m \u001b[0;32mas\u001b[0m \u001b[0me\u001b[0m\u001b[0;34m:\u001b[0m\u001b[0;34m\u001b[0m\u001b[0;34m\u001b[0m\u001b[0m\n\u001b[1;32m     61\u001b[0m     \u001b[0;32mif\u001b[0m \u001b[0mname\u001b[0m \u001b[0;32mis\u001b[0m \u001b[0;32mnot\u001b[0m \u001b[0;32mNone\u001b[0m\u001b[0;34m:\u001b[0m\u001b[0;34m\u001b[0m\u001b[0;34m\u001b[0m\u001b[0m\n",
      "\u001b[0;31mInternalError\u001b[0m:  Attempting to perform BLAS operation using StreamExecutor without BLAS support\n\t [[node wb_model/bidirectional/forward_lstm/lstm_cell_1/MatMul_3\n (defined at /home/ai-server/anaconda3/envs/mt_tf_2/lib/python3.7/site-packages/keras/backend.py:2134)\n]] [Op:__inference_predict_function_23205]\n\nErrors may have originated from an input operation.\nInput Source operations connected to node wb_model/bidirectional/forward_lstm/lstm_cell_1/MatMul_3:\nIn[0] wb_model/bidirectional/forward_lstm/strided_slice_2 (defined at /home/ai-server/anaconda3/envs/mt_tf_2/lib/python3.7/site-packages/keras/backend.py:4506)\t\nIn[1] wb_model/bidirectional/forward_lstm/lstm_cell_1/split (defined at /home/ai-server/anaconda3/envs/mt_tf_2/lib/python3.7/site-packages/keras/layers/recurrent.py:2465)\n\nOperation defined at: (most recent call last)\n>>>   File \"/home/ai-server/anaconda3/envs/mt_tf_2/lib/python3.7/runpy.py\", line 193, in _run_module_as_main\n>>>     \"__main__\", mod_spec)\n>>> \n>>>   File \"/home/ai-server/anaconda3/envs/mt_tf_2/lib/python3.7/runpy.py\", line 85, in _run_code\n>>>     exec(code, run_globals)\n>>> \n>>>   File \"/home/ai-server/anaconda3/envs/mt_tf_2/lib/python3.7/site-packages/ipykernel_launcher.py\", line 16, in <module>\n>>>     app.launch_new_instance()\n>>> \n>>>   File \"/home/ai-server/anaconda3/envs/mt_tf_2/lib/python3.7/site-packages/traitlets/config/application.py\", line 846, in launch_instance\n>>>     app.start()\n>>> \n>>>   File \"/home/ai-server/anaconda3/envs/mt_tf_2/lib/python3.7/site-packages/ipykernel/kernelapp.py\", line 677, in start\n>>>     self.io_loop.start()\n>>> \n>>>   File \"/home/ai-server/anaconda3/envs/mt_tf_2/lib/python3.7/site-packages/tornado/platform/asyncio.py\", line 199, in start\n>>>     self.asyncio_loop.run_forever()\n>>> \n>>>   File \"/home/ai-server/anaconda3/envs/mt_tf_2/lib/python3.7/asyncio/base_events.py\", line 541, in run_forever\n>>>     self._run_once()\n>>> \n>>>   File \"/home/ai-server/anaconda3/envs/mt_tf_2/lib/python3.7/asyncio/base_events.py\", line 1786, in _run_once\n>>>     handle._run()\n>>> \n>>>   File \"/home/ai-server/anaconda3/envs/mt_tf_2/lib/python3.7/asyncio/events.py\", line 88, in _run\n>>>     self._context.run(self._callback, *self._args)\n>>> \n>>>   File \"/home/ai-server/anaconda3/envs/mt_tf_2/lib/python3.7/site-packages/ipykernel/kernelbase.py\", line 457, in dispatch_queue\n>>>     await self.process_one()\n>>> \n>>>   File \"/home/ai-server/anaconda3/envs/mt_tf_2/lib/python3.7/site-packages/ipykernel/kernelbase.py\", line 446, in process_one\n>>>     await dispatch(*args)\n>>> \n>>>   File \"/home/ai-server/anaconda3/envs/mt_tf_2/lib/python3.7/site-packages/ipykernel/kernelbase.py\", line 353, in dispatch_shell\n>>>     await result\n>>> \n>>>   File \"/home/ai-server/anaconda3/envs/mt_tf_2/lib/python3.7/site-packages/ipykernel/kernelbase.py\", line 648, in execute_request\n>>>     reply_content = await reply_content\n>>> \n>>>   File \"/home/ai-server/anaconda3/envs/mt_tf_2/lib/python3.7/site-packages/ipykernel/ipkernel.py\", line 353, in do_execute\n>>>     res = shell.run_cell(code, store_history=store_history, silent=silent)\n>>> \n>>>   File \"/home/ai-server/anaconda3/envs/mt_tf_2/lib/python3.7/site-packages/ipykernel/zmqshell.py\", line 533, in run_cell\n>>>     return super(ZMQInteractiveShell, self).run_cell(*args, **kwargs)\n>>> \n>>>   File \"/home/ai-server/anaconda3/envs/mt_tf_2/lib/python3.7/site-packages/IPython/core/interactiveshell.py\", line 2915, in run_cell\n>>>     raw_cell, store_history, silent, shell_futures)\n>>> \n>>>   File \"/home/ai-server/anaconda3/envs/mt_tf_2/lib/python3.7/site-packages/IPython/core/interactiveshell.py\", line 2960, in _run_cell\n>>>     return runner(coro)\n>>> \n>>>   File \"/home/ai-server/anaconda3/envs/mt_tf_2/lib/python3.7/site-packages/IPython/core/async_helpers.py\", line 78, in _pseudo_sync_runner\n>>>     coro.send(None)\n>>> \n>>>   File \"/home/ai-server/anaconda3/envs/mt_tf_2/lib/python3.7/site-packages/IPython/core/interactiveshell.py\", line 3186, in run_cell_async\n>>>     interactivity=interactivity, compiler=compiler, result=result)\n>>> \n>>>   File \"/home/ai-server/anaconda3/envs/mt_tf_2/lib/python3.7/site-packages/IPython/core/interactiveshell.py\", line 3377, in run_ast_nodes\n>>>     if (await self.run_code(code, result,  async_=asy)):\n>>> \n>>>   File \"/home/ai-server/anaconda3/envs/mt_tf_2/lib/python3.7/site-packages/IPython/core/interactiveshell.py\", line 3457, in run_code\n>>>     exec(code_obj, self.user_global_ns, self.user_ns)\n>>> \n>>>   File \"/tmp/ipykernel_435063/2533050960.py\", line 1, in <module>\n>>>     wb_sent = obj_wb.segement_word(df_test.text.tolist())\n>>> \n>>>   File \"/home/ai-server/Documents/workspace_sa/Word_Segmentation.py\", line 172, in segement_word\n>>>     predict_labels = self.model.predict(x_test_seq)\n>>> \n>>>   File \"/home/ai-server/anaconda3/envs/mt_tf_2/lib/python3.7/site-packages/keras/utils/traceback_utils.py\", line 64, in error_handler\n>>>     return fn(*args, **kwargs)\n>>> \n>>>   File \"/home/ai-server/anaconda3/envs/mt_tf_2/lib/python3.7/site-packages/keras/engine/training.py\", line 1789, in predict\n>>>     tmp_batch_outputs = self.predict_function(iterator)\n>>> \n>>>   File \"/home/ai-server/anaconda3/envs/mt_tf_2/lib/python3.7/site-packages/keras/engine/training.py\", line 1621, in predict_function\n>>>     return step_function(self, iterator)\n>>> \n>>>   File \"/home/ai-server/anaconda3/envs/mt_tf_2/lib/python3.7/site-packages/keras/engine/training.py\", line 1611, in step_function\n>>>     outputs = model.distribute_strategy.run(run_step, args=(data,))\n>>> \n>>>   File \"/home/ai-server/anaconda3/envs/mt_tf_2/lib/python3.7/site-packages/keras/engine/training.py\", line 1604, in run_step\n>>>     outputs = model.predict_step(data)\n>>> \n>>>   File \"/home/ai-server/anaconda3/envs/mt_tf_2/lib/python3.7/site-packages/keras/engine/training.py\", line 1572, in predict_step\n>>>     return self(x, training=False)\n>>> \n>>>   File \"/home/ai-server/anaconda3/envs/mt_tf_2/lib/python3.7/site-packages/keras/utils/traceback_utils.py\", line 64, in error_handler\n>>>     return fn(*args, **kwargs)\n>>> \n>>>   File \"/home/ai-server/anaconda3/envs/mt_tf_2/lib/python3.7/site-packages/keras/engine/base_layer.py\", line 1083, in __call__\n>>>     outputs = call_fn(inputs, *args, **kwargs)\n>>> \n>>>   File \"/home/ai-server/anaconda3/envs/mt_tf_2/lib/python3.7/site-packages/keras/utils/traceback_utils.py\", line 92, in error_handler\n>>>     return fn(*args, **kwargs)\n>>> \n>>>   File \"/home/ai-server/anaconda3/envs/mt_tf_2/lib/python3.7/site-packages/keras/engine/functional.py\", line 452, in call\n>>>     inputs, training=training, mask=mask)\n>>> \n>>>   File \"/home/ai-server/anaconda3/envs/mt_tf_2/lib/python3.7/site-packages/keras/engine/functional.py\", line 589, in _run_internal_graph\n>>>     outputs = node.layer(*args, **kwargs)\n>>> \n>>>   File \"/home/ai-server/anaconda3/envs/mt_tf_2/lib/python3.7/site-packages/keras/layers/wrappers.py\", line 586, in __call__\n>>>     return super(Bidirectional, self).__call__(inputs, **kwargs)\n>>> \n>>>   File \"/home/ai-server/anaconda3/envs/mt_tf_2/lib/python3.7/site-packages/keras/utils/traceback_utils.py\", line 64, in error_handler\n>>>     return fn(*args, **kwargs)\n>>> \n>>>   File \"/home/ai-server/anaconda3/envs/mt_tf_2/lib/python3.7/site-packages/keras/engine/base_layer.py\", line 1083, in __call__\n>>>     outputs = call_fn(inputs, *args, **kwargs)\n>>> \n>>>   File \"/home/ai-server/anaconda3/envs/mt_tf_2/lib/python3.7/site-packages/keras/utils/traceback_utils.py\", line 92, in error_handler\n>>>     return fn(*args, **kwargs)\n>>> \n>>>   File \"/home/ai-server/anaconda3/envs/mt_tf_2/lib/python3.7/site-packages/keras/layers/wrappers.py\", line 702, in call\n>>>     initial_state=forward_state, **kwargs)\n>>> \n>>>   File \"/home/ai-server/anaconda3/envs/mt_tf_2/lib/python3.7/site-packages/keras/layers/recurrent.py\", line 679, in __call__\n>>>     return super(RNN, self).__call__(inputs, **kwargs)\n>>> \n>>>   File \"/home/ai-server/anaconda3/envs/mt_tf_2/lib/python3.7/site-packages/keras/utils/traceback_utils.py\", line 64, in error_handler\n>>>     return fn(*args, **kwargs)\n>>> \n>>>   File \"/home/ai-server/anaconda3/envs/mt_tf_2/lib/python3.7/site-packages/keras/engine/base_layer.py\", line 1083, in __call__\n>>>     outputs = call_fn(inputs, *args, **kwargs)\n>>> \n>>>   File \"/home/ai-server/anaconda3/envs/mt_tf_2/lib/python3.7/site-packages/keras/utils/traceback_utils.py\", line 92, in error_handler\n>>>     return fn(*args, **kwargs)\n>>> \n>>>   File \"/home/ai-server/anaconda3/envs/mt_tf_2/lib/python3.7/site-packages/keras/layers/recurrent_v2.py\", line 1168, in call\n>>>     zero_output_for_mask=self.zero_output_for_mask)\n>>> \n>>>   File \"/home/ai-server/anaconda3/envs/mt_tf_2/lib/python3.7/site-packages/keras/backend.py\", line 4510, in rnn\n>>>     input_time_zero, tuple(initial_states) + tuple(constants))\n>>> \n>>>   File \"/home/ai-server/anaconda3/envs/mt_tf_2/lib/python3.7/site-packages/keras/layers/recurrent_v2.py\", line 1156, in step\n>>>     return self.cell(inputs, states, **kwargs)\n>>> \n>>>   File \"/home/ai-server/anaconda3/envs/mt_tf_2/lib/python3.7/site-packages/keras/utils/traceback_utils.py\", line 64, in error_handler\n>>>     return fn(*args, **kwargs)\n>>> \n>>>   File \"/home/ai-server/anaconda3/envs/mt_tf_2/lib/python3.7/site-packages/keras/engine/base_layer.py\", line 1083, in __call__\n>>>     outputs = call_fn(inputs, *args, **kwargs)\n>>> \n>>>   File \"/home/ai-server/anaconda3/envs/mt_tf_2/lib/python3.7/site-packages/keras/utils/traceback_utils.py\", line 92, in error_handler\n>>>     return fn(*args, **kwargs)\n>>> \n>>>   File \"/home/ai-server/anaconda3/envs/mt_tf_2/lib/python3.7/site-packages/keras/layers/recurrent.py\", line 2469, in call\n>>>     x_o = backend.dot(inputs_o, k_o)\n>>> \n>>>   File \"/home/ai-server/anaconda3/envs/mt_tf_2/lib/python3.7/site-packages/keras/backend.py\", line 2134, in dot\n>>>     out = tf.matmul(x, y)\n>>> "
     ]
    }
   ],
   "source": [
    "wb_sent = obj_wb.segement_word(df_test.text.tolist())"
   ]
  },
  {
   "cell_type": "code",
   "execution_count": 5,
   "metadata": {
    "ExecuteTime": {
     "end_time": "2022-03-15T05:21:03.090625Z",
     "start_time": "2022-03-15T05:21:03.069303Z"
    }
   },
   "outputs": [
    {
     "data": {
      "text/html": [
       "<div>\n",
       "<style scoped>\n",
       "    .dataframe tbody tr th:only-of-type {\n",
       "        vertical-align: middle;\n",
       "    }\n",
       "\n",
       "    .dataframe tbody tr th {\n",
       "        vertical-align: top;\n",
       "    }\n",
       "\n",
       "    .dataframe thead th {\n",
       "        text-align: right;\n",
       "    }\n",
       "</style>\n",
       "<table border=\"1\" class=\"dataframe\">\n",
       "  <thead>\n",
       "    <tr style=\"text-align: right;\">\n",
       "      <th></th>\n",
       "      <th>msg</th>\n",
       "      <th>labels</th>\n",
       "      <th>labels_update</th>\n",
       "      <th>test_msg</th>\n",
       "      <th>final_message</th>\n",
       "    </tr>\n",
       "  </thead>\n",
       "  <tbody>\n",
       "    <tr>\n",
       "      <th>0</th>\n",
       "      <td>အ ခု က .. ဆီး ချို fasting 105 ပါ အ သက် ၂၁ ပါ // အဲ တာ .. ၁၀၀ အောက် ကို .. ၆ လ လောက် ထိ နိး နို ငိ သွား ရင် ဆီး ချို ပျောက် သွား ပီ လို့ သတ် မှတ် လို့ ရ သ လား ရှင် // င ယိ သေး တော့ .. ပျောက် ချင် လို့ ပါ</td>\n",
       "      <td>0 1 1 1 0 1 1 1 1 0 1 1 1 1 0 1 1 1 1 1 1 1 1 1 1 0 0 1 1 1 0 1 1 1 1 1 0 1 1 1 0 1 0 1 0 1 1 1 0 1 1 1 0</td>\n",
       "      <td>0 1 1 1 0 1 1 1 1 0 1 1 1 1 0 1 1 1 1 1 1 1 1 1 1 0 0 1 1 1 0 1 1 1 1 1 0 1 1 1 0 1 0 1 0 1 1 1 1 1 1 1 0</td>\n",
       "      <td>အခု က .. ဆီးချို fasting 105 ပါ အသက် ၂၁ ပါ // အဲတာ .. ၁၀၀ အောက် ကို .. ၆ လ လောက် ထိ နိးနိုငိ သွား ရင် ဆီးချို ပျောက် သွား ပီ လို့ သတ်မှတ် လို့ ရ သလား ရှင်// ငယိ သေး တော့ ..ပျောက် ချင် လို့ ပါ</td>\n",
       "      <td>အခု က .. ဆီးချို fasting 105 ပါ အသက် ၂၁ ပါ // အဲတာ .. ၁၀၀ အောက် ကို .. ၆ လ လောက် ထိ နိးနိုငိ သွား ရင် ဆီးချို ပျောက် သွား ပီ လို့ သတ်မှတ် လို့ ရ သလား ရှင်// ငယိ သေး တော့ .. ပျောက် ချင် လို့ ပါ</td>\n",
       "    </tr>\n",
       "    <tr>\n",
       "      <th>1</th>\n",
       "      <td>ပျောက် သွား မယ် အား တင်း ထား ပါ ခ လေး ရယ် လမ်း များ များ လျောက် ပေး နော်</td>\n",
       "      <td>1 1 1 0 1 1 1 0 1 1 1 0 1 1 1 0</td>\n",
       "      <td>1 1 1 0 1 1 1 0 1 1 1 0 1 1 1 0</td>\n",
       "      <td>ပျောက် သွား မယ် အားတင်း ထား ပါ ခလေး ရယ် လမ်း များများ လျောက် ပေး နော်</td>\n",
       "      <td>ပျောက် သွား မယ် အားတင်း ထား ပါ ခလေး ရယ် လမ်း များများ လျောက် ပေး နော်</td>\n",
       "    </tr>\n",
       "    <tr>\n",
       "      <th>2</th>\n",
       "      <td>ဆီး ချို က ထိန်း လို့ ပဲ ရ တယ် // အ ရှင်း မ ပျောက် ပါ // အ စား အ စာ ဆေး ဝါး လေ့ ကျင့် ခန်း လုပ် ပါ</td>\n",
       "      <td>0 1 1 1 1 1 1 1 1 0 1 1 1 1 1 0 0 0 1 0 1 0 0 0 1 0</td>\n",
       "      <td>0 1 1 1 1 1 1 1 1 0 1 1 1 1 1 0 0 0 1 0 1 0 0 0 1 0</td>\n",
       "      <td>ဆီးချို က ထိန်း လို့ ပဲ ရ တယ် // အရှင်း မ ပျောက် ပါ // အစားအစာ ဆေးဝါး လေ့ကျင့်ခန်းလုပ် ပါ</td>\n",
       "      <td>ဆီးချို က ထိန်း လို့ ပဲ ရ တယ် // အရှင်း မ ပျောက် ပါ // အစားအစာ ဆေးဝါး လေ့ကျင့်ခန်းလုပ် ပါ</td>\n",
       "    </tr>\n",
       "    <tr>\n",
       "      <th>3</th>\n",
       "      <td>ဘယ် လို စား သောက် နေ ထိုင် လဲ မျှ ပါ့ ဦး ဗျာ // ဖြစ် တာ မ သိ ပဲ စစ် ကြည့် မှ ဖြစ် တယ် သိ ရ လို့ ပါ</td>\n",
       "      <td>0 1 0 1 0 1 1 1 1 0 1 1 1 1 1 1 1 1 1 1 1 1 1 1 1 0</td>\n",
       "      <td>0 1 0 1 0 1 1 1 1 0 1 1 1 1 1 1 1 1 1 1 1 1 1 1 1 0</td>\n",
       "      <td>ဘယ်လို စားသောက် နေထိုင် လဲ မျှ ပါ့ ဦးဗျာ // ဖြစ် တာ မ သိ ပဲ စစ် ကြည့် မှ ဖြစ် တယ် သိ ရ လို့ ပါ</td>\n",
       "      <td>ဘယ်လို စားသောက် နေထိုင် လဲ မျှ ပါ့ ဦးဗျာ // ဖြစ် တာ မ သိ ပဲ စစ် ကြည့် မှ ဖြစ် တယ် သိ ရ လို့ ပါ</td>\n",
       "    </tr>\n",
       "    <tr>\n",
       "      <th>4</th>\n",
       "      <td>ညီ မ က အ ခု တော့ အ သီး အ ရွက် များ များ စား နေ တယ် // အ ချို အ ဆိမ့် ရှောင် တယ် // ထ မင်း လည်း လျော့ စား တယ်</td>\n",
       "      <td>0 1 1 0 1 1 0 0 0 1 0 1 1 1 1 1 0 1 0 1 1 1 1 0 1 1 0 1 0</td>\n",
       "      <td>0 1 1 0 1 1 0 0 0 1 0 1 1 1 1 1 0 1 0 1 1 1 1 0 1 1 0 1 0</td>\n",
       "      <td>ညီမ က အခု တော့ အသီးအရွက် များများ စား နေ တယ် // အချို အဆိမ့် ရှောင် တယ် // ထမင်း လည်း လျော့စား တယ်</td>\n",
       "      <td>ညီမ က အခု တော့ အသီးအရွက် များများ စား နေ တယ် // အချို အဆိမ့် ရှောင် တယ် // ထမင်း လည်း လျော့စား တယ်</td>\n",
       "    </tr>\n",
       "    <tr>\n",
       "      <th>...</th>\n",
       "      <td>...</td>\n",
       "      <td>...</td>\n",
       "      <td>...</td>\n",
       "      <td>...</td>\n",
       "      <td>...</td>\n",
       "    </tr>\n",
       "    <tr>\n",
       "      <th>1778</th>\n",
       "      <td>၁၀ လ ပိုင်း တုန်း က အ သား စ အ ဖြေ မှာ တော့ သိုင်း ရွိုက် ဂ လင်း ရဲ့ ညာ ဘက် ပိုင်း မှာ ကင် ဆာ တွေ့ တယ် လို့ ပြော ထား ပါ တယ် ၁၂ လ ပိုင်း သိုင်း ရွိုက် ဂ လင်း ဘယ် ဘက် ပိုင်း ကို စစ် ဆေး ထား တဲ့ အ သား စ အ ဖြေ မှာ တော့ ကင် ဆာ မ တွေ့ ဘူး လို့ ပြော ထား ပါ တယ် Hashimoto s thyroiditis လို့ ခေါ် တဲ့ သိုင်း ရွိုက် ဂ လင်း ရောင် ရမ်း ခြင်း တော့ ရှိ နေ ပါ တယ် သိုင်း ရွိုက် ဂ လင်း ဆို တာ က အ ရေး ပါ တဲ့ ဟော် မုန်း ဂ လင်း တစ် ခု ပါ လည် ပင်း ရဲ့ အ ရှေ့ ပိုင်း အ သံ အိုး အောက် ဘက် မှာ ရှိ ပြီး လိပ် ပြာ ပုံ စံ ရှိ တဲ့ ဂ လင်း တစ် ခု ပါ ဒီ သိုင်း ရွိုက် ဂ လင်း က ခန္ဓါ ကိုယ် ရဲ့ လုပ် ငန်း ဆောင် တာ တော် တော် များ များ ကောင်း ကောင်း လည် ပတ် နိုင် အောင် လုပ် ဆောင် ပေး နေ တာ ပါ</td>\n",
       "      <td>0 1 1 1 1 1 1 1 1 1 1 1 1 1 1 1 0 1 0 1 0 1 1 1 1 1 1 1 0 1 0 1 0 1 1 0 0 1 1 0 1 0 1 1 1 1 0 1 1 0 0 1 0 0 1 1 1 1 1 1 0 1 0 1 1 1 0 1 1 1 1 1 0 1 0 1 1 1 1 1 0 1 1 1 0 1 0 1 0 1 0 1 1 1 0 1 1 1 1 0</td>\n",
       "      <td>1 1 1 1 1 1 1 1 1 1 1 1 1 1 1 1 0 1 0 1 0 1 1 1 1 1 1 1 0 1 1 1 0 1 1 0 0 1 1 0 1 0 1 1 1 1 0 1 1 0 0 1 0 0 1 1 1 1 1 1 0 1 1 1 1 1 0 1 1 1 1 1 0 1 0 1 1 1 1 1 0 1 1 1 0 1 0 1 0 1 0 1 1 1 0 1 1 1 1 0</td>\n",
       "      <td>၁၀လ ပိုင်း တုန်း က အ သား စ အ ဖြေ မှာ တော့ သိုင်း ရွိုက် ဂ လင်း ရဲ့ညာ ဘက်ပိုင်း မှာကင် ဆာ တွေ့ တယ် လို့ ပြော ထား ပါတယ် ၁၂လ ပိုင်းသိုင်း ရွိုက် ဂလင်းဘယ် ဘက် ပိုင်းကို စစ်ဆေး ထား တဲ့ အ သားစ အ ဖြေမှာတော့ ကင်ဆာမ တွေ့ ဘူး လို့ ပြော ထား ပါတယ် Hashimotos thyroiditis လို့ ခေါ်တဲ့ သိုင်း ရွိုက် ဂ လင်း ရောင်ရမ်း ခြင်းတော့ ရှိ နေ ပါ တယ် သိုင်းရွိုက် ဂ လင်း ဆိုတာ ကအ ရေးပါ တဲ့ဟော် မုန်း ဂ လင်းတစ် ခု ပါ လည် ပင်း</td>\n",
       "      <td>၁၀ လ ပိုင်း တုန်း က အ သား စ အ ဖြေ မှာ တော့ သိုင်း ရွိုက် ဂ လင်း ရဲ့ညာ ဘက်ပိုင်း မှာကင် ဆာ တွေ့ တယ် လို့ ပြော ထား ပါတယ် ၁၂ လ ပိုင်းသိုင်း ရွိုက် ဂလင်းဘယ် ဘက် ပိုင်းကို စစ်ဆေး ထား တဲ့ အ သားစ အ ဖြေမှာတော့ ကင်ဆာမ တွေ့ ဘူး လို့ ပြော ထား ပါတယ် Hashimoto s thyroiditis လို့ ခေါ်တဲ့ သိုင်း ရွိုက် ဂ လင်း ရောင်ရမ်း ခြင်းတော့ ရှိ နေ ပါ တယ် သိုင်းရွိုက် ဂ လင်း ဆိုတာ ကအ ရေးပါ တဲ့ဟော် မုန်း ဂ လင်းတစ် ခု ပါ လည် ပင်း</td>\n",
       "    </tr>\n",
       "    <tr>\n",
       "      <th>1779</th>\n",
       "      <td>ဆ ရာ . အ မေ က ရင် သား ကင် ဆာ ဖြစ် လို့ တစ် ခု လုံး ခွဲ ထုတ် ထား ပါ တယ် . ခွဲ ထာ တာ က လဲ ၁ လ ပြည့် ခါ နီး ပါ ပြီ ဆ ရာ . အ ခု ထိ ချုပ် ထား တဲ့ အ နာ က တော့ ကောင်း ပါ တယ် .. ဒါ ပေ မဲ့ ရင် သား က မ ချပ် သေး ပဲ ရောင် သ လို မျိုး ဖောင်း ကာ နေ လို့ ပါ ဆ ရာ .. ခွဲ ပေး ထား တဲ့ ဆ ရာ ဝန် နဲ့ ပြ ဖို့ က လဲ အ ဆင် မ ပြေ သေး ဘူး .. ရွာ ပြန် ရောက် နေ လို့ ပါ ဆ ရာ .. စိုး ရိမ် လို့ ပါ ဆ ရာ အ နာ မ ရောင် ခင် တုန်း က တော့ ရေ နွေး အိပ် ကပ် ပေး ခဲ့ ဘူး ပါ တယ် ဆ ရာ .. ဆေး သွင်း ရက် လဲ နီး လာ လို့ ပါ ဆ ရာ .</td>\n",
       "      <td>1 0 1 1 1 0 1 1 1 1 1 1 1 1 0 1 0 1 1 1 1 1 1 1 0 1 0 1 1 1 1 1 0 1 0 1 1 1 1 0 0 1 1 1 1 1 1 0 1 1 1 1 1 0 1 1 1 1 1 1 0 0 1 0 1 1 1 0 1 0 1 1 1 1 1 1 1 0 1 0 1 1 1 1 1 1 0 0 1 0 1 1 1 1 1 1 1 0 1 0</td>\n",
       "      <td>1 0 1 1 1 0 1 1 1 1 1 1 1 1 0 1 0 1 1 1 1 1 1 1 0 1 1 1 1 1 1 1 0 1 0 1 1 1 1 0 0 1 1 1 1 1 1 0 1 1 1 1 1 0 1 1 1 1 1 1 0 0 1 0 1 1 1 0 1 0 1 1 1 1 1 1 1 0 1 0 1 1 1 1 1 1 0 0 1 0 1 1 1 1 1 1 1 0 1 1</td>\n",
       "      <td>ဆ ရာ. အ မေ ကရင် သား ကင် ဆာ ဖြစ် လို့ တစ် ခု လုံးခွဲ ထုတ်ထား ပါ တယ် . ခွဲ ထာ တာ ကလဲ ၁လ ပြည့် ခါ နီး ပါ ပြီဆ ရာ. အ ခု ထိ ချုပ်ထားတဲ့ အ နာ က တော့ ကောင်း ပါတယ် .. ဒါ ပေ မဲ့ ရင်သား က မ ချပ် သေး ပဲ ရောင်သလို မျိုးဖောင်း ကာ နေ လို့ပါ ဆရာ .. ခွဲ ပေး ထား တဲ့ ဆ ရာဝန် နဲ့ပြ ဖို့ က လဲ အ ဆင် မပြေသေး ဘူး.. ရွာ ပြန် ရောက် နေ လို့ ပါ ဆရာ ..</td>\n",
       "      <td>ဆ ရာ. အ မေ ကရင် သား ကင် ဆာ ဖြစ် လို့ တစ် ခု လုံးခွဲ ထုတ်ထား ပါ တယ် . ခွဲ ထာ တာ ကလဲ ၁ လ ပြည့် ခါ နီး ပါ ပြီဆ ရာ. အ ခု ထိ ချုပ်ထားတဲ့ အ နာ က တော့ ကောင်း ပါတယ် .. ဒါ ပေ မဲ့ ရင်သား က မ ချပ် သေး ပဲ ရောင်သလို မျိုးဖောင်း ကာ နေ လို့ပါ ဆရာ .. ခွဲ ပေး ထား တဲ့ ဆ ရာဝန် နဲ့ပြ ဖို့ က လဲ အ ဆင် မပြေသေး ဘူး.. ရွာ ပြန် ရောက် နေ လို့ ပါ ဆရာ ..</td>\n",
       "    </tr>\n",
       "    <tr>\n",
       "      <th>1780</th>\n",
       "      <td>ခွဲ စိတ် ပြီး မ ကြာ ခင် မှာ ရောင် ရမ်း တာ က အ ဖြစ် များ ပြီး အ ချိန် ကြာ လာ တာ နဲ့ အ မျှ အ များ အား ဖြင့် သက် သာ လာ ပါ လိမ့် မယ် ၎င်း သည် အ နာ ကျက် ခြင်း လုပ် ငန်း စဉ် ၏ ပုံ မှန် အ စိတ် အ ပိုင်း တစ် ခု ဖြစ် ပြီး ခွဲ စိတ် ပြီး နောက် ခြောက် ပတ် မှ ရှစ် ပတ် အ တွင်း လျော့ နည်း သွား သင့် ပါ တယ် ရောင် ရမ်း ခြင်း သည် အ ဆင် မ ပြေ ဖြစ် ပြီး လေး လံ နေ ပါ က ရင် သား ကို ကောင်း စွာ ထောက် ပင့် ပေး ထား နိုင် တဲ့ ဘ ရာ စီ ယာ ကို နေ့ ရော ည ပါ ဝတ် ဆင် ခြင်း က ကူ ညီ ပေး နိုင် ပါ တယ် လေ့ ကျင့် ခန်း လုပ် ပေး ပါ မ သက် သာ ဘူး ဆို ရင် တော့ ဆ ရာ ဝန် ပြန် ပြ ဖို့ လို ပါ လိမ့် မယ်</td>\n",
       "      <td>1 0 1 1 1 0 1 0 0 0 1 1 1 1 1 0 1 1 1 1 1 1 1 1 0 1 0 1 1 1 1 1 0 1 1 1 0 0 1 1 1 1 0 1 1 1 1 0 1 1 1 1 0 1 1 1 1 1 0 1 0 1 1 0 1 1 1 0 1 1 1 0 1 1 1 1 1 0 0 0 1 1 1 1 0 1 1 1 1 1 0 0 1 1 1 1 1 1 1 0</td>\n",
       "      <td>1 0 1 1 1 0 1 0 0 0 1 1 1 1 1 0 1 1 1 1 1 1 1 1 0 1 0 1 1 1 1 1 0 1 1 1 0 0 1 1 1 1 0 1 1 1 1 0 1 1 1 1 0 1 1 1 1 1 0 1 0 1 1 0 1 1 1 0 1 1 1 0 1 1 1 1 1 0 0 0 1 1 1 1 0 1 1 1 1 1 0 0 1 1 1 1 1 1 1 0</td>\n",
       "      <td>ခွဲ စိတ်ပြီး မ ကြာ ခင်မှာ ရောင်ရမ်းတာက အ ဖြစ် များ ပြီး အချိန် ကြာ လာ တာ နဲ့ အ မျှ အ များအား ဖြင့်သက် သာ လာ ပါ လိမ့် မယ်၎င်း သည် အ နာကျက်ခြင်း လုပ် ငန်း စဉ် ၏ပုံ မှန် အ စိတ် အပိုင်း တစ် ခု ဖြစ် ပြီးခွဲ စိတ် ပြီး နောက် ခြောက် ပတ်မှ ရှစ်ပတ် အ တွင်းလျော့ နည်း သွား သင့်ပါ တယ် ရောင် ရမ်းခြင်း သည် အ ဆင် မ ပြေဖြစ်ပြီးလေး လံ နေ ပါ ကရင် သား ကို ကောင်း စွာ ထောက်ပင့်ပေး ထား နိုင် တဲ့ ဘ ရာ စီ ယာ</td>\n",
       "      <td>ခွဲ စိတ်ပြီး မ ကြာ ခင်မှာ ရောင်ရမ်းတာက အ ဖြစ် များ ပြီး အချိန် ကြာ လာ တာ နဲ့ အ မျှ အ များအား ဖြင့်သက် သာ လာ ပါ လိမ့် မယ်၎င်း သည် အ နာကျက်ခြင်း လုပ် ငန်း စဉ် ၏ပုံ မှန် အ စိတ် အပိုင်း တစ် ခု ဖြစ် ပြီးခွဲ စိတ် ပြီး နောက် ခြောက် ပတ်မှ ရှစ်ပတ် အ တွင်းလျော့ နည်း သွား သင့်ပါ တယ် ရောင် ရမ်းခြင်း သည် အ ဆင် မ ပြေဖြစ်ပြီးလေး လံ နေ ပါ ကရင် သား ကို ကောင်း စွာ ထောက်ပင့်ပေး ထား နိုင် တဲ့ ဘ ရာ စီ ယာ</td>\n",
       "    </tr>\n",
       "    <tr>\n",
       "      <th>1781</th>\n",
       "      <td>ဘယ် လို အ ဖြေ ကို ကြည့် ပြီး အ ဆင့် သတ် မှတ် တာ ပါ လည်း ခင် ဗျာ</td>\n",
       "      <td>0 1 0 1 1 1 1 0 1 0 1 1 1 1 0 0</td>\n",
       "      <td>0 1 0 1 1 1 1 0 1 0 1 1 1 1 0 0</td>\n",
       "      <td>ဘယ်လို အဖြေ ကို ကြည့် ပြီး အဆင့် သတ်မှတ် တာ ပါ လည်း ခင်ဗျာ</td>\n",
       "      <td>ဘယ်လို အဖြေ ကို ကြည့် ပြီး အဆင့် သတ်မှတ် တာ ပါ လည်း ခင်ဗျာ</td>\n",
       "    </tr>\n",
       "    <tr>\n",
       "      <th>1782</th>\n",
       "      <td>ဓါတ် ကင် ထား ပီး ပီး ခွဲ စိတ် ရင် အ နာ ပြန် ကျက် နိုင် သ လား ဆ ရာ</td>\n",
       "      <td>0 1 1 1 1 0 1 1 0 1 1 1 1 0 1 0 0</td>\n",
       "      <td>0 1 1 1 1 0 1 1 0 1 1 1 1 0 1 0 0</td>\n",
       "      <td>ဓါတ်ကင် ထား ပီး ပီး ခွဲစိတ် ရင် အနာ ပြန် ကျက် နိုင် သလား ဆရာ</td>\n",
       "      <td>ဓါတ်ကင် ထား ပီး ပီး ခွဲစိတ် ရင် အနာ ပြန် ကျက် နိုင် သလား ဆရာ</td>\n",
       "    </tr>\n",
       "  </tbody>\n",
       "</table>\n",
       "<p>1783 rows × 5 columns</p>\n",
       "</div>"
      ],
      "text/plain": [
       "                                                                                                                                                                                                                                                                                                                                                                                                                                                                                                                                                                                                                                                                                     msg  \\\n",
       "0     အ ခု က .. ဆီး ချို fasting 105 ပါ အ သက် ၂၁ ပါ // အဲ တာ .. ၁၀၀ အောက် ကို .. ၆ လ လောက် ထိ နိး နို ငိ သွား ရင် ဆီး ချို ပျောက် သွား ပီ လို့ သတ် မှတ် လို့ ရ သ လား ရှင် // င ယိ သေး တော့ .. ပျောက် ချင် လို့ ပါ                                                                                                                                                                                                                                                                                                                                                                                                                                                                          \n",
       "1     ပျောက် သွား မယ် အား တင်း ထား ပါ ခ လေး ရယ် လမ်း များ များ လျောက် ပေး နော်                                                                                                                                                                                                                                                                                                                                                                                                                                                                                                                                                                                                             \n",
       "2     ဆီး ချို က ထိန်း လို့ ပဲ ရ တယ် // အ ရှင်း မ ပျောက် ပါ // အ စား အ စာ ဆေး ဝါး လေ့ ကျင့် ခန်း လုပ် ပါ                                                                                                                                                                                                                                                                                                                                                                                                                                                                                                                                                                                   \n",
       "3     ဘယ် လို စား သောက် နေ ထိုင် လဲ မျှ ပါ့ ဦး ဗျာ // ဖြစ် တာ မ သိ ပဲ စစ် ကြည့် မှ ဖြစ် တယ် သိ ရ လို့ ပါ                                                                                                                                                                                                                                                                                                                                                                                                                                                                                                                                                                                   \n",
       "4     ညီ မ က အ ခု တော့ အ သီး အ ရွက် များ များ စား နေ တယ် // အ ချို အ ဆိမ့် ရှောင် တယ် // ထ မင်း လည်း လျော့ စား တယ်                                                                                                                                                                                                                                                                                                                                                                                                                                                                                                                                                                         \n",
       "...                                                                                                            ...                                                                                                                                                                                                                                                                                                                                                                                                                                                                                                                                                                         \n",
       "1778  ၁၀ လ ပိုင်း တုန်း က အ သား စ အ ဖြေ မှာ တော့ သိုင်း ရွိုက် ဂ လင်း ရဲ့ ညာ ဘက် ပိုင်း မှာ ကင် ဆာ တွေ့ တယ် လို့ ပြော ထား ပါ တယ် ၁၂ လ ပိုင်း သိုင်း ရွိုက် ဂ လင်း ဘယ် ဘက် ပိုင်း ကို စစ် ဆေး ထား တဲ့ အ သား စ အ ဖြေ မှာ တော့ ကင် ဆာ မ တွေ့ ဘူး လို့ ပြော ထား ပါ တယ် Hashimoto s thyroiditis လို့ ခေါ် တဲ့ သိုင်း ရွိုက် ဂ လင်း ရောင် ရမ်း ခြင်း တော့ ရှိ နေ ပါ တယ် သိုင်း ရွိုက် ဂ လင်း ဆို တာ က အ ရေး ပါ တဲ့ ဟော် မုန်း ဂ လင်း တစ် ခု ပါ လည် ပင်း ရဲ့ အ ရှေ့ ပိုင်း အ သံ အိုး အောက် ဘက် မှာ ရှိ ပြီး လိပ် ပြာ ပုံ စံ ရှိ တဲ့ ဂ လင်း တစ် ခု ပါ ဒီ သိုင်း ရွိုက် ဂ လင်း က ခန္ဓါ ကိုယ် ရဲ့ လုပ် ငန်း ဆောင် တာ တော် တော် များ များ ကောင်း ကောင်း လည် ပတ် နိုင် အောင် လုပ် ဆောင် ပေး နေ တာ ပါ   \n",
       "1779  ဆ ရာ . အ မေ က ရင် သား ကင် ဆာ ဖြစ် လို့ တစ် ခု လုံး ခွဲ ထုတ် ထား ပါ တယ် . ခွဲ ထာ တာ က လဲ ၁ လ ပြည့် ခါ နီး ပါ ပြီ ဆ ရာ . အ ခု ထိ ချုပ် ထား တဲ့ အ နာ က တော့ ကောင်း ပါ တယ် .. ဒါ ပေ မဲ့ ရင် သား က မ ချပ် သေး ပဲ ရောင် သ လို မျိုး ဖောင်း ကာ နေ လို့ ပါ ဆ ရာ .. ခွဲ ပေး ထား တဲ့ ဆ ရာ ဝန် နဲ့ ပြ ဖို့ က လဲ အ ဆင် မ ပြေ သေး ဘူး .. ရွာ ပြန် ရောက် နေ လို့ ပါ ဆ ရာ .. စိုး ရိမ် လို့ ပါ ဆ ရာ အ နာ မ ရောင် ခင် တုန်း က တော့ ရေ နွေး အိပ် ကပ် ပေး ခဲ့ ဘူး ပါ တယ် ဆ ရာ .. ဆေး သွင်း ရက် လဲ နီး လာ လို့ ပါ ဆ ရာ .                                                                                                                                                                                \n",
       "1780  ခွဲ စိတ် ပြီး မ ကြာ ခင် မှာ ရောင် ရမ်း တာ က အ ဖြစ် များ ပြီး အ ချိန် ကြာ လာ တာ နဲ့ အ မျှ အ များ အား ဖြင့် သက် သာ လာ ပါ လိမ့် မယ် ၎င်း သည် အ နာ ကျက် ခြင်း လုပ် ငန်း စဉ် ၏ ပုံ မှန် အ စိတ် အ ပိုင်း တစ် ခု ဖြစ် ပြီး ခွဲ စိတ် ပြီး နောက် ခြောက် ပတ် မှ ရှစ် ပတ် အ တွင်း လျော့ နည်း သွား သင့် ပါ တယ် ရောင် ရမ်း ခြင်း သည် အ ဆင် မ ပြေ ဖြစ် ပြီး လေး လံ နေ ပါ က ရင် သား ကို ကောင်း စွာ ထောက် ပင့် ပေး ထား နိုင် တဲ့ ဘ ရာ စီ ယာ ကို နေ့ ရော ည ပါ ဝတ် ဆင် ခြင်း က ကူ ညီ ပေး နိုင် ပါ တယ် လေ့ ကျင့် ခန်း လုပ် ပေး ပါ မ သက် သာ ဘူး ဆို ရင် တော့ ဆ ရာ ဝန် ပြန် ပြ ဖို့ လို ပါ လိမ့် မယ်                                                                                                      \n",
       "1781  ဘယ် လို အ ဖြေ ကို ကြည့် ပြီး အ ဆင့် သတ် မှတ် တာ ပါ လည်း ခင် ဗျာ                                                                                                                                                                                                                                                                                                                                                                                                                                                                                                                                                                                                                      \n",
       "1782  ဓါတ် ကင် ထား ပီး ပီး ခွဲ စိတ် ရင် အ နာ ပြန် ကျက် နိုင် သ လား ဆ ရာ                                                                                                                                                                                                                                                                                                                                                                                                                                                                                                                                                                                                                    \n",
       "\n",
       "                                                                                                                                                                                                       labels  \\\n",
       "0     0 1 1 1 0 1 1 1 1 0 1 1 1 1 0 1 1 1 1 1 1 1 1 1 1 0 0 1 1 1 0 1 1 1 1 1 0 1 1 1 0 1 0 1 0 1 1 1 0 1 1 1 0                                                                                                 \n",
       "1     1 1 1 0 1 1 1 0 1 1 1 0 1 1 1 0                                                                                                                                                                           \n",
       "2     0 1 1 1 1 1 1 1 1 0 1 1 1 1 1 0 0 0 1 0 1 0 0 0 1 0                                                                                                                                                       \n",
       "3     0 1 0 1 0 1 1 1 1 0 1 1 1 1 1 1 1 1 1 1 1 1 1 1 1 0                                                                                                                                                       \n",
       "4     0 1 1 0 1 1 0 0 0 1 0 1 1 1 1 1 0 1 0 1 1 1 1 0 1 1 0 1 0                                                                                                                                                 \n",
       "...                                                         ...                                                                                                                                                 \n",
       "1778  0 1 1 1 1 1 1 1 1 1 1 1 1 1 1 1 0 1 0 1 0 1 1 1 1 1 1 1 0 1 0 1 0 1 1 0 0 1 1 0 1 0 1 1 1 1 0 1 1 0 0 1 0 0 1 1 1 1 1 1 0 1 0 1 1 1 0 1 1 1 1 1 0 1 0 1 1 1 1 1 0 1 1 1 0 1 0 1 0 1 0 1 1 1 0 1 1 1 1 0   \n",
       "1779  1 0 1 1 1 0 1 1 1 1 1 1 1 1 0 1 0 1 1 1 1 1 1 1 0 1 0 1 1 1 1 1 0 1 0 1 1 1 1 0 0 1 1 1 1 1 1 0 1 1 1 1 1 0 1 1 1 1 1 1 0 0 1 0 1 1 1 0 1 0 1 1 1 1 1 1 1 0 1 0 1 1 1 1 1 1 0 0 1 0 1 1 1 1 1 1 1 0 1 0   \n",
       "1780  1 0 1 1 1 0 1 0 0 0 1 1 1 1 1 0 1 1 1 1 1 1 1 1 0 1 0 1 1 1 1 1 0 1 1 1 0 0 1 1 1 1 0 1 1 1 1 0 1 1 1 1 0 1 1 1 1 1 0 1 0 1 1 0 1 1 1 0 1 1 1 0 1 1 1 1 1 0 0 0 1 1 1 1 0 1 1 1 1 1 0 0 1 1 1 1 1 1 1 0   \n",
       "1781  0 1 0 1 1 1 1 0 1 0 1 1 1 1 0 0                                                                                                                                                                           \n",
       "1782  0 1 1 1 1 0 1 1 0 1 1 1 1 0 1 0 0                                                                                                                                                                         \n",
       "\n",
       "                                                                                                                                                                                                labels_update  \\\n",
       "0     0 1 1 1 0 1 1 1 1 0 1 1 1 1 0 1 1 1 1 1 1 1 1 1 1 0 0 1 1 1 0 1 1 1 1 1 0 1 1 1 0 1 0 1 0 1 1 1 1 1 1 1 0                                                                                                 \n",
       "1     1 1 1 0 1 1 1 0 1 1 1 0 1 1 1 0                                                                                                                                                                           \n",
       "2     0 1 1 1 1 1 1 1 1 0 1 1 1 1 1 0 0 0 1 0 1 0 0 0 1 0                                                                                                                                                       \n",
       "3     0 1 0 1 0 1 1 1 1 0 1 1 1 1 1 1 1 1 1 1 1 1 1 1 1 0                                                                                                                                                       \n",
       "4     0 1 1 0 1 1 0 0 0 1 0 1 1 1 1 1 0 1 0 1 1 1 1 0 1 1 0 1 0                                                                                                                                                 \n",
       "...                                                         ...                                                                                                                                                 \n",
       "1778  1 1 1 1 1 1 1 1 1 1 1 1 1 1 1 1 0 1 0 1 0 1 1 1 1 1 1 1 0 1 1 1 0 1 1 0 0 1 1 0 1 0 1 1 1 1 0 1 1 0 0 1 0 0 1 1 1 1 1 1 0 1 1 1 1 1 0 1 1 1 1 1 0 1 0 1 1 1 1 1 0 1 1 1 0 1 0 1 0 1 0 1 1 1 0 1 1 1 1 0   \n",
       "1779  1 0 1 1 1 0 1 1 1 1 1 1 1 1 0 1 0 1 1 1 1 1 1 1 0 1 1 1 1 1 1 1 0 1 0 1 1 1 1 0 0 1 1 1 1 1 1 0 1 1 1 1 1 0 1 1 1 1 1 1 0 0 1 0 1 1 1 0 1 0 1 1 1 1 1 1 1 0 1 0 1 1 1 1 1 1 0 0 1 0 1 1 1 1 1 1 1 0 1 1   \n",
       "1780  1 0 1 1 1 0 1 0 0 0 1 1 1 1 1 0 1 1 1 1 1 1 1 1 0 1 0 1 1 1 1 1 0 1 1 1 0 0 1 1 1 1 0 1 1 1 1 0 1 1 1 1 0 1 1 1 1 1 0 1 0 1 1 0 1 1 1 0 1 1 1 0 1 1 1 1 1 0 0 0 1 1 1 1 0 1 1 1 1 1 0 0 1 1 1 1 1 1 1 0   \n",
       "1781  0 1 0 1 1 1 1 0 1 0 1 1 1 1 0 0                                                                                                                                                                           \n",
       "1782  0 1 1 1 1 0 1 1 0 1 1 1 1 0 1 0 0                                                                                                                                                                         \n",
       "\n",
       "                                                                                                                                                                                                                                                                                                                                                                                                              test_msg  \\\n",
       "0     အခု က .. ဆီးချို fasting 105 ပါ အသက် ၂၁ ပါ // အဲတာ .. ၁၀၀ အောက် ကို .. ၆ လ လောက် ထိ နိးနိုငိ သွား ရင် ဆီးချို ပျောက် သွား ပီ လို့ သတ်မှတ် လို့ ရ သလား ရှင်// ငယိ သေး တော့ ..ပျောက် ချင် လို့ ပါ                                                                                                                                                                                                                    \n",
       "1     ပျောက် သွား မယ် အားတင်း ထား ပါ ခလေး ရယ် လမ်း များများ လျောက် ပေး နော်                                                                                                                                                                                                                                                                                                                                              \n",
       "2     ဆီးချို က ထိန်း လို့ ပဲ ရ တယ် // အရှင်း မ ပျောက် ပါ // အစားအစာ ဆေးဝါး လေ့ကျင့်ခန်းလုပ် ပါ                                                                                                                                                                                                                                                                                                                          \n",
       "3     ဘယ်လို စားသောက် နေထိုင် လဲ မျှ ပါ့ ဦးဗျာ // ဖြစ် တာ မ သိ ပဲ စစ် ကြည့် မှ ဖြစ် တယ် သိ ရ လို့ ပါ                                                                                                                                                                                                                                                                                                                     \n",
       "4     ညီမ က အခု တော့ အသီးအရွက် များများ စား နေ တယ် // အချို အဆိမ့် ရှောင် တယ် // ထမင်း လည်း လျော့စား တယ်                                                                                                                                                                                                                                                                                                                 \n",
       "...                                                                                                  ...                                                                                                                                                                                                                                                                                                                 \n",
       "1778  ၁၀လ ပိုင်း တုန်း က အ သား စ အ ဖြေ မှာ တော့ သိုင်း ရွိုက် ဂ လင်း ရဲ့ညာ ဘက်ပိုင်း မှာကင် ဆာ တွေ့ တယ် လို့ ပြော ထား ပါတယ် ၁၂လ ပိုင်းသိုင်း ရွိုက် ဂလင်းဘယ် ဘက် ပိုင်းကို စစ်ဆေး ထား တဲ့ အ သားစ အ ဖြေမှာတော့ ကင်ဆာမ တွေ့ ဘူး လို့ ပြော ထား ပါတယ် Hashimotos thyroiditis လို့ ခေါ်တဲ့ သိုင်း ရွိုက် ဂ လင်း ရောင်ရမ်း ခြင်းတော့ ရှိ နေ ပါ တယ် သိုင်းရွိုက် ဂ လင်း ဆိုတာ ကအ ရေးပါ တဲ့ဟော် မုန်း ဂ လင်းတစ် ခု ပါ လည် ပင်း   \n",
       "1779  ဆ ရာ. အ မေ ကရင် သား ကင် ဆာ ဖြစ် လို့ တစ် ခု လုံးခွဲ ထုတ်ထား ပါ တယ် . ခွဲ ထာ တာ ကလဲ ၁လ ပြည့် ခါ နီး ပါ ပြီဆ ရာ. အ ခု ထိ ချုပ်ထားတဲ့ အ နာ က တော့ ကောင်း ပါတယ် .. ဒါ ပေ မဲ့ ရင်သား က မ ချပ် သေး ပဲ ရောင်သလို မျိုးဖောင်း ကာ နေ လို့ပါ ဆရာ .. ခွဲ ပေး ထား တဲ့ ဆ ရာဝန် နဲ့ပြ ဖို့ က လဲ အ ဆင် မပြေသေး ဘူး.. ရွာ ပြန် ရောက် နေ လို့ ပါ ဆရာ ..                                                                             \n",
       "1780  ခွဲ စိတ်ပြီး မ ကြာ ခင်မှာ ရောင်ရမ်းတာက အ ဖြစ် များ ပြီး အချိန် ကြာ လာ တာ နဲ့ အ မျှ အ များအား ဖြင့်သက် သာ လာ ပါ လိမ့် မယ်၎င်း သည် အ နာကျက်ခြင်း လုပ် ငန်း စဉ် ၏ပုံ မှန် အ စိတ် အပိုင်း တစ် ခု ဖြစ် ပြီးခွဲ စိတ် ပြီး နောက် ခြောက် ပတ်မှ ရှစ်ပတ် အ တွင်းလျော့ နည်း သွား သင့်ပါ တယ် ရောင် ရမ်းခြင်း သည် အ ဆင် မ ပြေဖြစ်ပြီးလေး လံ နေ ပါ ကရင် သား ကို ကောင်း စွာ ထောက်ပင့်ပေး ထား နိုင် တဲ့ ဘ ရာ စီ ယာ                 \n",
       "1781  ဘယ်လို အဖြေ ကို ကြည့် ပြီး အဆင့် သတ်မှတ် တာ ပါ လည်း ခင်ဗျာ                                                                                                                                                                                                                                                                                                                                                         \n",
       "1782  ဓါတ်ကင် ထား ပီး ပီး ခွဲစိတ် ရင် အနာ ပြန် ကျက် နိုင် သလား ဆရာ                                                                                                                                                                                                                                                                                                                                                       \n",
       "\n",
       "                                                                                                                                                                                                                                                                                                                                                                                                            final_message  \n",
       "0     အခု က .. ဆီးချို fasting 105 ပါ အသက် ၂၁ ပါ // အဲတာ .. ၁၀၀ အောက် ကို .. ၆ လ လောက် ထိ နိးနိုငိ သွား ရင် ဆီးချို ပျောက် သွား ပီ လို့ သတ်မှတ် လို့ ရ သလား ရှင်// ငယိ သေး တော့ .. ပျောက် ချင် လို့ ပါ                                                                                                                                                                                                                     \n",
       "1     ပျောက် သွား မယ် အားတင်း ထား ပါ ခလေး ရယ် လမ်း များများ လျောက် ပေး နော်                                                                                                                                                                                                                                                                                                                                                \n",
       "2     ဆီးချို က ထိန်း လို့ ပဲ ရ တယ် // အရှင်း မ ပျောက် ပါ // အစားအစာ ဆေးဝါး လေ့ကျင့်ခန်းလုပ် ပါ                                                                                                                                                                                                                                                                                                                            \n",
       "3     ဘယ်လို စားသောက် နေထိုင် လဲ မျှ ပါ့ ဦးဗျာ // ဖြစ် တာ မ သိ ပဲ စစ် ကြည့် မှ ဖြစ် တယ် သိ ရ လို့ ပါ                                                                                                                                                                                                                                                                                                                       \n",
       "4     ညီမ က အခု တော့ အသီးအရွက် များများ စား နေ တယ် // အချို အဆိမ့် ရှောင် တယ် // ထမင်း လည်း လျော့စား တယ်                                                                                                                                                                                                                                                                                                                   \n",
       "...                                                                                                  ...                                                                                                                                                                                                                                                                                                                   \n",
       "1778  ၁၀ လ ပိုင်း တုန်း က အ သား စ အ ဖြေ မှာ တော့ သိုင်း ရွိုက် ဂ လင်း ရဲ့ညာ ဘက်ပိုင်း မှာကင် ဆာ တွေ့ တယ် လို့ ပြော ထား ပါတယ် ၁၂ လ ပိုင်းသိုင်း ရွိုက် ဂလင်းဘယ် ဘက် ပိုင်းကို စစ်ဆေး ထား တဲ့ အ သားစ အ ဖြေမှာတော့ ကင်ဆာမ တွေ့ ဘူး လို့ ပြော ထား ပါတယ် Hashimoto s thyroiditis လို့ ခေါ်တဲ့ သိုင်း ရွိုက် ဂ လင်း ရောင်ရမ်း ခြင်းတော့ ရှိ နေ ပါ တယ် သိုင်းရွိုက် ဂ လင်း ဆိုတာ ကအ ရေးပါ တဲ့ဟော် မုန်း ဂ လင်းတစ် ခု ပါ လည် ပင်း  \n",
       "1779  ဆ ရာ. အ မေ ကရင် သား ကင် ဆာ ဖြစ် လို့ တစ် ခု လုံးခွဲ ထုတ်ထား ပါ တယ် . ခွဲ ထာ တာ ကလဲ ၁ လ ပြည့် ခါ နီး ပါ ပြီဆ ရာ. အ ခု ထိ ချုပ်ထားတဲ့ အ နာ က တော့ ကောင်း ပါတယ် .. ဒါ ပေ မဲ့ ရင်သား က မ ချပ် သေး ပဲ ရောင်သလို မျိုးဖောင်း ကာ နေ လို့ပါ ဆရာ .. ခွဲ ပေး ထား တဲ့ ဆ ရာဝန် နဲ့ပြ ဖို့ က လဲ အ ဆင် မပြေသေး ဘူး.. ရွာ ပြန် ရောက် နေ လို့ ပါ ဆရာ ..                                                                              \n",
       "1780  ခွဲ စိတ်ပြီး မ ကြာ ခင်မှာ ရောင်ရမ်းတာက အ ဖြစ် များ ပြီး အချိန် ကြာ လာ တာ နဲ့ အ မျှ အ များအား ဖြင့်သက် သာ လာ ပါ လိမ့် မယ်၎င်း သည် အ နာကျက်ခြင်း လုပ် ငန်း စဉ် ၏ပုံ မှန် အ စိတ် အပိုင်း တစ် ခု ဖြစ် ပြီးခွဲ စိတ် ပြီး နောက် ခြောက် ပတ်မှ ရှစ်ပတ် အ တွင်းလျော့ နည်း သွား သင့်ပါ တယ် ရောင် ရမ်းခြင်း သည် အ ဆင် မ ပြေဖြစ်ပြီးလေး လံ နေ ပါ ကရင် သား ကို ကောင်း စွာ ထောက်ပင့်ပေး ထား နိုင် တဲ့ ဘ ရာ စီ ယာ                   \n",
       "1781  ဘယ်လို အဖြေ ကို ကြည့် ပြီး အဆင့် သတ်မှတ် တာ ပါ လည်း ခင်ဗျာ                                                                                                                                                                                                                                                                                                                                                           \n",
       "1782  ဓါတ်ကင် ထား ပီး ပီး ခွဲစိတ် ရင် အနာ ပြန် ကျက် နိုင် သလား ဆရာ                                                                                                                                                                                                                                                                                                                                                         \n",
       "\n",
       "[1783 rows x 5 columns]"
      ]
     },
     "execution_count": 5,
     "metadata": {},
     "output_type": "execute_result"
    }
   ],
   "source": [
    "wb_sent"
   ]
  },
  {
   "cell_type": "code",
   "execution_count": 5,
   "metadata": {
    "ExecuteTime": {
     "end_time": "2022-02-28T04:09:11.258745Z",
     "start_time": "2022-02-28T04:09:11.243708Z"
    }
   },
   "outputs": [
    {
     "data": {
      "text/html": [
       "<div>\n",
       "<style scoped>\n",
       "    .dataframe tbody tr th:only-of-type {\n",
       "        vertical-align: middle;\n",
       "    }\n",
       "\n",
       "    .dataframe tbody tr th {\n",
       "        vertical-align: top;\n",
       "    }\n",
       "\n",
       "    .dataframe thead th {\n",
       "        text-align: right;\n",
       "    }\n",
       "</style>\n",
       "<table border=\"1\" class=\"dataframe\">\n",
       "  <thead>\n",
       "    <tr style=\"text-align: right;\">\n",
       "      <th></th>\n",
       "      <th>msg</th>\n",
       "      <th>labels</th>\n",
       "      <th>labels_update</th>\n",
       "      <th>test_msg</th>\n",
       "      <th>final_message</th>\n",
       "    </tr>\n",
       "  </thead>\n",
       "  <tbody>\n",
       "    <tr>\n",
       "      <th>426</th>\n",
       "      <td>နေ့ စဉ် တိုင်း ရ မှာ လား ?</td>\n",
       "      <td>0 1 1 1 1 1 0</td>\n",
       "      <td>0 1 1 1 1 1 1</td>\n",
       "      <td>နေ့စဉ် တိုင်း ရ မှာ လား ?</td>\n",
       "      <td>နေ့စဉ် တိုင်း ရ မှာ လား ?</td>\n",
       "    </tr>\n",
       "    <tr>\n",
       "      <th>1706</th>\n",
       "      <td>ကင် ဆာ ပါ ရ ဂူ နဲ့ ပြန် ပြ ပေး လိုက် ညီ မ ကင် ဆာ ဆေး သွင်း ရ ရင် သွင်း ပါ မ ကြောက် ဖို့ ပြော ပါ အ မ ဆို ကင် ဆာ ဖြစ် နေ တာ ကြာ ပြီ ကီ မို ဆေး သွင် ၃၆ ကျိမ် သွင်း ရ မှာ ခု ၄ ကျိမ် ပဲ ကျံ တော့ တယ် ဓါတ် လဲ ကင် ရ တယ် အ မ ဆို ကင် ဆာ ၃ မျိုး ဖြစ် နေ တာ ရင် သား ကင် ဆာ လယ် ပင်း ကင် ဆာ အ ရိုး ကင် ဆာ သ မား တ ယောက် ထဲ ကိုယ့် ကို ရုန်း နေ တာ ညီ မ အ မေ ကို အား ပေး ပြော ပြ ပါ သ မား တော် တွေ နဲ့ ပြ ပါ ဆေး မီး တို တွေ နဲ့ မ ကု ပါ နဲ့ လို့</td>\n",
       "      <td>1 1 1 1 1 1 1 1 1 1 0 0 1 0 1 1 1 1 1 1 0 1 0 1 1 0 1 1 1 1 1 1 1 1 1 1 0 1 1 1 1 0 0 1 0 1 1 1 1 1 1 0 1 0 1 0 1 0 1 0 1 0 0 0 0 1 1 1 1 1 1 1 1 0 1 0 1 1 0 1 0 1 1 0 0 1 1 1 1 1 0 0 1 1 1 1 1 1 1 0</td>\n",
       "      <td>1 1 1 1 1 1 1 1 1 1 0 0 1 0 1 1 1 1 1 1 0 1 0 1 1 0 1 1 1 1 1 1 1 1 1 1 0 1 1 1 1 0 0 1 0 1 1 1 1 1 1 0 1 0 1 0 1 0 1 0 1 1 0 0 0 1 1 1 1 1 1 1 1 0 1 0 1 1 0 1 0 1 1 0 0 1 1 1 1 1 0 0 1 1 1 1 1 1 1 0</td>\n",
       "      <td>ကင် ဆာ ပါ ရ ဂူ နဲ့ ပြန် ပြ ပေး လိုက် ညီမကင် ဆာဆေး သွင်း ရ ရင် သွင်း ပါ မကြောက် ဖို့ပြော ပါ အမ ဆို ကင် ဆာ ဖြစ် နေ တာ ကြာ ပြီ ကီ မိုဆေး သွင် ၃၆ ကျိမ် သွင်းရမှာ ခု၄ ကျိမ် ပဲ ကျံ တော့ တယ် ဓါတ်လဲ ကင်ရ တယ်အ မဆို ကင်ဆာ ၃မျိုးဖြစ်နေတာ ရင် သား ကင် ဆာ လယ် ပင်း ကင် ဆာအ ရိုးကင် ဆာ သမား တယောက် ထဲ ကိုယ့်ကိုရုန်း နေ တာ ညီ မ အမေကို အား ပေး ပြော ပြ ပါ သ မား</td>\n",
       "      <td>ကင် ဆာ ပါ ရ ဂူ နဲ့ ပြန် ပြ ပေး လိုက် ညီမကင် ဆာဆေး သွင်း ရ ရင် သွင်း ပါ မကြောက် ဖို့ပြော ပါ အမ ဆို ကင် ဆာ ဖြစ် နေ တာ ကြာ ပြီ ကီ မိုဆေး သွင် ၃၆ ကျိမ် သွင်းရမှာ ခု၄ ကျိမ် ပဲ ကျံ တော့ တယ် ဓါတ်လဲ ကင်ရ တယ်အ မဆို ကင်ဆာ ၃ မျိုးဖြစ်နေတာ ရင် သား ကင် ဆာ လယ် ပင်း ကင် ဆာအ ရိုးကင် ဆာ သမား တယောက် ထဲ ကိုယ့်ကိုရုန်း နေ တာ ညီ မ အမေကို အား ပေး ပြော ပြ ပါ သ မား</td>\n",
       "    </tr>\n",
       "    <tr>\n",
       "      <th>217</th>\n",
       "      <td>ဆ ရာ ကျ နော့ အ ဖွား က အ သက် ၇၀ ပါ ဆ ရာ အ စား အ သောက် နဲ့ လူ နေ မှု့ ဘ ၀ ပြု ပြင် ပြောင်း လဲ လေ့ ကျင့် ခြင်း အ တွက် ဆေး လွတ် ပြီး ဆီး ချို ပြောင်း ပြန် လှန် နေ ပါ ပြီ 16/8 -14 ရက် 20/4 -63 ရက် စ စ ပ 77 ရက် စား ပြီး ပြောင်း ပြန် လှန် နိုင် တာ ပါ အ ခု 18/6 တောက် လျှောက် စား နေ ပါ တယ် ဝေ ဒ နာ သည် တွေ ပျောက် စေ ချင် တဲ့ ဆန္ဒ ကြောင့် ပြော ပြ ပေ မဲ့ လက် မ ခံ ကြ ဘူး ဆ ရာ ဆီး ချို ဆို တာ ပျောက် တဲ့ ရော ဂါ မ ဟုတ် ဘူး ဆို ပြီး လက် လျော့ နေ ကြ ပါ တယ် ဆ ရာ အဲ ဒါ ကြောင့် အ ချိန် ခြား စား သောက် ခြင်း ကိစ္စ အ ရေး ပါ ကြောင်း လေး ပါ ထည့် ဆွေး နွေး ပေး ပါ ဆ ရာ ကျေး ဇူး တင် ပါ တယ် ဆ ရာ</td>\n",
       "      <td>0 1 1 1 1 1 1 0 0 0 1 1 1 0 1 1 1 1 0 1 1 0 1 1 1 1 1 0 0 1 1 1 1 1 1 1 1 1 0 1 0 1 0 1 1 1 1 0 1 0 1 0 1 1 1 0 1 1 1 1 1 1 0 1 1 1 1 1 0 1 0 1 1 0 1 0 0 1 1 1 0 0 1 1 1 1 1 0 1 1 1 0 1 0 0 1 1 1 0 0</td>\n",
       "      <td>0 1 1 1 1 1 1 0 0 1 1 1 1 0 1 1 1 1 0 1 1 0 1 1 1 1 1 0 0 1 1 1 1 1 1 1 1 1 0 1 0 1 0 1 1 1 1 0 1 0 1 0 1 1 1 0 1 1 1 1 1 1 0 1 1 1 1 1 0 1 0 1 1 0 1 0 0 1 1 1 0 0 1 1 1 1 1 0 1 1 1 0 1 0 0 1 1 1 0 0</td>\n",
       "      <td>ဆရာ ကျ နော့ အ ဖွား က အသက်၇၀ပါ ဆ ရာ အစား အ သောက် နဲ့ လူနေ မှု့ ဘ၀ ပြု ပြင် ပြောင်း လဲ လေ့ကျင့်ခြင်း အ တွက် ဆေး လွတ် ပြီး ဆီး ချို ပြောင်း ပြန်လှန် နေပါ ပြီ16/8 -14 ရက် 20/4 -63ရက် စစ ပ77 ရက် စား ပြီးပြောင်း ပြန် လှန် နိုင် တာ ပါ အခု 18/6 တောက် လျှောက် စား နေပါ တယ်ဝေ ဒ နာသည် တွေပျောက်စေ ချင် တဲ့ ဆန္ဒကြောင့်ပြော ပြ ပေ မဲ့ လက် မခံ ကြ ဘူး ဆရာ ဆီးချိုဆို တာ ပျောက် တဲ့ရော</td>\n",
       "      <td>ဆရာ ကျ နော့ အ ဖွား က အသက်၇၀ ပါ ဆ ရာ အစား အ သောက် နဲ့ လူနေ မှု့ ဘ၀ ပြု ပြင် ပြောင်း လဲ လေ့ကျင့်ခြင်း အ တွက် ဆေး လွတ် ပြီး ဆီး ချို ပြောင်း ပြန်လှန် နေပါ ပြီ16/8 -14 ရက် 20/4 -63ရက် စစ ပ77 ရက် စား ပြီးပြောင်း ပြန် လှန် နိုင် တာ ပါ အခု 18/6 တောက် လျှောက် စား နေပါ တယ်ဝေ ဒ နာသည် တွေပျောက်စေ ချင် တဲ့ ဆန္ဒကြောင့်ပြော ပြ ပေ မဲ့ လက် မခံ ကြ ဘူး ဆရာ ဆီးချိုဆို တာ ပျောက် တဲ့ရော</td>\n",
       "    </tr>\n",
       "    <tr>\n",
       "      <th>38</th>\n",
       "      <td>အ ကို အ ရက် နဲ့ ဆေး ဘယ် နှစ် နာ ရီ ခြား ပြီး သောက် လဲ // ကျွန် တော် လည်း ည ဆို အ ရက် သောက် တယ် // ဆေး တော့ မ သောက် ဖြစ် ဘူး မ တည့် မှာ စိုး လို့ // အ ရက် က လည်း ဆီး ချို ကျ တယ် လို့ အ ချို ပြော နေ ကြ လို့ လေ // ဆီး ချို ဖြစ် တာ မ ကြာ သေး တော့ မ သိ ဘူး ဖြစ် နေ တယ် // အ ကို သောက် တဲ့ နည်း လေး မျှ ဝေ ပေး ပါ // ကျေး ဇူး တင် ပါ တယ်</td>\n",
       "      <td>0 1 0 1 1 1 0 1 0 1 1 1 1 1 1 0 1 1 1 1 0 1 1 1 0 1 1 1 1 1 1 1 1 1 1 1 1 0 1 1 1 0 0 1 1 1 0 0 1 1 1 1 0 1 0 1 1 1 1 1 1 1 1 1 1 1 1 1 1 0 1 1 1 1 1 0 1 1 1 1 0 0 1 1 0</td>\n",
       "      <td>0 1 0 1 1 1 0 1 0 1 1 1 1 1 1 0 1 1 1 1 0 1 1 1 1 1 1 1 1 1 1 1 1 1 1 1 1 0 1 1 1 0 0 1 1 1 0 0 1 1 1 1 0 1 0 1 1 1 1 1 1 1 1 1 1 1 1 1 1 0 1 1 1 1 1 0 1 1 1 1 0 0 1 1 0</td>\n",
       "      <td>အကို အရက် နဲ့ ဆေး ဘယ်နှစ် နာရီ ခြား ပြီး သောက် လဲ // ကျွန်တော် လည်း ည ဆို အရက် သောက် တယ် //ဆေး တော့ မ သောက် ဖြစ် ဘူး မ တည့် မှာ စိုး လို့ // အရက် က လည်း ဆီးချိုကျ တယ် လို့ အချိုပြော နေ ကြ လို့ လေ// ဆီးချို ဖြစ် တာ မ ကြာ သေး တော့ မ သိ ဘူး ဖြစ် နေ တယ် // အကို သောက် တဲ့ နည်း လေး မျှဝေ ပေး ပါ // ကျေးဇူးတင် ပါ တယ်</td>\n",
       "      <td>အကို အရက် နဲ့ ဆေး ဘယ်နှစ် နာရီ ခြား ပြီး သောက် လဲ // ကျွန်တော် လည်း ည ဆို အရက် သောက် တယ် // ဆေး တော့ မ သောက် ဖြစ် ဘူး မ တည့် မှာ စိုး လို့ // အရက် က လည်း ဆီးချိုကျ တယ် လို့ အချိုပြော နေ ကြ လို့ လေ// ဆီးချို ဖြစ် တာ မ ကြာ သေး တော့ မ သိ ဘူး ဖြစ် နေ တယ် // အကို သောက် တဲ့ နည်း လေး မျှဝေ ပေး ပါ // ကျေးဇူးတင် ပါ တယ်</td>\n",
       "    </tr>\n",
       "    <tr>\n",
       "      <th>650</th>\n",
       "      <td>ယ ခင် Sputnik က ၂ ကြိမ် ထိုး မှ ပြည့် စုံ တာ ဗျ လက် ရှိ ထိုး ပေး နေ တဲ့ ဆေး ခန်း ရှိ ပါ တယ် ခု booster အ နေ နဲ့ ထိုး ပေး နေ တဲ့ Sputnik က တော့ ၁ ကြိမ် တည်း နဲ့ ပြည့် စုံ အောင် အ ဆင့် မြှင့် တင် ထုတ် လုပ် ထား တယ် လို့ သိ ရ ပါ တယ် ကို ဗစ် ဆေး တစ် ကြိမ် မှ ထိုး မ ထား တဲ့ သူ တောင် ခု အ သစ် ဝင် လာ တဲ့ Sputnik ၁ ကြိမ် ထိုး ရုံ နဲ့ လုံ လောက် ပါ တယ် တဲ့ ဆေး က တော့ အ တော် ပြင်း ပါ တယ် အ သက် ၈၀ ကျော် သူ သွေး ကျဲ ဆေး သောက် သူ နို့ တိုက် မိ ခင် ကိုယ် ဝန် ဆောင် စ သည် ဖြင့် မ ထိုး ရ ပါ ဘူး ထိုး ပေး တဲ့ ဆ ရာ ဝန် ကို မေး လို့ သိ ရ တာ လေး ဝေ မျှ တာ ပါ ထိုး တဲ့ သူ ၁၀ ယောက် မှာ ၈ ယောက် လောက် side effects ပြ ပါ တယ် များ သော အား ဖြင့် လက် မောင်း အောင့် ကိုယ် လက် ကိုက် ခဲ ဖျား ဒီ လောက် ပါ ပဲ ပါ ရာ ၅၀၀ mm တစ် ရက် ၂ ကြိမ် လောက် သောက် ဖို့ ပဲ ဆ ရာ ဝန် တွေ ပြော ပါ တယ်</td>\n",
       "      <td>1 1 1 1 0 1 1 1 1 0 1 1 1 1 0 0 1 1 1 0 1 1 1 0 0 1 1 1 1 1 1 1 1 1 1 1 1 0 0 1 1 1 1 1 1 1 1 0 1 1 1 1 1 1 1 1 1 1 1 1 1 1 1 1 1 1 1 0 1 0 0 1 1 0 1 0 1 1 1 1 1 0 1 1 1 1 1 1 1 1 1 1 1 0 0 1 1 1 1 0</td>\n",
       "      <td>1 1 1 1 1 1 1 1 1 0 1 1 1 1 0 0 1 1 1 0 1 1 1 0 1 1 1 1 1 1 1 1 1 1 1 1 1 0 0 1 1 1 1 1 1 1 1 0 1 1 1 1 1 1 1 1 1 1 1 1 1 1 1 1 1 1 1 0 1 0 0 1 1 1 1 0 1 1 1 1 1 0 1 1 1 1 1 1 1 1 1 1 1 0 1 1 1 1 1 0</td>\n",
       "      <td>ယ ခင် Sputnik က ၂ကြိမ် ထိုး မှ ပြည့် စုံတာ ဗျ လက် ရှိ ထိုးပေးနေ တဲ့ ဆေး ခန်းရှိ ပါ တယ် ခုboosterအ နေ နဲ့ ထိုး ပေး နေ တဲ့ Sputnik က တော့ ၁ ကြိမ် တည်းနဲ့ပြည့် စုံ အောင် အ ဆင့် မြှင့် တင် ထုတ် လုပ်ထား တယ် လို့ သိ ရ ပါ တယ် ကို ဗစ် ဆေး တစ် ကြိမ် မှ ထိုး မ ထား တဲ့ သူ တောင် ခုအ သစ်ဝင်လာ တဲ့ Sputnik၁ ကြိမ်ထိုး ရုံ နဲ့ လုံ လောက် ပါတယ် တဲ့ ဆေး က တော့ အ တော် ပြင်း ပါ တယ် အ သက်၈၀ကျော် သူ သွေး ကျဲ ဆေး</td>\n",
       "      <td>ယ ခင် Sputnik က ၂ ကြိမ် ထိုး မှ ပြည့် စုံတာ ဗျ လက် ရှိ ထိုးပေးနေ တဲ့ ဆေး ခန်းရှိ ပါ တယ် ခုbooster အ နေ နဲ့ ထိုး ပေး နေ တဲ့ Sputnik က တော့ ၁ ကြိမ် တည်းနဲ့ပြည့် စုံ အောင် အ ဆင့် မြှင့် တင် ထုတ် လုပ်ထား တယ် လို့ သိ ရ ပါ တယ် ကို ဗစ် ဆေး တစ် ကြိမ် မှ ထိုး မ ထား တဲ့ သူ တောင် ခုအ သစ်ဝင်လာ တဲ့ Sputnik ၁ ကြိမ်ထိုး ရုံ နဲ့ လုံ လောက် ပါတယ် တဲ့ ဆေး က တော့ အ တော် ပြင်း ပါ တယ် အ သက်၈၀ ကျော် သူ သွေး ကျဲ ဆေး</td>\n",
       "    </tr>\n",
       "    <tr>\n",
       "      <th>585</th>\n",
       "      <td>အ ခု ကျ မ သ မီး တော့ ..P + ထပ် ဖြစ် တယ် .. မ ကူး အောင် နေ နေ ရ တယ် ..</td>\n",
       "      <td>0 1 1 1 0 1 1 0 1 1 1 1 1 1 1 1 1 1 1 1 0</td>\n",
       "      <td>0 1 1 1 0 1 1 0 1 1 1 1 1 1 1 1 1 1 1 1 1</td>\n",
       "      <td>အခု ကျ မ သမီး တော့ ..P+ ထပ် ဖြစ် တယ် .. မ ကူး အောင် နေ နေ ရ တယ် ..</td>\n",
       "      <td>အခု ကျ မ သမီး တော့ ..P+ ထပ် ဖြစ် တယ် .. မ ကူး အောင် နေ နေ ရ တယ် ..</td>\n",
       "    </tr>\n",
       "    <tr>\n",
       "      <th>1288</th>\n",
       "      <td>ညီ မ တို့ အ မေ လည်း သား အိမ် ကင် ဆာ အ ဆင့် ၄ ပါ အ ခု လည်း ကု သ နေ ဆဲ ပါ အောက် ပိုင်း တွေ ကိုက် ပြီး ခြေ ထောက် ရောင် လာ တဲ့ လက္ခာ တွေ ရှိ ပါ တယ် အဲ့ လို ဖြစ် လာ ရင် တော့ ဆ ရာ ၀န် က ခါး က နေ ဖောက်င်္ပြီး ဆီး ပိုက် ထည့် ရ ပါ တယ် တ ခြား ရော ဂါ လက္ခာ တွေ မ ရှိ ရင် တော့ အ ခု လက် ရှိ ရော ဂါေ ၀ သ နာ ကို ပဲ ဆက် ပြီး ကု သ လို့ ရ ပါ တယ် တ ခြား ရော ဂါ တွေ ရှိ ရင် တော့ ကု ထုံး က ထိ ရောက် အောင် ကု သ မှု က ပို ကြာ နိုင် ပါ တယ် ရှင့်</td>\n",
       "      <td>0 1 1 1 0 1 1 0 1 1 1 1 0 1 1 1 1 0 0 1 1 1 1 1 1 1 1 0 1 1 1 1 1 0 0 1 1 1 1 1 1 0 1 1 1 1 1 0 1 0 0 1 1 1 1 1 1 0 1 0 1 1 1 1 0 1 1 1 1 1 0 1 1 1 1 1 0 1 0 1 1 1 1 1 0 1 1 0 1 1 0 0 1 1 1 1 1 1 1 0</td>\n",
       "      <td>0 1 1 1 0 1 1 0 1 1 1 1 1 1 1 1 1 0 0 1 1 1 1 1 1 1 1 0 1 1 1 1 1 0 0 1 1 1 1 1 1 0 1 1 1 1 1 0 1 0 0 1 1 1 1 1 1 0 1 0 1 1 1 1 0 1 1 1 1 1 0 1 1 1 1 1 0 1 0 1 1 1 1 1 0 1 1 0 1 1 0 0 1 1 1 1 1 1 1 0</td>\n",
       "      <td>ညီမ တို့ အ မေလည်း သား အိမ်ကင် ဆာ အ ဆင့် ၄ပါ အ ခု လည်း ကုသနေ ဆဲ ပါ အောက် ပိုင်း တွေ ကိုက် ပြီး ခြေထောက် ရောင် လာ တဲ့ လက္ခာ တွေရှိပါ တယ် အဲ့ လို ဖြစ် လာ ရင်တော့ ဆ ရာ ၀န် က ခါးက နေဖောက်င်္ပြီးဆီး ပိုက် ထည့် ရ ပါ တယ် တခြား ရောဂါ လက္ခာ တွေ မ ရှိရင် တော့ အ ခု လက် ရှိရော ဂါေ ၀ သ နာ ကိုပဲ ဆက်ပြီး ကု သ လို့ ရ ပါတယ် တ ခြားရော ဂါ တွေရှိရင် တော့ ကု ထုံး က ထိ ရောက် အောင်</td>\n",
       "      <td>ညီမ တို့ အ မေလည်း သား အိမ်ကင် ဆာ အ ဆင့် ၄ ပါ အ ခု လည်း ကုသနေ ဆဲ ပါ အောက် ပိုင်း တွေ ကိုက် ပြီး ခြေထောက် ရောင် လာ တဲ့ လက္ခာ တွေရှိပါ တယ် အဲ့ လို ဖြစ် လာ ရင်တော့ ဆ ရာ ၀န် က ခါးက နေဖောက်င်္ပြီးဆီး ပိုက် ထည့် ရ ပါ တယ် တခြား ရောဂါ လက္ခာ တွေ မ ရှိရင် တော့ အ ခု လက် ရှိရော ဂါေ ၀ သ နာ ကိုပဲ ဆက်ပြီး ကု သ လို့ ရ ပါတယ် တ ခြားရော ဂါ တွေရှိရင် တော့ ကု ထုံး က ထိ ရောက် အောင်</td>\n",
       "    </tr>\n",
       "    <tr>\n",
       "      <th>1027</th>\n",
       "      <td>သွေး ကြော တွင်း သို့ ဆေး ထိုး ခြင်း / သွေး ခ ဏ ခ ဏ ဖောက် ရ ခြင်း ဟာ သွေး ပြန် ကြော များ ကို ပျက် စီး စေ ပြီး တစ် ခါ တစ် ရံ တွင် အ မာ ရွတ် တစ် သျှူး များ ဖြစ် ပေါ် လာ နိုင် စေ ပါ တယ် သွေး ကြော ပျက် စီး ခြင်း ဟာ သူ့ ဟာ သူ ပြန် လည် ကောင်း မွန် လာ တာ မျိုး ရှိ သ လို တစ် ခါ တစ် ရံ မှာ တစ် သက် လုံး မ ပျောက် တော့ တာ လည်း ဖြစ် နိုင် ပါ တယ် IV ဆေး ဝါး ( သွေး ကြော တွင်း သို့ ထိုး သွင်း ရ တဲ့ ဆေး ဝါး ) များ ကို မ ကြာ ခ ဏ အ သုံး ပြု ရန် လို အပ် သော ကျန်း မာ ရေး ပြ ဿ နာ တစ် ခု ရှိ ပါ က ( ဥ ပ မာ ကင် ဆာ အ တွက် ဓာ တု ကု ထုံး ခံ ယူ နေ ပါ က ) ဖြစ် တတ် ပါ တယ်</td>\n",
       "      <td>1 1 1 0 1 0 1 1 1 1 1 1 0 1 0 1 1 1 1 1 0 1 0 1 0 1 1 1 0 1 1 1 1 1 1 1 1 1 1 1 0 1 1 0 1 1 1 0 1 1 1 0 1 1 1 1 0 1 0 1 0 0 1 1 0 1 1 0 0 1 0 0 1 1 1 1 1 1 1 1 0 0 0 1 0 1 0 0 0 1 0 1 1 1 1 1 1 1 1 0</td>\n",
       "      <td>1 1 1 0 1 0 1 1 1 1 1 1 0 1 0 1 1 1 1 1 0 1 0 1 0 1 1 1 0 1 1 1 1 1 1 1 1 1 1 1 0 1 1 0 1 1 1 0 1 1 1 0 1 1 1 1 0 1 0 1 0 0 1 1 0 1 1 0 0 1 0 0 1 1 1 1 1 1 1 1 1 0 0 1 0 1 0 0 0 1 0 1 1 1 1 1 1 1 1 0</td>\n",
       "      <td>သွေး ကြော တွင်း သို့ဆေး ထိုးခြင်း / သွေး ခ ဏ ခ ဏဖောက် ရခြင်း ဟာ သွေး ပြန် ကြော များကို ပျက်စီး စေပြီး တစ် ခါ တစ်ရံ တွင် အ မာ ရွတ် တစ် သျှူး များ ဖြစ် ပေါ် လာ နိုင်စေ ပါ တယ်သွေး ကြော ပျက် စီးခြင်း ဟာ သူ့ ဟာသူ ပြန် လည် ကောင်း မွန်လာ တာမျိုး ရှိသလို တစ် ခါတစ် ရံ မှာတစ်သက် လုံးမပျောက် တော့ တာ လည်း ဖြစ် နိုင် ပါ တယ် IVဆေးဝါး( သွေးကြော တွင်းသို့ထိုးသွင်း ရတဲ့ ဆေး ဝါး ) များ ကို မ ကြာ ခ</td>\n",
       "      <td>သွေး ကြော တွင်း သို့ဆေး ထိုးခြင်း / သွေး ခ ဏ ခ ဏဖောက် ရခြင်း ဟာ သွေး ပြန် ကြော များကို ပျက်စီး စေပြီး တစ် ခါ တစ်ရံ တွင် အ မာ ရွတ် တစ် သျှူး များ ဖြစ် ပေါ် လာ နိုင်စေ ပါ တယ်သွေး ကြော ပျက် စီးခြင်း ဟာ သူ့ ဟာသူ ပြန် လည် ကောင်း မွန်လာ တာမျိုး ရှိသလို တစ် ခါတစ် ရံ မှာတစ်သက် လုံးမပျောက် တော့ တာ လည်း ဖြစ် နိုင် ပါ တယ် IV ဆေးဝါး( သွေးကြော တွင်းသို့ထိုးသွင်း ရတဲ့ ဆေး ဝါး ) များ ကို မ ကြာ ခ</td>\n",
       "    </tr>\n",
       "    <tr>\n",
       "      <th>1723</th>\n",
       "      <td>အ စာ အိမ် ထဲ တိုက် ရိုက် ထည့် သွင်း တဲ့ ပိုက် ( G-tube )</td>\n",
       "      <td>0 0 1 1 0 1 0 1 1 1 1 1 0</td>\n",
       "      <td>0 0 1 1 0 1 0 1 1 1 1 1 1</td>\n",
       "      <td>အစာအိမ် ထဲ တိုက်ရိုက် ထည့်သွင်း တဲ့ ပိုက် ( G-tube )</td>\n",
       "      <td>အစာအိမ် ထဲ တိုက်ရိုက် ထည့်သွင်း တဲ့ ပိုက် ( G-tube )</td>\n",
       "    </tr>\n",
       "    <tr>\n",
       "      <th>1532</th>\n",
       "      <td>* တား မြစ် အန္တ ရယ် ရှိ ဆိုး ဆေး များ အ သုံး ပြု ထား သော မျှစ် နီ မျှစ် ဝါ ပု ဇွန် ချဉ် နီ နီ အ ဝါ ရောင် ဆိုး ထား သော ငါး ပုဏ္ဏား ငါး မြွေ ထိုး ရွှေ ငါး ကြက် သား အ ရောင် ဆိုး ထား သော င ရုတ် သီး မှုံ့ အ ရောင် တင် မှုံ့ န နွှင်း မှုံ့ ပု ဇွန် ခြောက် လက် ဖက် လက် ဖက် ခြောက် င ပိ ပဲ နီ လေး ပဲ ဝါ လေး မက် မန်း သီး ဆီး ထုတ် ဒံ ပေါက် ဆိုး ဆေး စ သည် တို့ သည် အ သည်း ရော ဂါ များ အ စာ အိမ် ရော ဂါ များ နှင့် အ စာ အိမ် ကင် ဆာ အ ခြား ကင် ဆာ ရော ဂါ များ လည်း  ု ဖြစ် စေ တတ် သော ကြောင့် လုံး ဝ ရှောင် ကြဉ် သင့် ပါ သည်</td>\n",
       "      <td>0 1 0 0 1 1 1 1 0 1 1 0 1 0 1 0 1 0 0 1 1 1 0 0 1 1 0 0 1 0 0 0 1 0 0 1 0 1 0 0 1 0 0 0 1 1 0 0 0 0 0 1 0 1 1 0 0 1 0 1 1 1 0 0 0 1 1 0 0 0 0 1 1 1 0 0 1 0 1 0 1 0 1 0 1 1 1 1 1 1 1 1 1 0 1 0 1 1 1 0</td>\n",
       "      <td>1 1 0 0 1 1 1 1 0 1 1 0 1 0 1 0 1 0 0 1 1 1 0 0 1 1 0 0 1 0 0 0 1 0 0 1 0 1 0 0 1 0 0 0 1 1 0 0 0 0 0 1 0 1 1 0 0 1 0 1 1 1 0 0 0 1 1 0 0 0 0 1 1 1 0 0 1 0 1 0 1 0 1 0 1 1 1 1 1 1 1 1 1 0 1 0 1 1 1 0</td>\n",
       "      <td>*တား မြစ်အန္တရယ် ရှိ ဆိုး ဆေး များအ သုံး ပြုထား သောမျှစ် နီမျှစ် ဝါပုဇွန် ချဉ် နီ နီအဝါ ရောင် ဆိုးထားသော ငါးပုဏ္ဏားငါးမြွေ ထိုးရွှေငါး ကြက်သား အရောင်ဆိုး ထားသောငရုတ် သီး မှုံ့အရောင်တင်မှုံ့န နွှင်းမှုံ့ ပု ဇွန်ခြောက်လက် ဖက်လက် ဖက် ခြောက် ငပိပဲနီ လေး ပဲဝါလေးမက်မန်း သီး ဆီး ထုတ်ဒံပေါက် ဆိုးဆေး စသည် တို့သည် အသည်း ရော ဂါ များ အ စာ အိမ် ရော ဂါ များနှင့် အစာ အိမ် ကင် ဆာ</td>\n",
       "      <td>* တား မြစ်အန္တရယ် ရှိ ဆိုး ဆေး များအ သုံး ပြုထား သောမျှစ် နီမျှစ် ဝါပုဇွန် ချဉ် နီ နီအဝါ ရောင် ဆိုးထားသော ငါးပုဏ္ဏားငါးမြွေ ထိုးရွှေငါး ကြက်သား အရောင်ဆိုး ထားသောငရုတ် သီး မှုံ့အရောင်တင်မှုံ့န နွှင်းမှုံ့ ပု ဇွန်ခြောက်လက် ဖက်လက် ဖက် ခြောက် ငပိပဲနီ လေး ပဲဝါလေးမက်မန်း သီး ဆီး ထုတ်ဒံပေါက် ဆိုးဆေး စသည် တို့သည် အသည်း ရော ဂါ များ အ စာ အိမ် ရော ဂါ များနှင့် အစာ အိမ် ကင် ဆာ</td>\n",
       "    </tr>\n",
       "    <tr>\n",
       "      <th>1193</th>\n",
       "      <td>-HER2 + ဆို တာ ဘာဲ ?</td>\n",
       "      <td>0 1 0 1 1 0</td>\n",
       "      <td>0 1 0 1 1 1</td>\n",
       "      <td>-HER2+ ဆိုတာ ဘာဲ ?</td>\n",
       "      <td>-HER2+ ဆိုတာ ဘာဲ ?</td>\n",
       "    </tr>\n",
       "    <tr>\n",
       "      <th>777</th>\n",
       "      <td>Online က နေ နှစ် သိမ့် စ ကား တွေ ပြော တာ မျိုး .. ရော ဂါ အ ကြောင်း ရှင်း ပြ တာ မျိုး တွေ လို ချင် လား .. or. ကင် ဆာ ဝေ ဒ နာ ရှင် အ ချင်း ချင်း မိ သား စု ဝင် အ ချင်း ဖေး မ အား ပေး တာ မျိုး လို ချင် လား</td>\n",
       "      <td>1 1 1 0 1 0 1 1 1 1 1 1 0 1 0 1 0 1 1 1 1 1 1 1 0 1 0 1 0 0 0 1 0 0 1 0 0 1 1 0 1 0 1 1 1 1 1 1 1 0</td>\n",
       "      <td>1 1 1 0 1 0 1 1 1 1 1 1 0 1 0 1 0 1 1 1 1 1 1 1 1 1 0 1 0 0 0 1 0 0 1 0 0 1 1 0 1 0 1 1 1 1 1 1 1 0</td>\n",
       "      <td>Online က နေ နှစ်သိမ့် စကား တွေ ပြော တာ မျိုး .. ရောဂါ အကြောင်း ရှင်းပြ တာ မျိုး တွေ လို ချင် လား ..or. ကင်ဆာ ဝေဒနာရှင် အချင်းချင်း မိသားစု ဝင် အချင်း ဖေးမ အား ပေး တာ မျိုး လို ချင် လား</td>\n",
       "      <td>Online က နေ နှစ်သိမ့် စကား တွေ ပြော တာ မျိုး .. ရောဂါ အကြောင်း ရှင်းပြ တာ မျိုး တွေ လို ချင် လား .. or. ကင်ဆာ ဝေဒနာရှင် အချင်းချင်း မိသားစု ဝင် အချင်း ဖေးမ အား ပေး တာ မျိုး လို ချင် လား</td>\n",
       "    </tr>\n",
       "    <tr>\n",
       "      <th>677</th>\n",
       "      <td>စိတ် ပူ ပေး ပါ အ သက် ရှု မ ဝ တဲ့ အ တွက် နှ လုံး ရော ဂါ အ ခံ လူ ကြီး တွေ အ တွက် စိုး ရိမ် ရ ပါ တယ် နော် ..</td>\n",
       "      <td>0 1 1 1 0 0 1 1 1 1 0 1 0 0 0 1 0 1 0 1 1 0 1 0 1 1 1 1 1 0</td>\n",
       "      <td>0 1 1 1 0 0 1 1 1 1 0 1 0 0 0 1 0 1 0 1 1 0 1 0 1 1 1 1 1 1</td>\n",
       "      <td>စိတ်ပူ ပေး ပါ အသက်ရှု မ ဝ တဲ့ အတွက် နှလုံးရောဂါ အခံ လူကြီး တွေ အတွက် စိုးရိမ် ရ ပါ တယ် နော် ..</td>\n",
       "      <td>စိတ်ပူ ပေး ပါ အသက်ရှု မ ဝ တဲ့ အတွက် နှလုံးရောဂါ အခံ လူကြီး တွေ အတွက် စိုးရိမ် ရ ပါ တယ် နော် ..</td>\n",
       "    </tr>\n",
       "    <tr>\n",
       "      <th>398</th>\n",
       "      <td>ကျွန် တော့် ရဲ့ ဘယ် မျက် လုံး က မျဉ်း ကြောင်း တွေ ကို ကြည့် ရင် တွန့် နေ ကောက် နေ တယ် အ လယ် မှာ လည်း နည်း နည်း ဝါး နေ တယ် အဲ့ ဒါ ဘာ ဖြစ် နိုင် ပါ သ လဲ ?</td>\n",
       "      <td>0 1 1 1 0 1 1 0 1 1 1 1 1 1 1 1 1 1 0 1 1 1 1 0 1 1 1 0 1 1 1 1 1 0 1 0</td>\n",
       "      <td>0 1 1 1 0 1 1 0 1 1 1 1 1 1 1 1 1 1 0 1 1 1 1 0 1 1 1 0 1 1 1 1 1 0 1 1</td>\n",
       "      <td>ကျွန်တော့် ရဲ့ ဘယ် မျက်လုံး က မျဉ်းကြောင်း တွေ ကို ကြည့် ရင် တွန့် နေ ကောက် နေ တယ် အလယ် မှာ လည်း နည်း နည်းဝါး နေ တယ် အဲ့ဒါ ဘာ ဖြစ် နိုင် ပါ သလဲ ?</td>\n",
       "      <td>ကျွန်တော့် ရဲ့ ဘယ် မျက်လုံး က မျဉ်းကြောင်း တွေ ကို ကြည့် ရင် တွန့် နေ ကောက် နေ တယ် အလယ် မှာ လည်း နည်း နည်းဝါး နေ တယ် အဲ့ဒါ ဘာ ဖြစ် နိုင် ပါ သလဲ ?</td>\n",
       "    </tr>\n",
       "    <tr>\n",
       "      <th>1517</th>\n",
       "      <td>* တံ ဆိပ် အ မျိုး မျိုး ဖြင့် ကျောင်း မုန့် ဈေး တန်း တွင် ရောင်း ချ နေ သည့် လေ ဖောင်း မုန့် များ ( အာ လူး ကြော် / ချောင်း ဘ ယာ ကြော် / ချောင်း ကြက် သွန် ကြော် ငါး မုန့် ကြော် စ နက်ခ် Snack များ ) စ သည် တို့ သည် ကြော် ပြီး သား ဆီ များ ကို မ စွန်း ပစ် ပဲ အ ကြိမ် ( ၅၀ ) ထက် မ နည်း ပြန် ကြော် နေ သည် ကို တောင် ဒ ဂုံ စက် မှု ဇုံ ရှိ စက် ရုံ တ ရုံ တွင် စစ် ဆေး တွေ့ ရှိ ရ သည်</td>\n",
       "      <td>0 0 1 0 0 1 1 0 1 0 1 1 0 1 1 1 0 0 1 1 1 0 0 1 1 1 0 0 1 1 0 0 0 1 0 0 1 0 0 1 1 1 0 1 1 1 1 0 1 1 1 1 1 0 1 1 0 1 1 1 1 1 1 1 0 1 1 1 1 0 0 0 0 1 1 1 0 1 0 1 1 0 1 1 1 1 0</td>\n",
       "      <td>1 0 1 0 0 1 1 0 1 0 1 1 0 1 1 1 0 0 1 1 1 0 0 1 1 1 0 0 1 1 0 0 0 1 0 0 1 0 0 1 1 1 0 1 1 1 1 0 1 1 1 1 1 0 1 1 0 1 1 1 1 1 1 1 0 1 1 1 1 0 0 0 0 1 1 1 0 1 0 1 1 0 1 1 1 1 0</td>\n",
       "      <td>*တံဆိပ် အမျိုးမျိုး ဖြင့် ကျောင်းမုန့် ဈေးတန်း တွင် ရောင်းချ နေ သည့် လေဖောင်းမုန့် များ ( အာလူးကြော် / ချောင်း ဘယာကြော် / ချောင်းကြက်သွန်ကြော် ငါးမုန့်ကြော် စနက်ခ်Snack များ ) စသည် တို့ သည် ကြော် ပြီးသား ဆီ များ ကို မ စွန်းပစ် ပဲ အကြိမ် ( ၅၀ ) ထက် မ နည်း ပြန်ကြော် နေ သည် ကို တောင်ဒဂုံစက်မှု ဇုံ ရှိ စက်ရုံ တရုံ တွင် စစ်ဆေး တွေ့ ရှိ ရ သည်</td>\n",
       "      <td>* တံဆိပ် အမျိုးမျိုး ဖြင့် ကျောင်းမုန့် ဈေးတန်း တွင် ရောင်းချ နေ သည့် လေဖောင်းမုန့် များ ( အာလူးကြော် / ချောင်း ဘယာကြော် / ချောင်းကြက်သွန်ကြော် ငါးမုန့်ကြော် စနက်ခ်Snack များ ) စသည် တို့ သည် ကြော် ပြီးသား ဆီ များ ကို မ စွန်းပစ် ပဲ အကြိမ် ( ၅၀ ) ထက် မ နည်း ပြန်ကြော် နေ သည် ကို တောင်ဒဂုံစက်မှု ဇုံ ရှိ စက်ရုံ တရုံ တွင် စစ်ဆေး တွေ့ ရှိ ရ သည်</td>\n",
       "    </tr>\n",
       "    <tr>\n",
       "      <th>1512</th>\n",
       "      <td>များ သည် ပူ သော အ စား အ စာ ဆီ ပါ ဝင် သော အ စား အ စာ နှင့် ရေ ခဲ သေတ္တာ ထဲ တွင် အ စား အ စာ ကို ပ လပ် စ တစ် နှင့် ထည့် ၍ သို လှောင် ထား ပါ က အ စား အ သောက် ထဲ သို့ ဓါတ် ပြု ပျော် ဝင် ၍ ရင် သား ကင် ဆာ နှင့် ကင် ဆာ အ မျိုး မျိုး ဟော် မုန်း အ ပြောင်း အ လဲ ဖြစ် ခြင်း နှင့် မျိုး ပွား မှု ကို ထိ ခိုက် ခြင်း တို့ ကို ဖြစ် စေ ပါ သည် ( သား သ မီး မ ရ သော စုံ တွဲ များ သ တိ ချပ် ကြ ပါ )</td>\n",
       "      <td>1 1 1 1 0 0 0 1 1 0 1 1 0 0 0 1 1 0 0 1 1 1 0 0 0 1 1 0 0 1 1 1 1 1 0 1 1 1 1 0 0 0 1 1 1 0 1 0 1 1 0 1 0 1 1 0 1 0 0 1 0 1 0 0 0 1 1 1 1 0 0 1 1 0 1 1 1 1 0 1 1 1 1 1 0 1 1 1 1 0 1 1 0 0 1 1 1 0</td>\n",
       "      <td>1 1 1 1 0 0 0 1 1 0 1 1 0 0 0 1 1 0 0 1 1 1 0 0 0 1 1 0 0 1 1 1 1 1 0 1 1 1 1 0 0 0 1 1 1 0 1 0 1 1 0 1 0 1 1 0 1 0 0 1 0 1 0 0 0 1 1 1 1 0 0 1 1 0 1 1 1 1 0 1 1 1 1 1 0 1 1 1 1 0 1 1 0 0 1 1 1 1</td>\n",
       "      <td>များ သည် ပူ သော အစားအစာ ဆီ ပါဝင် သော အစားအစာ နှင့် ရေခဲသေတ္တာ ထဲ တွင် အစားအစာ ကို ပလပ်စ တစ် နှင့် ထည့် ၍ သိုလှောင် ထား ပါ က အစားအသောက် ထဲ သို့ ဓါတ်ပြု ပျော်ဝင် ၍ ရင်သား ကင်ဆာ နှင့် ကင်ဆာ အမျိုးမျိုး ဟော်မုန်း အပြောင်းအလဲ ဖြစ် ခြင်း နှင့် မျိုးပွားမှု ကို ထိခိုက် ခြင်း တို့ ကို ဖြစ်စေ ပါ သည် ( သား သမီး မ ရ သော စုံတွဲ များ သတိချပ် ကြ ပါ )</td>\n",
       "      <td>များ သည် ပူ သော အစားအစာ ဆီ ပါဝင် သော အစားအစာ နှင့် ရေခဲသေတ္တာ ထဲ တွင် အစားအစာ ကို ပလပ်စ တစ် နှင့် ထည့် ၍ သိုလှောင် ထား ပါ က အစားအသောက် ထဲ သို့ ဓါတ်ပြု ပျော်ဝင် ၍ ရင်သား ကင်ဆာ နှင့် ကင်ဆာ အမျိုးမျိုး ဟော်မုန်း အပြောင်းအလဲ ဖြစ် ခြင်း နှင့် မျိုးပွားမှု ကို ထိခိုက် ခြင်း တို့ ကို ဖြစ်စေ ပါ သည် ( သား သမီး မ ရ သော စုံတွဲ များ သတိချပ် ကြ ပါ )</td>\n",
       "    </tr>\n",
       "    <tr>\n",
       "      <th>1194</th>\n",
       "      <td>-Triple -positive ဆို တာ ဘာ လဲ ?</td>\n",
       "      <td>0 1 0 1 0 1 0</td>\n",
       "      <td>0 1 0 1 0 1 1</td>\n",
       "      <td>-Triple-positive ဆိုတာ ဘာလဲ ?</td>\n",
       "      <td>-Triple-positive ဆိုတာ ဘာလဲ ?</td>\n",
       "    </tr>\n",
       "    <tr>\n",
       "      <th>355</th>\n",
       "      <td>အဲ့ တော့ ထိုး ပါ မ ကူး အောင် ကာ ကွယ် ပါ . .</td>\n",
       "      <td>1 1 1 1 1 1 1 0 1 1 1 0</td>\n",
       "      <td>1 1 1 1 1 1 1 0 1 1 1 1</td>\n",
       "      <td>အဲ့ တော့ ထိုး ပါ မ ကူး အောင် ကာကွယ် ပါ . .</td>\n",
       "      <td>အဲ့ တော့ ထိုး ပါ မ ကူး အောင် ကာကွယ် ပါ . .</td>\n",
       "    </tr>\n",
       "    <tr>\n",
       "      <th>738</th>\n",
       "      <td>ကျန် တော် india န ယူး ဒေ လီ မှာ ရှိ နေ တော့ Omicron ကူး ခံ ရ ပါ တယ်</td>\n",
       "      <td>0 1 1 0 1 0 1 1 1 1 1 0 0 1 1 1 0</td>\n",
       "      <td>0 1 1 0 1 0 1 1 1 1 1 1 0 1 1 1 0</td>\n",
       "      <td>ကျန်တော် india နယူး ဒေလီ မှာ ရှိ နေ တော့ Omicronကူးခံ ရ ပါ တယ်</td>\n",
       "      <td>ကျန်တော် india နယူး ဒေလီ မှာ ရှိ နေ တော့ Omicron ကူးခံ ရ ပါ တယ်</td>\n",
       "    </tr>\n",
       "    <tr>\n",
       "      <th>624</th>\n",
       "      <td>Sputnik ကို ဘယ် ဆေး ခန်း တွေ မှာ Booking တင် စ ရာ မ လို ဘဲ ထိုး လဲ က လဲ ခင် ဗျ</td>\n",
       "      <td>1 1 1 0 1 1 1 0 1 0 1 1 1 1 1 1 1 1 0 0</td>\n",
       "      <td>1 1 1 0 1 1 1 1 1 0 1 1 1 1 1 1 1 1 0 0</td>\n",
       "      <td>Sputnik ကို ဘယ် ဆေးခန်း တွေ မှာ Bookingတင် စရာ မ လို ဘဲ ထိုး လဲ က လဲ ခင်ဗျ</td>\n",
       "      <td>Sputnik ကို ဘယ် ဆေးခန်း တွေ မှာ Booking တင် စရာ မ လို ဘဲ ထိုး လဲ က လဲ ခင်ဗျ</td>\n",
       "    </tr>\n",
       "  </tbody>\n",
       "</table>\n",
       "</div>"
      ],
      "text/plain": [
       "                                                                                                                                                                                                                                                                                                                                                                                                                                                                                                                                                                                                                                                                                                                                                                                   msg  \\\n",
       "426   နေ့ စဉ် တိုင်း ရ မှာ လား ?                                                                                                                                                                                                                                                                                                                                                                                                                                                                                                                                                                                                                                                                                                                                                         \n",
       "1706  ကင် ဆာ ပါ ရ ဂူ နဲ့ ပြန် ပြ ပေး လိုက် ညီ မ ကင် ဆာ ဆေး သွင်း ရ ရင် သွင်း ပါ မ ကြောက် ဖို့ ပြော ပါ အ မ ဆို ကင် ဆာ ဖြစ် နေ တာ ကြာ ပြီ ကီ မို ဆေး သွင် ၃၆ ကျိမ် သွင်း ရ မှာ ခု ၄ ကျိမ် ပဲ ကျံ တော့ တယ် ဓါတ် လဲ ကင် ရ တယ် အ မ ဆို ကင် ဆာ ၃ မျိုး ဖြစ် နေ တာ ရင် သား ကင် ဆာ လယ် ပင်း ကင် ဆာ အ ရိုး ကင် ဆာ သ မား တ ယောက် ထဲ ကိုယ့် ကို ရုန်း နေ တာ ညီ မ အ မေ ကို အား ပေး ပြော ပြ ပါ သ မား တော် တွေ နဲ့ ပြ ပါ ဆေး မီး တို တွေ နဲ့ မ ကု ပါ နဲ့ လို့                                                                                                                                                                                                                                                                                                                                          \n",
       "217   ဆ ရာ ကျ နော့ အ ဖွား က အ သက် ၇၀ ပါ ဆ ရာ အ စား အ သောက် နဲ့ လူ နေ မှု့ ဘ ၀ ပြု ပြင် ပြောင်း လဲ လေ့ ကျင့် ခြင်း အ တွက် ဆေး လွတ် ပြီး ဆီး ချို ပြောင်း ပြန် လှန် နေ ပါ ပြီ 16/8 -14 ရက် 20/4 -63 ရက် စ စ ပ 77 ရက် စား ပြီး ပြောင်း ပြန် လှန် နိုင် တာ ပါ အ ခု 18/6 တောက် လျှောက် စား နေ ပါ တယ် ဝေ ဒ နာ သည် တွေ ပျောက် စေ ချင် တဲ့ ဆန္ဒ ကြောင့် ပြော ပြ ပေ မဲ့ လက် မ ခံ ကြ ဘူး ဆ ရာ ဆီး ချို ဆို တာ ပျောက် တဲ့ ရော ဂါ မ ဟုတ် ဘူး ဆို ပြီး လက် လျော့ နေ ကြ ပါ တယ် ဆ ရာ အဲ ဒါ ကြောင့် အ ချိန် ခြား စား သောက် ခြင်း ကိစ္စ အ ရေး ပါ ကြောင်း လေး ပါ ထည့် ဆွေး နွေး ပေး ပါ ဆ ရာ ကျေး ဇူး တင် ပါ တယ် ဆ ရာ                                                                                                                                                                                       \n",
       "38    အ ကို အ ရက် နဲ့ ဆေး ဘယ် နှစ် နာ ရီ ခြား ပြီး သောက် လဲ // ကျွန် တော် လည်း ည ဆို အ ရက် သောက် တယ် // ဆေး တော့ မ သောက် ဖြစ် ဘူး မ တည့် မှာ စိုး လို့ // အ ရက် က လည်း ဆီး ချို ကျ တယ် လို့ အ ချို ပြော နေ ကြ လို့ လေ // ဆီး ချို ဖြစ် တာ မ ကြာ သေး တော့ မ သိ ဘူး ဖြစ် နေ တယ် // အ ကို သောက် တဲ့ နည်း လေး မျှ ဝေ ပေး ပါ // ကျေး ဇူး တင် ပါ တယ်                                                                                                                                                                                                                                                                                                                                                                                                                                           \n",
       "650   ယ ခင် Sputnik က ၂ ကြိမ် ထိုး မှ ပြည့် စုံ တာ ဗျ လက် ရှိ ထိုး ပေး နေ တဲ့ ဆေး ခန်း ရှိ ပါ တယ် ခု booster အ နေ နဲ့ ထိုး ပေး နေ တဲ့ Sputnik က တော့ ၁ ကြိမ် တည်း နဲ့ ပြည့် စုံ အောင် အ ဆင့် မြှင့် တင် ထုတ် လုပ် ထား တယ် လို့ သိ ရ ပါ တယ် ကို ဗစ် ဆေး တစ် ကြိမ် မှ ထိုး မ ထား တဲ့ သူ တောင် ခု အ သစ် ဝင် လာ တဲ့ Sputnik ၁ ကြိမ် ထိုး ရုံ နဲ့ လုံ လောက် ပါ တယ် တဲ့ ဆေး က တော့ အ တော် ပြင်း ပါ တယ် အ သက် ၈၀ ကျော် သူ သွေး ကျဲ ဆေး သောက် သူ နို့ တိုက် မိ ခင် ကိုယ် ဝန် ဆောင် စ သည် ဖြင့် မ ထိုး ရ ပါ ဘူး ထိုး ပေး တဲ့ ဆ ရာ ဝန် ကို မေး လို့ သိ ရ တာ လေး ဝေ မျှ တာ ပါ ထိုး တဲ့ သူ ၁၀ ယောက် မှာ ၈ ယောက် လောက် side effects ပြ ပါ တယ် များ သော အား ဖြင့် လက် မောင်း အောင့် ကိုယ် လက် ကိုက် ခဲ ဖျား ဒီ လောက် ပါ ပဲ ပါ ရာ ၅၀၀ mm တစ် ရက် ၂ ကြိမ် လောက် သောက် ဖို့ ပဲ ဆ ရာ ဝန် တွေ ပြော ပါ တယ်   \n",
       "585   အ ခု ကျ မ သ မီး တော့ ..P + ထပ် ဖြစ် တယ် .. မ ကူး အောင် နေ နေ ရ တယ် ..                                                                                                                                                                                                                                                                                                                                                                                                                                                                                                                                                                                                                                                                                                              \n",
       "1288  ညီ မ တို့ အ မေ လည်း သား အိမ် ကင် ဆာ အ ဆင့် ၄ ပါ အ ခု လည်း ကု သ နေ ဆဲ ပါ အောက် ပိုင်း တွေ ကိုက် ပြီး ခြေ ထောက် ရောင် လာ တဲ့ လက္ခာ တွေ ရှိ ပါ တယ် အဲ့ လို ဖြစ် လာ ရင် တော့ ဆ ရာ ၀န် က ခါး က နေ ဖောက်င်္ပြီး ဆီး ပိုက် ထည့် ရ ပါ တယ် တ ခြား ရော ဂါ လက္ခာ တွေ မ ရှိ ရင် တော့ အ ခု လက် ရှိ ရော ဂါေ ၀ သ နာ ကို ပဲ ဆက် ပြီး ကု သ လို့ ရ ပါ တယ် တ ခြား ရော ဂါ တွေ ရှိ ရင် တော့ ကု ထုံး က ထိ ရောက် အောင် ကု သ မှု က ပို ကြာ နိုင် ပါ တယ် ရှင့်                                                                                                                                                                                                                                                                                                                                              \n",
       "1027  သွေး ကြော တွင်း သို့ ဆေး ထိုး ခြင်း / သွေး ခ ဏ ခ ဏ ဖောက် ရ ခြင်း ဟာ သွေး ပြန် ကြော များ ကို ပျက် စီး စေ ပြီး တစ် ခါ တစ် ရံ တွင် အ မာ ရွတ် တစ် သျှူး များ ဖြစ် ပေါ် လာ နိုင် စေ ပါ တယ် သွေး ကြော ပျက် စီး ခြင်း ဟာ သူ့ ဟာ သူ ပြန် လည် ကောင်း မွန် လာ တာ မျိုး ရှိ သ လို တစ် ခါ တစ် ရံ မှာ တစ် သက် လုံး မ ပျောက် တော့ တာ လည်း ဖြစ် နိုင် ပါ တယ် IV ဆေး ဝါး ( သွေး ကြော တွင်း သို့ ထိုး သွင်း ရ တဲ့ ဆေး ဝါး ) များ ကို မ ကြာ ခ ဏ အ သုံး ပြု ရန် လို အပ် သော ကျန်း မာ ရေး ပြ ဿ နာ တစ် ခု ရှိ ပါ က ( ဥ ပ မာ ကင် ဆာ အ တွက် ဓာ တု ကု ထုံး ခံ ယူ နေ ပါ က ) ဖြစ် တတ် ပါ တယ်                                                                                                                                                                                                                 \n",
       "1723  အ စာ အိမ် ထဲ တိုက် ရိုက် ထည့် သွင်း တဲ့ ပိုက် ( G-tube )                                                                                                                                                                                                                                                                                                                                                                                                                                                                                                                                                                                                                                                                                                                           \n",
       "1532  * တား မြစ် အန္တ ရယ် ရှိ ဆိုး ဆေး များ အ သုံး ပြု ထား သော မျှစ် နီ မျှစ် ဝါ ပု ဇွန် ချဉ် နီ နီ အ ဝါ ရောင် ဆိုး ထား သော ငါး ပုဏ္ဏား ငါး မြွေ ထိုး ရွှေ ငါး ကြက် သား အ ရောင် ဆိုး ထား သော င ရုတ် သီး မှုံ့ အ ရောင် တင် မှုံ့ န နွှင်း မှုံ့ ပု ဇွန် ခြောက် လက် ဖက် လက် ဖက် ခြောက် င ပိ ပဲ နီ လေး ပဲ ဝါ လေး မက် မန်း သီး ဆီး ထုတ် ဒံ ပေါက် ဆိုး ဆေး စ သည် တို့ သည် အ သည်း ရော ဂါ များ အ စာ အိမ် ရော ဂါ များ နှင့် အ စာ အိမ် ကင် ဆာ အ ခြား ကင် ဆာ ရော ဂါ များ လည်း  ု ဖြစ် စေ တတ် သော ကြောင့် လုံး ဝ ရှောင် ကြဉ် သင့် ပါ သည်                                                                                                                                                                                                                                                            \n",
       "1193  -HER2 + ဆို တာ ဘာဲ ?                                                                                                                                                                                                                                                                                                                                                                                                                                                                                                                                                                                                                                                                                                                                                               \n",
       "777   Online က နေ နှစ် သိမ့် စ ကား တွေ ပြော တာ မျိုး .. ရော ဂါ အ ကြောင်း ရှင်း ပြ တာ မျိုး တွေ လို ချင် လား .. or. ကင် ဆာ ဝေ ဒ နာ ရှင် အ ချင်း ချင်း မိ သား စု ဝင် အ ချင်း ဖေး မ အား ပေး တာ မျိုး လို ချင် လား                                                                                                                                                                                                                                                                                                                                                                                                                                                                                                                                                                           \n",
       "677   စိတ် ပူ ပေး ပါ အ သက် ရှု မ ဝ တဲ့ အ တွက် နှ လုံး ရော ဂါ အ ခံ လူ ကြီး တွေ အ တွက် စိုး ရိမ် ရ ပါ တယ် နော် ..                                                                                                                                                                                                                                                                                                                                                                                                                                                                                                                                                                                                                                                                          \n",
       "398   ကျွန် တော့် ရဲ့ ဘယ် မျက် လုံး က မျဉ်း ကြောင်း တွေ ကို ကြည့် ရင် တွန့် နေ ကောက် နေ တယ် အ လယ် မှာ လည်း နည်း နည်း ဝါး နေ တယ် အဲ့ ဒါ ဘာ ဖြစ် နိုင် ပါ သ လဲ ?                                                                                                                                                                                                                                                                                                                                                                                                                                                                                                                                                                                                                           \n",
       "1517  * တံ ဆိပ် အ မျိုး မျိုး ဖြင့် ကျောင်း မုန့် ဈေး တန်း တွင် ရောင်း ချ နေ သည့် လေ ဖောင်း မုန့် များ ( အာ လူး ကြော် / ချောင်း ဘ ယာ ကြော် / ချောင်း ကြက် သွန် ကြော် ငါး မုန့် ကြော် စ နက်ခ် Snack များ ) စ သည် တို့ သည် ကြော် ပြီး သား ဆီ များ ကို မ စွန်း ပစ် ပဲ အ ကြိမ် ( ၅၀ ) ထက် မ နည်း ပြန် ကြော် နေ သည် ကို တောင် ဒ ဂုံ စက် မှု ဇုံ ရှိ စက် ရုံ တ ရုံ တွင် စစ် ဆေး တွေ့ ရှိ ရ သည်                                                                                                                                                                                                                                                                                                                                                                                                 \n",
       "1512  များ သည် ပူ သော အ စား အ စာ ဆီ ပါ ဝင် သော အ စား အ စာ နှင့် ရေ ခဲ သေတ္တာ ထဲ တွင် အ စား အ စာ ကို ပ လပ် စ တစ် နှင့် ထည့် ၍ သို လှောင် ထား ပါ က အ စား အ သောက် ထဲ သို့ ဓါတ် ပြု ပျော် ဝင် ၍ ရင် သား ကင် ဆာ နှင့် ကင် ဆာ အ မျိုး မျိုး ဟော် မုန်း အ ပြောင်း အ လဲ ဖြစ် ခြင်း နှင့် မျိုး ပွား မှု ကို ထိ ခိုက် ခြင်း တို့ ကို ဖြစ် စေ ပါ သည် ( သား သ မီး မ ရ သော စုံ တွဲ များ သ တိ ချပ် ကြ ပါ )                                                                                                                                                                                                                                                                                                                                                                                            \n",
       "1194  -Triple -positive ဆို တာ ဘာ လဲ ?                                                                                                                                                                                                                                                                                                                                                                                                                                                                                                                                                                                                                                                                                                                                                   \n",
       "355   အဲ့ တော့ ထိုး ပါ မ ကူး အောင် ကာ ကွယ် ပါ . .                                                                                                                                                                                                                                                                                                                                                                                                                                                                                                                                                                                                                                                                                                                                        \n",
       "738   ကျန် တော် india န ယူး ဒေ လီ မှာ ရှိ နေ တော့ Omicron ကူး ခံ ရ ပါ တယ်                                                                                                                                                                                                                                                                                                                                                                                                                                                                                                                                                                                                                                                                                                                \n",
       "624   Sputnik ကို ဘယ် ဆေး ခန်း တွေ မှာ Booking တင် စ ရာ မ လို ဘဲ ထိုး လဲ က လဲ ခင် ဗျ                                                                                                                                                                                                                                                                                                                                                                                                                                                                                                                                                                                                                                                                                                     \n",
       "\n",
       "                                                                                                                                                                                                       labels  \\\n",
       "426   0 1 1 1 1 1 0                                                                                                                                                                                             \n",
       "1706  1 1 1 1 1 1 1 1 1 1 0 0 1 0 1 1 1 1 1 1 0 1 0 1 1 0 1 1 1 1 1 1 1 1 1 1 0 1 1 1 1 0 0 1 0 1 1 1 1 1 1 0 1 0 1 0 1 0 1 0 1 0 0 0 0 1 1 1 1 1 1 1 1 0 1 0 1 1 0 1 0 1 1 0 0 1 1 1 1 1 0 0 1 1 1 1 1 1 1 0   \n",
       "217   0 1 1 1 1 1 1 0 0 0 1 1 1 0 1 1 1 1 0 1 1 0 1 1 1 1 1 0 0 1 1 1 1 1 1 1 1 1 0 1 0 1 0 1 1 1 1 0 1 0 1 0 1 1 1 0 1 1 1 1 1 1 0 1 1 1 1 1 0 1 0 1 1 0 1 0 0 1 1 1 0 0 1 1 1 1 1 0 1 1 1 0 1 0 0 1 1 1 0 0   \n",
       "38    0 1 0 1 1 1 0 1 0 1 1 1 1 1 1 0 1 1 1 1 0 1 1 1 0 1 1 1 1 1 1 1 1 1 1 1 1 0 1 1 1 0 0 1 1 1 0 0 1 1 1 1 0 1 0 1 1 1 1 1 1 1 1 1 1 1 1 1 1 0 1 1 1 1 1 0 1 1 1 1 0 0 1 1 0                                 \n",
       "650   1 1 1 1 0 1 1 1 1 0 1 1 1 1 0 0 1 1 1 0 1 1 1 0 0 1 1 1 1 1 1 1 1 1 1 1 1 0 0 1 1 1 1 1 1 1 1 0 1 1 1 1 1 1 1 1 1 1 1 1 1 1 1 1 1 1 1 0 1 0 0 1 1 0 1 0 1 1 1 1 1 0 1 1 1 1 1 1 1 1 1 1 1 0 0 1 1 1 1 0   \n",
       "585   0 1 1 1 0 1 1 0 1 1 1 1 1 1 1 1 1 1 1 1 0                                                                                                                                                                 \n",
       "1288  0 1 1 1 0 1 1 0 1 1 1 1 0 1 1 1 1 0 0 1 1 1 1 1 1 1 1 0 1 1 1 1 1 0 0 1 1 1 1 1 1 0 1 1 1 1 1 0 1 0 0 1 1 1 1 1 1 0 1 0 1 1 1 1 0 1 1 1 1 1 0 1 1 1 1 1 0 1 0 1 1 1 1 1 0 1 1 0 1 1 0 0 1 1 1 1 1 1 1 0   \n",
       "1027  1 1 1 0 1 0 1 1 1 1 1 1 0 1 0 1 1 1 1 1 0 1 0 1 0 1 1 1 0 1 1 1 1 1 1 1 1 1 1 1 0 1 1 0 1 1 1 0 1 1 1 0 1 1 1 1 0 1 0 1 0 0 1 1 0 1 1 0 0 1 0 0 1 1 1 1 1 1 1 1 0 0 0 1 0 1 0 0 0 1 0 1 1 1 1 1 1 1 1 0   \n",
       "1723  0 0 1 1 0 1 0 1 1 1 1 1 0                                                                                                                                                                                 \n",
       "1532  0 1 0 0 1 1 1 1 0 1 1 0 1 0 1 0 1 0 0 1 1 1 0 0 1 1 0 0 1 0 0 0 1 0 0 1 0 1 0 0 1 0 0 0 1 1 0 0 0 0 0 1 0 1 1 0 0 1 0 1 1 1 0 0 0 1 1 0 0 0 0 1 1 1 0 0 1 0 1 0 1 0 1 0 1 1 1 1 1 1 1 1 1 0 1 0 1 1 1 0   \n",
       "1193  0 1 0 1 1 0                                                                                                                                                                                               \n",
       "777   1 1 1 0 1 0 1 1 1 1 1 1 0 1 0 1 0 1 1 1 1 1 1 1 0 1 0 1 0 0 0 1 0 0 1 0 0 1 1 0 1 0 1 1 1 1 1 1 1 0                                                                                                       \n",
       "677   0 1 1 1 0 0 1 1 1 1 0 1 0 0 0 1 0 1 0 1 1 0 1 0 1 1 1 1 1 0                                                                                                                                               \n",
       "398   0 1 1 1 0 1 1 0 1 1 1 1 1 1 1 1 1 1 0 1 1 1 1 0 1 1 1 0 1 1 1 1 1 0 1 0                                                                                                                                   \n",
       "1517  0 0 1 0 0 1 1 0 1 0 1 1 0 1 1 1 0 0 1 1 1 0 0 1 1 1 0 0 1 1 0 0 0 1 0 0 1 0 0 1 1 1 0 1 1 1 1 0 1 1 1 1 1 0 1 1 0 1 1 1 1 1 1 1 0 1 1 1 1 0 0 0 0 1 1 1 0 1 0 1 1 0 1 1 1 1 0                             \n",
       "1512  1 1 1 1 0 0 0 1 1 0 1 1 0 0 0 1 1 0 0 1 1 1 0 0 0 1 1 0 0 1 1 1 1 1 0 1 1 1 1 0 0 0 1 1 1 0 1 0 1 1 0 1 0 1 1 0 1 0 0 1 0 1 0 0 0 1 1 1 1 0 0 1 1 0 1 1 1 1 0 1 1 1 1 1 0 1 1 1 1 0 1 1 0 0 1 1 1 0       \n",
       "1194  0 1 0 1 0 1 0                                                                                                                                                                                             \n",
       "355   1 1 1 1 1 1 1 0 1 1 1 0                                                                                                                                                                                   \n",
       "738   0 1 1 0 1 0 1 1 1 1 1 0 0 1 1 1 0                                                                                                                                                                         \n",
       "624   1 1 1 0 1 1 1 0 1 0 1 1 1 1 1 1 1 1 0 0                                                                                                                                                                   \n",
       "\n",
       "                                                                                                                                                                                                labels_update  \\\n",
       "426   0 1 1 1 1 1 1                                                                                                                                                                                             \n",
       "1706  1 1 1 1 1 1 1 1 1 1 0 0 1 0 1 1 1 1 1 1 0 1 0 1 1 0 1 1 1 1 1 1 1 1 1 1 0 1 1 1 1 0 0 1 0 1 1 1 1 1 1 0 1 0 1 0 1 0 1 0 1 1 0 0 0 1 1 1 1 1 1 1 1 0 1 0 1 1 0 1 0 1 1 0 0 1 1 1 1 1 0 0 1 1 1 1 1 1 1 0   \n",
       "217   0 1 1 1 1 1 1 0 0 1 1 1 1 0 1 1 1 1 0 1 1 0 1 1 1 1 1 0 0 1 1 1 1 1 1 1 1 1 0 1 0 1 0 1 1 1 1 0 1 0 1 0 1 1 1 0 1 1 1 1 1 1 0 1 1 1 1 1 0 1 0 1 1 0 1 0 0 1 1 1 0 0 1 1 1 1 1 0 1 1 1 0 1 0 0 1 1 1 0 0   \n",
       "38    0 1 0 1 1 1 0 1 0 1 1 1 1 1 1 0 1 1 1 1 0 1 1 1 1 1 1 1 1 1 1 1 1 1 1 1 1 0 1 1 1 0 0 1 1 1 0 0 1 1 1 1 0 1 0 1 1 1 1 1 1 1 1 1 1 1 1 1 1 0 1 1 1 1 1 0 1 1 1 1 0 0 1 1 0                                 \n",
       "650   1 1 1 1 1 1 1 1 1 0 1 1 1 1 0 0 1 1 1 0 1 1 1 0 1 1 1 1 1 1 1 1 1 1 1 1 1 0 0 1 1 1 1 1 1 1 1 0 1 1 1 1 1 1 1 1 1 1 1 1 1 1 1 1 1 1 1 0 1 0 0 1 1 1 1 0 1 1 1 1 1 0 1 1 1 1 1 1 1 1 1 1 1 0 1 1 1 1 1 0   \n",
       "585   0 1 1 1 0 1 1 0 1 1 1 1 1 1 1 1 1 1 1 1 1                                                                                                                                                                 \n",
       "1288  0 1 1 1 0 1 1 0 1 1 1 1 1 1 1 1 1 0 0 1 1 1 1 1 1 1 1 0 1 1 1 1 1 0 0 1 1 1 1 1 1 0 1 1 1 1 1 0 1 0 0 1 1 1 1 1 1 0 1 0 1 1 1 1 0 1 1 1 1 1 0 1 1 1 1 1 0 1 0 1 1 1 1 1 0 1 1 0 1 1 0 0 1 1 1 1 1 1 1 0   \n",
       "1027  1 1 1 0 1 0 1 1 1 1 1 1 0 1 0 1 1 1 1 1 0 1 0 1 0 1 1 1 0 1 1 1 1 1 1 1 1 1 1 1 0 1 1 0 1 1 1 0 1 1 1 0 1 1 1 1 0 1 0 1 0 0 1 1 0 1 1 0 0 1 0 0 1 1 1 1 1 1 1 1 1 0 0 1 0 1 0 0 0 1 0 1 1 1 1 1 1 1 1 0   \n",
       "1723  0 0 1 1 0 1 0 1 1 1 1 1 1                                                                                                                                                                                 \n",
       "1532  1 1 0 0 1 1 1 1 0 1 1 0 1 0 1 0 1 0 0 1 1 1 0 0 1 1 0 0 1 0 0 0 1 0 0 1 0 1 0 0 1 0 0 0 1 1 0 0 0 0 0 1 0 1 1 0 0 1 0 1 1 1 0 0 0 1 1 0 0 0 0 1 1 1 0 0 1 0 1 0 1 0 1 0 1 1 1 1 1 1 1 1 1 0 1 0 1 1 1 0   \n",
       "1193  0 1 0 1 1 1                                                                                                                                                                                               \n",
       "777   1 1 1 0 1 0 1 1 1 1 1 1 0 1 0 1 0 1 1 1 1 1 1 1 1 1 0 1 0 0 0 1 0 0 1 0 0 1 1 0 1 0 1 1 1 1 1 1 1 0                                                                                                       \n",
       "677   0 1 1 1 0 0 1 1 1 1 0 1 0 0 0 1 0 1 0 1 1 0 1 0 1 1 1 1 1 1                                                                                                                                               \n",
       "398   0 1 1 1 0 1 1 0 1 1 1 1 1 1 1 1 1 1 0 1 1 1 1 0 1 1 1 0 1 1 1 1 1 0 1 1                                                                                                                                   \n",
       "1517  1 0 1 0 0 1 1 0 1 0 1 1 0 1 1 1 0 0 1 1 1 0 0 1 1 1 0 0 1 1 0 0 0 1 0 0 1 0 0 1 1 1 0 1 1 1 1 0 1 1 1 1 1 0 1 1 0 1 1 1 1 1 1 1 0 1 1 1 1 0 0 0 0 1 1 1 0 1 0 1 1 0 1 1 1 1 0                             \n",
       "1512  1 1 1 1 0 0 0 1 1 0 1 1 0 0 0 1 1 0 0 1 1 1 0 0 0 1 1 0 0 1 1 1 1 1 0 1 1 1 1 0 0 0 1 1 1 0 1 0 1 1 0 1 0 1 1 0 1 0 0 1 0 1 0 0 0 1 1 1 1 0 0 1 1 0 1 1 1 1 0 1 1 1 1 1 0 1 1 1 1 0 1 1 0 0 1 1 1 1       \n",
       "1194  0 1 0 1 0 1 1                                                                                                                                                                                             \n",
       "355   1 1 1 1 1 1 1 0 1 1 1 1                                                                                                                                                                                   \n",
       "738   0 1 1 0 1 0 1 1 1 1 1 1 0 1 1 1 0                                                                                                                                                                         \n",
       "624   1 1 1 0 1 1 1 1 1 0 1 1 1 1 1 1 1 1 0 0                                                                                                                                                                   \n",
       "\n",
       "                                                                                                                                                                                                                                                                                                                                                                                                     test_msg  \\\n",
       "426   နေ့စဉ် တိုင်း ရ မှာ လား ?                                                                                                                                                                                                                                                                                                                                                                                 \n",
       "1706  ကင် ဆာ ပါ ရ ဂူ နဲ့ ပြန် ပြ ပေး လိုက် ညီမကင် ဆာဆေး သွင်း ရ ရင် သွင်း ပါ မကြောက် ဖို့ပြော ပါ အမ ဆို ကင် ဆာ ဖြစ် နေ တာ ကြာ ပြီ ကီ မိုဆေး သွင် ၃၆ ကျိမ် သွင်းရမှာ ခု၄ ကျိမ် ပဲ ကျံ တော့ တယ် ဓါတ်လဲ ကင်ရ တယ်အ မဆို ကင်ဆာ ၃မျိုးဖြစ်နေတာ ရင် သား ကင် ဆာ လယ် ပင်း ကင် ဆာအ ရိုးကင် ဆာ သမား တယောက် ထဲ ကိုယ့်ကိုရုန်း နေ တာ ညီ မ အမေကို အား ပေး ပြော ပြ ပါ သ မား                                                    \n",
       "217   ဆရာ ကျ နော့ အ ဖွား က အသက်၇၀ပါ ဆ ရာ အစား အ သောက် နဲ့ လူနေ မှု့ ဘ၀ ပြု ပြင် ပြောင်း လဲ လေ့ကျင့်ခြင်း အ တွက် ဆေး လွတ် ပြီး ဆီး ချို ပြောင်း ပြန်လှန် နေပါ ပြီ16/8 -14 ရက် 20/4 -63ရက် စစ ပ77 ရက် စား ပြီးပြောင်း ပြန် လှန် နိုင် တာ ပါ အခု 18/6 တောက် လျှောက် စား နေပါ တယ်ဝေ ဒ နာသည် တွေပျောက်စေ ချင် တဲ့ ဆန္ဒကြောင့်ပြော ပြ ပေ မဲ့ လက် မခံ ကြ ဘူး ဆရာ ဆီးချိုဆို တာ ပျောက် တဲ့ရော                           \n",
       "38    အကို အရက် နဲ့ ဆေး ဘယ်နှစ် နာရီ ခြား ပြီး သောက် လဲ // ကျွန်တော် လည်း ည ဆို အရက် သောက် တယ် //ဆေး တော့ မ သောက် ဖြစ် ဘူး မ တည့် မှာ စိုး လို့ // အရက် က လည်း ဆီးချိုကျ တယ် လို့ အချိုပြော နေ ကြ လို့ လေ// ဆီးချို ဖြစ် တာ မ ကြာ သေး တော့ မ သိ ဘူး ဖြစ် နေ တယ် // အကို သောက် တဲ့ နည်း လေး မျှဝေ ပေး ပါ // ကျေးဇူးတင် ပါ တယ်                                                                                    \n",
       "650   ယ ခင် Sputnik က ၂ကြိမ် ထိုး မှ ပြည့် စုံတာ ဗျ လက် ရှိ ထိုးပေးနေ တဲ့ ဆေး ခန်းရှိ ပါ တယ် ခုboosterအ နေ နဲ့ ထိုး ပေး နေ တဲ့ Sputnik က တော့ ၁ ကြိမ် တည်းနဲ့ပြည့် စုံ အောင် အ ဆင့် မြှင့် တင် ထုတ် လုပ်ထား တယ် လို့ သိ ရ ပါ တယ် ကို ဗစ် ဆေး တစ် ကြိမ် မှ ထိုး မ ထား တဲ့ သူ တောင် ခုအ သစ်ဝင်လာ တဲ့ Sputnik၁ ကြိမ်ထိုး ရုံ နဲ့ လုံ လောက် ပါတယ် တဲ့ ဆေး က တော့ အ တော် ပြင်း ပါ တယ် အ သက်၈၀ကျော် သူ သွေး ကျဲ ဆေး   \n",
       "585   အခု ကျ မ သမီး တော့ ..P+ ထပ် ဖြစ် တယ် .. မ ကူး အောင် နေ နေ ရ တယ် ..                                                                                                                                                                                                                                                                                                                                        \n",
       "1288  ညီမ တို့ အ မေလည်း သား အိမ်ကင် ဆာ အ ဆင့် ၄ပါ အ ခု လည်း ကုသနေ ဆဲ ပါ အောက် ပိုင်း တွေ ကိုက် ပြီး ခြေထောက် ရောင် လာ တဲ့ လက္ခာ တွေရှိပါ တယ် အဲ့ လို ဖြစ် လာ ရင်တော့ ဆ ရာ ၀န် က ခါးက နေဖောက်င်္ပြီးဆီး ပိုက် ထည့် ရ ပါ တယ် တခြား ရောဂါ လက္ခာ တွေ မ ရှိရင် တော့ အ ခု လက် ရှိရော ဂါေ ၀ သ နာ ကိုပဲ ဆက်ပြီး ကု သ လို့ ရ ပါတယ် တ ခြားရော ဂါ တွေရှိရင် တော့ ကု ထုံး က ထိ ရောက် အောင်                                  \n",
       "1027  သွေး ကြော တွင်း သို့ဆေး ထိုးခြင်း / သွေး ခ ဏ ခ ဏဖောက် ရခြင်း ဟာ သွေး ပြန် ကြော များကို ပျက်စီး စေပြီး တစ် ခါ တစ်ရံ တွင် အ မာ ရွတ် တစ် သျှူး များ ဖြစ် ပေါ် လာ နိုင်စေ ပါ တယ်သွေး ကြော ပျက် စီးခြင်း ဟာ သူ့ ဟာသူ ပြန် လည် ကောင်း မွန်လာ တာမျိုး ရှိသလို တစ် ခါတစ် ရံ မှာတစ်သက် လုံးမပျောက် တော့ တာ လည်း ဖြစ် နိုင် ပါ တယ် IVဆေးဝါး( သွေးကြော တွင်းသို့ထိုးသွင်း ရတဲ့ ဆေး ဝါး ) များ ကို မ ကြာ ခ            \n",
       "1723  အစာအိမ် ထဲ တိုက်ရိုက် ထည့်သွင်း တဲ့ ပိုက် ( G-tube )                                                                                                                                                                                                                                                                                                                                                      \n",
       "1532  *တား မြစ်အန္တရယ် ရှိ ဆိုး ဆေး များအ သုံး ပြုထား သောမျှစ် နီမျှစ် ဝါပုဇွန် ချဉ် နီ နီအဝါ ရောင် ဆိုးထားသော ငါးပုဏ္ဏားငါးမြွေ ထိုးရွှေငါး ကြက်သား အရောင်ဆိုး ထားသောငရုတ် သီး မှုံ့အရောင်တင်မှုံ့န နွှင်းမှုံ့ ပု ဇွန်ခြောက်လက် ဖက်လက် ဖက် ခြောက် ငပိပဲနီ လေး ပဲဝါလေးမက်မန်း သီး ဆီး ထုတ်ဒံပေါက် ဆိုးဆေး စသည် တို့သည် အသည်း ရော ဂါ များ အ စာ အိမ် ရော ဂါ များနှင့် အစာ အိမ် ကင် ဆာ                            \n",
       "1193  -HER2+ ဆိုတာ ဘာဲ ?                                                                                                                                                                                                                                                                                                                                                                                        \n",
       "777   Online က နေ နှစ်သိမ့် စကား တွေ ပြော တာ မျိုး .. ရောဂါ အကြောင်း ရှင်းပြ တာ မျိုး တွေ လို ချင် လား ..or. ကင်ဆာ ဝေဒနာရှင် အချင်းချင်း မိသားစု ဝင် အချင်း ဖေးမ အား ပေး တာ မျိုး လို ချင် လား                                                                                                                                                                                                                  \n",
       "677   စိတ်ပူ ပေး ပါ အသက်ရှု မ ဝ တဲ့ အတွက် နှလုံးရောဂါ အခံ လူကြီး တွေ အတွက် စိုးရိမ် ရ ပါ တယ် နော် ..                                                                                                                                                                                                                                                                                                            \n",
       "398   ကျွန်တော့် ရဲ့ ဘယ် မျက်လုံး က မျဉ်းကြောင်း တွေ ကို ကြည့် ရင် တွန့် နေ ကောက် နေ တယ် အလယ် မှာ လည်း နည်း နည်းဝါး နေ တယ် အဲ့ဒါ ဘာ ဖြစ် နိုင် ပါ သလဲ ?                                                                                                                                                                                                                                                         \n",
       "1517  *တံဆိပ် အမျိုးမျိုး ဖြင့် ကျောင်းမုန့် ဈေးတန်း တွင် ရောင်းချ နေ သည့် လေဖောင်းမုန့် များ ( အာလူးကြော် / ချောင်း ဘယာကြော် / ချောင်းကြက်သွန်ကြော် ငါးမုန့်ကြော် စနက်ခ်Snack များ ) စသည် တို့ သည် ကြော် ပြီးသား ဆီ များ ကို မ စွန်းပစ် ပဲ အကြိမ် ( ၅၀ ) ထက် မ နည်း ပြန်ကြော် နေ သည် ကို တောင်ဒဂုံစက်မှု ဇုံ ရှိ စက်ရုံ တရုံ တွင် စစ်ဆေး တွေ့ ရှိ ရ သည်                                                        \n",
       "1512  များ သည် ပူ သော အစားအစာ ဆီ ပါဝင် သော အစားအစာ နှင့် ရေခဲသေတ္တာ ထဲ တွင် အစားအစာ ကို ပလပ်စ တစ် နှင့် ထည့် ၍ သိုလှောင် ထား ပါ က အစားအသောက် ထဲ သို့ ဓါတ်ပြု ပျော်ဝင် ၍ ရင်သား ကင်ဆာ နှင့် ကင်ဆာ အမျိုးမျိုး ဟော်မုန်း အပြောင်းအလဲ ဖြစ် ခြင်း နှင့် မျိုးပွားမှု ကို ထိခိုက် ခြင်း တို့ ကို ဖြစ်စေ ပါ သည် ( သား သမီး မ ရ သော စုံတွဲ များ သတိချပ် ကြ ပါ )                                                        \n",
       "1194  -Triple-positive ဆိုတာ ဘာလဲ ?                                                                                                                                                                                                                                                                                                                                                                             \n",
       "355   အဲ့ တော့ ထိုး ပါ မ ကူး အောင် ကာကွယ် ပါ . .                                                                                                                                                                                                                                                                                                                                                                \n",
       "738   ကျန်တော် india နယူး ဒေလီ မှာ ရှိ နေ တော့ Omicronကူးခံ ရ ပါ တယ်                                                                                                                                                                                                                                                                                                                                            \n",
       "624   Sputnik ကို ဘယ် ဆေးခန်း တွေ မှာ Bookingတင် စရာ မ လို ဘဲ ထိုး လဲ က လဲ ခင်ဗျ                                                                                                                                                                                                                                                                                                                                \n",
       "\n",
       "                                                                                                                                                                                                                                                                                                                                                                                                    final_message  \n",
       "426   နေ့စဉ် တိုင်း ရ မှာ လား ?                                                                                                                                                                                                                                                                                                                                                                                    \n",
       "1706  ကင် ဆာ ပါ ရ ဂူ နဲ့ ပြန် ပြ ပေး လိုက် ညီမကင် ဆာဆေး သွင်း ရ ရင် သွင်း ပါ မကြောက် ဖို့ပြော ပါ အမ ဆို ကင် ဆာ ဖြစ် နေ တာ ကြာ ပြီ ကီ မိုဆေး သွင် ၃၆ ကျိမ် သွင်းရမှာ ခု၄ ကျိမ် ပဲ ကျံ တော့ တယ် ဓါတ်လဲ ကင်ရ တယ်အ မဆို ကင်ဆာ ၃ မျိုးဖြစ်နေတာ ရင် သား ကင် ဆာ လယ် ပင်း ကင် ဆာအ ရိုးကင် ဆာ သမား တယောက် ထဲ ကိုယ့်ကိုရုန်း နေ တာ ညီ မ အမေကို အား ပေး ပြော ပြ ပါ သ မား                                                      \n",
       "217   ဆရာ ကျ နော့ အ ဖွား က အသက်၇၀ ပါ ဆ ရာ အစား အ သောက် နဲ့ လူနေ မှု့ ဘ၀ ပြု ပြင် ပြောင်း လဲ လေ့ကျင့်ခြင်း အ တွက် ဆေး လွတ် ပြီး ဆီး ချို ပြောင်း ပြန်လှန် နေပါ ပြီ16/8 -14 ရက် 20/4 -63ရက် စစ ပ77 ရက် စား ပြီးပြောင်း ပြန် လှန် နိုင် တာ ပါ အခု 18/6 တောက် လျှောက် စား နေပါ တယ်ဝေ ဒ နာသည် တွေပျောက်စေ ချင် တဲ့ ဆန္ဒကြောင့်ပြော ပြ ပေ မဲ့ လက် မခံ ကြ ဘူး ဆရာ ဆီးချိုဆို တာ ပျောက် တဲ့ရော                             \n",
       "38    အကို အရက် နဲ့ ဆေး ဘယ်နှစ် နာရီ ခြား ပြီး သောက် လဲ // ကျွန်တော် လည်း ည ဆို အရက် သောက် တယ် // ဆေး တော့ မ သောက် ဖြစ် ဘူး မ တည့် မှာ စိုး လို့ // အရက် က လည်း ဆီးချိုကျ တယ် လို့ အချိုပြော နေ ကြ လို့ လေ// ဆီးချို ဖြစ် တာ မ ကြာ သေး တော့ မ သိ ဘူး ဖြစ် နေ တယ် // အကို သောက် တဲ့ နည်း လေး မျှဝေ ပေး ပါ // ကျေးဇူးတင် ပါ တယ်                                                                                      \n",
       "650   ယ ခင် Sputnik က ၂ ကြိမ် ထိုး မှ ပြည့် စုံတာ ဗျ လက် ရှိ ထိုးပေးနေ တဲ့ ဆေး ခန်းရှိ ပါ တယ် ခုbooster အ နေ နဲ့ ထိုး ပေး နေ တဲ့ Sputnik က တော့ ၁ ကြိမ် တည်းနဲ့ပြည့် စုံ အောင် အ ဆင့် မြှင့် တင် ထုတ် လုပ်ထား တယ် လို့ သိ ရ ပါ တယ် ကို ဗစ် ဆေး တစ် ကြိမ် မှ ထိုး မ ထား တဲ့ သူ တောင် ခုအ သစ်ဝင်လာ တဲ့ Sputnik ၁ ကြိမ်ထိုး ရုံ နဲ့ လုံ လောက် ပါတယ် တဲ့ ဆေး က တော့ အ တော် ပြင်း ပါ တယ် အ သက်၈၀ ကျော် သူ သွေး ကျဲ ဆေး  \n",
       "585   အခု ကျ မ သမီး တော့ ..P+ ထပ် ဖြစ် တယ် .. မ ကူး အောင် နေ နေ ရ တယ် ..                                                                                                                                                                                                                                                                                                                                           \n",
       "1288  ညီမ တို့ အ မေလည်း သား အိမ်ကင် ဆာ အ ဆင့် ၄ ပါ အ ခု လည်း ကုသနေ ဆဲ ပါ အောက် ပိုင်း တွေ ကိုက် ပြီး ခြေထောက် ရောင် လာ တဲ့ လက္ခာ တွေရှိပါ တယ် အဲ့ လို ဖြစ် လာ ရင်တော့ ဆ ရာ ၀န် က ခါးက နေဖောက်င်္ပြီးဆီး ပိုက် ထည့် ရ ပါ တယ် တခြား ရောဂါ လက္ခာ တွေ မ ရှိရင် တော့ အ ခု လက် ရှိရော ဂါေ ၀ သ နာ ကိုပဲ ဆက်ပြီး ကု သ လို့ ရ ပါတယ် တ ခြားရော ဂါ တွေရှိရင် တော့ ကု ထုံး က ထိ ရောက် အောင်                                    \n",
       "1027  သွေး ကြော တွင်း သို့ဆေး ထိုးခြင်း / သွေး ခ ဏ ခ ဏဖောက် ရခြင်း ဟာ သွေး ပြန် ကြော များကို ပျက်စီး စေပြီး တစ် ခါ တစ်ရံ တွင် အ မာ ရွတ် တစ် သျှူး များ ဖြစ် ပေါ် လာ နိုင်စေ ပါ တယ်သွေး ကြော ပျက် စီးခြင်း ဟာ သူ့ ဟာသူ ပြန် လည် ကောင်း မွန်လာ တာမျိုး ရှိသလို တစ် ခါတစ် ရံ မှာတစ်သက် လုံးမပျောက် တော့ တာ လည်း ဖြစ် နိုင် ပါ တယ် IV ဆေးဝါး( သွေးကြော တွင်းသို့ထိုးသွင်း ရတဲ့ ဆေး ဝါး ) များ ကို မ ကြာ ခ              \n",
       "1723  အစာအိမ် ထဲ တိုက်ရိုက် ထည့်သွင်း တဲ့ ပိုက် ( G-tube )                                                                                                                                                                                                                                                                                                                                                         \n",
       "1532  * တား မြစ်အန္တရယ် ရှိ ဆိုး ဆေး များအ သုံး ပြုထား သောမျှစ် နီမျှစ် ဝါပုဇွန် ချဉ် နီ နီအဝါ ရောင် ဆိုးထားသော ငါးပုဏ္ဏားငါးမြွေ ထိုးရွှေငါး ကြက်သား အရောင်ဆိုး ထားသောငရုတ် သီး မှုံ့အရောင်တင်မှုံ့န နွှင်းမှုံ့ ပု ဇွန်ခြောက်လက် ဖက်လက် ဖက် ခြောက် ငပိပဲနီ လေး ပဲဝါလေးမက်မန်း သီး ဆီး ထုတ်ဒံပေါက် ဆိုးဆေး စသည် တို့သည် အသည်း ရော ဂါ များ အ စာ အိမ် ရော ဂါ များနှင့် အစာ အိမ် ကင် ဆာ                              \n",
       "1193  -HER2+ ဆိုတာ ဘာဲ ?                                                                                                                                                                                                                                                                                                                                                                                           \n",
       "777   Online က နေ နှစ်သိမ့် စကား တွေ ပြော တာ မျိုး .. ရောဂါ အကြောင်း ရှင်းပြ တာ မျိုး တွေ လို ချင် လား .. or. ကင်ဆာ ဝေဒနာရှင် အချင်းချင်း မိသားစု ဝင် အချင်း ဖေးမ အား ပေး တာ မျိုး လို ချင် လား                                                                                                                                                                                                                    \n",
       "677   စိတ်ပူ ပေး ပါ အသက်ရှု မ ဝ တဲ့ အတွက် နှလုံးရောဂါ အခံ လူကြီး တွေ အတွက် စိုးရိမ် ရ ပါ တယ် နော် ..                                                                                                                                                                                                                                                                                                               \n",
       "398   ကျွန်တော့် ရဲ့ ဘယ် မျက်လုံး က မျဉ်းကြောင်း တွေ ကို ကြည့် ရင် တွန့် နေ ကောက် နေ တယ် အလယ် မှာ လည်း နည်း နည်းဝါး နေ တယ် အဲ့ဒါ ဘာ ဖြစ် နိုင် ပါ သလဲ ?                                                                                                                                                                                                                                                            \n",
       "1517  * တံဆိပ် အမျိုးမျိုး ဖြင့် ကျောင်းမုန့် ဈေးတန်း တွင် ရောင်းချ နေ သည့် လေဖောင်းမုန့် များ ( အာလူးကြော် / ချောင်း ဘယာကြော် / ချောင်းကြက်သွန်ကြော် ငါးမုန့်ကြော် စနက်ခ်Snack များ ) စသည် တို့ သည် ကြော် ပြီးသား ဆီ များ ကို မ စွန်းပစ် ပဲ အကြိမ် ( ၅၀ ) ထက် မ နည်း ပြန်ကြော် နေ သည် ကို တောင်ဒဂုံစက်မှု ဇုံ ရှိ စက်ရုံ တရုံ တွင် စစ်ဆေး တွေ့ ရှိ ရ သည်                                                          \n",
       "1512  များ သည် ပူ သော အစားအစာ ဆီ ပါဝင် သော အစားအစာ နှင့် ရေခဲသေတ္တာ ထဲ တွင် အစားအစာ ကို ပလပ်စ တစ် နှင့် ထည့် ၍ သိုလှောင် ထား ပါ က အစားအသောက် ထဲ သို့ ဓါတ်ပြု ပျော်ဝင် ၍ ရင်သား ကင်ဆာ နှင့် ကင်ဆာ အမျိုးမျိုး ဟော်မုန်း အပြောင်းအလဲ ဖြစ် ခြင်း နှင့် မျိုးပွားမှု ကို ထိခိုက် ခြင်း တို့ ကို ဖြစ်စေ ပါ သည် ( သား သမီး မ ရ သော စုံတွဲ များ သတိချပ် ကြ ပါ )                                                           \n",
       "1194  -Triple-positive ဆိုတာ ဘာလဲ ?                                                                                                                                                                                                                                                                                                                                                                                \n",
       "355   အဲ့ တော့ ထိုး ပါ မ ကူး အောင် ကာကွယ် ပါ . .                                                                                                                                                                                                                                                                                                                                                                   \n",
       "738   ကျန်တော် india နယူး ဒေလီ မှာ ရှိ နေ တော့ Omicron ကူးခံ ရ ပါ တယ်                                                                                                                                                                                                                                                                                                                                              \n",
       "624   Sputnik ကို ဘယ် ဆေးခန်း တွေ မှာ Booking တင် စရာ မ လို ဘဲ ထိုး လဲ က လဲ ခင်ဗျ                                                                                                                                                                                                                                                                                                                                  "
      ]
     },
     "execution_count": 5,
     "metadata": {},
     "output_type": "execute_result"
    }
   ],
   "source": [
    "wb_sent[wb_sent.labels != wb_sent.labels_update].sample(20)"
   ]
  },
  {
   "cell_type": "code",
   "execution_count": 7,
   "metadata": {
    "ExecuteTime": {
     "end_time": "2022-02-28T04:01:15.153987Z",
     "start_time": "2022-02-28T04:01:15.147833Z"
    }
   },
   "outputs": [
    {
     "data": {
      "text/plain": [
       "True"
      ]
     },
     "execution_count": 7,
     "metadata": {},
     "output_type": "execute_result"
    }
   ],
   "source": [
    "wb_sent.loc[1627].test_msg == wb_sent.loc[1627].final_message"
   ]
  },
  {
   "cell_type": "code",
   "execution_count": 13,
   "metadata": {
    "ExecuteTime": {
     "end_time": "2022-02-28T03:38:35.448037Z",
     "start_time": "2022-02-28T03:38:35.441692Z"
    }
   },
   "outputs": [
    {
     "data": {
      "text/plain": [
       "16"
      ]
     },
     "execution_count": 13,
     "metadata": {},
     "output_type": "execute_result"
    }
   ],
   "source": [
    "len(df_test.loc[25].labels.split())"
   ]
  },
  {
   "cell_type": "code",
   "execution_count": 10,
   "metadata": {
    "ExecuteTime": {
     "end_time": "2022-02-28T03:36:33.446520Z",
     "start_time": "2022-02-28T03:36:33.430042Z"
    }
   },
   "outputs": [
    {
     "data": {
      "text/html": [
       "<div>\n",
       "<style scoped>\n",
       "    .dataframe tbody tr th:only-of-type {\n",
       "        vertical-align: middle;\n",
       "    }\n",
       "\n",
       "    .dataframe tbody tr th {\n",
       "        vertical-align: top;\n",
       "    }\n",
       "\n",
       "    .dataframe thead th {\n",
       "        text-align: right;\n",
       "    }\n",
       "</style>\n",
       "<table border=\"1\" class=\"dataframe\">\n",
       "  <thead>\n",
       "    <tr style=\"text-align: right;\">\n",
       "      <th></th>\n",
       "      <th>msg</th>\n",
       "      <th>labels</th>\n",
       "      <th>labels_update</th>\n",
       "    </tr>\n",
       "  </thead>\n",
       "  <tbody>\n",
       "    <tr>\n",
       "      <th>0</th>\n",
       "      <td>အ ခု က .. ဆီး ချို fasting 105 ပါ အ သက် ၂၁ ပါ // အဲ တာ .. ၁၀၀ အောက် ကို .. ၆ လ လောက် ထိ နိး နို ငိ သွား ရင် ဆီး ချို ပျောက် သွား ပီ လို့ သတ် မှတ် လို့ ရ သ လား ရှင် // င ယိ သေး တော့ .. ပျောက် ချင် လို့ ပါ</td>\n",
       "      <td>0 1 1 1 0 1 1 1 1 0 1 1 1 1 0 1 1 1 1 1 1 1 1 1 1 0 0 1 1 1 0 1 1 1 1 1 0 1 1 1 0 1 0 1 0 1 1 1 0 1 1 1 0</td>\n",
       "      <td>0 1 1 1 0 1 1 1 1 0 1 1 1 1 0 1 1 1 1 1 1 1 1 1 1 0 0 1 1 1 0 1 1 1 1 1 0 1 1 1 0 1 0 1 0 1 1 1 1 1 1 1 0</td>\n",
       "    </tr>\n",
       "    <tr>\n",
       "      <th>11</th>\n",
       "      <td>၁၂၀ ကျော် မှ ဆီး ချို ရှိ တယ် လို့ ခေါ် တာ ပါ // ၁၀၅ က ဆီး ချို မ ရှိ ပါ ဘူး</td>\n",
       "      <td>1 1 1 0 1 1 1 1 1 1 1 0 1 1 0 1 1 1 1 0</td>\n",
       "      <td>1 1 1 0 1 1 1 1 1 1 1 1 1 1 0 1 1 1 1 0</td>\n",
       "    </tr>\n",
       "    <tr>\n",
       "      <th>13</th>\n",
       "      <td>နု သေး ရင် ပျောက် တယ် // ဦး လေး တော့ အ ခု ထိ မ ပေါ် တော့ ဘူး ပြော တယ်</td>\n",
       "      <td>1 1 1 1 1 0 1 1 1 0 1 1 1 1 1 1 1 0</td>\n",
       "      <td>1 1 1 1 1 1 1 1 1 0 1 1 1 1 1 1 1 0</td>\n",
       "    </tr>\n",
       "    <tr>\n",
       "      <th>25</th>\n",
       "      <td>သ မီး က .. ၁၀၅ ပဲ ရှိ တာ ကို . နည်း န ညိး ယား နေ တာ</td>\n",
       "      <td>0 1 1 0 1 1 1 1 1 1 0 1 0 1 1 0</td>\n",
       "      <td>0 1 1 1 1 1 1 1 1 1 0 1 0 1 1 0</td>\n",
       "    </tr>\n",
       "    <tr>\n",
       "      <th>27</th>\n",
       "      <td>ပျောက် သွား မယ် အား တင်း ထား ပါ ခ လေး ရယ် // လမ်း များ များ လျောက် ပေး နော်</td>\n",
       "      <td>1 1 1 0 1 1 0 0 1 1 0 1 0 1 1 1 0</td>\n",
       "      <td>1 1 1 0 1 1 0 0 1 1 1 1 0 1 1 1 0</td>\n",
       "    </tr>\n",
       "    <tr>\n",
       "      <th>...</th>\n",
       "      <td>...</td>\n",
       "      <td>...</td>\n",
       "      <td>...</td>\n",
       "    </tr>\n",
       "    <tr>\n",
       "      <th>1733</th>\n",
       "      <td>ခါး နာ ရ ခြင်း အ ကြောင်း အ ရင်း တွေ အ များ ကြီး ရှိ ပါ တယ် ကြွက် သား ဒဏ် ပိ ခြင်း အ ကြော ညပ် ခြင်း ခန္ဓာ ကိုယ် အ နေ အ ထား မ မှန် ဘဲ အ ချိန် ကြာ ကြာ နေ မိ ခြင်း အ ဆစ် ရောင် ရော ဂါ ( Arthritis ) အ ရိုး ပွ ရော ဂါ ( Osteoporosis ) ခါး ရိုး မှာ ဖြစ် တဲ့ ကျီး ပေါင်း ( Spondylolisthesis ) ကျောက် ကပ် ရော ဂါ ကျောက် ကပ် မှာ ကျောက် တည် နေ ခြင်း ကင် ဆာ မ ဟုတ် တဲ့ အ ကျိတ် တစ် မျိုး မျိုး ဖြစ် နေ ခြင်း နှင့် အ ဆိုး ဆုံး က တော့ ခါး ရိုး မှာ ကင် ဆာ အ ကျိတ် ရှိ နေ ခြင်း စ တဲ့ ကျန်း မာ ရေး ပြ ဿ နာ တွေ ကြောင့်း ခါး နာ နိုင် ပါ တယ် ကင် ဆာ ဖြစ် ဖူး တဲ့ သူ တစ် ယောက် ဟာ ပုံ မှန် မ ဟုတ် တဲ့ လက္ခ ဏာ တစ် ခု ခု ခံ စား ရ ပြီ ဆို တာ နဲ့ ဆ ရာ ဝန် နဲ့ အ မြန် ဆုံး စမ်း သပ် စစ် ဆေး မှု ခံ ယူ ဖို့ လို အပ် ပါ တယ် ခင် ဗျာ</td>\n",
       "      <td>0 1 0 1 1 0 1 1 1 0 1 1 1 1 0 1 1 1 1 1 1 1 1 0 0 1 1 1 0 1 1 0 1 0 1 1 1 1 0 1 0 0 1 0 0 1 1 0 0 1 1 1 1 0 1 1 1 1 1 1 1 1 0 1 1 1 1 0 1 1 1 1 0 1 1 1 0 1 1 0 0 1 1 0 0 1 0 1 0 0 1 0 1 1 0 1 1 1 0 0</td>\n",
       "      <td>0 1 0 1 1 0 1 1 1 0 1 1 1 1 0 1 1 1 1 1 1 1 1 0 0 1 1 1 0 1 1 0 1 0 1 1 1 1 0 1 0 0 1 0 0 1 1 1 0 1 1 1 1 1 1 1 1 1 1 1 1 1 0 1 1 1 1 0 1 1 1 1 0 1 1 1 0 1 1 0 0 1 1 0 0 1 0 1 0 0 1 0 1 1 0 1 1 1 0 0</td>\n",
       "    </tr>\n",
       "    <tr>\n",
       "      <th>1741</th>\n",
       "      <td>ဘ ဝ တူ ပဲ အ မေ က အ စာ အိမ် ကင် ဆာ ၃ နဲ့ ၄ ခြား အ သက် ၆၁</td>\n",
       "      <td>0 0 1 1 0 1 1 0 0 0 0 1 1 1 1 1 0 0 0</td>\n",
       "      <td>0 0 1 1 0 1 1 0 0 0 0 1 1 1 1 1 0 0 1</td>\n",
       "    </tr>\n",
       "    <tr>\n",
       "      <th>1776</th>\n",
       "      <td>ကြာ သ ပ တေး တစ် ရက် ပိတ် ပြီး ကျန် ရက် တွေ ဖွင့် ပါ သည် .</td>\n",
       "      <td>1 0 0 1 1 1 1 1 0 1 1 1 1 1 0</td>\n",
       "      <td>1 0 0 1 1 1 1 1 0 1 1 1 1 1 1</td>\n",
       "    </tr>\n",
       "    <tr>\n",
       "      <th>1778</th>\n",
       "      <td>၁၀ လ ပိုင်း တုန်း က အ သား စ အ ဖြေ မှာ တော့ သိုင်း ရွိုက် ဂ လင်း ရဲ့ ညာ ဘက် ပိုင်း မှာ ကင် ဆာ တွေ့ တယ် လို့ ပြော ထား ပါ တယ် ၁၂ လ ပိုင်း သိုင်း ရွိုက် ဂ လင်း ဘယ် ဘက် ပိုင်း ကို စစ် ဆေး ထား တဲ့ အ သား စ အ ဖြေ မှာ တော့ ကင် ဆာ မ တွေ့ ဘူး လို့ ပြော ထား ပါ တယ် Hashimoto s thyroiditis လို့ ခေါ် တဲ့ သိုင်း ရွိုက် ဂ လင်း ရောင် ရမ်း ခြင်း တော့ ရှိ နေ ပါ တယ် သိုင်း ရွိုက် ဂ လင်း ဆို တာ က အ ရေး ပါ တဲ့ ဟော် မုန်း ဂ လင်း တစ် ခု ပါ လည် ပင်း ရဲ့ အ ရှေ့ ပိုင်း အ သံ အိုး အောက် ဘက် မှာ ရှိ ပြီး လိပ် ပြာ ပုံ စံ ရှိ တဲ့ ဂ လင်း တစ် ခု ပါ ဒီ သိုင်း ရွိုက် ဂ လင်း က ခန္ဓါ ကိုယ် ရဲ့ လုပ် ငန်း ဆောင် တာ တော် တော် များ များ ကောင်း ကောင်း လည် ပတ် နိုင် အောင် လုပ် ဆောင် ပေး နေ တာ ပါ</td>\n",
       "      <td>0 1 1 1 1 1 1 1 1 1 1 1 1 1 1 1 0 1 0 1 0 1 1 1 1 1 1 1 0 1 0 1 0 1 1 0 0 1 1 0 1 0 1 1 1 1 0 1 1 0 0 1 0 0 1 1 1 1 1 1 0 1 0 1 1 1 0 1 1 1 1 1 0 1 0 1 1 1 1 1 0 1 1 1 0 1 0 1 0 1 0 1 1 1 0 1 1 1 1 0</td>\n",
       "      <td>1 1 1 1 1 1 1 1 1 1 1 1 1 1 1 1 0 1 0 1 0 1 1 1 1 1 1 1 0 1 1 1 0 1 1 0 0 1 1 0 1 0 1 1 1 1 0 1 1 0 0 1 0 0 1 1 1 1 1 1 0 1 1 1 1 1 0 1 1 1 1 1 0 1 0 1 1 1 1 1 0 1 1 1 0 1 0 1 0 1 0 1 1 1 0 1 1 1 1 0</td>\n",
       "    </tr>\n",
       "    <tr>\n",
       "      <th>1779</th>\n",
       "      <td>ဆ ရာ . အ မေ က ရင် သား ကင် ဆာ ဖြစ် လို့ တစ် ခု လုံး ခွဲ ထုတ် ထား ပါ တယ် . ခွဲ ထာ တာ က လဲ ၁ လ ပြည့် ခါ နီး ပါ ပြီ ဆ ရာ . အ ခု ထိ ချုပ် ထား တဲ့ အ နာ က တော့ ကောင်း ပါ တယ် .. ဒါ ပေ မဲ့ ရင် သား က မ ချပ် သေး ပဲ ရောင် သ လို မျိုး ဖောင်း ကာ နေ လို့ ပါ ဆ ရာ .. ခွဲ ပေး ထား တဲ့ ဆ ရာ ဝန် နဲ့ ပြ ဖို့ က လဲ အ ဆင် မ ပြေ သေး ဘူး .. ရွာ ပြန် ရောက် နေ လို့ ပါ ဆ ရာ .. စိုး ရိမ် လို့ ပါ ဆ ရာ အ နာ မ ရောင် ခင် တုန်း က တော့ ရေ နွေး အိပ် ကပ် ပေး ခဲ့ ဘူး ပါ တယ် ဆ ရာ .. ဆေး သွင်း ရက် လဲ နီး လာ လို့ ပါ ဆ ရာ .</td>\n",
       "      <td>1 0 1 1 1 0 1 1 1 1 1 1 1 1 0 1 0 1 1 1 1 1 1 1 0 1 0 1 1 1 1 1 0 1 0 1 1 1 1 0 0 1 1 1 1 1 1 0 1 1 1 1 1 0 1 1 1 1 1 1 0 0 1 0 1 1 1 0 1 0 1 1 1 1 1 1 1 0 1 0 1 1 1 1 1 1 0 0 1 0 1 1 1 1 1 1 1 0 1 0</td>\n",
       "      <td>1 0 1 1 1 0 1 1 1 1 1 1 1 1 0 1 0 1 1 1 1 1 1 1 0 1 1 1 1 1 1 1 0 1 0 1 1 1 1 0 0 1 1 1 1 1 1 0 1 1 1 1 1 0 1 1 1 1 1 1 0 0 1 0 1 1 1 0 1 0 1 1 1 1 1 1 1 0 1 0 1 1 1 1 1 1 0 0 1 0 1 1 1 1 1 1 1 0 1 1</td>\n",
       "    </tr>\n",
       "  </tbody>\n",
       "</table>\n",
       "<p>359 rows × 3 columns</p>\n",
       "</div>"
      ],
      "text/plain": [
       "                                                                                                                                                                                                                                                                                                                                                                                                                                                                                                                                                                                                                                                                                                                          msg  \\\n",
       "0     အ ခု က .. ဆီး ချို fasting 105 ပါ အ သက် ၂၁ ပါ // အဲ တာ .. ၁၀၀ အောက် ကို .. ၆ လ လောက် ထိ နိး နို ငိ သွား ရင် ဆီး ချို ပျောက် သွား ပီ လို့ သတ် မှတ် လို့ ရ သ လား ရှင် // င ယိ သေး တော့ .. ပျောက် ချင် လို့ ပါ                                                                                                                                                                                                                                                                                                                                                                                                                                                                                                               \n",
       "11    ၁၂၀ ကျော် မှ ဆီး ချို ရှိ တယ် လို့ ခေါ် တာ ပါ // ၁၀၅ က ဆီး ချို မ ရှိ ပါ ဘူး                                                                                                                                                                                                                                                                                                                                                                                                                                                                                                                                                                                                                                              \n",
       "13    နု သေး ရင် ပျောက် တယ် // ဦး လေး တော့ အ ခု ထိ မ ပေါ် တော့ ဘူး ပြော တယ်                                                                                                                                                                                                                                                                                                                                                                                                                                                                                                                                                                                                                                                     \n",
       "25    သ မီး က .. ၁၀၅ ပဲ ရှိ တာ ကို . နည်း န ညိး ယား နေ တာ                                                                                                                                                                                                                                                                                                                                                                                                                                                                                                                                                                                                                                                                       \n",
       "27    ပျောက် သွား မယ် အား တင်း ထား ပါ ခ လေး ရယ် // လမ်း များ များ လျောက် ပေး နော်                                                                                                                                                                                                                                                                                                                                                                                                                                                                                                                                                                                                                                               \n",
       "...                                                                           ...                                                                                                                                                                                                                                                                                                                                                                                                                                                                                                                                                                                                                                               \n",
       "1733  ခါး နာ ရ ခြင်း အ ကြောင်း အ ရင်း တွေ အ များ ကြီး ရှိ ပါ တယ် ကြွက် သား ဒဏ် ပိ ခြင်း အ ကြော ညပ် ခြင်း ခန္ဓာ ကိုယ် အ နေ အ ထား မ မှန် ဘဲ အ ချိန် ကြာ ကြာ နေ မိ ခြင်း အ ဆစ် ရောင် ရော ဂါ ( Arthritis ) အ ရိုး ပွ ရော ဂါ ( Osteoporosis ) ခါး ရိုး မှာ ဖြစ် တဲ့ ကျီး ပေါင်း ( Spondylolisthesis ) ကျောက် ကပ် ရော ဂါ ကျောက် ကပ် မှာ ကျောက် တည် နေ ခြင်း ကင် ဆာ မ ဟုတ် တဲ့ အ ကျိတ် တစ် မျိုး မျိုး ဖြစ် နေ ခြင်း နှင့် အ ဆိုး ဆုံး က တော့ ခါး ရိုး မှာ ကင် ဆာ အ ကျိတ် ရှိ နေ ခြင်း စ တဲ့ ကျန်း မာ ရေး ပြ ဿ နာ တွေ ကြောင့်း ခါး နာ နိုင် ပါ တယ် ကင် ဆာ ဖြစ် ဖူး တဲ့ သူ တစ် ယောက် ဟာ ပုံ မှန် မ ဟုတ် တဲ့ လက္ခ ဏာ တစ် ခု ခု ခံ စား ရ ပြီ ဆို တာ နဲ့ ဆ ရာ ဝန် နဲ့ အ မြန် ဆုံး စမ်း သပ် စစ် ဆေး မှု ခံ ယူ ဖို့ လို အပ် ပါ တယ် ခင် ဗျာ   \n",
       "1741  ဘ ဝ တူ ပဲ အ မေ က အ စာ အိမ် ကင် ဆာ ၃ နဲ့ ၄ ခြား အ သက် ၆၁                                                                                                                                                                                                                                                                                                                                                                                                                                                                                                                                                                                                                                                                   \n",
       "1776  ကြာ သ ပ တေး တစ် ရက် ပိတ် ပြီး ကျန် ရက် တွေ ဖွင့် ပါ သည် .                                                                                                                                                                                                                                                                                                                                                                                                                                                                                                                                                                                                                                                                 \n",
       "1778  ၁၀ လ ပိုင်း တုန်း က အ သား စ အ ဖြေ မှာ တော့ သိုင်း ရွိုက် ဂ လင်း ရဲ့ ညာ ဘက် ပိုင်း မှာ ကင် ဆာ တွေ့ တယ် လို့ ပြော ထား ပါ တယ် ၁၂ လ ပိုင်း သိုင်း ရွိုက် ဂ လင်း ဘယ် ဘက် ပိုင်း ကို စစ် ဆေး ထား တဲ့ အ သား စ အ ဖြေ မှာ တော့ ကင် ဆာ မ တွေ့ ဘူး လို့ ပြော ထား ပါ တယ် Hashimoto s thyroiditis လို့ ခေါ် တဲ့ သိုင်း ရွိုက် ဂ လင်း ရောင် ရမ်း ခြင်း တော့ ရှိ နေ ပါ တယ် သိုင်း ရွိုက် ဂ လင်း ဆို တာ က အ ရေး ပါ တဲ့ ဟော် မုန်း ဂ လင်း တစ် ခု ပါ လည် ပင်း ရဲ့ အ ရှေ့ ပိုင်း အ သံ အိုး အောက် ဘက် မှာ ရှိ ပြီး လိပ် ပြာ ပုံ စံ ရှိ တဲ့ ဂ လင်း တစ် ခု ပါ ဒီ သိုင်း ရွိုက် ဂ လင်း က ခန္ဓါ ကိုယ် ရဲ့ လုပ် ငန်း ဆောင် တာ တော် တော် များ များ ကောင်း ကောင်း လည် ပတ် နိုင် အောင် လုပ် ဆောင် ပေး နေ တာ ပါ                                        \n",
       "1779  ဆ ရာ . အ မေ က ရင် သား ကင် ဆာ ဖြစ် လို့ တစ် ခု လုံး ခွဲ ထုတ် ထား ပါ တယ် . ခွဲ ထာ တာ က လဲ ၁ လ ပြည့် ခါ နီး ပါ ပြီ ဆ ရာ . အ ခု ထိ ချုပ် ထား တဲ့ အ နာ က တော့ ကောင်း ပါ တယ် .. ဒါ ပေ မဲ့ ရင် သား က မ ချပ် သေး ပဲ ရောင် သ လို မျိုး ဖောင်း ကာ နေ လို့ ပါ ဆ ရာ .. ခွဲ ပေး ထား တဲ့ ဆ ရာ ဝန် နဲ့ ပြ ဖို့ က လဲ အ ဆင် မ ပြေ သေး ဘူး .. ရွာ ပြန် ရောက် နေ လို့ ပါ ဆ ရာ .. စိုး ရိမ် လို့ ပါ ဆ ရာ အ နာ မ ရောင် ခင် တုန်း က တော့ ရေ နွေး အိပ် ကပ် ပေး ခဲ့ ဘူး ပါ တယ် ဆ ရာ .. ဆေး သွင်း ရက် လဲ နီး လာ လို့ ပါ ဆ ရာ .                                                                                                                                                                                                                     \n",
       "\n",
       "                                                                                                                                                                                                       labels  \\\n",
       "0     0 1 1 1 0 1 1 1 1 0 1 1 1 1 0 1 1 1 1 1 1 1 1 1 1 0 0 1 1 1 0 1 1 1 1 1 0 1 1 1 0 1 0 1 0 1 1 1 0 1 1 1 0                                                                                                 \n",
       "11    1 1 1 0 1 1 1 1 1 1 1 0 1 1 0 1 1 1 1 0                                                                                                                                                                   \n",
       "13    1 1 1 1 1 0 1 1 1 0 1 1 1 1 1 1 1 0                                                                                                                                                                       \n",
       "25    0 1 1 0 1 1 1 1 1 1 0 1 0 1 1 0                                                                                                                                                                           \n",
       "27    1 1 1 0 1 1 0 0 1 1 0 1 0 1 1 1 0                                                                                                                                                                         \n",
       "...                                 ...                                                                                                                                                                         \n",
       "1733  0 1 0 1 1 0 1 1 1 0 1 1 1 1 0 1 1 1 1 1 1 1 1 0 0 1 1 1 0 1 1 0 1 0 1 1 1 1 0 1 0 0 1 0 0 1 1 0 0 1 1 1 1 0 1 1 1 1 1 1 1 1 0 1 1 1 1 0 1 1 1 1 0 1 1 1 0 1 1 0 0 1 1 0 0 1 0 1 0 0 1 0 1 1 0 1 1 1 0 0   \n",
       "1741  0 0 1 1 0 1 1 0 0 0 0 1 1 1 1 1 0 0 0                                                                                                                                                                     \n",
       "1776  1 0 0 1 1 1 1 1 0 1 1 1 1 1 0                                                                                                                                                                             \n",
       "1778  0 1 1 1 1 1 1 1 1 1 1 1 1 1 1 1 0 1 0 1 0 1 1 1 1 1 1 1 0 1 0 1 0 1 1 0 0 1 1 0 1 0 1 1 1 1 0 1 1 0 0 1 0 0 1 1 1 1 1 1 0 1 0 1 1 1 0 1 1 1 1 1 0 1 0 1 1 1 1 1 0 1 1 1 0 1 0 1 0 1 0 1 1 1 0 1 1 1 1 0   \n",
       "1779  1 0 1 1 1 0 1 1 1 1 1 1 1 1 0 1 0 1 1 1 1 1 1 1 0 1 0 1 1 1 1 1 0 1 0 1 1 1 1 0 0 1 1 1 1 1 1 0 1 1 1 1 1 0 1 1 1 1 1 1 0 0 1 0 1 1 1 0 1 0 1 1 1 1 1 1 1 0 1 0 1 1 1 1 1 1 0 0 1 0 1 1 1 1 1 1 1 0 1 0   \n",
       "\n",
       "                                                                                                                                                                                                labels_update  \n",
       "0     0 1 1 1 0 1 1 1 1 0 1 1 1 1 0 1 1 1 1 1 1 1 1 1 1 0 0 1 1 1 0 1 1 1 1 1 0 1 1 1 0 1 0 1 0 1 1 1 1 1 1 1 0                                                                                                \n",
       "11    1 1 1 0 1 1 1 1 1 1 1 1 1 1 0 1 1 1 1 0                                                                                                                                                                  \n",
       "13    1 1 1 1 1 1 1 1 1 0 1 1 1 1 1 1 1 0                                                                                                                                                                      \n",
       "25    0 1 1 1 1 1 1 1 1 1 0 1 0 1 1 0                                                                                                                                                                          \n",
       "27    1 1 1 0 1 1 0 0 1 1 1 1 0 1 1 1 0                                                                                                                                                                        \n",
       "...                                 ...                                                                                                                                                                        \n",
       "1733  0 1 0 1 1 0 1 1 1 0 1 1 1 1 0 1 1 1 1 1 1 1 1 0 0 1 1 1 0 1 1 0 1 0 1 1 1 1 0 1 0 0 1 0 0 1 1 1 0 1 1 1 1 1 1 1 1 1 1 1 1 1 0 1 1 1 1 0 1 1 1 1 0 1 1 1 0 1 1 0 0 1 1 0 0 1 0 1 0 0 1 0 1 1 0 1 1 1 0 0  \n",
       "1741  0 0 1 1 0 1 1 0 0 0 0 1 1 1 1 1 0 0 1                                                                                                                                                                    \n",
       "1776  1 0 0 1 1 1 1 1 0 1 1 1 1 1 1                                                                                                                                                                            \n",
       "1778  1 1 1 1 1 1 1 1 1 1 1 1 1 1 1 1 0 1 0 1 0 1 1 1 1 1 1 1 0 1 1 1 0 1 1 0 0 1 1 0 1 0 1 1 1 1 0 1 1 0 0 1 0 0 1 1 1 1 1 1 0 1 1 1 1 1 0 1 1 1 1 1 0 1 0 1 1 1 1 1 0 1 1 1 0 1 0 1 0 1 0 1 1 1 0 1 1 1 1 0  \n",
       "1779  1 0 1 1 1 0 1 1 1 1 1 1 1 1 0 1 0 1 1 1 1 1 1 1 0 1 1 1 1 1 1 1 0 1 0 1 1 1 1 0 0 1 1 1 1 1 1 0 1 1 1 1 1 0 1 1 1 1 1 1 0 0 1 0 1 1 1 0 1 0 1 1 1 1 1 1 1 0 1 0 1 1 1 1 1 1 0 0 1 0 1 1 1 1 1 1 1 0 1 1  \n",
       "\n",
       "[359 rows x 3 columns]"
      ]
     },
     "execution_count": 10,
     "metadata": {},
     "output_type": "execute_result"
    }
   ],
   "source": [
    "df_test[df_test.labels != df_test.labels_update]"
   ]
  },
  {
   "cell_type": "code",
   "execution_count": 5,
   "metadata": {
    "ExecuteTime": {
     "end_time": "2022-02-28T03:34:09.189492Z",
     "start_time": "2022-02-28T03:34:09.173655Z"
    }
   },
   "outputs": [
    {
     "data": {
      "text/plain": [
       "['အ ခု က .. ဆီး ချို fasting 105 ပါ အ သက် ၂၁ ပါ // အဲ တာ .. ၁၀၀ အောက် ကို .. ၆ လ လောက် ထိ နိး နို ငိ သွား ရင် ဆီး ချို ပျောက် သွား ပီ လို့ သတ် မှတ် လို့ ရ သ လား ရှင် // င ယိ သေး တော့ .. ပျောက် ချင် လို့ ပါ',\n",
       " 'ပျောက် သွား မယ် အား တင်း ထား ပါ ခ လေး ရယ် လမ်း များ များ လျောက် ပေး နော်',\n",
       " 'ဆီး ချို က ထိန်း လို့ ပဲ ရ တယ် // အ ရှင်း မ ပျောက် ပါ // အ စား အ စာ ဆေး ဝါး လေ့ ကျင့် ခန်း လုပ် ပါ']"
      ]
     },
     "execution_count": 5,
     "metadata": {},
     "output_type": "execute_result"
    }
   ],
   "source": [
    "original_messge_list[0:3]"
   ]
  },
  {
   "cell_type": "code",
   "execution_count": 7,
   "metadata": {
    "ExecuteTime": {
     "end_time": "2022-02-28T03:34:27.090160Z",
     "start_time": "2022-02-28T03:34:27.084486Z"
    }
   },
   "outputs": [
    {
     "data": {
      "text/plain": [
       "['0 1 1 1 0 1 1 1 1 0 1 1 1 1 0 1 1 1 1 1 1 1 1 1 1 0 0 1 1 1 0 1 1 1 1 1 0 1 1 1 0 1 0 1 0 1 1 1 1 1 1 1 0',\n",
       " '1 1 1 0 1 1 1 0 1 1 1 0 1 1 1 0',\n",
       " '0 1 1 1 1 1 1 1 1 0 1 1 1 1 1 0 0 0 1 0 1 0 0 0 1 0']"
      ]
     },
     "execution_count": 7,
     "metadata": {},
     "output_type": "execute_result"
    }
   ],
   "source": [
    "predict_labels_update[0:3]"
   ]
  },
  {
   "cell_type": "code",
   "execution_count": 6,
   "metadata": {
    "ExecuteTime": {
     "end_time": "2022-02-28T03:34:18.434596Z",
     "start_time": "2022-02-28T03:34:18.427573Z"
    }
   },
   "outputs": [
    {
     "data": {
      "text/plain": [
       "[['0',\n",
       "  '1',\n",
       "  '1',\n",
       "  '1',\n",
       "  '0',\n",
       "  '1',\n",
       "  '1',\n",
       "  '1',\n",
       "  '1',\n",
       "  '0',\n",
       "  '1',\n",
       "  '1',\n",
       "  '1',\n",
       "  '1',\n",
       "  '0',\n",
       "  '1',\n",
       "  '1',\n",
       "  '1',\n",
       "  '1',\n",
       "  '1',\n",
       "  '1',\n",
       "  '1',\n",
       "  '1',\n",
       "  '1',\n",
       "  '1',\n",
       "  '0',\n",
       "  '0',\n",
       "  '1',\n",
       "  '1',\n",
       "  '1',\n",
       "  '0',\n",
       "  '1',\n",
       "  '1',\n",
       "  '1',\n",
       "  '1',\n",
       "  '1',\n",
       "  '0',\n",
       "  '1',\n",
       "  '1',\n",
       "  '1',\n",
       "  '0',\n",
       "  '1',\n",
       "  '0',\n",
       "  '1',\n",
       "  '0',\n",
       "  '1',\n",
       "  '1',\n",
       "  '1',\n",
       "  '0',\n",
       "  '1',\n",
       "  '1',\n",
       "  '1',\n",
       "  '0'],\n",
       " ['1',\n",
       "  '1',\n",
       "  '1',\n",
       "  '0',\n",
       "  '1',\n",
       "  '1',\n",
       "  '1',\n",
       "  '0',\n",
       "  '1',\n",
       "  '1',\n",
       "  '1',\n",
       "  '0',\n",
       "  '1',\n",
       "  '1',\n",
       "  '1',\n",
       "  '0'],\n",
       " ['0',\n",
       "  '1',\n",
       "  '1',\n",
       "  '1',\n",
       "  '1',\n",
       "  '1',\n",
       "  '1',\n",
       "  '1',\n",
       "  '1',\n",
       "  '0',\n",
       "  '1',\n",
       "  '1',\n",
       "  '1',\n",
       "  '1',\n",
       "  '1',\n",
       "  '0',\n",
       "  '0',\n",
       "  '0',\n",
       "  '1',\n",
       "  '0',\n",
       "  '1',\n",
       "  '0',\n",
       "  '0',\n",
       "  '0',\n",
       "  '1',\n",
       "  '0']]"
      ]
     },
     "execution_count": 6,
     "metadata": {},
     "output_type": "execute_result"
    }
   ],
   "source": [
    "predict_labels[0:3]"
   ]
  },
  {
   "cell_type": "code",
   "execution_count": null,
   "metadata": {},
   "outputs": [],
   "source": []
  },
  {
   "cell_type": "code",
   "execution_count": null,
   "metadata": {},
   "outputs": [],
   "source": []
  },
  {
   "cell_type": "code",
   "execution_count": 6,
   "metadata": {
    "ExecuteTime": {
     "end_time": "2022-02-25T04:13:53.199043Z",
     "start_time": "2022-02-25T04:13:53.193016Z"
    }
   },
   "outputs": [],
   "source": [
    "df_test['wb_text'] = wb_sent"
   ]
  },
  {
   "cell_type": "code",
   "execution_count": 7,
   "metadata": {
    "ExecuteTime": {
     "end_time": "2022-02-25T04:14:18.671464Z",
     "start_time": "2022-02-25T04:14:18.642640Z"
    }
   },
   "outputs": [],
   "source": [
    "df_test.to_csv('wb_test.csv',index=0)"
   ]
  },
  {
   "cell_type": "code",
   "execution_count": null,
   "metadata": {},
   "outputs": [],
   "source": []
  }
 ],
 "metadata": {
  "accelerator": "GPU",
  "colab": {
   "collapsed_sections": [],
   "name": "Waddy_WordSegmentation.ipynb",
   "provenance": []
  },
  "kernelspec": {
   "display_name": "wb_env",
   "language": "python",
   "name": "wb_env"
  },
  "language_info": {
   "codemirror_mode": {
    "name": "ipython",
    "version": 3
   },
   "file_extension": ".py",
   "mimetype": "text/x-python",
   "name": "python",
   "nbconvert_exporter": "python",
   "pygments_lexer": "ipython3",
   "version": "3.7.11"
  },
  "toc": {
   "base_numbering": 1,
   "nav_menu": {},
   "number_sections": true,
   "sideBar": true,
   "skip_h1_title": false,
   "title_cell": "Table of Contents",
   "title_sidebar": "Contents",
   "toc_cell": false,
   "toc_position": {
    "height": "calc(100% - 180px)",
    "left": "10px",
    "top": "150px",
    "width": "267px"
   },
   "toc_section_display": true,
   "toc_window_display": true
  },
  "varInspector": {
   "cols": {
    "lenName": 16,
    "lenType": 16,
    "lenVar": 40
   },
   "kernels_config": {
    "python": {
     "delete_cmd_postfix": "",
     "delete_cmd_prefix": "del ",
     "library": "var_list.py",
     "varRefreshCmd": "print(var_dic_list())"
    },
    "r": {
     "delete_cmd_postfix": ") ",
     "delete_cmd_prefix": "rm(",
     "library": "var_list.r",
     "varRefreshCmd": "cat(var_dic_list()) "
    }
   },
   "types_to_exclude": [
    "module",
    "function",
    "builtin_function_or_method",
    "instance",
    "_Feature"
   ],
   "window_display": false
  }
 },
 "nbformat": 4,
 "nbformat_minor": 1
}
