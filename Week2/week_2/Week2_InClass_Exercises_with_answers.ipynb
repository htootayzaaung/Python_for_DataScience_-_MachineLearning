{
 "cells": [
  {
   "cell_type": "markdown",
   "metadata": {},
   "source": [
    "# For Loop and Range Exercises"
   ]
  },
  {
   "cell_type": "markdown",
   "metadata": {},
   "source": [
    "\n",
    "## Exercise 1\n",
    "Create a range from 0 to 50, excluding 50."
   ]
  },
  {
   "cell_type": "code",
   "execution_count": 9,
   "metadata": {
    "ExecuteTime": {
     "end_time": "2022-07-08T07:34:09.159516Z",
     "start_time": "2022-07-08T07:34:09.155195Z"
    }
   },
   "outputs": [],
   "source": [
    "for data in range(0,50):\n",
    "    print(data)"
   ]
  },
  {
   "cell_type": "markdown",
   "metadata": {},
   "source": [
    "## Exercise 2\n",
    "\n",
    "Can you you create a list from 1300 to 700 with descending steps of 100, this time including 700?\n",
    "for data in  range(1300,699,-100):\n",
    "    print(data)"
   ]
  },
  {
   "cell_type": "markdown",
   "metadata": {},
   "source": [
    "## Square List\n",
    "\n",
    "Write a program that appends the square of each number to a new list.\n",
    "\n",
    "Given : \n",
    " [2,3,4,5,6,7,8]\n",
    " \n",
    " Expected Output :\n",
    " [4, 9, 16, 25, 36, 49]"
   ]
  },
  {
   "cell_type": "code",
   "execution_count": 1,
   "metadata": {
    "ExecuteTime": {
     "end_time": "2022-07-08T07:26:34.499265Z",
     "start_time": "2022-07-08T07:26:34.487698Z"
    }
   },
   "outputs": [
    {
     "name": "stdout",
     "output_type": "stream",
     "text": [
      "Result:  [4, 9, 16, 25, 36, 49, 64]\n"
     ]
    }
   ],
   "source": [
    "#Appending square to a new list\n",
    "x = [2,3,4,5,6,7,8]\n",
    "z = []\n",
    "for i in range(len(x)):\n",
    "    z.append(x[i]**2)\n",
    "print(\"Result: \",z)\n",
    "\n",
    "# output\n",
    "# Result:  [4, 9, 16, 25, 36, 49]"
   ]
  },
  {
   "cell_type": "markdown",
   "metadata": {},
   "source": [
    "## Factorial of a number\n",
    "\n",
    "Write a program in Python to display the Factorial of a number.\n",
    "\n",
    "**Input**\n",
    "Enter a number : 5\n",
    "\n",
    "**Desired Output**\n",
    "Factorial of 5 is 120."
   ]
  },
  {
   "cell_type": "code",
   "execution_count": 2,
   "metadata": {
    "ExecuteTime": {
     "end_time": "2022-07-08T07:27:43.057127Z",
     "start_time": "2022-07-08T07:27:40.747334Z"
    }
   },
   "outputs": [
    {
     "name": "stdout",
     "output_type": "stream",
     "text": [
      "Enter a number: 6\n",
      "Factorail of  6  is :  720\n"
     ]
    }
   ],
   "source": [
    "n = input(\"Enter a number: \")\n",
    "factorial = 1\n",
    "if int(n) >= 1:\n",
    "    for i in range (1,int(n)+1):\n",
    "        factorial = factorial * i\n",
    "print(\"Factorail of \",n , \" is : \",factorial)"
   ]
  },
  {
   "cell_type": "markdown",
   "metadata": {},
   "source": [
    "##  Even and Odd\n",
    "\n",
    "**Print even and odd in the list using the for loop**\n",
    "\n",
    "\n",
    "we are using the for loop to list the even and odd items in the list. \n",
    "\n",
    "In each iteration of the list, we apply the condition to check the even numbers, i.e., to check their remainder after dividing by 2. \n",
    "\n",
    "If the remainder is 0 (i% 2 == 0), add it to the even list; otherwise, add it to the odd list.\n",
    "\n",
    "\n",
    "```\n",
    "Given :\n",
    "\n",
    "[43, 20, 53, 12, 53, 5, 3, 2]\n",
    "\n",
    "Expected Output :\n",
    "\n",
    "Even List:  [20, 12, 2]\n",
    "\n",
    "Odd List:  [43, 53, 53, 5, 3]\n",
    "```\n"
   ]
  },
  {
   "cell_type": "code",
   "execution_count": 3,
   "metadata": {
    "ExecuteTime": {
     "end_time": "2022-07-08T07:28:26.851431Z",
     "start_time": "2022-07-08T07:28:26.842766Z"
    }
   },
   "outputs": [
    {
     "name": "stdout",
     "output_type": "stream",
     "text": [
      "Even List:  [20, 12, 2]\n",
      "Odd List:  [43, 53, 53, 5, 3]\n"
     ]
    }
   ],
   "source": [
    "nums = [43, 20, 53, 12, 53, 5, 3, 2]\n",
    "\n",
    "even = []\n",
    "odd = []\n",
    "\n",
    "for i in nums:\n",
    "    if(i % 2 == 0):\n",
    "        even.append(i)\n",
    "    else:\n",
    "        odd.append(i)\n",
    "        \n",
    "print(\"Even List: \",even)\n",
    "print(\"Odd List: \",odd)"
   ]
  },
  {
   "cell_type": "code",
   "execution_count": null,
   "metadata": {},
   "outputs": [],
   "source": []
  },
  {
   "cell_type": "code",
   "execution_count": null,
   "metadata": {},
   "outputs": [],
   "source": []
  },
  {
   "cell_type": "markdown",
   "metadata": {},
   "source": [
    "# Tuples"
   ]
  },
  {
   "cell_type": "markdown",
   "metadata": {},
   "source": [
    "## Access value 20 from the tuple\n",
    "\n",
    "The given tuple is a nested tuple. write a Python program to print the value 20.\n",
    "\n",
    "```\n",
    "Given \n",
    "tuple1 = (\"Orange\", [10, 20, 30], (5, 15, 25))\n",
    "\n",
    "Expected Output :\n",
    "20\n",
    "\n",
    "```"
   ]
  },
  {
   "cell_type": "code",
   "execution_count": 1,
   "metadata": {
    "ExecuteTime": {
     "end_time": "2022-07-05T09:22:16.222702Z",
     "start_time": "2022-07-05T09:22:16.214531Z"
    }
   },
   "outputs": [
    {
     "name": "stdout",
     "output_type": "stream",
     "text": [
      "20\n"
     ]
    }
   ],
   "source": [
    "tuple1 = (\"Orange\", [10, 20, 30], (5, 15, 25))\n",
    "\n",
    "# understand indexing\n",
    "# tuple1[0] = 'Orange'\n",
    "# tuple1[1] = [10, 20, 30]\n",
    "# list1[1][1] = 20\n",
    "\n",
    "print(tuple1[1][1])"
   ]
  },
  {
   "cell_type": "markdown",
   "metadata": {},
   "source": [
    "## Swap two tuples in Python\n",
    "\n",
    "```\n",
    "Given\n",
    "\n",
    "tuple1 = (11, 22)\n",
    "tuple2 = (99, 88)\n",
    "\n",
    "Expected Output\n",
    "\n",
    "tuple1: (99, 88)\n",
    "tuple2: (11, 22)\n",
    "```"
   ]
  },
  {
   "cell_type": "code",
   "execution_count": 2,
   "metadata": {
    "ExecuteTime": {
     "end_time": "2022-07-05T09:24:00.044239Z",
     "start_time": "2022-07-05T09:24:00.034144Z"
    }
   },
   "outputs": [
    {
     "name": "stdout",
     "output_type": "stream",
     "text": [
      "(11, 22)\n",
      "(99, 88)\n"
     ]
    }
   ],
   "source": [
    "tuple1 = (11, 22)\n",
    "tuple2 = (99, 88)\n",
    "tuple1, tuple2 = tuple2, tuple1\n",
    "print(tuple2)\n",
    "print(tuple1)"
   ]
  },
  {
   "cell_type": "markdown",
   "metadata": {},
   "source": [
    "## Counts the number of occurrences of item 50 from a tuple\n",
    "\n",
    "```\n",
    "Given \n",
    "\n",
    "tuple1 = (50, 10, 60, 70, 50)\n",
    "\n",
    "\n",
    "Expected Outcome\n",
    "\n",
    "2\n",
    "```"
   ]
  },
  {
   "cell_type": "code",
   "execution_count": 3,
   "metadata": {
    "ExecuteTime": {
     "end_time": "2022-07-05T09:26:03.177015Z",
     "start_time": "2022-07-05T09:26:03.160393Z"
    }
   },
   "outputs": [
    {
     "name": "stdout",
     "output_type": "stream",
     "text": [
      "2\n"
     ]
    }
   ],
   "source": [
    "tuple1 = (50, 10, 60, 70, 50)\n",
    "print(tuple1.count(50))"
   ]
  },
  {
   "cell_type": "markdown",
   "metadata": {},
   "source": [
    "# Dictionary"
   ]
  },
  {
   "cell_type": "markdown",
   "metadata": {},
   "source": [
    "## Convert two lists into a dictionary\n",
    "\n",
    "Below are the two lists. Write a Python program to convert them into a dictionary in a way that item from list1 is the key and item from list2 is the value\n",
    "\n",
    "```\n",
    "Given\n",
    "\n",
    "keys = ['Ten', 'Twenty', 'Thirty']\n",
    "values = [10, 20, 30]\n",
    "\n",
    "Expected Output:\n",
    "\n",
    "{'Ten': 10, 'Twenty': 20, 'Thirty': 30}\n",
    "\n",
    "```"
   ]
  },
  {
   "cell_type": "code",
   "execution_count": 4,
   "metadata": {
    "ExecuteTime": {
     "end_time": "2022-07-05T09:28:04.832194Z",
     "start_time": "2022-07-05T09:28:04.823124Z"
    }
   },
   "outputs": [
    {
     "name": "stdout",
     "output_type": "stream",
     "text": [
      "{'Ten': 10, 'Twenty': 20, 'Thirty': 30}\n"
     ]
    }
   ],
   "source": [
    "keys = ['Ten', 'Twenty', 'Thirty']\n",
    "values = [10, 20, 30]\n",
    "\n",
    "res_dict = dict(zip(keys, values))\n",
    "print(res_dict)"
   ]
  },
  {
   "cell_type": "markdown",
   "metadata": {},
   "source": [
    "## Merge two Python dictionaries into one\n",
    "\n",
    "```\n",
    "Given \n",
    "\n",
    "dict1 = {'Ten': 10, 'Twenty': 20, 'Thirty': 30}\n",
    "dict2 = {'Thirty': 30, 'Fourty': 40, 'Fifty': 50}\n",
    "\n",
    "Expected Output:\n",
    "{'Ten': 10, 'Twenty': 20, 'Thirty': 30, 'Fourty': 40, 'Fifty': 50}\n",
    "```"
   ]
  },
  {
   "cell_type": "code",
   "execution_count": 6,
   "metadata": {
    "ExecuteTime": {
     "end_time": "2022-07-05T09:29:17.887085Z",
     "start_time": "2022-07-05T09:29:17.867686Z"
    }
   },
   "outputs": [
    {
     "name": "stdout",
     "output_type": "stream",
     "text": [
      "{'Ten': 10, 'Twenty': 20, 'Thirty': 30, 'Fourty': 40, 'Fifty': 50}\n",
      "{'Ten': 10, 'Twenty': 20, 'Thirty': 30, 'Fourty': 40, 'Fifty': 50}\n"
     ]
    }
   ],
   "source": [
    "dict1 = {'Ten': 10, 'Twenty': 20, 'Thirty': 30}\n",
    "dict2 = {'Thirty': 30, 'Fourty': 40, 'Fifty': 50}\n",
    "\n",
    "dict3 = {**dict1, **dict2}\n",
    "print(dict3)\n",
    "\n",
    "\n",
    "## or\n",
    "\n",
    "dict1 = {'Ten': 10, 'Twenty': 20, 'Thirty': 30}\n",
    "dict2 = {'Thirty': 30, 'Fourty': 40, 'Fifty': 50}\n",
    "\n",
    "dict3 = dict1.copy()\n",
    "dict3.update(dict2)\n",
    "print(dict3)"
   ]
  },
  {
   "cell_type": "markdown",
   "metadata": {},
   "source": [
    "## Print the value of key ‘history’ from the below dict\n",
    "\n",
    "```\n",
    "sampleDict = {\n",
    "    \"class\": {\n",
    "        \"student\": {\n",
    "            \"name\": \"Mike\",\n",
    "            \"marks\": {\n",
    "                \"physics\": 70,\n",
    "                \"history\": 80\n",
    "            }\n",
    "        }\n",
    "    }\n",
    "}\n",
    "```\n",
    "\n",
    "\n",
    "Expected output:\n",
    "\n",
    "80"
   ]
  },
  {
   "cell_type": "code",
   "execution_count": 7,
   "metadata": {
    "ExecuteTime": {
     "end_time": "2022-07-05T09:30:09.960672Z",
     "start_time": "2022-07-05T09:30:09.954523Z"
    }
   },
   "outputs": [
    {
     "name": "stdout",
     "output_type": "stream",
     "text": [
      "80\n"
     ]
    }
   ],
   "source": [
    "sampleDict = {\n",
    "    \"class\": {\n",
    "        \"student\": {\n",
    "            \"name\": \"Mike\",\n",
    "            \"marks\": {\n",
    "                \"physics\": 70,\n",
    "                \"history\": 80\n",
    "            }\n",
    "        }\n",
    "    }\n",
    "}\n",
    "\n",
    "# understand how to located the nested key\n",
    "# sampleDict['class'] = {'student': {'name': 'Mike', 'marks': {'physics': 70, 'history': 80}}}\n",
    "# sampleDict['class']['student'] = {'name': 'Mike', 'marks': {'physics': 70, 'history': 80}}\n",
    "# sampleDict['class']['student']['marks'] = {'physics': 70, 'history': 80}\n",
    "\n",
    "# solution\n",
    "print(sampleDict['class']['student']['marks']['history'])"
   ]
  },
  {
   "cell_type": "markdown",
   "metadata": {},
   "source": [
    "## Create a dictionary by extracting the keys from a given dictionary"
   ]
  },
  {
   "cell_type": "markdown",
   "metadata": {},
   "source": [
    "Write a Python program to create a new dictionary by extracting the mentioned keys from the below dictionary.\n",
    "\n",
    "```\n",
    "sample_dict = {\n",
    "    \"name\": \"Kelly\",\n",
    "    \"age\": 25,\n",
    "    \"salary\": 8000,\n",
    "    \"city\": \"New york\"}\n",
    "\n",
    "Keys to extract\n",
    "keys = [\"name\", \"salary\"]\n",
    "```\n",
    "\n",
    "Expected Output\n",
    "\n",
    "{'name': 'Kelly', 'salary': 8000}"
   ]
  },
  {
   "cell_type": "code",
   "execution_count": 9,
   "metadata": {
    "ExecuteTime": {
     "end_time": "2022-07-05T09:32:43.238381Z",
     "start_time": "2022-07-05T09:32:43.231481Z"
    }
   },
   "outputs": [
    {
     "name": "stdout",
     "output_type": "stream",
     "text": [
      "{'name': 'Kelly', 'salary': 8000}\n",
      "{'name': 'Kelly', 'salary': 8000}\n"
     ]
    }
   ],
   "source": [
    "## solution 1\n",
    "sampleDict = { \n",
    "  \"name\": \"Kelly\",\n",
    "  \"age\":25, \n",
    "  \"salary\": 8000, \n",
    "  \"city\": \"New york\" }\n",
    "\n",
    "keys = [\"name\", \"salary\"]\n",
    "\n",
    "newDict = {k: sampleDict[k] for k in keys}\n",
    "print(newDict)\n",
    "\n",
    "## using update() function\n",
    "\n",
    "sample_dict = {\n",
    "    \"name\": \"Kelly\",\n",
    "    \"age\": 25,\n",
    "    \"salary\": 8000,\n",
    "    \"city\": \"New york\"}\n",
    "\n",
    "# keys to extract\n",
    "keys = [\"name\", \"salary\"]\n",
    "\n",
    "# new dict\n",
    "res = dict()\n",
    "\n",
    "for k in keys:\n",
    "    # add current key with its va;ue from sample_dict\n",
    "    res.update({k: sample_dict[k]})\n",
    "print(res)"
   ]
  },
  {
   "cell_type": "markdown",
   "metadata": {},
   "source": [
    "# Set"
   ]
  },
  {
   "cell_type": "markdown",
   "metadata": {},
   "source": [
    "## Return a new set of identical items from two sets\n",
    "\n",
    "```\n",
    "Given \n",
    "\n",
    "set1 = {10, 20, 30, 40, 50}\n",
    "set2 = {30, 40, 50, 60, 70}\n",
    "\n",
    "Expected Output\n",
    "\n",
    "{40, 50, 30}\n",
    "```"
   ]
  },
  {
   "cell_type": "code",
   "execution_count": 10,
   "metadata": {
    "ExecuteTime": {
     "end_time": "2022-07-05T09:45:49.724692Z",
     "start_time": "2022-07-05T09:45:49.702507Z"
    }
   },
   "outputs": [
    {
     "name": "stdout",
     "output_type": "stream",
     "text": [
      "{40, 50, 30}\n"
     ]
    }
   ],
   "source": [
    "set1 = {10, 20, 30, 40, 50}\n",
    "set2 = {30, 40, 50, 60, 70}\n",
    "\n",
    "print(set1.intersection(set2))"
   ]
  },
  {
   "cell_type": "markdown",
   "metadata": {},
   "source": [
    "## Update the first set with items that don’t exist in the second set\n",
    "\n",
    "Given two Python sets, write a Python program to update the first set with items that exist only in the first set and not in the second set.\n",
    "\n",
    "\n",
    "```\n",
    "Given\n",
    "\n",
    "set1 = {10, 20, 30}\n",
    "set2 = {20, 40, 50}\n",
    "\n",
    "Expected Output\n",
    "\n",
    "set1 {10, 30}\n",
    "\n",
    "```"
   ]
  },
  {
   "cell_type": "code",
   "execution_count": 11,
   "metadata": {
    "ExecuteTime": {
     "end_time": "2022-07-05T09:48:52.577788Z",
     "start_time": "2022-07-05T09:48:52.563357Z"
    }
   },
   "outputs": [
    {
     "name": "stdout",
     "output_type": "stream",
     "text": [
      "{10, 30}\n"
     ]
    }
   ],
   "source": [
    "set1 = {10, 20, 30}\n",
    "set2 = {20, 40, 50}\n",
    "\n",
    "set1.difference_update(set2)\n",
    "print(set1)"
   ]
  },
  {
   "cell_type": "markdown",
   "metadata": {},
   "source": [
    "## Check if two lists have at-least one element common\n",
    "\n",
    "Given two lists a, b. Check if two lists have at least one element common in them.\n",
    "\n",
    "```\n",
    "Examples:\n",
    "\n",
    "Input : a = [1, 2, 3, 4, 5]\n",
    "        b = [5, 6, 7, 8, 9]\n",
    "Output : True\n",
    "\n",
    "Input : a=[1, 2, 3, 4, 5]\n",
    "        b=[6, 7, 8, 9]\n",
    "Output : False\n",
    "```"
   ]
  },
  {
   "cell_type": "code",
   "execution_count": 12,
   "metadata": {
    "ExecuteTime": {
     "end_time": "2022-07-05T09:49:30.503747Z",
     "start_time": "2022-07-05T09:49:30.473083Z"
    }
   },
   "outputs": [
    {
     "name": "stdout",
     "output_type": "stream",
     "text": [
      "True\n",
      "False\n"
     ]
    }
   ],
   "source": [
    "# solution 1\n",
    "\n",
    "def common_data(list1, list2):\n",
    "  result = False\n",
    "\n",
    "  # traverse in the 1st list\n",
    "  for x in list1:\n",
    "\n",
    "    # traverse in the 2nd list\n",
    "    for y in list2:\n",
    "  \n",
    "      # if one common\n",
    "      if x == y:\n",
    "        result = True\n",
    "        return result\n",
    "        \n",
    "  return result\n",
    "  \n",
    "# driver code\n",
    "a = [1, 2, 3, 4, 5]\n",
    "b = [5, 6, 7, 8, 9]\n",
    "print(common_data(a, b))\n",
    "\n",
    "a = [1, 2, 3, 4, 5]\n",
    "b = [6, 7, 8, 9]\n",
    "print(common_data(a, b))\n"
   ]
  },
  {
   "cell_type": "code",
   "execution_count": 15,
   "metadata": {
    "ExecuteTime": {
     "end_time": "2022-07-05T09:50:33.292642Z",
     "start_time": "2022-07-05T09:50:33.271678Z"
    }
   },
   "outputs": [
    {
     "name": "stdout",
     "output_type": "stream",
     "text": [
      "True\n",
      "False\n"
     ]
    }
   ],
   "source": [
    "## solution 2\n",
    "## Using Set and Property\n",
    "\n",
    "# Python program to check\n",
    "# if two lists have at-least\n",
    "# one element common\n",
    "# using set and property\n",
    "\n",
    "def common_member(a, b):\n",
    "  a_set = set(a)\n",
    "  b_set = set(b)\n",
    "  if (a_set & b_set):\n",
    "    return True\n",
    "  else:\n",
    "    return False\n",
    "    \n",
    "\n",
    "a = [1, 2, 3, 4, 5]\n",
    "b = [5, 6, 7, 8, 9]\n",
    "print(common_member(a, b))\n",
    "\n",
    "a =[1, 2, 3, 4, 5]\n",
    "b =[6, 7, 8, 9]\n",
    "print(common_member(a, b))\n"
   ]
  },
  {
   "cell_type": "code",
   "execution_count": 14,
   "metadata": {
    "ExecuteTime": {
     "end_time": "2022-07-05T09:50:18.827720Z",
     "start_time": "2022-07-05T09:50:18.814637Z"
    }
   },
   "outputs": [
    {
     "name": "stdout",
     "output_type": "stream",
     "text": [
      "True\n",
      "False\n"
     ]
    }
   ],
   "source": [
    "## solution 3\n",
    "## using set interaction\n",
    "\n",
    "# Python program to check\n",
    "# if two lists have at-least\n",
    "# one element common\n",
    "# using set intersection\n",
    "\n",
    "def common_member(a, b):\n",
    "  a_set = set(a)\n",
    "  b_set = set(b)\n",
    "  if len(a_set.intersection(b_set)) > 0:\n",
    "    return(True)\n",
    "  return(False)\n",
    "\n",
    "a = [1, 2, 3, 4, 5]\n",
    "b = [5, 6, 7, 8, 9]\n",
    "print(common_member(a, b))\n",
    "\n",
    "a =[1, 2, 3, 4, 5]\n",
    "b =[6, 7, 8, 9]\n",
    "print(common_member(a, b))\n"
   ]
  },
  {
   "cell_type": "code",
   "execution_count": null,
   "metadata": {},
   "outputs": [],
   "source": []
  },
  {
   "cell_type": "markdown",
   "metadata": {},
   "source": [
    "# Zip Exercises"
   ]
  },
  {
   "cell_type": "markdown",
   "metadata": {},
   "source": [
    "## Calculating monthly cost in Pairs\n",
    "\n",
    "You’re going to use this data to calculate your monthly profit. zip() can provide you with a fast way to make the calculations:"
   ]
  },
  {
   "cell_type": "markdown",
   "metadata": {},
   "source": [
    "<img src=\"resources/image1.PNG\">\n",
    "\n",
    "\n",
    "**Expected Output**\n",
    "```\n",
    "Total profit: 5200.0\n",
    "\n",
    "Total profit: 5100.0\n",
    "\n",
    "Total profit: 4800.0\n",
    "```"
   ]
  },
  {
   "cell_type": "code",
   "execution_count": 1,
   "metadata": {
    "ExecuteTime": {
     "end_time": "2022-07-08T08:21:09.521910Z",
     "start_time": "2022-07-08T08:21:09.513025Z"
    }
   },
   "outputs": [
    {
     "name": "stdout",
     "output_type": "stream",
     "text": [
      "Total profit: 5200.0\n",
      "Total profit: 5100.0\n",
      "Total profit: 4800.0\n"
     ]
    }
   ],
   "source": [
    "total_sales = [52000.00, 51000.00, 48000.00]\n",
    "prod_cost = [46800.00, 45900.00, 43200.00]\n",
    "for sales, costs in zip(total_sales, prod_cost):\n",
    "    profit = sales - costs\n",
    "    print(f'Total profit: {profit}')"
   ]
  },
  {
   "cell_type": "code",
   "execution_count": null,
   "metadata": {},
   "outputs": [],
   "source": []
  },
  {
   "cell_type": "code",
   "execution_count": null,
   "metadata": {},
   "outputs": [],
   "source": []
  },
  {
   "cell_type": "code",
   "execution_count": null,
   "metadata": {},
   "outputs": [],
   "source": []
  },
  {
   "cell_type": "markdown",
   "metadata": {},
   "source": [
    "# While Loop"
   ]
  },
  {
   "cell_type": "markdown",
   "metadata": {
    "ExecuteTime": {
     "end_time": "2022-07-08T07:30:44.930960Z",
     "start_time": "2022-07-08T07:30:44.928995Z"
    }
   },
   "source": [
    "## Printing the square of numbers using while loop"
   ]
  },
  {
   "cell_type": "code",
   "execution_count": null,
   "metadata": {},
   "outputs": [],
   "source": [
    "n = 1\n",
    "\n",
    "while n <= 5:\n",
    "    squareNum = n**2\n",
    "    print(n,squareNum)\n",
    "    n += 1"
   ]
  },
  {
   "cell_type": "code",
   "execution_count": null,
   "metadata": {},
   "outputs": [],
   "source": []
  },
  {
   "cell_type": "markdown",
   "metadata": {},
   "source": [
    "## Reversing a number using while loop in Python\n",
    "\n",
    "```\n",
    "Given \n",
    "\n",
    "Enter a number : 432\n",
    "\n",
    "Expected Output \n",
    "\n",
    "The reversed String is 234\n",
    "```"
   ]
  },
  {
   "cell_type": "code",
   "execution_count": null,
   "metadata": {},
   "outputs": [],
   "source": [
    "n = int(input(\"Enter a number: \"))\n",
    "rev = 0\n",
    "\n",
    "while n!=0:\n",
    "    r = n%10\n",
    "    rev = rev * 10 + r\n",
    "    n = n//10\n",
    "    \n",
    "print(\"Reversed number:\",rev)"
   ]
  },
  {
   "cell_type": "code",
   "execution_count": null,
   "metadata": {},
   "outputs": [],
   "source": []
  },
  {
   "cell_type": "markdown",
   "metadata": {},
   "source": [
    "## Finding the sum of even numbers using while loop\n",
    "\n",
    "```\n",
    "Given\n",
    "\n",
    "Enter a number : 10\n",
    "\n",
    "Expected Output\n",
    "\n",
    "Sum of the even number till n is : 30\n",
    "\n",
    "```"
   ]
  },
  {
   "cell_type": "code",
   "execution_count": null,
   "metadata": {},
   "outputs": [],
   "source": [
    "i = 0\n",
    "sum = 0\n",
    "n = int(input(\"Enter the number n: \"))\n",
    "\n",
    "while  i <= n:\n",
    "    if i % 2 == 0:\n",
    "        sum += i\n",
    "    i += 1\n",
    "        \n",
    "print(\"Sum of even numbers till n:\",sum)"
   ]
  },
  {
   "cell_type": "code",
   "execution_count": null,
   "metadata": {},
   "outputs": [],
   "source": []
  },
  {
   "cell_type": "code",
   "execution_count": null,
   "metadata": {},
   "outputs": [],
   "source": []
  },
  {
   "cell_type": "code",
   "execution_count": null,
   "metadata": {},
   "outputs": [],
   "source": []
  },
  {
   "cell_type": "code",
   "execution_count": null,
   "metadata": {},
   "outputs": [],
   "source": []
  },
  {
   "cell_type": "code",
   "execution_count": null,
   "metadata": {},
   "outputs": [],
   "source": []
  },
  {
   "cell_type": "code",
   "execution_count": null,
   "metadata": {},
   "outputs": [],
   "source": []
  }
 ],
 "metadata": {
  "kernelspec": {
   "display_name": "sa_env",
   "language": "python",
   "name": "sa_env"
  },
  "language_info": {
   "codemirror_mode": {
    "name": "ipython",
    "version": 3
   },
   "file_extension": ".py",
   "mimetype": "text/x-python",
   "name": "python",
   "nbconvert_exporter": "python",
   "pygments_lexer": "ipython3",
   "version": "3.7.6"
  },
  "toc": {
   "base_numbering": 1,
   "nav_menu": {},
   "number_sections": true,
   "sideBar": true,
   "skip_h1_title": false,
   "title_cell": "Table of Contents",
   "title_sidebar": "Contents",
   "toc_cell": false,
   "toc_position": {
    "height": "calc(100% - 180px)",
    "left": "10px",
    "top": "150px",
    "width": "220.25px"
   },
   "toc_section_display": true,
   "toc_window_display": true
  },
  "varInspector": {
   "cols": {
    "lenName": 16,
    "lenType": 16,
    "lenVar": 40
   },
   "kernels_config": {
    "python": {
     "delete_cmd_postfix": "",
     "delete_cmd_prefix": "del ",
     "library": "var_list.py",
     "varRefreshCmd": "print(var_dic_list())"
    },
    "r": {
     "delete_cmd_postfix": ") ",
     "delete_cmd_prefix": "rm(",
     "library": "var_list.r",
     "varRefreshCmd": "cat(var_dic_list()) "
    }
   },
   "types_to_exclude": [
    "module",
    "function",
    "builtin_function_or_method",
    "instance",
    "_Feature"
   ],
   "window_display": false
  }
 },
 "nbformat": 4,
 "nbformat_minor": 2
}
