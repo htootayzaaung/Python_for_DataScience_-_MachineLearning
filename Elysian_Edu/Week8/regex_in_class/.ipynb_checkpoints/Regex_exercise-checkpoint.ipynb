{
 "cells": [
  {
   "cell_type": "code",
   "execution_count": 3,
   "metadata": {
    "ExecuteTime": {
     "end_time": "2022-08-18T08:09:27.543656Z",
     "start_time": "2022-08-18T08:09:27.539450Z"
    }
   },
   "outputs": [],
   "source": [
    "import re"
   ]
  },
  {
   "cell_type": "markdown",
   "metadata": {},
   "source": [
    "# Excluding specific characters [^abc]"
   ]
  },
  {
   "cell_type": "code",
   "execution_count": 6,
   "metadata": {
    "ExecuteTime": {
     "end_time": "2022-08-18T08:09:38.967295Z",
     "start_time": "2022-08-18T08:09:38.962716Z"
    }
   },
   "outputs": [
    {
     "name": "stdout",
     "output_type": "stream",
     "text": [
      "['hog', 'dog']\n"
     ]
    }
   ],
   "source": [
    "txt = \"hog dog bog\"\n",
    "\n",
    "# match hog and dog and skip bog"
   ]
  },
  {
   "cell_type": "markdown",
   "metadata": {},
   "source": [
    "# Character ranges [a-z]"
   ]
  },
  {
   "cell_type": "markdown",
   "metadata": {},
   "source": [
    "Match\t  -->     Ana, Bob, Cpc\n",
    "\n",
    "Skip\t--> aax, bby, ccz"
   ]
  },
  {
   "cell_type": "code",
   "execution_count": 6,
   "metadata": {
    "ExecuteTime": {
     "end_time": "2022-08-19T15:24:50.566739Z",
     "start_time": "2022-08-19T15:24:50.564252Z"
    }
   },
   "outputs": [],
   "source": [
    "#expected output = ['Aea', 'Bfb', 'Cgc']\n",
    "txt = \"Aea Bfb Cgc aax bby ccz\""
   ]
  },
  {
   "cell_type": "markdown",
   "metadata": {},
   "source": [
    "# a to b Repetitions {a,b}"
   ]
  },
  {
   "cell_type": "markdown",
   "metadata": {},
   "source": [
    "Matc--> wazzzzzup, wazzzup\n",
    "\n",
    "Skip --> wazup"
   ]
  },
  {
   "cell_type": "code",
   "execution_count": 11,
   "metadata": {
    "ExecuteTime": {
     "end_time": "2022-08-19T09:50:57.479198Z",
     "start_time": "2022-08-19T09:50:57.472370Z"
    }
   },
   "outputs": [],
   "source": [
    "txt = \"wazzzzzup wazzzup wazup\""
   ]
  },
  {
   "cell_type": "markdown",
   "metadata": {},
   "source": [
    "# zero or more and One or more repetitions * +"
   ]
  },
  {
   "cell_type": "markdown",
   "metadata": {},
   "source": [
    "Match\t--> aaaabcc, aabbbbc, aacc\n",
    "Skip --> a"
   ]
  },
  {
   "cell_type": "code",
   "execution_count": 13,
   "metadata": {
    "ExecuteTime": {
     "end_time": "2022-08-19T10:14:15.156355Z",
     "start_time": "2022-08-19T10:14:15.152415Z"
    }
   },
   "outputs": [],
   "source": [
    "txt = \"aaaabcc aabbbbc aacc a\""
   ]
  },
  {
   "cell_type": "markdown",
   "metadata": {},
   "source": [
    "# Optional character ?"
   ]
  },
  {
   "cell_type": "markdown",
   "metadata": {},
   "source": [
    "Match --> 1 file found?, 2 files found? 24 files found?\t\n",
    "Skip --> No files found."
   ]
  },
  {
   "cell_type": "code",
   "execution_count": 26,
   "metadata": {
    "ExecuteTime": {
     "end_time": "2022-08-19T10:20:00.115107Z",
     "start_time": "2022-08-19T10:20:00.113075Z"
    }
   },
   "outputs": [],
   "source": [
    "txt = \"1 file found? 2 files found? 24 files found? No files found.\""
   ]
  },
  {
   "cell_type": "markdown",
   "metadata": {},
   "source": [
    "# Check whitespaces \\s"
   ]
  },
  {
   "cell_type": "markdown",
   "metadata": {},
   "source": [
    "skip --> 4.abc"
   ]
  },
  {
   "cell_type": "code",
   "execution_count": 30,
   "metadata": {
    "ExecuteTime": {
     "end_time": "2022-08-19T10:24:23.112877Z",
     "start_time": "2022-08-19T10:24:23.110763Z"
    }
   },
   "outputs": [],
   "source": [
    "txt = \"1.  abc 2.     abc 3.       abc 4.abc\""
   ]
  },
  {
   "cell_type": "markdown",
   "metadata": {},
   "source": [
    "# Starting and ending ^ \\$"
   ]
  },
  {
   "cell_type": "code",
   "execution_count": 14,
   "metadata": {
    "ExecuteTime": {
     "end_time": "2022-08-19T23:53:50.499617Z",
     "start_time": "2022-08-19T23:53:50.495701Z"
    }
   },
   "outputs": [],
   "source": [
    "txt = \"Mission: successful\\nLast Mission: unsuccessful\\nNext Mission: successful upon capture of target\"\n",
    "#expected output = ['Mission: successful']"
   ]
  },
  {
   "cell_type": "markdown",
   "metadata": {},
   "source": [
    "# Phone number"
   ]
  },
  {
   "cell_type": "code",
   "execution_count": null,
   "metadata": {},
   "outputs": [],
   "source": [
    "# Write telenor phone pattern\n",
    "# start with 09 or 095 or +095\n",
    "# digit 7\n"
   ]
  },
  {
   "cell_type": "markdown",
   "metadata": {},
   "source": [
    "# Email"
   ]
  },
  {
   "cell_type": "code",
   "execution_count": 1,
   "metadata": {
    "ExecuteTime": {
     "end_time": "2022-08-20T01:41:02.614876Z",
     "start_time": "2022-08-20T01:41:02.607041Z"
    }
   },
   "outputs": [],
   "source": [
    "# Simple email expression. \n",
    "\n",
    "#test with \n",
    "#print(re.match(pattern_email, email))\n",
    "\n",
    "\n",
    "valid_email = 'joe@aol.com', 'ssmith@aspalliance.com', 'a@b.cc'\n",
    "invalid_email = 'joe@123aspx.com', 'joe@web.info', 'joe@company.co.uk'"
   ]
  },
  {
   "cell_type": "markdown",
   "metadata": {},
   "source": [
    "# Date"
   ]
  },
  {
   "cell_type": "code",
   "execution_count": 25,
   "metadata": {
    "ExecuteTime": {
     "end_time": "2022-08-20T01:12:50.227732Z",
     "start_time": "2022-08-20T01:12:50.225742Z"
    }
   },
   "outputs": [],
   "source": [
    "valid_date = '4/1/2001 12/12/94  12-12-2021'"
   ]
  },
  {
   "cell_type": "markdown",
   "metadata": {
    "ExecuteTime": {
     "end_time": "2022-08-20T01:28:30.691359Z",
     "start_time": "2022-08-20T01:28:30.689382Z"
    }
   },
   "source": [
    "# filter dataframe with regex"
   ]
  },
  {
   "cell_type": "code",
   "execution_count": 31,
   "metadata": {
    "ExecuteTime": {
     "end_time": "2022-08-20T01:30:37.835378Z",
     "start_time": "2022-08-20T01:30:37.832962Z"
    }
   },
   "outputs": [],
   "source": [
    "import pandas as pd\n",
    "pd.set_option('max_colwidth',0)"
   ]
  },
  {
   "cell_type": "code",
   "execution_count": 44,
   "metadata": {
    "ExecuteTime": {
     "end_time": "2022-08-20T01:38:29.673088Z",
     "start_time": "2022-08-20T01:38:29.661404Z"
    }
   },
   "outputs": [],
   "source": [
    "df_raw = pd.read_csv('resources/sample.csv')"
   ]
  },
  {
   "cell_type": "markdown",
   "metadata": {},
   "source": [
    "## get sentences start with digit"
   ]
  },
  {
   "cell_type": "code",
   "execution_count": null,
   "metadata": {},
   "outputs": [],
   "source": []
  },
  {
   "cell_type": "markdown",
   "metadata": {},
   "source": [
    "## get sentences that contains puntuation"
   ]
  },
  {
   "cell_type": "code",
   "execution_count": null,
   "metadata": {},
   "outputs": [],
   "source": []
  },
  {
   "cell_type": "markdown",
   "metadata": {},
   "source": [
    "## get sentences that contain english words"
   ]
  },
  {
   "cell_type": "code",
   "execution_count": null,
   "metadata": {},
   "outputs": [],
   "source": []
  },
  {
   "cell_type": "markdown",
   "metadata": {},
   "source": [
    "## get english only sentences"
   ]
  },
  {
   "cell_type": "code",
   "execution_count": null,
   "metadata": {},
   "outputs": [],
   "source": []
  },
  {
   "cell_type": "markdown",
   "metadata": {},
   "source": [
    "## get sentences that contains date"
   ]
  },
  {
   "cell_type": "code",
   "execution_count": null,
   "metadata": {},
   "outputs": [],
   "source": []
  }
 ],
 "metadata": {
  "hide_input": false,
  "kernelspec": {
   "display_name": "Python 3 (ipykernel)",
   "language": "python",
   "name": "python3"
  },
  "language_info": {
   "codemirror_mode": {
    "name": "ipython",
    "version": 3
   },
   "file_extension": ".py",
   "mimetype": "text/x-python",
   "name": "python",
   "nbconvert_exporter": "python",
   "pygments_lexer": "ipython3",
   "version": "3.9.12"
  },
  "toc": {
   "base_numbering": 1,
   "nav_menu": {},
   "number_sections": true,
   "sideBar": true,
   "skip_h1_title": false,
   "title_cell": "Table of Contents",
   "title_sidebar": "Contents",
   "toc_cell": false,
   "toc_position": {
    "height": "578.4px",
    "left": "25px",
    "top": "137.125px",
    "width": "281px"
   },
   "toc_section_display": true,
   "toc_window_display": true
  },
  "varInspector": {
   "cols": {
    "lenName": 16,
    "lenType": 16,
    "lenVar": 40
   },
   "kernels_config": {
    "python": {
     "delete_cmd_postfix": "",
     "delete_cmd_prefix": "del ",
     "library": "var_list.py",
     "varRefreshCmd": "print(var_dic_list())"
    },
    "r": {
     "delete_cmd_postfix": ") ",
     "delete_cmd_prefix": "rm(",
     "library": "var_list.r",
     "varRefreshCmd": "cat(var_dic_list()) "
    }
   },
   "types_to_exclude": [
    "module",
    "function",
    "builtin_function_or_method",
    "instance",
    "_Feature"
   ],
   "window_display": false
  }
 },
 "nbformat": 4,
 "nbformat_minor": 2
}
