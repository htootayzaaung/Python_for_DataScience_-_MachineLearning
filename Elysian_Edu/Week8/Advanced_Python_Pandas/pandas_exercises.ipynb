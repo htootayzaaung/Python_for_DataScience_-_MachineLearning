{
 "cells": [
  {
   "cell_type": "code",
   "execution_count": 7,
   "id": "9c55ad7c",
   "metadata": {
    "ExecuteTime": {
     "end_time": "2022-08-20T14:25:45.335939Z",
     "start_time": "2022-08-20T14:25:45.296419Z"
    }
   },
   "outputs": [],
   "source": [
    "import pandas as pd\n",
    "df = pd.read_excel('SaleData.xlsx')\n",
    "#print(df)\n",
    "import numpy as np"
   ]
  },
  {
   "cell_type": "code",
   "execution_count": 4,
   "id": "c65c734f",
   "metadata": {
    "ExecuteTime": {
     "end_time": "2022-08-20T14:21:00.906035Z",
     "start_time": "2022-08-20T14:21:00.895919Z"
    }
   },
   "outputs": [
    {
     "data": {
      "text/html": [
       "<div>\n",
       "<style scoped>\n",
       "    .dataframe tbody tr th:only-of-type {\n",
       "        vertical-align: middle;\n",
       "    }\n",
       "\n",
       "    .dataframe tbody tr th {\n",
       "        vertical-align: top;\n",
       "    }\n",
       "\n",
       "    .dataframe thead th {\n",
       "        text-align: right;\n",
       "    }\n",
       "</style>\n",
       "<table border=\"1\" class=\"dataframe\">\n",
       "  <thead>\n",
       "    <tr style=\"text-align: right;\">\n",
       "      <th></th>\n",
       "      <th>OrderDate</th>\n",
       "      <th>Region</th>\n",
       "      <th>Manager</th>\n",
       "      <th>SalesMan</th>\n",
       "      <th>Item</th>\n",
       "      <th>Units</th>\n",
       "      <th>Unit_price</th>\n",
       "      <th>Sale_amt</th>\n",
       "    </tr>\n",
       "  </thead>\n",
       "  <tbody>\n",
       "    <tr>\n",
       "      <th>0</th>\n",
       "      <td>2018-01-06</td>\n",
       "      <td>East</td>\n",
       "      <td>Martha</td>\n",
       "      <td>Alexander</td>\n",
       "      <td>Television</td>\n",
       "      <td>95.0</td>\n",
       "      <td>1198.0</td>\n",
       "      <td>113810.0</td>\n",
       "    </tr>\n",
       "    <tr>\n",
       "      <th>1</th>\n",
       "      <td>2018-01-23</td>\n",
       "      <td>Central</td>\n",
       "      <td>Hermann</td>\n",
       "      <td>Shelli</td>\n",
       "      <td>Home Theater</td>\n",
       "      <td>50.0</td>\n",
       "      <td>500.0</td>\n",
       "      <td>25000.0</td>\n",
       "    </tr>\n",
       "  </tbody>\n",
       "</table>\n",
       "</div>"
      ],
      "text/plain": [
       "   OrderDate   Region  Manager   SalesMan          Item  Units  Unit_price  \\\n",
       "0 2018-01-06     East   Martha  Alexander    Television   95.0      1198.0   \n",
       "1 2018-01-23  Central  Hermann     Shelli  Home Theater   50.0       500.0   \n",
       "\n",
       "   Sale_amt  \n",
       "0  113810.0  \n",
       "1   25000.0  "
      ]
     },
     "execution_count": 4,
     "metadata": {},
     "output_type": "execute_result"
    }
   ],
   "source": [
    "df.head(2)"
   ]
  },
  {
   "cell_type": "markdown",
   "id": "719221af",
   "metadata": {},
   "source": [
    "# Pivot"
   ]
  },
  {
   "cell_type": "markdown",
   "id": "06e30dcb",
   "metadata": {},
   "source": [
    "## create pivot with multiple index (Manager and SalesMan)"
   ]
  },
  {
   "cell_type": "code",
   "execution_count": 3,
   "id": "1a25974d",
   "metadata": {},
   "outputs": [
    {
     "data": {
      "text/html": [
       "<div>\n",
       "<style scoped>\n",
       "    .dataframe tbody tr th:only-of-type {\n",
       "        vertical-align: middle;\n",
       "    }\n",
       "\n",
       "    .dataframe tbody tr th {\n",
       "        vertical-align: top;\n",
       "    }\n",
       "\n",
       "    .dataframe thead th {\n",
       "        text-align: right;\n",
       "    }\n",
       "</style>\n",
       "<table border=\"1\" class=\"dataframe\">\n",
       "  <thead>\n",
       "    <tr style=\"text-align: right;\">\n",
       "      <th></th>\n",
       "      <th></th>\n",
       "      <th>Sale_amt</th>\n",
       "      <th>Unit_price</th>\n",
       "      <th>Units</th>\n",
       "    </tr>\n",
       "    <tr>\n",
       "      <th>Manager</th>\n",
       "      <th>SalesMan</th>\n",
       "      <th></th>\n",
       "      <th></th>\n",
       "      <th></th>\n",
       "    </tr>\n",
       "  </thead>\n",
       "  <tbody>\n",
       "    <tr>\n",
       "      <th rowspan=\"3\" valign=\"top\">Douglas</th>\n",
       "      <th>John</th>\n",
       "      <td>41338.666667</td>\n",
       "      <td>607.666667</td>\n",
       "      <td>52.000000</td>\n",
       "    </tr>\n",
       "    <tr>\n",
       "      <th>Karen</th>\n",
       "      <td>16068.000000</td>\n",
       "      <td>261.166667</td>\n",
       "      <td>56.666667</td>\n",
       "    </tr>\n",
       "    <tr>\n",
       "      <th>Michael</th>\n",
       "      <td>33418.000000</td>\n",
       "      <td>849.000000</td>\n",
       "      <td>44.500000</td>\n",
       "    </tr>\n",
       "    <tr>\n",
       "      <th rowspan=\"3\" valign=\"top\">Hermann</th>\n",
       "      <th>Luis</th>\n",
       "      <td>41274.600000</td>\n",
       "      <td>690.900000</td>\n",
       "      <td>56.200000</td>\n",
       "    </tr>\n",
       "    <tr>\n",
       "      <th>Shelli</th>\n",
       "      <td>8424.500000</td>\n",
       "      <td>185.500000</td>\n",
       "      <td>48.250000</td>\n",
       "    </tr>\n",
       "    <tr>\n",
       "      <th>Sigal</th>\n",
       "      <td>41679.166667</td>\n",
       "      <td>585.500000</td>\n",
       "      <td>57.666667</td>\n",
       "    </tr>\n",
       "    <tr>\n",
       "      <th rowspan=\"3\" valign=\"top\">Martha</th>\n",
       "      <th>Alexander</th>\n",
       "      <td>29587.875000</td>\n",
       "      <td>529.750000</td>\n",
       "      <td>49.500000</td>\n",
       "    </tr>\n",
       "    <tr>\n",
       "      <th>Diana</th>\n",
       "      <td>18050.000000</td>\n",
       "      <td>362.500000</td>\n",
       "      <td>62.500000</td>\n",
       "    </tr>\n",
       "    <tr>\n",
       "      <th>Steven</th>\n",
       "      <td>49922.500000</td>\n",
       "      <td>1023.500000</td>\n",
       "      <td>45.750000</td>\n",
       "    </tr>\n",
       "    <tr>\n",
       "      <th rowspan=\"2\" valign=\"top\">Timothy</th>\n",
       "      <th>David</th>\n",
       "      <td>28191.000000</td>\n",
       "      <td>724.200000</td>\n",
       "      <td>42.600000</td>\n",
       "    </tr>\n",
       "    <tr>\n",
       "      <th>Stephen</th>\n",
       "      <td>22015.750000</td>\n",
       "      <td>512.000000</td>\n",
       "      <td>35.500000</td>\n",
       "    </tr>\n",
       "  </tbody>\n",
       "</table>\n",
       "</div>"
      ],
      "text/plain": [
       "                       Sale_amt   Unit_price      Units\n",
       "Manager SalesMan                                       \n",
       "Douglas John       41338.666667   607.666667  52.000000\n",
       "        Karen      16068.000000   261.166667  56.666667\n",
       "        Michael    33418.000000   849.000000  44.500000\n",
       "Hermann Luis       41274.600000   690.900000  56.200000\n",
       "        Shelli      8424.500000   185.500000  48.250000\n",
       "        Sigal      41679.166667   585.500000  57.666667\n",
       "Martha  Alexander  29587.875000   529.750000  49.500000\n",
       "        Diana      18050.000000   362.500000  62.500000\n",
       "        Steven     49922.500000  1023.500000  45.750000\n",
       "Timothy David      28191.000000   724.200000  42.600000\n",
       "        Stephen    22015.750000   512.000000  35.500000"
      ]
     },
     "execution_count": 3,
     "metadata": {},
     "output_type": "execute_result"
    }
   ],
   "source": [
    "import numpy as np\n",
    "import pandas as pd\n",
    "sales_data = pd.read_excel(\"resources/SaleData.xlsx\")\n",
    "df = pd.DataFrame(sales_data)\n",
    "pd.pivot_table(df, index = [\"Manager\", \"SalesMan\"])"
   ]
  },
  {
   "cell_type": "markdown",
   "id": "0d51514d",
   "metadata": {
    "ExecuteTime": {
     "end_time": "2022-08-20T14:44:28.217924Z",
     "start_time": "2022-08-20T14:44:28.215576Z"
    }
   },
   "source": [
    "## Create a Pivot table and find the total sale amount region wise, manager wise"
   ]
  },
  {
   "cell_type": "code",
   "execution_count": 4,
   "id": "1aac1023",
   "metadata": {},
   "outputs": [
    {
     "data": {
      "text/html": [
       "<div>\n",
       "<style scoped>\n",
       "    .dataframe tbody tr th:only-of-type {\n",
       "        vertical-align: middle;\n",
       "    }\n",
       "\n",
       "    .dataframe tbody tr th {\n",
       "        vertical-align: top;\n",
       "    }\n",
       "\n",
       "    .dataframe thead th {\n",
       "        text-align: right;\n",
       "    }\n",
       "</style>\n",
       "<table border=\"1\" class=\"dataframe\">\n",
       "  <thead>\n",
       "    <tr style=\"text-align: right;\">\n",
       "      <th></th>\n",
       "      <th></th>\n",
       "      <th>Sale_amt</th>\n",
       "    </tr>\n",
       "    <tr>\n",
       "      <th>Region</th>\n",
       "      <th>Manager</th>\n",
       "      <th></th>\n",
       "    </tr>\n",
       "  </thead>\n",
       "  <tbody>\n",
       "    <tr>\n",
       "      <th rowspan=\"4\" valign=\"top\">Central</th>\n",
       "      <th>Douglas</th>\n",
       "      <td>41338.666667</td>\n",
       "    </tr>\n",
       "    <tr>\n",
       "      <th>Hermann</th>\n",
       "      <td>30425.708333</td>\n",
       "    </tr>\n",
       "    <tr>\n",
       "      <th>Martha</th>\n",
       "      <td>49922.500000</td>\n",
       "    </tr>\n",
       "    <tr>\n",
       "      <th>Timothy</th>\n",
       "      <td>28191.000000</td>\n",
       "    </tr>\n",
       "    <tr>\n",
       "      <th rowspan=\"2\" valign=\"top\">East</th>\n",
       "      <th>Douglas</th>\n",
       "      <td>16068.000000</td>\n",
       "    </tr>\n",
       "    <tr>\n",
       "      <th>Martha</th>\n",
       "      <td>27280.300000</td>\n",
       "    </tr>\n",
       "    <tr>\n",
       "      <th rowspan=\"2\" valign=\"top\">West</th>\n",
       "      <th>Douglas</th>\n",
       "      <td>33418.000000</td>\n",
       "    </tr>\n",
       "    <tr>\n",
       "      <th>Timothy</th>\n",
       "      <td>22015.750000</td>\n",
       "    </tr>\n",
       "  </tbody>\n",
       "</table>\n",
       "</div>"
      ],
      "text/plain": [
       "                     Sale_amt\n",
       "Region  Manager              \n",
       "Central Douglas  41338.666667\n",
       "        Hermann  30425.708333\n",
       "        Martha   49922.500000\n",
       "        Timothy  28191.000000\n",
       "East    Douglas  16068.000000\n",
       "        Martha   27280.300000\n",
       "West    Douglas  33418.000000\n",
       "        Timothy  22015.750000"
      ]
     },
     "execution_count": 4,
     "metadata": {},
     "output_type": "execute_result"
    }
   ],
   "source": [
    "import numpy as np\n",
    "import pandas as pd\n",
    "sales_data = pd.read_excel(\"resources/SaleData.xlsx\")\n",
    "df = pd.DataFrame(sales_data)\n",
    "pd.pivot_table(df, index = [\"Region\", \"Manager\"], values = \"Sale_amt\")"
   ]
  },
  {
   "cell_type": "markdown",
   "id": "303b93c7",
   "metadata": {},
   "source": [
    "## item wise unit sold"
   ]
  },
  {
   "cell_type": "code",
   "execution_count": 16,
   "id": "c59fd9e7",
   "metadata": {
    "ExecuteTime": {
     "end_time": "2022-08-20T14:53:07.373142Z",
     "start_time": "2022-08-20T14:53:07.364007Z"
    }
   },
   "outputs": [
    {
     "data": {
      "text/html": [
       "<div>\n",
       "<style scoped>\n",
       "    .dataframe tbody tr th:only-of-type {\n",
       "        vertical-align: middle;\n",
       "    }\n",
       "\n",
       "    .dataframe tbody tr th {\n",
       "        vertical-align: top;\n",
       "    }\n",
       "\n",
       "    .dataframe thead th {\n",
       "        text-align: right;\n",
       "    }\n",
       "</style>\n",
       "<table border=\"1\" class=\"dataframe\">\n",
       "  <thead>\n",
       "    <tr style=\"text-align: right;\">\n",
       "      <th></th>\n",
       "      <th>OrderDate</th>\n",
       "      <th>Region</th>\n",
       "      <th>Manager</th>\n",
       "      <th>SalesMan</th>\n",
       "      <th>Item</th>\n",
       "      <th>Units</th>\n",
       "      <th>Unit_price</th>\n",
       "      <th>Sale_amt</th>\n",
       "    </tr>\n",
       "  </thead>\n",
       "  <tbody>\n",
       "    <tr>\n",
       "      <th>0</th>\n",
       "      <td>2018-01-06</td>\n",
       "      <td>East</td>\n",
       "      <td>Martha</td>\n",
       "      <td>Alexander</td>\n",
       "      <td>Television</td>\n",
       "      <td>95.0</td>\n",
       "      <td>1198.0</td>\n",
       "      <td>113810.0</td>\n",
       "    </tr>\n",
       "    <tr>\n",
       "      <th>1</th>\n",
       "      <td>2018-01-23</td>\n",
       "      <td>Central</td>\n",
       "      <td>Hermann</td>\n",
       "      <td>Shelli</td>\n",
       "      <td>Home Theater</td>\n",
       "      <td>50.0</td>\n",
       "      <td>500.0</td>\n",
       "      <td>25000.0</td>\n",
       "    </tr>\n",
       "  </tbody>\n",
       "</table>\n",
       "</div>"
      ],
      "text/plain": [
       "   OrderDate   Region  Manager   SalesMan          Item  Units  Unit_price  \\\n",
       "0 2018-01-06     East   Martha  Alexander    Television   95.0      1198.0   \n",
       "1 2018-01-23  Central  Hermann     Shelli  Home Theater   50.0       500.0   \n",
       "\n",
       "   Sale_amt  \n",
       "0  113810.0  \n",
       "1   25000.0  "
      ]
     },
     "execution_count": 16,
     "metadata": {},
     "output_type": "execute_result"
    }
   ],
   "source": [
    "df.head(2)"
   ]
  },
  {
   "cell_type": "code",
   "execution_count": null,
   "id": "d84d4431",
   "metadata": {},
   "outputs": [],
   "source": []
  },
  {
   "cell_type": "markdown",
   "id": "d9b67b03",
   "metadata": {},
   "source": [
    "## count the manager wise sale and mean value of sale amount"
   ]
  },
  {
   "cell_type": "code",
   "execution_count": null,
   "id": "cbf7faa8",
   "metadata": {},
   "outputs": [],
   "source": []
  },
  {
   "cell_type": "markdown",
   "id": "bfe03ec3",
   "metadata": {
    "ExecuteTime": {
     "end_time": "2022-08-20T14:59:41.800238Z",
     "start_time": "2022-08-20T14:59:41.797875Z"
    }
   },
   "source": [
    "## find manager wise, salesman wise total sale and also display the sum of all sale amount at the bottom"
   ]
  },
  {
   "cell_type": "code",
   "execution_count": null,
   "id": "a1f769e3",
   "metadata": {},
   "outputs": [],
   "source": []
  },
  {
   "cell_type": "markdown",
   "id": "edc3c3c5",
   "metadata": {},
   "source": [
    "## find the total sale amount region wise, manager wise, sales man wise"
   ]
  },
  {
   "cell_type": "markdown",
   "id": "3ad29128",
   "metadata": {},
   "source": [
    "## find the maximum and minimum sale value of the items"
   ]
  },
  {
   "cell_type": "code",
   "execution_count": null,
   "id": "45fb29e5",
   "metadata": {},
   "outputs": [],
   "source": []
  },
  {
   "cell_type": "markdown",
   "id": "c66367da",
   "metadata": {},
   "source": [
    "# Pandas Style exercise"
   ]
  },
  {
   "cell_type": "code",
   "execution_count": 56,
   "id": "9f00207e",
   "metadata": {
    "ExecuteTime": {
     "end_time": "2022-08-21T00:11:44.842386Z",
     "start_time": "2022-08-21T00:11:44.821876Z"
    }
   },
   "outputs": [],
   "source": [
    "import pandas as pd\n",
    "df = pd.read_csv('resources/pandas_style.csv')"
   ]
  },
  {
   "cell_type": "markdown",
   "id": "47715bd3",
   "metadata": {},
   "source": [
    "## write a function to show red for value less than zero and others as blue"
   ]
  },
  {
   "cell_type": "code",
   "execution_count": null,
   "id": "c79107f3",
   "metadata": {},
   "outputs": [],
   "source": []
  },
  {
   "cell_type": "markdown",
   "id": "44976ea0",
   "metadata": {},
   "source": [
    "## Highlight null value with red color"
   ]
  },
  {
   "cell_type": "markdown",
   "id": "c477e6e5",
   "metadata": {
    "ExecuteTime": {
     "end_time": "2022-08-21T00:14:09.909933Z",
     "start_time": "2022-08-21T00:14:09.907947Z"
    }
   },
   "source": [
    "## Highlight maximum value from each column with green color"
   ]
  },
  {
   "cell_type": "markdown",
   "id": "329855f4",
   "metadata": {},
   "source": [
    "## background color to pink and blue"
   ]
  },
  {
   "cell_type": "code",
   "execution_count": null,
   "id": "12a60896",
   "metadata": {},
   "outputs": [],
   "source": []
  }
 ],
 "metadata": {
  "kernelspec": {
   "display_name": "python_ml",
   "language": "python",
   "name": "python_ml"
  },
  "language_info": {
   "codemirror_mode": {
    "name": "ipython",
    "version": 3
   },
   "file_extension": ".py",
   "mimetype": "text/x-python",
   "name": "python",
   "nbconvert_exporter": "python",
   "pygments_lexer": "ipython3",
   "version": "3.9.0"
  },
  "toc": {
   "base_numbering": 1,
   "nav_menu": {},
   "number_sections": true,
   "sideBar": true,
   "skip_h1_title": false,
   "title_cell": "Table of Contents",
   "title_sidebar": "Contents",
   "toc_cell": false,
   "toc_position": {
    "height": "calc(100% - 180px)",
    "left": "10px",
    "top": "150px",
    "width": "204.913px"
   },
   "toc_section_display": true,
   "toc_window_display": true
  }
 },
 "nbformat": 4,
 "nbformat_minor": 5
}
