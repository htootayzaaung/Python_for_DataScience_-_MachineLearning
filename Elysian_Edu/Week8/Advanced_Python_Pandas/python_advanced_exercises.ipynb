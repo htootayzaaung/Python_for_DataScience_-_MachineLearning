{
 "cells": [
  {
   "cell_type": "code",
   "execution_count": null,
   "id": "0c7e625c",
   "metadata": {},
   "outputs": [],
   "source": []
  },
  {
   "cell_type": "markdown",
   "id": "5dc21dbc",
   "metadata": {},
   "source": [
    "# Make a decorator function with following output"
   ]
  },
  {
   "cell_type": "code",
   "execution_count": null,
   "id": "1e98b25e",
   "metadata": {},
   "outputs": [],
   "source": [
    "#'<b><i><u>hello world</u></i></b>'\n"
   ]
  },
  {
   "cell_type": "markdown",
   "id": "8eaa518f",
   "metadata": {
    "ExecuteTime": {
     "end_time": "2022-08-20T15:20:47.093278Z",
     "start_time": "2022-08-20T15:20:47.091490Z"
    }
   },
   "source": [
    "# Using *args to create varialbe length sum function"
   ]
  },
  {
   "cell_type": "code",
   "execution_count": 8,
   "id": "c4ae9823",
   "metadata": {
    "ExecuteTime": {
     "end_time": "2022-08-20T15:23:23.171470Z",
     "start_time": "2022-08-20T15:23:23.168354Z"
    }
   },
   "outputs": [
    {
     "name": "stdout",
     "output_type": "stream",
     "text": [
      "Sum: 8\n",
      "Sum: 22\n",
      "Sum: 46\n"
     ]
    }
   ],
   "source": [
    "sum_all(3,5)\n",
    "#expected output = Sum: 8 \n",
    "sum_all(4,5,6,7)\n",
    "#expected output = Sum: 22\n",
    "sum_all(20,2,13,5,6)\n",
    "#expected output = Sum: 46"
   ]
  },
  {
   "cell_type": "code",
   "execution_count": null,
   "id": "35c4e61d",
   "metadata": {},
   "outputs": [],
   "source": []
  },
  {
   "cell_type": "markdown",
   "id": "600e5f52",
   "metadata": {},
   "source": [
    "# Using **kwargs to pass the variable keyword arguments"
   ]
  },
  {
   "cell_type": "code",
   "execution_count": null,
   "id": "9510a94f",
   "metadata": {},
   "outputs": [],
   "source": [
    "#expected output\n",
    "\n",
    "# information(Firstname=\"John\", Lastname=\"Wick\", Age=35, Phone=99999999)\n",
    "# Expected output \n",
    "# Data type of argument: <class 'dict'>\n",
    "# Firstname is John\n",
    "# Lastname is Wick\n",
    "# Age is 35\n",
    "# Phone is 99999999\n",
    "\n",
    "# information(Firstname=\"Elysian\", Lastname=\"Edu\", Email=\"elysian@nomail.com\", Country=\"Gotham\", Age=25, Phone=989810)\n",
    "# Expected output\n",
    "# Data type of argument: <class 'dict'>\n",
    "# Firstname is Elysian\n",
    "# Lastname is Edu\n",
    "# Email is elysian@nomail.com\n",
    "# Country is Gotham\n",
    "# Age is 25\n",
    "# Phone is 989810 "
   ]
  },
  {
   "cell_type": "code",
   "execution_count": null,
   "id": "b6365460",
   "metadata": {},
   "outputs": [],
   "source": []
  },
  {
   "cell_type": "code",
   "execution_count": null,
   "id": "ab2a72b5",
   "metadata": {},
   "outputs": [],
   "source": []
  },
  {
   "cell_type": "code",
   "execution_count": null,
   "id": "de015563",
   "metadata": {},
   "outputs": [],
   "source": []
  },
  {
   "cell_type": "code",
   "execution_count": null,
   "id": "394f1170",
   "metadata": {},
   "outputs": [],
   "source": []
  }
 ],
 "metadata": {
  "kernelspec": {
   "display_name": "sa_env",
   "language": "python",
   "name": "sa_env"
  },
  "language_info": {
   "codemirror_mode": {
    "name": "ipython",
    "version": 3
   },
   "file_extension": ".py",
   "mimetype": "text/x-python",
   "name": "python",
   "nbconvert_exporter": "python",
   "pygments_lexer": "ipython3",
   "version": "3.10.4"
  },
  "toc": {
   "base_numbering": 1,
   "nav_menu": {},
   "number_sections": true,
   "sideBar": true,
   "skip_h1_title": false,
   "title_cell": "Table of Contents",
   "title_sidebar": "Contents",
   "toc_cell": false,
   "toc_position": {},
   "toc_section_display": true,
   "toc_window_display": false
  }
 },
 "nbformat": 4,
 "nbformat_minor": 5
}
