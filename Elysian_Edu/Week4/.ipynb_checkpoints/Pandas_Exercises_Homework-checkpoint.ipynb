{
 "cells": [
  {
   "cell_type": "markdown",
   "id": "475c4dfe",
   "metadata": {},
   "source": [
    "# exercise 1"
   ]
  },
  {
   "cell_type": "markdown",
   "id": "25b80a08",
   "metadata": {},
   "source": [
    "How to import pandas and check the version?\n"
   ]
  },
  {
   "cell_type": "code",
   "execution_count": 1,
   "id": "9725324d",
   "metadata": {
    "ExecuteTime": {
     "end_time": "2022-07-25T09:13:49.697782Z",
     "start_time": "2022-07-25T09:13:49.467457Z"
    }
   },
   "outputs": [
    {
     "data": {
      "text/plain": [
       "'1.3.5'"
      ]
     },
     "execution_count": 1,
     "metadata": {},
     "output_type": "execute_result"
    }
   ],
   "source": [
    "import pandas as pd\n",
    "\n",
    "pd.__version__"
   ]
  },
  {
   "cell_type": "markdown",
   "id": "a16970a4",
   "metadata": {},
   "source": [
    "# exercise 2"
   ]
  },
  {
   "cell_type": "markdown",
   "id": "013563bd",
   "metadata": {},
   "source": [
    " How to create a series from a list, numpy array and dict?\n",
    " \n",
    " Input : \n",
    " ```\n",
    "import numpy as np\n",
    "mylist = list('abcedfghijklmnopqrstuvwxyz')\n",
    "myarr = np.arange(26)\n",
    "mydict = dict(zip(mylist, myarr))\n",
    " ```"
   ]
  },
  {
   "cell_type": "code",
   "execution_count": 2,
   "id": "f7b5bd18",
   "metadata": {
    "ExecuteTime": {
     "end_time": "2022-07-25T09:14:58.730835Z",
     "start_time": "2022-07-25T09:14:58.724912Z"
    }
   },
   "outputs": [
    {
     "name": "stdout",
     "output_type": "stream",
     "text": [
      "a    0\n",
      "b    1\n",
      "c    2\n",
      "e    3\n",
      "d    4\n",
      "dtype: int64\n"
     ]
    }
   ],
   "source": [
    "# Inputs\n",
    "import numpy as np\n",
    "mylist = list('abcedfghijklmnopqrstuvwxyz')\n",
    "myarr = np.arange(26)\n",
    "mydict = dict(zip(mylist, myarr))\n",
    "\n",
    "# Solution\n",
    "ser1 = pd.Series(mylist)\n",
    "ser2 = pd.Series(myarr)\n",
    "ser3 = pd.Series(mydict)\n",
    "print(ser3.head())\n"
   ]
  },
  {
   "cell_type": "markdown",
   "id": "0df1beaf",
   "metadata": {},
   "source": [
    "# exercise 3\n",
    "\n",
    "How to get the items not common to both series A and series B?\n",
    "\n",
    "Input : \n",
    "\n",
    "```\n",
    "ser1 = pd.Series([1, 2, 3, 4, 5])\n",
    "ser2 = pd.Series([4, 5, 6, 7, 8])\n",
    "```"
   ]
  },
  {
   "cell_type": "code",
   "execution_count": 3,
   "id": "d75a67d4",
   "metadata": {
    "ExecuteTime": {
     "end_time": "2022-07-25T09:17:05.617604Z",
     "start_time": "2022-07-25T09:17:05.609263Z"
    },
    "scrolled": true
   },
   "outputs": [
    {
     "data": {
      "text/plain": [
       "0    1\n",
       "1    2\n",
       "2    3\n",
       "5    6\n",
       "6    7\n",
       "7    8\n",
       "dtype: int64"
      ]
     },
     "execution_count": 3,
     "metadata": {},
     "output_type": "execute_result"
    }
   ],
   "source": [
    "# Input\n",
    "ser1 = pd.Series([1, 2, 3, 4, 5])\n",
    "ser2 = pd.Series([4, 5, 6, 7, 8])\n",
    "\n",
    "# Solution\n",
    "ser_u = pd.Series(np.union1d(ser1, ser2))  # union\n",
    "ser_i = pd.Series(np.intersect1d(ser1, ser2))  # intersect\n",
    "ser_u[~ser_u.isin(ser_i)]"
   ]
  },
  {
   "cell_type": "markdown",
   "id": "1333add5",
   "metadata": {},
   "source": [
    "# exercise 4\n",
    "\n",
    "How to get frequency counts of unique items of a series?\n",
    "\n",
    "Input :\n",
    "\n",
    "series = ['d', 'b', 'g', 'a', 'g', 'h', 'f', 'c', 'f', 'h', 'd', 'a', 'f', 'b', 'g', 'a', 'b', 'g', 'h', 'e', 'c', 'a', 'g', 'a', 'e', 'b', 'g', 'b', 'b', 'f']"
   ]
  },
  {
   "cell_type": "markdown",
   "id": "09422c61",
   "metadata": {},
   "source": [
    "# exercise 5\n",
    "\n",
    "How to stack two series vertically and horizontally ?\n",
    "\n",
    "```\n",
    "ser1 = pd.Series(range(5))\n",
    "ser2 = pd.Series(list('abcde'))\n",
    "\n",
    "```"
   ]
  },
  {
   "cell_type": "code",
   "execution_count": 16,
   "id": "65ef32f8",
   "metadata": {
    "ExecuteTime": {
     "end_time": "2022-07-25T09:23:58.433910Z",
     "start_time": "2022-07-25T09:23:58.425355Z"
    }
   },
   "outputs": [
    {
     "name": "stdout",
     "output_type": "stream",
     "text": [
      "0    0\n",
      "1    1\n",
      "2    2\n",
      "3    3\n",
      "4    4\n",
      "0    a\n",
      "1    b\n",
      "2    c\n",
      "3    d\n",
      "4    e\n",
      "dtype: object\n",
      "===============\n",
      "   0  1\n",
      "0  0  a\n",
      "1  1  b\n",
      "2  2  c\n",
      "3  3  d\n",
      "4  4  e\n"
     ]
    }
   ],
   "source": [
    "# Input\n",
    "ser1 = pd.Series(range(5))\n",
    "ser2 = pd.Series(list('abcde'))\n",
    "\n",
    "# Output\n",
    "# Vertical\n",
    "vertical_df = pd.concat([ser1, ser2], axis=0)\n",
    "print(vertical_df.head(10))\n",
    "\n",
    "print('===============')\n",
    "# Horizontal\n",
    "df = pd.concat([ser1, ser2], axis=1)\n",
    "print(df)"
   ]
  },
  {
   "cell_type": "markdown",
   "id": "3a0727c5",
   "metadata": {},
   "source": [
    "# exercise 6\n",
    "\n",
    "How to convert the first character of each element in a series to uppercase using lambda?\n",
    "\n",
    "Input : \n",
    "\n",
    "```\n",
    "ser = pd.Series(['how', 'to', 'kick', 'ass?'])\n",
    "```"
   ]
  },
  {
   "cell_type": "markdown",
   "id": "1d2000e0",
   "metadata": {},
   "source": [
    "# exercise 7\n",
    "\n",
    "How to rename a specific columns in a dataframe?\n",
    "\n",
    "Rename the column Type as CarType in df and replace the ‘.’ in column names with ‘_’.\n",
    "\n",
    "Input\n",
    "\n",
    "```\n",
    "df = pd.read_csv('https://raw.githubusercontent.com/selva86/datasets/master/Cars93_miss.csv')\n",
    "print(df.columns)\n",
    "```"
   ]
  },
  {
   "cell_type": "markdown",
   "id": "d4ff224a",
   "metadata": {},
   "source": [
    "# exercise 8\n",
    "\n",
    "How to filter every nth row in a dataframe?\n",
    "\n",
    "From df, filter the 'Manufacturer', 'Model' and 'Type' for every 20th row starting from 1st (row 0).\n",
    "\n",
    "Input \n",
    "\n",
    "```\n",
    "df = pd.read_csv('https://raw.githubusercontent.com/selva86/datasets/master/Cars93_miss.csv')\n",
    "```"
   ]
  },
  {
   "cell_type": "markdown",
   "id": "92dc6762",
   "metadata": {},
   "source": [
    "# exercise 9\n",
    "\n",
    "How to check if a dataframe has any missing values?\n",
    "\n",
    "Check if df has any missing values.\n",
    "\n",
    "Input:\n",
    "\n",
    "```\n",
    "df = pd.read_csv('https://raw.githubusercontent.com/selva86/datasets/master/Cars93_miss.csv')\n",
    "\n",
    "```"
   ]
  },
  {
   "cell_type": "markdown",
   "id": "54492457",
   "metadata": {},
   "source": [
    "# exercise 10\n",
    "\n",
    "How to count the number of missing values in each column?\n",
    "\n",
    "Count the number of missing values in each column of df. Which column has the maximum number of missing values?\n",
    "\n",
    "Input :\n",
    "\n",
    "```\n",
    "df = pd.read_csv('https://raw.githubusercontent.com/selva86/datasets/master/Cars93_miss.csv')\n",
    "\n",
    "```"
   ]
  },
  {
   "cell_type": "code",
   "execution_count": null,
   "id": "bf70b1fe",
   "metadata": {},
   "outputs": [],
   "source": []
  }
 ],
 "metadata": {
  "kernelspec": {
   "display_name": "Python 3 (ipykernel)",
   "language": "python",
   "name": "python3"
  },
  "language_info": {
   "codemirror_mode": {
    "name": "ipython",
    "version": 3
   },
   "file_extension": ".py",
   "mimetype": "text/x-python",
   "name": "python",
   "nbconvert_exporter": "python",
   "pygments_lexer": "ipython3",
   "version": "3.9.12"
  },
  "toc": {
   "base_numbering": 1,
   "nav_menu": {},
   "number_sections": true,
   "sideBar": true,
   "skip_h1_title": false,
   "title_cell": "Table of Contents",
   "title_sidebar": "Contents",
   "toc_cell": false,
   "toc_position": {},
   "toc_section_display": true,
   "toc_window_display": true
  },
  "varInspector": {
   "cols": {
    "lenName": 16,
    "lenType": 16,
    "lenVar": 40
   },
   "kernels_config": {
    "python": {
     "delete_cmd_postfix": "",
     "delete_cmd_prefix": "del ",
     "library": "var_list.py",
     "varRefreshCmd": "print(var_dic_list())"
    },
    "r": {
     "delete_cmd_postfix": ") ",
     "delete_cmd_prefix": "rm(",
     "library": "var_list.r",
     "varRefreshCmd": "cat(var_dic_list()) "
    }
   },
   "types_to_exclude": [
    "module",
    "function",
    "builtin_function_or_method",
    "instance",
    "_Feature"
   ],
   "window_display": false
  }
 },
 "nbformat": 4,
 "nbformat_minor": 5
}
