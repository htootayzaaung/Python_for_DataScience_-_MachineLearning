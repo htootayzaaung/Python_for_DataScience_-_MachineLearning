{
 "cells": [
  {
   "cell_type": "markdown",
   "id": "475c4dfe",
   "metadata": {},
   "source": [
    "# exercise 1"
   ]
  },
  {
   "cell_type": "markdown",
   "id": "25b80a08",
   "metadata": {},
   "source": [
    "How to import pandas and check the version?\n"
   ]
  },
  {
   "cell_type": "code",
   "execution_count": 2,
   "id": "9725324d",
   "metadata": {
    "ExecuteTime": {
     "end_time": "2022-07-25T09:13:49.697782Z",
     "start_time": "2022-07-25T09:13:49.467457Z"
    }
   },
   "outputs": [
    {
     "data": {
      "text/plain": [
       "'1.4.2'"
      ]
     },
     "execution_count": 2,
     "metadata": {},
     "output_type": "execute_result"
    }
   ],
   "source": [
    "import pandas \n",
    "\n",
    "pandas.__version__"
   ]
  },
  {
   "cell_type": "markdown",
   "id": "a16970a4",
   "metadata": {},
   "source": [
    "# exercise 2"
   ]
  },
  {
   "cell_type": "markdown",
   "id": "013563bd",
   "metadata": {},
   "source": [
    " How to create a series from a list, numpy array and dict?\n",
    " \n",
    " Input : \n",
    " ```\n",
    "import numpy as np\n",
    "mylist = list('abcedfghijklmnopqrstuvwxyz')\n",
    "myarr = np.arange(26)\n",
    "mydict = dict(zip(mylist, myarr))\n",
    " ```"
   ]
  },
  {
   "cell_type": "code",
   "execution_count": 8,
   "id": "f7b5bd18",
   "metadata": {
    "ExecuteTime": {
     "end_time": "2022-07-25T09:14:58.730835Z",
     "start_time": "2022-07-25T09:14:58.724912Z"
    }
   },
   "outputs": [
    {
     "name": "stdout",
     "output_type": "stream",
     "text": [
      "a    0\n",
      "b    1\n",
      "c    2\n",
      "e    3\n",
      "d    4\n",
      "dtype: int64\n"
     ]
    }
   ],
   "source": [
    "import pandas\n",
    "import numpy\n",
    "\n",
    "mylist = list('abcedfghijklmnopqrstuvwxyz')\n",
    "myarr = numpy.arange(26)\n",
    "mydict = dict(zip(mylist, myarr))\n",
    "\n",
    "# Solution\n",
    "ser1 = pandas.Series(mylist)\n",
    "ser2 = pandas.Series(myarr)\n",
    "ser3 = pandas.Series(mydict)\n",
    "print(ser3.head())\n"
   ]
  },
  {
   "cell_type": "markdown",
   "id": "0df1beaf",
   "metadata": {},
   "source": [
    "# exercise 3\n",
    "\n",
    "How to get the items not common to both series A and series B?\n",
    "\n",
    "Input : \n",
    "\n",
    "```\n",
    "ser1 = pd.Series([1, 2, 3, 4, 5])\n",
    "ser2 = pd.Series([4, 5, 6, 7, 8])\n",
    "```"
   ]
  },
  {
   "cell_type": "code",
   "execution_count": 3,
   "id": "d75a67d4",
   "metadata": {
    "ExecuteTime": {
     "end_time": "2022-07-25T09:17:05.617604Z",
     "start_time": "2022-07-25T09:17:05.609263Z"
    },
    "scrolled": true
   },
   "outputs": [
    {
     "data": {
      "text/plain": [
       "0    1\n",
       "1    2\n",
       "2    3\n",
       "5    6\n",
       "6    7\n",
       "7    8\n",
       "dtype: int64"
      ]
     },
     "execution_count": 3,
     "metadata": {},
     "output_type": "execute_result"
    }
   ],
   "source": [
    "# Input\n",
    "ser1 = pd.Series([1, 2, 3, 4, 5])\n",
    "ser2 = pd.Series([4, 5, 6, 7, 8])\n",
    "\n",
    "# Solution\n",
    "ser_u = pd.Series(np.union1d(ser1, ser2))  # union\n",
    "ser_i = pd.Series(np.intersect1d(ser1, ser2))  # intersect\n",
    "ser_u[~ser_u.isin(ser_i)]"
   ]
  },
  {
   "cell_type": "markdown",
   "id": "1333add5",
   "metadata": {},
   "source": [
    "# exercise 4\n",
    "\n",
    "How to get frequency counts of unique items of a series?\n",
    "\n",
    "Input :\n",
    "\n",
    "series = ['d', 'b', 'g', 'a', 'g', 'h', 'f', 'c', 'f', 'h', 'd', 'a', 'f', 'b', 'g', 'a', 'b', 'g', 'h', 'e', 'c', 'a', 'g', 'a', 'e', 'b', 'g', 'b', 'b', 'f']"
   ]
  },
  {
   "cell_type": "code",
   "execution_count": 10,
   "id": "c9be9569",
   "metadata": {},
   "outputs": [
    {
     "name": "stdout",
     "output_type": "stream",
     "text": [
      "b    6\n",
      "g    6\n",
      "a    5\n",
      "f    4\n",
      "h    3\n",
      "d    2\n",
      "c    2\n",
      "e    2\n",
      "dtype: int64\n"
     ]
    }
   ],
   "source": [
    "import pandas\n",
    "\n",
    "series = ['d', 'b', 'g', 'a', 'g', 'h', 'f', 'c', 'f', 'h', 'd', 'a', 'f', 'b', 'g', 'a', 'b', 'g', 'h', 'e', 'c', 'a', 'g', 'a', 'e', 'b', 'g', 'b', 'b', 'f']\n",
    "\n",
    "frequency_count = pandas.Series(series)\n",
    "\n",
    "print(frequency_count.value_counts())"
   ]
  },
  {
   "cell_type": "markdown",
   "id": "09422c61",
   "metadata": {},
   "source": [
    "# exercise 5\n",
    "\n",
    "How to stack two series vertically and horizontally ?\n",
    "\n",
    "```\n",
    "ser1 = pd.Series(range(5))\n",
    "ser2 = pd.Series(list('abcde'))\n",
    "\n",
    "```"
   ]
  },
  {
   "cell_type": "code",
   "execution_count": 16,
   "id": "65ef32f8",
   "metadata": {
    "ExecuteTime": {
     "end_time": "2022-07-25T09:23:58.433910Z",
     "start_time": "2022-07-25T09:23:58.425355Z"
    }
   },
   "outputs": [
    {
     "name": "stdout",
     "output_type": "stream",
     "text": [
      "0    0\n",
      "1    1\n",
      "2    2\n",
      "3    3\n",
      "4    4\n",
      "0    a\n",
      "1    b\n",
      "2    c\n",
      "3    d\n",
      "4    e\n",
      "dtype: object\n",
      "===============\n",
      "   0  1\n",
      "0  0  a\n",
      "1  1  b\n",
      "2  2  c\n",
      "3  3  d\n",
      "4  4  e\n"
     ]
    }
   ],
   "source": [
    "# Input\n",
    "ser1 = pd.Series(range(5))\n",
    "ser2 = pd.Series(list('abcde'))\n",
    "\n",
    "# Output\n",
    "# Vertical\n",
    "vertical_df = pd.concat([ser1, ser2], axis=0)\n",
    "print(vertical_df.head(10))\n",
    "\n",
    "print('===============')\n",
    "# Horizontal\n",
    "df = pd.concat([ser1, ser2], axis=1)\n",
    "print(df)"
   ]
  },
  {
   "cell_type": "markdown",
   "id": "3a0727c5",
   "metadata": {},
   "source": [
    "# exercise 6\n",
    "\n",
    "How to convert the first character of each element in a series to uppercase using lambda?\n",
    "\n",
    "Input : \n",
    "\n",
    "```\n",
    "ser = pd.Series(['how', 'to', 'kick', 'ass?'])\n",
    "```"
   ]
  },
  {
   "cell_type": "code",
   "execution_count": 14,
   "id": "3327a923",
   "metadata": {},
   "outputs": [
    {
     "name": "stdout",
     "output_type": "stream",
     "text": [
      "0     How\n",
      "1      To\n",
      "2    Kick\n",
      "3    Ass?\n",
      "dtype: object\n"
     ]
    }
   ],
   "source": [
    "import pandas as pd\n",
    "\n",
    "ser = pd.Series(['how', 'to', 'kick', 'ass?'])\n",
    "new_ser = ser.map(lambda x: x[0].upper() + x[1: ])\n",
    "\n",
    "print(new_ser)"
   ]
  },
  {
   "cell_type": "markdown",
   "id": "1d2000e0",
   "metadata": {},
   "source": [
    "# exercise 7\n",
    "\n",
    "How to rename a specific columns in a dataframe?\n",
    "\n",
    "Rename the column Type as CarType in df and replace the ‘.’ in column names with ‘_’.\n",
    "\n",
    "Input\n",
    "\n",
    "```\n",
    "df = pd.read_csv('https://raw.githubusercontent.com/selva86/datasets/master/Cars93_miss.csv')\n",
    "print(df.columns)\n",
    "```"
   ]
  },
  {
   "cell_type": "code",
   "execution_count": 19,
   "id": "97b6bb9c",
   "metadata": {},
   "outputs": [
    {
     "name": "stdout",
     "output_type": "stream",
     "text": [
      "Index(['Manufacturer', 'Model', 'CarType', 'Min_Price', 'Price', 'Max_Price',\n",
      "       'MPG_city', 'MPG_highway', 'AirBags', 'DriveTrain', 'Cylinders',\n",
      "       'EngineSize', 'Horsepower', 'RPM', 'Rev_per_mile', 'Man_trans_avail',\n",
      "       'Fuel_tank_capacity', 'Passengers', 'Length', 'Wheelbase', 'Width',\n",
      "       'Turn_circle', 'Rear_seat_room', 'Luggage_room', 'Weight', 'Origin',\n",
      "       'Make'],\n",
      "      dtype='object')\n"
     ]
    },
    {
     "name": "stderr",
     "output_type": "stream",
     "text": [
      "/var/folders/0t/37zzt2wj3ygb5dmbchvqxtdc0000gn/T/ipykernel_4497/2172532274.py:7: FutureWarning: The default value of regex will change from True to False in a future version.\n",
      "  df.columns = df.columns.str.replace(r\"[.]\", \"_\")\n"
     ]
    }
   ],
   "source": [
    "import pandas as pf\n",
    "\n",
    "df = pd.read_csv('https://raw.githubusercontent.com/selva86/datasets/master/Cars93_miss.csv')\n",
    "\n",
    "df.rename(columns = {\"Type\": \"CarType\"}, inplace = True)\n",
    "\n",
    "df.columns = df.columns.str.replace(r\"[.]\", \"_\")\n",
    "\n",
    "print(df.columns)\n"
   ]
  },
  {
   "cell_type": "markdown",
   "id": "d4ff224a",
   "metadata": {},
   "source": [
    "# exercise 8\n",
    "\n",
    "How to filter every nth row in a dataframe?\n",
    "\n",
    "From df, filter the 'Manufacturer', 'Model' and 'Type' for every 20th row starting from 1st (row 0).\n",
    "\n",
    "Input \n",
    "\n",
    "```\n",
    "df = pd.read_csv('https://raw.githubusercontent.com/selva86/datasets/master/Cars93_miss.csv')\n",
    "```"
   ]
  },
  {
   "cell_type": "code",
   "execution_count": 21,
   "id": "e2dc298a",
   "metadata": {},
   "outputs": [
    {
     "name": "stdout",
     "output_type": "stream",
     "text": [
      "   Manufacturer    Model     Type  Min.Price  Price  Max.Price  MPG.city  \\\n",
      "0         Acura  Integra    Small       12.9   15.9       18.8      25.0   \n",
      "20     Chrysler  LeBaron  Compact       14.5   15.8       17.1      23.0   \n",
      "40        Honda  Prelude   Sporty       17.0   19.8       22.7      24.0   \n",
      "60      Mercury   Cougar  Midsize       14.9   14.9       14.9      19.0   \n",
      "80       Subaru   Loyale    Small       10.5   10.9       11.3      25.0   \n",
      "\n",
      "    MPG.highway             AirBags DriveTrain  ... Passengers  Length  \\\n",
      "0          31.0                None      Front  ...        5.0   177.0   \n",
      "20         28.0  Driver & Passenger      Front  ...        6.0   183.0   \n",
      "40         31.0  Driver & Passenger      Front  ...        4.0   175.0   \n",
      "60         26.0                None       Rear  ...        5.0   199.0   \n",
      "80         30.0                None        4WD  ...        5.0   175.0   \n",
      "\n",
      "    Wheelbase  Width  Turn.circle Rear.seat.room  Luggage.room  Weight  \\\n",
      "0       102.0   68.0         37.0           26.5           NaN  2705.0   \n",
      "20      104.0   68.0         41.0           30.5          14.0  3085.0   \n",
      "40      100.0   70.0         39.0           23.5           8.0  2865.0   \n",
      "60      113.0   73.0         38.0           28.0          15.0  3610.0   \n",
      "80       97.0   65.0         35.0           27.5          15.0  2490.0   \n",
      "\n",
      "     Origin              Make  \n",
      "0   non-USA     Acura Integra  \n",
      "20      USA  Chrysler LeBaron  \n",
      "40  non-USA     Honda Prelude  \n",
      "60      USA    Mercury Cougar  \n",
      "80  non-USA     Subaru Loyale  \n",
      "\n",
      "[5 rows x 27 columns]\n"
     ]
    }
   ],
   "source": [
    "import pandas as pd\n",
    "\n",
    "df = pd.read_csv('https://raw.githubusercontent.com/selva86/datasets/master/Cars93_miss.csv')\n",
    "\n",
    "print(df.iloc[::20, :])"
   ]
  },
  {
   "cell_type": "markdown",
   "id": "92dc6762",
   "metadata": {},
   "source": [
    "# exercise 9\n",
    "\n",
    "How to check if a dataframe has any missing values?\n",
    "\n",
    "Check if df has any missing values.\n",
    "\n",
    "Input:\n",
    "\n",
    "```\n",
    "df = pd.read_csv('https://raw.githubusercontent.com/selva86/datasets/master/Cars93_miss.csv')\n",
    "\n",
    "```"
   ]
  },
  {
   "cell_type": "code",
   "execution_count": 22,
   "id": "9d1d039f",
   "metadata": {},
   "outputs": [
    {
     "name": "stdout",
     "output_type": "stream",
     "text": [
      "    Manufacturer  Model   Type  Min.Price  Price  Max.Price  MPG.city  \\\n",
      "0          False  False  False      False  False      False     False   \n",
      "1           True  False  False      False  False      False     False   \n",
      "2          False  False  False      False  False      False     False   \n",
      "3          False  False  False       True  False      False     False   \n",
      "4          False  False  False       True  False       True     False   \n",
      "..           ...    ...    ...        ...    ...        ...       ...   \n",
      "88         False  False  False      False  False      False     False   \n",
      "89         False  False  False      False  False      False     False   \n",
      "90         False  False  False      False  False      False     False   \n",
      "91         False  False  False      False  False      False     False   \n",
      "92          True  False  False      False  False      False     False   \n",
      "\n",
      "    MPG.highway  AirBags  DriveTrain  ...  Passengers  Length  Wheelbase  \\\n",
      "0         False    False       False  ...       False   False      False   \n",
      "1         False    False       False  ...       False   False      False   \n",
      "2         False    False       False  ...       False   False      False   \n",
      "3         False    False        True  ...       False   False      False   \n",
      "4         False     True       False  ...       False   False      False   \n",
      "..          ...      ...         ...  ...         ...     ...        ...   \n",
      "88        False    False       False  ...       False   False      False   \n",
      "89        False    False       False  ...       False   False      False   \n",
      "90        False    False       False  ...       False   False      False   \n",
      "91        False    False       False  ...       False   False      False   \n",
      "92        False    False       False  ...       False   False      False   \n",
      "\n",
      "    Width  Turn.circle  Rear.seat.room  Luggage.room  Weight  Origin   Make  \n",
      "0   False        False           False          True   False   False  False  \n",
      "1   False        False           False         False   False   False  False  \n",
      "2   False        False           False         False   False   False  False  \n",
      "3    True        False           False         False   False   False  False  \n",
      "4   False        False           False         False   False   False  False  \n",
      "..    ...          ...             ...           ...     ...     ...    ...  \n",
      "88  False        False           False          True   False    True  False  \n",
      "89  False        False           False         False   False   False  False  \n",
      "90  False        False           False         False   False   False  False  \n",
      "91  False        False           False         False   False   False  False  \n",
      "92  False        False           False         False   False   False  False  \n",
      "\n",
      "[93 rows x 27 columns]\n"
     ]
    }
   ],
   "source": [
    "import pandas as pd\n",
    "\n",
    "df = pd.read_csv('https://raw.githubusercontent.com/selva86/datasets/master/Cars93_miss.csv')\n",
    "\n",
    "print(df.isnull())"
   ]
  },
  {
   "cell_type": "markdown",
   "id": "54492457",
   "metadata": {},
   "source": [
    "# exercise 10\n",
    "\n",
    "How to count the number of missing values in each column?\n",
    "\n",
    "Count the number of missing values in each column of df. Which column has the maximum number of missing values?\n",
    "\n",
    "Input :\n",
    "\n",
    "```\n",
    "df = pd.read_csv('https://raw.githubusercontent.com/selva86/datasets/master/Cars93_miss.csv')\n",
    "\n",
    "```"
   ]
  },
  {
   "cell_type": "code",
   "execution_count": 23,
   "id": "b3532d55",
   "metadata": {},
   "outputs": [
    {
     "name": "stdout",
     "output_type": "stream",
     "text": [
      "Manufacturer           4\n",
      "Model                  1\n",
      "Type                   3\n",
      "Min.Price              7\n",
      "Price                  2\n",
      "Max.Price              5\n",
      "MPG.city               9\n",
      "MPG.highway            2\n",
      "AirBags                6\n",
      "DriveTrain             7\n",
      "Cylinders              5\n",
      "EngineSize             2\n",
      "Horsepower             7\n",
      "RPM                    3\n",
      "Rev.per.mile           6\n",
      "Man.trans.avail        5\n",
      "Fuel.tank.capacity     8\n",
      "Passengers             2\n",
      "Length                 4\n",
      "Wheelbase              1\n",
      "Width                  6\n",
      "Turn.circle            5\n",
      "Rear.seat.room         4\n",
      "Luggage.room          19\n",
      "Weight                 7\n",
      "Origin                 5\n",
      "Make                   3\n",
      "dtype: int64\n"
     ]
    }
   ],
   "source": [
    "import pandas\n",
    "\n",
    "df = pd.read_csv('https://raw.githubusercontent.com/selva86/datasets/master/Cars93_miss.csv')\n",
    "\n",
    "print(df.isnull().sum())"
   ]
  }
 ],
 "metadata": {
  "kernelspec": {
   "display_name": "Python 3 (ipykernel)",
   "language": "python",
   "name": "python3"
  },
  "language_info": {
   "codemirror_mode": {
    "name": "ipython",
    "version": 3
   },
   "file_extension": ".py",
   "mimetype": "text/x-python",
   "name": "python",
   "nbconvert_exporter": "python",
   "pygments_lexer": "ipython3",
   "version": "3.9.12"
  },
  "toc": {
   "base_numbering": 1,
   "nav_menu": {},
   "number_sections": true,
   "sideBar": true,
   "skip_h1_title": false,
   "title_cell": "Table of Contents",
   "title_sidebar": "Contents",
   "toc_cell": false,
   "toc_position": {},
   "toc_section_display": true,
   "toc_window_display": true
  },
  "varInspector": {
   "cols": {
    "lenName": 16,
    "lenType": 16,
    "lenVar": 40
   },
   "kernels_config": {
    "python": {
     "delete_cmd_postfix": "",
     "delete_cmd_prefix": "del ",
     "library": "var_list.py",
     "varRefreshCmd": "print(var_dic_list())"
    },
    "r": {
     "delete_cmd_postfix": ") ",
     "delete_cmd_prefix": "rm(",
     "library": "var_list.r",
     "varRefreshCmd": "cat(var_dic_list()) "
    }
   },
   "types_to_exclude": [
    "module",
    "function",
    "builtin_function_or_method",
    "instance",
    "_Feature"
   ],
   "window_display": false
  }
 },
 "nbformat": 4,
 "nbformat_minor": 5
}
