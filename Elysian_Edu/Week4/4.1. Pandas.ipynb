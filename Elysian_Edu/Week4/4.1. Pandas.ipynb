{
 "cells": [
  {
   "cell_type": "markdown",
   "metadata": {},
   "source": [
    "# Python Pandas : Day 1"
   ]
  },
  {
   "cell_type": "markdown",
   "metadata": {},
   "source": [
    "The *pandas* package is the most important tool at the disposal of Data Scientists and Analysts working in Python today. The powerful machine learning and glamorous visualization tools may get all the attention, but pandas is the backbone of most data projects. \n",
    "\n",
    ">\\[*pandas*\\] is derived from the term \"**pan**el **da**ta\", an econometrics term for data sets that include observations over multiple time periods for the same individuals. — [Wikipedia](https://en.wikipedia.org/wiki/Pandas_%28software%29)\n",
    "\n",
    "If you're thinking about data science as a career, then it is imperative that one of the first things you do is learn pandas. In this post, we will go over the essential bits of information about pandas, including how to install it, its uses, and how it works with other common Python data analysis packages such as **matplotlib** and **sci-kit learn**."
   ]
  },
  {
   "cell_type": "markdown",
   "metadata": {},
   "source": [
    "<img src=\"resources/pandas_popularity.png\" width=500px />"
   ]
  },
  {
   "cell_type": "markdown",
   "metadata": {},
   "source": [
    "## What's Pandas for?\n",
    "\n",
    "Pandas has so many uses that it might make sense to list the things it can't do instead of what it can do. \n",
    "\n",
    "This tool is essentially your data’s home. Through pandas, you get acquainted with your data by cleaning, transforming, and analyzing it. \n",
    "\n",
    "For example, say you want to explore a dataset stored in a CSV on your computer. Pandas will extract the data from that CSV into a DataFrame — a table, basically — then let you do things like:\n",
    "\n",
    "- Calculate statistics and answer questions about the data, like\n",
    "\n",
    "\n",
    "    - What's the average, median, max, or min of each column? \n",
    "    - Does column A correlate with column B?\n",
    "    - What does the distribution of data in column C look like?\n",
    "\n",
    "\n",
    "- Clean the data by doing things like removing missing values and filtering rows or columns by some criteria\n",
    "\n",
    "\n",
    "- Visualize the data with help from Matplotlib. Plot bars, lines, histograms, bubbles, and more. \n",
    "\n",
    "\n",
    "- Store the cleaned, transformed data back into a CSV, other file or database\n",
    "\n",
    "\n",
    "Before you jump into the modeling or the complex visualizations you need to have a good understanding of the nature of your dataset and pandas is the best avenue through which to do that.\n"
   ]
  },
  {
   "cell_type": "markdown",
   "metadata": {
    "ExecuteTime": {
     "end_time": "2022-06-11T01:47:39.809225Z",
     "start_time": "2022-06-11T01:47:39.784221Z"
    }
   },
   "source": [
    "## How does pandas fit into the data science toolkit?\n",
    "\n",
    "Not only is the pandas library a central component of the data science toolkit but it is used in conjunction with other libraries in that collection. \n",
    "\n",
    "Pandas is built on top of the **NumPy** package, meaning a lot of the structure of NumPy is used or replicated in Pandas. Data in pandas is often used to feed statistical analysis in **SciPy**, plotting functions from **Matplotlib**, and machine learning algorithms in **Scikit-learn**.\n"
   ]
  },
  {
   "cell_type": "markdown",
   "metadata": {},
   "source": [
    "## Pandas First Steps\n",
    "\n",
    "### Install and import\n",
    "Pandas is an easy package to install. Open up your terminal program (for Mac users) or command line (for PC users) and install it using either of the following commands:"
   ]
  },
  {
   "cell_type": "markdown",
   "metadata": {},
   "source": [
    "`conda install pandas`\n",
    "\n",
    "OR \n",
    "\n",
    "`pip install pandas`"
   ]
  },
  {
   "cell_type": "code",
   "execution_count": null,
   "metadata": {
    "ExecuteTime": {
     "end_time": "2022-06-11T02:27:23.339642Z",
     "start_time": "2022-06-11T02:27:14.116233Z"
    }
   },
   "outputs": [],
   "source": [
    "#!pip install pandas"
   ]
  },
  {
   "cell_type": "code",
   "execution_count": null,
   "metadata": {
    "ExecuteTime": {
     "end_time": "2022-07-23T14:18:03.101954Z",
     "start_time": "2022-07-23T14:18:02.889038Z"
    }
   },
   "outputs": [],
   "source": [
    "import pandas as pd"
   ]
  },
  {
   "cell_type": "markdown",
   "metadata": {},
   "source": [
    "### Checking pandas version"
   ]
  },
  {
   "cell_type": "code",
   "execution_count": 2,
   "metadata": {
    "ExecuteTime": {
     "end_time": "2022-07-23T12:47:30.847809Z",
     "start_time": "2022-07-23T12:47:30.833884Z"
    }
   },
   "outputs": [
    {
     "name": "stdout",
     "output_type": "stream",
     "text": [
      "1.4.2\n"
     ]
    }
   ],
   "source": [
    "import pandas as pd\n",
    "\n",
    "print(pd.__version__)"
   ]
  },
  {
   "cell_type": "markdown",
   "metadata": {},
   "source": [
    "## Core components of pandas: Series and DataFrames\n",
    "\n",
    "The primary two components of pandas are the `Series` and `DataFrame`. \n",
    "\n",
    "A `Series` is essentially a column, and a `DataFrame` is a multi-dimensional table made up of a collection of Series. \n",
    "|\n",
    "<img src=\"resources/series-and-dataframe.png\" width=600px />\n",
    "\n",
    "DataFrames and Series are quite similar in that many operations that you can do with one you can do with the other, such as filling in null values and calculating the mean.\n",
    "\n",
    "You'll see how these components work when we start working with data below. "
   ]
  },
  {
   "cell_type": "markdown",
   "metadata": {},
   "source": [
    "### Pandas Data Structure\n",
    "\n",
    "pandas introduces two new data structures to Python - **Series and DataFrame**, both of which are built on top of NumPy (this means it's fast)."
   ]
  },
  {
   "cell_type": "code",
   "execution_count": 1,
   "metadata": {
    "ExecuteTime": {
     "end_time": "2022-07-23T12:47:59.695412Z",
     "start_time": "2022-07-23T12:47:59.688753Z"
    }
   },
   "outputs": [],
   "source": [
    "import pandas\n",
    "import numpy\n",
    "#import matplotlib.pyplot as plt\n",
    "pandas.set_option('max_colwidth', 0)"
   ]
  },
  {
   "cell_type": "markdown",
   "metadata": {},
   "source": [
    "### Series\n",
    "\n",
    "- A Series is a one-dimensional object similar to an array, list, or column in a table. \n",
    "- It will assign a labeled index to each item in the Series. \n",
    "- By default, each item will receive an index label from 0 to N, where N is the length of the Series minus one."
   ]
  },
  {
   "cell_type": "code",
   "execution_count": 2,
   "metadata": {
    "ExecuteTime": {
     "end_time": "2022-07-23T12:49:02.017441Z",
     "start_time": "2022-07-23T12:49:01.959240Z"
    }
   },
   "outputs": [
    {
     "name": "stdout",
     "output_type": "stream",
     "text": [
      "0    7            \n",
      "1    Heisenberg   \n",
      "2    3.14         \n",
      "3    -1789710578  \n",
      "4    Happy Eating!\n",
      "dtype: object\n"
     ]
    }
   ],
   "source": [
    "# create a Series with an arbitrary list\n",
    "\n",
    "import pandas\n",
    "\n",
    "pandas.set_option('max_colwidth', 2)\n",
    "\n",
    "s = pandas.Series([7, 'Heisenberg', 3.14, -1789710578, 'Happy Eating!'])\n",
    "print(s)"
   ]
  },
  {
   "cell_type": "markdown",
   "metadata": {},
   "source": [
    "Alternatively, you can specify an index to use when creating the Series.\n",
    "\n"
   ]
  },
  {
   "cell_type": "code",
   "execution_count": 5,
   "metadata": {
    "ExecuteTime": {
     "end_time": "2022-07-23T12:49:28.902263Z",
     "start_time": "2022-07-23T12:49:28.898087Z"
    }
   },
   "outputs": [
    {
     "name": "stdout",
     "output_type": "stream",
     "text": [
      "A    7            \n",
      "Z    Heisenberg   \n",
      "C    3.14         \n",
      "Y    -1789710578  \n",
      "E    Happy Eating!\n",
      "dtype: object \n",
      "\n",
      "1    7            \n",
      "2    Heisenberg   \n",
      "3    3.14         \n",
      "4    -1789710578  \n",
      "5    Happy Eating!\n",
      "dtype: object\n"
     ]
    }
   ],
   "source": [
    "import pandas\n",
    "\n",
    "s = pandas.Series([7, 'Heisenberg', 3.14, -1789710578, 'Happy Eating!'], index = ['A', 'Z', 'C', 'Y', 'E'])\n",
    "s2 = pandas.Series([7, 'Heisenberg', 3.14, -1789710578, 'Happy Eating!'], index = [1, 2, 3, 4, 5])\n",
    "print(s, \"\\n\")\n",
    "print(s2)"
   ]
  },
  {
   "cell_type": "markdown",
   "metadata": {},
   "source": [
    "The Series constructor can convert a dictonary as well, using the keys of the dictionary as its index."
   ]
  },
  {
   "cell_type": "code",
   "execution_count": 8,
   "metadata": {
    "ExecuteTime": {
     "end_time": "2022-07-23T12:51:15.253183Z",
     "start_time": "2022-07-23T12:51:15.247604Z"
    }
   },
   "outputs": [
    {
     "name": "stdout",
     "output_type": "stream",
     "text": [
      "1.\n",
      "\n",
      "Chicago          1000.0\n",
      "New York         1300.0\n",
      "Portland         900.0 \n",
      "San Francisco    1100.0\n",
      "Austin           450.0 \n",
      "Boston          NaN    \n",
      "dtype: float64\n",
      "\n",
      "\n",
      "2.\n",
      "\n",
      "1000.0\n",
      "\n",
      "\n",
      "3.\n",
      "\n",
      "Chicago    1000.0\n",
      "dtype: float64\n",
      "\n",
      "\n",
      "4.\n",
      "\n",
      "Chicago          1000.0\n",
      "Portland         900.0 \n",
      "San Francisco    1100.0\n",
      "dtype: float64\n",
      "\n",
      "\n",
      "5.\n",
      "\n",
      "Portland    900.0\n",
      "Austin      450.0\n",
      "dtype: float64\n",
      "\n",
      "\n",
      "6.\n",
      "\n",
      "Chicago          False\n",
      "New York         False\n",
      "Portland         True \n",
      "San Francisco    False\n",
      "Austin           True \n",
      "Boston           False\n",
      "dtype: bool\n",
      "\n",
      "\n",
      "7.\n",
      "\n",
      "Portland    900.0\n",
      "Austin      450.0\n",
      "dtype: float64\n",
      "\n",
      "\n",
      "8.\n",
      "\n",
      "Portland    750.0\n",
      "Austin      750.0\n",
      "dtype: float64\n",
      "\n",
      "\n",
      "False\n",
      "True\n",
      "\n",
      "\n",
      "9.\n",
      "\n",
      "Chicago     1000.0\n",
      "New York    1300.0\n",
      "Portland    750.0 \n",
      "dtype: float64\n",
      "\n",
      "\n",
      "10.\n",
      "\n",
      "Austin      750.0 \n",
      "New York    1300.0\n",
      "dtype: float64\n",
      "\n",
      "\n",
      "11.\n",
      "\n",
      "Austin     NaN    \n",
      "Chicago    NaN    \n",
      "New York    2600.0\n",
      "Portland   NaN    \n",
      "dtype: float64\n",
      "\n",
      "\n"
     ]
    }
   ],
   "source": [
    "import pandas\n",
    "\n",
    "d = {'Chicago': 1000, 'New York': 1300, 'Portland': 900, 'San Francisco': 1100, 'Austin': 450, 'Boston': None}\n",
    "\n",
    "cities = pandas.Series(d)\n",
    "\n",
    "print(\"1.\\n\")\n",
    "print(cities)\n",
    "print(\"\\n\")\n",
    "\n",
    "print(\"2.\\n\")\n",
    "print(cities['Chicago'])\n",
    "print(\"\\n\")\n",
    "\n",
    "print(\"3.\\n\")\n",
    "print(cities[['Chicago']])\n",
    "print(\"\\n\")\n",
    "\n",
    "print(\"4.\\n\")\n",
    "print(cities[['Chicago', 'Portland', 'San Francisco']])\n",
    "print(\"\\n\")\n",
    "\n",
    "print(\"5.\\n\")\n",
    "print(cities[cities < 1000])\n",
    "print(\"\\n\")\n",
    "\n",
    "\n",
    "print(\"6.\\n\")\n",
    "less_than_1000 = cities < 1000\n",
    "print(less_than_1000)\n",
    "print(\"\\n\")\n",
    "\n",
    "print(\"7.\\n\")\n",
    "print(cities[less_than_1000])\n",
    "print(\"\\n\")\n",
    "\n",
    "cities[cities < 1000] = 750\n",
    "print(\"8.\\n\")\n",
    "print(cities[cities < 1000])\n",
    "print(\"\\n\")\n",
    "\n",
    "print('Seattle' in cities)\n",
    "print('San Francisco' in cities)\n",
    "print(\"\\n\")\n",
    "\n",
    "print(\"9.\\n\")\n",
    "print(cities[['Chicago', 'New York', 'Portland']])\n",
    "print(\"\\n\")\n",
    "\n",
    "print('10.\\n')\n",
    "print(cities[['Austin', 'New York']])\n",
    "print(\"\\n\")\n",
    "\n",
    "print('11.\\n')\n",
    "print(cities[['Chicago', 'New York', 'Portland']] + cities[['Austin', 'New York']])\n",
    "print(\"\\n\")"
   ]
  },
  {
   "cell_type": "markdown",
   "metadata": {},
   "source": [
    "You can use the index to select specific items from the Series ...\n"
   ]
  },
  {
   "cell_type": "code",
   "execution_count": null,
   "metadata": {
    "collapsed": true
   },
   "outputs": [],
   "source": []
  },
  {
   "cell_type": "markdown",
   "metadata": {},
   "source": [
    "Or you can use boolean indexing for selection.\n",
    "\n"
   ]
  },
  {
   "cell_type": "markdown",
   "metadata": {},
   "source": [
    "That last one might be a little weird, so let's make it more clear - cities < 1000 returns a Series of True/False values, which we then pass to our Series cities, returning the corresponding True items."
   ]
  },
  {
   "cell_type": "code",
   "execution_count": null,
   "metadata": {
    "ExecuteTime": {
     "end_time": "2022-07-23T13:02:32.112468Z",
     "start_time": "2022-07-23T13:02:32.107629Z"
    }
   },
   "outputs": [],
   "source": [
    "less_than_1000 = cities < 1000\n",
    "print(less_than_1000)\n",
    "print('\\n')\n",
    "print(cities[less_than_1000])"
   ]
  },
  {
   "cell_type": "markdown",
   "metadata": {},
   "source": [
    "You can also change the values in a Series on the fly.\n"
   ]
  },
  {
   "cell_type": "code",
   "execution_count": null,
   "metadata": {
    "ExecuteTime": {
     "end_time": "2022-07-23T13:03:45.718480Z",
     "start_time": "2022-07-23T13:03:45.715789Z"
    }
   },
   "outputs": [],
   "source": [
    "# changing based on the index\n",
    "print('Old value:', cities['Chicago'])\n",
    "cities['Chicago'] = 1400\n",
    "print('New value:', cities['Chicago'])"
   ]
  },
  {
   "cell_type": "code",
   "execution_count": null,
   "metadata": {
    "ExecuteTime": {
     "end_time": "2022-07-23T13:04:09.884698Z",
     "start_time": "2022-07-23T13:04:09.879695Z"
    }
   },
   "outputs": [],
   "source": [
    "# changing values using boolean logic\n",
    "print(cities[cities < 1000])\n",
    "print('\\n')\n",
    "cities[cities < 1000] = 750\n",
    "\n",
    "print(cities[cities < 1000])"
   ]
  },
  {
   "cell_type": "markdown",
   "metadata": {},
   "source": [
    "What if you aren't sure whether an item is in the Series? You can check using idiomatic Python."
   ]
  },
  {
   "cell_type": "code",
   "execution_count": null,
   "metadata": {
    "ExecuteTime": {
     "end_time": "2022-07-23T13:51:48.063668Z",
     "start_time": "2022-07-23T13:51:48.057118Z"
    }
   },
   "outputs": [],
   "source": [
    "cities"
   ]
  },
  {
   "cell_type": "code",
   "execution_count": 2,
   "metadata": {
    "ExecuteTime": {
     "end_time": "2022-06-11T03:14:19.914094Z",
     "start_time": "2022-06-11T03:14:19.895008Z"
    }
   },
   "outputs": [
    {
     "ename": "NameError",
     "evalue": "name 'cities' is not defined",
     "output_type": "error",
     "traceback": [
      "\u001b[0;31m---------------------------------------------------------------------------\u001b[0m",
      "\u001b[0;31mNameError\u001b[0m                                 Traceback (most recent call last)",
      "Input \u001b[0;32mIn [2]\u001b[0m, in \u001b[0;36m<cell line: 1>\u001b[0;34m()\u001b[0m\n\u001b[0;32m----> 1\u001b[0m \u001b[38;5;28mprint\u001b[39m(\u001b[38;5;124m'\u001b[39m\u001b[38;5;124mSeattle\u001b[39m\u001b[38;5;124m'\u001b[39m \u001b[38;5;129;01min\u001b[39;00m \u001b[43mcities\u001b[49m)\n\u001b[1;32m      2\u001b[0m \u001b[38;5;28mprint\u001b[39m(\u001b[38;5;124m'\u001b[39m\u001b[38;5;124mSan Francisco\u001b[39m\u001b[38;5;124m'\u001b[39m \u001b[38;5;129;01min\u001b[39;00m cities)\n",
      "\u001b[0;31mNameError\u001b[0m: name 'cities' is not defined"
     ]
    }
   ],
   "source": [
    "print('Seattle' in cities)\n",
    "print('San Francisco' in cities)"
   ]
  },
  {
   "cell_type": "markdown",
   "metadata": {},
   "source": [
    "Mathematical operations can be done using scalars and functions.\n",
    "\n"
   ]
  },
  {
   "cell_type": "code",
   "execution_count": null,
   "metadata": {
    "ExecuteTime": {
     "end_time": "2022-07-23T13:59:26.449641Z",
     "start_time": "2022-07-23T13:59:26.445747Z"
    }
   },
   "outputs": [],
   "source": [
    "# divide city values by 3\n",
    "cities / 3"
   ]
  },
  {
   "cell_type": "code",
   "execution_count": 28,
   "metadata": {
    "ExecuteTime": {
     "end_time": "2022-07-23T13:59:29.138436Z",
     "start_time": "2022-07-23T13:59:29.128391Z"
    }
   },
   "outputs": [
    {
     "name": "stdout",
     "output_type": "stream",
     "text": [
      "Chicago          1000000.0\n",
      "New York         1690000.0\n",
      "Portland         810000.0 \n",
      "San Francisco    1210000.0\n",
      "Austin           202500.0 \n",
      "Boston          NaN       \n",
      "dtype: float64\n"
     ]
    }
   ],
   "source": [
    "# square city values\n",
    "import numpy\n",
    "\n",
    "d = {'Chicago': 1000, 'New York': 1300, 'Portland': 900, 'San Francisco': 1100, 'Austin': 450, 'Boston': None}\n",
    "\n",
    "cities = pandas.Series(d)\n",
    "\n",
    "print(numpy.square(cities))"
   ]
  },
  {
   "cell_type": "markdown",
   "metadata": {},
   "source": [
    "You can add two Series together, which returns a union of the two Series with the addition occurring on the shared index values. \n",
    "\n",
    "Values on either Series that did not have a shared index will produce a NULL/NaN (not a number)."
   ]
  },
  {
   "cell_type": "code",
   "execution_count": null,
   "metadata": {
    "ExecuteTime": {
     "end_time": "2022-07-23T14:08:03.685057Z",
     "start_time": "2022-07-23T14:08:03.678104Z"
    }
   },
   "outputs": [],
   "source": [
    "cities"
   ]
  },
  {
   "cell_type": "code",
   "execution_count": 3,
   "metadata": {
    "ExecuteTime": {
     "end_time": "2022-07-23T14:08:32.276172Z",
     "start_time": "2022-07-23T14:08:32.264539Z"
    },
    "scrolled": false
   },
   "outputs": [
    {
     "ename": "NameError",
     "evalue": "name 'cities' is not defined",
     "output_type": "error",
     "traceback": [
      "\u001b[0;31m---------------------------------------------------------------------------\u001b[0m",
      "\u001b[0;31mNameError\u001b[0m                                 Traceback (most recent call last)",
      "Input \u001b[0;32mIn [3]\u001b[0m, in \u001b[0;36m<cell line: 1>\u001b[0;34m()\u001b[0m\n\u001b[0;32m----> 1\u001b[0m \u001b[38;5;28mprint\u001b[39m(\u001b[43mcities\u001b[49m[[\u001b[38;5;124m'\u001b[39m\u001b[38;5;124mChicago\u001b[39m\u001b[38;5;124m'\u001b[39m, \u001b[38;5;124m'\u001b[39m\u001b[38;5;124mNew York\u001b[39m\u001b[38;5;124m'\u001b[39m, \u001b[38;5;124m'\u001b[39m\u001b[38;5;124mPortland\u001b[39m\u001b[38;5;124m'\u001b[39m]])\n\u001b[1;32m      2\u001b[0m \u001b[38;5;28mprint\u001b[39m(\u001b[38;5;124m'\u001b[39m\u001b[38;5;130;01m\\n\u001b[39;00m\u001b[38;5;124m'\u001b[39m)\n\u001b[1;32m      3\u001b[0m \u001b[38;5;28mprint\u001b[39m(cities[[\u001b[38;5;124m'\u001b[39m\u001b[38;5;124mAustin\u001b[39m\u001b[38;5;124m'\u001b[39m, \u001b[38;5;124m'\u001b[39m\u001b[38;5;124mNew York\u001b[39m\u001b[38;5;124m'\u001b[39m]])\n",
      "\u001b[0;31mNameError\u001b[0m: name 'cities' is not defined"
     ]
    }
   ],
   "source": [
    "print(cities[['Chicago', 'New York', 'Portland']])\n",
    "print('\\n')\n",
    "print(cities[['Austin', 'New York']])\n",
    "print('\\n')\n",
    "print(cities[['Chicago', 'New York', 'Portland']] + cities[['Austin', 'New York']])"
   ]
  },
  {
   "cell_type": "markdown",
   "metadata": {
    "ExecuteTime": {
     "end_time": "2022-06-11T03:18:21.919633Z",
     "start_time": "2022-06-11T03:18:21.904307Z"
    }
   },
   "source": [
    "*** Notice that because Austin, Chicago, and Portland were not found in both Series, they were returned with NULL/NaN values. ***\n"
   ]
  },
  {
   "cell_type": "markdown",
   "metadata": {},
   "source": [
    "NULL checking can be performed with isnull and notnull.\n",
    "\n"
   ]
  },
  {
   "cell_type": "code",
   "execution_count": null,
   "metadata": {
    "ExecuteTime": {
     "end_time": "2022-07-23T14:08:20.347591Z",
     "start_time": "2022-07-23T14:08:20.343852Z"
    }
   },
   "outputs": [],
   "source": [
    "cities.notnull()"
   ]
  },
  {
   "cell_type": "code",
   "execution_count": null,
   "metadata": {
    "ExecuteTime": {
     "end_time": "2022-06-11T03:18:48.027850Z",
     "start_time": "2022-06-11T03:18:48.006885Z"
    }
   },
   "outputs": [],
   "source": [
    "# returns a boolean series indicating which values aren't NULL\n",
    "cities.notnull()"
   ]
  },
  {
   "cell_type": "code",
   "execution_count": 9,
   "metadata": {
    "ExecuteTime": {
     "end_time": "2022-07-23T14:10:31.033722Z",
     "start_time": "2022-07-23T14:10:31.029908Z"
    }
   },
   "outputs": [
    {
     "name": "stdout",
     "output_type": "stream",
     "text": [
      "Chicago          False\n",
      "New York         False\n",
      "Portland         False\n",
      "San Francisco    False\n",
      "Austin           False\n",
      "Boston           True \n",
      "dtype: bool\n",
      "\n",
      "\n",
      "Boston   NaN\n",
      "dtype: float64\n"
     ]
    }
   ],
   "source": [
    "# use boolean logic to grab the NULL cities\n",
    "print(cities.isnull())\n",
    "print('\\n')\n",
    "print(cities[cities.isnull()])"
   ]
  },
  {
   "cell_type": "markdown",
   "metadata": {},
   "source": [
    "### Dataframe"
   ]
  },
  {
   "cell_type": "markdown",
   "metadata": {},
   "source": [
    "A DataFrame is a tablular data structure comprised of rows and columns, akin to a spreadsheet, database table, or R's data.frame object.\n",
    "\n",
    "You can also think of a DataFrame as a group of Series objects that share an index (the column names)."
   ]
  },
  {
   "cell_type": "code",
   "execution_count": 13,
   "metadata": {
    "ExecuteTime": {
     "end_time": "2022-07-23T14:18:08.432982Z",
     "start_time": "2022-07-23T14:18:08.421683Z"
    }
   },
   "outputs": [
    {
     "name": "stdout",
     "output_type": "stream",
     "text": [
      "   apples\n",
      "0  3     \n",
      "1  2     \n",
      "2  0     \n",
      "3  1     \n",
      "\n",
      "\n",
      "\n",
      "   apples  oranges\n",
      "0  3       0      \n",
      "1  2       3      \n",
      "2  0       7      \n",
      "3  1       2      \n",
      "\n",
      "\n",
      "\n",
      "   apples  oranges\n",
      "1  3       0      \n",
      "2  2       3      \n",
      "3  0       7      \n",
      "4  1       2      \n"
     ]
    }
   ],
   "source": [
    "import pandas\n",
    "\n",
    "data1 = {'apples': [3, 2, 0, 1]}\n",
    "data2 = {'apples': [3, 2, 0, 1], 'oranges': [0, 3, 7, 2]}\n",
    "\n",
    "purchases1 = pandas.DataFrame(data1)\n",
    "purchases2 = pandas.DataFrame(data2)\n",
    "purchases3 = pandas.DataFrame(data2, index = [1, 2, 3, 4])\n",
    "\n",
    "print(purchases1)\n",
    "print(\"\\n\\n\")\n",
    "print(purchases2)\n",
    "print(\"\\n\\n\")\n",
    "print(purchases3)"
   ]
  },
  {
   "cell_type": "markdown",
   "metadata": {},
   "source": [
    "**How did that work?**\n",
    "\n",
    "Each *(key, value)* item in `data` corresponds to a *column* in the resulting DataFrame.\n",
    "\n",
    "The **Index** of this DataFrame was given to us on creation as the numbers 0-3, but we could also create our own when we initialize the DataFrame. \n",
    "\n",
    "Let's have customer names as our index: "
   ]
  },
  {
   "cell_type": "code",
   "execution_count": 35,
   "metadata": {
    "ExecuteTime": {
     "end_time": "2022-07-23T14:18:31.169923Z",
     "start_time": "2022-07-23T14:18:31.163261Z"
    }
   },
   "outputs": [
    {
     "name": "stdout",
     "output_type": "stream",
     "text": [
      "   apples  oranges\n",
      "0  3       0      \n",
      "1  2       3      \n",
      "2  0       7      \n",
      "3  1       2      \n",
      "\n",
      "        apples  oranges\n",
      "June    3       0      \n",
      "Robert  2       3      \n",
      "Lily    0       7      \n",
      "David   1       2      \n",
      "\n",
      "apples     3\n",
      "oranges    0\n",
      "Name: June, dtype: int64\n"
     ]
    }
   ],
   "source": [
    "import pandas\n",
    "\n",
    "data = {'apples': [3, 2, 0, 1], 'oranges': [0, 3, 7, 2]}\n",
    "\n",
    "purchases1 = pandas.DataFrame(data)\n",
    "\n",
    "purchases2 = pandas.DataFrame(data, index = ['June', 'Robert', 'Lily', 'David'])\n",
    "\n",
    "print(purchases1, end = \"\\n\\n\")\n",
    "\n",
    "print(purchases2, end = \"\\n\\n\")\n",
    "\n",
    "print(purchases.loc['June'])"
   ]
  },
  {
   "cell_type": "markdown",
   "metadata": {},
   "source": [
    "So now we could **loc**ate a customer's order by using their name:"
   ]
  },
  {
   "cell_type": "code",
   "execution_count": null,
   "metadata": {
    "ExecuteTime": {
     "end_time": "2022-07-23T14:18:36.068419Z",
     "start_time": "2022-07-23T14:18:36.062436Z"
    }
   },
   "outputs": [],
   "source": [
    "purchases.loc['June']"
   ]
  },
  {
   "cell_type": "markdown",
   "metadata": {},
   "source": [
    "## How to read in data\n",
    "\n",
    "It’s quite simple to load data from various file formats into a DataFrame. In the following examples we'll keep using our apples and oranges data, but this time it's coming from various files."
   ]
  },
  {
   "cell_type": "markdown",
   "metadata": {},
   "source": [
    "### Reading data from CSVs\n",
    "\n",
    "With CSV files all you need is a single line to load in the data:"
   ]
  },
  {
   "cell_type": "code",
   "execution_count": 36,
   "metadata": {
    "ExecuteTime": {
     "end_time": "2022-06-11T03:23:12.015807Z",
     "start_time": "2022-06-11T03:23:11.986042Z"
    },
    "scrolled": true
   },
   "outputs": [
    {
     "name": "stdout",
     "output_type": "stream",
     "text": [
      "  Unnamed: 0  apples  oranges\n",
      "0  June       3       0      \n",
      "1  Robert     2       3      \n",
      "2  Lily       0       7      \n",
      "3  David      1       2      \n"
     ]
    }
   ],
   "source": [
    "import pandas\n",
    "\n",
    "df = pandas.read_csv('resources/purchases.csv')\n",
    "\n",
    "print(df)"
   ]
  },
  {
   "cell_type": "markdown",
   "metadata": {},
   "source": [
    "CSVs don't have indexes like our DataFrames, so all we need to do is just designate the `index_col` when reading:"
   ]
  },
  {
   "cell_type": "code",
   "execution_count": 17,
   "metadata": {
    "ExecuteTime": {
     "end_time": "2022-07-23T14:19:28.280687Z",
     "start_time": "2022-07-23T14:19:28.268304Z"
    }
   },
   "outputs": [
    {
     "name": "stdout",
     "output_type": "stream",
     "text": [
      "  Unnamed: 0  apples  oranges\n",
      "0  June       3       0      \n",
      "1  Robert     2       3      \n",
      "2  Lily       0       7      \n",
      "3  David      1       2      \n",
      "\n",
      "        apples  oranges\n",
      "June    3       0      \n",
      "Robert  2       3      \n",
      "Lily    0       7      \n",
      "David   1       2      \n",
      "\n",
      "       Unnamed: 0  oranges\n",
      "apples                    \n",
      "3       June       0      \n",
      "2       Robert     3      \n",
      "0       Lily       7      \n",
      "1       David      2      \n",
      "\n",
      "        Unnamed: 0  apples\n",
      "oranges                   \n",
      "0        June       3     \n",
      "3        Robert     2     \n",
      "7        Lily       0     \n",
      "2        David      1     \n",
      "\n"
     ]
    }
   ],
   "source": [
    "import pandas\n",
    "\n",
    "df = pandas.read_csv('resources/purchases.csv')\n",
    "\n",
    "print(df, end = \"\\n\\n\")\n",
    "\n",
    "df = pandas.read_csv('resources/purchases.csv', index_col = 0)\n",
    "\n",
    "print(df, end = \"\\n\\n\")\n",
    "\n",
    "df = pandas.read_csv('resources/purchases.csv', index_col = 1)\n",
    "\n",
    "print(df, end = \"\\n\\n\")\n",
    "\n",
    "df = pandas.read_csv('resources/purchases.csv', index_col = 2)\n",
    "\n",
    "print(df, end = \"\\n\\n\")\n"
   ]
  },
  {
   "cell_type": "markdown",
   "metadata": {},
   "source": [
    "Here we're setting the index to be column zero.\n",
    "\n",
    "You'll find that most CSVs won't ever have an index column and so usually you don't have to worry about this step.\n",
    "\n",
    "### Reading data from JSON\n",
    "\n",
    "If you have a JSON file — which is essentially a stored Python `dict` — pandas can read this just as easily:"
   ]
  },
  {
   "cell_type": "code",
   "execution_count": 41,
   "metadata": {
    "ExecuteTime": {
     "end_time": "2022-06-11T03:24:11.618336Z",
     "start_time": "2022-06-11T03:24:11.593054Z"
    }
   },
   "outputs": [
    {
     "name": "stdout",
     "output_type": "stream",
     "text": [
      "        apples  oranges\n",
      "June    3       0      \n",
      "Robert  2       3      \n",
      "Lily    0       7      \n",
      "David   1       2      \n"
     ]
    }
   ],
   "source": [
    "import pandas\n",
    "\n",
    "df = pandas.read_json('resources/purchases.json')\n",
    "\n",
    "print(df)"
   ]
  },
  {
   "cell_type": "markdown",
   "metadata": {
    "ExecuteTime": {
     "end_time": "2022-06-11T04:39:43.236439Z",
     "start_time": "2022-06-11T04:39:43.196127Z"
    }
   },
   "source": [
    "Notice this time our index came with us correctly since using JSON allowed indexes to work through nesting. Feel free to open `data_file.json` in a notepad so you can see how it works.\n",
    "\n",
    "\n",
    "### Reading data from a SQL database\n",
    "\n",
    "If you’re working with data from a SQL database you need to first establish a connection using an appropriate Python library, then pass a query to pandas. Here we'll use SQLite to demonstrate. \n",
    "\n",
    "First, we need `pysqlite3` installed, so run this command in your terminal:"
   ]
  },
  {
   "cell_type": "code",
   "execution_count": null,
   "metadata": {
    "ExecuteTime": {
     "end_time": "2022-07-23T14:20:41.907085Z",
     "start_time": "2022-07-23T14:20:41.904059Z"
    }
   },
   "outputs": [],
   "source": [
    "#!pip install pysqlite3"
   ]
  },
  {
   "cell_type": "markdown",
   "metadata": {},
   "source": [
    "`sqlite3` is used to create a connection to a database which we can then use to generate a DataFrame through a `SELECT` query.\n",
    "\n",
    "So first we'll make a connection to a SQLite database file:"
   ]
  },
  {
   "cell_type": "code",
   "execution_count": 43,
   "metadata": {
    "ExecuteTime": {
     "end_time": "2022-07-23T14:49:23.892341Z",
     "start_time": "2022-07-23T14:49:23.889879Z"
    }
   },
   "outputs": [
    {
     "name": "stdout",
     "output_type": "stream",
     "text": [
      "    index  apples  oranges\n",
      "0  June    3       0      \n",
      "1  Robert  2       3      \n",
      "2  Lily    0       7      \n",
      "3  David   1       2      \n"
     ]
    }
   ],
   "source": [
    "import sqlite3\n",
    "import pandas\n",
    "\n",
    "con = sqlite3.connect(\"resources/database.db\")\n",
    "\n",
    "df = pandas.read_sql_query(\"SELECT * FROM purchases\", con)\n",
    "\n",
    "print(df)"
   ]
  },
  {
   "cell_type": "markdown",
   "metadata": {},
   "source": [
    "### Converting back to a CSV, JSON, or SQL\n"
   ]
  },
  {
   "cell_type": "code",
   "execution_count": null,
   "metadata": {
    "ExecuteTime": {
     "end_time": "2022-07-23T14:27:20.650703Z",
     "start_time": "2022-07-23T14:27:20.642978Z"
    }
   },
   "outputs": [],
   "source": [
    "df.to_csv('new_purchases.csv')\n",
    "\n",
    "df.to_json('new_purchases.json')\n",
    "\n",
    "#df.to_sql('new_purchases', con)"
   ]
  },
  {
   "cell_type": "markdown",
   "metadata": {},
   "source": [
    "When we save JSON and CSV files, all we have to input into those functions is our desired filename with the appropriate file extension. With SQL, we’re not creating a new file but instead inserting a new table into the database using our `con` variable from before.\n",
    "\n",
    "\n",
    "## Most important DataFrame operations\n",
    "\n",
    "\n",
    "Load in the IMDB movies dataset"
   ]
  },
  {
   "cell_type": "code",
   "execution_count": 49,
   "metadata": {
    "ExecuteTime": {
     "end_time": "2022-07-23T14:29:06.843684Z",
     "start_time": "2022-07-23T14:29:06.826650Z"
    }
   },
   "outputs": [
    {
     "name": "stdout",
     "output_type": "stream",
     "text": [
      "                         Rank                     Genre  \\\n",
      "Title                                                     \n",
      "Guardians of the Galaxy  1     Action,Adventure,Sci-Fi    \n",
      "Prometheus               2     Adventure,Mystery,Sci-Fi   \n",
      "Split                    3     Horror,Thriller            \n",
      "Sing                     4     Animation,Comedy,Family    \n",
      "Suicide Squad            5     Action,Adventure,Fantasy   \n",
      "...                     ..                         ...    \n",
      "Secret in Their Eyes     996   Crime,Drama,Mystery        \n",
      "Hostel: Part II          997   Horror                     \n",
      "Step Up 2: The Streets   998   Drama,Music,Romance        \n",
      "Search Party             999   Adventure,Comedy           \n",
      "Nine Lives               1000  Comedy,Family,Fantasy      \n",
      "\n",
      "                                                                                                                                                                                                                                            Description  \\\n",
      "Title                                                                                                                                                                                                                                                     \n",
      "Guardians of the Galaxy  A group of intergalactic criminals are forced to work together to stop a fanatical warrior from taking control of the universe.                                                                                                  \n",
      "Prometheus               Following clues to the origin of mankind, a team finds a structure on a distant moon, but they soon realize they are not alone.                                                                                                  \n",
      "Split                    Three girls are kidnapped by a man with a diagnosed 23 distinct personalities. They must try to escape before the apparent emergence of a frightful new 24th.                                                                    \n",
      "Sing                     In a city of humanoid animals, a hustling theater impresario's attempt to save his theater with a singing competition becomes grander than he anticipates even as its finalists' find that their lives will never be the same.   \n",
      "Suicide Squad            A secret government agency recruits some of the most dangerous incarcerated super-villains to form a defensive task force. Their first mission: save the world from the apocalypse.                                              \n",
      "...                                                                                                                                                                                                                                                 ...   \n",
      "Secret in Their Eyes     A tight-knit team of rising investigators, along with their supervisor, is suddenly torn apart when they discover that one of their own teenage daughters has been brutally murdered.                                            \n",
      "Hostel: Part II          Three American college students studying abroad are lured to a Slovakian hostel, and discover the grim reality behind it.                                                                                                        \n",
      "Step Up 2: The Streets   Romantic sparks occur between two dance students from different backgrounds at the Maryland School of the Arts.                                                                                                                  \n",
      "Search Party             A pair of friends embark on a mission to reunite their pal with the woman he was going to marry.                                                                                                                                 \n",
      "Nine Lives               A stuffy businessman finds himself trapped inside the body of his family's cat.                                                                                                                                                  \n",
      "\n",
      "                                     Director  \\\n",
      "Title                                           \n",
      "Guardians of the Galaxy  James Gunn             \n",
      "Prometheus               Ridley Scott           \n",
      "Split                    M. Night Shyamalan     \n",
      "Sing                     Christophe Lourdelet   \n",
      "Suicide Squad            David Ayer             \n",
      "...                                       ...   \n",
      "Secret in Their Eyes     Billy Ray              \n",
      "Hostel: Part II          Eli Roth               \n",
      "Step Up 2: The Streets   Jon M. Chu             \n",
      "Search Party             Scot Armstrong         \n",
      "Nine Lives               Barry Sonnenfeld       \n",
      "\n",
      "                                                                                             Actors  \\\n",
      "Title                                                                                                 \n",
      "Guardians of the Galaxy  Chris Pratt, Vin Diesel, Bradley Cooper, Zoe Saldana                         \n",
      "Prometheus               Noomi Rapace, Logan Marshall-Green, Michael Fassbender, Charlize Theron      \n",
      "Split                    James McAvoy, Anya Taylor-Joy, Haley Lu Richardson, Jessica Sula             \n",
      "Sing                     Matthew McConaughey,Reese Witherspoon, Seth MacFarlane, Scarlett Johansson   \n",
      "Suicide Squad            Will Smith, Jared Leto, Margot Robbie, Viola Davis                           \n",
      "...                                                                                             ...   \n",
      "Secret in Their Eyes     Chiwetel Ejiofor, Nicole Kidman, Julia Roberts, Dean Norris                  \n",
      "Hostel: Part II          Lauren German, Heather Matarazzo, Bijou Phillips, Roger Bart                 \n",
      "Step Up 2: The Streets   Robert Hoffman, Briana Evigan, Cassie Ventura, Adam G. Sevani                \n",
      "Search Party             Adam Pally, T.J. Miller, Thomas Middleditch,Shannon Woodward                 \n",
      "Nine Lives               Kevin Spacey, Jennifer Garner, Robbie Amell,Cheryl Hines                     \n",
      "\n",
      "                         Year  Runtime (Minutes)  Rating   Votes  \\\n",
      "Title                                                              \n",
      "Guardians of the Galaxy  2014  121                8.1     757074   \n",
      "Prometheus               2012  124                7.0     485820   \n",
      "Split                    2016  117                7.3     157606   \n",
      "Sing                     2016  108                7.2     60545    \n",
      "Suicide Squad            2016  123                6.2     393727   \n",
      "...                       ...  ...                ...       ...    \n",
      "Secret in Their Eyes     2015  111                6.2     27585    \n",
      "Hostel: Part II          2007  94                 5.5     73152    \n",
      "Step Up 2: The Streets   2008  98                 6.2     70699    \n",
      "Search Party             2014  93                 5.6     4881     \n",
      "Nine Lives               2016  87                 5.3     12435    \n",
      "\n",
      "                         Revenue (Millions)  Metascore  \n",
      "Title                                                   \n",
      "Guardians of the Galaxy  333.13              76.0       \n",
      "Prometheus               126.46              65.0       \n",
      "Split                    138.12              62.0       \n",
      "Sing                     270.32              59.0       \n",
      "Suicide Squad            325.02              40.0       \n",
      "...                         ...               ...       \n",
      "Secret in Their Eyes    NaN                  45.0       \n",
      "Hostel: Part II          17.54               46.0       \n",
      "Step Up 2: The Streets   58.01               50.0       \n",
      "Search Party            NaN                  22.0       \n",
      "Nine Lives               19.64               11.0       \n",
      "\n",
      "[1000 rows x 11 columns]\n",
      "\n",
      "\n",
      "\n",
      "\t\t\t************************************************************************\n",
      "\n",
      "\n",
      "\n",
      "<class 'pandas.core.frame.DataFrame'>\n",
      "Index: 1000 entries, Guardians of the Galaxy to Nine Lives\n",
      "Data columns (total 11 columns):\n",
      " #   Column              Non-Null Count  Dtype  \n",
      "---  ------              --------------  -----  \n",
      " 0   Rank                1000 non-null   int64  \n",
      " 1   Genre               1000 non-null   object \n",
      " 2   Description         1000 non-null   object \n",
      " 3   Director            1000 non-null   object \n",
      " 4   Actors              1000 non-null   object \n",
      " 5   Year                1000 non-null   int64  \n",
      " 6   Runtime (Minutes)   1000 non-null   int64  \n",
      " 7   Rating              1000 non-null   float64\n",
      " 8   Votes               1000 non-null   int64  \n",
      " 9   Revenue (Millions)  872 non-null    float64\n",
      " 10  Metascore           936 non-null    float64\n",
      "dtypes: float64(3), int64(4), object(4)\n",
      "memory usage: 93.8+ KB\n",
      "None\n"
     ]
    }
   ],
   "source": [
    "import pandas\n",
    "\n",
    "movies_df = pandas.read_csv(\"resources/IMDB-Movie-Data.csv\", index_col=\"Title\")\n",
    "\n",
    "print(movies_df)\n",
    "\n",
    "print(\"\\n\\n\\n\\t\\t\\t************************************************************************\\n\\n\\n\")\n",
    "\n",
    "print(movies_df.info())"
   ]
  },
  {
   "cell_type": "markdown",
   "metadata": {},
   "source": [
    "### Viewing your data\n"
   ]
  },
  {
   "cell_type": "code",
   "execution_count": null,
   "metadata": {
    "ExecuteTime": {
     "end_time": "2022-07-23T14:29:10.407228Z",
     "start_time": "2022-07-23T14:29:10.399329Z"
    }
   },
   "outputs": [],
   "source": [
    "movies_df.head()"
   ]
  },
  {
   "cell_type": "markdown",
   "metadata": {},
   "source": [
    "`.head()` outputs the **first** five rows of your DataFrame by default, but we could also pass a number as well: `movies_df.head(10)` would output the top ten rows, for example. \n",
    "\n",
    "To see the **last** five rows use `.tail()`. `tail()` also accepts a number, and in this case we printing the bottom two rows.:"
   ]
  },
  {
   "cell_type": "code",
   "execution_count": null,
   "metadata": {
    "ExecuteTime": {
     "end_time": "2022-07-23T14:29:15.063794Z",
     "start_time": "2022-07-23T14:29:15.054030Z"
    }
   },
   "outputs": [],
   "source": [
    "movies_df.tail(2)"
   ]
  },
  {
   "cell_type": "markdown",
   "metadata": {},
   "source": [
    "Typically when we load in a dataset, we like to view the first five or so rows to see what's under the hood. Here we can see the names of each column, the index, and examples of values in each row.\n",
    "\n",
    "You'll notice that the index in our DataFrame is the *Title* column, which you can tell by how the word *Title* is slightly lower than the rest of the columns."
   ]
  },
  {
   "cell_type": "markdown",
   "metadata": {},
   "source": [
    "### Getting info about your data\n",
    "\n",
    "`.info()` should be one of the very first commands you run after loading your data:"
   ]
  },
  {
   "cell_type": "code",
   "execution_count": 19,
   "metadata": {
    "ExecuteTime": {
     "end_time": "2022-06-11T04:42:46.186291Z",
     "start_time": "2022-06-11T04:42:46.148970Z"
    }
   },
   "outputs": [
    {
     "name": "stdout",
     "output_type": "stream",
     "text": [
      "<class 'pandas.core.frame.DataFrame'>\n",
      "Index: 1000 entries, Guardians of the Galaxy to Nine Lives\n",
      "Data columns (total 11 columns):\n",
      " #   Column              Non-Null Count  Dtype  \n",
      "---  ------              --------------  -----  \n",
      " 0   Rank                1000 non-null   int64  \n",
      " 1   Genre               1000 non-null   object \n",
      " 2   Description         1000 non-null   object \n",
      " 3   Director            1000 non-null   object \n",
      " 4   Actors              1000 non-null   object \n",
      " 5   Year                1000 non-null   int64  \n",
      " 6   Runtime (Minutes)   1000 non-null   int64  \n",
      " 7   Rating              1000 non-null   float64\n",
      " 8   Votes               1000 non-null   int64  \n",
      " 9   Revenue (Millions)  872 non-null    float64\n",
      " 10  Metascore           936 non-null    float64\n",
      "dtypes: float64(3), int64(4), object(4)\n",
      "memory usage: 93.8+ KB\n",
      "None\n"
     ]
    }
   ],
   "source": [
    "import pandas\n",
    "\n",
    "movies_df = pandas.read_csv(\"resources/IMDB-Movie-Data.csv\", index_col=\"Title\")\n",
    "\n",
    "print(movies_df.info())"
   ]
  },
  {
   "cell_type": "markdown",
   "metadata": {},
   "source": [
    "`.info()` provides the essential details about your dataset, such as the number of rows and columns, the number of non-null values, what type of data is in each column, and how much memory your DataFrame is using. \n",
    "\n",
    "Notice in our movies dataset we have some obvious missing values in the `Revenue` and `Metascore` columns. \n",
    "\n",
    "Seeing the datatype quickly is actually quite useful. Imagine you just imported some JSON and the integers were recorded as strings. You go to do some arithmetic and find an \"unsupported operand\" Exception because you can't do math with strings. Calling `.info()` will quickly point out that your column you thought was all integers are actually string objects.\n",
    "\n",
    "Another fast and useful attribute is `.shape`, which outputs just a tuple of (rows, columns):"
   ]
  },
  {
   "cell_type": "code",
   "execution_count": 21,
   "metadata": {
    "ExecuteTime": {
     "end_time": "2022-06-11T04:43:03.205016Z",
     "start_time": "2022-06-11T04:43:03.174704Z"
    }
   },
   "outputs": [
    {
     "name": "stdout",
     "output_type": "stream",
     "text": [
      "(1000, 11)\n"
     ]
    }
   ],
   "source": [
    "import pandas\n",
    "\n",
    "movies_df = pandas.read_csv(\"resources/IMDB-Movie-Data.csv\", index_col=\"Title\")\n",
    "\n",
    "print(movies_df.shape)"
   ]
  },
  {
   "cell_type": "markdown",
   "metadata": {},
   "source": [
    "Note that `.shape` has no parentheses and is a simple tuple of format (rows, columns). So we have **1000 rows** and **11 columns** in our movies DataFrame.\n",
    "\n",
    "You'll be going to `.shape` a lot when cleaning and transforming data. For example, you might filter some rows based on some criteria and then want to know quickly how many rows were removed."
   ]
  },
  {
   "cell_type": "markdown",
   "metadata": {},
   "source": [
    "### Handling duplicates"
   ]
  },
  {
   "cell_type": "markdown",
   "metadata": {},
   "source": [
    "This dataset does not have duplicate rows, but it is always important to verify you aren't aggregating duplicate rows. \n",
    "\n",
    "To demonstrate, let's simply just double up our movies DataFrame by appending it to itself:"
   ]
  },
  {
   "cell_type": "code",
   "execution_count": 22,
   "metadata": {
    "ExecuteTime": {
     "end_time": "2022-06-11T04:43:38.416714Z",
     "start_time": "2022-06-11T04:43:38.404452Z"
    }
   },
   "outputs": [
    {
     "name": "stdout",
     "output_type": "stream",
     "text": [
      "(2000, 11)\n"
     ]
    },
    {
     "name": "stderr",
     "output_type": "stream",
     "text": [
      "/var/folders/0t/37zzt2wj3ygb5dmbchvqxtdc0000gn/T/ipykernel_3702/1653065324.py:5: FutureWarning: The frame.append method is deprecated and will be removed from pandas in a future version. Use pandas.concat instead.\n",
      "  temp_df = movies_df.append(movies_df)\n"
     ]
    }
   ],
   "source": [
    "import pandas\n",
    "\n",
    "movies_df = pandas.read_csv(\"resources/IMDB-Movie-Data.csv\", index_col=\"Title\")\n",
    "\n",
    "temp_df = movies_df.append(movies_df)\n",
    "\n",
    "print(temp_df.shape)"
   ]
  },
  {
   "cell_type": "markdown",
   "metadata": {},
   "source": [
    "Using `append()` will return a copy without affecting the original DataFrame. We are capturing this copy in `temp` so we aren't working with the real data.\n",
    "\n",
    "Notice call `.shape` quickly proves our DataFrame rows have doubled.\n",
    "\n",
    "Now we can try dropping duplicates:"
   ]
  },
  {
   "cell_type": "code",
   "execution_count": 23,
   "metadata": {
    "ExecuteTime": {
     "end_time": "2022-06-11T04:44:09.633471Z",
     "start_time": "2022-06-11T04:44:09.608876Z"
    }
   },
   "outputs": [
    {
     "name": "stdout",
     "output_type": "stream",
     "text": [
      "(1000, 11)\n"
     ]
    },
    {
     "name": "stderr",
     "output_type": "stream",
     "text": [
      "/var/folders/0t/37zzt2wj3ygb5dmbchvqxtdc0000gn/T/ipykernel_3702/203847890.py:5: FutureWarning: The frame.append method is deprecated and will be removed from pandas in a future version. Use pandas.concat instead.\n",
      "  temp_df = movies_df.append(movies_df)\n"
     ]
    }
   ],
   "source": [
    "import pandas\n",
    "\n",
    "movies_df = pandas.read_csv(\"resources/IMDB-Movie-Data.csv\", index_col=\"Title\")\n",
    "\n",
    "temp_df = movies_df.append(movies_df)\n",
    "\n",
    "temp_df = temp_df.drop_duplicates()\n",
    "\n",
    "print(temp_df.shape)"
   ]
  },
  {
   "cell_type": "markdown",
   "metadata": {
    "ExecuteTime": {
     "end_time": "2022-06-11T04:44:11.431056Z",
     "start_time": "2022-06-11T04:44:11.424817Z"
    }
   },
   "source": [
    "Just like `append()`, the `drop_duplicates()` method will also return a copy of your DataFrame, but this time with duplicates removed. Calling `.shape` confirms we're back to the 1000 rows of our original dataset.\n",
    "\n",
    "It's a little verbose to keep assigning DataFrames to the same variable like in this example. For this reason, pandas has the `inplace` keyword argument on many of its methods. Using `inplace=True` will modify the DataFrame object in place:"
   ]
  },
  {
   "cell_type": "code",
   "execution_count": null,
   "metadata": {
    "ExecuteTime": {
     "end_time": "2022-06-11T09:16:53.562666Z",
     "start_time": "2022-06-11T09:16:53.535001Z"
    },
    "scrolled": true
   },
   "outputs": [],
   "source": [
    "temp_df.drop_duplicates(inplace=True)"
   ]
  },
  {
   "cell_type": "markdown",
   "metadata": {},
   "source": [
    "Now our `temp_df` *will* have the transformed data automatically. \n",
    "\n",
    "Another important argument for `drop_duplicates()` is `keep`, which has three possible options:\n",
    "\n",
    "* `first`: (default) Drop duplicates except for the first occurrence.\n",
    "* `last`: Drop duplicates except for the last occurrence.\n",
    "* `False`: Drop all duplicates.\n",
    "\n",
    "Since we didn't define the `keep` arugment in the previous example it was defaulted to `first`. This means that if two rows are the same pandas will drop the second row and keep the first row. Using `last` has the opposite effect: the first row is dropped.\n",
    "\n",
    "`keep`, on the other hand, will drop all duplicates. If two rows are the same then both will be dropped. Watch what happens to `temp_df`:"
   ]
  },
  {
   "cell_type": "code",
   "execution_count": null,
   "metadata": {
    "ExecuteTime": {
     "end_time": "2022-06-11T09:21:28.956180Z",
     "start_time": "2022-06-11T09:21:28.930253Z"
    }
   },
   "outputs": [],
   "source": [
    "temp_df = movies_df.append(movies_df)  # make a new copy\n",
    "\n",
    "temp_df.drop_duplicateslicates(inplace=True, keep=False)\n",
    "\n",
    "temp_df.shape"
   ]
  },
  {
   "cell_type": "markdown",
   "metadata": {},
   "source": [
    "Since all rows were duplicates, `keep=False` dropped them all resulting in zero rows being left over. If you're wondering why you would want to do this, one reason is that it allows you to locate all duplicates in your dataset. When conditional selections are shown below you'll see how to do that."
   ]
  },
  {
   "cell_type": "markdown",
   "metadata": {},
   "source": [
    "### Column cleanup\n",
    "\n",
    "Many times datasets will have verbose column names with symbols, upper and lowercase words, spaces, and typos. To make selecting data by column name easier we can spend a little time cleaning up their names.\n",
    "\n",
    "Here's how to print the column names of our dataset:"
   ]
  },
  {
   "cell_type": "code",
   "execution_count": null,
   "metadata": {
    "ExecuteTime": {
     "end_time": "2022-06-11T09:22:52.912457Z",
     "start_time": "2022-06-11T09:22:52.892415Z"
    }
   },
   "outputs": [],
   "source": [
    "movies_df.columns"
   ]
  },
  {
   "cell_type": "code",
   "execution_count": 25,
   "metadata": {
    "ExecuteTime": {
     "end_time": "2022-06-11T09:24:39.725842Z",
     "start_time": "2022-06-11T09:24:39.701483Z"
    }
   },
   "outputs": [
    {
     "name": "stdout",
     "output_type": "stream",
     "text": [
      "                         Rank                     Genre  \\\n",
      "Title                                                     \n",
      "Guardians of the Galaxy  1     Action,Adventure,Sci-Fi    \n",
      "Prometheus               2     Adventure,Mystery,Sci-Fi   \n",
      "Split                    3     Horror,Thriller            \n",
      "Sing                     4     Animation,Comedy,Family    \n",
      "Suicide Squad            5     Action,Adventure,Fantasy   \n",
      "...                     ..                         ...    \n",
      "Secret in Their Eyes     996   Crime,Drama,Mystery        \n",
      "Hostel: Part II          997   Horror                     \n",
      "Step Up 2: The Streets   998   Drama,Music,Romance        \n",
      "Search Party             999   Adventure,Comedy           \n",
      "Nine Lives               1000  Comedy,Family,Fantasy      \n",
      "\n",
      "                                                                                                                                                                                                                                            Description  \\\n",
      "Title                                                                                                                                                                                                                                                     \n",
      "Guardians of the Galaxy  A group of intergalactic criminals are forced to work together to stop a fanatical warrior from taking control of the universe.                                                                                                  \n",
      "Prometheus               Following clues to the origin of mankind, a team finds a structure on a distant moon, but they soon realize they are not alone.                                                                                                  \n",
      "Split                    Three girls are kidnapped by a man with a diagnosed 23 distinct personalities. They must try to escape before the apparent emergence of a frightful new 24th.                                                                    \n",
      "Sing                     In a city of humanoid animals, a hustling theater impresario's attempt to save his theater with a singing competition becomes grander than he anticipates even as its finalists' find that their lives will never be the same.   \n",
      "Suicide Squad            A secret government agency recruits some of the most dangerous incarcerated super-villains to form a defensive task force. Their first mission: save the world from the apocalypse.                                              \n",
      "...                                                                                                                                                                                                                                                 ...   \n",
      "Secret in Their Eyes     A tight-knit team of rising investigators, along with their supervisor, is suddenly torn apart when they discover that one of their own teenage daughters has been brutally murdered.                                            \n",
      "Hostel: Part II          Three American college students studying abroad are lured to a Slovakian hostel, and discover the grim reality behind it.                                                                                                        \n",
      "Step Up 2: The Streets   Romantic sparks occur between two dance students from different backgrounds at the Maryland School of the Arts.                                                                                                                  \n",
      "Search Party             A pair of friends embark on a mission to reunite their pal with the woman he was going to marry.                                                                                                                                 \n",
      "Nine Lives               A stuffy businessman finds himself trapped inside the body of his family's cat.                                                                                                                                                  \n",
      "\n",
      "                                     Director  \\\n",
      "Title                                           \n",
      "Guardians of the Galaxy  James Gunn             \n",
      "Prometheus               Ridley Scott           \n",
      "Split                    M. Night Shyamalan     \n",
      "Sing                     Christophe Lourdelet   \n",
      "Suicide Squad            David Ayer             \n",
      "...                                       ...   \n",
      "Secret in Their Eyes     Billy Ray              \n",
      "Hostel: Part II          Eli Roth               \n",
      "Step Up 2: The Streets   Jon M. Chu             \n",
      "Search Party             Scot Armstrong         \n",
      "Nine Lives               Barry Sonnenfeld       \n",
      "\n",
      "                                                                                             Actors  \\\n",
      "Title                                                                                                 \n",
      "Guardians of the Galaxy  Chris Pratt, Vin Diesel, Bradley Cooper, Zoe Saldana                         \n",
      "Prometheus               Noomi Rapace, Logan Marshall-Green, Michael Fassbender, Charlize Theron      \n",
      "Split                    James McAvoy, Anya Taylor-Joy, Haley Lu Richardson, Jessica Sula             \n",
      "Sing                     Matthew McConaughey,Reese Witherspoon, Seth MacFarlane, Scarlett Johansson   \n",
      "Suicide Squad            Will Smith, Jared Leto, Margot Robbie, Viola Davis                           \n",
      "...                                                                                             ...   \n",
      "Secret in Their Eyes     Chiwetel Ejiofor, Nicole Kidman, Julia Roberts, Dean Norris                  \n",
      "Hostel: Part II          Lauren German, Heather Matarazzo, Bijou Phillips, Roger Bart                 \n",
      "Step Up 2: The Streets   Robert Hoffman, Briana Evigan, Cassie Ventura, Adam G. Sevani                \n",
      "Search Party             Adam Pally, T.J. Miller, Thomas Middleditch,Shannon Woodward                 \n",
      "Nine Lives               Kevin Spacey, Jennifer Garner, Robbie Amell,Cheryl Hines                     \n",
      "\n",
      "                         Year  Runtime  Rating   Votes  Revenue_millions  \\\n",
      "Title                                                                      \n",
      "Guardians of the Galaxy  2014  121      8.1     757074  333.13             \n",
      "Prometheus               2012  124      7.0     485820  126.46             \n",
      "Split                    2016  117      7.3     157606  138.12             \n",
      "Sing                     2016  108      7.2     60545   270.32             \n",
      "Suicide Squad            2016  123      6.2     393727  325.02             \n",
      "...                       ...  ...      ...       ...      ...             \n",
      "Secret in Their Eyes     2015  111      6.2     27585  NaN                 \n",
      "Hostel: Part II          2007  94       5.5     73152   17.54              \n",
      "Step Up 2: The Streets   2008  98       6.2     70699   58.01              \n",
      "Search Party             2014  93       5.6     4881   NaN                 \n",
      "Nine Lives               2016  87       5.3     12435   19.64              \n",
      "\n",
      "                         Metascore  \n",
      "Title                               \n",
      "Guardians of the Galaxy  76.0       \n",
      "Prometheus               65.0       \n",
      "Split                    62.0       \n",
      "Sing                     59.0       \n",
      "Suicide Squad            40.0       \n",
      "...                       ...       \n",
      "Secret in Their Eyes     45.0       \n",
      "Hostel: Part II          46.0       \n",
      "Step Up 2: The Streets   50.0       \n",
      "Search Party             22.0       \n",
      "Nine Lives               11.0       \n",
      "\n",
      "[1000 rows x 11 columns]\n"
     ]
    }
   ],
   "source": [
    "import pandas\n",
    "\n",
    "movies_df = pandas.read_csv(\"resources/IMDB-Movie-Data.csv\", index_col=\"Title\")\n",
    "\n",
    "movies_df.rename(columns={\n",
    "        'Runtime (Minutes)': 'Runtime', \n",
    "        'Revenue (Millions)': 'Revenue_millions'\n",
    "    }, inplace=True)\n",
    "\n",
    "\n",
    "print(movies_df)"
   ]
  },
  {
   "cell_type": "code",
   "execution_count": 26,
   "metadata": {
    "ExecuteTime": {
     "end_time": "2022-06-11T09:26:37.820727Z",
     "start_time": "2022-06-11T09:26:37.808321Z"
    }
   },
   "outputs": [
    {
     "name": "stdout",
     "output_type": "stream",
     "text": [
      "                         rank                     genre  \\\n",
      "Title                                                     \n",
      "Guardians of the Galaxy  1     Action,Adventure,Sci-Fi    \n",
      "Prometheus               2     Adventure,Mystery,Sci-Fi   \n",
      "Split                    3     Horror,Thriller            \n",
      "Sing                     4     Animation,Comedy,Family    \n",
      "Suicide Squad            5     Action,Adventure,Fantasy   \n",
      "...                     ..                         ...    \n",
      "Secret in Their Eyes     996   Crime,Drama,Mystery        \n",
      "Hostel: Part II          997   Horror                     \n",
      "Step Up 2: The Streets   998   Drama,Music,Romance        \n",
      "Search Party             999   Adventure,Comedy           \n",
      "Nine Lives               1000  Comedy,Family,Fantasy      \n",
      "\n",
      "                                                                                                                                                                                                                                            description  \\\n",
      "Title                                                                                                                                                                                                                                                     \n",
      "Guardians of the Galaxy  A group of intergalactic criminals are forced to work together to stop a fanatical warrior from taking control of the universe.                                                                                                  \n",
      "Prometheus               Following clues to the origin of mankind, a team finds a structure on a distant moon, but they soon realize they are not alone.                                                                                                  \n",
      "Split                    Three girls are kidnapped by a man with a diagnosed 23 distinct personalities. They must try to escape before the apparent emergence of a frightful new 24th.                                                                    \n",
      "Sing                     In a city of humanoid animals, a hustling theater impresario's attempt to save his theater with a singing competition becomes grander than he anticipates even as its finalists' find that their lives will never be the same.   \n",
      "Suicide Squad            A secret government agency recruits some of the most dangerous incarcerated super-villains to form a defensive task force. Their first mission: save the world from the apocalypse.                                              \n",
      "...                                                                                                                                                                                                                                                 ...   \n",
      "Secret in Their Eyes     A tight-knit team of rising investigators, along with their supervisor, is suddenly torn apart when they discover that one of their own teenage daughters has been brutally murdered.                                            \n",
      "Hostel: Part II          Three American college students studying abroad are lured to a Slovakian hostel, and discover the grim reality behind it.                                                                                                        \n",
      "Step Up 2: The Streets   Romantic sparks occur between two dance students from different backgrounds at the Maryland School of the Arts.                                                                                                                  \n",
      "Search Party             A pair of friends embark on a mission to reunite their pal with the woman he was going to marry.                                                                                                                                 \n",
      "Nine Lives               A stuffy businessman finds himself trapped inside the body of his family's cat.                                                                                                                                                  \n",
      "\n",
      "                                     director  \\\n",
      "Title                                           \n",
      "Guardians of the Galaxy  James Gunn             \n",
      "Prometheus               Ridley Scott           \n",
      "Split                    M. Night Shyamalan     \n",
      "Sing                     Christophe Lourdelet   \n",
      "Suicide Squad            David Ayer             \n",
      "...                                       ...   \n",
      "Secret in Their Eyes     Billy Ray              \n",
      "Hostel: Part II          Eli Roth               \n",
      "Step Up 2: The Streets   Jon M. Chu             \n",
      "Search Party             Scot Armstrong         \n",
      "Nine Lives               Barry Sonnenfeld       \n",
      "\n",
      "                                                                                             actors  \\\n",
      "Title                                                                                                 \n",
      "Guardians of the Galaxy  Chris Pratt, Vin Diesel, Bradley Cooper, Zoe Saldana                         \n",
      "Prometheus               Noomi Rapace, Logan Marshall-Green, Michael Fassbender, Charlize Theron      \n",
      "Split                    James McAvoy, Anya Taylor-Joy, Haley Lu Richardson, Jessica Sula             \n",
      "Sing                     Matthew McConaughey,Reese Witherspoon, Seth MacFarlane, Scarlett Johansson   \n",
      "Suicide Squad            Will Smith, Jared Leto, Margot Robbie, Viola Davis                           \n",
      "...                                                                                             ...   \n",
      "Secret in Their Eyes     Chiwetel Ejiofor, Nicole Kidman, Julia Roberts, Dean Norris                  \n",
      "Hostel: Part II          Lauren German, Heather Matarazzo, Bijou Phillips, Roger Bart                 \n",
      "Step Up 2: The Streets   Robert Hoffman, Briana Evigan, Cassie Ventura, Adam G. Sevani                \n",
      "Search Party             Adam Pally, T.J. Miller, Thomas Middleditch,Shannon Woodward                 \n",
      "Nine Lives               Kevin Spacey, Jennifer Garner, Robbie Amell,Cheryl Hines                     \n",
      "\n",
      "                         year  runtime  rating   votes  revenue_millions  \\\n",
      "Title                                                                      \n",
      "Guardians of the Galaxy  2014  121      8.1     757074  333.13             \n",
      "Prometheus               2012  124      7.0     485820  126.46             \n",
      "Split                    2016  117      7.3     157606  138.12             \n",
      "Sing                     2016  108      7.2     60545   270.32             \n",
      "Suicide Squad            2016  123      6.2     393727  325.02             \n",
      "...                       ...  ...      ...       ...      ...             \n",
      "Secret in Their Eyes     2015  111      6.2     27585  NaN                 \n",
      "Hostel: Part II          2007  94       5.5     73152   17.54              \n",
      "Step Up 2: The Streets   2008  98       6.2     70699   58.01              \n",
      "Search Party             2014  93       5.6     4881   NaN                 \n",
      "Nine Lives               2016  87       5.3     12435   19.64              \n",
      "\n",
      "                         metascore  \n",
      "Title                               \n",
      "Guardians of the Galaxy  76.0       \n",
      "Prometheus               65.0       \n",
      "Split                    62.0       \n",
      "Sing                     59.0       \n",
      "Suicide Squad            40.0       \n",
      "...                       ...       \n",
      "Secret in Their Eyes     45.0       \n",
      "Hostel: Part II          46.0       \n",
      "Step Up 2: The Streets   50.0       \n",
      "Search Party             22.0       \n",
      "Nine Lives               11.0       \n",
      "\n",
      "[1000 rows x 11 columns]\n"
     ]
    }
   ],
   "source": [
    "## another way to convert the column names\n",
    "movies_df.columns = ['rank', 'genre', 'description', 'director', 'actors', 'year', 'runtime', \n",
    "                     'rating', 'votes', 'revenue_millions', 'metascore']\n",
    "\n",
    "\n",
    "print(movies_df)"
   ]
  },
  {
   "cell_type": "markdown",
   "metadata": {},
   "source": [
    "But that's too much work. Instead of just renaming each column manually we can do a list comprehension:"
   ]
  },
  {
   "cell_type": "code",
   "execution_count": null,
   "metadata": {
    "ExecuteTime": {
     "end_time": "2022-06-11T09:27:04.173573Z",
     "start_time": "2022-06-11T09:27:04.162048Z"
    }
   },
   "outputs": [],
   "source": [
    "movies_df.columns = [col.lower() for col in movies_df]\n",
    "\n",
    "movies_df.columns"
   ]
  },
  {
   "cell_type": "markdown",
   "metadata": {},
   "source": [
    "`list` (and `dict`) comprehensions come in handy a lot when working with pandas and data in general.\n",
    "\n",
    "It's a good idea to lowercase, remove special characters, and replace spaces with underscores if you'll be working with a dataset for some time."
   ]
  },
  {
   "cell_type": "markdown",
   "metadata": {},
   "source": [
    "### How to work with missing values\n",
    "\n",
    "When exploring data, you’ll most likely encounter missing or null values, which are essentially placeholders for non-existent values. Most commonly you'll see Python's `None` or NumPy's `np.nan`, each of which are handled differently in some situations.\n",
    "\n",
    "There are two options in dealing with nulls: \n",
    "\n",
    "1. Get rid of rows or columns with nulls\n",
    "2. Replace nulls with non-null values, a technique known as **imputation**\n",
    "\n",
    "Let's calculate to total number of nulls in each column of our dataset. The first step is to check which cells in our DataFrame are null:"
   ]
  },
  {
   "cell_type": "code",
   "execution_count": 27,
   "metadata": {
    "ExecuteTime": {
     "end_time": "2022-06-11T09:28:18.344457Z",
     "start_time": "2022-06-11T09:28:18.313433Z"
    },
    "scrolled": true
   },
   "outputs": [
    {
     "name": "stdout",
     "output_type": "stream",
     "text": [
      "                          Rank  Genre  Description  Director  Actors   Year  \\\n",
      "Title                                                                         \n",
      "Guardians of the Galaxy  False  False  False        False     False   False   \n",
      "Prometheus               False  False  False        False     False   False   \n",
      "Split                    False  False  False        False     False   False   \n",
      "Sing                     False  False  False        False     False   False   \n",
      "Suicide Squad            False  False  False        False     False   False   \n",
      "...                        ...    ...    ...          ...       ...     ...   \n",
      "Secret in Their Eyes     False  False  False        False     False   False   \n",
      "Hostel: Part II          False  False  False        False     False   False   \n",
      "Step Up 2: The Streets   False  False  False        False     False   False   \n",
      "Search Party             False  False  False        False     False   False   \n",
      "Nine Lives               False  False  False        False     False   False   \n",
      "\n",
      "                         Runtime (Minutes)  Rating  Votes  Revenue (Millions)  \\\n",
      "Title                                                                           \n",
      "Guardians of the Galaxy  False              False   False  False                \n",
      "Prometheus               False              False   False  False                \n",
      "Split                    False              False   False  False                \n",
      "Sing                     False              False   False  False                \n",
      "Suicide Squad            False              False   False  False                \n",
      "...                        ...                ...     ...    ...                \n",
      "Secret in Their Eyes     False              False   False  True                 \n",
      "Hostel: Part II          False              False   False  False                \n",
      "Step Up 2: The Streets   False              False   False  False                \n",
      "Search Party             False              False   False  True                 \n",
      "Nine Lives               False              False   False  False                \n",
      "\n",
      "                         Metascore  \n",
      "Title                               \n",
      "Guardians of the Galaxy  False      \n",
      "Prometheus               False      \n",
      "Split                    False      \n",
      "Sing                     False      \n",
      "Suicide Squad            False      \n",
      "...                        ...      \n",
      "Secret in Their Eyes     False      \n",
      "Hostel: Part II          False      \n",
      "Step Up 2: The Streets   False      \n",
      "Search Party             False      \n",
      "Nine Lives               False      \n",
      "\n",
      "[1000 rows x 11 columns]\n"
     ]
    }
   ],
   "source": [
    "import pandas\n",
    "\n",
    "movies_df = pandas.read_csv(\"resources/IMDB-Movie-Data.csv\", index_col=\"Title\")\n",
    "\n",
    "print(movies_df.isnull())"
   ]
  },
  {
   "cell_type": "markdown",
   "metadata": {},
   "source": [
    "Notice `isnull()` returns a DataFrame where each cell is either True or False depending on that cell's null status.\n",
    "\n",
    "To count the number of nulls in each column we use an aggregate function for summing: "
   ]
  },
  {
   "cell_type": "code",
   "execution_count": null,
   "metadata": {
    "ExecuteTime": {
     "end_time": "2022-06-11T09:28:35.520693Z",
     "start_time": "2022-06-11T09:28:35.503895Z"
    }
   },
   "outputs": [],
   "source": [
    "movies_df.isnull().sum()"
   ]
  },
  {
   "cell_type": "markdown",
   "metadata": {},
   "source": [
    "`.isnull()` just by iteself isn't very useful, and is usually used in conjunction with other methods, like `sum()`.\n",
    "\n",
    "We can see now that our data has **128** missing values for `revenue_millions` and **64** missing values for `metascore`."
   ]
  },
  {
   "cell_type": "markdown",
   "metadata": {
    "ExecuteTime": {
     "end_time": "2022-06-11T09:29:04.765378Z",
     "start_time": "2022-06-11T09:29:04.746187Z"
    }
   },
   "source": [
    "#### Removing null values\n",
    "\n",
    "Data Scientists and Analysts regularly face the dilemma of dropping or imputing null values, and is a decision that requires intimate knowledge of your data and its context. Overall, removing null data is only suggested if you have a small amount of missing data.\n",
    "\n",
    "Remove nulls is pretty simple:"
   ]
  },
  {
   "cell_type": "code",
   "execution_count": 28,
   "metadata": {
    "ExecuteTime": {
     "end_time": "2022-06-11T09:29:13.455694Z",
     "start_time": "2022-06-11T09:29:13.415457Z"
    },
    "scrolled": true
   },
   "outputs": [
    {
     "name": "stdout",
     "output_type": "stream",
     "text": [
      "                         Rank                     Genre  \\\n",
      "Title                                                     \n",
      "Guardians of the Galaxy  1     Action,Adventure,Sci-Fi    \n",
      "Prometheus               2     Adventure,Mystery,Sci-Fi   \n",
      "Split                    3     Horror,Thriller            \n",
      "Sing                     4     Animation,Comedy,Family    \n",
      "Suicide Squad            5     Action,Adventure,Fantasy   \n",
      "...                     ..                         ...    \n",
      "Secret in Their Eyes     996   Crime,Drama,Mystery        \n",
      "Hostel: Part II          997   Horror                     \n",
      "Step Up 2: The Streets   998   Drama,Music,Romance        \n",
      "Search Party             999   Adventure,Comedy           \n",
      "Nine Lives               1000  Comedy,Family,Fantasy      \n",
      "\n",
      "                                                                                                                                                                                                                                            Description  \\\n",
      "Title                                                                                                                                                                                                                                                     \n",
      "Guardians of the Galaxy  A group of intergalactic criminals are forced to work together to stop a fanatical warrior from taking control of the universe.                                                                                                  \n",
      "Prometheus               Following clues to the origin of mankind, a team finds a structure on a distant moon, but they soon realize they are not alone.                                                                                                  \n",
      "Split                    Three girls are kidnapped by a man with a diagnosed 23 distinct personalities. They must try to escape before the apparent emergence of a frightful new 24th.                                                                    \n",
      "Sing                     In a city of humanoid animals, a hustling theater impresario's attempt to save his theater with a singing competition becomes grander than he anticipates even as its finalists' find that their lives will never be the same.   \n",
      "Suicide Squad            A secret government agency recruits some of the most dangerous incarcerated super-villains to form a defensive task force. Their first mission: save the world from the apocalypse.                                              \n",
      "...                                                                                                                                                                                                                                                 ...   \n",
      "Secret in Their Eyes     A tight-knit team of rising investigators, along with their supervisor, is suddenly torn apart when they discover that one of their own teenage daughters has been brutally murdered.                                            \n",
      "Hostel: Part II          Three American college students studying abroad are lured to a Slovakian hostel, and discover the grim reality behind it.                                                                                                        \n",
      "Step Up 2: The Streets   Romantic sparks occur between two dance students from different backgrounds at the Maryland School of the Arts.                                                                                                                  \n",
      "Search Party             A pair of friends embark on a mission to reunite their pal with the woman he was going to marry.                                                                                                                                 \n",
      "Nine Lives               A stuffy businessman finds himself trapped inside the body of his family's cat.                                                                                                                                                  \n",
      "\n",
      "                                     Director  \\\n",
      "Title                                           \n",
      "Guardians of the Galaxy  James Gunn             \n",
      "Prometheus               Ridley Scott           \n",
      "Split                    M. Night Shyamalan     \n",
      "Sing                     Christophe Lourdelet   \n",
      "Suicide Squad            David Ayer             \n",
      "...                                       ...   \n",
      "Secret in Their Eyes     Billy Ray              \n",
      "Hostel: Part II          Eli Roth               \n",
      "Step Up 2: The Streets   Jon M. Chu             \n",
      "Search Party             Scot Armstrong         \n",
      "Nine Lives               Barry Sonnenfeld       \n",
      "\n",
      "                                                                                             Actors  \\\n",
      "Title                                                                                                 \n",
      "Guardians of the Galaxy  Chris Pratt, Vin Diesel, Bradley Cooper, Zoe Saldana                         \n",
      "Prometheus               Noomi Rapace, Logan Marshall-Green, Michael Fassbender, Charlize Theron      \n",
      "Split                    James McAvoy, Anya Taylor-Joy, Haley Lu Richardson, Jessica Sula             \n",
      "Sing                     Matthew McConaughey,Reese Witherspoon, Seth MacFarlane, Scarlett Johansson   \n",
      "Suicide Squad            Will Smith, Jared Leto, Margot Robbie, Viola Davis                           \n",
      "...                                                                                             ...   \n",
      "Secret in Their Eyes     Chiwetel Ejiofor, Nicole Kidman, Julia Roberts, Dean Norris                  \n",
      "Hostel: Part II          Lauren German, Heather Matarazzo, Bijou Phillips, Roger Bart                 \n",
      "Step Up 2: The Streets   Robert Hoffman, Briana Evigan, Cassie Ventura, Adam G. Sevani                \n",
      "Search Party             Adam Pally, T.J. Miller, Thomas Middleditch,Shannon Woodward                 \n",
      "Nine Lives               Kevin Spacey, Jennifer Garner, Robbie Amell,Cheryl Hines                     \n",
      "\n",
      "                         Year  Runtime (Minutes)  Rating   Votes  \\\n",
      "Title                                                              \n",
      "Guardians of the Galaxy  2014  121                8.1     757074   \n",
      "Prometheus               2012  124                7.0     485820   \n",
      "Split                    2016  117                7.3     157606   \n",
      "Sing                     2016  108                7.2     60545    \n",
      "Suicide Squad            2016  123                6.2     393727   \n",
      "...                       ...  ...                ...       ...    \n",
      "Secret in Their Eyes     2015  111                6.2     27585    \n",
      "Hostel: Part II          2007  94                 5.5     73152    \n",
      "Step Up 2: The Streets   2008  98                 6.2     70699    \n",
      "Search Party             2014  93                 5.6     4881     \n",
      "Nine Lives               2016  87                 5.3     12435    \n",
      "\n",
      "                         Revenue (Millions)  Metascore  \n",
      "Title                                                   \n",
      "Guardians of the Galaxy  333.13              76.0       \n",
      "Prometheus               126.46              65.0       \n",
      "Split                    138.12              62.0       \n",
      "Sing                     270.32              59.0       \n",
      "Suicide Squad            325.02              40.0       \n",
      "...                         ...               ...       \n",
      "Secret in Their Eyes    NaN                  45.0       \n",
      "Hostel: Part II          17.54               46.0       \n",
      "Step Up 2: The Streets   58.01               50.0       \n",
      "Search Party            NaN                  22.0       \n",
      "Nine Lives               19.64               11.0       \n",
      "\n",
      "[1000 rows x 11 columns]\n"
     ]
    }
   ],
   "source": [
    "import pandas\n",
    "\n",
    "movies_df = pandas.read_csv(\"resources/IMDB-Movie-Data.csv\", index_col=\"Title\")\n",
    "\n",
    "movies_df.dropna()\n",
    "\n",
    "print(movies_df)"
   ]
  },
  {
   "cell_type": "markdown",
   "metadata": {},
   "source": [
    "This operation will delete any **row** with at least a single null value, but it will return a new DataFrame without altering the original one. You could specify `inplace=True` in this method as well.\n",
    "\n",
    "So in the case of our dataset, this operation would remove 128 rows where `revenue_millions` is null and 64 rows where `metascore` is null. This obviously seems like a waste since there's perfectly good data in the other columns of those dropped rows. That's why we'll look at imputation next.\n",
    "\n",
    "Other than just dropping rows, you can also drop columns with null values by setting `axis=1`:"
   ]
  },
  {
   "cell_type": "code",
   "execution_count": null,
   "metadata": {
    "ExecuteTime": {
     "end_time": "2022-06-11T09:29:31.121375Z",
     "start_time": "2022-06-11T09:29:31.084214Z"
    },
    "scrolled": true
   },
   "outputs": [],
   "source": [
    "movies_df.dropna(axis=1)"
   ]
  },
  {
   "cell_type": "markdown",
   "metadata": {},
   "source": [
    "In our dataset, this operation would drop the `revenue_millions` and `metascore` columns.\n",
    "\n",
    "**Intuition side note**: What's with this `axis=1` parameter?\n",
    "\n",
    "It's not immediately obvious where `axis` comes from and why you need it to be 1 for it to affect columns. To see why, just look at the `.shape` output:"
   ]
  },
  {
   "cell_type": "code",
   "execution_count": null,
   "metadata": {
    "ExecuteTime": {
     "end_time": "2022-06-11T09:35:50.429353Z",
     "start_time": "2022-06-11T09:35:50.422332Z"
    }
   },
   "outputs": [],
   "source": [
    "movies_df.shape"
   ]
  },
  {
   "cell_type": "markdown",
   "metadata": {},
   "source": [
    "As we learned above, this is a tuple that represents the shape of the DataFrame, i.e. 1000 rows and 11 columns. Note that the *rows* are at index zero of this tuple and *columns* are at **index one** of this tuple. This is why `axis=1` affects columns. This comes from NumPy, and is a great example of why learning NumPy is worth your time."
   ]
  },
  {
   "cell_type": "markdown",
   "metadata": {},
   "source": [
    "### Imputation\n",
    "\n",
    "Imputation is a conventional feature engineering technique used to keep valuable data that have null values. \n",
    "\n",
    "There may be instances where dropping every row with a null value removes too big a chunk from your dataset, so instead we can impute that null with another value, usually the **mean** or the **median** of that column. \n",
    "\n",
    "Let's look at imputing the missing values in the `revenue_millions` column. First we'll extract that column into its own variable:"
   ]
  },
  {
   "cell_type": "code",
   "execution_count": null,
   "metadata": {
    "ExecuteTime": {
     "end_time": "2022-06-11T09:36:48.457268Z",
     "start_time": "2022-06-11T09:36:48.452266Z"
    }
   },
   "outputs": [],
   "source": [
    "revenue = movies_df['revenue_millions']"
   ]
  },
  {
   "cell_type": "markdown",
   "metadata": {
    "ExecuteTime": {
     "end_time": "2022-06-11T09:36:55.063174Z",
     "start_time": "2022-06-11T09:36:55.047268Z"
    }
   },
   "source": [
    "Using square brackets is the general way we select columns in a DataFrame. \n",
    "\n",
    "If you remember back to when we created DataFrames from scratch, the keys of the `dict` ended up as column names. Now when we select columns of a DataFrame, we use brackets just like if we were accessing a Python dictionary. \n",
    "\n",
    "`revenue` now contains a Series:"
   ]
  },
  {
   "cell_type": "code",
   "execution_count": null,
   "metadata": {
    "ExecuteTime": {
     "end_time": "2022-06-11T09:37:05.360320Z",
     "start_time": "2022-06-11T09:37:05.345714Z"
    }
   },
   "outputs": [],
   "source": [
    "revenue.head()"
   ]
  },
  {
   "cell_type": "markdown",
   "metadata": {},
   "source": [
    "Slightly different formatting than a DataFrame, but we still have our `Title` index. \n",
    "\n",
    "We'll impute the missing values of revenue using the mean. Here's the mean value:"
   ]
  },
  {
   "cell_type": "code",
   "execution_count": null,
   "metadata": {
    "ExecuteTime": {
     "end_time": "2022-06-11T09:37:21.845269Z",
     "start_time": "2022-06-11T09:37:21.831049Z"
    }
   },
   "outputs": [],
   "source": [
    "revenue_mean = revenue.mean()\n",
    "\n",
    "revenue_mean"
   ]
  },
  {
   "cell_type": "markdown",
   "metadata": {},
   "source": [
    "With the mean, let's fill the nulls using `fillna()`:"
   ]
  },
  {
   "cell_type": "code",
   "execution_count": null,
   "metadata": {
    "ExecuteTime": {
     "end_time": "2022-06-11T09:37:41.034342Z",
     "start_time": "2022-06-11T09:37:41.025341Z"
    }
   },
   "outputs": [],
   "source": [
    "revenue.fillna(revenue_mean, inplace=True)"
   ]
  },
  {
   "cell_type": "markdown",
   "metadata": {},
   "source": [
    "We have now replaced all nulls in `revenue` with the mean of the column. Notice that by using `inplace=True` we have actually affected the original `movies_df`:"
   ]
  },
  {
   "cell_type": "code",
   "execution_count": null,
   "metadata": {
    "ExecuteTime": {
     "end_time": "2022-06-11T09:37:54.794462Z",
     "start_time": "2022-06-11T09:37:54.771131Z"
    }
   },
   "outputs": [],
   "source": [
    "movies_df.isnull().sum()"
   ]
  },
  {
   "cell_type": "markdown",
   "metadata": {},
   "source": [
    "Imputing an entire column with the same value like this is a basic example. It would be a better idea to try a more granular imputation by Genre or Director. \n",
    "\n",
    "For example, you would find the mean of the revenue generated in each genre individually and impute the nulls in each genre with that genre's mean.\n",
    "\n",
    "Let's now look at more ways to examine and understand the dataset."
   ]
  },
  {
   "cell_type": "markdown",
   "metadata": {},
   "source": [
    "### Understanding your variables\n",
    "\n",
    "Using `describe()` on an entire DataFrame we can get a summary of the distribution of continuous variables:"
   ]
  },
  {
   "cell_type": "code",
   "execution_count": null,
   "metadata": {
    "ExecuteTime": {
     "end_time": "2022-06-11T09:38:32.818728Z",
     "start_time": "2022-06-11T09:38:32.774013Z"
    }
   },
   "outputs": [],
   "source": [
    "movies_df.describe()"
   ]
  },
  {
   "cell_type": "markdown",
   "metadata": {},
   "source": [
    "Understanding which numbers are continuous also comes in handy when thinking about the type of plot to use to represent your data visually. \n",
    "\n",
    "`.describe()` can also be used on a categorical variable to get the count of rows, unique count of categories, top category, and freq of top category:"
   ]
  },
  {
   "cell_type": "code",
   "execution_count": null,
   "metadata": {
    "ExecuteTime": {
     "end_time": "2022-07-23T15:23:04.648328Z",
     "start_time": "2022-07-23T15:23:04.615151Z"
    }
   },
   "outputs": [],
   "source": [
    "movies_df.describe(include='all')"
   ]
  },
  {
   "cell_type": "code",
   "execution_count": null,
   "metadata": {
    "ExecuteTime": {
     "end_time": "2022-06-11T09:38:48.518067Z",
     "start_time": "2022-06-11T09:38:48.493945Z"
    }
   },
   "outputs": [],
   "source": [
    "movies_df['genre'].describe()"
   ]
  },
  {
   "cell_type": "markdown",
   "metadata": {},
   "source": [
    "This tells us that the genre column has 207 unique values, the top value is Action/Adventure/Sci-Fi, which shows up 50 times (freq).\n",
    "\n",
    "`.value_counts()` can tell us the frequency of all values in a column:"
   ]
  },
  {
   "cell_type": "code",
   "execution_count": null,
   "metadata": {
    "ExecuteTime": {
     "end_time": "2022-06-11T09:39:08.267920Z",
     "start_time": "2022-06-11T09:39:08.253846Z"
    }
   },
   "outputs": [],
   "source": [
    "movies_df['genre'].value_counts().head(10)"
   ]
  },
  {
   "cell_type": "markdown",
   "metadata": {},
   "source": [
    "#### Relationships between continuous variables\n",
    "\n",
    "By using the correlation method `.corr()` we can generate the relationship between each continuous variable:"
   ]
  },
  {
   "cell_type": "code",
   "execution_count": null,
   "metadata": {
    "ExecuteTime": {
     "end_time": "2022-06-11T09:40:40.853776Z",
     "start_time": "2022-06-11T09:40:40.832361Z"
    }
   },
   "outputs": [],
   "source": [
    "movies_df.corr()"
   ]
  },
  {
   "cell_type": "markdown",
   "metadata": {},
   "source": [
    "Correlation tables are a numerical representation of the bivariate relationships in the dataset. \n",
    "\n",
    "Positive numbers indicate a positive correlation — one goes up the other goes up — and negative numbers represent an inverse correlation — one goes up the other goes down. 1.0 indicates a perfect correlation. \n",
    "\n",
    "So looking in the first row, first column we see `rank` has a perfect correlation with itself, which is obvious. On the other hand, the correlation between `votes` and `revenue_millions` is 0.6. A little more interesting.\n",
    "\n",
    "Examining bivariate relationships comes in handy when you have an outcome or dependent variable in mind and would like to see the features most correlated to the increase or decrease of the outcome. You can visually represent bivariate relationships with scatterplots (seen below in the plotting section). \n",
    "\n",
    "For a deeper look into data summarizations check out [Essential Statistics for Data Science](https://www.learndatasci.com/tutorials/data-science-statistics-using-python/).\n",
    "\n",
    "Let's now look more at manipulating DataFrames."
   ]
  },
  {
   "cell_type": "markdown",
   "metadata": {},
   "source": [
    "### DataFrame slicing, selecting, extracting\n",
    "\n",
    "Up until now we've focused on some basic summaries of our data. We've learned about simple column extraction using single brackets, and we imputed null values in a column using `fillna()`. Below are the other methods of slicing, selecting, and extracting you'll need to use constantly.\n",
    "\n",
    "It's important to note that, although many methods are the same, DataFrames and Series have different attributes, so you'll need be sure to know which type you are working with or else you will receive attribute errors. \n",
    "\n",
    "Let's look at working with columns first."
   ]
  },
  {
   "cell_type": "markdown",
   "metadata": {},
   "source": [
    "#### By column\n",
    "\n",
    "You already saw how to extract a column using square brackets like this:"
   ]
  },
  {
   "cell_type": "code",
   "execution_count": null,
   "metadata": {
    "ExecuteTime": {
     "end_time": "2022-06-11T09:41:55.347536Z",
     "start_time": "2022-06-11T09:41:55.341456Z"
    }
   },
   "outputs": [],
   "source": [
    "genre_col = movies_df['genre']\n",
    "\n",
    "type(genre_col)"
   ]
  },
  {
   "cell_type": "markdown",
   "metadata": {},
   "source": [
    "This will return a *Series*. To extract a column as a *DataFrame*, you need to pass a list of column names. In our case that's just a single column:"
   ]
  },
  {
   "cell_type": "code",
   "execution_count": null,
   "metadata": {
    "ExecuteTime": {
     "end_time": "2022-06-11T09:42:10.014396Z",
     "start_time": "2022-06-11T09:42:09.987672Z"
    }
   },
   "outputs": [],
   "source": [
    "genre_col = movies_df[['genre']]\n",
    "\n",
    "type(genre_col)"
   ]
  },
  {
   "cell_type": "markdown",
   "metadata": {},
   "source": [
    "Since it's just a list, adding another column name is easy:"
   ]
  },
  {
   "cell_type": "code",
   "execution_count": null,
   "metadata": {
    "ExecuteTime": {
     "end_time": "2022-06-11T09:42:26.084040Z",
     "start_time": "2022-06-11T09:42:26.061549Z"
    }
   },
   "outputs": [],
   "source": [
    "subset = movies_df[['genre', 'rating']]\n",
    "\n",
    "subset.head()"
   ]
  },
  {
   "cell_type": "markdown",
   "metadata": {},
   "source": [
    "Now we'll look at getting data by rows."
   ]
  },
  {
   "cell_type": "markdown",
   "metadata": {},
   "source": [
    "#### By rows\n",
    "\n",
    "\n",
    "For rows, we have two options: \n",
    "\n",
    "- `.loc` - **loc**ates by name\n",
    "- `.iloc`- **loc**ates by numerical **i**ndex\n",
    "\n",
    "Remember that we are still indexed by movie Title, so to use `.loc` we give it the Title of a movie:"
   ]
  },
  {
   "cell_type": "code",
   "execution_count": null,
   "metadata": {
    "ExecuteTime": {
     "end_time": "2022-06-11T09:43:12.127785Z",
     "start_time": "2022-06-11T09:43:12.114428Z"
    }
   },
   "outputs": [],
   "source": [
    "prom = movies_df.loc[\"Prometheus\"]\n",
    "\n",
    "prom"
   ]
  },
  {
   "cell_type": "markdown",
   "metadata": {
    "ExecuteTime": {
     "end_time": "2022-06-11T09:43:25.757468Z",
     "start_time": "2022-06-11T09:43:25.741321Z"
    }
   },
   "source": [
    "On the other hand, with `iloc` we give it the numerical index of Prometheus:"
   ]
  },
  {
   "cell_type": "code",
   "execution_count": null,
   "metadata": {
    "ExecuteTime": {
     "end_time": "2022-06-11T09:43:34.842158Z",
     "start_time": "2022-06-11T09:43:34.826382Z"
    }
   },
   "outputs": [],
   "source": [
    "prom = movies_df.iloc[1]"
   ]
  },
  {
   "cell_type": "markdown",
   "metadata": {
    "ExecuteTime": {
     "end_time": "2022-06-11T09:43:46.948973Z",
     "start_time": "2022-06-11T09:43:46.941644Z"
    }
   },
   "source": [
    "`loc` and `iloc` can be thought of as similar to Python `list` slicing. To show this even further, let's select multiple rows.\n",
    "\n",
    "How would you do it with a list? In Python, just slice with brackets like `example_list[1:4]`. It's works the same way in pandas:"
   ]
  },
  {
   "cell_type": "code",
   "execution_count": null,
   "metadata": {
    "ExecuteTime": {
     "end_time": "2022-06-11T09:43:57.480737Z",
     "start_time": "2022-06-11T09:43:57.449749Z"
    }
   },
   "outputs": [],
   "source": [
    "movie_subset = movies_df.loc['Prometheus':'Sing']\n",
    "\n",
    "movie_subset = movies_df.iloc[1:4]\n",
    "\n",
    "movie_subset"
   ]
  },
  {
   "cell_type": "markdown",
   "metadata": {},
   "source": [
    "One important distinction between using `.loc` and `.iloc` to select multiple rows is that `.loc` includes the movie *Sing* in the result, but when using `.iloc` we're getting rows 1:4 but the movie at index 4 (*Suicide Squad*) is not included. \n",
    "\n",
    "Slicing with `.iloc` follows the same rules as slicing with lists, the object at the index at the end is not included.\n",
    "\n",
    "#### Conditional selections\n",
    "We’ve gone over how to select columns and rows, but what if we want to make a conditional selection? \n",
    "\n",
    "For example, what if we want to filter our movies DataFrame to show only films directed by Ridley Scott or films with a rating greater than or equal to 8.0?\n",
    "\n",
    "To do that, we take a column from the DataFrame and apply a Boolean condition to it. Here's an example of a Boolean condition:"
   ]
  },
  {
   "cell_type": "code",
   "execution_count": null,
   "metadata": {
    "ExecuteTime": {
     "end_time": "2022-06-11T09:44:11.637799Z",
     "start_time": "2022-06-11T09:44:11.620453Z"
    }
   },
   "outputs": [],
   "source": [
    "condition = (movies_df['director'] == \"Ridley Scott\")\n",
    "\n",
    "condition.head()"
   ]
  },
  {
   "cell_type": "markdown",
   "metadata": {
    "ExecuteTime": {
     "end_time": "2022-06-11T09:44:20.159657Z",
     "start_time": "2022-06-11T09:44:20.139909Z"
    }
   },
   "source": [
    "Similar to `isnull()`, this returns a Series of True and False values: True for films directed by Ridley Scott and False for ones not directed by him. \n",
    "\n",
    "We want to filter out all movies not directed by Ridley Scott, in other words, we don’t want the False films. To return the rows where that condition is True we have to pass this operation into the DataFrame:"
   ]
  },
  {
   "cell_type": "code",
   "execution_count": null,
   "metadata": {
    "ExecuteTime": {
     "end_time": "2022-06-11T09:44:31.114882Z",
     "start_time": "2022-06-11T09:44:31.083857Z"
    },
    "scrolled": false
   },
   "outputs": [],
   "source": [
    "movies_df[movies_df['director'] == \"Ridley Scott\"].head()"
   ]
  },
  {
   "cell_type": "markdown",
   "metadata": {},
   "source": [
    "You can get used to looking at these conditionals by reading it like: \n",
    "\n",
    "> Select movies_df where movies_df director equals Ridley Scott\n",
    "\n",
    "Let's look at conditional selections using numerical values by filtering the DataFrame by ratings:"
   ]
  },
  {
   "cell_type": "code",
   "execution_count": null,
   "metadata": {
    "ExecuteTime": {
     "end_time": "2022-06-11T09:44:56.457648Z",
     "start_time": "2022-06-11T09:44:56.429594Z"
    }
   },
   "outputs": [],
   "source": [
    "movies_df[movies_df['rating'] >= 8.6].head(3)"
   ]
  },
  {
   "cell_type": "markdown",
   "metadata": {},
   "source": [
    "We can make some richer conditionals by using logical operators `|` for \"or\" and `&` for \"and\".\n",
    "\n",
    "Let's filter the the DataFrame to show only movies by Christopher Nolan OR Ridley Scott:"
   ]
  },
  {
   "cell_type": "code",
   "execution_count": null,
   "metadata": {
    "ExecuteTime": {
     "end_time": "2022-06-11T09:45:15.002897Z",
     "start_time": "2022-06-11T09:45:14.975076Z"
    },
    "scrolled": true
   },
   "outputs": [],
   "source": [
    "movies_df[(movies_df['director'] == 'Christopher Nolan') | (movies_df['director'] == 'Ridley Scott')].head()"
   ]
  },
  {
   "cell_type": "markdown",
   "metadata": {},
   "source": [
    "We need to make sure to group evaluations with parentheses so Python knows how to evaluate the conditional.\n",
    "\n",
    "Using the `isin()` method we could make this more concise though:"
   ]
  },
  {
   "cell_type": "code",
   "execution_count": null,
   "metadata": {
    "ExecuteTime": {
     "end_time": "2022-06-11T09:45:29.815719Z",
     "start_time": "2022-06-11T09:45:29.783995Z"
    },
    "scrolled": true
   },
   "outputs": [],
   "source": [
    "movies_df[movies_df['director'].isin(['Christopher Nolan', 'Ridley Scott'])].head()"
   ]
  },
  {
   "cell_type": "markdown",
   "metadata": {},
   "source": [
    "Let's say we want all movies that were released between 2005 and 2010, have a rating above 8.0, but made below the 25th percentile in revenue.\n",
    "\n",
    "Here's how we could do all of that:"
   ]
  },
  {
   "cell_type": "code",
   "execution_count": null,
   "metadata": {
    "ExecuteTime": {
     "end_time": "2022-06-11T09:45:44.535391Z",
     "start_time": "2022-06-11T09:45:44.504908Z"
    }
   },
   "outputs": [],
   "source": [
    "movies_df[\n",
    "    ((movies_df['year'] >= 2005) & (movies_df['year'] <= 2010))\n",
    "    & (movies_df['rating'] > 8.0)\n",
    "    & (movies_df['revenue_millions'] < movies_df['revenue_millions'].quantile(0.25))\n",
    "]"
   ]
  },
  {
   "cell_type": "markdown",
   "metadata": {},
   "source": [
    "If you recall up when we used `.describe()` the 25th percentile for revenue was about 17.4, and we can access this value directly by using the `quantile()` method with a float of 0.25.\n",
    "\n",
    "So here we have only four movies that match that criteria."
   ]
  },
  {
   "cell_type": "markdown",
   "metadata": {},
   "source": [
    "## Applying functions\n",
    "\n",
    "It is possible to iterate over a DataFrame or Series as you would with a list, but doing so — especially on large datasets — is very slow.\n",
    "\n",
    "An efficient alternative is to `apply()` a function to the dataset. For example, we could use a function to convert movies with an 8.0 or greater to a string value of \"good\" and the rest to \"bad\" and use this transformed values to create a new column.\n",
    "\n",
    "First we would create a function that, when given a rating, determines if it's good or bad:"
   ]
  },
  {
   "cell_type": "code",
   "execution_count": null,
   "metadata": {
    "ExecuteTime": {
     "end_time": "2022-06-11T09:46:09.462102Z",
     "start_time": "2022-06-11T09:46:09.458235Z"
    }
   },
   "outputs": [],
   "source": [
    "def rating_function(x):\n",
    "    if x >= 8.0:\n",
    "        return \"good\"\n",
    "    else:\n",
    "        return \"bad\""
   ]
  },
  {
   "cell_type": "markdown",
   "metadata": {
    "ExecuteTime": {
     "end_time": "2022-06-11T09:46:15.350117Z",
     "start_time": "2022-06-11T09:46:15.346089Z"
    }
   },
   "source": [
    "Now we want to send the entire rating column through this function, which is what `apply()` does:"
   ]
  },
  {
   "cell_type": "code",
   "execution_count": null,
   "metadata": {
    "ExecuteTime": {
     "end_time": "2022-06-11T09:46:23.739965Z",
     "start_time": "2022-06-11T09:46:23.719304Z"
    }
   },
   "outputs": [],
   "source": [
    "movies_df[\"rating_category\"] = movies_df[\"rating\"].apply(rating_function)\n",
    "\n",
    "movies_df.head(2)"
   ]
  },
  {
   "cell_type": "markdown",
   "metadata": {},
   "source": [
    "The `.apply()` method passes every value in the `rating` column through the `rating_function` and then returns a new Series. This Series is then assigned to a new column called `rating_category`.\n",
    "\n",
    "You can also use anonymous functions as well. This lambda function achieves the same result as `rating_function`:"
   ]
  },
  {
   "cell_type": "code",
   "execution_count": null,
   "metadata": {
    "ExecuteTime": {
     "end_time": "2022-06-11T09:46:38.967258Z",
     "start_time": "2022-06-11T09:46:38.937596Z"
    }
   },
   "outputs": [],
   "source": [
    "movies_df[\"rating_category\"] = movies_df[\"rating\"].apply(lambda x: 'good' if x >= 8.0 else 'bad')\n",
    "\n",
    "movies_df.head(2)"
   ]
  },
  {
   "cell_type": "markdown",
   "metadata": {},
   "source": [
    "Overall, using `apply()` will be much faster than iterating manually over rows because pandas is utilizing vectorization.\n",
    "\n",
    "> Vectorization: a style of computer programming where operations are applied to whole arrays instead of individual elements —[Wikipedia](https://en.wikipedia.org/wiki/Vectorization)\n",
    "\n",
    "A good example of high usage of `apply()` is during natural language processing (NLP) work. You'll need to apply all sorts of text cleaning functions to strings to prepare for machine learning."
   ]
  },
  {
   "cell_type": "code",
   "execution_count": null,
   "metadata": {},
   "outputs": [],
   "source": []
  },
  {
   "cell_type": "markdown",
   "metadata": {},
   "source": [
    "### Pandas apply, applymap and map"
   ]
  },
  {
   "cell_type": "markdown",
   "metadata": {
    "ExecuteTime": {
     "end_time": "2022-07-24T00:37:01.467861Z",
     "start_time": "2022-07-24T00:37:01.462888Z"
    }
   },
   "source": [
    "<img src= 'resources/pandas_apply.png' ></img>"
   ]
  },
  {
   "cell_type": "markdown",
   "metadata": {
    "ExecuteTime": {
     "end_time": "2022-07-24T00:37:26.474418Z",
     "start_time": "2022-07-24T00:37:26.470281Z"
    }
   },
   "source": [
    "- apply() is used to apply a function along an axis of the DataFrame or on values of Series.\n",
    "- applymap() is used to apply a function to a DataFrame elementwise.\n",
    "- map() is used to substitute each value in a Series with another value."
   ]
  },
  {
   "cell_type": "code",
   "execution_count": null,
   "metadata": {
    "ExecuteTime": {
     "end_time": "2022-07-24T00:58:01.713788Z",
     "start_time": "2022-07-24T00:58:01.710906Z"
    }
   },
   "outputs": [],
   "source": [
    "import pandas as pd\n",
    "df = pd.DataFrame({ 'A': [1,2,3,4], \n",
    "                   'B': [10,20,30,40],\n",
    "                   'C': [20,40,60,80]\n",
    "                  }, \n",
    "                  index=['Row 1', 'Row 2', 'Row 3', 'Row 4'])"
   ]
  },
  {
   "cell_type": "code",
   "execution_count": null,
   "metadata": {
    "ExecuteTime": {
     "end_time": "2022-07-24T00:37:57.814504Z",
     "start_time": "2022-07-24T00:37:57.802563Z"
    }
   },
   "outputs": [],
   "source": [
    "df"
   ]
  },
  {
   "cell_type": "code",
   "execution_count": null,
   "metadata": {
    "ExecuteTime": {
     "end_time": "2022-07-24T00:38:15.536481Z",
     "start_time": "2022-07-24T00:38:15.524980Z"
    }
   },
   "outputs": [],
   "source": [
    "def custom_sum(row):\n",
    "    return row.sum()\n",
    "df['D'] = df.apply(custom_sum, axis=1)"
   ]
  },
  {
   "cell_type": "code",
   "execution_count": null,
   "metadata": {
    "ExecuteTime": {
     "end_time": "2022-07-24T00:38:17.383429Z",
     "start_time": "2022-07-24T00:38:17.375930Z"
    }
   },
   "outputs": [],
   "source": [
    "df"
   ]
  },
  {
   "cell_type": "markdown",
   "metadata": {},
   "source": [
    "Let’s take a look df.apply(custom_sum, axis=1)\n",
    "\n",
    "The first parameter custom_sum is a function.\n",
    "\n",
    "The second parameter axis is to specify which axis the function is applied to.\n",
    "\n",
    "0 for applying the function to each column and 1 for applying the function to each row.\n",
    "\n",
    "\n",
    "The second parameter axis = 1 tells Pandas to use the row. \n",
    "\n",
    "So, the custom_sum is applied to each row and returns a new Series with the output of each row as value.\n",
    "\n"
   ]
  },
  {
   "cell_type": "markdown",
   "metadata": {
    "ExecuteTime": {
     "end_time": "2022-07-24T00:54:59.357628Z",
     "start_time": "2022-07-24T00:54:59.354154Z"
    }
   },
   "source": [
    "<img src= 'resources/pandas_apply_sum.png' ></img>"
   ]
  },
  {
   "cell_type": "markdown",
   "metadata": {},
   "source": [
    "With the understanding of the sum of each row, the sum of each column is just to use axis = 0 instead"
   ]
  },
  {
   "cell_type": "code",
   "execution_count": null,
   "metadata": {
    "ExecuteTime": {
     "end_time": "2022-07-24T00:39:35.363588Z",
     "start_time": "2022-07-24T00:39:35.355879Z"
    }
   },
   "outputs": [],
   "source": [
    "df.loc['Row 5'] = df.apply(custom_sum, axis=0)"
   ]
  },
  {
   "cell_type": "markdown",
   "metadata": {},
   "source": [
    "<img src= 'resources/pandas_apply_column.png' ></img>"
   ]
  },
  {
   "cell_type": "code",
   "execution_count": null,
   "metadata": {
    "ExecuteTime": {
     "end_time": "2022-07-24T00:39:36.849654Z",
     "start_time": "2022-07-24T00:39:36.842474Z"
    }
   },
   "outputs": [],
   "source": [
    "df"
   ]
  },
  {
   "cell_type": "code",
   "execution_count": null,
   "metadata": {},
   "outputs": [],
   "source": []
  },
  {
   "cell_type": "markdown",
   "metadata": {},
   "source": [
    "#### With result_type parameter"
   ]
  },
  {
   "cell_type": "markdown",
   "metadata": {},
   "source": [
    "result_type is a parameter in apply() set to 'expand', 'reduce', or 'broadcast' to get the desired type of result.\n",
    "\n",
    "In the above scenario if result_type is set to 'broadcast' then the output will be a DataFrame substituted by the custom_sum value."
   ]
  },
  {
   "cell_type": "code",
   "execution_count": null,
   "metadata": {
    "ExecuteTime": {
     "end_time": "2022-07-24T00:58:06.053414Z",
     "start_time": "2022-07-24T00:58:06.047153Z"
    }
   },
   "outputs": [],
   "source": [
    "df.apply(custom_sum, axis=1, result_type='broadcast')"
   ]
  },
  {
   "cell_type": "markdown",
   "metadata": {},
   "source": [
    "The result is broadcasted to the original shape of the frame, the original index and columns are retained.\n"
   ]
  },
  {
   "cell_type": "code",
   "execution_count": null,
   "metadata": {},
   "outputs": [],
   "source": []
  },
  {
   "cell_type": "markdown",
   "metadata": {},
   "source": [
    "#### Expand\n",
    "\n",
    "To understand result_type as 'expand' and 'reduce', we will first create a function that returns a list."
   ]
  },
  {
   "cell_type": "code",
   "execution_count": null,
   "metadata": {
    "ExecuteTime": {
     "end_time": "2022-07-24T00:58:52.319244Z",
     "start_time": "2022-07-24T00:58:52.316853Z"
    }
   },
   "outputs": [],
   "source": [
    "def cal_multi_col(row):\n",
    "    return [row['A'] * 2, row['B'] * 3]"
   ]
  },
  {
   "cell_type": "code",
   "execution_count": null,
   "metadata": {
    "ExecuteTime": {
     "end_time": "2022-07-24T00:58:53.089508Z",
     "start_time": "2022-07-24T00:58:53.083942Z"
    }
   },
   "outputs": [],
   "source": [
    "df.apply(cal_multi_col, axis=1, result_type='expand')"
   ]
  },
  {
   "cell_type": "markdown",
   "metadata": {},
   "source": [
    "In order to append this to the existing DataFrame, the result has to be kept in a variable so the column names can be accessed by res.columns."
   ]
  },
  {
   "cell_type": "code",
   "execution_count": null,
   "metadata": {
    "ExecuteTime": {
     "end_time": "2022-07-24T00:58:55.181491Z",
     "start_time": "2022-07-24T00:58:55.173526Z"
    }
   },
   "outputs": [],
   "source": [
    "res = df.apply(cal_multi_col, axis=1, result_type='expand')\n",
    "df[res.columns] = res"
   ]
  },
  {
   "cell_type": "code",
   "execution_count": null,
   "metadata": {
    "ExecuteTime": {
     "end_time": "2022-07-24T00:58:56.878418Z",
     "start_time": "2022-07-24T00:58:56.873265Z"
    }
   },
   "outputs": [],
   "source": [
    "df"
   ]
  },
  {
   "cell_type": "markdown",
   "metadata": {},
   "source": [
    "#### Reduce\n",
    "\n",
    "Next, apply the function across the DataFrame column with result_type as 'reduce'. \n",
    "\n",
    "result_type='reduce' is just opposite of 'expand' and returns a Series if possible rather than expanding list-like results."
   ]
  },
  {
   "cell_type": "code",
   "execution_count": null,
   "metadata": {
    "ExecuteTime": {
     "end_time": "2022-07-24T00:59:06.325497Z",
     "start_time": "2022-07-24T00:59:06.322181Z"
    }
   },
   "outputs": [],
   "source": [
    "df['New'] = df.apply(cal_multi_col, axis=1, result_type='reduce')"
   ]
  },
  {
   "cell_type": "code",
   "execution_count": null,
   "metadata": {
    "ExecuteTime": {
     "end_time": "2022-07-24T00:59:08.008422Z",
     "start_time": "2022-07-24T00:59:08.002633Z"
    }
   },
   "outputs": [],
   "source": [
    "df"
   ]
  },
  {
   "cell_type": "markdown",
   "metadata": {},
   "source": [
    "## Applymap"
   ]
  },
  {
   "cell_type": "markdown",
   "metadata": {},
   "source": [
    "applymap() is only available in DataFrame and used for element-wise operation across the whole DataFrame. \n",
    "\n",
    "It has been optimized and some cases work much faster than apply() , but it’s good to compare it with apply() before going for any heavier operation.\n",
    "\n",
    "For example: to output a DataFrame with number squared"
   ]
  },
  {
   "cell_type": "code",
   "execution_count": null,
   "metadata": {
    "ExecuteTime": {
     "end_time": "2022-07-24T00:48:03.078533Z",
     "start_time": "2022-07-24T00:48:03.068353Z"
    }
   },
   "outputs": [],
   "source": [
    "import numpy as np"
   ]
  },
  {
   "cell_type": "code",
   "execution_count": null,
   "metadata": {
    "ExecuteTime": {
     "end_time": "2022-07-24T00:48:03.298286Z",
     "start_time": "2022-07-24T00:48:03.283807Z"
    }
   },
   "outputs": [],
   "source": [
    "df.applymap(np.square)"
   ]
  },
  {
   "cell_type": "markdown",
   "metadata": {},
   "source": [
    "### Map"
   ]
  },
  {
   "cell_type": "markdown",
   "metadata": {},
   "source": [
    "How to use map()?\n",
    "\n",
    "map() is only available in Series and used for substituting each value in a Series with another value. \n",
    "\n",
    "To understand how the map() works, we first create a Series."
   ]
  },
  {
   "cell_type": "code",
   "execution_count": null,
   "metadata": {
    "ExecuteTime": {
     "end_time": "2022-07-24T00:48:53.314181Z",
     "start_time": "2022-07-24T00:48:53.308926Z"
    }
   },
   "outputs": [],
   "source": [
    "s = pd.Series(['cat', 'dog', np.nan, 'rabbit'])\n",
    "s"
   ]
  },
  {
   "cell_type": "markdown",
   "metadata": {},
   "source": [
    "map() accepts a dict or a Series. \n",
    "\n",
    "Values that are not found in the dict are converted to NaN, unless the dict has a default value (e.g. defaultdict):"
   ]
  },
  {
   "cell_type": "code",
   "execution_count": null,
   "metadata": {
    "ExecuteTime": {
     "end_time": "2022-07-24T00:49:38.438594Z",
     "start_time": "2022-07-24T00:49:38.432030Z"
    }
   },
   "outputs": [],
   "source": [
    "s.map({'cat': 'kitten', 'dog': 'puppy'})"
   ]
  },
  {
   "cell_type": "markdown",
   "metadata": {},
   "source": [
    "It also accepts a function:"
   ]
  },
  {
   "cell_type": "code",
   "execution_count": null,
   "metadata": {
    "ExecuteTime": {
     "end_time": "2022-07-24T00:49:56.903637Z",
     "start_time": "2022-07-24T00:49:56.899988Z"
    }
   },
   "outputs": [],
   "source": [
    "s.map('I am a {}'.format)"
   ]
  },
  {
   "cell_type": "code",
   "execution_count": null,
   "metadata": {},
   "outputs": [],
   "source": []
  },
  {
   "cell_type": "markdown",
   "metadata": {},
   "source": [
    "To avoid applying the function to missing values (and keep them as NaN) na_action='ignore' can be used:"
   ]
  },
  {
   "cell_type": "code",
   "execution_count": null,
   "metadata": {
    "ExecuteTime": {
     "end_time": "2022-07-24T00:50:33.992727Z",
     "start_time": "2022-07-24T00:50:33.986024Z"
    }
   },
   "outputs": [],
   "source": [
    "s.map('I am a {}'.format, na_action='ignore')"
   ]
  },
  {
   "cell_type": "code",
   "execution_count": null,
   "metadata": {},
   "outputs": [],
   "source": []
  },
  {
   "cell_type": "markdown",
   "metadata": {},
   "source": [
    "### Summary\n",
    "\n",
    "\n",
    "For DataFrame:\n",
    "\n",
    "- apply(): It is used when you want to apply a function along the row or column. axis = 0 for column and axis = 1 for row.\n",
    "\n",
    "- applymap(): It is used for element-wise operation across the whole DataFrame.\n",
    "\n",
    "For Series:\n",
    "\n",
    "- apply(): It is used when you want to apply a function on the values of Series.\n",
    "\n",
    "- map(): It is used to substitute each value with another value."
   ]
  },
  {
   "cell_type": "code",
   "execution_count": null,
   "metadata": {},
   "outputs": [],
   "source": []
  }
 ],
 "metadata": {
  "kernelspec": {
   "display_name": "Python 3 (ipykernel)",
   "language": "python",
   "name": "python3"
  },
  "language_info": {
   "codemirror_mode": {
    "name": "ipython",
    "version": 3
   },
   "file_extension": ".py",
   "mimetype": "text/x-python",
   "name": "python",
   "nbconvert_exporter": "python",
   "pygments_lexer": "ipython3",
   "version": "3.9.12"
  },
  "toc": {
   "base_numbering": 1,
   "nav_menu": {},
   "number_sections": true,
   "sideBar": true,
   "skip_h1_title": false,
   "title_cell": "Table of Contents",
   "title_sidebar": "Contents",
   "toc_cell": false,
   "toc_position": {
    "height": "calc(100% - 180px)",
    "left": "10px",
    "top": "150px",
    "width": "388.25px"
   },
   "toc_section_display": true,
   "toc_window_display": true
  },
  "varInspector": {
   "cols": {
    "lenName": 16,
    "lenType": 16,
    "lenVar": 40
   },
   "kernels_config": {
    "python": {
     "delete_cmd_postfix": "",
     "delete_cmd_prefix": "del ",
     "library": "var_list.py",
     "varRefreshCmd": "print(var_dic_list())"
    },
    "r": {
     "delete_cmd_postfix": ") ",
     "delete_cmd_prefix": "rm(",
     "library": "var_list.r",
     "varRefreshCmd": "cat(var_dic_list()) "
    }
   },
   "types_to_exclude": [
    "module",
    "function",
    "builtin_function_or_method",
    "instance",
    "_Feature"
   ],
   "window_display": false
  }
 },
 "nbformat": 4,
 "nbformat_minor": 2
}
