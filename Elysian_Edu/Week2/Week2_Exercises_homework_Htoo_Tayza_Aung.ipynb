{
 "cells": [
  {
   "cell_type": "markdown",
   "metadata": {},
   "source": [
    "# Prime Number\n"
   ]
  },
  {
   "cell_type": "markdown",
   "metadata": {},
   "source": [
    "A prime number is a whole number greater than 1, whose only factors are 1 and itself, like -2, 3, 5, 7, 11 etc. For example, 17 is a prime number because it is only divisible by 1 and 17. On the other hand, 18 is not a prime number because it is divisible by 2, 3, 6, 9 and number itself.\n",
    "\n",
    "The following programs print a list of prime numbers between a given range (that is, numbers not divisible by something other than 1 or the number itself) or check the user input."
   ]
  },
  {
   "cell_type": "code",
   "execution_count": 8,
   "metadata": {},
   "outputs": [
    {
     "name": "stdout",
     "output_type": "stream",
     "text": [
      "Enter a range for a list of prime-numbers: 12\n",
      "Prime numbers to the range: 12, are:\n",
      "2 3 5 7 11 "
     ]
    }
   ],
   "source": [
    "limit = int(input(\"Enter a range for a list of prime-numbers: \"))\n",
    "\n",
    "print(f\"Prime numbers to the range: {limit}, are:\")\n",
    "\n",
    "for num in range(2, limit + 1):\n",
    "    for i in range(2, num):\n",
    "           if (num % i) == 0:\n",
    "               break\n",
    "    else:\n",
    "        print(num, end = \" \")"
   ]
  },
  {
   "cell_type": "markdown",
   "metadata": {},
   "source": [
    "# Convert temperatures to and from celsius, fahrenheit\n",
    "\n",
    "Write a Python program to convert temperatures to and from celsius, fahrenheit."
   ]
  },
  {
   "cell_type": "markdown",
   "metadata": {
    "ExecuteTime": {
     "end_time": "2022-07-05T06:26:55.829012Z",
     "start_time": "2022-07-05T06:26:55.810775Z"
    }
   },
   "source": [
    "<img src=\"resources/temperature.png\">\n",
    "\n",
    "Expected Output \n",
    "```\n",
    "Input the  temperature you like to convert? (e.g., 45F, 102C etc.) : 104f                                     \n",
    "The temperature in Celsius is 40 degrees. \n",
    "Do you want to continue ( Y/N) : N\n",
    "Program is successully finished.\n",
    "```"
   ]
  },
  {
   "cell_type": "code",
   "execution_count": null,
   "metadata": {},
   "outputs": [],
   "source": [
    "inputTemp = str(input(\"Input the temperature you like to convert? (e.g., 45F, 102C etc.): \"))\n",
    "\n",
    "unit = inputTemp[len(inputTemp) - 1]\n",
    "\n",
    "magnitude = float(inputTemp.strip(unit))\n",
    "\n",
    "continue_or_not = \"\"\n",
    "\n",
    "\n",
    "while (continue_or_not != \"N\"):\n",
    "    \n",
    "    if (unit == 'C' or unit == 'c'):\n",
    "        \n",
    "        converted_magnitude = (magnitude * (9 / 5)) + 32\n",
    "        \n",
    "        print(\"The temperature in Farenheit is %.2f degrees.\" % converted_magnitude)\n",
    "        \n",
    "        \n",
    "    if (unit == 'F' or unit == 'f'):\n",
    "        \n",
    "        converted_magnitude = (magnitude - 32) * (5 / 9)\n",
    "        \n",
    "        print(\"The temperature in Celsisus is %.2f degrees.\" % converted_magnitude)\n",
    "        \n",
    "    \n",
    "    continue_or_not = str(input(\"Do you want to continue (Y/N): \"))\n",
    "    \n",
    "    \n",
    "    if (continue_or_not == \"Y\"):\n",
    "        \n",
    "        inputTemp = str(input(\"Input the temperature you like to convert? (e.g., 45F, 102C etc.): \"))\n",
    "\n",
    "        unit = inputTemp[len(inputTemp) - 1]\n",
    "\n",
    "        magnitude = float(inputTemp.strip(unit))\n",
    "        \n",
    "        \n",
    "print(\"The program has successfully finsihed!\")\n",
    "   "
   ]
  },
  {
   "cell_type": "markdown",
   "metadata": {},
   "source": [
    "# Write a Python program to guess a number between 1 to 9.\n",
    "\n"
   ]
  },
  {
   "cell_type": "markdown",
   "metadata": {
    "ExecuteTime": {
     "end_time": "2022-07-05T06:32:01.034762Z",
     "start_time": "2022-07-05T06:32:01.022690Z"
    }
   },
   "source": [
    "Note : User is prompted to enter a guess. If the user guesses wrong then the prompt appears again until the guess is correct, on successful guess, user will get a \"Well guessed!\" message, and the program will exit."
   ]
  },
  {
   "cell_type": "code",
   "execution_count": 2,
   "metadata": {},
   "outputs": [
    {
     "name": "stdout",
     "output_type": "stream",
     "text": [
      "Enter a guess: 1\n",
      "Enter a guess: 2\n",
      "Enter a guess: 3\n",
      "Enter a guess: 4\n",
      "Enter a guess: 5\n",
      "Enter a guess: 6\n",
      "Enter a guess: 7\n",
      "Well guessed\n"
     ]
    },
    {
     "ename": "SystemExit",
     "evalue": "",
     "output_type": "error",
     "traceback": [
      "An exception has occurred, use %tb to see the full traceback.\n",
      "\u001b[0;31mSystemExit\u001b[0m\n"
     ]
    }
   ],
   "source": [
    "import random\n",
    "from sys import exit\n",
    "\n",
    "target = random.randint(1, 9)\n",
    "guess = int(input(\"Enter a guess: \"))\n",
    "\n",
    "while (True):\n",
    "    if (target != guess):\n",
    "        guess = int(input(\"Enter a guess: \"))\n",
    "\n",
    "    if (target == guess):\n",
    "        print(\"Well guessed\")\n",
    "        exit()\n"
   ]
  },
  {
   "cell_type": "markdown",
   "metadata": {},
   "source": [
    "# Fibonacci Number"
   ]
  },
  {
   "cell_type": "markdown",
   "metadata": {},
   "source": [
    "Write a Python program to get the Fibonacci series between 0 to 50. Go to the editor\n",
    "\n",
    "Note : The Fibonacci Sequence is the series of numbers :\n",
    "0, 1, 1, 2, 3, 5, 8, 13, 21, ....\n",
    "\n",
    "Every next number is found by adding up the two numbers before it.\n",
    "\n",
    "Expected Output : 1 1 2 3 5 8 13 21 34"
   ]
  },
  {
   "cell_type": "code",
   "execution_count": 11,
   "metadata": {},
   "outputs": [
    {
     "name": "stdout",
     "output_type": "stream",
     "text": [
      "0 1 1 2 3 5 8 13 21 34 "
     ]
    }
   ],
   "source": [
    "fibonnacci_sequence = []\n",
    "i = 0\n",
    "pointer = 0\n",
    "\n",
    "\n",
    "while (pointer < 34):\n",
    "    if (i == 0):\n",
    "        fibonnacci_sequence.insert(i, 0)\n",
    "    elif (i == 1):\n",
    "        fibonnacci_sequence.insert(i, 1)\n",
    "    elif (i > 1):\n",
    "        fibonnacci_sequence.insert(i, fibonnacci_sequence[i - 1] + fibonnacci_sequence[i - 2])\n",
    "    pointer = fibonnacci_sequence[i]   \n",
    "    i += 1\n",
    "\n",
    "for i in range(len(fibonnacci_sequence)):\n",
    "    print(fibonnacci_sequence[i], end = \" \")\n",
    "    "
   ]
  },
  {
   "cell_type": "markdown",
   "metadata": {
    "ExecuteTime": {
     "end_time": "2022-07-05T06:34:36.731847Z",
     "start_time": "2022-07-05T06:34:36.727774Z"
    }
   },
   "source": [
    "<img src=\"resources/fibonacci_number.png\">"
   ]
  },
  {
   "cell_type": "markdown",
   "metadata": {},
   "source": [
    "# Multiplication table"
   ]
  },
  {
   "cell_type": "markdown",
   "metadata": {},
   "source": [
    "Expected Output:\n",
    "```\n",
    "Input a number: 6                                                       \n",
    "6 x 1 = 6                                                               \n",
    "6 x 2 = 12                                                              \n",
    "6 x 3 = 18                                                              \n",
    "6 x 4 = 24                                                              \n",
    "6 x 5 = 30                                                              \n",
    "6 x 6 = 36                                                              \n",
    "6 x 7 = 42                                                              \n",
    "6 x 8 = 48                                                              \n",
    "6 x 9 = 54                                                              \n",
    "6 x 10 = 60 \n",
    "```"
   ]
  },
  {
   "cell_type": "code",
   "execution_count": 3,
   "metadata": {},
   "outputs": [
    {
     "name": "stdout",
     "output_type": "stream",
     "text": [
      "Input a number: 6\n",
      "6 x 0 = 0\n",
      "6 x 1 = 6\n",
      "6 x 2 = 12\n",
      "6 x 3 = 18\n",
      "6 x 4 = 24\n",
      "6 x 5 = 30\n",
      "6 x 6 = 36\n",
      "6 x 7 = 42\n",
      "6 x 8 = 48\n",
      "6 x 9 = 54\n",
      "6 x 10 = 60\n"
     ]
    }
   ],
   "source": [
    "inputNum = int(input(\"Input a number: \"))\n",
    "\n",
    "for i in range(11):\n",
    "    print(f\"{inputNum} x {i} = {inputNum * i}\")"
   ]
  }
 ],
 "metadata": {
  "kernelspec": {
   "display_name": "Python 3 (ipykernel)",
   "language": "python",
   "name": "python3"
  },
  "language_info": {
   "codemirror_mode": {
    "name": "ipython",
    "version": 3
   },
   "file_extension": ".py",
   "mimetype": "text/x-python",
   "name": "python",
   "nbconvert_exporter": "python",
   "pygments_lexer": "ipython3",
   "version": "3.9.12"
  },
  "toc": {
   "base_numbering": 1,
   "nav_menu": {},
   "number_sections": true,
   "sideBar": true,
   "skip_h1_title": false,
   "title_cell": "Table of Contents",
   "title_sidebar": "Contents",
   "toc_cell": false,
   "toc_position": {
    "height": "calc(100% - 180px)",
    "left": "10px",
    "top": "150px",
    "width": "283.273px"
   },
   "toc_section_display": true,
   "toc_window_display": true
  },
  "varInspector": {
   "cols": {
    "lenName": 16,
    "lenType": 16,
    "lenVar": 40
   },
   "kernels_config": {
    "python": {
     "delete_cmd_postfix": "",
     "delete_cmd_prefix": "del ",
     "library": "var_list.py",
     "varRefreshCmd": "print(var_dic_list())"
    },
    "r": {
     "delete_cmd_postfix": ") ",
     "delete_cmd_prefix": "rm(",
     "library": "var_list.r",
     "varRefreshCmd": "cat(var_dic_list()) "
    }
   },
   "types_to_exclude": [
    "module",
    "function",
    "builtin_function_or_method",
    "instance",
    "_Feature"
   ],
   "window_display": false
  }
 },
 "nbformat": 4,
 "nbformat_minor": 2
}
