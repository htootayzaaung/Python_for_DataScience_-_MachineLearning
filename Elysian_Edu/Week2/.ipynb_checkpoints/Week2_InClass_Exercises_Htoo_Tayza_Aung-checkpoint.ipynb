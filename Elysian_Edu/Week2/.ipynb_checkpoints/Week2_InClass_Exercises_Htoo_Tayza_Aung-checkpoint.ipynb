{
 "cells": [
  {
   "cell_type": "markdown",
   "metadata": {},
   "source": [
    "# For Loop and Range Exercises"
   ]
  },
  {
   "cell_type": "markdown",
   "metadata": {},
   "source": [
    "\n",
    "## Exercise 1\n",
    "Create a range from 0 to 50, excluding 50."
   ]
  },
  {
   "cell_type": "code",
   "execution_count": 1,
   "metadata": {},
   "outputs": [
    {
     "name": "stdout",
     "output_type": "stream",
     "text": [
      "0\n",
      "1\n",
      "2\n",
      "3\n",
      "4\n",
      "5\n",
      "6\n",
      "7\n",
      "8\n",
      "9\n",
      "10\n",
      "11\n",
      "12\n",
      "13\n",
      "14\n",
      "15\n",
      "16\n",
      "17\n",
      "18\n",
      "19\n",
      "20\n",
      "21\n",
      "22\n",
      "23\n",
      "24\n",
      "25\n",
      "26\n",
      "27\n",
      "28\n",
      "29\n",
      "30\n",
      "31\n",
      "32\n",
      "33\n",
      "34\n",
      "35\n",
      "36\n",
      "37\n",
      "38\n",
      "39\n",
      "40\n",
      "41\n",
      "42\n",
      "43\n",
      "44\n",
      "45\n",
      "46\n",
      "47\n",
      "48\n",
      "49\n"
     ]
    }
   ],
   "source": [
    "for i in range (0, 50):\n",
    "    print(i)"
   ]
  },
  {
   "cell_type": "markdown",
   "metadata": {},
   "source": [
    "Exercise 2\n",
    "\n",
    "Can you you create a list from 1300 to 700 with descending steps of 100, this time including 700?\n",
    "for data in  range(1300,699,-100):\n",
    "    print(data)"
   ]
  },
  {
   "cell_type": "code",
   "execution_count": 15,
   "metadata": {},
   "outputs": [
    {
     "name": "stdout",
     "output_type": "stream",
     "text": [
      "[1300, 1200, 1100, 1000, 900, 800, 700]\n"
     ]
    }
   ],
   "source": [
    "emptyList = []\n",
    "\n",
    "for i in range (1300, 600, -100):\n",
    "    emptyList.append(i)\n",
    "\n",
    "print(emptyList)"
   ]
  },
  {
   "cell_type": "markdown",
   "metadata": {},
   "source": [
    "## Square List\n",
    "\n",
    "Write a program that appends the square of each number to a new list.\n",
    "\n",
    "Given : \n",
    " [2,3,4,5,6,7,8]\n",
    " \n",
    " Expected Output :\n",
    " [4, 9, 16, 25, 36, 49]"
   ]
  },
  {
   "cell_type": "code",
   "execution_count": 14,
   "metadata": {},
   "outputs": [
    {
     "name": "stdout",
     "output_type": "stream",
     "text": [
      "[4, 9, 16, 25, 36, 49, 64]\n"
     ]
    }
   ],
   "source": [
    "givenList = [2, 3, 4, 5, 6, 7, 8]\n",
    "emptyList = []\n",
    "\n",
    "for i in range(len(givenList)):\n",
    "    emptyList.append(givenList[i] * givenList[i])\n",
    "    \n",
    "print(emptyList)\n",
    "    "
   ]
  },
  {
   "cell_type": "markdown",
   "metadata": {},
   "source": [
    "## Factorial of a number\n",
    "\n",
    "Write a program in Python to display the Factorial of a number.\n",
    "\n",
    "**Input**\n",
    "Enter a number : 5\n",
    "\n",
    "**Desired Output**\n",
    "Factorial of 5 is 120."
   ]
  },
  {
   "cell_type": "code",
   "execution_count": 21,
   "metadata": {},
   "outputs": [
    {
     "name": "stdout",
     "output_type": "stream",
     "text": [
      "Enter a number: 5\n",
      "Factorial of 5 is 120.\n"
     ]
    }
   ],
   "source": [
    "def factorial (a):\n",
    "    if (a == 0):\n",
    "        return 1\n",
    "    else:\n",
    "        return a * factorial(a - 1)\n",
    "\n",
    "inputNum = int(input(\"Enter a number: \"))\n",
    "print(f\"Factorial of {inputNum} is {factorial(inputNum)}.\")"
   ]
  },
  {
   "cell_type": "markdown",
   "metadata": {},
   "source": [
    "##  Even and Odd\n",
    "\n",
    "**Print even and odd in the list using the for loop**\n",
    "\n",
    "\n",
    "we are using the for loop to list the even and odd items in the list. \n",
    "\n",
    "In each iteration of the list, we apply the condition to check the even numbers, i.e., to check their remainder after dividing by 2. \n",
    "\n",
    "If the remainder is 0 (i% 2 == 0), add it to the even list; otherwise, add it to the odd list.\n",
    "\n",
    "\n",
    "```\n",
    "Given :\n",
    "\n",
    "[43, 20, 53, 12, 53, 5, 3, 2]\n",
    "\n",
    "Expected Output :\n",
    "\n",
    "Even List:  [20, 12, 2]\n",
    "\n",
    "Odd List:  [43, 53, 53, 5, 3]\n",
    "```\n"
   ]
  },
  {
   "cell_type": "code",
   "execution_count": 7,
   "metadata": {},
   "outputs": [
    {
     "name": "stdout",
     "output_type": "stream",
     "text": [
      "Even List: [20, 12, 2] \n",
      "\n",
      "Odd List: [43, 53, 53, 5, 3]\n"
     ]
    }
   ],
   "source": [
    "givenList = [43, 20, 53, 12, 53, 5, 3, 2]\n",
    "evenList = []\n",
    "oddList = []\n",
    "\n",
    "for i in range(len(givenList)):\n",
    "    if (givenList[i] % 2 == 0):\n",
    "        evenList.append(givenList[i])\n",
    "    else:\n",
    "        oddList.append(givenList[i])\n",
    "\n",
    "print(f\"Even List: {evenList} \\n\\nOdd List: {oddList}\")"
   ]
  },
  {
   "cell_type": "markdown",
   "metadata": {},
   "source": [
    "# Tuples"
   ]
  },
  {
   "cell_type": "markdown",
   "metadata": {},
   "source": [
    "## Access value 20 from the tuple\n",
    "\n",
    "The given tuple is a nested tuple. write a Python program to print the value 20.\n",
    "\n",
    "```\n",
    "Given \n",
    "tuple1 = (\"Orange\", [10, 20, 30], (5, 15, 25))\n",
    "\n",
    "Expected Output :\n",
    "20\n",
    "\n",
    "```"
   ]
  },
  {
   "cell_type": "code",
   "execution_count": 28,
   "metadata": {},
   "outputs": [
    {
     "name": "stdout",
     "output_type": "stream",
     "text": [
      "Given \n",
      "tuple1 = ('Orange', [10, 20, 30], (5, 15, 25)) \n",
      "\n",
      "Expected Output:\n",
      "20\n"
     ]
    }
   ],
   "source": [
    "tuple1 = (\"Orange\", [10, 20, 30], (5, 15, 25))\n",
    "\n",
    "print(f\"Given \\ntuple1 = {tuple1} \\n\\nExpected Output:\\n{tuple1[1][1]}\")"
   ]
  },
  {
   "cell_type": "markdown",
   "metadata": {},
   "source": [
    "## Swap two tuples in Python\n",
    "\n",
    "```\n",
    "Given\n",
    "\n",
    "tuple1 = (11, 22)\n",
    "tuple2 = (99, 88)\n",
    "\n",
    "Expected Output\n",
    "\n",
    "tuple1: (99, 88)\n",
    "tuple2: (11, 22)\n",
    "```"
   ]
  },
  {
   "cell_type": "code",
   "execution_count": 32,
   "metadata": {},
   "outputs": [
    {
     "name": "stdout",
     "output_type": "stream",
     "text": [
      "Given \n",
      "\n",
      "tuple1 = (11, 22)\n",
      "tuple2 = (99, 88)\n",
      "\n",
      "\n",
      "Expected Output \n",
      "\n",
      "tuple1 = (99, 88)\n",
      "tuple2 = (11, 22)\n"
     ]
    }
   ],
   "source": [
    "tuple1 = (11, 22)\n",
    "tuple2 = (99, 88)\n",
    "\n",
    "print(f\"Given \\n\\ntuple1 = {tuple1}\\ntuple2 = {tuple2}\\n\\n\")\n",
    "\n",
    "temp = tuple1\n",
    "tuple1 = tuple2\n",
    "tuple2 = temp\n",
    "\n",
    "print(f\"Expected Output \\n\\ntuple1 = {tuple1}\\ntuple2 = {tuple2}\")"
   ]
  },
  {
   "cell_type": "markdown",
   "metadata": {},
   "source": [
    "## Counts the number of occurrences of item 50 from a tuple\n",
    "\n",
    "```\n",
    "Given \n",
    "\n",
    "tuple1 = (50, 10, 60, 70, 50)\n",
    "\n",
    "\n",
    "Expected Outcome\n",
    "\n",
    "2\n",
    "```"
   ]
  },
  {
   "cell_type": "code",
   "execution_count": 37,
   "metadata": {},
   "outputs": [
    {
     "name": "stdout",
     "output_type": "stream",
     "text": [
      "Given\n",
      "\n",
      "tuple1 = (50, 10, 60, 70, 50)\n",
      "\n",
      "Expeted Outcome\n",
      "\n",
      "2\n"
     ]
    }
   ],
   "source": [
    "tuple1 = (50, 10, 60, 70, 50)\n",
    "counter = 0\n",
    "\n",
    "for i in range(len(tuple1)):\n",
    "    if (tuple1[i] == 50):\n",
    "        counter += 1\n",
    "        \n",
    "print(f\"Given\\n\\ntuple1 = {tuple1}\\n\\nExpeted Outcome\\n\\n{counter}\")"
   ]
  },
  {
   "cell_type": "markdown",
   "metadata": {},
   "source": [
    "# Dictionary"
   ]
  },
  {
   "cell_type": "markdown",
   "metadata": {},
   "source": [
    "## Convert two lists into a dictionary\n",
    "\n",
    "Below are the two lists. Write a Python program to convert them into a dictionary in a way that item from list1 is the key and item from list2 is the value\n",
    "\n",
    "```\n",
    "Given\n",
    "\n",
    "keys = ['Ten', 'Twenty', 'Thirty']\n",
    "values = [10, 20, 30]\n",
    "\n",
    "Expected Output:\n",
    "\n",
    "{'Ten': 10, 'Twenty': 20, 'Thirty': 30}\n",
    "\n",
    "```"
   ]
  },
  {
   "cell_type": "code",
   "execution_count": 41,
   "metadata": {},
   "outputs": [
    {
     "name": "stdout",
     "output_type": "stream",
     "text": [
      "{'Ten': 10, 'Twenty': 20, 'Thirty': 30}\n"
     ]
    }
   ],
   "source": [
    "keys = ['Ten', 'Twenty', 'Thirty']\n",
    "values = [10, 20, 30]\n",
    "\n",
    "emptyDictionary = {}\n",
    "\n",
    "for i in range (3):\n",
    "    emptyDictionary.update({keys[i]: values[i]})\n",
    "    \n",
    "print(emptyDictionary)"
   ]
  },
  {
   "cell_type": "markdown",
   "metadata": {},
   "source": [
    "## Merge two Python dictionaries into one\n",
    "\n",
    "```\n",
    "Given \n",
    "\n",
    "dict1 = {'Ten': 10, 'Twenty': 20, 'Thirty': 30}\n",
    "dict2 = {'Thirty': 30, 'Fourty': 40, 'Fifty': 50}\n",
    "\n",
    "Expected Output:\n",
    "{'Ten': 10, 'Twenty': 20, 'Thirty': 30, 'Fourty': 40, 'Fifty': 50}\n",
    "```"
   ]
  },
  {
   "cell_type": "code",
   "execution_count": 43,
   "metadata": {},
   "outputs": [
    {
     "name": "stdout",
     "output_type": "stream",
     "text": [
      "{'Ten': 10, 'Twenty': 20, 'Thirty': 30, 'Fourty': 40, 'Fifty': 50}\n"
     ]
    }
   ],
   "source": [
    "dict1 = {'Ten': 10, 'Twenty': 20, 'Thirty': 30}\n",
    "dict2 = {'Thirty': 30, 'Fourty': 40, 'Fifty': 50}\n",
    "\n",
    "dict1.update(dict2)\n",
    "print(dict1)"
   ]
  },
  {
   "cell_type": "markdown",
   "metadata": {},
   "source": [
    "## Print the value of key ‘history’ from the below dict\n",
    "\n",
    "```\n",
    "sampleDict = {\n",
    "    \"class\": {\n",
    "        \"student\": {\n",
    "            \"name\": \"Mike\",\n",
    "            \"marks\": {\n",
    "                \"physics\": 70,\n",
    "                \"history\": 80\n",
    "            }\n",
    "        }\n",
    "    }\n",
    "}\n",
    "```\n",
    "\n",
    "\n",
    "Expected output:\n",
    "\n",
    "80"
   ]
  },
  {
   "cell_type": "code",
   "execution_count": 52,
   "metadata": {},
   "outputs": [
    {
     "name": "stdout",
     "output_type": "stream",
     "text": [
      "80\n"
     ]
    }
   ],
   "source": [
    "sampleDict = {\n",
    "    \"class\": {\n",
    "        \"student\": {\n",
    "            \"name\": \"Mike\",\n",
    "            \"marks\": {\n",
    "                \"physics\": 70,\n",
    "                \"history\": 80\n",
    "            }\n",
    "        }\n",
    "    }\n",
    "}\n",
    "\n",
    "\n",
    "print(sampleDict[\"class\"][\"student\"][\"marks\"][\"history\"])"
   ]
  },
  {
   "cell_type": "markdown",
   "metadata": {},
   "source": [
    "## Create a dictionary by extracting the keys from a given dictionary"
   ]
  },
  {
   "cell_type": "markdown",
   "metadata": {},
   "source": [
    "Write a Python program to create a new dictionary by extracting the mentioned keys from the below dictionary.\n",
    "\n",
    "```\n",
    "sample_dict = {\n",
    "    \"name\": \"Kelly\",\n",
    "    \"age\": 25,\n",
    "    \"salary\": 8000,\n",
    "    \"city\": \"New york\"}\n",
    "\n",
    "Keys to extract\n",
    "keys = [\"name\", \"salary\"]\n",
    "```\n",
    "\n",
    "Expected Output\n",
    "\n",
    "{'name': 'Kelly', 'salary': 8000}"
   ]
  },
  {
   "cell_type": "code",
   "execution_count": 10,
   "metadata": {},
   "outputs": [
    {
     "name": "stdout",
     "output_type": "stream",
     "text": [
      "{'name': 'Kelly', 'salary': 8000}\n"
     ]
    }
   ],
   "source": [
    "sample_dict = {\n",
    "    \"name\": \"Kelly\",\n",
    "    \"age\": 25,\n",
    "    \"salary\": 8000,\n",
    "    \"city\": \"New york\"}\n",
    "\n",
    "newDictionary = {}\n",
    "newDictionary.update({list(sample_dict)[0]: sample_dict[\"name\"]})\n",
    "newDictionary.update({list(sample_dict)[2]: sample_dict[\"salary\"]})\n",
    "print(newDictionary)"
   ]
  },
  {
   "cell_type": "markdown",
   "metadata": {},
   "source": [
    "# Set"
   ]
  },
  {
   "cell_type": "markdown",
   "metadata": {},
   "source": [
    "## Return a new set of identical items from two sets\n",
    "\n",
    "```\n",
    "Given \n",
    "\n",
    "set1 = {10, 20, 30, 40, 50}\n",
    "set2 = {30, 40, 50, 60, 70}\n",
    "\n",
    "Expected Output\n",
    "\n",
    "{40, 50, 30}\n",
    "```"
   ]
  },
  {
   "cell_type": "code",
   "execution_count": 19,
   "metadata": {},
   "outputs": [
    {
     "name": "stdout",
     "output_type": "stream",
     "text": [
      "{40, 50, 30}\n"
     ]
    }
   ],
   "source": [
    "set1 = {10, 20, 30, 40, 50}\n",
    "set2 = {30, 40, 50, 60, 70}\n",
    "\n",
    "print(set1.intersection(set2))"
   ]
  },
  {
   "cell_type": "markdown",
   "metadata": {},
   "source": [
    "## Update the first set with items that don’t exist in the second set\n",
    "\n",
    "Given two Python sets, write a Python program to update the first set with items that exist only in the first set and not in the second set.\n",
    "\n",
    "\n",
    "```\n",
    "Given\n",
    "\n",
    "set1 = {10, 20, 30}\n",
    "set2 = {20, 40, 50}\n",
    "\n",
    "Expected Output\n",
    "\n",
    "set1 {10, 30}\n",
    "\n",
    "```"
   ]
  },
  {
   "cell_type": "code",
   "execution_count": 11,
   "metadata": {},
   "outputs": [
    {
     "name": "stdout",
     "output_type": "stream",
     "text": [
      "set1 {10, 30}\n"
     ]
    }
   ],
   "source": [
    "set1 = {10, 20, 30}\n",
    "set2 = {20, 40, 50}\n",
    "\n",
    "print(f\"set1 {set1.difference(set2)}\")\n",
    "\n"
   ]
  },
  {
   "cell_type": "markdown",
   "metadata": {},
   "source": [
    "## Check if two lists have at-least one element common\n",
    "\n",
    "Given two lists a, b. Check if two lists have at least one element common in them.\n",
    "\n",
    "```\n",
    "Examples:\n",
    "\n",
    "Input : a = [1, 2, 3, 4, 5]\n",
    "        b = [5, 6, 7, 8, 9]\n",
    "Output : True\n",
    "\n",
    "Input : a=[1, 2, 3, 4, 5]\n",
    "        b=[6, 7, 8, 9]\n",
    "Output : False\n",
    "```"
   ]
  },
  {
   "cell_type": "code",
   "execution_count": 6,
   "metadata": {
    "scrolled": true
   },
   "outputs": [
    {
     "name": "stdout",
     "output_type": "stream",
     "text": [
      "a = [1, 2, 3, 4, 5]\n",
      "b = [6, 7, 8, 9]\n",
      "False\n"
     ]
    },
    {
     "ename": "SystemExit",
     "evalue": "",
     "output_type": "error",
     "traceback": [
      "An exception has occurred, use %tb to see the full traceback.\n",
      "\u001b[0;31mSystemExit\u001b[0m\n"
     ]
    }
   ],
   "source": [
    "from sys import exit\n",
    "\n",
    "a = str(input(\"a = \"))\n",
    "b = str(input(\"b = \"))\n",
    "counter = 0\n",
    "\n",
    "newA = (a.strip('[')).strip(']')\n",
    "newB = (b.strip('[')).strip(']')\n",
    "\n",
    "newAsplit = newA.split(\", \")\n",
    "newBsplit = newB.split(\", \")\n",
    "combinations = len(newAsplit) * len(newBsplit)\n",
    "\n",
    "for i in range(len(newAsplit)):\n",
    "    for x in range(len(newBsplit)):\n",
    "        if (newAsplit[i] == newBsplit[x] and counter < combinations):\n",
    "            print(\"True\")\n",
    "            exit()\n",
    "        counter += 1\n",
    "\n",
    "if (counter == combinations):\n",
    "    print(\"False\")\n",
    "    exit()\n",
    "        "
   ]
  },
  {
   "cell_type": "markdown",
   "metadata": {},
   "source": [
    "# Zip Exercises"
   ]
  },
  {
   "cell_type": "markdown",
   "metadata": {},
   "source": [
    "## Calculating monthly cost in Pairs\n",
    "\n",
    "You’re going to use this data to calculate your monthly profit. zip() can provide you with a fast way to make the calculations:"
   ]
  },
  {
   "cell_type": "markdown",
   "metadata": {},
   "source": [
    "<img src=\"resources/image1.PNG\">\n",
    "\n",
    "\n",
    "**Expected Output**\n",
    "```\n",
    "Total profit: 5200.0\n",
    "\n",
    "Total profit: 5100.0\n",
    "\n",
    "Total profit: 4800.0\n",
    "```"
   ]
  },
  {
   "cell_type": "code",
   "execution_count": 19,
   "metadata": {},
   "outputs": [
    {
     "name": "stdout",
     "output_type": "stream",
     "text": [
      "Total profit : 5200.0\n",
      "Total profit : 5100.0\n",
      "Total profit : 4800.0\n"
     ]
    }
   ],
   "source": [
    "totalSales = [52000, 51000, 48000]\n",
    "productionCost = [46800, 45900, 43200]\n",
    "\n",
    "for total_Sales_element, production_Cost_element in zip (totalSales, productionCost):\n",
    "    print(\"Total profit : %.1f\" %(total_Sales_element - production_Cost_element))"
   ]
  },
  {
   "cell_type": "markdown",
   "metadata": {
    "ExecuteTime": {
     "end_time": "2022-07-08T07:30:44.930960Z",
     "start_time": "2022-07-08T07:30:44.928995Z"
    }
   },
   "source": [
    "## Printing the square of numbers using while loop"
   ]
  },
  {
   "cell_type": "code",
   "execution_count": 13,
   "metadata": {},
   "outputs": [
    {
     "name": "stdout",
     "output_type": "stream",
     "text": [
      "Enter a number: 5\n",
      "1\n",
      "4\n",
      "9\n",
      "16\n",
      "25\n"
     ]
    }
   ],
   "source": [
    "inputNum = int(input(\"Enter a number: \"))\n",
    "counter = 1\n",
    "\n",
    "while(counter <= inputNum):\n",
    "    print(counter ** 2)\n",
    "    counter += 1\n",
    "    "
   ]
  },
  {
   "cell_type": "markdown",
   "metadata": {},
   "source": [
    "## Reversing a number using while loop in Python\n",
    "\n",
    "```\n",
    "Given \n",
    "\n",
    "Enter a number : 432\n",
    "\n",
    "Expected Output \n",
    "\n",
    "The reversed String is 234\n",
    "```"
   ]
  },
  {
   "cell_type": "code",
   "execution_count": 30,
   "metadata": {},
   "outputs": [
    {
     "name": "stdout",
     "output_type": "stream",
     "text": [
      "Enter a number: 432\n",
      "The reversed String is 234\n"
     ]
    }
   ],
   "source": [
    "string = str(input(\"Enter a number: \"))\n",
    "\n",
    "counter = 1\n",
    "newString = \"\"\n",
    "\n",
    "while (counter <= len(string)):\n",
    "    newString += string[len(string) - counter]\n",
    "    counter += 1\n",
    "    \n",
    "#print(f\"The reversed String is {string[::-1]}\")\n",
    "print(f\"The reversed String is {newString}\")\n"
   ]
  },
  {
   "cell_type": "markdown",
   "metadata": {},
   "source": [
    "## Finding the sum of even numbers using while loop\n",
    "\n",
    "```\n",
    "Given\n",
    "\n",
    "Enter a number : 10\n",
    "\n",
    "Expected Output\n",
    "\n",
    "Sum of the even number till n is : 30\n",
    "\n",
    "```"
   ]
  },
  {
   "cell_type": "code",
   "execution_count": 9,
   "metadata": {},
   "outputs": [
    {
     "name": "stdout",
     "output_type": "stream",
     "text": [
      "Enter a number: 10\n",
      "Sum of the even number till n is: 30\n"
     ]
    }
   ],
   "source": [
    "inputNum = int(input(\"Enter a number: \"))\n",
    "counter = 0\n",
    "summation = 0\n",
    "\n",
    "while(counter <= inputNum):\n",
    "    if (counter % 2 == 0):\n",
    "        summation = summation + counter\n",
    "        counter += 1\n",
    "    else:\n",
    "        counter += 1\n",
    "\n",
    "print(f\"Sum of the even number till n is: {summation}\")"
   ]
  }
 ],
 "metadata": {
  "kernelspec": {
   "display_name": "Python 3 (ipykernel)",
   "language": "python",
   "name": "python3"
  },
  "language_info": {
   "codemirror_mode": {
    "name": "ipython",
    "version": 3
   },
   "file_extension": ".py",
   "mimetype": "text/x-python",
   "name": "python",
   "nbconvert_exporter": "python",
   "pygments_lexer": "ipython3",
   "version": "3.9.12"
  },
  "toc": {
   "base_numbering": 1,
   "nav_menu": {},
   "number_sections": true,
   "sideBar": true,
   "skip_h1_title": false,
   "title_cell": "Table of Contents",
   "title_sidebar": "Contents",
   "toc_cell": false,
   "toc_position": {
    "height": "calc(100% - 180px)",
    "left": "10px",
    "top": "150px",
    "width": "277.25px"
   },
   "toc_section_display": true,
   "toc_window_display": true
  },
  "varInspector": {
   "cols": {
    "lenName": 16,
    "lenType": 16,
    "lenVar": 40
   },
   "kernels_config": {
    "python": {
     "delete_cmd_postfix": "",
     "delete_cmd_prefix": "del ",
     "library": "var_list.py",
     "varRefreshCmd": "print(var_dic_list())"
    },
    "r": {
     "delete_cmd_postfix": ") ",
     "delete_cmd_prefix": "rm(",
     "library": "var_list.r",
     "varRefreshCmd": "cat(var_dic_list()) "
    }
   },
   "types_to_exclude": [
    "module",
    "function",
    "builtin_function_or_method",
    "instance",
    "_Feature"
   ],
   "window_display": false
  }
 },
 "nbformat": 4,
 "nbformat_minor": 2
}
