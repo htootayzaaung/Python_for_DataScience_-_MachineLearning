{
 "cells": [
  {
   "cell_type": "markdown",
   "metadata": {},
   "source": [
    "## Description\n",
    "    - Time series is a line plot and it is basically connecting data points with a straight line. \n",
    "    - It is useful in understanding the trend over time. \n",
    "    - It can explain the correlation between points by the trend. \n",
    "    - An upward trend means positive correlation and downward trend means a negative correlation. \n",
    "    - It mostly used in forecasting, monitoring models.\n",
    "<font color='red'>When to use:</font> Time Series should be used when single or multiple variables are to be plotted over time.\n",
    "    -eg: Stock Market Analysis of Companies, Weather Forecasting."
   ]
  },
  {
   "cell_type": "code",
   "execution_count": 2,
   "metadata": {
    "ExecuteTime": {
     "end_time": "2022-08-05T16:05:33.940717Z",
     "start_time": "2022-08-05T16:05:32.847953Z"
    }
   },
   "outputs": [],
   "source": [
    "import matplotlib\n",
    "import matplotlib.pyplot as plt\n",
    "import numpy as np\n",
    "import pandas as pd\n",
    "\n",
    "stock_data = pd.read_csv('datasets/stocks.csv')"
   ]
  },
  {
   "cell_type": "code",
   "execution_count": 3,
   "metadata": {
    "ExecuteTime": {
     "end_time": "2022-08-05T16:05:34.033926Z",
     "start_time": "2022-08-05T16:05:34.005766Z"
    }
   },
   "outputs": [
    {
     "data": {
      "text/html": [
       "<div>\n",
       "<style scoped>\n",
       "    .dataframe tbody tr th:only-of-type {\n",
       "        vertical-align: middle;\n",
       "    }\n",
       "\n",
       "    .dataframe tbody tr th {\n",
       "        vertical-align: top;\n",
       "    }\n",
       "\n",
       "    .dataframe thead th {\n",
       "        text-align: right;\n",
       "    }\n",
       "</style>\n",
       "<table border=\"1\" class=\"dataframe\">\n",
       "  <thead>\n",
       "    <tr style=\"text-align: right;\">\n",
       "      <th></th>\n",
       "      <th>Date</th>\n",
       "      <th>AAPL</th>\n",
       "      <th>ADBE</th>\n",
       "      <th>CVX</th>\n",
       "      <th>GOOG</th>\n",
       "      <th>IBM</th>\n",
       "      <th>MDLZ</th>\n",
       "      <th>MSFT</th>\n",
       "      <th>NFLX</th>\n",
       "      <th>ORCL</th>\n",
       "      <th>SBUX</th>\n",
       "    </tr>\n",
       "  </thead>\n",
       "  <tbody>\n",
       "    <tr>\n",
       "      <th>0</th>\n",
       "      <td>3-Jan-07</td>\n",
       "      <td>11.107141</td>\n",
       "      <td>38.869999</td>\n",
       "      <td>50.777351</td>\n",
       "      <td>251.001007</td>\n",
       "      <td>79.242500</td>\n",
       "      <td>17.519524</td>\n",
       "      <td>24.118483</td>\n",
       "      <td>3.258571</td>\n",
       "      <td>15.696321</td>\n",
       "      <td>15.752188</td>\n",
       "    </tr>\n",
       "    <tr>\n",
       "      <th>1</th>\n",
       "      <td>1-Feb-07</td>\n",
       "      <td>10.962033</td>\n",
       "      <td>39.250000</td>\n",
       "      <td>48.082939</td>\n",
       "      <td>224.949951</td>\n",
       "      <td>74.503204</td>\n",
       "      <td>16.019426</td>\n",
       "      <td>22.092464</td>\n",
       "      <td>3.218571</td>\n",
       "      <td>15.028588</td>\n",
       "      <td>13.930813</td>\n",
       "    </tr>\n",
       "    <tr>\n",
       "      <th>2</th>\n",
       "      <td>1-Mar-07</td>\n",
       "      <td>12.037377</td>\n",
       "      <td>41.700001</td>\n",
       "      <td>51.900383</td>\n",
       "      <td>229.309311</td>\n",
       "      <td>75.561348</td>\n",
       "      <td>16.009354</td>\n",
       "      <td>21.857189</td>\n",
       "      <td>3.312857</td>\n",
       "      <td>16.583584</td>\n",
       "      <td>14.138198</td>\n",
       "    </tr>\n",
       "    <tr>\n",
       "      <th>3</th>\n",
       "      <td>2-Apr-07</td>\n",
       "      <td>12.930043</td>\n",
       "      <td>41.560001</td>\n",
       "      <td>54.588032</td>\n",
       "      <td>235.925919</td>\n",
       "      <td>81.934280</td>\n",
       "      <td>16.924608</td>\n",
       "      <td>23.480597</td>\n",
       "      <td>3.167143</td>\n",
       "      <td>17.196436</td>\n",
       "      <td>13.984914</td>\n",
       "    </tr>\n",
       "    <tr>\n",
       "      <th>4</th>\n",
       "      <td>1-May-07</td>\n",
       "      <td>15.701322</td>\n",
       "      <td>44.060001</td>\n",
       "      <td>57.598267</td>\n",
       "      <td>249.204208</td>\n",
       "      <td>85.786057</td>\n",
       "      <td>17.111704</td>\n",
       "      <td>24.146753</td>\n",
       "      <td>3.128572</td>\n",
       "      <td>17.726965</td>\n",
       "      <td>12.988567</td>\n",
       "    </tr>\n",
       "  </tbody>\n",
       "</table>\n",
       "</div>"
      ],
      "text/plain": [
       "       Date       AAPL       ADBE        CVX        GOOG        IBM  \\\n",
       "0  3-Jan-07  11.107141  38.869999  50.777351  251.001007  79.242500   \n",
       "1  1-Feb-07  10.962033  39.250000  48.082939  224.949951  74.503204   \n",
       "2  1-Mar-07  12.037377  41.700001  51.900383  229.309311  75.561348   \n",
       "3  2-Apr-07  12.930043  41.560001  54.588032  235.925919  81.934280   \n",
       "4  1-May-07  15.701322  44.060001  57.598267  249.204208  85.786057   \n",
       "\n",
       "        MDLZ       MSFT      NFLX       ORCL       SBUX  \n",
       "0  17.519524  24.118483  3.258571  15.696321  15.752188  \n",
       "1  16.019426  22.092464  3.218571  15.028588  13.930813  \n",
       "2  16.009354  21.857189  3.312857  16.583584  14.138198  \n",
       "3  16.924608  23.480597  3.167143  17.196436  13.984914  \n",
       "4  17.111704  24.146753  3.128572  17.726965  12.988567  "
      ]
     },
     "execution_count": 3,
     "metadata": {},
     "output_type": "execute_result"
    }
   ],
   "source": [
    "stock_data.head()"
   ]
  },
  {
   "cell_type": "code",
   "execution_count": 4,
   "metadata": {
    "ExecuteTime": {
     "end_time": "2022-08-05T16:05:34.641362Z",
     "start_time": "2022-08-05T16:05:34.602135Z"
    }
   },
   "outputs": [
    {
     "data": {
      "text/html": [
       "<div>\n",
       "<style scoped>\n",
       "    .dataframe tbody tr th:only-of-type {\n",
       "        vertical-align: middle;\n",
       "    }\n",
       "\n",
       "    .dataframe tbody tr th {\n",
       "        vertical-align: top;\n",
       "    }\n",
       "\n",
       "    .dataframe thead th {\n",
       "        text-align: right;\n",
       "    }\n",
       "</style>\n",
       "<table border=\"1\" class=\"dataframe\">\n",
       "  <thead>\n",
       "    <tr style=\"text-align: right;\">\n",
       "      <th></th>\n",
       "      <th>Date</th>\n",
       "      <th>AAPL</th>\n",
       "      <th>ADBE</th>\n",
       "      <th>CVX</th>\n",
       "      <th>GOOG</th>\n",
       "      <th>IBM</th>\n",
       "      <th>MDLZ</th>\n",
       "      <th>MSFT</th>\n",
       "      <th>NFLX</th>\n",
       "      <th>ORCL</th>\n",
       "      <th>SBUX</th>\n",
       "    </tr>\n",
       "  </thead>\n",
       "  <tbody>\n",
       "    <tr>\n",
       "      <th>0</th>\n",
       "      <td>2007-01-03</td>\n",
       "      <td>11.107141</td>\n",
       "      <td>38.869999</td>\n",
       "      <td>50.777351</td>\n",
       "      <td>251.001007</td>\n",
       "      <td>79.242500</td>\n",
       "      <td>17.519524</td>\n",
       "      <td>24.118483</td>\n",
       "      <td>3.258571</td>\n",
       "      <td>15.696321</td>\n",
       "      <td>15.752188</td>\n",
       "    </tr>\n",
       "    <tr>\n",
       "      <th>1</th>\n",
       "      <td>2007-02-01</td>\n",
       "      <td>10.962033</td>\n",
       "      <td>39.250000</td>\n",
       "      <td>48.082939</td>\n",
       "      <td>224.949951</td>\n",
       "      <td>74.503204</td>\n",
       "      <td>16.019426</td>\n",
       "      <td>22.092464</td>\n",
       "      <td>3.218571</td>\n",
       "      <td>15.028588</td>\n",
       "      <td>13.930813</td>\n",
       "    </tr>\n",
       "    <tr>\n",
       "      <th>2</th>\n",
       "      <td>2007-03-01</td>\n",
       "      <td>12.037377</td>\n",
       "      <td>41.700001</td>\n",
       "      <td>51.900383</td>\n",
       "      <td>229.309311</td>\n",
       "      <td>75.561348</td>\n",
       "      <td>16.009354</td>\n",
       "      <td>21.857189</td>\n",
       "      <td>3.312857</td>\n",
       "      <td>16.583584</td>\n",
       "      <td>14.138198</td>\n",
       "    </tr>\n",
       "    <tr>\n",
       "      <th>3</th>\n",
       "      <td>2007-04-02</td>\n",
       "      <td>12.930043</td>\n",
       "      <td>41.560001</td>\n",
       "      <td>54.588032</td>\n",
       "      <td>235.925919</td>\n",
       "      <td>81.934280</td>\n",
       "      <td>16.924608</td>\n",
       "      <td>23.480597</td>\n",
       "      <td>3.167143</td>\n",
       "      <td>17.196436</td>\n",
       "      <td>13.984914</td>\n",
       "    </tr>\n",
       "    <tr>\n",
       "      <th>4</th>\n",
       "      <td>2007-05-01</td>\n",
       "      <td>15.701322</td>\n",
       "      <td>44.060001</td>\n",
       "      <td>57.598267</td>\n",
       "      <td>249.204208</td>\n",
       "      <td>85.786057</td>\n",
       "      <td>17.111704</td>\n",
       "      <td>24.146753</td>\n",
       "      <td>3.128572</td>\n",
       "      <td>17.726965</td>\n",
       "      <td>12.988567</td>\n",
       "    </tr>\n",
       "  </tbody>\n",
       "</table>\n",
       "</div>"
      ],
      "text/plain": [
       "        Date       AAPL       ADBE        CVX        GOOG        IBM  \\\n",
       "0 2007-01-03  11.107141  38.869999  50.777351  251.001007  79.242500   \n",
       "1 2007-02-01  10.962033  39.250000  48.082939  224.949951  74.503204   \n",
       "2 2007-03-01  12.037377  41.700001  51.900383  229.309311  75.561348   \n",
       "3 2007-04-02  12.930043  41.560001  54.588032  235.925919  81.934280   \n",
       "4 2007-05-01  15.701322  44.060001  57.598267  249.204208  85.786057   \n",
       "\n",
       "        MDLZ       MSFT      NFLX       ORCL       SBUX  \n",
       "0  17.519524  24.118483  3.258571  15.696321  15.752188  \n",
       "1  16.019426  22.092464  3.218571  15.028588  13.930813  \n",
       "2  16.009354  21.857189  3.312857  16.583584  14.138198  \n",
       "3  16.924608  23.480597  3.167143  17.196436  13.984914  \n",
       "4  17.111704  24.146753  3.128572  17.726965  12.988567  "
      ]
     },
     "execution_count": 4,
     "metadata": {},
     "output_type": "execute_result"
    }
   ],
   "source": [
    "#First, Convert Date to pandas DateTime for easier plotting of data.\n",
    "\n",
    "stock_data['Date'] = pd.to_datetime(stock_data['Date'])\n",
    "stock_data.head()"
   ]
  },
  {
   "cell_type": "markdown",
   "metadata": {},
   "source": [
    "# Compare stock side by side"
   ]
  },
  {
   "cell_type": "code",
   "execution_count": 5,
   "metadata": {
    "ExecuteTime": {
     "end_time": "2022-08-05T16:05:36.972438Z",
     "start_time": "2022-08-05T16:05:36.678254Z"
    },
    "scrolled": false
   },
   "outputs": [
    {
     "name": "stderr",
     "output_type": "stream",
     "text": [
      "C:\\Users\\Dell\\anaconda3\\envs\\utility_env\\lib\\site-packages\\matplotlib\\cbook\\__init__.py:2064: FutureWarning: Support for multi-dimensional indexing (e.g. `obj[:, None]`) is deprecated and will be removed in a future version.  Convert to a numpy array before indexing instead.\n",
      "  x[:, None]\n",
      "C:\\Users\\Dell\\anaconda3\\envs\\utility_env\\lib\\site-packages\\matplotlib\\axes\\_base.py:248: FutureWarning: Support for multi-dimensional indexing (e.g. `obj[:, None]`) is deprecated and will be removed in a future version.  Convert to a numpy array before indexing instead.\n",
      "  x = x[:, np.newaxis]\n",
      "C:\\Users\\Dell\\anaconda3\\envs\\utility_env\\lib\\site-packages\\matplotlib\\axes\\_base.py:250: FutureWarning: Support for multi-dimensional indexing (e.g. `obj[:, None]`) is deprecated and will be removed in a future version.  Convert to a numpy array before indexing instead.\n",
      "  y = y[:, np.newaxis]\n"
     ]
    },
    {
     "data": {
      "image/png": "[encoded data removed]",
      "text/plain": [
       "<Figure size 720x432 with 2 Axes>"
      ]
     },
     "metadata": {
      "needs_background": "light"
     },
     "output_type": "display_data"
    }
   ],
   "source": [
    "fig = plt.figure(figsize = (10,6))\n",
    "\n",
    "ax1 = fig.add_axes([0, 0, 1, 1])\n",
    "ax2 = fig.add_axes([0.05, 0.65, 0.5, 0.3])\n",
    "\n",
    "\n",
    "ax1.set_title('AAPL vs IBM(inset)')\n",
    "\n",
    "ax1.plot(stock_data['Date'],\n",
    "        stock_data['AAPL'],\n",
    "        color = 'blue')\n",
    "\n",
    "ax2.plot(stock_data['Date'],\n",
    "        stock_data['IBM'],\n",
    "        color = 'red')\n",
    "\n",
    "plt.show()"
   ]
  },
  {
   "cell_type": "markdown",
   "metadata": {},
   "source": [
    "### add_axes\n",
    "\n",
    "    - Add an axes to the figure.\n",
    "\n",
    "    - plt.plot() takes the 1st argument as numeric data i.e Date and 2nd argument is to numeric stock data. \n",
    "    - AAPL Stock is considered as ax1 which is the outer figure and on ax2 IBM Stock is considered for plotting which is inset.\n"
   ]
  },
  {
   "cell_type": "markdown",
   "metadata": {},
   "source": [
    "## Difference between the add_subplot and add_axes\n",
    "\n",
    "    - Both, add_axes and add_subplot add an axes to a figure. They both return a (subclass of a) matplotlib.axes.Axes object.\n",
    "   #### add_axes\n",
    "    -The calling signature of add_axes is add_axes(rect), where rect is a list [x0, y0, width, height] denoting the lower left point of the new axes in figure coodinates (x0,y0) and its width and height. So the axes is positionned in absolute coordinates on the canvas. E.g.\n",
    "\n",
    "   </code>fig = plt.figure()\n",
    "    ax = fig.add_axes([0,0,1,1])</code>\n",
    "    places a figure in the canvas that is exactly as large as the canvas itself.\n",
    "    \n",
    "   #### add_subplot\n",
    "    The calling signature of add_subplot does not directly provide the option to place the axes at a predefined position. It rather allows to specify where the axes should be situated according to a subplot grid. The usual and easiest way to specify this position is the 3 integer notation,\n",
    "\n",
    "fig = plt.figure()\n",
    "ax = fig.add_subplot(231)\n",
    "\n",
    "\n",
    "    - [reference]:\n",
    "https://stackoverflow.com/questions/43326680/what-are-the-differences-between-add-axes-and-add-subplot"
   ]
  },
  {
   "cell_type": "code",
   "execution_count": 7,
   "metadata": {
    "ExecuteTime": {
     "end_time": "2022-07-31T10:54:32.876146Z",
     "start_time": "2022-07-31T10:54:32.681142Z"
    }
   },
   "outputs": [
    {
     "name": "stderr",
     "output_type": "stream",
     "text": [
      "C:\\Users\\Dell\\anaconda3\\envs\\utility_env\\lib\\site-packages\\matplotlib\\figure.py:2299: UserWarning: This figure includes Axes that are not compatible with tight_layout, so results might be incorrect.\n",
      "  warnings.warn(\"This figure includes Axes that are not compatible \"\n"
     ]
    },
    {
     "data": {
      "image/png": "[encoded data removed]",
      "text/plain": [
       "<Figure size 360x216 with 6 Axes>"
      ]
     },
     "metadata": {
      "needs_background": "light"
     },
     "output_type": "display_data"
    }
   ],
   "source": [
    "import matplotlib.pyplot as plt\n",
    "plt.rcParams[\"figure.figsize\"] = (5,3)\n",
    "\n",
    "fig = plt.figure()\n",
    "fig.add_subplot(241)\n",
    "fig.add_subplot(242)\n",
    "ax = fig.add_subplot(223)\n",
    "ax.set_title(\"subplots\")\n",
    "\n",
    "fig.add_axes([0.77,.3,.2,.6])\n",
    "ax2 =fig.add_axes([0.67,.5,.2,.3])\n",
    "fig.add_axes([0.6,.1,.35,.3])\n",
    "ax2.set_title(\"random axes\")\n",
    "\n",
    "plt.tight_layout()\n",
    "plt.show()"
   ]
  },
  {
   "cell_type": "code",
   "execution_count": 8,
   "metadata": {
    "ExecuteTime": {
     "end_time": "2022-07-31T10:54:34.355981Z",
     "start_time": "2022-07-31T10:54:34.022163Z"
    },
    "scrolled": true
   },
   "outputs": [
    {
     "name": "stderr",
     "output_type": "stream",
     "text": [
      "C:\\Users\\Dell\\anaconda3\\envs\\utility_env\\lib\\site-packages\\matplotlib\\cbook\\__init__.py:2064: FutureWarning: Support for multi-dimensional indexing (e.g. `obj[:, None]`) is deprecated and will be removed in a future version.  Convert to a numpy array before indexing instead.\n",
      "  x[:, None]\n",
      "C:\\Users\\Dell\\anaconda3\\envs\\utility_env\\lib\\site-packages\\matplotlib\\axes\\_base.py:248: FutureWarning: Support for multi-dimensional indexing (e.g. `obj[:, None]`) is deprecated and will be removed in a future version.  Convert to a numpy array before indexing instead.\n",
      "  x = x[:, np.newaxis]\n",
      "C:\\Users\\Dell\\anaconda3\\envs\\utility_env\\lib\\site-packages\\matplotlib\\axes\\_base.py:250: FutureWarning: Support for multi-dimensional indexing (e.g. `obj[:, None]`) is deprecated and will be removed in a future version.  Convert to a numpy array before indexing instead.\n",
      "  y = y[:, np.newaxis]\n"
     ]
    },
    {
     "data": {
      "image/png": "[encoded data removed]",
      "text/plain": [
       "<Figure size 1080x504 with 6 Axes>"
      ]
     },
     "metadata": {
      "needs_background": "light"
     },
     "output_type": "display_data"
    }
   ],
   "source": [
    "# Figsize for width and height of plot\n",
    "fig = plt.figure(figsize=(15,7))\n",
    "\n",
    "fig.suptitle('Stock price comparison 2007-2017', \n",
    "             fontsize=20)\n",
    "\n",
    "ax1 = fig.add_subplot(231)\n",
    "ax1.set_title('MSFT')\n",
    "\n",
    "ax1.plot(stock_data['Date'],\n",
    "         stock_data['MSFT'], \n",
    "         color='green')\n",
    "\n",
    "ax2 = fig.add_subplot(232)\n",
    "ax2.set_title('GOOG')\n",
    "\n",
    "ax2.plot(stock_data['Date'],\n",
    "         stock_data['GOOG'], \n",
    "         color='purple')\n",
    "\n",
    "ax3 = fig.add_subplot(233)\n",
    "ax3.set_title('SBUX')\n",
    "\n",
    "ax3.plot(stock_data['Date'],\n",
    "         stock_data['SBUX'], \n",
    "         color='magenta')\n",
    "\n",
    "ax4 = fig.add_subplot(234)\n",
    "ax4.set_title('ADBE')\n",
    "\n",
    "ax4.plot(stock_data['Date'],\n",
    "         stock_data['ADBE'], \n",
    "         color='orange')\n",
    "\n",
    "ax4 = fig.add_subplot(235)\n",
    "ax4.set_title('NFLX')\n",
    "\n",
    "ax4.plot(stock_data['Date'],\n",
    "         stock_data['NFLX'], \n",
    "         color='chocolate')\n",
    "\n",
    "ax4 = fig.add_subplot(236)\n",
    "ax4.set_title('ORCL')\n",
    "\n",
    "ax4.plot(stock_data['Date'],\n",
    "         stock_data['ORCL'], \n",
    "         color='teal')\n",
    "\n",
    "plt.show()\n"
   ]
  },
  {
   "cell_type": "markdown",
   "metadata": {},
   "source": [
    "# Using seaborn"
   ]
  },
  {
   "cell_type": "code",
   "execution_count": 10,
   "metadata": {
    "ExecuteTime": {
     "end_time": "2022-07-31T10:58:51.298317Z",
     "start_time": "2022-07-31T10:58:51.107731Z"
    }
   },
   "outputs": [],
   "source": [
    "import pandas as pd\n",
    "from pandas_datareader import data\n",
    "import seaborn as sns\n",
    "sns.set(style=\"darkgrid\")"
   ]
  },
  {
   "cell_type": "code",
   "execution_count": 11,
   "metadata": {
    "ExecuteTime": {
     "end_time": "2022-07-31T10:59:01.355098Z",
     "start_time": "2022-07-31T10:58:58.564040Z"
    }
   },
   "outputs": [
    {
     "data": {
      "text/html": [
       "<div>\n",
       "<style scoped>\n",
       "    .dataframe tbody tr th:only-of-type {\n",
       "        vertical-align: middle;\n",
       "    }\n",
       "\n",
       "    .dataframe tbody tr th {\n",
       "        vertical-align: top;\n",
       "    }\n",
       "\n",
       "    .dataframe thead th {\n",
       "        text-align: right;\n",
       "    }\n",
       "</style>\n",
       "<table border=\"1\" class=\"dataframe\">\n",
       "  <thead>\n",
       "    <tr style=\"text-align: right;\">\n",
       "      <th></th>\n",
       "      <th>Date</th>\n",
       "      <th>Close</th>\n",
       "      <th>Volume</th>\n",
       "      <th>Stock</th>\n",
       "    </tr>\n",
       "  </thead>\n",
       "  <tbody>\n",
       "    <tr>\n",
       "      <th>0</th>\n",
       "      <td>2019-12-31</td>\n",
       "      <td>73.412498</td>\n",
       "      <td>100805600.0</td>\n",
       "      <td>AAPL</td>\n",
       "    </tr>\n",
       "    <tr>\n",
       "      <th>1</th>\n",
       "      <td>2020-01-02</td>\n",
       "      <td>75.087502</td>\n",
       "      <td>135480400.0</td>\n",
       "      <td>AAPL</td>\n",
       "    </tr>\n",
       "    <tr>\n",
       "      <th>2</th>\n",
       "      <td>2020-01-03</td>\n",
       "      <td>74.357498</td>\n",
       "      <td>146322800.0</td>\n",
       "      <td>AAPL</td>\n",
       "    </tr>\n",
       "    <tr>\n",
       "      <th>3</th>\n",
       "      <td>2020-01-06</td>\n",
       "      <td>74.949997</td>\n",
       "      <td>118387200.0</td>\n",
       "      <td>AAPL</td>\n",
       "    </tr>\n",
       "    <tr>\n",
       "      <th>4</th>\n",
       "      <td>2020-01-07</td>\n",
       "      <td>74.597504</td>\n",
       "      <td>108872000.0</td>\n",
       "      <td>AAPL</td>\n",
       "    </tr>\n",
       "  </tbody>\n",
       "</table>\n",
       "</div>"
      ],
      "text/plain": [
       "        Date      Close       Volume Stock\n",
       "0 2019-12-31  73.412498  100805600.0  AAPL\n",
       "1 2020-01-02  75.087502  135480400.0  AAPL\n",
       "2 2020-01-03  74.357498  146322800.0  AAPL\n",
       "3 2020-01-06  74.949997  118387200.0  AAPL\n",
       "4 2020-01-07  74.597504  108872000.0  AAPL"
      ]
     },
     "execution_count": 11,
     "metadata": {},
     "output_type": "execute_result"
    }
   ],
   "source": [
    "start = '2020-1-1'\n",
    "end = '2021-6-30'\n",
    "source = 'yahoo'\n",
    "stocks = pd.DataFrame(columns=[\"Date\",\"Close\",\"Volume\",\"Stock\"])\n",
    "stock_list = [\"AAPL\",\"IBM\",\"MSFT\",\"MRNA\"]\n",
    "for stock in stock_list:\n",
    "    df = data.DataReader(stock, start=start ,end=end, \n",
    "                         data_source=source).reset_index()\n",
    "    df[\"Stock\"] = stock\n",
    "    df = df[[\"Date\",\"Close\",\"Volume\",\"Stock\"]]\n",
    "    stocks = pd.concat([stocks, df], ignore_index=True)\n",
    "stocks.head()"
   ]
  },
  {
   "cell_type": "code",
   "execution_count": null,
   "metadata": {},
   "outputs": [],
   "source": []
  }
 ],
 "metadata": {
  "hide_input": false,
  "kernelspec": {
   "display_name": "Python 3",
   "language": "python",
   "name": "python3"
  },
  "language_info": {
   "codemirror_mode": {
    "name": "ipython",
    "version": 3
   },
   "file_extension": ".py",
   "mimetype": "text/x-python",
   "name": "python",
   "nbconvert_exporter": "python",
   "pygments_lexer": "ipython3",
   "version": "3.7.0"
  },
  "toc": {
   "base_numbering": 1,
   "nav_menu": {},
   "number_sections": true,
   "sideBar": true,
   "skip_h1_title": false,
   "title_cell": "Table of Contents",
   "title_sidebar": "Contents",
   "toc_cell": false,
   "toc_position": {},
   "toc_section_display": true,
   "toc_window_display": true
  },
  "varInspector": {
   "cols": {
    "lenName": 16,
    "lenType": 16,
    "lenVar": 40
   },
   "kernels_config": {
    "python": {
     "delete_cmd_postfix": "",
     "delete_cmd_prefix": "del ",
     "library": "var_list.py",
     "varRefreshCmd": "print(var_dic_list())"
    },
    "r": {
     "delete_cmd_postfix": ") ",
     "delete_cmd_prefix": "rm(",
     "library": "var_list.r",
     "varRefreshCmd": "cat(var_dic_list()) "
    }
   },
   "types_to_exclude": [
    "module",
    "function",
    "builtin_function_or_method",
    "instance",
    "_Feature"
   ],
   "window_display": false
  }
 },
 "nbformat": 4,
 "nbformat_minor": 2
}
