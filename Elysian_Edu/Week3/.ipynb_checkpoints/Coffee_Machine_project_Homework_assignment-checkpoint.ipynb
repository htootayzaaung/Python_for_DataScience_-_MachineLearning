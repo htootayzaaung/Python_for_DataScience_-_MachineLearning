{
 "cells": [
  {
   "cell_type": "markdown",
   "id": "aabe25c2",
   "metadata": {},
   "source": [
    "# Coffee Machine Program Requirements"
   ]
  },
  {
   "cell_type": "markdown",
   "id": "5194d0df",
   "metadata": {},
   "source": [
    "**1.Prompt user by asking \n",
    " \"What would you like? (espresso/latte/cappuccino/chocolate milkshake/chocolate smoothies):\"**\n",
    "\n",
    "- a.Check the user’s input to decide what to do next.\n",
    "\n",
    "\n",
    "- b.The prompt should show every time action has completed, e.g. once the drink is dispensed. The prompt should show again to serve the next customer\n",
    "\n",
    "**2.Turn off the Coffee Machine by entering \n",
    "\"off\" to the prompt.**\n",
    "\n",
    "- a.For maintainers of the coffee machine, they can use \"off\" as the secret word to turn off the machine. Your code should end execution when this happens.\n",
    "\n",
    "**3.Print report.**\n",
    "- a.A report should be generated that shows the current resource values. e.g.\n",
    "\n",
    "```Water: 100ml\n",
    "Milk: 50ml\n",
    "Coffee: 76g\n",
    "Money: $2.5```\n",
    "\n",
    "**4.Check resources sufficient?**\n",
    "\n",
    "- a.When the user chooses a drink, the program should check if there are enough resources to make that drink.\n",
    "\n",
    "\n",
    "- b.E.g. if Latte requires 200ml water but there is only 100ml left in the machine. It should not continue to make the drink but print: ```\"Sorry there is not enough water.\"```\n",
    "\n",
    "\n",
    "- c.The same should happen if another resource is depleted, e.g. milk or coffee."
   ]
  },
  {
   "cell_type": "markdown",
   "id": "49ce8140",
   "metadata": {},
   "source": [
    "**5.Process coins.**\n",
    "\n",
    "- a.If there are sufficient resources to make the drink selected, then the program should prompt the user to insert coins.\n",
    "\n",
    "\n",
    "- b.Remember that quarters = \\\\$0.25, dimes = \\\\$0.10, nickles = \\\\$0.05, pennies = \\\\$0.01\n",
    "\n",
    "\n",
    "- c.Calculate the monetary value of the coins inserted. E.g. 1 quarter, 2 dimes, 1 nickel, 2pennies = 0.25 + 0.1 x 2 + 0.05 + 0.01 x 2 = \\\\$0.52\n",
    "\n",
    "**6.Check transaction successful?**\n",
    "\n",
    "- a.Check that the user has inserted enough money to purchase the drink they selected. ``` E.g Latte cost $2.50 but they only inserted $0.52 ``` then after counting the coins the program should say \n",
    "```\"Sorry that's not enough money. Money refunded.\"```\n",
    "\n",
    "\n",
    "- b.But if the user has inserted enough money, then the cost of the drink gets added to the machine as the profit and this will be reflected the next time \"report\" is triggered. ```E.g.Water: 100ml Milk: 50ml Coffee: 76g Money: $2.5```\n",
    "\n",
    "\n",
    "- c.If the user has inserted too much money, the machine should offer change.\n",
    "\n",
    "\n",
    "\n",
    "- d.Please ask the user to choose the option between takeaway and dine-in. If the user chose the takeaway, add extra 1 nickle.\n",
    "\n",
    "\n",
    "- e.Output the receipt if the user doesn't want to continue purchasing."
   ]
  },
  {
   "cell_type": "markdown",
   "id": "81e379f3",
   "metadata": {},
   "source": [
    "**7. Coffee machine's choices and stocks:**\n",
    "\n",
    "```\n",
    "espresso = Water: 50ml, Milk: 20ml Coffee: 10g Money: $2.25\n",
    "latte = Water: 50ml, Milk: 10ml Coffee: 15g Money: $2.5\n",
    "cappuccino = Water: 50ml, Milk: 30ml Coffee: 10g Money: $3.2\n",
    "chocolate milkshake = Water: 50ml, Milk: 20ml Chocolate: 15g Money: $2.35\n",
    "chocolate smoothies = Water: 50ml, Milk: 10ml Chocolate: 30g Money: $3.4```\n",
    "\n",
    "\n",
    "\n",
    "\n",
    "```water = 1000ml, Milk = 1000ml, Coffee=100g, Chocolate=100g```\n",
    "\n",
    "**8. For user input money**\n",
    "\n",
    "The format must be \n",
    "\n",
    "```dollar = $, quarters = q, dimes = d, nikels = n, pennies = p```\n",
    "\n",
    "\n",
    "- for example, if the user want to input 2 dollar, 2 quarters and 1 dimes, the format should be \n",
    "\n",
    "> 2$,2q,1d\n",
    "\n",
    "Then calculate the user's total money which is 2.60$."
   ]
  },
  {
   "cell_type": "code",
   "execution_count": null,
   "id": "18efad3b",
   "metadata": {},
   "outputs": [],
   "source": []
  }
 ],
 "metadata": {
  "kernelspec": {
   "display_name": "Python 3 (ipykernel)",
   "language": "python",
   "name": "python3"
  },
  "language_info": {
   "codemirror_mode": {
    "name": "ipython",
    "version": 3
   },
   "file_extension": ".py",
   "mimetype": "text/x-python",
   "name": "python",
   "nbconvert_exporter": "python",
   "pygments_lexer": "ipython3",
   "version": "3.9.12"
  },
  "toc": {
   "base_numbering": 1,
   "nav_menu": {},
   "number_sections": true,
   "sideBar": true,
   "skip_h1_title": false,
   "title_cell": "Table of Contents",
   "title_sidebar": "Contents",
   "toc_cell": false,
   "toc_position": {},
   "toc_section_display": true,
   "toc_window_display": false
  }
 },
 "nbformat": 4,
 "nbformat_minor": 5
}
