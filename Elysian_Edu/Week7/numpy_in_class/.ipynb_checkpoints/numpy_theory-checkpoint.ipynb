{
 "cells": [
  {
   "cell_type": "markdown",
   "id": "eb4c204a",
   "metadata": {
    "ExecuteTime": {
     "end_time": "2022-08-01T07:28:11.922956Z",
     "start_time": "2022-08-01T07:28:11.920323Z"
    }
   },
   "source": [
    "# What is NumPy and Why use Numpy?"
   ]
  },
  {
   "cell_type": "markdown",
   "id": "cd6ddbb8",
   "metadata": {
    "ExecuteTime": {
     "end_time": "2022-08-01T07:32:12.310949Z",
     "start_time": "2022-08-01T07:32:12.301937Z"
    }
   },
   "source": [
    "\n",
    "NumPy is a Python library used for working with arrays. It is a multi dimensional array library.\n",
    "\n",
    "NumPy was created in 2005 by Travis Oliphant. It is an open source project and you can use it freely.\n",
    "\n",
    "- In Python we have lists that serve the purpose of arrays, but they are slow to process.\n",
    "\n",
    "- NumPy aims to provide an array object that is up to 50x faster than traditional Python lists.\n",
    "\n",
    "- The array object in NumPy is called ndarray, it provides a lot of supporting functions that make working with ndarray very easy.\n",
    "\n",
    "- Arrays are very frequently used in data science, where speed and resources are very important."
   ]
  },
  {
   "cell_type": "code",
   "execution_count": 54,
   "id": "9daa26c0",
   "metadata": {
    "ExecuteTime": {
     "end_time": "2022-08-01T08:36:53.004839Z",
     "start_time": "2022-08-01T08:36:53.001591Z"
    }
   },
   "outputs": [
    {
     "data": {
      "image/png": "[encoded data removed]",
      "text/plain": [
       "<IPython.core.display.Image object>"
      ]
     },
     "execution_count": 54,
     "metadata": {
      "image/png": {
       "width": 500
      }
     },
     "output_type": "execute_result"
    }
   ],
   "source": [
    "from IPython.display import Image\n",
    "Image(filename='resources/numpy_array.png',width=500)"
   ]
  },
  {
   "cell_type": "code",
   "execution_count": null,
   "id": "7579d967",
   "metadata": {},
   "outputs": [],
   "source": [
    "# scientific calculation\n",
    "# replacement of MATLAB"
   ]
  },
  {
   "cell_type": "code",
   "execution_count": null,
   "id": "0d794009",
   "metadata": {},
   "outputs": [],
   "source": [
    "#pip install numpy"
   ]
  },
  {
   "cell_type": "code",
   "execution_count": null,
   "id": "6c2f8fe8",
   "metadata": {},
   "outputs": [],
   "source": []
  },
  {
   "cell_type": "markdown",
   "id": "71d32a4f",
   "metadata": {},
   "source": []
  },
  {
   "cell_type": "markdown",
   "id": "5270cb7e",
   "metadata": {
    "ExecuteTime": {
     "end_time": "2022-08-01T07:36:55.700311Z",
     "start_time": "2022-08-01T07:36:55.693813Z"
    }
   },
   "source": [
    "**Comparison of the performance of a pure Python, a NumPy and a TensorFlow implementation of a simple iterative algorithm**\n",
    "\n",
    "| Implementation | Elapsed Time|\n",
    "| --- | --- |\n",
    "| Pure Python with list comprehensions | 18.65s |\n",
    "| NumPy | 0.32s |\n",
    "| TensorFlow on CPU | 1.20s |\n",
    "\t"
   ]
  },
  {
   "cell_type": "markdown",
   "id": "41254365",
   "metadata": {},
   "source": [
    "> While Python is a robust general-purpose programming language, its libraries targeted towards numerical computation will win out any day when it comes to large batch operations on arrays.\n",
    "\n",
    "- While the NumPy example proved quicker than TensorFlow in this case, it’s important to note that TensorFlow really shines for more complex cases. \n",
    "\n",
    "- With TensorFlow, it is possible to build and train complex neural networks across hundreds or thousands of multi-GPU servers."
   ]
  },
  {
   "cell_type": "code",
   "execution_count": null,
   "id": "38a9731f",
   "metadata": {},
   "outputs": [],
   "source": []
  },
  {
   "cell_type": "code",
   "execution_count": 1,
   "id": "f4c80ff9",
   "metadata": {
    "ExecuteTime": {
     "end_time": "2022-08-12T09:27:27.444534Z",
     "start_time": "2022-08-12T09:27:27.351798Z"
    }
   },
   "outputs": [
    {
     "name": "stdout",
     "output_type": "stream",
     "text": [
      "1.23.1\n"
     ]
    }
   ],
   "source": [
    "import numpy as np\n",
    "\n",
    "print(np.__version__)"
   ]
  },
  {
   "cell_type": "markdown",
   "id": "941953e6",
   "metadata": {},
   "source": [
    "## Typical Machine Learning Pipeline\n",
    "\n",
    "<img src='resources/ML_process.jpg' width=550px />"
   ]
  },
  {
   "cell_type": "code",
   "execution_count": null,
   "id": "df2b0ba5",
   "metadata": {},
   "outputs": [],
   "source": []
  },
  {
   "cell_type": "code",
   "execution_count": null,
   "id": "9cd4411e",
   "metadata": {},
   "outputs": [],
   "source": []
  },
  {
   "cell_type": "code",
   "execution_count": null,
   "id": "1fc0b14f",
   "metadata": {},
   "outputs": [],
   "source": []
  },
  {
   "cell_type": "markdown",
   "id": "d302fe74",
   "metadata": {},
   "source": [
    "# Create a NumPy ndarray Object"
   ]
  },
  {
   "cell_type": "markdown",
   "id": "a1cb7ca0",
   "metadata": {},
   "source": [
    "\n",
    "\n",
    "NumPy is used to work with arrays. The array object in NumPy is called ndarray.\n",
    "\n",
    "We can create a NumPy ndarray object by using the array() function.\n",
    "\n",
    "To create an ndarray, we can pass a list, tuple or any array-like object into the array() method, and it will be converted into an ndarray:"
   ]
  },
  {
   "cell_type": "code",
   "execution_count": 9,
   "id": "08cba287",
   "metadata": {
    "ExecuteTime": {
     "end_time": "2022-08-01T07:46:20.391231Z",
     "start_time": "2022-08-01T07:46:20.384926Z"
    }
   },
   "outputs": [
    {
     "name": "stdout",
     "output_type": "stream",
     "text": [
      "[1 2 3 4 5]\n",
      "<class 'numpy.ndarray'>\n"
     ]
    }
   ],
   "source": [
    "arr = np.array([1, 2, 3, 4, 5])\n",
    "\n",
    "print(arr)\n",
    "\n",
    "print(type(arr))"
   ]
  },
  {
   "cell_type": "code",
   "execution_count": null,
   "id": "95ec7fbc",
   "metadata": {},
   "outputs": [],
   "source": []
  },
  {
   "cell_type": "code",
   "execution_count": null,
   "id": "26f8487c",
   "metadata": {},
   "outputs": [],
   "source": []
  },
  {
   "cell_type": "code",
   "execution_count": null,
   "id": "110a6358",
   "metadata": {},
   "outputs": [],
   "source": []
  },
  {
   "cell_type": "markdown",
   "id": "f7784872",
   "metadata": {},
   "source": [
    "## Dimensions in Arrays"
   ]
  },
  {
   "cell_type": "markdown",
   "id": "99a90fad",
   "metadata": {},
   "source": [
    "## 0-D Arrays\n",
    "0-D arrays, or Scalars, are the elements in an array. Each value in an array is a 0-D array."
   ]
  },
  {
   "cell_type": "code",
   "execution_count": 10,
   "id": "e8ea386d",
   "metadata": {
    "ExecuteTime": {
     "end_time": "2022-08-01T07:48:13.595586Z",
     "start_time": "2022-08-01T07:48:13.589084Z"
    }
   },
   "outputs": [
    {
     "name": "stdout",
     "output_type": "stream",
     "text": [
      "42\n"
     ]
    }
   ],
   "source": [
    "arr = np.array(42)\n",
    "\n",
    "print(arr)"
   ]
  },
  {
   "cell_type": "markdown",
   "id": "5e0f6e6f",
   "metadata": {},
   "source": [
    "## 1-D Arrays"
   ]
  },
  {
   "cell_type": "code",
   "execution_count": null,
   "id": "47f79f85",
   "metadata": {},
   "outputs": [],
   "source": [
    "import numpy as np\n",
    "\n",
    "arr = np.array([1, 2, 3, 4, 5])\n",
    "\n",
    "print(arr)"
   ]
  },
  {
   "cell_type": "markdown",
   "id": "569b32b9",
   "metadata": {},
   "source": [
    "## 2-D Arrays\n",
    "An array that has 1-D arrays as its elements is called a 2-D array.\n",
    "\n",
    "These are often used to represent matrix or 2nd order tensors.\n",
    "\n"
   ]
  },
  {
   "cell_type": "code",
   "execution_count": 11,
   "id": "19358b87",
   "metadata": {
    "ExecuteTime": {
     "end_time": "2022-08-01T07:49:06.475342Z",
     "start_time": "2022-08-01T07:49:06.469102Z"
    }
   },
   "outputs": [
    {
     "name": "stdout",
     "output_type": "stream",
     "text": [
      "[[1 2 3]\n",
      " [4 5 6]]\n"
     ]
    }
   ],
   "source": [
    "arr = np.array([[1, 2, 3], [4, 5, 6]])\n",
    "\n",
    "print(arr)"
   ]
  },
  {
   "cell_type": "markdown",
   "id": "8b84bc82",
   "metadata": {},
   "source": [
    "## 3-D Arrays"
   ]
  },
  {
   "cell_type": "code",
   "execution_count": null,
   "id": "90fe1447",
   "metadata": {},
   "outputs": [],
   "source": [
    "arr = np.array([[[1, 2, 3], [4, 5, 6]], [[1, 2, 3], [4, 5, 6]]])\n",
    "\n",
    "print(arr)"
   ]
  },
  {
   "cell_type": "markdown",
   "id": "a81b1dc7",
   "metadata": {},
   "source": [
    "## Check Number of Dimensions"
   ]
  },
  {
   "cell_type": "code",
   "execution_count": 12,
   "id": "5dbdfa4d",
   "metadata": {
    "ExecuteTime": {
     "end_time": "2022-08-01T07:52:35.057927Z",
     "start_time": "2022-08-01T07:52:35.049036Z"
    }
   },
   "outputs": [
    {
     "name": "stdout",
     "output_type": "stream",
     "text": [
      "0\n",
      "1\n",
      "2\n",
      "3\n"
     ]
    }
   ],
   "source": [
    "a = np.array(42)\n",
    "b = np.array([1, 2, 3, 4, 5])\n",
    "c = np.array([[1, 2, 3], [4, 5, 6]])\n",
    "d = np.array([[[1, 2, 3], [4, 5, 6]], [[1, 2, 3], [4, 5, 6]]])\n",
    "\n",
    "print(a.ndim)\n",
    "print(b.ndim)\n",
    "print(c.ndim)\n",
    "print(d.ndim)"
   ]
  },
  {
   "cell_type": "markdown",
   "id": "391d8a9c",
   "metadata": {},
   "source": [
    "## Higher Dimensional Arrays\n",
    "An array can have any number of dimensions.\n",
    "\n",
    "When the array is created, you can define the number of dimensions by using the ndmin argument."
   ]
  },
  {
   "cell_type": "code",
   "execution_count": 13,
   "id": "512ef1ea",
   "metadata": {
    "ExecuteTime": {
     "end_time": "2022-08-01T07:52:57.666330Z",
     "start_time": "2022-08-01T07:52:57.659484Z"
    }
   },
   "outputs": [
    {
     "name": "stdout",
     "output_type": "stream",
     "text": [
      "[[[[[1 2 3 4]]]]]\n",
      "number of dimensions : 5\n"
     ]
    }
   ],
   "source": [
    "arr = np.array([1, 2, 3, 4], ndmin=5)\n",
    "\n",
    "print(arr)\n",
    "print('number of dimensions :', arr.ndim)"
   ]
  },
  {
   "cell_type": "markdown",
   "id": "4ebc331a",
   "metadata": {},
   "source": [
    "# Access Array Elements"
   ]
  },
  {
   "cell_type": "markdown",
   "id": "e4e2cc84",
   "metadata": {},
   "source": [
    "Get third and fourth elements from the following array and add them.\n"
   ]
  },
  {
   "cell_type": "code",
   "execution_count": 14,
   "id": "50f0c0bd",
   "metadata": {
    "ExecuteTime": {
     "end_time": "2022-08-01T07:56:07.764660Z",
     "start_time": "2022-08-01T07:56:07.758303Z"
    }
   },
   "outputs": [
    {
     "name": "stdout",
     "output_type": "stream",
     "text": [
      "7\n"
     ]
    }
   ],
   "source": [
    "arr = np.array([1, 2, 3, 4])\n",
    "\n",
    "print(arr[2] + arr[3])"
   ]
  },
  {
   "cell_type": "markdown",
   "id": "7f17ce63",
   "metadata": {},
   "source": [
    "- Think of arrays like a table with rows and columns, where the row represents the dimension and the index represents the column."
   ]
  },
  {
   "cell_type": "code",
   "execution_count": 16,
   "id": "1c5c1d8c",
   "metadata": {
    "ExecuteTime": {
     "end_time": "2022-08-01T07:58:01.715294Z",
     "start_time": "2022-08-01T07:58:01.711918Z"
    }
   },
   "outputs": [
    {
     "name": "stdout",
     "output_type": "stream",
     "text": [
      "5th element on 2nd row:  10\n"
     ]
    }
   ],
   "source": [
    "# Access 2-D Arrays\n",
    "arr = np.array([[1,2,3,4,5], [6,7,8,9,10]])\n",
    "\n",
    "print('5th element on 2nd row: ', arr[1, 4])"
   ]
  },
  {
   "cell_type": "code",
   "execution_count": 17,
   "id": "94347a05",
   "metadata": {
    "ExecuteTime": {
     "end_time": "2022-08-01T07:59:36.058505Z",
     "start_time": "2022-08-01T07:59:36.055774Z"
    }
   },
   "outputs": [
    {
     "name": "stdout",
     "output_type": "stream",
     "text": [
      "6\n"
     ]
    }
   ],
   "source": [
    "# Access 3-D Arrays\n",
    "arr = np.array([[[1, 2, 3], [4, 5, 6]], [[7, 8, 9], [10, 11, 12]]])\n",
    "\n",
    "print(arr[0, 1, 2])"
   ]
  },
  {
   "cell_type": "code",
   "execution_count": 18,
   "id": "93281f22",
   "metadata": {
    "ExecuteTime": {
     "end_time": "2022-08-01T07:59:52.907803Z",
     "start_time": "2022-08-01T07:59:52.897328Z"
    }
   },
   "outputs": [
    {
     "data": {
      "text/plain": [
       "array([[[ 1,  2,  3],\n",
       "        [ 4,  5,  6]],\n",
       "\n",
       "       [[ 7,  8,  9],\n",
       "        [10, 11, 12]]])"
      ]
     },
     "execution_count": 18,
     "metadata": {},
     "output_type": "execute_result"
    }
   ],
   "source": [
    "arr"
   ]
  },
  {
   "cell_type": "markdown",
   "id": "0690a4ff",
   "metadata": {},
   "source": [
    "\n",
    "The first number represents the first dimension, which contains two arrays:\n",
    "\n",
    "[[1, 2, 3], [4, 5, 6]]\n",
    "\n",
    "and:\n",
    "\n",
    "[[7, 8, 9], [10, 11, 12]]\n",
    "\n",
    "\n",
    "Since we selected 0, we are left with the first array:\n",
    "\n",
    "[[1, 2, 3], [4, 5, 6]]\n",
    "\n",
    "\n",
    "The second number represents the second dimension, which also contains two arrays:\n",
    "\n",
    "[1, 2, 3]\n",
    "\n",
    "and:\n",
    "\n",
    "[4, 5, 6]\n",
    "\n",
    "Since we selected 1, we are left with the second array:\n",
    "\n",
    "[4, 5, 6]\n",
    "\n",
    "The third number represents the third dimension, which contains three values:\n",
    "4\n",
    "5\n",
    "6\n",
    "Since we selected 2, we end up with the third value:\n",
    "6"
   ]
  },
  {
   "cell_type": "markdown",
   "id": "864867e7",
   "metadata": {},
   "source": [
    "## Get the Shape of an Array"
   ]
  },
  {
   "cell_type": "code",
   "execution_count": null,
   "id": "dc296f59",
   "metadata": {},
   "outputs": [],
   "source": [
    "arr = np.array([[1, 2, 3, 4], [5, 6, 7, 8]])\n",
    "\n",
    "print(arr.shape)"
   ]
  },
  {
   "cell_type": "markdown",
   "id": "d9e45a81",
   "metadata": {},
   "source": [
    "## Reshaping arrays"
   ]
  },
  {
   "cell_type": "markdown",
   "id": "ba132b6b",
   "metadata": {},
   "source": [
    "Reshape From 1-D to 2-D\n",
    "\n",
    "Convert the following 1-D array with 12 elements into a 2-D array.\n",
    "\n",
    "The outermost dimension will have 4 arrays, each with 3 elements:"
   ]
  },
  {
   "cell_type": "code",
   "execution_count": 67,
   "id": "36b6e476",
   "metadata": {
    "ExecuteTime": {
     "end_time": "2022-08-12T13:06:46.326546Z",
     "start_time": "2022-08-12T13:06:46.323188Z"
    }
   },
   "outputs": [
    {
     "data": {
      "text/plain": [
       "(12,)"
      ]
     },
     "execution_count": 67,
     "metadata": {},
     "output_type": "execute_result"
    }
   ],
   "source": [
    "arr = np.array([1, 2, 3, 4, 5, 6, 7, 8, 9, 10, 11, 12])\n",
    "\n",
    "arr.shape"
   ]
  },
  {
   "cell_type": "code",
   "execution_count": 47,
   "id": "7ee2e73e",
   "metadata": {
    "ExecuteTime": {
     "end_time": "2022-08-01T08:21:25.017189Z",
     "start_time": "2022-08-01T08:21:25.010734Z"
    }
   },
   "outputs": [
    {
     "data": {
      "text/plain": [
       "(4, 3)"
      ]
     },
     "execution_count": 47,
     "metadata": {},
     "output_type": "execute_result"
    }
   ],
   "source": [
    "newarr = arr.reshape(4, 3)\n",
    "newarr.shape"
   ]
  },
  {
   "cell_type": "markdown",
   "id": "0cddd927",
   "metadata": {},
   "source": [
    "## Can We Reshape Into any Shape?\n",
    "\n",
    "- As long as the elements required for reshaping are equal in both shapes.\n",
    "\n",
    "- We can reshape an 8 elements 1D array into 4 elements in 2 rows 2D array but we cannot reshape it into a 3 elements 3 rows 2D array as that would require 3x3 = 9 elements."
   ]
  },
  {
   "cell_type": "code",
   "execution_count": 48,
   "id": "5a9b565d",
   "metadata": {
    "ExecuteTime": {
     "end_time": "2022-08-01T08:23:18.376780Z",
     "start_time": "2022-08-01T08:23:18.359880Z"
    }
   },
   "outputs": [
    {
     "ename": "ValueError",
     "evalue": "cannot reshape array of size 8 into shape (3,3)",
     "output_type": "error",
     "traceback": [
      "\u001b[0;31m---------------------------------------------------------------------------\u001b[0m",
      "\u001b[0;31mValueError\u001b[0m                                Traceback (most recent call last)",
      "Input \u001b[0;32mIn [48]\u001b[0m, in \u001b[0;36m<cell line: 5>\u001b[0;34m()\u001b[0m\n\u001b[1;32m      1\u001b[0m \u001b[38;5;66;03m#Try converting 1D array with 8 elements to a 2D array with 3 elements in each dimension (will raise an error):\u001b[39;00m\n\u001b[1;32m      3\u001b[0m arr \u001b[38;5;241m=\u001b[39m np\u001b[38;5;241m.\u001b[39marray([\u001b[38;5;241m1\u001b[39m, \u001b[38;5;241m2\u001b[39m, \u001b[38;5;241m3\u001b[39m, \u001b[38;5;241m4\u001b[39m, \u001b[38;5;241m5\u001b[39m, \u001b[38;5;241m6\u001b[39m, \u001b[38;5;241m7\u001b[39m, \u001b[38;5;241m8\u001b[39m])\n\u001b[0;32m----> 5\u001b[0m newarr \u001b[38;5;241m=\u001b[39m \u001b[43marr\u001b[49m\u001b[38;5;241;43m.\u001b[39;49m\u001b[43mreshape\u001b[49m\u001b[43m(\u001b[49m\u001b[38;5;241;43m3\u001b[39;49m\u001b[43m,\u001b[49m\u001b[43m \u001b[49m\u001b[38;5;241;43m3\u001b[39;49m\u001b[43m)\u001b[49m\n",
      "\u001b[0;31mValueError\u001b[0m: cannot reshape array of size 8 into shape (3,3)"
     ]
    }
   ],
   "source": [
    "#Try converting 1D array with 8 elements to a 2D array with 3 elements in each dimension (will raise an error):\n",
    "\n",
    "arr = np.array([1, 2, 3, 4, 5, 6, 7, 8])\n",
    "\n",
    "newarr = arr.reshape(3, 3)"
   ]
  },
  {
   "cell_type": "code",
   "execution_count": null,
   "id": "10897e15",
   "metadata": {},
   "outputs": [],
   "source": []
  },
  {
   "cell_type": "markdown",
   "id": "7fed3714",
   "metadata": {},
   "source": [
    "## Flattening the arrays\n",
    "Flattening array means converting a multidimensional array into a 1D array.\n",
    "\n",
    "We can use reshape(-1) to do this."
   ]
  },
  {
   "cell_type": "code",
   "execution_count": 50,
   "id": "7fb1d73d",
   "metadata": {
    "ExecuteTime": {
     "end_time": "2022-08-01T08:24:04.391431Z",
     "start_time": "2022-08-01T08:24:04.381403Z"
    }
   },
   "outputs": [
    {
     "data": {
      "text/plain": [
       "array([1, 2, 3, 4, 5, 6])"
      ]
     },
     "execution_count": 50,
     "metadata": {},
     "output_type": "execute_result"
    }
   ],
   "source": [
    "#Convert the array into a 1D array:\n",
    "\n",
    "arr = np.array([[1, 2, 3], [4, 5, 6]])\n",
    "\n",
    "newarr = arr.reshape(-1)\n",
    "newarr"
   ]
  },
  {
   "cell_type": "code",
   "execution_count": null,
   "id": "0d837633",
   "metadata": {},
   "outputs": [],
   "source": []
  },
  {
   "cell_type": "markdown",
   "id": "291ff523",
   "metadata": {},
   "source": [
    "## Stacking arrays"
   ]
  },
  {
   "cell_type": "code",
   "execution_count": 158,
   "id": "ba21e0c8",
   "metadata": {},
   "outputs": [
    {
     "data": {
      "text/plain": [
       "array([[1, 2, 3, 4],\n",
       "       [5, 6, 7, 8],\n",
       "       [1, 2, 3, 4],\n",
       "       [5, 6, 7, 8]])"
      ]
     },
     "execution_count": 158,
     "metadata": {},
     "output_type": "execute_result"
    }
   ],
   "source": [
    "# Vertically stacking vectors\n",
    "v1 = np.array([1,2,3,4])\n",
    "v2 = np.array([5,6,7,8])\n",
    "\n",
    "np.vstack([v1,v2,v1,v2])"
   ]
  },
  {
   "cell_type": "code",
   "execution_count": null,
   "id": "00c42b97",
   "metadata": {},
   "outputs": [],
   "source": [
    "# Horizontal  stack\n",
    "h1 = np.ones((2,4))\n",
    "h2 = np.zeros((2,2))\n",
    "\n",
    "np.hstack((h1,h2))"
   ]
  },
  {
   "cell_type": "code",
   "execution_count": null,
   "id": "16b63181",
   "metadata": {},
   "outputs": [],
   "source": []
  },
  {
   "cell_type": "code",
   "execution_count": null,
   "id": "97511f42",
   "metadata": {},
   "outputs": [],
   "source": []
  },
  {
   "cell_type": "markdown",
   "id": "606c9448",
   "metadata": {},
   "source": [
    "# Data Types in NumPy\n",
    "\n",
    "NumPy has some extra data types, and refer to data types with one character, like i for integers, u for unsigned integers etc.\n",
    "\n",
    "Below is a list of all data types in NumPy and the characters used to represent them.\n",
    "\n",
    "```i - integer\n",
    "b - boolean\n",
    "u - unsigned integer\n",
    "f - float\n",
    "c - complex float\n",
    "m - timedelta\n",
    "M - datetime\n",
    "O - object\n",
    "S - string\n",
    "U - unicode string\n",
    "V - fixed chunk of memory for other type ( void )```"
   ]
  },
  {
   "cell_type": "code",
   "execution_count": 30,
   "id": "b2515408",
   "metadata": {
    "ExecuteTime": {
     "end_time": "2022-08-01T08:12:02.376922Z",
     "start_time": "2022-08-01T08:12:02.370800Z"
    }
   },
   "outputs": [
    {
     "name": "stdout",
     "output_type": "stream",
     "text": [
      "int64\n"
     ]
    }
   ],
   "source": [
    "\n",
    "arr = np.array([1, 2, 3, 4])\n",
    "\n",
    "print(arr.dtype)"
   ]
  },
  {
   "cell_type": "code",
   "execution_count": 33,
   "id": "b7732ada",
   "metadata": {
    "ExecuteTime": {
     "end_time": "2022-08-01T08:12:32.428522Z",
     "start_time": "2022-08-01T08:12:32.425604Z"
    }
   },
   "outputs": [
    {
     "name": "stdout",
     "output_type": "stream",
     "text": [
      "<U5\n"
     ]
    }
   ],
   "source": [
    "arr = np.array('apple')\n",
    "\n",
    "print(arr.dtype)"
   ]
  },
  {
   "cell_type": "markdown",
   "id": "e6af9248",
   "metadata": {},
   "source": [
    "## Creating Arrays With a Defined Data Type"
   ]
  },
  {
   "cell_type": "code",
   "execution_count": 38,
   "id": "002cda94",
   "metadata": {
    "ExecuteTime": {
     "end_time": "2022-08-01T08:17:54.391845Z",
     "start_time": "2022-08-01T08:17:54.385407Z"
    }
   },
   "outputs": [
    {
     "name": "stdout",
     "output_type": "stream",
     "text": [
      "[b'1' b'2' b'3' b'4']\n",
      "|S1\n"
     ]
    }
   ],
   "source": [
    "arr = np.array([1, 2, 3, 4], dtype='S')\n",
    "\n",
    "print(arr)\n",
    "print(arr.dtype)"
   ]
  },
  {
   "cell_type": "code",
   "execution_count": 40,
   "id": "5ecc400d",
   "metadata": {
    "ExecuteTime": {
     "end_time": "2022-08-01T08:18:10.621995Z",
     "start_time": "2022-08-01T08:18:10.528488Z"
    }
   },
   "outputs": [
    {
     "ename": "ValueError",
     "evalue": "invalid literal for int() with base 10: 'a'",
     "output_type": "error",
     "traceback": [
      "\u001b[0;31m---------------------------------------------------------------------------\u001b[0m",
      "\u001b[0;31mValueError\u001b[0m                                Traceback (most recent call last)",
      "Input \u001b[0;32mIn [40]\u001b[0m, in \u001b[0;36m<cell line: 1>\u001b[0;34m()\u001b[0m\n\u001b[0;32m----> 1\u001b[0m arr \u001b[38;5;241m=\u001b[39m \u001b[43mnp\u001b[49m\u001b[38;5;241;43m.\u001b[39;49m\u001b[43marray\u001b[49m\u001b[43m(\u001b[49m\u001b[43m[\u001b[49m\u001b[38;5;124;43m'\u001b[39;49m\u001b[38;5;124;43ma\u001b[39;49m\u001b[38;5;124;43m'\u001b[39;49m\u001b[43m,\u001b[49m\u001b[43m \u001b[49m\u001b[38;5;124;43m'\u001b[39;49m\u001b[38;5;124;43m2\u001b[39;49m\u001b[38;5;124;43m'\u001b[39;49m\u001b[43m,\u001b[49m\u001b[43m \u001b[49m\u001b[38;5;124;43m'\u001b[39;49m\u001b[38;5;124;43m3\u001b[39;49m\u001b[38;5;124;43m'\u001b[39;49m\u001b[43m]\u001b[49m\u001b[43m,\u001b[49m\u001b[43m \u001b[49m\u001b[43mdtype\u001b[49m\u001b[38;5;241;43m=\u001b[39;49m\u001b[38;5;124;43m'\u001b[39;49m\u001b[38;5;124;43mi\u001b[39;49m\u001b[38;5;124;43m'\u001b[39;49m\u001b[43m)\u001b[49m\n",
      "\u001b[0;31mValueError\u001b[0m: invalid literal for int() with base 10: 'a'"
     ]
    }
   ],
   "source": [
    "#A non integer string like 'a' can not be converted to integer (will raise an error):\n",
    "arr = np.array(['a', '2', '3'], dtype='i')"
   ]
  },
  {
   "cell_type": "code",
   "execution_count": 60,
   "id": "42435ae7",
   "metadata": {
    "ExecuteTime": {
     "end_time": "2022-08-01T09:54:32.068719Z",
     "start_time": "2022-08-01T09:54:32.060729Z"
    }
   },
   "outputs": [],
   "source": [
    "arr = np.array([1, 2, 3, 4], dtype='int16')"
   ]
  },
  {
   "cell_type": "code",
   "execution_count": 61,
   "id": "6509ae68",
   "metadata": {
    "ExecuteTime": {
     "end_time": "2022-08-01T09:54:37.741160Z",
     "start_time": "2022-08-01T09:54:37.735874Z"
    }
   },
   "outputs": [
    {
     "data": {
      "text/plain": [
       "2"
      ]
     },
     "execution_count": 61,
     "metadata": {},
     "output_type": "execute_result"
    }
   ],
   "source": [
    "arr.itemsize"
   ]
  },
  {
   "cell_type": "code",
   "execution_count": 62,
   "id": "50daf266",
   "metadata": {
    "ExecuteTime": {
     "end_time": "2022-08-01T09:54:48.233801Z",
     "start_time": "2022-08-01T09:54:48.230472Z"
    }
   },
   "outputs": [
    {
     "data": {
      "text/plain": [
       "4"
      ]
     },
     "execution_count": 62,
     "metadata": {},
     "output_type": "execute_result"
    }
   ],
   "source": [
    "arr = np.array([1, 2, 3, 4], dtype='int32')\n",
    "arr.itemsize"
   ]
  },
  {
   "cell_type": "code",
   "execution_count": null,
   "id": "b6b93354",
   "metadata": {},
   "outputs": [],
   "source": []
  },
  {
   "cell_type": "code",
   "execution_count": 4,
   "id": "91a432e1",
   "metadata": {
    "ExecuteTime": {
     "end_time": "2022-08-12T09:27:53.786202Z",
     "start_time": "2022-08-12T09:27:53.782189Z"
    }
   },
   "outputs": [
    {
     "data": {
      "text/plain": [
       "array([[5, 0, 0],\n",
       "       [0, 5, 0],\n",
       "       [0, 0, 5]])"
      ]
     },
     "execution_count": 4,
     "metadata": {},
     "output_type": "execute_result"
    }
   ],
   "source": [
    "#fill_diagonal values\n",
    "a = np.zeros((3, 3), dtype=int)\n",
    "np.fill_diagonal(a, 5)\n",
    "a"
   ]
  },
  {
   "cell_type": "markdown",
   "id": "062bbb8c",
   "metadata": {},
   "source": [
    "## Overflow Errors\n",
    "The fixed size of NumPy numeric types may cause overflow errors when a value requires more memory than available in the data type.\n",
    "\n",
    "For example, numpy.power evaluates 100 ** 8 correctly for 64-bit integers, but gives 1874919424 (incorrect) for a 32-bit integer.\n",
    "\n"
   ]
  },
  {
   "cell_type": "code",
   "execution_count": 35,
   "id": "02e2c09c",
   "metadata": {
    "ExecuteTime": {
     "end_time": "2022-08-01T08:15:48.811869Z",
     "start_time": "2022-08-01T08:15:48.808157Z"
    }
   },
   "outputs": [
    {
     "data": {
      "text/plain": [
       "10000000000000000"
      ]
     },
     "execution_count": 35,
     "metadata": {},
     "output_type": "execute_result"
    }
   ],
   "source": [
    "np.power(100, 8, dtype=np.int64)"
   ]
  },
  {
   "cell_type": "code",
   "execution_count": 36,
   "id": "ce952d94",
   "metadata": {
    "ExecuteTime": {
     "end_time": "2022-08-01T08:15:49.149305Z",
     "start_time": "2022-08-01T08:15:49.144199Z"
    }
   },
   "outputs": [
    {
     "data": {
      "text/plain": [
       "1874919424"
      ]
     },
     "execution_count": 36,
     "metadata": {},
     "output_type": "execute_result"
    }
   ],
   "source": [
    "np.power(100, 8, dtype=np.int32)"
   ]
  },
  {
   "cell_type": "code",
   "execution_count": null,
   "id": "8606b79a",
   "metadata": {},
   "outputs": [],
   "source": []
  },
  {
   "cell_type": "code",
   "execution_count": null,
   "id": "ac10ab83",
   "metadata": {},
   "outputs": [],
   "source": []
  },
  {
   "cell_type": "code",
   "execution_count": null,
   "id": "c2f25d1a",
   "metadata": {},
   "outputs": [],
   "source": []
  },
  {
   "cell_type": "code",
   "execution_count": null,
   "id": "f9d860e3",
   "metadata": {},
   "outputs": [],
   "source": []
  },
  {
   "cell_type": "markdown",
   "id": "837bbe96",
   "metadata": {},
   "source": [
    "# The Basics"
   ]
  },
  {
   "cell_type": "code",
   "execution_count": 2,
   "id": "2c057b50",
   "metadata": {
    "ExecuteTime": {
     "end_time": "2022-08-02T06:25:19.350536Z",
     "start_time": "2022-08-02T06:25:19.252611Z"
    }
   },
   "outputs": [],
   "source": [
    "import numpy as np"
   ]
  },
  {
   "cell_type": "code",
   "execution_count": 3,
   "id": "0a8e6ab7",
   "metadata": {
    "ExecuteTime": {
     "end_time": "2022-08-02T06:25:19.474488Z",
     "start_time": "2022-08-02T06:25:19.469799Z"
    }
   },
   "outputs": [
    {
     "name": "stdout",
     "output_type": "stream",
     "text": [
      "[1 2 3]\n"
     ]
    }
   ],
   "source": [
    "a = np.array([1,2,3], dtype='int32')\n",
    "print(a)"
   ]
  },
  {
   "cell_type": "code",
   "execution_count": 75,
   "id": "42ed62c2",
   "metadata": {
    "ExecuteTime": {
     "end_time": "2022-08-12T13:07:41.492982Z",
     "start_time": "2022-08-12T13:07:41.489775Z"
    }
   },
   "outputs": [
    {
     "name": "stdout",
     "output_type": "stream",
     "text": [
      "[[9. 8. 7.]\n",
      " [6. 5. 4.]]\n"
     ]
    }
   ],
   "source": [
    "b = np.array([[9.0,8.0,7.0],[6.0,5.0,4.0]])\n",
    "print(b)"
   ]
  },
  {
   "cell_type": "code",
   "execution_count": 76,
   "id": "81734bbe",
   "metadata": {
    "ExecuteTime": {
     "end_time": "2022-08-12T13:07:42.991077Z",
     "start_time": "2022-08-12T13:07:42.987993Z"
    }
   },
   "outputs": [
    {
     "data": {
      "text/plain": [
       "array([[7., 8., 9.],\n",
       "       [4., 5., 6.]])"
      ]
     },
     "execution_count": 76,
     "metadata": {},
     "output_type": "execute_result"
    }
   ],
   "source": [
    "# sort an array\n",
    "b.sort()\n",
    "b"
   ]
  },
  {
   "cell_type": "code",
   "execution_count": null,
   "id": "81334b5f",
   "metadata": {},
   "outputs": [],
   "source": []
  },
  {
   "cell_type": "code",
   "execution_count": 16,
   "id": "185a297a",
   "metadata": {},
   "outputs": [
    {
     "data": {
      "text/plain": [
       "1"
      ]
     },
     "execution_count": 16,
     "metadata": {},
     "output_type": "execute_result"
    }
   ],
   "source": [
    "# Get Dimension\n",
    "a.ndim"
   ]
  },
  {
   "cell_type": "code",
   "execution_count": 18,
   "id": "efd47ce2",
   "metadata": {},
   "outputs": [
    {
     "data": {
      "text/plain": [
       "(2, 3)"
      ]
     },
     "execution_count": 18,
     "metadata": {},
     "output_type": "execute_result"
    }
   ],
   "source": [
    "# Get Shape\n",
    "b.shape"
   ]
  },
  {
   "cell_type": "code",
   "execution_count": 4,
   "id": "e551ad7f",
   "metadata": {
    "ExecuteTime": {
     "end_time": "2022-08-02T06:25:25.531563Z",
     "start_time": "2022-08-02T06:25:25.524143Z"
    }
   },
   "outputs": [
    {
     "data": {
      "text/plain": [
       "dtype('int32')"
      ]
     },
     "execution_count": 4,
     "metadata": {},
     "output_type": "execute_result"
    }
   ],
   "source": [
    "# Get Type\n",
    "a.dtype"
   ]
  },
  {
   "cell_type": "code",
   "execution_count": 8,
   "id": "fd74a600",
   "metadata": {
    "ExecuteTime": {
     "end_time": "2022-08-02T06:26:29.897695Z",
     "start_time": "2022-08-02T06:26:29.892468Z"
    }
   },
   "outputs": [
    {
     "data": {
      "text/plain": [
       "4"
      ]
     },
     "execution_count": 8,
     "metadata": {},
     "output_type": "execute_result"
    }
   ],
   "source": [
    "# Get Size (bytes)\n",
    "a.itemsize"
   ]
  },
  {
   "cell_type": "code",
   "execution_count": 6,
   "id": "9a68d2d4",
   "metadata": {
    "ExecuteTime": {
     "end_time": "2022-08-02T06:25:31.816484Z",
     "start_time": "2022-08-02T06:25:31.813425Z"
    }
   },
   "outputs": [
    {
     "data": {
      "text/plain": [
       "3"
      ]
     },
     "execution_count": 6,
     "metadata": {},
     "output_type": "execute_result"
    }
   ],
   "source": [
    "# Get number of elements\n",
    "a.size"
   ]
  },
  {
   "cell_type": "code",
   "execution_count": 7,
   "id": "db950399",
   "metadata": {
    "ExecuteTime": {
     "end_time": "2022-08-02T06:25:36.058347Z",
     "start_time": "2022-08-02T06:25:36.055317Z"
    }
   },
   "outputs": [
    {
     "data": {
      "text/plain": [
       "12"
      ]
     },
     "execution_count": 7,
     "metadata": {},
     "output_type": "execute_result"
    }
   ],
   "source": [
    "# Get total size\n",
    "a.nbytes"
   ]
  },
  {
   "cell_type": "markdown",
   "id": "bb095e1e",
   "metadata": {},
   "source": [
    "## Accessing/Changing specific elements, rows, columns, etc"
   ]
  },
  {
   "cell_type": "code",
   "execution_count": 2,
   "id": "e2654f55",
   "metadata": {
    "ExecuteTime": {
     "end_time": "2022-08-12T12:11:38.873292Z",
     "start_time": "2022-08-12T12:11:38.755387Z"
    }
   },
   "outputs": [],
   "source": [
    "import numpy as np"
   ]
  },
  {
   "cell_type": "code",
   "execution_count": 3,
   "id": "973fface",
   "metadata": {
    "ExecuteTime": {
     "end_time": "2022-08-12T12:11:38.973236Z",
     "start_time": "2022-08-12T12:11:38.969668Z"
    }
   },
   "outputs": [
    {
     "name": "stdout",
     "output_type": "stream",
     "text": [
      "[[ 1  2  3  4  5  6  7]\n",
      " [ 8  9 10 11 12 13 14]]\n"
     ]
    }
   ],
   "source": [
    "a = np.array([[1,2,3,4,5,6,7],[8,9,10,11,12,13,14]])\n",
    "print(a)"
   ]
  },
  {
   "cell_type": "code",
   "execution_count": 14,
   "id": "8a326c4b",
   "metadata": {},
   "outputs": [
    {
     "data": {
      "text/plain": [
       "13"
      ]
     },
     "execution_count": 14,
     "metadata": {},
     "output_type": "execute_result"
    }
   ],
   "source": [
    "# Get a specific element [r, c]\n",
    "a[1, 5]"
   ]
  },
  {
   "cell_type": "code",
   "execution_count": 15,
   "id": "ff0f8c6d",
   "metadata": {},
   "outputs": [
    {
     "data": {
      "text/plain": [
       "array([1, 2, 3, 4, 5, 6, 7])"
      ]
     },
     "execution_count": 15,
     "metadata": {},
     "output_type": "execute_result"
    }
   ],
   "source": [
    "# Get a specific row \n",
    "a[0, :]"
   ]
  },
  {
   "cell_type": "code",
   "execution_count": 16,
   "id": "105d7e65",
   "metadata": {},
   "outputs": [
    {
     "data": {
      "text/plain": [
       "array([ 3, 10])"
      ]
     },
     "execution_count": 16,
     "metadata": {},
     "output_type": "execute_result"
    }
   ],
   "source": [
    "# Get a specific column\n",
    "a[:, 2]"
   ]
  },
  {
   "cell_type": "code",
   "execution_count": 4,
   "id": "cf8046be",
   "metadata": {
    "ExecuteTime": {
     "end_time": "2022-08-12T12:11:45.391166Z",
     "start_time": "2022-08-12T12:11:45.382308Z"
    }
   },
   "outputs": [
    {
     "data": {
      "text/plain": [
       "array([2, 4, 6])"
      ]
     },
     "execution_count": 4,
     "metadata": {},
     "output_type": "execute_result"
    }
   ],
   "source": [
    "#[startindex:endindex:stepsize]\n",
    "a[0, 1:6:2]"
   ]
  },
  {
   "cell_type": "code",
   "execution_count": 15,
   "id": "a26d7642",
   "metadata": {
    "ExecuteTime": {
     "end_time": "2022-08-02T06:52:50.424331Z",
     "start_time": "2022-08-02T06:52:50.421369Z"
    }
   },
   "outputs": [
    {
     "data": {
      "text/plain": [
       "array([[ 1,  2,  3,  4,  5,  6,  7],\n",
       "       [ 8,  9, 10, 11, 12, 13, 14]])"
      ]
     },
     "execution_count": 15,
     "metadata": {},
     "output_type": "execute_result"
    }
   ],
   "source": [
    "a"
   ]
  },
  {
   "cell_type": "code",
   "execution_count": 16,
   "id": "91e732e7",
   "metadata": {
    "ExecuteTime": {
     "end_time": "2022-08-02T06:53:01.404129Z",
     "start_time": "2022-08-02T06:53:01.400580Z"
    }
   },
   "outputs": [],
   "source": [
    "#updating values\n",
    "a[1,5] = 20"
   ]
  },
  {
   "cell_type": "code",
   "execution_count": 17,
   "id": "c17ba406",
   "metadata": {
    "ExecuteTime": {
     "end_time": "2022-08-02T06:53:04.360269Z",
     "start_time": "2022-08-02T06:53:04.354922Z"
    }
   },
   "outputs": [
    {
     "data": {
      "text/plain": [
       "array([[ 1,  2,  3,  4,  5,  6,  7],\n",
       "       [ 8,  9, 10, 11, 12, 20, 14]])"
      ]
     },
     "execution_count": 17,
     "metadata": {},
     "output_type": "execute_result"
    }
   ],
   "source": [
    "a"
   ]
  },
  {
   "cell_type": "code",
   "execution_count": 21,
   "id": "c3b05772",
   "metadata": {
    "ExecuteTime": {
     "end_time": "2022-08-02T06:57:30.205129Z",
     "start_time": "2022-08-02T06:57:30.202612Z"
    }
   },
   "outputs": [
    {
     "name": "stdout",
     "output_type": "stream",
     "text": [
      "[[ 1  2  5  4  5  6  7]\n",
      " [ 8  9  5 11 12 20 14]]\n"
     ]
    }
   ],
   "source": [
    "a[:,2] = 5\n",
    "print(a)"
   ]
  },
  {
   "cell_type": "code",
   "execution_count": 22,
   "id": "f5be927e",
   "metadata": {
    "ExecuteTime": {
     "end_time": "2022-08-02T06:57:36.260739Z",
     "start_time": "2022-08-02T06:57:36.257670Z"
    }
   },
   "outputs": [
    {
     "name": "stdout",
     "output_type": "stream",
     "text": [
      "[[ 1  2  1  4  5  6  7]\n",
      " [ 8  9  2 11 12 20 14]]\n"
     ]
    }
   ],
   "source": [
    "a[:,2] = [1,2]\n",
    "print(a)"
   ]
  },
  {
   "cell_type": "markdown",
   "id": "40d31e0e",
   "metadata": {},
   "source": [
    "*3-d example"
   ]
  },
  {
   "cell_type": "code",
   "execution_count": 7,
   "id": "d33a2895",
   "metadata": {
    "ExecuteTime": {
     "end_time": "2022-08-12T12:12:00.087330Z",
     "start_time": "2022-08-12T12:12:00.084364Z"
    }
   },
   "outputs": [
    {
     "name": "stdout",
     "output_type": "stream",
     "text": [
      "[[[1 2]\n",
      "  [3 4]]\n",
      "\n",
      " [[5 6]\n",
      "  [7 8]]]\n"
     ]
    }
   ],
   "source": [
    "b = np.array([[[1,2],[3,4]],[[5,6],[7,8]]])\n",
    "print(b)"
   ]
  },
  {
   "cell_type": "code",
   "execution_count": 26,
   "id": "72477560",
   "metadata": {
    "ExecuteTime": {
     "end_time": "2022-08-02T07:02:19.403273Z",
     "start_time": "2022-08-02T07:02:19.400652Z"
    }
   },
   "outputs": [
    {
     "data": {
      "text/plain": [
       "(2, 2, 2)"
      ]
     },
     "execution_count": 26,
     "metadata": {},
     "output_type": "execute_result"
    }
   ],
   "source": [
    "b.shape"
   ]
  },
  {
   "cell_type": "code",
   "execution_count": 6,
   "id": "35b0aee7",
   "metadata": {
    "ExecuteTime": {
     "end_time": "2022-08-12T12:11:56.226074Z",
     "start_time": "2022-08-12T12:11:56.222721Z"
    }
   },
   "outputs": [
    {
     "data": {
      "text/plain": [
       "4"
      ]
     },
     "execution_count": 6,
     "metadata": {},
     "output_type": "execute_result"
    }
   ],
   "source": [
    "# Get specific element (work outside in)\n",
    "b[0,1,1]"
   ]
  },
  {
   "cell_type": "code",
   "execution_count": 33,
   "id": "268e8a0d",
   "metadata": {
    "ExecuteTime": {
     "end_time": "2022-08-02T07:06:56.613181Z",
     "start_time": "2022-08-02T07:06:56.609927Z"
    }
   },
   "outputs": [
    {
     "data": {
      "text/plain": [
       "array([[3, 4],\n",
       "       [7, 8]])"
      ]
     },
     "execution_count": 33,
     "metadata": {},
     "output_type": "execute_result"
    }
   ],
   "source": [
    "b[:,1,:]"
   ]
  },
  {
   "cell_type": "code",
   "execution_count": 37,
   "id": "f31e66a4",
   "metadata": {
    "ExecuteTime": {
     "end_time": "2022-08-02T07:10:33.130407Z",
     "start_time": "2022-08-02T07:10:33.127262Z"
    }
   },
   "outputs": [
    {
     "data": {
      "text/plain": [
       "array([[3, 4],\n",
       "       [7, 8]])"
      ]
     },
     "execution_count": 37,
     "metadata": {},
     "output_type": "execute_result"
    }
   ],
   "source": [
    "b[:,1]"
   ]
  },
  {
   "cell_type": "code",
   "execution_count": 8,
   "id": "fec65342",
   "metadata": {
    "ExecuteTime": {
     "end_time": "2022-08-12T12:15:47.928963Z",
     "start_time": "2022-08-12T12:15:47.925761Z"
    }
   },
   "outputs": [
    {
     "data": {
      "text/plain": [
       "array([[[1, 2],\n",
       "        [3, 4]],\n",
       "\n",
       "       [[5, 6],\n",
       "        [7, 8]]])"
      ]
     },
     "execution_count": 8,
     "metadata": {},
     "output_type": "execute_result"
    }
   ],
   "source": [
    "b"
   ]
  },
  {
   "cell_type": "code",
   "execution_count": 32,
   "id": "f76840c4",
   "metadata": {
    "ExecuteTime": {
     "end_time": "2022-08-02T07:06:52.302188Z",
     "start_time": "2022-08-02T07:06:52.299237Z"
    }
   },
   "outputs": [
    {
     "data": {
      "text/plain": [
       "array([4, 8])"
      ]
     },
     "execution_count": 32,
     "metadata": {},
     "output_type": "execute_result"
    }
   ],
   "source": [
    "b[:,1,-1]"
   ]
  },
  {
   "cell_type": "code",
   "execution_count": 40,
   "id": "6e049b00",
   "metadata": {
    "ExecuteTime": {
     "end_time": "2022-08-02T07:11:44.995596Z",
     "start_time": "2022-08-02T07:11:44.993260Z"
    }
   },
   "outputs": [],
   "source": [
    "# replace \n",
    "b[:,1,:] = [[9,9],[8,8]]"
   ]
  },
  {
   "cell_type": "code",
   "execution_count": 41,
   "id": "ae72873d",
   "metadata": {
    "ExecuteTime": {
     "end_time": "2022-08-02T07:11:48.832066Z",
     "start_time": "2022-08-02T07:11:48.828150Z"
    }
   },
   "outputs": [
    {
     "data": {
      "text/plain": [
       "array([[[1, 2],\n",
       "        [9, 9]],\n",
       "\n",
       "       [[5, 6],\n",
       "        [8, 8]]])"
      ]
     },
     "execution_count": 41,
     "metadata": {},
     "output_type": "execute_result"
    }
   ],
   "source": [
    "b"
   ]
  },
  {
   "cell_type": "markdown",
   "id": "edc8a1a7",
   "metadata": {},
   "source": [
    "## Initializing Different Types of Arrays"
   ]
  },
  {
   "cell_type": "markdown",
   "id": "a4feed53",
   "metadata": {},
   "source": [
    "### numpy.zeros() and numpy.ones()\n",
    "\n",
    "  > numpy.zeros(shape, dtype=float, order='C')\n",
    "  \n",
    "  \n",
    "  \n",
    "  \n",
    "  > numpy.ones(shape, dtype=float, order='C')\n",
    "\n",
    " - Shape: is the shape of the array\n",
    " - Dtype: is the datatype. It is optional. The default value is float64\n",
    " - Order: Default is C which is an essential row style."
   ]
  },
  {
   "cell_type": "code",
   "execution_count": 40,
   "id": "ff68b700",
   "metadata": {},
   "outputs": [
    {
     "data": {
      "text/plain": [
       "array([[0., 0., 0.],\n",
       "       [0., 0., 0.]])"
      ]
     },
     "execution_count": 40,
     "metadata": {},
     "output_type": "execute_result"
    }
   ],
   "source": [
    "# All 0s matrix\n",
    "np.zeros((2,3))"
   ]
  },
  {
   "cell_type": "code",
   "execution_count": 42,
   "id": "3e2883d1",
   "metadata": {},
   "outputs": [
    {
     "data": {
      "text/plain": [
       "array([[[1, 1],\n",
       "        [1, 1]],\n",
       "\n",
       "       [[1, 1],\n",
       "        [1, 1]],\n",
       "\n",
       "       [[1, 1],\n",
       "        [1, 1]],\n",
       "\n",
       "       [[1, 1],\n",
       "        [1, 1]]])"
      ]
     },
     "execution_count": 42,
     "metadata": {},
     "output_type": "execute_result"
    }
   ],
   "source": [
    "# All 1s matrix\n",
    "np.ones((4,2,2), dtype='int32')"
   ]
  },
  {
   "cell_type": "markdown",
   "id": "fccf9f28",
   "metadata": {},
   "source": [
    "### Any other number"
   ]
  },
  {
   "cell_type": "code",
   "execution_count": 43,
   "id": "3e632f06",
   "metadata": {
    "ExecuteTime": {
     "end_time": "2022-08-02T07:23:18.186942Z",
     "start_time": "2022-08-02T07:23:18.183806Z"
    }
   },
   "outputs": [
    {
     "data": {
      "text/plain": [
       "array([[99, 99],\n",
       "       [99, 99]])"
      ]
     },
     "execution_count": 43,
     "metadata": {},
     "output_type": "execute_result"
    }
   ],
   "source": [
    "np.full((2,2), 99)"
   ]
  },
  {
   "cell_type": "code",
   "execution_count": 42,
   "id": "36819498",
   "metadata": {
    "ExecuteTime": {
     "end_time": "2022-08-02T07:22:51.106423Z",
     "start_time": "2022-08-02T07:22:51.100193Z"
    }
   },
   "outputs": [
    {
     "data": {
      "text/plain": [
       "array([[ 1,  2,  1,  4,  5,  6,  7],\n",
       "       [ 8,  9,  2, 11, 12, 20, 14]])"
      ]
     },
     "execution_count": 42,
     "metadata": {},
     "output_type": "execute_result"
    }
   ],
   "source": [
    "a"
   ]
  },
  {
   "cell_type": "code",
   "execution_count": 49,
   "id": "8b01b72e",
   "metadata": {},
   "outputs": [
    {
     "data": {
      "text/plain": [
       "array([[4, 4, 4, 4, 4, 4, 4],\n",
       "       [4, 4, 4, 4, 4, 4, 4]])"
      ]
     },
     "execution_count": 49,
     "metadata": {},
     "output_type": "execute_result"
    }
   ],
   "source": [
    "# Any other number (full_like)\n",
    "np.full_like(a, 4)"
   ]
  },
  {
   "cell_type": "code",
   "execution_count": 56,
   "id": "3f4d0ae4",
   "metadata": {},
   "outputs": [
    {
     "data": {
      "text/plain": [
       "array([[0.07805642, 0.53385716],\n",
       "       [0.02494273, 0.99955252],\n",
       "       [0.48588042, 0.91247437],\n",
       "       [0.27779213, 0.16597751]])"
      ]
     },
     "execution_count": 56,
     "metadata": {},
     "output_type": "execute_result"
    }
   ],
   "source": [
    "# Random decimal numbers\n",
    "np.random.rand(4,2)"
   ]
  },
  {
   "cell_type": "code",
   "execution_count": 52,
   "id": "cc49e99b",
   "metadata": {
    "ExecuteTime": {
     "end_time": "2022-08-02T07:28:37.655444Z",
     "start_time": "2022-08-02T07:28:37.652128Z"
    }
   },
   "outputs": [
    {
     "data": {
      "text/plain": [
       "array([[[0.11426733, 0.7528376 , 0.458828  ],\n",
       "        [0.39188324, 0.86018057, 0.44171786]],\n",
       "\n",
       "       [[0.85079364, 0.73462054, 0.94040359],\n",
       "        [0.26869717, 0.09139286, 0.94434725]],\n",
       "\n",
       "       [[0.6786534 , 0.9257471 , 0.64248612],\n",
       "        [0.44003707, 0.39201051, 0.53666009]],\n",
       "\n",
       "       [[0.4526758 , 0.39166088, 0.60441357],\n",
       "        [0.74940488, 0.48877775, 0.54336456]]])"
      ]
     },
     "execution_count": 52,
     "metadata": {},
     "output_type": "execute_result"
    }
   ],
   "source": [
    "np.random.rand(4,2,3)"
   ]
  },
  {
   "cell_type": "code",
   "execution_count": 61,
   "id": "de15baa0",
   "metadata": {
    "ExecuteTime": {
     "end_time": "2022-08-02T10:22:06.004938Z",
     "start_time": "2022-08-02T10:22:05.993127Z"
    }
   },
   "outputs": [],
   "source": [
    "#np.random.rand(4,2,3,4,5)"
   ]
  },
  {
   "cell_type": "code",
   "execution_count": null,
   "id": "521ee361",
   "metadata": {},
   "outputs": [],
   "source": []
  },
  {
   "cell_type": "code",
   "execution_count": null,
   "id": "a6724065",
   "metadata": {},
   "outputs": [],
   "source": []
  },
  {
   "cell_type": "code",
   "execution_count": 73,
   "id": "9efe0cf0",
   "metadata": {},
   "outputs": [
    {
     "data": {
      "text/plain": [
       "array([[-2, -4, -4],\n",
       "       [ 6,  6,  3],\n",
       "       [ 3,  2,  2]])"
      ]
     },
     "execution_count": 73,
     "metadata": {},
     "output_type": "execute_result"
    }
   ],
   "source": [
    "# Random Integer values\n",
    "np.random.randint(-4,8, size=(3,3))"
   ]
  },
  {
   "cell_type": "code",
   "execution_count": 76,
   "id": "22c63598",
   "metadata": {
    "scrolled": false
   },
   "outputs": [
    {
     "data": {
      "text/plain": [
       "array([[1., 0., 0., 0., 0.],\n",
       "       [0., 1., 0., 0., 0.],\n",
       "       [0., 0., 1., 0., 0.],\n",
       "       [0., 0., 0., 1., 0.],\n",
       "       [0., 0., 0., 0., 1.]])"
      ]
     },
     "execution_count": 76,
     "metadata": {},
     "output_type": "execute_result"
    }
   ],
   "source": [
    "# The identity matrix\n",
    "np.identity(5)"
   ]
  },
  {
   "cell_type": "code",
   "execution_count": null,
   "id": "dbba68ad",
   "metadata": {},
   "outputs": [],
   "source": []
  },
  {
   "cell_type": "code",
   "execution_count": 60,
   "id": "064d8436",
   "metadata": {
    "ExecuteTime": {
     "end_time": "2022-08-02T09:54:25.418549Z",
     "start_time": "2022-08-02T09:54:25.369873Z"
    }
   },
   "outputs": [
    {
     "name": "stdout",
     "output_type": "stream",
     "text": [
      "[[1. 1. 1. 1. 1.]\n",
      " [1. 1. 1. 1. 1.]\n",
      " [1. 1. 1. 1. 1.]\n",
      " [1. 1. 1. 1. 1.]\n",
      " [1. 1. 1. 1. 1.]]\n",
      "[[0. 0. 0.]\n",
      " [0. 9. 0.]\n",
      " [0. 0. 0.]]\n",
      "[[1. 1. 1. 1. 1.]\n",
      " [1. 0. 0. 0. 1.]\n",
      " [1. 0. 9. 0. 1.]\n",
      " [1. 0. 0. 0. 1.]\n",
      " [1. 1. 1. 1. 1.]]\n"
     ]
    }
   ],
   "source": [
    "# put this in inclass exercise\n",
    "\n",
    "output = np.ones((5,5))\n",
    "print(output)\n",
    "\n",
    "z = np.zeros((3,3))\n",
    "z[1,1] = 9\n",
    "print(z)\n",
    "\n",
    "output[1:-1,1:-1] = z\n",
    "print(output)"
   ]
  },
  {
   "cell_type": "markdown",
   "id": "8fcc44c1",
   "metadata": {},
   "source": [
    "##### How to copy arrays"
   ]
  },
  {
   "cell_type": "code",
   "execution_count": 98,
   "id": "55c31d80",
   "metadata": {},
   "outputs": [
    {
     "name": "stdout",
     "output_type": "stream",
     "text": [
      "[1 2 3]\n"
     ]
    }
   ],
   "source": [
    "a = np.array([1,2,3])\n",
    "b = a.copy()\n",
    "b[0] = 100\n",
    "\n",
    "print(a)"
   ]
  },
  {
   "cell_type": "markdown",
   "id": "ff0cba4f",
   "metadata": {},
   "source": [
    "## Mathematics"
   ]
  },
  {
   "cell_type": "code",
   "execution_count": 62,
   "id": "ef240c89",
   "metadata": {
    "ExecuteTime": {
     "end_time": "2022-08-02T10:23:24.891389Z",
     "start_time": "2022-08-02T10:23:24.880985Z"
    }
   },
   "outputs": [
    {
     "name": "stdout",
     "output_type": "stream",
     "text": [
      "[1 2 3 4]\n"
     ]
    }
   ],
   "source": [
    "a = np.array([1,2,3,4])\n",
    "print(a)"
   ]
  },
  {
   "cell_type": "code",
   "execution_count": 109,
   "id": "77f52500",
   "metadata": {},
   "outputs": [
    {
     "data": {
      "text/plain": [
       "array([5, 6, 7, 8])"
      ]
     },
     "execution_count": 109,
     "metadata": {},
     "output_type": "execute_result"
    }
   ],
   "source": [
    "a + 2"
   ]
  },
  {
   "cell_type": "code",
   "execution_count": 102,
   "id": "182a6f09",
   "metadata": {},
   "outputs": [
    {
     "data": {
      "text/plain": [
       "array([-1,  0,  1,  2])"
      ]
     },
     "execution_count": 102,
     "metadata": {},
     "output_type": "execute_result"
    }
   ],
   "source": [
    "a - 2"
   ]
  },
  {
   "cell_type": "code",
   "execution_count": 103,
   "id": "0c5f47b2",
   "metadata": {},
   "outputs": [
    {
     "data": {
      "text/plain": [
       "array([2, 4, 6, 8])"
      ]
     },
     "execution_count": 103,
     "metadata": {},
     "output_type": "execute_result"
    }
   ],
   "source": [
    "a * 2"
   ]
  },
  {
   "cell_type": "code",
   "execution_count": 104,
   "id": "98632db8",
   "metadata": {},
   "outputs": [
    {
     "data": {
      "text/plain": [
       "array([0.5, 1. , 1.5, 2. ])"
      ]
     },
     "execution_count": 104,
     "metadata": {},
     "output_type": "execute_result"
    }
   ],
   "source": [
    "a / 2"
   ]
  },
  {
   "cell_type": "code",
   "execution_count": 63,
   "id": "2bd91e57",
   "metadata": {
    "ExecuteTime": {
     "end_time": "2022-08-02T10:23:26.467185Z",
     "start_time": "2022-08-02T10:23:26.457948Z"
    }
   },
   "outputs": [
    {
     "data": {
      "text/plain": [
       "array([2, 2, 4, 4])"
      ]
     },
     "execution_count": 63,
     "metadata": {},
     "output_type": "execute_result"
    }
   ],
   "source": [
    "b = np.array([1,0,1,0])\n",
    "a + b"
   ]
  },
  {
   "cell_type": "code",
   "execution_count": 113,
   "id": "9747d7bb",
   "metadata": {},
   "outputs": [
    {
     "data": {
      "text/plain": [
       "array([ 1,  4,  9, 16], dtype=int32)"
      ]
     },
     "execution_count": 113,
     "metadata": {},
     "output_type": "execute_result"
    }
   ],
   "source": [
    "a ** 2"
   ]
  },
  {
   "cell_type": "code",
   "execution_count": 116,
   "id": "39cce6b9",
   "metadata": {},
   "outputs": [
    {
     "data": {
      "text/plain": [
       "array([ 0.54030231, -0.41614684, -0.9899925 , -0.65364362])"
      ]
     },
     "execution_count": 116,
     "metadata": {},
     "output_type": "execute_result"
    }
   ],
   "source": [
    "# Take the cosine\n",
    "np.cos(a)\n",
    "\n"
   ]
  },
  {
   "cell_type": "markdown",
   "id": "3a69a3a0",
   "metadata": {},
   "source": [
    "##### Linear Algebra"
   ]
  },
  {
   "cell_type": "code",
   "execution_count": 64,
   "id": "aa4adaf7",
   "metadata": {
    "ExecuteTime": {
     "end_time": "2022-08-02T10:26:29.011522Z",
     "start_time": "2022-08-02T10:26:29.000632Z"
    }
   },
   "outputs": [
    {
     "name": "stdout",
     "output_type": "stream",
     "text": [
      "[[1. 1. 1.]\n",
      " [1. 1. 1.]]\n",
      "[[2 2]\n",
      " [2 2]\n",
      " [2 2]]\n"
     ]
    },
    {
     "data": {
      "text/plain": [
       "array([[6., 6.],\n",
       "       [6., 6.]])"
      ]
     },
     "execution_count": 64,
     "metadata": {},
     "output_type": "execute_result"
    }
   ],
   "source": [
    "a = np.ones((2,3))\n",
    "print(a)\n",
    "\n",
    "b = np.full((3,2), 2)\n",
    "print(b)\n",
    "\n",
    "np.matmul(a,b)"
   ]
  },
  {
   "cell_type": "code",
   "execution_count": 132,
   "id": "8cdf076d",
   "metadata": {},
   "outputs": [
    {
     "data": {
      "text/plain": [
       "1.0"
      ]
     },
     "execution_count": 132,
     "metadata": {},
     "output_type": "execute_result"
    }
   ],
   "source": [
    "# Find the determinant\n",
    "c = np.identity(3)\n",
    "np.linalg.det(c)"
   ]
  },
  {
   "cell_type": "code",
   "execution_count": null,
   "id": "44b81b59",
   "metadata": {},
   "outputs": [],
   "source": []
  },
  {
   "cell_type": "code",
   "execution_count": 85,
   "id": "a5c0eefd",
   "metadata": {
    "ExecuteTime": {
     "end_time": "2022-08-12T14:29:05.177586Z",
     "start_time": "2022-08-12T14:29:05.174900Z"
    }
   },
   "outputs": [
    {
     "name": "stdout",
     "output_type": "stream",
     "text": [
      "31\n"
     ]
    }
   ],
   "source": [
    "# How to find the closest value (to a given scalar) in a vector? \n",
    "\n",
    "Z = np.array([5,31,123,20,15])\n",
    "v = 36\n",
    "\n",
    "index = (np.abs(Z-v)).argmin()\n",
    "print(Z[index])"
   ]
  },
  {
   "cell_type": "code",
   "execution_count": null,
   "id": "902c88d2",
   "metadata": {},
   "outputs": [],
   "source": []
  },
  {
   "cell_type": "markdown",
   "id": "4a317be0",
   "metadata": {},
   "source": [
    "##### Statistics"
   ]
  },
  {
   "cell_type": "code",
   "execution_count": 38,
   "id": "24a0ba7f",
   "metadata": {
    "ExecuteTime": {
     "end_time": "2022-08-03T09:04:37.824077Z",
     "start_time": "2022-08-03T09:04:37.820635Z"
    }
   },
   "outputs": [
    {
     "data": {
      "text/plain": [
       "array([[1, 2, 3],\n",
       "       [4, 5, 6]])"
      ]
     },
     "execution_count": 38,
     "metadata": {},
     "output_type": "execute_result"
    }
   ],
   "source": [
    "stats = np.array([[1,2,3],[4,5,6]])\n",
    "stats"
   ]
  },
  {
   "cell_type": "code",
   "execution_count": 139,
   "id": "40cd0dc0",
   "metadata": {},
   "outputs": [
    {
     "data": {
      "text/plain": [
       "1"
      ]
     },
     "execution_count": 139,
     "metadata": {},
     "output_type": "execute_result"
    }
   ],
   "source": [
    "np.min(stats)"
   ]
  },
  {
   "cell_type": "code",
   "execution_count": 39,
   "id": "7de65487",
   "metadata": {
    "ExecuteTime": {
     "end_time": "2022-08-03T09:04:38.645030Z",
     "start_time": "2022-08-03T09:04:38.640660Z"
    }
   },
   "outputs": [
    {
     "data": {
      "text/plain": [
       "6"
      ]
     },
     "execution_count": 39,
     "metadata": {},
     "output_type": "execute_result"
    }
   ],
   "source": [
    "np.max(stats)"
   ]
  },
  {
   "cell_type": "code",
   "execution_count": 141,
   "id": "ff8840c6",
   "metadata": {},
   "outputs": [
    {
     "data": {
      "text/plain": [
       "array([3, 6])"
      ]
     },
     "execution_count": 141,
     "metadata": {},
     "output_type": "execute_result"
    }
   ],
   "source": [
    "np.max(stats, axis=1)"
   ]
  },
  {
   "cell_type": "code",
   "execution_count": 143,
   "id": "bfd5ed68",
   "metadata": {},
   "outputs": [
    {
     "data": {
      "text/plain": [
       "array([5, 7, 9])"
      ]
     },
     "execution_count": 143,
     "metadata": {},
     "output_type": "execute_result"
    }
   ],
   "source": [
    "np.sum(stats, axis=0)"
   ]
  },
  {
   "cell_type": "code",
   "execution_count": null,
   "id": "b81769ed",
   "metadata": {},
   "outputs": [],
   "source": [
    "### Mean \n",
    "print(np.mean(normal_array))\n",
    "\n",
    "### Median\n",
    "print(np.median(normal_array))\n",
    "\n",
    "### Sd\n",
    "print(np.std(normal_array))"
   ]
  },
  {
   "cell_type": "code",
   "execution_count": null,
   "id": "c8e924cd",
   "metadata": {},
   "outputs": [],
   "source": []
  },
  {
   "cell_type": "code",
   "execution_count": 99,
   "id": "09458616",
   "metadata": {
    "ExecuteTime": {
     "end_time": "2022-08-12T14:36:21.796691Z",
     "start_time": "2022-08-12T14:36:21.779943Z"
    }
   },
   "outputs": [
    {
     "data": {
      "text/plain": [
       "array([[5, 9, 5, 7, 9],\n",
       "       [7, 9, 7, 8, 6],\n",
       "       [6, 6, 7, 8, 7],\n",
       "       [5, 9, 7, 9, 5],\n",
       "       [7, 5, 9, 8, 6]])"
      ]
     },
     "execution_count": 99,
     "metadata": {},
     "output_type": "execute_result"
    }
   ],
   "source": [
    "X = np.array([[5, 9, 5, 7, 9],\n",
    "       [7, 9, 7, 8, 6],\n",
    "       [6, 6, 7, 8, 7],\n",
    "       [5, 9, 7, 9, 5],\n",
    "       [7, 5, 9, 8, 6]])\n",
    "X"
   ]
  },
  {
   "cell_type": "code",
   "execution_count": 100,
   "id": "ad1afc85",
   "metadata": {
    "ExecuteTime": {
     "end_time": "2022-08-12T14:36:23.086508Z",
     "start_time": "2022-08-12T14:36:23.083453Z"
    }
   },
   "outputs": [
    {
     "data": {
      "text/plain": [
       "array([[7. ],\n",
       "       [7.4],\n",
       "       [6.8],\n",
       "       [7. ],\n",
       "       [7. ]])"
      ]
     },
     "execution_count": 100,
     "metadata": {},
     "output_type": "execute_result"
    }
   ],
   "source": [
    "#mean of X\n",
    "X.mean(axis=1, keepdims=True)"
   ]
  },
  {
   "cell_type": "code",
   "execution_count": null,
   "id": "f0dec2c9",
   "metadata": {},
   "outputs": [],
   "source": []
  },
  {
   "cell_type": "markdown",
   "id": "42cc8b09",
   "metadata": {},
   "source": [
    "##### Boolean Masking and Advanced Indexing"
   ]
  },
  {
   "cell_type": "code",
   "execution_count": 2,
   "id": "e9776fa2",
   "metadata": {
    "ExecuteTime": {
     "end_time": "2022-08-03T02:59:17.789930Z",
     "start_time": "2022-08-03T02:59:17.688358Z"
    }
   },
   "outputs": [],
   "source": [
    "import numpy as np"
   ]
  },
  {
   "cell_type": "code",
   "execution_count": 8,
   "id": "60963697",
   "metadata": {
    "ExecuteTime": {
     "end_time": "2022-08-03T02:59:58.380605Z",
     "start_time": "2022-08-03T02:59:58.377537Z"
    }
   },
   "outputs": [],
   "source": [
    "# Random Integer values\n",
    "a = np.random.randint(5,100, size=(1,50))"
   ]
  },
  {
   "cell_type": "code",
   "execution_count": 9,
   "id": "0fe869d8",
   "metadata": {
    "ExecuteTime": {
     "end_time": "2022-08-03T02:59:58.590637Z",
     "start_time": "2022-08-03T02:59:58.585162Z"
    }
   },
   "outputs": [
    {
     "data": {
      "text/plain": [
       "array([[80, 35, 97, 49, 34, 91,  7, 73, 89, 47, 41, 16, 52, 25,  8, 92,\n",
       "        23, 22, 64, 46, 87, 63, 26,  7, 85, 88, 85, 29, 92, 14, 52, 85,\n",
       "        79, 51, 62, 45, 97, 29, 24, 75, 58, 58, 88, 75, 47, 55, 94, 43,\n",
       "        98, 12]])"
      ]
     },
     "execution_count": 9,
     "metadata": {},
     "output_type": "execute_result"
    }
   ],
   "source": [
    "a"
   ]
  },
  {
   "cell_type": "code",
   "execution_count": 10,
   "id": "f13a62d3",
   "metadata": {
    "ExecuteTime": {
     "end_time": "2022-08-03T03:00:01.557353Z",
     "start_time": "2022-08-03T03:00:01.553372Z"
    }
   },
   "outputs": [
    {
     "data": {
      "text/plain": [
       "array([[False,  True, False,  True,  True, False,  True, False, False,\n",
       "         True,  True,  True, False,  True,  True, False,  True,  True,\n",
       "        False,  True, False, False,  True,  True, False, False, False,\n",
       "         True, False,  True, False, False, False, False, False,  True,\n",
       "        False,  True,  True, False, False, False, False, False,  True,\n",
       "        False, False,  True, False,  True]])"
      ]
     },
     "execution_count": 10,
     "metadata": {},
     "output_type": "execute_result"
    }
   ],
   "source": [
    "a < 50"
   ]
  },
  {
   "cell_type": "code",
   "execution_count": 11,
   "id": "18bb7f74",
   "metadata": {
    "ExecuteTime": {
     "end_time": "2022-08-03T03:00:24.027444Z",
     "start_time": "2022-08-03T03:00:24.024541Z"
    }
   },
   "outputs": [
    {
     "data": {
      "text/plain": [
       "array([35, 49, 34,  7, 47, 41, 16, 25,  8, 23, 22, 46, 26,  7, 29, 14, 45,\n",
       "       29, 24, 47, 43, 12])"
      ]
     },
     "execution_count": 11,
     "metadata": {},
     "output_type": "execute_result"
    }
   ],
   "source": [
    "a[a<50]"
   ]
  },
  {
   "cell_type": "code",
   "execution_count": 17,
   "id": "a6fc945e",
   "metadata": {
    "ExecuteTime": {
     "end_time": "2022-08-10T09:26:37.043575Z",
     "start_time": "2022-08-10T09:26:37.039230Z"
    }
   },
   "outputs": [
    {
     "name": "stdout",
     "output_type": "stream",
     "text": [
      "[ 80 100]\n"
     ]
    }
   ],
   "source": [
    "# select numbers greater than 50 \n",
    "a = np.array([10, 40, 80, 50, 100]) \n",
    "print(a[a>50]) "
   ]
  },
  {
   "cell_type": "code",
   "execution_count": 18,
   "id": "a54fea51",
   "metadata": {
    "ExecuteTime": {
     "end_time": "2022-08-10T09:26:44.214680Z",
     "start_time": "2022-08-10T09:26:44.210514Z"
    }
   },
   "outputs": [
    {
     "name": "stdout",
     "output_type": "stream",
     "text": [
      "[1600 6400]\n"
     ]
    }
   ],
   "source": [
    "# square the multiples of 40  \n",
    "a = np.array([10, 40, 80, 50, 100]) \n",
    "print(a[a%40==0]**2) "
   ]
  },
  {
   "cell_type": "code",
   "execution_count": null,
   "id": "f8428013",
   "metadata": {},
   "outputs": [],
   "source": []
  },
  {
   "cell_type": "code",
   "execution_count": null,
   "id": "41094934",
   "metadata": {},
   "outputs": [],
   "source": []
  },
  {
   "cell_type": "code",
   "execution_count": 101,
   "id": "03dc5fdc",
   "metadata": {
    "ExecuteTime": {
     "end_time": "2022-08-12T14:41:24.590831Z",
     "start_time": "2022-08-12T14:41:24.588624Z"
    }
   },
   "outputs": [],
   "source": [
    "b = np.array([[26, 58, 20, 90,  7],\n",
    "               [71, 31, 89, 36, 18],\n",
    "               [26, 50, 18, 67, 50],\n",
    "               [87,  5, 15, 70, 82]])\n"
   ]
  },
  {
   "cell_type": "code",
   "execution_count": 78,
   "id": "30f13592",
   "metadata": {
    "ExecuteTime": {
     "end_time": "2022-08-12T14:13:41.466896Z",
     "start_time": "2022-08-12T14:13:41.464054Z"
    }
   },
   "outputs": [
    {
     "data": {
      "text/plain": [
       "array([[26, 58, 20, 90,  7],\n",
       "       [71, 31, 89, 36, 18],\n",
       "       [26, 50, 18, 67, 50],\n",
       "       [87,  5, 15, 70, 82]])"
      ]
     },
     "execution_count": 78,
     "metadata": {},
     "output_type": "execute_result"
    }
   ],
   "source": [
    "b"
   ]
  },
  {
   "cell_type": "code",
   "execution_count": 12,
   "id": "c30eabc1",
   "metadata": {
    "ExecuteTime": {
     "end_time": "2022-08-12T12:19:02.744704Z",
     "start_time": "2022-08-12T12:19:02.740822Z"
    }
   },
   "outputs": [
    {
     "data": {
      "text/plain": [
       "(4, 5)"
      ]
     },
     "execution_count": 12,
     "metadata": {},
     "output_type": "execute_result"
    }
   ],
   "source": [
    "b.shape"
   ]
  },
  {
   "cell_type": "code",
   "execution_count": 16,
   "id": "26370b80",
   "metadata": {
    "ExecuteTime": {
     "end_time": "2022-08-12T12:19:57.964203Z",
     "start_time": "2022-08-12T12:19:57.960735Z"
    }
   },
   "outputs": [
    {
     "data": {
      "text/plain": [
       "array([[36, 18],\n",
       "       [67, 50]])"
      ]
     },
     "execution_count": 16,
     "metadata": {},
     "output_type": "execute_result"
    }
   ],
   "source": [
    "b[1:3,3:5]"
   ]
  },
  {
   "cell_type": "code",
   "execution_count": 10,
   "id": "79e2fa4c",
   "metadata": {
    "ExecuteTime": {
     "end_time": "2022-08-12T12:17:47.445501Z",
     "start_time": "2022-08-12T12:17:47.442070Z"
    }
   },
   "outputs": [
    {
     "data": {
      "text/plain": [
       "array([[26, 58, 20, 90,  7],\n",
       "       [71, 31, 89, 36, 18],\n",
       "       [26, 50, 18, 67, 50],\n",
       "       [87,  5, 15, 70, 82]])"
      ]
     },
     "execution_count": 10,
     "metadata": {},
     "output_type": "execute_result"
    }
   ],
   "source": [
    "b"
   ]
  },
  {
   "cell_type": "markdown",
   "id": "66faaed1",
   "metadata": {},
   "source": [
    "get [36, 18\n",
    "\n",
    "    67,50]\n",
    "\n",
    "get [20, 36, 50]\n",
    "\n",
    "get [90,7, 67, 50 , 70, 82]"
   ]
  },
  {
   "cell_type": "code",
   "execution_count": 18,
   "id": "5041820c",
   "metadata": {
    "ExecuteTime": {
     "end_time": "2022-08-03T03:08:34.404113Z",
     "start_time": "2022-08-03T03:08:34.397931Z"
    }
   },
   "outputs": [
    {
     "data": {
      "text/plain": [
       "array([[36, 18],\n",
       "       [67, 50]])"
      ]
     },
     "execution_count": 18,
     "metadata": {},
     "output_type": "execute_result"
    }
   ],
   "source": [
    "b[1:3,3:5]"
   ]
  },
  {
   "cell_type": "code",
   "execution_count": 18,
   "id": "761e3fac",
   "metadata": {
    "ExecuteTime": {
     "end_time": "2022-08-12T12:22:34.721474Z",
     "start_time": "2022-08-12T12:22:34.718403Z"
    }
   },
   "outputs": [
    {
     "data": {
      "text/plain": [
       "array([[26, 58, 20, 90,  7],\n",
       "       [71, 31, 89, 36, 18],\n",
       "       [26, 50, 18, 67, 50],\n",
       "       [87,  5, 15, 70, 82]])"
      ]
     },
     "execution_count": 18,
     "metadata": {},
     "output_type": "execute_result"
    }
   ],
   "source": [
    "b"
   ]
  },
  {
   "cell_type": "code",
   "execution_count": 23,
   "id": "2d168f15",
   "metadata": {
    "ExecuteTime": {
     "end_time": "2022-08-12T12:28:02.532589Z",
     "start_time": "2022-08-12T12:28:02.529851Z"
    }
   },
   "outputs": [
    {
     "data": {
      "text/plain": [
       "(4, 5)"
      ]
     },
     "execution_count": 23,
     "metadata": {},
     "output_type": "execute_result"
    }
   ],
   "source": [
    "b.shape"
   ]
  },
  {
   "cell_type": "code",
   "execution_count": 21,
   "id": "3f1bffa1",
   "metadata": {
    "ExecuteTime": {
     "end_time": "2022-08-12T12:25:11.160910Z",
     "start_time": "2022-08-12T12:25:11.157799Z"
    }
   },
   "outputs": [
    {
     "data": {
      "text/plain": [
       "array([[26, 58, 20, 90,  7],\n",
       "       [71, 31, 89, 36, 18],\n",
       "       [26, 50, 18, 67, 50]])"
      ]
     },
     "execution_count": 21,
     "metadata": {},
     "output_type": "execute_result"
    }
   ],
   "source": [
    "b[[0,1,2]]"
   ]
  },
  {
   "cell_type": "code",
   "execution_count": 17,
   "id": "e82516c4",
   "metadata": {
    "ExecuteTime": {
     "end_time": "2022-08-12T12:22:28.294329Z",
     "start_time": "2022-08-12T12:22:28.291236Z"
    }
   },
   "outputs": [
    {
     "data": {
      "text/plain": [
       "array([20, 36, 50])"
      ]
     },
     "execution_count": 17,
     "metadata": {},
     "output_type": "execute_result"
    }
   ],
   "source": [
    "b[[0,1,2],[2,3,4]]"
   ]
  },
  {
   "cell_type": "code",
   "execution_count": 24,
   "id": "c0ade559",
   "metadata": {
    "ExecuteTime": {
     "end_time": "2022-08-03T03:12:46.644437Z",
     "start_time": "2022-08-03T03:12:46.641275Z"
    }
   },
   "outputs": [
    {
     "data": {
      "text/plain": [
       "array([[90,  7],\n",
       "       [67, 50],\n",
       "       [70, 82]])"
      ]
     },
     "execution_count": 24,
     "metadata": {},
     "output_type": "execute_result"
    }
   ],
   "source": [
    "b[[0,2,3],3:]"
   ]
  },
  {
   "cell_type": "code",
   "execution_count": null,
   "id": "cfd6464b",
   "metadata": {},
   "outputs": [],
   "source": []
  },
  {
   "cell_type": "code",
   "execution_count": 42,
   "id": "f0755305",
   "metadata": {
    "ExecuteTime": {
     "end_time": "2022-08-12T12:36:59.580750Z",
     "start_time": "2022-08-12T12:36:59.577409Z"
    }
   },
   "outputs": [],
   "source": [
    "c = np.array([[[12,  8,  6,  8,  5],\n",
    "        [18, 13, 15, 14, 18],\n",
    "        [13,  9, 16,  4, 16]],\n",
    "\n",
    "       [[16, 19,  7,  9,  5],\n",
    "        [14, 10, 17, 10,  5],\n",
    "        [15,  3, 10,  9,  3]],\n",
    "\n",
    "       [[ 1,  6,  5,  6,  9],\n",
    "        [ 1, 16, 10,  8, 15],\n",
    "        [ 1,  2,  2, 10,  2]],\n",
    "\n",
    "       [[19, 12, 13,  1,  4],\n",
    "        [ 5,  3, 10,  8,  6],\n",
    "        [ 9, 11, 14,  7, 12]],\n",
    "\n",
    "       [[ 1,  9, 13, 18,  8],\n",
    "        [10, 19,  1, 16, 18],\n",
    "        [ 1,  6,  2, 14,  5]]])"
   ]
  },
  {
   "cell_type": "code",
   "execution_count": null,
   "id": "da77c556",
   "metadata": {},
   "outputs": [],
   "source": [
    "b[[0,1,2],[2,3,4]]"
   ]
  },
  {
   "cell_type": "code",
   "execution_count": 55,
   "id": "eb366306",
   "metadata": {
    "ExecuteTime": {
     "end_time": "2022-08-12T12:46:25.794845Z",
     "start_time": "2022-08-12T12:46:25.792386Z"
    }
   },
   "outputs": [],
   "source": [
    "d = np.random.randint(5,20, size=(2,3,2,3))"
   ]
  },
  {
   "cell_type": "code",
   "execution_count": 56,
   "id": "0664afdc",
   "metadata": {
    "ExecuteTime": {
     "end_time": "2022-08-12T12:46:26.161775Z",
     "start_time": "2022-08-12T12:46:26.158386Z"
    }
   },
   "outputs": [
    {
     "data": {
      "text/plain": [
       "array([[[ 7, 10, 11],\n",
       "        [ 6, 19,  8]],\n",
       "\n",
       "       [[17, 12, 15],\n",
       "        [ 5,  6,  6]],\n",
       "\n",
       "       [[12,  9, 13],\n",
       "        [19,  8,  5]]])"
      ]
     },
     "execution_count": 56,
     "metadata": {},
     "output_type": "execute_result"
    }
   ],
   "source": [
    "d[1]"
   ]
  },
  {
   "cell_type": "code",
   "execution_count": null,
   "id": "e85e9457",
   "metadata": {},
   "outputs": [],
   "source": []
  },
  {
   "cell_type": "code",
   "execution_count": 62,
   "id": "bca1e688",
   "metadata": {
    "ExecuteTime": {
     "end_time": "2022-08-12T12:50:29.405931Z",
     "start_time": "2022-08-12T12:50:29.402532Z"
    }
   },
   "outputs": [
    {
     "data": {
      "text/plain": [
       "array([13, 12])"
      ]
     },
     "execution_count": 62,
     "metadata": {},
     "output_type": "execute_result"
    }
   ],
   "source": [
    "d[0][1][[0,1],[1,2]]"
   ]
  },
  {
   "cell_type": "markdown",
   "id": "5f181dd8",
   "metadata": {},
   "source": [
    "# Numpy ufuncs\n",
    "\n",
    "## What are ufuncs? Why use ufuncs?\n",
    "\n",
    "- ufuncs stands for \"Universal Functions\" and they are NumPy functions that operates on the ndarray object.\n",
    "\n",
    "- ufuncs are used to implement vectorization in NumPy which is way faster than iterating over elements.\n",
    "\n",
    "- They also provide broadcasting and additional methods like reduce, accumulate etc. that are very helpful for computation."
   ]
  },
  {
   "cell_type": "markdown",
   "id": "db4f2da5",
   "metadata": {},
   "source": [
    "ufuncs also take additional arguments, like:\n",
    "\n",
    "where boolean array or condition defining where the operations should take place.\n",
    "\n",
    "dtype defining the return type of elements.\n",
    "\n",
    "out output array where the return value should be copied."
   ]
  },
  {
   "cell_type": "markdown",
   "id": "ce3a2359",
   "metadata": {
    "ExecuteTime": {
     "end_time": "2022-08-03T08:38:38.961564Z",
     "start_time": "2022-08-03T08:38:38.959911Z"
    }
   },
   "source": [
    "##### numpy mathematical functions =   https://numpy.org/doc/stable/reference/routines.math.html#\n",
    "\n",
    "##### numpy linear functions = https://numpy.org/doc/stable/reference/routines.linalg.html"
   ]
  },
  {
   "cell_type": "markdown",
   "id": "5b80764e",
   "metadata": {},
   "source": [
    "## What is Vectorization?\n",
    "Converting iterative statements into a vector based operation is called vectorization"
   ]
  },
  {
   "cell_type": "markdown",
   "id": "25e6bbfc",
   "metadata": {},
   "source": [
    "## Arithmetics"
   ]
  },
  {
   "cell_type": "code",
   "execution_count": 55,
   "id": "a57b25fd",
   "metadata": {
    "ExecuteTime": {
     "end_time": "2022-08-01T08:45:45.774605Z",
     "start_time": "2022-08-01T08:45:45.757736Z"
    }
   },
   "outputs": [
    {
     "name": "stdout",
     "output_type": "stream",
     "text": [
      "[ 5  7  9 11]\n"
     ]
    }
   ],
   "source": [
    "x = [1, 2, 3, 4]\n",
    "y = [4, 5, 6, 7]\n",
    "z = np.add(x, y)\n",
    "\n",
    "print(z)"
   ]
  },
  {
   "cell_type": "code",
   "execution_count": 57,
   "id": "bab22138",
   "metadata": {
    "ExecuteTime": {
     "end_time": "2022-08-01T08:46:29.040080Z",
     "start_time": "2022-08-01T08:46:29.035295Z"
    },
    "scrolled": true
   },
   "outputs": [
    {
     "name": "stdout",
     "output_type": "stream",
     "text": [
      "[5, 7, 9, 11]\n"
     ]
    }
   ],
   "source": [
    "#Without ufunc, we can use Python's built-in zip() method:\n",
    "\n",
    "x = [1, 2, 3, 4]\n",
    "y = [4, 5, 6, 7]\n",
    "z = []\n",
    "\n",
    "for i, j in zip(x, y):\n",
    "    z.append(i + j)\n",
    "print(z)"
   ]
  },
  {
   "cell_type": "code",
   "execution_count": 58,
   "id": "261abfd4",
   "metadata": {
    "ExecuteTime": {
     "end_time": "2022-08-01T08:47:37.870308Z",
     "start_time": "2022-08-01T08:47:37.860618Z"
    }
   },
   "outputs": [],
   "source": [
    "arr1 = np.array([10, 20, 30, 40, 50, 60])\n",
    "arr2 = np.array([20, 21, 22, 23, 24, 25])\n",
    "\n",
    "newarr = np.subtract(arr1, arr2)"
   ]
  },
  {
   "cell_type": "code",
   "execution_count": 59,
   "id": "b774d03f",
   "metadata": {
    "ExecuteTime": {
     "end_time": "2022-08-01T08:47:40.184642Z",
     "start_time": "2022-08-01T08:47:40.176748Z"
    }
   },
   "outputs": [
    {
     "data": {
      "text/plain": [
       "array([-10,  -1,   8,  17,  26,  35])"
      ]
     },
     "execution_count": 59,
     "metadata": {},
     "output_type": "execute_result"
    }
   ],
   "source": [
    "newarr"
   ]
  },
  {
   "cell_type": "markdown",
   "id": "fbf57dec",
   "metadata": {},
   "source": [
    "## Rounding"
   ]
  },
  {
   "cell_type": "code",
   "execution_count": 11,
   "id": "79c1f966",
   "metadata": {
    "ExecuteTime": {
     "end_time": "2022-08-03T08:39:43.956957Z",
     "start_time": "2022-08-03T08:39:43.954074Z"
    }
   },
   "outputs": [
    {
     "name": "stdout",
     "output_type": "stream",
     "text": [
      "3.17\n"
     ]
    }
   ],
   "source": [
    "#The around() function increments preceding digit or decimal by 1 if >=5 else do nothing.\n",
    "arr = np.around(3.1666, 2)\n",
    "\n",
    "print(arr)"
   ]
  },
  {
   "cell_type": "code",
   "execution_count": null,
   "id": "458634f3",
   "metadata": {},
   "outputs": [],
   "source": [
    "#The floor() function rounds off decimal to nearest lower integer.\n",
    "arr = np.floor([-3.1666, 3.6667])\n",
    "\n",
    "print(arr)"
   ]
  },
  {
   "cell_type": "code",
   "execution_count": 10,
   "id": "45431f92",
   "metadata": {
    "ExecuteTime": {
     "end_time": "2022-08-03T08:39:18.626487Z",
     "start_time": "2022-08-03T08:39:18.623669Z"
    },
    "scrolled": true
   },
   "outputs": [
    {
     "name": "stdout",
     "output_type": "stream",
     "text": [
      "[-3.  4.]\n"
     ]
    }
   ],
   "source": [
    "#The ceil() function rounds off decimal to nearest upper integer.\n",
    "arr = np.ceil([-3.1666, 3.6667])\n",
    "\n",
    "print(arr)"
   ]
  },
  {
   "cell_type": "code",
   "execution_count": null,
   "id": "67b06731",
   "metadata": {},
   "outputs": [],
   "source": []
  },
  {
   "cell_type": "markdown",
   "id": "bfb07f37",
   "metadata": {},
   "source": [
    "## Logs"
   ]
  },
  {
   "cell_type": "markdown",
   "id": "021c137f",
   "metadata": {},
   "source": [
    "##### The arange(1, 10) function returns an array with integers starting from 1 (included) to 10 (not included)."
   ]
  },
  {
   "cell_type": "code",
   "execution_count": 12,
   "id": "6792fc30",
   "metadata": {
    "ExecuteTime": {
     "end_time": "2022-08-03T08:41:09.323931Z",
     "start_time": "2022-08-03T08:41:09.319878Z"
    }
   },
   "outputs": [
    {
     "name": "stdout",
     "output_type": "stream",
     "text": [
      "[0.         1.         1.5849625  2.         2.32192809 2.5849625\n",
      " 2.80735492 3.         3.169925  ]\n"
     ]
    }
   ],
   "source": [
    "#Use the log2() function to perform log at the base 2.\n",
    "arr = np.arange(1, 10)\n",
    "\n",
    "print(np.log2(arr))\n",
    "print(np.log10(arr))\n",
    "# base e\n",
    "print(np.log(arr))"
   ]
  },
  {
   "cell_type": "code",
   "execution_count": null,
   "id": "e8617e6a",
   "metadata": {},
   "outputs": [],
   "source": []
  },
  {
   "cell_type": "markdown",
   "id": "4a0ef33f",
   "metadata": {},
   "source": [
    "##### Log at Any Base\n",
    "\n",
    "##### NumPy does not provide any function to take log at any base, so we can use the frompyfunc() function along with inbuilt function math.log() with two input parameters and one output parameter:\n",
    "\n"
   ]
  },
  {
   "cell_type": "code",
   "execution_count": 15,
   "id": "f5a0553a",
   "metadata": {
    "ExecuteTime": {
     "end_time": "2022-08-03T08:43:57.994368Z",
     "start_time": "2022-08-03T08:43:57.990484Z"
    }
   },
   "outputs": [
    {
     "name": "stdout",
     "output_type": "stream",
     "text": [
      "1.7005483074552052\n"
     ]
    }
   ],
   "source": [
    "from math import log\n",
    "import numpy as np\n",
    "\n",
    "nplog = np.frompyfunc(log, 2, 1)\n",
    "\n",
    "print(nplog(100, 15))"
   ]
  },
  {
   "cell_type": "code",
   "execution_count": 21,
   "id": "454679c4",
   "metadata": {
    "ExecuteTime": {
     "end_time": "2022-08-03T08:49:05.454360Z",
     "start_time": "2022-08-03T08:49:05.450432Z"
    }
   },
   "outputs": [
    {
     "name": "stdout",
     "output_type": "stream",
     "text": [
      "0.0\n"
     ]
    }
   ],
   "source": [
    "print(np.log10(1))"
   ]
  },
  {
   "cell_type": "markdown",
   "id": "72d8688c",
   "metadata": {},
   "source": [
    "# Numpy for machine learning"
   ]
  },
  {
   "cell_type": "code",
   "execution_count": 22,
   "id": "5ea966d7",
   "metadata": {
    "ExecuteTime": {
     "end_time": "2022-08-03T08:51:06.850600Z",
     "start_time": "2022-08-03T08:51:06.847813Z"
    }
   },
   "outputs": [],
   "source": [
    "#Create a vector as a Row\n",
    "vector_row = np.array([1,2,3])\n",
    "\n",
    "#Create vector as a Column\n",
    "vector_column = np.array([[1],[2],[3]])"
   ]
  },
  {
   "cell_type": "code",
   "execution_count": 23,
   "id": "76e7bb9a",
   "metadata": {
    "ExecuteTime": {
     "end_time": "2022-08-03T08:51:10.805480Z",
     "start_time": "2022-08-03T08:51:10.801652Z"
    }
   },
   "outputs": [
    {
     "data": {
      "text/plain": [
       "array([1, 2, 3])"
      ]
     },
     "execution_count": 23,
     "metadata": {},
     "output_type": "execute_result"
    }
   ],
   "source": [
    "vector_row "
   ]
  },
  {
   "cell_type": "code",
   "execution_count": 24,
   "id": "6b75ec84",
   "metadata": {
    "ExecuteTime": {
     "end_time": "2022-08-03T08:51:16.146305Z",
     "start_time": "2022-08-03T08:51:16.141877Z"
    }
   },
   "outputs": [
    {
     "data": {
      "text/plain": [
       "array([[1],\n",
       "       [2],\n",
       "       [3]])"
      ]
     },
     "execution_count": 24,
     "metadata": {},
     "output_type": "execute_result"
    }
   ],
   "source": [
    "vector_column "
   ]
  },
  {
   "cell_type": "code",
   "execution_count": 25,
   "id": "ec91bcfa",
   "metadata": {
    "ExecuteTime": {
     "end_time": "2022-08-03T08:52:02.077942Z",
     "start_time": "2022-08-03T08:52:02.074024Z"
    }
   },
   "outputs": [
    {
     "name": "stdout",
     "output_type": "stream",
     "text": [
      "[[1 2 3]\n",
      " [4 5 6]]\n"
     ]
    }
   ],
   "source": [
    "#Create a Matrix\n",
    "matrix = np.array([[1,2,3],[4,5,6]])\n",
    "print(matrix)"
   ]
  },
  {
   "cell_type": "code",
   "execution_count": 40,
   "id": "d5d2ba0c",
   "metadata": {
    "ExecuteTime": {
     "end_time": "2022-08-03T09:04:59.520144Z",
     "start_time": "2022-08-03T09:04:59.515356Z"
    }
   },
   "outputs": [
    {
     "name": "stdout",
     "output_type": "stream",
     "text": [
      "[[1 2 3]\n",
      " [4 5 6]\n",
      " [7 8 9]]\n",
      "5.0\n",
      "2.581988897471611\n",
      "6.666666666666667\n"
     ]
    }
   ],
   "source": [
    "#Create a Matrix\n",
    "matrix = np.array([[1,2,3],[4,5,6],[7,8,9]])\n",
    "print(matrix)\n",
    "#Mean\n",
    "print(np.mean(matrix))\n",
    "#Standard Dev.\n",
    "print(np.std(matrix))\n",
    "#Variance\n",
    "print(np.var(matrix))"
   ]
  },
  {
   "cell_type": "code",
   "execution_count": 45,
   "id": "adb097ce",
   "metadata": {
    "ExecuteTime": {
     "end_time": "2022-08-03T09:12:51.530415Z",
     "start_time": "2022-08-03T09:12:51.526283Z"
    }
   },
   "outputs": [
    {
     "name": "stdout",
     "output_type": "stream",
     "text": [
      "[[ 2  2  3]\n",
      " [ 6  5  6]\n",
      " [12  8  9]]\n",
      "[[ 2  6 12]\n",
      " [ 2  5  8]\n",
      " [ 3  6  9]]\n"
     ]
    }
   ],
   "source": [
    "#Create a Matrix\n",
    "matrix = np.array([[2,2,3],[6,5,6],[12,8,9]])\n",
    "print(matrix)\n",
    "#Transpose the matrix\n",
    "print(matrix.T)"
   ]
  },
  {
   "cell_type": "code",
   "execution_count": 46,
   "id": "e5572378",
   "metadata": {
    "ExecuteTime": {
     "end_time": "2022-08-03T09:12:52.164708Z",
     "start_time": "2022-08-03T09:12:52.160108Z"
    }
   },
   "outputs": [
    {
     "name": "stdout",
     "output_type": "stream",
     "text": [
      "-6.0\n"
     ]
    }
   ],
   "source": [
    "#Calculate the Determinant\n",
    "print(np.linalg.det(matrix))"
   ]
  },
  {
   "cell_type": "code",
   "execution_count": 47,
   "id": "59136e92",
   "metadata": {
    "ExecuteTime": {
     "end_time": "2022-08-03T09:13:16.913008Z",
     "start_time": "2022-08-03T09:13:16.908072Z"
    }
   },
   "outputs": [
    {
     "name": "stdout",
     "output_type": "stream",
     "text": [
      "[2 5 9]\n",
      "[2 6]\n",
      "[6 8]\n"
     ]
    }
   ],
   "source": [
    "#Print the Principal diagonal\n",
    "print(matrix.diagonal())\n",
    "#Print the diagonal one above the Principal diagonal\n",
    "print(matrix.diagonal(offset=1))\n",
    "#Print the diagonal one below Principal diagonal\n",
    "print(matrix.diagonal(offset=-1))"
   ]
  },
  {
   "cell_type": "markdown",
   "id": "141abdc2",
   "metadata": {},
   "source": [
    "##### Trace of a Matrix is the sum of elements on the Principal Diagonal of the Matrix."
   ]
  },
  {
   "cell_type": "code",
   "execution_count": null,
   "id": "d77250ae",
   "metadata": {},
   "outputs": [],
   "source": [
    "#Print the Trace\n",
    "print(matrix.trace())"
   ]
  },
  {
   "cell_type": "code",
   "execution_count": null,
   "id": "6ecc212c",
   "metadata": {},
   "outputs": [],
   "source": []
  },
  {
   "cell_type": "markdown",
   "id": "88d6c576",
   "metadata": {},
   "source": [
    "## Calculating Dot Products"
   ]
  },
  {
   "cell_type": "code",
   "execution_count": 49,
   "id": "0988641a",
   "metadata": {
    "ExecuteTime": {
     "end_time": "2022-08-03T09:15:36.941178Z",
     "start_time": "2022-08-03T09:15:36.937181Z"
    }
   },
   "outputs": [
    {
     "name": "stdout",
     "output_type": "stream",
     "text": [
      "32\n"
     ]
    }
   ],
   "source": [
    "vector_1 = np.array([ 1,2,3 ])\n",
    "vector_2 = np.array([ 4,5,6 ])\n",
    "#Calculate Dot Product\n",
    "print(np.dot(vector_1,vector_2))"
   ]
  },
  {
   "cell_type": "code",
   "execution_count": 1,
   "id": "dfe92101",
   "metadata": {
    "ExecuteTime": {
     "end_time": "2022-08-10T09:07:41.250047Z",
     "start_time": "2022-08-10T09:07:41.241324Z"
    }
   },
   "outputs": [
    {
     "data": {
      "text/plain": [
       "32"
      ]
     },
     "execution_count": 1,
     "metadata": {},
     "output_type": "execute_result"
    }
   ],
   "source": [
    "1*4 + 2*5 + 3*6"
   ]
  },
  {
   "cell_type": "code",
   "execution_count": 50,
   "id": "71f9e7a7",
   "metadata": {
    "ExecuteTime": {
     "end_time": "2022-08-03T09:15:47.791451Z",
     "start_time": "2022-08-03T09:15:47.780261Z"
    }
   },
   "outputs": [
    {
     "name": "stdout",
     "output_type": "stream",
     "text": [
      "[[ 0.5        -1.          0.5       ]\n",
      " [-3.          3.         -1.        ]\n",
      " [ 2.         -1.33333333  0.33333333]]\n"
     ]
    }
   ],
   "source": [
    "#Calculate the inverse\n",
    "print(np.linalg.inv(matrix))"
   ]
  },
  {
   "cell_type": "markdown",
   "id": "c864ec3f",
   "metadata": {},
   "source": [
    "## Numpy Matrix Multiplication with np.matmul()"
   ]
  },
  {
   "cell_type": "markdown",
   "id": "f983c142",
   "metadata": {},
   "source": [
    "**The dimension property**\n",
    "\n",
    "- The product of two matrices will be defined if the number of columns in the first matrix is equal to the number of rows in the second matrix.\n",
    "\n",
    "- If the product is defined, the resulting matrix will have the same number of rows as the first matrix and the same number of columns as the second matrix.\n",
    "\n",
    "\n",
    "##### For example, if A is 3x2 matrix and B is 2x4 matrix,\n",
    "###### AB will be a 3x4 matrix."
   ]
  },
  {
   "cell_type": "code",
   "execution_count": 3,
   "id": "e2a9a7c5",
   "metadata": {
    "ExecuteTime": {
     "end_time": "2022-08-10T09:09:54.975269Z",
     "start_time": "2022-08-10T09:09:54.880740Z"
    }
   },
   "outputs": [],
   "source": [
    "import numpy as np"
   ]
  },
  {
   "cell_type": "code",
   "execution_count": 4,
   "id": "b2596aaa",
   "metadata": {
    "ExecuteTime": {
     "end_time": "2022-08-10T09:09:55.105047Z",
     "start_time": "2022-08-10T09:09:55.100640Z"
    }
   },
   "outputs": [
    {
     "data": {
      "text/plain": [
       "array([[19, 22],\n",
       "       [43, 50]])"
      ]
     },
     "execution_count": 4,
     "metadata": {},
     "output_type": "execute_result"
    }
   ],
   "source": [
    "### Matmul: matruc product of two arrays\n",
    "h = [[1,2],[3,4]] \n",
    "i = [[5,6],[7,8]] \n",
    "\n",
    "### 1*5+2*7 = 19\n",
    "np.matmul(h, i)"
   ]
  },
  {
   "cell_type": "code",
   "execution_count": 6,
   "id": "d08745ae",
   "metadata": {
    "ExecuteTime": {
     "end_time": "2022-08-10T09:10:09.561459Z",
     "start_time": "2022-08-10T09:10:09.558173Z"
    }
   },
   "outputs": [
    {
     "name": "stdout",
     "output_type": "stream",
     "text": [
      "[[1, 2], [3, 4]]\n"
     ]
    }
   ],
   "source": [
    "print(h)"
   ]
  },
  {
   "cell_type": "code",
   "execution_count": 9,
   "id": "cf6b9edf",
   "metadata": {
    "ExecuteTime": {
     "end_time": "2022-08-10T09:19:52.051971Z",
     "start_time": "2022-08-10T09:19:52.049629Z"
    }
   },
   "outputs": [],
   "source": [
    "A = np.random.randint(-1,4, size=(3,2))\n",
    "B = np.random.randint(2,5, size=(2,4))"
   ]
  },
  {
   "cell_type": "code",
   "execution_count": 10,
   "id": "5d060697",
   "metadata": {
    "ExecuteTime": {
     "end_time": "2022-08-10T09:19:55.267292Z",
     "start_time": "2022-08-10T09:19:55.262724Z"
    }
   },
   "outputs": [
    {
     "data": {
      "text/plain": [
       "array([[ 1, -1],\n",
       "       [ 3,  1],\n",
       "       [-1, -1]])"
      ]
     },
     "execution_count": 10,
     "metadata": {},
     "output_type": "execute_result"
    }
   ],
   "source": [
    "A"
   ]
  },
  {
   "cell_type": "code",
   "execution_count": 11,
   "id": "08776201",
   "metadata": {
    "ExecuteTime": {
     "end_time": "2022-08-10T09:20:00.243678Z",
     "start_time": "2022-08-10T09:20:00.240938Z"
    }
   },
   "outputs": [
    {
     "data": {
      "text/plain": [
       "array([[4, 3, 3, 3],\n",
       "       [2, 4, 3, 4]])"
      ]
     },
     "execution_count": 11,
     "metadata": {},
     "output_type": "execute_result"
    }
   ],
   "source": [
    "B"
   ]
  },
  {
   "cell_type": "code",
   "execution_count": 12,
   "id": "8adf845b",
   "metadata": {
    "ExecuteTime": {
     "end_time": "2022-08-10T09:20:21.060895Z",
     "start_time": "2022-08-10T09:20:21.058864Z"
    }
   },
   "outputs": [],
   "source": [
    "AB = np.matmul(A,B)"
   ]
  },
  {
   "cell_type": "code",
   "execution_count": 13,
   "id": "ad7c7bc0",
   "metadata": {
    "ExecuteTime": {
     "end_time": "2022-08-10T09:20:22.838982Z",
     "start_time": "2022-08-10T09:20:22.835921Z"
    }
   },
   "outputs": [
    {
     "data": {
      "text/plain": [
       "array([[ 2, -1,  0, -1],\n",
       "       [14, 13, 12, 13],\n",
       "       [-6, -7, -6, -7]])"
      ]
     },
     "execution_count": 13,
     "metadata": {},
     "output_type": "execute_result"
    }
   ],
   "source": [
    "AB"
   ]
  },
  {
   "cell_type": "code",
   "execution_count": 14,
   "id": "49eef21d",
   "metadata": {
    "ExecuteTime": {
     "end_time": "2022-08-10T09:20:27.303166Z",
     "start_time": "2022-08-10T09:20:27.300139Z"
    }
   },
   "outputs": [
    {
     "data": {
      "text/plain": [
       "(3, 4)"
      ]
     },
     "execution_count": 14,
     "metadata": {},
     "output_type": "execute_result"
    }
   ],
   "source": [
    "AB.shape"
   ]
  },
  {
   "cell_type": "code",
   "execution_count": null,
   "id": "9250abea",
   "metadata": {},
   "outputs": [],
   "source": []
  },
  {
   "cell_type": "markdown",
   "id": "73f70091",
   "metadata": {},
   "source": [
    "## Finding Eigenvalues and Eigenvectors\n",
    "Eigenvectors are widely used in Machine Learning libraries. \n",
    "\n",
    "A vector is an eigenvector of a matrix if it satisfies the following equation.\n",
    "\n",
    "##### A . v = lambda . v\n",
    "\n",
    "Here A is a square matrix, lambda contains the eigenvalues and v contains the eigenvectors."
   ]
  },
  {
   "cell_type": "code",
   "execution_count": 64,
   "id": "b32b1fab",
   "metadata": {
    "ExecuteTime": {
     "end_time": "2022-08-12T13:01:13.926546Z",
     "start_time": "2022-08-12T13:01:13.924220Z"
    }
   },
   "outputs": [],
   "source": [
    "A = np.array([[1, -3, 3],[3, -5, 3],[6, -6, 4]])\n",
    "v = np.array([1/2,1/2,1])"
   ]
  },
  {
   "cell_type": "code",
   "execution_count": 65,
   "id": "cb7947a9",
   "metadata": {
    "ExecuteTime": {
     "end_time": "2022-08-12T13:01:14.780492Z",
     "start_time": "2022-08-12T13:01:14.776640Z"
    }
   },
   "outputs": [
    {
     "data": {
      "text/plain": [
       "array([[ 1, -3,  3],\n",
       "       [ 3, -5,  3],\n",
       "       [ 6, -6,  4]])"
      ]
     },
     "execution_count": 65,
     "metadata": {},
     "output_type": "execute_result"
    }
   ],
   "source": [
    "A"
   ]
  },
  {
   "cell_type": "code",
   "execution_count": 66,
   "id": "bf3ffc57",
   "metadata": {
    "ExecuteTime": {
     "end_time": "2022-08-12T13:01:18.226777Z",
     "start_time": "2022-08-12T13:01:18.223284Z"
    }
   },
   "outputs": [
    {
     "data": {
      "text/plain": [
       "array([0.5, 0.5, 1. ])"
      ]
     },
     "execution_count": 66,
     "metadata": {},
     "output_type": "execute_result"
    }
   ],
   "source": [
    "v"
   ]
  },
  {
   "cell_type": "code",
   "execution_count": 68,
   "id": "9eecfcdd",
   "metadata": {
    "ExecuteTime": {
     "end_time": "2022-08-03T09:49:16.697573Z",
     "start_time": "2022-08-03T09:49:16.692433Z"
    }
   },
   "outputs": [
    {
     "data": {
      "text/plain": [
       "array([ True,  True,  True])"
      ]
     },
     "execution_count": 68,
     "metadata": {},
     "output_type": "execute_result"
    }
   ],
   "source": [
    "np.matmul(A,v) == 4 * v"
   ]
  },
  {
   "cell_type": "code",
   "execution_count": null,
   "id": "2a44e828",
   "metadata": {},
   "outputs": [],
   "source": []
  },
  {
   "cell_type": "code",
   "execution_count": 51,
   "id": "1d1fde0e",
   "metadata": {
    "ExecuteTime": {
     "end_time": "2022-08-03T09:16:43.674092Z",
     "start_time": "2022-08-03T09:16:43.665889Z"
    }
   },
   "outputs": [
    {
     "name": "stdout",
     "output_type": "stream",
     "text": [
      "[[1 2 3]\n",
      " [4 5 6]\n",
      " [7 8 9]]\n",
      "[ 1.61168440e+01 -1.11684397e+00 -9.75918483e-16]\n",
      "[[-0.23197069 -0.78583024  0.40824829]\n",
      " [-0.52532209 -0.08675134 -0.81649658]\n",
      " [-0.8186735   0.61232756  0.40824829]]\n"
     ]
    }
   ],
   "source": [
    "#Create a Matrix\n",
    "matrix = np.array([[1,2,3],[4,5,6],[7,8,9]])\n",
    "print(matrix)\n",
    "\n",
    "# Calculate the Eigenvalues and Eigenvectors of that Matrix\n",
    "eigenvalues ,eigenvectors=np.linalg.eig(matrix)\n",
    "print(eigenvalues)\n",
    "print(eigenvectors)"
   ]
  },
  {
   "cell_type": "code",
   "execution_count": null,
   "id": "604471bf",
   "metadata": {},
   "outputs": [],
   "source": []
  },
  {
   "cell_type": "code",
   "execution_count": null,
   "id": "19281b9c",
   "metadata": {},
   "outputs": [],
   "source": []
  }
 ],
 "metadata": {
  "kernelspec": {
   "display_name": "sa_env",
   "language": "python",
   "name": "sa_env"
  },
  "language_info": {
   "codemirror_mode": {
    "name": "ipython",
    "version": 3
   },
   "file_extension": ".py",
   "mimetype": "text/x-python",
   "name": "python",
   "nbconvert_exporter": "python",
   "pygments_lexer": "ipython3",
   "version": "3.10.4"
  },
  "toc": {
   "base_numbering": 1,
   "nav_menu": {},
   "number_sections": true,
   "sideBar": true,
   "skip_h1_title": false,
   "title_cell": "Table of Contents",
   "title_sidebar": "Contents",
   "toc_cell": false,
   "toc_position": {
    "height": "calc(100% - 180px)",
    "left": "10px",
    "top": "150px",
    "width": "356px"
   },
   "toc_section_display": true,
   "toc_window_display": true
  }
 },
 "nbformat": 4,
 "nbformat_minor": 5
}
