{
 "cells": [
  {
   "cell_type": "markdown",
   "id": "dd671086",
   "metadata": {},
   "source": [
    "# Sum\n",
    "\n",
    "Write a Python program to sum all the items in a list using **def**.\n"
   ]
  },
  {
   "cell_type": "code",
   "execution_count": 1,
   "id": "bc68f6b2",
   "metadata": {},
   "outputs": [
    {
     "name": "stdout",
     "output_type": "stream",
     "text": [
      "30\n"
     ]
    }
   ],
   "source": [
    "list1 = [2, 4, 6, 8, 10]\n",
    "\n",
    "def addition(array):\n",
    "    summation = 0\n",
    "    for i in range(len(array)):\n",
    "        summation = summation + array[i]\n",
    "    return summation\n",
    "\n",
    "print(addition(list1))"
   ]
  },
  {
   "cell_type": "markdown",
   "id": "2e03a785",
   "metadata": {},
   "source": [
    "#  Find Index and Replace"
   ]
  },
  {
   "cell_type": "markdown",
   "id": "99e38c84",
   "metadata": {
    "ExecuteTime": {
     "end_time": "2022-06-23T08:28:19.966741Z",
     "start_time": "2022-06-23T08:28:19.963225Z"
    }
   },
   "source": [
    "You have given a Python list. Write a program to find value 20 in the list, and if it is present, replace it with 200. Only update the first occurrence of an item.\n",
    "\n",
    "```\n",
    "Given list : [5, 10, 15, 20, 25, 50, 1]\n",
    "\n",
    "Expected Output :\n",
    "[5, 10, 15, 200, 25, 50, 1]\n",
    "\n",
    "\n",
    "```"
   ]
  },
  {
   "cell_type": "code",
   "execution_count": null,
   "id": "ba79cf7a",
   "metadata": {},
   "outputs": [],
   "source": [
    "list1 = [5, 10, 15, 20, 25, 50, 20]\n",
    "# write code below\n",
    "\n",
    "for i in range(len(list1)):\n",
    "    if (list1[i] == 20):\n",
    "        list1[i] = 200\n",
    "        break\n",
    "        \n",
    "print(list1)"
   ]
  },
  {
   "cell_type": "markdown",
   "id": "0f0be1bf",
   "metadata": {},
   "source": [
    "# Turn every item of a list into its square\n",
    "\n",
    "Given a list of numbers. write a program to turn every item of a list into its square.\n",
    "\n",
    "Given \n",
    "```\n",
    "numbers = [1, 2, 3, 4, 5, 6, 7]\n",
    "```\n",
    "\n",
    "Expected Output\n",
    "\n",
    "```\n",
    "[1, 4, 9, 16, 25, 36, 49]\n",
    "\n",
    "```\n"
   ]
  },
  {
   "cell_type": "code",
   "execution_count": 6,
   "id": "cbaf530b",
   "metadata": {},
   "outputs": [
    {
     "name": "stdout",
     "output_type": "stream",
     "text": [
      "[1, 4, 9, 16, 25, 36, 49]\n"
     ]
    }
   ],
   "source": [
    "numbers = [1, 2, 3, 4, 5, 6, 7]\n",
    "square = [0] * len(numbers)\n",
    "\n",
    "for i in range(len(numbers)):\n",
    "    square[i] = numbers[i] ** 2\n",
    "    \n",
    "print(square)"
   ]
  },
  {
   "cell_type": "markdown",
   "id": "b328b02c",
   "metadata": {},
   "source": [
    "# Add new item to list after a specified item\n",
    "\n",
    "Write a program to add item 7000 after 6000 in the following Python List\n",
    "\n",
    "Given:\n",
    "\n",
    "```\n",
    "list1 = [10, 20, [300, 400, [5000, 6000], 500], 30, 40]\n",
    "\n",
    "```\n",
    "\n",
    "Expected Output\n",
    "\n",
    "```\n",
    "[10, 20, [300, 400, [5000, 6000, 7000], 500], 30, 40]\n",
    "\n",
    "```"
   ]
  },
  {
   "cell_type": "code",
   "execution_count": 44,
   "id": "c2688763",
   "metadata": {},
   "outputs": [
    {
     "name": "stdout",
     "output_type": "stream",
     "text": [
      "[10, 20, [300, 400, [5000, 6000, 7000], 500], 30, 40]\n"
     ]
    }
   ],
   "source": [
    "list1 = [10, 20, [300, 400, [5000, 6000], 500], 30, 40]\n",
    "\n",
    "list1[2][2].insert(2, 7000)\n",
    "\n",
    "print(list1)"
   ]
  },
  {
   "cell_type": "markdown",
   "id": "9b56761f",
   "metadata": {},
   "source": [
    "#  Extend nested list by adding the sublist\n",
    "\n",
    "Given Lists\n",
    "\n",
    "```\n",
    "list1 = [\"a\", \"b\", [\"c\", [\"d\", \"e\", [\"f\", \"g\"], \"k\"], \"l\"], \"m\", \"n\"]\n",
    "\n",
    "# sub list to add\n",
    "sub_list = [\"h\", \"i\", \"j\"]\n",
    "```\n",
    "\n",
    "Expected Output\n",
    "\n",
    "```\n",
    "['a', 'b', ['c', ['d', 'e', ['f', 'g', 'h', 'i', 'j'], 'k'], 'l'], 'm', 'n']\n",
    "\n",
    "```"
   ]
  },
  {
   "cell_type": "code",
   "execution_count": 78,
   "id": "32629176",
   "metadata": {},
   "outputs": [
    {
     "name": "stdout",
     "output_type": "stream",
     "text": [
      "['a', 'b', ['c', ['d', 'e', ['f', 'g', 'h', 'i', 'j'], 'k'], 'l'], 'm', 'n']\n"
     ]
    }
   ],
   "source": [
    "list1 = [\"a\", \"b\", [\"c\", [\"d\", \"e\", [\"f\", \"g\"], \"k\"], \"l\"], \"m\", \"n\"]\n",
    "\n",
    "sub_list = [\"h\", \"i\", \"j\"]\n",
    "\n",
    "for i in range(len(sub_list)):\n",
    "    list1[2][1][2].insert(2 + i, sub_list[i])\n",
    "\n",
    "print(list1)"
   ]
  },
  {
   "cell_type": "markdown",
   "id": "ef924427",
   "metadata": {},
   "source": [
    "# Remove all occurrences of a specific item from a list.\n",
    "\n",
    "\n",
    "Given a Python list, write a program to remove all occurrences of item 20.\n",
    "\n",
    "Given\n",
    "\n",
    "```\n",
    "list1 = [5, 20, 15, 20, 25, 50, 20]\n",
    "```\n",
    "\n",
    "Expected Output\n",
    "\n",
    "```\n",
    "[5, 15, 25, 50]\n",
    "\n",
    "```"
   ]
  },
  {
   "cell_type": "code",
   "execution_count": 33,
   "id": "20a43f55",
   "metadata": {},
   "outputs": [
    {
     "name": "stdout",
     "output_type": "stream",
     "text": [
      "[5, 15, 25, 50]\n"
     ]
    }
   ],
   "source": [
    "list1 = [5, 20, 15, 20, 25, 50, 20]\n",
    "\n",
    "i = 0\n",
    "\n",
    "while (i < len(list1)):\n",
    "    if (list1[i] == 20):\n",
    "        del list1[i]\n",
    "    i += 1\n",
    "\n",
    "print(list1)\n"
   ]
  }
 ],
 "metadata": {
  "kernelspec": {
   "display_name": "Python 3 (ipykernel)",
   "language": "python",
   "name": "python3"
  },
  "language_info": {
   "codemirror_mode": {
    "name": "ipython",
    "version": 3
   },
   "file_extension": ".py",
   "mimetype": "text/x-python",
   "name": "python",
   "nbconvert_exporter": "python",
   "pygments_lexer": "ipython3",
   "version": "3.9.12"
  },
  "toc": {
   "base_numbering": 1,
   "nav_menu": {},
   "number_sections": true,
   "sideBar": true,
   "skip_h1_title": false,
   "title_cell": "Table of Contents",
   "title_sidebar": "Contents",
   "toc_cell": false,
   "toc_position": {
    "height": "calc(100% - 180px)",
    "left": "10px",
    "top": "150px",
    "width": "263.273px"
   },
   "toc_section_display": true,
   "toc_window_display": true
  },
  "varInspector": {
   "cols": {
    "lenName": 16,
    "lenType": 16,
    "lenVar": 40
   },
   "kernels_config": {
    "python": {
     "delete_cmd_postfix": "",
     "delete_cmd_prefix": "del ",
     "library": "var_list.py",
     "varRefreshCmd": "print(var_dic_list())"
    },
    "r": {
     "delete_cmd_postfix": ") ",
     "delete_cmd_prefix": "rm(",
     "library": "var_list.r",
     "varRefreshCmd": "cat(var_dic_list()) "
    }
   },
   "types_to_exclude": [
    "module",
    "function",
    "builtin_function_or_method",
    "instance",
    "_Feature"
   ],
   "window_display": false
  }
 },
 "nbformat": 4,
 "nbformat_minor": 5
}
