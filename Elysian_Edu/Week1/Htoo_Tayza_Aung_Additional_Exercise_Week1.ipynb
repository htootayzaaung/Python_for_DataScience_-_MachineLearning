{
 "cells": [
  {
   "cell_type": "markdown",
   "id": "504a1bd9",
   "metadata": {
    "ExecuteTime": {
     "end_time": "2022-06-30T09:16:40.176723Z",
     "start_time": "2022-06-30T09:16:40.168289Z"
    }
   },
   "source": [
    "\n"
   ]
  },
  {
   "cell_type": "markdown",
   "id": "322534ca",
   "metadata": {},
   "source": [
    "# Simple Calculator\n",
    "\n",
    "Please write a program to create a simple calculator that can add, subtract, multiply or divide depending upon the input from the user. \n",
    "\n",
    "Note : Use python's def() for operation.\n",
    "\n",
    "Display :\n",
    "```\n",
    "Select operation.\n",
    "1.Add\n",
    "2.Subtract\n",
    "3.Multiply\n",
    "4.Divide\n",
    "\n",
    "example output: \n",
    "\n",
    "Enter choice(1/2/3/4): 3\n",
    "Enter first number: 15\n",
    "Enter second number: 14\n",
    "15.0 * 14.0 = 210.0\n",
    "```"
   ]
  },
  {
   "cell_type": "code",
   "execution_count": 3,
   "id": "455b832a",
   "metadata": {},
   "outputs": [
    {
     "name": "stdout",
     "output_type": "stream",
     "text": [
      "Select operation.\n",
      "1.Add\n",
      "2.Subtract\n",
      "3.Multiply\n",
      "4.Divide\n",
      "Enter choice(1/2/3/4): 3\n",
      "Enter first number: 15\n",
      "Enter second number: 14\n",
      "15.0 * 14.0 = 210.0\n"
     ]
    }
   ],
   "source": [
    "# Program make a simple calculator\n",
    "\n",
    "# Write code below \n",
    "\n",
    "# This function adds two numbers\n",
    "def add(x, y):\n",
    "    return x + y\n",
    "\n",
    "# This function subtracts two numbers\n",
    "def subtract(x, y):\n",
    "    return x - y\n",
    "\n",
    "# This function multiplies two numbers\n",
    "def multiply(x, y):\n",
    "    return x * y\n",
    "\n",
    "# This function divides two numbers\n",
    "def divide(x, y):\n",
    "    return x / y\n",
    "\n",
    "\n",
    "print(\"Select operation.\")\n",
    "print(\"1.Add\")\n",
    "print(\"2.Subtract\")\n",
    "print(\"3.Multiply\")\n",
    "print(\"4.Divide\")\n",
    "\n",
    "choice = input(\"Enter choice(1/2/3/4): \")\n",
    "firstNum = int(input(\"Enter first number: \"))\n",
    "secondNum = int(input(\"Enter second number: \"))\n",
    "\n",
    "# check if choice is one of the four options\n",
    "\n",
    "if (choice == \"1\"):\n",
    "    symbol = \"+\"\n",
    "    result = add(firstNum, secondNum)\n",
    "    \n",
    "elif (choice == \"2\"):\n",
    "    symbol = \"-\"\n",
    "    result = subtract(firstNum, secondNum)\n",
    "    \n",
    "elif (choice == \"3\"):\n",
    "    symbol = \"*\"\n",
    "    result = multiply(firstNum, secondNum)\n",
    "    \n",
    "elif (choice == \"4\"):\n",
    "    symbol = \"/\"\n",
    "    result = divide(firstNum, secondNum)\n",
    "\n",
    "print(f\"{float(firstNum)} {symbol} {float(secondNum)} = {float(result)}\")\n",
    "\n"
   ]
  },
  {
   "cell_type": "markdown",
   "id": "e0b1560d",
   "metadata": {},
   "source": [
    "# Rock Paper Scissors Game\n",
    "\n",
    "\n",
    "\n",
    "Make a rock, paper, scissors game. \n",
    "\n",
    "ASCII art for the hand signals are already saved to a corresponding variable: `rock`, `paper`, and `scissors`. This will make it easy to print them out to the console. \n",
    "\n",
    "Start the game by asking the player:\n",
    "\n",
    "*\"What do you choose? Type 0 for Rock, 1 for Paper or 2 for Scissors.\"*\n",
    "\n",
    "From there you will need to figure out: \n",
    "* How you will store the user's input.\n",
    "* How you will generate a random choice for the computer.\n",
    "* How you will compare the user's and the computer's choice to determine the winner (or a draw).\n",
    "* And also how you will give feedback to the player. (show the output with ASCII art)"
   ]
  },
  {
   "cell_type": "markdown",
   "id": "9fc0d965",
   "metadata": {
    "ExecuteTime": {
     "end_time": "2022-06-30T09:16:45.743860Z",
     "start_time": "2022-06-30T09:16:45.740990Z"
    }
   },
   "source": [
    "Expected Output\n",
    "```\n",
    "You chose: \n",
    "    _______\n",
    "---'   ____)\n",
    "      (_____)\n",
    "      (_____)\n",
    "      (____)\n",
    "---.__(___)\n",
    "\n",
    "\n",
    "Computer chose: \n",
    "    _______\n",
    "---'   ____)____\n",
    "          ______)\n",
    "          _______)\n",
    "         _______)\n",
    "---.__________)\n",
    "\n",
    "\n",
    "paper beats rock. You lost.\n",
    "\n",
    "```"
   ]
  },
  {
   "cell_type": "code",
   "execution_count": 1,
   "id": "6d64048a",
   "metadata": {
    "ExecuteTime": {
     "start_time": "2022-06-30T09:17:32.231Z"
    }
   },
   "outputs": [
    {
     "name": "stdout",
     "output_type": "stream",
     "text": [
      "What do you choose? Type 0 for Rock, 1 for Paper or 2 for Scissors.0\n",
      "\n",
      "You chose: \n",
      "\n",
      "    _______\n",
      "---'   ____)\n",
      "      (_____)\n",
      "      (_____)\n",
      "      (____)\n",
      "---.__(___)\n",
      "\n",
      "Computer chose: \n",
      "\n",
      "    _______\n",
      "---'   ____)____\n",
      "          ______)\n",
      "          _______)\n",
      "         _______)\n",
      "---.__________)\n",
      "\n",
      "paper beats rock. You lost.\n"
     ]
    }
   ],
   "source": [
    "rock = '''\n",
    "    _______\n",
    "---'   ____)\n",
    "      (_____)\n",
    "      (_____)\n",
    "      (____)\n",
    "---.__(___)\n",
    "'''\n",
    "\n",
    "paper = '''\n",
    "    _______\n",
    "---'   ____)____\n",
    "          ______)\n",
    "          _______)\n",
    "         _______)\n",
    "---.__________)\n",
    "'''\n",
    "\n",
    "scissors = '''\n",
    "    _______\n",
    "---'   ____)____\n",
    "          ______)\n",
    "       __________)\n",
    "      (____)\n",
    "---.__(___)\n",
    "'''\n",
    "import random\n",
    "user = int(input(\"What do you choose? Type 0 for Rock, 1 for Paper or 2 for Scissors.\"))\n",
    "\n",
    "#Write your code below this line 👇\n",
    "\n",
    "computer = random.randint(0, 2)\n",
    "\n",
    "if (user == 0):\n",
    "    print(\"\\nYou chose: \")\n",
    "    print(rock)\n",
    "    print(\"Computer chose: \")\n",
    "    if (computer == user):\n",
    "        print(rock)\n",
    "        print(\"Draw!\")\n",
    "    elif (computer == 1):\n",
    "        print(paper)\n",
    "        print(\"paper beats rock. You lost.\")\n",
    "    elif (computer == 2):\n",
    "        print(scissors)\n",
    "        print(\"rock beats scissors. You won.\")\n",
    "        \n",
    "if (user == 1):\n",
    "    print(\"\\nYou chose: \")\n",
    "    print(paper)\n",
    "    print(\"Computer chose: \")\n",
    "    if (computer == 0):\n",
    "        print(rock)\n",
    "        print(\"paper beats rock. You won.\")\n",
    "    elif (computer == user):\n",
    "        print(paper)\n",
    "        print(\"Draw!\")\n",
    "    elif (computer == 2):\n",
    "        print(scissors)\n",
    "        print(\"scissors beats paper. You lost.\")\n",
    "        \n",
    "        \n",
    "if (user == 2):\n",
    "    print(\"\\nYou chose: \")\n",
    "    print(scissors)\n",
    "    print(\"Computer chose: \")\n",
    "    if (computer == 0):\n",
    "        print(rock)\n",
    "        print(\"rock beats scissors. You lost.\")\n",
    "    elif (computer == 1):\n",
    "        print(paper)\n",
    "        print(\"scissors beats paper. You won.\")\n",
    "    elif (computer == user):\n",
    "        print(scissors)\n",
    "        print(\"Draw!\")"
   ]
  },
  {
   "cell_type": "markdown",
   "id": "b504672c",
   "metadata": {},
   "source": [
    "# FizzBuzz Game"
   ]
  },
  {
   "cell_type": "code",
   "execution_count": null,
   "id": "6d54a47c",
   "metadata": {},
   "outputs": [],
   "source": [
    "You are going to write a program that automatically prints the solution to the FizzBuzz game.\n",
    "\n",
    "Your program should print each number from 1 to 100 in turn.\n",
    "\n",
    "When the number is divisible by 3 then instead of printing the number it should print \"Fizz\".\n",
    "\n",
    "When the number is divisible by 5, then instead of printing the number it should print \"Buzz\".`\n",
    "\n",
    "  And if the number is divisible by both 3 and 5 e.g. 15 then instead of the number it should print \"FizzBuzz\""
   ]
  },
  {
   "cell_type": "code",
   "execution_count": 4,
   "id": "0e31f51d",
   "metadata": {
    "ExecuteTime": {
     "end_time": "2022-07-04T08:36:39.500144Z",
     "start_time": "2022-07-04T08:36:39.493889Z"
    }
   },
   "outputs": [
    {
     "name": "stdout",
     "output_type": "stream",
     "text": [
      "1\n",
      "2\n",
      "Fizz\n",
      "4\n",
      "Buzz\n",
      "Fizz\n",
      "7\n",
      "8\n",
      "Fizz\n",
      "Buzz\n",
      "11\n",
      "Fizz\n",
      "13\n",
      "14\n",
      "FizzBuzz\n",
      "16\n",
      "17\n",
      "Fizz\n",
      "19\n",
      "Buzz\n",
      "Fizz\n",
      "22\n",
      "23\n",
      "Fizz\n",
      "Buzz\n",
      "26\n",
      "Fizz\n",
      "28\n",
      "29\n",
      "FizzBuzz\n",
      "31\n",
      "32\n",
      "Fizz\n",
      "34\n",
      "Buzz\n",
      "Fizz\n",
      "37\n",
      "38\n",
      "Fizz\n",
      "Buzz\n",
      "41\n",
      "Fizz\n",
      "43\n",
      "44\n",
      "FizzBuzz\n",
      "46\n",
      "47\n",
      "Fizz\n",
      "49\n",
      "Buzz\n",
      "Fizz\n",
      "52\n",
      "53\n",
      "Fizz\n",
      "Buzz\n",
      "56\n",
      "Fizz\n",
      "58\n",
      "59\n",
      "FizzBuzz\n",
      "61\n",
      "62\n",
      "Fizz\n",
      "64\n",
      "Buzz\n",
      "Fizz\n",
      "67\n",
      "68\n",
      "Fizz\n",
      "Buzz\n",
      "71\n",
      "Fizz\n",
      "73\n",
      "74\n",
      "FizzBuzz\n",
      "76\n",
      "77\n",
      "Fizz\n",
      "79\n",
      "Buzz\n",
      "Fizz\n",
      "82\n",
      "83\n",
      "Fizz\n",
      "Buzz\n",
      "86\n",
      "Fizz\n",
      "88\n",
      "89\n",
      "FizzBuzz\n",
      "91\n",
      "92\n",
      "Fizz\n",
      "94\n",
      "Buzz\n",
      "Fizz\n",
      "97\n",
      "98\n",
      "Fizz\n"
     ]
    }
   ],
   "source": [
    "# write this program using python range function\n",
    "#python range function example usage\n",
    "\n",
    "for i in range(1, 100):\n",
    "    if (i % 3 == 0):\n",
    "        if (i % 5 == 0):\n",
    "            print(\"FizzBuzz\")\n",
    "        else:\n",
    "            print(\"Fizz\")\n",
    "            \n",
    "    elif (i % 5 == 0):\n",
    "        print(\"Buzz\")\n",
    "    else:\n",
    "        print(i)\n",
    "    \n"
   ]
  },
  {
   "cell_type": "code",
   "execution_count": null,
   "id": "84c9c6cb",
   "metadata": {},
   "outputs": [],
   "source": []
  },
  {
   "cell_type": "markdown",
   "id": "c37e592e",
   "metadata": {},
   "source": [
    "# Star Pattern\n",
    "\n",
    "In this program, we will develop a python program to print star using for loops\n",
    "\n",
    "```\n",
    "Enter the number of rows: 5\n",
    "Enter the number of star in each row : 4\n",
    "* * * *\n",
    "* * * *\n",
    "* * * *\n",
    "* * * *\n",
    "* * * *\n",
    "```"
   ]
  },
  {
   "cell_type": "code",
   "execution_count": 2,
   "id": "492cc956",
   "metadata": {},
   "outputs": [
    {
     "name": "stdout",
     "output_type": "stream",
     "text": [
      "Enter the number of rows: 5\n",
      "Enter the number of star in each row: 4\n",
      "* * * * \n",
      "* * * * \n",
      "* * * * \n",
      "* * * * \n",
      "* * * * \n"
     ]
    }
   ],
   "source": [
    "# Python Program to print star pattern using for loop\n",
    "def pattern(line, no_of_patterns):\n",
    "    for i in range(rows):\n",
    "        print(\"* \" * no_of_patterns)\n",
    "\n",
    "rows = int(input(\"Enter the number of rows: \"))\n",
    "no_of_patterns = int(input('Enter the number of star in each row: '))\n",
    "\n",
    "pattern(rows, no_of_patterns)"
   ]
  },
  {
   "cell_type": "markdown",
   "id": "648a3d7d",
   "metadata": {},
   "source": [
    "# Create a mixed String using the following rules\n",
    "\n",
    "Given two strings, s1 and s2. Write a program to create a new string s3 made of the first char of s1, then the last char of s2, Next, the second char of s1 and second last char of s2, and so on. Any leftover chars go at the end of the result.\n",
    "\n",
    "\n",
    "Given\n",
    "```\n",
    "s1 = \"Abc\"\n",
    "s2 = \"Xyz\"\n",
    "```\n",
    "\n",
    "Expected Output \n",
    "\n",
    "```\n",
    "AzbycX\n",
    "\n",
    "```\n",
    "\n",
    "Noted : Assume that the two string always have the same length."
   ]
  },
  {
   "cell_type": "code",
   "execution_count": 16,
   "id": "17d0fb10",
   "metadata": {
    "ExecuteTime": {
     "end_time": "2022-07-04T08:40:57.767422Z",
     "start_time": "2022-07-04T08:40:57.760693Z"
    }
   },
   "outputs": [
    {
     "name": "stdout",
     "output_type": "stream",
     "text": [
      "AzbycX\n"
     ]
    }
   ],
   "source": [
    "s1 = \"Abc\"\n",
    "s2 = \"Xyz\"\n",
    "s3 = \"\"\n",
    "\n",
    "\n",
    "for i in range(len(s1)):\n",
    "    s3 = s3 + s1[i]\n",
    "    s3 = s3 + s2[len(s1) - (i + 1)]\n",
    "\n",
    "\n",
    "print(s3)"
   ]
  }
 ],
 "metadata": {
  "kernelspec": {
   "display_name": "Python 3 (ipykernel)",
   "language": "python",
   "name": "python3"
  },
  "language_info": {
   "codemirror_mode": {
    "name": "ipython",
    "version": 3
   },
   "file_extension": ".py",
   "mimetype": "text/x-python",
   "name": "python",
   "nbconvert_exporter": "python",
   "pygments_lexer": "ipython3",
   "version": "3.9.12"
  },
  "toc": {
   "base_numbering": 1,
   "nav_menu": {},
   "number_sections": true,
   "sideBar": true,
   "skip_h1_title": false,
   "title_cell": "Table of Contents",
   "title_sidebar": "Contents",
   "toc_cell": false,
   "toc_position": {
    "height": "calc(100% - 180px)",
    "left": "10px",
    "top": "150px",
    "width": "296.312px"
   },
   "toc_section_display": true,
   "toc_window_display": true
  },
  "varInspector": {
   "cols": {
    "lenName": 16,
    "lenType": 16,
    "lenVar": 40
   },
   "kernels_config": {
    "python": {
     "delete_cmd_postfix": "",
     "delete_cmd_prefix": "del ",
     "library": "var_list.py",
     "varRefreshCmd": "print(var_dic_list())"
    },
    "r": {
     "delete_cmd_postfix": ") ",
     "delete_cmd_prefix": "rm(",
     "library": "var_list.r",
     "varRefreshCmd": "cat(var_dic_list()) "
    }
   },
   "types_to_exclude": [
    "module",
    "function",
    "builtin_function_or_method",
    "instance",
    "_Feature"
   ],
   "window_display": false
  }
 },
 "nbformat": 4,
 "nbformat_minor": 5
}
