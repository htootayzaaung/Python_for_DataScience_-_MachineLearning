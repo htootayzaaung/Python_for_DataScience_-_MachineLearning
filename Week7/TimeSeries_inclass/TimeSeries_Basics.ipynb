{
 "cells": [
  {
   "cell_type": "markdown",
   "id": "b031592f",
   "metadata": {},
   "source": [
    "# TimeSeries"
   ]
  },
  {
   "cell_type": "markdown",
   "id": "8d8b9924",
   "metadata": {},
   "source": [
    "## What is TimeSeries data ?\n",
    "\n",
    "Time series data is an important form of structured data in many different fields, such as **finance, economics, ecology, neuroscience, and physics.** \n",
    "\n",
    "Time series can also be irregular without a fixed unit of time or offset between units.\n",
    "\n",
    "    - Timestamps, specific instants in time\n",
    "    - Fixed periods, such as the month January 2007 or the full year 2010\n",
    "    - Intervals of time, indicated by a start and end timestamp. Periods can be thought of as special cases of intervals"
   ]
  },
  {
   "cell_type": "markdown",
   "id": "af72bcde",
   "metadata": {},
   "source": [
    "# Datetime\n",
    "\n"
   ]
  },
  {
   "cell_type": "code",
   "execution_count": 2,
   "id": "09ad8df4",
   "metadata": {
    "ExecuteTime": {
     "end_time": "2022-08-14T01:01:32.541498Z",
     "start_time": "2022-08-14T01:01:32.507765Z"
    }
   },
   "outputs": [
    {
     "data": {
      "text/plain": [
       "datetime.datetime(2022, 8, 14, 7, 31, 32, 510514)"
      ]
     },
     "execution_count": 2,
     "metadata": {},
     "output_type": "execute_result"
    }
   ],
   "source": [
    "from datetime import datetime\n",
    "\n",
    "now = datetime.now()\n",
    "\n",
    "now"
   ]
  },
  {
   "cell_type": "code",
   "execution_count": 3,
   "id": "2480f66c",
   "metadata": {
    "ExecuteTime": {
     "end_time": "2022-08-14T01:01:35.101752Z",
     "start_time": "2022-08-14T01:01:35.093995Z"
    },
    "scrolled": true
   },
   "outputs": [
    {
     "data": {
      "text/plain": [
       "(2022, 8, 14)"
      ]
     },
     "execution_count": 3,
     "metadata": {},
     "output_type": "execute_result"
    }
   ],
   "source": [
    "now.year, now.month, now.day"
   ]
  },
  {
   "cell_type": "code",
   "execution_count": 5,
   "id": "c20c0faf",
   "metadata": {
    "ExecuteTime": {
     "end_time": "2022-08-14T01:06:15.286256Z",
     "start_time": "2022-08-14T01:06:15.282005Z"
    }
   },
   "outputs": [
    {
     "data": {
      "text/plain": [
       "'Sunday, 14 Aug 2022 07:36:15 '"
      ]
     },
     "execution_count": 5,
     "metadata": {},
     "output_type": "execute_result"
    }
   ],
   "source": [
    "now = datetime.now()\n",
    "format = \"%A, %d %b %Y %H:%M:%S %Z\"\n",
    "now.strftime(format)"
   ]
  },
  {
   "cell_type": "code",
   "execution_count": 7,
   "id": "4499842e",
   "metadata": {
    "ExecuteTime": {
     "end_time": "2022-08-14T01:06:52.330510Z",
     "start_time": "2022-08-14T01:06:52.327519Z"
    }
   },
   "outputs": [
    {
     "data": {
      "text/plain": [
       "'RSVP by Saturday, 15-Aug-2020'"
      ]
     },
     "execution_count": 7,
     "metadata": {},
     "output_type": "execute_result"
    }
   ],
   "source": [
    "registration_date = datetime(2020, 8, 15)\n",
    "format = \"RSVP by %A, %d-%b-%Y\"\n",
    "registration_date.strftime(format)"
   ]
  },
  {
   "cell_type": "code",
   "execution_count": 8,
   "id": "9ceefc10",
   "metadata": {
    "ExecuteTime": {
     "end_time": "2022-08-14T01:08:52.847649Z",
     "start_time": "2022-08-14T01:08:52.844432Z"
    }
   },
   "outputs": [
    {
     "data": {
      "text/plain": [
       "'Submit before Thursday, 12PM 23/07/2020'"
      ]
     },
     "execution_count": 8,
     "metadata": {},
     "output_type": "execute_result"
    }
   ],
   "source": [
    "submission_date = datetime.fromtimestamp(1595485143)\n",
    "format = \"Submit before %A, %#I%p %d/%m/%Y\"\n",
    "# check notes below\n",
    "submission_date.strftime(format)\n",
    "# Submit before Thursday, 2PM 23/07/2020"
   ]
  },
  {
   "cell_type": "markdown",
   "id": "e8fefcfe",
   "metadata": {},
   "source": [
    "Commonly used classes in the datetime module are:\n",
    "\n",
    "1. date Class\n",
    "2. time Class\n",
    "3. datetime Class\n",
    "4. timedelta Class"
   ]
  },
  {
   "cell_type": "markdown",
   "id": "c2f4d2ed",
   "metadata": {},
   "source": [
    "## datetime.date"
   ]
  },
  {
   "cell_type": "code",
   "execution_count": 9,
   "id": "620ae719",
   "metadata": {
    "ExecuteTime": {
     "end_time": "2022-08-14T01:12:43.546189Z",
     "start_time": "2022-08-14T01:12:43.542050Z"
    }
   },
   "outputs": [
    {
     "name": "stdout",
     "output_type": "stream",
     "text": [
      "2019-04-13\n",
      "2019-04-13\n"
     ]
    }
   ],
   "source": [
    "## Date object to represent a date\n",
    "## method 1\n",
    "import datetime\n",
    "d = datetime.date(2019, 4, 13)\n",
    "print(d)\n",
    "\n",
    "\n",
    "## method 2\n",
    "from datetime import date\n",
    "a = date(2019, 4, 13)\n",
    "print(a)"
   ]
  },
  {
   "cell_type": "code",
   "execution_count": 5,
   "id": "122fd781",
   "metadata": {
    "ExecuteTime": {
     "end_time": "2022-08-13T14:25:30.575118Z",
     "start_time": "2022-08-13T14:25:30.555925Z"
    }
   },
   "outputs": [
    {
     "name": "stdout",
     "output_type": "stream",
     "text": [
      "2022-08-13\n",
      "Current year: 2022\n",
      "Current month: 8\n",
      "Current day: 13\n"
     ]
    }
   ],
   "source": [
    "## Get current date from \"date\" module\n",
    "from datetime import date\n",
    "\n",
    "today = date.today() \n",
    "\n",
    "print(today)\n",
    "print(\"Current year:\", today.year)\n",
    "print(\"Current month:\", today.month)\n",
    "print(\"Current day:\", today.day)"
   ]
  },
  {
   "cell_type": "code",
   "execution_count": 1,
   "id": "d58626bc",
   "metadata": {
    "ExecuteTime": {
     "end_time": "2022-08-13T17:44:38.764721Z",
     "start_time": "2022-08-13T17:44:38.712068Z"
    }
   },
   "outputs": [
    {
     "name": "stdout",
     "output_type": "stream",
     "text": [
      "Date = 2012-01-11\n"
     ]
    }
   ],
   "source": [
    "## Get the date from timestamp\n",
    "from datetime import date\n",
    "\n",
    "timestamp = date.fromtimestamp(1326244364)\n",
    "print(\"Date =\", timestamp)"
   ]
  },
  {
   "cell_type": "markdown",
   "id": "eea8aabf",
   "metadata": {},
   "source": [
    "## datetime.time\n",
    "\n",
    "A time object instantiated from the time class represents the local time."
   ]
  },
  {
   "cell_type": "code",
   "execution_count": 11,
   "id": "290c14f7",
   "metadata": {
    "ExecuteTime": {
     "end_time": "2022-08-14T01:13:31.810286Z",
     "start_time": "2022-08-14T01:13:31.805626Z"
    }
   },
   "outputs": [
    {
     "name": "stdout",
     "output_type": "stream",
     "text": [
      "a = 00:00:00\n",
      "b = 11:34:56\n",
      "c = 11:34:56\n",
      "d = 11:34:56.234566\n"
     ]
    }
   ],
   "source": [
    "from datetime import time\n",
    "\n",
    "# time(hour = 0, minute = 0, second = 0)\n",
    "a = time()\n",
    "print(\"a =\", a)\n",
    "\n",
    "# time(hour, minute and second)\n",
    "b = time(11, 34, 56)\n",
    "print(\"b =\", b)\n",
    "\n",
    "# time(hour, minute and second)\n",
    "c = time(hour = 11, minute = 34, second = 56)\n",
    "print(\"c =\", c)\n",
    "\n",
    "# time(hour, minute, second, microsecond)\n",
    "d = time(11, 34, 56, 234566)\n",
    "print(\"d =\", d)"
   ]
  },
  {
   "cell_type": "code",
   "execution_count": 8,
   "id": "b6898c88",
   "metadata": {
    "ExecuteTime": {
     "end_time": "2022-08-13T14:27:29.524212Z",
     "start_time": "2022-08-13T14:27:29.517442Z"
    }
   },
   "outputs": [
    {
     "name": "stdout",
     "output_type": "stream",
     "text": [
      "hour = 11\n",
      "minute = 34\n",
      "second = 56\n",
      "microsecond = 0\n"
     ]
    }
   ],
   "source": [
    "## microsecond : its default value 0\n",
    "from datetime import time\n",
    "\n",
    "a = time(11, 34, 56)\n",
    "\n",
    "print(\"hour =\", a.hour)\n",
    "print(\"minute =\", a.minute)\n",
    "print(\"second =\", a.second)\n",
    "print(\"microsecond =\", a.microsecond)"
   ]
  },
  {
   "cell_type": "markdown",
   "id": "dc7d1770",
   "metadata": {},
   "source": [
    "## datetime.datetime\n",
    "\n",
    "The datetime module has a class named dateclass that can contain information from both **date and time objects.**\n",
    "\n",
    "\n"
   ]
  },
  {
   "cell_type": "code",
   "execution_count": 13,
   "id": "9fea1890",
   "metadata": {
    "ExecuteTime": {
     "end_time": "2022-08-14T01:14:42.036544Z",
     "start_time": "2022-08-14T01:14:42.030825Z"
    }
   },
   "outputs": [
    {
     "name": "stdout",
     "output_type": "stream",
     "text": [
      "2018-11-28 00:00:00\n",
      "2017-11-28 23:55:59.342380\n"
     ]
    }
   ],
   "source": [
    "from datetime import datetime\n",
    "\n",
    "#datetime(year, month, day)\n",
    "a = datetime(2018, 11, 28)\n",
    "print(a)\n",
    "\n",
    "# datetime(year, month, day, hour, minute, second, microsecond)\n",
    "b = datetime(2017, 11, 28, 23, 55, 59, 342380)\n",
    "print(b)"
   ]
  },
  {
   "cell_type": "markdown",
   "id": "e97e6497",
   "metadata": {},
   "source": [
    "## datetime.timedelta\n",
    "\n",
    "**timedelta represents the temporal difference between two datetime objects:**"
   ]
  },
  {
   "cell_type": "code",
   "execution_count": 11,
   "id": "7ea8908e",
   "metadata": {
    "ExecuteTime": {
     "end_time": "2022-08-13T14:29:38.572968Z",
     "start_time": "2022-08-13T14:29:38.558837Z"
    }
   },
   "outputs": [
    {
     "name": "stdout",
     "output_type": "stream",
     "text": [
      "t3 = 201 days, 0:00:00\n",
      "t6 = -333 days, 1:14:20\n",
      "type of t3 = <class 'datetime.timedelta'>\n",
      "type of t6 = <class 'datetime.timedelta'>\n"
     ]
    }
   ],
   "source": [
    "## method 1 : without timedelta\n",
    "from datetime import datetime, date\n",
    "\n",
    "t1 = date(year = 2018, month = 7, day = 12)\n",
    "t2 = date(year = 2017, month = 12, day = 23)\n",
    "t3 = t1 - t2\n",
    "print(\"t3 =\", t3)\n",
    "\n",
    "t4 = datetime(year = 2018, month = 7, day = 12, hour = 7, minute = 9, second = 33)\n",
    "t5 = datetime(year = 2019, month = 6, day = 10, hour = 5, minute = 55, second = 13)\n",
    "t6 = t4 - t5\n",
    "print(\"t6 =\", t6)\n",
    "\n",
    "print(\"type of t3 =\", type(t3)) \n",
    "print(\"type of t6 =\", type(t6))  "
   ]
  },
  {
   "cell_type": "code",
   "execution_count": 12,
   "id": "cdd4afc9",
   "metadata": {
    "ExecuteTime": {
     "end_time": "2022-08-13T14:30:08.848620Z",
     "start_time": "2022-08-13T14:30:08.833558Z"
    },
    "scrolled": true
   },
   "outputs": [
    {
     "name": "stdout",
     "output_type": "stream",
     "text": [
      "926\n",
      "56700\n"
     ]
    }
   ],
   "source": [
    "## method 2 : without timedelta\n",
    "delta = datetime(2011, 1, 7) - datetime(2008, 6, 24, 8, 15)\n",
    "print(delta.days)\n",
    "print(delta.seconds)"
   ]
  },
  {
   "cell_type": "markdown",
   "id": "8914deab",
   "metadata": {},
   "source": [
    "\n",
    "**datetime.timedelta(days=0, seconds=0, microseconds=0, milliseconds=0, minutes=0, hours=0, weeks=0)**\n",
    "\n",
    "You can add (or subtract) a timedelta or multiple thereof to a datetime object to yield a new shifted object:"
   ]
  },
  {
   "cell_type": "code",
   "execution_count": 18,
   "id": "9b802eba",
   "metadata": {
    "ExecuteTime": {
     "end_time": "2022-08-13T14:33:58.655610Z",
     "start_time": "2022-08-13T14:33:58.646961Z"
    }
   },
   "outputs": [
    {
     "data": {
      "text/plain": [
       "datetime.timedelta(days=12)"
      ]
     },
     "execution_count": 18,
     "metadata": {},
     "output_type": "execute_result"
    }
   ],
   "source": [
    "timedelta(12)"
   ]
  },
  {
   "cell_type": "code",
   "execution_count": 14,
   "id": "e9d965b8",
   "metadata": {
    "ExecuteTime": {
     "end_time": "2022-08-13T14:31:30.246106Z",
     "start_time": "2022-08-13T14:31:30.233621Z"
    }
   },
   "outputs": [],
   "source": [
    "from datetime import timedelta\n",
    "start = datetime(2011, 1, 7)"
   ]
  },
  {
   "cell_type": "code",
   "execution_count": 8,
   "id": "c0146f3c",
   "metadata": {
    "ExecuteTime": {
     "end_time": "2022-06-13T07:28:57.824088Z",
     "start_time": "2022-06-13T07:28:57.821611Z"
    }
   },
   "outputs": [
    {
     "data": {
      "text/plain": [
       "datetime.datetime(2011, 1, 19, 0, 0)"
      ]
     },
     "execution_count": 8,
     "metadata": {},
     "output_type": "execute_result"
    }
   ],
   "source": [
    "start + timedelta(12)"
   ]
  },
  {
   "cell_type": "code",
   "execution_count": 11,
   "id": "05580f6b",
   "metadata": {
    "ExecuteTime": {
     "end_time": "2022-06-13T07:29:15.993137Z",
     "start_time": "2022-06-13T07:29:15.987563Z"
    }
   },
   "outputs": [
    {
     "data": {
      "text/plain": [
       "datetime.datetime(2010, 12, 14, 0, 0)"
      ]
     },
     "execution_count": 11,
     "metadata": {},
     "output_type": "execute_result"
    }
   ],
   "source": [
    "start - 2 * timedelta(12)"
   ]
  },
  {
   "cell_type": "code",
   "execution_count": 17,
   "id": "b85ce147",
   "metadata": {
    "ExecuteTime": {
     "end_time": "2022-08-13T14:32:25.877111Z",
     "start_time": "2022-08-13T14:32:25.865065Z"
    }
   },
   "outputs": [
    {
     "name": "stdout",
     "output_type": "stream",
     "text": [
      "t3 = -1 day, 23:59:39\n",
      "t3 = 0:00:21\n"
     ]
    }
   ],
   "source": [
    "## Printing negative timedelta object\n",
    "\n",
    "from datetime import timedelta\n",
    "\n",
    "t1 = timedelta(seconds = 33)\n",
    "t2 = timedelta(seconds = 54)\n",
    "t3 = t1 - t2\n",
    "\n",
    "print(\"t3 =\", t3)\n",
    "print(\"t3 =\", abs(t3))"
   ]
  },
  {
   "cell_type": "markdown",
   "id": "65acbdcf",
   "metadata": {},
   "source": [
    "## Parsing"
   ]
  },
  {
   "cell_type": "markdown",
   "id": "14cd7682",
   "metadata": {},
   "source": [
    "### Parse from datetime to string"
   ]
  },
  {
   "cell_type": "code",
   "execution_count": 21,
   "id": "09e5e2af",
   "metadata": {
    "ExecuteTime": {
     "end_time": "2022-08-13T14:37:37.909126Z",
     "start_time": "2022-08-13T14:37:37.894438Z"
    }
   },
   "outputs": [
    {
     "name": "stdout",
     "output_type": "stream",
     "text": [
      "2011-01-03 00:00:00\n",
      "2011-01-03\n"
     ]
    }
   ],
   "source": [
    "from datetime import datetime\n",
    "stamp = datetime(2011, 1, 3)\n",
    "\n",
    "print(str(stamp))\n",
    "\n",
    "print(stamp.strftime('%Y-%m-%d'))"
   ]
  },
  {
   "cell_type": "code",
   "execution_count": 22,
   "id": "f5031f87",
   "metadata": {
    "ExecuteTime": {
     "end_time": "2022-08-13T14:37:46.903172Z",
     "start_time": "2022-08-13T14:37:46.886754Z"
    }
   },
   "outputs": [
    {
     "data": {
      "text/plain": [
       "datetime.datetime(2011, 1, 3, 0, 0)"
      ]
     },
     "execution_count": 22,
     "metadata": {},
     "output_type": "execute_result"
    }
   ],
   "source": [
    "value = '2011-01-03'\n",
    "\n",
    "datetime.strptime(value, '%Y-%m-%d')"
   ]
  },
  {
   "cell_type": "code",
   "execution_count": 23,
   "id": "1c279f3a",
   "metadata": {
    "ExecuteTime": {
     "end_time": "2022-08-13T14:38:00.406675Z",
     "start_time": "2022-08-13T14:38:00.391469Z"
    }
   },
   "outputs": [
    {
     "data": {
      "text/plain": [
       "[datetime.datetime(2011, 7, 6, 0, 0), datetime.datetime(2011, 8, 6, 0, 0)]"
      ]
     },
     "execution_count": 23,
     "metadata": {},
     "output_type": "execute_result"
    }
   ],
   "source": [
    "datestrs = ['7/6/2011', '8/6/2011']\n",
    "[datetime.strptime(x, '%m/%d/%Y') for x in datestrs]"
   ]
  },
  {
   "cell_type": "markdown",
   "id": "7f865acf",
   "metadata": {},
   "source": [
    "### Parse from string to date"
   ]
  },
  {
   "cell_type": "code",
   "execution_count": 25,
   "id": "6cc6edca",
   "metadata": {
    "ExecuteTime": {
     "end_time": "2022-08-13T14:41:06.168486Z",
     "start_time": "2022-08-13T14:41:06.153831Z"
    }
   },
   "outputs": [
    {
     "data": {
      "text/plain": [
       "datetime.datetime(2011, 1, 3, 0, 0)"
      ]
     },
     "execution_count": 25,
     "metadata": {},
     "output_type": "execute_result"
    }
   ],
   "source": [
    "from dateutil.parser import parse\n",
    "parse('2011-01-03')"
   ]
  },
  {
   "cell_type": "code",
   "execution_count": 26,
   "id": "c9a98c48",
   "metadata": {
    "ExecuteTime": {
     "end_time": "2022-08-13T14:41:09.327734Z",
     "start_time": "2022-08-13T14:41:09.310228Z"
    }
   },
   "outputs": [
    {
     "data": {
      "text/plain": [
       "datetime.datetime(1997, 1, 31, 22, 45)"
      ]
     },
     "execution_count": 26,
     "metadata": {},
     "output_type": "execute_result"
    }
   ],
   "source": [
    "parse('Jan 31, 1997 10:45 PM')"
   ]
  },
  {
   "cell_type": "markdown",
   "id": "3d97fa6b",
   "metadata": {},
   "source": [
    "In international locales, day appearing before month is very common, so you can pass\n",
    "**dayfirst=True** to indicate this:"
   ]
  },
  {
   "cell_type": "code",
   "execution_count": 27,
   "id": "8997a359",
   "metadata": {
    "ExecuteTime": {
     "end_time": "2022-08-13T14:41:16.087210Z",
     "start_time": "2022-08-13T14:41:16.074029Z"
    }
   },
   "outputs": [
    {
     "data": {
      "text/plain": [
       "datetime.datetime(2011, 12, 6, 0, 0)"
      ]
     },
     "execution_count": 27,
     "metadata": {},
     "output_type": "execute_result"
    }
   ],
   "source": [
    "parse('6/12/2011', dayfirst=True)"
   ]
  },
  {
   "cell_type": "markdown",
   "id": "bffbea5d",
   "metadata": {},
   "source": [
    "## python timezone (pytz)"
   ]
  },
  {
   "cell_type": "code",
   "execution_count": 15,
   "id": "a7e7e2c4",
   "metadata": {
    "ExecuteTime": {
     "end_time": "2022-08-14T01:18:19.192324Z",
     "start_time": "2022-08-14T01:18:19.168045Z"
    }
   },
   "outputs": [
    {
     "name": "stdout",
     "output_type": "stream",
     "text": [
      "Number of Common Timezones :  439\n",
      "Number of All Timezones :  594\n",
      "Difference between all timezones and common timezones :  ['Australia/Canberra', 'GB-Eire', 'Asia/Thimbu', 'Etc/UTC', 'Pacific/Samoa', 'Asia/Dacca', 'PST8PDT', 'Etc/GMT+12', 'Etc/GMT-3', 'Japan', 'Jamaica', 'Etc/GMT0', 'Hongkong', 'America/Porto_Acre', 'America/Montreal', 'Asia/Chungking', 'EST5EDT', 'America/Louisville', 'GMT+0', 'Australia/Queensland', 'Australia/NSW', 'Portugal', 'Africa/Asmera', 'NZ', 'Asia/Katmandu', 'NZ-CHAT', 'Greenwich', 'Singapore', 'Canada/Saskatchewan', 'Etc/Universal', 'US/Aleutian', 'Asia/Harbin', 'Brazil/DeNoronha', 'Europe/Nicosia', 'Asia/Saigon', 'America/Godthab', 'Etc/GMT-14', 'Asia/Rangoon', 'MST7MDT', 'Australia/Tasmania', 'Etc/GMT+8', 'Etc/UCT', 'CET', 'Antarctica/South_Pole', 'Eire', 'America/Indianapolis', 'Etc/Zulu', 'Canada/Yukon', 'Cuba', 'Asia/Calcutta', 'America/Atka', 'WET', 'Mexico/BajaNorte', 'Brazil/West', 'Asia/Ujung_Pandang', 'Zulu', 'America/Ensenada', 'Etc/GMT+5', 'Australia/North', 'Mexico/General', 'Australia/LHI', 'EET', 'CST6CDT', 'Etc/GMT-10', 'Chile/EasterIsland', 'US/East-Indiana', 'US/Samoa', 'Etc/GMT-4', 'Etc/GMT-9', 'Egypt', 'Pacific/Johnston', 'Asia/Kashgar', 'HST', 'Turkey', 'Etc/GMT-8', 'US/Indiana-Starke', 'MST', 'America/Santa_Isabel', 'Asia/Chongqing', 'Iran', 'Etc/GMT-12', 'America/Rosario', 'Mexico/BajaSur', 'America/Argentina/ComodRivadavia', 'America/Mendoza', 'Pacific/Yap', 'Etc/GMT+2', 'W-SU', 'Brazil/East', 'Asia/Ulan_Bator', 'Asia/Istanbul', 'Libya', 'Kwajalein', 'Africa/Timbuktu', 'Israel', 'Etc/GMT-0', 'Iceland', 'Etc/GMT-6', 'GMT0', 'Etc/GMT+0', 'Australia/Victoria', 'Europe/Belfast', 'Etc/GMT+6', 'Etc/GMT-1', 'ROC', 'America/Fort_Wayne', 'Asia/Macao', 'America/Coral_Harbour', 'America/Buenos_Aires', 'Europe/Tiraspol', 'Asia/Tel_Aviv', 'Pacific/Ponape', 'Etc/GMT-7', 'Pacific/Enderbury', 'Australia/ACT', 'America/Knox_IN', 'Etc/GMT+10', 'Etc/GMT-13', 'GMT-0', 'America/Cordoba', 'America/Shiprock', 'UCT', 'EST', 'Etc/GMT-2', 'PRC', 'Chile/Continental', 'Etc/GMT+3', 'Etc/GMT-5', 'Etc/GMT+9', 'GB', 'MET', 'Etc/GMT+4', 'America/Virgin', 'Etc/GMT', 'Etc/GMT+1', 'Brazil/Acre', 'Pacific/Truk', 'ROK', 'Atlantic/Jan_Mayen', 'Universal', 'Etc/Greenwich', 'America/Catamarca', 'Navajo', 'Australia/Currie', 'Australia/West', 'US/Michigan', 'Australia/Yancowinna', 'Atlantic/Faeroe', 'Australia/South', 'Etc/GMT-11', 'America/Jujuy', 'Asia/Ashkhabad', 'Etc/GMT+11', 'Etc/GMT+7', 'Poland']\n"
     ]
    }
   ],
   "source": [
    "from pytz import common_timezones, all_timezones\n",
    "\n",
    "print(\"Number of Common Timezones : \", len(common_timezones))\n",
    "print(\"Number of All Timezones : \", len(all_timezones))\n",
    "print(\"Difference between all timezones and common timezones : \", list(set(all_timezones) - set(common_timezones)))"
   ]
  },
  {
   "cell_type": "code",
   "execution_count": 36,
   "id": "67bcb0c8",
   "metadata": {
    "ExecuteTime": {
     "end_time": "2022-08-13T14:57:50.051402Z",
     "start_time": "2022-08-13T14:57:50.035033Z"
    }
   },
   "outputs": [
    {
     "name": "stdout",
     "output_type": "stream",
     "text": [
      "Timezone: 22:57:50 \n",
      "Timezone: 14:57:50 UTC\n"
     ]
    }
   ],
   "source": [
    "import pytz\n",
    "\n",
    "format = \"Timezone: %H:%M:%S %Z\"\n",
    "\n",
    "now = datetime.now()\n",
    "print(now.strftime(format))\n",
    "\n",
    "now = datetime.now(pytz.utc)\n",
    "print(now.strftime(format))\n",
    "# Timezone 07:24:29 UTC\n"
   ]
  },
  {
   "cell_type": "code",
   "execution_count": 16,
   "id": "394f12a8",
   "metadata": {
    "ExecuteTime": {
     "end_time": "2022-08-14T01:20:10.644187Z",
     "start_time": "2022-08-14T01:20:10.639744Z"
    }
   },
   "outputs": [
    {
     "name": "stdout",
     "output_type": "stream",
     "text": [
      "2022-08-14 07:50:10.640654+08:00\n",
      "Asia/Singapore\n"
     ]
    }
   ],
   "source": [
    "import datetime\n",
    "import pytz\n",
    "\n",
    "d = datetime.datetime.now()\n",
    "timezone = pytz.timezone(\"Asia/Singapore\")\n",
    "d_aware = timezone.localize(d)\n",
    "print(d_aware)\n",
    "print(d_aware.tzinfo)"
   ]
  },
  {
   "cell_type": "markdown",
   "id": "316c5075",
   "metadata": {},
   "source": [
    "## Pandas datetime library"
   ]
  },
  {
   "cell_type": "markdown",
   "id": "588b8681",
   "metadata": {},
   "source": [
    "### Pandas to_datetime"
   ]
  },
  {
   "cell_type": "code",
   "execution_count": null,
   "id": "d737aa8a",
   "metadata": {},
   "outputs": [],
   "source": [
    "import pandas as pd\n",
    "datestrs = ['2011-07-06 12:00:00', '2011-08-06 00:00:00']\n",
    "pd.to_datetime(datestrs)"
   ]
  },
  {
   "cell_type": "code",
   "execution_count": 38,
   "id": "55a59587",
   "metadata": {
    "ExecuteTime": {
     "end_time": "2022-08-13T14:59:44.685251Z",
     "start_time": "2022-08-13T14:59:44.674063Z"
    }
   },
   "outputs": [
    {
     "data": {
      "text/plain": [
       "DatetimeIndex(['2011-07-06 12:00:00', '2011-08-06 00:00:00', 'NaT'], dtype='datetime64[ns]', freq=None)"
      ]
     },
     "execution_count": 38,
     "metadata": {},
     "output_type": "execute_result"
    }
   ],
   "source": [
    "## It also handles values that should be considered missing ( None , empty string, etc.):\n",
    "idx = pd.to_datetime(datestrs + [None])\n",
    "idx"
   ]
  },
  {
   "cell_type": "code",
   "execution_count": 39,
   "id": "30d63fca",
   "metadata": {
    "ExecuteTime": {
     "end_time": "2022-08-13T14:59:50.272236Z",
     "start_time": "2022-08-13T14:59:50.258901Z"
    }
   },
   "outputs": [
    {
     "data": {
      "text/plain": [
       "NaT"
      ]
     },
     "execution_count": 39,
     "metadata": {},
     "output_type": "execute_result"
    }
   ],
   "source": [
    "idx[2]"
   ]
  },
  {
   "cell_type": "markdown",
   "id": "31cab468",
   "metadata": {},
   "source": [
    "### Pandas date_range()\n",
    "\n",
    "pandas.date_range() is one of the general functions in Pandas which is used to return a fixed frequency DatetimeIndex.\n",
    "\n",
    "Syntax: pandas.date_range(start=None, end=None, periods=None, freq=None, tz=None, normalize=False, name=None, closed=None, **kwargs)"
   ]
  },
  {
   "cell_type": "code",
   "execution_count": 42,
   "id": "9104ecbb",
   "metadata": {
    "ExecuteTime": {
     "end_time": "2022-08-13T15:04:11.661039Z",
     "start_time": "2022-08-13T15:04:11.648329Z"
    },
    "scrolled": false
   },
   "outputs": [
    {
     "name": "stdout",
     "output_type": "stream",
     "text": [
      "2018-01-01 00:00:00\n",
      "2018-01-01 05:00:00\n",
      "2018-01-01 10:00:00\n",
      "2018-01-01 15:00:00\n",
      "2018-01-01 20:00:00\n",
      "2018-01-02 01:00:00\n",
      "2018-01-02 06:00:00\n",
      "2018-01-02 11:00:00\n",
      "2018-01-02 16:00:00\n",
      "2018-01-02 21:00:00\n",
      "2018-01-03 02:00:00\n",
      "2018-01-03 07:00:00\n",
      "2018-01-03 12:00:00\n",
      "2018-01-03 17:00:00\n",
      "2018-01-03 22:00:00\n",
      "2018-01-04 03:00:00\n",
      "2018-01-04 08:00:00\n",
      "2018-01-04 13:00:00\n",
      "2018-01-04 18:00:00\n",
      "2018-01-04 23:00:00\n"
     ]
    }
   ],
   "source": [
    "# importing pandas as pd\n",
    "import pandas as pd\n",
    "  \n",
    "per1 = pd.date_range(start ='1-1-2018', \n",
    "         end ='1-05-2018', freq ='5H')\n",
    "  \n",
    "for val in per1:\n",
    "    print(val)"
   ]
  },
  {
   "cell_type": "code",
   "execution_count": 43,
   "id": "171ce8d7",
   "metadata": {
    "ExecuteTime": {
     "end_time": "2022-08-13T15:05:20.067354Z",
     "start_time": "2022-08-13T15:05:20.046831Z"
    }
   },
   "outputs": [
    {
     "name": "stdout",
     "output_type": "stream",
     "text": [
      "DatetimeIndex(['2018-01-01', '2018-01-02', '2018-01-03', '2018-01-04',\n",
      "               '2018-01-05', '2018-01-06', '2018-01-07', '2018-01-08',\n",
      "               '2018-01-09', '2018-01-10', '2018-01-11', '2018-01-12',\n",
      "               '2018-01-13'],\n",
      "              dtype='datetime64[ns]', freq='D') \n",
      "\n",
      " DatetimeIndex(['2017-12-20', '2017-12-21', '2017-12-22', '2017-12-23',\n",
      "               '2017-12-24', '2017-12-25', '2017-12-26', '2017-12-27',\n",
      "               '2017-12-28', '2017-12-29', '2017-12-30', '2017-12-31',\n",
      "               '2018-01-01'],\n",
      "              dtype='datetime64[ns]', freq='D') \n",
      "\n",
      " DatetimeIndex(['2017-01-03 00:00:00', '2017-02-02 06:00:00',\n",
      "               '2017-03-04 12:00:00', '2017-04-03 18:00:00',\n",
      "               '2017-05-04 00:00:00', '2017-06-03 06:00:00',\n",
      "               '2017-07-03 12:00:00', '2017-08-02 18:00:00',\n",
      "               '2017-09-02 00:00:00', '2017-10-02 06:00:00',\n",
      "               '2017-11-01 12:00:00', '2017-12-01 18:00:00',\n",
      "               '2018-01-01 00:00:00'],\n",
      "              dtype='datetime64[ns]', freq=None)\n"
     ]
    }
   ],
   "source": [
    "# importing pandas as pd\n",
    "import pandas as pd\n",
    "  \n",
    "# Specify start and periods, the number of periods (days).\n",
    "dRan1 = pd.date_range(start ='1-1-2018', periods = 13)\n",
    "  \n",
    "# Specify end and periods, the number of periods (days).\n",
    "dRan2 = pd.date_range(end ='1-1-2018', periods = 13)\n",
    "  \n",
    "# Specify start, end, and periods; the frequency \n",
    "# is generated automatically (linearly spaced).\n",
    "dRan3 = pd.date_range(start ='01-03-2017', \n",
    "            end ='1-1-2018', periods = 13)\n",
    "  \n",
    "print(dRan1, \"\\n\\n\", dRan2, '\\n\\n', dRan3)"
   ]
  },
  {
   "cell_type": "code",
   "execution_count": 53,
   "id": "6476d4e9",
   "metadata": {
    "ExecuteTime": {
     "end_time": "2022-08-13T15:06:54.598833Z",
     "start_time": "2022-08-13T15:06:54.593836Z"
    }
   },
   "outputs": [
    {
     "data": {
      "text/plain": [
       "DatetimeIndex(['2018-01-01 00:00:00+08:00', '2018-01-02 00:00:00+08:00',\n",
       "               '2018-01-03 00:00:00+08:00', '2018-01-04 00:00:00+08:00',\n",
       "               '2018-01-05 00:00:00+08:00', '2018-01-06 00:00:00+08:00',\n",
       "               '2018-01-07 00:00:00+08:00', '2018-01-08 00:00:00+08:00',\n",
       "               '2018-01-09 00:00:00+08:00', '2018-01-10 00:00:00+08:00',\n",
       "               '2018-01-11 00:00:00+08:00', '2018-01-12 00:00:00+08:00',\n",
       "               '2018-01-13 00:00:00+08:00'],\n",
       "              dtype='datetime64[ns, Asia/Singapore]', freq='D')"
      ]
     },
     "execution_count": 53,
     "metadata": {},
     "output_type": "execute_result"
    }
   ],
   "source": [
    "# importing pandas as pd\n",
    "import pandas as pd\n",
    "  \n",
    "# Specify start and periods, the number of periods (days).\n",
    "dRan1 = pd.date_range(start ='1-1-2018', \n",
    "       periods = 13, tz=pytz.timezone('Asia/Singapore'))\n",
    "  \n",
    "dRan1"
   ]
  },
  {
   "cell_type": "markdown",
   "id": "77ce27d1",
   "metadata": {},
   "source": [
    "### Pandas period_range() "
   ]
  },
  {
   "cell_type": "markdown",
   "id": "4d50ee9b",
   "metadata": {},
   "source": [
    "pandas.period_range() is one of the general functions in Pandas which is used to return a fixed frequency PeriodIndex, with day (calendar) as the default frequency."
   ]
  },
  {
   "cell_type": "code",
   "execution_count": 54,
   "id": "a5708878",
   "metadata": {
    "ExecuteTime": {
     "end_time": "2022-08-13T15:19:46.730813Z",
     "start_time": "2022-08-13T15:19:46.693281Z"
    }
   },
   "outputs": [
    {
     "name": "stdout",
     "output_type": "stream",
     "text": [
      "PeriodIndex(['2018-12-20', '2018-12-21', '2018-12-22', '2018-12-23',\n",
      "             '2018-12-24', '2018-12-25', '2018-12-26', '2018-12-27',\n",
      "             '2018-12-28', '2018-12-29', '2018-12-30', '2018-12-31',\n",
      "             '2019-01-01'],\n",
      "            dtype='period[D]', freq='D') \n",
      "\n",
      " PeriodIndex(['2018-12', '2019-01', '2019-02', '2019-03', '2019-04', '2019-05',\n",
      "             '2019-06', '2019-07', '2019-08', '2019-09', '2019-10', '2019-11',\n",
      "             '2019-12'],\n",
      "            dtype='period[M]', freq='M')\n"
     ]
    }
   ],
   "source": [
    "# importing pandas as pd\n",
    "import pandas as pd\n",
    "\n",
    "# period_range with freq = day\n",
    "per1 = pd.period_range(start ='2018-12-20', end ='2019-01-01', freq ='D')\n",
    "\n",
    "# period_range with freq = month\n",
    "per2 = pd.period_range(start ='2018-12-20',end ='2019-12-01', freq ='M')\n",
    "\n",
    "print(per1, \"\\n\\n\", per2)"
   ]
  },
  {
   "cell_type": "markdown",
   "id": "07267a30",
   "metadata": {},
   "source": [
    "### TimeDelta Ranges (pd.timedelta_range)\n",
    "\n",
    "Pandas provides function named **timedelta_range()** just like **date_range()** and **period_range()** to create range of time deltas."
   ]
  },
  {
   "cell_type": "code",
   "execution_count": 55,
   "id": "3bb62605",
   "metadata": {
    "ExecuteTime": {
     "end_time": "2022-08-13T15:22:44.476901Z",
     "start_time": "2022-08-13T15:22:44.335207Z"
    }
   },
   "outputs": [
    {
     "data": {
      "text/plain": [
       "TimedeltaIndex([ '1 days',  '2 days',  '3 days',  '4 days',  '5 days',\n",
       "                 '6 days',  '7 days',  '8 days',  '9 days', '10 days'],\n",
       "               dtype='timedelta64[ns]', freq='D')"
      ]
     },
     "execution_count": 55,
     "metadata": {},
     "output_type": "execute_result"
    }
   ],
   "source": [
    "pd.timedelta_range(start=\"1 day\", periods=10)"
   ]
  },
  {
   "cell_type": "code",
   "execution_count": 56,
   "id": "a4e8bb85",
   "metadata": {
    "ExecuteTime": {
     "end_time": "2022-08-13T15:22:54.707352Z",
     "start_time": "2022-08-13T15:22:54.691158Z"
    }
   },
   "outputs": [
    {
     "data": {
      "text/plain": [
       "TimedeltaIndex([  '1 days',  '31 days',  '61 days',  '91 days', '121 days',\n",
       "                '151 days', '181 days', '211 days', '241 days', '271 days'],\n",
       "               dtype='timedelta64[ns]', freq='30D')"
      ]
     },
     "execution_count": 56,
     "metadata": {},
     "output_type": "execute_result"
    }
   ],
   "source": [
    "pd.timedelta_range(start=\"1 day\", periods=10, freq=\"30D\")"
   ]
  },
  {
   "cell_type": "code",
   "execution_count": 57,
   "id": "0f2cec3c",
   "metadata": {
    "ExecuteTime": {
     "end_time": "2022-08-13T15:22:59.241258Z",
     "start_time": "2022-08-13T15:22:59.227113Z"
    }
   },
   "outputs": [
    {
     "data": {
      "text/plain": [
       "TimedeltaIndex(['1 days 00:00:00', '1 days 10:00:00', '1 days 20:00:00',\n",
       "                '2 days 06:00:00', '2 days 16:00:00', '3 days 02:00:00',\n",
       "                '3 days 12:00:00', '3 days 22:00:00', '4 days 08:00:00',\n",
       "                '4 days 18:00:00'],\n",
       "               dtype='timedelta64[ns]', freq='10H')"
      ]
     },
     "execution_count": 57,
     "metadata": {},
     "output_type": "execute_result"
    }
   ],
   "source": [
    "pd.timedelta_range(start=\"1 day\", periods=10, freq=\"10H\")"
   ]
  },
  {
   "cell_type": "code",
   "execution_count": 58,
   "id": "7592c133",
   "metadata": {
    "ExecuteTime": {
     "end_time": "2022-08-13T15:23:06.769026Z",
     "start_time": "2022-08-13T15:23:06.751700Z"
    }
   },
   "outputs": [
    {
     "data": {
      "text/plain": [
       "TimedeltaIndex(['1 days 00:00:00', '1 days 04:00:00', '1 days 08:00:00',\n",
       "                '1 days 12:00:00', '1 days 16:00:00', '1 days 20:00:00',\n",
       "                '2 days 00:00:00'],\n",
       "               dtype='timedelta64[ns]', freq='4H')"
      ]
     },
     "execution_count": 58,
     "metadata": {},
     "output_type": "execute_result"
    }
   ],
   "source": [
    "pd.timedelta_range(start=\"1 day\", end=\"2 day\", freq=\"4H\")"
   ]
  },
  {
   "cell_type": "code",
   "execution_count": 59,
   "id": "19060af5",
   "metadata": {
    "ExecuteTime": {
     "end_time": "2022-08-13T15:23:09.852113Z",
     "start_time": "2022-08-13T15:23:09.842025Z"
    }
   },
   "outputs": [
    {
     "data": {
      "text/plain": [
       "TimedeltaIndex(['0 days 01:00:00', '0 days 01:10:00', '0 days 01:20:00',\n",
       "                '0 days 01:30:00', '0 days 01:40:00', '0 days 01:50:00',\n",
       "                '0 days 02:00:00'],\n",
       "               dtype='timedelta64[ns]', freq='10T')"
      ]
     },
     "execution_count": 59,
     "metadata": {},
     "output_type": "execute_result"
    }
   ],
   "source": [
    "pd.timedelta_range(start=\"1 hour\", end=\"2 hour\", freq=\"10min\")"
   ]
  },
  {
   "cell_type": "code",
   "execution_count": 60,
   "id": "acc031f0",
   "metadata": {
    "ExecuteTime": {
     "end_time": "2022-08-13T15:23:14.795938Z",
     "start_time": "2022-08-13T15:23:14.774254Z"
    }
   },
   "outputs": [
    {
     "data": {
      "text/plain": [
       "TimedeltaIndex(['0 days 00:01:00', '0 days 00:02:00', '0 days 00:03:00',\n",
       "                '0 days 00:04:00', '0 days 00:05:00'],\n",
       "               dtype='timedelta64[ns]', freq='T')"
      ]
     },
     "execution_count": 60,
     "metadata": {},
     "output_type": "execute_result"
    }
   ],
   "source": [
    "pd.timedelta_range(start=\"1 min\", end=\"5 min\", freq=\"T\")"
   ]
  },
  {
   "cell_type": "code",
   "execution_count": 61,
   "id": "51c33405",
   "metadata": {
    "ExecuteTime": {
     "end_time": "2022-08-13T15:23:17.347361Z",
     "start_time": "2022-08-13T15:23:17.324194Z"
    }
   },
   "outputs": [
    {
     "data": {
      "text/plain": [
       "TimedeltaIndex([ '2 days',  '3 days',  '4 days',  '5 days',  '6 days',\n",
       "                 '7 days',  '8 days',  '9 days', '10 days', '11 days'],\n",
       "               dtype='timedelta64[ns]', freq='D')"
      ]
     },
     "execution_count": 61,
     "metadata": {},
     "output_type": "execute_result"
    }
   ],
   "source": [
    "pd.timedelta_range(start=\"1 day\", periods=10) + pd.Timedelta(\"1 days\")"
   ]
  },
  {
   "cell_type": "markdown",
   "id": "f248708f",
   "metadata": {},
   "source": [
    "We can move time delta ranges by adding or subtracting time delta from it. "
   ]
  },
  {
   "cell_type": "code",
   "execution_count": 66,
   "id": "2a88a2b2",
   "metadata": {
    "ExecuteTime": {
     "end_time": "2022-08-13T15:24:09.077252Z",
     "start_time": "2022-08-13T15:24:09.063076Z"
    }
   },
   "outputs": [
    {
     "data": {
      "text/plain": [
       "TimedeltaIndex(['0 days', '1 days', '2 days', '3 days', '4 days', '5 days',\n",
       "                '6 days', '7 days', '8 days', '9 days'],\n",
       "               dtype='timedelta64[ns]', freq='D')"
      ]
     },
     "execution_count": 66,
     "metadata": {},
     "output_type": "execute_result"
    }
   ],
   "source": [
    "pd.timedelta_range(start=\"1 day\", periods=10) - pd.Timedelta(\"1 days\")"
   ]
  },
  {
   "cell_type": "code",
   "execution_count": 63,
   "id": "20e45b08",
   "metadata": {
    "ExecuteTime": {
     "end_time": "2022-08-13T15:23:26.486427Z",
     "start_time": "2022-08-13T15:23:26.475262Z"
    }
   },
   "outputs": [
    {
     "data": {
      "text/plain": [
       "TimedeltaIndex([ '3 days',  '4 days',  '5 days',  '6 days',  '7 days',\n",
       "                 '8 days',  '9 days', '10 days', '11 days', '12 days'],\n",
       "               dtype='timedelta64[ns]', freq='D')"
      ]
     },
     "execution_count": 63,
     "metadata": {},
     "output_type": "execute_result"
    }
   ],
   "source": [
    "pd.timedelta_range(start=\"1 day\", periods=10) + pd.Timedelta(\"2 days\")"
   ]
  },
  {
   "cell_type": "code",
   "execution_count": 64,
   "id": "9fd21404",
   "metadata": {
    "ExecuteTime": {
     "end_time": "2022-08-13T15:23:29.272570Z",
     "start_time": "2022-08-13T15:23:29.257489Z"
    }
   },
   "outputs": [
    {
     "data": {
      "text/plain": [
       "TimedeltaIndex([ '3 days 05:00:00',  '4 days 05:00:00',  '5 days 05:00:00',\n",
       "                 '6 days 05:00:00',  '7 days 05:00:00',  '8 days 05:00:00',\n",
       "                 '9 days 05:00:00', '10 days 05:00:00', '11 days 05:00:00',\n",
       "                '12 days 05:00:00'],\n",
       "               dtype='timedelta64[ns]', freq='D')"
      ]
     },
     "execution_count": 64,
     "metadata": {},
     "output_type": "execute_result"
    }
   ],
   "source": [
    "pd.timedelta_range(start=\"1 day\", periods=10) + pd.Timedelta(\"2D5H\")"
   ]
  },
  {
   "cell_type": "code",
   "execution_count": 19,
   "id": "ee94d481",
   "metadata": {
    "ExecuteTime": {
     "end_time": "2022-06-14T04:05:29.758823Z",
     "start_time": "2022-06-14T04:05:29.752387Z"
    }
   },
   "outputs": [
    {
     "data": {
      "text/plain": [
       "TimedeltaIndex([ '3 days 05:30:00',  '4 days 05:30:00',  '5 days 05:30:00',\n",
       "                 '6 days 05:30:00',  '7 days 05:30:00',  '8 days 05:30:00',\n",
       "                 '9 days 05:30:00', '10 days 05:30:00', '11 days 05:30:00',\n",
       "                '12 days 05:30:00'],\n",
       "               dtype='timedelta64[ns]', freq='D')"
      ]
     },
     "execution_count": 19,
     "metadata": {},
     "output_type": "execute_result"
    }
   ],
   "source": [
    "pd.timedelta_range(start=\"1 day\", periods=10) + pd.Timedelta(\"2D5H30min\")"
   ]
  },
  {
   "cell_type": "markdown",
   "id": "25cca188",
   "metadata": {},
   "source": [
    "### Pandas TimeZones"
   ]
  },
  {
   "cell_type": "markdown",
   "id": "041dd439",
   "metadata": {
    "ExecuteTime": {
     "end_time": "2022-06-14T04:07:45.531126Z",
     "start_time": "2022-06-14T04:07:45.524011Z"
    }
   },
   "source": [
    "Pandas let us specify timezone when creating date ranges, timestamps, etc. \n"
   ]
  },
  {
   "cell_type": "code",
   "execution_count": 69,
   "id": "9d34794f",
   "metadata": {
    "ExecuteTime": {
     "end_time": "2022-08-13T15:25:58.838634Z",
     "start_time": "2022-08-13T15:25:58.827550Z"
    }
   },
   "outputs": [
    {
     "name": "stdout",
     "output_type": "stream",
     "text": [
      "None\n"
     ]
    }
   ],
   "source": [
    "rng = pd.date_range(start=\"1-1-2020\", periods=5, freq=\"M\")\n",
    "print(rng.tz)"
   ]
  },
  {
   "cell_type": "code",
   "execution_count": 70,
   "id": "df26324c",
   "metadata": {
    "ExecuteTime": {
     "end_time": "2022-08-13T15:26:05.778545Z",
     "start_time": "2022-08-13T15:26:05.769729Z"
    }
   },
   "outputs": [
    {
     "name": "stdout",
     "output_type": "stream",
     "text": [
      "US/Eastern\n"
     ]
    }
   ],
   "source": [
    "rng = pd.date_range(start=\"1-1-2020\", periods=5, freq=\"M\", tz=\"US/Eastern\")\n",
    "print(rng.tz)"
   ]
  },
  {
   "cell_type": "code",
   "execution_count": 71,
   "id": "f0a70aa0",
   "metadata": {
    "ExecuteTime": {
     "end_time": "2022-08-13T15:26:12.967222Z",
     "start_time": "2022-08-13T15:26:12.950015Z"
    }
   },
   "outputs": [
    {
     "name": "stdout",
     "output_type": "stream",
     "text": [
      "2020-01-01 00:00:00\n",
      "None\n"
     ]
    }
   ],
   "source": [
    "ts = pd.Timestamp(\"1-1-2020\")\n",
    "print(ts)\n",
    "print(ts.tz)"
   ]
  },
  {
   "cell_type": "code",
   "execution_count": 72,
   "id": "2612b29e",
   "metadata": {
    "ExecuteTime": {
     "end_time": "2022-08-13T15:26:18.608541Z",
     "start_time": "2022-08-13T15:26:18.591806Z"
    }
   },
   "outputs": [
    {
     "name": "stdout",
     "output_type": "stream",
     "text": [
      "2020-01-01 00:00:00+05:30\n",
      "Asia/Calcutta\n"
     ]
    }
   ],
   "source": [
    "ts = pd.Timestamp(\"1-1-2020\", tz=\"Asia/Calcutta\")\n",
    "print(ts)\n",
    "print(ts.tz)"
   ]
  },
  {
   "cell_type": "markdown",
   "id": "91d03488",
   "metadata": {},
   "source": [
    "### tz_localize()\n",
    "\n",
    "Pandas provides method tz_localize() to set a timezone for date ranges, timestamp which does not have any timezone set previously. It returns modified date range, timestamp with timestamp passed to tz_localize() as set.\n"
   ]
  },
  {
   "cell_type": "code",
   "execution_count": 27,
   "id": "0e3d5c78",
   "metadata": {
    "ExecuteTime": {
     "end_time": "2022-06-14T04:16:08.507116Z",
     "start_time": "2022-06-14T04:16:08.500215Z"
    }
   },
   "outputs": [
    {
     "name": "stdout",
     "output_type": "stream",
     "text": [
      "DatetimeIndex(['2020-01-31', '2020-02-29', '2020-03-31', '2020-04-30',\n",
      "               '2020-05-31'],\n",
      "              dtype='datetime64[ns]', freq='M')\n",
      "Timezone :  None\n"
     ]
    }
   ],
   "source": [
    "rng = pd.date_range(start=\"1-1-2020\", periods=5, freq=\"M\")\n",
    "print(rng)\n",
    "print(\"Timezone : \", rng.tz)"
   ]
  },
  {
   "cell_type": "code",
   "execution_count": 28,
   "id": "36772ad6",
   "metadata": {
    "ExecuteTime": {
     "end_time": "2022-06-14T04:16:15.945248Z",
     "start_time": "2022-06-14T04:16:15.939345Z"
    }
   },
   "outputs": [
    {
     "name": "stdout",
     "output_type": "stream",
     "text": [
      "DatetimeIndex(['2020-01-31 00:00:00-05:00', '2020-02-29 00:00:00-05:00',\n",
      "               '2020-03-31 00:00:00-04:00', '2020-04-30 00:00:00-04:00',\n",
      "               '2020-05-31 00:00:00-04:00'],\n",
      "              dtype='datetime64[ns, US/Eastern]', freq=None)\n",
      "Timezone :  US/Eastern\n"
     ]
    }
   ],
   "source": [
    "rng = rng.tz_localize(\"US/Eastern\")\n",
    "print(rng)\n",
    "print(\"Timezone : \", rng.tz)"
   ]
  },
  {
   "cell_type": "code",
   "execution_count": 29,
   "id": "d00ff8d5",
   "metadata": {
    "ExecuteTime": {
     "end_time": "2022-06-14T04:16:22.094758Z",
     "start_time": "2022-06-14T04:16:22.091606Z"
    }
   },
   "outputs": [
    {
     "name": "stdout",
     "output_type": "stream",
     "text": [
      "2020-01-01 00:00:00\n",
      "Timezone :  None\n"
     ]
    }
   ],
   "source": [
    "ts = pd.Timestamp(\"1-1-2020\")\n",
    "print(ts)\n",
    "print(\"Timezone : \", ts.tz)"
   ]
  },
  {
   "cell_type": "code",
   "execution_count": 30,
   "id": "14730181",
   "metadata": {
    "ExecuteTime": {
     "end_time": "2022-06-14T04:16:30.595250Z",
     "start_time": "2022-06-14T04:16:30.586863Z"
    }
   },
   "outputs": [
    {
     "name": "stdout",
     "output_type": "stream",
     "text": [
      "2020-01-01 00:00:00-06:00\n",
      "Timezone :  US/Central\n"
     ]
    }
   ],
   "source": [
    "ts = ts.tz_localize(\"US/Central\")\n",
    "print(ts)\n",
    "print(\"Timezone : \", ts.tz)"
   ]
  },
  {
   "cell_type": "code",
   "execution_count": 74,
   "id": "edadaad9",
   "metadata": {
    "ExecuteTime": {
     "end_time": "2022-08-13T15:27:39.597540Z",
     "start_time": "2022-08-13T15:27:39.588537Z"
    }
   },
   "outputs": [],
   "source": [
    "import datetime\n",
    "import pytz\n",
    "\n",
    "my_birthday = datetime.datetime(1985, 10, 20, 17, 55)\n",
    "brothers_birthday = datetime.datetime(1992, 6, 25, 18, 30)"
   ]
  },
  {
   "cell_type": "code",
   "execution_count": 75,
   "id": "071af8c5",
   "metadata": {
    "ExecuteTime": {
     "end_time": "2022-08-13T15:27:40.017625Z",
     "start_time": "2022-08-13T15:27:40.004429Z"
    }
   },
   "outputs": [],
   "source": [
    "indy = pytz.timezone(\"America/Indianapolis\")\n",
    "my_birthday = indy.localize(my_birthday)\n",
    "brothers_birthday = indy.localize(brothers_birthday)"
   ]
  },
  {
   "cell_type": "code",
   "execution_count": 76,
   "id": "7b6d0f75",
   "metadata": {
    "ExecuteTime": {
     "end_time": "2022-08-13T15:27:40.608864Z",
     "start_time": "2022-08-13T15:27:40.602864Z"
    }
   },
   "outputs": [
    {
     "data": {
      "text/plain": [
       "datetime.datetime(1992, 6, 25, 18, 30, tzinfo=<DstTzInfo 'America/Indianapolis' EST-1 day, 19:00:00 STD>)"
      ]
     },
     "execution_count": 76,
     "metadata": {},
     "output_type": "execute_result"
    }
   ],
   "source": [
    "brothers_birthday"
   ]
  },
  {
   "cell_type": "markdown",
   "id": "bec99b80",
   "metadata": {},
   "source": [
    "### tz_convert()\n",
    "\n",
    "We can convert date ranges and timestamp from one timezone to another timezone using tz_convert() method."
   ]
  },
  {
   "cell_type": "code",
   "execution_count": 77,
   "id": "23e1d194",
   "metadata": {
    "ExecuteTime": {
     "end_time": "2022-08-13T15:27:54.806549Z",
     "start_time": "2022-08-13T15:27:54.795409Z"
    }
   },
   "outputs": [
    {
     "name": "stdout",
     "output_type": "stream",
     "text": [
      "2020-01-01 00:00:00-06:00\n",
      "Timezone :  US/Central\n"
     ]
    }
   ],
   "source": [
    "ts = pd.Timestamp(\"1-1-2020\", tz=\"US/Central\")\n",
    "print(ts)\n",
    "print(\"Timezone : \", ts.tz)"
   ]
  },
  {
   "cell_type": "code",
   "execution_count": 78,
   "id": "7ab2381f",
   "metadata": {
    "ExecuteTime": {
     "end_time": "2022-08-13T15:27:55.363731Z",
     "start_time": "2022-08-13T15:27:55.358665Z"
    }
   },
   "outputs": [
    {
     "name": "stdout",
     "output_type": "stream",
     "text": [
      "2020-01-01 01:00:00-05:00\n",
      "Timezone :  US/Eastern\n"
     ]
    }
   ],
   "source": [
    "ts = ts.tz_convert(\"US/Eastern\")\n",
    "print(ts)\n",
    "print(\"Timezone : \", ts.tz)"
   ]
  },
  {
   "cell_type": "code",
   "execution_count": 79,
   "id": "7ad63cfe",
   "metadata": {
    "ExecuteTime": {
     "end_time": "2022-08-13T15:27:58.226946Z",
     "start_time": "2022-08-13T15:27:58.215584Z"
    }
   },
   "outputs": [
    {
     "name": "stdout",
     "output_type": "stream",
     "text": [
      "DatetimeIndex(['2020-01-01 00:00:00-05:00', '2020-01-02 00:00:00-05:00',\n",
      "               '2020-01-03 00:00:00-05:00', '2020-01-04 00:00:00-05:00',\n",
      "               '2020-01-05 00:00:00-05:00'],\n",
      "              dtype='datetime64[ns, US/Eastern]', freq='D')\n",
      "Timezone :  US/Eastern\n"
     ]
    }
   ],
   "source": [
    "rng = pd.date_range(start=\"1-1-2020\", periods=5, freq=\"D\", tz=\"US/Eastern\")\n",
    "print(rng)\n",
    "print(\"Timezone : \", rng.tz)"
   ]
  },
  {
   "cell_type": "code",
   "execution_count": 80,
   "id": "0a19d9ff",
   "metadata": {
    "ExecuteTime": {
     "end_time": "2022-08-13T15:27:58.802505Z",
     "start_time": "2022-08-13T15:27:58.784242Z"
    }
   },
   "outputs": [
    {
     "name": "stdout",
     "output_type": "stream",
     "text": [
      "DatetimeIndex(['2019-12-31 23:00:00-06:00', '2020-01-01 23:00:00-06:00',\n",
      "               '2020-01-02 23:00:00-06:00', '2020-01-03 23:00:00-06:00',\n",
      "               '2020-01-04 23:00:00-06:00'],\n",
      "              dtype='datetime64[ns, US/Central]', freq='D')\n",
      "Timezone :  US/Central\n"
     ]
    }
   ],
   "source": [
    "rng = rng.tz_convert(\"US/Central\")\n",
    "print(rng)\n",
    "print(\"Timezone : \", rng.tz)"
   ]
  },
  {
   "cell_type": "code",
   "execution_count": 81,
   "id": "dbf5d3de",
   "metadata": {
    "ExecuteTime": {
     "end_time": "2022-08-13T15:28:15.315826Z",
     "start_time": "2022-08-13T15:28:15.304314Z"
    }
   },
   "outputs": [
    {
     "name": "stdout",
     "output_type": "stream",
     "text": [
      "DatetimeIndex(['2020-01-01 10:30:00+05:30', '2020-01-02 10:30:00+05:30',\n",
      "               '2020-01-03 10:30:00+05:30', '2020-01-04 10:30:00+05:30',\n",
      "               '2020-01-05 10:30:00+05:30'],\n",
      "              dtype='datetime64[ns, Asia/Calcutta]', freq='D')\n",
      "Timezone :  Asia/Calcutta\n"
     ]
    }
   ],
   "source": [
    "rng = rng.tz_convert(\"Asia/Calcutta\")\n",
    "print(rng)\n",
    "print(\"Timezone : \", rng.tz)"
   ]
  },
  {
   "cell_type": "markdown",
   "id": "e0208668",
   "metadata": {},
   "source": [
    "## Time Series Basics\n",
    "\n",
    "A basic kind of time series object in pandas is a Series indexed by timestamps, which\n",
    "is often represented external to pandas as Python strings or datetime objects:"
   ]
  },
  {
   "cell_type": "code",
   "execution_count": 82,
   "id": "0a638987",
   "metadata": {
    "ExecuteTime": {
     "end_time": "2022-08-13T15:28:48.374262Z",
     "start_time": "2022-08-13T15:28:48.356284Z"
    }
   },
   "outputs": [
    {
     "data": {
      "text/plain": [
       "2011-01-02    0.487512\n",
       "2011-01-05    1.070614\n",
       "2011-01-07   -2.051296\n",
       "2011-01-08   -3.027782\n",
       "2011-01-10   -0.398243\n",
       "2011-01-12    0.291199\n",
       "dtype: float64"
      ]
     },
     "execution_count": 82,
     "metadata": {},
     "output_type": "execute_result"
    }
   ],
   "source": [
    "import pandas as pd\n",
    "import numpy as np\n",
    "from datetime import datetime\n",
    "\n",
    "dates = [datetime(2011, 1, 2), datetime(2011, 1, 5),\n",
    "datetime(2011, 1, 7), datetime(2011, 1, 8),\n",
    "datetime(2011, 1, 10), datetime(2011, 1, 12)]\n",
    "\n",
    "ts = pd.Series(np.random.randn(6), index=dates)\n",
    "\n",
    "ts"
   ]
  },
  {
   "cell_type": "code",
   "execution_count": 86,
   "id": "4ad79e46",
   "metadata": {
    "ExecuteTime": {
     "end_time": "2022-08-13T15:30:12.161322Z",
     "start_time": "2022-08-13T15:30:12.146289Z"
    }
   },
   "outputs": [
    {
     "data": {
      "text/plain": [
       "DatetimeIndex(['2011-01-02', '2011-01-05', '2011-01-07', '2011-01-08',\n",
       "               '2011-01-10', '2011-01-12'],\n",
       "              dtype='datetime64[ns]', freq=None)"
      ]
     },
     "execution_count": 86,
     "metadata": {},
     "output_type": "execute_result"
    }
   ],
   "source": [
    "ts.index"
   ]
  },
  {
   "cell_type": "markdown",
   "id": "f92f52ce",
   "metadata": {},
   "source": [
    "Like other Series, arithmetic operations between differently indexed time series auto‐\n",
    "matically align on the dates:"
   ]
  },
  {
   "cell_type": "code",
   "execution_count": 87,
   "id": "3a7f80e5",
   "metadata": {
    "ExecuteTime": {
     "end_time": "2022-08-13T15:30:13.202783Z",
     "start_time": "2022-08-13T15:30:13.187866Z"
    }
   },
   "outputs": [
    {
     "data": {
      "text/plain": [
       "2011-01-02    0.975024\n",
       "2011-01-05         NaN\n",
       "2011-01-07   -4.102593\n",
       "2011-01-08         NaN\n",
       "2011-01-10   -0.796486\n",
       "2011-01-12         NaN\n",
       "dtype: float64"
      ]
     },
     "execution_count": 87,
     "metadata": {},
     "output_type": "execute_result"
    }
   ],
   "source": [
    "ts + ts[::2]"
   ]
  },
  {
   "cell_type": "markdown",
   "id": "a6f88714",
   "metadata": {},
   "source": [
    "Recall that ts[::2] selects every second element in ts .\n",
    "pandas stores timestamps using NumPy’s datetime64 data type at the nanosecond\n",
    "resolution:"
   ]
  },
  {
   "cell_type": "code",
   "execution_count": 88,
   "id": "e63535d6",
   "metadata": {
    "ExecuteTime": {
     "end_time": "2022-08-13T15:30:14.383249Z",
     "start_time": "2022-08-13T15:30:14.380194Z"
    }
   },
   "outputs": [
    {
     "data": {
      "text/plain": [
       "dtype('<M8[ns]')"
      ]
     },
     "execution_count": 88,
     "metadata": {},
     "output_type": "execute_result"
    }
   ],
   "source": [
    "ts.index.dtype"
   ]
  },
  {
   "cell_type": "markdown",
   "id": "90e39026",
   "metadata": {},
   "source": [
    "Scalar values from a DatetimeIndex are pandas Timestamp objects:"
   ]
  },
  {
   "cell_type": "code",
   "execution_count": 89,
   "id": "2c699b3e",
   "metadata": {
    "ExecuteTime": {
     "end_time": "2022-08-13T15:30:15.491134Z",
     "start_time": "2022-08-13T15:30:15.478082Z"
    }
   },
   "outputs": [
    {
     "data": {
      "text/plain": [
       "Timestamp('2011-01-02 00:00:00')"
      ]
     },
     "execution_count": 89,
     "metadata": {},
     "output_type": "execute_result"
    }
   ],
   "source": [
    "stamp = ts.index[0]\n",
    "\n",
    "stamp"
   ]
  },
  {
   "cell_type": "markdown",
   "id": "83885467",
   "metadata": {},
   "source": [
    "## Indexing, Selection, Subsetting"
   ]
  },
  {
   "cell_type": "code",
   "execution_count": 90,
   "id": "e45cf811",
   "metadata": {
    "ExecuteTime": {
     "end_time": "2022-08-13T15:30:18.368310Z",
     "start_time": "2022-08-13T15:30:18.346437Z"
    }
   },
   "outputs": [
    {
     "data": {
      "text/plain": [
       "-2.0512964015566757"
      ]
     },
     "execution_count": 90,
     "metadata": {},
     "output_type": "execute_result"
    }
   ],
   "source": [
    "stamp = ts.index[2]\n",
    "\n",
    "ts[stamp]"
   ]
  },
  {
   "cell_type": "code",
   "execution_count": 93,
   "id": "13719a79",
   "metadata": {
    "ExecuteTime": {
     "end_time": "2022-08-13T15:30:49.407355Z",
     "start_time": "2022-08-13T15:30:49.383276Z"
    }
   },
   "outputs": [
    {
     "data": {
      "text/plain": [
       "-0.39824305725472137"
      ]
     },
     "execution_count": 93,
     "metadata": {},
     "output_type": "execute_result"
    }
   ],
   "source": [
    "ts['1/10/2011']"
   ]
  },
  {
   "cell_type": "code",
   "execution_count": 94,
   "id": "cee3a8b6",
   "metadata": {
    "ExecuteTime": {
     "end_time": "2022-08-13T15:30:52.001930Z",
     "start_time": "2022-08-13T15:30:51.996826Z"
    }
   },
   "outputs": [
    {
     "data": {
      "text/plain": [
       "-0.39824305725472137"
      ]
     },
     "execution_count": 94,
     "metadata": {},
     "output_type": "execute_result"
    }
   ],
   "source": [
    "ts['20110110']"
   ]
  },
  {
   "cell_type": "markdown",
   "id": "a0277832",
   "metadata": {},
   "source": [
    "For longer time series, a year or only a year and month can be passed to easily select\n",
    "slices of data:"
   ]
  },
  {
   "cell_type": "code",
   "execution_count": 95,
   "id": "a497ce4a",
   "metadata": {
    "ExecuteTime": {
     "end_time": "2022-08-13T15:31:00.721240Z",
     "start_time": "2022-08-13T15:31:00.707906Z"
    }
   },
   "outputs": [
    {
     "data": {
      "text/plain": [
       "2000-01-01   -0.362929\n",
       "2000-01-02   -0.078025\n",
       "2000-01-03    1.374693\n",
       "2000-01-04   -0.379321\n",
       "2000-01-05   -0.404504\n",
       "                ...   \n",
       "2002-09-22    0.527831\n",
       "2002-09-23    1.350248\n",
       "2002-09-24   -0.570526\n",
       "2002-09-25   -0.575170\n",
       "2002-09-26   -0.367157\n",
       "Freq: D, Length: 1000, dtype: float64"
      ]
     },
     "execution_count": 95,
     "metadata": {},
     "output_type": "execute_result"
    }
   ],
   "source": [
    "longer_ts = pd.Series(np.random.randn(1000),index=pd.date_range('1/1/2000', periods=1000))\n",
    "\n",
    "longer_ts"
   ]
  },
  {
   "cell_type": "code",
   "execution_count": 96,
   "id": "3b49b042",
   "metadata": {
    "ExecuteTime": {
     "end_time": "2022-08-13T15:31:03.862382Z",
     "start_time": "2022-08-13T15:31:03.845621Z"
    }
   },
   "outputs": [
    {
     "data": {
      "text/plain": [
       "2001-01-01   -1.440389\n",
       "2001-01-02    0.878728\n",
       "2001-01-03    0.068348\n",
       "2001-01-04    0.384738\n",
       "2001-01-05   -1.354334\n",
       "                ...   \n",
       "2001-12-27   -0.629507\n",
       "2001-12-28   -0.468092\n",
       "2001-12-29   -0.930306\n",
       "2001-12-30    0.812587\n",
       "2001-12-31   -0.043869\n",
       "Freq: D, Length: 365, dtype: float64"
      ]
     },
     "execution_count": 96,
     "metadata": {},
     "output_type": "execute_result"
    }
   ],
   "source": [
    "longer_ts['2001']"
   ]
  },
  {
   "cell_type": "code",
   "execution_count": 97,
   "id": "0c4f9870",
   "metadata": {
    "ExecuteTime": {
     "end_time": "2022-08-13T15:31:05.867189Z",
     "start_time": "2022-08-13T15:31:05.853453Z"
    },
    "scrolled": true
   },
   "outputs": [
    {
     "data": {
      "text/plain": [
       "2001-05-01   -2.273047\n",
       "2001-05-02   -1.099983\n",
       "2001-05-03    0.971888\n",
       "2001-05-04    0.833413\n",
       "2001-05-05    0.647367\n",
       "2001-05-06    0.868880\n",
       "2001-05-07   -0.450436\n",
       "2001-05-08   -3.219856\n",
       "2001-05-09   -0.715843\n",
       "2001-05-10    0.471729\n",
       "2001-05-11   -3.239578\n",
       "2001-05-12    0.217159\n",
       "2001-05-13   -0.043131\n",
       "2001-05-14   -0.001210\n",
       "2001-05-15    0.038861\n",
       "2001-05-16    1.080035\n",
       "2001-05-17    0.739001\n",
       "2001-05-18   -1.462857\n",
       "2001-05-19    0.678147\n",
       "2001-05-20   -1.311016\n",
       "2001-05-21   -0.010343\n",
       "2001-05-22   -0.518714\n",
       "2001-05-23    0.433617\n",
       "2001-05-24    0.612924\n",
       "2001-05-25   -0.892959\n",
       "2001-05-26   -0.180982\n",
       "2001-05-27    0.173832\n",
       "2001-05-28    1.001356\n",
       "2001-05-29   -0.083821\n",
       "2001-05-30   -2.032613\n",
       "2001-05-31   -0.230824\n",
       "Freq: D, dtype: float64"
      ]
     },
     "execution_count": 97,
     "metadata": {},
     "output_type": "execute_result"
    }
   ],
   "source": [
    "longer_ts['2001-05']"
   ]
  },
  {
   "cell_type": "code",
   "execution_count": 98,
   "id": "42515bca",
   "metadata": {
    "ExecuteTime": {
     "end_time": "2022-08-13T15:31:08.049389Z",
     "start_time": "2022-08-13T15:31:08.041761Z"
    }
   },
   "outputs": [
    {
     "data": {
      "text/plain": [
       "2011-01-07   -2.051296\n",
       "2011-01-08   -3.027782\n",
       "2011-01-10   -0.398243\n",
       "2011-01-12    0.291199\n",
       "dtype: float64"
      ]
     },
     "execution_count": 98,
     "metadata": {},
     "output_type": "execute_result"
    }
   ],
   "source": [
    "ts[datetime(2011, 1, 7):]"
   ]
  },
  {
   "cell_type": "markdown",
   "id": "41f102c9",
   "metadata": {},
   "source": [
    "There is an equivalent instance method, truncate , that slices a Series between two\n",
    "dates:"
   ]
  },
  {
   "cell_type": "code",
   "execution_count": 100,
   "id": "350fcd67",
   "metadata": {
    "ExecuteTime": {
     "end_time": "2022-08-13T15:31:29.123062Z",
     "start_time": "2022-08-13T15:31:29.108827Z"
    }
   },
   "outputs": [
    {
     "data": {
      "text/plain": [
       "2011-01-02    0.487512\n",
       "2011-01-05    1.070614\n",
       "2011-01-07   -2.051296\n",
       "2011-01-08   -3.027782\n",
       "2011-01-10   -0.398243\n",
       "2011-01-12    0.291199\n",
       "dtype: float64"
      ]
     },
     "execution_count": 100,
     "metadata": {},
     "output_type": "execute_result"
    }
   ],
   "source": [
    "ts"
   ]
  },
  {
   "cell_type": "code",
   "execution_count": 101,
   "id": "b3cdea5a",
   "metadata": {
    "ExecuteTime": {
     "end_time": "2022-08-13T15:31:40.380501Z",
     "start_time": "2022-08-13T15:31:40.365358Z"
    }
   },
   "outputs": [
    {
     "data": {
      "text/plain": [
       "2011-01-02    0.487512\n",
       "2011-01-05    1.070614\n",
       "2011-01-07   -2.051296\n",
       "2011-01-08   -3.027782\n",
       "dtype: float64"
      ]
     },
     "execution_count": 101,
     "metadata": {},
     "output_type": "execute_result"
    }
   ],
   "source": [
    "ts.truncate(after='1/9/2011')"
   ]
  },
  {
   "cell_type": "code",
   "execution_count": 102,
   "id": "3bfeb566",
   "metadata": {
    "ExecuteTime": {
     "end_time": "2022-08-13T15:32:09.797054Z",
     "start_time": "2022-08-13T15:32:09.765980Z"
    }
   },
   "outputs": [
    {
     "data": {
      "text/html": [
       "<div>\n",
       "<style scoped>\n",
       "    .dataframe tbody tr th:only-of-type {\n",
       "        vertical-align: middle;\n",
       "    }\n",
       "\n",
       "    .dataframe tbody tr th {\n",
       "        vertical-align: top;\n",
       "    }\n",
       "\n",
       "    .dataframe thead th {\n",
       "        text-align: right;\n",
       "    }\n",
       "</style>\n",
       "<table border=\"1\" class=\"dataframe\">\n",
       "  <thead>\n",
       "    <tr style=\"text-align: right;\">\n",
       "      <th></th>\n",
       "      <th>Colorado</th>\n",
       "      <th>Texas</th>\n",
       "      <th>New York</th>\n",
       "      <th>Ohio</th>\n",
       "    </tr>\n",
       "  </thead>\n",
       "  <tbody>\n",
       "    <tr>\n",
       "      <th>2001-05-02</th>\n",
       "      <td>-0.272906</td>\n",
       "      <td>0.110220</td>\n",
       "      <td>0.222743</td>\n",
       "      <td>0.236006</td>\n",
       "    </tr>\n",
       "    <tr>\n",
       "      <th>2001-05-09</th>\n",
       "      <td>-2.010424</td>\n",
       "      <td>0.340716</td>\n",
       "      <td>2.093080</td>\n",
       "      <td>0.150531</td>\n",
       "    </tr>\n",
       "    <tr>\n",
       "      <th>2001-05-16</th>\n",
       "      <td>-0.923903</td>\n",
       "      <td>0.187398</td>\n",
       "      <td>-1.839861</td>\n",
       "      <td>1.043822</td>\n",
       "    </tr>\n",
       "    <tr>\n",
       "      <th>2001-05-23</th>\n",
       "      <td>-0.216278</td>\n",
       "      <td>0.235510</td>\n",
       "      <td>-2.032027</td>\n",
       "      <td>-0.483069</td>\n",
       "    </tr>\n",
       "    <tr>\n",
       "      <th>2001-05-30</th>\n",
       "      <td>0.001162</td>\n",
       "      <td>0.198646</td>\n",
       "      <td>0.078993</td>\n",
       "      <td>-0.373432</td>\n",
       "    </tr>\n",
       "  </tbody>\n",
       "</table>\n",
       "</div>"
      ],
      "text/plain": [
       "            Colorado     Texas  New York      Ohio\n",
       "2001-05-02 -0.272906  0.110220  0.222743  0.236006\n",
       "2001-05-09 -2.010424  0.340716  2.093080  0.150531\n",
       "2001-05-16 -0.923903  0.187398 -1.839861  1.043822\n",
       "2001-05-23 -0.216278  0.235510 -2.032027 -0.483069\n",
       "2001-05-30  0.001162  0.198646  0.078993 -0.373432"
      ]
     },
     "execution_count": 102,
     "metadata": {},
     "output_type": "execute_result"
    }
   ],
   "source": [
    "dates = pd.date_range('1/1/2000', periods=100, freq='W-WED')\n",
    "\n",
    "long_df = pd.DataFrame(np.random.randn(100, 4),index=dates,columns=['Colorado', 'Texas','New York', 'Ohio'])\n",
    "\n",
    "long_df.loc['5-2001']"
   ]
  },
  {
   "cell_type": "markdown",
   "id": "e172cfcc",
   "metadata": {},
   "source": [
    "## Time Series with Duplicate Indices"
   ]
  },
  {
   "cell_type": "code",
   "execution_count": 107,
   "id": "38660cab",
   "metadata": {
    "ExecuteTime": {
     "end_time": "2022-08-13T15:33:37.398637Z",
     "start_time": "2022-08-13T15:33:37.379993Z"
    }
   },
   "outputs": [
    {
     "data": {
      "text/plain": [
       "2000-01-01    0\n",
       "2000-01-02    1\n",
       "2000-01-02    2\n",
       "2000-01-02    3\n",
       "2000-01-03    4\n",
       "dtype: int32"
      ]
     },
     "execution_count": 107,
     "metadata": {},
     "output_type": "execute_result"
    }
   ],
   "source": [
    "dates = pd.DatetimeIndex(['1/1/2000', '1/2/2000', '1/2/2000','1/2/2000', '1/3/2000'])\n",
    "\n",
    "dup_ts = pd.Series(np.arange(5), index=dates)\n",
    "dup_ts"
   ]
  },
  {
   "cell_type": "markdown",
   "id": "53bc8acf",
   "metadata": {},
   "source": [
    "We can tell that the index is not unique by checking its is_unique property:"
   ]
  },
  {
   "cell_type": "code",
   "execution_count": 108,
   "id": "7d13ac71",
   "metadata": {
    "ExecuteTime": {
     "end_time": "2022-08-13T15:33:38.861638Z",
     "start_time": "2022-08-13T15:33:38.850209Z"
    }
   },
   "outputs": [
    {
     "data": {
      "text/plain": [
       "False"
      ]
     },
     "execution_count": 108,
     "metadata": {},
     "output_type": "execute_result"
    }
   ],
   "source": [
    "dup_ts.index.is_unique"
   ]
  },
  {
   "cell_type": "markdown",
   "id": "fa555e56",
   "metadata": {},
   "source": [
    "Indexing into this time series will now either produce scalar values or slices depend‐\n",
    "ing on whether a timestamp is duplicated:"
   ]
  },
  {
   "cell_type": "code",
   "execution_count": 109,
   "id": "86ecf8f0",
   "metadata": {
    "ExecuteTime": {
     "end_time": "2022-08-13T15:33:40.242302Z",
     "start_time": "2022-08-13T15:33:40.234240Z"
    }
   },
   "outputs": [
    {
     "data": {
      "text/plain": [
       "4"
      ]
     },
     "execution_count": 109,
     "metadata": {},
     "output_type": "execute_result"
    }
   ],
   "source": [
    "dup_ts['1/3/2000']"
   ]
  },
  {
   "cell_type": "code",
   "execution_count": 110,
   "id": "900792fc",
   "metadata": {
    "ExecuteTime": {
     "end_time": "2022-08-13T15:33:41.295620Z",
     "start_time": "2022-08-13T15:33:41.276172Z"
    }
   },
   "outputs": [
    {
     "data": {
      "text/plain": [
       "2000-01-02    1\n",
       "2000-01-02    2\n",
       "2000-01-02    3\n",
       "dtype: int32"
      ]
     },
     "execution_count": 110,
     "metadata": {},
     "output_type": "execute_result"
    }
   ],
   "source": [
    "dup_ts['1/2/2000']"
   ]
  },
  {
   "cell_type": "markdown",
   "id": "0150513f",
   "metadata": {},
   "source": [
    "Suppose you wanted to aggregate the data having non-unique timestamps. One way\n",
    "to do this is to use groupby and pass level=0 :"
   ]
  },
  {
   "cell_type": "code",
   "execution_count": 111,
   "id": "bf434058",
   "metadata": {
    "ExecuteTime": {
     "end_time": "2022-08-13T15:33:44.801229Z",
     "start_time": "2022-08-13T15:33:44.777861Z"
    }
   },
   "outputs": [
    {
     "data": {
      "text/plain": [
       "2000-01-01    0\n",
       "2000-01-02    2\n",
       "2000-01-03    4\n",
       "dtype: int32"
      ]
     },
     "execution_count": 111,
     "metadata": {},
     "output_type": "execute_result"
    }
   ],
   "source": [
    "grouped = dup_ts.groupby(level=0)\n",
    "grouped.mean()"
   ]
  },
  {
   "cell_type": "code",
   "execution_count": 112,
   "id": "726e692a",
   "metadata": {
    "ExecuteTime": {
     "end_time": "2022-08-13T15:34:04.187029Z",
     "start_time": "2022-08-13T15:34:04.176704Z"
    }
   },
   "outputs": [
    {
     "data": {
      "text/plain": [
       "2000-01-01    1\n",
       "2000-01-02    3\n",
       "2000-01-03    1\n",
       "dtype: int64"
      ]
     },
     "execution_count": 112,
     "metadata": {},
     "output_type": "execute_result"
    }
   ],
   "source": [
    "grouped.count()"
   ]
  }
 ],
 "metadata": {
  "kernelspec": {
   "display_name": "Python 3 (ipykernel)",
   "language": "python",
   "name": "python3"
  },
  "language_info": {
   "codemirror_mode": {
    "name": "ipython",
    "version": 3
   },
   "file_extension": ".py",
   "mimetype": "text/x-python",
   "name": "python",
   "nbconvert_exporter": "python",
   "pygments_lexer": "ipython3",
   "version": "3.9.12"
  },
  "toc": {
   "base_numbering": 1,
   "nav_menu": {},
   "number_sections": true,
   "sideBar": true,
   "skip_h1_title": false,
   "title_cell": "Table of Contents",
   "title_sidebar": "Contents",
   "toc_cell": false,
   "toc_position": {
    "height": "calc(100% - 180px)",
    "left": "10px",
    "top": "150px",
    "width": "320.639px"
   },
   "toc_section_display": true,
   "toc_window_display": true
  },
  "varInspector": {
   "cols": {
    "lenName": 16,
    "lenType": 16,
    "lenVar": 40
   },
   "kernels_config": {
    "python": {
     "delete_cmd_postfix": "",
     "delete_cmd_prefix": "del ",
     "library": "var_list.py",
     "varRefreshCmd": "print(var_dic_list())"
    },
    "r": {
     "delete_cmd_postfix": ") ",
     "delete_cmd_prefix": "rm(",
     "library": "var_list.r",
     "varRefreshCmd": "cat(var_dic_list()) "
    }
   },
   "types_to_exclude": [
    "module",
    "function",
    "builtin_function_or_method",
    "instance",
    "_Feature"
   ],
   "window_display": false
  }
 },
 "nbformat": 4,
 "nbformat_minor": 5
}
