{
 "cells": [
  {
   "cell_type": "markdown",
   "id": "d4e66c26",
   "metadata": {},
   "source": [
    "## Exercises"
   ]
  },
  {
   "cell_type": "markdown",
   "id": "4036bb12",
   "metadata": {},
   "source": [
    "a) Datetime object for Jan 15 2012.\n",
    "\n",
    "b) Specific date and time of 9:20 pm."
   ]
  },
  {
   "cell_type": "markdown",
   "id": "28a14de9",
   "metadata": {},
   "source": [
    "## Exercises  \n",
    "\n",
    "Write a Pandas program to create a date from a given year, month, day and another date from a given string formats. \n",
    "\n",
    "Convert \"1st of January, 2021\" to datetime\n",
    "\n",
    "Convert datetime(2020,12,25) to string"
   ]
  },
  {
   "cell_type": "markdown",
   "id": "9c92c493",
   "metadata": {},
   "source": [
    "## Exercise \n",
    "\n",
    "Write a Pandas program to print the day after and before a specified date. Also print the days between two given dates. \n",
    "\n",
    "Expected output:\n",
    "\n",
    "```\n",
    "Current date: 2012-10-30 00:00:00\n",
    "\n",
    "Tomorrow: 2012-10-31 00:00:00\n",
    "\n",
    "Yesterday: 2012-10-29 00:00:00\n",
    "\n",
    "Difference between two dates:  14 days, 0:00:00\n",
    "```"
   ]
  },
  {
   "cell_type": "markdown",
   "id": "a2ab92ea",
   "metadata": {},
   "source": [
    "## Exercise \n",
    "\n",
    "Write a Pandas program to create a date range using a startpoint date and a number of periods. \n",
    "\n",
    "start from 2020/01/01 and periods is 45."
   ]
  },
  {
   "cell_type": "markdown",
   "id": "44f7a8f7",
   "metadata": {},
   "source": [
    "## Exercise \n",
    "\n",
    "Write a Pandas program to create a whole month of dates in daily frequencies. \n",
    "\n",
    "start date = 2020-12-01, period = 31, daily and weekly\n"
   ]
  },
  {
   "cell_type": "code",
   "execution_count": null,
   "id": "e020fcf1",
   "metadata": {},
   "outputs": [],
   "source": []
  },
  {
   "cell_type": "markdown",
   "id": "128f56cf",
   "metadata": {},
   "source": [
    "## Detergent dataset"
   ]
  },
  {
   "cell_type": "code",
   "execution_count": 19,
   "id": "e40b6036",
   "metadata": {
    "ExecuteTime": {
     "end_time": "2022-08-13T17:36:09.401317Z",
     "start_time": "2022-08-13T17:36:09.386750Z"
    }
   },
   "outputs": [],
   "source": [
    "df_detergent = pd.read_csv('resource/Detergent-sales-data.csv')\n",
    "# df_detergent['Day'] = df_detergent['Months'].dt.day_name()\n",
    "# df['Month'] = df['bite_date'].dt.month_name()\n",
    "# df['Year'] = df['bite_date'].dt.year"
   ]
  },
  {
   "cell_type": "markdown",
   "id": "f9060fc3",
   "metadata": {
    "ExecuteTime": {
     "end_time": "2022-08-13T17:38:23.441835Z",
     "start_time": "2022-08-13T17:38:23.440140Z"
    }
   },
   "source": [
    "### Plot the baseline trend graph of detergent sales"
   ]
  },
  {
   "cell_type": "markdown",
   "id": "36c74bbb",
   "metadata": {},
   "source": [
    "### Plot the trend graph of detergent sales monthly"
   ]
  },
  {
   "cell_type": "markdown",
   "id": "6f66befd",
   "metadata": {},
   "source": [
    "### Plot the trend graph of detergent sales yearly"
   ]
  },
  {
   "cell_type": "markdown",
   "id": "29b1e6b6",
   "metadata": {},
   "source": [
    "### Plot the trend graph of detergent sales by day of the week"
   ]
  },
  {
   "cell_type": "markdown",
   "id": "7401020c",
   "metadata": {
    "ExecuteTime": {
     "end_time": "2022-08-13T17:39:28.605824Z",
     "start_time": "2022-08-13T17:39:28.604104Z"
    }
   },
   "source": [
    "### Upsampling by day"
   ]
  },
  {
   "cell_type": "markdown",
   "id": "fcd04288",
   "metadata": {
    "ExecuteTime": {
     "end_time": "2022-08-13T17:39:44.624219Z",
     "start_time": "2022-08-13T17:39:44.622415Z"
    }
   },
   "source": [
    "### Downsampling by day"
   ]
  },
  {
   "cell_type": "code",
   "execution_count": null,
   "id": "64a8277b",
   "metadata": {},
   "outputs": [],
   "source": []
  },
  {
   "cell_type": "markdown",
   "id": "d3b7cd8a",
   "metadata": {},
   "source": [
    "## Clinic appointment"
   ]
  },
  {
   "cell_type": "code",
   "execution_count": 1,
   "id": "8f1e558c",
   "metadata": {
    "ExecuteTime": {
     "end_time": "2022-08-13T17:12:44.161315Z",
     "start_time": "2022-08-13T17:12:43.248779Z"
    }
   },
   "outputs": [],
   "source": [
    "import pandas as pd\n",
    "import numpy as np\n",
    "import matplotlib.pyplot as plt"
   ]
  },
  {
   "cell_type": "code",
   "execution_count": 9,
   "id": "b63bdea3",
   "metadata": {
    "ExecuteTime": {
     "end_time": "2022-08-13T17:22:01.250882Z",
     "start_time": "2022-08-13T17:22:01.057090Z"
    }
   },
   "outputs": [],
   "source": [
    "df = pd.read_csv('resource/Medical_Appointment_update.csv')"
   ]
  },
  {
   "cell_type": "code",
   "execution_count": null,
   "id": "856cb84d",
   "metadata": {},
   "outputs": [],
   "source": [
    "df = df[['AppointmentID', 'Gender', 'ScheduledDay',\n",
    "       'AppointmentDay', 'Age', 'Neighbourhood','SMS_received', 'No-show']]"
   ]
  },
  {
   "cell_type": "markdown",
   "id": "5bc8fd65",
   "metadata": {},
   "source": [
    "### Plot the Trend graph of No-show based on ScheduledDay "
   ]
  },
  {
   "cell_type": "markdown",
   "id": "76d7effc",
   "metadata": {},
   "source": [
    "### Seperate No-show data with Yes No column"
   ]
  },
  {
   "cell_type": "markdown",
   "id": "c6868ea6",
   "metadata": {},
   "source": [
    "### Plot the trend graph of No-show based on Month name"
   ]
  },
  {
   "cell_type": "markdown",
   "id": "423f3d6d",
   "metadata": {},
   "source": [
    "### Plot the Trend graphof No-show based on week day name"
   ]
  },
  {
   "cell_type": "markdown",
   "id": "240cabe2",
   "metadata": {},
   "source": [
    "### Upsampling the 2015 data by 1 hour "
   ]
  },
  {
   "cell_type": "markdown",
   "id": "a1f3d186",
   "metadata": {},
   "source": [
    "### Plot the day of the week trend"
   ]
  },
  {
   "cell_type": "code",
   "execution_count": null,
   "id": "45671f7a",
   "metadata": {},
   "outputs": [],
   "source": []
  }
 ],
 "metadata": {
  "kernelspec": {
   "display_name": "sa_env",
   "language": "python",
   "name": "sa_env"
  },
  "language_info": {
   "codemirror_mode": {
    "name": "ipython",
    "version": 3
   },
   "file_extension": ".py",
   "mimetype": "text/x-python",
   "name": "python",
   "nbconvert_exporter": "python",
   "pygments_lexer": "ipython3",
   "version": "3.10.4"
  },
  "toc": {
   "base_numbering": 1,
   "nav_menu": {},
   "number_sections": true,
   "sideBar": true,
   "skip_h1_title": false,
   "title_cell": "Table of Contents",
   "title_sidebar": "Contents",
   "toc_cell": false,
   "toc_position": {
    "height": "calc(100% - 180px)",
    "left": "10px",
    "top": "150px",
    "width": "229.261px"
   },
   "toc_section_display": true,
   "toc_window_display": true
  }
 },
 "nbformat": 4,
 "nbformat_minor": 5
}
