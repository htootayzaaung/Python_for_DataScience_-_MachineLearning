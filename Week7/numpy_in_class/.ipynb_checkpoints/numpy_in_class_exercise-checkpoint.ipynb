{
 "cells": [
  {
   "cell_type": "code",
   "execution_count": 2,
   "id": "b7148c95",
   "metadata": {
    "ExecuteTime": {
     "end_time": "2022-08-12T08:42:04.350849Z",
     "start_time": "2022-08-12T08:42:04.261529Z"
    }
   },
   "outputs": [],
   "source": [
    "import numpy as np"
   ]
  },
  {
   "cell_type": "markdown",
   "id": "e15c249a",
   "metadata": {},
   "source": [
    "# Create a 1000x1000x50 array with random values "
   ]
  },
  {
   "cell_type": "code",
   "execution_count": null,
   "id": "f06fd7b4",
   "metadata": {},
   "outputs": [],
   "source": []
  },
  {
   "cell_type": "code",
   "execution_count": null,
   "id": "31eb9304",
   "metadata": {},
   "outputs": [],
   "source": []
  },
  {
   "cell_type": "markdown",
   "id": "640454ab",
   "metadata": {},
   "source": [
    "# Create a null vector of size 10 but the fourth value which is 5"
   ]
  },
  {
   "cell_type": "code",
   "execution_count": null,
   "id": "f4e0ce5f",
   "metadata": {},
   "outputs": [],
   "source": []
  },
  {
   "cell_type": "markdown",
   "id": "bd26b10f",
   "metadata": {},
   "source": [
    "# Create a 10x10 identity matrix"
   ]
  },
  {
   "cell_type": "code",
   "execution_count": null,
   "id": "9745219b",
   "metadata": {},
   "outputs": [],
   "source": []
  },
  {
   "cell_type": "markdown",
   "id": "e7b3a175",
   "metadata": {},
   "source": [
    "# Create a 6x6 array with random value from 1,10 and find the mean value"
   ]
  },
  {
   "cell_type": "code",
   "execution_count": null,
   "id": "3e882974",
   "metadata": {},
   "outputs": [],
   "source": []
  },
  {
   "cell_type": "markdown",
   "id": "fa39d6a0",
   "metadata": {},
   "source": [
    "# Create a 5x5 matrix with random value and change diagonal values with 1,2,3,4,5"
   ]
  },
  {
   "cell_type": "code",
   "execution_count": null,
   "id": "56bf9fa1",
   "metadata": {},
   "outputs": [],
   "source": []
  },
  {
   "cell_type": "markdown",
   "id": "1a454a7c",
   "metadata": {},
   "source": [
    "# create a 5x3 matrix and a 3x2 matrix and multiply them (matrix product)"
   ]
  },
  {
   "cell_type": "code",
   "execution_count": null,
   "id": "8c4e3f68",
   "metadata": {},
   "outputs": [],
   "source": []
  },
  {
   "cell_type": "code",
   "execution_count": null,
   "id": "b347b547",
   "metadata": {},
   "outputs": [],
   "source": []
  },
  {
   "cell_type": "markdown",
   "id": "0fe4e03b",
   "metadata": {},
   "source": [
    "# Compute ((A+B)*(-A/2)) "
   ]
  },
  {
   "cell_type": "code",
   "execution_count": 74,
   "id": "4dd88596",
   "metadata": {
    "ExecuteTime": {
     "end_time": "2022-08-12T10:06:39.909790Z",
     "start_time": "2022-08-12T10:06:39.904874Z"
    }
   },
   "outputs": [],
   "source": [
    "a = np.array([[3, 2],\n",
    "       [1, 2]])\n",
    "b = np.array([[1, 1],\n",
    "       [2, 2]])"
   ]
  },
  {
   "cell_type": "code",
   "execution_count": null,
   "id": "0f08ae8c",
   "metadata": {},
   "outputs": [],
   "source": []
  },
  {
   "cell_type": "markdown",
   "id": "ea9febce",
   "metadata": {},
   "source": [
    "# get the inter values from array Z"
   ]
  },
  {
   "cell_type": "code",
   "execution_count": 34,
   "id": "aaaa4dca",
   "metadata": {
    "ExecuteTime": {
     "end_time": "2022-08-12T13:24:31.586710Z",
     "start_time": "2022-08-12T13:24:31.584527Z"
    }
   },
   "outputs": [],
   "source": [
    "Z = np.array([7.0799411 , 0.49711506, 0.12911289, 1.4150807 , 7.05211707,\n",
    "       2.24443288, 3.36291566, 7.27380129, 2.14662932, 5.62338762])\n",
    "\n",
    "#expected output :\n",
    "    #[7. 0. 0. 1. 7. 2. 3. 7. 2. 5.]"
   ]
  },
  {
   "cell_type": "code",
   "execution_count": null,
   "id": "f5a1e023",
   "metadata": {},
   "outputs": [],
   "source": []
  },
  {
   "cell_type": "markdown",
   "id": "25eb15f9",
   "metadata": {},
   "source": [
    "# Create a 4x4 matrix with row values ranging from 0 to 3"
   ]
  },
  {
   "cell_type": "markdown",
   "id": "e186c082",
   "metadata": {
    "ExecuteTime": {
     "end_time": "2022-08-13T00:39:46.406580Z",
     "start_time": "2022-08-13T00:39:46.305415Z"
    }
   },
   "source": [
    "expected output\n",
    "\n",
    "            [[0. 1. 2. 3.]\n",
    "             [0. 1. 2. 3.]\n",
    "             [0. 1. 2. 3.]\n",
    "             [0. 1. 2. 3.]]"
   ]
  },
  {
   "cell_type": "code",
   "execution_count": null,
   "id": "a1420bba",
   "metadata": {},
   "outputs": [],
   "source": []
  },
  {
   "cell_type": "code",
   "execution_count": null,
   "id": "c57ea829",
   "metadata": {},
   "outputs": [],
   "source": []
  },
  {
   "cell_type": "markdown",
   "id": "8c57ed4d",
   "metadata": {},
   "source": [
    "# Create a random vector of size 6 and sort it "
   ]
  },
  {
   "cell_type": "code",
   "execution_count": null,
   "id": "76418854",
   "metadata": {},
   "outputs": [],
   "source": []
  },
  {
   "cell_type": "markdown",
   "id": "4b9c9f29",
   "metadata": {},
   "source": [
    "# Subtract the mean of each row of a matrix "
   ]
  },
  {
   "cell_type": "code",
   "execution_count": 62,
   "id": "3f486e4c",
   "metadata": {
    "ExecuteTime": {
     "end_time": "2022-08-12T14:37:42.169072Z",
     "start_time": "2022-08-12T14:37:42.166152Z"
    }
   },
   "outputs": [],
   "source": [
    "X = np.array([[9, 5, 7, 7, 8],\n",
    "       [5, 9, 5, 5, 5],\n",
    "       [5, 9, 8, 8, 9],\n",
    "       [7, 5, 5, 7, 9],\n",
    "       [6, 9, 9, 7, 9]])"
   ]
  },
  {
   "cell_type": "code",
   "execution_count": 64,
   "id": "d9ddf05f",
   "metadata": {
    "ExecuteTime": {
     "end_time": "2022-08-12T14:37:50.054961Z",
     "start_time": "2022-08-12T14:37:50.051005Z"
    }
   },
   "outputs": [
    {
     "data": {
      "text/plain": [
       "array([[ 1.8, -0.8, -0.8,  0.4,  0. ],\n",
       "       [-2.2,  3.2, -2.8, -1.6, -3. ],\n",
       "       [-2.2,  3.2,  0.2,  1.4,  1. ],\n",
       "       [-0.2, -0.8, -2.8,  0.4,  1. ],\n",
       "       [-1.2,  3.2,  1.2,  0.4,  1. ]])"
      ]
     },
     "execution_count": 64,
     "metadata": {},
     "output_type": "execute_result"
    }
   ],
   "source": [
    "expected output"
   ]
  },
  {
   "cell_type": "code",
   "execution_count": null,
   "id": "2dc24b82",
   "metadata": {},
   "outputs": [],
   "source": []
  },
  {
   "cell_type": "markdown",
   "id": "aa44a605",
   "metadata": {},
   "source": [
    "# Given an array"
   ]
  },
  {
   "cell_type": "code",
   "execution_count": 48,
   "id": "2e994be6",
   "metadata": {
    "ExecuteTime": {
     "end_time": "2022-08-12T14:12:00.361526Z",
     "start_time": "2022-08-12T14:12:00.355870Z"
    }
   },
   "outputs": [],
   "source": [
    "Z = np.array([[[[12, 19, 13, 14, 19],\n",
    "         [ 9, 19, 13,  6, 16],\n",
    "         [11, 10, 14, 17, 17],\n",
    "         [16,  7, 18, 10, 12],\n",
    "         [15, 19,  5, 14, 11]],\n",
    "\n",
    "        [[16, 15, 15, 13,  7],\n",
    "         [16, 19,  9, 10, 15],\n",
    "         [16, 14,  7,  9,  7],\n",
    "         [18,  8,  9, 18,  7],\n",
    "         [16, 11,  9, 12, 15]]],\n",
    "\n",
    "\n",
    "       [[[12, 16, 11,  8,  6],\n",
    "         [12,  6, 18, 17, 18],\n",
    "         [12,  9, 19,  7, 19],\n",
    "         [ 6,  6,  7,  9,  9],\n",
    "         [19, 13, 11, 18, 13]],\n",
    "\n",
    "        [[16, 17,  8, 12, 16],\n",
    "         [16, 11,  8, 17,  5],\n",
    "         [11, 18, 11, 18, 10],\n",
    "         [13,  8, 12,  6,  7],\n",
    "         [ 9, 18, 19, 19,  9]]]])"
   ]
  },
  {
   "cell_type": "markdown",
   "id": "f04309d6",
   "metadata": {},
   "source": [
    "\n",
    "get [15, 9, 9,7]\n",
    "\n",
    "get [19, 9, 10\n",
    "     14, 7, 9\n",
    "     8, 9, 18]\n",
    "     \n",
    "get [11, 8, 6\n",
    "     19, 7, 19\n",
    "     7, 9, 9]\n",
    "     \n"
   ]
  },
  {
   "cell_type": "code",
   "execution_count": null,
   "id": "4ddd6278",
   "metadata": {},
   "outputs": [],
   "source": []
  },
  {
   "cell_type": "code",
   "execution_count": null,
   "id": "afe5ca1a",
   "metadata": {},
   "outputs": [],
   "source": []
  },
  {
   "cell_type": "code",
   "execution_count": null,
   "id": "a6752c68",
   "metadata": {},
   "outputs": [],
   "source": []
  },
  {
   "cell_type": "markdown",
   "id": "a3b0512c",
   "metadata": {},
   "source": [
    "# Sigmoid function\n",
    "\n",
    "$$sigmoid(x) = 1 / (1 + e⁻ˣ)$$"
   ]
  },
  {
   "cell_type": "markdown",
   "id": "2b18ee33",
   "metadata": {},
   "source": [
    "expected output:\n",
    "\n",
    "\n",
    "    sigmoid(-1) = 0.2689414213699951"
   ]
  },
  {
   "cell_type": "markdown",
   "id": "5f853fce",
   "metadata": {},
   "source": [
    "# Tanh function\n",
    "\n",
    "$$tanh(x)=\\frac{exp(-x)}{(1+exp(-x))²}$$"
   ]
  },
  {
   "cell_type": "markdown",
   "id": "98bb3fdb",
   "metadata": {
    "ExecuteTime": {
     "end_time": "2022-08-12T14:47:12.838852Z",
     "start_time": "2022-08-12T14:47:12.836033Z"
    }
   },
   "source": [
    "expected output:\n",
    "    \n",
    "       tanh(-5) = -0.999909204262595"
   ]
  },
  {
   "cell_type": "markdown",
   "id": "7b926690",
   "metadata": {},
   "source": [
    "# Derivative of tanh function\n",
    "\n",
    "\n",
    "$$df(x)=[\\frac{1}{(1+exp(-x))}]*[\\frac{1}{(1/(1+exp(-x))}]$$\n"
   ]
  },
  {
   "cell_type": "markdown",
   "id": "bc7c45ab",
   "metadata": {},
   "source": [
    "expected output:\n",
    "    \n",
    "       d_tanh(-1) = 0.41997434161402614"
   ]
  },
  {
   "cell_type": "markdown",
   "id": "ab700caf",
   "metadata": {
    "ExecuteTime": {
     "end_time": "2022-08-12T14:24:00.953132Z",
     "start_time": "2022-08-12T14:24:00.949118Z"
    }
   },
   "source": [
    "# Linear regression cost function\n",
    "\n",
    "The equation for cost with one variable is:\n",
    "  $$J(w,b) = \\frac{1}{2m} \\sum\\limits_{i = 0}^{m-1} (f_{w,b}(x^{(i)}) - y^{(i)})^2 \\tag{1}$$ \n",
    " \n",
    "where \n",
    "  $$f_{w,b}(x^{(i)}) = wx^{(i)} + b \\tag{2}$$\n",
    "  \n"
   ]
  },
  {
   "cell_type": "markdown",
   "id": "aa30202b",
   "metadata": {
    "ExecuteTime": {
     "end_time": "2022-08-12T15:07:31.677420Z",
     "start_time": "2022-08-12T15:07:31.672893Z"
    }
   },
   "source": [
    "x_train = np.array([1.0, 2.0])  \n",
    "\n",
    "m = x_train.shape[0]\n",
    "\n",
    "y_train = np.array([300.0, 500.0])\n",
    "\n",
    "w = np.array([150])\n",
    "\n",
    "b = 150\n",
    "\n",
    "#expected output\n",
    "\n",
    "    compute_cost(x_train, y_train, w, b) = array([625.])"
   ]
  },
  {
   "cell_type": "code",
   "execution_count": null,
   "id": "abd406ec",
   "metadata": {},
   "outputs": [],
   "source": []
  }
 ],
 "metadata": {
  "kernelspec": {
   "display_name": "Python 3 (ipykernel)",
   "language": "python",
   "name": "python3"
  },
  "language_info": {
   "codemirror_mode": {
    "name": "ipython",
    "version": 3
   },
   "file_extension": ".py",
   "mimetype": "text/x-python",
   "name": "python",
   "nbconvert_exporter": "python",
   "pygments_lexer": "ipython3",
   "version": "3.9.12"
  },
  "toc": {
   "base_numbering": 1,
   "nav_menu": {},
   "number_sections": true,
   "sideBar": true,
   "skip_h1_title": false,
   "title_cell": "Table of Contents",
   "title_sidebar": "Contents",
   "toc_cell": false,
   "toc_position": {},
   "toc_section_display": true,
   "toc_window_display": false
  }
 },
 "nbformat": 4,
 "nbformat_minor": 5
}
