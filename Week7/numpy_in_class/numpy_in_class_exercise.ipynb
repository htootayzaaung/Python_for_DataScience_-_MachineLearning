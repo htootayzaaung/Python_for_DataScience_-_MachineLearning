{
 "cells": [
  {
   "cell_type": "code",
   "execution_count": 2,
   "id": "b7148c95",
   "metadata": {
    "ExecuteTime": {
     "end_time": "2022-08-12T08:42:04.350849Z",
     "start_time": "2022-08-12T08:42:04.261529Z"
    }
   },
   "outputs": [],
   "source": []
  },
  {
   "cell_type": "markdown",
   "id": "e15c249a",
   "metadata": {},
   "source": [
    "# Create a 1000x1000x50 array with random values "
   ]
  },
  {
   "cell_type": "code",
   "execution_count": 26,
   "id": "f06fd7b4",
   "metadata": {},
   "outputs": [
    {
     "name": "stdout",
     "output_type": "stream",
     "text": [
      "[[[0.49424066 0.24653915 0.62930851 ... 0.44823386 0.98885541 0.35504514]\n",
      "  [0.50000444 0.94849896 0.24700751 ... 0.11302992 0.27019794 0.89325971]\n",
      "  [0.69532815 0.72896411 0.53088299 ... 0.08631615 0.74378216 0.26300103]\n",
      "  ...\n",
      "  [0.45295979 0.71262134 0.83278925 ... 0.72094074 0.85388657 0.13914399]\n",
      "  [0.29376942 0.02956378 0.8971739  ... 0.75499892 0.22790854 0.84553081]\n",
      "  [0.78196255 0.14887481 0.83244542 ... 0.30057864 0.8945114  0.56516768]]\n",
      "\n",
      " [[0.98304874 0.7242973  0.89093556 ... 0.78767101 0.28539418 0.68823198]\n",
      "  [0.99604729 0.9850491  0.21757432 ... 0.93276426 0.04546211 0.31606404]\n",
      "  [0.21849046 0.92239056 0.72325548 ... 0.66247704 0.90188903 0.18464718]\n",
      "  ...\n",
      "  [0.85712803 0.38437906 0.40578825 ... 0.9571012  0.38808837 0.51009941]\n",
      "  [0.84724414 0.57171015 0.56481082 ... 0.98760553 0.99711606 0.01537881]\n",
      "  [0.17534363 0.36214822 0.84419333 ... 0.59269351 0.87997841 0.63973576]]\n",
      "\n",
      " [[0.49190927 0.08466621 0.80491592 ... 0.11722538 0.86462011 0.58554724]\n",
      "  [0.11503711 0.53863621 0.80957651 ... 0.79350421 0.08439241 0.2559355 ]\n",
      "  [0.94216431 0.14764791 0.40975223 ... 0.38074463 0.63758434 0.13624374]\n",
      "  ...\n",
      "  [0.68108203 0.82416877 0.79751741 ... 0.53164683 0.42931996 0.03376042]\n",
      "  [0.98394078 0.28077443 0.3293044  ... 0.62836689 0.68930206 0.82196489]\n",
      "  [0.05132109 0.20829243 0.38000198 ... 0.08232941 0.06444076 0.88337411]]\n",
      "\n",
      " ...\n",
      "\n",
      " [[0.69197355 0.89761907 0.19770564 ... 0.63091151 0.24788555 0.08202419]\n",
      "  [0.07767433 0.0618196  0.65656639 ... 0.91702629 0.66345333 0.67238212]\n",
      "  [0.57556822 0.194302   0.08365797 ... 0.8460239  0.77350195 0.46967546]\n",
      "  ...\n",
      "  [0.06280423 0.12570507 0.16752618 ... 0.58309637 0.07728118 0.7839454 ]\n",
      "  [0.74010651 0.49978486 0.45620609 ... 0.9662274  0.39569842 0.59818878]\n",
      "  [0.05237206 0.14592059 0.23582513 ... 0.82281828 0.54542816 0.93415975]]\n",
      "\n",
      " [[0.47384329 0.19458945 0.65749296 ... 0.2490912  0.61901163 0.54031402]\n",
      "  [0.06447082 0.28120071 0.63028551 ... 0.23433484 0.45066845 0.61859952]\n",
      "  [0.69308542 0.5325594  0.09102396 ... 0.62449785 0.92486787 0.20219139]\n",
      "  ...\n",
      "  [0.85550619 0.04821083 0.80796326 ... 0.63816028 0.54368018 0.99768692]\n",
      "  [0.83154589 0.34534848 0.49562633 ... 0.76566795 0.70571726 0.23328725]\n",
      "  [0.69171226 0.49655437 0.73734133 ... 0.25858665 0.06198638 0.51844921]]\n",
      "\n",
      " [[0.289595   0.10180903 0.68975787 ... 0.46527378 0.12890965 0.29842545]\n",
      "  [0.64293694 0.23557555 0.99778271 ... 0.47486716 0.29870224 0.40193307]\n",
      "  [0.29500789 0.53146155 0.65322585 ... 0.53649873 0.83996928 0.13947756]\n",
      "  ...\n",
      "  [0.51798587 0.78176012 0.43542692 ... 0.88242118 0.5908818  0.58973651]\n",
      "  [0.22303505 0.10223885 0.51676726 ... 0.43112651 0.11083623 0.35001509]\n",
      "  [0.00123666 0.32437076 0.00966449 ... 0.17398197 0.27010131 0.30731951]]]\n"
     ]
    }
   ],
   "source": [
    "import numpy as np\n",
    "\n",
    "np.random.rand(1000, 1000, 500)\n",
    "print(np.random.rand(1000, 1000, 500))"
   ]
  },
  {
   "cell_type": "code",
   "execution_count": null,
   "id": "31eb9304",
   "metadata": {},
   "outputs": [],
   "source": []
  },
  {
   "cell_type": "markdown",
   "id": "640454ab",
   "metadata": {},
   "source": [
    "# Create a null vector of size 10 but the fourth value which is 5"
   ]
  },
  {
   "cell_type": "code",
   "execution_count": 20,
   "id": "f4e0ce5f",
   "metadata": {},
   "outputs": [
    {
     "name": "stdout",
     "output_type": "stream",
     "text": [
      "[0. 0. 0. 0. 0. 0. 0. 0. 0. 0.]\n",
      "[0. 0. 0. 5. 0. 0. 0. 0. 0. 0.]\n"
     ]
    }
   ],
   "source": [
    "import numpy as np\n",
    "null_vector = np.zeros(10)\n",
    "print(null_vector)\n",
    "\n",
    "null_vector[3] = 5\n",
    "print(null_vector)"
   ]
  },
  {
   "cell_type": "markdown",
   "id": "bd26b10f",
   "metadata": {},
   "source": [
    "# Create a 10x10 identity matrix"
   ]
  },
  {
   "cell_type": "code",
   "execution_count": 23,
   "id": "9745219b",
   "metadata": {},
   "outputs": [
    {
     "name": "stdout",
     "output_type": "stream",
     "text": [
      "[[1 0 0 0 0 0 0 0 0 0]\n",
      " [0 1 0 0 0 0 0 0 0 0]\n",
      " [0 0 1 0 0 0 0 0 0 0]\n",
      " [0 0 0 1 0 0 0 0 0 0]\n",
      " [0 0 0 0 1 0 0 0 0 0]\n",
      " [0 0 0 0 0 1 0 0 0 0]\n",
      " [0 0 0 0 0 0 1 0 0 0]\n",
      " [0 0 0 0 0 0 0 1 0 0]\n",
      " [0 0 0 0 0 0 0 0 1 0]\n",
      " [0 0 0 0 0 0 0 0 0 1]]\n"
     ]
    }
   ],
   "source": [
    "import numpy as np\n",
    "identity_matrix_10x10 = np.identity(10, dtype = int)\n",
    "print(identity_matrix_10x10)"
   ]
  },
  {
   "cell_type": "markdown",
   "id": "e7b3a175",
   "metadata": {},
   "source": [
    "# Create a 6x6 array with random value from 1,10 and find the mean value"
   ]
  },
  {
   "cell_type": "code",
   "execution_count": 49,
   "id": "3e882974",
   "metadata": {},
   "outputs": [
    {
     "name": "stdout",
     "output_type": "stream",
     "text": [
      "[[8 4 3 2 6 9]\n",
      " [4 1 4 8 5 1]\n",
      " [3 5 2 5 5 5]\n",
      " [9 4 2 4 7 1]\n",
      " [3 1 2 7 6 4]\n",
      " [1 3 5 2 4 5]]\n",
      "4.166666666666667\n"
     ]
    }
   ],
   "source": [
    "import numpy as np\n",
    "sum = 0\n",
    "average = 0\n",
    "\n",
    "array_6x6 = np.random.randint(1, 10, size = (6, 6))\n",
    "print(array_6x6)\n",
    "\n",
    "for i in range(len(array_6x6)):\n",
    "  for j in range(len(array_6x6[i])):\n",
    "    sum += array_6x6[i][j]\n",
    "    \n",
    "average = sum / (6 * 6)\n",
    "print(average)\n",
    "\n"
   ]
  },
  {
   "cell_type": "markdown",
   "id": "fa39d6a0",
   "metadata": {},
   "source": [
    "# Create a 5x5 matrix with random value and change diagonal values with 1,2,3,4,5"
   ]
  },
  {
   "cell_type": "code",
   "execution_count": 51,
   "id": "56bf9fa1",
   "metadata": {},
   "outputs": [
    {
     "name": "stdout",
     "output_type": "stream",
     "text": [
      "[[5 1 6 8 2]\n",
      " [7 2 3 8 7]\n",
      " [9 4 6 7 5]\n",
      " [4 4 3 2 2]\n",
      " [3 9 1 1 8]]\n",
      "\n",
      "[[1 1 6 8 2]\n",
      " [7 2 3 8 7]\n",
      " [9 4 3 7 5]\n",
      " [4 4 3 4 2]\n",
      " [3 9 1 1 5]]\n"
     ]
    }
   ],
   "source": [
    "import numpy as np\n",
    "\n",
    "array_5x5 = np.random.randint(1, 10, size = (5, 5))\n",
    "print(array_5x5, end = \"\\n\\n\")\n",
    "\n",
    "array_5x5[0][0] = 1\n",
    "array_5x5[1][1] = 2\n",
    "array_5x5[2][2] = 3\n",
    "array_5x5[3][3] = 4\n",
    "array_5x5[4][4] = 5\n",
    "\n",
    "print(array_5x5)"
   ]
  },
  {
   "cell_type": "markdown",
   "id": "1a454a7c",
   "metadata": {},
   "source": [
    "# create a 5x3 matrix and a 3x2 matrix and multiply them (matrix product)"
   ]
  },
  {
   "cell_type": "code",
   "execution_count": 57,
   "id": "8c4e3f68",
   "metadata": {},
   "outputs": [
    {
     "name": "stdout",
     "output_type": "stream",
     "text": [
      "[[4 5 3]\n",
      " [5 9 7]\n",
      " [4 9 9]\n",
      " [9 9 8]\n",
      " [3 3 7]]\n",
      "\n",
      "[[2 7]\n",
      " [8 7]\n",
      " [2 4]]\n",
      "\n",
      "[[ 54  75]\n",
      " [ 96 126]\n",
      " [ 98 127]\n",
      " [106 158]\n",
      " [ 44  70]]\n"
     ]
    }
   ],
   "source": [
    "import numpy as np\n",
    "\n",
    "array_5x3 = np.random.randint(1, 10, size = (5, 3))\n",
    "print(array_5x3, end = \"\\n\\n\")\n",
    "array_3x2 = np.random.randint(1, 10, size = (3, 2))\n",
    "print(array_3x2, end = \"\\n\\n\")\n",
    "\n",
    "print(np.dot(array_5x3, array_3x2))"
   ]
  },
  {
   "cell_type": "code",
   "execution_count": null,
   "id": "b347b547",
   "metadata": {},
   "outputs": [],
   "source": []
  },
  {
   "cell_type": "markdown",
   "id": "0fe4e03b",
   "metadata": {},
   "source": [
    "# Compute ((A+B)*(-A/2)) "
   ]
  },
  {
   "cell_type": "code",
   "execution_count": 59,
   "id": "4dd88596",
   "metadata": {
    "ExecuteTime": {
     "end_time": "2022-08-12T10:06:39.909790Z",
     "start_time": "2022-08-12T10:06:39.904874Z"
    }
   },
   "outputs": [
    {
     "name": "stdout",
     "output_type": "stream",
     "text": [
      "[[3 2]\n",
      " [1 2]]\n",
      "\n",
      "[[1 1]\n",
      " [2 2]]\n",
      "\n",
      "[[-6.  -3. ]\n",
      " [-1.5 -4. ]]\n"
     ]
    }
   ],
   "source": [
    "a = np.array([[3, 2],\n",
    "       [1, 2]])\n",
    "b = np.array([[1, 1],\n",
    "       [2, 2]])\n",
    "\n",
    "print(a, end = \"\\n\\n\")\n",
    "print(b, end = \"\\n\\n\")\n",
    "\n",
    "print((a + b) * (-a / 2))"
   ]
  },
  {
   "cell_type": "code",
   "execution_count": null,
   "id": "0f08ae8c",
   "metadata": {},
   "outputs": [],
   "source": []
  },
  {
   "cell_type": "markdown",
   "id": "ea9febce",
   "metadata": {},
   "source": [
    "# get the inter values from array Z"
   ]
  },
  {
   "cell_type": "code",
   "execution_count": 62,
   "id": "aaaa4dca",
   "metadata": {
    "ExecuteTime": {
     "end_time": "2022-08-12T13:24:31.586710Z",
     "start_time": "2022-08-12T13:24:31.584527Z"
    }
   },
   "outputs": [
    {
     "name": "stdout",
     "output_type": "stream",
     "text": [
      "[7.0799411  0.49711506 0.12911289 1.4150807  7.05211707 2.24443288\n",
      " 3.36291566 7.27380129 2.14662932 5.62338762]\n",
      "[7. 0. 0. 1. 7. 2. 3. 7. 2. 5.]\n"
     ]
    }
   ],
   "source": [
    "Z = np.array([7.0799411 , 0.49711506, 0.12911289, 1.4150807 , 7.05211707, 2.24443288, 3.36291566, 7.27380129, 2.14662932, 5.62338762])\n",
    "print(Z)\n",
    "\n",
    "#expected output :\n",
    "    #[7. 0. 0. 1. 7. 2. 3. 7. 2. 5.]\n",
    "    \n",
    "for i in range(len(Z)):\n",
    "    Z[i] = int(Z[i])\n",
    "    \n",
    "print(Z)"
   ]
  },
  {
   "cell_type": "code",
   "execution_count": null,
   "id": "f5a1e023",
   "metadata": {},
   "outputs": [],
   "source": []
  },
  {
   "cell_type": "markdown",
   "id": "25eb15f9",
   "metadata": {},
   "source": [
    "# Create a 4x4 matrix with row values ranging from 0 to 3"
   ]
  },
  {
   "cell_type": "markdown",
   "id": "e186c082",
   "metadata": {
    "ExecuteTime": {
     "end_time": "2022-08-13T00:39:46.406580Z",
     "start_time": "2022-08-13T00:39:46.305415Z"
    }
   },
   "source": [
    "expected output\n",
    "\n",
    "            [[0. 1. 2. 3.]\n",
    "             [0. 1. 2. 3.]\n",
    "             [0. 1. 2. 3.]\n",
    "             [0. 1. 2. 3.]]"
   ]
  },
  {
   "cell_type": "code",
   "execution_count": 71,
   "id": "a1420bba",
   "metadata": {},
   "outputs": [
    {
     "name": "stdout",
     "output_type": "stream",
     "text": [
      "[[0. 0. 0. 0.]\n",
      " [0. 0. 0. 0.]\n",
      " [0. 0. 0. 0.]\n",
      " [0. 0. 0. 0.]]\n",
      "\n",
      "[[3. 1. 3. 3.]\n",
      " [2. 3. 1. 2.]\n",
      " [2. 0. 2. 1.]\n",
      " [3. 2. 3. 3.]]\n",
      "\n"
     ]
    }
   ],
   "source": [
    "import numpy as np\n",
    "array_4x4 = np.zeros((4, 4))\n",
    "print(array_4x4, end = \"\\n\\n\")\n",
    "\n",
    "for i in range(4):\n",
    "    for j in range(4):\n",
    "        array_4x4[i][j] = random.randint(0, 3)\n",
    "        \n",
    "print(array_4x4, end = \"\\n\\n\")"
   ]
  },
  {
   "cell_type": "code",
   "execution_count": null,
   "id": "c57ea829",
   "metadata": {},
   "outputs": [],
   "source": []
  },
  {
   "cell_type": "markdown",
   "id": "8c57ed4d",
   "metadata": {},
   "source": [
    "# Create a random vector of size 6 and sort it "
   ]
  },
  {
   "cell_type": "code",
   "execution_count": 77,
   "id": "76418854",
   "metadata": {},
   "outputs": [
    {
     "name": "stdout",
     "output_type": "stream",
     "text": [
      "[6. 5. 4. 3. 2. 1.]\n",
      "[1. 2. 3. 4. 5. 6.]\n"
     ]
    }
   ],
   "source": [
    "import numpy as np\n",
    "null_vector = np.zeros(6)\n",
    "\n",
    "for i in range(len(null_vector)):\n",
    "    null_vector[i] = len(null_vector) - i\n",
    "\n",
    "print(null_vector)\n",
    "print(np.sort(null_vector))\n"
   ]
  },
  {
   "cell_type": "markdown",
   "id": "4b9c9f29",
   "metadata": {},
   "source": [
    "# Subtract the mean of each row of a matrix "
   ]
  },
  {
   "cell_type": "code",
   "execution_count": 106,
   "id": "3f486e4c",
   "metadata": {
    "ExecuteTime": {
     "end_time": "2022-08-12T14:37:42.169072Z",
     "start_time": "2022-08-12T14:37:42.166152Z"
    }
   },
   "outputs": [
    {
     "name": "stdout",
     "output_type": "stream",
     "text": [
      "9 5 7 7 8 36\n",
      "5 9 5 5 5 29\n",
      "5 9 8 8 9 39\n",
      "7 5 5 7 9 33\n",
      "6 9 9 7 9 40\n",
      "[36, 29, 39, 33, 40]\n",
      "[7.2, 5.8, 7.8, 6.6, 8.0]\n",
      "[[ 1  0  0  0  0]\n",
      " [-2  3 -2 -1 -3]\n",
      " [-2  3  0  1  1]\n",
      " [ 0  0 -2  0  1]\n",
      " [-1  3  1  0  1]]\n"
     ]
    }
   ],
   "source": [
    "import numpy\n",
    "\n",
    "X = np.array([[9, 5, 7, 7, 8],\n",
    "       [5, 9, 5, 5, 5],\n",
    "       [5, 9, 8, 8, 9],\n",
    "       [7, 5, 5, 7, 9],\n",
    "       [6, 9, 9, 7, 9]])\n",
    "\n",
    "sum_row = [0, 0, 0, 0, 0]\n",
    "means = [0, 0, 0, 0, 0]\n",
    "element_count = 1\n",
    "\n",
    "for i in range(5):\n",
    "    for j in range(5):\n",
    "        print(X[i][j], end = \" \")\n",
    "        sum_row[i] += X[i][j]\n",
    "    print(sum_row[i])\n",
    "    \n",
    "print(sum_row)\n",
    "\n",
    "for i in range(len(sum_row)):\n",
    "    means[i] = sum_row[i] / 5.0\n",
    "    \n",
    "print(means)\n",
    "\n",
    "for i in range(5):\n",
    "    for j in range(5):\n",
    "        X[i][j] = X[i][j] - means[j]\n",
    "\n",
    "print(X)"
   ]
  },
  {
   "cell_type": "code",
   "execution_count": 93,
   "id": "d9ddf05f",
   "metadata": {
    "ExecuteTime": {
     "end_time": "2022-08-12T14:37:50.054961Z",
     "start_time": "2022-08-12T14:37:50.051005Z"
    },
    "scrolled": true
   },
   "outputs": [
    {
     "ename": "SyntaxError",
     "evalue": "invalid syntax (360555450.py, line 1)",
     "output_type": "error",
     "traceback": [
      "\u001b[0;36m  Input \u001b[0;32mIn [93]\u001b[0;36m\u001b[0m\n\u001b[0;31m    expected output\u001b[0m\n\u001b[0m             ^\u001b[0m\n\u001b[0;31mSyntaxError\u001b[0m\u001b[0;31m:\u001b[0m invalid syntax\n"
     ]
    }
   ],
   "source": [
    "expected output\n",
    "\n",
    "array([[ 1.8, -0.8, -0.8,  0.4,  0. ],\n",
    "       [-2.2,  3.2, -2.8, -1.6, -3. ],\n",
    "       [-2.2,  3.2,  0.2,  1.4,  1. ],\n",
    "       [-0.2, -0.8, -2.8,  0.4,  1. ],\n",
    "       [-1.2,  3.2,  1.2,  0.4,  1. ]])"
   ]
  },
  {
   "cell_type": "code",
   "execution_count": null,
   "id": "2dc24b82",
   "metadata": {},
   "outputs": [],
   "source": []
  },
  {
   "cell_type": "markdown",
   "id": "aa44a605",
   "metadata": {},
   "source": [
    "# Given an array"
   ]
  },
  {
   "cell_type": "code",
   "execution_count": 48,
   "id": "2e994be6",
   "metadata": {
    "ExecuteTime": {
     "end_time": "2022-08-12T14:12:00.361526Z",
     "start_time": "2022-08-12T14:12:00.355870Z"
    }
   },
   "outputs": [],
   "source": [
    "Z = np.array([[[[12, 19, 13, 14, 19],\n",
    "         [ 9, 19, 13,  6, 16],\n",
    "         [11, 10, 14, 17, 17],\n",
    "         [16,  7, 18, 10, 12],\n",
    "         [15, 19,  5, 14, 11]],\n",
    "\n",
    "        [[16, 15, 15, 13,  7],\n",
    "         [16, 19,  9, 10, 15],\n",
    "         [16, 14,  7,  9,  7],\n",
    "         [18,  8,  9, 18,  7],\n",
    "         [16, 11,  9, 12, 15]]],\n",
    "\n",
    "\n",
    "       [[[12, 16, 11,  8,  6],\n",
    "         [12,  6, 18, 17, 18],\n",
    "         [12,  9, 19,  7, 19],\n",
    "         [ 6,  6,  7,  9,  9],\n",
    "         [19, 13, 11, 18, 13]],\n",
    "\n",
    "        [[16, 17,  8, 12, 16],\n",
    "         [16, 11,  8, 17,  5],\n",
    "         [11, 18, 11, 18, 10],\n",
    "         [13,  8, 12,  6,  7],\n",
    "         [ 9, 18, 19, 19,  9]]]])"
   ]
  },
  {
   "cell_type": "markdown",
   "id": "f04309d6",
   "metadata": {},
   "source": [
    "\n",
    "get [15, 9, 9,7]\n",
    "\n",
    "get [19, 9, 10\n",
    "     14, 7, 9\n",
    "     8, 9, 18]\n",
    "     \n",
    "get [11, 8, 6\n",
    "     19, 7, 19\n",
    "     7, 9, 9]\n",
    "     \n"
   ]
  },
  {
   "cell_type": "code",
   "execution_count": null,
   "id": "4ddd6278",
   "metadata": {},
   "outputs": [],
   "source": []
  },
  {
   "cell_type": "code",
   "execution_count": null,
   "id": "afe5ca1a",
   "metadata": {},
   "outputs": [],
   "source": []
  },
  {
   "cell_type": "code",
   "execution_count": null,
   "id": "a6752c68",
   "metadata": {},
   "outputs": [],
   "source": []
  },
  {
   "cell_type": "markdown",
   "id": "a3b0512c",
   "metadata": {},
   "source": [
    "# Sigmoid function\n",
    "\n",
    "$$sigmoid(x) = 1 / (1 + e⁻ˣ)$$"
   ]
  },
  {
   "cell_type": "markdown",
   "id": "2b18ee33",
   "metadata": {},
   "source": [
    "expected output:\n",
    "\n",
    "\n",
    "    sigmoid(-1) = 0.2689414213699951"
   ]
  },
  {
   "cell_type": "markdown",
   "id": "5f853fce",
   "metadata": {},
   "source": [
    "# Tanh function\n",
    "\n",
    "$$tanh(x)=\\frac{exp(-x)}{(1+exp(-x))²}$$"
   ]
  },
  {
   "cell_type": "markdown",
   "id": "98bb3fdb",
   "metadata": {
    "ExecuteTime": {
     "end_time": "2022-08-12T14:47:12.838852Z",
     "start_time": "2022-08-12T14:47:12.836033Z"
    }
   },
   "source": [
    "expected output:\n",
    "    \n",
    "       tanh(-5) = -0.999909204262595"
   ]
  },
  {
   "cell_type": "markdown",
   "id": "7b926690",
   "metadata": {},
   "source": [
    "# Derivative of tanh function\n",
    "\n",
    "\n",
    "$$df(x)=[\\frac{1}{(1+exp(-x))}]*[\\frac{1}{(1/(1+exp(-x))}]$$\n"
   ]
  },
  {
   "cell_type": "markdown",
   "id": "bc7c45ab",
   "metadata": {},
   "source": [
    "expected output:\n",
    "    \n",
    "       d_tanh(-1) = 0.41997434161402614"
   ]
  },
  {
   "cell_type": "markdown",
   "id": "ab700caf",
   "metadata": {
    "ExecuteTime": {
     "end_time": "2022-08-12T14:24:00.953132Z",
     "start_time": "2022-08-12T14:24:00.949118Z"
    }
   },
   "source": [
    "# Linear regression cost function\n",
    "\n",
    "The equation for cost with one variable is:\n",
    "  $$J(w,b) = \\frac{1}{2m} \\sum\\limits_{i = 0}^{m-1} (f_{w,b}(x^{(i)}) - y^{(i)})^2 \\tag{1}$$ \n",
    " \n",
    "where \n",
    "  $$f_{w,b}(x^{(i)}) = wx^{(i)} + b \\tag{2}$$\n",
    "  \n"
   ]
  },
  {
   "cell_type": "markdown",
   "id": "aa30202b",
   "metadata": {
    "ExecuteTime": {
     "end_time": "2022-08-12T15:07:31.677420Z",
     "start_time": "2022-08-12T15:07:31.672893Z"
    }
   },
   "source": [
    "x_train = np.array([1.0, 2.0])  \n",
    "\n",
    "m = x_train.shape[0]\n",
    "\n",
    "y_train = np.array([300.0, 500.0])\n",
    "\n",
    "w = np.array([150])\n",
    "\n",
    "b = 150\n",
    "\n",
    "#expected output\n",
    "\n",
    "    compute_cost(x_train, y_train, w, b) = array([625.])"
   ]
  },
  {
   "cell_type": "code",
   "execution_count": null,
   "id": "abd406ec",
   "metadata": {},
   "outputs": [],
   "source": []
  }
 ],
 "metadata": {
  "kernelspec": {
   "display_name": "Python 3 (ipykernel)",
   "language": "python",
   "name": "python3"
  },
  "language_info": {
   "codemirror_mode": {
    "name": "ipython",
    "version": 3
   },
   "file_extension": ".py",
   "mimetype": "text/x-python",
   "name": "python",
   "nbconvert_exporter": "python",
   "pygments_lexer": "ipython3",
   "version": "3.9.12"
  },
  "toc": {
   "base_numbering": 1,
   "nav_menu": {},
   "number_sections": true,
   "sideBar": true,
   "skip_h1_title": false,
   "title_cell": "Table of Contents",
   "title_sidebar": "Contents",
   "toc_cell": false,
   "toc_position": {},
   "toc_section_display": true,
   "toc_window_display": false
  }
 },
 "nbformat": 4,
 "nbformat_minor": 5
}
