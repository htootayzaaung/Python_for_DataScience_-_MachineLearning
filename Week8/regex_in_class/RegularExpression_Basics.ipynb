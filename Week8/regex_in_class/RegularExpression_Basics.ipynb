{
 "cells": [
  {
   "cell_type": "code",
   "execution_count": null,
   "metadata": {},
   "outputs": [],
   "source": []
  },
  {
   "cell_type": "markdown",
   "metadata": {},
   "source": [
    "**Regular expressions(regex)** are a powerful formalism for pattern matching in strings. \n",
    "\n",
    "regex is a sequence of characters that specifies a search pattern in text.\n",
    "\n",
    "Regular expressions provide a declarative language to match patterns within strings.\n",
    "\n",
    "They are commonly used for string validation, parsing, and transformation. \n",
    "\n",
    "Regexes are everywhere. Different languages like Python, PHP and Java all use regexes, but with minor differences."
   ]
  },
  {
   "cell_type": "code",
   "execution_count": null,
   "metadata": {},
   "outputs": [],
   "source": []
  },
  {
   "cell_type": "markdown",
   "metadata": {},
   "source": [
    "Python has a built-in package called re, which can be used to work with Regular Expressions.\n",
    "\n",
    "Import the re module:"
   ]
  },
  {
   "cell_type": "code",
   "execution_count": 1,
   "metadata": {
    "ExecuteTime": {
     "end_time": "2022-08-17T06:59:54.295196Z",
     "start_time": "2022-08-17T06:59:54.286910Z"
    }
   },
   "outputs": [],
   "source": [
    "import re"
   ]
  },
  {
   "cell_type": "markdown",
   "metadata": {},
   "source": [
    "- When writing regular expression in Python, it is recommended that you use raw strings instead of regular Python strings. \n",
    "\n",
    "- **Raw strings begin with a special prefix (r)** and signal Python not to interpret backslashes and special metacharacters in the string, allowing you to pass them through directly to the regular expression engine.\n",
    "\n",
    "- This means that a pattern like \"\\n\\w\" will not be interpreted and can be written as r\"\\n\\w\" instead of \"\\\\n\\\\w\" as in other languages, which is much easier to read."
   ]
  },
  {
   "cell_type": "markdown",
   "metadata": {},
   "source": [
    "# RegEx Functions"
   ]
  },
  {
   "cell_type": "markdown",
   "metadata": {},
   "source": [
    "The re module offers a set of functions that allows us to search a string for a match:"
   ]
  },
  {
   "cell_type": "markdown",
   "metadata": {
    "ExecuteTime": {
     "end_time": "2022-08-17T07:02:45.994551Z",
     "start_time": "2022-08-17T07:02:45.991434Z"
    }
   },
   "source": [
    "| Function | Description | \n",
    "| --- | --- |\n",
    "| findall | Returns a list containing all matches |\n",
    "| search | Returns a Match object if there is a match anywhere in the string |\n",
    "| split | Returns a list where the string has been split at each match |\n",
    "| sub | Replaces one or many matches with a string |"
   ]
  },
  {
   "cell_type": "code",
   "execution_count": null,
   "metadata": {},
   "outputs": [],
   "source": []
  },
  {
   "cell_type": "markdown",
   "metadata": {},
   "source": [
    "## The findall() Function \n",
    "\n",
    "- The findall() function returns a list containing all matches.\n",
    "\n",
    "- The list contains the matches in the order they are found.\n",
    "\n",
    "- If no matches are found, an empty list is returned:\n",
    "\n",
    "> matchList = re.findall(pattern, input_str, flags=0)"
   ]
  },
  {
   "cell_type": "code",
   "execution_count": 4,
   "metadata": {
    "ExecuteTime": {
     "end_time": "2022-08-18T04:00:04.880143Z",
     "start_time": "2022-08-18T04:00:04.877184Z"
    },
    "scrolled": true
   },
   "outputs": [
    {
     "name": "stdout",
     "output_type": "stream",
     "text": [
      "['ai', 'ai']\n"
     ]
    }
   ],
   "source": [
    "import re\n",
    "\n",
    "txt = \"The rain in Spain\"\n",
    "x = re.findall(\"ai\", txt)\n",
    "print(x)"
   ]
  },
  {
   "cell_type": "code",
   "execution_count": 138,
   "metadata": {
    "ExecuteTime": {
     "end_time": "2022-08-18T09:57:26.119897Z",
     "start_time": "2022-08-18T09:57:26.116008Z"
    }
   },
   "outputs": [
    {
     "name": "stdout",
     "output_type": "stream",
     "text": [
      "['1', '0', '3', '9', '1', '9', '0']\n"
     ]
    }
   ],
   "source": [
    "txt = 'this cost 1039190'\n",
    "x = re.findall(r\"\\d\", txt)\n",
    "print(x)"
   ]
  },
  {
   "cell_type": "code",
   "execution_count": 7,
   "metadata": {
    "ExecuteTime": {
     "end_time": "2022-08-18T04:23:21.454450Z",
     "start_time": "2022-08-18T04:23:21.451932Z"
    }
   },
   "outputs": [
    {
     "name": "stdout",
     "output_type": "stream",
     "text": [
      "[]\n"
     ]
    }
   ],
   "source": [
    "#Return an empty list if no match was found.\n",
    "\n",
    "txt = \"The rain in Spain\"\n",
    "x = re.findall(\"Portugal\", txt)\n",
    "print(x)"
   ]
  },
  {
   "cell_type": "code",
   "execution_count": null,
   "metadata": {},
   "outputs": [],
   "source": []
  },
  {
   "cell_type": "markdown",
   "metadata": {},
   "source": [
    "## The search() Function\n",
    "\n",
    "- The search() function searches the string for a match, and returns a Match object if there is a match.\n",
    "\n",
    "- If there is more than one match, only the first occurrence of the match will be returned:\n",
    "- If no matches are found, the value None is returned:\n",
    ">matchObject = re.search(pattern, input_str, flags=0)"
   ]
  },
  {
   "cell_type": "code",
   "execution_count": 8,
   "metadata": {
    "ExecuteTime": {
     "end_time": "2022-08-18T04:24:00.847614Z",
     "start_time": "2022-08-18T04:24:00.844915Z"
    }
   },
   "outputs": [
    {
     "name": "stdout",
     "output_type": "stream",
     "text": [
      "The first white-space character is located in position: 3\n"
     ]
    }
   ],
   "source": [
    "txt = \"The rain in Spain\"\n",
    "x = re.search(\"\\s\", txt)\n",
    "\n",
    "print(\"The first white-space character is located in position:\", x.start())"
   ]
  },
  {
   "cell_type": "code",
   "execution_count": null,
   "metadata": {},
   "outputs": [],
   "source": []
  },
  {
   "cell_type": "code",
   "execution_count": 10,
   "metadata": {
    "ExecuteTime": {
     "end_time": "2022-08-18T04:24:41.565669Z",
     "start_time": "2022-08-18T04:24:41.563410Z"
    }
   },
   "outputs": [
    {
     "name": "stdout",
     "output_type": "stream",
     "text": [
      "None\n"
     ]
    }
   ],
   "source": [
    "txt = \"The rain in Spain\"\n",
    "x = re.search(\"Portugal\", txt)\n",
    "print(x)"
   ]
  },
  {
   "cell_type": "code",
   "execution_count": null,
   "metadata": {},
   "outputs": [],
   "source": []
  },
  {
   "cell_type": "markdown",
   "metadata": {},
   "source": [
    "### Re.match and re.search"
   ]
  },
  {
   "cell_type": "markdown",
   "metadata": {},
   "source": [
    "**re.match()** checks for a match only at the beginning of the string, while **re.search()** checks for a match anywhere in the string "
   ]
  },
  {
   "cell_type": "code",
   "execution_count": 68,
   "metadata": {
    "ExecuteTime": {
     "end_time": "2022-08-20T00:51:03.641226Z",
     "start_time": "2022-08-20T00:51:03.638996Z"
    }
   },
   "outputs": [],
   "source": [
    "m = re.match(\"c\", \"abcdef\")    # No match\n",
    "s = re.search(\"c\", \"abcdef\")   # Match"
   ]
  },
  {
   "cell_type": "code",
   "execution_count": 70,
   "metadata": {
    "ExecuteTime": {
     "end_time": "2022-08-20T00:51:26.428174Z",
     "start_time": "2022-08-20T00:51:26.425839Z"
    }
   },
   "outputs": [
    {
     "name": "stdout",
     "output_type": "stream",
     "text": [
      "None\n"
     ]
    }
   ],
   "source": [
    "print(m)"
   ]
  },
  {
   "cell_type": "markdown",
   "metadata": {},
   "source": [
    "Regular expressions beginning with '^' can be used with search() to restrict the match at the beginning of the string:"
   ]
  },
  {
   "cell_type": "code",
   "execution_count": 12,
   "metadata": {
    "ExecuteTime": {
     "end_time": "2022-08-19T23:39:40.561844Z",
     "start_time": "2022-08-19T23:39:40.557441Z"
    }
   },
   "outputs": [],
   "source": [
    "r = re.match(\"c\", \"abcdef\")    # No match\n",
    "s = re.search(\"^c\", \"abcdef\")  # No match\n",
    "search = re.search(\"^a\", \"abcdef\")  # Match"
   ]
  },
  {
   "cell_type": "code",
   "execution_count": 17,
   "metadata": {
    "ExecuteTime": {
     "end_time": "2022-08-19T23:40:07.621071Z",
     "start_time": "2022-08-19T23:40:07.615360Z"
    }
   },
   "outputs": [
    {
     "data": {
      "text/plain": [
       "<re.Match object; span=(0, 1), match='a'>"
      ]
     },
     "execution_count": 17,
     "metadata": {},
     "output_type": "execute_result"
    }
   ],
   "source": [
    "search"
   ]
  },
  {
   "cell_type": "code",
   "execution_count": null,
   "metadata": {},
   "outputs": [],
   "source": []
  },
  {
   "cell_type": "markdown",
   "metadata": {},
   "source": [
    "However in MULTILINE mode, match() only matches at the beginning of the string, whereas using search() with a regular expression **beginning with '^' will match at the beginning of each line.**"
   ]
  },
  {
   "cell_type": "code",
   "execution_count": 18,
   "metadata": {
    "ExecuteTime": {
     "end_time": "2022-08-19T23:41:27.588497Z",
     "start_time": "2022-08-19T23:41:27.586011Z"
    }
   },
   "outputs": [],
   "source": [
    "r = re.match('X', 'A\\nB\\nX', re.MULTILINE)  # No match\n",
    "s = re.search('^X', 'A\\nB\\nX', re.MULTILINE)  # Match"
   ]
  },
  {
   "cell_type": "code",
   "execution_count": null,
   "metadata": {},
   "outputs": [],
   "source": []
  },
  {
   "cell_type": "markdown",
   "metadata": {},
   "source": [
    "### Match Object\n",
    "- A Match Object is an object containing information about the search and the result.\n",
    "- If there is no match, the value None will be returned, instead of the Match Object."
   ]
  },
  {
   "cell_type": "code",
   "execution_count": 22,
   "metadata": {
    "ExecuteTime": {
     "end_time": "2022-08-19T23:47:32.563220Z",
     "start_time": "2022-08-19T23:47:32.560112Z"
    }
   },
   "outputs": [
    {
     "name": "stdout",
     "output_type": "stream",
     "text": [
      "<re.Match object; span=(5, 7), match='ai'>\n"
     ]
    }
   ],
   "source": [
    "txt = \"The rain in Yangon\"\n",
    "x = re.search(\"ai\", txt)\n",
    "print(x) #this will print an object"
   ]
  },
  {
   "cell_type": "code",
   "execution_count": null,
   "metadata": {},
   "outputs": [],
   "source": []
  },
  {
   "cell_type": "markdown",
   "metadata": {},
   "source": [
    "Match objects always have a boolean value of True. Since match() and search() return None when there is no match, you can test whether there was a match with a simple if statement:"
   ]
  },
  {
   "cell_type": "code",
   "execution_count": 24,
   "metadata": {
    "ExecuteTime": {
     "end_time": "2022-08-19T23:47:38.311854Z",
     "start_time": "2022-08-19T23:47:38.307396Z"
    }
   },
   "outputs": [
    {
     "name": "stdout",
     "output_type": "stream",
     "text": [
      "there is not a match\n"
     ]
    }
   ],
   "source": [
    "match = re.match(\"ai\", txt)\n",
    "if match:\n",
    "    print('there is a match')\n",
    "else:\n",
    "    print('there is not a match')"
   ]
  },
  {
   "cell_type": "code",
   "execution_count": null,
   "metadata": {},
   "outputs": [],
   "source": []
  },
  {
   "cell_type": "markdown",
   "metadata": {},
   "source": [
    "The Match object has properties and methods used to retrieve information about the search, and the result:\n",
    "\n",
    "- **.span()** returns a tuple containing the start-, and end positions of the match.\n",
    "- **.string** returns the string passed into the function\n",
    "- **.group()** returns the part of the string where there was a match"
   ]
  },
  {
   "cell_type": "code",
   "execution_count": null,
   "metadata": {},
   "outputs": [],
   "source": []
  },
  {
   "cell_type": "markdown",
   "metadata": {},
   "source": [
    "### span \n",
    "Print the position (start- and end-position) of the first match occurrence."
   ]
  },
  {
   "cell_type": "code",
   "execution_count": 43,
   "metadata": {
    "ExecuteTime": {
     "end_time": "2022-08-20T00:03:16.677386Z",
     "start_time": "2022-08-20T00:03:16.674879Z"
    }
   },
   "outputs": [
    {
     "name": "stdout",
     "output_type": "stream",
     "text": [
      "(12, 18)\n"
     ]
    }
   ],
   "source": [
    "txt = \"The rain in Yangon\"\n",
    "x = re.search(r\"Y\\w+\", txt)\n",
    "print(x.span())"
   ]
  },
  {
   "cell_type": "code",
   "execution_count": 32,
   "metadata": {
    "ExecuteTime": {
     "end_time": "2022-08-20T00:01:21.519565Z",
     "start_time": "2022-08-20T00:01:21.514644Z"
    }
   },
   "outputs": [
    {
     "name": "stdout",
     "output_type": "stream",
     "text": [
      "re.match examples\n",
      "(0, 5)\n",
      "None\n",
      "re.search examples\n",
      "(0, 5)\n",
      "(2, 7)\n"
     ]
    }
   ],
   "source": [
    "print(\"re.match examples\")\n",
    "print(re.match('super', 'superstition').span())\n",
    "print(re.match('super', 'insuperable'))\n",
    "\n",
    "print(\"re.search examples\")\n",
    "print(re.search('super', 'superstition').span())\n",
    "print(re.search('super', 'insuperable').span())"
   ]
  },
  {
   "cell_type": "code",
   "execution_count": null,
   "metadata": {},
   "outputs": [],
   "source": []
  },
  {
   "cell_type": "code",
   "execution_count": null,
   "metadata": {},
   "outputs": [],
   "source": []
  },
  {
   "cell_type": "markdown",
   "metadata": {},
   "source": [
    "### string\n",
    "Print the string passed into the function."
   ]
  },
  {
   "cell_type": "code",
   "execution_count": 41,
   "metadata": {
    "ExecuteTime": {
     "end_time": "2022-08-20T00:03:00.485899Z",
     "start_time": "2022-08-20T00:03:00.481261Z"
    }
   },
   "outputs": [
    {
     "name": "stdout",
     "output_type": "stream",
     "text": [
      "The rain in Yangon.\n"
     ]
    }
   ],
   "source": [
    "txt = \"The rain in Yangon.\"\n",
    "x = re.search(r\"Y\\w+\", txt)\n",
    "print(x.string)"
   ]
  },
  {
   "cell_type": "markdown",
   "metadata": {},
   "source": [
    "### group\n",
    "\n",
    "Print the part of the string where there was a match."
   ]
  },
  {
   "cell_type": "code",
   "execution_count": 40,
   "metadata": {
    "ExecuteTime": {
     "end_time": "2022-08-20T00:02:44.449903Z",
     "start_time": "2022-08-20T00:02:44.446966Z"
    }
   },
   "outputs": [
    {
     "name": "stdout",
     "output_type": "stream",
     "text": [
      "Spain\n"
     ]
    }
   ],
   "source": [
    "txt = \"The rain in Spain\"\n",
    "x = re.search(r\"S\\w+\", txt)\n",
    "print(x.group())"
   ]
  },
  {
   "cell_type": "code",
   "execution_count": 37,
   "metadata": {
    "ExecuteTime": {
     "end_time": "2022-08-20T00:02:18.439725Z",
     "start_time": "2022-08-20T00:02:18.436701Z"
    }
   },
   "outputs": [
    {
     "data": {
      "text/plain": [
       "'Spain'"
      ]
     },
     "execution_count": 37,
     "metadata": {},
     "output_type": "execute_result"
    }
   ],
   "source": [
    "x.group()"
   ]
  },
  {
   "cell_type": "code",
   "execution_count": 33,
   "metadata": {
    "ExecuteTime": {
     "end_time": "2022-08-20T00:01:56.038438Z",
     "start_time": "2022-08-20T00:01:56.035504Z"
    }
   },
   "outputs": [
    {
     "name": "stdout",
     "output_type": "stream",
     "text": [
      "Isaac Newton\n",
      "Isaac\n",
      "Newton\n"
     ]
    }
   ],
   "source": [
    "m = re.match(r\"(\\w+) (\\w+)\", \"Isaac Newton, physicist doctor\")\n",
    "print(m[0])      # The entire match\n",
    "\n",
    "print(m[1])      # The first parenthesized subgroup.\n",
    "\n",
    "print(m[2])       # The second parenthesized subgroup."
   ]
  },
  {
   "cell_type": "code",
   "execution_count": 47,
   "metadata": {
    "ExecuteTime": {
     "end_time": "2022-08-20T00:12:36.325451Z",
     "start_time": "2022-08-20T00:12:36.318988Z"
    }
   },
   "outputs": [
    {
     "name": "stdout",
     "output_type": "stream",
     "text": [
      "username@elysian.com\n",
      "username\n",
      "elysian\n",
      "com\n",
      "('username', 'elysian', 'com')\n"
     ]
    }
   ],
   "source": [
    "match_object = re.match(r'(\\w+)@(\\w+)\\.(\\w+)', 'username@elysian.com')\n",
    "\n",
    " # for entire match\n",
    "print(match_object.group())\n",
    "# also print(match_object.group(0)) can be used\n",
    " \n",
    "# for the first parenthesized subgroup\n",
    "print(match_object.group(1))\n",
    " \n",
    "# for the second parenthesized subgroup\n",
    "print(match_object.group(2))\n",
    " \n",
    "# for the third parenthesized subgroup\n",
    "print(match_object.group(3))\n",
    " \n",
    "# for a tuple of all matched subgroups\n",
    "print(match_object.group(1, 2, 3))"
   ]
  },
  {
   "cell_type": "code",
   "execution_count": null,
   "metadata": {},
   "outputs": [],
   "source": []
  },
  {
   "cell_type": "code",
   "execution_count": null,
   "metadata": {},
   "outputs": [],
   "source": []
  },
  {
   "cell_type": "markdown",
   "metadata": {},
   "source": [
    "## The split() Function"
   ]
  },
  {
   "cell_type": "markdown",
   "metadata": {},
   "source": [
    "- The split() function returns a list where the string has been split at each match:\n",
    "- You can control the number of occurrences by specifying the maxsplit parameter\n",
    ">re.split(pattern, string, maxsplit=0, flags=0)"
   ]
  },
  {
   "cell_type": "code",
   "execution_count": 11,
   "metadata": {
    "ExecuteTime": {
     "end_time": "2022-08-18T04:29:02.064238Z",
     "start_time": "2022-08-18T04:29:02.059204Z"
    }
   },
   "outputs": [
    {
     "name": "stdout",
     "output_type": "stream",
     "text": [
      "['The', 'rain', 'in', 'Spain']\n"
     ]
    }
   ],
   "source": [
    "#Split at each white-space character:\n",
    "\n",
    "txt = \"The rain in Spain\"\n",
    "x = re.split(\"\\s\", txt)\n",
    "print(x)"
   ]
  },
  {
   "cell_type": "code",
   "execution_count": 12,
   "metadata": {
    "ExecuteTime": {
     "end_time": "2022-08-18T04:29:37.272824Z",
     "start_time": "2022-08-18T04:29:37.269254Z"
    }
   },
   "outputs": [
    {
     "name": "stdout",
     "output_type": "stream",
     "text": [
      "['The', 'rain in Spain']\n"
     ]
    }
   ],
   "source": [
    "#Split the string only at the first occurrence\n",
    "txt = \"The rain in Spain\"\n",
    "x = re.split(\"\\s\", txt, 1)\n",
    "print(x)"
   ]
  },
  {
   "cell_type": "code",
   "execution_count": 45,
   "metadata": {
    "ExecuteTime": {
     "end_time": "2022-08-20T00:10:35.227531Z",
     "start_time": "2022-08-20T00:10:35.222327Z"
    }
   },
   "outputs": [
    {
     "data": {
      "text/plain": [
       "['0', '3', '9']"
      ]
     },
     "execution_count": 45,
     "metadata": {},
     "output_type": "execute_result"
    }
   ],
   "source": [
    "split_text = re.split('[a-f]+', '0a3B9', flags=re.IGNORECASE)\n",
    "split_text"
   ]
  },
  {
   "cell_type": "code",
   "execution_count": 46,
   "metadata": {
    "ExecuteTime": {
     "end_time": "2022-08-20T00:10:53.613232Z",
     "start_time": "2022-08-20T00:10:53.608181Z"
    }
   },
   "outputs": [
    {
     "data": {
      "text/plain": [
       "['0', '3B9']"
      ]
     },
     "execution_count": 46,
     "metadata": {},
     "output_type": "execute_result"
    }
   ],
   "source": [
    "split_text = re.split('[a-f]+', '0a3B9')\n",
    "split_text"
   ]
  },
  {
   "cell_type": "markdown",
   "metadata": {},
   "source": [
    "## The sub() Function\n",
    "- The sub() function replaces the matches with the text of your choice\n",
    "- You can control the number of replacements by specifying the count parameter\n",
    ">replacedString = re.sub(pattern, replacement_pattern, input_str, count, flags=0)"
   ]
  },
  {
   "cell_type": "code",
   "execution_count": 13,
   "metadata": {
    "ExecuteTime": {
     "end_time": "2022-08-18T04:30:56.974605Z",
     "start_time": "2022-08-18T04:30:56.969940Z"
    }
   },
   "outputs": [
    {
     "name": "stdout",
     "output_type": "stream",
     "text": [
      "The9rain9in9Spain\n"
     ]
    }
   ],
   "source": [
    "txt = \"The rain in Spain\"\n",
    "x = re.sub(\"\\s\", \"9\", txt)\n",
    "print(x)"
   ]
  },
  {
   "cell_type": "code",
   "execution_count": 14,
   "metadata": {
    "ExecuteTime": {
     "end_time": "2022-08-18T04:31:10.917979Z",
     "start_time": "2022-08-18T04:31:10.914085Z"
    }
   },
   "outputs": [
    {
     "name": "stdout",
     "output_type": "stream",
     "text": [
      "The9rain9in Spain\n"
     ]
    }
   ],
   "source": [
    "#Replace the first 2 occurrences:\n",
    "txt = \"The rain in Spain\"\n",
    "x = re.sub(\"\\s\", \"9\", txt, 2)\n",
    "print(x)"
   ]
  },
  {
   "cell_type": "code",
   "execution_count": null,
   "metadata": {},
   "outputs": [],
   "source": []
  },
  {
   "cell_type": "markdown",
   "metadata": {},
   "source": [
    "**Note re Flags**\n",
    "\n",
    "- re.IGNORECASE makes the pattern case insensitive so that it matches strings of different capitalizations\n",
    "\n",
    "- re.MULTILINE is necessary if your input string has newline characters (\\n), this flag allows the start and end metacharacter (^ and \\$ respectively) to match at the beginning and end of each line instead of at the beginning and end of the whole input string"
   ]
  },
  {
   "cell_type": "code",
   "execution_count": null,
   "metadata": {},
   "outputs": [],
   "source": []
  },
  {
   "cell_type": "markdown",
   "metadata": {},
   "source": [
    "# Metacharacters\n",
    "\n",
    "Metacharacters are characters with a special meaning:"
   ]
  },
  {
   "cell_type": "markdown",
   "metadata": {
    "ExecuteTime": {
     "end_time": "2022-08-18T03:40:19.635755Z",
     "start_time": "2022-08-18T03:40:19.630265Z"
    }
   },
   "source": [
    "| Character | Description | \n",
    "| --- | --- |\n",
    "| []| A set of characters |\n",
    "| \\ | Signals a special sequence (can also be used to escape special characters) |\n",
    "| . | Any character (except newline character) |\n",
    "| ^ | Starts with|\n",
    "| $ | Ends with |\n",
    "| * | Zero or more occurrences|\n",
    "| + | One or more occurrences |\n",
    "| ? | Zero or one occurrences |\n",
    "| {} | Exactly the specified number of occurrences |\n",
    "| | | Either or |\n",
    "| () | Capture and group |"
   ]
  },
  {
   "cell_type": "code",
   "execution_count": 40,
   "metadata": {
    "ExecuteTime": {
     "end_time": "2022-08-18T05:22:23.466699Z",
     "start_time": "2022-08-18T05:22:23.460372Z"
    }
   },
   "outputs": [
    {
     "name": "stdout",
     "output_type": "stream",
     "text": [
      "['e', 'a', 'a', 'g']\n"
     ]
    }
   ],
   "source": [
    "# []\n",
    "\n",
    "txt = \"The rain in Yangon\"\n",
    "#Find all lower case characters alphabetically between \"a\" and \"m\":\n",
    "x = re.findall(\"[a-g]\", txt)\n",
    "print(x)"
   ]
  },
  {
   "cell_type": "code",
   "execution_count": 42,
   "metadata": {
    "ExecuteTime": {
     "end_time": "2022-08-18T05:29:09.499854Z",
     "start_time": "2022-08-18T05:29:09.496617Z"
    }
   },
   "outputs": [
    {
     "name": "stdout",
     "output_type": "stream",
     "text": [
      "['9', '9', '9']\n"
     ]
    }
   ],
   "source": [
    "# \\\n",
    "txt = \"It will cost 999 dollars\"\n",
    "\n",
    "#Find all digit characters:\n",
    "x = re.findall(\"\\d\", txt)\n",
    "print(x)"
   ]
  },
  {
   "cell_type": "code",
   "execution_count": 46,
   "metadata": {
    "ExecuteTime": {
     "end_time": "2022-08-18T05:30:29.142469Z",
     "start_time": "2022-08-18T05:30:29.138499Z"
    }
   },
   "outputs": [
    {
     "name": "stdout",
     "output_type": "stream",
     "text": [
      "['hello']\n"
     ]
    }
   ],
   "source": [
    "# .\n",
    "txt = \"hello planet hell\"\n",
    "\n",
    "#Search for a sequence that starts with \"he\", followed by two (any) characters, and an \"o\":\n",
    "x = re.findall(\"he...\", txt)\n",
    "print(x)"
   ]
  },
  {
   "cell_type": "code",
   "execution_count": 48,
   "metadata": {
    "ExecuteTime": {
     "end_time": "2022-08-18T05:32:10.299519Z",
     "start_time": "2022-08-18T05:32:10.296831Z"
    }
   },
   "outputs": [
    {
     "name": "stdout",
     "output_type": "stream",
     "text": [
      "Yes, the string starts with 'hello'\n"
     ]
    }
   ],
   "source": [
    "# ^\n",
    "txt = \"hello planet earth\"\n",
    "\n",
    "#Check if the string starts with 'hello':\n",
    "\n",
    "x = re.findall(\"^hello\", txt)\n",
    "if x:\n",
    "    print(\"Yes, the string starts with 'hello'\")\n",
    "else:\n",
    "    print(\"No match\")"
   ]
  },
  {
   "cell_type": "code",
   "execution_count": 52,
   "metadata": {
    "ExecuteTime": {
     "end_time": "2022-08-18T05:32:39.279666Z",
     "start_time": "2022-08-18T05:32:39.276464Z"
    }
   },
   "outputs": [
    {
     "name": "stdout",
     "output_type": "stream",
     "text": [
      "Yes, the string ends with 'earth'\n"
     ]
    }
   ],
   "source": [
    "# $\n",
    "txt = \"hello planet earth\"\n",
    "\n",
    "#Check if the string ends with 'planet':\n",
    "\n",
    "x = re.findall(\"earth$\", txt)\n",
    "if x:\n",
    "    print(\"Yes, the string ends with 'earth'\")\n",
    "else:\n",
    "    print(\"No match\")"
   ]
  },
  {
   "cell_type": "code",
   "execution_count": 54,
   "metadata": {
    "ExecuteTime": {
     "end_time": "2022-08-18T05:33:49.256255Z",
     "start_time": "2022-08-18T05:33:49.253524Z"
    }
   },
   "outputs": [
    {
     "name": "stdout",
     "output_type": "stream",
     "text": [
      "['hello']\n"
     ]
    }
   ],
   "source": [
    "# *\n",
    "txt = \"hello planet mars\"\n",
    "\n",
    "#Search for a sequence that starts with \"he\", followed by 0 or more  (any) characters, and an \"o\":\n",
    "x = re.findall(\"he.*o\", txt)\n",
    "\n",
    "print(x)"
   ]
  },
  {
   "cell_type": "code",
   "execution_count": 55,
   "metadata": {
    "ExecuteTime": {
     "end_time": "2022-08-18T06:42:22.123654Z",
     "start_time": "2022-08-18T06:42:22.121038Z"
    }
   },
   "outputs": [
    {
     "name": "stdout",
     "output_type": "stream",
     "text": [
      "['hello']\n"
     ]
    }
   ],
   "source": [
    "# +\n",
    "txt = \"hello planet\"\n",
    "\n",
    "#Search for a sequence that starts with \"he\", followed by 1 or more  (any) characters, and an \"o\":\n",
    "\n",
    "x = re.findall(\"he.+o\", txt)\n",
    "\n",
    "print(x)\n"
   ]
  },
  {
   "cell_type": "code",
   "execution_count": 56,
   "metadata": {
    "ExecuteTime": {
     "end_time": "2022-08-18T06:42:42.370201Z",
     "start_time": "2022-08-18T06:42:42.367713Z"
    }
   },
   "outputs": [
    {
     "name": "stdout",
     "output_type": "stream",
     "text": [
      "[]\n"
     ]
    }
   ],
   "source": [
    "# ?\n",
    "txt = \"hello planet\"\n",
    "\n",
    "#Search for a sequence that starts with \"he\", followed by 0 or 1  (any) character, and an \"o\":\n",
    "\n",
    "x = re.findall(\"he.?o\", txt)\n",
    "\n",
    "print(x)\n",
    "\n",
    "#This time we got no match, because there were not zero, not one, but two characters between \"he\" and the \"o\""
   ]
  },
  {
   "cell_type": "code",
   "execution_count": 3,
   "metadata": {
    "ExecuteTime": {
     "end_time": "2022-08-19T11:25:36.484096Z",
     "start_time": "2022-08-19T11:25:36.479515Z"
    }
   },
   "outputs": [
    {
     "name": "stdout",
     "output_type": "stream",
     "text": [
      "['earth']\n"
     ]
    }
   ],
   "source": [
    "# {}\n",
    "txt = \"hello planet earth\"\n",
    "\n",
    "#Search for a sequence that starts with \"he\", followed excactly 2 (any) characters, and an \"o\":\n",
    "\n",
    "x = re.findall(\"ea.{2}h\", txt)\n",
    "\n",
    "print(x)"
   ]
  },
  {
   "cell_type": "code",
   "execution_count": 62,
   "metadata": {
    "ExecuteTime": {
     "end_time": "2022-08-18T06:44:42.068829Z",
     "start_time": "2022-08-18T06:44:42.063443Z"
    }
   },
   "outputs": [
    {
     "name": "stdout",
     "output_type": "stream",
     "text": [
      "['falls']\n",
      "Yes, there is at least one match!\n"
     ]
    }
   ],
   "source": [
    "# |\n",
    "txt = \"The rain falls heavily today at Yangon.\"\n",
    "\n",
    "#Check if the string contains either \"falls\" or \"stays\":\n",
    "\n",
    "x = re.findall(\"falls|stays\", txt)\n",
    "\n",
    "print(x)\n",
    "\n",
    "if x:\n",
    "    print(\"Yes, there is at least one match!\")\n",
    "else:\n",
    "    print(\"No match\")"
   ]
  },
  {
   "cell_type": "code",
   "execution_count": null,
   "metadata": {},
   "outputs": [],
   "source": []
  },
  {
   "cell_type": "markdown",
   "metadata": {},
   "source": [
    "# Sets"
   ]
  },
  {
   "cell_type": "markdown",
   "metadata": {},
   "source": [
    "| Set | Description | \n",
    "| --- | --- |\n",
    "| [arn] | Returns a match where one of the specified characters (a, r, or n) is present |\n",
    "| [a-n] | Returns a match for any lower case character, alphabetically between a and n |\n",
    "| [^arn] | Returns a match for any character EXCEPT a, r, and n |\n",
    "| [0123] | Returns a match where any of the specified digits (0, 1, 2, or 3) are present |\n",
    "| [0-9] | Returns a match for any digit between 0 and 9 |\n",
    "| [0-5][0-9] | Returns a match for any two-digit numbers from 00 and 59 |\n",
    "| [a-zA-Z] | Returns a match for any character alphabetically between a and z, lower case OR upper case |\n",
    "| [+] | In sets, +, *, ., |, (), $,{} has no special meaning, so [+] means: return a match for any + character in the string |\n"
   ]
  },
  {
   "cell_type": "code",
   "execution_count": 75,
   "metadata": {
    "ExecuteTime": {
     "end_time": "2022-08-20T00:57:51.336973Z",
     "start_time": "2022-08-20T00:57:51.328828Z"
    }
   },
   "outputs": [
    {
     "name": "stdout",
     "output_type": "stream",
     "text": [
      "['r', 'a', 'r', 'a', 'a']\n",
      "---------------------------\n",
      "['h', 'e', 'e', 'i', 'a', 'l', 'f', 'a', 'f', 'f', 'i', 'c', 'd', 'a']\n",
      "---------------------------\n",
      "['T', 'h', 'e', 'e', ' ', 'i', 's', ' ', ' ', 'l', 'o', 't', ' ', 'o', 'f', ' ', 't', 'f', 'f', 'i', 'c', ' ', 't', 'o', 'd', 'y']\n",
      "---------------------------\n"
     ]
    }
   ],
   "source": [
    "txt = \"There is a lot of traffic today\"\n",
    "\n",
    "#Check if the string has any a, r, or n characters:\n",
    "\n",
    "x = re.findall(\"[arn]\", txt)\n",
    "print(x)\n",
    "print('---------------------------')\n",
    "y = re.findall(\"[a-n]\", txt)\n",
    "print(y)\n",
    "print('---------------------------')\n",
    "z = re.findall(\"[^arn]\", txt)\n",
    "print(z)"
   ]
  },
  {
   "cell_type": "code",
   "execution_count": 76,
   "metadata": {
    "ExecuteTime": {
     "end_time": "2022-08-20T00:58:02.192269Z",
     "start_time": "2022-08-20T00:58:02.189395Z"
    }
   },
   "outputs": [
    {
     "name": "stdout",
     "output_type": "stream",
     "text": [
      "['0']\n",
      "['9', '0']\n"
     ]
    }
   ],
   "source": [
    "txt = \"This coat's price is too high 90$.\"\n",
    "\n",
    "d = re.findall(\"[0123]\", txt)\n",
    "print(d)\n",
    "d = re.findall(\"[0-9]\", txt)\n",
    "print(d)"
   ]
  },
  {
   "cell_type": "code",
   "execution_count": 79,
   "metadata": {
    "ExecuteTime": {
     "end_time": "2022-08-20T00:59:17.294698Z",
     "start_time": "2022-08-20T00:59:17.292402Z"
    }
   },
   "outputs": [
    {
     "name": "stdout",
     "output_type": "stream",
     "text": [
      "['45']\n"
     ]
    }
   ],
   "source": [
    "txt = \"I wake up today at 7:45 AM\"\n",
    "\n",
    "#Check if the string has any two-digit numbers, from 00 to 59:\n",
    "x = re.findall(\"[0-5][0-9]\", txt)\n",
    "print(x)"
   ]
  },
  {
   "cell_type": "code",
   "execution_count": 80,
   "metadata": {
    "ExecuteTime": {
     "end_time": "2022-08-18T06:59:19.354417Z",
     "start_time": "2022-08-18T06:59:19.350444Z"
    }
   },
   "outputs": [
    {
     "name": "stdout",
     "output_type": "stream",
     "text": [
      "['I', 'w', 'a', 'k', 'e', 'u', 'p', 't', 'o', 'd', 'a', 'y', 'a', 't', 'A', 'M']\n"
     ]
    }
   ],
   "source": [
    "txt = \"I wake up today at 7:45 AM\"\n",
    "\n",
    "#Check if the string has any characters from a to z lower case, and A to Z upper case:\n",
    "x = re.findall(\"[a-zA-Z]\", txt)\n",
    "print(x)"
   ]
  },
  {
   "cell_type": "code",
   "execution_count": 88,
   "metadata": {
    "ExecuteTime": {
     "end_time": "2022-08-18T07:05:40.431251Z",
     "start_time": "2022-08-18T07:05:40.427851Z"
    }
   },
   "outputs": [
    {
     "name": "stdout",
     "output_type": "stream",
     "text": [
      "[]\n"
     ]
    }
   ],
   "source": [
    "txt = \"I wake up today at 7:45 AM\"\n",
    "\n",
    "#Check if the string has any + characters:\n",
    "\n",
    "x = re.findall(\"[+]\", txt)\n",
    "print(x)"
   ]
  },
  {
   "cell_type": "markdown",
   "metadata": {},
   "source": [
    "# Special Sequences"
   ]
  },
  {
   "cell_type": "markdown",
   "metadata": {
    "ExecuteTime": {
     "end_time": "2022-08-18T03:42:28.782171Z",
     "start_time": "2022-08-18T03:42:28.778470Z"
    }
   },
   "source": [
    "| Character | Description | Example | \n",
    "| --- | --- | --- |\n",
    "| \\A | Returns a match if the specified characters are at the beginning of the string | \"\\AThe\" |\n",
    "| \\b | Returns a match where the specified characters are at the beginning or at the end of a word | r\"\\bain\" r\"ain\\b\" |\n",
    "| \\B | Returns a match where the specified characters are present, but NOT at the beginning (or at the end) of a word  | r\"\\Bain\" r\"ain\\B\" |\n",
    "| \\d | Returns a match where the string contains digits (numbers from 0-9) | \"\\d\" |\n",
    "| \\D | Returns a match where the string DOES NOT contain digits | \"\\D\" |\n",
    "| \\s | Returns a match where the string contains a white space character | \"\\s\" |\n",
    "| \\S | Returns a match where the string DOES NOT contain a white space character | \"\\S\" |\n",
    "| \\w | Returns a match where the string contains any word characters (characters from a to Z, digits from 0-9, and the underscore _ character) | \"\\w\" |\n",
    "| \\W | Returns a match where the string DOES NOT contain any word characters | \"\\W\" |\n",
    "| \\Z | Returns a match if the specified characters are at the end of the string | \"Spain\\Z\" |\n"
   ]
  },
  {
   "cell_type": "markdown",
   "metadata": {},
   "source": [
    "- \\d : Matches any decimal digit; this is equivalent to the class [0-9].\n",
    "- \\D : Matches any non-digit character; this is equivalent to the class [^0-9].\n",
    "- \\s : Matches any whitespace character; this is equivalent to the class [ \\t\\n\\r\\f\\v].\n",
    "- \\S : Matches any non-whitespace character; this is equivalent to the class [^ \\t\\n\\r\\f\\v]\n",
    "- \\w : Matches any alphanumeric character; this is equivalent to the class [a-zA-Z0-9_]\n",
    "- \\W : Matches any non-alphanumeric character; this is equivalent to the class [^a-zA-Z0-9_]."
   ]
  },
  {
   "cell_type": "code",
   "execution_count": null,
   "metadata": {},
   "outputs": [],
   "source": []
  },
  {
   "cell_type": "markdown",
   "metadata": {},
   "source": [
    "## Difference between ^ and \\A, $ and \\Z\n",
    "\n",
    "\n",
    "They are different when it comes to matching string with multiple lines.\n",
    "\n",
    "^ can match at the start of the string and after each line break. \\A only ever matches at the start of the string\n",
    "\n",
    "$ can match at the end of the string and before each line break. \\Z only ever matches at the end of the string."
   ]
  },
  {
   "cell_type": "code",
   "execution_count": 103,
   "metadata": {
    "ExecuteTime": {
     "end_time": "2022-08-18T07:19:59.823650Z",
     "start_time": "2022-08-18T07:19:59.820354Z"
    }
   },
   "outputs": [
    {
     "name": "stdout",
     "output_type": "stream",
     "text": [
      "['It']\n",
      "['It', 'It']\n",
      "No multiline\n",
      "['It']\n",
      "['It']\n"
     ]
    }
   ],
   "source": [
    "txt = \"It is raining heavily in Yangon.\\nIt is not raining at all in Mandalay.\"\n",
    "\n",
    "#Check if the string starts with \"It\":\n",
    "#Multiline mode\n",
    "x = re.findall(\"\\AIt\", txt, re.MULTILINE)\n",
    "print(x)\n",
    "y = re.findall(\"^It\", txt, re.MULTILINE)\n",
    "print(y)\n",
    "\n",
    "#no Multiline mode\n",
    "print('No multiline')\n",
    "x = re.findall(\"\\AIt\", txt)\n",
    "print(x)\n",
    "y = re.findall(\"^It\", txt)\n",
    "print(y)"
   ]
  },
  {
   "cell_type": "code",
   "execution_count": 108,
   "metadata": {
    "ExecuteTime": {
     "end_time": "2022-08-18T07:22:43.539377Z",
     "start_time": "2022-08-18T07:22:43.535899Z"
    }
   },
   "outputs": [
    {
     "name": "stdout",
     "output_type": "stream",
     "text": [
      "end string\n",
      "['student.']\n",
      "['student.', 'student.']\n"
     ]
    }
   ],
   "source": [
    "#Multiline mode\n",
    "txt = \"He is a student.\\n She is also a student.\"\n",
    "print('end string')\n",
    "x = re.findall(\"student.\\Z\", txt, re.MULTILINE)\n",
    "print(x)\n",
    "y = re.findall(\"student.$\", txt, re.MULTILINE)\n",
    "print(y)"
   ]
  },
  {
   "cell_type": "code",
   "execution_count": null,
   "metadata": {},
   "outputs": [],
   "source": []
  },
  {
   "cell_type": "markdown",
   "metadata": {},
   "source": [
    "## \\b and \\B"
   ]
  },
  {
   "cell_type": "markdown",
   "metadata": {
    "ExecuteTime": {
     "end_time": "2022-08-20T00:39:17.529047Z",
     "start_time": "2022-08-20T00:39:17.526418Z"
    }
   },
   "source": [
    "'\\b' finds/matches the pattern at the beginning or end of each word.\n",
    "\n",
    "'\\B' does not find/match the pattern at the beginning or end of each word."
   ]
  },
  {
   "cell_type": "code",
   "execution_count": 95,
   "metadata": {
    "ExecuteTime": {
     "end_time": "2022-08-20T01:24:12.841855Z",
     "start_time": "2022-08-20T01:24:12.839355Z"
    }
   },
   "outputs": [
    {
     "name": "stdout",
     "output_type": "stream",
     "text": [
      "[]\n",
      "['ain', 'ain']\n"
     ]
    }
   ],
   "source": [
    "txt = \"The rain in Spain\"\n",
    "\n",
    "#Check if \"ain\" is present at the beginning of a WORD:\n",
    "\n",
    "x = re.findall(r\"\\bain\", txt)\n",
    "print(x)\n",
    "x = re.findall(r\"ain\\b\", txt)\n",
    "print(x)"
   ]
  },
  {
   "cell_type": "code",
   "execution_count": 121,
   "metadata": {
    "ExecuteTime": {
     "end_time": "2022-08-18T07:59:55.977119Z",
     "start_time": "2022-08-18T07:59:55.968033Z"
    }
   },
   "outputs": [
    {
     "name": "stdout",
     "output_type": "stream",
     "text": [
      "['ain', 'ain']\n",
      "[]\n"
     ]
    }
   ],
   "source": [
    "x = re.findall(r\"\\Bain\", txt)\n",
    "print(x)\n",
    "x = re.findall(r\"ain\\B\", txt)\n",
    "print(x)"
   ]
  },
  {
   "cell_type": "code",
   "execution_count": null,
   "metadata": {},
   "outputs": [],
   "source": []
  },
  {
   "cell_type": "markdown",
   "metadata": {},
   "source": [
    "## Other Sequences"
   ]
  },
  {
   "cell_type": "code",
   "execution_count": 124,
   "metadata": {
    "ExecuteTime": {
     "end_time": "2022-08-18T08:01:00.748637Z",
     "start_time": "2022-08-18T08:01:00.744995Z"
    }
   },
   "outputs": [
    {
     "name": "stdout",
     "output_type": "stream",
     "text": [
      "['7', '4', '5']\n",
      "['I', ' ', 'w', 'a', 'k', 'e', ' ', 'u', 'p', ' ', 'a', 't', ' ', ':', ' ', 'A', 'M', ' ', 't', 'o', 'd', 'a', 'y', '.']\n"
     ]
    }
   ],
   "source": [
    "txt = \"I wake up at 7:45 AM today.\"\n",
    "\n",
    "#Check if the string contains any digits (numbers from 0-9):\n",
    "\n",
    "x = re.findall(\"\\d\", txt)\n",
    "print(x)\n",
    "x = re.findall(\"\\D\", txt)\n",
    "print(x)"
   ]
  },
  {
   "cell_type": "code",
   "execution_count": 126,
   "metadata": {
    "ExecuteTime": {
     "end_time": "2022-08-18T08:01:55.088344Z",
     "start_time": "2022-08-18T08:01:55.084237Z"
    }
   },
   "outputs": [
    {
     "name": "stdout",
     "output_type": "stream",
     "text": [
      "[' ', ' ', ' ', ' ', ' ', ' ']\n",
      "['I', 'w', 'a', 'k', 'e', 'u', 'p', 'a', 't', '7', ':', '4', '5', 'A', 'M', 't', 'o', 'd', 'a', 'y', '.']\n"
     ]
    }
   ],
   "source": [
    "txt = \"I wake up at 7:45 AM today.\"\n",
    "\n",
    "#Return a match at every white-space character:\n",
    "\n",
    "x = re.findall(\"\\s\", txt)\n",
    "print(x)\n",
    "x = re.findall(\"\\S\", txt)\n",
    "print(x)"
   ]
  },
  {
   "cell_type": "code",
   "execution_count": 128,
   "metadata": {
    "ExecuteTime": {
     "end_time": "2022-08-18T08:03:07.729810Z",
     "start_time": "2022-08-18T08:03:07.727159Z"
    }
   },
   "outputs": [
    {
     "name": "stdout",
     "output_type": "stream",
     "text": [
      "['I', 'w', 'a', 'k', 'e', 'u', 'p', 'a', 't', '7', '4', '5', 'A', 'M', 't', 'o', 'd', 'a', 'y']\n",
      "[' ', ' ', ' ', ' ', ':', ' ', ' ', '.']\n"
     ]
    }
   ],
   "source": [
    "txt = \"I wake up at 7:45 AM today.\"\n",
    "\n",
    "#Return a match at every word character (characters from a to Z, digits from 0-9, and the underscore _ character):\n",
    "\n",
    "x = re.findall(\"\\w\", txt)\n",
    "print(x)\n",
    "x = re.findall(\"\\W\", txt)\n",
    "print(x)"
   ]
  },
  {
   "cell_type": "code",
   "execution_count": null,
   "metadata": {},
   "outputs": [],
   "source": []
  },
  {
   "cell_type": "code",
   "execution_count": null,
   "metadata": {},
   "outputs": [],
   "source": []
  },
  {
   "cell_type": "markdown",
   "metadata": {},
   "source": [
    "# Re.compile"
   ]
  },
  {
   "cell_type": "markdown",
   "metadata": {},
   "source": [
    " We can combine a regular expression pattern into pattern objects, which can be used for pattern matching. It also helps to search a pattern again without rewriting it.\n",
    " \n",
    ">pattern = re.compile(pattern, flags=0)"
   ]
  },
  {
   "cell_type": "code",
   "execution_count": 134,
   "metadata": {
    "ExecuteTime": {
     "end_time": "2022-08-18T09:50:34.701709Z",
     "start_time": "2022-08-18T09:50:34.692319Z"
    }
   },
   "outputs": [
    {
     "name": "stdout",
     "output_type": "stream",
     "text": [
      "['sleep']\n",
      "['sleep']\n"
     ]
    }
   ],
   "source": [
    "import re\n",
    "pattern=re.compile(\"..eep\")\n",
    "text = \"I wanna sleep\"\n",
    "\n",
    "result=pattern.findall(text)\n",
    "print(result)\n",
    "result2= re.findall(\"..eep\",text)\n",
    "print(result2)"
   ]
  },
  {
   "cell_type": "code",
   "execution_count": null,
   "metadata": {},
   "outputs": [],
   "source": [
    "####  Group Name : \n",
    "\n",
    "#    - ?P<name>\n",
    "\n",
    "match = re.search('(?P<name>.*) (?P<phone>.*)', 'John 123456')\n",
    "print(match.group('name'))\n",
    "print(match.group('phone'))"
   ]
  },
  {
   "cell_type": "code",
   "execution_count": null,
   "metadata": {},
   "outputs": [],
   "source": []
  }
 ],
 "metadata": {
  "hide_input": false,
  "kernelspec": {
   "display_name": "Python 3 (ipykernel)",
   "language": "python",
   "name": "python3"
  },
  "language_info": {
   "codemirror_mode": {
    "name": "ipython",
    "version": 3
   },
   "file_extension": ".py",
   "mimetype": "text/x-python",
   "name": "python",
   "nbconvert_exporter": "python",
   "pygments_lexer": "ipython3",
   "version": "3.9.12"
  },
  "toc": {
   "base_numbering": 1,
   "nav_menu": {},
   "number_sections": true,
   "sideBar": true,
   "skip_h1_title": false,
   "title_cell": "Table of Contents",
   "title_sidebar": "Contents",
   "toc_cell": false,
   "toc_position": {
    "height": "calc(100% - 180px)",
    "left": "10px",
    "top": "150px",
    "width": "229px"
   },
   "toc_section_display": true,
   "toc_window_display": true
  },
  "varInspector": {
   "cols": {
    "lenName": 16,
    "lenType": 16,
    "lenVar": 40
   },
   "kernels_config": {
    "python": {
     "delete_cmd_postfix": "",
     "delete_cmd_prefix": "del ",
     "library": "var_list.py",
     "varRefreshCmd": "print(var_dic_list())"
    },
    "r": {
     "delete_cmd_postfix": ") ",
     "delete_cmd_prefix": "rm(",
     "library": "var_list.r",
     "varRefreshCmd": "cat(var_dic_list()) "
    }
   },
   "types_to_exclude": [
    "module",
    "function",
    "builtin_function_or_method",
    "instance",
    "_Feature"
   ],
   "window_display": false
  }
 },
 "nbformat": 4,
 "nbformat_minor": 2
}
