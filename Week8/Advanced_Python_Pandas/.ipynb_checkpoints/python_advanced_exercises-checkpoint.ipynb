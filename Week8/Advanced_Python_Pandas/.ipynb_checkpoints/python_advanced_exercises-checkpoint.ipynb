{
 "cells": [
  {
   "cell_type": "code",
   "execution_count": null,
   "metadata": {},
   "outputs": [],
   "source": []
  },
  {
   "cell_type": "code",
   "execution_count": 16,
   "metadata": {
    "ExecuteTime": {
     "end_time": "2022-08-20T15:55:24.222191Z",
     "start_time": "2022-08-20T15:55:24.217503Z"
    }
   },
   "outputs": [],
   "source": [
    "def make_bold(fn):\n",
    "    def wrapped():\n",
    "        return \"<b>\" + fn() + \"</b>\"\n",
    "    return wrapped\n",
    "\n",
    "def make_italic(fn):\n",
    "    def wrapped():\n",
    "        return \"<i>\" + fn() + \"</i>\"\n",
    "    return wrapped\n",
    "\n",
    "def make_underline(fn):\n",
    "    def wrapped():\n",
    "        return \"<u>\" + fn() + \"</u>\"\n",
    "    return wrapped\n",
    "@make_bold\n",
    "@make_italic\n",
    "@make_underline\n",
    "def hello():\n",
    "    return \"hello world\""
   ]
  },
  {
   "cell_type": "code",
   "execution_count": null,
   "metadata": {},
   "outputs": [],
   "source": []
  },
  {
   "cell_type": "code",
   "execution_count": 17,
   "metadata": {
    "ExecuteTime": {
     "end_time": "2022-08-20T15:55:27.593673Z",
     "start_time": "2022-08-20T15:55:27.580691Z"
    }
   },
   "outputs": [
    {
     "data": {
      "text/plain": [
       "'<b><i><u>hello world</u></i></b>'"
      ]
     },
     "execution_count": 17,
     "metadata": {},
     "output_type": "execute_result"
    }
   ],
   "source": [
    "hello()\n",
    "# expected output"
   ]
  },
  {
   "cell_type": "markdown",
   "metadata": {
    "ExecuteTime": {
     "end_time": "2022-08-20T15:20:47.093278Z",
     "start_time": "2022-08-20T15:20:47.091490Z"
    }
   },
   "source": [
    "# Using *args to create varialbe length sum function"
   ]
  },
  {
   "cell_type": "code",
   "execution_count": 8,
   "metadata": {
    "ExecuteTime": {
     "end_time": "2022-08-20T15:23:23.171470Z",
     "start_time": "2022-08-20T15:23:23.168354Z"
    }
   },
   "outputs": [
    {
     "name": "stdout",
     "output_type": "stream",
     "text": [
      "Sum: 8\n",
      "Sum: 22\n",
      "Sum: 46\n"
     ]
    }
   ],
   "source": [
    "sum_all(3,5)\n",
    "#expected output = Sum: 8 \n",
    "sum_all(4,5,6,7)\n",
    "#expected output = Sum: 22\n",
    "sum_all(20,2,13,5,6)\n",
    "#expected output = Sum: 46"
   ]
  },
  {
   "cell_type": "code",
   "execution_count": 4,
   "metadata": {
    "ExecuteTime": {
     "end_time": "2022-08-20T15:21:27.909275Z",
     "start_time": "2022-08-20T15:21:27.906127Z"
    }
   },
   "outputs": [],
   "source": [
    "#answer\n",
    "def sum_all(*num):\n",
    "    sum = 0\n",
    "    \n",
    "    for n in num:\n",
    "        sum = sum + n\n",
    "\n",
    "    print(\"Sum:\",sum)"
   ]
  },
  {
   "cell_type": "code",
   "execution_count": null,
   "metadata": {},
   "outputs": [],
   "source": []
  },
  {
   "cell_type": "markdown",
   "metadata": {},
   "source": [
    "# Using **kwargs to pass the variable keyword arguments"
   ]
  },
  {
   "cell_type": "code",
   "execution_count": null,
   "metadata": {},
   "outputs": [],
   "source": [
    "# information(Firstname=\"John\", Lastname=\"Wick\", Age=35, Phone=99999999)\n",
    "# Expected output \n",
    "# Data type of argument: <class 'dict'>\n",
    "# Firstname is John\n",
    "# Lastname is Wick\n",
    "# Age is 35\n",
    "# Phone is 99999999\n",
    "\n",
    "# information(Firstname=\"Elysian\", Lastname=\"Edu\", Email=\"elysian@nomail.com\", Country=\"Gotham\", Age=25, Phone=989810)\n",
    "# Expected output\n",
    "# Data type of argument: <class 'dict'>\n",
    "# Firstname is Elysian\n",
    "# Lastname is Edu\n",
    "# Email is elysian@nomail.com\n",
    "# Country is Gotham\n",
    "# Age is 25\n",
    "# Phone is 989810 "
   ]
  },
  {
   "cell_type": "code",
   "execution_count": null,
   "metadata": {},
   "outputs": [],
   "source": []
  },
  {
   "cell_type": "code",
   "execution_count": 12,
   "metadata": {
    "ExecuteTime": {
     "end_time": "2022-08-20T15:28:31.546661Z",
     "start_time": "2022-08-20T15:28:31.542818Z"
    }
   },
   "outputs": [],
   "source": [
    "#answer\n",
    "def information(**data):\n",
    "    print(\"\\nData type of argument:\",type(data))\n",
    "\n",
    "    for key, value in data.items():\n",
    "        print(\"{} is {}\".format(key,value))"
   ]
  },
  {
   "cell_type": "code",
   "execution_count": null,
   "metadata": {},
   "outputs": [],
   "source": []
  },
  {
   "cell_type": "code",
   "execution_count": null,
   "metadata": {},
   "outputs": [],
   "source": []
  },
  {
   "cell_type": "code",
   "execution_count": null,
   "metadata": {},
   "outputs": [],
   "source": []
  }
 ],
 "metadata": {
  "kernelspec": {
   "display_name": "utility_env",
   "language": "python",
   "name": "utility_env"
  },
  "language_info": {
   "codemirror_mode": {
    "name": "ipython",
    "version": 3
   },
   "file_extension": ".py",
   "mimetype": "text/x-python",
   "name": "python",
   "nbconvert_exporter": "python",
   "pygments_lexer": "ipython3",
   "version": "3.7.0"
  },
  "toc": {
   "base_numbering": 1,
   "nav_menu": {},
   "number_sections": true,
   "sideBar": true,
   "skip_h1_title": false,
   "title_cell": "Table of Contents",
   "title_sidebar": "Contents",
   "toc_cell": false,
   "toc_position": {},
   "toc_section_display": true,
   "toc_window_display": true
  },
  "varInspector": {
   "cols": {
    "lenName": 16,
    "lenType": 16,
    "lenVar": 40
   },
   "kernels_config": {
    "python": {
     "delete_cmd_postfix": "",
     "delete_cmd_prefix": "del ",
     "library": "var_list.py",
     "varRefreshCmd": "print(var_dic_list())"
    },
    "r": {
     "delete_cmd_postfix": ") ",
     "delete_cmd_prefix": "rm(",
     "library": "var_list.r",
     "varRefreshCmd": "cat(var_dic_list()) "
    }
   },
   "types_to_exclude": [
    "module",
    "function",
    "builtin_function_or_method",
    "instance",
    "_Feature"
   ],
   "window_display": false
  }
 },
 "nbformat": 4,
 "nbformat_minor": 5
}
